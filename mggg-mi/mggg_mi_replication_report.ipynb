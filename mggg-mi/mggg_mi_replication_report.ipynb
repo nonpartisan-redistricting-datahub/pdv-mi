{
 "cells": [
  {
   "cell_type": "markdown",
   "metadata": {},
   "source": [
    "**Import Python Packages**"
   ]
  },
  {
   "cell_type": "code",
   "execution_count": 1,
   "metadata": {},
   "outputs": [],
   "source": [
    "import numpy as np\n",
    "import pandas as pd\n",
    "import geopandas as gpd\n",
    "import pathlib\n",
    "import matplotlib.pyplot as plt\n",
    "import maup\n",
    "import requests"
   ]
  },
  {
   "cell_type": "markdown",
   "metadata": {},
   "source": [
    "## Demographic Data Processing"
   ]
  },
  {
   "cell_type": "markdown",
   "metadata": {},
   "source": [
    "The functions below retrieve block level data for a state using the state fips code from census API, then retrieves data from appropriate\n",
    "columns in GEOID, convert to .csv to easily manipulate individual state data"
   ]
  },
  {
   "cell_type": "code",
   "execution_count": 2,
   "metadata": {},
   "outputs": [],
   "source": [
    "#code chunk by Melisande Teng \n",
    "\n",
    "variables = [\n",
    "    # pop\n",
    "    \"P001001\",\n",
    "    \"P005003\",\n",
    "    \"P005004\",\n",
    "    \"P005005\",\n",
    "    \"P005006\",\n",
    "    \"P005007\",\n",
    "    \"P005008\",\n",
    "    \"P005009\",\n",
    "    \"P005010\",\n",
    "    \"P005011\",\n",
    "    \"P005012\",\n",
    "    \"P005013\",\n",
    "    \"P005014\",\n",
    "    \"P005015\",\n",
    "    \"P005016\",\n",
    "    \"P005017\",\n",
    "    # vap\n",
    "    \"P011001\",\n",
    "    \"P011002\",\n",
    "    \"P011005\",\n",
    "    \"P011006\",\n",
    "    \"P011007\",\n",
    "    \"P011008\",\n",
    "    \"P011009\",\n",
    "    \"P011010\",\n",
    "    \"P011011\",\n",
    "]\n",
    "\n",
    "keys = [\n",
    "    # pop\n",
    "    \"TOTPOP\",\n",
    "    \"NH_WHITE\",\n",
    "    \"NH_BLACK\",\n",
    "    \"NH_AMIN \",\n",
    "    \"NH_ASIAN\",\n",
    "    \"NH_NHPI \",\n",
    "    \"NH_OTHER\",\n",
    "    \"NH_2MORE\",\n",
    "    \"HISP\",\n",
    "    \"H_WHITE\",\n",
    "    \"H_BLACK\",\n",
    "    \"H_AMIN \",\n",
    "    \"H_ASIAN\",\n",
    "    \"H_NHPI \",\n",
    "    \"H_OTHER\",\n",
    "    \"H_2MORE\",\n",
    "    # vap\n",
    "    \"VAP\",\n",
    "    \"HVAP\",\n",
    "    \"WVAP\",\n",
    "    \"BVAP\",\n",
    "    \"AMINVAP\",\n",
    "    \"ASIANVAP\",\n",
    "    \"NHPIVAP\",\n",
    "    \"OTHERVAP\",\n",
    "    \"2MOREVAP\",\n",
    "]\n",
    "\n",
    "\n",
    "def counties(state_fips):\n",
    "    resp = requests.get(\n",
    "        \"https://api.census.gov/data/2010/dec/sf1\"\n",
    "        \"?get=NAME&for=county:*&in=state:{}\".format(state_fips)\n",
    "    )\n",
    "    header, *rows = resp.json()\n",
    "    county_column_index = header.index(\"county\")\n",
    "    county_fips_codes = set(row[county_column_index] for row in rows)\n",
    "    return county_fips_codes\n",
    "\n",
    "def block_data_for_county(state_fips, county_fips, variables=variables, keys=keys):\n",
    "    url = (\n",
    "        \"https://api.census.gov/data/2010/dec/sf1\"\n",
    "        + \"?get={},NAME&for=block:*\".format(\",\".join(variables))\n",
    "        + \"&in=state:{}&in=county:{}&in=tract:*\".format(state_fips, county_fips)\n",
    "    )\n",
    "    resp = requests.get(url)\n",
    "    header, *rows = resp.json()\n",
    "    variable_lookup = dict(zip(variables, keys))\n",
    "    columns = [variable_lookup.get(column_name, column_name) for column_name in header]\n",
    "    dtypes = {key: int for key in keys}\n",
    "    dtypes.update({key: str for key in [\"state\", \"county\", \"tract\", \"block\"]})\n",
    "    data = pd.DataFrame.from_records(rows, columns=columns).astype(dtypes)\n",
    "    data[\"geoid\"] = data[\"state\"] + data[\"county\"] + data[\"tract\"] + data[\"block\"]\n",
    "    return data\n",
    "\n",
    "\n",
    "def block_data_for_state(state_fips):\n",
    "    from tqdm.auto import tqdm\n",
    "    county_fips_codes = counties(state_fips)\n",
    "    return pd.concat(\n",
    "        [\n",
    "            block_data_for_county(state_fips, county_fips)\n",
    "            for county_fips in tqdm(county_fips_codes)\n",
    "        ]\n",
    "    )"
   ]
  },
  {
   "cell_type": "code",
   "execution_count": 3,
   "metadata": {},
   "outputs": [
    {
     "data": {
      "application/vnd.jupyter.widget-view+json": {
       "model_id": "be823d42865b4bb594833e8237da6f1f",
       "version_major": 2,
       "version_minor": 0
      },
      "text/plain": [
       "HBox(children=(FloatProgress(value=0.0, max=83.0), HTML(value='')))"
      ]
     },
     "metadata": {},
     "output_type": "display_data"
    },
    {
     "name": "stdout",
     "output_type": "stream",
     "text": [
      "\n"
     ]
    }
   ],
   "source": [
    "#Specify MI code to pull demographic data at block level\n",
    "demographic_block_data = block_data_for_state('26')\n",
    "#Now we have the block data by county "
   ]
  },
  {
   "cell_type": "markdown",
   "metadata": {},
   "source": [
    "**Read in shapefile**"
   ]
  },
  {
   "cell_type": "code",
   "execution_count": 4,
   "metadata": {},
   "outputs": [],
   "source": [
    "#Read Census block shapefiles\n",
    "#Source: (https://www.census.gov/cgi-bin/geo/shapefiles/index.php?year=2010&layergroup=Blocks)\n",
    "blocks_2010_shp = gpd.read_file(\"tl_2010_26_tabblock10/tl_2010_26_tabblock10.shp\")"
   ]
  },
  {
   "cell_type": "code",
   "execution_count": 5,
   "metadata": {},
   "outputs": [],
   "source": [
    "#Given that the demographic df and demographic gdf have the same number of rows, want \n",
    "#to check to see if geoids overlap\n",
    "d_df = demographic_block_data\n",
    "d_gdf = blocks_2010_shp\n",
    "gdf_set = set(d_gdf.GEOID10.str.lower().unique())\n",
    "df_set = set(d_df.geoid.str.lower().unique())\n",
    "difference = df_set.symmetric_difference(gdf_set)\n",
    "intersection = gdf_set.intersection(df_set)"
   ]
  },
  {
   "cell_type": "code",
   "execution_count": 6,
   "metadata": {},
   "outputs": [
    {
     "data": {
      "text/plain": [
       "329885"
      ]
     },
     "execution_count": 6,
     "metadata": {},
     "output_type": "execute_result"
    }
   ],
   "source": [
    "len(d_df)"
   ]
  },
  {
   "cell_type": "code",
   "execution_count": 7,
   "metadata": {},
   "outputs": [
    {
     "data": {
      "text/plain": [
       "329885"
      ]
     },
     "execution_count": 7,
     "metadata": {},
     "output_type": "execute_result"
    }
   ],
   "source": [
    "len(df_set.intersection(gdf_set))\n",
    "#So, the length of the set is the same as the number of geoids\n",
    "#indicates they all match, so should be good to join"
   ]
  },
  {
   "cell_type": "markdown",
   "metadata": {},
   "source": [
    "**Join data with shape (block level demographic data with block level shapefile)**"
   ]
  },
  {
   "cell_type": "code",
   "execution_count": 8,
   "metadata": {},
   "outputs": [],
   "source": [
    "demographic_block = d_gdf.merge(d_df, how = 'inner', left_on = 'GEOID10', right_on = 'geoid', indicator = True)"
   ]
  },
  {
   "cell_type": "code",
   "execution_count": 9,
   "metadata": {},
   "outputs": [
    {
     "name": "stdout",
     "output_type": "stream",
     "text": [
      "329885\n",
      "329885\n",
      "9883640\n",
      "9883640\n"
     ]
    }
   ],
   "source": [
    "print(len(demographic_block.GEOID10))\n",
    "print(len(d_gdf.GEOID10))\n",
    "print(demographic_block.TOTPOP.sum())\n",
    "print(d_df.TOTPOP.sum())"
   ]
  },
  {
   "cell_type": "code",
   "execution_count": 10,
   "metadata": {},
   "outputs": [
    {
     "data": {
      "text/plain": [
       "<matplotlib.axes._subplots.AxesSubplot at 0x15b49a8e0>"
      ]
     },
     "execution_count": 10,
     "metadata": {},
     "output_type": "execute_result"
    },
    {
     "data": {
      "image/png": "[encoded data removed]",
      "text/plain": [
       "<Figure size 432x288 with 1 Axes>"
      ]
     },
     "metadata": {
      "needs_background": "light"
     },
     "output_type": "display_data"
    }
   ],
   "source": [
    "demographic_block.plot()"
   ]
  },
  {
   "cell_type": "markdown",
   "metadata": {},
   "source": [
    "**Prorate demographic and Voting Population data from census block level to precinct level**\n",
    "< \"Prorate\" "
   ]
  },
  {
   "cell_type": "code",
   "execution_count": 11,
   "metadata": {},
   "outputs": [],
   "source": [
    "#2016 PRECINCTS\n",
    "precincts = gpd.read_file(\"2016_Voting_Precincts-shp/2016_Voting_Precincts.shp\")"
   ]
  },
  {
   "cell_type": "code",
   "execution_count": 12,
   "metadata": {},
   "outputs": [],
   "source": [
    "#Final MGGG Shapefile\n",
    "mggg_final_shp = gpd.read_file(\"./MI_precincts/MI_precincts.shp\")"
   ]
  },
  {
   "cell_type": "markdown",
   "metadata": {},
   "source": [
    "**Demographic and Voting Pop Data from Block Level to Precinct Level**"
   ]
  },
  {
   "cell_type": "code",
   "execution_count": 13,
   "metadata": {},
   "outputs": [
    {
     "data": {
      "text/plain": [
       "<Projected CRS: EPSG:3078>\n",
       "Name: NAD83 / Michigan Oblique Mercator\n",
       "Axis Info [cartesian]:\n",
       "- X[east]: Easting (metre)\n",
       "- Y[north]: Northing (metre)\n",
       "Area of Use:\n",
       "- name: USA - Michigan\n",
       "- bounds: (-90.42, 41.69, -82.13, 48.32)\n",
       "Coordinate Operation:\n",
       "- name: Michigan Oblique Mercator (meters)\n",
       "- method: Hotine Oblique Mercator (variant A)\n",
       "Datum: North American Datum 1983\n",
       "- Ellipsoid: GRS 1980\n",
       "- Prime Meridian: Greenwich"
      ]
     },
     "execution_count": 13,
     "metadata": {},
     "output_type": "execute_result"
    }
   ],
   "source": [
    "precincts.crs"
   ]
  },
  {
   "cell_type": "code",
   "execution_count": 14,
   "metadata": {},
   "outputs": [],
   "source": [
    "proj =  {'init':'epsg:4326'}\n",
    "proj = precincts.crs\n",
    "precincts = precincts.to_crs(proj)\n",
    "demographic_block = demographic_block.to_crs(proj)"
   ]
  },
  {
   "cell_type": "code",
   "execution_count": 15,
   "metadata": {},
   "outputs": [],
   "source": [
    "demographic_block.columns = demographic_block.columns.str.strip()"
   ]
  },
  {
   "cell_type": "code",
   "execution_count": 16,
   "metadata": {},
   "outputs": [
    {
     "data": {
      "text/html": [
       "<div>\n",
       "<style scoped>\n",
       "    .dataframe tbody tr th:only-of-type {\n",
       "        vertical-align: middle;\n",
       "    }\n",
       "\n",
       "    .dataframe tbody tr th {\n",
       "        vertical-align: top;\n",
       "    }\n",
       "\n",
       "    .dataframe thead th {\n",
       "        text-align: right;\n",
       "    }\n",
       "</style>\n",
       "<table border=\"1\" class=\"dataframe\">\n",
       "  <thead>\n",
       "    <tr style=\"text-align: right;\">\n",
       "      <th></th>\n",
       "      <th>OBJECTID</th>\n",
       "      <th>Id</th>\n",
       "      <th>VTD2016</th>\n",
       "      <th>CountyFips</th>\n",
       "      <th>Jurisdicti</th>\n",
       "      <th>ElectionYe</th>\n",
       "      <th>Label</th>\n",
       "      <th>ShapeSTAre</th>\n",
       "      <th>ShapeSTLen</th>\n",
       "      <th>geometry</th>\n",
       "    </tr>\n",
       "  </thead>\n",
       "  <tbody>\n",
       "    <tr>\n",
       "      <th>0</th>\n",
       "      <td>1</td>\n",
       "      <td>3888</td>\n",
       "      <td>1632100000001</td>\n",
       "      <td>163</td>\n",
       "      <td>21000</td>\n",
       "      <td>2016</td>\n",
       "      <td>City of Dearborn</td>\n",
       "      <td>2.489738e+06</td>\n",
       "      <td>6846.254657</td>\n",
       "      <td>POLYGON ((734740.564 203392.197, 734729.230 20...</td>\n",
       "    </tr>\n",
       "  </tbody>\n",
       "</table>\n",
       "</div>"
      ],
      "text/plain": [
       "   OBJECTID    Id        VTD2016 CountyFips Jurisdicti  ElectionYe  \\\n",
       "0         1  3888  1632100000001        163      21000        2016   \n",
       "\n",
       "              Label    ShapeSTAre   ShapeSTLen  \\\n",
       "0  City of Dearborn  2.489738e+06  6846.254657   \n",
       "\n",
       "                                            geometry  \n",
       "0  POLYGON ((734740.564 203392.197, 734729.230 20...  "
      ]
     },
     "execution_count": 16,
     "metadata": {},
     "output_type": "execute_result"
    }
   ],
   "source": [
    "precincts.head(1)"
   ]
  },
  {
   "cell_type": "code",
   "execution_count": 17,
   "metadata": {},
   "outputs": [
    {
     "data": {
      "text/plain": [
       "{'CD',\n",
       " 'CountyFips',\n",
       " 'ElectionYe',\n",
       " 'HDIST',\n",
       " 'Jurisdicti',\n",
       " 'Label',\n",
       " 'PRES16D',\n",
       " 'PRES16G',\n",
       " 'PRES16L',\n",
       " 'PRES16R',\n",
       " 'SENDIST',\n",
       " 'ShapeSTLen',\n",
       " 'VTD',\n",
       " 'VTD2016_x',\n",
       " 'county_fip',\n",
       " 'county_lat',\n",
       " 'county_lon',\n",
       " 'county_nam',\n",
       " 'jurisdic_1',\n",
       " 'precinct'}"
      ]
     },
     "execution_count": 17,
     "metadata": {},
     "output_type": "execute_result"
    }
   ],
   "source": [
    "set(mggg_final_shp.columns) - set(demographic_block.columns)"
   ]
  },
  {
   "cell_type": "code",
   "execution_count": 18,
   "metadata": {},
   "outputs": [],
   "source": [
    "precincts['geometry'] = precincts.buffer(0)"
   ]
  },
  {
   "cell_type": "code",
   "execution_count": 19,
   "metadata": {},
   "outputs": [],
   "source": [
    "import warnings; warnings.filterwarnings('ignore', 'GeoSeries.isna', UserWarning)\n",
    "\n",
    "demo_variables = ['TOTPOP','NH_WHITE', 'NH_BLACK', 'NH_AMIN', 'NH_ASIAN', \n",
    "             'NH_NHPI', 'NH_OTHER','NH_2MORE', 'HISP', 'VAP', 'HVAP', \n",
    "             'WVAP', 'BVAP', 'AMINVAP','ASIANVAP', 'NHPIVAP', 'OTHERVAP', \n",
    "             '2MOREVAP'] \n",
    "\n",
    "demographic_precinct = maup.assign(demographic_block, precincts)"
   ]
  },
  {
   "cell_type": "code",
   "execution_count": 20,
   "metadata": {},
   "outputs": [],
   "source": [
    "precincts[demo_variables] = demographic_block[demo_variables].groupby(demographic_precinct).sum()"
   ]
  },
  {
   "cell_type": "code",
   "execution_count": 21,
   "metadata": {},
   "outputs": [
    {
     "data": {
      "text/html": [
       "<div>\n",
       "<style scoped>\n",
       "    .dataframe tbody tr th:only-of-type {\n",
       "        vertical-align: middle;\n",
       "    }\n",
       "\n",
       "    .dataframe tbody tr th {\n",
       "        vertical-align: top;\n",
       "    }\n",
       "\n",
       "    .dataframe thead th {\n",
       "        text-align: right;\n",
       "    }\n",
       "</style>\n",
       "<table border=\"1\" class=\"dataframe\">\n",
       "  <thead>\n",
       "    <tr style=\"text-align: right;\">\n",
       "      <th></th>\n",
       "      <th>OBJECTID</th>\n",
       "      <th>Id</th>\n",
       "      <th>VTD2016</th>\n",
       "      <th>CountyFips</th>\n",
       "      <th>Jurisdicti</th>\n",
       "      <th>ElectionYe</th>\n",
       "      <th>Label</th>\n",
       "      <th>ShapeSTAre</th>\n",
       "      <th>ShapeSTLen</th>\n",
       "      <th>geometry</th>\n",
       "      <th>...</th>\n",
       "      <th>HISP</th>\n",
       "      <th>VAP</th>\n",
       "      <th>HVAP</th>\n",
       "      <th>WVAP</th>\n",
       "      <th>BVAP</th>\n",
       "      <th>AMINVAP</th>\n",
       "      <th>ASIANVAP</th>\n",
       "      <th>NHPIVAP</th>\n",
       "      <th>OTHERVAP</th>\n",
       "      <th>2MOREVAP</th>\n",
       "    </tr>\n",
       "  </thead>\n",
       "  <tbody>\n",
       "    <tr>\n",
       "      <th>0</th>\n",
       "      <td>1</td>\n",
       "      <td>3888</td>\n",
       "      <td>1632100000001</td>\n",
       "      <td>163</td>\n",
       "      <td>21000</td>\n",
       "      <td>2016</td>\n",
       "      <td>City of Dearborn</td>\n",
       "      <td>2.489738e+06</td>\n",
       "      <td>6846.254657</td>\n",
       "      <td>POLYGON ((734740.564 203392.197, 734729.230 20...</td>\n",
       "      <td>...</td>\n",
       "      <td>57</td>\n",
       "      <td>1572</td>\n",
       "      <td>38</td>\n",
       "      <td>1330</td>\n",
       "      <td>75</td>\n",
       "      <td>2</td>\n",
       "      <td>20</td>\n",
       "      <td>0</td>\n",
       "      <td>6</td>\n",
       "      <td>101</td>\n",
       "    </tr>\n",
       "    <tr>\n",
       "      <th>1</th>\n",
       "      <td>2</td>\n",
       "      <td>3889</td>\n",
       "      <td>1632100000002</td>\n",
       "      <td>163</td>\n",
       "      <td>21000</td>\n",
       "      <td>2016</td>\n",
       "      <td>City of Dearborn</td>\n",
       "      <td>1.058362e+06</td>\n",
       "      <td>4621.388992</td>\n",
       "      <td>POLYGON ((733757.240 203553.421, 733767.280 20...</td>\n",
       "      <td>...</td>\n",
       "      <td>57</td>\n",
       "      <td>1992</td>\n",
       "      <td>43</td>\n",
       "      <td>1760</td>\n",
       "      <td>41</td>\n",
       "      <td>3</td>\n",
       "      <td>16</td>\n",
       "      <td>0</td>\n",
       "      <td>1</td>\n",
       "      <td>128</td>\n",
       "    </tr>\n",
       "    <tr>\n",
       "      <th>2</th>\n",
       "      <td>3</td>\n",
       "      <td>3890</td>\n",
       "      <td>1632100000003</td>\n",
       "      <td>163</td>\n",
       "      <td>21000</td>\n",
       "      <td>2016</td>\n",
       "      <td>City of Dearborn</td>\n",
       "      <td>1.488846e+06</td>\n",
       "      <td>4909.715171</td>\n",
       "      <td>POLYGON ((733220.680 203094.269, 733125.455 20...</td>\n",
       "      <td>...</td>\n",
       "      <td>64</td>\n",
       "      <td>2283</td>\n",
       "      <td>48</td>\n",
       "      <td>2024</td>\n",
       "      <td>43</td>\n",
       "      <td>2</td>\n",
       "      <td>30</td>\n",
       "      <td>1</td>\n",
       "      <td>3</td>\n",
       "      <td>132</td>\n",
       "    </tr>\n",
       "    <tr>\n",
       "      <th>3</th>\n",
       "      <td>4</td>\n",
       "      <td>3891</td>\n",
       "      <td>1632100000004</td>\n",
       "      <td>163</td>\n",
       "      <td>21000</td>\n",
       "      <td>2016</td>\n",
       "      <td>City of Dearborn</td>\n",
       "      <td>1.187165e+06</td>\n",
       "      <td>4354.743602</td>\n",
       "      <td>POLYGON ((732401.480 203234.816, 732303.854 20...</td>\n",
       "      <td>...</td>\n",
       "      <td>50</td>\n",
       "      <td>1307</td>\n",
       "      <td>35</td>\n",
       "      <td>1160</td>\n",
       "      <td>33</td>\n",
       "      <td>1</td>\n",
       "      <td>8</td>\n",
       "      <td>2</td>\n",
       "      <td>6</td>\n",
       "      <td>62</td>\n",
       "    </tr>\n",
       "    <tr>\n",
       "      <th>4</th>\n",
       "      <td>5</td>\n",
       "      <td>3892</td>\n",
       "      <td>1632100000005</td>\n",
       "      <td>163</td>\n",
       "      <td>21000</td>\n",
       "      <td>2016</td>\n",
       "      <td>City of Dearborn</td>\n",
       "      <td>1.133548e+06</td>\n",
       "      <td>5460.202887</td>\n",
       "      <td>POLYGON ((731590.226 203387.835, 731604.080 20...</td>\n",
       "      <td>...</td>\n",
       "      <td>29</td>\n",
       "      <td>1485</td>\n",
       "      <td>21</td>\n",
       "      <td>1316</td>\n",
       "      <td>27</td>\n",
       "      <td>2</td>\n",
       "      <td>16</td>\n",
       "      <td>0</td>\n",
       "      <td>0</td>\n",
       "      <td>103</td>\n",
       "    </tr>\n",
       "  </tbody>\n",
       "</table>\n",
       "<p>5 rows × 28 columns</p>\n",
       "</div>"
      ],
      "text/plain": [
       "   OBJECTID    Id        VTD2016 CountyFips Jurisdicti  ElectionYe  \\\n",
       "0         1  3888  1632100000001        163      21000        2016   \n",
       "1         2  3889  1632100000002        163      21000        2016   \n",
       "2         3  3890  1632100000003        163      21000        2016   \n",
       "3         4  3891  1632100000004        163      21000        2016   \n",
       "4         5  3892  1632100000005        163      21000        2016   \n",
       "\n",
       "              Label    ShapeSTAre   ShapeSTLen  \\\n",
       "0  City of Dearborn  2.489738e+06  6846.254657   \n",
       "1  City of Dearborn  1.058362e+06  4621.388992   \n",
       "2  City of Dearborn  1.488846e+06  4909.715171   \n",
       "3  City of Dearborn  1.187165e+06  4354.743602   \n",
       "4  City of Dearborn  1.133548e+06  5460.202887   \n",
       "\n",
       "                                            geometry  ...  HISP   VAP  HVAP  \\\n",
       "0  POLYGON ((734740.564 203392.197, 734729.230 20...  ...    57  1572    38   \n",
       "1  POLYGON ((733757.240 203553.421, 733767.280 20...  ...    57  1992    43   \n",
       "2  POLYGON ((733220.680 203094.269, 733125.455 20...  ...    64  2283    48   \n",
       "3  POLYGON ((732401.480 203234.816, 732303.854 20...  ...    50  1307    35   \n",
       "4  POLYGON ((731590.226 203387.835, 731604.080 20...  ...    29  1485    21   \n",
       "\n",
       "   WVAP  BVAP  AMINVAP  ASIANVAP  NHPIVAP  OTHERVAP  2MOREVAP  \n",
       "0  1330    75        2        20        0         6       101  \n",
       "1  1760    41        3        16        0         1       128  \n",
       "2  2024    43        2        30        1         3       132  \n",
       "3  1160    33        1         8        2         6        62  \n",
       "4  1316    27        2        16        0         0       103  \n",
       "\n",
       "[5 rows x 28 columns]"
      ]
     },
     "execution_count": 21,
     "metadata": {},
     "output_type": "execute_result"
    }
   ],
   "source": [
    "precincts.head()"
   ]
  },
  {
   "cell_type": "code",
   "execution_count": 22,
   "metadata": {},
   "outputs": [
    {
     "data": {
      "text/plain": [
       "9883640"
      ]
     },
     "execution_count": 22,
     "metadata": {},
     "output_type": "execute_result"
    }
   ],
   "source": [
    "precincts.TOTPOP.sum()"
   ]
  },
  {
   "cell_type": "markdown",
   "metadata": {},
   "source": [
    "**Assign precincts to Senate Districts using maup**"
   ]
  },
  {
   "cell_type": "code",
   "execution_count": 23,
   "metadata": {},
   "outputs": [],
   "source": [
    "#Senate Districts\n",
    "####MGGG includes senate as \"SENDIST\" to present the 2011 enacted senate district IDs \n",
    "senate_districts = gpd.read_file(\"tl_2011_26_sldu/tl_2011_26_sldu.shp\")"
   ]
  },
  {
   "cell_type": "code",
   "execution_count": 24,
   "metadata": {},
   "outputs": [
    {
     "data": {
      "text/html": [
       "<div>\n",
       "<style scoped>\n",
       "    .dataframe tbody tr th:only-of-type {\n",
       "        vertical-align: middle;\n",
       "    }\n",
       "\n",
       "    .dataframe tbody tr th {\n",
       "        vertical-align: top;\n",
       "    }\n",
       "\n",
       "    .dataframe thead th {\n",
       "        text-align: right;\n",
       "    }\n",
       "</style>\n",
       "<table border=\"1\" class=\"dataframe\">\n",
       "  <thead>\n",
       "    <tr style=\"text-align: right;\">\n",
       "      <th></th>\n",
       "      <th>STATEFP</th>\n",
       "      <th>SLDUST</th>\n",
       "      <th>GEOID</th>\n",
       "      <th>NAMELSAD</th>\n",
       "      <th>LSAD</th>\n",
       "      <th>LSY</th>\n",
       "      <th>MTFCC</th>\n",
       "      <th>FUNCSTAT</th>\n",
       "      <th>ALAND</th>\n",
       "      <th>AWATER</th>\n",
       "      <th>INTPTLAT</th>\n",
       "      <th>INTPTLON</th>\n",
       "      <th>geometry</th>\n",
       "    </tr>\n",
       "  </thead>\n",
       "  <tbody>\n",
       "    <tr>\n",
       "      <th>0</th>\n",
       "      <td>26</td>\n",
       "      <td>032</td>\n",
       "      <td>26032</td>\n",
       "      <td>State Senate District 32</td>\n",
       "      <td>LU</td>\n",
       "      <td>2010</td>\n",
       "      <td>G5210</td>\n",
       "      <td>N</td>\n",
       "      <td>3544598561</td>\n",
       "      <td>49207378</td>\n",
       "      <td>+43.3144336</td>\n",
       "      <td>-084.2815131</td>\n",
       "      <td>POLYGON ((-83.97394 43.52329, -83.96779 43.523...</td>\n",
       "    </tr>\n",
       "    <tr>\n",
       "      <th>1</th>\n",
       "      <td>26</td>\n",
       "      <td>021</td>\n",
       "      <td>26021</td>\n",
       "      <td>State Senate District 21</td>\n",
       "      <td>LU</td>\n",
       "      <td>2010</td>\n",
       "      <td>G5210</td>\n",
       "      <td>N</td>\n",
       "      <td>4132805449</td>\n",
       "      <td>3916054903</td>\n",
       "      <td>+42.0800198</td>\n",
       "      <td>-086.4581424</td>\n",
       "      <td>POLYGON ((-85.96515 41.75996, -85.96795 41.759...</td>\n",
       "    </tr>\n",
       "    <tr>\n",
       "      <th>2</th>\n",
       "      <td>26</td>\n",
       "      <td>020</td>\n",
       "      <td>26020</td>\n",
       "      <td>State Senate District 20</td>\n",
       "      <td>LU</td>\n",
       "      <td>2010</td>\n",
       "      <td>G5210</td>\n",
       "      <td>N</td>\n",
       "      <td>1634946080</td>\n",
       "      <td>54505667</td>\n",
       "      <td>+42.2411689</td>\n",
       "      <td>-085.5647665</td>\n",
       "      <td>POLYGON ((-85.76400 42.13104, -85.76424 42.141...</td>\n",
       "    </tr>\n",
       "    <tr>\n",
       "      <th>3</th>\n",
       "      <td>26</td>\n",
       "      <td>037</td>\n",
       "      <td>26037</td>\n",
       "      <td>State Senate District 37</td>\n",
       "      <td>LU</td>\n",
       "      <td>2010</td>\n",
       "      <td>G5210</td>\n",
       "      <td>N</td>\n",
       "      <td>14964533699</td>\n",
       "      <td>15423069409</td>\n",
       "      <td>+45.7073805</td>\n",
       "      <td>-084.6195485</td>\n",
       "      <td>POLYGON ((-85.33291 44.79862, -85.33290 44.798...</td>\n",
       "    </tr>\n",
       "    <tr>\n",
       "      <th>4</th>\n",
       "      <td>26</td>\n",
       "      <td>024</td>\n",
       "      <td>26024</td>\n",
       "      <td>State Senate District 24</td>\n",
       "      <td>LU</td>\n",
       "      <td>2010</td>\n",
       "      <td>G5210</td>\n",
       "      <td>N</td>\n",
       "      <td>5059533913</td>\n",
       "      <td>2683914021</td>\n",
       "      <td>+42.5984030</td>\n",
       "      <td>-085.8112138</td>\n",
       "      <td>POLYGON ((-85.99465 42.41896, -85.99596 42.418...</td>\n",
       "    </tr>\n",
       "  </tbody>\n",
       "</table>\n",
       "</div>"
      ],
      "text/plain": [
       "  STATEFP SLDUST  GEOID                  NAMELSAD LSAD   LSY  MTFCC FUNCSTAT  \\\n",
       "0      26    032  26032  State Senate District 32   LU  2010  G5210        N   \n",
       "1      26    021  26021  State Senate District 21   LU  2010  G5210        N   \n",
       "2      26    020  26020  State Senate District 20   LU  2010  G5210        N   \n",
       "3      26    037  26037  State Senate District 37   LU  2010  G5210        N   \n",
       "4      26    024  26024  State Senate District 24   LU  2010  G5210        N   \n",
       "\n",
       "         ALAND       AWATER     INTPTLAT      INTPTLON  \\\n",
       "0   3544598561     49207378  +43.3144336  -084.2815131   \n",
       "1   4132805449   3916054903  +42.0800198  -086.4581424   \n",
       "2   1634946080     54505667  +42.2411689  -085.5647665   \n",
       "3  14964533699  15423069409  +45.7073805  -084.6195485   \n",
       "4   5059533913   2683914021  +42.5984030  -085.8112138   \n",
       "\n",
       "                                            geometry  \n",
       "0  POLYGON ((-83.97394 43.52329, -83.96779 43.523...  \n",
       "1  POLYGON ((-85.96515 41.75996, -85.96795 41.759...  \n",
       "2  POLYGON ((-85.76400 42.13104, -85.76424 42.141...  \n",
       "3  POLYGON ((-85.33291 44.79862, -85.33290 44.798...  \n",
       "4  POLYGON ((-85.99465 42.41896, -85.99596 42.418...  "
      ]
     },
     "execution_count": 24,
     "metadata": {},
     "output_type": "execute_result"
    }
   ],
   "source": [
    "senate_districts.head()"
   ]
  },
  {
   "cell_type": "code",
   "execution_count": 25,
   "metadata": {},
   "outputs": [],
   "source": [
    "senate_districts = senate_districts.to_crs(proj)"
   ]
  },
  {
   "cell_type": "code",
   "execution_count": 26,
   "metadata": {},
   "outputs": [],
   "source": [
    "sd_precinct = maup.assign(precincts, senate_districts)"
   ]
  },
  {
   "cell_type": "code",
   "execution_count": 27,
   "metadata": {},
   "outputs": [
    {
     "name": "stdout",
     "output_type": "stream",
     "text": [
      "[30  8  5  4  3 10  7  1  6 22 19 20 21  0 15 16 18  2 36 34 35 37 23 24\n",
      " 25  9 17 33 32 29 26 27 31 28 13 11 14 12]\n",
      "0    30\n",
      "1    30\n",
      "2    30\n",
      "3    30\n",
      "4    30\n",
      "dtype: int64\n"
     ]
    }
   ],
   "source": [
    "print(sd_precinct.unique())\n",
    "print(sd_precinct.head())"
   ]
  },
  {
   "cell_type": "code",
   "execution_count": 28,
   "metadata": {},
   "outputs": [],
   "source": [
    "#no '0' district, so add 1 to IDs\n",
    "sd_precinct = sd_precinct + 1.0"
   ]
  },
  {
   "cell_type": "code",
   "execution_count": 29,
   "metadata": {},
   "outputs": [],
   "source": [
    "# Assign senate districts to precinct shapefile\n",
    "precincts['SENDIST'] = sd_precinct"
   ]
  },
  {
   "cell_type": "code",
   "execution_count": 30,
   "metadata": {},
   "outputs": [
    {
     "data": {
      "text/plain": [
       "38"
      ]
     },
     "execution_count": 30,
     "metadata": {},
     "output_type": "execute_result"
    }
   ],
   "source": [
    "#confirm what it looks like\n",
    "precincts['SENDIST'].nunique()"
   ]
  },
  {
   "cell_type": "markdown",
   "metadata": {},
   "source": [
    "**Assign house districts to precincts using maup**"
   ]
  },
  {
   "cell_type": "code",
   "execution_count": 31,
   "metadata": {},
   "outputs": [],
   "source": [
    "#State House of Representatives\n",
    "#MGGG uses \"HDIST\" to represent 2011 enacted house plans\n",
    "congressional_districts = gpd.read_file(\"tl_2011_26_sldl/tl_2011_26_sldl.shp\")"
   ]
  },
  {
   "cell_type": "code",
   "execution_count": 32,
   "metadata": {},
   "outputs": [
    {
     "data": {
      "text/html": [
       "<div>\n",
       "<style scoped>\n",
       "    .dataframe tbody tr th:only-of-type {\n",
       "        vertical-align: middle;\n",
       "    }\n",
       "\n",
       "    .dataframe tbody tr th {\n",
       "        vertical-align: top;\n",
       "    }\n",
       "\n",
       "    .dataframe thead th {\n",
       "        text-align: right;\n",
       "    }\n",
       "</style>\n",
       "<table border=\"1\" class=\"dataframe\">\n",
       "  <thead>\n",
       "    <tr style=\"text-align: right;\">\n",
       "      <th></th>\n",
       "      <th>STATEFP</th>\n",
       "      <th>SLDLST</th>\n",
       "      <th>GEOID</th>\n",
       "      <th>NAMELSAD</th>\n",
       "      <th>LSAD</th>\n",
       "      <th>LSY</th>\n",
       "      <th>MTFCC</th>\n",
       "      <th>FUNCSTAT</th>\n",
       "      <th>ALAND</th>\n",
       "      <th>AWATER</th>\n",
       "      <th>INTPTLAT</th>\n",
       "      <th>INTPTLON</th>\n",
       "      <th>geometry</th>\n",
       "    </tr>\n",
       "  </thead>\n",
       "  <tbody>\n",
       "    <tr>\n",
       "      <th>0</th>\n",
       "      <td>26</td>\n",
       "      <td>098</td>\n",
       "      <td>26098</td>\n",
       "      <td>State House District 98</td>\n",
       "      <td>LL</td>\n",
       "      <td>2010</td>\n",
       "      <td>G5220</td>\n",
       "      <td>N</td>\n",
       "      <td>1112688263</td>\n",
       "      <td>20224890</td>\n",
       "      <td>+43.4119307</td>\n",
       "      <td>-084.2345730</td>\n",
       "      <td>POLYGON ((-83.97394 43.52329, -83.96779 43.523...</td>\n",
       "    </tr>\n",
       "    <tr>\n",
       "      <th>1</th>\n",
       "      <td>26</td>\n",
       "      <td>094</td>\n",
       "      <td>26094</td>\n",
       "      <td>State House District 94</td>\n",
       "      <td>LL</td>\n",
       "      <td>2010</td>\n",
       "      <td>G5220</td>\n",
       "      <td>N</td>\n",
       "      <td>982458210</td>\n",
       "      <td>19105502</td>\n",
       "      <td>+43.3030887</td>\n",
       "      <td>-083.9582146</td>\n",
       "      <td>POLYGON ((-84.17061 43.45253, -84.17061 43.462...</td>\n",
       "    </tr>\n",
       "    <tr>\n",
       "      <th>2</th>\n",
       "      <td>26</td>\n",
       "      <td>095</td>\n",
       "      <td>26095</td>\n",
       "      <td>State House District 95</td>\n",
       "      <td>LL</td>\n",
       "      <td>2010</td>\n",
       "      <td>G5220</td>\n",
       "      <td>N</td>\n",
       "      <td>292245702</td>\n",
       "      <td>9872663</td>\n",
       "      <td>+43.3895144</td>\n",
       "      <td>-083.9174552</td>\n",
       "      <td>POLYGON ((-83.81667 43.34949, -83.81666 43.349...</td>\n",
       "    </tr>\n",
       "    <tr>\n",
       "      <th>3</th>\n",
       "      <td>26</td>\n",
       "      <td>080</td>\n",
       "      <td>26080</td>\n",
       "      <td>State House District 80</td>\n",
       "      <td>LL</td>\n",
       "      <td>2010</td>\n",
       "      <td>G5220</td>\n",
       "      <td>N</td>\n",
       "      <td>1756368818</td>\n",
       "      <td>3819297751</td>\n",
       "      <td>+42.2806954</td>\n",
       "      <td>-086.3376517</td>\n",
       "      <td>POLYGON ((-85.99596 42.41897, -85.99465 42.418...</td>\n",
       "    </tr>\n",
       "    <tr>\n",
       "      <th>4</th>\n",
       "      <td>26</td>\n",
       "      <td>081</td>\n",
       "      <td>26081</td>\n",
       "      <td>State House District 81</td>\n",
       "      <td>LL</td>\n",
       "      <td>2010</td>\n",
       "      <td>G5220</td>\n",
       "      <td>N</td>\n",
       "      <td>1433103685</td>\n",
       "      <td>284194383</td>\n",
       "      <td>+42.9909507</td>\n",
       "      <td>-082.8390301</td>\n",
       "      <td>POLYGON ((-82.41988 43.00231, -82.42273 43.000...</td>\n",
       "    </tr>\n",
       "  </tbody>\n",
       "</table>\n",
       "</div>"
      ],
      "text/plain": [
       "  STATEFP SLDLST  GEOID                 NAMELSAD LSAD   LSY  MTFCC FUNCSTAT  \\\n",
       "0      26    098  26098  State House District 98   LL  2010  G5220        N   \n",
       "1      26    094  26094  State House District 94   LL  2010  G5220        N   \n",
       "2      26    095  26095  State House District 95   LL  2010  G5220        N   \n",
       "3      26    080  26080  State House District 80   LL  2010  G5220        N   \n",
       "4      26    081  26081  State House District 81   LL  2010  G5220        N   \n",
       "\n",
       "        ALAND      AWATER     INTPTLAT      INTPTLON  \\\n",
       "0  1112688263    20224890  +43.4119307  -084.2345730   \n",
       "1   982458210    19105502  +43.3030887  -083.9582146   \n",
       "2   292245702     9872663  +43.3895144  -083.9174552   \n",
       "3  1756368818  3819297751  +42.2806954  -086.3376517   \n",
       "4  1433103685   284194383  +42.9909507  -082.8390301   \n",
       "\n",
       "                                            geometry  \n",
       "0  POLYGON ((-83.97394 43.52329, -83.96779 43.523...  \n",
       "1  POLYGON ((-84.17061 43.45253, -84.17061 43.462...  \n",
       "2  POLYGON ((-83.81667 43.34949, -83.81666 43.349...  \n",
       "3  POLYGON ((-85.99596 42.41897, -85.99465 42.418...  \n",
       "4  POLYGON ((-82.41988 43.00231, -82.42273 43.000...  "
      ]
     },
     "execution_count": 32,
     "metadata": {},
     "output_type": "execute_result"
    }
   ],
   "source": [
    "congressional_districts.head()"
   ]
  },
  {
   "cell_type": "code",
   "execution_count": 33,
   "metadata": {},
   "outputs": [],
   "source": [
    "congressional_districts = congressional_districts.to_crs(proj)"
   ]
  },
  {
   "cell_type": "code",
   "execution_count": 34,
   "metadata": {},
   "outputs": [],
   "source": [
    "cd_precinct = maup.assign(precincts, congressional_districts)"
   ]
  },
  {
   "cell_type": "code",
   "execution_count": 35,
   "metadata": {},
   "outputs": [
    {
     "data": {
      "text/plain": [
       "0       76\n",
       "1       76\n",
       "2       76\n",
       "3       92\n",
       "4       92\n",
       "        ..\n",
       "4805    59\n",
       "4806    59\n",
       "4807    59\n",
       "4808    59\n",
       "4809    59\n",
       "Length: 4810, dtype: int64"
      ]
     },
     "execution_count": 35,
     "metadata": {},
     "output_type": "execute_result"
    }
   ],
   "source": [
    "# Add 1 to assignments\n",
    "cd_precinct += 1\n",
    "\n",
    "cd_precinct"
   ]
  },
  {
   "cell_type": "code",
   "execution_count": 36,
   "metadata": {},
   "outputs": [],
   "source": [
    "precincts['HDIST'] = cd_precinct"
   ]
  },
  {
   "cell_type": "code",
   "execution_count": 37,
   "metadata": {},
   "outputs": [
    {
     "data": {
      "text/plain": [
       "Index(['OBJECTID', 'Id', 'VTD2016', 'CountyFips', 'Jurisdicti', 'ElectionYe',\n",
       "       'Label', 'ShapeSTAre', 'ShapeSTLen', 'geometry', 'TOTPOP', 'NH_WHITE',\n",
       "       'NH_BLACK', 'NH_AMIN', 'NH_ASIAN', 'NH_NHPI', 'NH_OTHER', 'NH_2MORE',\n",
       "       'HISP', 'VAP', 'HVAP', 'WVAP', 'BVAP', 'AMINVAP', 'ASIANVAP', 'NHPIVAP',\n",
       "       'OTHERVAP', '2MOREVAP', 'SENDIST', 'HDIST'],\n",
       "      dtype='object')"
      ]
     },
     "execution_count": 37,
     "metadata": {},
     "output_type": "execute_result"
    }
   ],
   "source": [
    "precincts.columns"
   ]
  },
  {
   "cell_type": "code",
   "execution_count": 38,
   "metadata": {},
   "outputs": [],
   "source": [
    "#Final MGGG Shapefile\n",
    "mggg_final_shp = gpd.read_file(\"MI_precincts/MI_precincts.shp\")"
   ]
  },
  {
   "cell_type": "code",
   "execution_count": 39,
   "metadata": {},
   "outputs": [
    {
     "data": {
      "text/plain": [
       "(4809, 44)"
      ]
     },
     "execution_count": 39,
     "metadata": {},
     "output_type": "execute_result"
    }
   ],
   "source": [
    "mggg_final_shp.shape"
   ]
  },
  {
   "cell_type": "code",
   "execution_count": null,
   "metadata": {},
   "outputs": [],
   "source": []
  },
  {
   "cell_type": "markdown",
   "metadata": {},
   "source": [
    "## Presidential ELECTION PROCESSING"
   ]
  },
  {
   "cell_type": "markdown",
   "metadata": {},
   "source": [
    "**Import 2016 Election Data: Shape Files (gdf)**"
   ]
  },
  {
   "cell_type": "code",
   "execution_count": 40,
   "metadata": {},
   "outputs": [],
   "source": [
    "#Precinct and congressional district shapefiles from State of MI GIS portal\n",
    "#Source: State of Michigan GIS Open Data Portal(http://gis-michigan.opendata.arcgis.com/datasets/2016-voting-precincts?geometry=94.224%2C43.115%2C-91.752%2C84.203)\n",
    "precincts_shp_2016 = gpd.read_file(\"2016_Voting_Precincts-shp/2016_Voting_Precincts.shp\")"
   ]
  },
  {
   "cell_type": "code",
   "execution_count": 41,
   "metadata": {},
   "outputs": [
    {
     "data": {
      "text/plain": [
       "(4810, 10)"
      ]
     },
     "execution_count": 41,
     "metadata": {},
     "output_type": "execute_result"
    }
   ],
   "source": [
    "precincts_shp_2016.shape  # all geo information"
   ]
  },
  {
   "cell_type": "markdown",
   "metadata": {},
   "source": [
    "**Modify the labels** to match gdf (shapefile) to df (election results)"
   ]
  },
  {
   "cell_type": "code",
   "execution_count": 42,
   "metadata": {},
   "outputs": [],
   "source": [
    "# combine to use multiple variables:\n",
    "def precinct_mod(row):\n",
    "    label = row['Label']\n",
    "    vtd2016 = row['VTD2016']\n",
    "    \n",
    "    if 'City of' in label:\n",
    "        replace_label = label.replace(\"City of\", \"\")\n",
    "        replace_label = replace_label.lstrip() + \" City\"\n",
    "        \n",
    "    elif 'Township' in label:\n",
    "        replace_label = label.upper()\n",
    "        \n",
    "    ward = vtd2016[-5:-3]\n",
    "    precinct_num = vtd2016[-3:].lstrip(\"0\")\n",
    "    if ward != '00':\n",
    "        ward = ward.lstrip(\"0\")\n",
    "        replace_label = replace_label.lstrip() + \"; Ward \" + ward + \"; Precinct \" + precinct_num\n",
    "    elif ward == '00':\n",
    "        replace_label = replace_label.lstrip() + \"; \" + precinct_num\n",
    "    return replace_label.upper()\n",
    "         \n",
    "        #switched to upper case to match the df"
   ]
  },
  {
   "cell_type": "markdown",
   "metadata": {},
   "source": [
    "Test of the modification"
   ]
  },
  {
   "cell_type": "code",
   "execution_count": 43,
   "metadata": {},
   "outputs": [
    {
     "data": {
      "text/plain": [
       "0         DEARBORN CITY; 1\n",
       "1         DEARBORN CITY; 2\n",
       "2         DEARBORN CITY; 3\n",
       "3         DEARBORN CITY; 4\n",
       "4         DEARBORN CITY; 5\n",
       "               ...        \n",
       "4805     GENOA TOWNSHIP; 7\n",
       "4806    OCEOLA TOWNSHIP; 5\n",
       "4807    OCEOLA TOWNSHIP; 1\n",
       "4808    OCEOLA TOWNSHIP; 2\n",
       "4809    OCEOLA TOWNSHIP; 4\n",
       "Length: 4810, dtype: object"
      ]
     },
     "execution_count": 43,
     "metadata": {},
     "output_type": "execute_result"
    }
   ],
   "source": [
    "precincts_shp_2016.apply(precinct_mod, axis = 1)"
   ]
  },
  {
   "cell_type": "code",
   "execution_count": 44,
   "metadata": {},
   "outputs": [
    {
     "data": {
      "text/html": [
       "<div>\n",
       "<style scoped>\n",
       "    .dataframe tbody tr th:only-of-type {\n",
       "        vertical-align: middle;\n",
       "    }\n",
       "\n",
       "    .dataframe tbody tr th {\n",
       "        vertical-align: top;\n",
       "    }\n",
       "\n",
       "    .dataframe thead th {\n",
       "        text-align: right;\n",
       "    }\n",
       "</style>\n",
       "<table border=\"1\" class=\"dataframe\">\n",
       "  <thead>\n",
       "    <tr style=\"text-align: right;\">\n",
       "      <th></th>\n",
       "      <th>OBJECTID</th>\n",
       "      <th>Id</th>\n",
       "      <th>VTD2016</th>\n",
       "      <th>CountyFips</th>\n",
       "      <th>Jurisdicti</th>\n",
       "      <th>ElectionYe</th>\n",
       "      <th>Label</th>\n",
       "      <th>ShapeSTAre</th>\n",
       "      <th>ShapeSTLen</th>\n",
       "      <th>geometry</th>\n",
       "    </tr>\n",
       "  </thead>\n",
       "  <tbody>\n",
       "    <tr>\n",
       "      <th>0</th>\n",
       "      <td>1</td>\n",
       "      <td>3888</td>\n",
       "      <td>1632100000001</td>\n",
       "      <td>163</td>\n",
       "      <td>21000</td>\n",
       "      <td>2016</td>\n",
       "      <td>DEARBORN CITY; 1</td>\n",
       "      <td>2.489738e+06</td>\n",
       "      <td>6846.254657</td>\n",
       "      <td>POLYGON ((734740.564 203392.197, 734729.230 20...</td>\n",
       "    </tr>\n",
       "    <tr>\n",
       "      <th>1</th>\n",
       "      <td>2</td>\n",
       "      <td>3889</td>\n",
       "      <td>1632100000002</td>\n",
       "      <td>163</td>\n",
       "      <td>21000</td>\n",
       "      <td>2016</td>\n",
       "      <td>DEARBORN CITY; 2</td>\n",
       "      <td>1.058362e+06</td>\n",
       "      <td>4621.388992</td>\n",
       "      <td>POLYGON ((733757.240 203553.421, 733767.280 20...</td>\n",
       "    </tr>\n",
       "    <tr>\n",
       "      <th>2</th>\n",
       "      <td>3</td>\n",
       "      <td>3890</td>\n",
       "      <td>1632100000003</td>\n",
       "      <td>163</td>\n",
       "      <td>21000</td>\n",
       "      <td>2016</td>\n",
       "      <td>DEARBORN CITY; 3</td>\n",
       "      <td>1.488846e+06</td>\n",
       "      <td>4909.715171</td>\n",
       "      <td>POLYGON ((733220.680 203094.269, 733125.455 20...</td>\n",
       "    </tr>\n",
       "    <tr>\n",
       "      <th>3</th>\n",
       "      <td>4</td>\n",
       "      <td>3891</td>\n",
       "      <td>1632100000004</td>\n",
       "      <td>163</td>\n",
       "      <td>21000</td>\n",
       "      <td>2016</td>\n",
       "      <td>DEARBORN CITY; 4</td>\n",
       "      <td>1.187165e+06</td>\n",
       "      <td>4354.743602</td>\n",
       "      <td>POLYGON ((732401.480 203234.816, 732303.854 20...</td>\n",
       "    </tr>\n",
       "    <tr>\n",
       "      <th>4</th>\n",
       "      <td>5</td>\n",
       "      <td>3892</td>\n",
       "      <td>1632100000005</td>\n",
       "      <td>163</td>\n",
       "      <td>21000</td>\n",
       "      <td>2016</td>\n",
       "      <td>DEARBORN CITY; 5</td>\n",
       "      <td>1.133548e+06</td>\n",
       "      <td>5460.202887</td>\n",
       "      <td>POLYGON ((731590.226 203387.835, 731604.080 20...</td>\n",
       "    </tr>\n",
       "  </tbody>\n",
       "</table>\n",
       "</div>"
      ],
      "text/plain": [
       "   OBJECTID    Id        VTD2016 CountyFips Jurisdicti  ElectionYe  \\\n",
       "0         1  3888  1632100000001        163      21000        2016   \n",
       "1         2  3889  1632100000002        163      21000        2016   \n",
       "2         3  3890  1632100000003        163      21000        2016   \n",
       "3         4  3891  1632100000004        163      21000        2016   \n",
       "4         5  3892  1632100000005        163      21000        2016   \n",
       "\n",
       "              Label    ShapeSTAre   ShapeSTLen  \\\n",
       "0  DEARBORN CITY; 1  2.489738e+06  6846.254657   \n",
       "1  DEARBORN CITY; 2  1.058362e+06  4621.388992   \n",
       "2  DEARBORN CITY; 3  1.488846e+06  4909.715171   \n",
       "3  DEARBORN CITY; 4  1.187165e+06  4354.743602   \n",
       "4  DEARBORN CITY; 5  1.133548e+06  5460.202887   \n",
       "\n",
       "                                            geometry  \n",
       "0  POLYGON ((734740.564 203392.197, 734729.230 20...  \n",
       "1  POLYGON ((733757.240 203553.421, 733767.280 20...  \n",
       "2  POLYGON ((733220.680 203094.269, 733125.455 20...  \n",
       "3  POLYGON ((732401.480 203234.816, 732303.854 20...  \n",
       "4  POLYGON ((731590.226 203387.835, 731604.080 20...  "
      ]
     },
     "execution_count": 44,
     "metadata": {},
     "output_type": "execute_result"
    }
   ],
   "source": [
    "gdf = precincts_shp_2016\n",
    "gdf['Label'] = gdf.apply(precinct_mod, axis = 1)\n",
    "gdf.head()"
   ]
  },
  {
   "cell_type": "code",
   "execution_count": 45,
   "metadata": {},
   "outputs": [],
   "source": [
    "gdf.to_csv('2016_Voting_Precincts.csv')"
   ]
  },
  {
   "cell_type": "markdown",
   "metadata": {},
   "source": [
    "### Reading 2016 Election Data Files/dataframe (df)"
   ]
  },
  {
   "cell_type": "code",
   "execution_count": 46,
   "metadata": {},
   "outputs": [],
   "source": [
    "#2016 precinct-level election data - all offices all states\n",
    "precinct_election_data = pd.read_csv(\"2016-precinct-president.csv\", \n",
    "                                     encoding='ISO-8859-1',\n",
    "                                     dtype = {\"county_name\" : \"str\",\"precinct\" : \"str\",\"district\" : \"str\", \"county_fips\": \"str\"},\n",
    "                                    low_memory=False)\n",
    "#specified datatype for specific columns due to error message"
   ]
  },
  {
   "cell_type": "code",
   "execution_count": 47,
   "metadata": {},
   "outputs": [
    {
     "data": {
      "text/html": [
       "<div>\n",
       "<style scoped>\n",
       "    .dataframe tbody tr th:only-of-type {\n",
       "        vertical-align: middle;\n",
       "    }\n",
       "\n",
       "    .dataframe tbody tr th {\n",
       "        vertical-align: top;\n",
       "    }\n",
       "\n",
       "    .dataframe thead th {\n",
       "        text-align: right;\n",
       "    }\n",
       "</style>\n",
       "<table border=\"1\" class=\"dataframe\">\n",
       "  <thead>\n",
       "    <tr style=\"text-align: right;\">\n",
       "      <th></th>\n",
       "      <th>year</th>\n",
       "      <th>stage</th>\n",
       "      <th>special</th>\n",
       "      <th>state</th>\n",
       "      <th>state_postal</th>\n",
       "      <th>state_fips</th>\n",
       "      <th>state_icpsr</th>\n",
       "      <th>county_name</th>\n",
       "      <th>county_fips</th>\n",
       "      <th>county_ansi</th>\n",
       "      <th>...</th>\n",
       "      <th>candidate_middle</th>\n",
       "      <th>candidate_full</th>\n",
       "      <th>candidate_suffix</th>\n",
       "      <th>candidate_nickname</th>\n",
       "      <th>candidate_fec</th>\n",
       "      <th>candidate_fec_name</th>\n",
       "      <th>candidate_google</th>\n",
       "      <th>candidate_govtrack</th>\n",
       "      <th>candidate_icpsr</th>\n",
       "      <th>candidate_maplight</th>\n",
       "    </tr>\n",
       "  </thead>\n",
       "  <tbody>\n",
       "    <tr>\n",
       "      <th>0</th>\n",
       "      <td>2016</td>\n",
       "      <td>gen</td>\n",
       "      <td>False</td>\n",
       "      <td>Alabama</td>\n",
       "      <td>AL</td>\n",
       "      <td>1</td>\n",
       "      <td>41</td>\n",
       "      <td>Autauga County</td>\n",
       "      <td>1001</td>\n",
       "      <td>161526.0</td>\n",
       "      <td>...</td>\n",
       "      <td>NaN</td>\n",
       "      <td>NaN</td>\n",
       "      <td>NaN</td>\n",
       "      <td>NaN</td>\n",
       "      <td>P00003392</td>\n",
       "      <td>CLINTON, HILLARY RODHAM / TIMOTHY MICHAEL KAINE</td>\n",
       "      <td>NaN</td>\n",
       "      <td>NaN</td>\n",
       "      <td>NaN</td>\n",
       "      <td>NaN</td>\n",
       "    </tr>\n",
       "    <tr>\n",
       "      <th>1</th>\n",
       "      <td>2016</td>\n",
       "      <td>gen</td>\n",
       "      <td>False</td>\n",
       "      <td>Alabama</td>\n",
       "      <td>AL</td>\n",
       "      <td>1</td>\n",
       "      <td>41</td>\n",
       "      <td>Autauga County</td>\n",
       "      <td>1001</td>\n",
       "      <td>161526.0</td>\n",
       "      <td>...</td>\n",
       "      <td>NaN</td>\n",
       "      <td>NaN</td>\n",
       "      <td>NaN</td>\n",
       "      <td>NaN</td>\n",
       "      <td>P60012234</td>\n",
       "      <td>JOHNSON, JOHN FITZGERALD MR.</td>\n",
       "      <td>NaN</td>\n",
       "      <td>NaN</td>\n",
       "      <td>NaN</td>\n",
       "      <td>NaN</td>\n",
       "    </tr>\n",
       "    <tr>\n",
       "      <th>2</th>\n",
       "      <td>2016</td>\n",
       "      <td>gen</td>\n",
       "      <td>False</td>\n",
       "      <td>Alabama</td>\n",
       "      <td>AL</td>\n",
       "      <td>1</td>\n",
       "      <td>41</td>\n",
       "      <td>Autauga County</td>\n",
       "      <td>1001</td>\n",
       "      <td>161526.0</td>\n",
       "      <td>...</td>\n",
       "      <td>NaN</td>\n",
       "      <td>NaN</td>\n",
       "      <td>NaN</td>\n",
       "      <td>NaN</td>\n",
       "      <td>P20003984</td>\n",
       "      <td>STEIN, JILL</td>\n",
       "      <td>NaN</td>\n",
       "      <td>NaN</td>\n",
       "      <td>NaN</td>\n",
       "      <td>NaN</td>\n",
       "    </tr>\n",
       "    <tr>\n",
       "      <th>3</th>\n",
       "      <td>2016</td>\n",
       "      <td>gen</td>\n",
       "      <td>False</td>\n",
       "      <td>Alabama</td>\n",
       "      <td>AL</td>\n",
       "      <td>1</td>\n",
       "      <td>41</td>\n",
       "      <td>Autauga County</td>\n",
       "      <td>1001</td>\n",
       "      <td>161526.0</td>\n",
       "      <td>...</td>\n",
       "      <td>NaN</td>\n",
       "      <td>NaN</td>\n",
       "      <td>NaN</td>\n",
       "      <td>NaN</td>\n",
       "      <td>P80001571</td>\n",
       "      <td>TRUMP, DONALD J. / MICHAEL R. PENCE</td>\n",
       "      <td>NaN</td>\n",
       "      <td>NaN</td>\n",
       "      <td>NaN</td>\n",
       "      <td>NaN</td>\n",
       "    </tr>\n",
       "    <tr>\n",
       "      <th>4</th>\n",
       "      <td>2016</td>\n",
       "      <td>gen</td>\n",
       "      <td>False</td>\n",
       "      <td>Alabama</td>\n",
       "      <td>AL</td>\n",
       "      <td>1</td>\n",
       "      <td>41</td>\n",
       "      <td>Autauga County</td>\n",
       "      <td>1001</td>\n",
       "      <td>161526.0</td>\n",
       "      <td>...</td>\n",
       "      <td>NaN</td>\n",
       "      <td>NaN</td>\n",
       "      <td>NaN</td>\n",
       "      <td>NaN</td>\n",
       "      <td>NaN</td>\n",
       "      <td>NaN</td>\n",
       "      <td>NaN</td>\n",
       "      <td>NaN</td>\n",
       "      <td>NaN</td>\n",
       "      <td>NaN</td>\n",
       "    </tr>\n",
       "  </tbody>\n",
       "</table>\n",
       "<p>5 rows × 37 columns</p>\n",
       "</div>"
      ],
      "text/plain": [
       "   year stage  special    state state_postal  state_fips  state_icpsr  \\\n",
       "0  2016   gen    False  Alabama           AL           1           41   \n",
       "1  2016   gen    False  Alabama           AL           1           41   \n",
       "2  2016   gen    False  Alabama           AL           1           41   \n",
       "3  2016   gen    False  Alabama           AL           1           41   \n",
       "4  2016   gen    False  Alabama           AL           1           41   \n",
       "\n",
       "      county_name county_fips  county_ansi  ...  candidate_middle  \\\n",
       "0  Autauga County        1001     161526.0  ...               NaN   \n",
       "1  Autauga County        1001     161526.0  ...               NaN   \n",
       "2  Autauga County        1001     161526.0  ...               NaN   \n",
       "3  Autauga County        1001     161526.0  ...               NaN   \n",
       "4  Autauga County        1001     161526.0  ...               NaN   \n",
       "\n",
       "   candidate_full candidate_suffix candidate_nickname candidate_fec  \\\n",
       "0             NaN              NaN                NaN     P00003392   \n",
       "1             NaN              NaN                NaN     P60012234   \n",
       "2             NaN              NaN                NaN     P20003984   \n",
       "3             NaN              NaN                NaN     P80001571   \n",
       "4             NaN              NaN                NaN           NaN   \n",
       "\n",
       "                                candidate_fec_name candidate_google  \\\n",
       "0  CLINTON, HILLARY RODHAM / TIMOTHY MICHAEL KAINE              NaN   \n",
       "1                     JOHNSON, JOHN FITZGERALD MR.              NaN   \n",
       "2                                      STEIN, JILL              NaN   \n",
       "3              TRUMP, DONALD J. / MICHAEL R. PENCE              NaN   \n",
       "4                                              NaN              NaN   \n",
       "\n",
       "  candidate_govtrack  candidate_icpsr candidate_maplight  \n",
       "0                NaN              NaN                NaN  \n",
       "1                NaN              NaN                NaN  \n",
       "2                NaN              NaN                NaN  \n",
       "3                NaN              NaN                NaN  \n",
       "4                NaN              NaN                NaN  \n",
       "\n",
       "[5 rows x 37 columns]"
      ]
     },
     "execution_count": 47,
     "metadata": {},
     "output_type": "execute_result"
    }
   ],
   "source": [
    "precinct_election_data.head()"
   ]
  },
  {
   "cell_type": "code",
   "execution_count": 48,
   "metadata": {},
   "outputs": [],
   "source": [
    "#Filter to return data only for MI\n",
    "mi_precinct_election = precinct_election_data[precinct_election_data.state_fips == 26]"
   ]
  },
  {
   "cell_type": "code",
   "execution_count": 49,
   "metadata": {},
   "outputs": [
    {
     "data": {
      "text/plain": [
       "Index(['year', 'stage', 'special', 'state', 'state_postal', 'state_fips',\n",
       "       'state_icpsr', 'county_name', 'county_fips', 'county_ansi',\n",
       "       'county_lat', 'county_long', 'jurisdiction', 'precinct', 'candidate',\n",
       "       'candidate_normalized', 'office', 'district', 'writein', 'party',\n",
       "       'mode', 'votes', 'candidate_opensecrets', 'candidate_wikidata',\n",
       "       'candidate_party', 'candidate_last', 'candidate_first',\n",
       "       'candidate_middle', 'candidate_full', 'candidate_suffix',\n",
       "       'candidate_nickname', 'candidate_fec', 'candidate_fec_name',\n",
       "       'candidate_google', 'candidate_govtrack', 'candidate_icpsr',\n",
       "       'candidate_maplight'],\n",
       "      dtype='object')"
      ]
     },
     "execution_count": 49,
     "metadata": {},
     "output_type": "execute_result"
    }
   ],
   "source": [
    "mi_precinct_election.columns"
   ]
  },
  {
   "cell_type": "code",
   "execution_count": 50,
   "metadata": {},
   "outputs": [
    {
     "data": {
      "text/plain": [
       "array(['26001', '26003', '26005', '26007', '26009', '26011', '26013',\n",
       "       '26015', '26017', '26019', '26021', '26023', '26025', '26027',\n",
       "       '26029', '26031', '26033', '26035', '26037', '26039', '26041',\n",
       "       '26043', '26045', '26047', '26049', '26051', '26053', '26055',\n",
       "       '26057', '26059', '26061', '26063', '26065', '26067', '26069',\n",
       "       '26071', '26073', '26075', '26077', '26079', '26081', '26083',\n",
       "       '26085', '26087', '26089', '26091', '26093', '26095', '26097',\n",
       "       '26099', '26101', '26103', '26105', '26107', '26109', '26111',\n",
       "       '26113', '26115', '26117', '26119', '26121', '26123', '26125',\n",
       "       '26127', '26129', '26131', '26133', '26135', '26137', '26139',\n",
       "       '26141', '26143', '26145', '26151', '26153', '26155', '26147',\n",
       "       '26149', '26157', '26159', '26161', '26163', '26165'], dtype=object)"
      ]
     },
     "execution_count": 50,
     "metadata": {},
     "output_type": "execute_result"
    }
   ],
   "source": [
    "mi_precinct_election['county_fips'].unique()"
   ]
  },
  {
   "cell_type": "markdown",
   "metadata": {},
   "source": [
    "Testing out dataset, investigating"
   ]
  },
  {
   "cell_type": "code",
   "execution_count": 51,
   "metadata": {},
   "outputs": [
    {
     "data": {
      "text/plain": [
       "1058001          HAWES TOWNSHIP; 1\n",
       "1058002          HAWES TOWNSHIP; 1\n",
       "1058003          HAWES TOWNSHIP; 1\n",
       "1058004          HAWES TOWNSHIP; 1\n",
       "1058005          HAWES TOWNSHIP; 1\n",
       "                    ...           \n",
       "1123997    SPRINGVILLE TOWNSHIP; 1\n",
       "1123998    SPRINGVILLE TOWNSHIP; 1\n",
       "1123999    SPRINGVILLE TOWNSHIP; 1\n",
       "1124000    SPRINGVILLE TOWNSHIP; 1\n",
       "1124001    SPRINGVILLE TOWNSHIP; 1\n",
       "Name: precinct, Length: 66001, dtype: object"
      ]
     },
     "execution_count": 51,
     "metadata": {},
     "output_type": "execute_result"
    }
   ],
   "source": [
    "mi_precinct_election['precinct']"
   ]
  },
  {
   "cell_type": "code",
   "execution_count": 52,
   "metadata": {},
   "outputs": [
    {
     "data": {
      "text/plain": [
       "4794"
      ]
     },
     "execution_count": 52,
     "metadata": {},
     "output_type": "execute_result"
    }
   ],
   "source": [
    "mi_precinct_election['precinct'].nunique()"
   ]
  },
  {
   "cell_type": "code",
   "execution_count": 53,
   "metadata": {},
   "outputs": [
    {
     "data": {
      "text/plain": [
       "county_name\n",
       "Alcona County         13\n",
       "Alger County          11\n",
       "Allegan County        46\n",
       "Alpena County         18\n",
       "Antrim County         17\n",
       "                    ... \n",
       "Tuscola County        32\n",
       "Van Buren County      34\n",
       "Washtenaw County     142\n",
       "Wayne County        1172\n",
       "Wexford County        21\n",
       "Name: precinct, Length: 83, dtype: int64"
      ]
     },
     "execution_count": 53,
     "metadata": {},
     "output_type": "execute_result"
    }
   ],
   "source": [
    "#Number of unique precincts in each county \n",
    "foo = mi_precinct_election.groupby('county_name').precinct.nunique()\n",
    "foo\n",
    "#foo is a variable used to represent an unspecified entity"
   ]
  },
  {
   "cell_type": "code",
   "execution_count": 54,
   "metadata": {},
   "outputs": [
    {
     "data": {
      "text/plain": [
       "array(['US President'], dtype=object)"
      ]
     },
     "execution_count": 54,
     "metadata": {},
     "output_type": "execute_result"
    }
   ],
   "source": [
    "mi_precinct_election.office.unique() # Test to make sure we are only looking at presidential race"
   ]
  },
  {
   "cell_type": "markdown",
   "metadata": {},
   "source": [
    "Pivot df"
   ]
  },
  {
   "cell_type": "code",
   "execution_count": 55,
   "metadata": {},
   "outputs": [],
   "source": [
    "mi_party = mi_precinct_election[\n",
    "    (mi_precinct_election.party == 'democratic')|\n",
    "    (mi_precinct_election.party == 'republican')|\n",
    "    (mi_precinct_election.party == 'libertarian')|\n",
    "    (mi_precinct_election.party == 'green')]\n",
    "\n"
   ]
  },
  {
   "cell_type": "code",
   "execution_count": 56,
   "metadata": {},
   "outputs": [],
   "source": [
    "df = mi_pivot = mi_party.pivot_table(index = ['county_name','county_fips','precinct'],\n",
    "                         columns = ['party'],\n",
    "                        values = ['votes'],\n",
    "                         aggfunc = 'sum').reset_index()\n",
    "#\"reset_index\" turns assigned indices into columns so that mask can be applied\n"
   ]
  },
  {
   "cell_type": "markdown",
   "metadata": {},
   "source": [
    "Testing out dataset, investigating"
   ]
  },
  {
   "cell_type": "code",
   "execution_count": 57,
   "metadata": {},
   "outputs": [
    {
     "data": {
      "text/html": [
       "<div>\n",
       "<style scoped>\n",
       "    .dataframe tbody tr th:only-of-type {\n",
       "        vertical-align: middle;\n",
       "    }\n",
       "\n",
       "    .dataframe tbody tr th {\n",
       "        vertical-align: top;\n",
       "    }\n",
       "\n",
       "    .dataframe thead tr th {\n",
       "        text-align: left;\n",
       "    }\n",
       "</style>\n",
       "<table border=\"1\" class=\"dataframe\">\n",
       "  <thead>\n",
       "    <tr>\n",
       "      <th></th>\n",
       "      <th>county_name</th>\n",
       "      <th>county_fips</th>\n",
       "      <th>precinct</th>\n",
       "      <th colspan=\"4\" halign=\"left\">votes</th>\n",
       "    </tr>\n",
       "    <tr>\n",
       "      <th>party</th>\n",
       "      <th></th>\n",
       "      <th></th>\n",
       "      <th></th>\n",
       "      <th>democratic</th>\n",
       "      <th>green</th>\n",
       "      <th>libertarian</th>\n",
       "      <th>republican</th>\n",
       "    </tr>\n",
       "  </thead>\n",
       "  <tbody>\n",
       "    <tr>\n",
       "      <th>13</th>\n",
       "      <td>Alger County</td>\n",
       "      <td>26003</td>\n",
       "      <td>AU TRAIN TOWNSHIP; 1</td>\n",
       "      <td>199</td>\n",
       "      <td>6</td>\n",
       "      <td>28</td>\n",
       "      <td>396</td>\n",
       "    </tr>\n",
       "    <tr>\n",
       "      <th>14</th>\n",
       "      <td>Alger County</td>\n",
       "      <td>26003</td>\n",
       "      <td>BURT TOWNSHIP; 1</td>\n",
       "      <td>101</td>\n",
       "      <td>6</td>\n",
       "      <td>16</td>\n",
       "      <td>200</td>\n",
       "    </tr>\n",
       "    <tr>\n",
       "      <th>15</th>\n",
       "      <td>Alger County</td>\n",
       "      <td>26003</td>\n",
       "      <td>GRAND ISLAND TOWNSHIP; 1</td>\n",
       "      <td>15</td>\n",
       "      <td>0</td>\n",
       "      <td>2</td>\n",
       "      <td>9</td>\n",
       "    </tr>\n",
       "    <tr>\n",
       "      <th>16</th>\n",
       "      <td>Alger County</td>\n",
       "      <td>26003</td>\n",
       "      <td>LIMESTONE TOWNSHIP; 1</td>\n",
       "      <td>75</td>\n",
       "      <td>3</td>\n",
       "      <td>7</td>\n",
       "      <td>135</td>\n",
       "    </tr>\n",
       "    <tr>\n",
       "      <th>17</th>\n",
       "      <td>Alger County</td>\n",
       "      <td>26003</td>\n",
       "      <td>MATHIAS TOWNSHIP; 1</td>\n",
       "      <td>111</td>\n",
       "      <td>3</td>\n",
       "      <td>11</td>\n",
       "      <td>108</td>\n",
       "    </tr>\n",
       "    <tr>\n",
       "      <th>18</th>\n",
       "      <td>Alger County</td>\n",
       "      <td>26003</td>\n",
       "      <td>MUNISING CITY; 1</td>\n",
       "      <td>441</td>\n",
       "      <td>23</td>\n",
       "      <td>42</td>\n",
       "      <td>518</td>\n",
       "    </tr>\n",
       "    <tr>\n",
       "      <th>19</th>\n",
       "      <td>Alger County</td>\n",
       "      <td>26003</td>\n",
       "      <td>MUNISING TOWNSHIP; 1</td>\n",
       "      <td>166</td>\n",
       "      <td>6</td>\n",
       "      <td>18</td>\n",
       "      <td>345</td>\n",
       "    </tr>\n",
       "    <tr>\n",
       "      <th>20</th>\n",
       "      <td>Alger County</td>\n",
       "      <td>26003</td>\n",
       "      <td>MUNISING TOWNSHIP; 2</td>\n",
       "      <td>158</td>\n",
       "      <td>6</td>\n",
       "      <td>13</td>\n",
       "      <td>422</td>\n",
       "    </tr>\n",
       "    <tr>\n",
       "      <th>21</th>\n",
       "      <td>Alger County</td>\n",
       "      <td>26003</td>\n",
       "      <td>ONOTA TOWNSHIP; 1</td>\n",
       "      <td>121</td>\n",
       "      <td>4</td>\n",
       "      <td>13</td>\n",
       "      <td>138</td>\n",
       "    </tr>\n",
       "    <tr>\n",
       "      <th>22</th>\n",
       "      <td>Alger County</td>\n",
       "      <td>26003</td>\n",
       "      <td>ROCK RIVER TOWNSHIP; 1</td>\n",
       "      <td>276</td>\n",
       "      <td>10</td>\n",
       "      <td>27</td>\n",
       "      <td>314</td>\n",
       "    </tr>\n",
       "    <tr>\n",
       "      <th>23</th>\n",
       "      <td>Alger County</td>\n",
       "      <td>26003</td>\n",
       "      <td>Statistical Adjustments</td>\n",
       "      <td>0</td>\n",
       "      <td>0</td>\n",
       "      <td>0</td>\n",
       "      <td>0</td>\n",
       "    </tr>\n",
       "  </tbody>\n",
       "</table>\n",
       "</div>"
      ],
      "text/plain": [
       "        county_name county_fips                  precinct      votes        \\\n",
       "party                                                     democratic green   \n",
       "13     Alger County       26003      AU TRAIN TOWNSHIP; 1        199     6   \n",
       "14     Alger County       26003          BURT TOWNSHIP; 1        101     6   \n",
       "15     Alger County       26003  GRAND ISLAND TOWNSHIP; 1         15     0   \n",
       "16     Alger County       26003     LIMESTONE TOWNSHIP; 1         75     3   \n",
       "17     Alger County       26003       MATHIAS TOWNSHIP; 1        111     3   \n",
       "18     Alger County       26003          MUNISING CITY; 1        441    23   \n",
       "19     Alger County       26003      MUNISING TOWNSHIP; 1        166     6   \n",
       "20     Alger County       26003      MUNISING TOWNSHIP; 2        158     6   \n",
       "21     Alger County       26003         ONOTA TOWNSHIP; 1        121     4   \n",
       "22     Alger County       26003    ROCK RIVER TOWNSHIP; 1        276    10   \n",
       "23     Alger County       26003   Statistical Adjustments          0     0   \n",
       "\n",
       "                              \n",
       "party libertarian republican  \n",
       "13             28        396  \n",
       "14             16        200  \n",
       "15              2          9  \n",
       "16              7        135  \n",
       "17             11        108  \n",
       "18             42        518  \n",
       "19             18        345  \n",
       "20             13        422  \n",
       "21             13        138  \n",
       "22             27        314  \n",
       "23              0          0  "
      ]
     },
     "execution_count": 57,
     "metadata": {},
     "output_type": "execute_result"
    }
   ],
   "source": [
    "#See how the election data is presented for example county\n",
    "newdf = df[df['county_name'] == 'Alger County']\n",
    "newdf"
   ]
  },
  {
   "cell_type": "markdown",
   "metadata": {},
   "source": [
    "**Remove Statistical Adjustment** rows from dataset to just get the votes"
   ]
  },
  {
   "cell_type": "code",
   "execution_count": 58,
   "metadata": {},
   "outputs": [
    {
     "data": {
      "text/plain": [
       "(56, 7)"
      ]
     },
     "execution_count": 58,
     "metadata": {},
     "output_type": "execute_result"
    }
   ],
   "source": [
    "mask = df[df.precinct == \"Statistical Adjustments\"]\n",
    "mask.shape"
   ]
  },
  {
   "cell_type": "code",
   "execution_count": 59,
   "metadata": {},
   "outputs": [
    {
     "data": {
      "text/html": [
       "<div>\n",
       "<style scoped>\n",
       "    .dataframe tbody tr th:only-of-type {\n",
       "        vertical-align: middle;\n",
       "    }\n",
       "\n",
       "    .dataframe tbody tr th {\n",
       "        vertical-align: top;\n",
       "    }\n",
       "\n",
       "    .dataframe thead tr th {\n",
       "        text-align: left;\n",
       "    }\n",
       "</style>\n",
       "<table border=\"1\" class=\"dataframe\">\n",
       "  <thead>\n",
       "    <tr>\n",
       "      <th></th>\n",
       "      <th>county_name</th>\n",
       "      <th>county_fips</th>\n",
       "      <th>precinct</th>\n",
       "      <th colspan=\"4\" halign=\"left\">votes</th>\n",
       "    </tr>\n",
       "    <tr>\n",
       "      <th>party</th>\n",
       "      <th></th>\n",
       "      <th></th>\n",
       "      <th></th>\n",
       "      <th>democratic</th>\n",
       "      <th>green</th>\n",
       "      <th>libertarian</th>\n",
       "      <th>republican</th>\n",
       "    </tr>\n",
       "  </thead>\n",
       "  <tbody>\n",
       "    <tr>\n",
       "      <th>0</th>\n",
       "      <td>Alcona County</td>\n",
       "      <td>26001</td>\n",
       "      <td>ALCONA TOWNSHIP; 1</td>\n",
       "      <td>199</td>\n",
       "      <td>2</td>\n",
       "      <td>13</td>\n",
       "      <td>500</td>\n",
       "    </tr>\n",
       "    <tr>\n",
       "      <th>1</th>\n",
       "      <td>Alcona County</td>\n",
       "      <td>26001</td>\n",
       "      <td>CALEDONIA TOWNSHIP; 1</td>\n",
       "      <td>178</td>\n",
       "      <td>4</td>\n",
       "      <td>14</td>\n",
       "      <td>441</td>\n",
       "    </tr>\n",
       "    <tr>\n",
       "      <th>2</th>\n",
       "      <td>Alcona County</td>\n",
       "      <td>26001</td>\n",
       "      <td>CURTIS TOWNSHIP; 1</td>\n",
       "      <td>214</td>\n",
       "      <td>13</td>\n",
       "      <td>8</td>\n",
       "      <td>401</td>\n",
       "    </tr>\n",
       "    <tr>\n",
       "      <th>3</th>\n",
       "      <td>Alcona County</td>\n",
       "      <td>26001</td>\n",
       "      <td>GREENBUSH TOWNSHIP; 1</td>\n",
       "      <td>256</td>\n",
       "      <td>4</td>\n",
       "      <td>22</td>\n",
       "      <td>501</td>\n",
       "    </tr>\n",
       "    <tr>\n",
       "      <th>4</th>\n",
       "      <td>Alcona County</td>\n",
       "      <td>26001</td>\n",
       "      <td>GUSTIN TOWNSHIP; 1</td>\n",
       "      <td>80</td>\n",
       "      <td>6</td>\n",
       "      <td>16</td>\n",
       "      <td>249</td>\n",
       "    </tr>\n",
       "    <tr>\n",
       "      <th>...</th>\n",
       "      <td>...</td>\n",
       "      <td>...</td>\n",
       "      <td>...</td>\n",
       "      <td>...</td>\n",
       "      <td>...</td>\n",
       "      <td>...</td>\n",
       "      <td>...</td>\n",
       "    </tr>\n",
       "    <tr>\n",
       "      <th>5071</th>\n",
       "      <td>Wexford County</td>\n",
       "      <td>26165</td>\n",
       "      <td>SELMA TOWNSHIP; 1</td>\n",
       "      <td>322</td>\n",
       "      <td>14</td>\n",
       "      <td>36</td>\n",
       "      <td>729</td>\n",
       "    </tr>\n",
       "    <tr>\n",
       "      <th>5072</th>\n",
       "      <td>Wexford County</td>\n",
       "      <td>26165</td>\n",
       "      <td>SLAGLE TOWNSHIP; 1</td>\n",
       "      <td>92</td>\n",
       "      <td>0</td>\n",
       "      <td>12</td>\n",
       "      <td>179</td>\n",
       "    </tr>\n",
       "    <tr>\n",
       "      <th>5073</th>\n",
       "      <td>Wexford County</td>\n",
       "      <td>26165</td>\n",
       "      <td>SOUTH BRANCH TOWNSHIP; 1</td>\n",
       "      <td>76</td>\n",
       "      <td>3</td>\n",
       "      <td>5</td>\n",
       "      <td>127</td>\n",
       "    </tr>\n",
       "    <tr>\n",
       "      <th>5074</th>\n",
       "      <td>Wexford County</td>\n",
       "      <td>26165</td>\n",
       "      <td>SPRINGVILLE TOWNSHIP; 1</td>\n",
       "      <td>176</td>\n",
       "      <td>10</td>\n",
       "      <td>28</td>\n",
       "      <td>494</td>\n",
       "    </tr>\n",
       "    <tr>\n",
       "      <th>5076</th>\n",
       "      <td>Wexford County</td>\n",
       "      <td>26165</td>\n",
       "      <td>WEXFORD TOWNSHIP; 1</td>\n",
       "      <td>110</td>\n",
       "      <td>7</td>\n",
       "      <td>17</td>\n",
       "      <td>357</td>\n",
       "    </tr>\n",
       "  </tbody>\n",
       "</table>\n",
       "<p>5021 rows × 7 columns</p>\n",
       "</div>"
      ],
      "text/plain": [
       "          county_name county_fips                  precinct      votes        \\\n",
       "party                                                       democratic green   \n",
       "0       Alcona County       26001        ALCONA TOWNSHIP; 1        199     2   \n",
       "1       Alcona County       26001     CALEDONIA TOWNSHIP; 1        178     4   \n",
       "2       Alcona County       26001        CURTIS TOWNSHIP; 1        214    13   \n",
       "3       Alcona County       26001     GREENBUSH TOWNSHIP; 1        256     4   \n",
       "4       Alcona County       26001        GUSTIN TOWNSHIP; 1         80     6   \n",
       "...               ...         ...                       ...        ...   ...   \n",
       "5071   Wexford County       26165         SELMA TOWNSHIP; 1        322    14   \n",
       "5072   Wexford County       26165        SLAGLE TOWNSHIP; 1         92     0   \n",
       "5073   Wexford County       26165  SOUTH BRANCH TOWNSHIP; 1         76     3   \n",
       "5074   Wexford County       26165   SPRINGVILLE TOWNSHIP; 1        176    10   \n",
       "5076   Wexford County       26165       WEXFORD TOWNSHIP; 1        110     7   \n",
       "\n",
       "                              \n",
       "party libertarian republican  \n",
       "0              13        500  \n",
       "1              14        441  \n",
       "2               8        401  \n",
       "3              22        501  \n",
       "4              16        249  \n",
       "...           ...        ...  \n",
       "5071           36        729  \n",
       "5072           12        179  \n",
       "5073            5        127  \n",
       "5074           28        494  \n",
       "5076           17        357  \n",
       "\n",
       "[5021 rows x 7 columns]"
      ]
     },
     "execution_count": 59,
     "metadata": {},
     "output_type": "execute_result"
    }
   ],
   "source": [
    "#mask to remove statistical adjustment - filter on false\n",
    "remove_stat_adjust = df[(df.precinct != 'Statistical Adjustments')]\n",
    "remove_stat_adjust"
   ]
  },
  {
   "cell_type": "code",
   "execution_count": 60,
   "metadata": {},
   "outputs": [
    {
     "data": {
      "text/html": [
       "<div>\n",
       "<style scoped>\n",
       "    .dataframe tbody tr th:only-of-type {\n",
       "        vertical-align: middle;\n",
       "    }\n",
       "\n",
       "    .dataframe tbody tr th {\n",
       "        vertical-align: top;\n",
       "    }\n",
       "\n",
       "    .dataframe thead tr th {\n",
       "        text-align: left;\n",
       "    }\n",
       "</style>\n",
       "<table border=\"1\" class=\"dataframe\">\n",
       "  <thead>\n",
       "    <tr>\n",
       "      <th></th>\n",
       "      <th>county_name</th>\n",
       "      <th>county_fips</th>\n",
       "      <th>precinct</th>\n",
       "      <th colspan=\"4\" halign=\"left\">votes</th>\n",
       "    </tr>\n",
       "    <tr>\n",
       "      <th>party</th>\n",
       "      <th></th>\n",
       "      <th></th>\n",
       "      <th></th>\n",
       "      <th>democratic</th>\n",
       "      <th>green</th>\n",
       "      <th>libertarian</th>\n",
       "      <th>republican</th>\n",
       "    </tr>\n",
       "  </thead>\n",
       "  <tbody>\n",
       "    <tr>\n",
       "      <th>0</th>\n",
       "      <td>Alcona County</td>\n",
       "      <td>26001</td>\n",
       "      <td>ALCONA TOWNSHIP; 1</td>\n",
       "      <td>199</td>\n",
       "      <td>2</td>\n",
       "      <td>13</td>\n",
       "      <td>500</td>\n",
       "    </tr>\n",
       "    <tr>\n",
       "      <th>1</th>\n",
       "      <td>Alcona County</td>\n",
       "      <td>26001</td>\n",
       "      <td>CALEDONIA TOWNSHIP; 1</td>\n",
       "      <td>178</td>\n",
       "      <td>4</td>\n",
       "      <td>14</td>\n",
       "      <td>441</td>\n",
       "    </tr>\n",
       "    <tr>\n",
       "      <th>2</th>\n",
       "      <td>Alcona County</td>\n",
       "      <td>26001</td>\n",
       "      <td>CURTIS TOWNSHIP; 1</td>\n",
       "      <td>214</td>\n",
       "      <td>13</td>\n",
       "      <td>8</td>\n",
       "      <td>401</td>\n",
       "    </tr>\n",
       "    <tr>\n",
       "      <th>3</th>\n",
       "      <td>Alcona County</td>\n",
       "      <td>26001</td>\n",
       "      <td>GREENBUSH TOWNSHIP; 1</td>\n",
       "      <td>256</td>\n",
       "      <td>4</td>\n",
       "      <td>22</td>\n",
       "      <td>501</td>\n",
       "    </tr>\n",
       "    <tr>\n",
       "      <th>4</th>\n",
       "      <td>Alcona County</td>\n",
       "      <td>26001</td>\n",
       "      <td>GUSTIN TOWNSHIP; 1</td>\n",
       "      <td>80</td>\n",
       "      <td>6</td>\n",
       "      <td>16</td>\n",
       "      <td>249</td>\n",
       "    </tr>\n",
       "    <tr>\n",
       "      <th>5</th>\n",
       "      <td>Alcona County</td>\n",
       "      <td>26001</td>\n",
       "      <td>HARRISVILLE CITY; Ward 1; Precinct 1</td>\n",
       "      <td>98</td>\n",
       "      <td>4</td>\n",
       "      <td>16</td>\n",
       "      <td>137</td>\n",
       "    </tr>\n",
       "    <tr>\n",
       "      <th>6</th>\n",
       "      <td>Alcona County</td>\n",
       "      <td>26001</td>\n",
       "      <td>HARRISVILLE TOWNSHIP; 1</td>\n",
       "      <td>216</td>\n",
       "      <td>6</td>\n",
       "      <td>21</td>\n",
       "      <td>541</td>\n",
       "    </tr>\n",
       "    <tr>\n",
       "      <th>7</th>\n",
       "      <td>Alcona County</td>\n",
       "      <td>26001</td>\n",
       "      <td>HAWES TOWNSHIP; 1</td>\n",
       "      <td>160</td>\n",
       "      <td>4</td>\n",
       "      <td>22</td>\n",
       "      <td>417</td>\n",
       "    </tr>\n",
       "    <tr>\n",
       "      <th>8</th>\n",
       "      <td>Alcona County</td>\n",
       "      <td>26001</td>\n",
       "      <td>HAYNES TOWNSHIP; 1</td>\n",
       "      <td>121</td>\n",
       "      <td>3</td>\n",
       "      <td>14</td>\n",
       "      <td>318</td>\n",
       "    </tr>\n",
       "    <tr>\n",
       "      <th>9</th>\n",
       "      <td>Alcona County</td>\n",
       "      <td>26001</td>\n",
       "      <td>MIKADO TOWNSHIP; 1</td>\n",
       "      <td>96</td>\n",
       "      <td>4</td>\n",
       "      <td>11</td>\n",
       "      <td>382</td>\n",
       "    </tr>\n",
       "    <tr>\n",
       "      <th>10</th>\n",
       "      <td>Alcona County</td>\n",
       "      <td>26001</td>\n",
       "      <td>MILLEN TOWNSHIP; 1</td>\n",
       "      <td>72</td>\n",
       "      <td>3</td>\n",
       "      <td>2</td>\n",
       "      <td>135</td>\n",
       "    </tr>\n",
       "    <tr>\n",
       "      <th>11</th>\n",
       "      <td>Alcona County</td>\n",
       "      <td>26001</td>\n",
       "      <td>MITCHELL TOWNSHIP; 1</td>\n",
       "      <td>42</td>\n",
       "      <td>1</td>\n",
       "      <td>5</td>\n",
       "      <td>179</td>\n",
       "    </tr>\n",
       "  </tbody>\n",
       "</table>\n",
       "</div>"
      ],
      "text/plain": [
       "         county_name county_fips                              precinct  \\\n",
       "party                                                                    \n",
       "0      Alcona County       26001                    ALCONA TOWNSHIP; 1   \n",
       "1      Alcona County       26001                 CALEDONIA TOWNSHIP; 1   \n",
       "2      Alcona County       26001                    CURTIS TOWNSHIP; 1   \n",
       "3      Alcona County       26001                 GREENBUSH TOWNSHIP; 1   \n",
       "4      Alcona County       26001                    GUSTIN TOWNSHIP; 1   \n",
       "5      Alcona County       26001  HARRISVILLE CITY; Ward 1; Precinct 1   \n",
       "6      Alcona County       26001               HARRISVILLE TOWNSHIP; 1   \n",
       "7      Alcona County       26001                     HAWES TOWNSHIP; 1   \n",
       "8      Alcona County       26001                    HAYNES TOWNSHIP; 1   \n",
       "9      Alcona County       26001                    MIKADO TOWNSHIP; 1   \n",
       "10     Alcona County       26001                    MILLEN TOWNSHIP; 1   \n",
       "11     Alcona County       26001                  MITCHELL TOWNSHIP; 1   \n",
       "\n",
       "           votes                               \n",
       "party democratic green libertarian republican  \n",
       "0            199     2          13        500  \n",
       "1            178     4          14        441  \n",
       "2            214    13           8        401  \n",
       "3            256     4          22        501  \n",
       "4             80     6          16        249  \n",
       "5             98     4          16        137  \n",
       "6            216     6          21        541  \n",
       "7            160     4          22        417  \n",
       "8            121     3          14        318  \n",
       "9             96     4          11        382  \n",
       "10            72     3           2        135  \n",
       "11            42     1           5        179  "
      ]
     },
     "execution_count": 60,
     "metadata": {},
     "output_type": "execute_result"
    }
   ],
   "source": [
    "remove_stat_adjust[(remove_stat_adjust.county_name == 'Alcona County')]"
   ]
  },
  {
   "cell_type": "code",
   "execution_count": 61,
   "metadata": {},
   "outputs": [
    {
     "data": {
      "text/plain": [
       "(5077, 7)"
      ]
     },
     "execution_count": 61,
     "metadata": {},
     "output_type": "execute_result"
    }
   ],
   "source": [
    "df.shape"
   ]
  },
  {
   "cell_type": "code",
   "execution_count": 62,
   "metadata": {},
   "outputs": [
    {
     "data": {
      "text/plain": [
       "             party      \n",
       "county_name                 Alcona CountyAlcona CountyAlcona CountyAlcona ...\n",
       "county_fips                 2600126001260012600126001260012600126001260012...\n",
       "precinct                    ALCONA TOWNSHIP; 1CALEDONIA TOWNSHIP; 1CURTIS ...\n",
       "votes        democratic                                               2268839\n",
       "             green                                                      51463\n",
       "             libertarian                                               172136\n",
       "             republican                                               2279543\n",
       "dtype: object"
      ]
     },
     "execution_count": 62,
     "metadata": {},
     "output_type": "execute_result"
    }
   ],
   "source": [
    "#Column sums - see election results by party\n",
    "df.sum()"
   ]
  },
  {
   "cell_type": "code",
   "execution_count": 63,
   "metadata": {},
   "outputs": [],
   "source": [
    "#Evaluating data, looking to account for differences\n",
    "##for precinct in mi_precinct_election['precinct']:\n",
    "  ##  if 'Ward' in precinct:\n",
    "    ##    print(precinct)\n",
    "    #Run this to see output"
   ]
  },
  {
   "cell_type": "code",
   "execution_count": 64,
   "metadata": {},
   "outputs": [],
   "source": [
    "df.to_csv('mi_election_results_pivoted.csv')"
   ]
  },
  {
   "cell_type": "markdown",
   "metadata": {},
   "source": [
    "## Trying to join things -adriana"
   ]
  },
  {
   "cell_type": "code",
   "execution_count": 65,
   "metadata": {},
   "outputs": [
    {
     "name": "stdout",
     "output_type": "stream",
     "text": [
      "         county_name county_fips               precinct      votes        \\\n",
      "party                                                   democratic green   \n",
      "0      Alcona County       26001     ALCONA TOWNSHIP; 1        199     2   \n",
      "1      Alcona County       26001  CALEDONIA TOWNSHIP; 1        178     4   \n",
      "2      Alcona County       26001     CURTIS TOWNSHIP; 1        214    13   \n",
      "\n",
      "                              \n",
      "party libertarian republican  \n",
      "0              13        500  \n",
      "1              14        441  \n",
      "2               8        401  \n",
      "   OBJECTID    Id        VTD2016 CountyFips Jurisdicti  ElectionYe  \\\n",
      "0         1  3888  1632100000001        163      21000        2016   \n",
      "1         2  3889  1632100000002        163      21000        2016   \n",
      "2         3  3890  1632100000003        163      21000        2016   \n",
      "\n",
      "              Label    ShapeSTAre   ShapeSTLen  \\\n",
      "0  DEARBORN CITY; 1  2.489738e+06  6846.254657   \n",
      "1  DEARBORN CITY; 2  1.058362e+06  4621.388992   \n",
      "2  DEARBORN CITY; 3  1.488846e+06  4909.715171   \n",
      "\n",
      "                                            geometry  \n",
      "0  POLYGON ((734740.564 203392.197, 734729.230 20...  \n",
      "1  POLYGON ((733757.240 203553.421, 733767.280 20...  \n",
      "2  POLYGON ((733220.680 203094.269, 733125.455 20...  \n"
     ]
    }
   ],
   "source": [
    "print(df.head(3))\n",
    "print(gdf.head(3))"
   ]
  },
  {
   "cell_type": "markdown",
   "metadata": {},
   "source": [
    "Remove the multi-tiering from the election results df"
   ]
  },
  {
   "cell_type": "code",
   "execution_count": 66,
   "metadata": {},
   "outputs": [
    {
     "data": {
      "text/html": [
       "<div>\n",
       "<style scoped>\n",
       "    .dataframe tbody tr th:only-of-type {\n",
       "        vertical-align: middle;\n",
       "    }\n",
       "\n",
       "    .dataframe tbody tr th {\n",
       "        vertical-align: top;\n",
       "    }\n",
       "\n",
       "    .dataframe thead th {\n",
       "        text-align: right;\n",
       "    }\n",
       "</style>\n",
       "<table border=\"1\" class=\"dataframe\">\n",
       "  <thead>\n",
       "    <tr style=\"text-align: right;\">\n",
       "      <th></th>\n",
       "      <th>county_name</th>\n",
       "      <th>county_fips</th>\n",
       "      <th>precinct</th>\n",
       "      <th>votes_democratic</th>\n",
       "      <th>votes_green</th>\n",
       "      <th>votes_libertarian</th>\n",
       "      <th>votes_republican</th>\n",
       "    </tr>\n",
       "  </thead>\n",
       "  <tbody>\n",
       "    <tr>\n",
       "      <th>0</th>\n",
       "      <td>Alcona County</td>\n",
       "      <td>26001</td>\n",
       "      <td>ALCONA TOWNSHIP; 1</td>\n",
       "      <td>199</td>\n",
       "      <td>2</td>\n",
       "      <td>13</td>\n",
       "      <td>500</td>\n",
       "    </tr>\n",
       "    <tr>\n",
       "      <th>1</th>\n",
       "      <td>Alcona County</td>\n",
       "      <td>26001</td>\n",
       "      <td>CALEDONIA TOWNSHIP; 1</td>\n",
       "      <td>178</td>\n",
       "      <td>4</td>\n",
       "      <td>14</td>\n",
       "      <td>441</td>\n",
       "    </tr>\n",
       "    <tr>\n",
       "      <th>2</th>\n",
       "      <td>Alcona County</td>\n",
       "      <td>26001</td>\n",
       "      <td>CURTIS TOWNSHIP; 1</td>\n",
       "      <td>214</td>\n",
       "      <td>13</td>\n",
       "      <td>8</td>\n",
       "      <td>401</td>\n",
       "    </tr>\n",
       "  </tbody>\n",
       "</table>\n",
       "</div>"
      ],
      "text/plain": [
       "     county_name county_fips               precinct  votes_democratic  \\\n",
       "0  Alcona County       26001     ALCONA TOWNSHIP; 1               199   \n",
       "1  Alcona County       26001  CALEDONIA TOWNSHIP; 1               178   \n",
       "2  Alcona County       26001     CURTIS TOWNSHIP; 1               214   \n",
       "\n",
       "   votes_green  votes_libertarian  votes_republican  \n",
       "0            2                 13               500  \n",
       "1            4                 14               441  \n",
       "2           13                  8               401  "
      ]
     },
     "execution_count": 66,
     "metadata": {},
     "output_type": "execute_result"
    }
   ],
   "source": [
    "df.columns = ['county_name',\n",
    " 'county_fips',\n",
    " 'precinct',\n",
    " 'votes_democratic',\n",
    " 'votes_green',\n",
    " 'votes_libertarian',\n",
    " 'votes_republican']\n",
    "df.head(3)\n"
   ]
  },
  {
   "cell_type": "markdown",
   "metadata": {},
   "source": [
    "Seeing if the remove_state_adjust is the one with 'Statistical Adjustments' removed - if so, use that one. Looks good. "
   ]
  },
  {
   "cell_type": "code",
   "execution_count": 67,
   "metadata": {},
   "outputs": [
    {
     "name": "stdout",
     "output_type": "stream",
     "text": [
      "         county_name county_fips               precinct      votes        \\\n",
      "party                                                   democratic green   \n",
      "0      Alcona County       26001     ALCONA TOWNSHIP; 1        199     2   \n",
      "1      Alcona County       26001  CALEDONIA TOWNSHIP; 1        178     4   \n",
      "2      Alcona County       26001     CURTIS TOWNSHIP; 1        214    13   \n",
      "\n",
      "                              \n",
      "party libertarian republican  \n",
      "0              13        500  \n",
      "1              14        441  \n",
      "2               8        401  \n",
      "Empty DataFrame\n",
      "Columns: [(county_name, ), (county_fips, ), (precinct, ), (votes, democratic), (votes, green), (votes, libertarian), (votes, republican)]\n",
      "Index: []\n"
     ]
    }
   ],
   "source": [
    "df = remove_stat_adjust\n",
    "print(df.head(3))\n",
    "print(df.loc[df['precinct'] == 'Statistical Adjustments'].head(3))"
   ]
  },
  {
   "cell_type": "markdown",
   "metadata": {},
   "source": [
    "Removing the '26' state fips prefix in county_fips from the election results df"
   ]
  },
  {
   "cell_type": "code",
   "execution_count": 68,
   "metadata": {},
   "outputs": [
    {
     "name": "stdout",
     "output_type": "stream",
     "text": [
      "         county_name county_fips               precinct      votes        \\\n",
      "party                                                   democratic green   \n",
      "0      Alcona County         001     ALCONA TOWNSHIP; 1        199     2   \n",
      "1      Alcona County         001  CALEDONIA TOWNSHIP; 1        178     4   \n",
      "2      Alcona County         001     CURTIS TOWNSHIP; 1        214    13   \n",
      "3      Alcona County         001  GREENBUSH TOWNSHIP; 1        256     4   \n",
      "4      Alcona County         001     GUSTIN TOWNSHIP; 1         80     6   \n",
      "\n",
      "                              \n",
      "party libertarian republican  \n",
      "0              13        500  \n",
      "1              14        441  \n",
      "2               8        401  \n",
      "3              22        501  \n",
      "4              16        249  \n"
     ]
    },
    {
     "name": "stderr",
     "output_type": "stream",
     "text": [
      "<ipython-input-68-8cc170427a13>:1: SettingWithCopyWarning: \n",
      "A value is trying to be set on a copy of a slice from a DataFrame.\n",
      "Try using .loc[row_indexer,col_indexer] = value instead\n",
      "\n",
      "See the caveats in the documentation: https://pandas.pydata.org/pandas-docs/stable/user_guide/indexing.html#returning-a-view-versus-a-copy\n",
      "  df['county_fips'] = df['county_fips'].str[2:]\n"
     ]
    }
   ],
   "source": [
    "df['county_fips'] = df['county_fips'].str[2:]\n",
    "print(df.head())"
   ]
  },
  {
   "cell_type": "markdown",
   "metadata": {},
   "source": [
    "Checking that the county fips in both the election results and precincts looks good. They do. "
   ]
  },
  {
   "cell_type": "code",
   "execution_count": 69,
   "metadata": {},
   "outputs": [
    {
     "name": "stdout",
     "output_type": "stream",
     "text": [
      "['001', '003', '005', '007', '009', '011', '013', '015', '017', '019', '021', '023', '025', '027', '029', '031', '033', '035', '037', '039', '041', '043', '045', '047', '049', '051', '053', '055', '057', '059', '061', '063', '065', '067', '069', '071', '073', '075', '077', '079', '081', '083', '085', '087', '089', '091', '093', '095', '097', '099', '101', '103', '105', '107', '109', '111', '113', '115', '117', '119', '121', '123', '125', '127', '129', '131', '133', '135', '137', '139', '141', '143', '145', '147', '149', '151', '153', '155', '157', '159', '161', '163', '165']\n",
      "['001', '003', '005', '007', '009', '011', '013', '015', '017', '019', '021', '023', '025', '027', '029', '031', '033', '035', '037', '039', '041', '043', '045', '047', '049', '051', '053', '055', '057', '059', '061', '063', '065', '067', '069', '071', '073', '075', '077', '079', '081', '083', '085', '087', '089', '091', '093', '095', '097', '099', '101', '103', '105', '107', '109', '111', '113', '115', '117', '119', '121', '123', '125', '127', '129', '131', '133', '135', '137', '139', '141', '143', '145', '147', '149', '151', '153', '155', '157', '159', '161', '163', '165']\n",
      "county_fips\n",
      "001      12\n",
      "003      10\n",
      "005      46\n",
      "007      17\n",
      "009      16\n",
      "       ... \n",
      "157      31\n",
      "159      33\n",
      "161     141\n",
      "163    1171\n",
      "165      20\n",
      "Name: precinct, Length: 83, dtype: int64\n",
      "CountyFips\n",
      "001     12\n",
      "003     10\n",
      "005     46\n",
      "007     17\n",
      "009     16\n",
      "      ... \n",
      "157     31\n",
      "159     33\n",
      "161    141\n",
      "163    999\n",
      "165     20\n",
      "Name: Label, Length: 83, dtype: int64\n"
     ]
    }
   ],
   "source": [
    "print(sorted(df['county_fips'].unique()))\n",
    "print(sorted(gdf['CountyFips'].unique()))\n",
    "print(df.groupby('county_fips').precinct.nunique())\n",
    "print(gdf.groupby('CountyFips').Label.nunique())"
   ]
  },
  {
   "cell_type": "markdown",
   "metadata": {},
   "source": [
    "Saving the # of unique precincts by county into csvs to compare.. they look really similar. "
   ]
  },
  {
   "cell_type": "code",
   "execution_count": 70,
   "metadata": {},
   "outputs": [],
   "source": [
    "df.groupby('county_fips').precinct.nunique().to_csv('election_result_precincts_by_county.csv')\n",
    "gdf.groupby('CountyFips').Label.nunique().to_csv('shapefile_precincts_by_county.csv')"
   ]
  },
  {
   "cell_type": "markdown",
   "metadata": {},
   "source": [
    "Make Label and Precinct uppercase in both DFs so that they join. "
   ]
  },
  {
   "cell_type": "code",
   "execution_count": 71,
   "metadata": {},
   "outputs": [
    {
     "name": "stdout",
     "output_type": "stream",
     "text": [
      "         county_name county_fips               precinct      votes        \\\n",
      "party                                                   democratic green   \n",
      "0      Alcona County         001     ALCONA TOWNSHIP; 1        199     2   \n",
      "1      Alcona County         001  CALEDONIA TOWNSHIP; 1        178     4   \n",
      "2      Alcona County         001     CURTIS TOWNSHIP; 1        214    13   \n",
      "\n",
      "                              \n",
      "party libertarian republican  \n",
      "0              13        500  \n",
      "1              14        441  \n",
      "2               8        401  \n",
      "   OBJECTID    Id        VTD2016 CountyFips Jurisdicti  ElectionYe  \\\n",
      "0         1  3888  1632100000001        163      21000        2016   \n",
      "1         2  3889  1632100000002        163      21000        2016   \n",
      "2         3  3890  1632100000003        163      21000        2016   \n",
      "\n",
      "              Label    ShapeSTAre   ShapeSTLen  \\\n",
      "0  DEARBORN CITY; 1  2.489738e+06  6846.254657   \n",
      "1  DEARBORN CITY; 2  1.058362e+06  4621.388992   \n",
      "2  DEARBORN CITY; 3  1.488846e+06  4909.715171   \n",
      "\n",
      "                                            geometry  \n",
      "0  POLYGON ((734740.564 203392.197, 734729.230 20...  \n",
      "1  POLYGON ((733757.240 203553.421, 733767.280 20...  \n",
      "2  POLYGON ((733220.680 203094.269, 733125.455 20...  \n"
     ]
    },
    {
     "name": "stderr",
     "output_type": "stream",
     "text": [
      "<ipython-input-71-a086c4550184>:1: SettingWithCopyWarning: \n",
      "A value is trying to be set on a copy of a slice from a DataFrame.\n",
      "Try using .loc[row_indexer,col_indexer] = value instead\n",
      "\n",
      "See the caveats in the documentation: https://pandas.pydata.org/pandas-docs/stable/user_guide/indexing.html#returning-a-view-versus-a-copy\n",
      "  df['precinct'] = df['precinct'].str.upper()\n"
     ]
    }
   ],
   "source": [
    "df['precinct'] = df['precinct'].str.upper() \n",
    "gdf['Label'] = gdf['Label'].str.upper() \n",
    "print(df.head(3))\n",
    "print(gdf.head(3))"
   ]
  },
  {
   "cell_type": "markdown",
   "metadata": {},
   "source": [
    "Make a new column in each DF that is the unique combination of county fips and the precinct to join on. "
   ]
  },
  {
   "cell_type": "code",
   "execution_count": 72,
   "metadata": {},
   "outputs": [
    {
     "name": "stderr",
     "output_type": "stream",
     "text": [
      "<ipython-input-72-4c84e89071a2>:1: SettingWithCopyWarning: \n",
      "A value is trying to be set on a copy of a slice from a DataFrame.\n",
      "Try using .loc[row_indexer,col_indexer] = value instead\n",
      "\n",
      "See the caveats in the documentation: https://pandas.pydata.org/pandas-docs/stable/user_guide/indexing.html#returning-a-view-versus-a-copy\n",
      "  df['county_precinct'] = df['county_fips'] + df['precinct']\n"
     ]
    }
   ],
   "source": [
    "df['county_precinct'] = df['county_fips'] + df['precinct']\n",
    "gdf['county_precinct'] = gdf['CountyFips'] + gdf['Label']"
   ]
  },
  {
   "cell_type": "markdown",
   "metadata": {},
   "source": [
    "Check that everything is ready to merge.. "
   ]
  },
  {
   "cell_type": "code",
   "execution_count": 79,
   "metadata": {},
   "outputs": [
    {
     "data": {
      "text/html": [
       "<div>\n",
       "<style scoped>\n",
       "    .dataframe tbody tr th:only-of-type {\n",
       "        vertical-align: middle;\n",
       "    }\n",
       "\n",
       "    .dataframe tbody tr th {\n",
       "        vertical-align: top;\n",
       "    }\n",
       "\n",
       "    .dataframe thead th {\n",
       "        text-align: right;\n",
       "    }\n",
       "</style>\n",
       "<table border=\"1\" class=\"dataframe\">\n",
       "  <thead>\n",
       "    <tr style=\"text-align: right;\">\n",
       "      <th></th>\n",
       "      <th>county_name</th>\n",
       "      <th>county_fips</th>\n",
       "      <th>precinct</th>\n",
       "      <th>votes_democratic</th>\n",
       "      <th>votes_green</th>\n",
       "      <th>votes_libertarian</th>\n",
       "      <th>votes_republican</th>\n",
       "      <th>county_precinct</th>\n",
       "    </tr>\n",
       "  </thead>\n",
       "  <tbody>\n",
       "    <tr>\n",
       "      <th>0</th>\n",
       "      <td>Alcona County</td>\n",
       "      <td>001</td>\n",
       "      <td>ALCONA TOWNSHIP; 1</td>\n",
       "      <td>199</td>\n",
       "      <td>2</td>\n",
       "      <td>13</td>\n",
       "      <td>500</td>\n",
       "      <td>001ALCONA TOWNSHIP; 1</td>\n",
       "    </tr>\n",
       "    <tr>\n",
       "      <th>1</th>\n",
       "      <td>Alcona County</td>\n",
       "      <td>001</td>\n",
       "      <td>CALEDONIA TOWNSHIP; 1</td>\n",
       "      <td>178</td>\n",
       "      <td>4</td>\n",
       "      <td>14</td>\n",
       "      <td>441</td>\n",
       "      <td>001CALEDONIA TOWNSHIP; 1</td>\n",
       "    </tr>\n",
       "    <tr>\n",
       "      <th>2</th>\n",
       "      <td>Alcona County</td>\n",
       "      <td>001</td>\n",
       "      <td>CURTIS TOWNSHIP; 1</td>\n",
       "      <td>214</td>\n",
       "      <td>13</td>\n",
       "      <td>8</td>\n",
       "      <td>401</td>\n",
       "      <td>001CURTIS TOWNSHIP; 1</td>\n",
       "    </tr>\n",
       "  </tbody>\n",
       "</table>\n",
       "</div>"
      ],
      "text/plain": [
       "     county_name county_fips               precinct  votes_democratic  \\\n",
       "0  Alcona County         001     ALCONA TOWNSHIP; 1               199   \n",
       "1  Alcona County         001  CALEDONIA TOWNSHIP; 1               178   \n",
       "2  Alcona County         001     CURTIS TOWNSHIP; 1               214   \n",
       "\n",
       "   votes_green  votes_libertarian  votes_republican           county_precinct  \n",
       "0            2                 13               500     001ALCONA TOWNSHIP; 1  \n",
       "1            4                 14               441  001CALEDONIA TOWNSHIP; 1  \n",
       "2           13                  8               401     001CURTIS TOWNSHIP; 1  "
      ]
     },
     "execution_count": 79,
     "metadata": {},
     "output_type": "execute_result"
    }
   ],
   "source": [
    "df.columns = df.columns = ['county_name',\n",
    " 'county_fips',\n",
    " 'precinct',\n",
    " 'votes_democratic',\n",
    " 'votes_green',\n",
    " 'votes_libertarian',\n",
    " 'votes_republican', \n",
    " 'county_precinct']\n",
    "df.head(3)"
   ]
  },
  {
   "cell_type": "code",
   "execution_count": 80,
   "metadata": {},
   "outputs": [
    {
     "data": {
      "text/html": [
       "<div>\n",
       "<style scoped>\n",
       "    .dataframe tbody tr th:only-of-type {\n",
       "        vertical-align: middle;\n",
       "    }\n",
       "\n",
       "    .dataframe tbody tr th {\n",
       "        vertical-align: top;\n",
       "    }\n",
       "\n",
       "    .dataframe thead th {\n",
       "        text-align: right;\n",
       "    }\n",
       "</style>\n",
       "<table border=\"1\" class=\"dataframe\">\n",
       "  <thead>\n",
       "    <tr style=\"text-align: right;\">\n",
       "      <th></th>\n",
       "      <th>OBJECTID</th>\n",
       "      <th>Id</th>\n",
       "      <th>VTD2016</th>\n",
       "      <th>CountyFips</th>\n",
       "      <th>Jurisdicti</th>\n",
       "      <th>ElectionYe</th>\n",
       "      <th>Label</th>\n",
       "      <th>ShapeSTAre</th>\n",
       "      <th>ShapeSTLen</th>\n",
       "      <th>geometry</th>\n",
       "      <th>county_precinct</th>\n",
       "    </tr>\n",
       "  </thead>\n",
       "  <tbody>\n",
       "    <tr>\n",
       "      <th>0</th>\n",
       "      <td>1</td>\n",
       "      <td>3888</td>\n",
       "      <td>1632100000001</td>\n",
       "      <td>163</td>\n",
       "      <td>21000</td>\n",
       "      <td>2016</td>\n",
       "      <td>DEARBORN CITY; 1</td>\n",
       "      <td>2.489738e+06</td>\n",
       "      <td>6846.254657</td>\n",
       "      <td>POLYGON ((734740.564 203392.197, 734729.230 20...</td>\n",
       "      <td>163DEARBORN CITY; 1</td>\n",
       "    </tr>\n",
       "    <tr>\n",
       "      <th>1</th>\n",
       "      <td>2</td>\n",
       "      <td>3889</td>\n",
       "      <td>1632100000002</td>\n",
       "      <td>163</td>\n",
       "      <td>21000</td>\n",
       "      <td>2016</td>\n",
       "      <td>DEARBORN CITY; 2</td>\n",
       "      <td>1.058362e+06</td>\n",
       "      <td>4621.388992</td>\n",
       "      <td>POLYGON ((733757.240 203553.421, 733767.280 20...</td>\n",
       "      <td>163DEARBORN CITY; 2</td>\n",
       "    </tr>\n",
       "    <tr>\n",
       "      <th>2</th>\n",
       "      <td>3</td>\n",
       "      <td>3890</td>\n",
       "      <td>1632100000003</td>\n",
       "      <td>163</td>\n",
       "      <td>21000</td>\n",
       "      <td>2016</td>\n",
       "      <td>DEARBORN CITY; 3</td>\n",
       "      <td>1.488846e+06</td>\n",
       "      <td>4909.715171</td>\n",
       "      <td>POLYGON ((733220.680 203094.269, 733125.455 20...</td>\n",
       "      <td>163DEARBORN CITY; 3</td>\n",
       "    </tr>\n",
       "  </tbody>\n",
       "</table>\n",
       "</div>"
      ],
      "text/plain": [
       "   OBJECTID    Id        VTD2016 CountyFips Jurisdicti  ElectionYe  \\\n",
       "0         1  3888  1632100000001        163      21000        2016   \n",
       "1         2  3889  1632100000002        163      21000        2016   \n",
       "2         3  3890  1632100000003        163      21000        2016   \n",
       "\n",
       "              Label    ShapeSTAre   ShapeSTLen  \\\n",
       "0  DEARBORN CITY; 1  2.489738e+06  6846.254657   \n",
       "1  DEARBORN CITY; 2  1.058362e+06  4621.388992   \n",
       "2  DEARBORN CITY; 3  1.488846e+06  4909.715171   \n",
       "\n",
       "                                            geometry      county_precinct  \n",
       "0  POLYGON ((734740.564 203392.197, 734729.230 20...  163DEARBORN CITY; 1  \n",
       "1  POLYGON ((733757.240 203553.421, 733767.280 20...  163DEARBORN CITY; 2  \n",
       "2  POLYGON ((733220.680 203094.269, 733125.455 20...  163DEARBORN CITY; 3  "
      ]
     },
     "execution_count": 80,
     "metadata": {},
     "output_type": "execute_result"
    }
   ],
   "source": [
    "gdf.head(3)"
   ]
  },
  {
   "cell_type": "markdown",
   "metadata": {},
   "source": [
    "Merge the two DFs - outer join so that we can see the mismatches between the two. "
   ]
  },
  {
   "cell_type": "code",
   "execution_count": 81,
   "metadata": {},
   "outputs": [],
   "source": [
    "df_merged_outer = gdf.merge(df, how = 'outer', on = 'county_precinct', indicator = True)"
   ]
  },
  {
   "cell_type": "markdown",
   "metadata": {},
   "source": [
    "See how things look after merge"
   ]
  },
  {
   "cell_type": "code",
   "execution_count": 82,
   "metadata": {},
   "outputs": [
    {
     "data": {
      "text/html": [
       "<div>\n",
       "<style scoped>\n",
       "    .dataframe tbody tr th:only-of-type {\n",
       "        vertical-align: middle;\n",
       "    }\n",
       "\n",
       "    .dataframe tbody tr th {\n",
       "        vertical-align: top;\n",
       "    }\n",
       "\n",
       "    .dataframe thead th {\n",
       "        text-align: right;\n",
       "    }\n",
       "</style>\n",
       "<table border=\"1\" class=\"dataframe\">\n",
       "  <thead>\n",
       "    <tr style=\"text-align: right;\">\n",
       "      <th></th>\n",
       "      <th>OBJECTID</th>\n",
       "      <th>Id</th>\n",
       "      <th>VTD2016</th>\n",
       "      <th>CountyFips</th>\n",
       "      <th>Jurisdicti</th>\n",
       "      <th>ElectionYe</th>\n",
       "      <th>Label</th>\n",
       "      <th>ShapeSTAre</th>\n",
       "      <th>ShapeSTLen</th>\n",
       "      <th>geometry</th>\n",
       "      <th>county_precinct</th>\n",
       "      <th>county_name</th>\n",
       "      <th>county_fips</th>\n",
       "      <th>precinct</th>\n",
       "      <th>votes_democratic</th>\n",
       "      <th>votes_green</th>\n",
       "      <th>votes_libertarian</th>\n",
       "      <th>votes_republican</th>\n",
       "      <th>_merge</th>\n",
       "    </tr>\n",
       "  </thead>\n",
       "  <tbody>\n",
       "    <tr>\n",
       "      <th>0</th>\n",
       "      <td>1.0</td>\n",
       "      <td>3888.0</td>\n",
       "      <td>1632100000001</td>\n",
       "      <td>163</td>\n",
       "      <td>21000</td>\n",
       "      <td>2016.0</td>\n",
       "      <td>DEARBORN CITY; 1</td>\n",
       "      <td>2.489738e+06</td>\n",
       "      <td>6846.254657</td>\n",
       "      <td>POLYGON ((734740.564 203392.197, 734729.230 20...</td>\n",
       "      <td>163DEARBORN CITY; 1</td>\n",
       "      <td>Wayne County</td>\n",
       "      <td>163</td>\n",
       "      <td>DEARBORN CITY; 1</td>\n",
       "      <td>581.0</td>\n",
       "      <td>17.0</td>\n",
       "      <td>11.0</td>\n",
       "      <td>93.0</td>\n",
       "      <td>both</td>\n",
       "    </tr>\n",
       "    <tr>\n",
       "      <th>1</th>\n",
       "      <td>2.0</td>\n",
       "      <td>3889.0</td>\n",
       "      <td>1632100000002</td>\n",
       "      <td>163</td>\n",
       "      <td>21000</td>\n",
       "      <td>2016.0</td>\n",
       "      <td>DEARBORN CITY; 2</td>\n",
       "      <td>1.058362e+06</td>\n",
       "      <td>4621.388992</td>\n",
       "      <td>POLYGON ((733757.240 203553.421, 733767.280 20...</td>\n",
       "      <td>163DEARBORN CITY; 2</td>\n",
       "      <td>Wayne County</td>\n",
       "      <td>163</td>\n",
       "      <td>DEARBORN CITY; 2</td>\n",
       "      <td>560.0</td>\n",
       "      <td>23.0</td>\n",
       "      <td>9.0</td>\n",
       "      <td>95.0</td>\n",
       "      <td>both</td>\n",
       "    </tr>\n",
       "    <tr>\n",
       "      <th>2</th>\n",
       "      <td>3.0</td>\n",
       "      <td>3890.0</td>\n",
       "      <td>1632100000003</td>\n",
       "      <td>163</td>\n",
       "      <td>21000</td>\n",
       "      <td>2016.0</td>\n",
       "      <td>DEARBORN CITY; 3</td>\n",
       "      <td>1.488846e+06</td>\n",
       "      <td>4909.715171</td>\n",
       "      <td>POLYGON ((733220.680 203094.269, 733125.455 20...</td>\n",
       "      <td>163DEARBORN CITY; 3</td>\n",
       "      <td>Wayne County</td>\n",
       "      <td>163</td>\n",
       "      <td>DEARBORN CITY; 3</td>\n",
       "      <td>756.0</td>\n",
       "      <td>52.0</td>\n",
       "      <td>13.0</td>\n",
       "      <td>171.0</td>\n",
       "      <td>both</td>\n",
       "    </tr>\n",
       "  </tbody>\n",
       "</table>\n",
       "</div>"
      ],
      "text/plain": [
       "   OBJECTID      Id        VTD2016 CountyFips Jurisdicti  ElectionYe  \\\n",
       "0       1.0  3888.0  1632100000001        163      21000      2016.0   \n",
       "1       2.0  3889.0  1632100000002        163      21000      2016.0   \n",
       "2       3.0  3890.0  1632100000003        163      21000      2016.0   \n",
       "\n",
       "              Label    ShapeSTAre   ShapeSTLen  \\\n",
       "0  DEARBORN CITY; 1  2.489738e+06  6846.254657   \n",
       "1  DEARBORN CITY; 2  1.058362e+06  4621.388992   \n",
       "2  DEARBORN CITY; 3  1.488846e+06  4909.715171   \n",
       "\n",
       "                                            geometry      county_precinct  \\\n",
       "0  POLYGON ((734740.564 203392.197, 734729.230 20...  163DEARBORN CITY; 1   \n",
       "1  POLYGON ((733757.240 203553.421, 733767.280 20...  163DEARBORN CITY; 2   \n",
       "2  POLYGON ((733220.680 203094.269, 733125.455 20...  163DEARBORN CITY; 3   \n",
       "\n",
       "    county_name county_fips          precinct  votes_democratic  votes_green  \\\n",
       "0  Wayne County         163  DEARBORN CITY; 1             581.0         17.0   \n",
       "1  Wayne County         163  DEARBORN CITY; 2             560.0         23.0   \n",
       "2  Wayne County         163  DEARBORN CITY; 3             756.0         52.0   \n",
       "\n",
       "   votes_libertarian  votes_republican _merge  \n",
       "0               11.0              93.0   both  \n",
       "1                9.0              95.0   both  \n",
       "2               13.0             171.0   both  "
      ]
     },
     "execution_count": 82,
     "metadata": {},
     "output_type": "execute_result"
    }
   ],
   "source": [
    "df_merged_outer.head(3)"
   ]
  },
  {
   "cell_type": "code",
   "execution_count": 83,
   "metadata": {},
   "outputs": [
    {
     "data": {
      "text/html": [
       "<div>\n",
       "<style scoped>\n",
       "    .dataframe tbody tr th:only-of-type {\n",
       "        vertical-align: middle;\n",
       "    }\n",
       "\n",
       "    .dataframe tbody tr th {\n",
       "        vertical-align: top;\n",
       "    }\n",
       "\n",
       "    .dataframe thead th {\n",
       "        text-align: right;\n",
       "    }\n",
       "</style>\n",
       "<table border=\"1\" class=\"dataframe\">\n",
       "  <thead>\n",
       "    <tr style=\"text-align: right;\">\n",
       "      <th></th>\n",
       "      <th>OBJECTID</th>\n",
       "      <th>Id</th>\n",
       "      <th>VTD2016</th>\n",
       "      <th>CountyFips</th>\n",
       "      <th>Jurisdicti</th>\n",
       "      <th>ElectionYe</th>\n",
       "      <th>Label</th>\n",
       "      <th>ShapeSTAre</th>\n",
       "      <th>ShapeSTLen</th>\n",
       "      <th>geometry</th>\n",
       "      <th>county_precinct</th>\n",
       "      <th>county_name</th>\n",
       "      <th>county_fips</th>\n",
       "      <th>precinct</th>\n",
       "      <th>votes_democratic</th>\n",
       "      <th>votes_green</th>\n",
       "      <th>votes_libertarian</th>\n",
       "      <th>votes_republican</th>\n",
       "    </tr>\n",
       "    <tr>\n",
       "      <th>_merge</th>\n",
       "      <th></th>\n",
       "      <th></th>\n",
       "      <th></th>\n",
       "      <th></th>\n",
       "      <th></th>\n",
       "      <th></th>\n",
       "      <th></th>\n",
       "      <th></th>\n",
       "      <th></th>\n",
       "      <th></th>\n",
       "      <th></th>\n",
       "      <th></th>\n",
       "      <th></th>\n",
       "      <th></th>\n",
       "      <th></th>\n",
       "      <th></th>\n",
       "      <th></th>\n",
       "      <th></th>\n",
       "    </tr>\n",
       "  </thead>\n",
       "  <tbody>\n",
       "    <tr>\n",
       "      <th>left_only</th>\n",
       "      <td>970</td>\n",
       "      <td>970</td>\n",
       "      <td>970</td>\n",
       "      <td>970</td>\n",
       "      <td>970</td>\n",
       "      <td>970</td>\n",
       "      <td>970</td>\n",
       "      <td>970</td>\n",
       "      <td>970</td>\n",
       "      <td>970</td>\n",
       "      <td>970</td>\n",
       "      <td>0</td>\n",
       "      <td>0</td>\n",
       "      <td>0</td>\n",
       "      <td>0</td>\n",
       "      <td>0</td>\n",
       "      <td>0</td>\n",
       "      <td>0</td>\n",
       "    </tr>\n",
       "    <tr>\n",
       "      <th>right_only</th>\n",
       "      <td>0</td>\n",
       "      <td>0</td>\n",
       "      <td>0</td>\n",
       "      <td>0</td>\n",
       "      <td>0</td>\n",
       "      <td>0</td>\n",
       "      <td>0</td>\n",
       "      <td>0</td>\n",
       "      <td>0</td>\n",
       "      <td>0</td>\n",
       "      <td>1181</td>\n",
       "      <td>1181</td>\n",
       "      <td>1181</td>\n",
       "      <td>1181</td>\n",
       "      <td>1181</td>\n",
       "      <td>1181</td>\n",
       "      <td>1181</td>\n",
       "      <td>1181</td>\n",
       "    </tr>\n",
       "    <tr>\n",
       "      <th>both</th>\n",
       "      <td>3840</td>\n",
       "      <td>3840</td>\n",
       "      <td>3840</td>\n",
       "      <td>3840</td>\n",
       "      <td>3840</td>\n",
       "      <td>3840</td>\n",
       "      <td>3840</td>\n",
       "      <td>3840</td>\n",
       "      <td>3840</td>\n",
       "      <td>3840</td>\n",
       "      <td>3840</td>\n",
       "      <td>3840</td>\n",
       "      <td>3840</td>\n",
       "      <td>3840</td>\n",
       "      <td>3840</td>\n",
       "      <td>3840</td>\n",
       "      <td>3840</td>\n",
       "      <td>3840</td>\n",
       "    </tr>\n",
       "  </tbody>\n",
       "</table>\n",
       "</div>"
      ],
      "text/plain": [
       "            OBJECTID    Id  VTD2016  CountyFips  Jurisdicti  ElectionYe  \\\n",
       "_merge                                                                    \n",
       "left_only        970   970      970         970         970         970   \n",
       "right_only         0     0        0           0           0           0   \n",
       "both            3840  3840     3840        3840        3840        3840   \n",
       "\n",
       "            Label  ShapeSTAre  ShapeSTLen  geometry  county_precinct  \\\n",
       "_merge                                                                 \n",
       "left_only     970         970         970       970              970   \n",
       "right_only      0           0           0         0             1181   \n",
       "both         3840        3840        3840      3840             3840   \n",
       "\n",
       "            county_name  county_fips  precinct  votes_democratic  votes_green  \\\n",
       "_merge                                                                          \n",
       "left_only             0            0         0                 0            0   \n",
       "right_only         1181         1181      1181              1181         1181   \n",
       "both               3840         3840      3840              3840         3840   \n",
       "\n",
       "            votes_libertarian  votes_republican  \n",
       "_merge                                           \n",
       "left_only                   0                 0  \n",
       "right_only               1181              1181  \n",
       "both                     3840              3840  "
      ]
     },
     "execution_count": 83,
     "metadata": {},
     "output_type": "execute_result"
    }
   ],
   "source": [
    "df_merged_outer.groupby('_merge').count()"
   ]
  },
  {
   "cell_type": "code",
   "execution_count": 84,
   "metadata": {},
   "outputs": [
    {
     "name": "stdout",
     "output_type": "stream",
     "text": [
      "5991\n",
      "5021\n",
      "4810\n"
     ]
    }
   ],
   "source": [
    "print(len(df_merged_outer))\n",
    "print(len(df))\n",
    "print(len(gdf))"
   ]
  },
  {
   "cell_type": "markdown",
   "metadata": {},
   "source": [
    "So it looks like 3,840 county/precinct combos merged, with 970 only in the precinct shapefile and 1181 only in the election results. See if there's anything curious about these. "
   ]
  },
  {
   "cell_type": "code",
   "execution_count": 85,
   "metadata": {},
   "outputs": [
    {
     "data": {
      "text/html": [
       "<div>\n",
       "<style scoped>\n",
       "    .dataframe tbody tr th:only-of-type {\n",
       "        vertical-align: middle;\n",
       "    }\n",
       "\n",
       "    .dataframe tbody tr th {\n",
       "        vertical-align: top;\n",
       "    }\n",
       "\n",
       "    .dataframe thead th {\n",
       "        text-align: right;\n",
       "    }\n",
       "</style>\n",
       "<table border=\"1\" class=\"dataframe\">\n",
       "  <thead>\n",
       "    <tr style=\"text-align: right;\">\n",
       "      <th></th>\n",
       "      <th>OBJECTID</th>\n",
       "      <th>Id</th>\n",
       "      <th>VTD2016</th>\n",
       "      <th>CountyFips</th>\n",
       "      <th>Jurisdicti</th>\n",
       "      <th>ElectionYe</th>\n",
       "      <th>Label</th>\n",
       "      <th>ShapeSTAre</th>\n",
       "      <th>ShapeSTLen</th>\n",
       "      <th>geometry</th>\n",
       "      <th>county_precinct</th>\n",
       "      <th>county_name</th>\n",
       "      <th>county_fips</th>\n",
       "      <th>precinct</th>\n",
       "      <th>votes_democratic</th>\n",
       "      <th>votes_green</th>\n",
       "      <th>votes_libertarian</th>\n",
       "      <th>votes_republican</th>\n",
       "      <th>_merge</th>\n",
       "    </tr>\n",
       "  </thead>\n",
       "  <tbody>\n",
       "    <tr>\n",
       "      <th>5384</th>\n",
       "      <td>NaN</td>\n",
       "      <td>NaN</td>\n",
       "      <td>NaN</td>\n",
       "      <td>NaN</td>\n",
       "      <td>NaN</td>\n",
       "      <td>NaN</td>\n",
       "      <td>NaN</td>\n",
       "      <td>NaN</td>\n",
       "      <td>NaN</td>\n",
       "      <td>None</td>\n",
       "      <td>163DETROIT CITY; 133</td>\n",
       "      <td>Wayne County</td>\n",
       "      <td>163</td>\n",
       "      <td>DETROIT CITY; 133</td>\n",
       "      <td>504.0</td>\n",
       "      <td>9.0</td>\n",
       "      <td>11.0</td>\n",
       "      <td>47.0</td>\n",
       "      <td>right_only</td>\n",
       "    </tr>\n",
       "    <tr>\n",
       "      <th>4967</th>\n",
       "      <td>NaN</td>\n",
       "      <td>NaN</td>\n",
       "      <td>NaN</td>\n",
       "      <td>NaN</td>\n",
       "      <td>NaN</td>\n",
       "      <td>NaN</td>\n",
       "      <td>NaN</td>\n",
       "      <td>NaN</td>\n",
       "      <td>NaN</td>\n",
       "      <td>None</td>\n",
       "      <td>111MOUNT HALEY TOWNSHIP; 1</td>\n",
       "      <td>Midland County</td>\n",
       "      <td>111</td>\n",
       "      <td>MOUNT HALEY TOWNSHIP; 1</td>\n",
       "      <td>286.0</td>\n",
       "      <td>4.0</td>\n",
       "      <td>39.0</td>\n",
       "      <td>538.0</td>\n",
       "      <td>right_only</td>\n",
       "    </tr>\n",
       "    <tr>\n",
       "      <th>5600</th>\n",
       "      <td>NaN</td>\n",
       "      <td>NaN</td>\n",
       "      <td>NaN</td>\n",
       "      <td>NaN</td>\n",
       "      <td>NaN</td>\n",
       "      <td>NaN</td>\n",
       "      <td>NaN</td>\n",
       "      <td>NaN</td>\n",
       "      <td>NaN</td>\n",
       "      <td>None</td>\n",
       "      <td>163DETROIT CITY; 328</td>\n",
       "      <td>Wayne County</td>\n",
       "      <td>163</td>\n",
       "      <td>DETROIT CITY; 328</td>\n",
       "      <td>385.0</td>\n",
       "      <td>1.0</td>\n",
       "      <td>4.0</td>\n",
       "      <td>3.0</td>\n",
       "      <td>right_only</td>\n",
       "    </tr>\n",
       "    <tr>\n",
       "      <th>5577</th>\n",
       "      <td>NaN</td>\n",
       "      <td>NaN</td>\n",
       "      <td>NaN</td>\n",
       "      <td>NaN</td>\n",
       "      <td>NaN</td>\n",
       "      <td>NaN</td>\n",
       "      <td>NaN</td>\n",
       "      <td>NaN</td>\n",
       "      <td>NaN</td>\n",
       "      <td>None</td>\n",
       "      <td>163DETROIT CITY; 307</td>\n",
       "      <td>Wayne County</td>\n",
       "      <td>163</td>\n",
       "      <td>DETROIT CITY; 307</td>\n",
       "      <td>447.0</td>\n",
       "      <td>7.0</td>\n",
       "      <td>3.0</td>\n",
       "      <td>13.0</td>\n",
       "      <td>right_only</td>\n",
       "    </tr>\n",
       "    <tr>\n",
       "      <th>5970</th>\n",
       "      <td>NaN</td>\n",
       "      <td>NaN</td>\n",
       "      <td>NaN</td>\n",
       "      <td>NaN</td>\n",
       "      <td>NaN</td>\n",
       "      <td>NaN</td>\n",
       "      <td>NaN</td>\n",
       "      <td>NaN</td>\n",
       "      <td>NaN</td>\n",
       "      <td>None</td>\n",
       "      <td>163LIVONIA CITY; 25|A</td>\n",
       "      <td>Wayne County</td>\n",
       "      <td>163</td>\n",
       "      <td>LIVONIA CITY; 25|A</td>\n",
       "      <td>358.0</td>\n",
       "      <td>12.0</td>\n",
       "      <td>41.0</td>\n",
       "      <td>358.0</td>\n",
       "      <td>right_only</td>\n",
       "    </tr>\n",
       "  </tbody>\n",
       "</table>\n",
       "</div>"
      ],
      "text/plain": [
       "      OBJECTID  Id VTD2016 CountyFips Jurisdicti  ElectionYe Label  \\\n",
       "5384       NaN NaN     NaN        NaN        NaN         NaN   NaN   \n",
       "4967       NaN NaN     NaN        NaN        NaN         NaN   NaN   \n",
       "5600       NaN NaN     NaN        NaN        NaN         NaN   NaN   \n",
       "5577       NaN NaN     NaN        NaN        NaN         NaN   NaN   \n",
       "5970       NaN NaN     NaN        NaN        NaN         NaN   NaN   \n",
       "\n",
       "      ShapeSTAre  ShapeSTLen geometry             county_precinct  \\\n",
       "5384         NaN         NaN     None        163DETROIT CITY; 133   \n",
       "4967         NaN         NaN     None  111MOUNT HALEY TOWNSHIP; 1   \n",
       "5600         NaN         NaN     None        163DETROIT CITY; 328   \n",
       "5577         NaN         NaN     None        163DETROIT CITY; 307   \n",
       "5970         NaN         NaN     None       163LIVONIA CITY; 25|A   \n",
       "\n",
       "         county_name county_fips                 precinct  votes_democratic  \\\n",
       "5384    Wayne County         163        DETROIT CITY; 133             504.0   \n",
       "4967  Midland County         111  MOUNT HALEY TOWNSHIP; 1             286.0   \n",
       "5600    Wayne County         163        DETROIT CITY; 328             385.0   \n",
       "5577    Wayne County         163        DETROIT CITY; 307             447.0   \n",
       "5970    Wayne County         163       LIVONIA CITY; 25|A             358.0   \n",
       "\n",
       "      votes_green  votes_libertarian  votes_republican      _merge  \n",
       "5384          9.0               11.0              47.0  right_only  \n",
       "4967          4.0               39.0             538.0  right_only  \n",
       "5600          1.0                4.0               3.0  right_only  \n",
       "5577          7.0                3.0              13.0  right_only  \n",
       "5970         12.0               41.0             358.0  right_only  "
      ]
     },
     "execution_count": 85,
     "metadata": {},
     "output_type": "execute_result"
    }
   ],
   "source": [
    "df_merged_outer[df_merged_outer['_merge'] == 'right_only'].sample(5)"
   ]
  },
  {
   "cell_type": "markdown",
   "metadata": {},
   "source": [
    "Re-ran the above code several times, sampling from the left_only rows, with the precinct results open in a spreadsheet to cross-reference. Found the following: \n",
    "- fips 005: \"VILLAGE OF DOUGLAS CITY; 1\" in gdf, \"DOUGLAS CITY; 1\" in df\n",
    "- fips 163: \"DETROIT CITY; WARD 1; PRECINCT 359\" in gdf, in df there is \"DETROIT CITY; 359\"\n",
    "- fips 125: \"CHARTER TOWNSHIP OF BLOOMFIELD; 19\" in gdf, there are 34 precincts that look like this in the gdf but in the df they are just \"BLOOMFIELD TOWNSHIP; 19\"\n",
    "- fips 099: \"MT CLEMENS CITY; 9\" in gdf, \"MOUNT CLEMENS CITY; 9\" in df - there are several of these\n",
    "- fips 115: \"LASALLE TOWNSHIP; 1\" in gdf, \"LA SALLE TOWNSHIP; 1\" in df - there's 2 of these\n",
    "- fips 029: \"BOYNE CITY CITY; 16\" in gdf, \"BOYNE CITY; 16\" in df\n",
    "- fips 037: \"DEWITT TOWNSHIP; 2\" in gdf, \"DE WITT TOWNSHIP; 2\" in df - there's several of these, for township too\n",
    "\n",
    "Re-ran the above code several times, sampling from the right_only rows, with the precinct shapefile open in a spreadsheet to cross-reference. Found the following: \n",
    "- fips 125: \"WEST BLOOMFIELD TOWNSHIP; 8\" in df, \"CHARTER TOWNSHIP OF WEST BLOOMFIELD; 8\" in gdf - there are many of these\n",
    "- fips 021: \"NILES CITY; 2\" in df, \"NILES CITY; WARD 2; PRECINCT 2\" in gdf - there are 5 of these, the precincts are distinct across wards\n",
    "- fips 125: \"COMMERCE TOWNSHIP; 1\" in df, \"CHARTER TOWNSHIP OF COMMERCE; 1\" in gdf - there are many of these\n",
    "- fips 125: \"INDEPENDENCE TOWNSHIP; 4\" in df, \"CHARTER TOWNSHIP OF INDEPENDENCE; 4\" in gdf - there are many of these\n",
    "- fips 147: \"PORT HURON TOWNSHIP; 904|AVCB\" in df, \"PORT HURON TOWNSHIP; 4\" in gdf - several of these, not sure how to deal with AVCB\n",
    "\n",
    "See if we can match more by removing the following: \n",
    "- Remove 'VILLAGE OF' in both dfs\n",
    "- Make any 'CHARTER TOWNSHIP OF X' into 'TOWNSHIP X' in both dfs\n",
    "- Make any 'TOWNSHIP OF X' into 'TOWNSHIP X'\n",
    "- Make any 'X TOWNSHIP' into 'TOWNSHIP X'\n",
    "- Make any 'MT' into 'MOUNT' in both\n",
    "- Switch 'LASALLE' to 'LA SALLE', 'DE WITT' to 'DEWITT' in both\n",
    "- Make any 'CITY CITY' into 'CITY' in both\n",
    "- Make any 'ST.' be 'ST' and any 'SAINT' be 'ST'\n",
    "\n",
    "Then we should mostly be left with the AVCB, Detroit City, and 'Ward' issues. "
   ]
  },
  {
   "cell_type": "markdown",
   "metadata": {},
   "source": [
    "### String manipulation section based on findings above"
   ]
  },
  {
   "cell_type": "markdown",
   "metadata": {},
   "source": [
    "Create copy DFs to work on.. "
   ]
  },
  {
   "cell_type": "code",
   "execution_count": 86,
   "metadata": {},
   "outputs": [],
   "source": [
    "df_matching = df.copy()\n",
    "gdf_matching = gdf.copy()"
   ]
  },
  {
   "cell_type": "markdown",
   "metadata": {},
   "source": [
    "Do the simple string removal in both dfs"
   ]
  },
  {
   "cell_type": "code",
   "execution_count": 87,
   "metadata": {},
   "outputs": [],
   "source": [
    "df_matching['precinct'] = df_matching['precinct'].map(lambda x: x.lstrip('VILLAGE OF '))\n",
    "gdf_matching['Label'] = gdf_matching['Label'].map(lambda x: x.lstrip('VILLAGE OF '))\n",
    "\n",
    "df_matching['precinct'] = df_matching['precinct'].map(lambda x: x.replace('MT','MOUNT'))\n",
    "gdf_matching['Label'] = gdf_matching['Label'].map(lambda x: x.replace('MT','MOUNT'))\n",
    "\n",
    "df_matching['precinct'] = df_matching['precinct'].map(lambda x: x.replace('LASALLE','LA SALLE'))\n",
    "gdf_matching['Label'] = gdf_matching['Label'].map(lambda x: x.replace('LASALLE','LA SALLE'))\n",
    "\n",
    "df_matching['precinct'] = df_matching['precinct'].map(lambda x: x.replace('DE WITT','DEWITT'))\n",
    "gdf_matching['Label'] = gdf_matching['Label'].map(lambda x: x.replace('DE WITT','DEWITT'))\n",
    "\n",
    "df_matching['precinct'] = df_matching['precinct'].map(lambda x: x.replace('CITY CITY','CITY'))\n",
    "gdf_matching['Label'] = gdf_matching['Label'].map(lambda x: x.replace('CITY CITY','CITY'))\n",
    "\n",
    "df_matching['precinct'] = df_matching['precinct'].map(lambda x: x.replace('ST.','ST'))\n",
    "gdf_matching['Label'] = gdf_matching['Label'].map(lambda x: x.replace('ST.','ST'))\n",
    "\n",
    "df_matching['precinct'] = df_matching['precinct'].map(lambda x: x.replace('SAINT','ST'))\n",
    "gdf_matching['Label'] = gdf_matching['Label'].map(lambda x: x.replace('SAINT','ST'))"
   ]
  },
  {
   "cell_type": "markdown",
   "metadata": {},
   "source": [
    "Figure out the Township X manipulations"
   ]
  },
  {
   "cell_type": "code",
   "execution_count": 88,
   "metadata": {},
   "outputs": [],
   "source": [
    "df_matching['precinct'] = df_matching['precinct'].map(lambda x: x.replace('CHARTER TOWNSHIP OF','TOWNSHIP') if 'CHARTER TOWNSHIP OF' in x else x)\n",
    "gdf_matching['Label'] = gdf_matching['Label'].map(lambda x: x.replace('CHARTER TOWNSHIP OF','TOWNSHIP') if 'CHARTER TOWNSHIP OF' in x else x)\n",
    "\n",
    "df_matching['precinct'] = df_matching['precinct'].map(lambda x: x.replace('TOWNSHIP OF','TOWNSHIP') if 'TOWNSHIP OF' in x else x)\n",
    "gdf_matching['Label'] = gdf_matching['Label'].map(lambda x: x.replace('TOWNSHIP OF','TOWNSHIP') if 'TOWNSHIP OF' in x else x)\n",
    "\n",
    "df_matching['precinct'] = df_matching['precinct'].map(lambda x: 'TOWNSHIP ' + x.replace(' TOWNSHIP','') if ' TOWNSHIP' in x else x)\n",
    "gdf_matching['Label'] = gdf_matching['Label'].map(lambda x: 'TOWNSHIP ' + x.replace(' TOWNSHIP','') if ' TOWNSHIP' in x else x)"
   ]
  },
  {
   "cell_type": "markdown",
   "metadata": {},
   "source": [
    "Re-make the county_precinct join columns now"
   ]
  },
  {
   "cell_type": "code",
   "execution_count": 89,
   "metadata": {},
   "outputs": [],
   "source": [
    "df_matching['county_precinct'] = df_matching['county_fips'] + df_matching['precinct']\n",
    "gdf_matching['county_precinct'] = gdf_matching['CountyFips'] + gdf_matching['Label']"
   ]
  },
  {
   "cell_type": "markdown",
   "metadata": {},
   "source": [
    "Try matching again and see how much this improves things"
   ]
  },
  {
   "cell_type": "code",
   "execution_count": 90,
   "metadata": {},
   "outputs": [],
   "source": [
    "df_merged_outer_v2 = gdf_matching.merge(df_matching, how = 'outer', on = 'county_precinct', indicator = True)"
   ]
  },
  {
   "cell_type": "code",
   "execution_count": 91,
   "metadata": {},
   "outputs": [
    {
     "data": {
      "text/html": [
       "<div>\n",
       "<style scoped>\n",
       "    .dataframe tbody tr th:only-of-type {\n",
       "        vertical-align: middle;\n",
       "    }\n",
       "\n",
       "    .dataframe tbody tr th {\n",
       "        vertical-align: top;\n",
       "    }\n",
       "\n",
       "    .dataframe thead th {\n",
       "        text-align: right;\n",
       "    }\n",
       "</style>\n",
       "<table border=\"1\" class=\"dataframe\">\n",
       "  <thead>\n",
       "    <tr style=\"text-align: right;\">\n",
       "      <th></th>\n",
       "      <th>OBJECTID</th>\n",
       "      <th>Id</th>\n",
       "      <th>VTD2016</th>\n",
       "      <th>CountyFips</th>\n",
       "      <th>Jurisdicti</th>\n",
       "      <th>ElectionYe</th>\n",
       "      <th>Label</th>\n",
       "      <th>ShapeSTAre</th>\n",
       "      <th>ShapeSTLen</th>\n",
       "      <th>geometry</th>\n",
       "      <th>county_precinct</th>\n",
       "      <th>county_name</th>\n",
       "      <th>county_fips</th>\n",
       "      <th>precinct</th>\n",
       "      <th>votes_democratic</th>\n",
       "      <th>votes_green</th>\n",
       "      <th>votes_libertarian</th>\n",
       "      <th>votes_republican</th>\n",
       "    </tr>\n",
       "    <tr>\n",
       "      <th>_merge</th>\n",
       "      <th></th>\n",
       "      <th></th>\n",
       "      <th></th>\n",
       "      <th></th>\n",
       "      <th></th>\n",
       "      <th></th>\n",
       "      <th></th>\n",
       "      <th></th>\n",
       "      <th></th>\n",
       "      <th></th>\n",
       "      <th></th>\n",
       "      <th></th>\n",
       "      <th></th>\n",
       "      <th></th>\n",
       "      <th></th>\n",
       "      <th></th>\n",
       "      <th></th>\n",
       "      <th></th>\n",
       "    </tr>\n",
       "  </thead>\n",
       "  <tbody>\n",
       "    <tr>\n",
       "      <th>left_only</th>\n",
       "      <td>679</td>\n",
       "      <td>679</td>\n",
       "      <td>679</td>\n",
       "      <td>679</td>\n",
       "      <td>679</td>\n",
       "      <td>679</td>\n",
       "      <td>679</td>\n",
       "      <td>679</td>\n",
       "      <td>679</td>\n",
       "      <td>679</td>\n",
       "      <td>679</td>\n",
       "      <td>0</td>\n",
       "      <td>0</td>\n",
       "      <td>0</td>\n",
       "      <td>0</td>\n",
       "      <td>0</td>\n",
       "      <td>0</td>\n",
       "      <td>0</td>\n",
       "    </tr>\n",
       "    <tr>\n",
       "      <th>right_only</th>\n",
       "      <td>0</td>\n",
       "      <td>0</td>\n",
       "      <td>0</td>\n",
       "      <td>0</td>\n",
       "      <td>0</td>\n",
       "      <td>0</td>\n",
       "      <td>0</td>\n",
       "      <td>0</td>\n",
       "      <td>0</td>\n",
       "      <td>0</td>\n",
       "      <td>892</td>\n",
       "      <td>892</td>\n",
       "      <td>892</td>\n",
       "      <td>892</td>\n",
       "      <td>892</td>\n",
       "      <td>892</td>\n",
       "      <td>892</td>\n",
       "      <td>892</td>\n",
       "    </tr>\n",
       "    <tr>\n",
       "      <th>both</th>\n",
       "      <td>4135</td>\n",
       "      <td>4135</td>\n",
       "      <td>4135</td>\n",
       "      <td>4135</td>\n",
       "      <td>4135</td>\n",
       "      <td>4135</td>\n",
       "      <td>4135</td>\n",
       "      <td>4135</td>\n",
       "      <td>4135</td>\n",
       "      <td>4135</td>\n",
       "      <td>4135</td>\n",
       "      <td>4135</td>\n",
       "      <td>4135</td>\n",
       "      <td>4135</td>\n",
       "      <td>4135</td>\n",
       "      <td>4135</td>\n",
       "      <td>4135</td>\n",
       "      <td>4135</td>\n",
       "    </tr>\n",
       "  </tbody>\n",
       "</table>\n",
       "</div>"
      ],
      "text/plain": [
       "            OBJECTID    Id  VTD2016  CountyFips  Jurisdicti  ElectionYe  \\\n",
       "_merge                                                                    \n",
       "left_only        679   679      679         679         679         679   \n",
       "right_only         0     0        0           0           0           0   \n",
       "both            4135  4135     4135        4135        4135        4135   \n",
       "\n",
       "            Label  ShapeSTAre  ShapeSTLen  geometry  county_precinct  \\\n",
       "_merge                                                                 \n",
       "left_only     679         679         679       679              679   \n",
       "right_only      0           0           0         0              892   \n",
       "both         4135        4135        4135      4135             4135   \n",
       "\n",
       "            county_name  county_fips  precinct  votes_democratic  votes_green  \\\n",
       "_merge                                                                          \n",
       "left_only             0            0         0                 0            0   \n",
       "right_only          892          892       892               892          892   \n",
       "both               4135         4135      4135              4135         4135   \n",
       "\n",
       "            votes_libertarian  votes_republican  \n",
       "_merge                                           \n",
       "left_only                   0                 0  \n",
       "right_only                892               892  \n",
       "both                     4135              4135  "
      ]
     },
     "execution_count": 91,
     "metadata": {},
     "output_type": "execute_result"
    }
   ],
   "source": [
    "df_merged_outer_v2.groupby('_merge').count()"
   ]
  },
  {
   "cell_type": "markdown",
   "metadata": {},
   "source": [
    "Before there were 3840 precincts merged, now we're up to 4135. See what's left"
   ]
  },
  {
   "cell_type": "code",
   "execution_count": 92,
   "metadata": {},
   "outputs": [
    {
     "data": {
      "text/html": [
       "<div>\n",
       "<style scoped>\n",
       "    .dataframe tbody tr th:only-of-type {\n",
       "        vertical-align: middle;\n",
       "    }\n",
       "\n",
       "    .dataframe tbody tr th {\n",
       "        vertical-align: top;\n",
       "    }\n",
       "\n",
       "    .dataframe thead th {\n",
       "        text-align: right;\n",
       "    }\n",
       "</style>\n",
       "<table border=\"1\" class=\"dataframe\">\n",
       "  <thead>\n",
       "    <tr style=\"text-align: right;\">\n",
       "      <th></th>\n",
       "      <th>OBJECTID</th>\n",
       "      <th>Id</th>\n",
       "      <th>VTD2016</th>\n",
       "      <th>CountyFips</th>\n",
       "      <th>Jurisdicti</th>\n",
       "      <th>ElectionYe</th>\n",
       "      <th>Label</th>\n",
       "      <th>ShapeSTAre</th>\n",
       "      <th>ShapeSTLen</th>\n",
       "      <th>geometry</th>\n",
       "      <th>county_precinct</th>\n",
       "      <th>county_name</th>\n",
       "      <th>county_fips</th>\n",
       "      <th>precinct</th>\n",
       "      <th>votes_democratic</th>\n",
       "      <th>votes_green</th>\n",
       "      <th>votes_libertarian</th>\n",
       "      <th>votes_republican</th>\n",
       "      <th>_merge</th>\n",
       "    </tr>\n",
       "  </thead>\n",
       "  <tbody>\n",
       "    <tr>\n",
       "      <th>5544</th>\n",
       "      <td>NaN</td>\n",
       "      <td>NaN</td>\n",
       "      <td>NaN</td>\n",
       "      <td>NaN</td>\n",
       "      <td>NaN</td>\n",
       "      <td>NaN</td>\n",
       "      <td>NaN</td>\n",
       "      <td>NaN</td>\n",
       "      <td>NaN</td>\n",
       "      <td>None</td>\n",
       "      <td>163DETROIT CITY; 84</td>\n",
       "      <td>Wayne County</td>\n",
       "      <td>163</td>\n",
       "      <td>DETROIT CITY; 84</td>\n",
       "      <td>656.0</td>\n",
       "      <td>4.0</td>\n",
       "      <td>2.0</td>\n",
       "      <td>25.0</td>\n",
       "      <td>right_only</td>\n",
       "    </tr>\n",
       "    <tr>\n",
       "      <th>4968</th>\n",
       "      <td>NaN</td>\n",
       "      <td>NaN</td>\n",
       "      <td>NaN</td>\n",
       "      <td>NaN</td>\n",
       "      <td>NaN</td>\n",
       "      <td>NaN</td>\n",
       "      <td>NaN</td>\n",
       "      <td>NaN</td>\n",
       "      <td>NaN</td>\n",
       "      <td>None</td>\n",
       "      <td>147TOWNSHIP ST CHINA; 901|AVCB</td>\n",
       "      <td>St. Clair County</td>\n",
       "      <td>147</td>\n",
       "      <td>TOWNSHIP ST CHINA; 901|AVCB</td>\n",
       "      <td>112.0</td>\n",
       "      <td>2.0</td>\n",
       "      <td>8.0</td>\n",
       "      <td>181.0</td>\n",
       "      <td>right_only</td>\n",
       "    </tr>\n",
       "    <tr>\n",
       "      <th>5119</th>\n",
       "      <td>NaN</td>\n",
       "      <td>NaN</td>\n",
       "      <td>NaN</td>\n",
       "      <td>NaN</td>\n",
       "      <td>NaN</td>\n",
       "      <td>NaN</td>\n",
       "      <td>NaN</td>\n",
       "      <td>NaN</td>\n",
       "      <td>NaN</td>\n",
       "      <td>None</td>\n",
       "      <td>163DETROIT CITY; 142</td>\n",
       "      <td>Wayne County</td>\n",
       "      <td>163</td>\n",
       "      <td>DETROIT CITY; 142</td>\n",
       "      <td>279.0</td>\n",
       "      <td>3.0</td>\n",
       "      <td>0.0</td>\n",
       "      <td>5.0</td>\n",
       "      <td>right_only</td>\n",
       "    </tr>\n",
       "    <tr>\n",
       "      <th>5269</th>\n",
       "      <td>NaN</td>\n",
       "      <td>NaN</td>\n",
       "      <td>NaN</td>\n",
       "      <td>NaN</td>\n",
       "      <td>NaN</td>\n",
       "      <td>NaN</td>\n",
       "      <td>NaN</td>\n",
       "      <td>NaN</td>\n",
       "      <td>NaN</td>\n",
       "      <td>None</td>\n",
       "      <td>163DETROIT CITY; 278</td>\n",
       "      <td>Wayne County</td>\n",
       "      <td>163</td>\n",
       "      <td>DETROIT CITY; 278</td>\n",
       "      <td>382.0</td>\n",
       "      <td>4.0</td>\n",
       "      <td>0.0</td>\n",
       "      <td>11.0</td>\n",
       "      <td>right_only</td>\n",
       "    </tr>\n",
       "    <tr>\n",
       "      <th>5016</th>\n",
       "      <td>NaN</td>\n",
       "      <td>NaN</td>\n",
       "      <td>NaN</td>\n",
       "      <td>NaN</td>\n",
       "      <td>NaN</td>\n",
       "      <td>NaN</td>\n",
       "      <td>NaN</td>\n",
       "      <td>NaN</td>\n",
       "      <td>NaN</td>\n",
       "      <td>None</td>\n",
       "      <td>163DETROIT CITY; 1014|AVCB</td>\n",
       "      <td>Wayne County</td>\n",
       "      <td>163</td>\n",
       "      <td>DETROIT CITY; 1014|AVCB</td>\n",
       "      <td>390.0</td>\n",
       "      <td>1.0</td>\n",
       "      <td>1.0</td>\n",
       "      <td>9.0</td>\n",
       "      <td>right_only</td>\n",
       "    </tr>\n",
       "  </tbody>\n",
       "</table>\n",
       "</div>"
      ],
      "text/plain": [
       "      OBJECTID  Id VTD2016 CountyFips Jurisdicti  ElectionYe Label  \\\n",
       "5544       NaN NaN     NaN        NaN        NaN         NaN   NaN   \n",
       "4968       NaN NaN     NaN        NaN        NaN         NaN   NaN   \n",
       "5119       NaN NaN     NaN        NaN        NaN         NaN   NaN   \n",
       "5269       NaN NaN     NaN        NaN        NaN         NaN   NaN   \n",
       "5016       NaN NaN     NaN        NaN        NaN         NaN   NaN   \n",
       "\n",
       "      ShapeSTAre  ShapeSTLen geometry                 county_precinct  \\\n",
       "5544         NaN         NaN     None             163DETROIT CITY; 84   \n",
       "4968         NaN         NaN     None  147TOWNSHIP ST CHINA; 901|AVCB   \n",
       "5119         NaN         NaN     None            163DETROIT CITY; 142   \n",
       "5269         NaN         NaN     None            163DETROIT CITY; 278   \n",
       "5016         NaN         NaN     None      163DETROIT CITY; 1014|AVCB   \n",
       "\n",
       "           county_name county_fips                     precinct  \\\n",
       "5544      Wayne County         163             DETROIT CITY; 84   \n",
       "4968  St. Clair County         147  TOWNSHIP ST CHINA; 901|AVCB   \n",
       "5119      Wayne County         163            DETROIT CITY; 142   \n",
       "5269      Wayne County         163            DETROIT CITY; 278   \n",
       "5016      Wayne County         163      DETROIT CITY; 1014|AVCB   \n",
       "\n",
       "      votes_democratic  votes_green  votes_libertarian  votes_republican  \\\n",
       "5544             656.0          4.0                2.0              25.0   \n",
       "4968             112.0          2.0                8.0             181.0   \n",
       "5119             279.0          3.0                0.0               5.0   \n",
       "5269             382.0          4.0                0.0              11.0   \n",
       "5016             390.0          1.0                1.0               9.0   \n",
       "\n",
       "          _merge  \n",
       "5544  right_only  \n",
       "4968  right_only  \n",
       "5119  right_only  \n",
       "5269  right_only  \n",
       "5016  right_only  "
      ]
     },
     "execution_count": 92,
     "metadata": {},
     "output_type": "execute_result"
    }
   ],
   "source": [
    "df_merged_outer_v2[df_merged_outer_v2['_merge'] == 'right_only'].sample(5)"
   ]
  },
  {
   "cell_type": "markdown",
   "metadata": {},
   "source": [
    "A lot of what is left seems to be Detroit city."
   ]
  },
  {
   "cell_type": "markdown",
   "metadata": {},
   "source": [
    "Explore the Detroit City AVCB ones a bit. From looking at the files in excel, only the election results have AVCB. If we remove these - does that make the difference? "
   ]
  },
  {
   "cell_type": "code",
   "execution_count": 93,
   "metadata": {},
   "outputs": [
    {
     "data": {
      "text/html": [
       "<div>\n",
       "<style scoped>\n",
       "    .dataframe tbody tr th:only-of-type {\n",
       "        vertical-align: middle;\n",
       "    }\n",
       "\n",
       "    .dataframe tbody tr th {\n",
       "        vertical-align: top;\n",
       "    }\n",
       "\n",
       "    .dataframe thead th {\n",
       "        text-align: right;\n",
       "    }\n",
       "</style>\n",
       "<table border=\"1\" class=\"dataframe\">\n",
       "  <thead>\n",
       "    <tr style=\"text-align: right;\">\n",
       "      <th></th>\n",
       "      <th>county_name</th>\n",
       "      <th>county_fips</th>\n",
       "      <th>precinct</th>\n",
       "      <th>votes_democratic</th>\n",
       "      <th>votes_green</th>\n",
       "      <th>votes_libertarian</th>\n",
       "      <th>votes_republican</th>\n",
       "      <th>county_precinct</th>\n",
       "    </tr>\n",
       "  </thead>\n",
       "  <tbody>\n",
       "    <tr>\n",
       "      <th>383</th>\n",
       "      <td>Cass County</td>\n",
       "      <td>027</td>\n",
       "      <td>ONTWA TOWNSHIP; 901|AVCB</td>\n",
       "      <td>260</td>\n",
       "      <td>7</td>\n",
       "      <td>26</td>\n",
       "      <td>536</td>\n",
       "      <td>027ONTWA TOWNSHIP; 901|AVCB</td>\n",
       "    </tr>\n",
       "    <tr>\n",
       "      <th>389</th>\n",
       "      <td>Cass County</td>\n",
       "      <td>027</td>\n",
       "      <td>SILVER CREEK TOWNSHIP; 901|AVCB</td>\n",
       "      <td>181</td>\n",
       "      <td>1</td>\n",
       "      <td>17</td>\n",
       "      <td>259</td>\n",
       "      <td>027SILVER CREEK TOWNSHIP; 901|AVCB</td>\n",
       "    </tr>\n",
       "    <tr>\n",
       "      <th>496</th>\n",
       "      <td>Clinton County</td>\n",
       "      <td>037</td>\n",
       "      <td>EAST LANSING CITY; 901|AVCB</td>\n",
       "      <td>85</td>\n",
       "      <td>1</td>\n",
       "      <td>5</td>\n",
       "      <td>61</td>\n",
       "      <td>037EAST LANSING CITY; 901|AVCB</td>\n",
       "    </tr>\n",
       "    <tr>\n",
       "      <th>866</th>\n",
       "      <td>Gladwin County</td>\n",
       "      <td>051</td>\n",
       "      <td>BUTMAN TOWNSHIP; 901|AVCB</td>\n",
       "      <td>260</td>\n",
       "      <td>2</td>\n",
       "      <td>12</td>\n",
       "      <td>397</td>\n",
       "      <td>051BUTMAN TOWNSHIP; 901|AVCB</td>\n",
       "    </tr>\n",
       "    <tr>\n",
       "      <th>1735</th>\n",
       "      <td>Lapeer County</td>\n",
       "      <td>087</td>\n",
       "      <td>LAPEER TOWNSHIP; 901|AVCB</td>\n",
       "      <td>140</td>\n",
       "      <td>1</td>\n",
       "      <td>11</td>\n",
       "      <td>238</td>\n",
       "      <td>087LAPEER TOWNSHIP; 901|AVCB</td>\n",
       "    </tr>\n",
       "    <tr>\n",
       "      <th>...</th>\n",
       "      <td>...</td>\n",
       "      <td>...</td>\n",
       "      <td>...</td>\n",
       "      <td>...</td>\n",
       "      <td>...</td>\n",
       "      <td>...</td>\n",
       "      <td>...</td>\n",
       "      <td>...</td>\n",
       "    </tr>\n",
       "    <tr>\n",
       "      <th>4687</th>\n",
       "      <td>Wayne County</td>\n",
       "      <td>163</td>\n",
       "      <td>DETROIT CITY; 995|AVCB</td>\n",
       "      <td>311</td>\n",
       "      <td>1</td>\n",
       "      <td>0</td>\n",
       "      <td>5</td>\n",
       "      <td>163DETROIT CITY; 995|AVCB</td>\n",
       "    </tr>\n",
       "    <tr>\n",
       "      <th>4688</th>\n",
       "      <td>Wayne County</td>\n",
       "      <td>163</td>\n",
       "      <td>DETROIT CITY; 996|AVCB</td>\n",
       "      <td>290</td>\n",
       "      <td>0</td>\n",
       "      <td>1</td>\n",
       "      <td>2</td>\n",
       "      <td>163DETROIT CITY; 996|AVCB</td>\n",
       "    </tr>\n",
       "    <tr>\n",
       "      <th>4689</th>\n",
       "      <td>Wayne County</td>\n",
       "      <td>163</td>\n",
       "      <td>DETROIT CITY; 997|AVCB</td>\n",
       "      <td>407</td>\n",
       "      <td>1</td>\n",
       "      <td>1</td>\n",
       "      <td>11</td>\n",
       "      <td>163DETROIT CITY; 997|AVCB</td>\n",
       "    </tr>\n",
       "    <tr>\n",
       "      <th>4690</th>\n",
       "      <td>Wayne County</td>\n",
       "      <td>163</td>\n",
       "      <td>DETROIT CITY; 998|AVCB</td>\n",
       "      <td>369</td>\n",
       "      <td>1</td>\n",
       "      <td>1</td>\n",
       "      <td>5</td>\n",
       "      <td>163DETROIT CITY; 998|AVCB</td>\n",
       "    </tr>\n",
       "    <tr>\n",
       "      <th>4691</th>\n",
       "      <td>Wayne County</td>\n",
       "      <td>163</td>\n",
       "      <td>DETROIT CITY; 999|AVCB</td>\n",
       "      <td>287</td>\n",
       "      <td>2</td>\n",
       "      <td>1</td>\n",
       "      <td>5</td>\n",
       "      <td>163DETROIT CITY; 999|AVCB</td>\n",
       "    </tr>\n",
       "  </tbody>\n",
       "</table>\n",
       "<p>210 rows × 8 columns</p>\n",
       "</div>"
      ],
      "text/plain": [
       "         county_name county_fips                         precinct  \\\n",
       "383      Cass County         027         ONTWA TOWNSHIP; 901|AVCB   \n",
       "389      Cass County         027  SILVER CREEK TOWNSHIP; 901|AVCB   \n",
       "496   Clinton County         037      EAST LANSING CITY; 901|AVCB   \n",
       "866   Gladwin County         051        BUTMAN TOWNSHIP; 901|AVCB   \n",
       "1735   Lapeer County         087        LAPEER TOWNSHIP; 901|AVCB   \n",
       "...              ...         ...                              ...   \n",
       "4687    Wayne County         163           DETROIT CITY; 995|AVCB   \n",
       "4688    Wayne County         163           DETROIT CITY; 996|AVCB   \n",
       "4689    Wayne County         163           DETROIT CITY; 997|AVCB   \n",
       "4690    Wayne County         163           DETROIT CITY; 998|AVCB   \n",
       "4691    Wayne County         163           DETROIT CITY; 999|AVCB   \n",
       "\n",
       "      votes_democratic  votes_green  votes_libertarian  votes_republican  \\\n",
       "383                260            7                 26               536   \n",
       "389                181            1                 17               259   \n",
       "496                 85            1                  5                61   \n",
       "866                260            2                 12               397   \n",
       "1735               140            1                 11               238   \n",
       "...                ...          ...                ...               ...   \n",
       "4687               311            1                  0                 5   \n",
       "4688               290            0                  1                 2   \n",
       "4689               407            1                  1                11   \n",
       "4690               369            1                  1                 5   \n",
       "4691               287            2                  1                 5   \n",
       "\n",
       "                         county_precinct  \n",
       "383          027ONTWA TOWNSHIP; 901|AVCB  \n",
       "389   027SILVER CREEK TOWNSHIP; 901|AVCB  \n",
       "496       037EAST LANSING CITY; 901|AVCB  \n",
       "866         051BUTMAN TOWNSHIP; 901|AVCB  \n",
       "1735        087LAPEER TOWNSHIP; 901|AVCB  \n",
       "...                                  ...  \n",
       "4687           163DETROIT CITY; 995|AVCB  \n",
       "4688           163DETROIT CITY; 996|AVCB  \n",
       "4689           163DETROIT CITY; 997|AVCB  \n",
       "4690           163DETROIT CITY; 998|AVCB  \n",
       "4691           163DETROIT CITY; 999|AVCB  \n",
       "\n",
       "[210 rows x 8 columns]"
      ]
     },
     "execution_count": 93,
     "metadata": {},
     "output_type": "execute_result"
    }
   ],
   "source": [
    "df[df['precinct'].str.contains('AVCB')]"
   ]
  },
  {
   "cell_type": "code",
   "execution_count": 94,
   "metadata": {},
   "outputs": [
    {
     "data": {
      "text/html": [
       "<div>\n",
       "<style scoped>\n",
       "    .dataframe tbody tr th:only-of-type {\n",
       "        vertical-align: middle;\n",
       "    }\n",
       "\n",
       "    .dataframe tbody tr th {\n",
       "        vertical-align: top;\n",
       "    }\n",
       "\n",
       "    .dataframe thead th {\n",
       "        text-align: right;\n",
       "    }\n",
       "</style>\n",
       "<table border=\"1\" class=\"dataframe\">\n",
       "  <thead>\n",
       "    <tr style=\"text-align: right;\">\n",
       "      <th></th>\n",
       "      <th>OBJECTID</th>\n",
       "      <th>Id</th>\n",
       "      <th>VTD2016</th>\n",
       "      <th>CountyFips</th>\n",
       "      <th>Jurisdicti</th>\n",
       "      <th>ElectionYe</th>\n",
       "      <th>Label</th>\n",
       "      <th>ShapeSTAre</th>\n",
       "      <th>ShapeSTLen</th>\n",
       "      <th>geometry</th>\n",
       "      <th>county_precinct</th>\n",
       "    </tr>\n",
       "  </thead>\n",
       "  <tbody>\n",
       "  </tbody>\n",
       "</table>\n",
       "</div>"
      ],
      "text/plain": [
       "Empty GeoDataFrame\n",
       "Columns: [OBJECTID, Id, VTD2016, CountyFips, Jurisdicti, ElectionYe, Label, ShapeSTAre, ShapeSTLen, geometry, county_precinct]\n",
       "Index: []"
      ]
     },
     "execution_count": 94,
     "metadata": {},
     "output_type": "execute_result"
    }
   ],
   "source": [
    "gdf[gdf['Label'].str.contains('AVCB')]"
   ]
  },
  {
   "cell_type": "code",
   "execution_count": 95,
   "metadata": {},
   "outputs": [
    {
     "name": "stdout",
     "output_type": "stream",
     "text": [
      "662\n",
      "490\n"
     ]
    }
   ],
   "source": [
    "print(len(df[df['precinct'].str.contains('DETROIT CITY')]))\n",
    "print(len(gdf[gdf['Label'].str.contains('DETROIT CITY')]))"
   ]
  },
  {
   "cell_type": "markdown",
   "metadata": {},
   "source": [
    "So the election results has 662 precincts for Detroit City, of which 210 have 'AVCB'. \n",
    "The precincts shapefile has 490 precincts for Detroit City, of which none have 'AVCB'. \n",
    "Will try to just join these two with some string manipulation: "
   ]
  },
  {
   "cell_type": "code",
   "execution_count": 96,
   "metadata": {},
   "outputs": [],
   "source": [
    "df_detroit = df[df['precinct'].str.contains('DETROIT CITY')].copy()\n",
    "gdf_detroit = gdf[gdf['Label'].str.contains('DETROIT CITY')].copy()"
   ]
  },
  {
   "cell_type": "markdown",
   "metadata": {},
   "source": [
    "Remove the AVCB from the df join column:"
   ]
  },
  {
   "cell_type": "code",
   "execution_count": 97,
   "metadata": {},
   "outputs": [
    {
     "data": {
      "text/html": [
       "<div>\n",
       "<style scoped>\n",
       "    .dataframe tbody tr th:only-of-type {\n",
       "        vertical-align: middle;\n",
       "    }\n",
       "\n",
       "    .dataframe tbody tr th {\n",
       "        vertical-align: top;\n",
       "    }\n",
       "\n",
       "    .dataframe thead th {\n",
       "        text-align: right;\n",
       "    }\n",
       "</style>\n",
       "<table border=\"1\" class=\"dataframe\">\n",
       "  <thead>\n",
       "    <tr style=\"text-align: right;\">\n",
       "      <th></th>\n",
       "      <th>county_name</th>\n",
       "      <th>county_fips</th>\n",
       "      <th>precinct</th>\n",
       "      <th>votes_democratic</th>\n",
       "      <th>votes_green</th>\n",
       "      <th>votes_libertarian</th>\n",
       "      <th>votes_republican</th>\n",
       "      <th>county_precinct</th>\n",
       "    </tr>\n",
       "  </thead>\n",
       "  <tbody>\n",
       "  </tbody>\n",
       "</table>\n",
       "</div>"
      ],
      "text/plain": [
       "Empty DataFrame\n",
       "Columns: [county_name, county_fips, precinct, votes_democratic, votes_green, votes_libertarian, votes_republican, county_precinct]\n",
       "Index: []"
      ]
     },
     "execution_count": 97,
     "metadata": {},
     "output_type": "execute_result"
    }
   ],
   "source": [
    "df_detroit['county_precinct'] = df_detroit['county_precinct'].map(lambda x: x.rstrip('|AVCB'))\n",
    "df_detroit[df_detroit['county_precinct'].str.contains('AVCB')]"
   ]
  },
  {
   "cell_type": "markdown",
   "metadata": {},
   "source": [
    "See how many parts in the df versus the gdf have 'Ward':"
   ]
  },
  {
   "cell_type": "code",
   "execution_count": 98,
   "metadata": {},
   "outputs": [
    {
     "name": "stdout",
     "output_type": "stream",
     "text": [
      "0\n",
      "490\n"
     ]
    }
   ],
   "source": [
    "print(len(df_detroit[df_detroit['precinct'].str.contains('ward', case = False)]))\n",
    "print(len(gdf_detroit[gdf_detroit['Label'].str.contains('ward', case = False)]))"
   ]
  },
  {
   "cell_type": "markdown",
   "metadata": {},
   "source": [
    "So 'Ward' is only in the gdf and not in the df. Try to remove those parts: "
   ]
  },
  {
   "cell_type": "code",
   "execution_count": 99,
   "metadata": {},
   "outputs": [
    {
     "data": {
      "text/html": [
       "<div>\n",
       "<style scoped>\n",
       "    .dataframe tbody tr th:only-of-type {\n",
       "        vertical-align: middle;\n",
       "    }\n",
       "\n",
       "    .dataframe tbody tr th {\n",
       "        vertical-align: top;\n",
       "    }\n",
       "\n",
       "    .dataframe thead th {\n",
       "        text-align: right;\n",
       "    }\n",
       "</style>\n",
       "<table border=\"1\" class=\"dataframe\">\n",
       "  <thead>\n",
       "    <tr style=\"text-align: right;\">\n",
       "      <th></th>\n",
       "      <th>OBJECTID</th>\n",
       "      <th>Id</th>\n",
       "      <th>VTD2016</th>\n",
       "      <th>CountyFips</th>\n",
       "      <th>Jurisdicti</th>\n",
       "      <th>ElectionYe</th>\n",
       "      <th>Label</th>\n",
       "      <th>ShapeSTAre</th>\n",
       "      <th>ShapeSTLen</th>\n",
       "      <th>geometry</th>\n",
       "      <th>county_precinct</th>\n",
       "      <th>City</th>\n",
       "      <th>Ward</th>\n",
       "      <th>Precinct</th>\n",
       "    </tr>\n",
       "  </thead>\n",
       "  <tbody>\n",
       "    <tr>\n",
       "      <th>3381</th>\n",
       "      <td>3382</td>\n",
       "      <td>3965</td>\n",
       "      <td>1632200001251</td>\n",
       "      <td>163</td>\n",
       "      <td>22000</td>\n",
       "      <td>2016</td>\n",
       "      <td>DETROIT CITY; WARD 1; PRECINCT 251</td>\n",
       "      <td>543209.195312</td>\n",
       "      <td>3199.235100</td>\n",
       "      <td>POLYGON ((731235.023 210429.589, 731141.400 21...</td>\n",
       "      <td>163DETROIT CITY; WARD 1; PRECINCT 251</td>\n",
       "      <td>DETROIT CITY</td>\n",
       "      <td>WARD 1</td>\n",
       "      <td>PRECINCT 251</td>\n",
       "    </tr>\n",
       "    <tr>\n",
       "      <th>3382</th>\n",
       "      <td>3383</td>\n",
       "      <td>3966</td>\n",
       "      <td>1632200001252</td>\n",
       "      <td>163</td>\n",
       "      <td>22000</td>\n",
       "      <td>2016</td>\n",
       "      <td>DETROIT CITY; WARD 1; PRECINCT 252</td>\n",
       "      <td>608157.789062</td>\n",
       "      <td>3318.060315</td>\n",
       "      <td>POLYGON ((731141.400 210422.333, 731045.473 21...</td>\n",
       "      <td>163DETROIT CITY; WARD 1; PRECINCT 252</td>\n",
       "      <td>DETROIT CITY</td>\n",
       "      <td>WARD 1</td>\n",
       "      <td>PRECINCT 252</td>\n",
       "    </tr>\n",
       "    <tr>\n",
       "      <th>3383</th>\n",
       "      <td>3384</td>\n",
       "      <td>3967</td>\n",
       "      <td>1632200001253</td>\n",
       "      <td>163</td>\n",
       "      <td>22000</td>\n",
       "      <td>2016</td>\n",
       "      <td>DETROIT CITY; WARD 1; PRECINCT 253</td>\n",
       "      <td>593334.023438</td>\n",
       "      <td>3275.869380</td>\n",
       "      <td>POLYGON ((730734.783 210391.129, 730642.624 21...</td>\n",
       "      <td>163DETROIT CITY; WARD 1; PRECINCT 253</td>\n",
       "      <td>DETROIT CITY</td>\n",
       "      <td>WARD 1</td>\n",
       "      <td>PRECINCT 253</td>\n",
       "    </tr>\n",
       "    <tr>\n",
       "      <th>3384</th>\n",
       "      <td>3385</td>\n",
       "      <td>3968</td>\n",
       "      <td>1632200001254</td>\n",
       "      <td>163</td>\n",
       "      <td>22000</td>\n",
       "      <td>2016</td>\n",
       "      <td>DETROIT CITY; WARD 1; PRECINCT 254</td>\n",
       "      <td>889784.761719</td>\n",
       "      <td>3811.826884</td>\n",
       "      <td>POLYGON ((730486.174 209565.916, 730391.204 20...</td>\n",
       "      <td>163DETROIT CITY; WARD 1; PRECINCT 254</td>\n",
       "      <td>DETROIT CITY</td>\n",
       "      <td>WARD 1</td>\n",
       "      <td>PRECINCT 254</td>\n",
       "    </tr>\n",
       "    <tr>\n",
       "      <th>3385</th>\n",
       "      <td>3386</td>\n",
       "      <td>3969</td>\n",
       "      <td>1632200001261</td>\n",
       "      <td>163</td>\n",
       "      <td>22000</td>\n",
       "      <td>2016</td>\n",
       "      <td>DETROIT CITY; WARD 1; PRECINCT 261</td>\n",
       "      <td>910865.644531</td>\n",
       "      <td>4177.234745</td>\n",
       "      <td>POLYGON ((723697.557 213933.096, 723693.243 21...</td>\n",
       "      <td>163DETROIT CITY; WARD 1; PRECINCT 261</td>\n",
       "      <td>DETROIT CITY</td>\n",
       "      <td>WARD 1</td>\n",
       "      <td>PRECINCT 261</td>\n",
       "    </tr>\n",
       "  </tbody>\n",
       "</table>\n",
       "</div>"
      ],
      "text/plain": [
       "      OBJECTID    Id        VTD2016 CountyFips Jurisdicti  ElectionYe  \\\n",
       "3381      3382  3965  1632200001251        163      22000        2016   \n",
       "3382      3383  3966  1632200001252        163      22000        2016   \n",
       "3383      3384  3967  1632200001253        163      22000        2016   \n",
       "3384      3385  3968  1632200001254        163      22000        2016   \n",
       "3385      3386  3969  1632200001261        163      22000        2016   \n",
       "\n",
       "                                   Label     ShapeSTAre   ShapeSTLen  \\\n",
       "3381  DETROIT CITY; WARD 1; PRECINCT 251  543209.195312  3199.235100   \n",
       "3382  DETROIT CITY; WARD 1; PRECINCT 252  608157.789062  3318.060315   \n",
       "3383  DETROIT CITY; WARD 1; PRECINCT 253  593334.023438  3275.869380   \n",
       "3384  DETROIT CITY; WARD 1; PRECINCT 254  889784.761719  3811.826884   \n",
       "3385  DETROIT CITY; WARD 1; PRECINCT 261  910865.644531  4177.234745   \n",
       "\n",
       "                                               geometry  \\\n",
       "3381  POLYGON ((731235.023 210429.589, 731141.400 21...   \n",
       "3382  POLYGON ((731141.400 210422.333, 731045.473 21...   \n",
       "3383  POLYGON ((730734.783 210391.129, 730642.624 21...   \n",
       "3384  POLYGON ((730486.174 209565.916, 730391.204 20...   \n",
       "3385  POLYGON ((723697.557 213933.096, 723693.243 21...   \n",
       "\n",
       "                            county_precinct          City     Ward  \\\n",
       "3381  163DETROIT CITY; WARD 1; PRECINCT 251  DETROIT CITY   WARD 1   \n",
       "3382  163DETROIT CITY; WARD 1; PRECINCT 252  DETROIT CITY   WARD 1   \n",
       "3383  163DETROIT CITY; WARD 1; PRECINCT 253  DETROIT CITY   WARD 1   \n",
       "3384  163DETROIT CITY; WARD 1; PRECINCT 254  DETROIT CITY   WARD 1   \n",
       "3385  163DETROIT CITY; WARD 1; PRECINCT 261  DETROIT CITY   WARD 1   \n",
       "\n",
       "           Precinct  \n",
       "3381   PRECINCT 251  \n",
       "3382   PRECINCT 252  \n",
       "3383   PRECINCT 253  \n",
       "3384   PRECINCT 254  \n",
       "3385   PRECINCT 261  "
      ]
     },
     "execution_count": 99,
     "metadata": {},
     "output_type": "execute_result"
    }
   ],
   "source": [
    "gdf_detroit[['City','Ward','Precinct']] = gdf_detroit['Label'].str.split(';',expand=True)\n",
    "gdf_detroit.head(5)"
   ]
  },
  {
   "cell_type": "markdown",
   "metadata": {},
   "source": [
    "Detroit City precincts also don't have 'Precinct' in the election results. Remove that and make a new column: "
   ]
  },
  {
   "cell_type": "code",
   "execution_count": 100,
   "metadata": {},
   "outputs": [
    {
     "data": {
      "text/html": [
       "<div>\n",
       "<style scoped>\n",
       "    .dataframe tbody tr th:only-of-type {\n",
       "        vertical-align: middle;\n",
       "    }\n",
       "\n",
       "    .dataframe tbody tr th {\n",
       "        vertical-align: top;\n",
       "    }\n",
       "\n",
       "    .dataframe thead th {\n",
       "        text-align: right;\n",
       "    }\n",
       "</style>\n",
       "<table border=\"1\" class=\"dataframe\">\n",
       "  <thead>\n",
       "    <tr style=\"text-align: right;\">\n",
       "      <th></th>\n",
       "      <th>OBJECTID</th>\n",
       "      <th>Id</th>\n",
       "      <th>VTD2016</th>\n",
       "      <th>CountyFips</th>\n",
       "      <th>Jurisdicti</th>\n",
       "      <th>ElectionYe</th>\n",
       "      <th>Label</th>\n",
       "      <th>ShapeSTAre</th>\n",
       "      <th>ShapeSTLen</th>\n",
       "      <th>geometry</th>\n",
       "      <th>county_precinct</th>\n",
       "      <th>City</th>\n",
       "      <th>Ward</th>\n",
       "      <th>Precinct</th>\n",
       "      <th>new_label</th>\n",
       "    </tr>\n",
       "  </thead>\n",
       "  <tbody>\n",
       "    <tr>\n",
       "      <th>3381</th>\n",
       "      <td>3382</td>\n",
       "      <td>3965</td>\n",
       "      <td>1632200001251</td>\n",
       "      <td>163</td>\n",
       "      <td>22000</td>\n",
       "      <td>2016</td>\n",
       "      <td>DETROIT CITY; WARD 1; PRECINCT 251</td>\n",
       "      <td>543209.195312</td>\n",
       "      <td>3199.235100</td>\n",
       "      <td>POLYGON ((731235.023 210429.589, 731141.400 21...</td>\n",
       "      <td>163DETROIT CITY; WARD 1; PRECINCT 251</td>\n",
       "      <td>DETROIT CITY</td>\n",
       "      <td>WARD 1</td>\n",
       "      <td>251</td>\n",
       "      <td>DETROIT CITY; 251</td>\n",
       "    </tr>\n",
       "    <tr>\n",
       "      <th>3382</th>\n",
       "      <td>3383</td>\n",
       "      <td>3966</td>\n",
       "      <td>1632200001252</td>\n",
       "      <td>163</td>\n",
       "      <td>22000</td>\n",
       "      <td>2016</td>\n",
       "      <td>DETROIT CITY; WARD 1; PRECINCT 252</td>\n",
       "      <td>608157.789062</td>\n",
       "      <td>3318.060315</td>\n",
       "      <td>POLYGON ((731141.400 210422.333, 731045.473 21...</td>\n",
       "      <td>163DETROIT CITY; WARD 1; PRECINCT 252</td>\n",
       "      <td>DETROIT CITY</td>\n",
       "      <td>WARD 1</td>\n",
       "      <td>252</td>\n",
       "      <td>DETROIT CITY; 252</td>\n",
       "    </tr>\n",
       "    <tr>\n",
       "      <th>3383</th>\n",
       "      <td>3384</td>\n",
       "      <td>3967</td>\n",
       "      <td>1632200001253</td>\n",
       "      <td>163</td>\n",
       "      <td>22000</td>\n",
       "      <td>2016</td>\n",
       "      <td>DETROIT CITY; WARD 1; PRECINCT 253</td>\n",
       "      <td>593334.023438</td>\n",
       "      <td>3275.869380</td>\n",
       "      <td>POLYGON ((730734.783 210391.129, 730642.624 21...</td>\n",
       "      <td>163DETROIT CITY; WARD 1; PRECINCT 253</td>\n",
       "      <td>DETROIT CITY</td>\n",
       "      <td>WARD 1</td>\n",
       "      <td>253</td>\n",
       "      <td>DETROIT CITY; 253</td>\n",
       "    </tr>\n",
       "  </tbody>\n",
       "</table>\n",
       "</div>"
      ],
      "text/plain": [
       "      OBJECTID    Id        VTD2016 CountyFips Jurisdicti  ElectionYe  \\\n",
       "3381      3382  3965  1632200001251        163      22000        2016   \n",
       "3382      3383  3966  1632200001252        163      22000        2016   \n",
       "3383      3384  3967  1632200001253        163      22000        2016   \n",
       "\n",
       "                                   Label     ShapeSTAre   ShapeSTLen  \\\n",
       "3381  DETROIT CITY; WARD 1; PRECINCT 251  543209.195312  3199.235100   \n",
       "3382  DETROIT CITY; WARD 1; PRECINCT 252  608157.789062  3318.060315   \n",
       "3383  DETROIT CITY; WARD 1; PRECINCT 253  593334.023438  3275.869380   \n",
       "\n",
       "                                               geometry  \\\n",
       "3381  POLYGON ((731235.023 210429.589, 731141.400 21...   \n",
       "3382  POLYGON ((731141.400 210422.333, 731045.473 21...   \n",
       "3383  POLYGON ((730734.783 210391.129, 730642.624 21...   \n",
       "\n",
       "                            county_precinct          City     Ward Precinct  \\\n",
       "3381  163DETROIT CITY; WARD 1; PRECINCT 251  DETROIT CITY   WARD 1      251   \n",
       "3382  163DETROIT CITY; WARD 1; PRECINCT 252  DETROIT CITY   WARD 1      252   \n",
       "3383  163DETROIT CITY; WARD 1; PRECINCT 253  DETROIT CITY   WARD 1      253   \n",
       "\n",
       "              new_label  \n",
       "3381  DETROIT CITY; 251  \n",
       "3382  DETROIT CITY; 252  \n",
       "3383  DETROIT CITY; 253  "
      ]
     },
     "execution_count": 100,
     "metadata": {},
     "output_type": "execute_result"
    }
   ],
   "source": [
    "gdf_detroit['Precinct'] = gdf_detroit['Precinct'].map(lambda x: x.lstrip('PRECINCT '))\n",
    "gdf_detroit['new_label'] = gdf_detroit['City'] + \"; \" + gdf_detroit['Precinct']\n",
    "gdf_detroit.head(3)"
   ]
  },
  {
   "cell_type": "markdown",
   "metadata": {},
   "source": [
    "Remake the county_precinct merge field"
   ]
  },
  {
   "cell_type": "code",
   "execution_count": 101,
   "metadata": {},
   "outputs": [],
   "source": [
    "gdf_detroit['county_precinct'] = gdf_detroit['CountyFips'] + gdf_detroit['new_label']"
   ]
  },
  {
   "cell_type": "markdown",
   "metadata": {},
   "source": [
    "Now try to merge the detroit city DFs"
   ]
  },
  {
   "cell_type": "code",
   "execution_count": 102,
   "metadata": {},
   "outputs": [],
   "source": [
    "df_merged_detroit = gdf_detroit.merge(df_detroit, how = 'outer', on = 'county_precinct', indicator = True)"
   ]
  },
  {
   "cell_type": "code",
   "execution_count": 103,
   "metadata": {},
   "outputs": [
    {
     "data": {
      "text/html": [
       "<div>\n",
       "<style scoped>\n",
       "    .dataframe tbody tr th:only-of-type {\n",
       "        vertical-align: middle;\n",
       "    }\n",
       "\n",
       "    .dataframe tbody tr th {\n",
       "        vertical-align: top;\n",
       "    }\n",
       "\n",
       "    .dataframe thead th {\n",
       "        text-align: right;\n",
       "    }\n",
       "</style>\n",
       "<table border=\"1\" class=\"dataframe\">\n",
       "  <thead>\n",
       "    <tr style=\"text-align: right;\">\n",
       "      <th></th>\n",
       "      <th>OBJECTID</th>\n",
       "      <th>Id</th>\n",
       "      <th>VTD2016</th>\n",
       "      <th>CountyFips</th>\n",
       "      <th>Jurisdicti</th>\n",
       "      <th>ElectionYe</th>\n",
       "      <th>Label</th>\n",
       "      <th>ShapeSTAre</th>\n",
       "      <th>ShapeSTLen</th>\n",
       "      <th>geometry</th>\n",
       "      <th>...</th>\n",
       "      <th>Precinct</th>\n",
       "      <th>new_label</th>\n",
       "      <th>county_name</th>\n",
       "      <th>county_fips</th>\n",
       "      <th>precinct</th>\n",
       "      <th>votes_democratic</th>\n",
       "      <th>votes_green</th>\n",
       "      <th>votes_libertarian</th>\n",
       "      <th>votes_republican</th>\n",
       "      <th>_merge</th>\n",
       "    </tr>\n",
       "  </thead>\n",
       "  <tbody>\n",
       "    <tr>\n",
       "      <th>0</th>\n",
       "      <td>3382.0</td>\n",
       "      <td>3965.0</td>\n",
       "      <td>1632200001251</td>\n",
       "      <td>163</td>\n",
       "      <td>22000</td>\n",
       "      <td>2016.0</td>\n",
       "      <td>DETROIT CITY; WARD 1; PRECINCT 251</td>\n",
       "      <td>543209.195312</td>\n",
       "      <td>3199.235100</td>\n",
       "      <td>POLYGON ((731235.023 210429.589, 731141.400 21...</td>\n",
       "      <td>...</td>\n",
       "      <td>251</td>\n",
       "      <td>DETROIT CITY; 251</td>\n",
       "      <td>Wayne County</td>\n",
       "      <td>163</td>\n",
       "      <td>DETROIT CITY; 251</td>\n",
       "      <td>345</td>\n",
       "      <td>1</td>\n",
       "      <td>1</td>\n",
       "      <td>6</td>\n",
       "      <td>both</td>\n",
       "    </tr>\n",
       "    <tr>\n",
       "      <th>1</th>\n",
       "      <td>3383.0</td>\n",
       "      <td>3966.0</td>\n",
       "      <td>1632200001252</td>\n",
       "      <td>163</td>\n",
       "      <td>22000</td>\n",
       "      <td>2016.0</td>\n",
       "      <td>DETROIT CITY; WARD 1; PRECINCT 252</td>\n",
       "      <td>608157.789062</td>\n",
       "      <td>3318.060315</td>\n",
       "      <td>POLYGON ((731141.400 210422.333, 731045.473 21...</td>\n",
       "      <td>...</td>\n",
       "      <td>252</td>\n",
       "      <td>DETROIT CITY; 252</td>\n",
       "      <td>Wayne County</td>\n",
       "      <td>163</td>\n",
       "      <td>DETROIT CITY; 252</td>\n",
       "      <td>365</td>\n",
       "      <td>2</td>\n",
       "      <td>1</td>\n",
       "      <td>3</td>\n",
       "      <td>both</td>\n",
       "    </tr>\n",
       "    <tr>\n",
       "      <th>2</th>\n",
       "      <td>3384.0</td>\n",
       "      <td>3967.0</td>\n",
       "      <td>1632200001253</td>\n",
       "      <td>163</td>\n",
       "      <td>22000</td>\n",
       "      <td>2016.0</td>\n",
       "      <td>DETROIT CITY; WARD 1; PRECINCT 253</td>\n",
       "      <td>593334.023438</td>\n",
       "      <td>3275.869380</td>\n",
       "      <td>POLYGON ((730734.783 210391.129, 730642.624 21...</td>\n",
       "      <td>...</td>\n",
       "      <td>253</td>\n",
       "      <td>DETROIT CITY; 253</td>\n",
       "      <td>Wayne County</td>\n",
       "      <td>163</td>\n",
       "      <td>DETROIT CITY; 253</td>\n",
       "      <td>385</td>\n",
       "      <td>3</td>\n",
       "      <td>0</td>\n",
       "      <td>7</td>\n",
       "      <td>both</td>\n",
       "    </tr>\n",
       "  </tbody>\n",
       "</table>\n",
       "<p>3 rows × 23 columns</p>\n",
       "</div>"
      ],
      "text/plain": [
       "   OBJECTID      Id        VTD2016 CountyFips Jurisdicti  ElectionYe  \\\n",
       "0    3382.0  3965.0  1632200001251        163      22000      2016.0   \n",
       "1    3383.0  3966.0  1632200001252        163      22000      2016.0   \n",
       "2    3384.0  3967.0  1632200001253        163      22000      2016.0   \n",
       "\n",
       "                                Label     ShapeSTAre   ShapeSTLen  \\\n",
       "0  DETROIT CITY; WARD 1; PRECINCT 251  543209.195312  3199.235100   \n",
       "1  DETROIT CITY; WARD 1; PRECINCT 252  608157.789062  3318.060315   \n",
       "2  DETROIT CITY; WARD 1; PRECINCT 253  593334.023438  3275.869380   \n",
       "\n",
       "                                            geometry  ... Precinct  \\\n",
       "0  POLYGON ((731235.023 210429.589, 731141.400 21...  ...      251   \n",
       "1  POLYGON ((731141.400 210422.333, 731045.473 21...  ...      252   \n",
       "2  POLYGON ((730734.783 210391.129, 730642.624 21...  ...      253   \n",
       "\n",
       "           new_label   county_name county_fips           precinct  \\\n",
       "0  DETROIT CITY; 251  Wayne County         163  DETROIT CITY; 251   \n",
       "1  DETROIT CITY; 252  Wayne County         163  DETROIT CITY; 252   \n",
       "2  DETROIT CITY; 253  Wayne County         163  DETROIT CITY; 253   \n",
       "\n",
       "  votes_democratic votes_green votes_libertarian  votes_republican  _merge  \n",
       "0              345           1                 1                 6    both  \n",
       "1              365           2                 1                 3    both  \n",
       "2              385           3                 0                 7    both  \n",
       "\n",
       "[3 rows x 23 columns]"
      ]
     },
     "execution_count": 103,
     "metadata": {},
     "output_type": "execute_result"
    }
   ],
   "source": [
    "df_merged_detroit.head(3)"
   ]
  },
  {
   "cell_type": "code",
   "execution_count": 104,
   "metadata": {},
   "outputs": [
    {
     "data": {
      "text/html": [
       "<div>\n",
       "<style scoped>\n",
       "    .dataframe tbody tr th:only-of-type {\n",
       "        vertical-align: middle;\n",
       "    }\n",
       "\n",
       "    .dataframe tbody tr th {\n",
       "        vertical-align: top;\n",
       "    }\n",
       "\n",
       "    .dataframe thead th {\n",
       "        text-align: right;\n",
       "    }\n",
       "</style>\n",
       "<table border=\"1\" class=\"dataframe\">\n",
       "  <thead>\n",
       "    <tr style=\"text-align: right;\">\n",
       "      <th></th>\n",
       "      <th>OBJECTID</th>\n",
       "      <th>Id</th>\n",
       "      <th>VTD2016</th>\n",
       "      <th>CountyFips</th>\n",
       "      <th>Jurisdicti</th>\n",
       "      <th>ElectionYe</th>\n",
       "      <th>Label</th>\n",
       "      <th>ShapeSTAre</th>\n",
       "      <th>ShapeSTLen</th>\n",
       "      <th>geometry</th>\n",
       "      <th>...</th>\n",
       "      <th>Ward</th>\n",
       "      <th>Precinct</th>\n",
       "      <th>new_label</th>\n",
       "      <th>county_name</th>\n",
       "      <th>county_fips</th>\n",
       "      <th>precinct</th>\n",
       "      <th>votes_democratic</th>\n",
       "      <th>votes_green</th>\n",
       "      <th>votes_libertarian</th>\n",
       "      <th>votes_republican</th>\n",
       "    </tr>\n",
       "    <tr>\n",
       "      <th>_merge</th>\n",
       "      <th></th>\n",
       "      <th></th>\n",
       "      <th></th>\n",
       "      <th></th>\n",
       "      <th></th>\n",
       "      <th></th>\n",
       "      <th></th>\n",
       "      <th></th>\n",
       "      <th></th>\n",
       "      <th></th>\n",
       "      <th></th>\n",
       "      <th></th>\n",
       "      <th></th>\n",
       "      <th></th>\n",
       "      <th></th>\n",
       "      <th></th>\n",
       "      <th></th>\n",
       "      <th></th>\n",
       "      <th></th>\n",
       "      <th></th>\n",
       "      <th></th>\n",
       "    </tr>\n",
       "  </thead>\n",
       "  <tbody>\n",
       "    <tr>\n",
       "      <th>left_only</th>\n",
       "      <td>0</td>\n",
       "      <td>0</td>\n",
       "      <td>0</td>\n",
       "      <td>0</td>\n",
       "      <td>0</td>\n",
       "      <td>0</td>\n",
       "      <td>0</td>\n",
       "      <td>0</td>\n",
       "      <td>0</td>\n",
       "      <td>0</td>\n",
       "      <td>...</td>\n",
       "      <td>0</td>\n",
       "      <td>0</td>\n",
       "      <td>0</td>\n",
       "      <td>0</td>\n",
       "      <td>0</td>\n",
       "      <td>0</td>\n",
       "      <td>0</td>\n",
       "      <td>0</td>\n",
       "      <td>0</td>\n",
       "      <td>0</td>\n",
       "    </tr>\n",
       "    <tr>\n",
       "      <th>right_only</th>\n",
       "      <td>0</td>\n",
       "      <td>0</td>\n",
       "      <td>0</td>\n",
       "      <td>0</td>\n",
       "      <td>0</td>\n",
       "      <td>0</td>\n",
       "      <td>0</td>\n",
       "      <td>0</td>\n",
       "      <td>0</td>\n",
       "      <td>0</td>\n",
       "      <td>...</td>\n",
       "      <td>0</td>\n",
       "      <td>0</td>\n",
       "      <td>0</td>\n",
       "      <td>172</td>\n",
       "      <td>172</td>\n",
       "      <td>172</td>\n",
       "      <td>172</td>\n",
       "      <td>172</td>\n",
       "      <td>172</td>\n",
       "      <td>172</td>\n",
       "    </tr>\n",
       "    <tr>\n",
       "      <th>both</th>\n",
       "      <td>490</td>\n",
       "      <td>490</td>\n",
       "      <td>490</td>\n",
       "      <td>490</td>\n",
       "      <td>490</td>\n",
       "      <td>490</td>\n",
       "      <td>490</td>\n",
       "      <td>490</td>\n",
       "      <td>490</td>\n",
       "      <td>490</td>\n",
       "      <td>...</td>\n",
       "      <td>490</td>\n",
       "      <td>490</td>\n",
       "      <td>490</td>\n",
       "      <td>490</td>\n",
       "      <td>490</td>\n",
       "      <td>490</td>\n",
       "      <td>490</td>\n",
       "      <td>490</td>\n",
       "      <td>490</td>\n",
       "      <td>490</td>\n",
       "    </tr>\n",
       "  </tbody>\n",
       "</table>\n",
       "<p>3 rows × 22 columns</p>\n",
       "</div>"
      ],
      "text/plain": [
       "            OBJECTID   Id  VTD2016  CountyFips  Jurisdicti  ElectionYe  Label  \\\n",
       "_merge                                                                          \n",
       "left_only          0    0        0           0           0           0      0   \n",
       "right_only         0    0        0           0           0           0      0   \n",
       "both             490  490      490         490         490         490    490   \n",
       "\n",
       "            ShapeSTAre  ShapeSTLen  geometry  ...  Ward  Precinct  new_label  \\\n",
       "_merge                                        ...                              \n",
       "left_only            0           0         0  ...     0         0          0   \n",
       "right_only           0           0         0  ...     0         0          0   \n",
       "both               490         490       490  ...   490       490        490   \n",
       "\n",
       "            county_name  county_fips  precinct  votes_democratic  votes_green  \\\n",
       "_merge                                                                          \n",
       "left_only             0            0         0                 0            0   \n",
       "right_only          172          172       172               172          172   \n",
       "both                490          490       490               490          490   \n",
       "\n",
       "            votes_libertarian  votes_republican  \n",
       "_merge                                           \n",
       "left_only                   0                 0  \n",
       "right_only                172               172  \n",
       "both                      490               490  \n",
       "\n",
       "[3 rows x 22 columns]"
      ]
     },
     "execution_count": 104,
     "metadata": {},
     "output_type": "execute_result"
    }
   ],
   "source": [
    "df_merged_detroit.groupby('_merge').count()"
   ]
  },
  {
   "cell_type": "markdown",
   "metadata": {},
   "source": [
    "So that dealt with most of the join, but there's still more in the df. How did MGGG account for removing AVCB rows? Take an example... "
   ]
  },
  {
   "cell_type": "code",
   "execution_count": 105,
   "metadata": {},
   "outputs": [
    {
     "data": {
      "text/plain": [
       "Index(['VTD2016_x', 'ShapeSTLen', 'CountyFips', 'Jurisdicti', 'ElectionYe',\n",
       "       'Label', 'VTD', 'county_nam', 'county_fip', 'county_lat', 'county_lon',\n",
       "       'jurisdic_1', 'precinct', 'PRES16D', 'PRES16R', 'PRES16L', 'PRES16G',\n",
       "       'TOTPOP', 'NH_WHITE', 'NH_BLACK', 'NH_AMIN', 'NH_ASIAN', 'NH_NHPI',\n",
       "       'NH_OTHER', 'HISP', 'H_WHITE', 'H_BLACK', 'H_AMIN', 'H_ASIAN', 'H_NHPI',\n",
       "       'H_OTHER', 'VAP', 'HVAP', 'WVAP', 'BVAP', 'AMINVAP', 'ASIANVAP',\n",
       "       'NHPIVAP', 'OTHERVAP', '2MOREVAP', 'HDIST', 'SENDIST', 'CD',\n",
       "       'geometry'],\n",
       "      dtype='object')"
      ]
     },
     "execution_count": 105,
     "metadata": {},
     "output_type": "execute_result"
    }
   ],
   "source": [
    "mggg_final_shp.columns"
   ]
  },
  {
   "cell_type": "code",
   "execution_count": 106,
   "metadata": {},
   "outputs": [
    {
     "data": {
      "text/html": [
       "<div>\n",
       "<style scoped>\n",
       "    .dataframe tbody tr th:only-of-type {\n",
       "        vertical-align: middle;\n",
       "    }\n",
       "\n",
       "    .dataframe tbody tr th {\n",
       "        vertical-align: top;\n",
       "    }\n",
       "\n",
       "    .dataframe thead th {\n",
       "        text-align: right;\n",
       "    }\n",
       "</style>\n",
       "<table border=\"1\" class=\"dataframe\">\n",
       "  <thead>\n",
       "    <tr style=\"text-align: right;\">\n",
       "      <th></th>\n",
       "      <th>county_fip</th>\n",
       "      <th>precinct</th>\n",
       "      <th>PRES16D</th>\n",
       "      <th>PRES16R</th>\n",
       "      <th>PRES16L</th>\n",
       "      <th>PRES16G</th>\n",
       "    </tr>\n",
       "  </thead>\n",
       "  <tbody>\n",
       "    <tr>\n",
       "      <th>0</th>\n",
       "      <td>26005</td>\n",
       "      <td>SOUTH HAVEN CITY; 1</td>\n",
       "      <td>4</td>\n",
       "      <td>1</td>\n",
       "      <td>0</td>\n",
       "      <td>0</td>\n",
       "    </tr>\n",
       "    <tr>\n",
       "      <th>1</th>\n",
       "      <td>26163</td>\n",
       "      <td>DETROIT CITY; 11</td>\n",
       "      <td>49</td>\n",
       "      <td>0</td>\n",
       "      <td>0</td>\n",
       "      <td>0</td>\n",
       "    </tr>\n",
       "    <tr>\n",
       "      <th>2</th>\n",
       "      <td>26163</td>\n",
       "      <td>DETROIT CITY; 454</td>\n",
       "      <td>4</td>\n",
       "      <td>0</td>\n",
       "      <td>0</td>\n",
       "      <td>0</td>\n",
       "    </tr>\n",
       "  </tbody>\n",
       "</table>\n",
       "</div>"
      ],
      "text/plain": [
       "   county_fip             precinct  PRES16D  PRES16R  PRES16L  PRES16G\n",
       "0       26005  SOUTH HAVEN CITY; 1        4        1        0        0\n",
       "1       26163     DETROIT CITY; 11       49        0        0        0\n",
       "2       26163    DETROIT CITY; 454        4        0        0        0"
      ]
     },
     "execution_count": 106,
     "metadata": {},
     "output_type": "execute_result"
    }
   ],
   "source": [
    "mggg_final_shp[['county_fip','precinct','PRES16D','PRES16R','PRES16L','PRES16G']].head(3)"
   ]
  },
  {
   "cell_type": "code",
   "execution_count": 107,
   "metadata": {},
   "outputs": [
    {
     "data": {
      "text/html": [
       "<div>\n",
       "<style scoped>\n",
       "    .dataframe tbody tr th:only-of-type {\n",
       "        vertical-align: middle;\n",
       "    }\n",
       "\n",
       "    .dataframe tbody tr th {\n",
       "        vertical-align: top;\n",
       "    }\n",
       "\n",
       "    .dataframe thead th {\n",
       "        text-align: right;\n",
       "    }\n",
       "</style>\n",
       "<table border=\"1\" class=\"dataframe\">\n",
       "  <thead>\n",
       "    <tr style=\"text-align: right;\">\n",
       "      <th></th>\n",
       "      <th>VTD2016_x</th>\n",
       "      <th>ShapeSTLen</th>\n",
       "      <th>CountyFips</th>\n",
       "      <th>Jurisdicti</th>\n",
       "      <th>ElectionYe</th>\n",
       "      <th>Label</th>\n",
       "      <th>VTD</th>\n",
       "      <th>county_nam</th>\n",
       "      <th>county_fip</th>\n",
       "      <th>county_lat</th>\n",
       "      <th>...</th>\n",
       "      <th>BVAP</th>\n",
       "      <th>AMINVAP</th>\n",
       "      <th>ASIANVAP</th>\n",
       "      <th>NHPIVAP</th>\n",
       "      <th>OTHERVAP</th>\n",
       "      <th>2MOREVAP</th>\n",
       "      <th>HDIST</th>\n",
       "      <th>SENDIST</th>\n",
       "      <th>CD</th>\n",
       "      <th>geometry</th>\n",
       "    </tr>\n",
       "  </thead>\n",
       "  <tbody>\n",
       "  </tbody>\n",
       "</table>\n",
       "<p>0 rows × 44 columns</p>\n",
       "</div>"
      ],
      "text/plain": [
       "Empty GeoDataFrame\n",
       "Columns: [VTD2016_x, ShapeSTLen, CountyFips, Jurisdicti, ElectionYe, Label, VTD, county_nam, county_fip, county_lat, county_lon, jurisdic_1, precinct, PRES16D, PRES16R, PRES16L, PRES16G, TOTPOP, NH_WHITE, NH_BLACK, NH_AMIN, NH_ASIAN, NH_NHPI, NH_OTHER, HISP, H_WHITE, H_BLACK, H_AMIN, H_ASIAN, H_NHPI, H_OTHER, VAP, HVAP, WVAP, BVAP, AMINVAP, ASIANVAP, NHPIVAP, OTHERVAP, 2MOREVAP, HDIST, SENDIST, CD, geometry]\n",
       "Index: []\n",
       "\n",
       "[0 rows x 44 columns]"
      ]
     },
     "execution_count": 107,
     "metadata": {},
     "output_type": "execute_result"
    }
   ],
   "source": [
    "mggg_final_shp[mggg_final_shp['precinct'].str.contains('AVCB', case = False)]"
   ]
  },
  {
   "cell_type": "markdown",
   "metadata": {},
   "source": [
    "It looks like detroit city;99 may have associated avcb results in the election results file, but mggg doesn't have them in theirs. "
   ]
  },
  {
   "cell_type": "code",
   "execution_count": 108,
   "metadata": {},
   "outputs": [
    {
     "data": {
      "text/html": [
       "<div>\n",
       "<style scoped>\n",
       "    .dataframe tbody tr th:only-of-type {\n",
       "        vertical-align: middle;\n",
       "    }\n",
       "\n",
       "    .dataframe tbody tr th {\n",
       "        vertical-align: top;\n",
       "    }\n",
       "\n",
       "    .dataframe thead th {\n",
       "        text-align: right;\n",
       "    }\n",
       "</style>\n",
       "<table border=\"1\" class=\"dataframe\">\n",
       "  <thead>\n",
       "    <tr style=\"text-align: right;\">\n",
       "      <th></th>\n",
       "      <th>county_fip</th>\n",
       "      <th>precinct</th>\n",
       "      <th>PRES16D</th>\n",
       "      <th>PRES16R</th>\n",
       "      <th>PRES16L</th>\n",
       "      <th>PRES16G</th>\n",
       "    </tr>\n",
       "  </thead>\n",
       "  <tbody>\n",
       "    <tr>\n",
       "      <th>27</th>\n",
       "      <td>26163</td>\n",
       "      <td>DETROIT CITY; 99</td>\n",
       "      <td>100</td>\n",
       "      <td>5</td>\n",
       "      <td>1</td>\n",
       "      <td>3</td>\n",
       "    </tr>\n",
       "  </tbody>\n",
       "</table>\n",
       "</div>"
      ],
      "text/plain": [
       "    county_fip          precinct  PRES16D  PRES16R  PRES16L  PRES16G\n",
       "27       26163  DETROIT CITY; 99      100        5        1        3"
      ]
     },
     "execution_count": 108,
     "metadata": {},
     "output_type": "execute_result"
    }
   ],
   "source": [
    "mggg_final_shp[['county_fip','precinct','PRES16D','PRES16R','PRES16L','PRES16G']][mggg_final_shp['precinct'].str.contains('detroit city; 99', case = False)]"
   ]
  },
  {
   "cell_type": "code",
   "execution_count": 109,
   "metadata": {},
   "outputs": [
    {
     "data": {
      "text/html": [
       "<div>\n",
       "<style scoped>\n",
       "    .dataframe tbody tr th:only-of-type {\n",
       "        vertical-align: middle;\n",
       "    }\n",
       "\n",
       "    .dataframe tbody tr th {\n",
       "        vertical-align: top;\n",
       "    }\n",
       "\n",
       "    .dataframe thead th {\n",
       "        text-align: right;\n",
       "    }\n",
       "</style>\n",
       "<table border=\"1\" class=\"dataframe\">\n",
       "  <thead>\n",
       "    <tr style=\"text-align: right;\">\n",
       "      <th></th>\n",
       "      <th>county_fip</th>\n",
       "      <th>precinct</th>\n",
       "      <th>PRES16D</th>\n",
       "      <th>PRES16R</th>\n",
       "      <th>PRES16L</th>\n",
       "      <th>PRES16G</th>\n",
       "    </tr>\n",
       "  </thead>\n",
       "  <tbody>\n",
       "  </tbody>\n",
       "</table>\n",
       "</div>"
      ],
      "text/plain": [
       "Empty DataFrame\n",
       "Columns: [county_fip, precinct, PRES16D, PRES16R, PRES16L, PRES16G]\n",
       "Index: []"
      ]
     },
     "execution_count": 109,
     "metadata": {},
     "output_type": "execute_result"
    }
   ],
   "source": [
    "mggg_final_shp[['county_fip','precinct','PRES16D','PRES16R','PRES16L','PRES16G']][mggg_final_shp['precinct'].str.contains('detroit city; 950', case = False)]"
   ]
  },
  {
   "cell_type": "markdown",
   "metadata": {},
   "source": [
    "So looks like mggg just left out the avcb rows. Get the counts to confirm."
   ]
  },
  {
   "cell_type": "code",
   "execution_count": 110,
   "metadata": {},
   "outputs": [
    {
     "data": {
      "text/plain": [
       "490"
      ]
     },
     "execution_count": 110,
     "metadata": {},
     "output_type": "execute_result"
    }
   ],
   "source": [
    "len(mggg_final_shp[mggg_final_shp['precinct'].str.contains('DETROIT CITY', case = False)])"
   ]
  },
  {
   "cell_type": "code",
   "execution_count": 111,
   "metadata": {},
   "outputs": [
    {
     "data": {
      "text/plain": [
       "662"
      ]
     },
     "execution_count": 111,
     "metadata": {},
     "output_type": "execute_result"
    }
   ],
   "source": [
    "len(df_merged_detroit)"
   ]
  },
  {
   "cell_type": "markdown",
   "metadata": {},
   "source": [
    "Replace Detroit in the main df so that we can get overall counts of what we could join"
   ]
  },
  {
   "cell_type": "code",
   "execution_count": null,
   "metadata": {},
   "outputs": [],
   "source": []
  },
  {
   "cell_type": "markdown",
   "metadata": {},
   "source": [
    "### Takeaways\n",
    "- Re-run or replace Detroit in the main df above so that we can get overall counts of what we were able to join\n",
    "- Then we can get a more accurate count of how many precincts don't match"
   ]
  },
  {
   "cell_type": "markdown",
   "metadata": {},
   "source": [
    "## More Data Processing"
   ]
  },
  {
   "cell_type": "code",
   "execution_count": 112,
   "metadata": {},
   "outputs": [],
   "source": [
    "from reference_data import geoid_to_county_name\n",
    "#geoid_to_county_name"
   ]
  },
  {
   "cell_type": "code",
   "execution_count": 113,
   "metadata": {},
   "outputs": [
    {
     "data": {
      "text/html": [
       "<div>\n",
       "<style scoped>\n",
       "    .dataframe tbody tr th:only-of-type {\n",
       "        vertical-align: middle;\n",
       "    }\n",
       "\n",
       "    .dataframe tbody tr th {\n",
       "        vertical-align: top;\n",
       "    }\n",
       "\n",
       "    .dataframe thead th {\n",
       "        text-align: right;\n",
       "    }\n",
       "</style>\n",
       "<table border=\"1\" class=\"dataframe\">\n",
       "  <thead>\n",
       "    <tr style=\"text-align: right;\">\n",
       "      <th></th>\n",
       "      <th>OBJECTID</th>\n",
       "      <th>Id</th>\n",
       "      <th>VTD2016</th>\n",
       "      <th>CountyFips</th>\n",
       "      <th>Jurisdicti</th>\n",
       "      <th>ElectionYe</th>\n",
       "      <th>Label</th>\n",
       "      <th>ShapeSTAre</th>\n",
       "      <th>ShapeSTLen</th>\n",
       "      <th>geometry</th>\n",
       "      <th>county_precinct</th>\n",
       "    </tr>\n",
       "  </thead>\n",
       "  <tbody>\n",
       "    <tr>\n",
       "      <th>0</th>\n",
       "      <td>1</td>\n",
       "      <td>3888</td>\n",
       "      <td>1632100000001</td>\n",
       "      <td>163</td>\n",
       "      <td>21000</td>\n",
       "      <td>2016</td>\n",
       "      <td>DEARBORN CITY; 1</td>\n",
       "      <td>2.489738e+06</td>\n",
       "      <td>6846.254657</td>\n",
       "      <td>POLYGON ((734740.564 203392.197, 734729.230 20...</td>\n",
       "      <td>163DEARBORN CITY; 1</td>\n",
       "    </tr>\n",
       "    <tr>\n",
       "      <th>1</th>\n",
       "      <td>2</td>\n",
       "      <td>3889</td>\n",
       "      <td>1632100000002</td>\n",
       "      <td>163</td>\n",
       "      <td>21000</td>\n",
       "      <td>2016</td>\n",
       "      <td>DEARBORN CITY; 2</td>\n",
       "      <td>1.058362e+06</td>\n",
       "      <td>4621.388992</td>\n",
       "      <td>POLYGON ((733757.240 203553.421, 733767.280 20...</td>\n",
       "      <td>163DEARBORN CITY; 2</td>\n",
       "    </tr>\n",
       "    <tr>\n",
       "      <th>2</th>\n",
       "      <td>3</td>\n",
       "      <td>3890</td>\n",
       "      <td>1632100000003</td>\n",
       "      <td>163</td>\n",
       "      <td>21000</td>\n",
       "      <td>2016</td>\n",
       "      <td>DEARBORN CITY; 3</td>\n",
       "      <td>1.488846e+06</td>\n",
       "      <td>4909.715171</td>\n",
       "      <td>POLYGON ((733220.680 203094.269, 733125.455 20...</td>\n",
       "      <td>163DEARBORN CITY; 3</td>\n",
       "    </tr>\n",
       "    <tr>\n",
       "      <th>3</th>\n",
       "      <td>4</td>\n",
       "      <td>3891</td>\n",
       "      <td>1632100000004</td>\n",
       "      <td>163</td>\n",
       "      <td>21000</td>\n",
       "      <td>2016</td>\n",
       "      <td>DEARBORN CITY; 4</td>\n",
       "      <td>1.187165e+06</td>\n",
       "      <td>4354.743602</td>\n",
       "      <td>POLYGON ((732401.480 203234.816, 732303.854 20...</td>\n",
       "      <td>163DEARBORN CITY; 4</td>\n",
       "    </tr>\n",
       "    <tr>\n",
       "      <th>4</th>\n",
       "      <td>5</td>\n",
       "      <td>3892</td>\n",
       "      <td>1632100000005</td>\n",
       "      <td>163</td>\n",
       "      <td>21000</td>\n",
       "      <td>2016</td>\n",
       "      <td>DEARBORN CITY; 5</td>\n",
       "      <td>1.133548e+06</td>\n",
       "      <td>5460.202887</td>\n",
       "      <td>POLYGON ((731590.226 203387.835, 731604.080 20...</td>\n",
       "      <td>163DEARBORN CITY; 5</td>\n",
       "    </tr>\n",
       "    <tr>\n",
       "      <th>...</th>\n",
       "      <td>...</td>\n",
       "      <td>...</td>\n",
       "      <td>...</td>\n",
       "      <td>...</td>\n",
       "      <td>...</td>\n",
       "      <td>...</td>\n",
       "      <td>...</td>\n",
       "      <td>...</td>\n",
       "      <td>...</td>\n",
       "      <td>...</td>\n",
       "      <td>...</td>\n",
       "    </tr>\n",
       "    <tr>\n",
       "      <th>4805</th>\n",
       "      <td>4806</td>\n",
       "      <td>1805</td>\n",
       "      <td>0933186000007</td>\n",
       "      <td>093</td>\n",
       "      <td>31860</td>\n",
       "      <td>2016</td>\n",
       "      <td>GENOA TOWNSHIP; 7</td>\n",
       "      <td>6.610719e+06</td>\n",
       "      <td>18986.630070</td>\n",
       "      <td>POLYGON ((678019.208 220453.671, 677984.088 22...</td>\n",
       "      <td>093GENOA TOWNSHIP; 7</td>\n",
       "    </tr>\n",
       "    <tr>\n",
       "      <th>4806</th>\n",
       "      <td>4807</td>\n",
       "      <td>1848</td>\n",
       "      <td>0936012000005</td>\n",
       "      <td>093</td>\n",
       "      <td>60120</td>\n",
       "      <td>2016</td>\n",
       "      <td>OCEOLA TOWNSHIP; 5</td>\n",
       "      <td>8.526046e+06</td>\n",
       "      <td>12408.612226</td>\n",
       "      <td>POLYGON ((674226.582 230029.619, 674205.136 23...</td>\n",
       "      <td>093OCEOLA TOWNSHIP; 5</td>\n",
       "    </tr>\n",
       "    <tr>\n",
       "      <th>4807</th>\n",
       "      <td>4808</td>\n",
       "      <td>1848</td>\n",
       "      <td>0936012000001</td>\n",
       "      <td>093</td>\n",
       "      <td>60120</td>\n",
       "      <td>2016</td>\n",
       "      <td>OCEOLA TOWNSHIP; 1</td>\n",
       "      <td>4.258013e+07</td>\n",
       "      <td>28101.267509</td>\n",
       "      <td>POLYGON ((674058.491 233218.627, 673972.280 23...</td>\n",
       "      <td>093OCEOLA TOWNSHIP; 1</td>\n",
       "    </tr>\n",
       "    <tr>\n",
       "      <th>4808</th>\n",
       "      <td>4809</td>\n",
       "      <td>1848</td>\n",
       "      <td>0936012000002</td>\n",
       "      <td>093</td>\n",
       "      <td>60120</td>\n",
       "      <td>2016</td>\n",
       "      <td>OCEOLA TOWNSHIP; 2</td>\n",
       "      <td>7.200447e+06</td>\n",
       "      <td>13280.921753</td>\n",
       "      <td>POLYGON ((672258.795 232398.214, 672291.130 23...</td>\n",
       "      <td>093OCEOLA TOWNSHIP; 2</td>\n",
       "    </tr>\n",
       "    <tr>\n",
       "      <th>4809</th>\n",
       "      <td>4810</td>\n",
       "      <td>1848</td>\n",
       "      <td>0936012000004</td>\n",
       "      <td>093</td>\n",
       "      <td>60120</td>\n",
       "      <td>2016</td>\n",
       "      <td>OCEOLA TOWNSHIP; 4</td>\n",
       "      <td>5.494319e+07</td>\n",
       "      <td>60109.459882</td>\n",
       "      <td>MULTIPOLYGON (((680045.558 239973.034, 680132....</td>\n",
       "      <td>093OCEOLA TOWNSHIP; 4</td>\n",
       "    </tr>\n",
       "  </tbody>\n",
       "</table>\n",
       "<p>4810 rows × 11 columns</p>\n",
       "</div>"
      ],
      "text/plain": [
       "      OBJECTID    Id        VTD2016 CountyFips Jurisdicti  ElectionYe  \\\n",
       "0            1  3888  1632100000001        163      21000        2016   \n",
       "1            2  3889  1632100000002        163      21000        2016   \n",
       "2            3  3890  1632100000003        163      21000        2016   \n",
       "3            4  3891  1632100000004        163      21000        2016   \n",
       "4            5  3892  1632100000005        163      21000        2016   \n",
       "...        ...   ...            ...        ...        ...         ...   \n",
       "4805      4806  1805  0933186000007        093      31860        2016   \n",
       "4806      4807  1848  0936012000005        093      60120        2016   \n",
       "4807      4808  1848  0936012000001        093      60120        2016   \n",
       "4808      4809  1848  0936012000002        093      60120        2016   \n",
       "4809      4810  1848  0936012000004        093      60120        2016   \n",
       "\n",
       "                   Label    ShapeSTAre    ShapeSTLen  \\\n",
       "0       DEARBORN CITY; 1  2.489738e+06   6846.254657   \n",
       "1       DEARBORN CITY; 2  1.058362e+06   4621.388992   \n",
       "2       DEARBORN CITY; 3  1.488846e+06   4909.715171   \n",
       "3       DEARBORN CITY; 4  1.187165e+06   4354.743602   \n",
       "4       DEARBORN CITY; 5  1.133548e+06   5460.202887   \n",
       "...                  ...           ...           ...   \n",
       "4805   GENOA TOWNSHIP; 7  6.610719e+06  18986.630070   \n",
       "4806  OCEOLA TOWNSHIP; 5  8.526046e+06  12408.612226   \n",
       "4807  OCEOLA TOWNSHIP; 1  4.258013e+07  28101.267509   \n",
       "4808  OCEOLA TOWNSHIP; 2  7.200447e+06  13280.921753   \n",
       "4809  OCEOLA TOWNSHIP; 4  5.494319e+07  60109.459882   \n",
       "\n",
       "                                               geometry        county_precinct  \n",
       "0     POLYGON ((734740.564 203392.197, 734729.230 20...    163DEARBORN CITY; 1  \n",
       "1     POLYGON ((733757.240 203553.421, 733767.280 20...    163DEARBORN CITY; 2  \n",
       "2     POLYGON ((733220.680 203094.269, 733125.455 20...    163DEARBORN CITY; 3  \n",
       "3     POLYGON ((732401.480 203234.816, 732303.854 20...    163DEARBORN CITY; 4  \n",
       "4     POLYGON ((731590.226 203387.835, 731604.080 20...    163DEARBORN CITY; 5  \n",
       "...                                                 ...                    ...  \n",
       "4805  POLYGON ((678019.208 220453.671, 677984.088 22...   093GENOA TOWNSHIP; 7  \n",
       "4806  POLYGON ((674226.582 230029.619, 674205.136 23...  093OCEOLA TOWNSHIP; 5  \n",
       "4807  POLYGON ((674058.491 233218.627, 673972.280 23...  093OCEOLA TOWNSHIP; 1  \n",
       "4808  POLYGON ((672258.795 232398.214, 672291.130 23...  093OCEOLA TOWNSHIP; 2  \n",
       "4809  MULTIPOLYGON (((680045.558 239973.034, 680132....  093OCEOLA TOWNSHIP; 4  \n",
       "\n",
       "[4810 rows x 11 columns]"
      ]
     },
     "execution_count": 113,
     "metadata": {},
     "output_type": "execute_result"
    }
   ],
   "source": [
    "#Finding number of \"Charter Township\" Labels to see if this accounts for discrepency (Charter does not appear in df)\n",
    "#Mask to remove \"Charter\" rows from dataset\n",
    "remove_charter = gdf[(gdf.Label != 'Charter')]\n",
    "remove_charter\n",
    "#did not work to remove^"
   ]
  },
  {
   "cell_type": "code",
   "execution_count": 114,
   "metadata": {},
   "outputs": [
    {
     "data": {
      "text/plain": [
       "4769"
      ]
     },
     "execution_count": 114,
     "metadata": {},
     "output_type": "execute_result"
    }
   ],
   "source": [
    "precincts_shp_2016.Id.nunique()\n"
   ]
  },
  {
   "cell_type": "markdown",
   "metadata": {},
   "source": [
    "**--**"
   ]
  },
  {
   "cell_type": "code",
   "execution_count": 115,
   "metadata": {},
   "outputs": [],
   "source": [
    "#print(df_set)\n",
    "#print(gdf_set)"
   ]
  },
  {
   "cell_type": "code",
   "execution_count": 116,
   "metadata": {},
   "outputs": [],
   "source": [
    "# intersect\n",
    "gdf_set = set(gdf.Label.str.lower().unique())\n",
    "df_set = set(df.precinct.str.lower().unique())\n",
    "difference = df_set.symmetric_difference(gdf_set)\n",
    "intersection = gdf_set.intersection(df_set)"
   ]
  },
  {
   "cell_type": "code",
   "execution_count": 117,
   "metadata": {},
   "outputs": [
    {
     "name": "stdout",
     "output_type": "stream",
     "text": [
      "4586\n",
      "4793\n",
      "unmatched_df:  1174\n",
      "unmatched_gdf:  967\n",
      "Difference in missing data:  207\n",
      "Total difference between gdf and df:  207\n"
     ]
    }
   ],
   "source": [
    "print(len(gdf_set))\n",
    "print(len(df_set))\n",
    "print(\"unmatched_df: \", len(df_set) - len(intersection))\n",
    "print(\"unmatched_gdf: \", len(gdf_set) - len(intersection))\n",
    "unmatched_df = (len(df_set) - len(intersection))\n",
    "unmatched_gdf = (len(gdf_set) - len(intersection))\n",
    "print(\"Difference in missing data: \", unmatched_df - unmatched_gdf)\n",
    "print(\"Total difference between gdf and df: \", (len(df_set) - len(gdf_set)))\n",
    "#So this means that the unmatched data contains the differences between the two\n",
    "#If not the leading spaces, what is the difference?"
   ]
  },
  {
   "cell_type": "code",
   "execution_count": 118,
   "metadata": {},
   "outputs": [
    {
     "data": {
      "text/plain": [
       "2141"
      ]
     },
     "execution_count": 118,
     "metadata": {},
     "output_type": "execute_result"
    }
   ],
   "source": [
    "len(difference)"
   ]
  },
  {
   "cell_type": "markdown",
   "metadata": {},
   "source": [
    "Uncomment below to see differences between datasets "
   ]
  },
  {
   "cell_type": "code",
   "execution_count": 119,
   "metadata": {},
   "outputs": [],
   "source": [
    "#sorted(difference)   #Commented out because output is so long"
   ]
  },
  {
   "cell_type": "code",
   "execution_count": 120,
   "metadata": {},
   "outputs": [],
   "source": [
    "#df_set   #Commented out because output is so long"
   ]
  },
  {
   "cell_type": "code",
   "execution_count": 121,
   "metadata": {},
   "outputs": [],
   "source": [
    "#gdf_set   #Commented out because output is so long"
   ]
  },
  {
   "cell_type": "markdown",
   "metadata": {},
   "source": [
    "**Almost half of the items in the datasets do not match up**\n",
    "as can be seen by the length of the difference between the datasets\n",
    "\n",
    "This is caused by inconsistencies in the naming conventions which can be observed in the line below in the alphabetically sorted difference set. The discrepencies come from a wide range of differences in name format. MGGG did not post their processing steps for the public, so here at the RDH we were not able to replicate their results. \n",
    "\n",
    "Examples include but are not limited to:\n",
    "\n",
    "'Mount' vs 'Mt'\n",
    "'|avcb' vs normal precinct name\n",
    "'city city' vs 'city'\n",
    "'ward x; precinct y' vs 'precinct x'"
   ]
  },
  {
   "cell_type": "markdown",
   "metadata": {},
   "source": [
    "## Final MGGG Shapefile - compare"
   ]
  },
  {
   "cell_type": "code",
   "execution_count": 122,
   "metadata": {},
   "outputs": [],
   "source": [
    "#Final MGGG Shapefile\n",
    "mggg_final_shp = gpd.read_file(\"./MI_precincts/MI_precincts.shp\")"
   ]
  },
  {
   "cell_type": "code",
   "execution_count": 123,
   "metadata": {},
   "outputs": [
    {
     "data": {
      "text/html": [
       "<div>\n",
       "<style scoped>\n",
       "    .dataframe tbody tr th:only-of-type {\n",
       "        vertical-align: middle;\n",
       "    }\n",
       "\n",
       "    .dataframe tbody tr th {\n",
       "        vertical-align: top;\n",
       "    }\n",
       "\n",
       "    .dataframe thead th {\n",
       "        text-align: right;\n",
       "    }\n",
       "</style>\n",
       "<table border=\"1\" class=\"dataframe\">\n",
       "  <thead>\n",
       "    <tr style=\"text-align: right;\">\n",
       "      <th></th>\n",
       "      <th>OBJECTID</th>\n",
       "      <th>Id</th>\n",
       "      <th>VTD2016</th>\n",
       "      <th>CountyFips</th>\n",
       "      <th>Jurisdicti</th>\n",
       "      <th>ElectionYe</th>\n",
       "      <th>Label</th>\n",
       "      <th>ShapeSTAre</th>\n",
       "      <th>ShapeSTLen</th>\n",
       "      <th>geometry</th>\n",
       "      <th>...</th>\n",
       "      <th>HVAP</th>\n",
       "      <th>WVAP</th>\n",
       "      <th>BVAP</th>\n",
       "      <th>AMINVAP</th>\n",
       "      <th>ASIANVAP</th>\n",
       "      <th>NHPIVAP</th>\n",
       "      <th>OTHERVAP</th>\n",
       "      <th>2MOREVAP</th>\n",
       "      <th>SENDIST</th>\n",
       "      <th>HDIST</th>\n",
       "    </tr>\n",
       "  </thead>\n",
       "  <tbody>\n",
       "    <tr>\n",
       "      <th>0</th>\n",
       "      <td>1</td>\n",
       "      <td>3888</td>\n",
       "      <td>1632100000001</td>\n",
       "      <td>163</td>\n",
       "      <td>21000</td>\n",
       "      <td>2016</td>\n",
       "      <td>City of Dearborn</td>\n",
       "      <td>2.489738e+06</td>\n",
       "      <td>6846.254657</td>\n",
       "      <td>POLYGON ((734740.564 203392.197, 734729.230 20...</td>\n",
       "      <td>...</td>\n",
       "      <td>38</td>\n",
       "      <td>1330</td>\n",
       "      <td>75</td>\n",
       "      <td>2</td>\n",
       "      <td>20</td>\n",
       "      <td>0</td>\n",
       "      <td>6</td>\n",
       "      <td>101</td>\n",
       "      <td>31.0</td>\n",
       "      <td>76</td>\n",
       "    </tr>\n",
       "  </tbody>\n",
       "</table>\n",
       "<p>1 rows × 30 columns</p>\n",
       "</div>"
      ],
      "text/plain": [
       "   OBJECTID    Id        VTD2016 CountyFips Jurisdicti  ElectionYe  \\\n",
       "0         1  3888  1632100000001        163      21000        2016   \n",
       "\n",
       "              Label    ShapeSTAre   ShapeSTLen  \\\n",
       "0  City of Dearborn  2.489738e+06  6846.254657   \n",
       "\n",
       "                                            geometry  ...  HVAP  WVAP  BVAP  \\\n",
       "0  POLYGON ((734740.564 203392.197, 734729.230 20...  ...    38  1330    75   \n",
       "\n",
       "   AMINVAP  ASIANVAP  NHPIVAP  OTHERVAP  2MOREVAP  SENDIST  HDIST  \n",
       "0        2        20        0         6       101     31.0     76  \n",
       "\n",
       "[1 rows x 30 columns]"
      ]
     },
     "execution_count": 123,
     "metadata": {},
     "output_type": "execute_result"
    }
   ],
   "source": [
    "precincts.head(1)"
   ]
  },
  {
   "cell_type": "markdown",
   "metadata": {},
   "source": [
    "**Number of rows in shapefile and final MGGG final match, accounting for the extra row header in gdf**"
   ]
  },
  {
   "cell_type": "code",
   "execution_count": 124,
   "metadata": {},
   "outputs": [
    {
     "data": {
      "text/plain": [
       "4809"
      ]
     },
     "execution_count": 124,
     "metadata": {},
     "output_type": "execute_result"
    }
   ],
   "source": [
    "len(mggg_final_shp)"
   ]
  },
  {
   "cell_type": "code",
   "execution_count": 125,
   "metadata": {},
   "outputs": [
    {
     "ename": "KeyError",
     "evalue": "('votes', 'democratic')",
     "output_type": "error",
     "traceback": [
      "\u001b[0;31m---------------------------------------------------------------------------\u001b[0m",
      "\u001b[0;31mKeyError\u001b[0m                                  Traceback (most recent call last)",
      "\u001b[0;32m/opt/anaconda3/lib/python3.8/site-packages/pandas/core/indexes/base.py\u001b[0m in \u001b[0;36mget_loc\u001b[0;34m(self, key, method, tolerance)\u001b[0m\n\u001b[1;32m   2645\u001b[0m             \u001b[0;32mtry\u001b[0m\u001b[0;34m:\u001b[0m\u001b[0;34m\u001b[0m\u001b[0;34m\u001b[0m\u001b[0m\n\u001b[0;32m-> 2646\u001b[0;31m                 \u001b[0;32mreturn\u001b[0m \u001b[0mself\u001b[0m\u001b[0;34m.\u001b[0m\u001b[0m_engine\u001b[0m\u001b[0;34m.\u001b[0m\u001b[0mget_loc\u001b[0m\u001b[0;34m(\u001b[0m\u001b[0mkey\u001b[0m\u001b[0;34m)\u001b[0m\u001b[0;34m\u001b[0m\u001b[0;34m\u001b[0m\u001b[0m\n\u001b[0m\u001b[1;32m   2647\u001b[0m             \u001b[0;32mexcept\u001b[0m \u001b[0mKeyError\u001b[0m\u001b[0;34m:\u001b[0m\u001b[0;34m\u001b[0m\u001b[0;34m\u001b[0m\u001b[0m\n",
      "\u001b[0;32mpandas/_libs/index.pyx\u001b[0m in \u001b[0;36mpandas._libs.index.IndexEngine.get_loc\u001b[0;34m()\u001b[0m\n",
      "\u001b[0;32mpandas/_libs/index.pyx\u001b[0m in \u001b[0;36mpandas._libs.index.IndexEngine.get_loc\u001b[0;34m()\u001b[0m\n",
      "\u001b[0;32mpandas/_libs/hashtable_class_helper.pxi\u001b[0m in \u001b[0;36mpandas._libs.hashtable.PyObjectHashTable.get_item\u001b[0;34m()\u001b[0m\n",
      "\u001b[0;32mpandas/_libs/hashtable_class_helper.pxi\u001b[0m in \u001b[0;36mpandas._libs.hashtable.PyObjectHashTable.get_item\u001b[0;34m()\u001b[0m\n",
      "\u001b[0;31mKeyError\u001b[0m: ('votes', 'democratic')",
      "\nDuring handling of the above exception, another exception occurred:\n",
      "\u001b[0;31mKeyError\u001b[0m                                  Traceback (most recent call last)",
      "\u001b[0;32m<ipython-input-125-16187bef0a62>\u001b[0m in \u001b[0;36m<module>\u001b[0;34m\u001b[0m\n\u001b[0;32m----> 1\u001b[0;31m \u001b[0mmit_presd\u001b[0m \u001b[0;34m=\u001b[0m \u001b[0mdf\u001b[0m\u001b[0;34m[\u001b[0m\u001b[0;34m'votes'\u001b[0m\u001b[0;34m,\u001b[0m\u001b[0;34m'democratic'\u001b[0m\u001b[0;34m]\u001b[0m\u001b[0;34m.\u001b[0m\u001b[0msum\u001b[0m\u001b[0;34m(\u001b[0m\u001b[0;34m)\u001b[0m\u001b[0;34m\u001b[0m\u001b[0;34m\u001b[0m\u001b[0m\n\u001b[0m\u001b[1;32m      2\u001b[0m \u001b[0mmggg_presd\u001b[0m \u001b[0;34m=\u001b[0m \u001b[0mmggg_final_shp\u001b[0m\u001b[0;34m[\u001b[0m\u001b[0;34m'PRES16D'\u001b[0m\u001b[0;34m]\u001b[0m\u001b[0;34m.\u001b[0m\u001b[0msum\u001b[0m\u001b[0;34m(\u001b[0m\u001b[0;34m)\u001b[0m\u001b[0;34m\u001b[0m\u001b[0;34m\u001b[0m\u001b[0m\n\u001b[1;32m      3\u001b[0m \u001b[0mprint\u001b[0m\u001b[0;34m(\u001b[0m\u001b[0;34m\"Democrat results percent difference = \"\u001b[0m\u001b[0;34m,\u001b[0m \u001b[0;36m100\u001b[0m\u001b[0;34m*\u001b[0m\u001b[0;34m(\u001b[0m\u001b[0mmit_presd\u001b[0m \u001b[0;34m-\u001b[0m \u001b[0mmggg_presd\u001b[0m\u001b[0;34m)\u001b[0m\u001b[0;34m/\u001b[0m\u001b[0mmit_presd\u001b[0m\u001b[0;34m,\u001b[0m \u001b[0;34m\"%\"\u001b[0m \u001b[0;34m)\u001b[0m\u001b[0;34m\u001b[0m\u001b[0;34m\u001b[0m\u001b[0m\n\u001b[1;32m      4\u001b[0m \u001b[0;34m\u001b[0m\u001b[0m\n\u001b[1;32m      5\u001b[0m \u001b[0mmit_presg\u001b[0m \u001b[0;34m=\u001b[0m \u001b[0mdf\u001b[0m\u001b[0;34m[\u001b[0m\u001b[0;34m'votes'\u001b[0m\u001b[0;34m,\u001b[0m\u001b[0;34m'green'\u001b[0m\u001b[0;34m]\u001b[0m\u001b[0;34m.\u001b[0m\u001b[0msum\u001b[0m\u001b[0;34m(\u001b[0m\u001b[0;34m)\u001b[0m\u001b[0;34m\u001b[0m\u001b[0;34m\u001b[0m\u001b[0m\n",
      "\u001b[0;32m/opt/anaconda3/lib/python3.8/site-packages/pandas/core/frame.py\u001b[0m in \u001b[0;36m__getitem__\u001b[0;34m(self, key)\u001b[0m\n\u001b[1;32m   2798\u001b[0m             \u001b[0;32mif\u001b[0m \u001b[0mself\u001b[0m\u001b[0;34m.\u001b[0m\u001b[0mcolumns\u001b[0m\u001b[0;34m.\u001b[0m\u001b[0mnlevels\u001b[0m \u001b[0;34m>\u001b[0m \u001b[0;36m1\u001b[0m\u001b[0;34m:\u001b[0m\u001b[0;34m\u001b[0m\u001b[0;34m\u001b[0m\u001b[0m\n\u001b[1;32m   2799\u001b[0m                 \u001b[0;32mreturn\u001b[0m \u001b[0mself\u001b[0m\u001b[0;34m.\u001b[0m\u001b[0m_getitem_multilevel\u001b[0m\u001b[0;34m(\u001b[0m\u001b[0mkey\u001b[0m\u001b[0;34m)\u001b[0m\u001b[0;34m\u001b[0m\u001b[0;34m\u001b[0m\u001b[0m\n\u001b[0;32m-> 2800\u001b[0;31m             \u001b[0mindexer\u001b[0m \u001b[0;34m=\u001b[0m \u001b[0mself\u001b[0m\u001b[0;34m.\u001b[0m\u001b[0mcolumns\u001b[0m\u001b[0;34m.\u001b[0m\u001b[0mget_loc\u001b[0m\u001b[0;34m(\u001b[0m\u001b[0mkey\u001b[0m\u001b[0;34m)\u001b[0m\u001b[0;34m\u001b[0m\u001b[0;34m\u001b[0m\u001b[0m\n\u001b[0m\u001b[1;32m   2801\u001b[0m             \u001b[0;32mif\u001b[0m \u001b[0mis_integer\u001b[0m\u001b[0;34m(\u001b[0m\u001b[0mindexer\u001b[0m\u001b[0;34m)\u001b[0m\u001b[0;34m:\u001b[0m\u001b[0;34m\u001b[0m\u001b[0;34m\u001b[0m\u001b[0m\n\u001b[1;32m   2802\u001b[0m                 \u001b[0mindexer\u001b[0m \u001b[0;34m=\u001b[0m \u001b[0;34m[\u001b[0m\u001b[0mindexer\u001b[0m\u001b[0;34m]\u001b[0m\u001b[0;34m\u001b[0m\u001b[0;34m\u001b[0m\u001b[0m\n",
      "\u001b[0;32m/opt/anaconda3/lib/python3.8/site-packages/pandas/core/indexes/base.py\u001b[0m in \u001b[0;36mget_loc\u001b[0;34m(self, key, method, tolerance)\u001b[0m\n\u001b[1;32m   2646\u001b[0m                 \u001b[0;32mreturn\u001b[0m \u001b[0mself\u001b[0m\u001b[0;34m.\u001b[0m\u001b[0m_engine\u001b[0m\u001b[0;34m.\u001b[0m\u001b[0mget_loc\u001b[0m\u001b[0;34m(\u001b[0m\u001b[0mkey\u001b[0m\u001b[0;34m)\u001b[0m\u001b[0;34m\u001b[0m\u001b[0;34m\u001b[0m\u001b[0m\n\u001b[1;32m   2647\u001b[0m             \u001b[0;32mexcept\u001b[0m \u001b[0mKeyError\u001b[0m\u001b[0;34m:\u001b[0m\u001b[0;34m\u001b[0m\u001b[0;34m\u001b[0m\u001b[0m\n\u001b[0;32m-> 2648\u001b[0;31m                 \u001b[0;32mreturn\u001b[0m \u001b[0mself\u001b[0m\u001b[0;34m.\u001b[0m\u001b[0m_engine\u001b[0m\u001b[0;34m.\u001b[0m\u001b[0mget_loc\u001b[0m\u001b[0;34m(\u001b[0m\u001b[0mself\u001b[0m\u001b[0;34m.\u001b[0m\u001b[0m_maybe_cast_indexer\u001b[0m\u001b[0;34m(\u001b[0m\u001b[0mkey\u001b[0m\u001b[0;34m)\u001b[0m\u001b[0;34m)\u001b[0m\u001b[0;34m\u001b[0m\u001b[0;34m\u001b[0m\u001b[0m\n\u001b[0m\u001b[1;32m   2649\u001b[0m         \u001b[0mindexer\u001b[0m \u001b[0;34m=\u001b[0m \u001b[0mself\u001b[0m\u001b[0;34m.\u001b[0m\u001b[0mget_indexer\u001b[0m\u001b[0;34m(\u001b[0m\u001b[0;34m[\u001b[0m\u001b[0mkey\u001b[0m\u001b[0;34m]\u001b[0m\u001b[0;34m,\u001b[0m \u001b[0mmethod\u001b[0m\u001b[0;34m=\u001b[0m\u001b[0mmethod\u001b[0m\u001b[0;34m,\u001b[0m \u001b[0mtolerance\u001b[0m\u001b[0;34m=\u001b[0m\u001b[0mtolerance\u001b[0m\u001b[0;34m)\u001b[0m\u001b[0;34m\u001b[0m\u001b[0;34m\u001b[0m\u001b[0m\n\u001b[1;32m   2650\u001b[0m         \u001b[0;32mif\u001b[0m \u001b[0mindexer\u001b[0m\u001b[0;34m.\u001b[0m\u001b[0mndim\u001b[0m \u001b[0;34m>\u001b[0m \u001b[0;36m1\u001b[0m \u001b[0;32mor\u001b[0m \u001b[0mindexer\u001b[0m\u001b[0;34m.\u001b[0m\u001b[0msize\u001b[0m \u001b[0;34m>\u001b[0m \u001b[0;36m1\u001b[0m\u001b[0;34m:\u001b[0m\u001b[0;34m\u001b[0m\u001b[0;34m\u001b[0m\u001b[0m\n",
      "\u001b[0;32mpandas/_libs/index.pyx\u001b[0m in \u001b[0;36mpandas._libs.index.IndexEngine.get_loc\u001b[0;34m()\u001b[0m\n",
      "\u001b[0;32mpandas/_libs/index.pyx\u001b[0m in \u001b[0;36mpandas._libs.index.IndexEngine.get_loc\u001b[0;34m()\u001b[0m\n",
      "\u001b[0;32mpandas/_libs/hashtable_class_helper.pxi\u001b[0m in \u001b[0;36mpandas._libs.hashtable.PyObjectHashTable.get_item\u001b[0;34m()\u001b[0m\n",
      "\u001b[0;32mpandas/_libs/hashtable_class_helper.pxi\u001b[0m in \u001b[0;36mpandas._libs.hashtable.PyObjectHashTable.get_item\u001b[0;34m()\u001b[0m\n",
      "\u001b[0;31mKeyError\u001b[0m: ('votes', 'democratic')"
     ]
    }
   ],
   "source": [
    "mit_presd = df['votes','democratic'].sum()\n",
    "mggg_presd = mggg_final_shp['PRES16D'].sum()\n",
    "print(\"Democrat results percent difference = \", 100*(mit_presd - mggg_presd)/mit_presd, \"%\" )\n",
    "\n",
    "mit_presg = df['votes','green'].sum()\n",
    "mggg_presg = mggg_final_shp['PRES16G'].sum()\n",
    "print(\"Green Pary results percent difference = \", 100*(mit_presg - mggg_presg)/mit_presg, \"%\" )\n",
    "\n",
    "mit_presl = df['votes','libertarian'].sum()\n",
    "mggg_presl = mggg_final_shp['PRES16L'].sum()\n",
    "print(\"Libertarian results percent difference = \", 100*(mit_presl - mggg_presl)/mit_presl, \"%\" )\n",
    "\n",
    "mit_presr = df['votes','republican'].sum()\n",
    "mggg_presr = mggg_final_shp['PRES16R'].sum()\n",
    "print(\"Republican results percent difference = \", 100*(mit_presr - mggg_presr)/mit_presr, \"%\" )"
   ]
  },
  {
   "cell_type": "markdown",
   "metadata": {},
   "source": [
    "-\n",
    "\n",
    "**Comparing demographic data from Census with MGGG final file***"
   ]
  },
  {
   "cell_type": "code",
   "execution_count": null,
   "metadata": {},
   "outputs": [],
   "source": [
    "precs = precincts\n",
    "preclabel = precs.sort_values(by = 'Label', ascending = True) \n",
    "preclabel.head(4)\n"
   ]
  },
  {
   "cell_type": "code",
   "execution_count": null,
   "metadata": {},
   "outputs": [],
   "source": [
    "mglabel = mggg_final_shp.sort_values(by = 'Label', ascending = True) \n",
    "mglabel.head(4)"
   ]
  },
  {
   "cell_type": "markdown",
   "metadata": {},
   "source": [
    "Above, can see that the first few labels match, and that the demographic data appears to approximately match, though MGGG has floating decimals "
   ]
  },
  {
   "cell_type": "code",
   "execution_count": null,
   "metadata": {},
   "outputs": [],
   "source": [
    "#Merge using the precinct code: VTD_2016\n",
    "overlap = pd.merge(preclabel, mglabel, how = 'inner', left_on = 'VTD2016', right_on = 'VTD2016_x')"
   ]
  },
  {
   "cell_type": "code",
   "execution_count": null,
   "metadata": {},
   "outputs": [],
   "source": [
    "overlap.shape"
   ]
  },
  {
   "cell_type": "code",
   "execution_count": null,
   "metadata": {},
   "outputs": [],
   "source": [
    "overlap.columns"
   ]
  },
  {
   "cell_type": "code",
   "execution_count": null,
   "metadata": {},
   "outputs": [],
   "source": [
    "import math"
   ]
  },
  {
   "cell_type": "code",
   "execution_count": null,
   "metadata": {},
   "outputs": [],
   "source": [
    "def match(row, mggg_col, prec_col):\n",
    "    mggg_value = row[mggg_col]\n",
    "    prec_value = row[prec_col]\n",
    "    \n",
    "    return math.ceil(mggg_value) == prec_value or math.floor(mggg_value) == prec_value"
   ]
  },
  {
   "cell_type": "code",
   "execution_count": null,
   "metadata": {},
   "outputs": [],
   "source": [
    "mggg_col = 'TOTPOP_y'\n",
    "prec_col = 'TOTPOP_x'\n",
    "overlap.apply(lambda row: match(row, mggg_col, prec_col), axis=1).value_counts()"
   ]
  },
  {
   "cell_type": "code",
   "execution_count": null,
   "metadata": {},
   "outputs": [],
   "source": [
    "mggg_col = 'NH_WHITE_y'\n",
    "prec_col = 'NH_WHITE_x'\n",
    "overlap.apply(lambda row: match(row, mggg_col, prec_col), axis=1).value_counts()"
   ]
  },
  {
   "cell_type": "code",
   "execution_count": null,
   "metadata": {
    "scrolled": true
   },
   "outputs": [],
   "source": [
    "mggg_col = 'NH_BLACK_y'\n",
    "prec_col = 'NH_BLACK_x'\n",
    "overlap.apply(lambda row: match(row, mggg_col, prec_col), axis=1).value_counts()"
   ]
  },
  {
   "cell_type": "code",
   "execution_count": null,
   "metadata": {},
   "outputs": [],
   "source": [
    "mggg_col = 'NH_ASIAN_y'\n",
    "prec_col = 'NH_ASIAN_x'\n",
    "overlap.apply(lambda row: match(row, mggg_col, prec_col), axis=1).value_counts()"
   ]
  },
  {
   "cell_type": "code",
   "execution_count": null,
   "metadata": {},
   "outputs": [],
   "source": [
    "mggg_col = 'NH_NHPI_y'\n",
    "prec_col = 'NH_NHPI_x'\n",
    "overlap.apply(lambda row: match(row, mggg_col, prec_col), axis=1).value_counts()"
   ]
  },
  {
   "cell_type": "code",
   "execution_count": null,
   "metadata": {},
   "outputs": [],
   "source": [
    "mggg_col = 'NH_AMIN_y'\n",
    "prec_col = 'NH_AMIN_x'\n",
    "overlap.apply(lambda row: match(row, mggg_col, prec_col), axis=1).value_counts()"
   ]
  },
  {
   "cell_type": "code",
   "execution_count": null,
   "metadata": {},
   "outputs": [],
   "source": [
    "mggg_col = 'NH_OTHER_y'\n",
    "prec_col = 'NH_OTHER_x'\n",
    "overlap.apply(lambda row: match(row, mggg_col, prec_col), axis=1).value_counts()"
   ]
  },
  {
   "cell_type": "code",
   "execution_count": null,
   "metadata": {},
   "outputs": [],
   "source": [
    "mggg_col = 'HISP_y'\n",
    "prec_col = 'HISP_x'\n",
    "overlap.apply(lambda row: match(row, mggg_col, prec_col), axis=1).value_counts()"
   ]
  },
  {
   "cell_type": "code",
   "execution_count": null,
   "metadata": {
    "scrolled": true
   },
   "outputs": [],
   "source": [
    "mggg_col = 'VAP_y'\n",
    "prec_col = 'VAP_x'\n",
    "overlap.apply(lambda row: match(row, mggg_col, prec_col), axis=1).value_counts()"
   ]
  },
  {
   "cell_type": "code",
   "execution_count": null,
   "metadata": {},
   "outputs": [],
   "source": [
    "mggg_col = 'HVAP_y'\n",
    "prec_col = 'HVAP_x'\n",
    "overlap.apply(lambda row: match(row, mggg_col, prec_col), axis=1).value_counts()"
   ]
  },
  {
   "cell_type": "code",
   "execution_count": null,
   "metadata": {},
   "outputs": [],
   "source": [
    "mggg_col = 'WVAP_y'\n",
    "prec_col = 'WVAP_x'\n",
    "overlap.apply(lambda row: match(row, mggg_col, prec_col), axis=1).value_counts()"
   ]
  },
  {
   "cell_type": "code",
   "execution_count": null,
   "metadata": {},
   "outputs": [],
   "source": [
    "mggg_col = 'AMINVAP_y'\n",
    "prec_col = 'AMINVAP_x'\n",
    "overlap.apply(lambda row: match(row, mggg_col, prec_col), axis=1).value_counts()"
   ]
  },
  {
   "cell_type": "code",
   "execution_count": null,
   "metadata": {},
   "outputs": [],
   "source": [
    "mggg_col = 'ASIANVAP_y'\n",
    "prec_col = 'ASIANVAP_x'\n",
    "overlap.apply(lambda row: match(row, mggg_col, prec_col), axis=1).value_counts()"
   ]
  },
  {
   "cell_type": "code",
   "execution_count": null,
   "metadata": {},
   "outputs": [],
   "source": [
    "mggg_col = 'NHPIVAP_y'\n",
    "prec_col = 'NHPIVAP_x'\n",
    "overlap.apply(lambda row: match(row, mggg_col, prec_col), axis=1).value_counts()"
   ]
  },
  {
   "cell_type": "code",
   "execution_count": null,
   "metadata": {},
   "outputs": [],
   "source": [
    "mggg_col = 'BVAP_y'\n",
    "prec_col = 'BVAP_x'\n",
    "overlap.apply(lambda row: match(row, mggg_col, prec_col), axis=1).value_counts()"
   ]
  },
  {
   "cell_type": "code",
   "execution_count": null,
   "metadata": {},
   "outputs": [],
   "source": [
    "mggg_col = 'OTHERVAP_y'\n",
    "prec_col = 'OTHERVAP_x'\n",
    "overlap.apply(lambda row: match(row, mggg_col, prec_col), axis=1).value_counts()"
   ]
  },
  {
   "cell_type": "code",
   "execution_count": null,
   "metadata": {},
   "outputs": [],
   "source": [
    "mggg_col = '2MOREVAP_y'\n",
    "prec_col = '2MOREVAP_x'\n",
    "overlap.apply(lambda row: match(row, mggg_col, prec_col), axis=1).value_counts()"
   ]
  },
  {
   "cell_type": "markdown",
   "metadata": {},
   "source": [
    "### Validation\n",
    "\n",
    "We see that while some categories of demographic data are quite close, NHPIVAP is the only category that perfectly matches up, and a handful of categories contain very little overlap between MGGG's final dataset, and our recreation.\n",
    "\n",
    "The 2016 presidential vote counts are very close between the two data sets - below 1% for all parties except democratic which is 2.3% different. \n",
    "\n",
    "The RDH was not able to recreate MGGG's final dataset due to a diverse set of discrepencies in naming conventions between the raw election results and raw shapefile. The number of differences makes it difficult to detect MGGG's processing steps for different cases. For examples, see note below In[66]. \n"
   ]
  }
 ],
 "metadata": {
  "kernelspec": {
   "display_name": "Python 3",
   "language": "python",
   "name": "python3"
  },
  "language_info": {
   "codemirror_mode": {
    "name": "ipython",
    "version": 3
   },
   "file_extension": ".py",
   "mimetype": "text/x-python",
   "name": "python",
   "nbconvert_exporter": "python",
   "pygments_lexer": "ipython3",
   "version": "3.8.3"
  }
 },
 "nbformat": 4,
 "nbformat_minor": 4
}
