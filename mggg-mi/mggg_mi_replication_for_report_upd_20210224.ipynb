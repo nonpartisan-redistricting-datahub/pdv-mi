{
 "cells": [
  {
   "cell_type": "markdown",
   "metadata": {},
   "source": [
    "Table of contents\n",
    "1. [Census Data: Demographic & Shapefile](#census)\n",
    "2. [Precinct Shapefile](#shapefile)\n",
    "3. [Legislative Boundaries](#legislative)\n",
    "4. [Election Results](#electionresults)\n",
    "5. [Joining Election Results to Precinct Shapefile](#joining)\n",
    "6. [Comparison to MGGG](#comparison)"
   ]
  },
  {
   "cell_type": "markdown",
   "metadata": {},
   "source": [
    "**Import Python Packages**"
   ]
  },
  {
   "cell_type": "code",
   "execution_count": 30,
   "metadata": {},
   "outputs": [],
   "source": [
    "import numpy as np\n",
    "import pandas as pd\n",
    "import geopandas as gpd\n",
    "import geopandas as gp\n",
    "import pathlib\n",
    "import matplotlib.pyplot as plt\n",
    "import maup\n",
    "import requests"
   ]
  },
  {
   "cell_type": "markdown",
   "metadata": {},
   "source": [
    "<a name=\"census\"></a>"
   ]
  },
  {
   "cell_type": "markdown",
   "metadata": {},
   "source": [
    "# Census Data: Demographic & Shapefile"
   ]
  },
  {
   "cell_type": "markdown",
   "metadata": {},
   "source": [
    "The functions below retrieve block level data for a state using the state fips code from census API, then retrieves data from appropriate\n",
    "columns in GEOID, convert to .csv to easily manipulate individual state data"
   ]
  },
  {
   "cell_type": "code",
   "execution_count": 31,
   "metadata": {},
   "outputs": [],
   "source": [
    "#code chunk by Melisande Teng \n",
    "\n",
    "variables = [\n",
    "    # pop\n",
    "    \"P001001\",\n",
    "    \"P005003\",\n",
    "    \"P005004\",\n",
    "    \"P005005\",\n",
    "    \"P005006\",\n",
    "    \"P005007\",\n",
    "    \"P005008\",\n",
    "    \"P005009\",\n",
    "    \"P005010\",\n",
    "    \"P005011\",\n",
    "    \"P005012\",\n",
    "    \"P005013\",\n",
    "    \"P005014\",\n",
    "    \"P005015\",\n",
    "    \"P005016\",\n",
    "    \"P005017\",\n",
    "    # vap\n",
    "    \"P011001\",\n",
    "    \"P011002\",\n",
    "    \"P011005\",\n",
    "    \"P011006\",\n",
    "    \"P011007\",\n",
    "    \"P011008\",\n",
    "    \"P011009\",\n",
    "    \"P011010\",\n",
    "    \"P011011\",\n",
    "]\n",
    "\n",
    "keys = [\n",
    "    # pop\n",
    "    \"TOTPOP\",\n",
    "    \"NH_WHITE\",\n",
    "    \"NH_BLACK\",\n",
    "    \"NH_AMIN \",\n",
    "    \"NH_ASIAN\",\n",
    "    \"NH_NHPI \",\n",
    "    \"NH_OTHER\",\n",
    "    \"NH_2MORE\",\n",
    "    \"HISP\",\n",
    "    \"H_WHITE\",\n",
    "    \"H_BLACK\",\n",
    "    \"H_AMIN \",\n",
    "    \"H_ASIAN\",\n",
    "    \"H_NHPI \",\n",
    "    \"H_OTHER\",\n",
    "    \"H_2MORE\",\n",
    "    # vap\n",
    "    \"VAP\",\n",
    "    \"HVAP\",\n",
    "    \"WVAP\",\n",
    "    \"BVAP\",\n",
    "    \"AMINVAP\",\n",
    "    \"ASIANVAP\",\n",
    "    \"NHPIVAP\",\n",
    "    \"OTHERVAP\",\n",
    "    \"2MOREVAP\",\n",
    "]\n",
    "\n",
    "\n",
    "def counties(state_fips):\n",
    "    resp = requests.get(\n",
    "        \"https://api.census.gov/data/2010/dec/sf1\"\n",
    "        \"?get=NAME&for=county:*&in=state:{}\".format(state_fips)\n",
    "    )\n",
    "    header, *rows = resp.json()\n",
    "    county_column_index = header.index(\"county\")\n",
    "    county_fips_codes = set(row[county_column_index] for row in rows)\n",
    "    return county_fips_codes\n",
    "\n",
    "def block_data_for_county(state_fips, county_fips, variables=variables, keys=keys):\n",
    "    url = (\n",
    "        \"https://api.census.gov/data/2010/dec/sf1\"\n",
    "        + \"?get={},NAME&for=block:*\".format(\",\".join(variables))\n",
    "        + \"&in=state:{}&in=county:{}&in=tract:*\".format(state_fips, county_fips)\n",
    "    )\n",
    "    resp = requests.get(url)\n",
    "    header, *rows = resp.json()\n",
    "    variable_lookup = dict(zip(variables, keys))\n",
    "    columns = [variable_lookup.get(column_name, column_name) for column_name in header]\n",
    "    dtypes = {key: int for key in keys}\n",
    "    dtypes.update({key: str for key in [\"state\", \"county\", \"tract\", \"block\"]})\n",
    "    data = pd.DataFrame.from_records(rows, columns=columns).astype(dtypes)\n",
    "    data[\"geoid\"] = data[\"state\"] + data[\"county\"] + data[\"tract\"] + data[\"block\"]\n",
    "    return data\n",
    "\n",
    "\n",
    "def block_data_for_state(state_fips):\n",
    "    from tqdm.auto import tqdm\n",
    "    county_fips_codes = counties(state_fips)\n",
    "    return pd.concat(\n",
    "        [\n",
    "            block_data_for_county(state_fips, county_fips)\n",
    "            for county_fips in tqdm(county_fips_codes)\n",
    "        ]\n",
    "    )"
   ]
  },
  {
   "cell_type": "code",
   "execution_count": 32,
   "metadata": {},
   "outputs": [
    {
     "data": {
      "application/vnd.jupyter.widget-view+json": {
       "model_id": "e341f9c5be7d4a1c8ff4636d948c72e2",
       "version_major": 2,
       "version_minor": 0
      },
      "text/plain": [
       "HBox(children=(FloatProgress(value=0.0, max=83.0), HTML(value='')))"
      ]
     },
     "metadata": {},
     "output_type": "display_data"
    },
    {
     "name": "stdout",
     "output_type": "stream",
     "text": [
      "\n"
     ]
    }
   ],
   "source": [
    "# Specify MI code to pull demographic data at block level\n",
    "blocks_2010_demo = block_data_for_state('26')\n",
    "blocks_2010_demo.to_csv('./raw-from-source/mi_demo_census_2010_blocks.csv', index = False)\n",
    "# Now we have the block data by county "
   ]
  },
  {
   "cell_type": "markdown",
   "metadata": {},
   "source": [
    "Output the block data to a csv so that you can read it in and not have to query from the API every time to re-run. "
   ]
  },
  {
   "cell_type": "code",
   "execution_count": 33,
   "metadata": {},
   "outputs": [
    {
     "data": {
      "text/html": [
       "<div>\n",
       "<style scoped>\n",
       "    .dataframe tbody tr th:only-of-type {\n",
       "        vertical-align: middle;\n",
       "    }\n",
       "\n",
       "    .dataframe tbody tr th {\n",
       "        vertical-align: top;\n",
       "    }\n",
       "\n",
       "    .dataframe thead th {\n",
       "        text-align: right;\n",
       "    }\n",
       "</style>\n",
       "<table border=\"1\" class=\"dataframe\">\n",
       "  <thead>\n",
       "    <tr style=\"text-align: right;\">\n",
       "      <th></th>\n",
       "      <th>TOTPOP</th>\n",
       "      <th>NH_WHITE</th>\n",
       "      <th>NH_BLACK</th>\n",
       "      <th>NH_AMIN</th>\n",
       "      <th>NH_ASIAN</th>\n",
       "      <th>NH_NHPI</th>\n",
       "      <th>NH_OTHER</th>\n",
       "      <th>NH_2MORE</th>\n",
       "      <th>HISP</th>\n",
       "      <th>H_WHITE</th>\n",
       "      <th>...</th>\n",
       "      <th>ASIANVAP</th>\n",
       "      <th>NHPIVAP</th>\n",
       "      <th>OTHERVAP</th>\n",
       "      <th>2MOREVAP</th>\n",
       "      <th>NAME</th>\n",
       "      <th>state</th>\n",
       "      <th>county</th>\n",
       "      <th>tract</th>\n",
       "      <th>block</th>\n",
       "      <th>geoid</th>\n",
       "    </tr>\n",
       "  </thead>\n",
       "  <tbody>\n",
       "    <tr>\n",
       "      <th>0</th>\n",
       "      <td>16</td>\n",
       "      <td>13</td>\n",
       "      <td>0</td>\n",
       "      <td>0</td>\n",
       "      <td>3</td>\n",
       "      <td>0</td>\n",
       "      <td>0</td>\n",
       "      <td>0</td>\n",
       "      <td>0</td>\n",
       "      <td>0</td>\n",
       "      <td>...</td>\n",
       "      <td>3</td>\n",
       "      <td>0</td>\n",
       "      <td>0</td>\n",
       "      <td>0</td>\n",
       "      <td>Block 1028, Block Group 1, Census Tract 4001, ...</td>\n",
       "      <td>26</td>\n",
       "      <td>161</td>\n",
       "      <td>400100</td>\n",
       "      <td>1028</td>\n",
       "      <td>261614001001028</td>\n",
       "    </tr>\n",
       "    <tr>\n",
       "      <th>1</th>\n",
       "      <td>279</td>\n",
       "      <td>188</td>\n",
       "      <td>20</td>\n",
       "      <td>0</td>\n",
       "      <td>41</td>\n",
       "      <td>0</td>\n",
       "      <td>2</td>\n",
       "      <td>9</td>\n",
       "      <td>19</td>\n",
       "      <td>15</td>\n",
       "      <td>...</td>\n",
       "      <td>41</td>\n",
       "      <td>0</td>\n",
       "      <td>2</td>\n",
       "      <td>9</td>\n",
       "      <td>Block 1000, Block Group 1, Census Tract 4001, ...</td>\n",
       "      <td>26</td>\n",
       "      <td>161</td>\n",
       "      <td>400100</td>\n",
       "      <td>1000</td>\n",
       "      <td>261614001001000</td>\n",
       "    </tr>\n",
       "  </tbody>\n",
       "</table>\n",
       "<p>2 rows × 31 columns</p>\n",
       "</div>"
      ],
      "text/plain": [
       "   TOTPOP  NH_WHITE  NH_BLACK  NH_AMIN   NH_ASIAN  NH_NHPI   NH_OTHER  \\\n",
       "0      16        13         0         0         3         0         0   \n",
       "1     279       188        20         0        41         0         2   \n",
       "\n",
       "   NH_2MORE  HISP  H_WHITE  ...  ASIANVAP  NHPIVAP  OTHERVAP  2MOREVAP  \\\n",
       "0         0     0        0  ...         3        0         0         0   \n",
       "1         9    19       15  ...        41        0         2         9   \n",
       "\n",
       "                                                NAME  state  county   tract  \\\n",
       "0  Block 1028, Block Group 1, Census Tract 4001, ...     26     161  400100   \n",
       "1  Block 1000, Block Group 1, Census Tract 4001, ...     26     161  400100   \n",
       "\n",
       "   block            geoid  \n",
       "0   1028  261614001001028  \n",
       "1   1000  261614001001000  \n",
       "\n",
       "[2 rows x 31 columns]"
      ]
     },
     "execution_count": 33,
     "metadata": {},
     "output_type": "execute_result"
    }
   ],
   "source": [
    "blocks_2010_demo = pd.read_csv('./raw-from-source/mi_demo_census_2010_blocks.csv')\n",
    "blocks_2010_demo = blocks_2010_demo.astype({\"geoid\": str})\n",
    "blocks_2010_demo.head(2)"
   ]
  },
  {
   "cell_type": "markdown",
   "metadata": {},
   "source": [
    "**Read in 2010 Census Block TIGER/LINE shapefile**"
   ]
  },
  {
   "cell_type": "code",
   "execution_count": 34,
   "metadata": {},
   "outputs": [],
   "source": [
    "#Read Census block shapefiles\n",
    "#Source: (https://www.census.gov/cgi-bin/geo/shapefiles/index.php?year=2010&layergroup=Blocks)\n",
    "blocks_2010_shp = gpd.read_file(\"./raw-from-source/tl_2010_26_tabblock10/tl_2010_26_tabblock10.shp\")"
   ]
  },
  {
   "cell_type": "code",
   "execution_count": 35,
   "metadata": {},
   "outputs": [
    {
     "data": {
      "text/plain": [
       "329885"
      ]
     },
     "execution_count": 35,
     "metadata": {},
     "output_type": "execute_result"
    }
   ],
   "source": [
    "len(blocks_2010_shp)"
   ]
  },
  {
   "cell_type": "code",
   "execution_count": 36,
   "metadata": {},
   "outputs": [
    {
     "data": {
      "text/plain": [
       "329885"
      ]
     },
     "execution_count": 36,
     "metadata": {},
     "output_type": "execute_result"
    }
   ],
   "source": [
    "len(blocks_2010_demo)"
   ]
  },
  {
   "cell_type": "markdown",
   "metadata": {},
   "source": [
    "Counts are the same so the join between the block demo and block shapefile should be good!"
   ]
  },
  {
   "cell_type": "markdown",
   "metadata": {},
   "source": [
    "## Join Block-Level Census Data\n",
    "**Join data with shape (block level demographic data with block level shapefile)**"
   ]
  },
  {
   "cell_type": "code",
   "execution_count": 37,
   "metadata": {},
   "outputs": [],
   "source": [
    "demographic_block = blocks_2010_shp.merge(blocks_2010_demo, how = 'inner', left_on = 'GEOID10', right_on = 'geoid', indicator = True)"
   ]
  },
  {
   "cell_type": "markdown",
   "metadata": {},
   "source": [
    "Run some checks to make sure all looks good. "
   ]
  },
  {
   "cell_type": "code",
   "execution_count": 38,
   "metadata": {},
   "outputs": [
    {
     "data": {
      "text/html": [
       "<div>\n",
       "<style scoped>\n",
       "    .dataframe tbody tr th:only-of-type {\n",
       "        vertical-align: middle;\n",
       "    }\n",
       "\n",
       "    .dataframe tbody tr th {\n",
       "        vertical-align: top;\n",
       "    }\n",
       "\n",
       "    .dataframe thead th {\n",
       "        text-align: right;\n",
       "    }\n",
       "</style>\n",
       "<table border=\"1\" class=\"dataframe\">\n",
       "  <thead>\n",
       "    <tr style=\"text-align: right;\">\n",
       "      <th></th>\n",
       "      <th>STATEFP10</th>\n",
       "      <th>COUNTYFP10</th>\n",
       "      <th>TRACTCE10</th>\n",
       "      <th>BLOCKCE10</th>\n",
       "      <th>GEOID10</th>\n",
       "      <th>NAME10</th>\n",
       "      <th>MTFCC10</th>\n",
       "      <th>UR10</th>\n",
       "      <th>UACE10</th>\n",
       "      <th>UATYP10</th>\n",
       "      <th>...</th>\n",
       "      <th>NHPIVAP</th>\n",
       "      <th>OTHERVAP</th>\n",
       "      <th>2MOREVAP</th>\n",
       "      <th>NAME</th>\n",
       "      <th>state</th>\n",
       "      <th>county</th>\n",
       "      <th>tract</th>\n",
       "      <th>block</th>\n",
       "      <th>geoid</th>\n",
       "      <th>_merge</th>\n",
       "    </tr>\n",
       "  </thead>\n",
       "  <tbody>\n",
       "    <tr>\n",
       "      <th>212500</th>\n",
       "      <td>26</td>\n",
       "      <td>125</td>\n",
       "      <td>123100</td>\n",
       "      <td>2020</td>\n",
       "      <td>261251231002020</td>\n",
       "      <td>Block 2020</td>\n",
       "      <td>G5040</td>\n",
       "      <td>R</td>\n",
       "      <td>None</td>\n",
       "      <td>None</td>\n",
       "      <td>...</td>\n",
       "      <td>0</td>\n",
       "      <td>0</td>\n",
       "      <td>0</td>\n",
       "      <td>Block 2020, Block Group 2, Census Tract 1231, ...</td>\n",
       "      <td>26</td>\n",
       "      <td>125</td>\n",
       "      <td>123100</td>\n",
       "      <td>2020</td>\n",
       "      <td>261251231002020</td>\n",
       "      <td>both</td>\n",
       "    </tr>\n",
       "    <tr>\n",
       "      <th>88576</th>\n",
       "      <td>26</td>\n",
       "      <td>059</td>\n",
       "      <td>051000</td>\n",
       "      <td>2016</td>\n",
       "      <td>260590510002016</td>\n",
       "      <td>Block 2016</td>\n",
       "      <td>G5040</td>\n",
       "      <td>U</td>\n",
       "      <td>38998</td>\n",
       "      <td>C</td>\n",
       "      <td>...</td>\n",
       "      <td>0</td>\n",
       "      <td>0</td>\n",
       "      <td>0</td>\n",
       "      <td>Block 2016, Block Group 2, Census Tract 510, H...</td>\n",
       "      <td>26</td>\n",
       "      <td>59</td>\n",
       "      <td>51000</td>\n",
       "      <td>2016</td>\n",
       "      <td>260590510002016</td>\n",
       "      <td>both</td>\n",
       "    </tr>\n",
       "    <tr>\n",
       "      <th>251834</th>\n",
       "      <td>26</td>\n",
       "      <td>141</td>\n",
       "      <td>950300</td>\n",
       "      <td>2225</td>\n",
       "      <td>261419503002225</td>\n",
       "      <td>Block 2225</td>\n",
       "      <td>G5040</td>\n",
       "      <td>R</td>\n",
       "      <td>None</td>\n",
       "      <td>None</td>\n",
       "      <td>...</td>\n",
       "      <td>0</td>\n",
       "      <td>0</td>\n",
       "      <td>0</td>\n",
       "      <td>Block 2225, Block Group 2, Census Tract 9503, ...</td>\n",
       "      <td>26</td>\n",
       "      <td>141</td>\n",
       "      <td>950300</td>\n",
       "      <td>2225</td>\n",
       "      <td>261419503002225</td>\n",
       "      <td>both</td>\n",
       "    </tr>\n",
       "  </tbody>\n",
       "</table>\n",
       "<p>3 rows × 48 columns</p>\n",
       "</div>"
      ],
      "text/plain": [
       "       STATEFP10 COUNTYFP10 TRACTCE10 BLOCKCE10          GEOID10      NAME10  \\\n",
       "212500        26        125    123100      2020  261251231002020  Block 2020   \n",
       "88576         26        059    051000      2016  260590510002016  Block 2016   \n",
       "251834        26        141    950300      2225  261419503002225  Block 2225   \n",
       "\n",
       "       MTFCC10 UR10 UACE10 UATYP10  ... NHPIVAP  OTHERVAP  2MOREVAP  \\\n",
       "212500   G5040    R   None    None  ...       0         0         0   \n",
       "88576    G5040    U  38998       C  ...       0         0         0   \n",
       "251834   G5040    R   None    None  ...       0         0         0   \n",
       "\n",
       "                                                     NAME state county  \\\n",
       "212500  Block 2020, Block Group 2, Census Tract 1231, ...    26    125   \n",
       "88576   Block 2016, Block Group 2, Census Tract 510, H...    26     59   \n",
       "251834  Block 2225, Block Group 2, Census Tract 9503, ...    26    141   \n",
       "\n",
       "         tract  block            geoid  _merge  \n",
       "212500  123100   2020  261251231002020    both  \n",
       "88576    51000   2016  260590510002016    both  \n",
       "251834  950300   2225  261419503002225    both  \n",
       "\n",
       "[3 rows x 48 columns]"
      ]
     },
     "execution_count": 38,
     "metadata": {},
     "output_type": "execute_result"
    }
   ],
   "source": [
    "demographic_block.sample(3)"
   ]
  },
  {
   "cell_type": "code",
   "execution_count": 39,
   "metadata": {},
   "outputs": [
    {
     "name": "stdout",
     "output_type": "stream",
     "text": [
      "329885\n",
      "329885\n",
      "9883640\n",
      "9883640\n"
     ]
    }
   ],
   "source": [
    "print(len(demographic_block.GEOID10))\n",
    "print(len(blocks_2010_shp.GEOID10))\n",
    "print(demographic_block.TOTPOP.sum())\n",
    "print(blocks_2010_demo.TOTPOP.sum())"
   ]
  },
  {
   "cell_type": "code",
   "execution_count": 40,
   "metadata": {},
   "outputs": [
    {
     "data": {
      "text/plain": [
       "<matplotlib.axes._subplots.AxesSubplot at 0x15937fa30>"
      ]
     },
     "execution_count": 40,
     "metadata": {},
     "output_type": "execute_result"
    },
    {
     "data": {
      "image/png": "[encoded data removed]",
      "text/plain": [
       "<Figure size 432x288 with 1 Axes>"
      ]
     },
     "metadata": {
      "needs_background": "light"
     },
     "output_type": "display_data"
    }
   ],
   "source": [
    "demographic_block.plot()"
   ]
  },
  {
   "cell_type": "markdown",
   "metadata": {},
   "source": [
    "<a name=\"shapefile\"></a>"
   ]
  },
  {
   "cell_type": "markdown",
   "metadata": {},
   "source": [
    "# Precinct Shapefile\n",
    "Prorate demographic and Voting Population data from census block level to precinct level"
   ]
  },
  {
   "cell_type": "code",
   "execution_count": 41,
   "metadata": {},
   "outputs": [],
   "source": [
    "#2016 PRECINCTS\n",
    "precincts = gpd.read_file(\"./raw-from-source/2016_Voting_Precincts-shp/2016_Voting_Precincts.shp\")"
   ]
  },
  {
   "cell_type": "code",
   "execution_count": 42,
   "metadata": {},
   "outputs": [
    {
     "data": {
      "text/plain": [
       "(4810, 10)"
      ]
     },
     "execution_count": 42,
     "metadata": {},
     "output_type": "execute_result"
    }
   ],
   "source": [
    "precincts.shape"
   ]
  },
  {
   "cell_type": "markdown",
   "metadata": {},
   "source": [
    "## MGGG Final File\n",
    "To compare as we go"
   ]
  },
  {
   "cell_type": "code",
   "execution_count": 43,
   "metadata": {},
   "outputs": [],
   "source": [
    "#Final MGGG Shapefile\n",
    "mggg_final_shp = gpd.read_file(\"./raw-from-source/MI_precincts_upd_20210218/MI.shp\")"
   ]
  },
  {
   "cell_type": "code",
   "execution_count": 44,
   "metadata": {},
   "outputs": [
    {
     "data": {
      "text/plain": [
       "(4809, 46)"
      ]
     },
     "execution_count": 44,
     "metadata": {},
     "output_type": "execute_result"
    }
   ],
   "source": [
    "mggg_final_shp.shape"
   ]
  },
  {
   "cell_type": "markdown",
   "metadata": {},
   "source": [
    "There's one more precinct in the file we have from the Michigan Data Portal than in MGGG's file. "
   ]
  },
  {
   "cell_type": "markdown",
   "metadata": {},
   "source": [
    "## Assign Block-Level Census Data to Precincts\n",
    "**Demographic and Voting Pop Data from Block Level to Precinct Level**"
   ]
  },
  {
   "cell_type": "code",
   "execution_count": 45,
   "metadata": {},
   "outputs": [
    {
     "data": {
      "text/plain": [
       "<Projected CRS: EPSG:3078>\n",
       "Name: NAD83 / Michigan Oblique Mercator\n",
       "Axis Info [cartesian]:\n",
       "- X[east]: Easting (metre)\n",
       "- Y[north]: Northing (metre)\n",
       "Area of Use:\n",
       "- name: USA - Michigan\n",
       "- bounds: (-90.42, 41.69, -82.13, 48.32)\n",
       "Coordinate Operation:\n",
       "- name: Michigan Oblique Mercator (meters)\n",
       "- method: Hotine Oblique Mercator (variant A)\n",
       "Datum: North American Datum 1983\n",
       "- Ellipsoid: GRS 1980\n",
       "- Prime Meridian: Greenwich"
      ]
     },
     "execution_count": 45,
     "metadata": {},
     "output_type": "execute_result"
    }
   ],
   "source": [
    "precincts.crs"
   ]
  },
  {
   "cell_type": "code",
   "execution_count": 46,
   "metadata": {},
   "outputs": [],
   "source": [
    "proj = precincts.crs\n",
    "precincts = precincts.to_crs(proj)\n",
    "demographic_block = demographic_block.to_crs(proj)"
   ]
  },
  {
   "cell_type": "code",
   "execution_count": 47,
   "metadata": {},
   "outputs": [],
   "source": [
    "demographic_block.columns = demographic_block.columns.str.strip()"
   ]
  },
  {
   "cell_type": "code",
   "execution_count": 48,
   "metadata": {},
   "outputs": [
    {
     "data": {
      "text/html": [
       "<div>\n",
       "<style scoped>\n",
       "    .dataframe tbody tr th:only-of-type {\n",
       "        vertical-align: middle;\n",
       "    }\n",
       "\n",
       "    .dataframe tbody tr th {\n",
       "        vertical-align: top;\n",
       "    }\n",
       "\n",
       "    .dataframe thead th {\n",
       "        text-align: right;\n",
       "    }\n",
       "</style>\n",
       "<table border=\"1\" class=\"dataframe\">\n",
       "  <thead>\n",
       "    <tr style=\"text-align: right;\">\n",
       "      <th></th>\n",
       "      <th>OBJECTID</th>\n",
       "      <th>Id</th>\n",
       "      <th>VTD2016</th>\n",
       "      <th>CountyFips</th>\n",
       "      <th>Jurisdicti</th>\n",
       "      <th>ElectionYe</th>\n",
       "      <th>Label</th>\n",
       "      <th>ShapeSTAre</th>\n",
       "      <th>ShapeSTLen</th>\n",
       "      <th>geometry</th>\n",
       "    </tr>\n",
       "  </thead>\n",
       "  <tbody>\n",
       "    <tr>\n",
       "      <th>0</th>\n",
       "      <td>1</td>\n",
       "      <td>3888</td>\n",
       "      <td>1632100000001</td>\n",
       "      <td>163</td>\n",
       "      <td>21000</td>\n",
       "      <td>2016</td>\n",
       "      <td>City of Dearborn</td>\n",
       "      <td>2.489738e+06</td>\n",
       "      <td>6846.254657</td>\n",
       "      <td>POLYGON ((734740.564 203392.197, 734729.230 20...</td>\n",
       "    </tr>\n",
       "  </tbody>\n",
       "</table>\n",
       "</div>"
      ],
      "text/plain": [
       "   OBJECTID    Id        VTD2016 CountyFips Jurisdicti  ElectionYe  \\\n",
       "0         1  3888  1632100000001        163      21000        2016   \n",
       "\n",
       "              Label    ShapeSTAre   ShapeSTLen  \\\n",
       "0  City of Dearborn  2.489738e+06  6846.254657   \n",
       "\n",
       "                                            geometry  \n",
       "0  POLYGON ((734740.564 203392.197, 734729.230 20...  "
      ]
     },
     "execution_count": 48,
     "metadata": {},
     "output_type": "execute_result"
    }
   ],
   "source": [
    "precincts.head(1)"
   ]
  },
  {
   "cell_type": "markdown",
   "metadata": {},
   "source": [
    "See what columns are in MGGG's file and not in ours that we will have to add. "
   ]
  },
  {
   "cell_type": "code",
   "execution_count": 49,
   "metadata": {},
   "outputs": [
    {
     "data": {
      "text/plain": [
       "{'CD',\n",
       " 'CountyFips',\n",
       " 'ElectionYe',\n",
       " 'HDIST',\n",
       " 'Jurisdicti',\n",
       " 'Label',\n",
       " 'PRES16D',\n",
       " 'PRES16G',\n",
       " 'PRES16L',\n",
       " 'PRES16R',\n",
       " 'SENDIST',\n",
       " 'ShapeSTLen',\n",
       " 'VTD',\n",
       " 'VTD2016_x',\n",
       " 'county_fip',\n",
       " 'county_lat',\n",
       " 'county_lon',\n",
       " 'county_nam',\n",
       " 'jurisdic_1',\n",
       " 'precinct'}"
      ]
     },
     "execution_count": 49,
     "metadata": {},
     "output_type": "execute_result"
    }
   ],
   "source": [
    "set(mggg_final_shp.columns) - set(demographic_block.columns)"
   ]
  },
  {
   "cell_type": "code",
   "execution_count": 50,
   "metadata": {},
   "outputs": [],
   "source": [
    "precincts['geometry'] = precincts.buffer(0)"
   ]
  },
  {
   "cell_type": "code",
   "execution_count": 51,
   "metadata": {},
   "outputs": [],
   "source": [
    "import warnings; warnings.filterwarnings('ignore', 'GeoSeries.isna', UserWarning)\n",
    "\n",
    "demo_variables = ['TOTPOP','NH_WHITE', 'NH_BLACK', 'NH_AMIN', 'NH_ASIAN', \n",
    "             'NH_NHPI', 'NH_OTHER','NH_2MORE', 'HISP', 'VAP', 'HVAP', \n",
    "             'WVAP', 'BVAP', 'AMINVAP','ASIANVAP', 'NHPIVAP', 'OTHERVAP', \n",
    "             '2MOREVAP'] \n",
    "\n",
    "demographic_precinct = maup.assign(demographic_block, precincts)"
   ]
  },
  {
   "cell_type": "code",
   "execution_count": 52,
   "metadata": {},
   "outputs": [],
   "source": [
    "precincts[demo_variables] = demographic_block[demo_variables].groupby(demographic_precinct).sum()"
   ]
  },
  {
   "cell_type": "code",
   "execution_count": 53,
   "metadata": {},
   "outputs": [
    {
     "data": {
      "text/html": [
       "<div>\n",
       "<style scoped>\n",
       "    .dataframe tbody tr th:only-of-type {\n",
       "        vertical-align: middle;\n",
       "    }\n",
       "\n",
       "    .dataframe tbody tr th {\n",
       "        vertical-align: top;\n",
       "    }\n",
       "\n",
       "    .dataframe thead th {\n",
       "        text-align: right;\n",
       "    }\n",
       "</style>\n",
       "<table border=\"1\" class=\"dataframe\">\n",
       "  <thead>\n",
       "    <tr style=\"text-align: right;\">\n",
       "      <th></th>\n",
       "      <th>OBJECTID</th>\n",
       "      <th>Id</th>\n",
       "      <th>VTD2016</th>\n",
       "      <th>CountyFips</th>\n",
       "      <th>Jurisdicti</th>\n",
       "      <th>ElectionYe</th>\n",
       "      <th>Label</th>\n",
       "      <th>ShapeSTAre</th>\n",
       "      <th>ShapeSTLen</th>\n",
       "      <th>geometry</th>\n",
       "      <th>...</th>\n",
       "      <th>HISP</th>\n",
       "      <th>VAP</th>\n",
       "      <th>HVAP</th>\n",
       "      <th>WVAP</th>\n",
       "      <th>BVAP</th>\n",
       "      <th>AMINVAP</th>\n",
       "      <th>ASIANVAP</th>\n",
       "      <th>NHPIVAP</th>\n",
       "      <th>OTHERVAP</th>\n",
       "      <th>2MOREVAP</th>\n",
       "    </tr>\n",
       "  </thead>\n",
       "  <tbody>\n",
       "    <tr>\n",
       "      <th>0</th>\n",
       "      <td>1</td>\n",
       "      <td>3888</td>\n",
       "      <td>1632100000001</td>\n",
       "      <td>163</td>\n",
       "      <td>21000</td>\n",
       "      <td>2016</td>\n",
       "      <td>City of Dearborn</td>\n",
       "      <td>2.489738e+06</td>\n",
       "      <td>6846.254657</td>\n",
       "      <td>POLYGON ((734740.564 203392.197, 734729.230 20...</td>\n",
       "      <td>...</td>\n",
       "      <td>57</td>\n",
       "      <td>1572</td>\n",
       "      <td>38</td>\n",
       "      <td>1330</td>\n",
       "      <td>75</td>\n",
       "      <td>2</td>\n",
       "      <td>20</td>\n",
       "      <td>0</td>\n",
       "      <td>6</td>\n",
       "      <td>101</td>\n",
       "    </tr>\n",
       "    <tr>\n",
       "      <th>1</th>\n",
       "      <td>2</td>\n",
       "      <td>3889</td>\n",
       "      <td>1632100000002</td>\n",
       "      <td>163</td>\n",
       "      <td>21000</td>\n",
       "      <td>2016</td>\n",
       "      <td>City of Dearborn</td>\n",
       "      <td>1.058362e+06</td>\n",
       "      <td>4621.388992</td>\n",
       "      <td>POLYGON ((733757.240 203553.421, 733767.280 20...</td>\n",
       "      <td>...</td>\n",
       "      <td>57</td>\n",
       "      <td>1992</td>\n",
       "      <td>43</td>\n",
       "      <td>1760</td>\n",
       "      <td>41</td>\n",
       "      <td>3</td>\n",
       "      <td>16</td>\n",
       "      <td>0</td>\n",
       "      <td>1</td>\n",
       "      <td>128</td>\n",
       "    </tr>\n",
       "  </tbody>\n",
       "</table>\n",
       "<p>2 rows × 28 columns</p>\n",
       "</div>"
      ],
      "text/plain": [
       "   OBJECTID    Id        VTD2016 CountyFips Jurisdicti  ElectionYe  \\\n",
       "0         1  3888  1632100000001        163      21000        2016   \n",
       "1         2  3889  1632100000002        163      21000        2016   \n",
       "\n",
       "              Label    ShapeSTAre   ShapeSTLen  \\\n",
       "0  City of Dearborn  2.489738e+06  6846.254657   \n",
       "1  City of Dearborn  1.058362e+06  4621.388992   \n",
       "\n",
       "                                            geometry  ...  HISP   VAP  HVAP  \\\n",
       "0  POLYGON ((734740.564 203392.197, 734729.230 20...  ...    57  1572    38   \n",
       "1  POLYGON ((733757.240 203553.421, 733767.280 20...  ...    57  1992    43   \n",
       "\n",
       "   WVAP  BVAP  AMINVAP  ASIANVAP  NHPIVAP  OTHERVAP  2MOREVAP  \n",
       "0  1330    75        2        20        0         6       101  \n",
       "1  1760    41        3        16        0         1       128  \n",
       "\n",
       "[2 rows x 28 columns]"
      ]
     },
     "execution_count": 53,
     "metadata": {},
     "output_type": "execute_result"
    }
   ],
   "source": [
    "precincts.head(2)"
   ]
  },
  {
   "cell_type": "code",
   "execution_count": 54,
   "metadata": {},
   "outputs": [
    {
     "data": {
      "text/plain": [
       "9883640"
      ]
     },
     "execution_count": 54,
     "metadata": {},
     "output_type": "execute_result"
    }
   ],
   "source": [
    "precincts.TOTPOP.sum()"
   ]
  },
  {
   "cell_type": "markdown",
   "metadata": {},
   "source": [
    "Comparing to mggg's race fields"
   ]
  },
  {
   "cell_type": "code",
   "execution_count": 55,
   "metadata": {},
   "outputs": [],
   "source": [
    "mggg_final_shp = mggg_final_shp.to_crs(proj)"
   ]
  },
  {
   "cell_type": "code",
   "execution_count": 56,
   "metadata": {},
   "outputs": [
    {
     "data": {
      "text/plain": [
       "7569939"
      ]
     },
     "execution_count": 56,
     "metadata": {},
     "output_type": "execute_result"
    }
   ],
   "source": [
    "mggg_final_shp.NH_WHITE.sum()"
   ]
  },
  {
   "cell_type": "code",
   "execution_count": 57,
   "metadata": {},
   "outputs": [
    {
     "data": {
      "text/plain": [
       "9883640"
      ]
     },
     "execution_count": 57,
     "metadata": {},
     "output_type": "execute_result"
    }
   ],
   "source": [
    "mggg_final_shp.TOTPOP.sum()"
   ]
  },
  {
   "cell_type": "markdown",
   "metadata": {},
   "source": [
    "Looks good, MGGG fixed their total population issue"
   ]
  },
  {
   "cell_type": "markdown",
   "metadata": {},
   "source": [
    "<a name=\"legislative\"></a>"
   ]
  },
  {
   "cell_type": "markdown",
   "metadata": {},
   "source": [
    "# Legislative Boundaries"
   ]
  },
  {
   "cell_type": "markdown",
   "metadata": {},
   "source": [
    "## Assign the state senate districts"
   ]
  },
  {
   "cell_type": "code",
   "execution_count": 58,
   "metadata": {},
   "outputs": [],
   "source": [
    "senate_districts = gp.read_file(\"./raw-from-source/tl_2013_26_sldu/tl_2013_26_sldu.shp\")"
   ]
  },
  {
   "cell_type": "code",
   "execution_count": 59,
   "metadata": {},
   "outputs": [],
   "source": [
    "senate_districts = senate_districts.to_crs(proj)"
   ]
  },
  {
   "cell_type": "code",
   "execution_count": 60,
   "metadata": {},
   "outputs": [
    {
     "data": {
      "text/html": [
       "<div>\n",
       "<style scoped>\n",
       "    .dataframe tbody tr th:only-of-type {\n",
       "        vertical-align: middle;\n",
       "    }\n",
       "\n",
       "    .dataframe tbody tr th {\n",
       "        vertical-align: top;\n",
       "    }\n",
       "\n",
       "    .dataframe thead th {\n",
       "        text-align: right;\n",
       "    }\n",
       "</style>\n",
       "<table border=\"1\" class=\"dataframe\">\n",
       "  <thead>\n",
       "    <tr style=\"text-align: right;\">\n",
       "      <th></th>\n",
       "      <th>STATEFP</th>\n",
       "      <th>SLDUST</th>\n",
       "      <th>GEOID</th>\n",
       "      <th>NAMELSAD</th>\n",
       "      <th>LSAD</th>\n",
       "      <th>LSY</th>\n",
       "      <th>MTFCC</th>\n",
       "      <th>FUNCSTAT</th>\n",
       "      <th>ALAND</th>\n",
       "      <th>AWATER</th>\n",
       "      <th>INTPTLAT</th>\n",
       "      <th>INTPTLON</th>\n",
       "      <th>geometry</th>\n",
       "    </tr>\n",
       "  </thead>\n",
       "  <tbody>\n",
       "    <tr>\n",
       "      <th>29</th>\n",
       "      <td>26</td>\n",
       "      <td>030</td>\n",
       "      <td>26030</td>\n",
       "      <td>State Senate District 30</td>\n",
       "      <td>LU</td>\n",
       "      <td>2013</td>\n",
       "      <td>G5210</td>\n",
       "      <td>N</td>\n",
       "      <td>1459605745</td>\n",
       "      <td>2765726306</td>\n",
       "      <td>+43.0568042</td>\n",
       "      <td>-086.2480756</td>\n",
       "      <td>POLYGON ((409731.865 285818.120, 414104.991 28...</td>\n",
       "    </tr>\n",
       "    <tr>\n",
       "      <th>20</th>\n",
       "      <td>26</td>\n",
       "      <td>021</td>\n",
       "      <td>26021</td>\n",
       "      <td>State Senate District 21</td>\n",
       "      <td>LU</td>\n",
       "      <td>2013</td>\n",
       "      <td>G5210</td>\n",
       "      <td>N</td>\n",
       "      <td>4036344511</td>\n",
       "      <td>2725649414</td>\n",
       "      <td>+41.9685650</td>\n",
       "      <td>-086.3232368</td>\n",
       "      <td>POLYGON ((399603.427 135741.141, 399618.592 13...</td>\n",
       "    </tr>\n",
       "    <tr>\n",
       "      <th>27</th>\n",
       "      <td>26</td>\n",
       "      <td>028</td>\n",
       "      <td>26028</td>\n",
       "      <td>State Senate District 28</td>\n",
       "      <td>LU</td>\n",
       "      <td>2013</td>\n",
       "      <td>G5210</td>\n",
       "      <td>N</td>\n",
       "      <td>1431224566</td>\n",
       "      <td>47359022</td>\n",
       "      <td>+43.1066447</td>\n",
       "      <td>-085.5686068</td>\n",
       "      <td>POLYGON ((516866.232 294920.759, 516868.961 29...</td>\n",
       "    </tr>\n",
       "  </tbody>\n",
       "</table>\n",
       "</div>"
      ],
      "text/plain": [
       "   STATEFP SLDUST  GEOID                  NAMELSAD LSAD   LSY  MTFCC FUNCSTAT  \\\n",
       "29      26    030  26030  State Senate District 30   LU  2013  G5210        N   \n",
       "20      26    021  26021  State Senate District 21   LU  2013  G5210        N   \n",
       "27      26    028  26028  State Senate District 28   LU  2013  G5210        N   \n",
       "\n",
       "         ALAND      AWATER     INTPTLAT      INTPTLON  \\\n",
       "29  1459605745  2765726306  +43.0568042  -086.2480756   \n",
       "20  4036344511  2725649414  +41.9685650  -086.3232368   \n",
       "27  1431224566    47359022  +43.1066447  -085.5686068   \n",
       "\n",
       "                                             geometry  \n",
       "29  POLYGON ((409731.865 285818.120, 414104.991 28...  \n",
       "20  POLYGON ((399603.427 135741.141, 399618.592 13...  \n",
       "27  POLYGON ((516866.232 294920.759, 516868.961 29...  "
      ]
     },
     "execution_count": 60,
     "metadata": {},
     "output_type": "execute_result"
    }
   ],
   "source": [
    "senate_districts.sample(3)"
   ]
  },
  {
   "cell_type": "code",
   "execution_count": 61,
   "metadata": {},
   "outputs": [],
   "source": [
    "senate_districts.set_index('SLDUST', inplace = True)"
   ]
  },
  {
   "cell_type": "code",
   "execution_count": 62,
   "metadata": {},
   "outputs": [],
   "source": [
    "senate_districts.sort_index(inplace = True)"
   ]
  },
  {
   "cell_type": "code",
   "execution_count": 63,
   "metadata": {},
   "outputs": [
    {
     "data": {
      "text/html": [
       "<div>\n",
       "<style scoped>\n",
       "    .dataframe tbody tr th:only-of-type {\n",
       "        vertical-align: middle;\n",
       "    }\n",
       "\n",
       "    .dataframe tbody tr th {\n",
       "        vertical-align: top;\n",
       "    }\n",
       "\n",
       "    .dataframe thead th {\n",
       "        text-align: right;\n",
       "    }\n",
       "</style>\n",
       "<table border=\"1\" class=\"dataframe\">\n",
       "  <thead>\n",
       "    <tr style=\"text-align: right;\">\n",
       "      <th></th>\n",
       "      <th>STATEFP</th>\n",
       "      <th>GEOID</th>\n",
       "      <th>NAMELSAD</th>\n",
       "      <th>LSAD</th>\n",
       "      <th>LSY</th>\n",
       "      <th>MTFCC</th>\n",
       "      <th>FUNCSTAT</th>\n",
       "      <th>ALAND</th>\n",
       "      <th>AWATER</th>\n",
       "      <th>INTPTLAT</th>\n",
       "      <th>INTPTLON</th>\n",
       "      <th>geometry</th>\n",
       "    </tr>\n",
       "    <tr>\n",
       "      <th>SLDUST</th>\n",
       "      <th></th>\n",
       "      <th></th>\n",
       "      <th></th>\n",
       "      <th></th>\n",
       "      <th></th>\n",
       "      <th></th>\n",
       "      <th></th>\n",
       "      <th></th>\n",
       "      <th></th>\n",
       "      <th></th>\n",
       "      <th></th>\n",
       "      <th></th>\n",
       "    </tr>\n",
       "  </thead>\n",
       "  <tbody>\n",
       "    <tr>\n",
       "      <th>001</th>\n",
       "      <td>26</td>\n",
       "      <td>26001</td>\n",
       "      <td>State Senate District 1</td>\n",
       "      <td>LU</td>\n",
       "      <td>2013</td>\n",
       "      <td>G5210</td>\n",
       "      <td>N</td>\n",
       "      <td>209597156</td>\n",
       "      <td>45849849</td>\n",
       "      <td>+42.1634314</td>\n",
       "      <td>-083.1822438</td>\n",
       "      <td>POLYGON ((725902.683 178533.209, 725927.637 17...</td>\n",
       "    </tr>\n",
       "    <tr>\n",
       "      <th>002</th>\n",
       "      <td>26</td>\n",
       "      <td>26002</td>\n",
       "      <td>State Senate District 2</td>\n",
       "      <td>LU</td>\n",
       "      <td>2013</td>\n",
       "      <td>G5210</td>\n",
       "      <td>N</td>\n",
       "      <td>123604372</td>\n",
       "      <td>77486341</td>\n",
       "      <td>+42.4443980</td>\n",
       "      <td>-082.8736621</td>\n",
       "      <td>POLYGON ((735683.666 201915.723, 735706.499 20...</td>\n",
       "    </tr>\n",
       "    <tr>\n",
       "      <th>003</th>\n",
       "      <td>26</td>\n",
       "      <td>26003</td>\n",
       "      <td>State Senate District 3</td>\n",
       "      <td>LU</td>\n",
       "      <td>2013</td>\n",
       "      <td>G5210</td>\n",
       "      <td>N</td>\n",
       "      <td>142128270</td>\n",
       "      <td>827148</td>\n",
       "      <td>+42.3446638</td>\n",
       "      <td>-083.2098765</td>\n",
       "      <td>POLYGON ((723001.611 212320.956, 723012.629 21...</td>\n",
       "    </tr>\n",
       "  </tbody>\n",
       "</table>\n",
       "</div>"
      ],
      "text/plain": [
       "       STATEFP  GEOID                 NAMELSAD LSAD   LSY  MTFCC FUNCSTAT  \\\n",
       "SLDUST                                                                      \n",
       "001         26  26001  State Senate District 1   LU  2013  G5210        N   \n",
       "002         26  26002  State Senate District 2   LU  2013  G5210        N   \n",
       "003         26  26003  State Senate District 3   LU  2013  G5210        N   \n",
       "\n",
       "            ALAND    AWATER     INTPTLAT      INTPTLON  \\\n",
       "SLDUST                                                   \n",
       "001     209597156  45849849  +42.1634314  -083.1822438   \n",
       "002     123604372  77486341  +42.4443980  -082.8736621   \n",
       "003     142128270    827148  +42.3446638  -083.2098765   \n",
       "\n",
       "                                                 geometry  \n",
       "SLDUST                                                     \n",
       "001     POLYGON ((725902.683 178533.209, 725927.637 17...  \n",
       "002     POLYGON ((735683.666 201915.723, 735706.499 20...  \n",
       "003     POLYGON ((723001.611 212320.956, 723012.629 21...  "
      ]
     },
     "execution_count": 63,
     "metadata": {},
     "output_type": "execute_result"
    }
   ],
   "source": [
    "senate_districts.head(3)"
   ]
  },
  {
   "cell_type": "code",
   "execution_count": 64,
   "metadata": {},
   "outputs": [
    {
     "data": {
      "text/html": [
       "<div>\n",
       "<style scoped>\n",
       "    .dataframe tbody tr th:only-of-type {\n",
       "        vertical-align: middle;\n",
       "    }\n",
       "\n",
       "    .dataframe tbody tr th {\n",
       "        vertical-align: top;\n",
       "    }\n",
       "\n",
       "    .dataframe thead th {\n",
       "        text-align: right;\n",
       "    }\n",
       "</style>\n",
       "<table border=\"1\" class=\"dataframe\">\n",
       "  <thead>\n",
       "    <tr style=\"text-align: right;\">\n",
       "      <th></th>\n",
       "      <th>OBJECTID</th>\n",
       "      <th>Id</th>\n",
       "      <th>VTD2016</th>\n",
       "      <th>CountyFips</th>\n",
       "      <th>Jurisdicti</th>\n",
       "      <th>ElectionYe</th>\n",
       "      <th>Label</th>\n",
       "      <th>ShapeSTAre</th>\n",
       "      <th>ShapeSTLen</th>\n",
       "      <th>geometry</th>\n",
       "      <th>...</th>\n",
       "      <th>HISP</th>\n",
       "      <th>VAP</th>\n",
       "      <th>HVAP</th>\n",
       "      <th>WVAP</th>\n",
       "      <th>BVAP</th>\n",
       "      <th>AMINVAP</th>\n",
       "      <th>ASIANVAP</th>\n",
       "      <th>NHPIVAP</th>\n",
       "      <th>OTHERVAP</th>\n",
       "      <th>2MOREVAP</th>\n",
       "    </tr>\n",
       "  </thead>\n",
       "  <tbody>\n",
       "    <tr>\n",
       "      <th>0</th>\n",
       "      <td>1</td>\n",
       "      <td>3888</td>\n",
       "      <td>1632100000001</td>\n",
       "      <td>163</td>\n",
       "      <td>21000</td>\n",
       "      <td>2016</td>\n",
       "      <td>City of Dearborn</td>\n",
       "      <td>2.489738e+06</td>\n",
       "      <td>6846.254657</td>\n",
       "      <td>POLYGON ((734740.564 203392.197, 734729.230 20...</td>\n",
       "      <td>...</td>\n",
       "      <td>57</td>\n",
       "      <td>1572</td>\n",
       "      <td>38</td>\n",
       "      <td>1330</td>\n",
       "      <td>75</td>\n",
       "      <td>2</td>\n",
       "      <td>20</td>\n",
       "      <td>0</td>\n",
       "      <td>6</td>\n",
       "      <td>101</td>\n",
       "    </tr>\n",
       "    <tr>\n",
       "      <th>1</th>\n",
       "      <td>2</td>\n",
       "      <td>3889</td>\n",
       "      <td>1632100000002</td>\n",
       "      <td>163</td>\n",
       "      <td>21000</td>\n",
       "      <td>2016</td>\n",
       "      <td>City of Dearborn</td>\n",
       "      <td>1.058362e+06</td>\n",
       "      <td>4621.388992</td>\n",
       "      <td>POLYGON ((733757.240 203553.421, 733767.280 20...</td>\n",
       "      <td>...</td>\n",
       "      <td>57</td>\n",
       "      <td>1992</td>\n",
       "      <td>43</td>\n",
       "      <td>1760</td>\n",
       "      <td>41</td>\n",
       "      <td>3</td>\n",
       "      <td>16</td>\n",
       "      <td>0</td>\n",
       "      <td>1</td>\n",
       "      <td>128</td>\n",
       "    </tr>\n",
       "    <tr>\n",
       "      <th>2</th>\n",
       "      <td>3</td>\n",
       "      <td>3890</td>\n",
       "      <td>1632100000003</td>\n",
       "      <td>163</td>\n",
       "      <td>21000</td>\n",
       "      <td>2016</td>\n",
       "      <td>City of Dearborn</td>\n",
       "      <td>1.488846e+06</td>\n",
       "      <td>4909.715171</td>\n",
       "      <td>POLYGON ((733220.680 203094.269, 733125.455 20...</td>\n",
       "      <td>...</td>\n",
       "      <td>64</td>\n",
       "      <td>2283</td>\n",
       "      <td>48</td>\n",
       "      <td>2024</td>\n",
       "      <td>43</td>\n",
       "      <td>2</td>\n",
       "      <td>30</td>\n",
       "      <td>1</td>\n",
       "      <td>3</td>\n",
       "      <td>132</td>\n",
       "    </tr>\n",
       "  </tbody>\n",
       "</table>\n",
       "<p>3 rows × 28 columns</p>\n",
       "</div>"
      ],
      "text/plain": [
       "   OBJECTID    Id        VTD2016 CountyFips Jurisdicti  ElectionYe  \\\n",
       "0         1  3888  1632100000001        163      21000        2016   \n",
       "1         2  3889  1632100000002        163      21000        2016   \n",
       "2         3  3890  1632100000003        163      21000        2016   \n",
       "\n",
       "              Label    ShapeSTAre   ShapeSTLen  \\\n",
       "0  City of Dearborn  2.489738e+06  6846.254657   \n",
       "1  City of Dearborn  1.058362e+06  4621.388992   \n",
       "2  City of Dearborn  1.488846e+06  4909.715171   \n",
       "\n",
       "                                            geometry  ...  HISP   VAP  HVAP  \\\n",
       "0  POLYGON ((734740.564 203392.197, 734729.230 20...  ...    57  1572    38   \n",
       "1  POLYGON ((733757.240 203553.421, 733767.280 20...  ...    57  1992    43   \n",
       "2  POLYGON ((733220.680 203094.269, 733125.455 20...  ...    64  2283    48   \n",
       "\n",
       "   WVAP  BVAP  AMINVAP  ASIANVAP  NHPIVAP  OTHERVAP  2MOREVAP  \n",
       "0  1330    75        2        20        0         6       101  \n",
       "1  1760    41        3        16        0         1       128  \n",
       "2  2024    43        2        30        1         3       132  \n",
       "\n",
       "[3 rows x 28 columns]"
      ]
     },
     "execution_count": 64,
     "metadata": {},
     "output_type": "execute_result"
    }
   ],
   "source": [
    "precincts.head(3)"
   ]
  },
  {
   "cell_type": "code",
   "execution_count": 65,
   "metadata": {},
   "outputs": [],
   "source": [
    "assignments = maup.assign(precincts, senate_districts)"
   ]
  },
  {
   "cell_type": "code",
   "execution_count": 66,
   "metadata": {},
   "outputs": [
    {
     "data": {
      "text/plain": [
       "0       003\n",
       "1       003\n",
       "2       003\n",
       "3       003\n",
       "4       003\n",
       "       ... \n",
       "4805    022\n",
       "4806    022\n",
       "4807    022\n",
       "4808    022\n",
       "4809    022\n",
       "Length: 4810, dtype: object"
      ]
     },
     "execution_count": 66,
     "metadata": {},
     "output_type": "execute_result"
    }
   ],
   "source": [
    "assignments"
   ]
  },
  {
   "cell_type": "code",
   "execution_count": 67,
   "metadata": {},
   "outputs": [
    {
     "data": {
      "text/plain": [
       "array(['003', '036', '038', '026', '037', '019', '031', '035', '021',\n",
       "       '016', '033', '024', '032', '014', '027', '025', '023', '020',\n",
       "       '029', '028', '017', '022', '008', '009', '010', '034', '030',\n",
       "       '018', '004', '006', '001', '007', '005', '002', '012', '013',\n",
       "       '015', '011'], dtype=object)"
      ]
     },
     "execution_count": 67,
     "metadata": {},
     "output_type": "execute_result"
    }
   ],
   "source": [
    "assignments.unique()"
   ]
  },
  {
   "cell_type": "code",
   "execution_count": 68,
   "metadata": {},
   "outputs": [],
   "source": [
    "# Assign the CDs to the precincts shapefile\n",
    "precincts[\"SEN_DIST\"] = assignments"
   ]
  },
  {
   "cell_type": "code",
   "execution_count": 69,
   "metadata": {},
   "outputs": [
    {
     "data": {
      "text/html": [
       "<div>\n",
       "<style scoped>\n",
       "    .dataframe tbody tr th:only-of-type {\n",
       "        vertical-align: middle;\n",
       "    }\n",
       "\n",
       "    .dataframe tbody tr th {\n",
       "        vertical-align: top;\n",
       "    }\n",
       "\n",
       "    .dataframe thead th {\n",
       "        text-align: right;\n",
       "    }\n",
       "</style>\n",
       "<table border=\"1\" class=\"dataframe\">\n",
       "  <thead>\n",
       "    <tr style=\"text-align: right;\">\n",
       "      <th></th>\n",
       "      <th>OBJECTID</th>\n",
       "      <th>Id</th>\n",
       "      <th>VTD2016</th>\n",
       "      <th>CountyFips</th>\n",
       "      <th>Jurisdicti</th>\n",
       "      <th>ElectionYe</th>\n",
       "      <th>Label</th>\n",
       "      <th>ShapeSTAre</th>\n",
       "      <th>ShapeSTLen</th>\n",
       "      <th>geometry</th>\n",
       "      <th>...</th>\n",
       "      <th>VAP</th>\n",
       "      <th>HVAP</th>\n",
       "      <th>WVAP</th>\n",
       "      <th>BVAP</th>\n",
       "      <th>AMINVAP</th>\n",
       "      <th>ASIANVAP</th>\n",
       "      <th>NHPIVAP</th>\n",
       "      <th>OTHERVAP</th>\n",
       "      <th>2MOREVAP</th>\n",
       "      <th>SEN_DIST</th>\n",
       "    </tr>\n",
       "  </thead>\n",
       "  <tbody>\n",
       "    <tr>\n",
       "      <th>4403</th>\n",
       "      <td>4404</td>\n",
       "      <td>2746</td>\n",
       "      <td>1253742000003</td>\n",
       "      <td>125</td>\n",
       "      <td>37420</td>\n",
       "      <td>2016</td>\n",
       "      <td>City of Hazel Park</td>\n",
       "      <td>3.237659e+06</td>\n",
       "      <td>8411.164216</td>\n",
       "      <td>POLYGON ((739643.521 215822.634, 739645.135 21...</td>\n",
       "      <td>...</td>\n",
       "      <td>3013</td>\n",
       "      <td>52</td>\n",
       "      <td>2560</td>\n",
       "      <td>226</td>\n",
       "      <td>26</td>\n",
       "      <td>45</td>\n",
       "      <td>1</td>\n",
       "      <td>0</td>\n",
       "      <td>103</td>\n",
       "      <td>011</td>\n",
       "    </tr>\n",
       "  </tbody>\n",
       "</table>\n",
       "<p>1 rows × 29 columns</p>\n",
       "</div>"
      ],
      "text/plain": [
       "      OBJECTID    Id        VTD2016 CountyFips Jurisdicti  ElectionYe  \\\n",
       "4403      4404  2746  1253742000003        125      37420        2016   \n",
       "\n",
       "                   Label    ShapeSTAre   ShapeSTLen  \\\n",
       "4403  City of Hazel Park  3.237659e+06  8411.164216   \n",
       "\n",
       "                                               geometry  ...   VAP  HVAP  \\\n",
       "4403  POLYGON ((739643.521 215822.634, 739645.135 21...  ...  3013    52   \n",
       "\n",
       "      WVAP  BVAP  AMINVAP  ASIANVAP  NHPIVAP  OTHERVAP  2MOREVAP  SEN_DIST  \n",
       "4403  2560   226       26        45        1         0       103       011  \n",
       "\n",
       "[1 rows x 29 columns]"
      ]
     },
     "execution_count": 69,
     "metadata": {},
     "output_type": "execute_result"
    }
   ],
   "source": [
    "# Confirm what it looks like and that the SD assignment is correct by looking up some counties\n",
    "precincts.sample()"
   ]
  },
  {
   "cell_type": "code",
   "execution_count": 70,
   "metadata": {},
   "outputs": [
    {
     "data": {
      "text/html": [
       "<div>\n",
       "<style scoped>\n",
       "    .dataframe tbody tr th:only-of-type {\n",
       "        vertical-align: middle;\n",
       "    }\n",
       "\n",
       "    .dataframe tbody tr th {\n",
       "        vertical-align: top;\n",
       "    }\n",
       "\n",
       "    .dataframe thead th {\n",
       "        text-align: right;\n",
       "    }\n",
       "</style>\n",
       "<table border=\"1\" class=\"dataframe\">\n",
       "  <thead>\n",
       "    <tr style=\"text-align: right;\">\n",
       "      <th></th>\n",
       "      <th>OBJECTID</th>\n",
       "      <th>Id</th>\n",
       "      <th>VTD2016</th>\n",
       "      <th>CountyFips</th>\n",
       "      <th>Jurisdicti</th>\n",
       "      <th>ElectionYe</th>\n",
       "      <th>Label</th>\n",
       "      <th>ShapeSTAre</th>\n",
       "      <th>ShapeSTLen</th>\n",
       "      <th>geometry</th>\n",
       "      <th>...</th>\n",
       "      <th>VAP</th>\n",
       "      <th>HVAP</th>\n",
       "      <th>WVAP</th>\n",
       "      <th>BVAP</th>\n",
       "      <th>AMINVAP</th>\n",
       "      <th>ASIANVAP</th>\n",
       "      <th>NHPIVAP</th>\n",
       "      <th>OTHERVAP</th>\n",
       "      <th>2MOREVAP</th>\n",
       "      <th>SEN_DIST</th>\n",
       "    </tr>\n",
       "  </thead>\n",
       "  <tbody>\n",
       "    <tr>\n",
       "      <th>69</th>\n",
       "      <td>70</td>\n",
       "      <td>24</td>\n",
       "      <td>0050126000001</td>\n",
       "      <td>005</td>\n",
       "      <td>01260</td>\n",
       "      <td>2016</td>\n",
       "      <td>City of Allegan</td>\n",
       "      <td>1.520515e+07</td>\n",
       "      <td>27763.275509</td>\n",
       "      <td>POLYGON ((513778.494 222001.410, 513410.908 22...</td>\n",
       "      <td>...</td>\n",
       "      <td>2557</td>\n",
       "      <td>83</td>\n",
       "      <td>2328</td>\n",
       "      <td>84</td>\n",
       "      <td>16</td>\n",
       "      <td>19</td>\n",
       "      <td>0</td>\n",
       "      <td>1</td>\n",
       "      <td>26</td>\n",
       "      <td>026</td>\n",
       "    </tr>\n",
       "  </tbody>\n",
       "</table>\n",
       "<p>1 rows × 29 columns</p>\n",
       "</div>"
      ],
      "text/plain": [
       "    OBJECTID  Id        VTD2016 CountyFips Jurisdicti  ElectionYe  \\\n",
       "69        70  24  0050126000001        005      01260        2016   \n",
       "\n",
       "              Label    ShapeSTAre    ShapeSTLen  \\\n",
       "69  City of Allegan  1.520515e+07  27763.275509   \n",
       "\n",
       "                                             geometry  ...   VAP  HVAP  WVAP  \\\n",
       "69  POLYGON ((513778.494 222001.410, 513410.908 22...  ...  2557    83  2328   \n",
       "\n",
       "    BVAP  AMINVAP  ASIANVAP  NHPIVAP  OTHERVAP  2MOREVAP  SEN_DIST  \n",
       "69    84       16        19        0         1        26       026  \n",
       "\n",
       "[1 rows x 29 columns]"
      ]
     },
     "execution_count": 70,
     "metadata": {},
     "output_type": "execute_result"
    }
   ],
   "source": [
    "precincts.loc[precincts['VTD2016'] == '0050126000001']"
   ]
  },
  {
   "cell_type": "markdown",
   "metadata": {},
   "source": [
    "Checked 5 random precincts in different senate districts and they all spot checked correctly. Now compare to MGGG's senate districts:"
   ]
  },
  {
   "cell_type": "code",
   "execution_count": 71,
   "metadata": {},
   "outputs": [],
   "source": [
    "overlap = precincts.merge(mggg_final_shp, how = 'left', left_on = 'VTD2016', right_on = 'VTD2016_x')"
   ]
  },
  {
   "cell_type": "code",
   "execution_count": 72,
   "metadata": {},
   "outputs": [
    {
     "data": {
      "text/html": [
       "<div>\n",
       "<style scoped>\n",
       "    .dataframe tbody tr th:only-of-type {\n",
       "        vertical-align: middle;\n",
       "    }\n",
       "\n",
       "    .dataframe tbody tr th {\n",
       "        vertical-align: top;\n",
       "    }\n",
       "\n",
       "    .dataframe thead th {\n",
       "        text-align: right;\n",
       "    }\n",
       "</style>\n",
       "<table border=\"1\" class=\"dataframe\">\n",
       "  <thead>\n",
       "    <tr style=\"text-align: right;\">\n",
       "      <th></th>\n",
       "      <th>OBJECTID</th>\n",
       "      <th>Id</th>\n",
       "      <th>VTD2016</th>\n",
       "      <th>CountyFips_x</th>\n",
       "      <th>Jurisdicti_x</th>\n",
       "      <th>ElectionYe_x</th>\n",
       "      <th>Label_x</th>\n",
       "      <th>ShapeSTAre</th>\n",
       "      <th>ShapeSTLen_x</th>\n",
       "      <th>geometry_x</th>\n",
       "      <th>...</th>\n",
       "      <th>WVAP_y</th>\n",
       "      <th>BVAP_y</th>\n",
       "      <th>AMINVAP_y</th>\n",
       "      <th>ASIANVAP_y</th>\n",
       "      <th>NHPIVAP_y</th>\n",
       "      <th>OTHERVAP_y</th>\n",
       "      <th>2MOREVAP_y</th>\n",
       "      <th>NH_2MORE_y</th>\n",
       "      <th>H_2MORE</th>\n",
       "      <th>geometry_y</th>\n",
       "    </tr>\n",
       "  </thead>\n",
       "  <tbody>\n",
       "    <tr>\n",
       "      <th>0</th>\n",
       "      <td>1</td>\n",
       "      <td>3888</td>\n",
       "      <td>1632100000001</td>\n",
       "      <td>163</td>\n",
       "      <td>21000</td>\n",
       "      <td>2016</td>\n",
       "      <td>City of Dearborn</td>\n",
       "      <td>2.489738e+06</td>\n",
       "      <td>6846.254657</td>\n",
       "      <td>POLYGON ((734740.564 203392.197, 734729.230 20...</td>\n",
       "      <td>...</td>\n",
       "      <td>1330.0</td>\n",
       "      <td>75.0</td>\n",
       "      <td>2.0</td>\n",
       "      <td>20.0</td>\n",
       "      <td>0.0</td>\n",
       "      <td>6.0</td>\n",
       "      <td>101.0</td>\n",
       "      <td>172.0</td>\n",
       "      <td>7.0</td>\n",
       "      <td>POLYGON ((734740.167 203393.092, 734728.833 20...</td>\n",
       "    </tr>\n",
       "  </tbody>\n",
       "</table>\n",
       "<p>1 rows × 75 columns</p>\n",
       "</div>"
      ],
      "text/plain": [
       "   OBJECTID    Id        VTD2016 CountyFips_x Jurisdicti_x  ElectionYe_x  \\\n",
       "0         1  3888  1632100000001          163        21000          2016   \n",
       "\n",
       "            Label_x    ShapeSTAre  ShapeSTLen_x  \\\n",
       "0  City of Dearborn  2.489738e+06   6846.254657   \n",
       "\n",
       "                                          geometry_x  ...  WVAP_y  BVAP_y  \\\n",
       "0  POLYGON ((734740.564 203392.197, 734729.230 20...  ...  1330.0    75.0   \n",
       "\n",
       "   AMINVAP_y  ASIANVAP_y  NHPIVAP_y  OTHERVAP_y  2MOREVAP_y  NH_2MORE_y  \\\n",
       "0        2.0        20.0        0.0         6.0       101.0       172.0   \n",
       "\n",
       "   H_2MORE                                         geometry_y  \n",
       "0      7.0  POLYGON ((734740.167 203393.092, 734728.833 20...  \n",
       "\n",
       "[1 rows x 75 columns]"
      ]
     },
     "execution_count": 72,
     "metadata": {},
     "output_type": "execute_result"
    }
   ],
   "source": [
    "overlap.head(1)"
   ]
  },
  {
   "cell_type": "code",
   "execution_count": 73,
   "metadata": {},
   "outputs": [
    {
     "data": {
      "text/plain": [
       "Index(['OBJECTID', 'Id', 'VTD2016', 'CountyFips_x', 'Jurisdicti_x',\n",
       "       'ElectionYe_x', 'Label_x', 'ShapeSTAre', 'ShapeSTLen_x', 'geometry_x',\n",
       "       'TOTPOP_x', 'NH_WHITE_x', 'NH_BLACK_x', 'NH_AMIN_x', 'NH_ASIAN_x',\n",
       "       'NH_NHPI_x', 'NH_OTHER_x', 'NH_2MORE_x', 'HISP_x', 'VAP_x', 'HVAP_x',\n",
       "       'WVAP_x', 'BVAP_x', 'AMINVAP_x', 'ASIANVAP_x', 'NHPIVAP_x',\n",
       "       'OTHERVAP_x', '2MOREVAP_x', 'SEN_DIST', 'VTD2016_x', 'ShapeSTLen_y',\n",
       "       'CountyFips_y', 'Jurisdicti_y', 'ElectionYe_y', 'Label_y', 'VTD',\n",
       "       'county_nam', 'county_fip', 'county_lat', 'county_lon', 'jurisdic_1',\n",
       "       'precinct', 'PRES16D', 'PRES16R', 'PRES16L', 'PRES16G', 'HDIST',\n",
       "       'SENDIST', 'CD', 'TOTPOP_y', 'NH_WHITE_y', 'NH_BLACK_y', 'NH_AMIN_y',\n",
       "       'NH_ASIAN_y', 'NH_NHPI_y', 'NH_OTHER_y', 'HISP_y', 'H_WHITE', 'H_BLACK',\n",
       "       'H_AMIN', 'H_ASIAN', 'H_NHPI', 'H_OTHER', 'VAP_y', 'HVAP_y', 'WVAP_y',\n",
       "       'BVAP_y', 'AMINVAP_y', 'ASIANVAP_y', 'NHPIVAP_y', 'OTHERVAP_y',\n",
       "       '2MOREVAP_y', 'NH_2MORE_y', 'H_2MORE', 'geometry_y'],\n",
       "      dtype='object')"
      ]
     },
     "execution_count": 73,
     "metadata": {},
     "output_type": "execute_result"
    }
   ],
   "source": [
    "overlap.columns"
   ]
  },
  {
   "cell_type": "code",
   "execution_count": 74,
   "metadata": {},
   "outputs": [
    {
     "data": {
      "text/plain": [
       "1"
      ]
     },
     "execution_count": 74,
     "metadata": {},
     "output_type": "execute_result"
    }
   ],
   "source": [
    "overlap[['SEN_DIST', 'SENDIST']].assign(NOTEQUAL=overlap.SEN_DIST != overlap.SENDIST)['NOTEQUAL'].sum()"
   ]
  },
  {
   "cell_type": "code",
   "execution_count": 75,
   "metadata": {},
   "outputs": [
    {
     "data": {
      "text/html": [
       "<div>\n",
       "<style scoped>\n",
       "    .dataframe tbody tr th:only-of-type {\n",
       "        vertical-align: middle;\n",
       "    }\n",
       "\n",
       "    .dataframe tbody tr th {\n",
       "        vertical-align: top;\n",
       "    }\n",
       "\n",
       "    .dataframe thead th {\n",
       "        text-align: right;\n",
       "    }\n",
       "</style>\n",
       "<table border=\"1\" class=\"dataframe\">\n",
       "  <thead>\n",
       "    <tr style=\"text-align: right;\">\n",
       "      <th></th>\n",
       "      <th>VTD2016</th>\n",
       "      <th>Label_x</th>\n",
       "      <th>SEN_DIST</th>\n",
       "      <th>SENDIST</th>\n",
       "      <th>NOTEQUAL</th>\n",
       "    </tr>\n",
       "  </thead>\n",
       "  <tbody>\n",
       "    <tr>\n",
       "      <th>747</th>\n",
       "      <td>0492900005062</td>\n",
       "      <td>City of Flint</td>\n",
       "      <td>027</td>\n",
       "      <td>NaN</td>\n",
       "      <td>True</td>\n",
       "    </tr>\n",
       "  </tbody>\n",
       "</table>\n",
       "</div>"
      ],
      "text/plain": [
       "           VTD2016        Label_x SEN_DIST SENDIST  NOTEQUAL\n",
       "747  0492900005062  City of Flint      027     NaN      True"
      ]
     },
     "execution_count": 75,
     "metadata": {},
     "output_type": "execute_result"
    }
   ],
   "source": [
    "ne = overlap[['VTD2016','Label_x','SEN_DIST', 'SENDIST']].assign(NOTEQUAL=overlap.SEN_DIST != overlap.SENDIST)\n",
    "ne.loc[ne['NOTEQUAL'] == True]\n"
   ]
  },
  {
   "cell_type": "markdown",
   "metadata": {},
   "source": [
    "The 2013 TIGER file matches almost perfectly to MGGG's, except for with one precinct which is missing a state senate assignment in MGGG's file. "
   ]
  },
  {
   "cell_type": "markdown",
   "metadata": {},
   "source": [
    "## Assign the state house districts"
   ]
  },
  {
   "cell_type": "code",
   "execution_count": 76,
   "metadata": {},
   "outputs": [],
   "source": [
    "house_districts = gp.read_file(\"./raw-from-source/tl_2013_26_sldl/tl_2013_26_sldl.shp\")"
   ]
  },
  {
   "cell_type": "code",
   "execution_count": 77,
   "metadata": {},
   "outputs": [],
   "source": [
    "house_districts = house_districts.to_crs(proj)"
   ]
  },
  {
   "cell_type": "code",
   "execution_count": 78,
   "metadata": {},
   "outputs": [
    {
     "data": {
      "text/html": [
       "<div>\n",
       "<style scoped>\n",
       "    .dataframe tbody tr th:only-of-type {\n",
       "        vertical-align: middle;\n",
       "    }\n",
       "\n",
       "    .dataframe tbody tr th {\n",
       "        vertical-align: top;\n",
       "    }\n",
       "\n",
       "    .dataframe thead th {\n",
       "        text-align: right;\n",
       "    }\n",
       "</style>\n",
       "<table border=\"1\" class=\"dataframe\">\n",
       "  <thead>\n",
       "    <tr style=\"text-align: right;\">\n",
       "      <th></th>\n",
       "      <th>STATEFP</th>\n",
       "      <th>SLDLST</th>\n",
       "      <th>GEOID</th>\n",
       "      <th>NAMELSAD</th>\n",
       "      <th>LSAD</th>\n",
       "      <th>LSY</th>\n",
       "      <th>MTFCC</th>\n",
       "      <th>FUNCSTAT</th>\n",
       "      <th>ALAND</th>\n",
       "      <th>AWATER</th>\n",
       "      <th>INTPTLAT</th>\n",
       "      <th>INTPTLON</th>\n",
       "      <th>geometry</th>\n",
       "    </tr>\n",
       "  </thead>\n",
       "  <tbody>\n",
       "    <tr>\n",
       "      <th>21</th>\n",
       "      <td>26</td>\n",
       "      <td>022</td>\n",
       "      <td>26022</td>\n",
       "      <td>State House District 22</td>\n",
       "      <td>LL</td>\n",
       "      <td>2013</td>\n",
       "      <td>G5220</td>\n",
       "      <td>N</td>\n",
       "      <td>49938362</td>\n",
       "      <td>78905</td>\n",
       "      <td>+42.4963780</td>\n",
       "      <td>-082.9611457</td>\n",
       "      <td>POLYGON ((745069.081 219376.061, 745069.083 21...</td>\n",
       "    </tr>\n",
       "    <tr>\n",
       "      <th>19</th>\n",
       "      <td>26</td>\n",
       "      <td>020</td>\n",
       "      <td>26020</td>\n",
       "      <td>State House District 20</td>\n",
       "      <td>LL</td>\n",
       "      <td>2013</td>\n",
       "      <td>G5220</td>\n",
       "      <td>N</td>\n",
       "      <td>112607426</td>\n",
       "      <td>1304706</td>\n",
       "      <td>+42.3800821</td>\n",
       "      <td>-083.4842012</td>\n",
       "      <td>POLYGON ((701225.912 212382.754, 701465.082 21...</td>\n",
       "    </tr>\n",
       "    <tr>\n",
       "      <th>32</th>\n",
       "      <td>26</td>\n",
       "      <td>033</td>\n",
       "      <td>26033</td>\n",
       "      <td>State House District 33</td>\n",
       "      <td>LL</td>\n",
       "      <td>2013</td>\n",
       "      <td>G5220</td>\n",
       "      <td>N</td>\n",
       "      <td>476122931</td>\n",
       "      <td>1572092</td>\n",
       "      <td>+42.7843977</td>\n",
       "      <td>-082.8720256</td>\n",
       "      <td>POLYGON ((746109.028 264805.762, 746708.409 26...</td>\n",
       "    </tr>\n",
       "  </tbody>\n",
       "</table>\n",
       "</div>"
      ],
      "text/plain": [
       "   STATEFP SLDLST  GEOID                 NAMELSAD LSAD   LSY  MTFCC FUNCSTAT  \\\n",
       "21      26    022  26022  State House District 22   LL  2013  G5220        N   \n",
       "19      26    020  26020  State House District 20   LL  2013  G5220        N   \n",
       "32      26    033  26033  State House District 33   LL  2013  G5220        N   \n",
       "\n",
       "        ALAND   AWATER     INTPTLAT      INTPTLON  \\\n",
       "21   49938362    78905  +42.4963780  -082.9611457   \n",
       "19  112607426  1304706  +42.3800821  -083.4842012   \n",
       "32  476122931  1572092  +42.7843977  -082.8720256   \n",
       "\n",
       "                                             geometry  \n",
       "21  POLYGON ((745069.081 219376.061, 745069.083 21...  \n",
       "19  POLYGON ((701225.912 212382.754, 701465.082 21...  \n",
       "32  POLYGON ((746109.028 264805.762, 746708.409 26...  "
      ]
     },
     "execution_count": 78,
     "metadata": {},
     "output_type": "execute_result"
    }
   ],
   "source": [
    "house_districts.sample(3)"
   ]
  },
  {
   "cell_type": "code",
   "execution_count": 79,
   "metadata": {},
   "outputs": [],
   "source": [
    "house_districts.set_index('SLDLST', inplace = True)"
   ]
  },
  {
   "cell_type": "code",
   "execution_count": 80,
   "metadata": {},
   "outputs": [],
   "source": [
    "house_districts.sort_index(inplace = True)"
   ]
  },
  {
   "cell_type": "code",
   "execution_count": 81,
   "metadata": {},
   "outputs": [
    {
     "data": {
      "text/html": [
       "<div>\n",
       "<style scoped>\n",
       "    .dataframe tbody tr th:only-of-type {\n",
       "        vertical-align: middle;\n",
       "    }\n",
       "\n",
       "    .dataframe tbody tr th {\n",
       "        vertical-align: top;\n",
       "    }\n",
       "\n",
       "    .dataframe thead th {\n",
       "        text-align: right;\n",
       "    }\n",
       "</style>\n",
       "<table border=\"1\" class=\"dataframe\">\n",
       "  <thead>\n",
       "    <tr style=\"text-align: right;\">\n",
       "      <th></th>\n",
       "      <th>STATEFP</th>\n",
       "      <th>GEOID</th>\n",
       "      <th>NAMELSAD</th>\n",
       "      <th>LSAD</th>\n",
       "      <th>LSY</th>\n",
       "      <th>MTFCC</th>\n",
       "      <th>FUNCSTAT</th>\n",
       "      <th>ALAND</th>\n",
       "      <th>AWATER</th>\n",
       "      <th>INTPTLAT</th>\n",
       "      <th>INTPTLON</th>\n",
       "      <th>geometry</th>\n",
       "    </tr>\n",
       "    <tr>\n",
       "      <th>SLDLST</th>\n",
       "      <th></th>\n",
       "      <th></th>\n",
       "      <th></th>\n",
       "      <th></th>\n",
       "      <th></th>\n",
       "      <th></th>\n",
       "      <th></th>\n",
       "      <th></th>\n",
       "      <th></th>\n",
       "      <th></th>\n",
       "      <th></th>\n",
       "      <th></th>\n",
       "    </tr>\n",
       "  </thead>\n",
       "  <tbody>\n",
       "    <tr>\n",
       "      <th>001</th>\n",
       "      <td>26</td>\n",
       "      <td>26001</td>\n",
       "      <td>State House District 1</td>\n",
       "      <td>LL</td>\n",
       "      <td>2013</td>\n",
       "      <td>G5220</td>\n",
       "      <td>N</td>\n",
       "      <td>37366542</td>\n",
       "      <td>45575754</td>\n",
       "      <td>+42.4443980</td>\n",
       "      <td>-082.8736621</td>\n",
       "      <td>POLYGON ((747286.322 211325.648, 747309.318 21...</td>\n",
       "    </tr>\n",
       "    <tr>\n",
       "      <th>002</th>\n",
       "      <td>26</td>\n",
       "      <td>26002</td>\n",
       "      <td>State House District 2</td>\n",
       "      <td>LL</td>\n",
       "      <td>2013</td>\n",
       "      <td>G5220</td>\n",
       "      <td>N</td>\n",
       "      <td>50263116</td>\n",
       "      <td>31884179</td>\n",
       "      <td>+42.3846252</td>\n",
       "      <td>-082.9200786</td>\n",
       "      <td>POLYGON ((745386.371 207053.873, 745421.709 20...</td>\n",
       "    </tr>\n",
       "    <tr>\n",
       "      <th>003</th>\n",
       "      <td>26</td>\n",
       "      <td>26003</td>\n",
       "      <td>State House District 3</td>\n",
       "      <td>LL</td>\n",
       "      <td>2013</td>\n",
       "      <td>G5220</td>\n",
       "      <td>N</td>\n",
       "      <td>44510217</td>\n",
       "      <td>20627</td>\n",
       "      <td>+42.4322737</td>\n",
       "      <td>-083.0581649</td>\n",
       "      <td>POLYGON ((734881.485 214680.435, 734884.358 21...</td>\n",
       "    </tr>\n",
       "  </tbody>\n",
       "</table>\n",
       "</div>"
      ],
      "text/plain": [
       "       STATEFP  GEOID                NAMELSAD LSAD   LSY  MTFCC FUNCSTAT  \\\n",
       "SLDLST                                                                     \n",
       "001         26  26001  State House District 1   LL  2013  G5220        N   \n",
       "002         26  26002  State House District 2   LL  2013  G5220        N   \n",
       "003         26  26003  State House District 3   LL  2013  G5220        N   \n",
       "\n",
       "           ALAND    AWATER     INTPTLAT      INTPTLON  \\\n",
       "SLDLST                                                  \n",
       "001     37366542  45575754  +42.4443980  -082.8736621   \n",
       "002     50263116  31884179  +42.3846252  -082.9200786   \n",
       "003     44510217     20627  +42.4322737  -083.0581649   \n",
       "\n",
       "                                                 geometry  \n",
       "SLDLST                                                     \n",
       "001     POLYGON ((747286.322 211325.648, 747309.318 21...  \n",
       "002     POLYGON ((745386.371 207053.873, 745421.709 20...  \n",
       "003     POLYGON ((734881.485 214680.435, 734884.358 21...  "
      ]
     },
     "execution_count": 81,
     "metadata": {},
     "output_type": "execute_result"
    }
   ],
   "source": [
    "house_districts.head(3)"
   ]
  },
  {
   "cell_type": "code",
   "execution_count": 82,
   "metadata": {},
   "outputs": [],
   "source": [
    "assignments = maup.assign(precincts, house_districts)"
   ]
  },
  {
   "cell_type": "code",
   "execution_count": 83,
   "metadata": {},
   "outputs": [
    {
     "data": {
      "text/plain": [
       "0       015\n",
       "1       015\n",
       "2       009\n",
       "3       015\n",
       "4       009\n",
       "       ... \n",
       "4805    042\n",
       "4806    047\n",
       "4807    047\n",
       "4808    047\n",
       "4809    047\n",
       "Length: 4810, dtype: object"
      ]
     },
     "execution_count": 83,
     "metadata": {},
     "output_type": "execute_result"
    }
   ],
   "source": [
    "assignments"
   ]
  },
  {
   "cell_type": "code",
   "execution_count": 84,
   "metadata": {},
   "outputs": [
    {
     "data": {
      "text/plain": [
       "array(['015', '009', '106', '109', '080', '072', '105', '097', '110',\n",
       "       '087', '098', '096', '101', '079', '078', '058', '062', '063',\n",
       "       '059', '107', '093', '103', '108', '071', '065', '051', '050',\n",
       "       '048', '034', '049', '104', '070', '084', '067', '069', '068',\n",
       "       '086', '099', '064', '066', '060', '061', '074', '077', '073',\n",
       "       '075', '076', '100', '082', '057', '042', '047', '033', '036',\n",
       "       '028', '032', '024', '031', '018', '022', '030', '025', '102',\n",
       "       '017', '056', '091', '092', '088', '089', '090', '094', '085',\n",
       "       '095', '081', '083', '053', '055', '052', '054', '013', '021',\n",
       "       '023', '020', '011', '007', '008', '010', '003', '001', '004',\n",
       "       '002', '006', '005', '014', '019', '012', '016', '046', '029',\n",
       "       '027', '040', '041', '039', '037', '044', '043', '035', '038',\n",
       "       '026', '045'], dtype=object)"
      ]
     },
     "execution_count": 84,
     "metadata": {},
     "output_type": "execute_result"
    }
   ],
   "source": [
    "assignments.unique()"
   ]
  },
  {
   "cell_type": "code",
   "execution_count": 85,
   "metadata": {},
   "outputs": [],
   "source": [
    "# Assign the CDs to the precincts shapefile\n",
    "precincts[\"H_DIST\"] = assignments"
   ]
  },
  {
   "cell_type": "code",
   "execution_count": 86,
   "metadata": {},
   "outputs": [
    {
     "data": {
      "text/html": [
       "<div>\n",
       "<style scoped>\n",
       "    .dataframe tbody tr th:only-of-type {\n",
       "        vertical-align: middle;\n",
       "    }\n",
       "\n",
       "    .dataframe tbody tr th {\n",
       "        vertical-align: top;\n",
       "    }\n",
       "\n",
       "    .dataframe thead th {\n",
       "        text-align: right;\n",
       "    }\n",
       "</style>\n",
       "<table border=\"1\" class=\"dataframe\">\n",
       "  <thead>\n",
       "    <tr style=\"text-align: right;\">\n",
       "      <th></th>\n",
       "      <th>OBJECTID</th>\n",
       "      <th>Id</th>\n",
       "      <th>VTD2016</th>\n",
       "      <th>CountyFips</th>\n",
       "      <th>Jurisdicti</th>\n",
       "      <th>ElectionYe</th>\n",
       "      <th>Label</th>\n",
       "      <th>ShapeSTAre</th>\n",
       "      <th>ShapeSTLen</th>\n",
       "      <th>geometry</th>\n",
       "      <th>...</th>\n",
       "      <th>HVAP</th>\n",
       "      <th>WVAP</th>\n",
       "      <th>BVAP</th>\n",
       "      <th>AMINVAP</th>\n",
       "      <th>ASIANVAP</th>\n",
       "      <th>NHPIVAP</th>\n",
       "      <th>OTHERVAP</th>\n",
       "      <th>2MOREVAP</th>\n",
       "      <th>SEN_DIST</th>\n",
       "      <th>H_DIST</th>\n",
       "    </tr>\n",
       "  </thead>\n",
       "  <tbody>\n",
       "    <tr>\n",
       "      <th>3924</th>\n",
       "      <td>3925</td>\n",
       "      <td>4511</td>\n",
       "      <td>1633628000007</td>\n",
       "      <td>163</td>\n",
       "      <td>36280</td>\n",
       "      <td>2016</td>\n",
       "      <td>City of Hamtramck</td>\n",
       "      <td>2.550662e+06</td>\n",
       "      <td>9033.549594</td>\n",
       "      <td>POLYGON ((743257.161 209561.692, 743262.383 20...</td>\n",
       "      <td>...</td>\n",
       "      <td>55</td>\n",
       "      <td>1359</td>\n",
       "      <td>505</td>\n",
       "      <td>5</td>\n",
       "      <td>203</td>\n",
       "      <td>0</td>\n",
       "      <td>4</td>\n",
       "      <td>107</td>\n",
       "      <td>002</td>\n",
       "      <td>004</td>\n",
       "    </tr>\n",
       "  </tbody>\n",
       "</table>\n",
       "<p>1 rows × 30 columns</p>\n",
       "</div>"
      ],
      "text/plain": [
       "      OBJECTID    Id        VTD2016 CountyFips Jurisdicti  ElectionYe  \\\n",
       "3924      3925  4511  1633628000007        163      36280        2016   \n",
       "\n",
       "                  Label    ShapeSTAre   ShapeSTLen  \\\n",
       "3924  City of Hamtramck  2.550662e+06  9033.549594   \n",
       "\n",
       "                                               geometry  ...  HVAP  WVAP  \\\n",
       "3924  POLYGON ((743257.161 209561.692, 743262.383 20...  ...    55  1359   \n",
       "\n",
       "      BVAP  AMINVAP  ASIANVAP  NHPIVAP  OTHERVAP  2MOREVAP  SEN_DIST  H_DIST  \n",
       "3924   505        5       203        0         4       107       002     004  \n",
       "\n",
       "[1 rows x 30 columns]"
      ]
     },
     "execution_count": 86,
     "metadata": {},
     "output_type": "execute_result"
    }
   ],
   "source": [
    "# Confirm what it looks like and that the HD assignment is correct by looking up some counties\n",
    "precincts.sample()"
   ]
  },
  {
   "cell_type": "code",
   "execution_count": 87,
   "metadata": {},
   "outputs": [
    {
     "data": {
      "text/html": [
       "<div>\n",
       "<style scoped>\n",
       "    .dataframe tbody tr th:only-of-type {\n",
       "        vertical-align: middle;\n",
       "    }\n",
       "\n",
       "    .dataframe tbody tr th {\n",
       "        vertical-align: top;\n",
       "    }\n",
       "\n",
       "    .dataframe thead th {\n",
       "        text-align: right;\n",
       "    }\n",
       "</style>\n",
       "<table border=\"1\" class=\"dataframe\">\n",
       "  <thead>\n",
       "    <tr style=\"text-align: right;\">\n",
       "      <th></th>\n",
       "      <th>OBJECTID</th>\n",
       "      <th>Id</th>\n",
       "      <th>VTD2016</th>\n",
       "      <th>CountyFips</th>\n",
       "      <th>Jurisdicti</th>\n",
       "      <th>ElectionYe</th>\n",
       "      <th>Label</th>\n",
       "      <th>ShapeSTAre</th>\n",
       "      <th>ShapeSTLen</th>\n",
       "      <th>geometry</th>\n",
       "      <th>...</th>\n",
       "      <th>HVAP</th>\n",
       "      <th>WVAP</th>\n",
       "      <th>BVAP</th>\n",
       "      <th>AMINVAP</th>\n",
       "      <th>ASIANVAP</th>\n",
       "      <th>NHPIVAP</th>\n",
       "      <th>OTHERVAP</th>\n",
       "      <th>2MOREVAP</th>\n",
       "      <th>SEN_DIST</th>\n",
       "      <th>H_DIST</th>\n",
       "    </tr>\n",
       "  </thead>\n",
       "  <tbody>\n",
       "    <tr>\n",
       "      <th>69</th>\n",
       "      <td>70</td>\n",
       "      <td>24</td>\n",
       "      <td>0050126000001</td>\n",
       "      <td>005</td>\n",
       "      <td>01260</td>\n",
       "      <td>2016</td>\n",
       "      <td>City of Allegan</td>\n",
       "      <td>1.520515e+07</td>\n",
       "      <td>27763.275509</td>\n",
       "      <td>POLYGON ((513778.494 222001.410, 513410.908 22...</td>\n",
       "      <td>...</td>\n",
       "      <td>83</td>\n",
       "      <td>2328</td>\n",
       "      <td>84</td>\n",
       "      <td>16</td>\n",
       "      <td>19</td>\n",
       "      <td>0</td>\n",
       "      <td>1</td>\n",
       "      <td>26</td>\n",
       "      <td>026</td>\n",
       "      <td>080</td>\n",
       "    </tr>\n",
       "  </tbody>\n",
       "</table>\n",
       "<p>1 rows × 30 columns</p>\n",
       "</div>"
      ],
      "text/plain": [
       "    OBJECTID  Id        VTD2016 CountyFips Jurisdicti  ElectionYe  \\\n",
       "69        70  24  0050126000001        005      01260        2016   \n",
       "\n",
       "              Label    ShapeSTAre    ShapeSTLen  \\\n",
       "69  City of Allegan  1.520515e+07  27763.275509   \n",
       "\n",
       "                                             geometry  ...  HVAP  WVAP  BVAP  \\\n",
       "69  POLYGON ((513778.494 222001.410, 513410.908 22...  ...    83  2328    84   \n",
       "\n",
       "    AMINVAP  ASIANVAP  NHPIVAP  OTHERVAP  2MOREVAP  SEN_DIST  H_DIST  \n",
       "69       16        19        0         1        26       026     080  \n",
       "\n",
       "[1 rows x 30 columns]"
      ]
     },
     "execution_count": 87,
     "metadata": {},
     "output_type": "execute_result"
    }
   ],
   "source": [
    "precincts.loc[precincts['VTD2016'] == '0050126000001']"
   ]
  },
  {
   "cell_type": "markdown",
   "metadata": {},
   "source": [
    "Checked 5 random precincts in different senate districts and they all spot checked correctly. Now compare to MGGG's house districts:"
   ]
  },
  {
   "cell_type": "code",
   "execution_count": 88,
   "metadata": {},
   "outputs": [],
   "source": [
    "overlap = precincts.merge(mggg_final_shp, how = 'left', left_on = 'VTD2016', right_on = 'VTD2016_x')"
   ]
  },
  {
   "cell_type": "code",
   "execution_count": 89,
   "metadata": {},
   "outputs": [
    {
     "data": {
      "text/html": [
       "<div>\n",
       "<style scoped>\n",
       "    .dataframe tbody tr th:only-of-type {\n",
       "        vertical-align: middle;\n",
       "    }\n",
       "\n",
       "    .dataframe tbody tr th {\n",
       "        vertical-align: top;\n",
       "    }\n",
       "\n",
       "    .dataframe thead th {\n",
       "        text-align: right;\n",
       "    }\n",
       "</style>\n",
       "<table border=\"1\" class=\"dataframe\">\n",
       "  <thead>\n",
       "    <tr style=\"text-align: right;\">\n",
       "      <th></th>\n",
       "      <th>OBJECTID</th>\n",
       "      <th>Id</th>\n",
       "      <th>VTD2016</th>\n",
       "      <th>CountyFips_x</th>\n",
       "      <th>Jurisdicti_x</th>\n",
       "      <th>ElectionYe_x</th>\n",
       "      <th>Label_x</th>\n",
       "      <th>ShapeSTAre</th>\n",
       "      <th>ShapeSTLen_x</th>\n",
       "      <th>geometry_x</th>\n",
       "      <th>...</th>\n",
       "      <th>WVAP_y</th>\n",
       "      <th>BVAP_y</th>\n",
       "      <th>AMINVAP_y</th>\n",
       "      <th>ASIANVAP_y</th>\n",
       "      <th>NHPIVAP_y</th>\n",
       "      <th>OTHERVAP_y</th>\n",
       "      <th>2MOREVAP_y</th>\n",
       "      <th>NH_2MORE_y</th>\n",
       "      <th>H_2MORE</th>\n",
       "      <th>geometry_y</th>\n",
       "    </tr>\n",
       "  </thead>\n",
       "  <tbody>\n",
       "    <tr>\n",
       "      <th>0</th>\n",
       "      <td>1</td>\n",
       "      <td>3888</td>\n",
       "      <td>1632100000001</td>\n",
       "      <td>163</td>\n",
       "      <td>21000</td>\n",
       "      <td>2016</td>\n",
       "      <td>City of Dearborn</td>\n",
       "      <td>2.489738e+06</td>\n",
       "      <td>6846.254657</td>\n",
       "      <td>POLYGON ((734740.564 203392.197, 734729.230 20...</td>\n",
       "      <td>...</td>\n",
       "      <td>1330.0</td>\n",
       "      <td>75.0</td>\n",
       "      <td>2.0</td>\n",
       "      <td>20.0</td>\n",
       "      <td>0.0</td>\n",
       "      <td>6.0</td>\n",
       "      <td>101.0</td>\n",
       "      <td>172.0</td>\n",
       "      <td>7.0</td>\n",
       "      <td>POLYGON ((734740.167 203393.092, 734728.833 20...</td>\n",
       "    </tr>\n",
       "  </tbody>\n",
       "</table>\n",
       "<p>1 rows × 76 columns</p>\n",
       "</div>"
      ],
      "text/plain": [
       "   OBJECTID    Id        VTD2016 CountyFips_x Jurisdicti_x  ElectionYe_x  \\\n",
       "0         1  3888  1632100000001          163        21000          2016   \n",
       "\n",
       "            Label_x    ShapeSTAre  ShapeSTLen_x  \\\n",
       "0  City of Dearborn  2.489738e+06   6846.254657   \n",
       "\n",
       "                                          geometry_x  ...  WVAP_y  BVAP_y  \\\n",
       "0  POLYGON ((734740.564 203392.197, 734729.230 20...  ...  1330.0    75.0   \n",
       "\n",
       "   AMINVAP_y  ASIANVAP_y  NHPIVAP_y  OTHERVAP_y  2MOREVAP_y  NH_2MORE_y  \\\n",
       "0        2.0        20.0        0.0         6.0       101.0       172.0   \n",
       "\n",
       "   H_2MORE                                         geometry_y  \n",
       "0      7.0  POLYGON ((734740.167 203393.092, 734728.833 20...  \n",
       "\n",
       "[1 rows x 76 columns]"
      ]
     },
     "execution_count": 89,
     "metadata": {},
     "output_type": "execute_result"
    }
   ],
   "source": [
    "overlap.head(1)"
   ]
  },
  {
   "cell_type": "code",
   "execution_count": 90,
   "metadata": {},
   "outputs": [
    {
     "data": {
      "text/plain": [
       "Index(['OBJECTID', 'Id', 'VTD2016', 'CountyFips_x', 'Jurisdicti_x',\n",
       "       'ElectionYe_x', 'Label_x', 'ShapeSTAre', 'ShapeSTLen_x', 'geometry_x',\n",
       "       'TOTPOP_x', 'NH_WHITE_x', 'NH_BLACK_x', 'NH_AMIN_x', 'NH_ASIAN_x',\n",
       "       'NH_NHPI_x', 'NH_OTHER_x', 'NH_2MORE_x', 'HISP_x', 'VAP_x', 'HVAP_x',\n",
       "       'WVAP_x', 'BVAP_x', 'AMINVAP_x', 'ASIANVAP_x', 'NHPIVAP_x',\n",
       "       'OTHERVAP_x', '2MOREVAP_x', 'SEN_DIST', 'H_DIST', 'VTD2016_x',\n",
       "       'ShapeSTLen_y', 'CountyFips_y', 'Jurisdicti_y', 'ElectionYe_y',\n",
       "       'Label_y', 'VTD', 'county_nam', 'county_fip', 'county_lat',\n",
       "       'county_lon', 'jurisdic_1', 'precinct', 'PRES16D', 'PRES16R', 'PRES16L',\n",
       "       'PRES16G', 'HDIST', 'SENDIST', 'CD', 'TOTPOP_y', 'NH_WHITE_y',\n",
       "       'NH_BLACK_y', 'NH_AMIN_y', 'NH_ASIAN_y', 'NH_NHPI_y', 'NH_OTHER_y',\n",
       "       'HISP_y', 'H_WHITE', 'H_BLACK', 'H_AMIN', 'H_ASIAN', 'H_NHPI',\n",
       "       'H_OTHER', 'VAP_y', 'HVAP_y', 'WVAP_y', 'BVAP_y', 'AMINVAP_y',\n",
       "       'ASIANVAP_y', 'NHPIVAP_y', 'OTHERVAP_y', '2MOREVAP_y', 'NH_2MORE_y',\n",
       "       'H_2MORE', 'geometry_y'],\n",
       "      dtype='object')"
      ]
     },
     "execution_count": 90,
     "metadata": {},
     "output_type": "execute_result"
    }
   ],
   "source": [
    "overlap.columns"
   ]
  },
  {
   "cell_type": "code",
   "execution_count": 91,
   "metadata": {},
   "outputs": [
    {
     "data": {
      "text/plain": [
       "1"
      ]
     },
     "execution_count": 91,
     "metadata": {},
     "output_type": "execute_result"
    }
   ],
   "source": [
    "overlap[['H_DIST', 'HDIST']].assign(NOTEQUAL=overlap.H_DIST != overlap.HDIST)['NOTEQUAL'].sum()"
   ]
  },
  {
   "cell_type": "code",
   "execution_count": 92,
   "metadata": {},
   "outputs": [
    {
     "data": {
      "text/html": [
       "<div>\n",
       "<style scoped>\n",
       "    .dataframe tbody tr th:only-of-type {\n",
       "        vertical-align: middle;\n",
       "    }\n",
       "\n",
       "    .dataframe tbody tr th {\n",
       "        vertical-align: top;\n",
       "    }\n",
       "\n",
       "    .dataframe thead th {\n",
       "        text-align: right;\n",
       "    }\n",
       "</style>\n",
       "<table border=\"1\" class=\"dataframe\">\n",
       "  <thead>\n",
       "    <tr style=\"text-align: right;\">\n",
       "      <th></th>\n",
       "      <th>VTD2016</th>\n",
       "      <th>Label_x</th>\n",
       "      <th>H_DIST</th>\n",
       "      <th>HDIST</th>\n",
       "      <th>NOTEQUAL</th>\n",
       "    </tr>\n",
       "  </thead>\n",
       "  <tbody>\n",
       "    <tr>\n",
       "      <th>747</th>\n",
       "      <td>0492900005062</td>\n",
       "      <td>City of Flint</td>\n",
       "      <td>034</td>\n",
       "      <td>NaN</td>\n",
       "      <td>True</td>\n",
       "    </tr>\n",
       "  </tbody>\n",
       "</table>\n",
       "</div>"
      ],
      "text/plain": [
       "           VTD2016        Label_x H_DIST HDIST  NOTEQUAL\n",
       "747  0492900005062  City of Flint    034   NaN      True"
      ]
     },
     "execution_count": 92,
     "metadata": {},
     "output_type": "execute_result"
    }
   ],
   "source": [
    "ne = overlap[['VTD2016','Label_x','H_DIST', 'HDIST']].assign(NOTEQUAL=overlap.H_DIST != overlap.HDIST)\n",
    "ne.loc[ne['NOTEQUAL'] == True]\n"
   ]
  },
  {
   "cell_type": "markdown",
   "metadata": {},
   "source": [
    "MGGG is missing one house district as well but they all match."
   ]
  },
  {
   "cell_type": "markdown",
   "metadata": {},
   "source": [
    "## Assign the congressional districts"
   ]
  },
  {
   "cell_type": "code",
   "execution_count": 94,
   "metadata": {},
   "outputs": [],
   "source": [
    "congressional_districts = gp.read_file(\"./raw-from-source/tl_2013_us_cd113/tl_2013_us_cd113.shp\")"
   ]
  },
  {
   "cell_type": "markdown",
   "metadata": {},
   "source": [
    "Filtering to MI from national CD file. There are 15 rows because one is 'undefined CD' for water area in MI. "
   ]
  },
  {
   "cell_type": "code",
   "execution_count": 95,
   "metadata": {},
   "outputs": [],
   "source": [
    "congressional_districts = congressional_districts.loc[congressional_districts['STATEFP'] == '26']"
   ]
  },
  {
   "cell_type": "code",
   "execution_count": 96,
   "metadata": {},
   "outputs": [],
   "source": [
    "congressional_districts = congressional_districts.to_crs(proj)"
   ]
  },
  {
   "cell_type": "code",
   "execution_count": 97,
   "metadata": {},
   "outputs": [
    {
     "data": {
      "text/html": [
       "<div>\n",
       "<style scoped>\n",
       "    .dataframe tbody tr th:only-of-type {\n",
       "        vertical-align: middle;\n",
       "    }\n",
       "\n",
       "    .dataframe tbody tr th {\n",
       "        vertical-align: top;\n",
       "    }\n",
       "\n",
       "    .dataframe thead th {\n",
       "        text-align: right;\n",
       "    }\n",
       "</style>\n",
       "<table border=\"1\" class=\"dataframe\">\n",
       "  <thead>\n",
       "    <tr style=\"text-align: right;\">\n",
       "      <th></th>\n",
       "      <th>STATEFP</th>\n",
       "      <th>CD113FP</th>\n",
       "      <th>GEOID</th>\n",
       "      <th>NAMELSAD</th>\n",
       "      <th>LSAD</th>\n",
       "      <th>CDSESSN</th>\n",
       "      <th>MTFCC</th>\n",
       "      <th>FUNCSTAT</th>\n",
       "      <th>ALAND</th>\n",
       "      <th>AWATER</th>\n",
       "      <th>INTPTLAT</th>\n",
       "      <th>INTPTLON</th>\n",
       "      <th>geometry</th>\n",
       "    </tr>\n",
       "  </thead>\n",
       "  <tbody>\n",
       "    <tr>\n",
       "      <th>236</th>\n",
       "      <td>26</td>\n",
       "      <td>08</td>\n",
       "      <td>2608</td>\n",
       "      <td>Congressional District 8</td>\n",
       "      <td>C2</td>\n",
       "      <td>113</td>\n",
       "      <td>G5200</td>\n",
       "      <td>N</td>\n",
       "      <td>3893099815</td>\n",
       "      <td>99752538</td>\n",
       "      <td>+42.6477730</td>\n",
       "      <td>-083.9453541</td>\n",
       "      <td>POLYGON ((614295.986 239125.343, 614294.813 23...</td>\n",
       "    </tr>\n",
       "    <tr>\n",
       "      <th>231</th>\n",
       "      <td>26</td>\n",
       "      <td>13</td>\n",
       "      <td>2613</td>\n",
       "      <td>Congressional District 13</td>\n",
       "      <td>C2</td>\n",
       "      <td>113</td>\n",
       "      <td>G5200</td>\n",
       "      <td>N</td>\n",
       "      <td>478798047</td>\n",
       "      <td>5412343</td>\n",
       "      <td>+42.3803814</td>\n",
       "      <td>-083.3125530</td>\n",
       "      <td>POLYGON ((711528.216 203504.883, 711592.862 20...</td>\n",
       "    </tr>\n",
       "    <tr>\n",
       "      <th>232</th>\n",
       "      <td>26</td>\n",
       "      <td>ZZ</td>\n",
       "      <td>26ZZ</td>\n",
       "      <td>Congressional Districts not defined</td>\n",
       "      <td>00</td>\n",
       "      <td>113</td>\n",
       "      <td>G5200</td>\n",
       "      <td>F</td>\n",
       "      <td>0</td>\n",
       "      <td>4875242977</td>\n",
       "      <td>+42.6363171</td>\n",
       "      <td>-086.5447420</td>\n",
       "      <td>MULTIPOLYGON (((756864.193 221274.686, 756867....</td>\n",
       "    </tr>\n",
       "  </tbody>\n",
       "</table>\n",
       "</div>"
      ],
      "text/plain": [
       "    STATEFP CD113FP GEOID                             NAMELSAD LSAD CDSESSN  \\\n",
       "236      26      08  2608             Congressional District 8   C2     113   \n",
       "231      26      13  2613            Congressional District 13   C2     113   \n",
       "232      26      ZZ  26ZZ  Congressional Districts not defined   00     113   \n",
       "\n",
       "     MTFCC FUNCSTAT       ALAND      AWATER     INTPTLAT      INTPTLON  \\\n",
       "236  G5200        N  3893099815    99752538  +42.6477730  -083.9453541   \n",
       "231  G5200        N   478798047     5412343  +42.3803814  -083.3125530   \n",
       "232  G5200        F           0  4875242977  +42.6363171  -086.5447420   \n",
       "\n",
       "                                              geometry  \n",
       "236  POLYGON ((614295.986 239125.343, 614294.813 23...  \n",
       "231  POLYGON ((711528.216 203504.883, 711592.862 20...  \n",
       "232  MULTIPOLYGON (((756864.193 221274.686, 756867....  "
      ]
     },
     "execution_count": 97,
     "metadata": {},
     "output_type": "execute_result"
    }
   ],
   "source": [
    "congressional_districts.sample(3)"
   ]
  },
  {
   "cell_type": "code",
   "execution_count": 98,
   "metadata": {},
   "outputs": [],
   "source": [
    "congressional_districts.set_index('CD113FP', inplace = True)"
   ]
  },
  {
   "cell_type": "code",
   "execution_count": 99,
   "metadata": {},
   "outputs": [],
   "source": [
    "congressional_districts.sort_index(inplace = True)"
   ]
  },
  {
   "cell_type": "code",
   "execution_count": 100,
   "metadata": {},
   "outputs": [
    {
     "data": {
      "text/html": [
       "<div>\n",
       "<style scoped>\n",
       "    .dataframe tbody tr th:only-of-type {\n",
       "        vertical-align: middle;\n",
       "    }\n",
       "\n",
       "    .dataframe tbody tr th {\n",
       "        vertical-align: top;\n",
       "    }\n",
       "\n",
       "    .dataframe thead th {\n",
       "        text-align: right;\n",
       "    }\n",
       "</style>\n",
       "<table border=\"1\" class=\"dataframe\">\n",
       "  <thead>\n",
       "    <tr style=\"text-align: right;\">\n",
       "      <th></th>\n",
       "      <th>STATEFP</th>\n",
       "      <th>GEOID</th>\n",
       "      <th>NAMELSAD</th>\n",
       "      <th>LSAD</th>\n",
       "      <th>CDSESSN</th>\n",
       "      <th>MTFCC</th>\n",
       "      <th>FUNCSTAT</th>\n",
       "      <th>ALAND</th>\n",
       "      <th>AWATER</th>\n",
       "      <th>INTPTLAT</th>\n",
       "      <th>INTPTLON</th>\n",
       "      <th>geometry</th>\n",
       "    </tr>\n",
       "    <tr>\n",
       "      <th>CD113FP</th>\n",
       "      <th></th>\n",
       "      <th></th>\n",
       "      <th></th>\n",
       "      <th></th>\n",
       "      <th></th>\n",
       "      <th></th>\n",
       "      <th></th>\n",
       "      <th></th>\n",
       "      <th></th>\n",
       "      <th></th>\n",
       "      <th></th>\n",
       "      <th></th>\n",
       "    </tr>\n",
       "  </thead>\n",
       "  <tbody>\n",
       "    <tr>\n",
       "      <th>01</th>\n",
       "      <td>26</td>\n",
       "      <td>2601</td>\n",
       "      <td>Congressional District 1</td>\n",
       "      <td>C2</td>\n",
       "      <td>113</td>\n",
       "      <td>G5200</td>\n",
       "      <td>N</td>\n",
       "      <td>64823252734</td>\n",
       "      <td>75783538092</td>\n",
       "      <td>+46.1573045</td>\n",
       "      <td>-086.4369120</td>\n",
       "      <td>POLYGON ((161317.933 677736.734, 161486.135 67...</td>\n",
       "    </tr>\n",
       "    <tr>\n",
       "      <th>02</th>\n",
       "      <td>26</td>\n",
       "      <td>2602</td>\n",
       "      <td>Congressional District 2</td>\n",
       "      <td>C2</td>\n",
       "      <td>113</td>\n",
       "      <td>G5200</td>\n",
       "      <td>N</td>\n",
       "      <td>8507341869</td>\n",
       "      <td>7462277226</td>\n",
       "      <td>+43.3975406</td>\n",
       "      <td>-086.3188626</td>\n",
       "      <td>POLYGON ((406913.197 314922.337, 407532.411 32...</td>\n",
       "    </tr>\n",
       "    <tr>\n",
       "      <th>03</th>\n",
       "      <td>26</td>\n",
       "      <td>2603</td>\n",
       "      <td>Congressional District 3</td>\n",
       "      <td>C2</td>\n",
       "      <td>113</td>\n",
       "      <td>G5200</td>\n",
       "      <td>N</td>\n",
       "      <td>6810385641</td>\n",
       "      <td>177862152</td>\n",
       "      <td>+42.7200275</td>\n",
       "      <td>-085.2372759</td>\n",
       "      <td>POLYGON ((516866.232 294920.759, 516868.961 29...</td>\n",
       "    </tr>\n",
       "  </tbody>\n",
       "</table>\n",
       "</div>"
      ],
      "text/plain": [
       "        STATEFP GEOID                  NAMELSAD LSAD CDSESSN  MTFCC FUNCSTAT  \\\n",
       "CD113FP                                                                        \n",
       "01           26  2601  Congressional District 1   C2     113  G5200        N   \n",
       "02           26  2602  Congressional District 2   C2     113  G5200        N   \n",
       "03           26  2603  Congressional District 3   C2     113  G5200        N   \n",
       "\n",
       "               ALAND       AWATER     INTPTLAT      INTPTLON  \\\n",
       "CD113FP                                                        \n",
       "01       64823252734  75783538092  +46.1573045  -086.4369120   \n",
       "02        8507341869   7462277226  +43.3975406  -086.3188626   \n",
       "03        6810385641    177862152  +42.7200275  -085.2372759   \n",
       "\n",
       "                                                  geometry  \n",
       "CD113FP                                                     \n",
       "01       POLYGON ((161317.933 677736.734, 161486.135 67...  \n",
       "02       POLYGON ((406913.197 314922.337, 407532.411 32...  \n",
       "03       POLYGON ((516866.232 294920.759, 516868.961 29...  "
      ]
     },
     "execution_count": 100,
     "metadata": {},
     "output_type": "execute_result"
    }
   ],
   "source": [
    "congressional_districts.head(3)"
   ]
  },
  {
   "cell_type": "code",
   "execution_count": 101,
   "metadata": {},
   "outputs": [],
   "source": [
    "assignments = maup.assign(precincts, congressional_districts)"
   ]
  },
  {
   "cell_type": "code",
   "execution_count": 102,
   "metadata": {},
   "outputs": [
    {
     "data": {
      "text/plain": [
       "0       12\n",
       "1       12\n",
       "2       12\n",
       "3       12\n",
       "4       12\n",
       "        ..\n",
       "4805    08\n",
       "4806    08\n",
       "4807    08\n",
       "4808    08\n",
       "4809    08\n",
       "Length: 4810, dtype: object"
      ]
     },
     "execution_count": 102,
     "metadata": {},
     "output_type": "execute_result"
    }
   ],
   "source": [
    "assignments"
   ]
  },
  {
   "cell_type": "code",
   "execution_count": 103,
   "metadata": {},
   "outputs": [
    {
     "data": {
      "text/plain": [
       "array(['12', '01', '06', '02', '05', '03', '07', '04', '10', '08', '09',\n",
       "       '11', '13', '14'], dtype=object)"
      ]
     },
     "execution_count": 103,
     "metadata": {},
     "output_type": "execute_result"
    }
   ],
   "source": [
    "assignments.unique()"
   ]
  },
  {
   "cell_type": "code",
   "execution_count": 104,
   "metadata": {},
   "outputs": [],
   "source": [
    "# Assign the CDs to the precincts shapefile\n",
    "precincts[\"CONGRESSIONAL_DISTRICTS\"] = assignments"
   ]
  },
  {
   "cell_type": "code",
   "execution_count": 105,
   "metadata": {},
   "outputs": [
    {
     "data": {
      "text/html": [
       "<div>\n",
       "<style scoped>\n",
       "    .dataframe tbody tr th:only-of-type {\n",
       "        vertical-align: middle;\n",
       "    }\n",
       "\n",
       "    .dataframe tbody tr th {\n",
       "        vertical-align: top;\n",
       "    }\n",
       "\n",
       "    .dataframe thead th {\n",
       "        text-align: right;\n",
       "    }\n",
       "</style>\n",
       "<table border=\"1\" class=\"dataframe\">\n",
       "  <thead>\n",
       "    <tr style=\"text-align: right;\">\n",
       "      <th></th>\n",
       "      <th>OBJECTID</th>\n",
       "      <th>Id</th>\n",
       "      <th>VTD2016</th>\n",
       "      <th>CountyFips</th>\n",
       "      <th>Jurisdicti</th>\n",
       "      <th>ElectionYe</th>\n",
       "      <th>Label</th>\n",
       "      <th>ShapeSTAre</th>\n",
       "      <th>ShapeSTLen</th>\n",
       "      <th>geometry</th>\n",
       "      <th>...</th>\n",
       "      <th>WVAP</th>\n",
       "      <th>BVAP</th>\n",
       "      <th>AMINVAP</th>\n",
       "      <th>ASIANVAP</th>\n",
       "      <th>NHPIVAP</th>\n",
       "      <th>OTHERVAP</th>\n",
       "      <th>2MOREVAP</th>\n",
       "      <th>SEN_DIST</th>\n",
       "      <th>H_DIST</th>\n",
       "      <th>CONGRESSIONAL_DISTRICTS</th>\n",
       "    </tr>\n",
       "  </thead>\n",
       "  <tbody>\n",
       "    <tr>\n",
       "      <th>2125</th>\n",
       "      <td>2126</td>\n",
       "      <td>2126</td>\n",
       "      <td>0997646000014</td>\n",
       "      <td>099</td>\n",
       "      <td>76460</td>\n",
       "      <td>2016</td>\n",
       "      <td>City of Sterling Heights</td>\n",
       "      <td>2.039347e+06</td>\n",
       "      <td>6689.811936</td>\n",
       "      <td>POLYGON ((740387.146 227432.969, 740393.602 22...</td>\n",
       "      <td>...</td>\n",
       "      <td>1782</td>\n",
       "      <td>182</td>\n",
       "      <td>4</td>\n",
       "      <td>235</td>\n",
       "      <td>0</td>\n",
       "      <td>5</td>\n",
       "      <td>58</td>\n",
       "      <td>010</td>\n",
       "      <td>030</td>\n",
       "      <td>09</td>\n",
       "    </tr>\n",
       "  </tbody>\n",
       "</table>\n",
       "<p>1 rows × 31 columns</p>\n",
       "</div>"
      ],
      "text/plain": [
       "      OBJECTID    Id        VTD2016 CountyFips Jurisdicti  ElectionYe  \\\n",
       "2125      2126  2126  0997646000014        099      76460        2016   \n",
       "\n",
       "                         Label    ShapeSTAre   ShapeSTLen  \\\n",
       "2125  City of Sterling Heights  2.039347e+06  6689.811936   \n",
       "\n",
       "                                               geometry  ...  WVAP  BVAP  \\\n",
       "2125  POLYGON ((740387.146 227432.969, 740393.602 22...  ...  1782   182   \n",
       "\n",
       "      AMINVAP  ASIANVAP  NHPIVAP  OTHERVAP  2MOREVAP  SEN_DIST  H_DIST  \\\n",
       "2125        4       235        0         5        58       010     030   \n",
       "\n",
       "      CONGRESSIONAL_DISTRICTS  \n",
       "2125                       09  \n",
       "\n",
       "[1 rows x 31 columns]"
      ]
     },
     "execution_count": 105,
     "metadata": {},
     "output_type": "execute_result"
    }
   ],
   "source": [
    "# Confirm what it looks like and that the HD assignment is correct by looking up some counties\n",
    "precincts.sample()"
   ]
  },
  {
   "cell_type": "code",
   "execution_count": 106,
   "metadata": {},
   "outputs": [],
   "source": [
    "overlap = precincts.merge(mggg_final_shp, how = 'left', left_on = 'VTD2016', right_on = 'VTD2016_x')"
   ]
  },
  {
   "cell_type": "code",
   "execution_count": 107,
   "metadata": {},
   "outputs": [
    {
     "data": {
      "text/html": [
       "<div>\n",
       "<style scoped>\n",
       "    .dataframe tbody tr th:only-of-type {\n",
       "        vertical-align: middle;\n",
       "    }\n",
       "\n",
       "    .dataframe tbody tr th {\n",
       "        vertical-align: top;\n",
       "    }\n",
       "\n",
       "    .dataframe thead th {\n",
       "        text-align: right;\n",
       "    }\n",
       "</style>\n",
       "<table border=\"1\" class=\"dataframe\">\n",
       "  <thead>\n",
       "    <tr style=\"text-align: right;\">\n",
       "      <th></th>\n",
       "      <th>OBJECTID</th>\n",
       "      <th>Id</th>\n",
       "      <th>VTD2016</th>\n",
       "      <th>CountyFips_x</th>\n",
       "      <th>Jurisdicti_x</th>\n",
       "      <th>ElectionYe_x</th>\n",
       "      <th>Label_x</th>\n",
       "      <th>ShapeSTAre</th>\n",
       "      <th>ShapeSTLen_x</th>\n",
       "      <th>geometry_x</th>\n",
       "      <th>...</th>\n",
       "      <th>WVAP_y</th>\n",
       "      <th>BVAP_y</th>\n",
       "      <th>AMINVAP_y</th>\n",
       "      <th>ASIANVAP_y</th>\n",
       "      <th>NHPIVAP_y</th>\n",
       "      <th>OTHERVAP_y</th>\n",
       "      <th>2MOREVAP_y</th>\n",
       "      <th>NH_2MORE_y</th>\n",
       "      <th>H_2MORE</th>\n",
       "      <th>geometry_y</th>\n",
       "    </tr>\n",
       "  </thead>\n",
       "  <tbody>\n",
       "    <tr>\n",
       "      <th>0</th>\n",
       "      <td>1</td>\n",
       "      <td>3888</td>\n",
       "      <td>1632100000001</td>\n",
       "      <td>163</td>\n",
       "      <td>21000</td>\n",
       "      <td>2016</td>\n",
       "      <td>City of Dearborn</td>\n",
       "      <td>2.489738e+06</td>\n",
       "      <td>6846.254657</td>\n",
       "      <td>POLYGON ((734740.564 203392.197, 734729.230 20...</td>\n",
       "      <td>...</td>\n",
       "      <td>1330.0</td>\n",
       "      <td>75.0</td>\n",
       "      <td>2.0</td>\n",
       "      <td>20.0</td>\n",
       "      <td>0.0</td>\n",
       "      <td>6.0</td>\n",
       "      <td>101.0</td>\n",
       "      <td>172.0</td>\n",
       "      <td>7.0</td>\n",
       "      <td>POLYGON ((734740.167 203393.092, 734728.833 20...</td>\n",
       "    </tr>\n",
       "  </tbody>\n",
       "</table>\n",
       "<p>1 rows × 77 columns</p>\n",
       "</div>"
      ],
      "text/plain": [
       "   OBJECTID    Id        VTD2016 CountyFips_x Jurisdicti_x  ElectionYe_x  \\\n",
       "0         1  3888  1632100000001          163        21000          2016   \n",
       "\n",
       "            Label_x    ShapeSTAre  ShapeSTLen_x  \\\n",
       "0  City of Dearborn  2.489738e+06   6846.254657   \n",
       "\n",
       "                                          geometry_x  ...  WVAP_y  BVAP_y  \\\n",
       "0  POLYGON ((734740.564 203392.197, 734729.230 20...  ...  1330.0    75.0   \n",
       "\n",
       "   AMINVAP_y  ASIANVAP_y  NHPIVAP_y  OTHERVAP_y  2MOREVAP_y  NH_2MORE_y  \\\n",
       "0        2.0        20.0        0.0         6.0       101.0       172.0   \n",
       "\n",
       "   H_2MORE                                         geometry_y  \n",
       "0      7.0  POLYGON ((734740.167 203393.092, 734728.833 20...  \n",
       "\n",
       "[1 rows x 77 columns]"
      ]
     },
     "execution_count": 107,
     "metadata": {},
     "output_type": "execute_result"
    }
   ],
   "source": [
    "overlap.head(1)"
   ]
  },
  {
   "cell_type": "code",
   "execution_count": 108,
   "metadata": {},
   "outputs": [
    {
     "data": {
      "text/plain": [
       "1"
      ]
     },
     "execution_count": 108,
     "metadata": {},
     "output_type": "execute_result"
    }
   ],
   "source": [
    "overlap[['CONGRESSIONAL_DISTRICTS', 'CD']].assign(NOTEQUAL=overlap.CONGRESSIONAL_DISTRICTS != overlap.CD)['NOTEQUAL'].sum()"
   ]
  },
  {
   "cell_type": "code",
   "execution_count": 109,
   "metadata": {},
   "outputs": [
    {
     "data": {
      "text/html": [
       "<div>\n",
       "<style scoped>\n",
       "    .dataframe tbody tr th:only-of-type {\n",
       "        vertical-align: middle;\n",
       "    }\n",
       "\n",
       "    .dataframe tbody tr th {\n",
       "        vertical-align: top;\n",
       "    }\n",
       "\n",
       "    .dataframe thead th {\n",
       "        text-align: right;\n",
       "    }\n",
       "</style>\n",
       "<table border=\"1\" class=\"dataframe\">\n",
       "  <thead>\n",
       "    <tr style=\"text-align: right;\">\n",
       "      <th></th>\n",
       "      <th>VTD2016</th>\n",
       "      <th>Label_x</th>\n",
       "      <th>H_DIST</th>\n",
       "      <th>HDIST</th>\n",
       "      <th>NOTEQUAL</th>\n",
       "    </tr>\n",
       "  </thead>\n",
       "  <tbody>\n",
       "    <tr>\n",
       "      <th>747</th>\n",
       "      <td>0492900005062</td>\n",
       "      <td>City of Flint</td>\n",
       "      <td>034</td>\n",
       "      <td>NaN</td>\n",
       "      <td>True</td>\n",
       "    </tr>\n",
       "  </tbody>\n",
       "</table>\n",
       "</div>"
      ],
      "text/plain": [
       "           VTD2016        Label_x H_DIST HDIST  NOTEQUAL\n",
       "747  0492900005062  City of Flint    034   NaN      True"
      ]
     },
     "execution_count": 109,
     "metadata": {},
     "output_type": "execute_result"
    }
   ],
   "source": [
    "ne = overlap[['VTD2016','Label_x','H_DIST', 'HDIST']].assign(NOTEQUAL=overlap.CONGRESSIONAL_DISTRICTS != overlap.CD)\n",
    "ne.loc[ne['NOTEQUAL'] == True]\n"
   ]
  },
  {
   "cell_type": "markdown",
   "metadata": {},
   "source": [
    "<a name=\"electionresults\"></a>"
   ]
  },
  {
   "cell_type": "markdown",
   "metadata": {},
   "source": [
    "# Election Results\n",
    "Only for 2016 Presidential election"
   ]
  },
  {
   "cell_type": "markdown",
   "metadata": {},
   "source": [
    "## Reading in 2016 Presidential Results"
   ]
  },
  {
   "cell_type": "code",
   "execution_count": 110,
   "metadata": {},
   "outputs": [],
   "source": [
    "#2016 precinct-level election data - all offices all states\n",
    "precinct_election_data = pd.read_csv(\"./raw-from-source/2016-precinct-president.csv\", \n",
    "                                     encoding='ISO-8859-1',\n",
    "                                     dtype = {\"county_name\" : \"str\",\"precinct\" : \"str\",\"district\" : \"str\", \"county_fips\": \"str\"},\n",
    "                                    low_memory=False)\n",
    "#specified datatype for specific columns due to error message"
   ]
  },
  {
   "cell_type": "code",
   "execution_count": 111,
   "metadata": {},
   "outputs": [
    {
     "data": {
      "text/html": [
       "<div>\n",
       "<style scoped>\n",
       "    .dataframe tbody tr th:only-of-type {\n",
       "        vertical-align: middle;\n",
       "    }\n",
       "\n",
       "    .dataframe tbody tr th {\n",
       "        vertical-align: top;\n",
       "    }\n",
       "\n",
       "    .dataframe thead th {\n",
       "        text-align: right;\n",
       "    }\n",
       "</style>\n",
       "<table border=\"1\" class=\"dataframe\">\n",
       "  <thead>\n",
       "    <tr style=\"text-align: right;\">\n",
       "      <th></th>\n",
       "      <th>year</th>\n",
       "      <th>stage</th>\n",
       "      <th>special</th>\n",
       "      <th>state</th>\n",
       "      <th>state_postal</th>\n",
       "      <th>state_fips</th>\n",
       "      <th>state_icpsr</th>\n",
       "      <th>county_name</th>\n",
       "      <th>county_fips</th>\n",
       "      <th>county_ansi</th>\n",
       "      <th>...</th>\n",
       "      <th>candidate_middle</th>\n",
       "      <th>candidate_full</th>\n",
       "      <th>candidate_suffix</th>\n",
       "      <th>candidate_nickname</th>\n",
       "      <th>candidate_fec</th>\n",
       "      <th>candidate_fec_name</th>\n",
       "      <th>candidate_google</th>\n",
       "      <th>candidate_govtrack</th>\n",
       "      <th>candidate_icpsr</th>\n",
       "      <th>candidate_maplight</th>\n",
       "    </tr>\n",
       "  </thead>\n",
       "  <tbody>\n",
       "    <tr>\n",
       "      <th>0</th>\n",
       "      <td>2016</td>\n",
       "      <td>gen</td>\n",
       "      <td>False</td>\n",
       "      <td>Alabama</td>\n",
       "      <td>AL</td>\n",
       "      <td>1</td>\n",
       "      <td>41</td>\n",
       "      <td>Autauga County</td>\n",
       "      <td>1001</td>\n",
       "      <td>161526.0</td>\n",
       "      <td>...</td>\n",
       "      <td>NaN</td>\n",
       "      <td>NaN</td>\n",
       "      <td>NaN</td>\n",
       "      <td>NaN</td>\n",
       "      <td>P00003392</td>\n",
       "      <td>CLINTON, HILLARY RODHAM / TIMOTHY MICHAEL KAINE</td>\n",
       "      <td>NaN</td>\n",
       "      <td>NaN</td>\n",
       "      <td>NaN</td>\n",
       "      <td>NaN</td>\n",
       "    </tr>\n",
       "    <tr>\n",
       "      <th>1</th>\n",
       "      <td>2016</td>\n",
       "      <td>gen</td>\n",
       "      <td>False</td>\n",
       "      <td>Alabama</td>\n",
       "      <td>AL</td>\n",
       "      <td>1</td>\n",
       "      <td>41</td>\n",
       "      <td>Autauga County</td>\n",
       "      <td>1001</td>\n",
       "      <td>161526.0</td>\n",
       "      <td>...</td>\n",
       "      <td>NaN</td>\n",
       "      <td>NaN</td>\n",
       "      <td>NaN</td>\n",
       "      <td>NaN</td>\n",
       "      <td>P60012234</td>\n",
       "      <td>JOHNSON, JOHN FITZGERALD MR.</td>\n",
       "      <td>NaN</td>\n",
       "      <td>NaN</td>\n",
       "      <td>NaN</td>\n",
       "      <td>NaN</td>\n",
       "    </tr>\n",
       "    <tr>\n",
       "      <th>2</th>\n",
       "      <td>2016</td>\n",
       "      <td>gen</td>\n",
       "      <td>False</td>\n",
       "      <td>Alabama</td>\n",
       "      <td>AL</td>\n",
       "      <td>1</td>\n",
       "      <td>41</td>\n",
       "      <td>Autauga County</td>\n",
       "      <td>1001</td>\n",
       "      <td>161526.0</td>\n",
       "      <td>...</td>\n",
       "      <td>NaN</td>\n",
       "      <td>NaN</td>\n",
       "      <td>NaN</td>\n",
       "      <td>NaN</td>\n",
       "      <td>P20003984</td>\n",
       "      <td>STEIN, JILL</td>\n",
       "      <td>NaN</td>\n",
       "      <td>NaN</td>\n",
       "      <td>NaN</td>\n",
       "      <td>NaN</td>\n",
       "    </tr>\n",
       "  </tbody>\n",
       "</table>\n",
       "<p>3 rows × 37 columns</p>\n",
       "</div>"
      ],
      "text/plain": [
       "   year stage  special    state state_postal  state_fips  state_icpsr  \\\n",
       "0  2016   gen    False  Alabama           AL           1           41   \n",
       "1  2016   gen    False  Alabama           AL           1           41   \n",
       "2  2016   gen    False  Alabama           AL           1           41   \n",
       "\n",
       "      county_name county_fips  county_ansi  ...  candidate_middle  \\\n",
       "0  Autauga County        1001     161526.0  ...               NaN   \n",
       "1  Autauga County        1001     161526.0  ...               NaN   \n",
       "2  Autauga County        1001     161526.0  ...               NaN   \n",
       "\n",
       "   candidate_full candidate_suffix candidate_nickname candidate_fec  \\\n",
       "0             NaN              NaN                NaN     P00003392   \n",
       "1             NaN              NaN                NaN     P60012234   \n",
       "2             NaN              NaN                NaN     P20003984   \n",
       "\n",
       "                                candidate_fec_name candidate_google  \\\n",
       "0  CLINTON, HILLARY RODHAM / TIMOTHY MICHAEL KAINE              NaN   \n",
       "1                     JOHNSON, JOHN FITZGERALD MR.              NaN   \n",
       "2                                      STEIN, JILL              NaN   \n",
       "\n",
       "  candidate_govtrack  candidate_icpsr candidate_maplight  \n",
       "0                NaN              NaN                NaN  \n",
       "1                NaN              NaN                NaN  \n",
       "2                NaN              NaN                NaN  \n",
       "\n",
       "[3 rows x 37 columns]"
      ]
     },
     "execution_count": 111,
     "metadata": {},
     "output_type": "execute_result"
    }
   ],
   "source": [
    "precinct_election_data.head(3)"
   ]
  },
  {
   "cell_type": "markdown",
   "metadata": {},
   "source": [
    "Filter to only MI results, because MEDSL election results are national"
   ]
  },
  {
   "cell_type": "code",
   "execution_count": 112,
   "metadata": {},
   "outputs": [],
   "source": [
    "mi_precinct_election = precinct_election_data[precinct_election_data.state_fips == 26]"
   ]
  },
  {
   "cell_type": "code",
   "execution_count": 113,
   "metadata": {},
   "outputs": [
    {
     "data": {
      "text/plain": [
       "Index(['year', 'stage', 'special', 'state', 'state_postal', 'state_fips',\n",
       "       'state_icpsr', 'county_name', 'county_fips', 'county_ansi',\n",
       "       'county_lat', 'county_long', 'jurisdiction', 'precinct', 'candidate',\n",
       "       'candidate_normalized', 'office', 'district', 'writein', 'party',\n",
       "       'mode', 'votes', 'candidate_opensecrets', 'candidate_wikidata',\n",
       "       'candidate_party', 'candidate_last', 'candidate_first',\n",
       "       'candidate_middle', 'candidate_full', 'candidate_suffix',\n",
       "       'candidate_nickname', 'candidate_fec', 'candidate_fec_name',\n",
       "       'candidate_google', 'candidate_govtrack', 'candidate_icpsr',\n",
       "       'candidate_maplight'],\n",
       "      dtype='object')"
      ]
     },
     "execution_count": 113,
     "metadata": {},
     "output_type": "execute_result"
    }
   ],
   "source": [
    "mi_precinct_election.columns"
   ]
  },
  {
   "cell_type": "code",
   "execution_count": 114,
   "metadata": {
    "jupyter": {
     "source_hidden": true
    }
   },
   "outputs": [
    {
     "data": {
      "text/plain": [
       "array(['26001', '26003', '26005', '26007', '26009', '26011', '26013',\n",
       "       '26015', '26017', '26019', '26021', '26023', '26025', '26027',\n",
       "       '26029', '26031', '26033', '26035', '26037', '26039', '26041',\n",
       "       '26043', '26045', '26047', '26049', '26051', '26053', '26055',\n",
       "       '26057', '26059', '26061', '26063', '26065', '26067', '26069',\n",
       "       '26071', '26073', '26075', '26077', '26079', '26081', '26083',\n",
       "       '26085', '26087', '26089', '26091', '26093', '26095', '26097',\n",
       "       '26099', '26101', '26103', '26105', '26107', '26109', '26111',\n",
       "       '26113', '26115', '26117', '26119', '26121', '26123', '26125',\n",
       "       '26127', '26129', '26131', '26133', '26135', '26137', '26139',\n",
       "       '26141', '26143', '26145', '26151', '26153', '26155', '26147',\n",
       "       '26149', '26157', '26159', '26161', '26163', '26165'], dtype=object)"
      ]
     },
     "execution_count": 114,
     "metadata": {},
     "output_type": "execute_result"
    }
   ],
   "source": [
    "mi_precinct_election['county_fips'].unique()"
   ]
  },
  {
   "cell_type": "markdown",
   "metadata": {},
   "source": [
    "Testing out dataset, investigating"
   ]
  },
  {
   "cell_type": "code",
   "execution_count": 115,
   "metadata": {},
   "outputs": [
    {
     "data": {
      "text/plain": [
       "1058001          HAWES TOWNSHIP; 1\n",
       "1058002          HAWES TOWNSHIP; 1\n",
       "1058003          HAWES TOWNSHIP; 1\n",
       "1058004          HAWES TOWNSHIP; 1\n",
       "1058005          HAWES TOWNSHIP; 1\n",
       "                    ...           \n",
       "1123997    SPRINGVILLE TOWNSHIP; 1\n",
       "1123998    SPRINGVILLE TOWNSHIP; 1\n",
       "1123999    SPRINGVILLE TOWNSHIP; 1\n",
       "1124000    SPRINGVILLE TOWNSHIP; 1\n",
       "1124001    SPRINGVILLE TOWNSHIP; 1\n",
       "Name: precinct, Length: 66001, dtype: object"
      ]
     },
     "execution_count": 115,
     "metadata": {},
     "output_type": "execute_result"
    }
   ],
   "source": [
    "mi_precinct_election['precinct']"
   ]
  },
  {
   "cell_type": "code",
   "execution_count": 116,
   "metadata": {},
   "outputs": [
    {
     "data": {
      "text/plain": [
       "4794"
      ]
     },
     "execution_count": 116,
     "metadata": {},
     "output_type": "execute_result"
    }
   ],
   "source": [
    "mi_precinct_election['precinct'].nunique()"
   ]
  },
  {
   "cell_type": "code",
   "execution_count": 117,
   "metadata": {},
   "outputs": [
    {
     "data": {
      "text/plain": [
       "county_name\n",
       "Alcona County         13\n",
       "Alger County          11\n",
       "Allegan County        46\n",
       "Alpena County         18\n",
       "Antrim County         17\n",
       "                    ... \n",
       "Tuscola County        32\n",
       "Van Buren County      34\n",
       "Washtenaw County     142\n",
       "Wayne County        1172\n",
       "Wexford County        21\n",
       "Name: precinct, Length: 83, dtype: int64"
      ]
     },
     "execution_count": 117,
     "metadata": {},
     "output_type": "execute_result"
    }
   ],
   "source": [
    "#Number of unique precincts in each county \n",
    "mi_precinct_election.groupby('county_name').precinct.nunique()"
   ]
  },
  {
   "cell_type": "code",
   "execution_count": 118,
   "metadata": {},
   "outputs": [
    {
     "data": {
      "text/plain": [
       "array(['US President'], dtype=object)"
      ]
     },
     "execution_count": 118,
     "metadata": {},
     "output_type": "execute_result"
    }
   ],
   "source": [
    "mi_precinct_election.office.unique() # Test to make sure we are only looking at presidential race"
   ]
  },
  {
   "cell_type": "markdown",
   "metadata": {},
   "source": [
    "## Pivot Election Results"
   ]
  },
  {
   "cell_type": "markdown",
   "metadata": {},
   "source": [
    "Filter to the rows with parties that MGGG has in their results"
   ]
  },
  {
   "cell_type": "code",
   "execution_count": 119,
   "metadata": {},
   "outputs": [],
   "source": [
    "mi_party = mi_precinct_election[\n",
    "    (mi_precinct_election.party == 'democratic')|\n",
    "    (mi_precinct_election.party == 'republican')|\n",
    "    (mi_precinct_election.party == 'libertarian')|\n",
    "    (mi_precinct_election.party == 'green')]"
   ]
  },
  {
   "cell_type": "markdown",
   "metadata": {},
   "source": [
    "Pivot the table by county and precinct"
   ]
  },
  {
   "cell_type": "code",
   "execution_count": 120,
   "metadata": {},
   "outputs": [],
   "source": [
    "mi_pivot = mi_party.pivot_table(index = ['county_name','county_fips','precinct'],\n",
    "                         columns = ['party'],\n",
    "                        values = ['votes'],\n",
    "                         aggfunc = 'sum').reset_index()\n",
    "#\"reset_index\" turns assigned indices into columns so that mask can be applied\n"
   ]
  },
  {
   "cell_type": "markdown",
   "metadata": {},
   "source": [
    "Testing out dataset, investigating"
   ]
  },
  {
   "cell_type": "code",
   "execution_count": 121,
   "metadata": {},
   "outputs": [
    {
     "data": {
      "text/html": [
       "<div>\n",
       "<style scoped>\n",
       "    .dataframe tbody tr th:only-of-type {\n",
       "        vertical-align: middle;\n",
       "    }\n",
       "\n",
       "    .dataframe tbody tr th {\n",
       "        vertical-align: top;\n",
       "    }\n",
       "\n",
       "    .dataframe thead tr th {\n",
       "        text-align: left;\n",
       "    }\n",
       "</style>\n",
       "<table border=\"1\" class=\"dataframe\">\n",
       "  <thead>\n",
       "    <tr>\n",
       "      <th></th>\n",
       "      <th>county_name</th>\n",
       "      <th>county_fips</th>\n",
       "      <th>precinct</th>\n",
       "      <th colspan=\"4\" halign=\"left\">votes</th>\n",
       "    </tr>\n",
       "    <tr>\n",
       "      <th>party</th>\n",
       "      <th></th>\n",
       "      <th></th>\n",
       "      <th></th>\n",
       "      <th>democratic</th>\n",
       "      <th>green</th>\n",
       "      <th>libertarian</th>\n",
       "      <th>republican</th>\n",
       "    </tr>\n",
       "  </thead>\n",
       "  <tbody>\n",
       "    <tr>\n",
       "      <th>13</th>\n",
       "      <td>Alger County</td>\n",
       "      <td>26003</td>\n",
       "      <td>AU TRAIN TOWNSHIP; 1</td>\n",
       "      <td>199</td>\n",
       "      <td>6</td>\n",
       "      <td>28</td>\n",
       "      <td>396</td>\n",
       "    </tr>\n",
       "    <tr>\n",
       "      <th>14</th>\n",
       "      <td>Alger County</td>\n",
       "      <td>26003</td>\n",
       "      <td>BURT TOWNSHIP; 1</td>\n",
       "      <td>101</td>\n",
       "      <td>6</td>\n",
       "      <td>16</td>\n",
       "      <td>200</td>\n",
       "    </tr>\n",
       "    <tr>\n",
       "      <th>15</th>\n",
       "      <td>Alger County</td>\n",
       "      <td>26003</td>\n",
       "      <td>GRAND ISLAND TOWNSHIP; 1</td>\n",
       "      <td>15</td>\n",
       "      <td>0</td>\n",
       "      <td>2</td>\n",
       "      <td>9</td>\n",
       "    </tr>\n",
       "    <tr>\n",
       "      <th>16</th>\n",
       "      <td>Alger County</td>\n",
       "      <td>26003</td>\n",
       "      <td>LIMESTONE TOWNSHIP; 1</td>\n",
       "      <td>75</td>\n",
       "      <td>3</td>\n",
       "      <td>7</td>\n",
       "      <td>135</td>\n",
       "    </tr>\n",
       "    <tr>\n",
       "      <th>17</th>\n",
       "      <td>Alger County</td>\n",
       "      <td>26003</td>\n",
       "      <td>MATHIAS TOWNSHIP; 1</td>\n",
       "      <td>111</td>\n",
       "      <td>3</td>\n",
       "      <td>11</td>\n",
       "      <td>108</td>\n",
       "    </tr>\n",
       "    <tr>\n",
       "      <th>18</th>\n",
       "      <td>Alger County</td>\n",
       "      <td>26003</td>\n",
       "      <td>MUNISING CITY; 1</td>\n",
       "      <td>441</td>\n",
       "      <td>23</td>\n",
       "      <td>42</td>\n",
       "      <td>518</td>\n",
       "    </tr>\n",
       "    <tr>\n",
       "      <th>19</th>\n",
       "      <td>Alger County</td>\n",
       "      <td>26003</td>\n",
       "      <td>MUNISING TOWNSHIP; 1</td>\n",
       "      <td>166</td>\n",
       "      <td>6</td>\n",
       "      <td>18</td>\n",
       "      <td>345</td>\n",
       "    </tr>\n",
       "    <tr>\n",
       "      <th>20</th>\n",
       "      <td>Alger County</td>\n",
       "      <td>26003</td>\n",
       "      <td>MUNISING TOWNSHIP; 2</td>\n",
       "      <td>158</td>\n",
       "      <td>6</td>\n",
       "      <td>13</td>\n",
       "      <td>422</td>\n",
       "    </tr>\n",
       "    <tr>\n",
       "      <th>21</th>\n",
       "      <td>Alger County</td>\n",
       "      <td>26003</td>\n",
       "      <td>ONOTA TOWNSHIP; 1</td>\n",
       "      <td>121</td>\n",
       "      <td>4</td>\n",
       "      <td>13</td>\n",
       "      <td>138</td>\n",
       "    </tr>\n",
       "    <tr>\n",
       "      <th>22</th>\n",
       "      <td>Alger County</td>\n",
       "      <td>26003</td>\n",
       "      <td>ROCK RIVER TOWNSHIP; 1</td>\n",
       "      <td>276</td>\n",
       "      <td>10</td>\n",
       "      <td>27</td>\n",
       "      <td>314</td>\n",
       "    </tr>\n",
       "    <tr>\n",
       "      <th>23</th>\n",
       "      <td>Alger County</td>\n",
       "      <td>26003</td>\n",
       "      <td>Statistical Adjustments</td>\n",
       "      <td>0</td>\n",
       "      <td>0</td>\n",
       "      <td>0</td>\n",
       "      <td>0</td>\n",
       "    </tr>\n",
       "  </tbody>\n",
       "</table>\n",
       "</div>"
      ],
      "text/plain": [
       "        county_name county_fips                  precinct      votes        \\\n",
       "party                                                     democratic green   \n",
       "13     Alger County       26003      AU TRAIN TOWNSHIP; 1        199     6   \n",
       "14     Alger County       26003          BURT TOWNSHIP; 1        101     6   \n",
       "15     Alger County       26003  GRAND ISLAND TOWNSHIP; 1         15     0   \n",
       "16     Alger County       26003     LIMESTONE TOWNSHIP; 1         75     3   \n",
       "17     Alger County       26003       MATHIAS TOWNSHIP; 1        111     3   \n",
       "18     Alger County       26003          MUNISING CITY; 1        441    23   \n",
       "19     Alger County       26003      MUNISING TOWNSHIP; 1        166     6   \n",
       "20     Alger County       26003      MUNISING TOWNSHIP; 2        158     6   \n",
       "21     Alger County       26003         ONOTA TOWNSHIP; 1        121     4   \n",
       "22     Alger County       26003    ROCK RIVER TOWNSHIP; 1        276    10   \n",
       "23     Alger County       26003   Statistical Adjustments          0     0   \n",
       "\n",
       "                              \n",
       "party libertarian republican  \n",
       "13             28        396  \n",
       "14             16        200  \n",
       "15              2          9  \n",
       "16              7        135  \n",
       "17             11        108  \n",
       "18             42        518  \n",
       "19             18        345  \n",
       "20             13        422  \n",
       "21             13        138  \n",
       "22             27        314  \n",
       "23              0          0  "
      ]
     },
     "execution_count": 121,
     "metadata": {},
     "output_type": "execute_result"
    }
   ],
   "source": [
    "mi_pivot[mi_pivot['county_name'] == 'Alger County']"
   ]
  },
  {
   "cell_type": "markdown",
   "metadata": {},
   "source": [
    "Remove Statistical Adjustment rows from dataset to just get the votes"
   ]
  },
  {
   "cell_type": "code",
   "execution_count": 122,
   "metadata": {},
   "outputs": [],
   "source": [
    "mi_pivot.drop(mi_pivot.loc[(mi_pivot['precinct'] == 'Statistical Adjustments')].index, inplace = True)"
   ]
  },
  {
   "cell_type": "code",
   "execution_count": 123,
   "metadata": {},
   "outputs": [
    {
     "data": {
      "text/html": [
       "<div>\n",
       "<style scoped>\n",
       "    .dataframe tbody tr th:only-of-type {\n",
       "        vertical-align: middle;\n",
       "    }\n",
       "\n",
       "    .dataframe tbody tr th {\n",
       "        vertical-align: top;\n",
       "    }\n",
       "\n",
       "    .dataframe thead tr th {\n",
       "        text-align: left;\n",
       "    }\n",
       "</style>\n",
       "<table border=\"1\" class=\"dataframe\">\n",
       "  <thead>\n",
       "    <tr>\n",
       "      <th></th>\n",
       "      <th>county_name</th>\n",
       "      <th>county_fips</th>\n",
       "      <th>precinct</th>\n",
       "      <th colspan=\"4\" halign=\"left\">votes</th>\n",
       "    </tr>\n",
       "    <tr>\n",
       "      <th>party</th>\n",
       "      <th></th>\n",
       "      <th></th>\n",
       "      <th></th>\n",
       "      <th>democratic</th>\n",
       "      <th>green</th>\n",
       "      <th>libertarian</th>\n",
       "      <th>republican</th>\n",
       "    </tr>\n",
       "  </thead>\n",
       "  <tbody>\n",
       "  </tbody>\n",
       "</table>\n",
       "</div>"
      ],
      "text/plain": [
       "Empty DataFrame\n",
       "Columns: [(county_name, ), (county_fips, ), (precinct, ), (votes, democratic), (votes, green), (votes, libertarian), (votes, republican)]\n",
       "Index: []"
      ]
     },
     "execution_count": 123,
     "metadata": {},
     "output_type": "execute_result"
    }
   ],
   "source": [
    "mi_pivot.loc[(mi_pivot['precinct'] == 'Statistical Adjustments')]"
   ]
  },
  {
   "cell_type": "code",
   "execution_count": 124,
   "metadata": {},
   "outputs": [
    {
     "data": {
      "text/plain": [
       "(5021, 7)"
      ]
     },
     "execution_count": 124,
     "metadata": {},
     "output_type": "execute_result"
    }
   ],
   "source": [
    "mi_pivot.shape"
   ]
  },
  {
   "cell_type": "code",
   "execution_count": 125,
   "metadata": {},
   "outputs": [
    {
     "data": {
      "text/plain": [
       "             party      \n",
       "county_name                 Alcona CountyAlcona CountyAlcona CountyAlcona ...\n",
       "county_fips                 2600126001260012600126001260012600126001260012...\n",
       "precinct                    ALCONA TOWNSHIP; 1CALEDONIA TOWNSHIP; 1CURTIS ...\n",
       "votes        democratic                                               2268840\n",
       "             green                                                      51463\n",
       "             libertarian                                               172136\n",
       "             republican                                               2279542\n",
       "dtype: object"
      ]
     },
     "execution_count": 125,
     "metadata": {},
     "output_type": "execute_result"
    }
   ],
   "source": [
    "#Column sums - see election results by party\n",
    "mi_pivot.sum()"
   ]
  },
  {
   "cell_type": "markdown",
   "metadata": {},
   "source": [
    "Saving pivoted table that underwent some cleaning for debugging..."
   ]
  },
  {
   "cell_type": "code",
   "execution_count": 126,
   "metadata": {},
   "outputs": [],
   "source": [
    "mi_pivot.to_csv('mi_election_results_pivoted.csv')"
   ]
  },
  {
   "cell_type": "markdown",
   "metadata": {},
   "source": [
    "<a name=\"joining\"></a>"
   ]
  },
  {
   "cell_type": "markdown",
   "metadata": {},
   "source": [
    "# Joining Election Results to Precinct Shapefile"
   ]
  },
  {
   "cell_type": "markdown",
   "metadata": {},
   "source": [
    "The goal of this section is to join `precincts` to `mi_pivot`"
   ]
  },
  {
   "cell_type": "markdown",
   "metadata": {},
   "source": [
    "Taking a look at the precinct file that we had assigned demographic data and legislative boundaries to. Try to match to election results with this file. "
   ]
  },
  {
   "cell_type": "code",
   "execution_count": 127,
   "metadata": {},
   "outputs": [
    {
     "data": {
      "text/plain": [
       "(4810, 31)"
      ]
     },
     "execution_count": 127,
     "metadata": {},
     "output_type": "execute_result"
    }
   ],
   "source": [
    "precincts.shape"
   ]
  },
  {
   "cell_type": "code",
   "execution_count": 128,
   "metadata": {},
   "outputs": [
    {
     "data": {
      "text/html": [
       "<div>\n",
       "<style scoped>\n",
       "    .dataframe tbody tr th:only-of-type {\n",
       "        vertical-align: middle;\n",
       "    }\n",
       "\n",
       "    .dataframe tbody tr th {\n",
       "        vertical-align: top;\n",
       "    }\n",
       "\n",
       "    .dataframe thead th {\n",
       "        text-align: right;\n",
       "    }\n",
       "</style>\n",
       "<table border=\"1\" class=\"dataframe\">\n",
       "  <thead>\n",
       "    <tr style=\"text-align: right;\">\n",
       "      <th></th>\n",
       "      <th>OBJECTID</th>\n",
       "      <th>Id</th>\n",
       "      <th>VTD2016</th>\n",
       "      <th>CountyFips</th>\n",
       "      <th>Jurisdicti</th>\n",
       "      <th>ElectionYe</th>\n",
       "      <th>Label</th>\n",
       "      <th>ShapeSTAre</th>\n",
       "      <th>ShapeSTLen</th>\n",
       "      <th>geometry</th>\n",
       "      <th>...</th>\n",
       "      <th>WVAP</th>\n",
       "      <th>BVAP</th>\n",
       "      <th>AMINVAP</th>\n",
       "      <th>ASIANVAP</th>\n",
       "      <th>NHPIVAP</th>\n",
       "      <th>OTHERVAP</th>\n",
       "      <th>2MOREVAP</th>\n",
       "      <th>SEN_DIST</th>\n",
       "      <th>H_DIST</th>\n",
       "      <th>CONGRESSIONAL_DISTRICTS</th>\n",
       "    </tr>\n",
       "  </thead>\n",
       "  <tbody>\n",
       "    <tr>\n",
       "      <th>0</th>\n",
       "      <td>1</td>\n",
       "      <td>3888</td>\n",
       "      <td>1632100000001</td>\n",
       "      <td>163</td>\n",
       "      <td>21000</td>\n",
       "      <td>2016</td>\n",
       "      <td>City of Dearborn</td>\n",
       "      <td>2.489738e+06</td>\n",
       "      <td>6846.254657</td>\n",
       "      <td>POLYGON ((734740.564 203392.197, 734729.230 20...</td>\n",
       "      <td>...</td>\n",
       "      <td>1330</td>\n",
       "      <td>75</td>\n",
       "      <td>2</td>\n",
       "      <td>20</td>\n",
       "      <td>0</td>\n",
       "      <td>6</td>\n",
       "      <td>101</td>\n",
       "      <td>003</td>\n",
       "      <td>015</td>\n",
       "      <td>12</td>\n",
       "    </tr>\n",
       "    <tr>\n",
       "      <th>1</th>\n",
       "      <td>2</td>\n",
       "      <td>3889</td>\n",
       "      <td>1632100000002</td>\n",
       "      <td>163</td>\n",
       "      <td>21000</td>\n",
       "      <td>2016</td>\n",
       "      <td>City of Dearborn</td>\n",
       "      <td>1.058362e+06</td>\n",
       "      <td>4621.388992</td>\n",
       "      <td>POLYGON ((733757.240 203553.421, 733767.280 20...</td>\n",
       "      <td>...</td>\n",
       "      <td>1760</td>\n",
       "      <td>41</td>\n",
       "      <td>3</td>\n",
       "      <td>16</td>\n",
       "      <td>0</td>\n",
       "      <td>1</td>\n",
       "      <td>128</td>\n",
       "      <td>003</td>\n",
       "      <td>015</td>\n",
       "      <td>12</td>\n",
       "    </tr>\n",
       "    <tr>\n",
       "      <th>2</th>\n",
       "      <td>3</td>\n",
       "      <td>3890</td>\n",
       "      <td>1632100000003</td>\n",
       "      <td>163</td>\n",
       "      <td>21000</td>\n",
       "      <td>2016</td>\n",
       "      <td>City of Dearborn</td>\n",
       "      <td>1.488846e+06</td>\n",
       "      <td>4909.715171</td>\n",
       "      <td>POLYGON ((733220.680 203094.269, 733125.455 20...</td>\n",
       "      <td>...</td>\n",
       "      <td>2024</td>\n",
       "      <td>43</td>\n",
       "      <td>2</td>\n",
       "      <td>30</td>\n",
       "      <td>1</td>\n",
       "      <td>3</td>\n",
       "      <td>132</td>\n",
       "      <td>003</td>\n",
       "      <td>009</td>\n",
       "      <td>12</td>\n",
       "    </tr>\n",
       "  </tbody>\n",
       "</table>\n",
       "<p>3 rows × 31 columns</p>\n",
       "</div>"
      ],
      "text/plain": [
       "   OBJECTID    Id        VTD2016 CountyFips Jurisdicti  ElectionYe  \\\n",
       "0         1  3888  1632100000001        163      21000        2016   \n",
       "1         2  3889  1632100000002        163      21000        2016   \n",
       "2         3  3890  1632100000003        163      21000        2016   \n",
       "\n",
       "              Label    ShapeSTAre   ShapeSTLen  \\\n",
       "0  City of Dearborn  2.489738e+06  6846.254657   \n",
       "1  City of Dearborn  1.058362e+06  4621.388992   \n",
       "2  City of Dearborn  1.488846e+06  4909.715171   \n",
       "\n",
       "                                            geometry  ...  WVAP  BVAP  \\\n",
       "0  POLYGON ((734740.564 203392.197, 734729.230 20...  ...  1330    75   \n",
       "1  POLYGON ((733757.240 203553.421, 733767.280 20...  ...  1760    41   \n",
       "2  POLYGON ((733220.680 203094.269, 733125.455 20...  ...  2024    43   \n",
       "\n",
       "   AMINVAP  ASIANVAP  NHPIVAP  OTHERVAP  2MOREVAP  SEN_DIST  H_DIST  \\\n",
       "0        2        20        0         6       101       003     015   \n",
       "1        3        16        0         1       128       003     015   \n",
       "2        2        30        1         3       132       003     009   \n",
       "\n",
       "   CONGRESSIONAL_DISTRICTS  \n",
       "0                       12  \n",
       "1                       12  \n",
       "2                       12  \n",
       "\n",
       "[3 rows x 31 columns]"
      ]
     },
     "execution_count": 128,
     "metadata": {},
     "output_type": "execute_result"
    }
   ],
   "source": [
    "precincts.head(3)"
   ]
  },
  {
   "cell_type": "markdown",
   "metadata": {},
   "source": [
    "## Cleaning Files for Join"
   ]
  },
  {
   "cell_type": "markdown",
   "metadata": {},
   "source": [
    "Making initial modifications for joining. There will be more later, this is a first pass. "
   ]
  },
  {
   "cell_type": "code",
   "execution_count": 129,
   "metadata": {},
   "outputs": [],
   "source": [
    "# combine to use multiple variables:\n",
    "def precinct_mod(row):\n",
    "    label = row['Label']\n",
    "    vtd2016 = row['VTD2016']\n",
    "    \n",
    "    if 'City of' in label:\n",
    "        replace_label = label.replace(\"City of\", \"\")\n",
    "        replace_label = replace_label.lstrip() + \" City\"\n",
    "        \n",
    "    elif 'Township' in label:\n",
    "        replace_label = label.upper()\n",
    "        \n",
    "    ward = vtd2016[-5:-3]\n",
    "    precinct_num = vtd2016[-3:].lstrip(\"0\")\n",
    "    if ward != '00':\n",
    "        ward = ward.lstrip(\"0\")\n",
    "        replace_label = replace_label.lstrip() + \"; Ward \" + ward + \"; Precinct \" + precinct_num\n",
    "    elif ward == '00':\n",
    "        replace_label = replace_label.lstrip() + \"; \" + precinct_num\n",
    "    return replace_label.upper()\n",
    "         \n",
    "        #switched to upper case to match the df"
   ]
  },
  {
   "cell_type": "markdown",
   "metadata": {},
   "source": [
    "Test of the modification"
   ]
  },
  {
   "cell_type": "code",
   "execution_count": 130,
   "metadata": {},
   "outputs": [],
   "source": [
    "precincts['Label'] = precincts.apply(precinct_mod, axis = 1)"
   ]
  },
  {
   "cell_type": "code",
   "execution_count": 131,
   "metadata": {},
   "outputs": [
    {
     "data": {
      "text/html": [
       "<div>\n",
       "<style scoped>\n",
       "    .dataframe tbody tr th:only-of-type {\n",
       "        vertical-align: middle;\n",
       "    }\n",
       "\n",
       "    .dataframe tbody tr th {\n",
       "        vertical-align: top;\n",
       "    }\n",
       "\n",
       "    .dataframe thead th {\n",
       "        text-align: right;\n",
       "    }\n",
       "</style>\n",
       "<table border=\"1\" class=\"dataframe\">\n",
       "  <thead>\n",
       "    <tr style=\"text-align: right;\">\n",
       "      <th></th>\n",
       "      <th>OBJECTID</th>\n",
       "      <th>Id</th>\n",
       "      <th>VTD2016</th>\n",
       "      <th>CountyFips</th>\n",
       "      <th>Jurisdicti</th>\n",
       "      <th>ElectionYe</th>\n",
       "      <th>Label</th>\n",
       "      <th>ShapeSTAre</th>\n",
       "      <th>ShapeSTLen</th>\n",
       "      <th>geometry</th>\n",
       "      <th>...</th>\n",
       "      <th>WVAP</th>\n",
       "      <th>BVAP</th>\n",
       "      <th>AMINVAP</th>\n",
       "      <th>ASIANVAP</th>\n",
       "      <th>NHPIVAP</th>\n",
       "      <th>OTHERVAP</th>\n",
       "      <th>2MOREVAP</th>\n",
       "      <th>SEN_DIST</th>\n",
       "      <th>H_DIST</th>\n",
       "      <th>CONGRESSIONAL_DISTRICTS</th>\n",
       "    </tr>\n",
       "  </thead>\n",
       "  <tbody>\n",
       "    <tr>\n",
       "      <th>0</th>\n",
       "      <td>1</td>\n",
       "      <td>3888</td>\n",
       "      <td>1632100000001</td>\n",
       "      <td>163</td>\n",
       "      <td>21000</td>\n",
       "      <td>2016</td>\n",
       "      <td>DEARBORN CITY; 1</td>\n",
       "      <td>2.489738e+06</td>\n",
       "      <td>6846.254657</td>\n",
       "      <td>POLYGON ((734740.564 203392.197, 734729.230 20...</td>\n",
       "      <td>...</td>\n",
       "      <td>1330</td>\n",
       "      <td>75</td>\n",
       "      <td>2</td>\n",
       "      <td>20</td>\n",
       "      <td>0</td>\n",
       "      <td>6</td>\n",
       "      <td>101</td>\n",
       "      <td>003</td>\n",
       "      <td>015</td>\n",
       "      <td>12</td>\n",
       "    </tr>\n",
       "    <tr>\n",
       "      <th>1</th>\n",
       "      <td>2</td>\n",
       "      <td>3889</td>\n",
       "      <td>1632100000002</td>\n",
       "      <td>163</td>\n",
       "      <td>21000</td>\n",
       "      <td>2016</td>\n",
       "      <td>DEARBORN CITY; 2</td>\n",
       "      <td>1.058362e+06</td>\n",
       "      <td>4621.388992</td>\n",
       "      <td>POLYGON ((733757.240 203553.421, 733767.280 20...</td>\n",
       "      <td>...</td>\n",
       "      <td>1760</td>\n",
       "      <td>41</td>\n",
       "      <td>3</td>\n",
       "      <td>16</td>\n",
       "      <td>0</td>\n",
       "      <td>1</td>\n",
       "      <td>128</td>\n",
       "      <td>003</td>\n",
       "      <td>015</td>\n",
       "      <td>12</td>\n",
       "    </tr>\n",
       "    <tr>\n",
       "      <th>2</th>\n",
       "      <td>3</td>\n",
       "      <td>3890</td>\n",
       "      <td>1632100000003</td>\n",
       "      <td>163</td>\n",
       "      <td>21000</td>\n",
       "      <td>2016</td>\n",
       "      <td>DEARBORN CITY; 3</td>\n",
       "      <td>1.488846e+06</td>\n",
       "      <td>4909.715171</td>\n",
       "      <td>POLYGON ((733220.680 203094.269, 733125.455 20...</td>\n",
       "      <td>...</td>\n",
       "      <td>2024</td>\n",
       "      <td>43</td>\n",
       "      <td>2</td>\n",
       "      <td>30</td>\n",
       "      <td>1</td>\n",
       "      <td>3</td>\n",
       "      <td>132</td>\n",
       "      <td>003</td>\n",
       "      <td>009</td>\n",
       "      <td>12</td>\n",
       "    </tr>\n",
       "  </tbody>\n",
       "</table>\n",
       "<p>3 rows × 31 columns</p>\n",
       "</div>"
      ],
      "text/plain": [
       "   OBJECTID    Id        VTD2016 CountyFips Jurisdicti  ElectionYe  \\\n",
       "0         1  3888  1632100000001        163      21000        2016   \n",
       "1         2  3889  1632100000002        163      21000        2016   \n",
       "2         3  3890  1632100000003        163      21000        2016   \n",
       "\n",
       "              Label    ShapeSTAre   ShapeSTLen  \\\n",
       "0  DEARBORN CITY; 1  2.489738e+06  6846.254657   \n",
       "1  DEARBORN CITY; 2  1.058362e+06  4621.388992   \n",
       "2  DEARBORN CITY; 3  1.488846e+06  4909.715171   \n",
       "\n",
       "                                            geometry  ...  WVAP  BVAP  \\\n",
       "0  POLYGON ((734740.564 203392.197, 734729.230 20...  ...  1330    75   \n",
       "1  POLYGON ((733757.240 203553.421, 733767.280 20...  ...  1760    41   \n",
       "2  POLYGON ((733220.680 203094.269, 733125.455 20...  ...  2024    43   \n",
       "\n",
       "   AMINVAP  ASIANVAP  NHPIVAP  OTHERVAP  2MOREVAP  SEN_DIST  H_DIST  \\\n",
       "0        2        20        0         6       101       003     015   \n",
       "1        3        16        0         1       128       003     015   \n",
       "2        2        30        1         3       132       003     009   \n",
       "\n",
       "   CONGRESSIONAL_DISTRICTS  \n",
       "0                       12  \n",
       "1                       12  \n",
       "2                       12  \n",
       "\n",
       "[3 rows x 31 columns]"
      ]
     },
     "execution_count": 131,
     "metadata": {},
     "output_type": "execute_result"
    }
   ],
   "source": [
    "precincts.head(3)"
   ]
  },
  {
   "cell_type": "code",
   "execution_count": 132,
   "metadata": {},
   "outputs": [
    {
     "data": {
      "text/html": [
       "<div>\n",
       "<style scoped>\n",
       "    .dataframe tbody tr th:only-of-type {\n",
       "        vertical-align: middle;\n",
       "    }\n",
       "\n",
       "    .dataframe tbody tr th {\n",
       "        vertical-align: top;\n",
       "    }\n",
       "\n",
       "    .dataframe thead tr th {\n",
       "        text-align: left;\n",
       "    }\n",
       "</style>\n",
       "<table border=\"1\" class=\"dataframe\">\n",
       "  <thead>\n",
       "    <tr>\n",
       "      <th></th>\n",
       "      <th>county_name</th>\n",
       "      <th>county_fips</th>\n",
       "      <th>precinct</th>\n",
       "      <th colspan=\"4\" halign=\"left\">votes</th>\n",
       "    </tr>\n",
       "    <tr>\n",
       "      <th>party</th>\n",
       "      <th></th>\n",
       "      <th></th>\n",
       "      <th></th>\n",
       "      <th>democratic</th>\n",
       "      <th>green</th>\n",
       "      <th>libertarian</th>\n",
       "      <th>republican</th>\n",
       "    </tr>\n",
       "  </thead>\n",
       "  <tbody>\n",
       "    <tr>\n",
       "      <th>0</th>\n",
       "      <td>Alcona County</td>\n",
       "      <td>26001</td>\n",
       "      <td>ALCONA TOWNSHIP; 1</td>\n",
       "      <td>199</td>\n",
       "      <td>2</td>\n",
       "      <td>13</td>\n",
       "      <td>500</td>\n",
       "    </tr>\n",
       "    <tr>\n",
       "      <th>1</th>\n",
       "      <td>Alcona County</td>\n",
       "      <td>26001</td>\n",
       "      <td>CALEDONIA TOWNSHIP; 1</td>\n",
       "      <td>178</td>\n",
       "      <td>4</td>\n",
       "      <td>14</td>\n",
       "      <td>441</td>\n",
       "    </tr>\n",
       "    <tr>\n",
       "      <th>2</th>\n",
       "      <td>Alcona County</td>\n",
       "      <td>26001</td>\n",
       "      <td>CURTIS TOWNSHIP; 1</td>\n",
       "      <td>214</td>\n",
       "      <td>13</td>\n",
       "      <td>8</td>\n",
       "      <td>401</td>\n",
       "    </tr>\n",
       "  </tbody>\n",
       "</table>\n",
       "</div>"
      ],
      "text/plain": [
       "         county_name county_fips               precinct      votes        \\\n",
       "party                                                   democratic green   \n",
       "0      Alcona County       26001     ALCONA TOWNSHIP; 1        199     2   \n",
       "1      Alcona County       26001  CALEDONIA TOWNSHIP; 1        178     4   \n",
       "2      Alcona County       26001     CURTIS TOWNSHIP; 1        214    13   \n",
       "\n",
       "                              \n",
       "party libertarian republican  \n",
       "0              13        500  \n",
       "1              14        441  \n",
       "2               8        401  "
      ]
     },
     "execution_count": 132,
     "metadata": {},
     "output_type": "execute_result"
    }
   ],
   "source": [
    "mi_pivot.head(3)"
   ]
  },
  {
   "cell_type": "markdown",
   "metadata": {},
   "source": [
    "Remove the multi-tiering from the election results df"
   ]
  },
  {
   "cell_type": "code",
   "execution_count": 133,
   "metadata": {},
   "outputs": [
    {
     "data": {
      "text/html": [
       "<div>\n",
       "<style scoped>\n",
       "    .dataframe tbody tr th:only-of-type {\n",
       "        vertical-align: middle;\n",
       "    }\n",
       "\n",
       "    .dataframe tbody tr th {\n",
       "        vertical-align: top;\n",
       "    }\n",
       "\n",
       "    .dataframe thead th {\n",
       "        text-align: right;\n",
       "    }\n",
       "</style>\n",
       "<table border=\"1\" class=\"dataframe\">\n",
       "  <thead>\n",
       "    <tr style=\"text-align: right;\">\n",
       "      <th></th>\n",
       "      <th>county_name</th>\n",
       "      <th>county_fips</th>\n",
       "      <th>precinct</th>\n",
       "      <th>votes_democratic</th>\n",
       "      <th>votes_green</th>\n",
       "      <th>votes_libertarian</th>\n",
       "      <th>votes_republican</th>\n",
       "    </tr>\n",
       "  </thead>\n",
       "  <tbody>\n",
       "    <tr>\n",
       "      <th>0</th>\n",
       "      <td>Alcona County</td>\n",
       "      <td>26001</td>\n",
       "      <td>ALCONA TOWNSHIP; 1</td>\n",
       "      <td>199</td>\n",
       "      <td>2</td>\n",
       "      <td>13</td>\n",
       "      <td>500</td>\n",
       "    </tr>\n",
       "    <tr>\n",
       "      <th>1</th>\n",
       "      <td>Alcona County</td>\n",
       "      <td>26001</td>\n",
       "      <td>CALEDONIA TOWNSHIP; 1</td>\n",
       "      <td>178</td>\n",
       "      <td>4</td>\n",
       "      <td>14</td>\n",
       "      <td>441</td>\n",
       "    </tr>\n",
       "    <tr>\n",
       "      <th>2</th>\n",
       "      <td>Alcona County</td>\n",
       "      <td>26001</td>\n",
       "      <td>CURTIS TOWNSHIP; 1</td>\n",
       "      <td>214</td>\n",
       "      <td>13</td>\n",
       "      <td>8</td>\n",
       "      <td>401</td>\n",
       "    </tr>\n",
       "  </tbody>\n",
       "</table>\n",
       "</div>"
      ],
      "text/plain": [
       "     county_name county_fips               precinct  votes_democratic  \\\n",
       "0  Alcona County       26001     ALCONA TOWNSHIP; 1               199   \n",
       "1  Alcona County       26001  CALEDONIA TOWNSHIP; 1               178   \n",
       "2  Alcona County       26001     CURTIS TOWNSHIP; 1               214   \n",
       "\n",
       "   votes_green  votes_libertarian  votes_republican  \n",
       "0            2                 13               500  \n",
       "1            4                 14               441  \n",
       "2           13                  8               401  "
      ]
     },
     "execution_count": 133,
     "metadata": {},
     "output_type": "execute_result"
    }
   ],
   "source": [
    "mi_pivot.columns = ['county_name',\n",
    " 'county_fips',\n",
    " 'precinct',\n",
    " 'votes_democratic',\n",
    " 'votes_green',\n",
    " 'votes_libertarian',\n",
    " 'votes_republican']\n",
    "mi_pivot.head(3)"
   ]
  },
  {
   "cell_type": "markdown",
   "metadata": {},
   "source": [
    "Removing the '26' state fips prefix in county_fips from the election results df"
   ]
  },
  {
   "cell_type": "code",
   "execution_count": 134,
   "metadata": {},
   "outputs": [
    {
     "data": {
      "text/html": [
       "<div>\n",
       "<style scoped>\n",
       "    .dataframe tbody tr th:only-of-type {\n",
       "        vertical-align: middle;\n",
       "    }\n",
       "\n",
       "    .dataframe tbody tr th {\n",
       "        vertical-align: top;\n",
       "    }\n",
       "\n",
       "    .dataframe thead th {\n",
       "        text-align: right;\n",
       "    }\n",
       "</style>\n",
       "<table border=\"1\" class=\"dataframe\">\n",
       "  <thead>\n",
       "    <tr style=\"text-align: right;\">\n",
       "      <th></th>\n",
       "      <th>county_name</th>\n",
       "      <th>county_fips</th>\n",
       "      <th>precinct</th>\n",
       "      <th>votes_democratic</th>\n",
       "      <th>votes_green</th>\n",
       "      <th>votes_libertarian</th>\n",
       "      <th>votes_republican</th>\n",
       "    </tr>\n",
       "  </thead>\n",
       "  <tbody>\n",
       "    <tr>\n",
       "      <th>0</th>\n",
       "      <td>Alcona County</td>\n",
       "      <td>001</td>\n",
       "      <td>ALCONA TOWNSHIP; 1</td>\n",
       "      <td>199</td>\n",
       "      <td>2</td>\n",
       "      <td>13</td>\n",
       "      <td>500</td>\n",
       "    </tr>\n",
       "    <tr>\n",
       "      <th>1</th>\n",
       "      <td>Alcona County</td>\n",
       "      <td>001</td>\n",
       "      <td>CALEDONIA TOWNSHIP; 1</td>\n",
       "      <td>178</td>\n",
       "      <td>4</td>\n",
       "      <td>14</td>\n",
       "      <td>441</td>\n",
       "    </tr>\n",
       "    <tr>\n",
       "      <th>2</th>\n",
       "      <td>Alcona County</td>\n",
       "      <td>001</td>\n",
       "      <td>CURTIS TOWNSHIP; 1</td>\n",
       "      <td>214</td>\n",
       "      <td>13</td>\n",
       "      <td>8</td>\n",
       "      <td>401</td>\n",
       "    </tr>\n",
       "  </tbody>\n",
       "</table>\n",
       "</div>"
      ],
      "text/plain": [
       "     county_name county_fips               precinct  votes_democratic  \\\n",
       "0  Alcona County         001     ALCONA TOWNSHIP; 1               199   \n",
       "1  Alcona County         001  CALEDONIA TOWNSHIP; 1               178   \n",
       "2  Alcona County         001     CURTIS TOWNSHIP; 1               214   \n",
       "\n",
       "   votes_green  votes_libertarian  votes_republican  \n",
       "0            2                 13               500  \n",
       "1            4                 14               441  \n",
       "2           13                  8               401  "
      ]
     },
     "execution_count": 134,
     "metadata": {},
     "output_type": "execute_result"
    }
   ],
   "source": [
    "mi_pivot['county_fips'] = mi_pivot['county_fips'].str[2:]\n",
    "mi_pivot.head(3)"
   ]
  },
  {
   "cell_type": "markdown",
   "metadata": {},
   "source": [
    "Checking that the county fips in both the election results and precincts looks good. They do. "
   ]
  },
  {
   "cell_type": "code",
   "execution_count": 135,
   "metadata": {},
   "outputs": [
    {
     "name": "stdout",
     "output_type": "stream",
     "text": [
      "['001', '003', '005', '007', '009', '011', '013', '015', '017', '019', '021', '023', '025', '027', '029', '031', '033', '035', '037', '039', '041', '043', '045', '047', '049', '051', '053', '055', '057', '059', '061', '063', '065', '067', '069', '071', '073', '075', '077', '079', '081', '083', '085', '087', '089', '091', '093', '095', '097', '099', '101', '103', '105', '107', '109', '111', '113', '115', '117', '119', '121', '123', '125', '127', '129', '131', '133', '135', '137', '139', '141', '143', '145', '147', '149', '151', '153', '155', '157', '159', '161', '163', '165']\n",
      "['001', '003', '005', '007', '009', '011', '013', '015', '017', '019', '021', '023', '025', '027', '029', '031', '033', '035', '037', '039', '041', '043', '045', '047', '049', '051', '053', '055', '057', '059', '061', '063', '065', '067', '069', '071', '073', '075', '077', '079', '081', '083', '085', '087', '089', '091', '093', '095', '097', '099', '101', '103', '105', '107', '109', '111', '113', '115', '117', '119', '121', '123', '125', '127', '129', '131', '133', '135', '137', '139', '141', '143', '145', '147', '149', '151', '153', '155', '157', '159', '161', '163', '165']\n",
      "county_fips\n",
      "001      12\n",
      "003      10\n",
      "005      46\n",
      "007      17\n",
      "009      16\n",
      "       ... \n",
      "157      31\n",
      "159      33\n",
      "161     141\n",
      "163    1171\n",
      "165      20\n",
      "Name: precinct, Length: 83, dtype: int64\n",
      "CountyFips\n",
      "001     12\n",
      "003     10\n",
      "005     46\n",
      "007     17\n",
      "009     16\n",
      "      ... \n",
      "157     31\n",
      "159     33\n",
      "161    141\n",
      "163    999\n",
      "165     20\n",
      "Name: Label, Length: 83, dtype: int64\n"
     ]
    }
   ],
   "source": [
    "print(sorted(mi_pivot['county_fips'].unique()))\n",
    "print(sorted(precincts['CountyFips'].unique()))\n",
    "print(mi_pivot.groupby('county_fips').precinct.nunique())\n",
    "print(precincts.groupby('CountyFips').Label.nunique())"
   ]
  },
  {
   "cell_type": "markdown",
   "metadata": {},
   "source": [
    "Saving the # of unique precincts by county into csvs to compare.. they look really similar. "
   ]
  },
  {
   "cell_type": "code",
   "execution_count": 136,
   "metadata": {},
   "outputs": [],
   "source": [
    "mi_pivot.groupby('county_fips').precinct.nunique().to_csv('election_result_precincts_by_county.csv')\n",
    "precincts.groupby('CountyFips').Label.nunique().to_csv('shapefile_precincts_by_county.csv')"
   ]
  },
  {
   "cell_type": "markdown",
   "metadata": {},
   "source": [
    "Make Label and Precinct uppercase in both DFs so that they join. "
   ]
  },
  {
   "cell_type": "code",
   "execution_count": 137,
   "metadata": {},
   "outputs": [],
   "source": [
    "mi_pivot['precinct'] = mi_pivot['precinct'].str.upper() \n",
    "precincts['Label'] = precincts['Label'].str.upper() "
   ]
  },
  {
   "cell_type": "markdown",
   "metadata": {},
   "source": [
    "Make a new column in each DF that is the unique combination of county fips and the precinct to join on. "
   ]
  },
  {
   "cell_type": "code",
   "execution_count": 138,
   "metadata": {},
   "outputs": [],
   "source": [
    "mi_pivot['county_precinct'] = mi_pivot['county_fips'] + mi_pivot['precinct']\n",
    "precincts['county_precinct'] = precincts['CountyFips'] + precincts['Label']"
   ]
  },
  {
   "cell_type": "markdown",
   "metadata": {},
   "source": [
    "Check that everything is ready to merge.. "
   ]
  },
  {
   "cell_type": "code",
   "execution_count": 139,
   "metadata": {},
   "outputs": [
    {
     "data": {
      "text/html": [
       "<div>\n",
       "<style scoped>\n",
       "    .dataframe tbody tr th:only-of-type {\n",
       "        vertical-align: middle;\n",
       "    }\n",
       "\n",
       "    .dataframe tbody tr th {\n",
       "        vertical-align: top;\n",
       "    }\n",
       "\n",
       "    .dataframe thead th {\n",
       "        text-align: right;\n",
       "    }\n",
       "</style>\n",
       "<table border=\"1\" class=\"dataframe\">\n",
       "  <thead>\n",
       "    <tr style=\"text-align: right;\">\n",
       "      <th></th>\n",
       "      <th>county_name</th>\n",
       "      <th>county_fips</th>\n",
       "      <th>precinct</th>\n",
       "      <th>votes_democratic</th>\n",
       "      <th>votes_green</th>\n",
       "      <th>votes_libertarian</th>\n",
       "      <th>votes_republican</th>\n",
       "      <th>county_precinct</th>\n",
       "    </tr>\n",
       "  </thead>\n",
       "  <tbody>\n",
       "    <tr>\n",
       "      <th>0</th>\n",
       "      <td>Alcona County</td>\n",
       "      <td>001</td>\n",
       "      <td>ALCONA TOWNSHIP; 1</td>\n",
       "      <td>199</td>\n",
       "      <td>2</td>\n",
       "      <td>13</td>\n",
       "      <td>500</td>\n",
       "      <td>001ALCONA TOWNSHIP; 1</td>\n",
       "    </tr>\n",
       "    <tr>\n",
       "      <th>1</th>\n",
       "      <td>Alcona County</td>\n",
       "      <td>001</td>\n",
       "      <td>CALEDONIA TOWNSHIP; 1</td>\n",
       "      <td>178</td>\n",
       "      <td>4</td>\n",
       "      <td>14</td>\n",
       "      <td>441</td>\n",
       "      <td>001CALEDONIA TOWNSHIP; 1</td>\n",
       "    </tr>\n",
       "    <tr>\n",
       "      <th>2</th>\n",
       "      <td>Alcona County</td>\n",
       "      <td>001</td>\n",
       "      <td>CURTIS TOWNSHIP; 1</td>\n",
       "      <td>214</td>\n",
       "      <td>13</td>\n",
       "      <td>8</td>\n",
       "      <td>401</td>\n",
       "      <td>001CURTIS TOWNSHIP; 1</td>\n",
       "    </tr>\n",
       "  </tbody>\n",
       "</table>\n",
       "</div>"
      ],
      "text/plain": [
       "     county_name county_fips               precinct  votes_democratic  \\\n",
       "0  Alcona County         001     ALCONA TOWNSHIP; 1               199   \n",
       "1  Alcona County         001  CALEDONIA TOWNSHIP; 1               178   \n",
       "2  Alcona County         001     CURTIS TOWNSHIP; 1               214   \n",
       "\n",
       "   votes_green  votes_libertarian  votes_republican           county_precinct  \n",
       "0            2                 13               500     001ALCONA TOWNSHIP; 1  \n",
       "1            4                 14               441  001CALEDONIA TOWNSHIP; 1  \n",
       "2           13                  8               401     001CURTIS TOWNSHIP; 1  "
      ]
     },
     "execution_count": 139,
     "metadata": {},
     "output_type": "execute_result"
    }
   ],
   "source": [
    "mi_pivot.head(3)"
   ]
  },
  {
   "cell_type": "code",
   "execution_count": 140,
   "metadata": {},
   "outputs": [
    {
     "data": {
      "text/html": [
       "<div>\n",
       "<style scoped>\n",
       "    .dataframe tbody tr th:only-of-type {\n",
       "        vertical-align: middle;\n",
       "    }\n",
       "\n",
       "    .dataframe tbody tr th {\n",
       "        vertical-align: top;\n",
       "    }\n",
       "\n",
       "    .dataframe thead th {\n",
       "        text-align: right;\n",
       "    }\n",
       "</style>\n",
       "<table border=\"1\" class=\"dataframe\">\n",
       "  <thead>\n",
       "    <tr style=\"text-align: right;\">\n",
       "      <th></th>\n",
       "      <th>OBJECTID</th>\n",
       "      <th>Id</th>\n",
       "      <th>VTD2016</th>\n",
       "      <th>CountyFips</th>\n",
       "      <th>Jurisdicti</th>\n",
       "      <th>ElectionYe</th>\n",
       "      <th>Label</th>\n",
       "      <th>ShapeSTAre</th>\n",
       "      <th>ShapeSTLen</th>\n",
       "      <th>geometry</th>\n",
       "      <th>...</th>\n",
       "      <th>BVAP</th>\n",
       "      <th>AMINVAP</th>\n",
       "      <th>ASIANVAP</th>\n",
       "      <th>NHPIVAP</th>\n",
       "      <th>OTHERVAP</th>\n",
       "      <th>2MOREVAP</th>\n",
       "      <th>SEN_DIST</th>\n",
       "      <th>H_DIST</th>\n",
       "      <th>CONGRESSIONAL_DISTRICTS</th>\n",
       "      <th>county_precinct</th>\n",
       "    </tr>\n",
       "  </thead>\n",
       "  <tbody>\n",
       "    <tr>\n",
       "      <th>0</th>\n",
       "      <td>1</td>\n",
       "      <td>3888</td>\n",
       "      <td>1632100000001</td>\n",
       "      <td>163</td>\n",
       "      <td>21000</td>\n",
       "      <td>2016</td>\n",
       "      <td>DEARBORN CITY; 1</td>\n",
       "      <td>2.489738e+06</td>\n",
       "      <td>6846.254657</td>\n",
       "      <td>POLYGON ((734740.564 203392.197, 734729.230 20...</td>\n",
       "      <td>...</td>\n",
       "      <td>75</td>\n",
       "      <td>2</td>\n",
       "      <td>20</td>\n",
       "      <td>0</td>\n",
       "      <td>6</td>\n",
       "      <td>101</td>\n",
       "      <td>003</td>\n",
       "      <td>015</td>\n",
       "      <td>12</td>\n",
       "      <td>163DEARBORN CITY; 1</td>\n",
       "    </tr>\n",
       "    <tr>\n",
       "      <th>1</th>\n",
       "      <td>2</td>\n",
       "      <td>3889</td>\n",
       "      <td>1632100000002</td>\n",
       "      <td>163</td>\n",
       "      <td>21000</td>\n",
       "      <td>2016</td>\n",
       "      <td>DEARBORN CITY; 2</td>\n",
       "      <td>1.058362e+06</td>\n",
       "      <td>4621.388992</td>\n",
       "      <td>POLYGON ((733757.240 203553.421, 733767.280 20...</td>\n",
       "      <td>...</td>\n",
       "      <td>41</td>\n",
       "      <td>3</td>\n",
       "      <td>16</td>\n",
       "      <td>0</td>\n",
       "      <td>1</td>\n",
       "      <td>128</td>\n",
       "      <td>003</td>\n",
       "      <td>015</td>\n",
       "      <td>12</td>\n",
       "      <td>163DEARBORN CITY; 2</td>\n",
       "    </tr>\n",
       "    <tr>\n",
       "      <th>2</th>\n",
       "      <td>3</td>\n",
       "      <td>3890</td>\n",
       "      <td>1632100000003</td>\n",
       "      <td>163</td>\n",
       "      <td>21000</td>\n",
       "      <td>2016</td>\n",
       "      <td>DEARBORN CITY; 3</td>\n",
       "      <td>1.488846e+06</td>\n",
       "      <td>4909.715171</td>\n",
       "      <td>POLYGON ((733220.680 203094.269, 733125.455 20...</td>\n",
       "      <td>...</td>\n",
       "      <td>43</td>\n",
       "      <td>2</td>\n",
       "      <td>30</td>\n",
       "      <td>1</td>\n",
       "      <td>3</td>\n",
       "      <td>132</td>\n",
       "      <td>003</td>\n",
       "      <td>009</td>\n",
       "      <td>12</td>\n",
       "      <td>163DEARBORN CITY; 3</td>\n",
       "    </tr>\n",
       "  </tbody>\n",
       "</table>\n",
       "<p>3 rows × 32 columns</p>\n",
       "</div>"
      ],
      "text/plain": [
       "   OBJECTID    Id        VTD2016 CountyFips Jurisdicti  ElectionYe  \\\n",
       "0         1  3888  1632100000001        163      21000        2016   \n",
       "1         2  3889  1632100000002        163      21000        2016   \n",
       "2         3  3890  1632100000003        163      21000        2016   \n",
       "\n",
       "              Label    ShapeSTAre   ShapeSTLen  \\\n",
       "0  DEARBORN CITY; 1  2.489738e+06  6846.254657   \n",
       "1  DEARBORN CITY; 2  1.058362e+06  4621.388992   \n",
       "2  DEARBORN CITY; 3  1.488846e+06  4909.715171   \n",
       "\n",
       "                                            geometry  ...  BVAP  AMINVAP  \\\n",
       "0  POLYGON ((734740.564 203392.197, 734729.230 20...  ...    75        2   \n",
       "1  POLYGON ((733757.240 203553.421, 733767.280 20...  ...    41        3   \n",
       "2  POLYGON ((733220.680 203094.269, 733125.455 20...  ...    43        2   \n",
       "\n",
       "   ASIANVAP  NHPIVAP  OTHERVAP  2MOREVAP  SEN_DIST  H_DIST  \\\n",
       "0        20        0         6       101       003     015   \n",
       "1        16        0         1       128       003     015   \n",
       "2        30        1         3       132       003     009   \n",
       "\n",
       "   CONGRESSIONAL_DISTRICTS      county_precinct  \n",
       "0                       12  163DEARBORN CITY; 1  \n",
       "1                       12  163DEARBORN CITY; 2  \n",
       "2                       12  163DEARBORN CITY; 3  \n",
       "\n",
       "[3 rows x 32 columns]"
      ]
     },
     "execution_count": 140,
     "metadata": {},
     "output_type": "execute_result"
    }
   ],
   "source": [
    "precincts.head(3)"
   ]
  },
  {
   "cell_type": "markdown",
   "metadata": {},
   "source": [
    "## Join Attempt #1"
   ]
  },
  {
   "cell_type": "markdown",
   "metadata": {},
   "source": [
    "Merge the two DFs - outer join so that we can see the mismatches between the two. "
   ]
  },
  {
   "cell_type": "code",
   "execution_count": 141,
   "metadata": {},
   "outputs": [],
   "source": [
    "df_merged_outer = precincts.merge(mi_pivot, how = 'outer', on = 'county_precinct', indicator = True)"
   ]
  },
  {
   "cell_type": "markdown",
   "metadata": {},
   "source": [
    "See how things look after merge"
   ]
  },
  {
   "cell_type": "code",
   "execution_count": 142,
   "metadata": {},
   "outputs": [
    {
     "data": {
      "text/html": [
       "<div>\n",
       "<style scoped>\n",
       "    .dataframe tbody tr th:only-of-type {\n",
       "        vertical-align: middle;\n",
       "    }\n",
       "\n",
       "    .dataframe tbody tr th {\n",
       "        vertical-align: top;\n",
       "    }\n",
       "\n",
       "    .dataframe thead th {\n",
       "        text-align: right;\n",
       "    }\n",
       "</style>\n",
       "<table border=\"1\" class=\"dataframe\">\n",
       "  <thead>\n",
       "    <tr style=\"text-align: right;\">\n",
       "      <th></th>\n",
       "      <th>OBJECTID</th>\n",
       "      <th>Id</th>\n",
       "      <th>VTD2016</th>\n",
       "      <th>CountyFips</th>\n",
       "      <th>Jurisdicti</th>\n",
       "      <th>ElectionYe</th>\n",
       "      <th>Label</th>\n",
       "      <th>ShapeSTAre</th>\n",
       "      <th>ShapeSTLen</th>\n",
       "      <th>geometry</th>\n",
       "      <th>...</th>\n",
       "      <th>CONGRESSIONAL_DISTRICTS</th>\n",
       "      <th>county_precinct</th>\n",
       "      <th>county_name</th>\n",
       "      <th>county_fips</th>\n",
       "      <th>precinct</th>\n",
       "      <th>votes_democratic</th>\n",
       "      <th>votes_green</th>\n",
       "      <th>votes_libertarian</th>\n",
       "      <th>votes_republican</th>\n",
       "      <th>_merge</th>\n",
       "    </tr>\n",
       "  </thead>\n",
       "  <tbody>\n",
       "    <tr>\n",
       "      <th>0</th>\n",
       "      <td>1.0</td>\n",
       "      <td>3888.0</td>\n",
       "      <td>1632100000001</td>\n",
       "      <td>163</td>\n",
       "      <td>21000</td>\n",
       "      <td>2016.0</td>\n",
       "      <td>DEARBORN CITY; 1</td>\n",
       "      <td>2.489738e+06</td>\n",
       "      <td>6846.254657</td>\n",
       "      <td>POLYGON ((734740.564 203392.197, 734729.230 20...</td>\n",
       "      <td>...</td>\n",
       "      <td>12</td>\n",
       "      <td>163DEARBORN CITY; 1</td>\n",
       "      <td>Wayne County</td>\n",
       "      <td>163</td>\n",
       "      <td>DEARBORN CITY; 1</td>\n",
       "      <td>581.0</td>\n",
       "      <td>17.0</td>\n",
       "      <td>11.0</td>\n",
       "      <td>93.0</td>\n",
       "      <td>both</td>\n",
       "    </tr>\n",
       "    <tr>\n",
       "      <th>1</th>\n",
       "      <td>2.0</td>\n",
       "      <td>3889.0</td>\n",
       "      <td>1632100000002</td>\n",
       "      <td>163</td>\n",
       "      <td>21000</td>\n",
       "      <td>2016.0</td>\n",
       "      <td>DEARBORN CITY; 2</td>\n",
       "      <td>1.058362e+06</td>\n",
       "      <td>4621.388992</td>\n",
       "      <td>POLYGON ((733757.240 203553.421, 733767.280 20...</td>\n",
       "      <td>...</td>\n",
       "      <td>12</td>\n",
       "      <td>163DEARBORN CITY; 2</td>\n",
       "      <td>Wayne County</td>\n",
       "      <td>163</td>\n",
       "      <td>DEARBORN CITY; 2</td>\n",
       "      <td>560.0</td>\n",
       "      <td>23.0</td>\n",
       "      <td>9.0</td>\n",
       "      <td>95.0</td>\n",
       "      <td>both</td>\n",
       "    </tr>\n",
       "    <tr>\n",
       "      <th>2</th>\n",
       "      <td>3.0</td>\n",
       "      <td>3890.0</td>\n",
       "      <td>1632100000003</td>\n",
       "      <td>163</td>\n",
       "      <td>21000</td>\n",
       "      <td>2016.0</td>\n",
       "      <td>DEARBORN CITY; 3</td>\n",
       "      <td>1.488846e+06</td>\n",
       "      <td>4909.715171</td>\n",
       "      <td>POLYGON ((733220.680 203094.269, 733125.455 20...</td>\n",
       "      <td>...</td>\n",
       "      <td>12</td>\n",
       "      <td>163DEARBORN CITY; 3</td>\n",
       "      <td>Wayne County</td>\n",
       "      <td>163</td>\n",
       "      <td>DEARBORN CITY; 3</td>\n",
       "      <td>756.0</td>\n",
       "      <td>52.0</td>\n",
       "      <td>13.0</td>\n",
       "      <td>171.0</td>\n",
       "      <td>both</td>\n",
       "    </tr>\n",
       "  </tbody>\n",
       "</table>\n",
       "<p>3 rows × 40 columns</p>\n",
       "</div>"
      ],
      "text/plain": [
       "   OBJECTID      Id        VTD2016 CountyFips Jurisdicti  ElectionYe  \\\n",
       "0       1.0  3888.0  1632100000001        163      21000      2016.0   \n",
       "1       2.0  3889.0  1632100000002        163      21000      2016.0   \n",
       "2       3.0  3890.0  1632100000003        163      21000      2016.0   \n",
       "\n",
       "              Label    ShapeSTAre   ShapeSTLen  \\\n",
       "0  DEARBORN CITY; 1  2.489738e+06  6846.254657   \n",
       "1  DEARBORN CITY; 2  1.058362e+06  4621.388992   \n",
       "2  DEARBORN CITY; 3  1.488846e+06  4909.715171   \n",
       "\n",
       "                                            geometry  ...  \\\n",
       "0  POLYGON ((734740.564 203392.197, 734729.230 20...  ...   \n",
       "1  POLYGON ((733757.240 203553.421, 733767.280 20...  ...   \n",
       "2  POLYGON ((733220.680 203094.269, 733125.455 20...  ...   \n",
       "\n",
       "   CONGRESSIONAL_DISTRICTS      county_precinct   county_name  county_fips  \\\n",
       "0                       12  163DEARBORN CITY; 1  Wayne County          163   \n",
       "1                       12  163DEARBORN CITY; 2  Wayne County          163   \n",
       "2                       12  163DEARBORN CITY; 3  Wayne County          163   \n",
       "\n",
       "           precinct  votes_democratic  votes_green  votes_libertarian  \\\n",
       "0  DEARBORN CITY; 1             581.0         17.0               11.0   \n",
       "1  DEARBORN CITY; 2             560.0         23.0                9.0   \n",
       "2  DEARBORN CITY; 3             756.0         52.0               13.0   \n",
       "\n",
       "   votes_republican  _merge  \n",
       "0              93.0    both  \n",
       "1              95.0    both  \n",
       "2             171.0    both  \n",
       "\n",
       "[3 rows x 40 columns]"
      ]
     },
     "execution_count": 142,
     "metadata": {},
     "output_type": "execute_result"
    }
   ],
   "source": [
    "df_merged_outer.head(3)"
   ]
  },
  {
   "cell_type": "code",
   "execution_count": 143,
   "metadata": {},
   "outputs": [
    {
     "data": {
      "text/html": [
       "<div>\n",
       "<style scoped>\n",
       "    .dataframe tbody tr th:only-of-type {\n",
       "        vertical-align: middle;\n",
       "    }\n",
       "\n",
       "    .dataframe tbody tr th {\n",
       "        vertical-align: top;\n",
       "    }\n",
       "\n",
       "    .dataframe thead th {\n",
       "        text-align: right;\n",
       "    }\n",
       "</style>\n",
       "<table border=\"1\" class=\"dataframe\">\n",
       "  <thead>\n",
       "    <tr style=\"text-align: right;\">\n",
       "      <th></th>\n",
       "      <th>OBJECTID</th>\n",
       "      <th>Id</th>\n",
       "      <th>VTD2016</th>\n",
       "      <th>CountyFips</th>\n",
       "      <th>Jurisdicti</th>\n",
       "      <th>ElectionYe</th>\n",
       "      <th>Label</th>\n",
       "      <th>ShapeSTAre</th>\n",
       "      <th>ShapeSTLen</th>\n",
       "      <th>geometry</th>\n",
       "      <th>...</th>\n",
       "      <th>H_DIST</th>\n",
       "      <th>CONGRESSIONAL_DISTRICTS</th>\n",
       "      <th>county_precinct</th>\n",
       "      <th>county_name</th>\n",
       "      <th>county_fips</th>\n",
       "      <th>precinct</th>\n",
       "      <th>votes_democratic</th>\n",
       "      <th>votes_green</th>\n",
       "      <th>votes_libertarian</th>\n",
       "      <th>votes_republican</th>\n",
       "    </tr>\n",
       "    <tr>\n",
       "      <th>_merge</th>\n",
       "      <th></th>\n",
       "      <th></th>\n",
       "      <th></th>\n",
       "      <th></th>\n",
       "      <th></th>\n",
       "      <th></th>\n",
       "      <th></th>\n",
       "      <th></th>\n",
       "      <th></th>\n",
       "      <th></th>\n",
       "      <th></th>\n",
       "      <th></th>\n",
       "      <th></th>\n",
       "      <th></th>\n",
       "      <th></th>\n",
       "      <th></th>\n",
       "      <th></th>\n",
       "      <th></th>\n",
       "      <th></th>\n",
       "      <th></th>\n",
       "      <th></th>\n",
       "    </tr>\n",
       "  </thead>\n",
       "  <tbody>\n",
       "    <tr>\n",
       "      <th>left_only</th>\n",
       "      <td>970</td>\n",
       "      <td>970</td>\n",
       "      <td>970</td>\n",
       "      <td>970</td>\n",
       "      <td>970</td>\n",
       "      <td>970</td>\n",
       "      <td>970</td>\n",
       "      <td>970</td>\n",
       "      <td>970</td>\n",
       "      <td>970</td>\n",
       "      <td>...</td>\n",
       "      <td>970</td>\n",
       "      <td>970</td>\n",
       "      <td>970</td>\n",
       "      <td>0</td>\n",
       "      <td>0</td>\n",
       "      <td>0</td>\n",
       "      <td>0</td>\n",
       "      <td>0</td>\n",
       "      <td>0</td>\n",
       "      <td>0</td>\n",
       "    </tr>\n",
       "    <tr>\n",
       "      <th>right_only</th>\n",
       "      <td>0</td>\n",
       "      <td>0</td>\n",
       "      <td>0</td>\n",
       "      <td>0</td>\n",
       "      <td>0</td>\n",
       "      <td>0</td>\n",
       "      <td>0</td>\n",
       "      <td>0</td>\n",
       "      <td>0</td>\n",
       "      <td>0</td>\n",
       "      <td>...</td>\n",
       "      <td>0</td>\n",
       "      <td>0</td>\n",
       "      <td>1181</td>\n",
       "      <td>1181</td>\n",
       "      <td>1181</td>\n",
       "      <td>1181</td>\n",
       "      <td>1181</td>\n",
       "      <td>1181</td>\n",
       "      <td>1181</td>\n",
       "      <td>1181</td>\n",
       "    </tr>\n",
       "    <tr>\n",
       "      <th>both</th>\n",
       "      <td>3840</td>\n",
       "      <td>3840</td>\n",
       "      <td>3840</td>\n",
       "      <td>3840</td>\n",
       "      <td>3840</td>\n",
       "      <td>3840</td>\n",
       "      <td>3840</td>\n",
       "      <td>3840</td>\n",
       "      <td>3840</td>\n",
       "      <td>3840</td>\n",
       "      <td>...</td>\n",
       "      <td>3840</td>\n",
       "      <td>3840</td>\n",
       "      <td>3840</td>\n",
       "      <td>3840</td>\n",
       "      <td>3840</td>\n",
       "      <td>3840</td>\n",
       "      <td>3840</td>\n",
       "      <td>3840</td>\n",
       "      <td>3840</td>\n",
       "      <td>3840</td>\n",
       "    </tr>\n",
       "  </tbody>\n",
       "</table>\n",
       "<p>3 rows × 39 columns</p>\n",
       "</div>"
      ],
      "text/plain": [
       "            OBJECTID    Id  VTD2016  CountyFips  Jurisdicti  ElectionYe  \\\n",
       "_merge                                                                    \n",
       "left_only        970   970      970         970         970         970   \n",
       "right_only         0     0        0           0           0           0   \n",
       "both            3840  3840     3840        3840        3840        3840   \n",
       "\n",
       "            Label  ShapeSTAre  ShapeSTLen  geometry  ...  H_DIST  \\\n",
       "_merge                                               ...           \n",
       "left_only     970         970         970       970  ...     970   \n",
       "right_only      0           0           0         0  ...       0   \n",
       "both         3840        3840        3840      3840  ...    3840   \n",
       "\n",
       "            CONGRESSIONAL_DISTRICTS  county_precinct  county_name  \\\n",
       "_merge                                                              \n",
       "left_only                       970              970            0   \n",
       "right_only                        0             1181         1181   \n",
       "both                           3840             3840         3840   \n",
       "\n",
       "            county_fips  precinct  votes_democratic  votes_green  \\\n",
       "_merge                                                             \n",
       "left_only             0         0                 0            0   \n",
       "right_only         1181      1181              1181         1181   \n",
       "both               3840      3840              3840         3840   \n",
       "\n",
       "            votes_libertarian  votes_republican  \n",
       "_merge                                           \n",
       "left_only                   0                 0  \n",
       "right_only               1181              1181  \n",
       "both                     3840              3840  \n",
       "\n",
       "[3 rows x 39 columns]"
      ]
     },
     "execution_count": 143,
     "metadata": {},
     "output_type": "execute_result"
    }
   ],
   "source": [
    "df_merged_outer.groupby('_merge').count()"
   ]
  },
  {
   "cell_type": "code",
   "execution_count": 144,
   "metadata": {},
   "outputs": [
    {
     "name": "stdout",
     "output_type": "stream",
     "text": [
      "5991\n",
      "5021\n",
      "4810\n"
     ]
    }
   ],
   "source": [
    "print(len(df_merged_outer))\n",
    "print(len(mi_pivot))\n",
    "print(len(precincts))"
   ]
  },
  {
   "cell_type": "markdown",
   "metadata": {},
   "source": [
    "So it looks like 3,840 county/precinct combos merged, with 970 only in the precinct shapefile and 1181 only in the election results. See if there's anything curious about these. "
   ]
  },
  {
   "cell_type": "code",
   "execution_count": 145,
   "metadata": {},
   "outputs": [
    {
     "data": {
      "text/html": [
       "<div>\n",
       "<style scoped>\n",
       "    .dataframe tbody tr th:only-of-type {\n",
       "        vertical-align: middle;\n",
       "    }\n",
       "\n",
       "    .dataframe tbody tr th {\n",
       "        vertical-align: top;\n",
       "    }\n",
       "\n",
       "    .dataframe thead th {\n",
       "        text-align: right;\n",
       "    }\n",
       "</style>\n",
       "<table border=\"1\" class=\"dataframe\">\n",
       "  <thead>\n",
       "    <tr style=\"text-align: right;\">\n",
       "      <th></th>\n",
       "      <th>OBJECTID</th>\n",
       "      <th>Id</th>\n",
       "      <th>VTD2016</th>\n",
       "      <th>CountyFips</th>\n",
       "      <th>Jurisdicti</th>\n",
       "      <th>ElectionYe</th>\n",
       "      <th>Label</th>\n",
       "      <th>ShapeSTAre</th>\n",
       "      <th>ShapeSTLen</th>\n",
       "      <th>geometry</th>\n",
       "      <th>...</th>\n",
       "      <th>CONGRESSIONAL_DISTRICTS</th>\n",
       "      <th>county_precinct</th>\n",
       "      <th>county_name</th>\n",
       "      <th>county_fips</th>\n",
       "      <th>precinct</th>\n",
       "      <th>votes_democratic</th>\n",
       "      <th>votes_green</th>\n",
       "      <th>votes_libertarian</th>\n",
       "      <th>votes_republican</th>\n",
       "      <th>_merge</th>\n",
       "    </tr>\n",
       "  </thead>\n",
       "  <tbody>\n",
       "    <tr>\n",
       "      <th>5842</th>\n",
       "      <td>NaN</td>\n",
       "      <td>NaN</td>\n",
       "      <td>NaN</td>\n",
       "      <td>NaN</td>\n",
       "      <td>NaN</td>\n",
       "      <td>NaN</td>\n",
       "      <td>NaN</td>\n",
       "      <td>NaN</td>\n",
       "      <td>NaN</td>\n",
       "      <td>None</td>\n",
       "      <td>...</td>\n",
       "      <td>NaN</td>\n",
       "      <td>163DETROIT CITY; 915|AVCB</td>\n",
       "      <td>Wayne County</td>\n",
       "      <td>163</td>\n",
       "      <td>DETROIT CITY; 915|AVCB</td>\n",
       "      <td>292.0</td>\n",
       "      <td>0.0</td>\n",
       "      <td>0.0</td>\n",
       "      <td>18.0</td>\n",
       "      <td>right_only</td>\n",
       "    </tr>\n",
       "    <tr>\n",
       "      <th>4825</th>\n",
       "      <td>NaN</td>\n",
       "      <td>NaN</td>\n",
       "      <td>NaN</td>\n",
       "      <td>NaN</td>\n",
       "      <td>NaN</td>\n",
       "      <td>NaN</td>\n",
       "      <td>NaN</td>\n",
       "      <td>NaN</td>\n",
       "      <td>NaN</td>\n",
       "      <td>None</td>\n",
       "      <td>...</td>\n",
       "      <td>NaN</td>\n",
       "      <td>021BENTON HARBOR CITY; 3</td>\n",
       "      <td>Berrien County</td>\n",
       "      <td>021</td>\n",
       "      <td>BENTON HARBOR CITY; 3</td>\n",
       "      <td>916.0</td>\n",
       "      <td>2.0</td>\n",
       "      <td>4.0</td>\n",
       "      <td>17.0</td>\n",
       "      <td>right_only</td>\n",
       "    </tr>\n",
       "    <tr>\n",
       "      <th>5062</th>\n",
       "      <td>NaN</td>\n",
       "      <td>NaN</td>\n",
       "      <td>NaN</td>\n",
       "      <td>NaN</td>\n",
       "      <td>NaN</td>\n",
       "      <td>NaN</td>\n",
       "      <td>NaN</td>\n",
       "      <td>NaN</td>\n",
       "      <td>NaN</td>\n",
       "      <td>None</td>\n",
       "      <td>...</td>\n",
       "      <td>NaN</td>\n",
       "      <td>125LYON TOWNSHIP; 1</td>\n",
       "      <td>Oakland County</td>\n",
       "      <td>125</td>\n",
       "      <td>LYON TOWNSHIP; 1</td>\n",
       "      <td>586.0</td>\n",
       "      <td>12.0</td>\n",
       "      <td>80.0</td>\n",
       "      <td>920.0</td>\n",
       "      <td>right_only</td>\n",
       "    </tr>\n",
       "    <tr>\n",
       "      <th>5815</th>\n",
       "      <td>NaN</td>\n",
       "      <td>NaN</td>\n",
       "      <td>NaN</td>\n",
       "      <td>NaN</td>\n",
       "      <td>NaN</td>\n",
       "      <td>NaN</td>\n",
       "      <td>NaN</td>\n",
       "      <td>NaN</td>\n",
       "      <td>NaN</td>\n",
       "      <td>None</td>\n",
       "      <td>...</td>\n",
       "      <td>NaN</td>\n",
       "      <td>163DETROIT CITY; 80</td>\n",
       "      <td>Wayne County</td>\n",
       "      <td>163</td>\n",
       "      <td>DETROIT CITY; 80</td>\n",
       "      <td>736.0</td>\n",
       "      <td>3.0</td>\n",
       "      <td>2.0</td>\n",
       "      <td>18.0</td>\n",
       "      <td>right_only</td>\n",
       "    </tr>\n",
       "    <tr>\n",
       "      <th>5232</th>\n",
       "      <td>NaN</td>\n",
       "      <td>NaN</td>\n",
       "      <td>NaN</td>\n",
       "      <td>NaN</td>\n",
       "      <td>NaN</td>\n",
       "      <td>NaN</td>\n",
       "      <td>NaN</td>\n",
       "      <td>NaN</td>\n",
       "      <td>NaN</td>\n",
       "      <td>None</td>\n",
       "      <td>...</td>\n",
       "      <td>NaN</td>\n",
       "      <td>147CLAY TOWNSHIP; 901|AVCB</td>\n",
       "      <td>St. Clair County</td>\n",
       "      <td>147</td>\n",
       "      <td>CLAY TOWNSHIP; 901|AVCB</td>\n",
       "      <td>113.0</td>\n",
       "      <td>1.0</td>\n",
       "      <td>16.0</td>\n",
       "      <td>304.0</td>\n",
       "      <td>right_only</td>\n",
       "    </tr>\n",
       "  </tbody>\n",
       "</table>\n",
       "<p>5 rows × 40 columns</p>\n",
       "</div>"
      ],
      "text/plain": [
       "      OBJECTID  Id VTD2016 CountyFips Jurisdicti  ElectionYe Label  \\\n",
       "5842       NaN NaN     NaN        NaN        NaN         NaN   NaN   \n",
       "4825       NaN NaN     NaN        NaN        NaN         NaN   NaN   \n",
       "5062       NaN NaN     NaN        NaN        NaN         NaN   NaN   \n",
       "5815       NaN NaN     NaN        NaN        NaN         NaN   NaN   \n",
       "5232       NaN NaN     NaN        NaN        NaN         NaN   NaN   \n",
       "\n",
       "      ShapeSTAre  ShapeSTLen geometry  ...  CONGRESSIONAL_DISTRICTS  \\\n",
       "5842         NaN         NaN     None  ...                      NaN   \n",
       "4825         NaN         NaN     None  ...                      NaN   \n",
       "5062         NaN         NaN     None  ...                      NaN   \n",
       "5815         NaN         NaN     None  ...                      NaN   \n",
       "5232         NaN         NaN     None  ...                      NaN   \n",
       "\n",
       "                 county_precinct       county_name  county_fips  \\\n",
       "5842   163DETROIT CITY; 915|AVCB      Wayne County          163   \n",
       "4825    021BENTON HARBOR CITY; 3    Berrien County          021   \n",
       "5062         125LYON TOWNSHIP; 1    Oakland County          125   \n",
       "5815         163DETROIT CITY; 80      Wayne County          163   \n",
       "5232  147CLAY TOWNSHIP; 901|AVCB  St. Clair County          147   \n",
       "\n",
       "                     precinct  votes_democratic  votes_green  \\\n",
       "5842   DETROIT CITY; 915|AVCB             292.0          0.0   \n",
       "4825    BENTON HARBOR CITY; 3             916.0          2.0   \n",
       "5062         LYON TOWNSHIP; 1             586.0         12.0   \n",
       "5815         DETROIT CITY; 80             736.0          3.0   \n",
       "5232  CLAY TOWNSHIP; 901|AVCB             113.0          1.0   \n",
       "\n",
       "      votes_libertarian  votes_republican      _merge  \n",
       "5842                0.0              18.0  right_only  \n",
       "4825                4.0              17.0  right_only  \n",
       "5062               80.0             920.0  right_only  \n",
       "5815                2.0              18.0  right_only  \n",
       "5232               16.0             304.0  right_only  \n",
       "\n",
       "[5 rows x 40 columns]"
      ]
     },
     "execution_count": 145,
     "metadata": {},
     "output_type": "execute_result"
    }
   ],
   "source": [
    "df_merged_outer[df_merged_outer['_merge'] == 'right_only'].sample(5)"
   ]
  },
  {
   "cell_type": "markdown",
   "metadata": {},
   "source": [
    "Re-ran the above code several times, sampling from the left_only rows, with the precinct results open in a spreadsheet to cross-reference. Found the following: \n",
    "- fips 005: \"VILLAGE OF DOUGLAS CITY; 1\" in gdf, \"DOUGLAS CITY; 1\" in df\n",
    "- fips 163: \"DETROIT CITY; WARD 1; PRECINCT 359\" in gdf, in df there is \"DETROIT CITY; 359\"\n",
    "- fips 125: \"CHARTER TOWNSHIP OF BLOOMFIELD; 19\" in gdf, there are 34 precincts that look like this in the gdf but in the df they are just \"BLOOMFIELD TOWNSHIP; 19\"\n",
    "- fips 099: \"MT CLEMENS CITY; 9\" in gdf, \"MOUNT CLEMENS CITY; 9\" in df - there are several of these\n",
    "- fips 115: \"LASALLE TOWNSHIP; 1\" in gdf, \"LA SALLE TOWNSHIP; 1\" in df - there's 2 of these\n",
    "- fips 029: \"BOYNE CITY CITY; 16\" in gdf, \"BOYNE CITY; 16\" in df\n",
    "- fips 037: \"DEWITT TOWNSHIP; 2\" in gdf, \"DE WITT TOWNSHIP; 2\" in df - there's several of these, for township too\n",
    "\n",
    "Re-ran the above code several times, sampling from the right_only rows, with the precinct shapefile open in a spreadsheet to cross-reference. Found the following: \n",
    "- fips 125: \"WEST BLOOMFIELD TOWNSHIP; 8\" in df, \"CHARTER TOWNSHIP OF WEST BLOOMFIELD; 8\" in gdf - there are many of these\n",
    "- fips 021: \"NILES CITY; 2\" in df, \"NILES CITY; WARD 2; PRECINCT 2\" in gdf - there are 5 of these, the precincts are distinct across wards\n",
    "- fips 125: \"COMMERCE TOWNSHIP; 1\" in df, \"CHARTER TOWNSHIP OF COMMERCE; 1\" in gdf - there are many of these\n",
    "- fips 125: \"INDEPENDENCE TOWNSHIP; 4\" in df, \"CHARTER TOWNSHIP OF INDEPENDENCE; 4\" in gdf - there are many of these\n",
    "- fips 147: \"PORT HURON TOWNSHIP; 904|AVCB\" in df, \"PORT HURON TOWNSHIP; 4\" in gdf - several of these, not sure how to deal with AVCB\n",
    "\n",
    "See if we can match more by removing the following: \n",
    "- Remove 'VILLAGE OF' in both dfs\n",
    "- Make any 'CHARTER TOWNSHIP OF X' into 'TOWNSHIP X' in both dfs\n",
    "- Make any 'TOWNSHIP OF X' into 'TOWNSHIP X'\n",
    "- Make any 'X TOWNSHIP' into 'TOWNSHIP X'\n",
    "- Make any 'MT' into 'MOUNT' in both\n",
    "- Switch 'LASALLE' to 'LA SALLE', 'DE WITT' to 'DEWITT' in both\n",
    "- Make any 'CITY CITY' into 'CITY' in both\n",
    "- Make any 'ST.' be 'ST' and any 'SAINT' be 'ST'\n",
    "\n",
    "Then we should mostly be left with the AVCB, Detroit City, and 'Ward' issues. "
   ]
  },
  {
   "cell_type": "markdown",
   "metadata": {},
   "source": [
    "## String Manipulation to Improve Join"
   ]
  },
  {
   "cell_type": "markdown",
   "metadata": {},
   "source": [
    "Do the simple string removal in both dfs"
   ]
  },
  {
   "cell_type": "code",
   "execution_count": 146,
   "metadata": {},
   "outputs": [],
   "source": [
    "mi_pivot['precinct'] = mi_pivot['precinct'].map(lambda x: x.lstrip('VILLAGE OF '))\n",
    "precincts['Label'] = precincts['Label'].map(lambda x: x.lstrip('VILLAGE OF '))\n",
    "\n",
    "mi_pivot['precinct'] = mi_pivot['precinct'].map(lambda x: x.replace('MT','MOUNT'))\n",
    "precincts['Label'] = precincts['Label'].map(lambda x: x.replace('MT','MOUNT'))\n",
    "\n",
    "mi_pivot['precinct'] = mi_pivot['precinct'].map(lambda x: x.replace('LASALLE','LA SALLE'))\n",
    "precincts['Label'] = precincts['Label'].map(lambda x: x.replace('LASALLE','LA SALLE'))\n",
    "\n",
    "mi_pivot['precinct'] = mi_pivot['precinct'].map(lambda x: x.replace('DE WITT','DEWITT'))\n",
    "precincts['Label'] = precincts['Label'].map(lambda x: x.replace('DE WITT','DEWITT'))\n",
    "\n",
    "mi_pivot['precinct'] = mi_pivot['precinct'].map(lambda x: x.replace('CITY CITY','CITY'))\n",
    "precincts['Label'] = precincts['Label'].map(lambda x: x.replace('CITY CITY','CITY'))\n",
    "\n",
    "mi_pivot['precinct'] = mi_pivot['precinct'].map(lambda x: x.replace('ST.','ST'))\n",
    "precincts['Label'] = precincts['Label'].map(lambda x: x.replace('ST.','ST'))\n",
    "\n",
    "mi_pivot['precinct'] = mi_pivot['precinct'].map(lambda x: x.replace('SAINT','ST'))\n",
    "precincts['Label'] = precincts['Label'].map(lambda x: x.replace('SAINT','ST'))"
   ]
  },
  {
   "cell_type": "markdown",
   "metadata": {},
   "source": [
    "Figure out the Township X manipulations"
   ]
  },
  {
   "cell_type": "code",
   "execution_count": 147,
   "metadata": {},
   "outputs": [],
   "source": [
    "mi_pivot['precinct'] = mi_pivot['precinct'].map(lambda x: x.replace('CHARTER TOWNSHIP OF','TOWNSHIP') if 'CHARTER TOWNSHIP OF' in x else x)\n",
    "precincts['Label'] = precincts['Label'].map(lambda x: x.replace('CHARTER TOWNSHIP OF','TOWNSHIP') if 'CHARTER TOWNSHIP OF' in x else x)\n",
    "\n",
    "mi_pivot['precinct'] = mi_pivot['precinct'].map(lambda x: x.replace('TOWNSHIP OF','TOWNSHIP') if 'TOWNSHIP OF' in x else x)\n",
    "precincts['Label'] = precincts['Label'].map(lambda x: x.replace('TOWNSHIP OF','TOWNSHIP') if 'TOWNSHIP OF' in x else x)\n",
    "\n",
    "mi_pivot['precinct'] = mi_pivot['precinct'].map(lambda x: 'TOWNSHIP ' + x.replace(' TOWNSHIP','') if ' TOWNSHIP' in x else x)\n",
    "precincts['Label'] = precincts['Label'].map(lambda x: 'TOWNSHIP ' + x.replace(' TOWNSHIP','') if ' TOWNSHIP' in x else x)"
   ]
  },
  {
   "cell_type": "markdown",
   "metadata": {},
   "source": [
    "Re-make the county_precinct join columns now"
   ]
  },
  {
   "cell_type": "code",
   "execution_count": 148,
   "metadata": {},
   "outputs": [],
   "source": [
    "mi_pivot['county_precinct'] = mi_pivot['county_fips'] + mi_pivot['precinct']\n",
    "precincts['county_precinct'] = precincts['CountyFips'] + precincts['Label']"
   ]
  },
  {
   "cell_type": "markdown",
   "metadata": {},
   "source": [
    "## Join Attempt #2"
   ]
  },
  {
   "cell_type": "markdown",
   "metadata": {},
   "source": [
    "Try matching again and see how much this improves things"
   ]
  },
  {
   "cell_type": "code",
   "execution_count": 149,
   "metadata": {},
   "outputs": [],
   "source": [
    "df_merged_outer = precincts.merge(mi_pivot, how = 'outer', on = 'county_precinct', indicator = True)"
   ]
  },
  {
   "cell_type": "code",
   "execution_count": 150,
   "metadata": {},
   "outputs": [
    {
     "data": {
      "text/html": [
       "<div>\n",
       "<style scoped>\n",
       "    .dataframe tbody tr th:only-of-type {\n",
       "        vertical-align: middle;\n",
       "    }\n",
       "\n",
       "    .dataframe tbody tr th {\n",
       "        vertical-align: top;\n",
       "    }\n",
       "\n",
       "    .dataframe thead th {\n",
       "        text-align: right;\n",
       "    }\n",
       "</style>\n",
       "<table border=\"1\" class=\"dataframe\">\n",
       "  <thead>\n",
       "    <tr style=\"text-align: right;\">\n",
       "      <th></th>\n",
       "      <th>OBJECTID</th>\n",
       "      <th>Id</th>\n",
       "      <th>VTD2016</th>\n",
       "      <th>CountyFips</th>\n",
       "      <th>Jurisdicti</th>\n",
       "      <th>ElectionYe</th>\n",
       "      <th>Label</th>\n",
       "      <th>ShapeSTAre</th>\n",
       "      <th>ShapeSTLen</th>\n",
       "      <th>geometry</th>\n",
       "      <th>...</th>\n",
       "      <th>H_DIST</th>\n",
       "      <th>CONGRESSIONAL_DISTRICTS</th>\n",
       "      <th>county_precinct</th>\n",
       "      <th>county_name</th>\n",
       "      <th>county_fips</th>\n",
       "      <th>precinct</th>\n",
       "      <th>votes_democratic</th>\n",
       "      <th>votes_green</th>\n",
       "      <th>votes_libertarian</th>\n",
       "      <th>votes_republican</th>\n",
       "    </tr>\n",
       "    <tr>\n",
       "      <th>_merge</th>\n",
       "      <th></th>\n",
       "      <th></th>\n",
       "      <th></th>\n",
       "      <th></th>\n",
       "      <th></th>\n",
       "      <th></th>\n",
       "      <th></th>\n",
       "      <th></th>\n",
       "      <th></th>\n",
       "      <th></th>\n",
       "      <th></th>\n",
       "      <th></th>\n",
       "      <th></th>\n",
       "      <th></th>\n",
       "      <th></th>\n",
       "      <th></th>\n",
       "      <th></th>\n",
       "      <th></th>\n",
       "      <th></th>\n",
       "      <th></th>\n",
       "      <th></th>\n",
       "    </tr>\n",
       "  </thead>\n",
       "  <tbody>\n",
       "    <tr>\n",
       "      <th>left_only</th>\n",
       "      <td>679</td>\n",
       "      <td>679</td>\n",
       "      <td>679</td>\n",
       "      <td>679</td>\n",
       "      <td>679</td>\n",
       "      <td>679</td>\n",
       "      <td>679</td>\n",
       "      <td>679</td>\n",
       "      <td>679</td>\n",
       "      <td>679</td>\n",
       "      <td>...</td>\n",
       "      <td>679</td>\n",
       "      <td>679</td>\n",
       "      <td>679</td>\n",
       "      <td>0</td>\n",
       "      <td>0</td>\n",
       "      <td>0</td>\n",
       "      <td>0</td>\n",
       "      <td>0</td>\n",
       "      <td>0</td>\n",
       "      <td>0</td>\n",
       "    </tr>\n",
       "    <tr>\n",
       "      <th>right_only</th>\n",
       "      <td>0</td>\n",
       "      <td>0</td>\n",
       "      <td>0</td>\n",
       "      <td>0</td>\n",
       "      <td>0</td>\n",
       "      <td>0</td>\n",
       "      <td>0</td>\n",
       "      <td>0</td>\n",
       "      <td>0</td>\n",
       "      <td>0</td>\n",
       "      <td>...</td>\n",
       "      <td>0</td>\n",
       "      <td>0</td>\n",
       "      <td>892</td>\n",
       "      <td>892</td>\n",
       "      <td>892</td>\n",
       "      <td>892</td>\n",
       "      <td>892</td>\n",
       "      <td>892</td>\n",
       "      <td>892</td>\n",
       "      <td>892</td>\n",
       "    </tr>\n",
       "    <tr>\n",
       "      <th>both</th>\n",
       "      <td>4135</td>\n",
       "      <td>4135</td>\n",
       "      <td>4135</td>\n",
       "      <td>4135</td>\n",
       "      <td>4135</td>\n",
       "      <td>4135</td>\n",
       "      <td>4135</td>\n",
       "      <td>4135</td>\n",
       "      <td>4135</td>\n",
       "      <td>4135</td>\n",
       "      <td>...</td>\n",
       "      <td>4135</td>\n",
       "      <td>4135</td>\n",
       "      <td>4135</td>\n",
       "      <td>4135</td>\n",
       "      <td>4135</td>\n",
       "      <td>4135</td>\n",
       "      <td>4135</td>\n",
       "      <td>4135</td>\n",
       "      <td>4135</td>\n",
       "      <td>4135</td>\n",
       "    </tr>\n",
       "  </tbody>\n",
       "</table>\n",
       "<p>3 rows × 39 columns</p>\n",
       "</div>"
      ],
      "text/plain": [
       "            OBJECTID    Id  VTD2016  CountyFips  Jurisdicti  ElectionYe  \\\n",
       "_merge                                                                    \n",
       "left_only        679   679      679         679         679         679   \n",
       "right_only         0     0        0           0           0           0   \n",
       "both            4135  4135     4135        4135        4135        4135   \n",
       "\n",
       "            Label  ShapeSTAre  ShapeSTLen  geometry  ...  H_DIST  \\\n",
       "_merge                                               ...           \n",
       "left_only     679         679         679       679  ...     679   \n",
       "right_only      0           0           0         0  ...       0   \n",
       "both         4135        4135        4135      4135  ...    4135   \n",
       "\n",
       "            CONGRESSIONAL_DISTRICTS  county_precinct  county_name  \\\n",
       "_merge                                                              \n",
       "left_only                       679              679            0   \n",
       "right_only                        0              892          892   \n",
       "both                           4135             4135         4135   \n",
       "\n",
       "            county_fips  precinct  votes_democratic  votes_green  \\\n",
       "_merge                                                             \n",
       "left_only             0         0                 0            0   \n",
       "right_only          892       892               892          892   \n",
       "both               4135      4135              4135         4135   \n",
       "\n",
       "            votes_libertarian  votes_republican  \n",
       "_merge                                           \n",
       "left_only                   0                 0  \n",
       "right_only                892               892  \n",
       "both                     4135              4135  \n",
       "\n",
       "[3 rows x 39 columns]"
      ]
     },
     "execution_count": 150,
     "metadata": {},
     "output_type": "execute_result"
    }
   ],
   "source": [
    "df_merged_outer.groupby('_merge').count()"
   ]
  },
  {
   "cell_type": "markdown",
   "metadata": {},
   "source": [
    "Before there were 3840 precincts merged, now we're up to 4135. See what's left"
   ]
  },
  {
   "cell_type": "code",
   "execution_count": 151,
   "metadata": {},
   "outputs": [
    {
     "data": {
      "text/html": [
       "<div>\n",
       "<style scoped>\n",
       "    .dataframe tbody tr th:only-of-type {\n",
       "        vertical-align: middle;\n",
       "    }\n",
       "\n",
       "    .dataframe tbody tr th {\n",
       "        vertical-align: top;\n",
       "    }\n",
       "\n",
       "    .dataframe thead th {\n",
       "        text-align: right;\n",
       "    }\n",
       "</style>\n",
       "<table border=\"1\" class=\"dataframe\">\n",
       "  <thead>\n",
       "    <tr style=\"text-align: right;\">\n",
       "      <th></th>\n",
       "      <th>OBJECTID</th>\n",
       "      <th>Id</th>\n",
       "      <th>VTD2016</th>\n",
       "      <th>CountyFips</th>\n",
       "      <th>Jurisdicti</th>\n",
       "      <th>ElectionYe</th>\n",
       "      <th>Label</th>\n",
       "      <th>ShapeSTAre</th>\n",
       "      <th>ShapeSTLen</th>\n",
       "      <th>geometry</th>\n",
       "      <th>...</th>\n",
       "      <th>CONGRESSIONAL_DISTRICTS</th>\n",
       "      <th>county_precinct</th>\n",
       "      <th>county_name</th>\n",
       "      <th>county_fips</th>\n",
       "      <th>precinct</th>\n",
       "      <th>votes_democratic</th>\n",
       "      <th>votes_green</th>\n",
       "      <th>votes_libertarian</th>\n",
       "      <th>votes_republican</th>\n",
       "      <th>_merge</th>\n",
       "    </tr>\n",
       "  </thead>\n",
       "  <tbody>\n",
       "    <tr>\n",
       "      <th>4929</th>\n",
       "      <td>NaN</td>\n",
       "      <td>NaN</td>\n",
       "      <td>NaN</td>\n",
       "      <td>NaN</td>\n",
       "      <td>NaN</td>\n",
       "      <td>NaN</td>\n",
       "      <td>NaN</td>\n",
       "      <td>NaN</td>\n",
       "      <td>NaN</td>\n",
       "      <td>None</td>\n",
       "      <td>...</td>\n",
       "      <td>NaN</td>\n",
       "      <td>125TOWNSHIP XFORD; 2</td>\n",
       "      <td>Oakland County</td>\n",
       "      <td>125</td>\n",
       "      <td>TOWNSHIP XFORD; 2</td>\n",
       "      <td>358.0</td>\n",
       "      <td>5.0</td>\n",
       "      <td>69.0</td>\n",
       "      <td>695.0</td>\n",
       "      <td>right_only</td>\n",
       "    </tr>\n",
       "    <tr>\n",
       "      <th>5248</th>\n",
       "      <td>NaN</td>\n",
       "      <td>NaN</td>\n",
       "      <td>NaN</td>\n",
       "      <td>NaN</td>\n",
       "      <td>NaN</td>\n",
       "      <td>NaN</td>\n",
       "      <td>NaN</td>\n",
       "      <td>NaN</td>\n",
       "      <td>NaN</td>\n",
       "      <td>None</td>\n",
       "      <td>...</td>\n",
       "      <td>NaN</td>\n",
       "      <td>163DETROIT CITY; 259</td>\n",
       "      <td>Wayne County</td>\n",
       "      <td>163</td>\n",
       "      <td>DETROIT CITY; 259</td>\n",
       "      <td>436.0</td>\n",
       "      <td>6.0</td>\n",
       "      <td>3.0</td>\n",
       "      <td>12.0</td>\n",
       "      <td>right_only</td>\n",
       "    </tr>\n",
       "    <tr>\n",
       "      <th>5484</th>\n",
       "      <td>NaN</td>\n",
       "      <td>NaN</td>\n",
       "      <td>NaN</td>\n",
       "      <td>NaN</td>\n",
       "      <td>NaN</td>\n",
       "      <td>NaN</td>\n",
       "      <td>NaN</td>\n",
       "      <td>NaN</td>\n",
       "      <td>NaN</td>\n",
       "      <td>None</td>\n",
       "      <td>...</td>\n",
       "      <td>NaN</td>\n",
       "      <td>163DETROIT CITY; 471</td>\n",
       "      <td>Wayne County</td>\n",
       "      <td>163</td>\n",
       "      <td>DETROIT CITY; 471</td>\n",
       "      <td>13.0</td>\n",
       "      <td>0.0</td>\n",
       "      <td>1.0</td>\n",
       "      <td>3.0</td>\n",
       "      <td>right_only</td>\n",
       "    </tr>\n",
       "    <tr>\n",
       "      <th>5576</th>\n",
       "      <td>NaN</td>\n",
       "      <td>NaN</td>\n",
       "      <td>NaN</td>\n",
       "      <td>NaN</td>\n",
       "      <td>NaN</td>\n",
       "      <td>NaN</td>\n",
       "      <td>NaN</td>\n",
       "      <td>NaN</td>\n",
       "      <td>NaN</td>\n",
       "      <td>None</td>\n",
       "      <td>...</td>\n",
       "      <td>NaN</td>\n",
       "      <td>163DETROIT CITY; 923|AVCB</td>\n",
       "      <td>Wayne County</td>\n",
       "      <td>163</td>\n",
       "      <td>DETROIT CITY; 923|AVCB</td>\n",
       "      <td>221.0</td>\n",
       "      <td>1.0</td>\n",
       "      <td>2.0</td>\n",
       "      <td>6.0</td>\n",
       "      <td>right_only</td>\n",
       "    </tr>\n",
       "    <tr>\n",
       "      <th>5109</th>\n",
       "      <td>NaN</td>\n",
       "      <td>NaN</td>\n",
       "      <td>NaN</td>\n",
       "      <td>NaN</td>\n",
       "      <td>NaN</td>\n",
       "      <td>NaN</td>\n",
       "      <td>NaN</td>\n",
       "      <td>NaN</td>\n",
       "      <td>NaN</td>\n",
       "      <td>None</td>\n",
       "      <td>...</td>\n",
       "      <td>NaN</td>\n",
       "      <td>163DETROIT CITY; 133</td>\n",
       "      <td>Wayne County</td>\n",
       "      <td>163</td>\n",
       "      <td>DETROIT CITY; 133</td>\n",
       "      <td>504.0</td>\n",
       "      <td>9.0</td>\n",
       "      <td>11.0</td>\n",
       "      <td>47.0</td>\n",
       "      <td>right_only</td>\n",
       "    </tr>\n",
       "  </tbody>\n",
       "</table>\n",
       "<p>5 rows × 40 columns</p>\n",
       "</div>"
      ],
      "text/plain": [
       "      OBJECTID  Id VTD2016 CountyFips Jurisdicti  ElectionYe Label  \\\n",
       "4929       NaN NaN     NaN        NaN        NaN         NaN   NaN   \n",
       "5248       NaN NaN     NaN        NaN        NaN         NaN   NaN   \n",
       "5484       NaN NaN     NaN        NaN        NaN         NaN   NaN   \n",
       "5576       NaN NaN     NaN        NaN        NaN         NaN   NaN   \n",
       "5109       NaN NaN     NaN        NaN        NaN         NaN   NaN   \n",
       "\n",
       "      ShapeSTAre  ShapeSTLen geometry  ...  CONGRESSIONAL_DISTRICTS  \\\n",
       "4929         NaN         NaN     None  ...                      NaN   \n",
       "5248         NaN         NaN     None  ...                      NaN   \n",
       "5484         NaN         NaN     None  ...                      NaN   \n",
       "5576         NaN         NaN     None  ...                      NaN   \n",
       "5109         NaN         NaN     None  ...                      NaN   \n",
       "\n",
       "                county_precinct     county_name  county_fips  \\\n",
       "4929       125TOWNSHIP XFORD; 2  Oakland County          125   \n",
       "5248       163DETROIT CITY; 259    Wayne County          163   \n",
       "5484       163DETROIT CITY; 471    Wayne County          163   \n",
       "5576  163DETROIT CITY; 923|AVCB    Wayne County          163   \n",
       "5109       163DETROIT CITY; 133    Wayne County          163   \n",
       "\n",
       "                    precinct  votes_democratic  votes_green  \\\n",
       "4929       TOWNSHIP XFORD; 2             358.0          5.0   \n",
       "5248       DETROIT CITY; 259             436.0          6.0   \n",
       "5484       DETROIT CITY; 471              13.0          0.0   \n",
       "5576  DETROIT CITY; 923|AVCB             221.0          1.0   \n",
       "5109       DETROIT CITY; 133             504.0          9.0   \n",
       "\n",
       "      votes_libertarian  votes_republican      _merge  \n",
       "4929               69.0             695.0  right_only  \n",
       "5248                3.0              12.0  right_only  \n",
       "5484                1.0               3.0  right_only  \n",
       "5576                2.0               6.0  right_only  \n",
       "5109               11.0              47.0  right_only  \n",
       "\n",
       "[5 rows x 40 columns]"
      ]
     },
     "execution_count": 151,
     "metadata": {},
     "output_type": "execute_result"
    }
   ],
   "source": [
    "df_merged_outer[df_merged_outer['_merge'] == 'right_only'].sample(5)"
   ]
  },
  {
   "cell_type": "markdown",
   "metadata": {},
   "source": [
    "A lot of what is left seems to be Detroit city."
   ]
  },
  {
   "cell_type": "markdown",
   "metadata": {},
   "source": [
    "## Remove AVCB and make Detroit City changes"
   ]
  },
  {
   "cell_type": "markdown",
   "metadata": {},
   "source": [
    "Explore the Detroit City AVCB ones a bit. From looking at the files in excel, only the election results have AVCB. If we remove these - does that make the difference? "
   ]
  },
  {
   "cell_type": "code",
   "execution_count": 152,
   "metadata": {},
   "outputs": [
    {
     "data": {
      "text/html": [
       "<div>\n",
       "<style scoped>\n",
       "    .dataframe tbody tr th:only-of-type {\n",
       "        vertical-align: middle;\n",
       "    }\n",
       "\n",
       "    .dataframe tbody tr th {\n",
       "        vertical-align: top;\n",
       "    }\n",
       "\n",
       "    .dataframe thead th {\n",
       "        text-align: right;\n",
       "    }\n",
       "</style>\n",
       "<table border=\"1\" class=\"dataframe\">\n",
       "  <thead>\n",
       "    <tr style=\"text-align: right;\">\n",
       "      <th></th>\n",
       "      <th>county_name</th>\n",
       "      <th>county_fips</th>\n",
       "      <th>precinct</th>\n",
       "      <th>votes_democratic</th>\n",
       "      <th>votes_green</th>\n",
       "      <th>votes_libertarian</th>\n",
       "      <th>votes_republican</th>\n",
       "      <th>county_precinct</th>\n",
       "    </tr>\n",
       "  </thead>\n",
       "  <tbody>\n",
       "    <tr>\n",
       "      <th>383</th>\n",
       "      <td>Cass County</td>\n",
       "      <td>027</td>\n",
       "      <td>TOWNSHIP NTWA; 901|AVCB</td>\n",
       "      <td>260</td>\n",
       "      <td>7</td>\n",
       "      <td>26</td>\n",
       "      <td>536</td>\n",
       "      <td>027TOWNSHIP NTWA; 901|AVCB</td>\n",
       "    </tr>\n",
       "    <tr>\n",
       "      <th>389</th>\n",
       "      <td>Cass County</td>\n",
       "      <td>027</td>\n",
       "      <td>TOWNSHIP SILVER CREEK; 901|AVCB</td>\n",
       "      <td>181</td>\n",
       "      <td>1</td>\n",
       "      <td>17</td>\n",
       "      <td>259</td>\n",
       "      <td>027TOWNSHIP SILVER CREEK; 901|AVCB</td>\n",
       "    </tr>\n",
       "    <tr>\n",
       "      <th>496</th>\n",
       "      <td>Clinton County</td>\n",
       "      <td>037</td>\n",
       "      <td>ST LANSING CITY; 901|AVCB</td>\n",
       "      <td>85</td>\n",
       "      <td>1</td>\n",
       "      <td>5</td>\n",
       "      <td>61</td>\n",
       "      <td>037ST LANSING CITY; 901|AVCB</td>\n",
       "    </tr>\n",
       "    <tr>\n",
       "      <th>866</th>\n",
       "      <td>Gladwin County</td>\n",
       "      <td>051</td>\n",
       "      <td>TOWNSHIP BUTMAN; 901|AVCB</td>\n",
       "      <td>260</td>\n",
       "      <td>2</td>\n",
       "      <td>12</td>\n",
       "      <td>397</td>\n",
       "      <td>051TOWNSHIP BUTMAN; 901|AVCB</td>\n",
       "    </tr>\n",
       "    <tr>\n",
       "      <th>1735</th>\n",
       "      <td>Lapeer County</td>\n",
       "      <td>087</td>\n",
       "      <td>TOWNSHIP PEER; 901|AVCB</td>\n",
       "      <td>140</td>\n",
       "      <td>1</td>\n",
       "      <td>11</td>\n",
       "      <td>238</td>\n",
       "      <td>087TOWNSHIP PEER; 901|AVCB</td>\n",
       "    </tr>\n",
       "    <tr>\n",
       "      <th>...</th>\n",
       "      <td>...</td>\n",
       "      <td>...</td>\n",
       "      <td>...</td>\n",
       "      <td>...</td>\n",
       "      <td>...</td>\n",
       "      <td>...</td>\n",
       "      <td>...</td>\n",
       "      <td>...</td>\n",
       "    </tr>\n",
       "    <tr>\n",
       "      <th>4687</th>\n",
       "      <td>Wayne County</td>\n",
       "      <td>163</td>\n",
       "      <td>DETROIT CITY; 995|AVCB</td>\n",
       "      <td>311</td>\n",
       "      <td>1</td>\n",
       "      <td>0</td>\n",
       "      <td>5</td>\n",
       "      <td>163DETROIT CITY; 995|AVCB</td>\n",
       "    </tr>\n",
       "    <tr>\n",
       "      <th>4688</th>\n",
       "      <td>Wayne County</td>\n",
       "      <td>163</td>\n",
       "      <td>DETROIT CITY; 996|AVCB</td>\n",
       "      <td>290</td>\n",
       "      <td>0</td>\n",
       "      <td>1</td>\n",
       "      <td>2</td>\n",
       "      <td>163DETROIT CITY; 996|AVCB</td>\n",
       "    </tr>\n",
       "    <tr>\n",
       "      <th>4689</th>\n",
       "      <td>Wayne County</td>\n",
       "      <td>163</td>\n",
       "      <td>DETROIT CITY; 997|AVCB</td>\n",
       "      <td>407</td>\n",
       "      <td>1</td>\n",
       "      <td>1</td>\n",
       "      <td>11</td>\n",
       "      <td>163DETROIT CITY; 997|AVCB</td>\n",
       "    </tr>\n",
       "    <tr>\n",
       "      <th>4690</th>\n",
       "      <td>Wayne County</td>\n",
       "      <td>163</td>\n",
       "      <td>DETROIT CITY; 998|AVCB</td>\n",
       "      <td>369</td>\n",
       "      <td>1</td>\n",
       "      <td>1</td>\n",
       "      <td>5</td>\n",
       "      <td>163DETROIT CITY; 998|AVCB</td>\n",
       "    </tr>\n",
       "    <tr>\n",
       "      <th>4691</th>\n",
       "      <td>Wayne County</td>\n",
       "      <td>163</td>\n",
       "      <td>DETROIT CITY; 999|AVCB</td>\n",
       "      <td>287</td>\n",
       "      <td>2</td>\n",
       "      <td>1</td>\n",
       "      <td>5</td>\n",
       "      <td>163DETROIT CITY; 999|AVCB</td>\n",
       "    </tr>\n",
       "  </tbody>\n",
       "</table>\n",
       "<p>210 rows × 8 columns</p>\n",
       "</div>"
      ],
      "text/plain": [
       "         county_name county_fips                         precinct  \\\n",
       "383      Cass County         027          TOWNSHIP NTWA; 901|AVCB   \n",
       "389      Cass County         027  TOWNSHIP SILVER CREEK; 901|AVCB   \n",
       "496   Clinton County         037        ST LANSING CITY; 901|AVCB   \n",
       "866   Gladwin County         051        TOWNSHIP BUTMAN; 901|AVCB   \n",
       "1735   Lapeer County         087          TOWNSHIP PEER; 901|AVCB   \n",
       "...              ...         ...                              ...   \n",
       "4687    Wayne County         163           DETROIT CITY; 995|AVCB   \n",
       "4688    Wayne County         163           DETROIT CITY; 996|AVCB   \n",
       "4689    Wayne County         163           DETROIT CITY; 997|AVCB   \n",
       "4690    Wayne County         163           DETROIT CITY; 998|AVCB   \n",
       "4691    Wayne County         163           DETROIT CITY; 999|AVCB   \n",
       "\n",
       "      votes_democratic  votes_green  votes_libertarian  votes_republican  \\\n",
       "383                260            7                 26               536   \n",
       "389                181            1                 17               259   \n",
       "496                 85            1                  5                61   \n",
       "866                260            2                 12               397   \n",
       "1735               140            1                 11               238   \n",
       "...                ...          ...                ...               ...   \n",
       "4687               311            1                  0                 5   \n",
       "4688               290            0                  1                 2   \n",
       "4689               407            1                  1                11   \n",
       "4690               369            1                  1                 5   \n",
       "4691               287            2                  1                 5   \n",
       "\n",
       "                         county_precinct  \n",
       "383           027TOWNSHIP NTWA; 901|AVCB  \n",
       "389   027TOWNSHIP SILVER CREEK; 901|AVCB  \n",
       "496         037ST LANSING CITY; 901|AVCB  \n",
       "866         051TOWNSHIP BUTMAN; 901|AVCB  \n",
       "1735          087TOWNSHIP PEER; 901|AVCB  \n",
       "...                                  ...  \n",
       "4687           163DETROIT CITY; 995|AVCB  \n",
       "4688           163DETROIT CITY; 996|AVCB  \n",
       "4689           163DETROIT CITY; 997|AVCB  \n",
       "4690           163DETROIT CITY; 998|AVCB  \n",
       "4691           163DETROIT CITY; 999|AVCB  \n",
       "\n",
       "[210 rows x 8 columns]"
      ]
     },
     "execution_count": 152,
     "metadata": {},
     "output_type": "execute_result"
    }
   ],
   "source": [
    "mi_pivot[mi_pivot['precinct'].str.contains('AVCB')]"
   ]
  },
  {
   "cell_type": "code",
   "execution_count": 153,
   "metadata": {},
   "outputs": [
    {
     "data": {
      "text/html": [
       "<div>\n",
       "<style scoped>\n",
       "    .dataframe tbody tr th:only-of-type {\n",
       "        vertical-align: middle;\n",
       "    }\n",
       "\n",
       "    .dataframe tbody tr th {\n",
       "        vertical-align: top;\n",
       "    }\n",
       "\n",
       "    .dataframe thead th {\n",
       "        text-align: right;\n",
       "    }\n",
       "</style>\n",
       "<table border=\"1\" class=\"dataframe\">\n",
       "  <thead>\n",
       "    <tr style=\"text-align: right;\">\n",
       "      <th></th>\n",
       "      <th>OBJECTID</th>\n",
       "      <th>Id</th>\n",
       "      <th>VTD2016</th>\n",
       "      <th>CountyFips</th>\n",
       "      <th>Jurisdicti</th>\n",
       "      <th>ElectionYe</th>\n",
       "      <th>Label</th>\n",
       "      <th>ShapeSTAre</th>\n",
       "      <th>ShapeSTLen</th>\n",
       "      <th>geometry</th>\n",
       "      <th>...</th>\n",
       "      <th>BVAP</th>\n",
       "      <th>AMINVAP</th>\n",
       "      <th>ASIANVAP</th>\n",
       "      <th>NHPIVAP</th>\n",
       "      <th>OTHERVAP</th>\n",
       "      <th>2MOREVAP</th>\n",
       "      <th>SEN_DIST</th>\n",
       "      <th>H_DIST</th>\n",
       "      <th>CONGRESSIONAL_DISTRICTS</th>\n",
       "      <th>county_precinct</th>\n",
       "    </tr>\n",
       "  </thead>\n",
       "  <tbody>\n",
       "  </tbody>\n",
       "</table>\n",
       "<p>0 rows × 32 columns</p>\n",
       "</div>"
      ],
      "text/plain": [
       "Empty GeoDataFrame\n",
       "Columns: [OBJECTID, Id, VTD2016, CountyFips, Jurisdicti, ElectionYe, Label, ShapeSTAre, ShapeSTLen, geometry, TOTPOP, NH_WHITE, NH_BLACK, NH_AMIN, NH_ASIAN, NH_NHPI, NH_OTHER, NH_2MORE, HISP, VAP, HVAP, WVAP, BVAP, AMINVAP, ASIANVAP, NHPIVAP, OTHERVAP, 2MOREVAP, SEN_DIST, H_DIST, CONGRESSIONAL_DISTRICTS, county_precinct]\n",
       "Index: []\n",
       "\n",
       "[0 rows x 32 columns]"
      ]
     },
     "execution_count": 153,
     "metadata": {},
     "output_type": "execute_result"
    }
   ],
   "source": [
    "precincts[precincts['Label'].str.contains('AVCB')]"
   ]
  },
  {
   "cell_type": "code",
   "execution_count": 154,
   "metadata": {},
   "outputs": [
    {
     "name": "stdout",
     "output_type": "stream",
     "text": [
      "662\n",
      "490\n"
     ]
    }
   ],
   "source": [
    "print(len(mi_pivot[mi_pivot['precinct'].str.contains('DETROIT CITY')]))\n",
    "print(len(precincts[precincts['Label'].str.contains('DETROIT CITY')]))"
   ]
  },
  {
   "cell_type": "markdown",
   "metadata": {},
   "source": [
    "So the election results has 662 precincts for Detroit City, of which 210 have 'AVCB'. \n",
    "The precincts shapefile has 490 precincts for Detroit City, of which none have 'AVCB'. \n",
    "Will try to do some string manipulation on Detroit to join more."
   ]
  },
  {
   "cell_type": "markdown",
   "metadata": {},
   "source": [
    "Remove the `|AVCB` from precincts:"
   ]
  },
  {
   "cell_type": "code",
   "execution_count": 155,
   "metadata": {},
   "outputs": [],
   "source": [
    "mi_pivot['county_precinct'] = mi_pivot['county_precinct'].map(lambda x: x.rstrip('|AVCB'))"
   ]
  },
  {
   "cell_type": "code",
   "execution_count": 156,
   "metadata": {},
   "outputs": [
    {
     "data": {
      "text/html": [
       "<div>\n",
       "<style scoped>\n",
       "    .dataframe tbody tr th:only-of-type {\n",
       "        vertical-align: middle;\n",
       "    }\n",
       "\n",
       "    .dataframe tbody tr th {\n",
       "        vertical-align: top;\n",
       "    }\n",
       "\n",
       "    .dataframe thead th {\n",
       "        text-align: right;\n",
       "    }\n",
       "</style>\n",
       "<table border=\"1\" class=\"dataframe\">\n",
       "  <thead>\n",
       "    <tr style=\"text-align: right;\">\n",
       "      <th></th>\n",
       "      <th>county_name</th>\n",
       "      <th>county_fips</th>\n",
       "      <th>precinct</th>\n",
       "      <th>votes_democratic</th>\n",
       "      <th>votes_green</th>\n",
       "      <th>votes_libertarian</th>\n",
       "      <th>votes_republican</th>\n",
       "      <th>county_precinct</th>\n",
       "    </tr>\n",
       "  </thead>\n",
       "  <tbody>\n",
       "  </tbody>\n",
       "</table>\n",
       "</div>"
      ],
      "text/plain": [
       "Empty DataFrame\n",
       "Columns: [county_name, county_fips, precinct, votes_democratic, votes_green, votes_libertarian, votes_republican, county_precinct]\n",
       "Index: []"
      ]
     },
     "execution_count": 156,
     "metadata": {},
     "output_type": "execute_result"
    }
   ],
   "source": [
    "mi_pivot.loc[mi_pivot['county_precinct'].str.contains('AVCB')]"
   ]
  },
  {
   "cell_type": "markdown",
   "metadata": {},
   "source": [
    "See how many parts in the df versus the gdf have 'Ward':"
   ]
  },
  {
   "cell_type": "code",
   "execution_count": 157,
   "metadata": {},
   "outputs": [
    {
     "name": "stdout",
     "output_type": "stream",
     "text": [
      "578\n",
      "1109\n"
     ]
    }
   ],
   "source": [
    "print(len(mi_pivot[mi_pivot['precinct'].str.contains('ward', case = False)]))\n",
    "print(len(precincts[precincts['Label'].str.contains('ward', case = False)]))"
   ]
  },
  {
   "cell_type": "markdown",
   "metadata": {},
   "source": [
    "What about in just Detroit? "
   ]
  },
  {
   "cell_type": "code",
   "execution_count": 158,
   "metadata": {},
   "outputs": [
    {
     "name": "stdout",
     "output_type": "stream",
     "text": [
      "0\n",
      "490\n"
     ]
    }
   ],
   "source": [
    "print(len(mi_pivot[(mi_pivot['precinct'].str.contains('ward', case = False)) & (mi_pivot['precinct'].str.contains('DETROIT CITY'))]))\n",
    "print(len(precincts[(precincts['Label'].str.contains('ward', case = False)) & (precincts['Label'].str.contains('DETROIT CITY'))]))"
   ]
  },
  {
   "cell_type": "markdown",
   "metadata": {},
   "source": [
    "So 'Ward' is only in the gdf and not in the df for Detroit City. Try to remove those parts. "
   ]
  },
  {
   "cell_type": "markdown",
   "metadata": {},
   "source": [
    "Example: \n",
    "`163DETROIT CITY; WARD 1; PRECINCT 251` should become `163DETROIT CITY; 251` \n",
    "only for Detroit City"
   ]
  },
  {
   "cell_type": "markdown",
   "metadata": {},
   "source": [
    "Is all of Detroit City county fips 163? "
   ]
  },
  {
   "cell_type": "code",
   "execution_count": 159,
   "metadata": {},
   "outputs": [
    {
     "data": {
      "text/html": [
       "<div>\n",
       "<style scoped>\n",
       "    .dataframe tbody tr th:only-of-type {\n",
       "        vertical-align: middle;\n",
       "    }\n",
       "\n",
       "    .dataframe tbody tr th {\n",
       "        vertical-align: top;\n",
       "    }\n",
       "\n",
       "    .dataframe thead th {\n",
       "        text-align: right;\n",
       "    }\n",
       "</style>\n",
       "<table border=\"1\" class=\"dataframe\">\n",
       "  <thead>\n",
       "    <tr style=\"text-align: right;\">\n",
       "      <th></th>\n",
       "      <th>OBJECTID</th>\n",
       "      <th>Id</th>\n",
       "      <th>VTD2016</th>\n",
       "      <th>Jurisdicti</th>\n",
       "      <th>ElectionYe</th>\n",
       "      <th>Label</th>\n",
       "      <th>ShapeSTAre</th>\n",
       "      <th>ShapeSTLen</th>\n",
       "      <th>geometry</th>\n",
       "      <th>TOTPOP</th>\n",
       "      <th>...</th>\n",
       "      <th>BVAP</th>\n",
       "      <th>AMINVAP</th>\n",
       "      <th>ASIANVAP</th>\n",
       "      <th>NHPIVAP</th>\n",
       "      <th>OTHERVAP</th>\n",
       "      <th>2MOREVAP</th>\n",
       "      <th>SEN_DIST</th>\n",
       "      <th>H_DIST</th>\n",
       "      <th>CONGRESSIONAL_DISTRICTS</th>\n",
       "      <th>county_precinct</th>\n",
       "    </tr>\n",
       "    <tr>\n",
       "      <th>CountyFips</th>\n",
       "      <th></th>\n",
       "      <th></th>\n",
       "      <th></th>\n",
       "      <th></th>\n",
       "      <th></th>\n",
       "      <th></th>\n",
       "      <th></th>\n",
       "      <th></th>\n",
       "      <th></th>\n",
       "      <th></th>\n",
       "      <th></th>\n",
       "      <th></th>\n",
       "      <th></th>\n",
       "      <th></th>\n",
       "      <th></th>\n",
       "      <th></th>\n",
       "      <th></th>\n",
       "      <th></th>\n",
       "      <th></th>\n",
       "      <th></th>\n",
       "      <th></th>\n",
       "    </tr>\n",
       "  </thead>\n",
       "  <tbody>\n",
       "    <tr>\n",
       "      <th>163</th>\n",
       "      <td>490</td>\n",
       "      <td>490</td>\n",
       "      <td>490</td>\n",
       "      <td>490</td>\n",
       "      <td>490</td>\n",
       "      <td>490</td>\n",
       "      <td>490</td>\n",
       "      <td>490</td>\n",
       "      <td>490</td>\n",
       "      <td>490</td>\n",
       "      <td>...</td>\n",
       "      <td>490</td>\n",
       "      <td>490</td>\n",
       "      <td>490</td>\n",
       "      <td>490</td>\n",
       "      <td>490</td>\n",
       "      <td>490</td>\n",
       "      <td>490</td>\n",
       "      <td>490</td>\n",
       "      <td>490</td>\n",
       "      <td>490</td>\n",
       "    </tr>\n",
       "  </tbody>\n",
       "</table>\n",
       "<p>1 rows × 31 columns</p>\n",
       "</div>"
      ],
      "text/plain": [
       "            OBJECTID   Id  VTD2016  Jurisdicti  ElectionYe  Label  ShapeSTAre  \\\n",
       "CountyFips                                                                      \n",
       "163              490  490      490         490         490    490         490   \n",
       "\n",
       "            ShapeSTLen  geometry  TOTPOP  ...  BVAP  AMINVAP  ASIANVAP  \\\n",
       "CountyFips                                ...                            \n",
       "163                490       490     490  ...   490      490       490   \n",
       "\n",
       "            NHPIVAP  OTHERVAP  2MOREVAP  SEN_DIST  H_DIST  \\\n",
       "CountyFips                                                  \n",
       "163             490       490       490       490     490   \n",
       "\n",
       "            CONGRESSIONAL_DISTRICTS  county_precinct  \n",
       "CountyFips                                            \n",
       "163                             490              490  \n",
       "\n",
       "[1 rows x 31 columns]"
      ]
     },
     "execution_count": 159,
     "metadata": {},
     "output_type": "execute_result"
    }
   ],
   "source": [
    "precincts.loc[precincts['county_precinct'].str.contains('DETROIT CITY')].groupby('CountyFips').count()"
   ]
  },
  {
   "cell_type": "markdown",
   "metadata": {},
   "source": [
    "Yes, so will add `163` to the beginning of all the new Detroit City labels"
   ]
  },
  {
   "cell_type": "code",
   "execution_count": 160,
   "metadata": {},
   "outputs": [],
   "source": [
    "precincts.loc[precincts['county_precinct'].str.contains('DETROIT CITY'), 'Label'] = \\\n",
    "    precincts.loc[precincts['county_precinct'].str.contains('DETROIT CITY')]['Label'].apply(lambda x: \"DETROIT CITY; \" + x.split(' ')[-1])"
   ]
  },
  {
   "cell_type": "markdown",
   "metadata": {},
   "source": [
    "Remake the county_precinct merge field"
   ]
  },
  {
   "cell_type": "code",
   "execution_count": 161,
   "metadata": {},
   "outputs": [],
   "source": [
    "mi_pivot['county_precinct'] = mi_pivot['county_fips'] + mi_pivot['precinct']\n",
    "precincts['county_precinct'] = precincts['CountyFips'] + precincts['Label']"
   ]
  },
  {
   "cell_type": "code",
   "execution_count": 162,
   "metadata": {},
   "outputs": [
    {
     "data": {
      "text/plain": [
       "4105                        163SOUTHGATE CITY; 9\n",
       "3122                 159TOWNSHIP BLOOMINGDALE; 1\n",
       "4452                  125MADISON HEIGHTS CITY; 7\n",
       "4520                        125TOWNSHIP ORION; 8\n",
       "1324                     075TOWNSHIP TOMPKINS; 1\n",
       "4111                      163TOWNSHIP SUMPTER; 1\n",
       "1581    081RAND RAPIDS CITY; WARD 3; PRECINCT 72\n",
       "1965                         099STPOINTE CITY; 8\n",
       "3360                 163DEARBORN HEIGHTS CITY; 7\n",
       "2949                      147TOWNSHIP KIMBALL; 3\n",
       "Name: county_precinct, dtype: object"
      ]
     },
     "execution_count": 162,
     "metadata": {},
     "output_type": "execute_result"
    }
   ],
   "source": [
    "precincts['county_precinct'].sample(10)"
   ]
  },
  {
   "cell_type": "markdown",
   "metadata": {},
   "source": [
    "## Join Attempt #3"
   ]
  },
  {
   "cell_type": "code",
   "execution_count": 163,
   "metadata": {},
   "outputs": [],
   "source": [
    "df_merged_outer = precincts.merge(mi_pivot, how = 'outer', on = 'county_precinct', indicator = True)"
   ]
  },
  {
   "cell_type": "code",
   "execution_count": 164,
   "metadata": {},
   "outputs": [
    {
     "data": {
      "text/html": [
       "<div>\n",
       "<style scoped>\n",
       "    .dataframe tbody tr th:only-of-type {\n",
       "        vertical-align: middle;\n",
       "    }\n",
       "\n",
       "    .dataframe tbody tr th {\n",
       "        vertical-align: top;\n",
       "    }\n",
       "\n",
       "    .dataframe thead th {\n",
       "        text-align: right;\n",
       "    }\n",
       "</style>\n",
       "<table border=\"1\" class=\"dataframe\">\n",
       "  <thead>\n",
       "    <tr style=\"text-align: right;\">\n",
       "      <th></th>\n",
       "      <th>OBJECTID</th>\n",
       "      <th>Id</th>\n",
       "      <th>VTD2016</th>\n",
       "      <th>CountyFips</th>\n",
       "      <th>Jurisdicti</th>\n",
       "      <th>ElectionYe</th>\n",
       "      <th>Label</th>\n",
       "      <th>ShapeSTAre</th>\n",
       "      <th>ShapeSTLen</th>\n",
       "      <th>geometry</th>\n",
       "      <th>...</th>\n",
       "      <th>CONGRESSIONAL_DISTRICTS</th>\n",
       "      <th>county_precinct</th>\n",
       "      <th>county_name</th>\n",
       "      <th>county_fips</th>\n",
       "      <th>precinct</th>\n",
       "      <th>votes_democratic</th>\n",
       "      <th>votes_green</th>\n",
       "      <th>votes_libertarian</th>\n",
       "      <th>votes_republican</th>\n",
       "      <th>_merge</th>\n",
       "    </tr>\n",
       "  </thead>\n",
       "  <tbody>\n",
       "    <tr>\n",
       "      <th>0</th>\n",
       "      <td>1.0</td>\n",
       "      <td>3888.0</td>\n",
       "      <td>1632100000001</td>\n",
       "      <td>163</td>\n",
       "      <td>21000</td>\n",
       "      <td>2016.0</td>\n",
       "      <td>DEARBORN CITY; 1</td>\n",
       "      <td>2.489738e+06</td>\n",
       "      <td>6846.254657</td>\n",
       "      <td>POLYGON ((734740.564 203392.197, 734729.230 20...</td>\n",
       "      <td>...</td>\n",
       "      <td>12</td>\n",
       "      <td>163DEARBORN CITY; 1</td>\n",
       "      <td>Wayne County</td>\n",
       "      <td>163</td>\n",
       "      <td>DEARBORN CITY; 1</td>\n",
       "      <td>581.0</td>\n",
       "      <td>17.0</td>\n",
       "      <td>11.0</td>\n",
       "      <td>93.0</td>\n",
       "      <td>both</td>\n",
       "    </tr>\n",
       "    <tr>\n",
       "      <th>1</th>\n",
       "      <td>2.0</td>\n",
       "      <td>3889.0</td>\n",
       "      <td>1632100000002</td>\n",
       "      <td>163</td>\n",
       "      <td>21000</td>\n",
       "      <td>2016.0</td>\n",
       "      <td>DEARBORN CITY; 2</td>\n",
       "      <td>1.058362e+06</td>\n",
       "      <td>4621.388992</td>\n",
       "      <td>POLYGON ((733757.240 203553.421, 733767.280 20...</td>\n",
       "      <td>...</td>\n",
       "      <td>12</td>\n",
       "      <td>163DEARBORN CITY; 2</td>\n",
       "      <td>Wayne County</td>\n",
       "      <td>163</td>\n",
       "      <td>DEARBORN CITY; 2</td>\n",
       "      <td>560.0</td>\n",
       "      <td>23.0</td>\n",
       "      <td>9.0</td>\n",
       "      <td>95.0</td>\n",
       "      <td>both</td>\n",
       "    </tr>\n",
       "    <tr>\n",
       "      <th>2</th>\n",
       "      <td>3.0</td>\n",
       "      <td>3890.0</td>\n",
       "      <td>1632100000003</td>\n",
       "      <td>163</td>\n",
       "      <td>21000</td>\n",
       "      <td>2016.0</td>\n",
       "      <td>DEARBORN CITY; 3</td>\n",
       "      <td>1.488846e+06</td>\n",
       "      <td>4909.715171</td>\n",
       "      <td>POLYGON ((733220.680 203094.269, 733125.455 20...</td>\n",
       "      <td>...</td>\n",
       "      <td>12</td>\n",
       "      <td>163DEARBORN CITY; 3</td>\n",
       "      <td>Wayne County</td>\n",
       "      <td>163</td>\n",
       "      <td>DEARBORN CITY; 3</td>\n",
       "      <td>756.0</td>\n",
       "      <td>52.0</td>\n",
       "      <td>13.0</td>\n",
       "      <td>171.0</td>\n",
       "      <td>both</td>\n",
       "    </tr>\n",
       "  </tbody>\n",
       "</table>\n",
       "<p>3 rows × 40 columns</p>\n",
       "</div>"
      ],
      "text/plain": [
       "   OBJECTID      Id        VTD2016 CountyFips Jurisdicti  ElectionYe  \\\n",
       "0       1.0  3888.0  1632100000001        163      21000      2016.0   \n",
       "1       2.0  3889.0  1632100000002        163      21000      2016.0   \n",
       "2       3.0  3890.0  1632100000003        163      21000      2016.0   \n",
       "\n",
       "              Label    ShapeSTAre   ShapeSTLen  \\\n",
       "0  DEARBORN CITY; 1  2.489738e+06  6846.254657   \n",
       "1  DEARBORN CITY; 2  1.058362e+06  4621.388992   \n",
       "2  DEARBORN CITY; 3  1.488846e+06  4909.715171   \n",
       "\n",
       "                                            geometry  ...  \\\n",
       "0  POLYGON ((734740.564 203392.197, 734729.230 20...  ...   \n",
       "1  POLYGON ((733757.240 203553.421, 733767.280 20...  ...   \n",
       "2  POLYGON ((733220.680 203094.269, 733125.455 20...  ...   \n",
       "\n",
       "   CONGRESSIONAL_DISTRICTS      county_precinct   county_name  county_fips  \\\n",
       "0                       12  163DEARBORN CITY; 1  Wayne County          163   \n",
       "1                       12  163DEARBORN CITY; 2  Wayne County          163   \n",
       "2                       12  163DEARBORN CITY; 3  Wayne County          163   \n",
       "\n",
       "           precinct  votes_democratic  votes_green  votes_libertarian  \\\n",
       "0  DEARBORN CITY; 1             581.0         17.0               11.0   \n",
       "1  DEARBORN CITY; 2             560.0         23.0                9.0   \n",
       "2  DEARBORN CITY; 3             756.0         52.0               13.0   \n",
       "\n",
       "   votes_republican  _merge  \n",
       "0              93.0    both  \n",
       "1              95.0    both  \n",
       "2             171.0    both  \n",
       "\n",
       "[3 rows x 40 columns]"
      ]
     },
     "execution_count": 164,
     "metadata": {},
     "output_type": "execute_result"
    }
   ],
   "source": [
    "df_merged_outer.head(3)"
   ]
  },
  {
   "cell_type": "code",
   "execution_count": 165,
   "metadata": {},
   "outputs": [
    {
     "data": {
      "text/html": [
       "<div>\n",
       "<style scoped>\n",
       "    .dataframe tbody tr th:only-of-type {\n",
       "        vertical-align: middle;\n",
       "    }\n",
       "\n",
       "    .dataframe tbody tr th {\n",
       "        vertical-align: top;\n",
       "    }\n",
       "\n",
       "    .dataframe thead th {\n",
       "        text-align: right;\n",
       "    }\n",
       "</style>\n",
       "<table border=\"1\" class=\"dataframe\">\n",
       "  <thead>\n",
       "    <tr style=\"text-align: right;\">\n",
       "      <th></th>\n",
       "      <th>OBJECTID</th>\n",
       "      <th>Id</th>\n",
       "      <th>VTD2016</th>\n",
       "      <th>CountyFips</th>\n",
       "      <th>Jurisdicti</th>\n",
       "      <th>ElectionYe</th>\n",
       "      <th>Label</th>\n",
       "      <th>ShapeSTAre</th>\n",
       "      <th>ShapeSTLen</th>\n",
       "      <th>geometry</th>\n",
       "      <th>...</th>\n",
       "      <th>H_DIST</th>\n",
       "      <th>CONGRESSIONAL_DISTRICTS</th>\n",
       "      <th>county_precinct</th>\n",
       "      <th>county_name</th>\n",
       "      <th>county_fips</th>\n",
       "      <th>precinct</th>\n",
       "      <th>votes_democratic</th>\n",
       "      <th>votes_green</th>\n",
       "      <th>votes_libertarian</th>\n",
       "      <th>votes_republican</th>\n",
       "    </tr>\n",
       "    <tr>\n",
       "      <th>_merge</th>\n",
       "      <th></th>\n",
       "      <th></th>\n",
       "      <th></th>\n",
       "      <th></th>\n",
       "      <th></th>\n",
       "      <th></th>\n",
       "      <th></th>\n",
       "      <th></th>\n",
       "      <th></th>\n",
       "      <th></th>\n",
       "      <th></th>\n",
       "      <th></th>\n",
       "      <th></th>\n",
       "      <th></th>\n",
       "      <th></th>\n",
       "      <th></th>\n",
       "      <th></th>\n",
       "      <th></th>\n",
       "      <th></th>\n",
       "      <th></th>\n",
       "      <th></th>\n",
       "    </tr>\n",
       "  </thead>\n",
       "  <tbody>\n",
       "    <tr>\n",
       "      <th>left_only</th>\n",
       "      <td>189</td>\n",
       "      <td>189</td>\n",
       "      <td>189</td>\n",
       "      <td>189</td>\n",
       "      <td>189</td>\n",
       "      <td>189</td>\n",
       "      <td>189</td>\n",
       "      <td>189</td>\n",
       "      <td>189</td>\n",
       "      <td>189</td>\n",
       "      <td>...</td>\n",
       "      <td>189</td>\n",
       "      <td>189</td>\n",
       "      <td>189</td>\n",
       "      <td>0</td>\n",
       "      <td>0</td>\n",
       "      <td>0</td>\n",
       "      <td>0</td>\n",
       "      <td>0</td>\n",
       "      <td>0</td>\n",
       "      <td>0</td>\n",
       "    </tr>\n",
       "    <tr>\n",
       "      <th>right_only</th>\n",
       "      <td>0</td>\n",
       "      <td>0</td>\n",
       "      <td>0</td>\n",
       "      <td>0</td>\n",
       "      <td>0</td>\n",
       "      <td>0</td>\n",
       "      <td>0</td>\n",
       "      <td>0</td>\n",
       "      <td>0</td>\n",
       "      <td>0</td>\n",
       "      <td>...</td>\n",
       "      <td>0</td>\n",
       "      <td>0</td>\n",
       "      <td>402</td>\n",
       "      <td>402</td>\n",
       "      <td>402</td>\n",
       "      <td>402</td>\n",
       "      <td>402</td>\n",
       "      <td>402</td>\n",
       "      <td>402</td>\n",
       "      <td>402</td>\n",
       "    </tr>\n",
       "    <tr>\n",
       "      <th>both</th>\n",
       "      <td>4625</td>\n",
       "      <td>4625</td>\n",
       "      <td>4625</td>\n",
       "      <td>4625</td>\n",
       "      <td>4625</td>\n",
       "      <td>4625</td>\n",
       "      <td>4625</td>\n",
       "      <td>4625</td>\n",
       "      <td>4625</td>\n",
       "      <td>4625</td>\n",
       "      <td>...</td>\n",
       "      <td>4625</td>\n",
       "      <td>4625</td>\n",
       "      <td>4625</td>\n",
       "      <td>4625</td>\n",
       "      <td>4625</td>\n",
       "      <td>4625</td>\n",
       "      <td>4625</td>\n",
       "      <td>4625</td>\n",
       "      <td>4625</td>\n",
       "      <td>4625</td>\n",
       "    </tr>\n",
       "  </tbody>\n",
       "</table>\n",
       "<p>3 rows × 39 columns</p>\n",
       "</div>"
      ],
      "text/plain": [
       "            OBJECTID    Id  VTD2016  CountyFips  Jurisdicti  ElectionYe  \\\n",
       "_merge                                                                    \n",
       "left_only        189   189      189         189         189         189   \n",
       "right_only         0     0        0           0           0           0   \n",
       "both            4625  4625     4625        4625        4625        4625   \n",
       "\n",
       "            Label  ShapeSTAre  ShapeSTLen  geometry  ...  H_DIST  \\\n",
       "_merge                                               ...           \n",
       "left_only     189         189         189       189  ...     189   \n",
       "right_only      0           0           0         0  ...       0   \n",
       "both         4625        4625        4625      4625  ...    4625   \n",
       "\n",
       "            CONGRESSIONAL_DISTRICTS  county_precinct  county_name  \\\n",
       "_merge                                                              \n",
       "left_only                       189              189            0   \n",
       "right_only                        0              402          402   \n",
       "both                           4625             4625         4625   \n",
       "\n",
       "            county_fips  precinct  votes_democratic  votes_green  \\\n",
       "_merge                                                             \n",
       "left_only             0         0                 0            0   \n",
       "right_only          402       402               402          402   \n",
       "both               4625      4625              4625         4625   \n",
       "\n",
       "            votes_libertarian  votes_republican  \n",
       "_merge                                           \n",
       "left_only                   0                 0  \n",
       "right_only                402               402  \n",
       "both                     4625              4625  \n",
       "\n",
       "[3 rows x 39 columns]"
      ]
     },
     "execution_count": 165,
     "metadata": {},
     "output_type": "execute_result"
    }
   ],
   "source": [
    "df_merged_outer.groupby('_merge').count()"
   ]
  },
  {
   "cell_type": "code",
   "execution_count": 166,
   "metadata": {},
   "outputs": [
    {
     "data": {
      "text/plain": [
       "5089           163DETROIT CITY; 919|AVCB\n",
       "4987    147TOWNSHIP PORT HURON; 902|AVCB\n",
       "5103           163DETROIT CITY; 933|AVCB\n",
       "Name: county_precinct, dtype: object"
      ]
     },
     "execution_count": 166,
     "metadata": {},
     "output_type": "execute_result"
    }
   ],
   "source": [
    "df_merged_outer[df_merged_outer['_merge'] == 'right_only']['county_precinct'].sample(3)"
   ]
  },
  {
   "cell_type": "markdown",
   "metadata": {},
   "source": [
    "For the Detroit ones here, these are ones where AVCB was in the precinct name but it was removed in `county_precinct` - still didn't join because there are more AVCB rows"
   ]
  },
  {
   "cell_type": "markdown",
   "metadata": {},
   "source": [
    "So that dealt with most of the join, but there's still more in the df. How did MGGG account for removing AVCB rows? Take an example... "
   ]
  },
  {
   "cell_type": "code",
   "execution_count": 167,
   "metadata": {},
   "outputs": [
    {
     "data": {
      "text/plain": [
       "Index(['VTD2016_x', 'ShapeSTLen', 'CountyFips', 'Jurisdicti', 'ElectionYe',\n",
       "       'Label', 'VTD', 'county_nam', 'county_fip', 'county_lat', 'county_lon',\n",
       "       'jurisdic_1', 'precinct', 'PRES16D', 'PRES16R', 'PRES16L', 'PRES16G',\n",
       "       'HDIST', 'SENDIST', 'CD', 'TOTPOP', 'NH_WHITE', 'NH_BLACK', 'NH_AMIN',\n",
       "       'NH_ASIAN', 'NH_NHPI', 'NH_OTHER', 'HISP', 'H_WHITE', 'H_BLACK',\n",
       "       'H_AMIN', 'H_ASIAN', 'H_NHPI', 'H_OTHER', 'VAP', 'HVAP', 'WVAP', 'BVAP',\n",
       "       'AMINVAP', 'ASIANVAP', 'NHPIVAP', 'OTHERVAP', '2MOREVAP', 'NH_2MORE',\n",
       "       'H_2MORE', 'geometry'],\n",
       "      dtype='object')"
      ]
     },
     "execution_count": 167,
     "metadata": {},
     "output_type": "execute_result"
    }
   ],
   "source": [
    "mggg_final_shp.columns"
   ]
  },
  {
   "cell_type": "code",
   "execution_count": 168,
   "metadata": {},
   "outputs": [
    {
     "data": {
      "text/html": [
       "<div>\n",
       "<style scoped>\n",
       "    .dataframe tbody tr th:only-of-type {\n",
       "        vertical-align: middle;\n",
       "    }\n",
       "\n",
       "    .dataframe tbody tr th {\n",
       "        vertical-align: top;\n",
       "    }\n",
       "\n",
       "    .dataframe thead th {\n",
       "        text-align: right;\n",
       "    }\n",
       "</style>\n",
       "<table border=\"1\" class=\"dataframe\">\n",
       "  <thead>\n",
       "    <tr style=\"text-align: right;\">\n",
       "      <th></th>\n",
       "      <th>county_fip</th>\n",
       "      <th>precinct</th>\n",
       "      <th>PRES16D</th>\n",
       "      <th>PRES16R</th>\n",
       "      <th>PRES16L</th>\n",
       "      <th>PRES16G</th>\n",
       "    </tr>\n",
       "  </thead>\n",
       "  <tbody>\n",
       "    <tr>\n",
       "      <th>0</th>\n",
       "      <td>26005</td>\n",
       "      <td>SOUTH HAVEN CITY; 1</td>\n",
       "      <td>4</td>\n",
       "      <td>1</td>\n",
       "      <td>0</td>\n",
       "      <td>0</td>\n",
       "    </tr>\n",
       "    <tr>\n",
       "      <th>1</th>\n",
       "      <td>26163</td>\n",
       "      <td>DETROIT CITY; 11</td>\n",
       "      <td>49</td>\n",
       "      <td>0</td>\n",
       "      <td>0</td>\n",
       "      <td>0</td>\n",
       "    </tr>\n",
       "    <tr>\n",
       "      <th>2</th>\n",
       "      <td>26163</td>\n",
       "      <td>DETROIT CITY; 454</td>\n",
       "      <td>4</td>\n",
       "      <td>0</td>\n",
       "      <td>0</td>\n",
       "      <td>0</td>\n",
       "    </tr>\n",
       "  </tbody>\n",
       "</table>\n",
       "</div>"
      ],
      "text/plain": [
       "   county_fip             precinct  PRES16D  PRES16R  PRES16L  PRES16G\n",
       "0       26005  SOUTH HAVEN CITY; 1        4        1        0        0\n",
       "1       26163     DETROIT CITY; 11       49        0        0        0\n",
       "2       26163    DETROIT CITY; 454        4        0        0        0"
      ]
     },
     "execution_count": 168,
     "metadata": {},
     "output_type": "execute_result"
    }
   ],
   "source": [
    "mggg_final_shp[['county_fip','precinct','PRES16D','PRES16R','PRES16L','PRES16G']].head(3)"
   ]
  },
  {
   "cell_type": "code",
   "execution_count": 169,
   "metadata": {},
   "outputs": [
    {
     "data": {
      "text/html": [
       "<div>\n",
       "<style scoped>\n",
       "    .dataframe tbody tr th:only-of-type {\n",
       "        vertical-align: middle;\n",
       "    }\n",
       "\n",
       "    .dataframe tbody tr th {\n",
       "        vertical-align: top;\n",
       "    }\n",
       "\n",
       "    .dataframe thead th {\n",
       "        text-align: right;\n",
       "    }\n",
       "</style>\n",
       "<table border=\"1\" class=\"dataframe\">\n",
       "  <thead>\n",
       "    <tr style=\"text-align: right;\">\n",
       "      <th></th>\n",
       "      <th>VTD2016_x</th>\n",
       "      <th>ShapeSTLen</th>\n",
       "      <th>CountyFips</th>\n",
       "      <th>Jurisdicti</th>\n",
       "      <th>ElectionYe</th>\n",
       "      <th>Label</th>\n",
       "      <th>VTD</th>\n",
       "      <th>county_nam</th>\n",
       "      <th>county_fip</th>\n",
       "      <th>county_lat</th>\n",
       "      <th>...</th>\n",
       "      <th>WVAP</th>\n",
       "      <th>BVAP</th>\n",
       "      <th>AMINVAP</th>\n",
       "      <th>ASIANVAP</th>\n",
       "      <th>NHPIVAP</th>\n",
       "      <th>OTHERVAP</th>\n",
       "      <th>2MOREVAP</th>\n",
       "      <th>NH_2MORE</th>\n",
       "      <th>H_2MORE</th>\n",
       "      <th>geometry</th>\n",
       "    </tr>\n",
       "  </thead>\n",
       "  <tbody>\n",
       "  </tbody>\n",
       "</table>\n",
       "<p>0 rows × 46 columns</p>\n",
       "</div>"
      ],
      "text/plain": [
       "Empty GeoDataFrame\n",
       "Columns: [VTD2016_x, ShapeSTLen, CountyFips, Jurisdicti, ElectionYe, Label, VTD, county_nam, county_fip, county_lat, county_lon, jurisdic_1, precinct, PRES16D, PRES16R, PRES16L, PRES16G, HDIST, SENDIST, CD, TOTPOP, NH_WHITE, NH_BLACK, NH_AMIN, NH_ASIAN, NH_NHPI, NH_OTHER, HISP, H_WHITE, H_BLACK, H_AMIN, H_ASIAN, H_NHPI, H_OTHER, VAP, HVAP, WVAP, BVAP, AMINVAP, ASIANVAP, NHPIVAP, OTHERVAP, 2MOREVAP, NH_2MORE, H_2MORE, geometry]\n",
       "Index: []\n",
       "\n",
       "[0 rows x 46 columns]"
      ]
     },
     "execution_count": 169,
     "metadata": {},
     "output_type": "execute_result"
    }
   ],
   "source": [
    "mggg_final_shp[mggg_final_shp['precinct'].str.contains('AVCB', case = False)]"
   ]
  },
  {
   "cell_type": "markdown",
   "metadata": {},
   "source": [
    "It looks like detroit city;99 may have associated avcb results in the election results file, but mggg doesn't have them in theirs. "
   ]
  },
  {
   "cell_type": "code",
   "execution_count": 170,
   "metadata": {},
   "outputs": [
    {
     "data": {
      "text/html": [
       "<div>\n",
       "<style scoped>\n",
       "    .dataframe tbody tr th:only-of-type {\n",
       "        vertical-align: middle;\n",
       "    }\n",
       "\n",
       "    .dataframe tbody tr th {\n",
       "        vertical-align: top;\n",
       "    }\n",
       "\n",
       "    .dataframe thead th {\n",
       "        text-align: right;\n",
       "    }\n",
       "</style>\n",
       "<table border=\"1\" class=\"dataframe\">\n",
       "  <thead>\n",
       "    <tr style=\"text-align: right;\">\n",
       "      <th></th>\n",
       "      <th>county_fip</th>\n",
       "      <th>precinct</th>\n",
       "      <th>PRES16D</th>\n",
       "      <th>PRES16R</th>\n",
       "      <th>PRES16L</th>\n",
       "      <th>PRES16G</th>\n",
       "    </tr>\n",
       "  </thead>\n",
       "  <tbody>\n",
       "    <tr>\n",
       "      <th>27</th>\n",
       "      <td>26163</td>\n",
       "      <td>DETROIT CITY; 99</td>\n",
       "      <td>100</td>\n",
       "      <td>5</td>\n",
       "      <td>1</td>\n",
       "      <td>3</td>\n",
       "    </tr>\n",
       "  </tbody>\n",
       "</table>\n",
       "</div>"
      ],
      "text/plain": [
       "    county_fip          precinct  PRES16D  PRES16R  PRES16L  PRES16G\n",
       "27       26163  DETROIT CITY; 99      100        5        1        3"
      ]
     },
     "execution_count": 170,
     "metadata": {},
     "output_type": "execute_result"
    }
   ],
   "source": [
    "mggg_final_shp[['county_fip','precinct','PRES16D','PRES16R','PRES16L','PRES16G']][mggg_final_shp['precinct'].str.contains('detroit city; 99', case = False)]"
   ]
  },
  {
   "cell_type": "code",
   "execution_count": 171,
   "metadata": {},
   "outputs": [
    {
     "data": {
      "text/html": [
       "<div>\n",
       "<style scoped>\n",
       "    .dataframe tbody tr th:only-of-type {\n",
       "        vertical-align: middle;\n",
       "    }\n",
       "\n",
       "    .dataframe tbody tr th {\n",
       "        vertical-align: top;\n",
       "    }\n",
       "\n",
       "    .dataframe thead th {\n",
       "        text-align: right;\n",
       "    }\n",
       "</style>\n",
       "<table border=\"1\" class=\"dataframe\">\n",
       "  <thead>\n",
       "    <tr style=\"text-align: right;\">\n",
       "      <th></th>\n",
       "      <th>county_fip</th>\n",
       "      <th>precinct</th>\n",
       "      <th>PRES16D</th>\n",
       "      <th>PRES16R</th>\n",
       "      <th>PRES16L</th>\n",
       "      <th>PRES16G</th>\n",
       "    </tr>\n",
       "  </thead>\n",
       "  <tbody>\n",
       "  </tbody>\n",
       "</table>\n",
       "</div>"
      ],
      "text/plain": [
       "Empty DataFrame\n",
       "Columns: [county_fip, precinct, PRES16D, PRES16R, PRES16L, PRES16G]\n",
       "Index: []"
      ]
     },
     "execution_count": 171,
     "metadata": {},
     "output_type": "execute_result"
    }
   ],
   "source": [
    "mggg_final_shp[['county_fip','precinct','PRES16D','PRES16R','PRES16L','PRES16G']][mggg_final_shp['precinct'].str.contains('detroit city; 950', case = False)]"
   ]
  },
  {
   "cell_type": "markdown",
   "metadata": {},
   "source": [
    "So looks like mggg just left out the avcb rows. Get the counts to confirm."
   ]
  },
  {
   "cell_type": "code",
   "execution_count": 172,
   "metadata": {},
   "outputs": [
    {
     "data": {
      "text/plain": [
       "490"
      ]
     },
     "execution_count": 172,
     "metadata": {},
     "output_type": "execute_result"
    }
   ],
   "source": [
    "len(mggg_final_shp[mggg_final_shp['precinct'].str.contains('DETROIT CITY', case = False)])"
   ]
  },
  {
   "cell_type": "code",
   "execution_count": 173,
   "metadata": {},
   "outputs": [
    {
     "data": {
      "text/plain": [
       "490"
      ]
     },
     "execution_count": 173,
     "metadata": {},
     "output_type": "execute_result"
    }
   ],
   "source": [
    "len(precincts.loc[precincts['county_precinct'].str.contains('DETROIT CITY')])"
   ]
  },
  {
   "cell_type": "markdown",
   "metadata": {},
   "source": [
    "So overall, I was able to join 490 precincts from the Detroit df, and 4135 from the other df (excluding detroit). Total joined = 490 + 4135 = 4625. \n",
    "Total not joined: 172 + 189 + 230 = 591 precincts between the two DFs. \n",
    "Confirm that these numbers make sense: "
   ]
  },
  {
   "cell_type": "code",
   "execution_count": 174,
   "metadata": {},
   "outputs": [
    {
     "name": "stdout",
     "output_type": "stream",
     "text": [
      "5021\n",
      "4810\n"
     ]
    }
   ],
   "source": [
    "print(len(mi_pivot))\n",
    "print(len(precincts))"
   ]
  },
  {
   "cell_type": "markdown",
   "metadata": {},
   "source": [
    "<a name=\"comparison\"></a>"
   ]
  },
  {
   "cell_type": "markdown",
   "metadata": {},
   "source": [
    "# Comparison to MGGG"
   ]
  },
  {
   "cell_type": "markdown",
   "metadata": {},
   "source": [
    "Merge our final file with MGGG's final file"
   ]
  },
  {
   "cell_type": "code",
   "execution_count": 175,
   "metadata": {},
   "outputs": [],
   "source": [
    "overlap = df_merged_outer.merge(mggg_final_shp, how = 'outer', left_on = 'VTD2016', right_on = 'VTD2016_x')"
   ]
  },
  {
   "cell_type": "code",
   "execution_count": 176,
   "metadata": {},
   "outputs": [
    {
     "data": {
      "text/plain": [
       "Index(['OBJECTID', 'Id', 'VTD2016', 'CountyFips_x', 'Jurisdicti_x',\n",
       "       'ElectionYe_x', 'Label_x', 'ShapeSTAre', 'ShapeSTLen_x', 'geometry_x',\n",
       "       'TOTPOP_x', 'NH_WHITE_x', 'NH_BLACK_x', 'NH_AMIN_x', 'NH_ASIAN_x',\n",
       "       'NH_NHPI_x', 'NH_OTHER_x', 'NH_2MORE_x', 'HISP_x', 'VAP_x', 'HVAP_x',\n",
       "       'WVAP_x', 'BVAP_x', 'AMINVAP_x', 'ASIANVAP_x', 'NHPIVAP_x',\n",
       "       'OTHERVAP_x', '2MOREVAP_x', 'SEN_DIST', 'H_DIST',\n",
       "       'CONGRESSIONAL_DISTRICTS', 'county_precinct', 'county_name',\n",
       "       'county_fips', 'precinct_x', 'votes_democratic', 'votes_green',\n",
       "       'votes_libertarian', 'votes_republican', '_merge', 'VTD2016_x',\n",
       "       'ShapeSTLen_y', 'CountyFips_y', 'Jurisdicti_y', 'ElectionYe_y',\n",
       "       'Label_y', 'VTD', 'county_nam', 'county_fip', 'county_lat',\n",
       "       'county_lon', 'jurisdic_1', 'precinct_y', 'PRES16D', 'PRES16R',\n",
       "       'PRES16L', 'PRES16G', 'HDIST', 'SENDIST', 'CD', 'TOTPOP_y',\n",
       "       'NH_WHITE_y', 'NH_BLACK_y', 'NH_AMIN_y', 'NH_ASIAN_y', 'NH_NHPI_y',\n",
       "       'NH_OTHER_y', 'HISP_y', 'H_WHITE', 'H_BLACK', 'H_AMIN', 'H_ASIAN',\n",
       "       'H_NHPI', 'H_OTHER', 'VAP_y', 'HVAP_y', 'WVAP_y', 'BVAP_y', 'AMINVAP_y',\n",
       "       'ASIANVAP_y', 'NHPIVAP_y', 'OTHERVAP_y', '2MOREVAP_y', 'NH_2MORE_y',\n",
       "       'H_2MORE', 'geometry_y'],\n",
       "      dtype='object')"
      ]
     },
     "execution_count": 176,
     "metadata": {},
     "output_type": "execute_result"
    }
   ],
   "source": [
    "overlap.columns"
   ]
  },
  {
   "cell_type": "markdown",
   "metadata": {},
   "source": [
    "## Legislative Boundaries"
   ]
  },
  {
   "cell_type": "markdown",
   "metadata": {},
   "source": [
    "Legislative boundaries were already validated and compared to MGGG's final file in the legislative boundaries section above. The result was that we were able to join and validate the state senate, state house, and congressional districts. Everything matched, except MGGG was missing assignments for only one precinct: `0492900005062`, in the City of Flint. "
   ]
  },
  {
   "cell_type": "markdown",
   "metadata": {},
   "source": [
    "## Election Results"
   ]
  },
  {
   "cell_type": "markdown",
   "metadata": {},
   "source": [
    "- We were able to join 4,625 precincts, out of 5,021 in the election results and 4,810 in the precinct shapefile. \n",
    "- It seems that MGGG did not account for the AVCB election results, and that these results were dropped. \n",
    "- There are more inconsistencies in naming precincts between the election results and the precinct shapefile, and we did not deal with all of these, including: precincts specifying 'ward' in the name in one file, but not in the other, spelling differences"
   ]
  },
  {
   "cell_type": "code",
   "execution_count": 177,
   "metadata": {},
   "outputs": [
    {
     "name": "stdout",
     "output_type": "stream",
     "text": [
      "Democrat results percent difference =  2.590398617795878 %\n",
      "Green Pary results percent difference =  0.6140333832073529 %\n",
      "Libertarian results percent difference =  0.40607426685876286 %\n",
      "Republican results percent difference =  0.41762775153956366 %\n"
     ]
    }
   ],
   "source": [
    "mit_presd = mi_pivot['votes_democratic'].sum()\n",
    "mggg_presd = mggg_final_shp['PRES16D'].sum()\n",
    "print(\"Democrat results percent difference = \", 100*(mit_presd - mggg_presd)/mit_presd, \"%\" )\n",
    "\n",
    "mit_presg = mi_pivot['votes_green'].sum()\n",
    "mggg_presg = mggg_final_shp['PRES16G'].sum()\n",
    "print(\"Green Pary results percent difference = \", 100*(mit_presg - mggg_presg)/mit_presg, \"%\" )\n",
    "\n",
    "mit_presl = mi_pivot['votes_libertarian'].sum()\n",
    "mggg_presl = mggg_final_shp['PRES16L'].sum()\n",
    "print(\"Libertarian results percent difference = \", 100*(mit_presl - mggg_presl)/mit_presl, \"%\" )\n",
    "\n",
    "mit_presr = mi_pivot['votes_republican'].sum()\n",
    "mggg_presr = mggg_final_shp['PRES16R'].sum()\n",
    "print(\"Republican results percent difference = \", 100*(mit_presr - mggg_presr)/mit_presr, \"%\" )"
   ]
  },
  {
   "cell_type": "markdown",
   "metadata": {},
   "source": [
    "Get the number of PRES16D votes that don't match between MGGG's precincts and the precincts we were able to join. "
   ]
  },
  {
   "cell_type": "code",
   "execution_count": 178,
   "metadata": {},
   "outputs": [
    {
     "data": {
      "text/plain": [
       "17"
      ]
     },
     "execution_count": 178,
     "metadata": {},
     "output_type": "execute_result"
    }
   ],
   "source": [
    "overlap.loc[overlap['_merge'] == 'both'][['votes_democratic', 'PRES16D']].assign(NE=overlap.votes_democratic != overlap.PRES16D)['NE'].sum()"
   ]
  },
  {
   "cell_type": "code",
   "execution_count": 179,
   "metadata": {},
   "outputs": [
    {
     "data": {
      "text/html": [
       "<div>\n",
       "<style scoped>\n",
       "    .dataframe tbody tr th:only-of-type {\n",
       "        vertical-align: middle;\n",
       "    }\n",
       "\n",
       "    .dataframe tbody tr th {\n",
       "        vertical-align: top;\n",
       "    }\n",
       "\n",
       "    .dataframe thead th {\n",
       "        text-align: right;\n",
       "    }\n",
       "</style>\n",
       "<table border=\"1\" class=\"dataframe\">\n",
       "  <thead>\n",
       "    <tr style=\"text-align: right;\">\n",
       "      <th></th>\n",
       "      <th>VTD2016</th>\n",
       "      <th>Label_x</th>\n",
       "      <th>votes_democratic</th>\n",
       "      <th>PRES16D</th>\n",
       "      <th>votes_republican</th>\n",
       "      <th>PRES16R</th>\n",
       "    </tr>\n",
       "  </thead>\n",
       "  <tbody>\n",
       "    <tr>\n",
       "      <th>332</th>\n",
       "      <td>0233212000001</td>\n",
       "      <td>TOWNSHIP D; 1</td>\n",
       "      <td>369.0</td>\n",
       "      <td>76.0</td>\n",
       "      <td>905.0</td>\n",
       "      <td>213.0</td>\n",
       "    </tr>\n",
       "    <tr>\n",
       "      <th>333</th>\n",
       "      <td>0236184000001</td>\n",
       "      <td>TOWNSHIP D; 1</td>\n",
       "      <td>76.0</td>\n",
       "      <td>369.0</td>\n",
       "      <td>213.0</td>\n",
       "      <td>905.0</td>\n",
       "    </tr>\n",
       "    <tr>\n",
       "      <th>525</th>\n",
       "      <td>0372358000001</td>\n",
       "      <td>TOWNSHIP; 1</td>\n",
       "      <td>516.0</td>\n",
       "      <td>593.0</td>\n",
       "      <td>919.0</td>\n",
       "      <td>896.0</td>\n",
       "    </tr>\n",
       "    <tr>\n",
       "      <th>526</th>\n",
       "      <td>0376044000001</td>\n",
       "      <td>TOWNSHIP; 1</td>\n",
       "      <td>593.0</td>\n",
       "      <td>516.0</td>\n",
       "      <td>896.0</td>\n",
       "      <td>919.0</td>\n",
       "    </tr>\n",
       "    <tr>\n",
       "      <th>703</th>\n",
       "      <td>0492776000002</td>\n",
       "      <td>NTON CITY; 2</td>\n",
       "      <td>489.0</td>\n",
       "      <td>491.0</td>\n",
       "      <td>655.0</td>\n",
       "      <td>664.0</td>\n",
       "    </tr>\n",
       "    <tr>\n",
       "      <th>1217</th>\n",
       "      <td>0697810000001</td>\n",
       "      <td>TOWNSHIP TAWAS; 1</td>\n",
       "      <td>241.0</td>\n",
       "      <td>292.0</td>\n",
       "      <td>689.0</td>\n",
       "      <td>515.0</td>\n",
       "    </tr>\n",
       "    <tr>\n",
       "      <th>1218</th>\n",
       "      <td>0697814000001</td>\n",
       "      <td>TAWAS CITY; 1</td>\n",
       "      <td>292.0</td>\n",
       "      <td>241.0</td>\n",
       "      <td>515.0</td>\n",
       "      <td>689.0</td>\n",
       "    </tr>\n",
       "    <tr>\n",
       "      <th>2544</th>\n",
       "      <td>1215632003008</td>\n",
       "      <td>MUSKEGON CITY; WARD 3; PRECINCT 8</td>\n",
       "      <td>577.0</td>\n",
       "      <td>702.0</td>\n",
       "      <td>114.0</td>\n",
       "      <td>400.0</td>\n",
       "    </tr>\n",
       "    <tr>\n",
       "      <th>2545</th>\n",
       "      <td>1215632003009</td>\n",
       "      <td>MUSKEGON CITY; WARD 3; PRECINCT 9</td>\n",
       "      <td>740.0</td>\n",
       "      <td>577.0</td>\n",
       "      <td>136.0</td>\n",
       "      <td>114.0</td>\n",
       "    </tr>\n",
       "    <tr>\n",
       "      <th>2546</th>\n",
       "      <td>1215632003010</td>\n",
       "      <td>MUSKEGON CITY; WARD 3; PRECINCT 10</td>\n",
       "      <td>702.0</td>\n",
       "      <td>740.0</td>\n",
       "      <td>400.0</td>\n",
       "      <td>136.0</td>\n",
       "    </tr>\n",
       "    <tr>\n",
       "      <th>2578</th>\n",
       "      <td>1218678000001</td>\n",
       "      <td>WHITEHALL CITY; 1</td>\n",
       "      <td>609.0</td>\n",
       "      <td>317.0</td>\n",
       "      <td>688.0</td>\n",
       "      <td>458.0</td>\n",
       "    </tr>\n",
       "    <tr>\n",
       "      <th>2579</th>\n",
       "      <td>1218680000001</td>\n",
       "      <td>TOWNSHIP WHITEHALL; 1</td>\n",
       "      <td>382.0</td>\n",
       "      <td>609.0</td>\n",
       "      <td>518.0</td>\n",
       "      <td>688.0</td>\n",
       "    </tr>\n",
       "    <tr>\n",
       "      <th>2580</th>\n",
       "      <td>1218698000001</td>\n",
       "      <td>TOWNSHIP WHITE RIVER; 1</td>\n",
       "      <td>317.0</td>\n",
       "      <td>382.0</td>\n",
       "      <td>458.0</td>\n",
       "      <td>518.0</td>\n",
       "    </tr>\n",
       "    <tr>\n",
       "      <th>2642</th>\n",
       "      <td>1296960000001</td>\n",
       "      <td>TOWNSHIP ROSE; 1</td>\n",
       "      <td>175.0</td>\n",
       "      <td>55.0</td>\n",
       "      <td>527.0</td>\n",
       "      <td>141.0</td>\n",
       "    </tr>\n",
       "    <tr>\n",
       "      <th>2643</th>\n",
       "      <td>1296968001001</td>\n",
       "      <td>ROSE CITY; WARD 1; PRECINCT 1</td>\n",
       "      <td>55.0</td>\n",
       "      <td>175.0</td>\n",
       "      <td>141.0</td>\n",
       "      <td>527.0</td>\n",
       "    </tr>\n",
       "    <tr>\n",
       "      <th>4303</th>\n",
       "      <td>1250918000001</td>\n",
       "      <td>TOWNSHIP BLOOMFIELD; 1</td>\n",
       "      <td>373.0</td>\n",
       "      <td>623.0</td>\n",
       "      <td>374.0</td>\n",
       "      <td>858.0</td>\n",
       "    </tr>\n",
       "    <tr>\n",
       "      <th>4305</th>\n",
       "      <td>1250918000002</td>\n",
       "      <td>TOWNSHIP BLOOMFIELD; 2</td>\n",
       "      <td>257.0</td>\n",
       "      <td>521.0</td>\n",
       "      <td>244.0</td>\n",
       "      <td>598.0</td>\n",
       "    </tr>\n",
       "  </tbody>\n",
       "</table>\n",
       "</div>"
      ],
      "text/plain": [
       "            VTD2016                             Label_x  votes_democratic  \\\n",
       "332   0233212000001                       TOWNSHIP D; 1             369.0   \n",
       "333   0236184000001                       TOWNSHIP D; 1              76.0   \n",
       "525   0372358000001                         TOWNSHIP; 1             516.0   \n",
       "526   0376044000001                         TOWNSHIP; 1             593.0   \n",
       "703   0492776000002                        NTON CITY; 2             489.0   \n",
       "1217  0697810000001                   TOWNSHIP TAWAS; 1             241.0   \n",
       "1218  0697814000001                       TAWAS CITY; 1             292.0   \n",
       "2544  1215632003008   MUSKEGON CITY; WARD 3; PRECINCT 8             577.0   \n",
       "2545  1215632003009   MUSKEGON CITY; WARD 3; PRECINCT 9             740.0   \n",
       "2546  1215632003010  MUSKEGON CITY; WARD 3; PRECINCT 10             702.0   \n",
       "2578  1218678000001                   WHITEHALL CITY; 1             609.0   \n",
       "2579  1218680000001               TOWNSHIP WHITEHALL; 1             382.0   \n",
       "2580  1218698000001             TOWNSHIP WHITE RIVER; 1             317.0   \n",
       "2642  1296960000001                    TOWNSHIP ROSE; 1             175.0   \n",
       "2643  1296968001001       ROSE CITY; WARD 1; PRECINCT 1              55.0   \n",
       "4303  1250918000001              TOWNSHIP BLOOMFIELD; 1             373.0   \n",
       "4305  1250918000002              TOWNSHIP BLOOMFIELD; 2             257.0   \n",
       "\n",
       "      PRES16D  votes_republican  PRES16R  \n",
       "332      76.0             905.0    213.0  \n",
       "333     369.0             213.0    905.0  \n",
       "525     593.0             919.0    896.0  \n",
       "526     516.0             896.0    919.0  \n",
       "703     491.0             655.0    664.0  \n",
       "1217    292.0             689.0    515.0  \n",
       "1218    241.0             515.0    689.0  \n",
       "2544    702.0             114.0    400.0  \n",
       "2545    577.0             136.0    114.0  \n",
       "2546    740.0             400.0    136.0  \n",
       "2578    317.0             688.0    458.0  \n",
       "2579    609.0             518.0    688.0  \n",
       "2580    382.0             458.0    518.0  \n",
       "2642     55.0             527.0    141.0  \n",
       "2643    175.0             141.0    527.0  \n",
       "4303    623.0             374.0    858.0  \n",
       "4305    521.0             244.0    598.0  "
      ]
     },
     "execution_count": 179,
     "metadata": {},
     "output_type": "execute_result"
    }
   ],
   "source": [
    "overlap[['VTD2016','Label_x','votes_democratic', 'PRES16D','votes_republican', 'PRES16R']].loc[(overlap['votes_democratic'] != overlap['PRES16D']) & (overlap['_merge'] == 'both')]"
   ]
  },
  {
   "cell_type": "markdown",
   "metadata": {},
   "source": [
    "Interesting, need to look into this. Seems like we have some precinct labels that are the not unique. "
   ]
  },
  {
   "cell_type": "markdown",
   "metadata": {},
   "source": [
    "- For 332/333, 525/526, 1217/1218 - mggg's is correct, there's something weird with the rule that has to do with Townships. \n",
    "- 703 - we are right (Genesee County, Fenton City)\n",
    "- 2544, 2545, 2546 - we are right (Muskegon City; Ward 3)\n",
    "- 2578, 2579, 2580 - we are right (WHITEHALL CITY) \n",
    "- 2642 - we are right (ROSE)\n",
    "- 4303, 4305 - we are right (bloomfield township)"
   ]
  },
  {
   "cell_type": "markdown",
   "metadata": {},
   "source": [
    "In summary, of the 4,625 precincts that we were able to match, we disagree with MGGG's votes in 10 of those precincts. This is likely due to errors in string manipulation. For example, take screenshot of the MUSKEGON example and explain:"
   ]
  },
  {
   "cell_type": "code",
   "execution_count": 180,
   "metadata": {},
   "outputs": [
    {
     "data": {
      "text/html": [
       "<div>\n",
       "<style scoped>\n",
       "    .dataframe tbody tr th:only-of-type {\n",
       "        vertical-align: middle;\n",
       "    }\n",
       "\n",
       "    .dataframe tbody tr th {\n",
       "        vertical-align: top;\n",
       "    }\n",
       "\n",
       "    .dataframe thead th {\n",
       "        text-align: right;\n",
       "    }\n",
       "</style>\n",
       "<table border=\"1\" class=\"dataframe\">\n",
       "  <thead>\n",
       "    <tr style=\"text-align: right;\">\n",
       "      <th></th>\n",
       "      <th>VTD2016</th>\n",
       "      <th>Precinct_Label</th>\n",
       "      <th>RDH_votes_dem</th>\n",
       "      <th>RDH_votes_gop</th>\n",
       "      <th>MGGG_votes_dem</th>\n",
       "      <th>MGGG_votes_gop</th>\n",
       "    </tr>\n",
       "  </thead>\n",
       "  <tbody>\n",
       "    <tr>\n",
       "      <th>2544</th>\n",
       "      <td>1215632003008</td>\n",
       "      <td>MUSKEGON CITY; WARD 3; PRECINCT 8</td>\n",
       "      <td>577.0</td>\n",
       "      <td>114.0</td>\n",
       "      <td>702.0</td>\n",
       "      <td>400.0</td>\n",
       "    </tr>\n",
       "    <tr>\n",
       "      <th>2545</th>\n",
       "      <td>1215632003009</td>\n",
       "      <td>MUSKEGON CITY; WARD 3; PRECINCT 9</td>\n",
       "      <td>740.0</td>\n",
       "      <td>136.0</td>\n",
       "      <td>577.0</td>\n",
       "      <td>114.0</td>\n",
       "    </tr>\n",
       "    <tr>\n",
       "      <th>2546</th>\n",
       "      <td>1215632003010</td>\n",
       "      <td>MUSKEGON CITY; WARD 3; PRECINCT 10</td>\n",
       "      <td>702.0</td>\n",
       "      <td>400.0</td>\n",
       "      <td>740.0</td>\n",
       "      <td>136.0</td>\n",
       "    </tr>\n",
       "  </tbody>\n",
       "</table>\n",
       "</div>"
      ],
      "text/plain": [
       "            VTD2016                      Precinct_Label  RDH_votes_dem  \\\n",
       "2544  1215632003008   MUSKEGON CITY; WARD 3; PRECINCT 8          577.0   \n",
       "2545  1215632003009   MUSKEGON CITY; WARD 3; PRECINCT 9          740.0   \n",
       "2546  1215632003010  MUSKEGON CITY; WARD 3; PRECINCT 10          702.0   \n",
       "\n",
       "      RDH_votes_gop  MGGG_votes_dem  MGGG_votes_gop  \n",
       "2544          114.0           702.0           400.0  \n",
       "2545          136.0           577.0           114.0  \n",
       "2546          400.0           740.0           136.0  "
      ]
     },
     "execution_count": 180,
     "metadata": {},
     "output_type": "execute_result"
    }
   ],
   "source": [
    "ex = overlap[['VTD2016','Label_x','votes_democratic','votes_republican', 'PRES16D','PRES16R']].loc[(overlap['votes_democratic'] != overlap['PRES16D']) & (overlap['_merge'] == 'both') & (overlap['Label_x'].str.contains('MUSKEGON'))]\n",
    "ex.columns = ['VTD2016','Precinct_Label','RDH_votes_dem','RDH_votes_gop','MGGG_votes_dem','MGGG_votes_gop']\n",
    "ex"
   ]
  },
  {
   "cell_type": "markdown",
   "metadata": {},
   "source": [
    "## Demographic Data"
   ]
  },
  {
   "cell_type": "code",
   "execution_count": 181,
   "metadata": {},
   "outputs": [
    {
     "data": {
      "text/plain": [
       "9883640"
      ]
     },
     "execution_count": 181,
     "metadata": {},
     "output_type": "execute_result"
    }
   ],
   "source": [
    "mggg_final_shp.TOTPOP.sum()"
   ]
  },
  {
   "cell_type": "code",
   "execution_count": 182,
   "metadata": {},
   "outputs": [
    {
     "data": {
      "text/plain": [
       "9883640"
      ]
     },
     "execution_count": 182,
     "metadata": {},
     "output_type": "execute_result"
    }
   ],
   "source": [
    "precincts.TOTPOP.sum()"
   ]
  },
  {
   "cell_type": "code",
   "execution_count": 183,
   "metadata": {},
   "outputs": [],
   "source": [
    "import math"
   ]
  },
  {
   "cell_type": "code",
   "execution_count": 184,
   "metadata": {},
   "outputs": [],
   "source": [
    "def match(row, mggg_col, prec_col):\n",
    "    mggg_value = row[mggg_col]\n",
    "    prec_value = row[prec_col]\n",
    "    \n",
    "    return math.ceil(mggg_value) == prec_value or math.floor(mggg_value) == prec_value"
   ]
  },
  {
   "cell_type": "code",
   "execution_count": 185,
   "metadata": {},
   "outputs": [
    {
     "data": {
      "text/plain": [
       "Index(['OBJECTID', 'Id', 'VTD2016', 'CountyFips', 'Jurisdicti', 'ElectionYe',\n",
       "       'Label', 'ShapeSTAre', 'ShapeSTLen', 'geometry', 'TOTPOP', 'NH_WHITE',\n",
       "       'NH_BLACK', 'NH_AMIN', 'NH_ASIAN', 'NH_NHPI', 'NH_OTHER', 'NH_2MORE',\n",
       "       'HISP', 'VAP', 'HVAP', 'WVAP', 'BVAP', 'AMINVAP', 'ASIANVAP', 'NHPIVAP',\n",
       "       'OTHERVAP', '2MOREVAP', 'SEN_DIST', 'H_DIST', 'CONGRESSIONAL_DISTRICTS',\n",
       "       'county_precinct'],\n",
       "      dtype='object')"
      ]
     },
     "execution_count": 185,
     "metadata": {},
     "output_type": "execute_result"
    }
   ],
   "source": [
    "precincts.columns"
   ]
  },
  {
   "cell_type": "code",
   "execution_count": 186,
   "metadata": {},
   "outputs": [
    {
     "data": {
      "text/html": [
       "<div>\n",
       "<style scoped>\n",
       "    .dataframe tbody tr th:only-of-type {\n",
       "        vertical-align: middle;\n",
       "    }\n",
       "\n",
       "    .dataframe tbody tr th {\n",
       "        vertical-align: top;\n",
       "    }\n",
       "\n",
       "    .dataframe thead th {\n",
       "        text-align: right;\n",
       "    }\n",
       "</style>\n",
       "<table border=\"1\" class=\"dataframe\">\n",
       "  <thead>\n",
       "    <tr style=\"text-align: right;\">\n",
       "      <th></th>\n",
       "      <th>CountyFips</th>\n",
       "      <th>Label</th>\n",
       "      <th>TOTPOP</th>\n",
       "    </tr>\n",
       "  </thead>\n",
       "  <tbody>\n",
       "    <tr>\n",
       "      <th>0</th>\n",
       "      <td>163</td>\n",
       "      <td>DEARBORN CITY; 1</td>\n",
       "      <td>2616</td>\n",
       "    </tr>\n",
       "    <tr>\n",
       "      <th>1</th>\n",
       "      <td>163</td>\n",
       "      <td>DEARBORN CITY; 2</td>\n",
       "      <td>2969</td>\n",
       "    </tr>\n",
       "    <tr>\n",
       "      <th>2</th>\n",
       "      <td>163</td>\n",
       "      <td>DEARBORN CITY; 3</td>\n",
       "      <td>3503</td>\n",
       "    </tr>\n",
       "    <tr>\n",
       "      <th>3</th>\n",
       "      <td>163</td>\n",
       "      <td>DEARBORN CITY; 4</td>\n",
       "      <td>2113</td>\n",
       "    </tr>\n",
       "    <tr>\n",
       "      <th>4</th>\n",
       "      <td>163</td>\n",
       "      <td>DEARBORN CITY; 5</td>\n",
       "      <td>2392</td>\n",
       "    </tr>\n",
       "    <tr>\n",
       "      <th>...</th>\n",
       "      <td>...</td>\n",
       "      <td>...</td>\n",
       "      <td>...</td>\n",
       "    </tr>\n",
       "    <tr>\n",
       "      <th>4257</th>\n",
       "      <td>163</td>\n",
       "      <td>WAYNE CITY; 6</td>\n",
       "      <td>2700</td>\n",
       "    </tr>\n",
       "    <tr>\n",
       "      <th>4258</th>\n",
       "      <td>163</td>\n",
       "      <td>WAYNE CITY; 4</td>\n",
       "      <td>3241</td>\n",
       "    </tr>\n",
       "    <tr>\n",
       "      <th>4259</th>\n",
       "      <td>163</td>\n",
       "      <td>WAYNE CITY; 5</td>\n",
       "      <td>3032</td>\n",
       "    </tr>\n",
       "    <tr>\n",
       "      <th>4289</th>\n",
       "      <td>163</td>\n",
       "      <td>WAYNE CITY; 3</td>\n",
       "      <td>2671</td>\n",
       "    </tr>\n",
       "    <tr>\n",
       "      <th>4785</th>\n",
       "      <td>163</td>\n",
       "      <td>WESTLAND CITY; 21</td>\n",
       "      <td>1707</td>\n",
       "    </tr>\n",
       "  </tbody>\n",
       "</table>\n",
       "<p>999 rows × 3 columns</p>\n",
       "</div>"
      ],
      "text/plain": [
       "     CountyFips              Label  TOTPOP\n",
       "0           163   DEARBORN CITY; 1    2616\n",
       "1           163   DEARBORN CITY; 2    2969\n",
       "2           163   DEARBORN CITY; 3    3503\n",
       "3           163   DEARBORN CITY; 4    2113\n",
       "4           163   DEARBORN CITY; 5    2392\n",
       "...         ...                ...     ...\n",
       "4257        163      WAYNE CITY; 6    2700\n",
       "4258        163      WAYNE CITY; 4    3241\n",
       "4259        163      WAYNE CITY; 5    3032\n",
       "4289        163      WAYNE CITY; 3    2671\n",
       "4785        163  WESTLAND CITY; 21    1707\n",
       "\n",
       "[999 rows x 3 columns]"
      ]
     },
     "execution_count": 186,
     "metadata": {},
     "output_type": "execute_result"
    }
   ],
   "source": [
    "precincts[precincts['CountyFips'] == '163'][['CountyFips','Label','TOTPOP']]"
   ]
  },
  {
   "cell_type": "markdown",
   "metadata": {},
   "source": [
    "Compare all the demo fields for the overlap where we were able to merge the precinct shapefile and election results (`overlap['_merge'] == 'both'`)"
   ]
  },
  {
   "cell_type": "code",
   "execution_count": 187,
   "metadata": {},
   "outputs": [
    {
     "name": "stdout",
     "output_type": "stream",
     "text": [
      "~~~~ TOTPOP\n",
      "True     4617\n",
      "False       8\n",
      "dtype: int64\n",
      "deviation < 10:  0.9995675675675676\n",
      "deviation < 100:  1.0\n",
      "~~~~ NH_WHITE\n",
      "True     4617\n",
      "False       8\n",
      "dtype: int64\n",
      "deviation < 10:  1.0\n",
      "deviation < 100:  1.0\n",
      "~~~~ NH_BLACK\n",
      "True     4623\n",
      "False       2\n",
      "dtype: int64\n",
      "deviation < 10:  0.9995675675675676\n",
      "deviation < 100:  1.0\n",
      "~~~~ NH_AMIN\n",
      "True    4625\n",
      "dtype: int64\n",
      "deviation < 10:  1.0\n",
      "deviation < 100:  1.0\n",
      "~~~~ NH_ASIAN\n",
      "True    4625\n",
      "dtype: int64\n",
      "deviation < 10:  1.0\n",
      "deviation < 100:  1.0\n",
      "~~~~ NH_NHPI\n",
      "True    4625\n",
      "dtype: int64\n",
      "deviation < 10:  1.0\n",
      "deviation < 100:  1.0\n",
      "~~~~ NH_OTHER\n",
      "True    4625\n",
      "dtype: int64\n",
      "deviation < 10:  1.0\n",
      "deviation < 100:  1.0\n",
      "~~~~ NH_2MORE\n",
      "True    4625\n",
      "dtype: int64\n",
      "deviation < 10:  1.0\n",
      "deviation < 100:  1.0\n",
      "~~~~ HISP\n",
      "True    4625\n",
      "dtype: int64\n",
      "deviation < 10:  1.0\n",
      "deviation < 100:  1.0\n",
      "~~~~ VAP\n",
      "True     4617\n",
      "False       8\n",
      "dtype: int64\n",
      "deviation < 1:  0.9982702702702703\n",
      "deviation < 2:  0.9982702702702703\n",
      "deviation < 10:  1.0\n",
      "deviation < 100:  1.0\n",
      "~~~~ HVAP\n",
      "True    4625\n",
      "dtype: int64\n",
      "deviation < 10:  1.0\n",
      "deviation < 100:  1.0\n",
      "~~~~ WVAP\n",
      "True     4617\n",
      "False       8\n",
      "dtype: int64\n",
      "deviation < 10:  1.0\n",
      "deviation < 100:  1.0\n",
      "~~~~ BVAP\n",
      "True     4623\n",
      "False       2\n",
      "dtype: int64\n",
      "deviation < 10:  1.0\n",
      "deviation < 100:  1.0\n",
      "~~~~ AMINVAP\n",
      "True    4625\n",
      "dtype: int64\n",
      "deviation < 10:  1.0\n",
      "deviation < 100:  1.0\n",
      "~~~~ ASIANVAP\n",
      "True    4625\n",
      "dtype: int64\n",
      "deviation < 10:  1.0\n",
      "deviation < 100:  1.0\n",
      "~~~~ NHPIVAP\n",
      "True    4625\n",
      "dtype: int64\n",
      "deviation < 10:  1.0\n",
      "deviation < 100:  1.0\n",
      "~~~~ OTHERVAP\n",
      "True    4625\n",
      "dtype: int64\n",
      "deviation < 10:  1.0\n",
      "deviation < 100:  1.0\n",
      "~~~~ 2MOREVAP\n",
      "True    4625\n",
      "dtype: int64\n",
      "deviation < 10:  1.0\n",
      "deviation < 100:  1.0\n"
     ]
    }
   ],
   "source": [
    "demo_variables = ['TOTPOP','NH_WHITE', 'NH_BLACK', 'NH_AMIN', 'NH_ASIAN', \n",
    "             'NH_NHPI', 'NH_OTHER','NH_2MORE', 'HISP', 'VAP', 'HVAP', \n",
    "             'WVAP', 'BVAP', 'AMINVAP','ASIANVAP', 'NHPIVAP', 'OTHERVAP', \n",
    "             '2MOREVAP'] \n",
    "\n",
    "for demo in demo_variables: \n",
    "    try: \n",
    "        print('~~~~ ' + demo)\n",
    "        print(overlap[overlap['_merge'] == 'both'].apply(lambda row: match(row, demo + '_y', demo + '_x'), axis=1).value_counts())\n",
    "        \n",
    "        if demo == 'VAP':\n",
    "            print('deviation < 1: ', overlap[((overlap[demo + '_x'] - overlap[demo + '_y']).abs() < 1) & (overlap['_merge'] == 'both')].shape[0] / overlap[overlap['_merge'] == 'both'].shape[0])\n",
    "            print('deviation < 2: ', overlap[((overlap[demo + '_x'] - overlap[demo + '_y']).abs() < 2) & (overlap['_merge'] == 'both')].shape[0] / overlap[overlap['_merge'] == 'both'].shape[0])\n",
    "\n",
    "        print('deviation < 10: ', overlap[((overlap[demo + '_x'] - overlap[demo + '_y']).abs() < 10) & (overlap['_merge'] == 'both')].shape[0] / overlap[overlap['_merge'] == 'both'].shape[0])\n",
    "        print('deviation < 100: ', overlap[((overlap[demo + '_x'] - overlap[demo + '_y']).abs() < 100) & (overlap['_merge'] == 'both')].shape[0] / overlap[overlap['_merge'] == 'both'].shape[0])\n",
    "    except:\n",
    "        continue"
   ]
  },
  {
   "cell_type": "markdown",
   "metadata": {},
   "source": [
    "The populations looks good after the MGGG update"
   ]
  }
 ],
 "metadata": {
  "kernelspec": {
   "display_name": "Python 3",
   "language": "python",
   "name": "python3"
  },
  "language_info": {
   "codemirror_mode": {
    "name": "ipython",
    "version": 3
   },
   "file_extension": ".py",
   "mimetype": "text/x-python",
   "name": "python",
   "nbconvert_exporter": "python",
   "pygments_lexer": "ipython3",
   "version": "3.8.3"
  },
  "toc-autonumbering": true,
  "toc-showcode": false,
  "toc-showmarkdowntxt": false,
  "toc-showtags": false
 },
 "nbformat": 4,
 "nbformat_minor": 4
}
