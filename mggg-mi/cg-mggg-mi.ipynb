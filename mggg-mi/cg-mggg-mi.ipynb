{
 "cells": [
  {
   "cell_type": "code",
   "execution_count": 1,
   "metadata": {},
   "outputs": [],
   "source": [
    "import numpy as np\n",
    "import pandas as pd\n",
    "import geopandas as gpd\n",
    "import pathlib\n",
    "import matplotlib.pyplot as plt\n",
    "import maup\n",
    "import requests"
   ]
  },
  {
   "cell_type": "markdown",
   "metadata": {},
   "source": [
    "**Census voting districts shapefile**"
   ]
  },
  {
   "cell_type": "code",
   "execution_count": 2,
   "metadata": {},
   "outputs": [
    {
     "data": {
      "text/plain": [
       "'/Users/lilyfalk/Github/pdv-mi/mggg-mi'"
      ]
     },
     "execution_count": 2,
     "metadata": {},
     "output_type": "execute_result"
    }
   ],
   "source": [
    "import os\n",
    "os.getcwd()"
   ]
  },
  {
   "cell_type": "code",
   "execution_count": 3,
   "metadata": {},
   "outputs": [],
   "source": [
    "#https://catalog.data.gov/dataset/tiger-line-shapefile-2012-2010-state-michigan-2010-census-voting-district-state-based-vtd\n",
    "vtd = gpd.read_file(\"tl_2012_26_vtd10/tl_2012_26_vtd10.shp\")"
   ]
  },
  {
   "cell_type": "markdown",
   "metadata": {},
   "source": [
    "**Census block shapefile**"
   ]
  },
  {
   "cell_type": "code",
   "execution_count": 4,
   "metadata": {},
   "outputs": [],
   "source": [
    "blocks = gpd.read_file(\"tl_2017_26_tabblock10/tl_2017_26_tabblock10.shp\")"
   ]
  },
  {
   "cell_type": "markdown",
   "metadata": {},
   "source": [
    "**Block-level demographic data**"
   ]
  },
  {
   "cell_type": "code",
   "execution_count": 5,
   "metadata": {},
   "outputs": [],
   "source": [
    "#code chunk by Melisande Teng \n",
    "\n",
    "variables = [\n",
    "    # pop\n",
    "    \"P001001\",\n",
    "    \"P005003\",\n",
    "    \"P005004\",\n",
    "    \"P005005\",\n",
    "    \"P005006\",\n",
    "    \"P005007\",\n",
    "    \"P005008\",\n",
    "    \"P005009\",\n",
    "    \"P005010\",\n",
    "    \"P005011\",\n",
    "    \"P005012\",\n",
    "    \"P005013\",\n",
    "    \"P005014\",\n",
    "    \"P005015\",\n",
    "    \"P005016\",\n",
    "    \"P005017\",\n",
    "    # vap\n",
    "    \"P011001\",\n",
    "    \"P011002\",\n",
    "    \"P011005\",\n",
    "    \"P011006\",\n",
    "    \"P011007\",\n",
    "    \"P011008\",\n",
    "    \"P011009\",\n",
    "    \"P011010\",\n",
    "    \"P011011\",\n",
    "]\n",
    "\n",
    "keys = [\n",
    "    # pop\n",
    "    \"TOTPOP\",\n",
    "    \"NH_WHITE\",\n",
    "    \"NH_BLACK\",\n",
    "    \"NH_AMIN \",\n",
    "    \"NH_ASIAN\",\n",
    "    \"NH_NHPI \",\n",
    "    \"NH_OTHER\",\n",
    "    \"NH_2MORE\",\n",
    "    \"HISP\",\n",
    "    \"H_WHITE\",\n",
    "    \"H_BLACK\",\n",
    "    \"H_AMIN \",\n",
    "    \"H_ASIAN\",\n",
    "    \"H_NHPI \",\n",
    "    \"H_OTHER\",\n",
    "    \"H_2MORE\",\n",
    "    # vap\n",
    "    \"VAP\",\n",
    "    \"HVAP\",\n",
    "    \"WVAP\",\n",
    "    \"BVAP\",\n",
    "    \"AMINVAP\",\n",
    "    \"ASIANVAP\",\n",
    "    \"NHPIVAP\",\n",
    "    \"OTHERVAP\",\n",
    "    \"2MOREVAP\",\n",
    "]\n",
    "\n",
    "\n",
    "def counties(state_fips):\n",
    "    resp = requests.get(\n",
    "        \"https://api.census.gov/data/2010/dec/sf1\"\n",
    "        \"?get=NAME&for=county:*&in=state:{}\".format(state_fips)\n",
    "    )\n",
    "    header, *rows = resp.json()\n",
    "    county_column_index = header.index(\"county\")\n",
    "    county_fips_codes = set(row[county_column_index] for row in rows)\n",
    "    return county_fips_codes\n",
    "\n",
    "def block_data_for_county(state_fips, county_fips, variables=variables, keys=keys):\n",
    "    url = (\n",
    "        \"https://api.census.gov/data/2010/dec/sf1\"\n",
    "        + \"?get={},NAME&for=block:*\".format(\",\".join(variables))\n",
    "        + \"&in=state:{}&in=county:{}&in=tract:*\".format(state_fips, county_fips)\n",
    "    )\n",
    "    resp = requests.get(url)\n",
    "    header, *rows = resp.json()\n",
    "    variable_lookup = dict(zip(variables, keys))\n",
    "    columns = [variable_lookup.get(column_name, column_name) for column_name in header]\n",
    "    dtypes = {key: int for key in keys}\n",
    "    dtypes.update({key: str for key in [\"state\", \"county\", \"tract\", \"block\"]})\n",
    "    data = pd.DataFrame.from_records(rows, columns=columns).astype(dtypes)\n",
    "    data[\"geoid\"] = data[\"state\"] + data[\"county\"] + data[\"tract\"] + data[\"block\"]\n",
    "    return data\n",
    "\n",
    "\n",
    "def block_data_for_state(state_fips):\n",
    "    from tqdm.auto import tqdm\n",
    "    county_fips_codes = counties(state_fips)\n",
    "    return pd.concat(\n",
    "        [\n",
    "            block_data_for_county(state_fips, county_fips)\n",
    "            for county_fips in tqdm(county_fips_codes)\n",
    "        ]\n",
    "    )"
   ]
  },
  {
   "cell_type": "code",
   "execution_count": 6,
   "metadata": {
    "scrolled": true
   },
   "outputs": [
    {
     "data": {
      "application/vnd.jupyter.widget-view+json": {
       "model_id": "1d89b36f44e34dc199a6cdad74945eff",
       "version_major": 2,
       "version_minor": 0
      },
      "text/plain": [
       "HBox(children=(FloatProgress(value=0.0, max=83.0), HTML(value='')))"
      ]
     },
     "metadata": {},
     "output_type": "display_data"
    },
    {
     "name": "stdout",
     "output_type": "stream",
     "text": [
      "\n"
     ]
    }
   ],
   "source": [
    "demographic = block_data_for_state('26') # For MI onlyb\n"
   ]
  },
  {
   "cell_type": "markdown",
   "metadata": {},
   "source": [
    "**2016 Voting Precincts**"
   ]
  },
  {
   "cell_type": "code",
   "execution_count": 13,
   "metadata": {},
   "outputs": [
    {
     "data": {
      "text/plain": [
       "<matplotlib.axes._subplots.AxesSubplot at 0x1242619d0>"
      ]
     },
     "execution_count": 13,
     "metadata": {},
     "output_type": "execute_result"
    },
    {
     "data": {
      "image/png": "[encoded data removed]",
      "text/plain": [
       "<Figure size 432x288 with 1 Axes>"
      ]
     },
     "metadata": {
      "needs_background": "light"
     },
     "output_type": "display_data"
    }
   ],
   "source": [
    "precincts = gpd.read_file(\"2016_Voting_Precincts-shp/2016_Voting_Precincts.shp\")\n",
    "precincts.plot()"
   ]
  },
  {
   "cell_type": "code",
   "execution_count": 14,
   "metadata": {},
   "outputs": [
    {
     "data": {
      "text/html": [
       "<div>\n",
       "<style scoped>\n",
       "    .dataframe tbody tr th:only-of-type {\n",
       "        vertical-align: middle;\n",
       "    }\n",
       "\n",
       "    .dataframe tbody tr th {\n",
       "        vertical-align: top;\n",
       "    }\n",
       "\n",
       "    .dataframe thead th {\n",
       "        text-align: right;\n",
       "    }\n",
       "</style>\n",
       "<table border=\"1\" class=\"dataframe\">\n",
       "  <thead>\n",
       "    <tr style=\"text-align: right;\">\n",
       "      <th></th>\n",
       "      <th>OBJECTID</th>\n",
       "      <th>Id</th>\n",
       "      <th>VTD2016</th>\n",
       "      <th>CountyFips</th>\n",
       "      <th>Jurisdicti</th>\n",
       "      <th>ElectionYe</th>\n",
       "      <th>Label</th>\n",
       "      <th>ShapeSTAre</th>\n",
       "      <th>ShapeSTLen</th>\n",
       "      <th>geometry</th>\n",
       "    </tr>\n",
       "  </thead>\n",
       "  <tbody>\n",
       "    <tr>\n",
       "      <th>0</th>\n",
       "      <td>1</td>\n",
       "      <td>3888</td>\n",
       "      <td>1632100000001</td>\n",
       "      <td>163</td>\n",
       "      <td>21000</td>\n",
       "      <td>2016</td>\n",
       "      <td>City of Dearborn</td>\n",
       "      <td>2.489738e+06</td>\n",
       "      <td>6846.254657</td>\n",
       "      <td>POLYGON ((734740.564 203392.197, 734729.230 20...</td>\n",
       "    </tr>\n",
       "    <tr>\n",
       "      <th>1</th>\n",
       "      <td>2</td>\n",
       "      <td>3889</td>\n",
       "      <td>1632100000002</td>\n",
       "      <td>163</td>\n",
       "      <td>21000</td>\n",
       "      <td>2016</td>\n",
       "      <td>City of Dearborn</td>\n",
       "      <td>1.058362e+06</td>\n",
       "      <td>4621.388992</td>\n",
       "      <td>POLYGON ((733757.240 203553.421, 733767.280 20...</td>\n",
       "    </tr>\n",
       "    <tr>\n",
       "      <th>2</th>\n",
       "      <td>3</td>\n",
       "      <td>3890</td>\n",
       "      <td>1632100000003</td>\n",
       "      <td>163</td>\n",
       "      <td>21000</td>\n",
       "      <td>2016</td>\n",
       "      <td>City of Dearborn</td>\n",
       "      <td>1.488846e+06</td>\n",
       "      <td>4909.715171</td>\n",
       "      <td>POLYGON ((733220.680 203094.269, 733125.455 20...</td>\n",
       "    </tr>\n",
       "    <tr>\n",
       "      <th>3</th>\n",
       "      <td>4</td>\n",
       "      <td>3891</td>\n",
       "      <td>1632100000004</td>\n",
       "      <td>163</td>\n",
       "      <td>21000</td>\n",
       "      <td>2016</td>\n",
       "      <td>City of Dearborn</td>\n",
       "      <td>1.187165e+06</td>\n",
       "      <td>4354.743602</td>\n",
       "      <td>POLYGON ((732401.480 203234.816, 732303.854 20...</td>\n",
       "    </tr>\n",
       "    <tr>\n",
       "      <th>4</th>\n",
       "      <td>5</td>\n",
       "      <td>3892</td>\n",
       "      <td>1632100000005</td>\n",
       "      <td>163</td>\n",
       "      <td>21000</td>\n",
       "      <td>2016</td>\n",
       "      <td>City of Dearborn</td>\n",
       "      <td>1.133548e+06</td>\n",
       "      <td>5460.202887</td>\n",
       "      <td>POLYGON ((731590.226 203387.835, 731604.080 20...</td>\n",
       "    </tr>\n",
       "  </tbody>\n",
       "</table>\n",
       "</div>"
      ],
      "text/plain": [
       "   OBJECTID    Id        VTD2016 CountyFips Jurisdicti  ElectionYe  \\\n",
       "0         1  3888  1632100000001        163      21000        2016   \n",
       "1         2  3889  1632100000002        163      21000        2016   \n",
       "2         3  3890  1632100000003        163      21000        2016   \n",
       "3         4  3891  1632100000004        163      21000        2016   \n",
       "4         5  3892  1632100000005        163      21000        2016   \n",
       "\n",
       "              Label    ShapeSTAre   ShapeSTLen  \\\n",
       "0  City of Dearborn  2.489738e+06  6846.254657   \n",
       "1  City of Dearborn  1.058362e+06  4621.388992   \n",
       "2  City of Dearborn  1.488846e+06  4909.715171   \n",
       "3  City of Dearborn  1.187165e+06  4354.743602   \n",
       "4  City of Dearborn  1.133548e+06  5460.202887   \n",
       "\n",
       "                                            geometry  \n",
       "0  POLYGON ((734740.564 203392.197, 734729.230 20...  \n",
       "1  POLYGON ((733757.240 203553.421, 733767.280 20...  \n",
       "2  POLYGON ((733220.680 203094.269, 733125.455 20...  \n",
       "3  POLYGON ((732401.480 203234.816, 732303.854 20...  \n",
       "4  POLYGON ((731590.226 203387.835, 731604.080 20...  "
      ]
     },
     "execution_count": 14,
     "metadata": {},
     "output_type": "execute_result"
    }
   ],
   "source": [
    "precincts.head()"
   ]
  },
  {
   "cell_type": "code",
   "execution_count": 15,
   "metadata": {},
   "outputs": [
    {
     "data": {
      "text/plain": [
       "OBJECTID      4810\n",
       "Id            4769\n",
       "VTD2016       4810\n",
       "CountyFips      83\n",
       "Jurisdicti    1520\n",
       "ElectionYe       1\n",
       "Label         1306\n",
       "ShapeSTAre    4810\n",
       "ShapeSTLen    4810\n",
       "geometry      4810\n",
       "dtype: int64"
      ]
     },
     "execution_count": 15,
     "metadata": {},
     "output_type": "execute_result"
    }
   ],
   "source": [
    "precincts.nunique()"
   ]
  },
  {
   "cell_type": "code",
   "execution_count": 18,
   "metadata": {},
   "outputs": [
    {
     "data": {
      "text/plain": [
       "(8146112, 37)"
      ]
     },
     "execution_count": 18,
     "metadata": {},
     "output_type": "execute_result"
    }
   ],
   "source": [
    "election.shape"
   ]
  },
  {
   "cell_type": "code",
   "execution_count": 29,
   "metadata": {},
   "outputs": [],
   "source": [
    "df = elect_pivoted\n",
    "gdf = precincts"
   ]
  },
  {
   "cell_type": "code",
   "execution_count": 32,
   "metadata": {},
   "outputs": [
    {
     "data": {
      "text/html": [
       "<div>\n",
       "<style scoped>\n",
       "    .dataframe tbody tr th:only-of-type {\n",
       "        vertical-align: middle;\n",
       "    }\n",
       "\n",
       "    .dataframe tbody tr th {\n",
       "        vertical-align: top;\n",
       "    }\n",
       "\n",
       "    .dataframe thead th {\n",
       "        text-align: right;\n",
       "    }\n",
       "</style>\n",
       "<table border=\"1\" class=\"dataframe\">\n",
       "  <thead>\n",
       "    <tr style=\"text-align: right;\">\n",
       "      <th></th>\n",
       "      <th>PRES16D</th>\n",
       "      <th>PRES16G</th>\n",
       "      <th>PRES16L</th>\n",
       "      <th>PRES16R</th>\n",
       "    </tr>\n",
       "    <tr>\n",
       "      <th>precinct</th>\n",
       "      <th></th>\n",
       "      <th></th>\n",
       "      <th></th>\n",
       "      <th></th>\n",
       "    </tr>\n",
       "  </thead>\n",
       "  <tbody>\n",
       "    <tr>\n",
       "      <th>ACME TOWNSHIP; 1</th>\n",
       "      <td>556.222222</td>\n",
       "      <td>51.500000</td>\n",
       "      <td>57.444444</td>\n",
       "      <td>854.444444</td>\n",
       "    </tr>\n",
       "    <tr>\n",
       "      <th>ACME TOWNSHIP; 2</th>\n",
       "      <td>254.666667</td>\n",
       "      <td>15.166667</td>\n",
       "      <td>29.444444</td>\n",
       "      <td>564.000000</td>\n",
       "    </tr>\n",
       "    <tr>\n",
       "      <th>ADA TOWNSHIP; 1</th>\n",
       "      <td>268.000000</td>\n",
       "      <td>16.142857</td>\n",
       "      <td>23.111111</td>\n",
       "      <td>492.333333</td>\n",
       "    </tr>\n",
       "    <tr>\n",
       "      <th>ADA TOWNSHIP; 2</th>\n",
       "      <td>536.222222</td>\n",
       "      <td>25.000000</td>\n",
       "      <td>50.333333</td>\n",
       "      <td>895.000000</td>\n",
       "    </tr>\n",
       "    <tr>\n",
       "      <th>ADA TOWNSHIP; 3</th>\n",
       "      <td>266.888889</td>\n",
       "      <td>18.857143</td>\n",
       "      <td>29.777778</td>\n",
       "      <td>574.888889</td>\n",
       "    </tr>\n",
       "  </tbody>\n",
       "</table>\n",
       "</div>"
      ],
      "text/plain": [
       "                     PRES16D    PRES16G    PRES16L     PRES16R\n",
       "precinct                                                      \n",
       "ACME TOWNSHIP; 1  556.222222  51.500000  57.444444  854.444444\n",
       "ACME TOWNSHIP; 2  254.666667  15.166667  29.444444  564.000000\n",
       "ADA TOWNSHIP; 1   268.000000  16.142857  23.111111  492.333333\n",
       "ADA TOWNSHIP; 2   536.222222  25.000000  50.333333  895.000000\n",
       "ADA TOWNSHIP; 3   266.888889  18.857143  29.777778  574.888889"
      ]
     },
     "execution_count": 32,
     "metadata": {},
     "output_type": "execute_result"
    }
   ],
   "source": [
    "df.head()"
   ]
  },
  {
   "cell_type": "code",
   "execution_count": 34,
   "metadata": {},
   "outputs": [
    {
     "data": {
      "text/plain": [
       "(4795, 4)"
      ]
     },
     "execution_count": 34,
     "metadata": {},
     "output_type": "execute_result"
    }
   ],
   "source": [
    "df.shape"
   ]
  },
  {
   "cell_type": "code",
   "execution_count": 33,
   "metadata": {},
   "outputs": [
    {
     "data": {
      "text/html": [
       "<div>\n",
       "<style scoped>\n",
       "    .dataframe tbody tr th:only-of-type {\n",
       "        vertical-align: middle;\n",
       "    }\n",
       "\n",
       "    .dataframe tbody tr th {\n",
       "        vertical-align: top;\n",
       "    }\n",
       "\n",
       "    .dataframe thead th {\n",
       "        text-align: right;\n",
       "    }\n",
       "</style>\n",
       "<table border=\"1\" class=\"dataframe\">\n",
       "  <thead>\n",
       "    <tr style=\"text-align: right;\">\n",
       "      <th></th>\n",
       "      <th>OBJECTID</th>\n",
       "      <th>Id</th>\n",
       "      <th>VTD2016</th>\n",
       "      <th>CountyFips</th>\n",
       "      <th>Jurisdicti</th>\n",
       "      <th>ElectionYe</th>\n",
       "      <th>Label</th>\n",
       "      <th>ShapeSTAre</th>\n",
       "      <th>ShapeSTLen</th>\n",
       "      <th>geometry</th>\n",
       "    </tr>\n",
       "  </thead>\n",
       "  <tbody>\n",
       "    <tr>\n",
       "      <th>0</th>\n",
       "      <td>1</td>\n",
       "      <td>3888</td>\n",
       "      <td>1632100000001</td>\n",
       "      <td>163</td>\n",
       "      <td>21000</td>\n",
       "      <td>2016</td>\n",
       "      <td>City of Dearborn</td>\n",
       "      <td>2.489738e+06</td>\n",
       "      <td>6846.254657</td>\n",
       "      <td>POLYGON ((734740.564 203392.197, 734729.230 20...</td>\n",
       "    </tr>\n",
       "    <tr>\n",
       "      <th>1</th>\n",
       "      <td>2</td>\n",
       "      <td>3889</td>\n",
       "      <td>1632100000002</td>\n",
       "      <td>163</td>\n",
       "      <td>21000</td>\n",
       "      <td>2016</td>\n",
       "      <td>City of Dearborn</td>\n",
       "      <td>1.058362e+06</td>\n",
       "      <td>4621.388992</td>\n",
       "      <td>POLYGON ((733757.240 203553.421, 733767.280 20...</td>\n",
       "    </tr>\n",
       "    <tr>\n",
       "      <th>2</th>\n",
       "      <td>3</td>\n",
       "      <td>3890</td>\n",
       "      <td>1632100000003</td>\n",
       "      <td>163</td>\n",
       "      <td>21000</td>\n",
       "      <td>2016</td>\n",
       "      <td>City of Dearborn</td>\n",
       "      <td>1.488846e+06</td>\n",
       "      <td>4909.715171</td>\n",
       "      <td>POLYGON ((733220.680 203094.269, 733125.455 20...</td>\n",
       "    </tr>\n",
       "    <tr>\n",
       "      <th>3</th>\n",
       "      <td>4</td>\n",
       "      <td>3891</td>\n",
       "      <td>1632100000004</td>\n",
       "      <td>163</td>\n",
       "      <td>21000</td>\n",
       "      <td>2016</td>\n",
       "      <td>City of Dearborn</td>\n",
       "      <td>1.187165e+06</td>\n",
       "      <td>4354.743602</td>\n",
       "      <td>POLYGON ((732401.480 203234.816, 732303.854 20...</td>\n",
       "    </tr>\n",
       "    <tr>\n",
       "      <th>4</th>\n",
       "      <td>5</td>\n",
       "      <td>3892</td>\n",
       "      <td>1632100000005</td>\n",
       "      <td>163</td>\n",
       "      <td>21000</td>\n",
       "      <td>2016</td>\n",
       "      <td>City of Dearborn</td>\n",
       "      <td>1.133548e+06</td>\n",
       "      <td>5460.202887</td>\n",
       "      <td>POLYGON ((731590.226 203387.835, 731604.080 20...</td>\n",
       "    </tr>\n",
       "  </tbody>\n",
       "</table>\n",
       "</div>"
      ],
      "text/plain": [
       "   OBJECTID    Id        VTD2016 CountyFips Jurisdicti  ElectionYe  \\\n",
       "0         1  3888  1632100000001        163      21000        2016   \n",
       "1         2  3889  1632100000002        163      21000        2016   \n",
       "2         3  3890  1632100000003        163      21000        2016   \n",
       "3         4  3891  1632100000004        163      21000        2016   \n",
       "4         5  3892  1632100000005        163      21000        2016   \n",
       "\n",
       "              Label    ShapeSTAre   ShapeSTLen  \\\n",
       "0  City of Dearborn  2.489738e+06  6846.254657   \n",
       "1  City of Dearborn  1.058362e+06  4621.388992   \n",
       "2  City of Dearborn  1.488846e+06  4909.715171   \n",
       "3  City of Dearborn  1.187165e+06  4354.743602   \n",
       "4  City of Dearborn  1.133548e+06  5460.202887   \n",
       "\n",
       "                                            geometry  \n",
       "0  POLYGON ((734740.564 203392.197, 734729.230 20...  \n",
       "1  POLYGON ((733757.240 203553.421, 733767.280 20...  \n",
       "2  POLYGON ((733220.680 203094.269, 733125.455 20...  \n",
       "3  POLYGON ((732401.480 203234.816, 732303.854 20...  \n",
       "4  POLYGON ((731590.226 203387.835, 731604.080 20...  "
      ]
     },
     "execution_count": 33,
     "metadata": {},
     "output_type": "execute_result"
    }
   ],
   "source": [
    "gdf.head()"
   ]
  },
  {
   "cell_type": "code",
   "execution_count": 41,
   "metadata": {},
   "outputs": [
    {
     "data": {
      "text/plain": [
       "1306"
      ]
     },
     "execution_count": 41,
     "metadata": {},
     "output_type": "execute_result"
    }
   ],
   "source": [
    "gdf.Label.nunique()"
   ]
  },
  {
   "cell_type": "code",
   "execution_count": 42,
   "metadata": {},
   "outputs": [
    {
     "data": {
      "text/plain": [
       "4810"
      ]
     },
     "execution_count": 42,
     "metadata": {},
     "output_type": "execute_result"
    }
   ],
   "source": [
    "gdf.VTD2016.nunique()"
   ]
  },
  {
   "cell_type": "markdown",
   "metadata": {},
   "source": [
    "The scale of the precinct shapefile does not match that of other shapefiles in used in this script. Rescaling the precinct shapefile may result in the loss of important geographic features. Therefore, the script does not merge precinct-level election data with block-level demographic data and state house & senate districts."
   ]
  },
  {
   "cell_type": "code",
   "execution_count": 43,
   "metadata": {},
   "outputs": [
    {
     "data": {
      "text/plain": [
       "Index(['year', 'stage', 'special', 'state', 'state_postal', 'state_fips',\n",
       "       'state_icpsr', 'county_name', 'county_fips', 'county_ansi',\n",
       "       'county_lat', 'county_long', 'jurisdiction', 'precinct', 'candidate',\n",
       "       'candidate_normalized', 'office', 'district', 'writein', 'party',\n",
       "       'mode', 'votes', 'candidate_opensecrets', 'candidate_wikidata',\n",
       "       'candidate_party', 'candidate_last', 'candidate_first',\n",
       "       'candidate_middle', 'candidate_full', 'candidate_suffix',\n",
       "       'candidate_nickname', 'candidate_fec', 'candidate_fec_name',\n",
       "       'candidate_google', 'candidate_govtrack', 'candidate_icpsr',\n",
       "       'candidate_maplight'],\n",
       "      dtype='object')"
      ]
     },
     "execution_count": 43,
     "metadata": {},
     "output_type": "execute_result"
    }
   ],
   "source": [
    "election.columns"
   ]
  },
  {
   "cell_type": "markdown",
   "metadata": {},
   "source": [
    "**State house and Senate districts**"
   ]
  },
  {
   "cell_type": "code",
   "execution_count": 16,
   "metadata": {},
   "outputs": [],
   "source": [
    "# State House\n",
    "state_house = gpd.read_file(\"tl_2011_26_sldl/tl_2011_26_sldl.shp\")\n",
    "\n",
    "# State Senate\n",
    "state_senate = gpd.read_file(\"tl_2011_26_sldu/tl_2011_26_sldu.shp\")"
   ]
  },
  {
   "cell_type": "code",
   "execution_count": 17,
   "metadata": {},
   "outputs": [
    {
     "data": {
      "text/html": [
       "<div>\n",
       "<style scoped>\n",
       "    .dataframe tbody tr th:only-of-type {\n",
       "        vertical-align: middle;\n",
       "    }\n",
       "\n",
       "    .dataframe tbody tr th {\n",
       "        vertical-align: top;\n",
       "    }\n",
       "\n",
       "    .dataframe thead th {\n",
       "        text-align: right;\n",
       "    }\n",
       "</style>\n",
       "<table border=\"1\" class=\"dataframe\">\n",
       "  <thead>\n",
       "    <tr style=\"text-align: right;\">\n",
       "      <th></th>\n",
       "      <th>STATEFP</th>\n",
       "      <th>SLDLST</th>\n",
       "      <th>GEOID</th>\n",
       "      <th>NAMELSAD</th>\n",
       "      <th>LSAD</th>\n",
       "      <th>LSY</th>\n",
       "      <th>MTFCC</th>\n",
       "      <th>FUNCSTAT</th>\n",
       "      <th>ALAND</th>\n",
       "      <th>AWATER</th>\n",
       "      <th>INTPTLAT</th>\n",
       "      <th>INTPTLON</th>\n",
       "      <th>geometry</th>\n",
       "    </tr>\n",
       "  </thead>\n",
       "  <tbody>\n",
       "    <tr>\n",
       "      <th>0</th>\n",
       "      <td>26</td>\n",
       "      <td>098</td>\n",
       "      <td>26098</td>\n",
       "      <td>State House District 98</td>\n",
       "      <td>LL</td>\n",
       "      <td>2010</td>\n",
       "      <td>G5220</td>\n",
       "      <td>N</td>\n",
       "      <td>1112688263</td>\n",
       "      <td>20224890</td>\n",
       "      <td>+43.4119307</td>\n",
       "      <td>-084.2345730</td>\n",
       "      <td>POLYGON ((-83.97394 43.52329, -83.96779 43.523...</td>\n",
       "    </tr>\n",
       "    <tr>\n",
       "      <th>1</th>\n",
       "      <td>26</td>\n",
       "      <td>094</td>\n",
       "      <td>26094</td>\n",
       "      <td>State House District 94</td>\n",
       "      <td>LL</td>\n",
       "      <td>2010</td>\n",
       "      <td>G5220</td>\n",
       "      <td>N</td>\n",
       "      <td>982458210</td>\n",
       "      <td>19105502</td>\n",
       "      <td>+43.3030887</td>\n",
       "      <td>-083.9582146</td>\n",
       "      <td>POLYGON ((-84.17061 43.45253, -84.17061 43.462...</td>\n",
       "    </tr>\n",
       "    <tr>\n",
       "      <th>2</th>\n",
       "      <td>26</td>\n",
       "      <td>095</td>\n",
       "      <td>26095</td>\n",
       "      <td>State House District 95</td>\n",
       "      <td>LL</td>\n",
       "      <td>2010</td>\n",
       "      <td>G5220</td>\n",
       "      <td>N</td>\n",
       "      <td>292245702</td>\n",
       "      <td>9872663</td>\n",
       "      <td>+43.3895144</td>\n",
       "      <td>-083.9174552</td>\n",
       "      <td>POLYGON ((-83.81667 43.34949, -83.81666 43.349...</td>\n",
       "    </tr>\n",
       "    <tr>\n",
       "      <th>3</th>\n",
       "      <td>26</td>\n",
       "      <td>080</td>\n",
       "      <td>26080</td>\n",
       "      <td>State House District 80</td>\n",
       "      <td>LL</td>\n",
       "      <td>2010</td>\n",
       "      <td>G5220</td>\n",
       "      <td>N</td>\n",
       "      <td>1756368818</td>\n",
       "      <td>3819297751</td>\n",
       "      <td>+42.2806954</td>\n",
       "      <td>-086.3376517</td>\n",
       "      <td>POLYGON ((-85.99596 42.41897, -85.99465 42.418...</td>\n",
       "    </tr>\n",
       "    <tr>\n",
       "      <th>4</th>\n",
       "      <td>26</td>\n",
       "      <td>081</td>\n",
       "      <td>26081</td>\n",
       "      <td>State House District 81</td>\n",
       "      <td>LL</td>\n",
       "      <td>2010</td>\n",
       "      <td>G5220</td>\n",
       "      <td>N</td>\n",
       "      <td>1433103685</td>\n",
       "      <td>284194383</td>\n",
       "      <td>+42.9909507</td>\n",
       "      <td>-082.8390301</td>\n",
       "      <td>POLYGON ((-82.41988 43.00231, -82.42273 43.000...</td>\n",
       "    </tr>\n",
       "  </tbody>\n",
       "</table>\n",
       "</div>"
      ],
      "text/plain": [
       "  STATEFP SLDLST  GEOID                 NAMELSAD LSAD   LSY  MTFCC FUNCSTAT  \\\n",
       "0      26    098  26098  State House District 98   LL  2010  G5220        N   \n",
       "1      26    094  26094  State House District 94   LL  2010  G5220        N   \n",
       "2      26    095  26095  State House District 95   LL  2010  G5220        N   \n",
       "3      26    080  26080  State House District 80   LL  2010  G5220        N   \n",
       "4      26    081  26081  State House District 81   LL  2010  G5220        N   \n",
       "\n",
       "        ALAND      AWATER     INTPTLAT      INTPTLON  \\\n",
       "0  1112688263    20224890  +43.4119307  -084.2345730   \n",
       "1   982458210    19105502  +43.3030887  -083.9582146   \n",
       "2   292245702     9872663  +43.3895144  -083.9174552   \n",
       "3  1756368818  3819297751  +42.2806954  -086.3376517   \n",
       "4  1433103685   284194383  +42.9909507  -082.8390301   \n",
       "\n",
       "                                            geometry  \n",
       "0  POLYGON ((-83.97394 43.52329, -83.96779 43.523...  \n",
       "1  POLYGON ((-84.17061 43.45253, -84.17061 43.462...  \n",
       "2  POLYGON ((-83.81667 43.34949, -83.81666 43.349...  \n",
       "3  POLYGON ((-85.99596 42.41897, -85.99465 42.418...  \n",
       "4  POLYGON ((-82.41988 43.00231, -82.42273 43.000...  "
      ]
     },
     "execution_count": 17,
     "metadata": {},
     "output_type": "execute_result"
    }
   ],
   "source": [
    "state_house.head()"
   ]
  },
  {
   "cell_type": "code",
   "execution_count": 9,
   "metadata": {},
   "outputs": [
    {
     "data": {
      "text/html": [
       "<div>\n",
       "<style scoped>\n",
       "    .dataframe tbody tr th:only-of-type {\n",
       "        vertical-align: middle;\n",
       "    }\n",
       "\n",
       "    .dataframe tbody tr th {\n",
       "        vertical-align: top;\n",
       "    }\n",
       "\n",
       "    .dataframe thead th {\n",
       "        text-align: right;\n",
       "    }\n",
       "</style>\n",
       "<table border=\"1\" class=\"dataframe\">\n",
       "  <thead>\n",
       "    <tr style=\"text-align: right;\">\n",
       "      <th></th>\n",
       "      <th>STATEFP</th>\n",
       "      <th>SLDUST</th>\n",
       "      <th>GEOID</th>\n",
       "      <th>NAMELSAD</th>\n",
       "      <th>LSAD</th>\n",
       "      <th>LSY</th>\n",
       "      <th>MTFCC</th>\n",
       "      <th>FUNCSTAT</th>\n",
       "      <th>ALAND</th>\n",
       "      <th>AWATER</th>\n",
       "      <th>INTPTLAT</th>\n",
       "      <th>INTPTLON</th>\n",
       "      <th>geometry</th>\n",
       "    </tr>\n",
       "  </thead>\n",
       "  <tbody>\n",
       "    <tr>\n",
       "      <th>0</th>\n",
       "      <td>26</td>\n",
       "      <td>032</td>\n",
       "      <td>26032</td>\n",
       "      <td>State Senate District 32</td>\n",
       "      <td>LU</td>\n",
       "      <td>2010</td>\n",
       "      <td>G5210</td>\n",
       "      <td>N</td>\n",
       "      <td>3544598561</td>\n",
       "      <td>49207378</td>\n",
       "      <td>+43.3144336</td>\n",
       "      <td>-084.2815131</td>\n",
       "      <td>POLYGON ((-83.97394 43.52329, -83.96779 43.523...</td>\n",
       "    </tr>\n",
       "    <tr>\n",
       "      <th>1</th>\n",
       "      <td>26</td>\n",
       "      <td>021</td>\n",
       "      <td>26021</td>\n",
       "      <td>State Senate District 21</td>\n",
       "      <td>LU</td>\n",
       "      <td>2010</td>\n",
       "      <td>G5210</td>\n",
       "      <td>N</td>\n",
       "      <td>4132805449</td>\n",
       "      <td>3916054903</td>\n",
       "      <td>+42.0800198</td>\n",
       "      <td>-086.4581424</td>\n",
       "      <td>POLYGON ((-85.96515 41.75996, -85.96795 41.759...</td>\n",
       "    </tr>\n",
       "    <tr>\n",
       "      <th>2</th>\n",
       "      <td>26</td>\n",
       "      <td>020</td>\n",
       "      <td>26020</td>\n",
       "      <td>State Senate District 20</td>\n",
       "      <td>LU</td>\n",
       "      <td>2010</td>\n",
       "      <td>G5210</td>\n",
       "      <td>N</td>\n",
       "      <td>1634946080</td>\n",
       "      <td>54505667</td>\n",
       "      <td>+42.2411689</td>\n",
       "      <td>-085.5647665</td>\n",
       "      <td>POLYGON ((-85.76400 42.13104, -85.76424 42.141...</td>\n",
       "    </tr>\n",
       "    <tr>\n",
       "      <th>3</th>\n",
       "      <td>26</td>\n",
       "      <td>037</td>\n",
       "      <td>26037</td>\n",
       "      <td>State Senate District 37</td>\n",
       "      <td>LU</td>\n",
       "      <td>2010</td>\n",
       "      <td>G5210</td>\n",
       "      <td>N</td>\n",
       "      <td>14964533699</td>\n",
       "      <td>15423069409</td>\n",
       "      <td>+45.7073805</td>\n",
       "      <td>-084.6195485</td>\n",
       "      <td>POLYGON ((-85.33291 44.79862, -85.33290 44.798...</td>\n",
       "    </tr>\n",
       "    <tr>\n",
       "      <th>4</th>\n",
       "      <td>26</td>\n",
       "      <td>024</td>\n",
       "      <td>26024</td>\n",
       "      <td>State Senate District 24</td>\n",
       "      <td>LU</td>\n",
       "      <td>2010</td>\n",
       "      <td>G5210</td>\n",
       "      <td>N</td>\n",
       "      <td>5059533913</td>\n",
       "      <td>2683914021</td>\n",
       "      <td>+42.5984030</td>\n",
       "      <td>-085.8112138</td>\n",
       "      <td>POLYGON ((-85.99465 42.41896, -85.99596 42.418...</td>\n",
       "    </tr>\n",
       "  </tbody>\n",
       "</table>\n",
       "</div>"
      ],
      "text/plain": [
       "  STATEFP SLDUST  GEOID                  NAMELSAD LSAD   LSY  MTFCC FUNCSTAT  \\\n",
       "0      26    032  26032  State Senate District 32   LU  2010  G5210        N   \n",
       "1      26    021  26021  State Senate District 21   LU  2010  G5210        N   \n",
       "2      26    020  26020  State Senate District 20   LU  2010  G5210        N   \n",
       "3      26    037  26037  State Senate District 37   LU  2010  G5210        N   \n",
       "4      26    024  26024  State Senate District 24   LU  2010  G5210        N   \n",
       "\n",
       "         ALAND       AWATER     INTPTLAT      INTPTLON  \\\n",
       "0   3544598561     49207378  +43.3144336  -084.2815131   \n",
       "1   4132805449   3916054903  +42.0800198  -086.4581424   \n",
       "2   1634946080     54505667  +42.2411689  -085.5647665   \n",
       "3  14964533699  15423069409  +45.7073805  -084.6195485   \n",
       "4   5059533913   2683914021  +42.5984030  -085.8112138   \n",
       "\n",
       "                                            geometry  \n",
       "0  POLYGON ((-83.97394 43.52329, -83.96779 43.523...  \n",
       "1  POLYGON ((-85.96515 41.75996, -85.96795 41.759...  \n",
       "2  POLYGON ((-85.76400 42.13104, -85.76424 42.141...  \n",
       "3  POLYGON ((-85.33291 44.79862, -85.33290 44.798...  \n",
       "4  POLYGON ((-85.99465 42.41896, -85.99596 42.418...  "
      ]
     },
     "execution_count": 9,
     "metadata": {},
     "output_type": "execute_result"
    }
   ],
   "source": [
    "state_senate.head()"
   ]
  },
  {
   "cell_type": "markdown",
   "metadata": {},
   "source": [
    "**2016 precinct-level election data**"
   ]
  },
  {
   "cell_type": "code",
   "execution_count": 7,
   "metadata": {},
   "outputs": [],
   "source": [
    "pd.read_csv?"
   ]
  },
  {
   "cell_type": "code",
   "execution_count": 10,
   "metadata": {},
   "outputs": [
    {
     "data": {
      "text/plain": [
       "0           1\n",
       "1           1\n",
       "2           1\n",
       "3           1\n",
       "4           1\n",
       "           ..\n",
       "8146107    54\n",
       "8146108    54\n",
       "8146109    54\n",
       "8146110    54\n",
       "8146111    54\n",
       "Name: state_fips, Length: 8146112, dtype: int64"
      ]
     },
     "execution_count": 10,
     "metadata": {},
     "output_type": "execute_result"
    }
   ],
   "source": [
    "election.state_fips"
   ]
  },
  {
   "cell_type": "code",
   "execution_count": 11,
   "metadata": {},
   "outputs": [
    {
     "data": {
      "text/plain": [
       "pandas.core.series.Series"
      ]
     },
     "execution_count": 11,
     "metadata": {},
     "output_type": "execute_result"
    }
   ],
   "source": [
    "type(election.state_fips)"
   ]
  },
  {
   "cell_type": "code",
   "execution_count": 20,
   "metadata": {
    "scrolled": false
   },
   "outputs": [
    {
     "data": {
      "text/plain": [
       "Index(['year', 'stage', 'special', 'state', 'state_postal', 'state_fips',\n",
       "       'state_icpsr', 'county_name', 'county_fips', 'county_ansi',\n",
       "       'county_lat', 'county_long', 'jurisdiction', 'precinct', 'candidate',\n",
       "       'candidate_normalized', 'office', 'district', 'writein', 'party',\n",
       "       'mode', 'votes', 'candidate_opensecrets', 'candidate_wikidata',\n",
       "       'candidate_party', 'candidate_last', 'candidate_first',\n",
       "       'candidate_middle', 'candidate_full', 'candidate_suffix',\n",
       "       'candidate_nickname', 'candidate_fec', 'candidate_fec_name',\n",
       "       'candidate_google', 'candidate_govtrack', 'candidate_icpsr',\n",
       "       'candidate_maplight'],\n",
       "      dtype='object')"
      ]
     },
     "execution_count": 20,
     "metadata": {},
     "output_type": "execute_result"
    }
   ],
   "source": [
    "election.columns"
   ]
  },
  {
   "cell_type": "code",
   "execution_count": 27,
   "metadata": {},
   "outputs": [
    {
     "data": {
      "text/plain": [
       "['State Senate',\n",
       " 'Amendment No. 5: Homestead Tax Exemption For Certain Senior, Low-Income, Long-Term Residents; Determination Of Just Value, Low-Income, Long-Term Residents; Determination Of Just Value',\n",
       " 'Amendment No. 5: Homestead Tax Exemption For Certain Senior, Low-Income, Long-Term Residents; Determination Of Just Value',\n",
       " 'SPECIAL TRANSPORTATION SERVICES FOR SENIOR CITIZENS AND PERSONS WITH DISABILITIES LEVY',\n",
       " 'BOND QUESTION A: The 2016 Capital Projects General Obligation Bond Act authorizes the issuance and sale of senior citizen facility improvement, construction and equipment acquisition bonds. Shall the state be authorized to issue general obligation bonds in an amount not to exceed fifteen million four hundred forty thousand dollars ($15,440,000) to make capital expenditures for certain senior citizen facility improvement, construction and equipment acquisition projects and provide for a general property tax impos',\n",
       " '097: Increases corporate minimum tax when sales exceed $25 million; funds education, healthcare, senior services',\n",
       " 'Initiative Measure No. 1501 concerns seniors and vulnerable individuals.',\n",
       " 'Proposed Amendments to the Constitution - Senate Joint Resolution No. 8210 concerns the deadline for completing state legislative and congressional redistricting.',\n",
       " 'Senate Joint Resolution 8210']"
      ]
     },
     "execution_count": 27,
     "metadata": {},
     "output_type": "execute_result"
    }
   ],
   "source": [
    "[x for x in election.office.unique() if '' in x.lower()]\n"
   ]
  },
  {
   "cell_type": "code",
   "execution_count": 9,
   "metadata": {
    "scrolled": true
   },
   "outputs": [
    {
     "data": {
      "text/html": [
       "<div>\n",
       "<style scoped>\n",
       "    .dataframe tbody tr th:only-of-type {\n",
       "        vertical-align: middle;\n",
       "    }\n",
       "\n",
       "    .dataframe tbody tr th {\n",
       "        vertical-align: top;\n",
       "    }\n",
       "\n",
       "    .dataframe thead th {\n",
       "        text-align: right;\n",
       "    }\n",
       "</style>\n",
       "<table border=\"1\" class=\"dataframe\">\n",
       "  <thead>\n",
       "    <tr style=\"text-align: right;\">\n",
       "      <th></th>\n",
       "      <th>PRES16D</th>\n",
       "      <th>PRES16G</th>\n",
       "      <th>PRES16L</th>\n",
       "      <th>PRES16R</th>\n",
       "    </tr>\n",
       "    <tr>\n",
       "      <th>precinct</th>\n",
       "      <th></th>\n",
       "      <th></th>\n",
       "      <th></th>\n",
       "      <th></th>\n",
       "    </tr>\n",
       "  </thead>\n",
       "  <tbody>\n",
       "    <tr>\n",
       "      <th>ACME TOWNSHIP; 1</th>\n",
       "      <td>556.222222</td>\n",
       "      <td>51.500000</td>\n",
       "      <td>57.444444</td>\n",
       "      <td>854.444444</td>\n",
       "    </tr>\n",
       "    <tr>\n",
       "      <th>ACME TOWNSHIP; 2</th>\n",
       "      <td>254.666667</td>\n",
       "      <td>15.166667</td>\n",
       "      <td>29.444444</td>\n",
       "      <td>564.000000</td>\n",
       "    </tr>\n",
       "    <tr>\n",
       "      <th>ADA TOWNSHIP; 1</th>\n",
       "      <td>268.000000</td>\n",
       "      <td>16.142857</td>\n",
       "      <td>23.111111</td>\n",
       "      <td>492.333333</td>\n",
       "    </tr>\n",
       "    <tr>\n",
       "      <th>ADA TOWNSHIP; 2</th>\n",
       "      <td>536.222222</td>\n",
       "      <td>25.000000</td>\n",
       "      <td>50.333333</td>\n",
       "      <td>895.000000</td>\n",
       "    </tr>\n",
       "    <tr>\n",
       "      <th>ADA TOWNSHIP; 3</th>\n",
       "      <td>266.888889</td>\n",
       "      <td>18.857143</td>\n",
       "      <td>29.777778</td>\n",
       "      <td>574.888889</td>\n",
       "    </tr>\n",
       "  </tbody>\n",
       "</table>\n",
       "</div>"
      ],
      "text/plain": [
       "                     PRES16D    PRES16G    PRES16L     PRES16R\n",
       "precinct                                                      \n",
       "ACME TOWNSHIP; 1  556.222222  51.500000  57.444444  854.444444\n",
       "ACME TOWNSHIP; 2  254.666667  15.166667  29.444444  564.000000\n",
       "ADA TOWNSHIP; 1   268.000000  16.142857  23.111111  492.333333\n",
       "ADA TOWNSHIP; 2   536.222222  25.000000  50.333333  895.000000\n",
       "ADA TOWNSHIP; 3   266.888889  18.857143  29.777778  574.888889"
      ]
     },
     "execution_count": 9,
     "metadata": {},
     "output_type": "execute_result"
    }
   ],
   "source": [
    "election = pd.read_csv(\"2016-precinct-state.csv\", \n",
    "                       encoding='ISO-8859-1',\n",
    "                       dtype = {\"county_name\" : \"str\",\n",
    "                                \"precinct\" : \"str\",\n",
    "                                \"district\" : \"str\"\n",
    "                               })\n",
    "\n",
    "election_MI = election[election.state_fips == 26]\n",
    "\n",
    "# Filter out paties of interest\n",
    "election_2016 = election_MI[\n",
    "    (election_MI.party == 'democratic')|\n",
    "    (election_MI.party == 'republican')|\n",
    "    (election_MI.party == 'libertarian')|\n",
    "    (election_MI.party == 'green')]\n",
    "\n",
    "elect_pivoted = election_2016.pivot_table(index = ['precinct'], columns = ['party'], values = ['votes'])\n",
    "elect_pivoted.columns = [' '.join(col).strip() for col in elect_pivoted.columns.values]\n",
    "elect_pivoted.columns = ['PRES16D','PRES16G','PRES16L','PRES16R']\n",
    "\n",
    "elect_pivoted.head()"
   ]
  },
  {
   "cell_type": "code",
   "execution_count": null,
   "metadata": {},
   "outputs": [],
   "source": []
  },
  {
   "cell_type": "code",
   "execution_count": 28,
   "metadata": {},
   "outputs": [
    {
     "data": {
      "text/plain": [
       "(4795, 4)"
      ]
     },
     "execution_count": 28,
     "metadata": {},
     "output_type": "execute_result"
    }
   ],
   "source": [
    "elect_pivoted.shape"
   ]
  },
  {
   "cell_type": "code",
   "execution_count": 12,
   "metadata": {},
   "outputs": [
    {
     "data": {
      "text/html": [
       "<div>\n",
       "<style scoped>\n",
       "    .dataframe tbody tr th:only-of-type {\n",
       "        vertical-align: middle;\n",
       "    }\n",
       "\n",
       "    .dataframe tbody tr th {\n",
       "        vertical-align: top;\n",
       "    }\n",
       "\n",
       "    .dataframe thead th {\n",
       "        text-align: right;\n",
       "    }\n",
       "</style>\n",
       "<table border=\"1\" class=\"dataframe\">\n",
       "  <thead>\n",
       "    <tr style=\"text-align: right;\">\n",
       "      <th></th>\n",
       "      <th>year</th>\n",
       "      <th>stage</th>\n",
       "      <th>special</th>\n",
       "      <th>state</th>\n",
       "      <th>state_postal</th>\n",
       "      <th>state_fips</th>\n",
       "      <th>state_icpsr</th>\n",
       "      <th>county_name</th>\n",
       "      <th>county_fips</th>\n",
       "      <th>county_ansi</th>\n",
       "      <th>...</th>\n",
       "      <th>candidate_middle</th>\n",
       "      <th>candidate_full</th>\n",
       "      <th>candidate_suffix</th>\n",
       "      <th>candidate_nickname</th>\n",
       "      <th>candidate_fec</th>\n",
       "      <th>candidate_fec_name</th>\n",
       "      <th>candidate_google</th>\n",
       "      <th>candidate_govtrack</th>\n",
       "      <th>candidate_icpsr</th>\n",
       "      <th>candidate_maplight</th>\n",
       "    </tr>\n",
       "  </thead>\n",
       "  <tbody>\n",
       "    <tr>\n",
       "      <th>0</th>\n",
       "      <td>2016</td>\n",
       "      <td>gen</td>\n",
       "      <td>False</td>\n",
       "      <td>Alabama</td>\n",
       "      <td>AL</td>\n",
       "      <td>1</td>\n",
       "      <td>41</td>\n",
       "      <td>Autauga County</td>\n",
       "      <td>1001.0</td>\n",
       "      <td>161526.0</td>\n",
       "      <td>...</td>\n",
       "      <td>NaN</td>\n",
       "      <td>NaN</td>\n",
       "      <td>NaN</td>\n",
       "      <td>NaN</td>\n",
       "      <td>NaN</td>\n",
       "      <td>NaN</td>\n",
       "      <td>NaN</td>\n",
       "      <td>NaN</td>\n",
       "      <td>NaN</td>\n",
       "      <td>NaN</td>\n",
       "    </tr>\n",
       "    <tr>\n",
       "      <th>1</th>\n",
       "      <td>2016</td>\n",
       "      <td>gen</td>\n",
       "      <td>False</td>\n",
       "      <td>Alabama</td>\n",
       "      <td>AL</td>\n",
       "      <td>1</td>\n",
       "      <td>41</td>\n",
       "      <td>Autauga County</td>\n",
       "      <td>1001.0</td>\n",
       "      <td>161526.0</td>\n",
       "      <td>...</td>\n",
       "      <td>NaN</td>\n",
       "      <td>NaN</td>\n",
       "      <td>NaN</td>\n",
       "      <td>NaN</td>\n",
       "      <td>NaN</td>\n",
       "      <td>NaN</td>\n",
       "      <td>NaN</td>\n",
       "      <td>NaN</td>\n",
       "      <td>NaN</td>\n",
       "      <td>NaN</td>\n",
       "    </tr>\n",
       "    <tr>\n",
       "      <th>2</th>\n",
       "      <td>2016</td>\n",
       "      <td>gen</td>\n",
       "      <td>False</td>\n",
       "      <td>Alabama</td>\n",
       "      <td>AL</td>\n",
       "      <td>1</td>\n",
       "      <td>41</td>\n",
       "      <td>Autauga County</td>\n",
       "      <td>1001.0</td>\n",
       "      <td>161526.0</td>\n",
       "      <td>...</td>\n",
       "      <td>NaN</td>\n",
       "      <td>NaN</td>\n",
       "      <td>NaN</td>\n",
       "      <td>NaN</td>\n",
       "      <td>NaN</td>\n",
       "      <td>NaN</td>\n",
       "      <td>NaN</td>\n",
       "      <td>NaN</td>\n",
       "      <td>NaN</td>\n",
       "      <td>NaN</td>\n",
       "    </tr>\n",
       "    <tr>\n",
       "      <th>3</th>\n",
       "      <td>2016</td>\n",
       "      <td>gen</td>\n",
       "      <td>False</td>\n",
       "      <td>Alabama</td>\n",
       "      <td>AL</td>\n",
       "      <td>1</td>\n",
       "      <td>41</td>\n",
       "      <td>Autauga County</td>\n",
       "      <td>1001.0</td>\n",
       "      <td>161526.0</td>\n",
       "      <td>...</td>\n",
       "      <td>NaN</td>\n",
       "      <td>NaN</td>\n",
       "      <td>NaN</td>\n",
       "      <td>NaN</td>\n",
       "      <td>NaN</td>\n",
       "      <td>NaN</td>\n",
       "      <td>NaN</td>\n",
       "      <td>NaN</td>\n",
       "      <td>NaN</td>\n",
       "      <td>NaN</td>\n",
       "    </tr>\n",
       "    <tr>\n",
       "      <th>4</th>\n",
       "      <td>2016</td>\n",
       "      <td>gen</td>\n",
       "      <td>False</td>\n",
       "      <td>Alabama</td>\n",
       "      <td>AL</td>\n",
       "      <td>1</td>\n",
       "      <td>41</td>\n",
       "      <td>Autauga County</td>\n",
       "      <td>1001.0</td>\n",
       "      <td>161526.0</td>\n",
       "      <td>...</td>\n",
       "      <td>NaN</td>\n",
       "      <td>NaN</td>\n",
       "      <td>NaN</td>\n",
       "      <td>NaN</td>\n",
       "      <td>NaN</td>\n",
       "      <td>NaN</td>\n",
       "      <td>NaN</td>\n",
       "      <td>NaN</td>\n",
       "      <td>NaN</td>\n",
       "      <td>NaN</td>\n",
       "    </tr>\n",
       "  </tbody>\n",
       "</table>\n",
       "<p>5 rows × 37 columns</p>\n",
       "</div>"
      ],
      "text/plain": [
       "   year stage  special    state state_postal  state_fips  state_icpsr  \\\n",
       "0  2016   gen    False  Alabama           AL           1           41   \n",
       "1  2016   gen    False  Alabama           AL           1           41   \n",
       "2  2016   gen    False  Alabama           AL           1           41   \n",
       "3  2016   gen    False  Alabama           AL           1           41   \n",
       "4  2016   gen    False  Alabama           AL           1           41   \n",
       "\n",
       "      county_name  county_fips  county_ansi  ...  candidate_middle  \\\n",
       "0  Autauga County       1001.0     161526.0  ...               NaN   \n",
       "1  Autauga County       1001.0     161526.0  ...               NaN   \n",
       "2  Autauga County       1001.0     161526.0  ...               NaN   \n",
       "3  Autauga County       1001.0     161526.0  ...               NaN   \n",
       "4  Autauga County       1001.0     161526.0  ...               NaN   \n",
       "\n",
       "   candidate_full candidate_suffix candidate_nickname candidate_fec  \\\n",
       "0             NaN              NaN                NaN           NaN   \n",
       "1             NaN              NaN                NaN           NaN   \n",
       "2             NaN              NaN                NaN           NaN   \n",
       "3             NaN              NaN                NaN           NaN   \n",
       "4             NaN              NaN                NaN           NaN   \n",
       "\n",
       "  candidate_fec_name candidate_google candidate_govtrack  candidate_icpsr  \\\n",
       "0                NaN              NaN                NaN              NaN   \n",
       "1                NaN              NaN                NaN              NaN   \n",
       "2                NaN              NaN                NaN              NaN   \n",
       "3                NaN              NaN                NaN              NaN   \n",
       "4                NaN              NaN                NaN              NaN   \n",
       "\n",
       "  candidate_maplight  \n",
       "0                NaN  \n",
       "1                NaN  \n",
       "2                NaN  \n",
       "3                NaN  \n",
       "4                NaN  \n",
       "\n",
       "[5 rows x 37 columns]"
      ]
     },
     "execution_count": 12,
     "metadata": {},
     "output_type": "execute_result"
    }
   ],
   "source": [
    "election.head()"
   ]
  },
  {
   "cell_type": "markdown",
   "metadata": {},
   "source": [
    "**Join block shapefile and block-level demographic data**"
   ]
  },
  {
   "cell_type": "code",
   "execution_count": 22,
   "metadata": {},
   "outputs": [],
   "source": [
    "blocks[\"geoid\"] = blocks.GEOID10\n",
    "block_demo = pd.merge(blocks, demographic, on='geoid', how='left', indicator=True)\n",
    "#shapefile of blocks merging with demographic data based on the geoid \n",
    "block_demo = block_demo.drop(columns = \"geoid\")"
   ]
  },
  {
   "cell_type": "code",
   "execution_count": 25,
   "metadata": {},
   "outputs": [
    {
     "name": "stdout",
     "output_type": "stream",
     "text": [
      "329885\n",
      "329885\n"
     ]
    }
   ],
   "source": [
    "# Check number of blocks after merging -- correct!\n",
    "print(len(blocks.GEOID10))\n",
    "print(len(block_demo.GEOID10))"
   ]
  },
  {
   "cell_type": "code",
   "execution_count": null,
   "metadata": {},
   "outputs": [],
   "source": [
    "# Check total population after merging -- correct!\n",
    "print(demographic.TOTPOP.sum())\n",
    "print(block_demo.TOTPOP.sum())"
   ]
  },
  {
   "cell_type": "code",
   "execution_count": 23,
   "metadata": {},
   "outputs": [
    {
     "data": {
      "text/html": [
       "<div>\n",
       "<style scoped>\n",
       "    .dataframe tbody tr th:only-of-type {\n",
       "        vertical-align: middle;\n",
       "    }\n",
       "\n",
       "    .dataframe tbody tr th {\n",
       "        vertical-align: top;\n",
       "    }\n",
       "\n",
       "    .dataframe thead th {\n",
       "        text-align: right;\n",
       "    }\n",
       "</style>\n",
       "<table border=\"1\" class=\"dataframe\">\n",
       "  <thead>\n",
       "    <tr style=\"text-align: right;\">\n",
       "      <th></th>\n",
       "      <th>STATEFP10</th>\n",
       "      <th>COUNTYFP10</th>\n",
       "      <th>TRACTCE10</th>\n",
       "      <th>BLOCKCE10</th>\n",
       "      <th>GEOID10</th>\n",
       "      <th>NAME10</th>\n",
       "      <th>MTFCC10</th>\n",
       "      <th>UR10</th>\n",
       "      <th>UACE10</th>\n",
       "      <th>UATYPE</th>\n",
       "      <th>...</th>\n",
       "      <th>ASIANVAP</th>\n",
       "      <th>NHPIVAP</th>\n",
       "      <th>OTHERVAP</th>\n",
       "      <th>2MOREVAP</th>\n",
       "      <th>NAME</th>\n",
       "      <th>state</th>\n",
       "      <th>county</th>\n",
       "      <th>tract</th>\n",
       "      <th>block</th>\n",
       "      <th>_merge</th>\n",
       "    </tr>\n",
       "  </thead>\n",
       "  <tbody>\n",
       "    <tr>\n",
       "      <th>0</th>\n",
       "      <td>26</td>\n",
       "      <td>099</td>\n",
       "      <td>225200</td>\n",
       "      <td>2010</td>\n",
       "      <td>260992252002010</td>\n",
       "      <td>Block 2010</td>\n",
       "      <td>G5040</td>\n",
       "      <td>U</td>\n",
       "      <td>23824</td>\n",
       "      <td>U</td>\n",
       "      <td>...</td>\n",
       "      <td>0</td>\n",
       "      <td>0</td>\n",
       "      <td>0</td>\n",
       "      <td>1</td>\n",
       "      <td>Block 2010, Block Group 2, Census Tract 2252, ...</td>\n",
       "      <td>26</td>\n",
       "      <td>099</td>\n",
       "      <td>225200</td>\n",
       "      <td>2010</td>\n",
       "      <td>both</td>\n",
       "    </tr>\n",
       "    <tr>\n",
       "      <th>1</th>\n",
       "      <td>26</td>\n",
       "      <td>099</td>\n",
       "      <td>222500</td>\n",
       "      <td>2004</td>\n",
       "      <td>260992225002004</td>\n",
       "      <td>Block 2004</td>\n",
       "      <td>G5040</td>\n",
       "      <td>U</td>\n",
       "      <td>23824</td>\n",
       "      <td>U</td>\n",
       "      <td>...</td>\n",
       "      <td>0</td>\n",
       "      <td>0</td>\n",
       "      <td>0</td>\n",
       "      <td>7</td>\n",
       "      <td>Block 2004, Block Group 2, Census Tract 2225, ...</td>\n",
       "      <td>26</td>\n",
       "      <td>099</td>\n",
       "      <td>222500</td>\n",
       "      <td>2004</td>\n",
       "      <td>both</td>\n",
       "    </tr>\n",
       "    <tr>\n",
       "      <th>2</th>\n",
       "      <td>26</td>\n",
       "      <td>099</td>\n",
       "      <td>242000</td>\n",
       "      <td>2008</td>\n",
       "      <td>260992420002008</td>\n",
       "      <td>Block 2008</td>\n",
       "      <td>G5040</td>\n",
       "      <td>U</td>\n",
       "      <td>23824</td>\n",
       "      <td>U</td>\n",
       "      <td>...</td>\n",
       "      <td>2</td>\n",
       "      <td>0</td>\n",
       "      <td>0</td>\n",
       "      <td>0</td>\n",
       "      <td>Block 2008, Block Group 2, Census Tract 2420, ...</td>\n",
       "      <td>26</td>\n",
       "      <td>099</td>\n",
       "      <td>242000</td>\n",
       "      <td>2008</td>\n",
       "      <td>both</td>\n",
       "    </tr>\n",
       "    <tr>\n",
       "      <th>3</th>\n",
       "      <td>26</td>\n",
       "      <td>099</td>\n",
       "      <td>227300</td>\n",
       "      <td>1006</td>\n",
       "      <td>260992273001006</td>\n",
       "      <td>Block 1006</td>\n",
       "      <td>G5040</td>\n",
       "      <td>U</td>\n",
       "      <td>23824</td>\n",
       "      <td>U</td>\n",
       "      <td>...</td>\n",
       "      <td>3</td>\n",
       "      <td>0</td>\n",
       "      <td>0</td>\n",
       "      <td>1</td>\n",
       "      <td>Block 1006, Block Group 1, Census Tract 2273, ...</td>\n",
       "      <td>26</td>\n",
       "      <td>099</td>\n",
       "      <td>227300</td>\n",
       "      <td>1006</td>\n",
       "      <td>both</td>\n",
       "    </tr>\n",
       "    <tr>\n",
       "      <th>4</th>\n",
       "      <td>26</td>\n",
       "      <td>099</td>\n",
       "      <td>212000</td>\n",
       "      <td>1013</td>\n",
       "      <td>260992120001013</td>\n",
       "      <td>Block 1013</td>\n",
       "      <td>G5040</td>\n",
       "      <td>R</td>\n",
       "      <td>None</td>\n",
       "      <td>None</td>\n",
       "      <td>...</td>\n",
       "      <td>1</td>\n",
       "      <td>0</td>\n",
       "      <td>0</td>\n",
       "      <td>0</td>\n",
       "      <td>Block 1013, Block Group 1, Census Tract 2120, ...</td>\n",
       "      <td>26</td>\n",
       "      <td>099</td>\n",
       "      <td>212000</td>\n",
       "      <td>1013</td>\n",
       "      <td>both</td>\n",
       "    </tr>\n",
       "  </tbody>\n",
       "</table>\n",
       "<p>5 rows × 47 columns</p>\n",
       "</div>"
      ],
      "text/plain": [
       "  STATEFP10 COUNTYFP10 TRACTCE10 BLOCKCE10          GEOID10      NAME10  \\\n",
       "0        26        099    225200      2010  260992252002010  Block 2010   \n",
       "1        26        099    222500      2004  260992225002004  Block 2004   \n",
       "2        26        099    242000      2008  260992420002008  Block 2008   \n",
       "3        26        099    227300      1006  260992273001006  Block 1006   \n",
       "4        26        099    212000      1013  260992120001013  Block 1013   \n",
       "\n",
       "  MTFCC10 UR10 UACE10 UATYPE  ... ASIANVAP  NHPIVAP  OTHERVAP 2MOREVAP  \\\n",
       "0   G5040    U  23824      U  ...        0        0         0        1   \n",
       "1   G5040    U  23824      U  ...        0        0         0        7   \n",
       "2   G5040    U  23824      U  ...        2        0         0        0   \n",
       "3   G5040    U  23824      U  ...        3        0         0        1   \n",
       "4   G5040    R   None   None  ...        1        0         0        0   \n",
       "\n",
       "                                                NAME state  county   tract  \\\n",
       "0  Block 2010, Block Group 2, Census Tract 2252, ...    26     099  225200   \n",
       "1  Block 2004, Block Group 2, Census Tract 2225, ...    26     099  222500   \n",
       "2  Block 2008, Block Group 2, Census Tract 2420, ...    26     099  242000   \n",
       "3  Block 1006, Block Group 1, Census Tract 2273, ...    26     099  227300   \n",
       "4  Block 1013, Block Group 1, Census Tract 2120, ...    26     099  212000   \n",
       "\n",
       "   block  _merge  \n",
       "0   2010    both  \n",
       "1   2004    both  \n",
       "2   2008    both  \n",
       "3   1006    both  \n",
       "4   1013    both  \n",
       "\n",
       "[5 rows x 47 columns]"
      ]
     },
     "execution_count": 23,
     "metadata": {},
     "output_type": "execute_result"
    }
   ],
   "source": [
    "block_demo.head()"
   ]
  },
  {
   "cell_type": "code",
   "execution_count": 26,
   "metadata": {},
   "outputs": [
    {
     "data": {
      "text/plain": [
       "<matplotlib.axes._subplots.AxesSubplot at 0x1642b60d0>"
      ]
     },
     "execution_count": 26,
     "metadata": {},
     "output_type": "execute_result"
    },
    {
     "data": {
      "image/png": "[encoded data removed]",
      "text/plain": [
       "<Figure size 432x288 with 1 Axes>"
      ]
     },
     "metadata": {
      "needs_background": "light"
     },
     "output_type": "display_data"
    }
   ],
   "source": [
    "block_demo.plot()"
   ]
  },
  {
   "cell_type": "markdown",
   "metadata": {},
   "source": [
    "**Aggregate block-level demographic shapefiles to voting districts**"
   ]
  },
  {
   "cell_type": "code",
   "execution_count": 27,
   "metadata": {},
   "outputs": [
    {
     "name": "stderr",
     "output_type": "stream",
     "text": [
      "/Users/lilyfalk/anaconda3/lib/python3.8/site-packages/pyproj/crs/crs.py:53: FutureWarning: '+init=<authority>:<code>' syntax is deprecated. '<authority>:<code>' is the preferred initialization method. When making the change, be mindful of axis order changes: https://pyproj4.github.io/pyproj/stable/gotchas.html#axis-order-changes-in-proj-6\n",
      "  return _prepare_from_string(\" \".join(pjargs))\n"
     ]
    }
   ],
   "source": [
    "proj =  {'init':'epsg:4326'}\n",
    "block_demo.crs = proj\n",
    "vtd.crs = proj"
   ]
  },
  {
   "cell_type": "code",
   "execution_count": 28,
   "metadata": {},
   "outputs": [
    {
     "name": "stderr",
     "output_type": "stream",
     "text": [
      "/Users/lilyfalk/anaconda3/lib/python3.8/site-packages/maup/intersections.py:42: UserWarning: Geometry is in a geographic CRS. Results from 'area' are likely incorrect. Use 'GeoSeries.to_crs()' to re-project geometries to a projected CRS before this operation.\n",
      "\n",
      "  geometries = geometries[geometries.area > area_cutoff]\n",
      "/Users/lilyfalk/anaconda3/lib/python3.8/site-packages/maup/assign.py:26: UserWarning: Geometry is in a geographic CRS. Results from 'area' are likely incorrect. Use 'GeoSeries.to_crs()' to re-project geometries to a projected CRS before this operation.\n",
      "\n",
      "  return assign_to_max(intersections(sources, targets, area_cutoff=0).area)\n"
     ]
    }
   ],
   "source": [
    "import warnings; warnings.filterwarnings('ignore', 'GeoSeries.isna', UserWarning)\n",
    "pieces = maup.assign(block_demo, vtd)"
   ]
  },
  {
   "cell_type": "code",
   "execution_count": 18,
   "metadata": {},
   "outputs": [],
   "source": [
    "vtd[keys] = block_demo[keys].astype(int).groupby(pieces).sum()"
   ]
  },
  {
   "cell_type": "code",
   "execution_count": 19,
   "metadata": {},
   "outputs": [
    {
     "data": {
      "text/html": [
       "<div>\n",
       "<style scoped>\n",
       "    .dataframe tbody tr th:only-of-type {\n",
       "        vertical-align: middle;\n",
       "    }\n",
       "\n",
       "    .dataframe tbody tr th {\n",
       "        vertical-align: top;\n",
       "    }\n",
       "\n",
       "    .dataframe thead th {\n",
       "        text-align: right;\n",
       "    }\n",
       "</style>\n",
       "<table border=\"1\" class=\"dataframe\">\n",
       "  <thead>\n",
       "    <tr style=\"text-align: right;\">\n",
       "      <th></th>\n",
       "      <th>STATEFP10</th>\n",
       "      <th>COUNTYFP10</th>\n",
       "      <th>VTDST10</th>\n",
       "      <th>GEOID10</th>\n",
       "      <th>VTDI10</th>\n",
       "      <th>NAME10</th>\n",
       "      <th>NAMELSAD10</th>\n",
       "      <th>LSAD10</th>\n",
       "      <th>MTFCC10</th>\n",
       "      <th>FUNCSTAT10</th>\n",
       "      <th>...</th>\n",
       "      <th>H_2MORE</th>\n",
       "      <th>VAP</th>\n",
       "      <th>HVAP</th>\n",
       "      <th>WVAP</th>\n",
       "      <th>BVAP</th>\n",
       "      <th>AMINVAP</th>\n",
       "      <th>ASIANVAP</th>\n",
       "      <th>NHPIVAP</th>\n",
       "      <th>OTHERVAP</th>\n",
       "      <th>2MOREVAP</th>\n",
       "    </tr>\n",
       "  </thead>\n",
       "  <tbody>\n",
       "    <tr>\n",
       "      <th>0</th>\n",
       "      <td>26</td>\n",
       "      <td>059</td>\n",
       "      <td>110</td>\n",
       "      <td>26059110</td>\n",
       "      <td>A</td>\n",
       "      <td>0593848000001</td>\n",
       "      <td>Voting District 0593848000001</td>\n",
       "      <td>V1</td>\n",
       "      <td>G5240</td>\n",
       "      <td>N</td>\n",
       "      <td>...</td>\n",
       "      <td>2</td>\n",
       "      <td>1580</td>\n",
       "      <td>25</td>\n",
       "      <td>1527</td>\n",
       "      <td>7</td>\n",
       "      <td>6</td>\n",
       "      <td>7</td>\n",
       "      <td>0</td>\n",
       "      <td>0</td>\n",
       "      <td>8</td>\n",
       "    </tr>\n",
       "    <tr>\n",
       "      <th>1</th>\n",
       "      <td>26</td>\n",
       "      <td>059</td>\n",
       "      <td>200</td>\n",
       "      <td>26059200</td>\n",
       "      <td>A</td>\n",
       "      <td>0597198000001</td>\n",
       "      <td>Voting District 0597198000001</td>\n",
       "      <td>V1</td>\n",
       "      <td>G5240</td>\n",
       "      <td>N</td>\n",
       "      <td>...</td>\n",
       "      <td>4</td>\n",
       "      <td>1374</td>\n",
       "      <td>19</td>\n",
       "      <td>1330</td>\n",
       "      <td>3</td>\n",
       "      <td>9</td>\n",
       "      <td>2</td>\n",
       "      <td>0</td>\n",
       "      <td>0</td>\n",
       "      <td>11</td>\n",
       "    </tr>\n",
       "    <tr>\n",
       "      <th>2</th>\n",
       "      <td>26</td>\n",
       "      <td>059</td>\n",
       "      <td>10</td>\n",
       "      <td>2605910</td>\n",
       "      <td>A</td>\n",
       "      <td>0590030000001</td>\n",
       "      <td>Voting District 0590030000001</td>\n",
       "      <td>V1</td>\n",
       "      <td>G5240</td>\n",
       "      <td>N</td>\n",
       "      <td>...</td>\n",
       "      <td>2</td>\n",
       "      <td>1915</td>\n",
       "      <td>8</td>\n",
       "      <td>1871</td>\n",
       "      <td>8</td>\n",
       "      <td>7</td>\n",
       "      <td>6</td>\n",
       "      <td>0</td>\n",
       "      <td>0</td>\n",
       "      <td>15</td>\n",
       "    </tr>\n",
       "    <tr>\n",
       "      <th>3</th>\n",
       "      <td>26</td>\n",
       "      <td>059</td>\n",
       "      <td>170</td>\n",
       "      <td>26059170</td>\n",
       "      <td>A</td>\n",
       "      <td>0596712000001</td>\n",
       "      <td>Voting District 0596712000001</td>\n",
       "      <td>V1</td>\n",
       "      <td>G5240</td>\n",
       "      <td>N</td>\n",
       "      <td>...</td>\n",
       "      <td>3</td>\n",
       "      <td>694</td>\n",
       "      <td>11</td>\n",
       "      <td>680</td>\n",
       "      <td>0</td>\n",
       "      <td>1</td>\n",
       "      <td>1</td>\n",
       "      <td>0</td>\n",
       "      <td>0</td>\n",
       "      <td>1</td>\n",
       "    </tr>\n",
       "    <tr>\n",
       "      <th>4</th>\n",
       "      <td>26</td>\n",
       "      <td>059</td>\n",
       "      <td>50</td>\n",
       "      <td>2605950</td>\n",
       "      <td>A</td>\n",
       "      <td>0591278000001</td>\n",
       "      <td>Voting District 0591278000001</td>\n",
       "      <td>V1</td>\n",
       "      <td>G5240</td>\n",
       "      <td>N</td>\n",
       "      <td>...</td>\n",
       "      <td>0</td>\n",
       "      <td>1432</td>\n",
       "      <td>10</td>\n",
       "      <td>1412</td>\n",
       "      <td>2</td>\n",
       "      <td>2</td>\n",
       "      <td>1</td>\n",
       "      <td>0</td>\n",
       "      <td>0</td>\n",
       "      <td>5</td>\n",
       "    </tr>\n",
       "  </tbody>\n",
       "</table>\n",
       "<p>5 rows × 40 columns</p>\n",
       "</div>"
      ],
      "text/plain": [
       "  STATEFP10 COUNTYFP10 VTDST10   GEOID10 VTDI10         NAME10  \\\n",
       "0        26        059     110  26059110      A  0593848000001   \n",
       "1        26        059     200  26059200      A  0597198000001   \n",
       "2        26        059      10   2605910      A  0590030000001   \n",
       "3        26        059     170  26059170      A  0596712000001   \n",
       "4        26        059      50   2605950      A  0591278000001   \n",
       "\n",
       "                      NAMELSAD10 LSAD10 MTFCC10 FUNCSTAT10  ...  H_2MORE  \\\n",
       "0  Voting District 0593848000001     V1   G5240          N  ...        2   \n",
       "1  Voting District 0597198000001     V1   G5240          N  ...        4   \n",
       "2  Voting District 0590030000001     V1   G5240          N  ...        2   \n",
       "3  Voting District 0596712000001     V1   G5240          N  ...        3   \n",
       "4  Voting District 0591278000001     V1   G5240          N  ...        0   \n",
       "\n",
       "    VAP HVAP  WVAP BVAP  AMINVAP  ASIANVAP  NHPIVAP  OTHERVAP  2MOREVAP  \n",
       "0  1580   25  1527    7        6         7        0         0         8  \n",
       "1  1374   19  1330    3        9         2        0         0        11  \n",
       "2  1915    8  1871    8        7         6        0         0        15  \n",
       "3   694   11   680    0        1         1        0         0         1  \n",
       "4  1432   10  1412    2        2         1        0         0         5  \n",
       "\n",
       "[5 rows x 40 columns]"
      ]
     },
     "execution_count": 19,
     "metadata": {},
     "output_type": "execute_result"
    }
   ],
   "source": [
    "vtd.head()"
   ]
  },
  {
   "cell_type": "code",
   "execution_count": 20,
   "metadata": {},
   "outputs": [
    {
     "name": "stdout",
     "output_type": "stream",
     "text": [
      "9883640\n",
      "9883640\n"
     ]
    }
   ],
   "source": [
    "# Check population\n",
    "print(vtd.TOTPOP.sum())\n",
    "print(block_demo.TOTPOP.sum())"
   ]
  },
  {
   "cell_type": "markdown",
   "metadata": {},
   "source": [
    "**Assign State House and Senate districts**"
   ]
  },
  {
   "cell_type": "code",
   "execution_count": 21,
   "metadata": {},
   "outputs": [
    {
     "data": {
      "text/html": [
       "<div>\n",
       "<style scoped>\n",
       "    .dataframe tbody tr th:only-of-type {\n",
       "        vertical-align: middle;\n",
       "    }\n",
       "\n",
       "    .dataframe tbody tr th {\n",
       "        vertical-align: top;\n",
       "    }\n",
       "\n",
       "    .dataframe thead th {\n",
       "        text-align: right;\n",
       "    }\n",
       "</style>\n",
       "<table border=\"1\" class=\"dataframe\">\n",
       "  <thead>\n",
       "    <tr style=\"text-align: right;\">\n",
       "      <th></th>\n",
       "      <th>STATEFP10</th>\n",
       "      <th>COUNTYFP10</th>\n",
       "      <th>VTDST10</th>\n",
       "      <th>GEOID10</th>\n",
       "      <th>VTDI10</th>\n",
       "      <th>NAME10</th>\n",
       "      <th>NAMELSAD10</th>\n",
       "      <th>LSAD10</th>\n",
       "      <th>MTFCC10</th>\n",
       "      <th>FUNCSTAT10</th>\n",
       "      <th>...</th>\n",
       "      <th>VAP</th>\n",
       "      <th>HVAP</th>\n",
       "      <th>WVAP</th>\n",
       "      <th>BVAP</th>\n",
       "      <th>AMINVAP</th>\n",
       "      <th>ASIANVAP</th>\n",
       "      <th>NHPIVAP</th>\n",
       "      <th>OTHERVAP</th>\n",
       "      <th>2MOREVAP</th>\n",
       "      <th>HDIST</th>\n",
       "    </tr>\n",
       "  </thead>\n",
       "  <tbody>\n",
       "    <tr>\n",
       "      <th>0</th>\n",
       "      <td>26</td>\n",
       "      <td>059</td>\n",
       "      <td>110</td>\n",
       "      <td>26059110</td>\n",
       "      <td>A</td>\n",
       "      <td>0593848000001</td>\n",
       "      <td>Voting District 0593848000001</td>\n",
       "      <td>V1</td>\n",
       "      <td>G5240</td>\n",
       "      <td>N</td>\n",
       "      <td>...</td>\n",
       "      <td>1580</td>\n",
       "      <td>25</td>\n",
       "      <td>1527</td>\n",
       "      <td>7</td>\n",
       "      <td>6</td>\n",
       "      <td>7</td>\n",
       "      <td>0</td>\n",
       "      <td>0</td>\n",
       "      <td>8</td>\n",
       "      <td>17</td>\n",
       "    </tr>\n",
       "    <tr>\n",
       "      <th>1</th>\n",
       "      <td>26</td>\n",
       "      <td>059</td>\n",
       "      <td>200</td>\n",
       "      <td>26059200</td>\n",
       "      <td>A</td>\n",
       "      <td>0597198000001</td>\n",
       "      <td>Voting District 0597198000001</td>\n",
       "      <td>V1</td>\n",
       "      <td>G5240</td>\n",
       "      <td>N</td>\n",
       "      <td>...</td>\n",
       "      <td>1374</td>\n",
       "      <td>19</td>\n",
       "      <td>1330</td>\n",
       "      <td>3</td>\n",
       "      <td>9</td>\n",
       "      <td>2</td>\n",
       "      <td>0</td>\n",
       "      <td>0</td>\n",
       "      <td>11</td>\n",
       "      <td>17</td>\n",
       "    </tr>\n",
       "    <tr>\n",
       "      <th>2</th>\n",
       "      <td>26</td>\n",
       "      <td>059</td>\n",
       "      <td>10</td>\n",
       "      <td>2605910</td>\n",
       "      <td>A</td>\n",
       "      <td>0590030000001</td>\n",
       "      <td>Voting District 0590030000001</td>\n",
       "      <td>V1</td>\n",
       "      <td>G5240</td>\n",
       "      <td>N</td>\n",
       "      <td>...</td>\n",
       "      <td>1915</td>\n",
       "      <td>8</td>\n",
       "      <td>1871</td>\n",
       "      <td>8</td>\n",
       "      <td>7</td>\n",
       "      <td>6</td>\n",
       "      <td>0</td>\n",
       "      <td>0</td>\n",
       "      <td>15</td>\n",
       "      <td>17</td>\n",
       "    </tr>\n",
       "    <tr>\n",
       "      <th>3</th>\n",
       "      <td>26</td>\n",
       "      <td>059</td>\n",
       "      <td>170</td>\n",
       "      <td>26059170</td>\n",
       "      <td>A</td>\n",
       "      <td>0596712000001</td>\n",
       "      <td>Voting District 0596712000001</td>\n",
       "      <td>V1</td>\n",
       "      <td>G5240</td>\n",
       "      <td>N</td>\n",
       "      <td>...</td>\n",
       "      <td>694</td>\n",
       "      <td>11</td>\n",
       "      <td>680</td>\n",
       "      <td>0</td>\n",
       "      <td>1</td>\n",
       "      <td>1</td>\n",
       "      <td>0</td>\n",
       "      <td>0</td>\n",
       "      <td>1</td>\n",
       "      <td>17</td>\n",
       "    </tr>\n",
       "    <tr>\n",
       "      <th>4</th>\n",
       "      <td>26</td>\n",
       "      <td>059</td>\n",
       "      <td>50</td>\n",
       "      <td>2605950</td>\n",
       "      <td>A</td>\n",
       "      <td>0591278000001</td>\n",
       "      <td>Voting District 0591278000001</td>\n",
       "      <td>V1</td>\n",
       "      <td>G5240</td>\n",
       "      <td>N</td>\n",
       "      <td>...</td>\n",
       "      <td>1432</td>\n",
       "      <td>10</td>\n",
       "      <td>1412</td>\n",
       "      <td>2</td>\n",
       "      <td>2</td>\n",
       "      <td>1</td>\n",
       "      <td>0</td>\n",
       "      <td>0</td>\n",
       "      <td>5</td>\n",
       "      <td>17</td>\n",
       "    </tr>\n",
       "  </tbody>\n",
       "</table>\n",
       "<p>5 rows × 41 columns</p>\n",
       "</div>"
      ],
      "text/plain": [
       "  STATEFP10 COUNTYFP10 VTDST10   GEOID10 VTDI10         NAME10  \\\n",
       "0        26        059     110  26059110      A  0593848000001   \n",
       "1        26        059     200  26059200      A  0597198000001   \n",
       "2        26        059      10   2605910      A  0590030000001   \n",
       "3        26        059     170  26059170      A  0596712000001   \n",
       "4        26        059      50   2605950      A  0591278000001   \n",
       "\n",
       "                      NAMELSAD10 LSAD10 MTFCC10 FUNCSTAT10  ...   VAP  HVAP  \\\n",
       "0  Voting District 0593848000001     V1   G5240          N  ...  1580    25   \n",
       "1  Voting District 0597198000001     V1   G5240          N  ...  1374    19   \n",
       "2  Voting District 0590030000001     V1   G5240          N  ...  1915     8   \n",
       "3  Voting District 0596712000001     V1   G5240          N  ...   694    11   \n",
       "4  Voting District 0591278000001     V1   G5240          N  ...  1432    10   \n",
       "\n",
       "   WVAP BVAP AMINVAP  ASIANVAP  NHPIVAP  OTHERVAP  2MOREVAP  HDIST  \n",
       "0  1527    7       6         7        0         0         8     17  \n",
       "1  1330    3       9         2        0         0        11     17  \n",
       "2  1871    8       7         6        0         0        15     17  \n",
       "3   680    0       1         1        0         0         1     17  \n",
       "4  1412    2       2         1        0         0         5     17  \n",
       "\n",
       "[5 rows x 41 columns]"
      ]
     },
     "execution_count": 21,
     "metadata": {},
     "output_type": "execute_result"
    }
   ],
   "source": [
    "state_house.crs = proj\n",
    "state_house = state_house[{'SLDLST', 'geometry'}]\n",
    "assignment = maup.assign(vtd, state_house)\n",
    "vtd['HDIST'] = assignment.astype(int)\n",
    "vtd.head()"
   ]
  },
  {
   "cell_type": "code",
   "execution_count": 22,
   "metadata": {},
   "outputs": [
    {
     "data": {
      "text/html": [
       "<div>\n",
       "<style scoped>\n",
       "    .dataframe tbody tr th:only-of-type {\n",
       "        vertical-align: middle;\n",
       "    }\n",
       "\n",
       "    .dataframe tbody tr th {\n",
       "        vertical-align: top;\n",
       "    }\n",
       "\n",
       "    .dataframe thead th {\n",
       "        text-align: right;\n",
       "    }\n",
       "</style>\n",
       "<table border=\"1\" class=\"dataframe\">\n",
       "  <thead>\n",
       "    <tr style=\"text-align: right;\">\n",
       "      <th></th>\n",
       "      <th>STATEFP10</th>\n",
       "      <th>COUNTYFP10</th>\n",
       "      <th>VTDST10</th>\n",
       "      <th>GEOID10</th>\n",
       "      <th>VTDI10</th>\n",
       "      <th>NAME10</th>\n",
       "      <th>NAMELSAD10</th>\n",
       "      <th>LSAD10</th>\n",
       "      <th>MTFCC10</th>\n",
       "      <th>FUNCSTAT10</th>\n",
       "      <th>...</th>\n",
       "      <th>HVAP</th>\n",
       "      <th>WVAP</th>\n",
       "      <th>BVAP</th>\n",
       "      <th>AMINVAP</th>\n",
       "      <th>ASIANVAP</th>\n",
       "      <th>NHPIVAP</th>\n",
       "      <th>OTHERVAP</th>\n",
       "      <th>2MOREVAP</th>\n",
       "      <th>HDIST</th>\n",
       "      <th>SENDIST</th>\n",
       "    </tr>\n",
       "  </thead>\n",
       "  <tbody>\n",
       "    <tr>\n",
       "      <th>0</th>\n",
       "      <td>26</td>\n",
       "      <td>059</td>\n",
       "      <td>110</td>\n",
       "      <td>26059110</td>\n",
       "      <td>A</td>\n",
       "      <td>0593848000001</td>\n",
       "      <td>Voting District 0593848000001</td>\n",
       "      <td>V1</td>\n",
       "      <td>G5240</td>\n",
       "      <td>N</td>\n",
       "      <td>...</td>\n",
       "      <td>25</td>\n",
       "      <td>1527</td>\n",
       "      <td>7</td>\n",
       "      <td>6</td>\n",
       "      <td>7</td>\n",
       "      <td>0</td>\n",
       "      <td>0</td>\n",
       "      <td>8</td>\n",
       "      <td>17</td>\n",
       "      <td>6</td>\n",
       "    </tr>\n",
       "    <tr>\n",
       "      <th>1</th>\n",
       "      <td>26</td>\n",
       "      <td>059</td>\n",
       "      <td>200</td>\n",
       "      <td>26059200</td>\n",
       "      <td>A</td>\n",
       "      <td>0597198000001</td>\n",
       "      <td>Voting District 0597198000001</td>\n",
       "      <td>V1</td>\n",
       "      <td>G5240</td>\n",
       "      <td>N</td>\n",
       "      <td>...</td>\n",
       "      <td>19</td>\n",
       "      <td>1330</td>\n",
       "      <td>3</td>\n",
       "      <td>9</td>\n",
       "      <td>2</td>\n",
       "      <td>0</td>\n",
       "      <td>0</td>\n",
       "      <td>11</td>\n",
       "      <td>17</td>\n",
       "      <td>6</td>\n",
       "    </tr>\n",
       "    <tr>\n",
       "      <th>2</th>\n",
       "      <td>26</td>\n",
       "      <td>059</td>\n",
       "      <td>10</td>\n",
       "      <td>2605910</td>\n",
       "      <td>A</td>\n",
       "      <td>0590030000001</td>\n",
       "      <td>Voting District 0590030000001</td>\n",
       "      <td>V1</td>\n",
       "      <td>G5240</td>\n",
       "      <td>N</td>\n",
       "      <td>...</td>\n",
       "      <td>8</td>\n",
       "      <td>1871</td>\n",
       "      <td>8</td>\n",
       "      <td>7</td>\n",
       "      <td>6</td>\n",
       "      <td>0</td>\n",
       "      <td>0</td>\n",
       "      <td>15</td>\n",
       "      <td>17</td>\n",
       "      <td>6</td>\n",
       "    </tr>\n",
       "    <tr>\n",
       "      <th>3</th>\n",
       "      <td>26</td>\n",
       "      <td>059</td>\n",
       "      <td>170</td>\n",
       "      <td>26059170</td>\n",
       "      <td>A</td>\n",
       "      <td>0596712000001</td>\n",
       "      <td>Voting District 0596712000001</td>\n",
       "      <td>V1</td>\n",
       "      <td>G5240</td>\n",
       "      <td>N</td>\n",
       "      <td>...</td>\n",
       "      <td>11</td>\n",
       "      <td>680</td>\n",
       "      <td>0</td>\n",
       "      <td>1</td>\n",
       "      <td>1</td>\n",
       "      <td>0</td>\n",
       "      <td>0</td>\n",
       "      <td>1</td>\n",
       "      <td>17</td>\n",
       "      <td>6</td>\n",
       "    </tr>\n",
       "    <tr>\n",
       "      <th>4</th>\n",
       "      <td>26</td>\n",
       "      <td>059</td>\n",
       "      <td>50</td>\n",
       "      <td>2605950</td>\n",
       "      <td>A</td>\n",
       "      <td>0591278000001</td>\n",
       "      <td>Voting District 0591278000001</td>\n",
       "      <td>V1</td>\n",
       "      <td>G5240</td>\n",
       "      <td>N</td>\n",
       "      <td>...</td>\n",
       "      <td>10</td>\n",
       "      <td>1412</td>\n",
       "      <td>2</td>\n",
       "      <td>2</td>\n",
       "      <td>1</td>\n",
       "      <td>0</td>\n",
       "      <td>0</td>\n",
       "      <td>5</td>\n",
       "      <td>17</td>\n",
       "      <td>6</td>\n",
       "    </tr>\n",
       "  </tbody>\n",
       "</table>\n",
       "<p>5 rows × 42 columns</p>\n",
       "</div>"
      ],
      "text/plain": [
       "  STATEFP10 COUNTYFP10 VTDST10   GEOID10 VTDI10         NAME10  \\\n",
       "0        26        059     110  26059110      A  0593848000001   \n",
       "1        26        059     200  26059200      A  0597198000001   \n",
       "2        26        059      10   2605910      A  0590030000001   \n",
       "3        26        059     170  26059170      A  0596712000001   \n",
       "4        26        059      50   2605950      A  0591278000001   \n",
       "\n",
       "                      NAMELSAD10 LSAD10 MTFCC10 FUNCSTAT10  ...  HVAP  WVAP  \\\n",
       "0  Voting District 0593848000001     V1   G5240          N  ...    25  1527   \n",
       "1  Voting District 0597198000001     V1   G5240          N  ...    19  1330   \n",
       "2  Voting District 0590030000001     V1   G5240          N  ...     8  1871   \n",
       "3  Voting District 0596712000001     V1   G5240          N  ...    11   680   \n",
       "4  Voting District 0591278000001     V1   G5240          N  ...    10  1412   \n",
       "\n",
       "  BVAP AMINVAP ASIANVAP  NHPIVAP  OTHERVAP  2MOREVAP  HDIST  SENDIST  \n",
       "0    7       6        7        0         0         8     17        6  \n",
       "1    3       9        2        0         0        11     17        6  \n",
       "2    8       7        6        0         0        15     17        6  \n",
       "3    0       1        1        0         0         1     17        6  \n",
       "4    2       2        1        0         0         5     17        6  \n",
       "\n",
       "[5 rows x 42 columns]"
      ]
     },
     "execution_count": 22,
     "metadata": {},
     "output_type": "execute_result"
    }
   ],
   "source": [
    "state_senate.crs = proj\n",
    "state_senate = state_senate[{'SLDUST', 'geometry'}]\n",
    "assignment = maup.assign(vtd, state_senate)\n",
    "vtd['SENDIST'] = assignment.astype(int)\n",
    "vtd.head()"
   ]
  },
  {
   "cell_type": "code",
   "execution_count": 23,
   "metadata": {},
   "outputs": [
    {
     "name": "stdout",
     "output_type": "stream",
     "text": [
      "110\n",
      "110\n"
     ]
    }
   ],
   "source": [
    "# Check state_house assignment\n",
    "print(len(vtd.HDIST.unique()))\n",
    "print(len(state_house.SLDLST.unique()))"
   ]
  },
  {
   "cell_type": "code",
   "execution_count": 24,
   "metadata": {},
   "outputs": [
    {
     "name": "stdout",
     "output_type": "stream",
     "text": [
      "38\n",
      "38\n"
     ]
    }
   ],
   "source": [
    "# Check state_senate assignment\n",
    "print(len(vtd.SENDIST.unique()))\n",
    "print(len(state_senate.SLDUST.unique()))"
   ]
  },
  {
   "cell_type": "code",
   "execution_count": 25,
   "metadata": {},
   "outputs": [
    {
     "data": {
      "text/plain": [
       "Index(['STATEFP10', 'COUNTYFP10', 'VTDST10', 'GEOID10', 'VTDI10', 'NAME10',\n",
       "       'NAMELSAD10', 'LSAD10', 'MTFCC10', 'FUNCSTAT10', 'ALAND10', 'AWATER10',\n",
       "       'INTPTLAT10', 'INTPTLON10', 'geometry', 'TOTPOP', 'NH_WHITE',\n",
       "       'NH_BLACK', 'NH_AMIN ', 'NH_ASIAN', 'NH_NHPI ', 'NH_OTHER', 'NH_2MORE',\n",
       "       'HISP', 'H_WHITE', 'H_BLACK', 'H_AMIN ', 'H_ASIAN', 'H_NHPI ',\n",
       "       'H_OTHER', 'H_2MORE', 'VAP', 'HVAP', 'WVAP', 'BVAP', 'AMINVAP',\n",
       "       'ASIANVAP', 'NHPIVAP', 'OTHERVAP', '2MOREVAP', 'HDIST', 'SENDIST'],\n",
       "      dtype='object')"
      ]
     },
     "execution_count": 25,
     "metadata": {},
     "output_type": "execute_result"
    }
   ],
   "source": [
    "vtd.columns"
   ]
  },
  {
   "cell_type": "markdown",
   "metadata": {},
   "source": [
    "**Final mggg shapefile**"
   ]
  },
  {
   "cell_type": "code",
   "execution_count": 26,
   "metadata": {},
   "outputs": [],
   "source": [
    "final = gpd.read_file(\"MI_precincts.shp\")"
   ]
  },
  {
   "cell_type": "code",
   "execution_count": 27,
   "metadata": {},
   "outputs": [
    {
     "data": {
      "text/html": [
       "<div>\n",
       "<style scoped>\n",
       "    .dataframe tbody tr th:only-of-type {\n",
       "        vertical-align: middle;\n",
       "    }\n",
       "\n",
       "    .dataframe tbody tr th {\n",
       "        vertical-align: top;\n",
       "    }\n",
       "\n",
       "    .dataframe thead th {\n",
       "        text-align: right;\n",
       "    }\n",
       "</style>\n",
       "<table border=\"1\" class=\"dataframe\">\n",
       "  <thead>\n",
       "    <tr style=\"text-align: right;\">\n",
       "      <th></th>\n",
       "      <th>VTD2016_x</th>\n",
       "      <th>ShapeSTLen</th>\n",
       "      <th>CountyFips</th>\n",
       "      <th>Jurisdicti</th>\n",
       "      <th>ElectionYe</th>\n",
       "      <th>Label</th>\n",
       "      <th>VTD</th>\n",
       "      <th>county_nam</th>\n",
       "      <th>county_fip</th>\n",
       "      <th>county_lat</th>\n",
       "      <th>...</th>\n",
       "      <th>BVAP</th>\n",
       "      <th>AMINVAP</th>\n",
       "      <th>ASIANVAP</th>\n",
       "      <th>NHPIVAP</th>\n",
       "      <th>OTHERVAP</th>\n",
       "      <th>2MOREVAP</th>\n",
       "      <th>HDIST</th>\n",
       "      <th>SENDIST</th>\n",
       "      <th>CD</th>\n",
       "      <th>geometry</th>\n",
       "    </tr>\n",
       "  </thead>\n",
       "  <tbody>\n",
       "    <tr>\n",
       "      <th>0</th>\n",
       "      <td>0057498003002</td>\n",
       "      <td>1881.842376</td>\n",
       "      <td>005</td>\n",
       "      <td>74980</td>\n",
       "      <td>2016</td>\n",
       "      <td>City of South Haven</td>\n",
       "      <td>P0057498003002</td>\n",
       "      <td>Allegan County</td>\n",
       "      <td>26005</td>\n",
       "      <td>42.595787</td>\n",
       "      <td>...</td>\n",
       "      <td>4.919570e-08</td>\n",
       "      <td>0.000000e+00</td>\n",
       "      <td>0.0</td>\n",
       "      <td>0.0</td>\n",
       "      <td>0.0</td>\n",
       "      <td>0.000000e+00</td>\n",
       "      <td>080</td>\n",
       "      <td>026</td>\n",
       "      <td>06</td>\n",
       "      <td>POLYGON ((-86.26019 42.41932, -86.26154 42.419...</td>\n",
       "    </tr>\n",
       "    <tr>\n",
       "      <th>1</th>\n",
       "      <td>1632200004011</td>\n",
       "      <td>2707.392219</td>\n",
       "      <td>163</td>\n",
       "      <td>22000</td>\n",
       "      <td>2016</td>\n",
       "      <td>City of Detroit</td>\n",
       "      <td>P1632200004011</td>\n",
       "      <td>Wayne County</td>\n",
       "      <td>26163</td>\n",
       "      <td>42.284664</td>\n",
       "      <td>...</td>\n",
       "      <td>2.717738e-05</td>\n",
       "      <td>0.000000e+00</td>\n",
       "      <td>0.0</td>\n",
       "      <td>0.0</td>\n",
       "      <td>0.0</td>\n",
       "      <td>5.631869e-08</td>\n",
       "      <td>001</td>\n",
       "      <td>002</td>\n",
       "      <td>14</td>\n",
       "      <td>POLYGON ((-82.94032 42.41407, -82.94125 42.413...</td>\n",
       "    </tr>\n",
       "    <tr>\n",
       "      <th>2</th>\n",
       "      <td>1632200005454</td>\n",
       "      <td>3366.268244</td>\n",
       "      <td>163</td>\n",
       "      <td>22000</td>\n",
       "      <td>2016</td>\n",
       "      <td>City of Detroit</td>\n",
       "      <td>P1632200005454</td>\n",
       "      <td>Wayne County</td>\n",
       "      <td>26163</td>\n",
       "      <td>42.284664</td>\n",
       "      <td>...</td>\n",
       "      <td>5.970645e+00</td>\n",
       "      <td>2.917200e-11</td>\n",
       "      <td>0.0</td>\n",
       "      <td>0.0</td>\n",
       "      <td>0.0</td>\n",
       "      <td>1.591281e-07</td>\n",
       "      <td>005</td>\n",
       "      <td>004</td>\n",
       "      <td>13</td>\n",
       "      <td>POLYGON ((-83.10155 42.35828, -83.10142 42.358...</td>\n",
       "    </tr>\n",
       "    <tr>\n",
       "      <th>3</th>\n",
       "      <td>0636518000001</td>\n",
       "      <td>15685.809560</td>\n",
       "      <td>063</td>\n",
       "      <td>65180</td>\n",
       "      <td>2016</td>\n",
       "      <td>Pointe Aux Barques Township</td>\n",
       "      <td>P0636518000001</td>\n",
       "      <td>Huron County</td>\n",
       "      <td>26063</td>\n",
       "      <td>43.907616</td>\n",
       "      <td>...</td>\n",
       "      <td>0.000000e+00</td>\n",
       "      <td>0.000000e+00</td>\n",
       "      <td>0.0</td>\n",
       "      <td>0.0</td>\n",
       "      <td>0.0</td>\n",
       "      <td>0.000000e+00</td>\n",
       "      <td>084</td>\n",
       "      <td>025</td>\n",
       "      <td>10</td>\n",
       "      <td>POLYGON ((-82.97992 44.05569, -82.97977 44.055...</td>\n",
       "    </tr>\n",
       "    <tr>\n",
       "      <th>4</th>\n",
       "      <td>0715086000002</td>\n",
       "      <td>112221.960836</td>\n",
       "      <td>071</td>\n",
       "      <td>50860</td>\n",
       "      <td>2016</td>\n",
       "      <td>Mansfield Township</td>\n",
       "      <td>P0715086000002</td>\n",
       "      <td>Iron County</td>\n",
       "      <td>26071</td>\n",
       "      <td>46.170254</td>\n",
       "      <td>...</td>\n",
       "      <td>0.000000e+00</td>\n",
       "      <td>0.000000e+00</td>\n",
       "      <td>0.0</td>\n",
       "      <td>0.0</td>\n",
       "      <td>0.0</td>\n",
       "      <td>0.000000e+00</td>\n",
       "      <td>110</td>\n",
       "      <td>038</td>\n",
       "      <td>01</td>\n",
       "      <td>POLYGON ((-88.21608 46.18757, -88.21630 46.187...</td>\n",
       "    </tr>\n",
       "  </tbody>\n",
       "</table>\n",
       "<p>5 rows × 44 columns</p>\n",
       "</div>"
      ],
      "text/plain": [
       "       VTD2016_x     ShapeSTLen CountyFips Jurisdicti  ElectionYe  \\\n",
       "0  0057498003002    1881.842376        005      74980        2016   \n",
       "1  1632200004011    2707.392219        163      22000        2016   \n",
       "2  1632200005454    3366.268244        163      22000        2016   \n",
       "3  0636518000001   15685.809560        063      65180        2016   \n",
       "4  0715086000002  112221.960836        071      50860        2016   \n",
       "\n",
       "                         Label             VTD      county_nam  county_fip  \\\n",
       "0          City of South Haven  P0057498003002  Allegan County       26005   \n",
       "1              City of Detroit  P1632200004011    Wayne County       26163   \n",
       "2              City of Detroit  P1632200005454    Wayne County       26163   \n",
       "3  Pointe Aux Barques Township  P0636518000001    Huron County       26063   \n",
       "4           Mansfield Township  P0715086000002     Iron County       26071   \n",
       "\n",
       "   county_lat  ...          BVAP       AMINVAP ASIANVAP  NHPIVAP  OTHERVAP  \\\n",
       "0   42.595787  ...  4.919570e-08  0.000000e+00      0.0      0.0       0.0   \n",
       "1   42.284664  ...  2.717738e-05  0.000000e+00      0.0      0.0       0.0   \n",
       "2   42.284664  ...  5.970645e+00  2.917200e-11      0.0      0.0       0.0   \n",
       "3   43.907616  ...  0.000000e+00  0.000000e+00      0.0      0.0       0.0   \n",
       "4   46.170254  ...  0.000000e+00  0.000000e+00      0.0      0.0       0.0   \n",
       "\n",
       "       2MOREVAP  HDIST  SENDIST  CD  \\\n",
       "0  0.000000e+00    080      026  06   \n",
       "1  5.631869e-08    001      002  14   \n",
       "2  1.591281e-07    005      004  13   \n",
       "3  0.000000e+00    084      025  10   \n",
       "4  0.000000e+00    110      038  01   \n",
       "\n",
       "                                            geometry  \n",
       "0  POLYGON ((-86.26019 42.41932, -86.26154 42.419...  \n",
       "1  POLYGON ((-82.94032 42.41407, -82.94125 42.413...  \n",
       "2  POLYGON ((-83.10155 42.35828, -83.10142 42.358...  \n",
       "3  POLYGON ((-82.97992 44.05569, -82.97977 44.055...  \n",
       "4  POLYGON ((-88.21608 46.18757, -88.21630 46.187...  \n",
       "\n",
       "[5 rows x 44 columns]"
      ]
     },
     "execution_count": 27,
     "metadata": {},
     "output_type": "execute_result"
    }
   ],
   "source": [
    "final.head()"
   ]
  },
  {
   "cell_type": "code",
   "execution_count": 28,
   "metadata": {},
   "outputs": [
    {
     "data": {
      "text/plain": [
       "<matplotlib.axes._subplots.AxesSubplot at 0x1fc0a5bbb88>"
      ]
     },
     "execution_count": 28,
     "metadata": {},
     "output_type": "execute_result"
    },
    {
     "data": {
      "image/png": "[encoded data removed]",
      "text/plain": [
       "<Figure size 432x288 with 1 Axes>"
      ]
     },
     "metadata": {
      "needs_background": "light"
     },
     "output_type": "display_data"
    }
   ],
   "source": [
    "final.plot()"
   ]
  },
  {
   "cell_type": "code",
   "execution_count": 29,
   "metadata": {},
   "outputs": [],
   "source": [
    "# remove zero-population area\n",
    "vtd = vtd[vtd.TOTPOP != 0]"
   ]
  },
  {
   "cell_type": "code",
   "execution_count": 30,
   "metadata": {},
   "outputs": [
    {
     "data": {
      "text/plain": [
       "<matplotlib.axes._subplots.AxesSubplot at 0x1fc0a644ac8>"
      ]
     },
     "execution_count": 30,
     "metadata": {},
     "output_type": "execute_result"
    },
    {
     "data": {
      "image/png": "[encoded data removed]",
      "text/plain": [
       "<Figure size 432x288 with 1 Axes>"
      ]
     },
     "metadata": {
      "needs_background": "light"
     },
     "output_type": "display_data"
    }
   ],
   "source": [
    "vtd.plot()"
   ]
  },
  {
   "cell_type": "markdown",
   "metadata": {},
   "source": [
    "**Verification**"
   ]
  },
  {
   "cell_type": "code",
   "execution_count": 31,
   "metadata": {},
   "outputs": [],
   "source": [
    "final['NAME10'] = final['VTD2016_x']\n",
    "validate = pd.merge(vtd, final, on='NAME10', how=\"inner\", indicator=True)"
   ]
  },
  {
   "cell_type": "code",
   "execution_count": 32,
   "metadata": {},
   "outputs": [
    {
     "data": {
      "text/plain": [
       "Index(['STATEFP10', 'COUNTYFP10', 'VTDST10', 'GEOID10', 'VTDI10', 'NAME10',\n",
       "       'NAMELSAD10', 'LSAD10', 'MTFCC10', 'FUNCSTAT10', 'ALAND10', 'AWATER10',\n",
       "       'INTPTLAT10', 'INTPTLON10', 'geometry_x', 'TOTPOP_x', 'NH_WHITE_x',\n",
       "       'NH_BLACK_x', 'NH_AMIN ', 'NH_ASIAN_x', 'NH_NHPI ', 'NH_OTHER_x',\n",
       "       'NH_2MORE', 'HISP_x', 'H_WHITE_x', 'H_BLACK_x', 'H_AMIN ', 'H_ASIAN_x',\n",
       "       'H_NHPI ', 'H_OTHER_x', 'H_2MORE', 'VAP_x', 'HVAP_x', 'WVAP_x',\n",
       "       'BVAP_x', 'AMINVAP_x', 'ASIANVAP_x', 'NHPIVAP_x', 'OTHERVAP_x',\n",
       "       '2MOREVAP_x', 'HDIST_x', 'SENDIST_x', 'VTD2016_x', 'ShapeSTLen',\n",
       "       'CountyFips', 'Jurisdicti', 'ElectionYe', 'Label', 'VTD', 'county_nam',\n",
       "       'county_fip', 'county_lat', 'county_lon', 'jurisdic_1', 'precinct',\n",
       "       'PRES16D', 'PRES16R', 'PRES16L', 'PRES16G', 'TOTPOP_y', 'NH_WHITE_y',\n",
       "       'NH_BLACK_y', 'NH_AMIN', 'NH_ASIAN_y', 'NH_NHPI', 'NH_OTHER_y',\n",
       "       'HISP_y', 'H_WHITE_y', 'H_BLACK_y', 'H_AMIN', 'H_ASIAN_y', 'H_NHPI',\n",
       "       'H_OTHER_y', 'VAP_y', 'HVAP_y', 'WVAP_y', 'BVAP_y', 'AMINVAP_y',\n",
       "       'ASIANVAP_y', 'NHPIVAP_y', 'OTHERVAP_y', '2MOREVAP_y', 'HDIST_y',\n",
       "       'SENDIST_y', 'CD', 'geometry_y', '_merge'],\n",
       "      dtype='object')"
      ]
     },
     "execution_count": 32,
     "metadata": {},
     "output_type": "execute_result"
    }
   ],
   "source": [
    "validate.columns"
   ]
  },
  {
   "cell_type": "code",
   "execution_count": 33,
   "metadata": {},
   "outputs": [
    {
     "name": "stdout",
     "output_type": "stream",
     "text": [
      "9883640\n",
      "10132164.947459279\n",
      "97.54716836186526 %\n"
     ]
    }
   ],
   "source": [
    "# Total population doesn't match exactly \n",
    "print(vtd.TOTPOP.sum())\n",
    "print(final.TOTPOP.sum())\n",
    "print(vtd.TOTPOP.sum()*100/final.TOTPOP.sum(), \"%\")"
   ]
  },
  {
   "cell_type": "code",
   "execution_count": 34,
   "metadata": {},
   "outputs": [
    {
     "name": "stdout",
     "output_type": "stream",
     "text": [
      "69.93736951983298 %\n"
     ]
    }
   ],
   "source": [
    "# 70% of districts have within 100 people difference in total population -- this is not a great result\n",
    "validate[\"popdiff\"] = abs(validate.TOTPOP_x - validate.TOTPOP_y)\n",
    "print(len(validate[validate.popdiff <= 100])/len(validate.VTD2016_x.unique())*100, \"%\")"
   ]
  }
 ],
 "metadata": {
  "kernelspec": {
   "display_name": "Python 3",
   "language": "python",
   "name": "python3"
  },
  "language_info": {
   "codemirror_mode": {
    "name": "ipython",
    "version": 3
   },
   "file_extension": ".py",
   "mimetype": "text/x-python",
   "name": "python",
   "nbconvert_exporter": "python",
   "pygments_lexer": "ipython3",
   "version": "3.8.3"
  }
 },
 "nbformat": 4,
 "nbformat_minor": 4
}
