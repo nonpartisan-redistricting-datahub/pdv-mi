{
 "cells": [
  {
   "cell_type": "markdown",
   "metadata": {},
   "source": [
    "# 2016 VEST MI\n",
    "\n",
    "### From Documentation:\n",
    "Election results from the Michigan Department of State (https://miboecfr.nictusa.com/cgi-bin/cfr/precinct_srch.cgi)\n",
    "Precinct shapefile from the Michigan Department of State (https://gis-michigan.opendata.arcgis.com/datasets/8ce0f3ce3ff74109ac02a26d34a0f4fc_1)\n",
    "\n",
    "Michigan has cities split across counties. Two are relevant to their reported election results versus the precinct map (which did not make the split), Fenton and Richmond. Those precincts were merged to reflect the precinct map.\n",
    "\n",
    "Most counties had \"statistical adjustments\" that were at the county level, rather than the precinct level. Only two were for party candidates (Huron and Kalkaka), and in those cases, two or fewer votes. The remaining cases were related to \"other\" votes. Due to the scattered nature of \"other\" votes, these votes are apportioned to precincts by the split of total votes of precincts within the county.\n",
    "\n",
    "Detroit allows for absentee votes to be reported by Absentee Voter Counting Boards, which generally contain multiple precincts. These votes are apportioned to precincts by candidate in the same shares that the non-AVCB vote was split among precincts within a county. The linkage between election precinct and AVCB was provided by OpenElections via Derek Willis. Precinct 176 was listed as split between AVCB 37 and AVCB 158, the only precinct in the city that was listed as split. AVCB 158 has no other precinct assigned to it, so all votes went to precinct 176. However, this was a very low number of votes relative to the other AVCBs, so for ease of calculation, 176 was treated as a normal member of AVCB 37 in the disaggregation calculation described above.\n",
    "\n",
    "G16PREDCli - Hillary Clinton (Democratic Party)\n",
    "G16PRERTru - Donald J. Trump (Republican Party)\n",
    "G16PREGSte - Jill Stein (Green Party)\n",
    "G16PRELJoh - Gary Johnson (Libertarian Party)\n",
    "G16PREOth - Other Candidates/Write-in Votes\n"
   ]
  },
  {
   "cell_type": "markdown",
   "metadata": {},
   "source": [
    "**Files + Sources:** \n",
    "\n",
    "2016GEN.zip: Election precinct results from the Michigan Department of State (https://miboecfr.nictusa.com/cgi-bin/cfr/precinct_srch.cgi)\n",
    "\n",
    "2016_Voting_Precincts-shp.zip: Precinct shapefile from the Michigan Department of State (https://gis-michigan.opendata.arcgis.com/datasets/8ce0f3ce3ff74109ac02a26d34a0f4fc_1)\n",
    "\n",
    "mi_2016.zip: VEST final file (https://dataverse.harvard.edu/file.xhtml?persistentId=doi:10.7910/DVN/NH5S2I/4KOZRU&version=46.0)\n",
    "\n",
    "documentation_2016.txt: VEST's documentation on their 2016 work, all included, not just MI (https://dataverse.harvard.edu/file.xhtml?persistentId=doi:10.7910/DVN/NH5S2I/A652IT&version=46.0)"
   ]
  },
  {
   "cell_type": "code",
   "execution_count": 1,
   "metadata": {},
   "outputs": [],
   "source": [
    "import numpy as np\n",
    "import pandas as pd\n",
    "import geopandas as gpd\n",
    "import pathlib\n",
    "import matplotlib.pyplot as plt\n",
    "import maup\n",
    "from zipfile import ZipFile"
   ]
  },
  {
   "cell_type": "markdown",
   "metadata": {},
   "source": [
    "# Load Partner File"
   ]
  },
  {
   "cell_type": "code",
   "execution_count": 3,
   "metadata": {},
   "outputs": [
    {
     "name": "stdout",
     "output_type": "stream",
     "text": [
      "/Users/lilyfalk/sandbox/pdv-mi/vest-mi/vest_mi_2016_ar\n"
     ]
    }
   ],
   "source": [
    "cd /Users/lilyfalk/sandbox/pdv-mi/vest-mi/vest_mi_2016_ar/"
   ]
  },
  {
   "cell_type": "code",
   "execution_count": 4,
   "metadata": {},
   "outputs": [
    {
     "data": {
      "text/html": [
       "<div>\n",
       "<style scoped>\n",
       "    .dataframe tbody tr th:only-of-type {\n",
       "        vertical-align: middle;\n",
       "    }\n",
       "\n",
       "    .dataframe tbody tr th {\n",
       "        vertical-align: top;\n",
       "    }\n",
       "\n",
       "    .dataframe thead th {\n",
       "        text-align: right;\n",
       "    }\n",
       "</style>\n",
       "<table border=\"1\" class=\"dataframe\">\n",
       "  <thead>\n",
       "    <tr style=\"text-align: right;\">\n",
       "      <th></th>\n",
       "      <th>VTD2016</th>\n",
       "      <th>Label</th>\n",
       "      <th>G16PREDCli</th>\n",
       "      <th>G16PRERTru</th>\n",
       "      <th>G16PREGSte</th>\n",
       "      <th>G16PRELJoh</th>\n",
       "      <th>G16PREOth</th>\n",
       "      <th>geometry</th>\n",
       "    </tr>\n",
       "  </thead>\n",
       "  <tbody>\n",
       "    <tr>\n",
       "      <th>0</th>\n",
       "      <td>1632100000001</td>\n",
       "      <td>City of Dearborn</td>\n",
       "      <td>581</td>\n",
       "      <td>93</td>\n",
       "      <td>17</td>\n",
       "      <td>11</td>\n",
       "      <td>1</td>\n",
       "      <td>POLYGON ((-83.14843 42.34469, -83.14861 42.343...</td>\n",
       "    </tr>\n",
       "    <tr>\n",
       "      <th>1</th>\n",
       "      <td>1632100000002</td>\n",
       "      <td>City of Dearborn</td>\n",
       "      <td>560</td>\n",
       "      <td>95</td>\n",
       "      <td>23</td>\n",
       "      <td>9</td>\n",
       "      <td>3</td>\n",
       "      <td>POLYGON ((-83.16029 42.34644, -83.16027 42.344...</td>\n",
       "    </tr>\n",
       "    <tr>\n",
       "      <th>2</th>\n",
       "      <td>1632100000003</td>\n",
       "      <td>City of Dearborn</td>\n",
       "      <td>756</td>\n",
       "      <td>171</td>\n",
       "      <td>52</td>\n",
       "      <td>13</td>\n",
       "      <td>5</td>\n",
       "      <td>POLYGON ((-83.16699 42.34247, -83.16815 42.342...</td>\n",
       "    </tr>\n",
       "    <tr>\n",
       "      <th>3</th>\n",
       "      <td>1632100000004</td>\n",
       "      <td>City of Dearborn</td>\n",
       "      <td>406</td>\n",
       "      <td>70</td>\n",
       "      <td>17</td>\n",
       "      <td>8</td>\n",
       "      <td>1</td>\n",
       "      <td>POLYGON ((-83.17687 42.34399, -83.17806 42.343...</td>\n",
       "    </tr>\n",
       "    <tr>\n",
       "      <th>4</th>\n",
       "      <td>1632100000005</td>\n",
       "      <td>City of Dearborn</td>\n",
       "      <td>453</td>\n",
       "      <td>68</td>\n",
       "      <td>15</td>\n",
       "      <td>9</td>\n",
       "      <td>0</td>\n",
       "      <td>POLYGON ((-83.18665 42.34561, -83.18657 42.343...</td>\n",
       "    </tr>\n",
       "  </tbody>\n",
       "</table>\n",
       "</div>"
      ],
      "text/plain": [
       "         VTD2016             Label  G16PREDCli  G16PRERTru  G16PREGSte  \\\n",
       "0  1632100000001  City of Dearborn         581          93          17   \n",
       "1  1632100000002  City of Dearborn         560          95          23   \n",
       "2  1632100000003  City of Dearborn         756         171          52   \n",
       "3  1632100000004  City of Dearborn         406          70          17   \n",
       "4  1632100000005  City of Dearborn         453          68          15   \n",
       "\n",
       "   G16PRELJoh  G16PREOth                                           geometry  \n",
       "0          11          1  POLYGON ((-83.14843 42.34469, -83.14861 42.343...  \n",
       "1           9          3  POLYGON ((-83.16029 42.34644, -83.16027 42.344...  \n",
       "2          13          5  POLYGON ((-83.16699 42.34247, -83.16815 42.342...  \n",
       "3           8          1  POLYGON ((-83.17687 42.34399, -83.17806 42.343...  \n",
       "4           9          0  POLYGON ((-83.18665 42.34561, -83.18657 42.343...  "
      ]
     },
     "execution_count": 4,
     "metadata": {},
     "output_type": "execute_result"
    }
   ],
   "source": [
    "gdfv = gpd.read_file('./raw-from-source/mi_2016/mi_2016.shp')\n",
    "gdfv.head()"
   ]
  },
  {
   "cell_type": "markdown",
   "metadata": {},
   "source": [
    "# Shapefile"
   ]
  },
  {
   "cell_type": "markdown",
   "metadata": {},
   "source": [
    "## Load, Project"
   ]
  },
  {
   "cell_type": "code",
   "execution_count": 5,
   "metadata": {},
   "outputs": [
    {
     "data": {
      "text/html": [
       "<div>\n",
       "<style scoped>\n",
       "    .dataframe tbody tr th:only-of-type {\n",
       "        vertical-align: middle;\n",
       "    }\n",
       "\n",
       "    .dataframe tbody tr th {\n",
       "        vertical-align: top;\n",
       "    }\n",
       "\n",
       "    .dataframe thead th {\n",
       "        text-align: right;\n",
       "    }\n",
       "</style>\n",
       "<table border=\"1\" class=\"dataframe\">\n",
       "  <thead>\n",
       "    <tr style=\"text-align: right;\">\n",
       "      <th></th>\n",
       "      <th>OBJECTID</th>\n",
       "      <th>Id</th>\n",
       "      <th>VTD2016</th>\n",
       "      <th>CountyFips</th>\n",
       "      <th>Jurisdicti</th>\n",
       "      <th>ElectionYe</th>\n",
       "      <th>Label</th>\n",
       "      <th>ShapeSTAre</th>\n",
       "      <th>ShapeSTLen</th>\n",
       "      <th>geometry</th>\n",
       "    </tr>\n",
       "  </thead>\n",
       "  <tbody>\n",
       "    <tr>\n",
       "      <th>0</th>\n",
       "      <td>1</td>\n",
       "      <td>3888</td>\n",
       "      <td>1632100000001</td>\n",
       "      <td>163</td>\n",
       "      <td>21000</td>\n",
       "      <td>2016</td>\n",
       "      <td>City of Dearborn</td>\n",
       "      <td>2.489738e+06</td>\n",
       "      <td>6846.254657</td>\n",
       "      <td>POLYGON ((734740.564 203392.197, 734729.230 20...</td>\n",
       "    </tr>\n",
       "    <tr>\n",
       "      <th>1</th>\n",
       "      <td>2</td>\n",
       "      <td>3889</td>\n",
       "      <td>1632100000002</td>\n",
       "      <td>163</td>\n",
       "      <td>21000</td>\n",
       "      <td>2016</td>\n",
       "      <td>City of Dearborn</td>\n",
       "      <td>1.058362e+06</td>\n",
       "      <td>4621.388992</td>\n",
       "      <td>POLYGON ((733757.240 203553.421, 733767.280 20...</td>\n",
       "    </tr>\n",
       "    <tr>\n",
       "      <th>2</th>\n",
       "      <td>3</td>\n",
       "      <td>3890</td>\n",
       "      <td>1632100000003</td>\n",
       "      <td>163</td>\n",
       "      <td>21000</td>\n",
       "      <td>2016</td>\n",
       "      <td>City of Dearborn</td>\n",
       "      <td>1.488846e+06</td>\n",
       "      <td>4909.715171</td>\n",
       "      <td>POLYGON ((733220.680 203094.269, 733125.455 20...</td>\n",
       "    </tr>\n",
       "    <tr>\n",
       "      <th>3</th>\n",
       "      <td>4</td>\n",
       "      <td>3891</td>\n",
       "      <td>1632100000004</td>\n",
       "      <td>163</td>\n",
       "      <td>21000</td>\n",
       "      <td>2016</td>\n",
       "      <td>City of Dearborn</td>\n",
       "      <td>1.187165e+06</td>\n",
       "      <td>4354.743602</td>\n",
       "      <td>POLYGON ((732401.480 203234.816, 732303.854 20...</td>\n",
       "    </tr>\n",
       "    <tr>\n",
       "      <th>4</th>\n",
       "      <td>5</td>\n",
       "      <td>3892</td>\n",
       "      <td>1632100000005</td>\n",
       "      <td>163</td>\n",
       "      <td>21000</td>\n",
       "      <td>2016</td>\n",
       "      <td>City of Dearborn</td>\n",
       "      <td>1.133548e+06</td>\n",
       "      <td>5460.202887</td>\n",
       "      <td>POLYGON ((731590.226 203387.835, 731604.080 20...</td>\n",
       "    </tr>\n",
       "  </tbody>\n",
       "</table>\n",
       "</div>"
      ],
      "text/plain": [
       "   OBJECTID    Id        VTD2016 CountyFips Jurisdicti  ElectionYe  \\\n",
       "0         1  3888  1632100000001        163      21000        2016   \n",
       "1         2  3889  1632100000002        163      21000        2016   \n",
       "2         3  3890  1632100000003        163      21000        2016   \n",
       "3         4  3891  1632100000004        163      21000        2016   \n",
       "4         5  3892  1632100000005        163      21000        2016   \n",
       "\n",
       "              Label    ShapeSTAre   ShapeSTLen  \\\n",
       "0  City of Dearborn  2.489738e+06  6846.254657   \n",
       "1  City of Dearborn  1.058362e+06  4621.388992   \n",
       "2  City of Dearborn  1.488846e+06  4909.715171   \n",
       "3  City of Dearborn  1.187165e+06  4354.743602   \n",
       "4  City of Dearborn  1.133548e+06  5460.202887   \n",
       "\n",
       "                                            geometry  \n",
       "0  POLYGON ((734740.564 203392.197, 734729.230 20...  \n",
       "1  POLYGON ((733757.240 203553.421, 733767.280 20...  \n",
       "2  POLYGON ((733220.680 203094.269, 733125.455 20...  \n",
       "3  POLYGON ((732401.480 203234.816, 732303.854 20...  \n",
       "4  POLYGON ((731590.226 203387.835, 731604.080 20...  "
      ]
     },
     "execution_count": 5,
     "metadata": {},
     "output_type": "execute_result"
    }
   ],
   "source": [
    "shp = gpd.read_file('./raw-from-source/2016_Voting_Precincts/2016_Voting_Precincts.shp')\n",
    "shp.head()"
   ]
  },
  {
   "cell_type": "code",
   "execution_count": 6,
   "metadata": {},
   "outputs": [],
   "source": [
    "crs = gdfv.crs\n",
    "shp = shp.to_crs(crs)"
   ]
  },
  {
   "cell_type": "markdown",
   "metadata": {},
   "source": [
    "# Election Results"
   ]
  },
  {
   "cell_type": "markdown",
   "metadata": {},
   "source": [
    "## Load"
   ]
  },
  {
   "cell_type": "code",
   "execution_count": 7,
   "metadata": {},
   "outputs": [],
   "source": [
    "df = pd.read_csv('./raw-from-source/2016GEN/2016vote.txt', delimiter = '\\t', header = None)\n",
    "#columns defined in documentation\n",
    "df.columns = ['election_year','election_type','office_code','district_code',\n",
    "                                     'status_code','candidate_id','county_code','city_town_code','ward_number',\n",
    "                                     'precinct_number','precinct_label','precinct_votes','na_col']"
   ]
  },
  {
   "cell_type": "code",
   "execution_count": 8,
   "metadata": {},
   "outputs": [
    {
     "data": {
      "text/plain": [
       "AVCB     14113\n",
       "A         1918\n",
       "B          861\n",
       "C          135\n",
       "22L         66\n",
       "S           66\n",
       "23          66\n",
       "W           65\n",
       "Name: precinct_label, dtype: int64"
      ]
     },
     "execution_count": 8,
     "metadata": {},
     "output_type": "execute_result"
    }
   ],
   "source": [
    "df.precinct_label.value_counts()"
   ]
  },
  {
   "cell_type": "code",
   "execution_count": 9,
   "metadata": {},
   "outputs": [
    {
     "data": {
      "text/html": [
       "<div>\n",
       "<style scoped>\n",
       "    .dataframe tbody tr th:only-of-type {\n",
       "        vertical-align: middle;\n",
       "    }\n",
       "\n",
       "    .dataframe tbody tr th {\n",
       "        vertical-align: top;\n",
       "    }\n",
       "\n",
       "    .dataframe thead th {\n",
       "        text-align: right;\n",
       "    }\n",
       "</style>\n",
       "<table border=\"1\" class=\"dataframe\">\n",
       "  <thead>\n",
       "    <tr style=\"text-align: right;\">\n",
       "      <th></th>\n",
       "      <th>election_year</th>\n",
       "      <th>election_type</th>\n",
       "      <th>office_code</th>\n",
       "      <th>district_code</th>\n",
       "      <th>status_code</th>\n",
       "      <th>candidate_id</th>\n",
       "      <th>county_code</th>\n",
       "      <th>city_town_code</th>\n",
       "      <th>ward_number</th>\n",
       "      <th>precinct_number</th>\n",
       "      <th>precinct_label</th>\n",
       "      <th>precinct_votes</th>\n",
       "      <th>na_col</th>\n",
       "    </tr>\n",
       "  </thead>\n",
       "  <tbody>\n",
       "    <tr>\n",
       "      <th>0</th>\n",
       "      <td>2016</td>\n",
       "      <td>GEN</td>\n",
       "      <td>0</td>\n",
       "      <td>0</td>\n",
       "      <td>0</td>\n",
       "      <td>0</td>\n",
       "      <td>1</td>\n",
       "      <td>2</td>\n",
       "      <td>0</td>\n",
       "      <td>1</td>\n",
       "      <td>NaN</td>\n",
       "      <td>725</td>\n",
       "      <td>NaN</td>\n",
       "    </tr>\n",
       "    <tr>\n",
       "      <th>1</th>\n",
       "      <td>2016</td>\n",
       "      <td>GEN</td>\n",
       "      <td>0</td>\n",
       "      <td>0</td>\n",
       "      <td>0</td>\n",
       "      <td>0</td>\n",
       "      <td>1</td>\n",
       "      <td>4</td>\n",
       "      <td>0</td>\n",
       "      <td>1</td>\n",
       "      <td>NaN</td>\n",
       "      <td>652</td>\n",
       "      <td>NaN</td>\n",
       "    </tr>\n",
       "    <tr>\n",
       "      <th>2</th>\n",
       "      <td>2016</td>\n",
       "      <td>GEN</td>\n",
       "      <td>0</td>\n",
       "      <td>0</td>\n",
       "      <td>0</td>\n",
       "      <td>0</td>\n",
       "      <td>1</td>\n",
       "      <td>6</td>\n",
       "      <td>0</td>\n",
       "      <td>1</td>\n",
       "      <td>NaN</td>\n",
       "      <td>647</td>\n",
       "      <td>NaN</td>\n",
       "    </tr>\n",
       "    <tr>\n",
       "      <th>3</th>\n",
       "      <td>2016</td>\n",
       "      <td>GEN</td>\n",
       "      <td>0</td>\n",
       "      <td>0</td>\n",
       "      <td>0</td>\n",
       "      <td>0</td>\n",
       "      <td>1</td>\n",
       "      <td>8</td>\n",
       "      <td>0</td>\n",
       "      <td>1</td>\n",
       "      <td>NaN</td>\n",
       "      <td>796</td>\n",
       "      <td>NaN</td>\n",
       "    </tr>\n",
       "    <tr>\n",
       "      <th>4</th>\n",
       "      <td>2016</td>\n",
       "      <td>GEN</td>\n",
       "      <td>0</td>\n",
       "      <td>0</td>\n",
       "      <td>0</td>\n",
       "      <td>0</td>\n",
       "      <td>1</td>\n",
       "      <td>10</td>\n",
       "      <td>0</td>\n",
       "      <td>1</td>\n",
       "      <td>NaN</td>\n",
       "      <td>360</td>\n",
       "      <td>NaN</td>\n",
       "    </tr>\n",
       "  </tbody>\n",
       "</table>\n",
       "</div>"
      ],
      "text/plain": [
       "   election_year election_type  office_code  district_code  status_code  \\\n",
       "0           2016           GEN            0              0            0   \n",
       "1           2016           GEN            0              0            0   \n",
       "2           2016           GEN            0              0            0   \n",
       "3           2016           GEN            0              0            0   \n",
       "4           2016           GEN            0              0            0   \n",
       "\n",
       "   candidate_id  county_code  city_town_code  ward_number  precinct_number  \\\n",
       "0             0            1               2            0                1   \n",
       "1             0            1               4            0                1   \n",
       "2             0            1               6            0                1   \n",
       "3             0            1               8            0                1   \n",
       "4             0            1              10            0                1   \n",
       "\n",
       "  precinct_label  precinct_votes  na_col  \n",
       "0            NaN             725     NaN  \n",
       "1            NaN             652     NaN  \n",
       "2            NaN             647     NaN  \n",
       "3            NaN             796     NaN  \n",
       "4            NaN             360     NaN  "
      ]
     },
     "execution_count": 9,
     "metadata": {},
     "output_type": "execute_result"
    }
   ],
   "source": [
    "df.head()"
   ]
  },
  {
   "cell_type": "markdown",
   "metadata": {},
   "source": [
    "# Processing"
   ]
  },
  {
   "cell_type": "code",
   "execution_count": 10,
   "metadata": {},
   "outputs": [
    {
     "data": {
      "text/plain": [
       "10"
      ]
     },
     "execution_count": 10,
     "metadata": {},
     "output_type": "execute_result"
    }
   ],
   "source": [
    "df['office_code'].nunique()"
   ]
  },
  {
   "cell_type": "code",
   "execution_count": 11,
   "metadata": {},
   "outputs": [
    {
     "data": {
      "text/plain": [
       "1     66001\n",
       "9     55275\n",
       "12    55242\n",
       "10    50240\n",
       "11    40192\n",
       "13    30132\n",
       "6     22363\n",
       "8     12373\n",
       "0      5041\n",
       "7       386\n",
       "Name: office_code, dtype: int64"
      ]
     },
     "execution_count": 11,
     "metadata": {},
     "output_type": "execute_result"
    }
   ],
   "source": [
    "df['office_code'].value_counts()"
   ]
  },
  {
   "cell_type": "code",
   "execution_count": 12,
   "metadata": {},
   "outputs": [
    {
     "data": {
      "text/plain": [
       "391"
      ]
     },
     "execution_count": 12,
     "metadata": {},
     "output_type": "execute_result"
    }
   ],
   "source": [
    "df['candidate_id'].nunique()"
   ]
  },
  {
   "cell_type": "code",
   "execution_count": 13,
   "metadata": {},
   "outputs": [
    {
     "data": {
      "text/plain": [
       "5077"
      ]
     },
     "execution_count": 13,
     "metadata": {},
     "output_type": "execute_result"
    }
   ],
   "source": [
    "df['candidate_id'].value_counts().max()"
   ]
  },
  {
   "cell_type": "code",
   "execution_count": 14,
   "metadata": {},
   "outputs": [
    {
     "data": {
      "text/plain": [
       "13"
      ]
     },
     "execution_count": 14,
     "metadata": {},
     "output_type": "execute_result"
    }
   ],
   "source": [
    "df['candidate_id'].value_counts()[df['candidate_id'].value_counts()==5077].count()"
   ]
  },
  {
   "cell_type": "markdown",
   "metadata": {},
   "source": [
    "Filter to office code `1` for president"
   ]
  },
  {
   "cell_type": "code",
   "execution_count": 15,
   "metadata": {},
   "outputs": [],
   "source": [
    "df = df[df['office_code'] == 1]"
   ]
  },
  {
   "cell_type": "markdown",
   "metadata": {},
   "source": [
    "Using the file `2016name.txt` to figure out these candidate codes: \n",
    "- -1130    Stein\n",
    "- -1128    Clinton\n",
    "- -1110    Trump\n",
    "- -1101    Johnson"
   ]
  },
  {
   "cell_type": "markdown",
   "metadata": {},
   "source": [
    "# Pivot results "
   ]
  },
  {
   "cell_type": "markdown",
   "metadata": {},
   "source": [
    "Have to replace NaNs in `precinct_label` with empty strings so that we can use it as an index in the pivot"
   ]
  },
  {
   "cell_type": "code",
   "execution_count": 16,
   "metadata": {},
   "outputs": [],
   "source": [
    "df['precinct_label'] = df['precinct_label'].replace(np.nan, '', regex = True)"
   ]
  },
  {
   "cell_type": "code",
   "execution_count": 17,
   "metadata": {},
   "outputs": [],
   "source": [
    "df_pivot = df.pivot_table(index = ['county_code','city_town_code','ward_number','precinct_number','precinct_label'],\n",
    "                         columns = ['candidate_id'],\n",
    "                        values = ['precinct_votes'],\n",
    "                         aggfunc = 'sum')"
   ]
  },
  {
   "cell_type": "code",
   "execution_count": 18,
   "metadata": {},
   "outputs": [
    {
     "data": {
      "text/plain": [
       "2268839"
      ]
     },
     "execution_count": 18,
     "metadata": {},
     "output_type": "execute_result"
    }
   ],
   "source": [
    "df_pivot[('precinct_votes',-1128)].sum()"
   ]
  },
  {
   "cell_type": "code",
   "execution_count": 19,
   "metadata": {},
   "outputs": [
    {
     "data": {
      "text/plain": [
       "(5077, 13)"
      ]
     },
     "execution_count": 19,
     "metadata": {},
     "output_type": "execute_result"
    }
   ],
   "source": [
    "df_pivot.shape"
   ]
  },
  {
   "cell_type": "code",
   "execution_count": 20,
   "metadata": {},
   "outputs": [],
   "source": [
    "df_pivot.reset_index(inplace = True)"
   ]
  },
  {
   "cell_type": "code",
   "execution_count": 21,
   "metadata": {},
   "outputs": [
    {
     "data": {
      "text/plain": [
       "MultiIndex([(    'county_code',    ''),\n",
       "            ( 'city_town_code',    ''),\n",
       "            (    'ward_number',    ''),\n",
       "            ('precinct_number',    ''),\n",
       "            ( 'precinct_label',    ''),\n",
       "            ( 'precinct_votes', -1142),\n",
       "            ( 'precinct_votes', -1141),\n",
       "            ( 'precinct_votes', -1140),\n",
       "            ( 'precinct_votes', -1139),\n",
       "            ( 'precinct_votes', -1137),\n",
       "            ( 'precinct_votes', -1136),\n",
       "            ( 'precinct_votes', -1135),\n",
       "            ( 'precinct_votes', -1130),\n",
       "            ( 'precinct_votes', -1128),\n",
       "            ( 'precinct_votes', -1112),\n",
       "            ( 'precinct_votes', -1110),\n",
       "            ( 'precinct_votes', -1108),\n",
       "            ( 'precinct_votes', -1101)],\n",
       "           names=[None, 'candidate_id'])"
      ]
     },
     "execution_count": 21,
     "metadata": {},
     "output_type": "execute_result"
    }
   ],
   "source": [
    "df_pivot.columns"
   ]
  },
  {
   "cell_type": "code",
   "execution_count": 22,
   "metadata": {},
   "outputs": [],
   "source": [
    "vote_cols_other = [( 'precinct_votes', -1142),\n",
    "            ( 'precinct_votes', -1141),\n",
    "            ( 'precinct_votes', -1140),\n",
    "            ( 'precinct_votes', -1139),\n",
    "            ( 'precinct_votes', -1137),\n",
    "            ( 'precinct_votes', -1136),\n",
    "            ( 'precinct_votes', -1135),\n",
    "            ( 'precinct_votes', -1112),\n",
    "            ( 'precinct_votes', -1108)]\n",
    "df_pivot['G16PREOth'] = 0\n",
    "for col in vote_cols_other:\n",
    "    df_pivot['G16PREOth'] = df_pivot['G16PREOth'] + df_pivot[col]\n",
    "    df_pivot.drop(col[1], axis = 1, level = 1, inplace = True)"
   ]
  },
  {
   "cell_type": "code",
   "execution_count": 23,
   "metadata": {},
   "outputs": [],
   "source": [
    "df_pivot.reset_index(inplace = True)"
   ]
  },
  {
   "cell_type": "code",
   "execution_count": 24,
   "metadata": {},
   "outputs": [],
   "source": [
    "df_pivot.columns = ['candidate_id','county_code','city_town_code','ward_number','precinct_number','precinct_label',\n",
    "                              'G16PREGSte','G16PREDCli','G16PRERTru','G16PRELJoh','G16PREOth']"
   ]
  },
  {
   "cell_type": "code",
   "execution_count": 25,
   "metadata": {},
   "outputs": [
    {
     "data": {
      "text/plain": [
       "G16PREDCli    2268839\n",
       "G16PRERTru    2279543\n",
       "G16PREGSte      51463\n",
       "G16PRELJoh     172136\n",
       "G16PREOth       27303\n",
       "dtype: int64"
      ]
     },
     "execution_count": 25,
     "metadata": {},
     "output_type": "execute_result"
    }
   ],
   "source": [
    "df_pivot[['G16PREDCli','G16PRERTru','G16PREGSte','G16PRELJoh','G16PREOth']].sum()"
   ]
  },
  {
   "cell_type": "code",
   "execution_count": 26,
   "metadata": {},
   "outputs": [
    {
     "data": {
      "text/plain": [
       "G16PREDCli    2268839\n",
       "G16PRERTru    2279543\n",
       "G16PREGSte      51463\n",
       "G16PRELJoh     172136\n",
       "G16PREOth       27303\n",
       "dtype: int64"
      ]
     },
     "execution_count": 26,
     "metadata": {},
     "output_type": "execute_result"
    }
   ],
   "source": [
    "gdfv[['G16PREDCli','G16PRERTru','G16PREGSte','G16PRELJoh','G16PREOth']].sum()"
   ]
  },
  {
   "cell_type": "markdown",
   "metadata": {},
   "source": [
    "## Cleaning SOS Results"
   ]
  },
  {
   "cell_type": "markdown",
   "metadata": {},
   "source": [
    "#### Add County Name"
   ]
  },
  {
   "cell_type": "markdown",
   "metadata": {},
   "source": [
    "The SOS results have county codes that are not FIPS codes. Pulled the `county.txt` file to a Sheet and lined it up with county fips codes from Wikipedia. Loading in this file created in Sheets. "
   ]
  },
  {
   "cell_type": "code",
   "execution_count": 27,
   "metadata": {},
   "outputs": [],
   "source": [
    "county_names = pd.read_csv('./raw-from-source/county_codes.csv', dtype = {'county_fips':'object'})"
   ]
  },
  {
   "cell_type": "code",
   "execution_count": 28,
   "metadata": {},
   "outputs": [
    {
     "data": {
      "text/html": [
       "<div>\n",
       "<style scoped>\n",
       "    .dataframe tbody tr th:only-of-type {\n",
       "        vertical-align: middle;\n",
       "    }\n",
       "\n",
       "    .dataframe tbody tr th {\n",
       "        vertical-align: top;\n",
       "    }\n",
       "\n",
       "    .dataframe thead th {\n",
       "        text-align: right;\n",
       "    }\n",
       "</style>\n",
       "<table border=\"1\" class=\"dataframe\">\n",
       "  <thead>\n",
       "    <tr style=\"text-align: right;\">\n",
       "      <th></th>\n",
       "      <th>county_code</th>\n",
       "      <th>county_name</th>\n",
       "      <th>county_fips</th>\n",
       "    </tr>\n",
       "  </thead>\n",
       "  <tbody>\n",
       "    <tr>\n",
       "      <th>0</th>\n",
       "      <td>1</td>\n",
       "      <td>ALCONA</td>\n",
       "      <td>001</td>\n",
       "    </tr>\n",
       "    <tr>\n",
       "      <th>1</th>\n",
       "      <td>2</td>\n",
       "      <td>ALGER</td>\n",
       "      <td>003</td>\n",
       "    </tr>\n",
       "    <tr>\n",
       "      <th>2</th>\n",
       "      <td>3</td>\n",
       "      <td>ALLEGAN</td>\n",
       "      <td>005</td>\n",
       "    </tr>\n",
       "    <tr>\n",
       "      <th>3</th>\n",
       "      <td>4</td>\n",
       "      <td>ALPENA</td>\n",
       "      <td>007</td>\n",
       "    </tr>\n",
       "    <tr>\n",
       "      <th>4</th>\n",
       "      <td>5</td>\n",
       "      <td>ANTRIM</td>\n",
       "      <td>009</td>\n",
       "    </tr>\n",
       "    <tr>\n",
       "      <th>...</th>\n",
       "      <td>...</td>\n",
       "      <td>...</td>\n",
       "      <td>...</td>\n",
       "    </tr>\n",
       "    <tr>\n",
       "      <th>78</th>\n",
       "      <td>79</td>\n",
       "      <td>TUSCOLA</td>\n",
       "      <td>157</td>\n",
       "    </tr>\n",
       "    <tr>\n",
       "      <th>79</th>\n",
       "      <td>80</td>\n",
       "      <td>VAN BUREN</td>\n",
       "      <td>159</td>\n",
       "    </tr>\n",
       "    <tr>\n",
       "      <th>80</th>\n",
       "      <td>81</td>\n",
       "      <td>WASHTENAW</td>\n",
       "      <td>161</td>\n",
       "    </tr>\n",
       "    <tr>\n",
       "      <th>81</th>\n",
       "      <td>82</td>\n",
       "      <td>WAYNE</td>\n",
       "      <td>163</td>\n",
       "    </tr>\n",
       "    <tr>\n",
       "      <th>82</th>\n",
       "      <td>83</td>\n",
       "      <td>WEXFORD</td>\n",
       "      <td>165</td>\n",
       "    </tr>\n",
       "  </tbody>\n",
       "</table>\n",
       "<p>83 rows × 3 columns</p>\n",
       "</div>"
      ],
      "text/plain": [
       "    county_code county_name county_fips\n",
       "0             1      ALCONA         001\n",
       "1             2       ALGER         003\n",
       "2             3     ALLEGAN         005\n",
       "3             4      ALPENA         007\n",
       "4             5      ANTRIM         009\n",
       "..          ...         ...         ...\n",
       "78           79     TUSCOLA         157\n",
       "79           80   VAN BUREN         159\n",
       "80           81   WASHTENAW         161\n",
       "81           82       WAYNE         163\n",
       "82           83     WEXFORD         165\n",
       "\n",
       "[83 rows x 3 columns]"
      ]
     },
     "execution_count": 28,
     "metadata": {},
     "output_type": "execute_result"
    }
   ],
   "source": [
    "county_names"
   ]
  },
  {
   "cell_type": "code",
   "execution_count": 29,
   "metadata": {},
   "outputs": [
    {
     "data": {
      "text/plain": [
       "county_code     int64\n",
       "county_name    object\n",
       "county_fips    object\n",
       "dtype: object"
      ]
     },
     "execution_count": 29,
     "metadata": {},
     "output_type": "execute_result"
    }
   ],
   "source": [
    "county_names.dtypes"
   ]
  },
  {
   "cell_type": "code",
   "execution_count": 30,
   "metadata": {},
   "outputs": [],
   "source": [
    "df_pivot = df_pivot.merge(county_names, on = 'county_code')"
   ]
  },
  {
   "cell_type": "code",
   "execution_count": 31,
   "metadata": {},
   "outputs": [
    {
     "data": {
      "text/html": [
       "<div>\n",
       "<style scoped>\n",
       "    .dataframe tbody tr th:only-of-type {\n",
       "        vertical-align: middle;\n",
       "    }\n",
       "\n",
       "    .dataframe tbody tr th {\n",
       "        vertical-align: top;\n",
       "    }\n",
       "\n",
       "    .dataframe thead th {\n",
       "        text-align: right;\n",
       "    }\n",
       "</style>\n",
       "<table border=\"1\" class=\"dataframe\">\n",
       "  <thead>\n",
       "    <tr style=\"text-align: right;\">\n",
       "      <th></th>\n",
       "      <th>candidate_id</th>\n",
       "      <th>county_code</th>\n",
       "      <th>city_town_code</th>\n",
       "      <th>ward_number</th>\n",
       "      <th>precinct_number</th>\n",
       "      <th>precinct_label</th>\n",
       "      <th>G16PREGSte</th>\n",
       "      <th>G16PREDCli</th>\n",
       "      <th>G16PRERTru</th>\n",
       "      <th>G16PRELJoh</th>\n",
       "      <th>G16PREOth</th>\n",
       "      <th>county_name</th>\n",
       "      <th>county_fips</th>\n",
       "    </tr>\n",
       "  </thead>\n",
       "  <tbody>\n",
       "    <tr>\n",
       "      <th>0</th>\n",
       "      <td>0</td>\n",
       "      <td>1</td>\n",
       "      <td>2</td>\n",
       "      <td>0</td>\n",
       "      <td>1</td>\n",
       "      <td></td>\n",
       "      <td>2</td>\n",
       "      <td>199</td>\n",
       "      <td>500</td>\n",
       "      <td>13</td>\n",
       "      <td>4</td>\n",
       "      <td>ALCONA</td>\n",
       "      <td>001</td>\n",
       "    </tr>\n",
       "    <tr>\n",
       "      <th>1</th>\n",
       "      <td>1</td>\n",
       "      <td>1</td>\n",
       "      <td>4</td>\n",
       "      <td>0</td>\n",
       "      <td>1</td>\n",
       "      <td></td>\n",
       "      <td>4</td>\n",
       "      <td>178</td>\n",
       "      <td>441</td>\n",
       "      <td>14</td>\n",
       "      <td>5</td>\n",
       "      <td>ALCONA</td>\n",
       "      <td>001</td>\n",
       "    </tr>\n",
       "    <tr>\n",
       "      <th>2</th>\n",
       "      <td>2</td>\n",
       "      <td>1</td>\n",
       "      <td>6</td>\n",
       "      <td>0</td>\n",
       "      <td>1</td>\n",
       "      <td></td>\n",
       "      <td>13</td>\n",
       "      <td>214</td>\n",
       "      <td>401</td>\n",
       "      <td>8</td>\n",
       "      <td>3</td>\n",
       "      <td>ALCONA</td>\n",
       "      <td>001</td>\n",
       "    </tr>\n",
       "    <tr>\n",
       "      <th>3</th>\n",
       "      <td>3</td>\n",
       "      <td>1</td>\n",
       "      <td>8</td>\n",
       "      <td>0</td>\n",
       "      <td>1</td>\n",
       "      <td></td>\n",
       "      <td>4</td>\n",
       "      <td>256</td>\n",
       "      <td>501</td>\n",
       "      <td>22</td>\n",
       "      <td>2</td>\n",
       "      <td>ALCONA</td>\n",
       "      <td>001</td>\n",
       "    </tr>\n",
       "    <tr>\n",
       "      <th>4</th>\n",
       "      <td>4</td>\n",
       "      <td>1</td>\n",
       "      <td>10</td>\n",
       "      <td>0</td>\n",
       "      <td>1</td>\n",
       "      <td></td>\n",
       "      <td>6</td>\n",
       "      <td>80</td>\n",
       "      <td>249</td>\n",
       "      <td>16</td>\n",
       "      <td>1</td>\n",
       "      <td>ALCONA</td>\n",
       "      <td>001</td>\n",
       "    </tr>\n",
       "    <tr>\n",
       "      <th>...</th>\n",
       "      <td>...</td>\n",
       "      <td>...</td>\n",
       "      <td>...</td>\n",
       "      <td>...</td>\n",
       "      <td>...</td>\n",
       "      <td>...</td>\n",
       "      <td>...</td>\n",
       "      <td>...</td>\n",
       "      <td>...</td>\n",
       "      <td>...</td>\n",
       "      <td>...</td>\n",
       "      <td>...</td>\n",
       "      <td>...</td>\n",
       "    </tr>\n",
       "    <tr>\n",
       "      <th>5072</th>\n",
       "      <td>5072</td>\n",
       "      <td>83</td>\n",
       "      <td>52</td>\n",
       "      <td>0</td>\n",
       "      <td>1</td>\n",
       "      <td></td>\n",
       "      <td>25</td>\n",
       "      <td>456</td>\n",
       "      <td>792</td>\n",
       "      <td>53</td>\n",
       "      <td>6</td>\n",
       "      <td>WEXFORD</td>\n",
       "      <td>165</td>\n",
       "    </tr>\n",
       "    <tr>\n",
       "      <th>5073</th>\n",
       "      <td>5073</td>\n",
       "      <td>83</td>\n",
       "      <td>52</td>\n",
       "      <td>0</td>\n",
       "      <td>2</td>\n",
       "      <td></td>\n",
       "      <td>28</td>\n",
       "      <td>440</td>\n",
       "      <td>800</td>\n",
       "      <td>60</td>\n",
       "      <td>13</td>\n",
       "      <td>WEXFORD</td>\n",
       "      <td>165</td>\n",
       "    </tr>\n",
       "    <tr>\n",
       "      <th>5074</th>\n",
       "      <td>5074</td>\n",
       "      <td>83</td>\n",
       "      <td>52</td>\n",
       "      <td>0</td>\n",
       "      <td>3</td>\n",
       "      <td></td>\n",
       "      <td>23</td>\n",
       "      <td>498</td>\n",
       "      <td>869</td>\n",
       "      <td>55</td>\n",
       "      <td>9</td>\n",
       "      <td>WEXFORD</td>\n",
       "      <td>165</td>\n",
       "    </tr>\n",
       "    <tr>\n",
       "      <th>5075</th>\n",
       "      <td>5075</td>\n",
       "      <td>83</td>\n",
       "      <td>54</td>\n",
       "      <td>0</td>\n",
       "      <td>1</td>\n",
       "      <td></td>\n",
       "      <td>5</td>\n",
       "      <td>132</td>\n",
       "      <td>304</td>\n",
       "      <td>27</td>\n",
       "      <td>3</td>\n",
       "      <td>WEXFORD</td>\n",
       "      <td>165</td>\n",
       "    </tr>\n",
       "    <tr>\n",
       "      <th>5076</th>\n",
       "      <td>5076</td>\n",
       "      <td>83</td>\n",
       "      <td>9999</td>\n",
       "      <td>0</td>\n",
       "      <td>9999</td>\n",
       "      <td></td>\n",
       "      <td>0</td>\n",
       "      <td>0</td>\n",
       "      <td>0</td>\n",
       "      <td>0</td>\n",
       "      <td>19</td>\n",
       "      <td>WEXFORD</td>\n",
       "      <td>165</td>\n",
       "    </tr>\n",
       "  </tbody>\n",
       "</table>\n",
       "<p>5077 rows × 13 columns</p>\n",
       "</div>"
      ],
      "text/plain": [
       "      candidate_id  county_code  city_town_code  ward_number  precinct_number  \\\n",
       "0                0            1               2            0                1   \n",
       "1                1            1               4            0                1   \n",
       "2                2            1               6            0                1   \n",
       "3                3            1               8            0                1   \n",
       "4                4            1              10            0                1   \n",
       "...            ...          ...             ...          ...              ...   \n",
       "5072          5072           83              52            0                1   \n",
       "5073          5073           83              52            0                2   \n",
       "5074          5074           83              52            0                3   \n",
       "5075          5075           83              54            0                1   \n",
       "5076          5076           83            9999            0             9999   \n",
       "\n",
       "     precinct_label  G16PREGSte  G16PREDCli  G16PRERTru  G16PRELJoh  \\\n",
       "0                             2         199         500          13   \n",
       "1                             4         178         441          14   \n",
       "2                            13         214         401           8   \n",
       "3                             4         256         501          22   \n",
       "4                             6          80         249          16   \n",
       "...             ...         ...         ...         ...         ...   \n",
       "5072                         25         456         792          53   \n",
       "5073                         28         440         800          60   \n",
       "5074                         23         498         869          55   \n",
       "5075                          5         132         304          27   \n",
       "5076                          0           0           0           0   \n",
       "\n",
       "      G16PREOth county_name county_fips  \n",
       "0             4      ALCONA         001  \n",
       "1             5      ALCONA         001  \n",
       "2             3      ALCONA         001  \n",
       "3             2      ALCONA         001  \n",
       "4             1      ALCONA         001  \n",
       "...         ...         ...         ...  \n",
       "5072          6     WEXFORD         165  \n",
       "5073         13     WEXFORD         165  \n",
       "5074          9     WEXFORD         165  \n",
       "5075          3     WEXFORD         165  \n",
       "5076         19     WEXFORD         165  \n",
       "\n",
       "[5077 rows x 13 columns]"
      ]
     },
     "execution_count": 31,
     "metadata": {},
     "output_type": "execute_result"
    }
   ],
   "source": [
    "df_pivot"
   ]
  },
  {
   "cell_type": "markdown",
   "metadata": {},
   "source": [
    "#### Add City/Township Name"
   ]
  },
  {
   "cell_type": "markdown",
   "metadata": {},
   "source": [
    "Loading in the `2016city.txt` file that has the corresponding names for the city codes in the election results file"
   ]
  },
  {
   "cell_type": "code",
   "execution_count": 32,
   "metadata": {},
   "outputs": [],
   "source": [
    "city_codes = pd.read_csv('./raw-from-source/2016GEN/2016city.txt',delimiter='\\t',header=None)"
   ]
  },
  {
   "cell_type": "code",
   "execution_count": 33,
   "metadata": {},
   "outputs": [],
   "source": [
    "city_codes.columns = ['election_year','election_type','county_code','city_town_code','city_town_name','null']"
   ]
  },
  {
   "cell_type": "code",
   "execution_count": 34,
   "metadata": {},
   "outputs": [],
   "source": [
    "city_codes.drop(['election_year','election_type','null'],axis=1,inplace=True)"
   ]
  },
  {
   "cell_type": "code",
   "execution_count": 35,
   "metadata": {},
   "outputs": [
    {
     "data": {
      "text/html": [
       "<div>\n",
       "<style scoped>\n",
       "    .dataframe tbody tr th:only-of-type {\n",
       "        vertical-align: middle;\n",
       "    }\n",
       "\n",
       "    .dataframe tbody tr th {\n",
       "        vertical-align: top;\n",
       "    }\n",
       "\n",
       "    .dataframe thead th {\n",
       "        text-align: right;\n",
       "    }\n",
       "</style>\n",
       "<table border=\"1\" class=\"dataframe\">\n",
       "  <thead>\n",
       "    <tr style=\"text-align: right;\">\n",
       "      <th></th>\n",
       "      <th>county_code</th>\n",
       "      <th>city_town_code</th>\n",
       "      <th>city_town_name</th>\n",
       "    </tr>\n",
       "  </thead>\n",
       "  <tbody>\n",
       "    <tr>\n",
       "      <th>0</th>\n",
       "      <td>1</td>\n",
       "      <td>2</td>\n",
       "      <td>ALCONA TOWNSHIP</td>\n",
       "    </tr>\n",
       "    <tr>\n",
       "      <th>1</th>\n",
       "      <td>1</td>\n",
       "      <td>4</td>\n",
       "      <td>CALEDONIA TOWNSHIP</td>\n",
       "    </tr>\n",
       "    <tr>\n",
       "      <th>2</th>\n",
       "      <td>1</td>\n",
       "      <td>6</td>\n",
       "      <td>CURTIS TOWNSHIP</td>\n",
       "    </tr>\n",
       "    <tr>\n",
       "      <th>3</th>\n",
       "      <td>1</td>\n",
       "      <td>8</td>\n",
       "      <td>GREENBUSH TOWNSHIP</td>\n",
       "    </tr>\n",
       "    <tr>\n",
       "      <th>4</th>\n",
       "      <td>1</td>\n",
       "      <td>10</td>\n",
       "      <td>GUSTIN TOWNSHIP</td>\n",
       "    </tr>\n",
       "  </tbody>\n",
       "</table>\n",
       "</div>"
      ],
      "text/plain": [
       "   county_code  city_town_code      city_town_name\n",
       "0            1               2     ALCONA TOWNSHIP\n",
       "1            1               4  CALEDONIA TOWNSHIP\n",
       "2            1               6     CURTIS TOWNSHIP\n",
       "3            1               8  GREENBUSH TOWNSHIP\n",
       "4            1              10     GUSTIN TOWNSHIP"
      ]
     },
     "execution_count": 35,
     "metadata": {},
     "output_type": "execute_result"
    }
   ],
   "source": [
    "city_codes.head()"
   ]
  },
  {
   "cell_type": "code",
   "execution_count": 36,
   "metadata": {},
   "outputs": [],
   "source": [
    "df_pivot = df_pivot.merge(city_codes, on = ['county_code','city_town_code'])"
   ]
  },
  {
   "cell_type": "code",
   "execution_count": 37,
   "metadata": {},
   "outputs": [
    {
     "data": {
      "text/html": [
       "<div>\n",
       "<style scoped>\n",
       "    .dataframe tbody tr th:only-of-type {\n",
       "        vertical-align: middle;\n",
       "    }\n",
       "\n",
       "    .dataframe tbody tr th {\n",
       "        vertical-align: top;\n",
       "    }\n",
       "\n",
       "    .dataframe thead th {\n",
       "        text-align: right;\n",
       "    }\n",
       "</style>\n",
       "<table border=\"1\" class=\"dataframe\">\n",
       "  <thead>\n",
       "    <tr style=\"text-align: right;\">\n",
       "      <th></th>\n",
       "      <th>candidate_id</th>\n",
       "      <th>county_code</th>\n",
       "      <th>city_town_code</th>\n",
       "      <th>ward_number</th>\n",
       "      <th>precinct_number</th>\n",
       "      <th>precinct_label</th>\n",
       "      <th>G16PREGSte</th>\n",
       "      <th>G16PREDCli</th>\n",
       "      <th>G16PRERTru</th>\n",
       "      <th>G16PRELJoh</th>\n",
       "      <th>G16PREOth</th>\n",
       "      <th>county_name</th>\n",
       "      <th>county_fips</th>\n",
       "      <th>city_town_name</th>\n",
       "    </tr>\n",
       "  </thead>\n",
       "  <tbody>\n",
       "    <tr>\n",
       "      <th>0</th>\n",
       "      <td>0</td>\n",
       "      <td>1</td>\n",
       "      <td>2</td>\n",
       "      <td>0</td>\n",
       "      <td>1</td>\n",
       "      <td></td>\n",
       "      <td>2</td>\n",
       "      <td>199</td>\n",
       "      <td>500</td>\n",
       "      <td>13</td>\n",
       "      <td>4</td>\n",
       "      <td>ALCONA</td>\n",
       "      <td>001</td>\n",
       "      <td>ALCONA TOWNSHIP</td>\n",
       "    </tr>\n",
       "    <tr>\n",
       "      <th>1</th>\n",
       "      <td>1</td>\n",
       "      <td>1</td>\n",
       "      <td>4</td>\n",
       "      <td>0</td>\n",
       "      <td>1</td>\n",
       "      <td></td>\n",
       "      <td>4</td>\n",
       "      <td>178</td>\n",
       "      <td>441</td>\n",
       "      <td>14</td>\n",
       "      <td>5</td>\n",
       "      <td>ALCONA</td>\n",
       "      <td>001</td>\n",
       "      <td>CALEDONIA TOWNSHIP</td>\n",
       "    </tr>\n",
       "    <tr>\n",
       "      <th>2</th>\n",
       "      <td>2</td>\n",
       "      <td>1</td>\n",
       "      <td>6</td>\n",
       "      <td>0</td>\n",
       "      <td>1</td>\n",
       "      <td></td>\n",
       "      <td>13</td>\n",
       "      <td>214</td>\n",
       "      <td>401</td>\n",
       "      <td>8</td>\n",
       "      <td>3</td>\n",
       "      <td>ALCONA</td>\n",
       "      <td>001</td>\n",
       "      <td>CURTIS TOWNSHIP</td>\n",
       "    </tr>\n",
       "    <tr>\n",
       "      <th>3</th>\n",
       "      <td>3</td>\n",
       "      <td>1</td>\n",
       "      <td>8</td>\n",
       "      <td>0</td>\n",
       "      <td>1</td>\n",
       "      <td></td>\n",
       "      <td>4</td>\n",
       "      <td>256</td>\n",
       "      <td>501</td>\n",
       "      <td>22</td>\n",
       "      <td>2</td>\n",
       "      <td>ALCONA</td>\n",
       "      <td>001</td>\n",
       "      <td>GREENBUSH TOWNSHIP</td>\n",
       "    </tr>\n",
       "    <tr>\n",
       "      <th>4</th>\n",
       "      <td>4</td>\n",
       "      <td>1</td>\n",
       "      <td>10</td>\n",
       "      <td>0</td>\n",
       "      <td>1</td>\n",
       "      <td></td>\n",
       "      <td>6</td>\n",
       "      <td>80</td>\n",
       "      <td>249</td>\n",
       "      <td>16</td>\n",
       "      <td>1</td>\n",
       "      <td>ALCONA</td>\n",
       "      <td>001</td>\n",
       "      <td>GUSTIN TOWNSHIP</td>\n",
       "    </tr>\n",
       "  </tbody>\n",
       "</table>\n",
       "</div>"
      ],
      "text/plain": [
       "   candidate_id  county_code  city_town_code  ward_number  precinct_number  \\\n",
       "0             0            1               2            0                1   \n",
       "1             1            1               4            0                1   \n",
       "2             2            1               6            0                1   \n",
       "3             3            1               8            0                1   \n",
       "4             4            1              10            0                1   \n",
       "\n",
       "  precinct_label  G16PREGSte  G16PREDCli  G16PRERTru  G16PRELJoh  G16PREOth  \\\n",
       "0                          2         199         500          13          4   \n",
       "1                          4         178         441          14          5   \n",
       "2                         13         214         401           8          3   \n",
       "3                          4         256         501          22          2   \n",
       "4                          6          80         249          16          1   \n",
       "\n",
       "  county_name county_fips      city_town_name  \n",
       "0      ALCONA         001     ALCONA TOWNSHIP  \n",
       "1      ALCONA         001  CALEDONIA TOWNSHIP  \n",
       "2      ALCONA         001     CURTIS TOWNSHIP  \n",
       "3      ALCONA         001  GREENBUSH TOWNSHIP  \n",
       "4      ALCONA         001     GUSTIN TOWNSHIP  "
      ]
     },
     "execution_count": 37,
     "metadata": {},
     "output_type": "execute_result"
    }
   ],
   "source": [
    "df_pivot.head()"
   ]
  },
  {
   "cell_type": "markdown",
   "metadata": {},
   "source": [
    "# Looking for unique identifier"
   ]
  },
  {
   "cell_type": "code",
   "execution_count": 38,
   "metadata": {},
   "outputs": [
    {
     "data": {
      "text/plain": [
       "(5077, 14)"
      ]
     },
     "execution_count": 38,
     "metadata": {},
     "output_type": "execute_result"
    }
   ],
   "source": [
    "df_pivot.shape"
   ]
  },
  {
   "cell_type": "code",
   "execution_count": 39,
   "metadata": {},
   "outputs": [
    {
     "data": {
      "text/plain": [
       "1305"
      ]
     },
     "execution_count": 39,
     "metadata": {},
     "output_type": "execute_result"
    }
   ],
   "source": [
    "df_pivot['city_town_name'].nunique()"
   ]
  },
  {
   "cell_type": "code",
   "execution_count": 40,
   "metadata": {},
   "outputs": [
    {
     "data": {
      "text/html": [
       "<div>\n",
       "<style scoped>\n",
       "    .dataframe tbody tr th:only-of-type {\n",
       "        vertical-align: middle;\n",
       "    }\n",
       "\n",
       "    .dataframe tbody tr th {\n",
       "        vertical-align: top;\n",
       "    }\n",
       "\n",
       "    .dataframe thead th {\n",
       "        text-align: right;\n",
       "    }\n",
       "</style>\n",
       "<table border=\"1\" class=\"dataframe\">\n",
       "  <thead>\n",
       "    <tr style=\"text-align: right;\">\n",
       "      <th></th>\n",
       "      <th>candidate_id</th>\n",
       "      <th>county_code</th>\n",
       "      <th>city_town_code</th>\n",
       "      <th>ward_number</th>\n",
       "      <th>precinct_number</th>\n",
       "      <th>precinct_label</th>\n",
       "      <th>G16PREGSte</th>\n",
       "      <th>G16PREDCli</th>\n",
       "      <th>G16PRERTru</th>\n",
       "      <th>G16PRELJoh</th>\n",
       "      <th>G16PREOth</th>\n",
       "      <th>county_name</th>\n",
       "      <th>county_fips</th>\n",
       "      <th>city_town_name</th>\n",
       "    </tr>\n",
       "  </thead>\n",
       "  <tbody>\n",
       "    <tr>\n",
       "      <th>4031</th>\n",
       "      <td>4031</td>\n",
       "      <td>82</td>\n",
       "      <td>54</td>\n",
       "      <td>0</td>\n",
       "      <td>1</td>\n",
       "      <td></td>\n",
       "      <td>17</td>\n",
       "      <td>581</td>\n",
       "      <td>93</td>\n",
       "      <td>11</td>\n",
       "      <td>1</td>\n",
       "      <td>WAYNE</td>\n",
       "      <td>163</td>\n",
       "      <td>DEARBORN CITY</td>\n",
       "    </tr>\n",
       "    <tr>\n",
       "      <th>4032</th>\n",
       "      <td>4032</td>\n",
       "      <td>82</td>\n",
       "      <td>54</td>\n",
       "      <td>0</td>\n",
       "      <td>2</td>\n",
       "      <td></td>\n",
       "      <td>23</td>\n",
       "      <td>560</td>\n",
       "      <td>95</td>\n",
       "      <td>9</td>\n",
       "      <td>3</td>\n",
       "      <td>WAYNE</td>\n",
       "      <td>163</td>\n",
       "      <td>DEARBORN CITY</td>\n",
       "    </tr>\n",
       "    <tr>\n",
       "      <th>4033</th>\n",
       "      <td>4033</td>\n",
       "      <td>82</td>\n",
       "      <td>54</td>\n",
       "      <td>0</td>\n",
       "      <td>3</td>\n",
       "      <td></td>\n",
       "      <td>52</td>\n",
       "      <td>756</td>\n",
       "      <td>171</td>\n",
       "      <td>13</td>\n",
       "      <td>5</td>\n",
       "      <td>WAYNE</td>\n",
       "      <td>163</td>\n",
       "      <td>DEARBORN CITY</td>\n",
       "    </tr>\n",
       "    <tr>\n",
       "      <th>4034</th>\n",
       "      <td>4034</td>\n",
       "      <td>82</td>\n",
       "      <td>54</td>\n",
       "      <td>0</td>\n",
       "      <td>4</td>\n",
       "      <td></td>\n",
       "      <td>17</td>\n",
       "      <td>406</td>\n",
       "      <td>70</td>\n",
       "      <td>8</td>\n",
       "      <td>1</td>\n",
       "      <td>WAYNE</td>\n",
       "      <td>163</td>\n",
       "      <td>DEARBORN CITY</td>\n",
       "    </tr>\n",
       "    <tr>\n",
       "      <th>4035</th>\n",
       "      <td>4035</td>\n",
       "      <td>82</td>\n",
       "      <td>54</td>\n",
       "      <td>0</td>\n",
       "      <td>5</td>\n",
       "      <td></td>\n",
       "      <td>15</td>\n",
       "      <td>453</td>\n",
       "      <td>68</td>\n",
       "      <td>9</td>\n",
       "      <td>0</td>\n",
       "      <td>WAYNE</td>\n",
       "      <td>163</td>\n",
       "      <td>DEARBORN CITY</td>\n",
       "    </tr>\n",
       "    <tr>\n",
       "      <th>...</th>\n",
       "      <td>...</td>\n",
       "      <td>...</td>\n",
       "      <td>...</td>\n",
       "      <td>...</td>\n",
       "      <td>...</td>\n",
       "      <td>...</td>\n",
       "      <td>...</td>\n",
       "      <td>...</td>\n",
       "      <td>...</td>\n",
       "      <td>...</td>\n",
       "      <td>...</td>\n",
       "      <td>...</td>\n",
       "      <td>...</td>\n",
       "      <td>...</td>\n",
       "    </tr>\n",
       "    <tr>\n",
       "      <th>4101</th>\n",
       "      <td>4101</td>\n",
       "      <td>82</td>\n",
       "      <td>56</td>\n",
       "      <td>0</td>\n",
       "      <td>23</td>\n",
       "      <td></td>\n",
       "      <td>19</td>\n",
       "      <td>447</td>\n",
       "      <td>544</td>\n",
       "      <td>38</td>\n",
       "      <td>7</td>\n",
       "      <td>WAYNE</td>\n",
       "      <td>163</td>\n",
       "      <td>DEARBORN HEIGHTS CITY</td>\n",
       "    </tr>\n",
       "    <tr>\n",
       "      <th>4102</th>\n",
       "      <td>4102</td>\n",
       "      <td>82</td>\n",
       "      <td>56</td>\n",
       "      <td>0</td>\n",
       "      <td>24</td>\n",
       "      <td></td>\n",
       "      <td>14</td>\n",
       "      <td>485</td>\n",
       "      <td>554</td>\n",
       "      <td>34</td>\n",
       "      <td>3</td>\n",
       "      <td>WAYNE</td>\n",
       "      <td>163</td>\n",
       "      <td>DEARBORN HEIGHTS CITY</td>\n",
       "    </tr>\n",
       "    <tr>\n",
       "      <th>4103</th>\n",
       "      <td>4103</td>\n",
       "      <td>82</td>\n",
       "      <td>56</td>\n",
       "      <td>0</td>\n",
       "      <td>25</td>\n",
       "      <td></td>\n",
       "      <td>21</td>\n",
       "      <td>556</td>\n",
       "      <td>552</td>\n",
       "      <td>56</td>\n",
       "      <td>17</td>\n",
       "      <td>WAYNE</td>\n",
       "      <td>163</td>\n",
       "      <td>DEARBORN HEIGHTS CITY</td>\n",
       "    </tr>\n",
       "    <tr>\n",
       "      <th>4104</th>\n",
       "      <td>4104</td>\n",
       "      <td>82</td>\n",
       "      <td>56</td>\n",
       "      <td>0</td>\n",
       "      <td>26</td>\n",
       "      <td></td>\n",
       "      <td>20</td>\n",
       "      <td>459</td>\n",
       "      <td>496</td>\n",
       "      <td>53</td>\n",
       "      <td>9</td>\n",
       "      <td>WAYNE</td>\n",
       "      <td>163</td>\n",
       "      <td>DEARBORN HEIGHTS CITY</td>\n",
       "    </tr>\n",
       "    <tr>\n",
       "      <th>4105</th>\n",
       "      <td>4105</td>\n",
       "      <td>82</td>\n",
       "      <td>56</td>\n",
       "      <td>0</td>\n",
       "      <td>27</td>\n",
       "      <td></td>\n",
       "      <td>21</td>\n",
       "      <td>480</td>\n",
       "      <td>462</td>\n",
       "      <td>31</td>\n",
       "      <td>2</td>\n",
       "      <td>WAYNE</td>\n",
       "      <td>163</td>\n",
       "      <td>DEARBORN HEIGHTS CITY</td>\n",
       "    </tr>\n",
       "  </tbody>\n",
       "</table>\n",
       "<p>75 rows × 14 columns</p>\n",
       "</div>"
      ],
      "text/plain": [
       "      candidate_id  county_code  city_town_code  ward_number  precinct_number  \\\n",
       "4031          4031           82              54            0                1   \n",
       "4032          4032           82              54            0                2   \n",
       "4033          4033           82              54            0                3   \n",
       "4034          4034           82              54            0                4   \n",
       "4035          4035           82              54            0                5   \n",
       "...            ...          ...             ...          ...              ...   \n",
       "4101          4101           82              56            0               23   \n",
       "4102          4102           82              56            0               24   \n",
       "4103          4103           82              56            0               25   \n",
       "4104          4104           82              56            0               26   \n",
       "4105          4105           82              56            0               27   \n",
       "\n",
       "     precinct_label  G16PREGSte  G16PREDCli  G16PRERTru  G16PRELJoh  \\\n",
       "4031                         17         581          93          11   \n",
       "4032                         23         560          95           9   \n",
       "4033                         52         756         171          13   \n",
       "4034                         17         406          70           8   \n",
       "4035                         15         453          68           9   \n",
       "...             ...         ...         ...         ...         ...   \n",
       "4101                         19         447         544          38   \n",
       "4102                         14         485         554          34   \n",
       "4103                         21         556         552          56   \n",
       "4104                         20         459         496          53   \n",
       "4105                         21         480         462          31   \n",
       "\n",
       "      G16PREOth county_name county_fips         city_town_name  \n",
       "4031          1       WAYNE         163          DEARBORN CITY  \n",
       "4032          3       WAYNE         163          DEARBORN CITY  \n",
       "4033          5       WAYNE         163          DEARBORN CITY  \n",
       "4034          1       WAYNE         163          DEARBORN CITY  \n",
       "4035          0       WAYNE         163          DEARBORN CITY  \n",
       "...         ...         ...         ...                    ...  \n",
       "4101          7       WAYNE         163  DEARBORN HEIGHTS CITY  \n",
       "4102          3       WAYNE         163  DEARBORN HEIGHTS CITY  \n",
       "4103         17       WAYNE         163  DEARBORN HEIGHTS CITY  \n",
       "4104          9       WAYNE         163  DEARBORN HEIGHTS CITY  \n",
       "4105          2       WAYNE         163  DEARBORN HEIGHTS CITY  \n",
       "\n",
       "[75 rows x 14 columns]"
      ]
     },
     "execution_count": 40,
     "metadata": {},
     "output_type": "execute_result"
    }
   ],
   "source": [
    "df_pivot[df_pivot['city_town_name'].str.contains('DEARBORN')]"
   ]
  },
  {
   "cell_type": "code",
   "execution_count": 42,
   "metadata": {},
   "outputs": [
    {
     "data": {
      "text/plain": [
       "5077"
      ]
     },
     "execution_count": 42,
     "metadata": {},
     "output_type": "execute_result"
    }
   ],
   "source": [
    "df_pivot['candidate_id'].nunique()"
   ]
  },
  {
   "cell_type": "code",
   "execution_count": 43,
   "metadata": {},
   "outputs": [
    {
     "data": {
      "text/plain": [
       "4769"
      ]
     },
     "execution_count": 43,
     "metadata": {},
     "output_type": "execute_result"
    }
   ],
   "source": [
    "shp['Id'].nunique()"
   ]
  },
  {
   "cell_type": "code",
   "execution_count": 44,
   "metadata": {},
   "outputs": [
    {
     "data": {
      "text/html": [
       "<div>\n",
       "<style scoped>\n",
       "    .dataframe tbody tr th:only-of-type {\n",
       "        vertical-align: middle;\n",
       "    }\n",
       "\n",
       "    .dataframe tbody tr th {\n",
       "        vertical-align: top;\n",
       "    }\n",
       "\n",
       "    .dataframe thead th {\n",
       "        text-align: right;\n",
       "    }\n",
       "</style>\n",
       "<table border=\"1\" class=\"dataframe\">\n",
       "  <thead>\n",
       "    <tr style=\"text-align: right;\">\n",
       "      <th></th>\n",
       "      <th>VTD2016</th>\n",
       "      <th>Label</th>\n",
       "      <th>G16PREDCli</th>\n",
       "      <th>G16PRERTru</th>\n",
       "      <th>G16PREGSte</th>\n",
       "      <th>G16PRELJoh</th>\n",
       "      <th>G16PREOth</th>\n",
       "      <th>geometry</th>\n",
       "    </tr>\n",
       "  </thead>\n",
       "  <tbody>\n",
       "    <tr>\n",
       "      <th>0</th>\n",
       "      <td>1632100000001</td>\n",
       "      <td>City of Dearborn</td>\n",
       "      <td>581</td>\n",
       "      <td>93</td>\n",
       "      <td>17</td>\n",
       "      <td>11</td>\n",
       "      <td>1</td>\n",
       "      <td>POLYGON ((-83.14843 42.34469, -83.14861 42.343...</td>\n",
       "    </tr>\n",
       "    <tr>\n",
       "      <th>1</th>\n",
       "      <td>1632100000002</td>\n",
       "      <td>City of Dearborn</td>\n",
       "      <td>560</td>\n",
       "      <td>95</td>\n",
       "      <td>23</td>\n",
       "      <td>9</td>\n",
       "      <td>3</td>\n",
       "      <td>POLYGON ((-83.16029 42.34644, -83.16027 42.344...</td>\n",
       "    </tr>\n",
       "    <tr>\n",
       "      <th>2</th>\n",
       "      <td>1632100000003</td>\n",
       "      <td>City of Dearborn</td>\n",
       "      <td>756</td>\n",
       "      <td>171</td>\n",
       "      <td>52</td>\n",
       "      <td>13</td>\n",
       "      <td>5</td>\n",
       "      <td>POLYGON ((-83.16699 42.34247, -83.16815 42.342...</td>\n",
       "    </tr>\n",
       "    <tr>\n",
       "      <th>3</th>\n",
       "      <td>1632100000004</td>\n",
       "      <td>City of Dearborn</td>\n",
       "      <td>406</td>\n",
       "      <td>70</td>\n",
       "      <td>17</td>\n",
       "      <td>8</td>\n",
       "      <td>1</td>\n",
       "      <td>POLYGON ((-83.17687 42.34399, -83.17806 42.343...</td>\n",
       "    </tr>\n",
       "    <tr>\n",
       "      <th>4</th>\n",
       "      <td>1632100000005</td>\n",
       "      <td>City of Dearborn</td>\n",
       "      <td>453</td>\n",
       "      <td>68</td>\n",
       "      <td>15</td>\n",
       "      <td>9</td>\n",
       "      <td>0</td>\n",
       "      <td>POLYGON ((-83.18665 42.34561, -83.18657 42.343...</td>\n",
       "    </tr>\n",
       "  </tbody>\n",
       "</table>\n",
       "</div>"
      ],
      "text/plain": [
       "         VTD2016             Label  G16PREDCli  G16PRERTru  G16PREGSte  \\\n",
       "0  1632100000001  City of Dearborn         581          93          17   \n",
       "1  1632100000002  City of Dearborn         560          95          23   \n",
       "2  1632100000003  City of Dearborn         756         171          52   \n",
       "3  1632100000004  City of Dearborn         406          70          17   \n",
       "4  1632100000005  City of Dearborn         453          68          15   \n",
       "\n",
       "   G16PRELJoh  G16PREOth                                           geometry  \n",
       "0          11          1  POLYGON ((-83.14843 42.34469, -83.14861 42.343...  \n",
       "1           9          3  POLYGON ((-83.16029 42.34644, -83.16027 42.344...  \n",
       "2          13          5  POLYGON ((-83.16699 42.34247, -83.16815 42.342...  \n",
       "3           8          1  POLYGON ((-83.17687 42.34399, -83.17806 42.343...  \n",
       "4           9          0  POLYGON ((-83.18665 42.34561, -83.18657 42.343...  "
      ]
     },
     "execution_count": 44,
     "metadata": {},
     "output_type": "execute_result"
    }
   ],
   "source": [
    "gdfv.head()"
   ]
  },
  {
   "cell_type": "code",
   "execution_count": 45,
   "metadata": {},
   "outputs": [
    {
     "data": {
      "text/plain": [
       "(4810, 8)"
      ]
     },
     "execution_count": 45,
     "metadata": {},
     "output_type": "execute_result"
    }
   ],
   "source": [
    "gdfv.shape"
   ]
  },
  {
   "cell_type": "markdown",
   "metadata": {},
   "source": [
    "So, the elections file has 157 more unique identifiers than VEST's final file... Likely caused by satistical adjustments + AVCBs"
   ]
  },
  {
   "cell_type": "code",
   "execution_count": 49,
   "metadata": {},
   "outputs": [
    {
     "data": {
      "text/plain": [
       "4810"
      ]
     },
     "execution_count": 49,
     "metadata": {},
     "output_type": "execute_result"
    }
   ],
   "source": [
    "gdfv.VTD2016.nunique()"
   ]
  },
  {
   "cell_type": "code",
   "execution_count": 46,
   "metadata": {},
   "outputs": [
    {
     "data": {
      "text/plain": [
       "4810"
      ]
     },
     "execution_count": 46,
     "metadata": {},
     "output_type": "execute_result"
    }
   ],
   "source": [
    "shp.VTD2016.nunique()"
   ]
  },
  {
   "cell_type": "code",
   "execution_count": 47,
   "metadata": {},
   "outputs": [
    {
     "name": "stdout",
     "output_type": "stream",
     "text": [
      "set()\n",
      "set()\n"
     ]
    }
   ],
   "source": [
    "print(set(gdfv.VTD2016) - set(shp.VTD2016))\n",
    "print(set(shp.VTD2016) - set(gdfv.VTD2016))"
   ]
  },
  {
   "cell_type": "markdown",
   "metadata": {},
   "source": [
    "See that `gdfv`, the final VEST file and `shp` the raw shapefile have unique identifiers that match up perfectly."
   ]
  },
  {
   "cell_type": "code",
   "execution_count": 48,
   "metadata": {},
   "outputs": [
    {
     "data": {
      "text/html": [
       "<div>\n",
       "<style scoped>\n",
       "    .dataframe tbody tr th:only-of-type {\n",
       "        vertical-align: middle;\n",
       "    }\n",
       "\n",
       "    .dataframe tbody tr th {\n",
       "        vertical-align: top;\n",
       "    }\n",
       "\n",
       "    .dataframe thead th {\n",
       "        text-align: right;\n",
       "    }\n",
       "</style>\n",
       "<table border=\"1\" class=\"dataframe\">\n",
       "  <thead>\n",
       "    <tr style=\"text-align: right;\">\n",
       "      <th></th>\n",
       "      <th>candidate_id</th>\n",
       "      <th>county_code</th>\n",
       "      <th>city_town_code</th>\n",
       "      <th>ward_number</th>\n",
       "      <th>precinct_number</th>\n",
       "      <th>precinct_label</th>\n",
       "      <th>G16PREGSte</th>\n",
       "      <th>G16PREDCli</th>\n",
       "      <th>G16PRERTru</th>\n",
       "      <th>G16PRELJoh</th>\n",
       "      <th>G16PREOth</th>\n",
       "      <th>county_name</th>\n",
       "      <th>county_fips</th>\n",
       "      <th>city_town_name</th>\n",
       "    </tr>\n",
       "  </thead>\n",
       "  <tbody>\n",
       "    <tr>\n",
       "      <th>0</th>\n",
       "      <td>0</td>\n",
       "      <td>1</td>\n",
       "      <td>2</td>\n",
       "      <td>0</td>\n",
       "      <td>1</td>\n",
       "      <td></td>\n",
       "      <td>2</td>\n",
       "      <td>199</td>\n",
       "      <td>500</td>\n",
       "      <td>13</td>\n",
       "      <td>4</td>\n",
       "      <td>ALCONA</td>\n",
       "      <td>001</td>\n",
       "      <td>ALCONA TOWNSHIP</td>\n",
       "    </tr>\n",
       "    <tr>\n",
       "      <th>1</th>\n",
       "      <td>1</td>\n",
       "      <td>1</td>\n",
       "      <td>4</td>\n",
       "      <td>0</td>\n",
       "      <td>1</td>\n",
       "      <td></td>\n",
       "      <td>4</td>\n",
       "      <td>178</td>\n",
       "      <td>441</td>\n",
       "      <td>14</td>\n",
       "      <td>5</td>\n",
       "      <td>ALCONA</td>\n",
       "      <td>001</td>\n",
       "      <td>CALEDONIA TOWNSHIP</td>\n",
       "    </tr>\n",
       "    <tr>\n",
       "      <th>2</th>\n",
       "      <td>2</td>\n",
       "      <td>1</td>\n",
       "      <td>6</td>\n",
       "      <td>0</td>\n",
       "      <td>1</td>\n",
       "      <td></td>\n",
       "      <td>13</td>\n",
       "      <td>214</td>\n",
       "      <td>401</td>\n",
       "      <td>8</td>\n",
       "      <td>3</td>\n",
       "      <td>ALCONA</td>\n",
       "      <td>001</td>\n",
       "      <td>CURTIS TOWNSHIP</td>\n",
       "    </tr>\n",
       "    <tr>\n",
       "      <th>3</th>\n",
       "      <td>3</td>\n",
       "      <td>1</td>\n",
       "      <td>8</td>\n",
       "      <td>0</td>\n",
       "      <td>1</td>\n",
       "      <td></td>\n",
       "      <td>4</td>\n",
       "      <td>256</td>\n",
       "      <td>501</td>\n",
       "      <td>22</td>\n",
       "      <td>2</td>\n",
       "      <td>ALCONA</td>\n",
       "      <td>001</td>\n",
       "      <td>GREENBUSH TOWNSHIP</td>\n",
       "    </tr>\n",
       "    <tr>\n",
       "      <th>4</th>\n",
       "      <td>4</td>\n",
       "      <td>1</td>\n",
       "      <td>10</td>\n",
       "      <td>0</td>\n",
       "      <td>1</td>\n",
       "      <td></td>\n",
       "      <td>6</td>\n",
       "      <td>80</td>\n",
       "      <td>249</td>\n",
       "      <td>16</td>\n",
       "      <td>1</td>\n",
       "      <td>ALCONA</td>\n",
       "      <td>001</td>\n",
       "      <td>GUSTIN TOWNSHIP</td>\n",
       "    </tr>\n",
       "  </tbody>\n",
       "</table>\n",
       "</div>"
      ],
      "text/plain": [
       "   candidate_id  county_code  city_town_code  ward_number  precinct_number  \\\n",
       "0             0            1               2            0                1   \n",
       "1             1            1               4            0                1   \n",
       "2             2            1               6            0                1   \n",
       "3             3            1               8            0                1   \n",
       "4             4            1              10            0                1   \n",
       "\n",
       "  precinct_label  G16PREGSte  G16PREDCli  G16PRERTru  G16PRELJoh  G16PREOth  \\\n",
       "0                          2         199         500          13          4   \n",
       "1                          4         178         441          14          5   \n",
       "2                         13         214         401           8          3   \n",
       "3                          4         256         501          22          2   \n",
       "4                          6          80         249          16          1   \n",
       "\n",
       "  county_name county_fips      city_town_name  \n",
       "0      ALCONA         001     ALCONA TOWNSHIP  \n",
       "1      ALCONA         001  CALEDONIA TOWNSHIP  \n",
       "2      ALCONA         001     CURTIS TOWNSHIP  \n",
       "3      ALCONA         001  GREENBUSH TOWNSHIP  \n",
       "4      ALCONA         001     GUSTIN TOWNSHIP  "
      ]
     },
     "execution_count": 48,
     "metadata": {},
     "output_type": "execute_result"
    }
   ],
   "source": [
    "df_pivot.head()"
   ]
  },
  {
   "cell_type": "markdown",
   "metadata": {},
   "source": [
    "Check `gdfv` `VTD2016` column to identify different components of the unique id"
   ]
  },
  {
   "cell_type": "code",
   "execution_count": 49,
   "metadata": {},
   "outputs": [
    {
     "data": {
      "text/plain": [
       "16322    490\n",
       "08134     94\n",
       "04929     92\n",
       "16321     75\n",
       "09984     63\n",
       "        ... \n",
       "12306      1\n",
       "02763      1\n",
       "11315      1\n",
       "08557      1\n",
       "08732      1\n",
       "Name: VTD2016, Length: 1248, dtype: int64"
      ]
     },
     "execution_count": 49,
     "metadata": {},
     "output_type": "execute_result"
    }
   ],
   "source": [
    "gdfv['VTD2016'].str.slice(stop = 5).value_counts() "
   ]
  },
  {
   "cell_type": "markdown",
   "metadata": {},
   "source": [
    "Check census all geocodes file and find that `City of Dearborn` has `county_fips` = 163, and `county subdiv`(MCDFIPS) = 21000"
   ]
  },
  {
   "cell_type": "code",
   "execution_count": 51,
   "metadata": {},
   "outputs": [
    {
     "data": {
      "text/html": [
       "<div>\n",
       "<style scoped>\n",
       "    .dataframe tbody tr th:only-of-type {\n",
       "        vertical-align: middle;\n",
       "    }\n",
       "\n",
       "    .dataframe tbody tr th {\n",
       "        vertical-align: top;\n",
       "    }\n",
       "\n",
       "    .dataframe thead th {\n",
       "        text-align: right;\n",
       "    }\n",
       "</style>\n",
       "<table border=\"1\" class=\"dataframe\">\n",
       "  <thead>\n",
       "    <tr style=\"text-align: right;\">\n",
       "      <th></th>\n",
       "      <th>OBJECTID</th>\n",
       "      <th>Id</th>\n",
       "      <th>VTD2016</th>\n",
       "      <th>CountyFips</th>\n",
       "      <th>Jurisdicti</th>\n",
       "      <th>ElectionYe</th>\n",
       "      <th>Label</th>\n",
       "      <th>ShapeSTAre</th>\n",
       "      <th>ShapeSTLen</th>\n",
       "      <th>geometry</th>\n",
       "    </tr>\n",
       "  </thead>\n",
       "  <tbody>\n",
       "    <tr>\n",
       "      <th>0</th>\n",
       "      <td>1</td>\n",
       "      <td>3888</td>\n",
       "      <td>1632100000001</td>\n",
       "      <td>163</td>\n",
       "      <td>21000</td>\n",
       "      <td>2016</td>\n",
       "      <td>City of Dearborn</td>\n",
       "      <td>2.489738e+06</td>\n",
       "      <td>6846.254657</td>\n",
       "      <td>POLYGON ((-83.14843 42.34468, -83.14860 42.343...</td>\n",
       "    </tr>\n",
       "    <tr>\n",
       "      <th>1</th>\n",
       "      <td>2</td>\n",
       "      <td>3889</td>\n",
       "      <td>1632100000002</td>\n",
       "      <td>163</td>\n",
       "      <td>21000</td>\n",
       "      <td>2016</td>\n",
       "      <td>City of Dearborn</td>\n",
       "      <td>1.058362e+06</td>\n",
       "      <td>4621.388992</td>\n",
       "      <td>POLYGON ((-83.16029 42.34643, -83.16026 42.344...</td>\n",
       "    </tr>\n",
       "    <tr>\n",
       "      <th>2</th>\n",
       "      <td>3</td>\n",
       "      <td>3890</td>\n",
       "      <td>1632100000003</td>\n",
       "      <td>163</td>\n",
       "      <td>21000</td>\n",
       "      <td>2016</td>\n",
       "      <td>City of Dearborn</td>\n",
       "      <td>1.488846e+06</td>\n",
       "      <td>4909.715171</td>\n",
       "      <td>POLYGON ((-83.16699 42.34246, -83.16815 42.342...</td>\n",
       "    </tr>\n",
       "    <tr>\n",
       "      <th>3</th>\n",
       "      <td>4</td>\n",
       "      <td>3891</td>\n",
       "      <td>1632100000004</td>\n",
       "      <td>163</td>\n",
       "      <td>21000</td>\n",
       "      <td>2016</td>\n",
       "      <td>City of Dearborn</td>\n",
       "      <td>1.187165e+06</td>\n",
       "      <td>4354.743602</td>\n",
       "      <td>POLYGON ((-83.17687 42.34398, -83.17806 42.343...</td>\n",
       "    </tr>\n",
       "    <tr>\n",
       "      <th>4</th>\n",
       "      <td>5</td>\n",
       "      <td>3892</td>\n",
       "      <td>1632100000005</td>\n",
       "      <td>163</td>\n",
       "      <td>21000</td>\n",
       "      <td>2016</td>\n",
       "      <td>City of Dearborn</td>\n",
       "      <td>1.133548e+06</td>\n",
       "      <td>5460.202887</td>\n",
       "      <td>POLYGON ((-83.18665 42.34560, -83.18656 42.343...</td>\n",
       "    </tr>\n",
       "  </tbody>\n",
       "</table>\n",
       "</div>"
      ],
      "text/plain": [
       "   OBJECTID    Id        VTD2016 CountyFips Jurisdicti  ElectionYe  \\\n",
       "0         1  3888  1632100000001        163      21000        2016   \n",
       "1         2  3889  1632100000002        163      21000        2016   \n",
       "2         3  3890  1632100000003        163      21000        2016   \n",
       "3         4  3891  1632100000004        163      21000        2016   \n",
       "4         5  3892  1632100000005        163      21000        2016   \n",
       "\n",
       "              Label    ShapeSTAre   ShapeSTLen  \\\n",
       "0  City of Dearborn  2.489738e+06  6846.254657   \n",
       "1  City of Dearborn  1.058362e+06  4621.388992   \n",
       "2  City of Dearborn  1.488846e+06  4909.715171   \n",
       "3  City of Dearborn  1.187165e+06  4354.743602   \n",
       "4  City of Dearborn  1.133548e+06  5460.202887   \n",
       "\n",
       "                                            geometry  \n",
       "0  POLYGON ((-83.14843 42.34468, -83.14860 42.343...  \n",
       "1  POLYGON ((-83.16029 42.34643, -83.16026 42.344...  \n",
       "2  POLYGON ((-83.16699 42.34246, -83.16815 42.342...  \n",
       "3  POLYGON ((-83.17687 42.34398, -83.17806 42.343...  \n",
       "4  POLYGON ((-83.18665 42.34560, -83.18656 42.343...  "
      ]
     },
     "execution_count": 51,
     "metadata": {},
     "output_type": "execute_result"
    }
   ],
   "source": [
    "shp.head()"
   ]
  },
  {
   "cell_type": "code",
   "execution_count": 52,
   "metadata": {},
   "outputs": [
    {
     "data": {
      "text/plain": [
       "1520"
      ]
     },
     "execution_count": 52,
     "metadata": {},
     "output_type": "execute_result"
    }
   ],
   "source": [
    "shp.Jurisdicti.nunique()"
   ]
  },
  {
   "cell_type": "code",
   "execution_count": 53,
   "metadata": {},
   "outputs": [
    {
     "data": {
      "text/plain": [
       "1306"
      ]
     },
     "execution_count": 53,
     "metadata": {},
     "output_type": "execute_result"
    }
   ],
   "source": [
    "shp.Label.nunique()"
   ]
  },
  {
   "cell_type": "code",
   "execution_count": 54,
   "metadata": {},
   "outputs": [
    {
     "data": {
      "text/plain": [
       "1529"
      ]
     },
     "execution_count": 54,
     "metadata": {},
     "output_type": "execute_result"
    }
   ],
   "source": [
    "(shp.CountyFips + shp.Label).nunique()"
   ]
  },
  {
   "cell_type": "markdown",
   "metadata": {},
   "source": [
    "So, from `shp`, `Jurisdicti` is the `county subdiv`/MCDFIPS code"
   ]
  },
  {
   "cell_type": "markdown",
   "metadata": {},
   "source": [
    "## Read in Census File to get the MCDFIPs code and more"
   ]
  },
  {
   "cell_type": "code",
   "execution_count": 57,
   "metadata": {},
   "outputs": [],
   "source": [
    "census = pd.read_csv('./raw-from-source/all-geocodes-v2018.csv')\n",
    "censusmi = census[census['State Code (FIPS)'] == 26]"
   ]
  },
  {
   "cell_type": "markdown",
   "metadata": {},
   "source": [
    "After `Place Code` != 0, repeat values, so want to filter that out. Then see that # unique values = 1520 for County Sub, indicating same as `Juris` in `shp`"
   ]
  },
  {
   "cell_type": "code",
   "execution_count": 58,
   "metadata": {},
   "outputs": [],
   "source": [
    "censusmi = censusmi[(censusmi['Place Code (FIPS)'] == 0) & (censusmi['County Subdivision Code (FIPS)'] != 0)]"
   ]
  },
  {
   "cell_type": "code",
   "execution_count": 59,
   "metadata": {},
   "outputs": [
    {
     "data": {
      "text/plain": [
       "27760    3\n",
       "46000    3\n",
       "38640    2\n",
       "11180    2\n",
       "80340    2\n",
       "        ..\n",
       "25935    1\n",
       "73040    1\n",
       "59420    1\n",
       "17340    1\n",
       "40960    1\n",
       "Name: County Subdivision Code (FIPS), Length: 1520, dtype: int64"
      ]
     },
     "execution_count": 59,
     "metadata": {},
     "output_type": "execute_result"
    }
   ],
   "source": [
    "censusmi['County Subdivision Code (FIPS)'].value_counts()"
   ]
  },
  {
   "cell_type": "code",
   "execution_count": 60,
   "metadata": {},
   "outputs": [
    {
     "data": {
      "text/plain": [
       "1334"
      ]
     },
     "execution_count": 60,
     "metadata": {},
     "output_type": "execute_result"
    }
   ],
   "source": [
    "censusmi['Area Name (including legal/statistical area description)'].nunique()"
   ]
  },
  {
   "cell_type": "code",
   "execution_count": 61,
   "metadata": {},
   "outputs": [
    {
     "data": {
      "text/plain": [
       "1305"
      ]
     },
     "execution_count": 61,
     "metadata": {},
     "output_type": "execute_result"
    }
   ],
   "source": [
    "df_pivot['city_town_name'].nunique()"
   ]
  },
  {
   "cell_type": "code",
   "execution_count": 62,
   "metadata": {},
   "outputs": [
    {
     "data": {
      "text/plain": [
       "110"
      ]
     },
     "execution_count": 62,
     "metadata": {},
     "output_type": "execute_result"
    }
   ],
   "source": [
    "len(set(df_pivot['city_town_name']) - set(censusmi['Area Name (including legal/statistical area description)'].str.upper()))"
   ]
  },
  {
   "cell_type": "code",
   "execution_count": 63,
   "metadata": {},
   "outputs": [
    {
     "data": {
      "text/plain": [
       "139"
      ]
     },
     "execution_count": 63,
     "metadata": {},
     "output_type": "execute_result"
    }
   ],
   "source": [
    "len(set(censusmi['Area Name (including legal/statistical area description)'].str.upper()) - set(df_pivot['city_town_name']))"
   ]
  },
  {
   "cell_type": "code",
   "execution_count": 64,
   "metadata": {
    "collapsed": true,
    "jupyter": {
     "outputs_hidden": true
    }
   },
   "outputs": [
    {
     "data": {
      "text/plain": [
       "{'ALLENDALE CHARTER TOWNSHIP',\n",
       " 'ANN ARBOR CHARTER TOWNSHIP',\n",
       " 'AU SABLE CHARTER TOWNSHIP',\n",
       " 'AUGUSTA CHARTER TOWNSHIP',\n",
       " 'BANGOR CHARTER TOWNSHIP',\n",
       " 'BATH CHARTER TOWNSHIP',\n",
       " 'BAY CITY CITY',\n",
       " 'BEDFORD CHARTER TOWNSHIP',\n",
       " 'BENTON CHARTER TOWNSHIP',\n",
       " 'BERLIN CHARTER TOWNSHIP',\n",
       " 'BIG RAPIDS CHARTER TOWNSHIP',\n",
       " 'BLACKMAN CHARTER TOWNSHIP',\n",
       " 'BLOOMFIELD CHARTER TOWNSHIP',\n",
       " 'BOYNE CITY CITY',\n",
       " 'BRANDON CHARTER TOWNSHIP',\n",
       " 'BREITUNG CHARTER TOWNSHIP',\n",
       " 'BRIDGEPORT CHARTER TOWNSHIP',\n",
       " 'BROWN CITY CITY',\n",
       " 'BROWNSTOWN CHARTER TOWNSHIP',\n",
       " 'BUENA VISTA CHARTER TOWNSHIP',\n",
       " 'CALEDONIA CHARTER TOWNSHIP',\n",
       " 'CALUMET CHARTER TOWNSHIP',\n",
       " 'CANTON CHARTER TOWNSHIP',\n",
       " 'CARSON CITY CITY',\n",
       " 'CASCADE CHARTER TOWNSHIP',\n",
       " 'CHOCOLAY CHARTER TOWNSHIP',\n",
       " 'CLAYTON CHARTER TOWNSHIP',\n",
       " 'CLINTON CHARTER TOWNSHIP',\n",
       " 'COLDSPRINGS TOWNSHIP',\n",
       " 'COLOMA CHARTER TOWNSHIP',\n",
       " 'COMMERCE CHARTER TOWNSHIP',\n",
       " 'COMSTOCK CHARTER TOWNSHIP',\n",
       " 'COOPER CHARTER TOWNSHIP',\n",
       " 'DELHI CHARTER TOWNSHIP',\n",
       " 'DELTA CHARTER TOWNSHIP',\n",
       " 'DEWITT CHARTER TOWNSHIP',\n",
       " 'DEWITT CITY',\n",
       " 'ELMWOOD CHARTER TOWNSHIP',\n",
       " 'EMMETT CHARTER TOWNSHIP',\n",
       " 'FENTON CHARTER TOWNSHIP',\n",
       " 'FILER CHARTER TOWNSHIP',\n",
       " 'FLINT CHARTER TOWNSHIP',\n",
       " 'FLUSHING CHARTER TOWNSHIP',\n",
       " 'FORT GRATIOT CHARTER TOWNSHIP',\n",
       " 'FRUITPORT CHARTER TOWNSHIP',\n",
       " 'GAINES CHARTER TOWNSHIP',\n",
       " 'GARDEN CITY CITY',\n",
       " 'GARFIELD CHARTER TOWNSHIP',\n",
       " 'GENESEE CHARTER TOWNSHIP',\n",
       " 'GEORGETOWN CHARTER TOWNSHIP',\n",
       " 'GRAND BLANC CHARTER TOWNSHIP',\n",
       " 'GRAND HAVEN CHARTER TOWNSHIP',\n",
       " 'GRAND RAPIDS CHARTER TOWNSHIP',\n",
       " 'GRASS LAKE CHARTER TOWNSHIP',\n",
       " 'GRAYLING CHARTER TOWNSHIP',\n",
       " 'GREEN CHARTER TOWNSHIP',\n",
       " 'GUN PLAIN TOWNSHIP',\n",
       " 'HAMPTON CHARTER TOWNSHIP',\n",
       " 'HARING CHARTER TOWNSHIP',\n",
       " 'HARRISON CHARTER TOWNSHIP',\n",
       " 'HASTINGS CHARTER TOWNSHIP',\n",
       " 'HIGHLAND CHARTER TOWNSHIP',\n",
       " 'HOLLAND CHARTER TOWNSHIP',\n",
       " 'HURON CHARTER TOWNSHIP',\n",
       " 'IMLAY CITY CITY',\n",
       " 'INDEPENDENCE CHARTER TOWNSHIP',\n",
       " 'IRONWOOD CHARTER TOWNSHIP',\n",
       " 'JAMESTOWN CHARTER TOWNSHIP',\n",
       " 'KALAMAZOO CHARTER TOWNSHIP',\n",
       " 'KINROSS CHARTER TOWNSHIP',\n",
       " \"L'ANSE TOWNSHIP\",\n",
       " 'LAGRANGE TOWNSHIP',\n",
       " 'LAKE CHARTER TOWNSHIP',\n",
       " 'LAKE CITY CITY',\n",
       " 'LANSING CHARTER TOWNSHIP',\n",
       " 'LARKIN CHARTER TOWNSHIP',\n",
       " 'LINCOLN CHARTER TOWNSHIP',\n",
       " 'LOWELL CHARTER TOWNSHIP',\n",
       " 'LYON CHARTER TOWNSHIP',\n",
       " 'MADISON CHARTER TOWNSHIP',\n",
       " 'MARINE CITY CITY',\n",
       " 'MARQUETTE CHARTER TOWNSHIP',\n",
       " 'MERIDIAN CHARTER TOWNSHIP',\n",
       " 'MIDLAND CHARTER TOWNSHIP',\n",
       " 'MILFORD CHARTER TOWNSHIP',\n",
       " 'MONITOR CHARTER TOWNSHIP',\n",
       " 'MONROE CHARTER TOWNSHIP',\n",
       " 'MONTROSE CHARTER TOWNSHIP',\n",
       " 'MUSKEGON CHARTER TOWNSHIP',\n",
       " 'OAKLAND CHARTER TOWNSHIP',\n",
       " 'ONEIDA CHARTER TOWNSHIP',\n",
       " 'ORION CHARTER TOWNSHIP',\n",
       " 'ORONOKO CHARTER TOWNSHIP',\n",
       " 'OSCODA CHARTER TOWNSHIP',\n",
       " 'OSHTEMO CHARTER TOWNSHIP',\n",
       " 'OWOSSO CHARTER TOWNSHIP',\n",
       " 'OXFORD CHARTER TOWNSHIP',\n",
       " 'PENNFIELD CHARTER TOWNSHIP',\n",
       " 'PERE MARQUETTE CHARTER TOWNSHIP',\n",
       " 'PITTSFIELD CHARTER TOWNSHIP',\n",
       " 'PLAINFIELD CHARTER TOWNSHIP',\n",
       " 'PLEASANTVIEW TOWNSHIP',\n",
       " 'PLYMOUTH CHARTER TOWNSHIP',\n",
       " 'POLKTON CHARTER TOWNSHIP',\n",
       " 'PORT HURON CHARTER TOWNSHIP',\n",
       " 'PORTAGE CHARTER TOWNSHIP',\n",
       " 'PORTSMOUTH CHARTER TOWNSHIP',\n",
       " 'REDFORD CHARTER TOWNSHIP',\n",
       " 'REED CITY CITY',\n",
       " 'ROGERS CITY CITY',\n",
       " 'ROSE CITY CITY',\n",
       " 'ROYAL OAK CHARTER TOWNSHIP',\n",
       " 'RUTLAND CHARTER TOWNSHIP',\n",
       " 'SAGINAW CHARTER TOWNSHIP',\n",
       " 'SHELBY CHARTER TOWNSHIP',\n",
       " 'SHERIDAN CHARTER TOWNSHIP',\n",
       " 'SOUTH HAVEN CHARTER TOWNSHIP',\n",
       " 'SPRINGFIELD CHARTER TOWNSHIP',\n",
       " 'ST. JAMES TOWNSHIP',\n",
       " 'ST. JOSEPH CHARTER TOWNSHIP',\n",
       " 'SUPERIOR CHARTER TOWNSHIP',\n",
       " 'TALLMADGE CHARTER TOWNSHIP',\n",
       " 'TAWAS CITY CITY',\n",
       " 'TEXAS CHARTER TOWNSHIP',\n",
       " 'TRAVERSE CITY CITY',\n",
       " 'UNION CHARTER TOWNSHIP',\n",
       " 'VAN BUREN CHARTER TOWNSHIP',\n",
       " 'VIENNA CHARTER TOWNSHIP',\n",
       " 'VILLAGE OF CLARKSTON CITY',\n",
       " 'VILLAGE OF GROSSE POINTE SHORES CITY',\n",
       " 'WATERFORD CHARTER TOWNSHIP',\n",
       " 'WATERTOWN CHARTER TOWNSHIP',\n",
       " 'WEST BLOOMFIELD CHARTER TOWNSHIP',\n",
       " 'WHITE LAKE CHARTER TOWNSHIP',\n",
       " 'WILLIAMS CHARTER TOWNSHIP',\n",
       " 'WINDSOR CHARTER TOWNSHIP',\n",
       " 'YORK CHARTER TOWNSHIP',\n",
       " 'YPSILANTI CHARTER TOWNSHIP',\n",
       " 'ZEELAND CHARTER TOWNSHIP'}"
      ]
     },
     "execution_count": 64,
     "metadata": {},
     "output_type": "execute_result"
    }
   ],
   "source": [
    "set(censusmi['Area Name (including legal/statistical area description)'].str.upper()) - set(df_pivot['city_town_name'])"
   ]
  },
  {
   "cell_type": "code",
   "execution_count": 76,
   "metadata": {
    "collapsed": true,
    "jupyter": {
     "outputs_hidden": true
    }
   },
   "outputs": [
    {
     "data": {
      "text/plain": [
       "{'ALLENDALE TOWNSHIP',\n",
       " 'ANN ARBOR TOWNSHIP',\n",
       " 'AUGUSTA TOWNSHIP',\n",
       " 'BATH TOWNSHIP',\n",
       " 'BAY CITY',\n",
       " 'BIG RAPIDS TOWNSHIP',\n",
       " 'BLACKMAN TOWNSHIP',\n",
       " 'BOYNE CITY',\n",
       " 'BRANDON TOWNSHIP',\n",
       " 'BREITUNG TOWNSHIP',\n",
       " 'BRIDGEPORT TOWNSHIP',\n",
       " 'BROWN CITY',\n",
       " 'BROWNSTOWN TOWNSHIP',\n",
       " 'BUENA VISTA TOWNSHIP',\n",
       " 'CALUMET TOWNSHIP',\n",
       " 'CANTON TOWNSHIP',\n",
       " 'CARSON CITY',\n",
       " 'CASCADE TOWNSHIP',\n",
       " 'CHOCOLAY TOWNSHIP',\n",
       " 'CLARKSTON CITY',\n",
       " 'COLD SPRINGS TOWNSHIP',\n",
       " 'COLOMA TOWNSHIP',\n",
       " 'COMMERCE TOWNSHIP',\n",
       " 'COMSTOCK TOWNSHIP',\n",
       " 'COOPER TOWNSHIP',\n",
       " 'DE WITT CITY',\n",
       " 'DE WITT TOWNSHIP',\n",
       " 'DELHI TOWNSHIP',\n",
       " 'DELTA TOWNSHIP',\n",
       " 'FENTON TOWNSHIP',\n",
       " 'FILER TOWNSHIP',\n",
       " 'FLINT TOWNSHIP',\n",
       " 'FLUSHING TOWNSHIP',\n",
       " 'FORT GRATIOT TOWNSHIP',\n",
       " 'FRUITPORT TOWNSHIP',\n",
       " 'GARDEN CITY',\n",
       " 'GENESEE TOWNSHIP',\n",
       " 'GEORGETOWN TOWNSHIP',\n",
       " 'GRAND BLANC TOWNSHIP',\n",
       " 'GRAND HAVEN TOWNSHIP',\n",
       " 'GRAND RAPIDS TOWNSHIP',\n",
       " 'GRASS LAKE TOWNSHIP',\n",
       " 'GRAYLING TOWNSHIP',\n",
       " 'GROSS POINTE SHORES CITY',\n",
       " 'GROSSE POINTE SHORES CITY',\n",
       " 'GUNPLAIN TOWNSHIP',\n",
       " 'HAMPTON TOWNSHIP',\n",
       " 'HARING TOWNSHIP',\n",
       " 'HARRISON TOWNSHIP',\n",
       " 'HASTINGS TOWNSHIP',\n",
       " 'IMLAY CITY',\n",
       " 'INDEPENDENCE TOWNSHIP',\n",
       " 'IRONWOOD TOWNSHIP',\n",
       " 'JAMESTOWN TOWNSHIP',\n",
       " 'KALAMAZOO TOWNSHIP',\n",
       " 'KINROSS TOWNSHIP',\n",
       " 'LA GRANGE TOWNSHIP',\n",
       " 'LAKE CITY',\n",
       " 'LANSE TOWNSHIP',\n",
       " 'LANSING TOWNSHIP',\n",
       " 'LARKIN TOWNSHIP',\n",
       " 'LOWELL TOWNSHIP',\n",
       " 'MADISON TOWNSHIP',\n",
       " 'MARINE CITY',\n",
       " 'MERIDIAN TOWNSHIP',\n",
       " 'MIDLAND TOWNSHIP',\n",
       " 'MILFORD TOWNSHIP',\n",
       " 'MONITOR TOWNSHIP',\n",
       " 'MONTROSE TOWNSHIP',\n",
       " 'MUSKEGON TOWNSHIP',\n",
       " 'OAKLAND TOWNSHIP',\n",
       " 'ONEIDA TOWNSHIP',\n",
       " 'ORION TOWNSHIP',\n",
       " 'ORONOKO TOWNSHIP',\n",
       " 'OSCODA TOWNSHIP',\n",
       " 'OSHTEMO TOWNSHIP',\n",
       " 'OWOSSO TOWNSHIP',\n",
       " 'OXFORD TOWNSHIP',\n",
       " 'PENNFIELD TOWNSHIP',\n",
       " 'PERE MARQUETTE TOWNSHIP',\n",
       " 'PITTSFIELD TOWNSHIP',\n",
       " 'PLEASANT VIEW TOWNSHIP',\n",
       " 'PLYMOUTH TOWNSHIP',\n",
       " 'POLKTON TOWNSHIP',\n",
       " 'PORT HURON TOWNSHIP',\n",
       " 'PORTSMOUTH TOWNSHIP',\n",
       " 'REDFORD TOWNSHIP',\n",
       " 'REED CITY',\n",
       " 'ROGERS CITY',\n",
       " 'ROSE CITY',\n",
       " 'ROYAL OAK TOWNSHIP',\n",
       " 'RUTLAND TOWNSHIP',\n",
       " 'SAGINAW TOWNSHIP',\n",
       " 'SOUTH HAVEN TOWNSHIP',\n",
       " 'ST JAMES TOWNSHIP',\n",
       " 'ST. JOSEPH TOWNSHIP',\n",
       " 'TALLMADGE TOWNSHIP',\n",
       " 'TAWAS CITY',\n",
       " 'TEXAS TOWNSHIP',\n",
       " 'TRAVERSE CITY',\n",
       " 'VAN BUREN TOWNSHIP',\n",
       " 'WATERFORD TOWNSHIP',\n",
       " 'WEST BLOOMFIELD TOWNSHIP',\n",
       " 'WHITE LAKE TOWNSHIP',\n",
       " 'WILLIAMS TOWNSHIP',\n",
       " 'WINDSOR TOWNSHIP',\n",
       " 'YORK TOWNSHIP',\n",
       " 'YPSILANTI TOWNSHIP',\n",
       " 'ZEELAND TOWNSHIP'}"
      ]
     },
     "execution_count": 76,
     "metadata": {},
     "output_type": "execute_result"
    }
   ],
   "source": [
    "set(df_pivot['city_town_name']) - set(censusmi['Area Name (including legal/statistical area description)'].str.upper())"
   ]
  },
  {
   "cell_type": "markdown",
   "metadata": {},
   "source": [
    "Census file uses \"Charter Township\" whereas election df just says \"Township\". Also, census file says \"City City\" in some places"
   ]
  },
  {
   "cell_type": "code",
   "execution_count": 65,
   "metadata": {},
   "outputs": [
    {
     "data": {
      "text/plain": [
       "1540"
      ]
     },
     "execution_count": 65,
     "metadata": {},
     "output_type": "execute_result"
    }
   ],
   "source": [
    "(censusmi['County Code (FIPS)'].astype(str) + censusmi['Area Name (including legal/statistical area description)']).nunique()"
   ]
  },
  {
   "cell_type": "markdown",
   "metadata": {},
   "source": [
    "Seems like best bet is to make `Area Name`s consistent, make column with the county fips joined, then use dictionary to match to the `Juris` code"
   ]
  },
  {
   "cell_type": "code",
   "execution_count": 66,
   "metadata": {},
   "outputs": [
    {
     "data": {
      "text/html": [
       "<div>\n",
       "<style scoped>\n",
       "    .dataframe tbody tr th:only-of-type {\n",
       "        vertical-align: middle;\n",
       "    }\n",
       "\n",
       "    .dataframe tbody tr th {\n",
       "        vertical-align: top;\n",
       "    }\n",
       "\n",
       "    .dataframe thead th {\n",
       "        text-align: right;\n",
       "    }\n",
       "</style>\n",
       "<table border=\"1\" class=\"dataframe\">\n",
       "  <thead>\n",
       "    <tr style=\"text-align: right;\">\n",
       "      <th></th>\n",
       "      <th>Summary Level</th>\n",
       "      <th>State Code (FIPS)</th>\n",
       "      <th>County Code (FIPS)</th>\n",
       "      <th>County Subdivision Code (FIPS)</th>\n",
       "      <th>Place Code (FIPS)</th>\n",
       "      <th>Consolidtated City Code (FIPS)</th>\n",
       "      <th>Area Name (including legal/statistical area description)</th>\n",
       "    </tr>\n",
       "  </thead>\n",
       "  <tbody>\n",
       "    <tr>\n",
       "      <th>13899</th>\n",
       "      <td>61</td>\n",
       "      <td>26</td>\n",
       "      <td>1</td>\n",
       "      <td>1040</td>\n",
       "      <td>0</td>\n",
       "      <td>0</td>\n",
       "      <td>Alcona township</td>\n",
       "    </tr>\n",
       "    <tr>\n",
       "      <th>13900</th>\n",
       "      <td>61</td>\n",
       "      <td>26</td>\n",
       "      <td>1</td>\n",
       "      <td>12460</td>\n",
       "      <td>0</td>\n",
       "      <td>0</td>\n",
       "      <td>Caledonia township</td>\n",
       "    </tr>\n",
       "    <tr>\n",
       "      <th>13901</th>\n",
       "      <td>61</td>\n",
       "      <td>26</td>\n",
       "      <td>1</td>\n",
       "      <td>19320</td>\n",
       "      <td>0</td>\n",
       "      <td>0</td>\n",
       "      <td>Curtis township</td>\n",
       "    </tr>\n",
       "    <tr>\n",
       "      <th>13902</th>\n",
       "      <td>61</td>\n",
       "      <td>26</td>\n",
       "      <td>1</td>\n",
       "      <td>34820</td>\n",
       "      <td>0</td>\n",
       "      <td>0</td>\n",
       "      <td>Greenbush township</td>\n",
       "    </tr>\n",
       "    <tr>\n",
       "      <th>13903</th>\n",
       "      <td>61</td>\n",
       "      <td>26</td>\n",
       "      <td>1</td>\n",
       "      <td>35740</td>\n",
       "      <td>0</td>\n",
       "      <td>0</td>\n",
       "      <td>Gustin township</td>\n",
       "    </tr>\n",
       "    <tr>\n",
       "      <th>...</th>\n",
       "      <td>...</td>\n",
       "      <td>...</td>\n",
       "      <td>...</td>\n",
       "      <td>...</td>\n",
       "      <td>...</td>\n",
       "      <td>...</td>\n",
       "      <td>...</td>\n",
       "    </tr>\n",
       "    <tr>\n",
       "      <th>15434</th>\n",
       "      <td>61</td>\n",
       "      <td>26</td>\n",
       "      <td>165</td>\n",
       "      <td>72380</td>\n",
       "      <td>0</td>\n",
       "      <td>0</td>\n",
       "      <td>Selma township</td>\n",
       "    </tr>\n",
       "    <tr>\n",
       "      <th>15435</th>\n",
       "      <td>61</td>\n",
       "      <td>26</td>\n",
       "      <td>165</td>\n",
       "      <td>74220</td>\n",
       "      <td>0</td>\n",
       "      <td>0</td>\n",
       "      <td>Slagle township</td>\n",
       "    </tr>\n",
       "    <tr>\n",
       "      <th>15436</th>\n",
       "      <td>61</td>\n",
       "      <td>26</td>\n",
       "      <td>165</td>\n",
       "      <td>74820</td>\n",
       "      <td>0</td>\n",
       "      <td>0</td>\n",
       "      <td>South Branch township</td>\n",
       "    </tr>\n",
       "    <tr>\n",
       "      <th>15437</th>\n",
       "      <td>61</td>\n",
       "      <td>26</td>\n",
       "      <td>165</td>\n",
       "      <td>75940</td>\n",
       "      <td>0</td>\n",
       "      <td>0</td>\n",
       "      <td>Springville township</td>\n",
       "    </tr>\n",
       "    <tr>\n",
       "      <th>15438</th>\n",
       "      <td>61</td>\n",
       "      <td>26</td>\n",
       "      <td>165</td>\n",
       "      <td>86500</td>\n",
       "      <td>0</td>\n",
       "      <td>0</td>\n",
       "      <td>Wexford township</td>\n",
       "    </tr>\n",
       "  </tbody>\n",
       "</table>\n",
       "<p>1540 rows × 7 columns</p>\n",
       "</div>"
      ],
      "text/plain": [
       "       Summary Level  State Code (FIPS)  County Code (FIPS)  \\\n",
       "13899             61                 26                   1   \n",
       "13900             61                 26                   1   \n",
       "13901             61                 26                   1   \n",
       "13902             61                 26                   1   \n",
       "13903             61                 26                   1   \n",
       "...              ...                ...                 ...   \n",
       "15434             61                 26                 165   \n",
       "15435             61                 26                 165   \n",
       "15436             61                 26                 165   \n",
       "15437             61                 26                 165   \n",
       "15438             61                 26                 165   \n",
       "\n",
       "       County Subdivision Code (FIPS)  Place Code (FIPS)  \\\n",
       "13899                            1040                  0   \n",
       "13900                           12460                  0   \n",
       "13901                           19320                  0   \n",
       "13902                           34820                  0   \n",
       "13903                           35740                  0   \n",
       "...                               ...                ...   \n",
       "15434                           72380                  0   \n",
       "15435                           74220                  0   \n",
       "15436                           74820                  0   \n",
       "15437                           75940                  0   \n",
       "15438                           86500                  0   \n",
       "\n",
       "       Consolidtated City Code (FIPS)  \\\n",
       "13899                               0   \n",
       "13900                               0   \n",
       "13901                               0   \n",
       "13902                               0   \n",
       "13903                               0   \n",
       "...                               ...   \n",
       "15434                               0   \n",
       "15435                               0   \n",
       "15436                               0   \n",
       "15437                               0   \n",
       "15438                               0   \n",
       "\n",
       "      Area Name (including legal/statistical area description)  \n",
       "13899                                    Alcona township        \n",
       "13900                                 Caledonia township        \n",
       "13901                                    Curtis township        \n",
       "13902                                 Greenbush township        \n",
       "13903                                    Gustin township        \n",
       "...                                                  ...        \n",
       "15434                                     Selma township        \n",
       "15435                                    Slagle township        \n",
       "15436                              South Branch township        \n",
       "15437                               Springville township        \n",
       "15438                                   Wexford township        \n",
       "\n",
       "[1540 rows x 7 columns]"
      ]
     },
     "execution_count": 66,
     "metadata": {},
     "output_type": "execute_result"
    }
   ],
   "source": [
    "censusmi"
   ]
  },
  {
   "cell_type": "code",
   "execution_count": 67,
   "metadata": {},
   "outputs": [
    {
     "data": {
      "text/html": [
       "<div>\n",
       "<style scoped>\n",
       "    .dataframe tbody tr th:only-of-type {\n",
       "        vertical-align: middle;\n",
       "    }\n",
       "\n",
       "    .dataframe tbody tr th {\n",
       "        vertical-align: top;\n",
       "    }\n",
       "\n",
       "    .dataframe thead th {\n",
       "        text-align: right;\n",
       "    }\n",
       "</style>\n",
       "<table border=\"1\" class=\"dataframe\">\n",
       "  <thead>\n",
       "    <tr style=\"text-align: right;\">\n",
       "      <th></th>\n",
       "      <th>Summary Level</th>\n",
       "      <th>State Code (FIPS)</th>\n",
       "      <th>County Code (FIPS)</th>\n",
       "      <th>County Subdivision Code (FIPS)</th>\n",
       "      <th>Place Code (FIPS)</th>\n",
       "      <th>Consolidtated City Code (FIPS)</th>\n",
       "      <th>Area Name (including legal/statistical area description)</th>\n",
       "    </tr>\n",
       "  </thead>\n",
       "  <tbody>\n",
       "    <tr>\n",
       "      <th>14003</th>\n",
       "      <td>61</td>\n",
       "      <td>26</td>\n",
       "      <td>15</td>\n",
       "      <td>37140</td>\n",
       "      <td>0</td>\n",
       "      <td>0</td>\n",
       "      <td>Hastings charter township</td>\n",
       "    </tr>\n",
       "    <tr>\n",
       "      <th>14010</th>\n",
       "      <td>61</td>\n",
       "      <td>26</td>\n",
       "      <td>15</td>\n",
       "      <td>70420</td>\n",
       "      <td>0</td>\n",
       "      <td>0</td>\n",
       "      <td>Rutland charter township</td>\n",
       "    </tr>\n",
       "    <tr>\n",
       "      <th>14015</th>\n",
       "      <td>61</td>\n",
       "      <td>26</td>\n",
       "      <td>17</td>\n",
       "      <td>5120</td>\n",
       "      <td>0</td>\n",
       "      <td>0</td>\n",
       "      <td>Bangor charter township</td>\n",
       "    </tr>\n",
       "    <tr>\n",
       "      <th>14023</th>\n",
       "      <td>61</td>\n",
       "      <td>26</td>\n",
       "      <td>17</td>\n",
       "      <td>36260</td>\n",
       "      <td>0</td>\n",
       "      <td>0</td>\n",
       "      <td>Hampton charter township</td>\n",
       "    </tr>\n",
       "    <tr>\n",
       "      <th>14027</th>\n",
       "      <td>61</td>\n",
       "      <td>26</td>\n",
       "      <td>17</td>\n",
       "      <td>54980</td>\n",
       "      <td>0</td>\n",
       "      <td>0</td>\n",
       "      <td>Monitor charter township</td>\n",
       "    </tr>\n",
       "    <tr>\n",
       "      <th>...</th>\n",
       "      <td>...</td>\n",
       "      <td>...</td>\n",
       "      <td>...</td>\n",
       "      <td>...</td>\n",
       "      <td>...</td>\n",
       "      <td>...</td>\n",
       "      <td>...</td>\n",
       "    </tr>\n",
       "    <tr>\n",
       "      <th>15397</th>\n",
       "      <td>61</td>\n",
       "      <td>26</td>\n",
       "      <td>163</td>\n",
       "      <td>40040</td>\n",
       "      <td>0</td>\n",
       "      <td>0</td>\n",
       "      <td>Huron charter township</td>\n",
       "    </tr>\n",
       "    <tr>\n",
       "      <th>15405</th>\n",
       "      <td>61</td>\n",
       "      <td>26</td>\n",
       "      <td>163</td>\n",
       "      <td>65080</td>\n",
       "      <td>0</td>\n",
       "      <td>0</td>\n",
       "      <td>Plymouth charter township</td>\n",
       "    </tr>\n",
       "    <tr>\n",
       "      <th>15406</th>\n",
       "      <td>61</td>\n",
       "      <td>26</td>\n",
       "      <td>163</td>\n",
       "      <td>67625</td>\n",
       "      <td>0</td>\n",
       "      <td>0</td>\n",
       "      <td>Redford charter township</td>\n",
       "    </tr>\n",
       "    <tr>\n",
       "      <th>15415</th>\n",
       "      <td>61</td>\n",
       "      <td>26</td>\n",
       "      <td>163</td>\n",
       "      <td>81660</td>\n",
       "      <td>0</td>\n",
       "      <td>0</td>\n",
       "      <td>Van Buren charter township</td>\n",
       "    </tr>\n",
       "    <tr>\n",
       "      <th>15430</th>\n",
       "      <td>61</td>\n",
       "      <td>26</td>\n",
       "      <td>165</td>\n",
       "      <td>36600</td>\n",
       "      <td>0</td>\n",
       "      <td>0</td>\n",
       "      <td>Haring charter township</td>\n",
       "    </tr>\n",
       "  </tbody>\n",
       "</table>\n",
       "<p>117 rows × 7 columns</p>\n",
       "</div>"
      ],
      "text/plain": [
       "       Summary Level  State Code (FIPS)  County Code (FIPS)  \\\n",
       "14003             61                 26                  15   \n",
       "14010             61                 26                  15   \n",
       "14015             61                 26                  17   \n",
       "14023             61                 26                  17   \n",
       "14027             61                 26                  17   \n",
       "...              ...                ...                 ...   \n",
       "15397             61                 26                 163   \n",
       "15405             61                 26                 163   \n",
       "15406             61                 26                 163   \n",
       "15415             61                 26                 163   \n",
       "15430             61                 26                 165   \n",
       "\n",
       "       County Subdivision Code (FIPS)  Place Code (FIPS)  \\\n",
       "14003                           37140                  0   \n",
       "14010                           70420                  0   \n",
       "14015                            5120                  0   \n",
       "14023                           36260                  0   \n",
       "14027                           54980                  0   \n",
       "...                               ...                ...   \n",
       "15397                           40040                  0   \n",
       "15405                           65080                  0   \n",
       "15406                           67625                  0   \n",
       "15415                           81660                  0   \n",
       "15430                           36600                  0   \n",
       "\n",
       "       Consolidtated City Code (FIPS)  \\\n",
       "14003                               0   \n",
       "14010                               0   \n",
       "14015                               0   \n",
       "14023                               0   \n",
       "14027                               0   \n",
       "...                               ...   \n",
       "15397                               0   \n",
       "15405                               0   \n",
       "15406                               0   \n",
       "15415                               0   \n",
       "15430                               0   \n",
       "\n",
       "      Area Name (including legal/statistical area description)  \n",
       "14003                          Hastings charter township        \n",
       "14010                           Rutland charter township        \n",
       "14015                            Bangor charter township        \n",
       "14023                           Hampton charter township        \n",
       "14027                           Monitor charter township        \n",
       "...                                                  ...        \n",
       "15397                             Huron charter township        \n",
       "15405                          Plymouth charter township        \n",
       "15406                           Redford charter township        \n",
       "15415                         Van Buren charter township        \n",
       "15430                            Haring charter township        \n",
       "\n",
       "[117 rows x 7 columns]"
      ]
     },
     "execution_count": 67,
     "metadata": {},
     "output_type": "execute_result"
    }
   ],
   "source": [
    "censusmi[censusmi['Area Name (including legal/statistical area description)'].str.contains('charter')]"
   ]
  },
  {
   "cell_type": "markdown",
   "metadata": {},
   "source": [
    "Before removing all instances of charter from the censusmi, wanted to make sure df does not contain instances"
   ]
  },
  {
   "cell_type": "code",
   "execution_count": 68,
   "metadata": {},
   "outputs": [
    {
     "data": {
      "text/html": [
       "<div>\n",
       "<style scoped>\n",
       "    .dataframe tbody tr th:only-of-type {\n",
       "        vertical-align: middle;\n",
       "    }\n",
       "\n",
       "    .dataframe tbody tr th {\n",
       "        vertical-align: top;\n",
       "    }\n",
       "\n",
       "    .dataframe thead th {\n",
       "        text-align: right;\n",
       "    }\n",
       "</style>\n",
       "<table border=\"1\" class=\"dataframe\">\n",
       "  <thead>\n",
       "    <tr style=\"text-align: right;\">\n",
       "      <th></th>\n",
       "      <th>candidate_id</th>\n",
       "      <th>county_code</th>\n",
       "      <th>city_town_code</th>\n",
       "      <th>ward_number</th>\n",
       "      <th>precinct_number</th>\n",
       "      <th>precinct_label</th>\n",
       "      <th>G16PREGSte</th>\n",
       "      <th>G16PREDCli</th>\n",
       "      <th>G16PRERTru</th>\n",
       "      <th>G16PRELJoh</th>\n",
       "      <th>G16PREOth</th>\n",
       "      <th>county_name</th>\n",
       "      <th>county_fips</th>\n",
       "      <th>city_town_name</th>\n",
       "    </tr>\n",
       "  </thead>\n",
       "  <tbody>\n",
       "  </tbody>\n",
       "</table>\n",
       "</div>"
      ],
      "text/plain": [
       "Empty DataFrame\n",
       "Columns: [candidate_id, county_code, city_town_code, ward_number, precinct_number, precinct_label, G16PREGSte, G16PREDCli, G16PRERTru, G16PRELJoh, G16PREOth, county_name, county_fips, city_town_name]\n",
       "Index: []"
      ]
     },
     "execution_count": 68,
     "metadata": {},
     "output_type": "execute_result"
    }
   ],
   "source": [
    "df_pivot[df_pivot['city_town_name'].str.contains('charter')]"
   ]
  },
  {
   "cell_type": "code",
   "execution_count": 69,
   "metadata": {},
   "outputs": [
    {
     "data": {
      "text/html": [
       "<div>\n",
       "<style scoped>\n",
       "    .dataframe tbody tr th:only-of-type {\n",
       "        vertical-align: middle;\n",
       "    }\n",
       "\n",
       "    .dataframe tbody tr th {\n",
       "        vertical-align: top;\n",
       "    }\n",
       "\n",
       "    .dataframe thead th {\n",
       "        text-align: right;\n",
       "    }\n",
       "</style>\n",
       "<table border=\"1\" class=\"dataframe\">\n",
       "  <thead>\n",
       "    <tr style=\"text-align: right;\">\n",
       "      <th></th>\n",
       "      <th>candidate_id</th>\n",
       "      <th>county_code</th>\n",
       "      <th>city_town_code</th>\n",
       "      <th>ward_number</th>\n",
       "      <th>precinct_number</th>\n",
       "      <th>precinct_label</th>\n",
       "      <th>G16PREGSte</th>\n",
       "      <th>G16PREDCli</th>\n",
       "      <th>G16PRERTru</th>\n",
       "      <th>G16PRELJoh</th>\n",
       "      <th>G16PREOth</th>\n",
       "      <th>county_name</th>\n",
       "      <th>county_fips</th>\n",
       "      <th>city_town_name</th>\n",
       "    </tr>\n",
       "  </thead>\n",
       "  <tbody>\n",
       "  </tbody>\n",
       "</table>\n",
       "</div>"
      ],
      "text/plain": [
       "Empty DataFrame\n",
       "Columns: [candidate_id, county_code, city_town_code, ward_number, precinct_number, precinct_label, G16PREGSte, G16PREDCli, G16PRERTru, G16PRELJoh, G16PREOth, county_name, county_fips, city_town_name]\n",
       "Index: []"
      ]
     },
     "execution_count": 69,
     "metadata": {},
     "output_type": "execute_result"
    }
   ],
   "source": [
    "df_pivot[df_pivot['city_town_name'].str.contains('CITY CITY')]"
   ]
  },
  {
   "cell_type": "code",
   "execution_count": 70,
   "metadata": {},
   "outputs": [
    {
     "data": {
      "text/plain": [
       "(15, 7)"
      ]
     },
     "execution_count": 70,
     "metadata": {},
     "output_type": "execute_result"
    }
   ],
   "source": [
    "censusmi[censusmi['Area Name (including legal/statistical area description)'].str.contains('City city')].shape"
   ]
  },
  {
   "cell_type": "markdown",
   "metadata": {},
   "source": [
    "### Clean census file to make match column"
   ]
  },
  {
   "cell_type": "code",
   "execution_count": 71,
   "metadata": {},
   "outputs": [],
   "source": [
    "censusmi['city_town_name'] = censusmi['Area Name (including legal/statistical area description)'].str.replace('charter township', 'township')\n",
    "censusmi['city_town_name'] = censusmi['city_town_name'].str.replace('City city', 'city')\n",
    "censusmi['city_town_name'] = censusmi['city_town_name'].str.upper()"
   ]
  },
  {
   "cell_type": "code",
   "execution_count": 72,
   "metadata": {},
   "outputs": [
    {
     "data": {
      "text/plain": [
       "12"
      ]
     },
     "execution_count": 72,
     "metadata": {},
     "output_type": "execute_result"
    }
   ],
   "source": [
    "len(set(df_pivot['city_town_name']) - set(censusmi['city_town_name'].str.upper()))"
   ]
  },
  {
   "cell_type": "code",
   "execution_count": 73,
   "metadata": {},
   "outputs": [
    {
     "data": {
      "text/plain": [
       "10"
      ]
     },
     "execution_count": 73,
     "metadata": {},
     "output_type": "execute_result"
    }
   ],
   "source": [
    "len(set(censusmi['city_town_name'].str.upper()) - set(df_pivot['city_town_name']))"
   ]
  },
  {
   "cell_type": "code",
   "execution_count": 74,
   "metadata": {},
   "outputs": [
    {
     "data": {
      "text/plain": [
       "{'COLDSPRINGS TOWNSHIP',\n",
       " 'DEWITT CITY',\n",
       " 'DEWITT TOWNSHIP',\n",
       " 'GUN PLAIN TOWNSHIP',\n",
       " \"L'ANSE TOWNSHIP\",\n",
       " 'LAGRANGE TOWNSHIP',\n",
       " 'PLEASANTVIEW TOWNSHIP',\n",
       " 'ST. JAMES TOWNSHIP',\n",
       " 'VILLAGE OF CLARKSTON CITY',\n",
       " 'VILLAGE OF GROSSE POINTE SHORES CITY'}"
      ]
     },
     "execution_count": 74,
     "metadata": {},
     "output_type": "execute_result"
    }
   ],
   "source": [
    "set(censusmi['city_town_name'].str.upper()) - set(df_pivot['city_town_name'])"
   ]
  },
  {
   "cell_type": "code",
   "execution_count": 75,
   "metadata": {},
   "outputs": [
    {
     "data": {
      "text/plain": [
       "{'CLARKSTON CITY',\n",
       " 'COLD SPRINGS TOWNSHIP',\n",
       " 'DE WITT CITY',\n",
       " 'DE WITT TOWNSHIP',\n",
       " 'GROSS POINTE SHORES CITY',\n",
       " 'GROSSE POINTE SHORES CITY',\n",
       " 'GUNPLAIN TOWNSHIP',\n",
       " 'LA GRANGE TOWNSHIP',\n",
       " 'LANSE TOWNSHIP',\n",
       " 'PLEASANT VIEW TOWNSHIP',\n",
       " 'ST JAMES TOWNSHIP',\n",
       " '{Statistical Adjustments}'}"
      ]
     },
     "execution_count": 75,
     "metadata": {},
     "output_type": "execute_result"
    }
   ],
   "source": [
    "set(df_pivot['city_town_name']) - set(censusmi['city_town_name'].str.upper())"
   ]
  },
  {
   "cell_type": "code",
   "execution_count": 76,
   "metadata": {},
   "outputs": [],
   "source": [
    "census_to_df_city_dict = {'COLDSPRINGS TOWNSHIP': 'COLD SPRINGS TOWNSHIP',\n",
    " 'DEWITT CITY': 'DE WITT CITY',\n",
    " 'DEWITT TOWNSHIP': 'DE WITT TOWNSHIP',\n",
    " 'GUN PLAIN TOWNSHIP': 'GUNPLAIN TOWNSHIP',\n",
    " \"L'ANSE TOWNSHIP\": 'LANSE TOWNSHIP',\n",
    " 'LAGRANGE TOWNSHIP': 'LA GRANGE TOWNSHIP',\n",
    " 'PLEASANTVIEW TOWNSHIP': 'PLEASANT VIEW TOWNSHIP',\n",
    " 'ST. JAMES TOWNSHIP': 'ST JAMES TOWNSHIP',\n",
    " 'VILLAGE OF CLARKSTON CITY': 'CLARKSTON CITY',\n",
    " 'VILLAGE OF GROSSE POINTE SHORES CITY': 'GROSSE POINTE SHORES CITY'}"
   ]
  },
  {
   "cell_type": "code",
   "execution_count": 77,
   "metadata": {},
   "outputs": [],
   "source": [
    "censusmi.loc[censusmi['city_town_name'].isin(census_to_df_city_dict.keys()), 'city_town_name'] = censusmi.loc[censusmi['city_town_name'].isin(census_to_df_city_dict.keys()), 'city_town_name'].map(census_to_df_city_dict)"
   ]
  },
  {
   "cell_type": "code",
   "execution_count": 78,
   "metadata": {},
   "outputs": [
    {
     "data": {
      "text/plain": [
       "2"
      ]
     },
     "execution_count": 78,
     "metadata": {},
     "output_type": "execute_result"
    }
   ],
   "source": [
    "len(set(df_pivot['city_town_name']) - set(censusmi['city_town_name'].str.upper()))"
   ]
  },
  {
   "cell_type": "code",
   "execution_count": 79,
   "metadata": {},
   "outputs": [
    {
     "data": {
      "text/plain": [
       "0"
      ]
     },
     "execution_count": 79,
     "metadata": {},
     "output_type": "execute_result"
    }
   ],
   "source": [
    "len(set(censusmi['city_town_name'].str.upper()) - set(df_pivot['city_town_name']))"
   ]
  },
  {
   "cell_type": "code",
   "execution_count": 80,
   "metadata": {},
   "outputs": [
    {
     "data": {
      "text/html": [
       "<div>\n",
       "<style scoped>\n",
       "    .dataframe tbody tr th:only-of-type {\n",
       "        vertical-align: middle;\n",
       "    }\n",
       "\n",
       "    .dataframe tbody tr th {\n",
       "        vertical-align: top;\n",
       "    }\n",
       "\n",
       "    .dataframe thead th {\n",
       "        text-align: right;\n",
       "    }\n",
       "</style>\n",
       "<table border=\"1\" class=\"dataframe\">\n",
       "  <thead>\n",
       "    <tr style=\"text-align: right;\">\n",
       "      <th></th>\n",
       "      <th>candidate_id</th>\n",
       "      <th>county_code</th>\n",
       "      <th>city_town_code</th>\n",
       "      <th>ward_number</th>\n",
       "      <th>precinct_number</th>\n",
       "      <th>precinct_label</th>\n",
       "      <th>G16PREGSte</th>\n",
       "      <th>G16PREDCli</th>\n",
       "      <th>G16PRERTru</th>\n",
       "      <th>G16PRELJoh</th>\n",
       "      <th>G16PREOth</th>\n",
       "      <th>county_name</th>\n",
       "      <th>county_fips</th>\n",
       "      <th>city_town_name</th>\n",
       "    </tr>\n",
       "  </thead>\n",
       "  <tbody>\n",
       "    <tr>\n",
       "      <th>2087</th>\n",
       "      <td>2087</td>\n",
       "      <td>50</td>\n",
       "      <td>57</td>\n",
       "      <td>0</td>\n",
       "      <td>3</td>\n",
       "      <td></td>\n",
       "      <td>0</td>\n",
       "      <td>14</td>\n",
       "      <td>31</td>\n",
       "      <td>1</td>\n",
       "      <td>0</td>\n",
       "      <td>MACOMB</td>\n",
       "      <td>099</td>\n",
       "      <td>GROSS POINTE SHORES CITY</td>\n",
       "    </tr>\n",
       "    <tr>\n",
       "      <th>4792</th>\n",
       "      <td>4792</td>\n",
       "      <td>82</td>\n",
       "      <td>65</td>\n",
       "      <td>0</td>\n",
       "      <td>1</td>\n",
       "      <td></td>\n",
       "      <td>7</td>\n",
       "      <td>271</td>\n",
       "      <td>800</td>\n",
       "      <td>18</td>\n",
       "      <td>4</td>\n",
       "      <td>WAYNE</td>\n",
       "      <td>163</td>\n",
       "      <td>GROSSE POINTE SHORES CITY</td>\n",
       "    </tr>\n",
       "    <tr>\n",
       "      <th>4793</th>\n",
       "      <td>4793</td>\n",
       "      <td>82</td>\n",
       "      <td>65</td>\n",
       "      <td>0</td>\n",
       "      <td>2</td>\n",
       "      <td></td>\n",
       "      <td>3</td>\n",
       "      <td>252</td>\n",
       "      <td>461</td>\n",
       "      <td>22</td>\n",
       "      <td>3</td>\n",
       "      <td>WAYNE</td>\n",
       "      <td>163</td>\n",
       "      <td>GROSSE POINTE SHORES CITY</td>\n",
       "    </tr>\n",
       "  </tbody>\n",
       "</table>\n",
       "</div>"
      ],
      "text/plain": [
       "      candidate_id  county_code  city_town_code  ward_number  precinct_number  \\\n",
       "2087          2087           50              57            0                3   \n",
       "4792          4792           82              65            0                1   \n",
       "4793          4793           82              65            0                2   \n",
       "\n",
       "     precinct_label  G16PREGSte  G16PREDCli  G16PRERTru  G16PRELJoh  \\\n",
       "2087                          0          14          31           1   \n",
       "4792                          7         271         800          18   \n",
       "4793                          3         252         461          22   \n",
       "\n",
       "      G16PREOth county_name county_fips             city_town_name  \n",
       "2087          0      MACOMB         099   GROSS POINTE SHORES CITY  \n",
       "4792          4       WAYNE         163  GROSSE POINTE SHORES CITY  \n",
       "4793          3       WAYNE         163  GROSSE POINTE SHORES CITY  "
      ]
     },
     "execution_count": 80,
     "metadata": {},
     "output_type": "execute_result"
    }
   ],
   "source": [
    "df_pivot[(df_pivot['city_town_name'] == 'GROSS POINTE SHORES CITY') | (df_pivot['city_town_name'] == 'GROSSE POINTE SHORES CITY')]"
   ]
  },
  {
   "cell_type": "code",
   "execution_count": 81,
   "metadata": {},
   "outputs": [
    {
     "data": {
      "text/html": [
       "<div>\n",
       "<style scoped>\n",
       "    .dataframe tbody tr th:only-of-type {\n",
       "        vertical-align: middle;\n",
       "    }\n",
       "\n",
       "    .dataframe tbody tr th {\n",
       "        vertical-align: top;\n",
       "    }\n",
       "\n",
       "    .dataframe thead th {\n",
       "        text-align: right;\n",
       "    }\n",
       "</style>\n",
       "<table border=\"1\" class=\"dataframe\">\n",
       "  <thead>\n",
       "    <tr style=\"text-align: right;\">\n",
       "      <th></th>\n",
       "      <th>Summary Level</th>\n",
       "      <th>State Code (FIPS)</th>\n",
       "      <th>County Code (FIPS)</th>\n",
       "      <th>County Subdivision Code (FIPS)</th>\n",
       "      <th>Place Code (FIPS)</th>\n",
       "      <th>Consolidtated City Code (FIPS)</th>\n",
       "      <th>Area Name (including legal/statistical area description)</th>\n",
       "      <th>city_town_name</th>\n",
       "    </tr>\n",
       "  </thead>\n",
       "  <tbody>\n",
       "    <tr>\n",
       "      <th>14758</th>\n",
       "      <td>61</td>\n",
       "      <td>26</td>\n",
       "      <td>99</td>\n",
       "      <td>82453</td>\n",
       "      <td>0</td>\n",
       "      <td>0</td>\n",
       "      <td>Village of Grosse Pointe Shores city</td>\n",
       "      <td>GROSSE POINTE SHORES CITY</td>\n",
       "    </tr>\n",
       "    <tr>\n",
       "      <th>15416</th>\n",
       "      <td>61</td>\n",
       "      <td>26</td>\n",
       "      <td>163</td>\n",
       "      <td>82453</td>\n",
       "      <td>0</td>\n",
       "      <td>0</td>\n",
       "      <td>Village of Grosse Pointe Shores city</td>\n",
       "      <td>GROSSE POINTE SHORES CITY</td>\n",
       "    </tr>\n",
       "  </tbody>\n",
       "</table>\n",
       "</div>"
      ],
      "text/plain": [
       "       Summary Level  State Code (FIPS)  County Code (FIPS)  \\\n",
       "14758             61                 26                  99   \n",
       "15416             61                 26                 163   \n",
       "\n",
       "       County Subdivision Code (FIPS)  Place Code (FIPS)  \\\n",
       "14758                           82453                  0   \n",
       "15416                           82453                  0   \n",
       "\n",
       "       Consolidtated City Code (FIPS)  \\\n",
       "14758                               0   \n",
       "15416                               0   \n",
       "\n",
       "      Area Name (including legal/statistical area description)  \\\n",
       "14758               Village of Grosse Pointe Shores city         \n",
       "15416               Village of Grosse Pointe Shores city         \n",
       "\n",
       "                  city_town_name  \n",
       "14758  GROSSE POINTE SHORES CITY  \n",
       "15416  GROSSE POINTE SHORES CITY  "
      ]
     },
     "execution_count": 81,
     "metadata": {},
     "output_type": "execute_result"
    }
   ],
   "source": [
    "censusmi[(censusmi['city_town_name'] == 'GROSS POINTE SHORES CITY') | (censusmi['city_town_name'] == 'GROSSE POINTE SHORES CITY')]"
   ]
  },
  {
   "cell_type": "code",
   "execution_count": 82,
   "metadata": {},
   "outputs": [],
   "source": [
    "censusmi.loc[(censusmi['Area Name (including legal/statistical area description)'] == 'Village of Grosse Pointe Shores city')&(censusmi['County Code (FIPS)']==99), 'city_town_name'] = 'GROSS POINTE SHORES CITY'"
   ]
  },
  {
   "cell_type": "code",
   "execution_count": 83,
   "metadata": {},
   "outputs": [
    {
     "data": {
      "text/plain": [
       "1"
      ]
     },
     "execution_count": 83,
     "metadata": {},
     "output_type": "execute_result"
    }
   ],
   "source": [
    "len(set(df_pivot['city_town_name']) - set(censusmi['city_town_name'].str.upper()))"
   ]
  },
  {
   "cell_type": "code",
   "execution_count": 84,
   "metadata": {},
   "outputs": [
    {
     "data": {
      "text/plain": [
       "{'{Statistical Adjustments}'}"
      ]
     },
     "execution_count": 84,
     "metadata": {},
     "output_type": "execute_result"
    }
   ],
   "source": [
    "set(df_pivot['city_town_name']) - set(censusmi['city_town_name'].str.upper())"
   ]
  },
  {
   "cell_type": "code",
   "execution_count": 85,
   "metadata": {},
   "outputs": [
    {
     "data": {
      "text/plain": [
       "set()"
      ]
     },
     "execution_count": 85,
     "metadata": {},
     "output_type": "execute_result"
    }
   ],
   "source": [
    "set(censusmi['city_town_name'].str.upper()) - set(df_pivot['city_town_name'])"
   ]
  },
  {
   "cell_type": "markdown",
   "metadata": {},
   "source": [
    "### Create a dictionary - census file juris code to df"
   ]
  },
  {
   "cell_type": "markdown",
   "metadata": {},
   "source": [
    "Now that the city town names match, I can create a dictionary - census file juris code to df. First I need a column in each with the county code + the city town name"
   ]
  },
  {
   "cell_type": "code",
   "execution_count": 86,
   "metadata": {},
   "outputs": [],
   "source": [
    "censusmi['county_city_id'] = censusmi['County Code (FIPS)'].astype(str).str.zfill(3) + censusmi['city_town_name']"
   ]
  },
  {
   "cell_type": "code",
   "execution_count": 87,
   "metadata": {},
   "outputs": [],
   "source": [
    "df_pivot['county_city_id'] = df_pivot['county_fips'] + df_pivot['city_town_name']"
   ]
  },
  {
   "cell_type": "code",
   "execution_count": 88,
   "metadata": {},
   "outputs": [
    {
     "data": {
      "text/plain": [
       "{'027NILES CITY',\n",
       " '037GRAND LEDGE CITY',\n",
       " '037LANSING CITY',\n",
       " '073CLARE CITY',\n",
       " '087BROWN CITY',\n",
       " '093FENTON CITY',\n",
       " '115FLAT ROCK CITY',\n",
       " '155OVID CITY'}"
      ]
     },
     "execution_count": 88,
     "metadata": {},
     "output_type": "execute_result"
    }
   ],
   "source": [
    "set(censusmi['county_city_id']) - set(df_pivot['county_city_id'])"
   ]
  },
  {
   "cell_type": "code",
   "execution_count": 89,
   "metadata": {},
   "outputs": [
    {
     "data": {
      "text/plain": [
       "{'001{Statistical Adjustments}',\n",
       " '003{Statistical Adjustments}',\n",
       " '007{Statistical Adjustments}',\n",
       " '009{Statistical Adjustments}',\n",
       " '011{Statistical Adjustments}',\n",
       " '013{Statistical Adjustments}',\n",
       " '015{Statistical Adjustments}',\n",
       " '017{Statistical Adjustments}',\n",
       " '019{Statistical Adjustments}',\n",
       " '021{Statistical Adjustments}',\n",
       " '027{Statistical Adjustments}',\n",
       " '029{Statistical Adjustments}',\n",
       " '031{Statistical Adjustments}',\n",
       " '033{Statistical Adjustments}',\n",
       " '037{Statistical Adjustments}',\n",
       " '039{Statistical Adjustments}',\n",
       " '045{Statistical Adjustments}',\n",
       " '047{Statistical Adjustments}',\n",
       " '049{Statistical Adjustments}',\n",
       " '057{Statistical Adjustments}',\n",
       " '059{Statistical Adjustments}',\n",
       " '061{Statistical Adjustments}',\n",
       " '063{Statistical Adjustments}',\n",
       " '065{Statistical Adjustments}',\n",
       " '067{Statistical Adjustments}',\n",
       " '069{Statistical Adjustments}',\n",
       " '073{Statistical Adjustments}',\n",
       " '077{Statistical Adjustments}',\n",
       " '079{Statistical Adjustments}',\n",
       " '081{Statistical Adjustments}',\n",
       " '091{Statistical Adjustments}',\n",
       " '097{Statistical Adjustments}',\n",
       " '099{Statistical Adjustments}',\n",
       " '101{Statistical Adjustments}',\n",
       " '103{Statistical Adjustments}',\n",
       " '105{Statistical Adjustments}',\n",
       " '109{Statistical Adjustments}',\n",
       " '111{Statistical Adjustments}',\n",
       " '113{Statistical Adjustments}',\n",
       " '115{Statistical Adjustments}',\n",
       " '117{Statistical Adjustments}',\n",
       " '123{Statistical Adjustments}',\n",
       " '125{Statistical Adjustments}',\n",
       " '129{Statistical Adjustments}',\n",
       " '133{Statistical Adjustments}',\n",
       " '135{Statistical Adjustments}',\n",
       " '143{Statistical Adjustments}',\n",
       " '145{Statistical Adjustments}',\n",
       " '151{Statistical Adjustments}',\n",
       " '153{Statistical Adjustments}',\n",
       " '155{Statistical Adjustments}',\n",
       " '157{Statistical Adjustments}',\n",
       " '159{Statistical Adjustments}',\n",
       " '161{Statistical Adjustments}',\n",
       " '163{Statistical Adjustments}',\n",
       " '165{Statistical Adjustments}'}"
      ]
     },
     "execution_count": 89,
     "metadata": {},
     "output_type": "execute_result"
    }
   ],
   "source": [
    "set(df_pivot['county_city_id']) - set(censusmi['county_city_id'])"
   ]
  },
  {
   "cell_type": "code",
   "execution_count": 90,
   "metadata": {},
   "outputs": [
    {
     "data": {
      "text/plain": [
       "1588"
      ]
     },
     "execution_count": 90,
     "metadata": {},
     "output_type": "execute_result"
    }
   ],
   "source": [
    "df_pivot['county_city_id'].nunique()"
   ]
  },
  {
   "cell_type": "code",
   "execution_count": 91,
   "metadata": {},
   "outputs": [
    {
     "data": {
      "text/plain": [
       "27760    1\n",
       "46000    1\n",
       "33420    1\n",
       "11180    1\n",
       "28360    1\n",
       "15920    1\n",
       "61860    1\n",
       "57760    1\n",
       "Name: County Subdivision Code (FIPS), dtype: int64"
      ]
     },
     "execution_count": 91,
     "metadata": {},
     "output_type": "execute_result"
    }
   ],
   "source": [
    "censusmi['County Subdivision Code (FIPS)'][censusmi['county_city_id'].isin(list(set(censusmi['county_city_id']) - set(df_pivot['county_city_id'])))].value_counts()"
   ]
  },
  {
   "cell_type": "code",
   "execution_count": 92,
   "metadata": {},
   "outputs": [
    {
     "data": {
      "text/plain": [
       "27760    3\n",
       "46000    3\n",
       "15920    2\n",
       "33420    2\n",
       "28360    2\n",
       "61860    2\n",
       "11180    2\n",
       "57760    2\n",
       "Name: County Subdivision Code (FIPS), dtype: int64"
      ]
     },
     "execution_count": 92,
     "metadata": {},
     "output_type": "execute_result"
    }
   ],
   "source": [
    "censusmi['County Subdivision Code (FIPS)'][censusmi['County Subdivision Code (FIPS)'].isin(['27760','46000','33420','11180','28360','15920','61860','57760'])].value_counts()"
   ]
  },
  {
   "cell_type": "markdown",
   "metadata": {},
   "source": [
    "The census identifier has more values by 8 than the df, so just keep in mind when mapping."
   ]
  },
  {
   "cell_type": "code",
   "execution_count": 93,
   "metadata": {},
   "outputs": [],
   "source": [
    "county_city_id_to_mcdjuris_dict = pd.Series(censusmi['County Subdivision Code (FIPS)'].values, index = censusmi['county_city_id']).to_dict()"
   ]
  },
  {
   "cell_type": "markdown",
   "metadata": {},
   "source": [
    "### Apply dictionary to make column in df"
   ]
  },
  {
   "cell_type": "code",
   "execution_count": 108,
   "metadata": {},
   "outputs": [],
   "source": [
    "df_pivot['jurisd'] = (df_pivot['county_city_id'].map(county_city_id_to_mcdjuris_dict)).fillna(0).astype('int64')"
   ]
  },
  {
   "cell_type": "code",
   "execution_count": 109,
   "metadata": {},
   "outputs": [
    {
     "data": {
      "text/html": [
       "<div>\n",
       "<style scoped>\n",
       "    .dataframe tbody tr th:only-of-type {\n",
       "        vertical-align: middle;\n",
       "    }\n",
       "\n",
       "    .dataframe tbody tr th {\n",
       "        vertical-align: top;\n",
       "    }\n",
       "\n",
       "    .dataframe thead th {\n",
       "        text-align: right;\n",
       "    }\n",
       "</style>\n",
       "<table border=\"1\" class=\"dataframe\">\n",
       "  <thead>\n",
       "    <tr style=\"text-align: right;\">\n",
       "      <th></th>\n",
       "      <th>candidate_id</th>\n",
       "      <th>county_code</th>\n",
       "      <th>city_town_code</th>\n",
       "      <th>ward_number</th>\n",
       "      <th>precinct_number</th>\n",
       "      <th>precinct_label</th>\n",
       "      <th>G16PREGSte</th>\n",
       "      <th>G16PREDCli</th>\n",
       "      <th>G16PRERTru</th>\n",
       "      <th>G16PRELJoh</th>\n",
       "      <th>G16PREOth</th>\n",
       "      <th>county_name</th>\n",
       "      <th>county_fips</th>\n",
       "      <th>city_town_name</th>\n",
       "      <th>county_city_id</th>\n",
       "      <th>jurisd</th>\n",
       "    </tr>\n",
       "  </thead>\n",
       "  <tbody>\n",
       "    <tr>\n",
       "      <th>0</th>\n",
       "      <td>0</td>\n",
       "      <td>1</td>\n",
       "      <td>2</td>\n",
       "      <td>0</td>\n",
       "      <td>1</td>\n",
       "      <td></td>\n",
       "      <td>2</td>\n",
       "      <td>199</td>\n",
       "      <td>500</td>\n",
       "      <td>13</td>\n",
       "      <td>4</td>\n",
       "      <td>ALCONA</td>\n",
       "      <td>001</td>\n",
       "      <td>ALCONA TOWNSHIP</td>\n",
       "      <td>001ALCONA TOWNSHIP</td>\n",
       "      <td>1040</td>\n",
       "    </tr>\n",
       "    <tr>\n",
       "      <th>1</th>\n",
       "      <td>1</td>\n",
       "      <td>1</td>\n",
       "      <td>4</td>\n",
       "      <td>0</td>\n",
       "      <td>1</td>\n",
       "      <td></td>\n",
       "      <td>4</td>\n",
       "      <td>178</td>\n",
       "      <td>441</td>\n",
       "      <td>14</td>\n",
       "      <td>5</td>\n",
       "      <td>ALCONA</td>\n",
       "      <td>001</td>\n",
       "      <td>CALEDONIA TOWNSHIP</td>\n",
       "      <td>001CALEDONIA TOWNSHIP</td>\n",
       "      <td>12460</td>\n",
       "    </tr>\n",
       "    <tr>\n",
       "      <th>2</th>\n",
       "      <td>2</td>\n",
       "      <td>1</td>\n",
       "      <td>6</td>\n",
       "      <td>0</td>\n",
       "      <td>1</td>\n",
       "      <td></td>\n",
       "      <td>13</td>\n",
       "      <td>214</td>\n",
       "      <td>401</td>\n",
       "      <td>8</td>\n",
       "      <td>3</td>\n",
       "      <td>ALCONA</td>\n",
       "      <td>001</td>\n",
       "      <td>CURTIS TOWNSHIP</td>\n",
       "      <td>001CURTIS TOWNSHIP</td>\n",
       "      <td>19320</td>\n",
       "    </tr>\n",
       "    <tr>\n",
       "      <th>3</th>\n",
       "      <td>3</td>\n",
       "      <td>1</td>\n",
       "      <td>8</td>\n",
       "      <td>0</td>\n",
       "      <td>1</td>\n",
       "      <td></td>\n",
       "      <td>4</td>\n",
       "      <td>256</td>\n",
       "      <td>501</td>\n",
       "      <td>22</td>\n",
       "      <td>2</td>\n",
       "      <td>ALCONA</td>\n",
       "      <td>001</td>\n",
       "      <td>GREENBUSH TOWNSHIP</td>\n",
       "      <td>001GREENBUSH TOWNSHIP</td>\n",
       "      <td>34820</td>\n",
       "    </tr>\n",
       "    <tr>\n",
       "      <th>4</th>\n",
       "      <td>4</td>\n",
       "      <td>1</td>\n",
       "      <td>10</td>\n",
       "      <td>0</td>\n",
       "      <td>1</td>\n",
       "      <td></td>\n",
       "      <td>6</td>\n",
       "      <td>80</td>\n",
       "      <td>249</td>\n",
       "      <td>16</td>\n",
       "      <td>1</td>\n",
       "      <td>ALCONA</td>\n",
       "      <td>001</td>\n",
       "      <td>GUSTIN TOWNSHIP</td>\n",
       "      <td>001GUSTIN TOWNSHIP</td>\n",
       "      <td>35740</td>\n",
       "    </tr>\n",
       "  </tbody>\n",
       "</table>\n",
       "</div>"
      ],
      "text/plain": [
       "   candidate_id  county_code  city_town_code  ward_number  precinct_number  \\\n",
       "0             0            1               2            0                1   \n",
       "1             1            1               4            0                1   \n",
       "2             2            1               6            0                1   \n",
       "3             3            1               8            0                1   \n",
       "4             4            1              10            0                1   \n",
       "\n",
       "  precinct_label  G16PREGSte  G16PREDCli  G16PRERTru  G16PRELJoh  G16PREOth  \\\n",
       "0                          2         199         500          13          4   \n",
       "1                          4         178         441          14          5   \n",
       "2                         13         214         401           8          3   \n",
       "3                          4         256         501          22          2   \n",
       "4                          6          80         249          16          1   \n",
       "\n",
       "  county_name county_fips      city_town_name         county_city_id  jurisd  \n",
       "0      ALCONA         001     ALCONA TOWNSHIP     001ALCONA TOWNSHIP    1040  \n",
       "1      ALCONA         001  CALEDONIA TOWNSHIP  001CALEDONIA TOWNSHIP   12460  \n",
       "2      ALCONA         001     CURTIS TOWNSHIP     001CURTIS TOWNSHIP   19320  \n",
       "3      ALCONA         001  GREENBUSH TOWNSHIP  001GREENBUSH TOWNSHIP   34820  \n",
       "4      ALCONA         001     GUSTIN TOWNSHIP     001GUSTIN TOWNSHIP   35740  "
      ]
     },
     "execution_count": 109,
     "metadata": {},
     "output_type": "execute_result"
    }
   ],
   "source": [
    "df_pivot.head()"
   ]
  },
  {
   "cell_type": "code",
   "execution_count": 110,
   "metadata": {},
   "outputs": [
    {
     "data": {
      "text/html": [
       "<div>\n",
       "<style scoped>\n",
       "    .dataframe tbody tr th:only-of-type {\n",
       "        vertical-align: middle;\n",
       "    }\n",
       "\n",
       "    .dataframe tbody tr th {\n",
       "        vertical-align: top;\n",
       "    }\n",
       "\n",
       "    .dataframe thead th {\n",
       "        text-align: right;\n",
       "    }\n",
       "</style>\n",
       "<table border=\"1\" class=\"dataframe\">\n",
       "  <thead>\n",
       "    <tr style=\"text-align: right;\">\n",
       "      <th></th>\n",
       "      <th>VTD2016</th>\n",
       "      <th>Label</th>\n",
       "      <th>G16PREDCli</th>\n",
       "      <th>G16PRERTru</th>\n",
       "      <th>G16PREGSte</th>\n",
       "      <th>G16PRELJoh</th>\n",
       "      <th>G16PREOth</th>\n",
       "      <th>geometry</th>\n",
       "    </tr>\n",
       "  </thead>\n",
       "  <tbody>\n",
       "    <tr>\n",
       "      <th>47</th>\n",
       "      <td>0010104000001</td>\n",
       "      <td>Alcona Township</td>\n",
       "      <td>199</td>\n",
       "      <td>500</td>\n",
       "      <td>2</td>\n",
       "      <td>13</td>\n",
       "      <td>6</td>\n",
       "      <td>MULTIPOLYGON (((-83.29697 44.81275, -83.29649 ...</td>\n",
       "    </tr>\n",
       "    <tr>\n",
       "      <th>48</th>\n",
       "      <td>0011246000001</td>\n",
       "      <td>Caledonia Township</td>\n",
       "      <td>178</td>\n",
       "      <td>441</td>\n",
       "      <td>4</td>\n",
       "      <td>14</td>\n",
       "      <td>7</td>\n",
       "      <td>POLYGON ((-83.64587 44.77031, -83.65243 44.770...</td>\n",
       "    </tr>\n",
       "    <tr>\n",
       "      <th>49</th>\n",
       "      <td>0011932000001</td>\n",
       "      <td>Curtis Township</td>\n",
       "      <td>214</td>\n",
       "      <td>401</td>\n",
       "      <td>13</td>\n",
       "      <td>8</td>\n",
       "      <td>5</td>\n",
       "      <td>POLYGON ((-83.64525 44.51103, -83.64819 44.510...</td>\n",
       "    </tr>\n",
       "    <tr>\n",
       "      <th>50</th>\n",
       "      <td>0013482000001</td>\n",
       "      <td>Greenbush Township</td>\n",
       "      <td>256</td>\n",
       "      <td>501</td>\n",
       "      <td>4</td>\n",
       "      <td>22</td>\n",
       "      <td>4</td>\n",
       "      <td>POLYGON ((-83.31872 44.51171, -83.31908 44.511...</td>\n",
       "    </tr>\n",
       "    <tr>\n",
       "      <th>51</th>\n",
       "      <td>0013574000001</td>\n",
       "      <td>Gustin Township</td>\n",
       "      <td>80</td>\n",
       "      <td>249</td>\n",
       "      <td>6</td>\n",
       "      <td>16</td>\n",
       "      <td>2</td>\n",
       "      <td>POLYGON ((-83.40342 44.68504, -83.40338 44.683...</td>\n",
       "    </tr>\n",
       "  </tbody>\n",
       "</table>\n",
       "</div>"
      ],
      "text/plain": [
       "          VTD2016               Label  G16PREDCli  G16PRERTru  G16PREGSte  \\\n",
       "47  0010104000001     Alcona Township         199         500           2   \n",
       "48  0011246000001  Caledonia Township         178         441           4   \n",
       "49  0011932000001     Curtis Township         214         401          13   \n",
       "50  0013482000001  Greenbush Township         256         501           4   \n",
       "51  0013574000001     Gustin Township          80         249           6   \n",
       "\n",
       "    G16PRELJoh  G16PREOth                                           geometry  \n",
       "47          13          6  MULTIPOLYGON (((-83.29697 44.81275, -83.29649 ...  \n",
       "48          14          7  POLYGON ((-83.64587 44.77031, -83.65243 44.770...  \n",
       "49           8          5  POLYGON ((-83.64525 44.51103, -83.64819 44.510...  \n",
       "50          22          4  POLYGON ((-83.31872 44.51171, -83.31908 44.511...  \n",
       "51          16          2  POLYGON ((-83.40342 44.68504, -83.40338 44.683...  "
      ]
     },
     "execution_count": 110,
     "metadata": {},
     "output_type": "execute_result"
    }
   ],
   "source": [
    "gdfv[gdfv['VTD2016'].str.slice(stop = 3) == '001'].head()"
   ]
  },
  {
   "cell_type": "markdown",
   "metadata": {},
   "source": [
    "From `gdfv` see that for juris for alcona twp, need 1040 --> 01040"
   ]
  },
  {
   "cell_type": "code",
   "execution_count": 111,
   "metadata": {},
   "outputs": [
    {
     "data": {
      "text/html": [
       "<div>\n",
       "<style scoped>\n",
       "    .dataframe tbody tr th:only-of-type {\n",
       "        vertical-align: middle;\n",
       "    }\n",
       "\n",
       "    .dataframe tbody tr th {\n",
       "        vertical-align: top;\n",
       "    }\n",
       "\n",
       "    .dataframe thead th {\n",
       "        text-align: right;\n",
       "    }\n",
       "</style>\n",
       "<table border=\"1\" class=\"dataframe\">\n",
       "  <thead>\n",
       "    <tr style=\"text-align: right;\">\n",
       "      <th></th>\n",
       "      <th>candidate_id</th>\n",
       "      <th>county_code</th>\n",
       "      <th>city_town_code</th>\n",
       "      <th>ward_number</th>\n",
       "      <th>precinct_number</th>\n",
       "      <th>precinct_label</th>\n",
       "      <th>G16PREGSte</th>\n",
       "      <th>G16PREDCli</th>\n",
       "      <th>G16PRERTru</th>\n",
       "      <th>G16PRELJoh</th>\n",
       "      <th>G16PREOth</th>\n",
       "      <th>county_name</th>\n",
       "      <th>county_fips</th>\n",
       "      <th>city_town_name</th>\n",
       "      <th>county_city_id</th>\n",
       "      <th>jurisd</th>\n",
       "    </tr>\n",
       "  </thead>\n",
       "  <tbody>\n",
       "    <tr>\n",
       "      <th>0</th>\n",
       "      <td>0</td>\n",
       "      <td>1</td>\n",
       "      <td>2</td>\n",
       "      <td>0</td>\n",
       "      <td>1</td>\n",
       "      <td></td>\n",
       "      <td>2</td>\n",
       "      <td>199</td>\n",
       "      <td>500</td>\n",
       "      <td>13</td>\n",
       "      <td>4</td>\n",
       "      <td>ALCONA</td>\n",
       "      <td>001</td>\n",
       "      <td>ALCONA TOWNSHIP</td>\n",
       "      <td>001ALCONA TOWNSHIP</td>\n",
       "      <td>1040</td>\n",
       "    </tr>\n",
       "    <tr>\n",
       "      <th>1</th>\n",
       "      <td>1</td>\n",
       "      <td>1</td>\n",
       "      <td>4</td>\n",
       "      <td>0</td>\n",
       "      <td>1</td>\n",
       "      <td></td>\n",
       "      <td>4</td>\n",
       "      <td>178</td>\n",
       "      <td>441</td>\n",
       "      <td>14</td>\n",
       "      <td>5</td>\n",
       "      <td>ALCONA</td>\n",
       "      <td>001</td>\n",
       "      <td>CALEDONIA TOWNSHIP</td>\n",
       "      <td>001CALEDONIA TOWNSHIP</td>\n",
       "      <td>12460</td>\n",
       "    </tr>\n",
       "    <tr>\n",
       "      <th>2</th>\n",
       "      <td>2</td>\n",
       "      <td>1</td>\n",
       "      <td>6</td>\n",
       "      <td>0</td>\n",
       "      <td>1</td>\n",
       "      <td></td>\n",
       "      <td>13</td>\n",
       "      <td>214</td>\n",
       "      <td>401</td>\n",
       "      <td>8</td>\n",
       "      <td>3</td>\n",
       "      <td>ALCONA</td>\n",
       "      <td>001</td>\n",
       "      <td>CURTIS TOWNSHIP</td>\n",
       "      <td>001CURTIS TOWNSHIP</td>\n",
       "      <td>19320</td>\n",
       "    </tr>\n",
       "    <tr>\n",
       "      <th>3</th>\n",
       "      <td>3</td>\n",
       "      <td>1</td>\n",
       "      <td>8</td>\n",
       "      <td>0</td>\n",
       "      <td>1</td>\n",
       "      <td></td>\n",
       "      <td>4</td>\n",
       "      <td>256</td>\n",
       "      <td>501</td>\n",
       "      <td>22</td>\n",
       "      <td>2</td>\n",
       "      <td>ALCONA</td>\n",
       "      <td>001</td>\n",
       "      <td>GREENBUSH TOWNSHIP</td>\n",
       "      <td>001GREENBUSH TOWNSHIP</td>\n",
       "      <td>34820</td>\n",
       "    </tr>\n",
       "    <tr>\n",
       "      <th>4</th>\n",
       "      <td>4</td>\n",
       "      <td>1</td>\n",
       "      <td>10</td>\n",
       "      <td>0</td>\n",
       "      <td>1</td>\n",
       "      <td></td>\n",
       "      <td>6</td>\n",
       "      <td>80</td>\n",
       "      <td>249</td>\n",
       "      <td>16</td>\n",
       "      <td>1</td>\n",
       "      <td>ALCONA</td>\n",
       "      <td>001</td>\n",
       "      <td>GUSTIN TOWNSHIP</td>\n",
       "      <td>001GUSTIN TOWNSHIP</td>\n",
       "      <td>35740</td>\n",
       "    </tr>\n",
       "  </tbody>\n",
       "</table>\n",
       "</div>"
      ],
      "text/plain": [
       "   candidate_id  county_code  city_town_code  ward_number  precinct_number  \\\n",
       "0             0            1               2            0                1   \n",
       "1             1            1               4            0                1   \n",
       "2             2            1               6            0                1   \n",
       "3             3            1               8            0                1   \n",
       "4             4            1              10            0                1   \n",
       "\n",
       "  precinct_label  G16PREGSte  G16PREDCli  G16PRERTru  G16PRELJoh  G16PREOth  \\\n",
       "0                          2         199         500          13          4   \n",
       "1                          4         178         441          14          5   \n",
       "2                         13         214         401           8          3   \n",
       "3                          4         256         501          22          2   \n",
       "4                          6          80         249          16          1   \n",
       "\n",
       "  county_name county_fips      city_town_name         county_city_id  jurisd  \n",
       "0      ALCONA         001     ALCONA TOWNSHIP     001ALCONA TOWNSHIP    1040  \n",
       "1      ALCONA         001  CALEDONIA TOWNSHIP  001CALEDONIA TOWNSHIP   12460  \n",
       "2      ALCONA         001     CURTIS TOWNSHIP     001CURTIS TOWNSHIP   19320  \n",
       "3      ALCONA         001  GREENBUSH TOWNSHIP  001GREENBUSH TOWNSHIP   34820  \n",
       "4      ALCONA         001     GUSTIN TOWNSHIP     001GUSTIN TOWNSHIP   35740  "
      ]
     },
     "execution_count": 111,
     "metadata": {},
     "output_type": "execute_result"
    }
   ],
   "source": [
    "df_pivot.head()"
   ]
  },
  {
   "cell_type": "code",
   "execution_count": 112,
   "metadata": {},
   "outputs": [
    {
     "data": {
      "text/plain": [
       "4950"
      ]
     },
     "execution_count": 112,
     "metadata": {},
     "output_type": "execute_result"
    }
   ],
   "source": [
    "(df_pivot['county_fips'] + df_pivot['jurisd'].astype(str).str.zfill(5) + df_pivot['precinct_number'].astype(str).str.zfill(3)).nunique()"
   ]
  },
  {
   "cell_type": "code",
   "execution_count": 113,
   "metadata": {},
   "outputs": [
    {
     "data": {
      "text/plain": [
       "(4810, 8)"
      ]
     },
     "execution_count": 113,
     "metadata": {},
     "output_type": "execute_result"
    }
   ],
   "source": [
    "gdfv.shape"
   ]
  },
  {
   "cell_type": "code",
   "execution_count": 114,
   "metadata": {},
   "outputs": [
    {
     "data": {
      "text/plain": [
       "4686"
      ]
     },
     "execution_count": 114,
     "metadata": {},
     "output_type": "execute_result"
    }
   ],
   "source": [
    "(gdfv['VTD2016'].str.slice(stop = -5) + gdfv['VTD2016'].str.slice(start = -3)).nunique()"
   ]
  },
  {
   "cell_type": "markdown",
   "metadata": {},
   "source": [
    "### Observe better match rate with ward removed from unique identifier. Explore more about the unique ids:"
   ]
  },
  {
   "cell_type": "code",
   "execution_count": 115,
   "metadata": {},
   "outputs": [
    {
     "data": {
      "text/plain": [
       "52"
      ]
     },
     "execution_count": 115,
     "metadata": {},
     "output_type": "execute_result"
    }
   ],
   "source": [
    "len(set(gdfv['VTD2016'].str.slice(stop = -5) + gdfv['VTD2016'].str.slice(start = -3)) - set(df_pivot['county_fips'] + df_pivot['jurisd'].astype(str).str.zfill(5) + df_pivot['precinct_number'].astype(str).str.zfill(3)))"
   ]
  },
  {
   "cell_type": "code",
   "execution_count": 116,
   "metadata": {},
   "outputs": [
    {
     "data": {
      "text/plain": [
       "0       001\n",
       "1       002\n",
       "2       003\n",
       "3       004\n",
       "4       005\n",
       "       ... \n",
       "4805    005\n",
       "4806    001\n",
       "4807    002\n",
       "4808    004\n",
       "4809    062\n",
       "Name: VTD2016, Length: 4765, dtype: object"
      ]
     },
     "execution_count": 116,
     "metadata": {},
     "output_type": "execute_result"
    }
   ],
   "source": [
    "(gdfv['VTD2016'].str.slice(start = -3)[(gdfv['VTD2016'].str.slice(start = -1)!='N')&(gdfv['VTD2016'].str.slice(start = -1)!='S')&(gdfv['VTD2016'].str.slice(start = -1)!='W')&(gdfv['VTD2016'].str.slice(start = -1)!='A')&(gdfv['VTD2016'].str.slice(start = -1)!='B')])"
   ]
  },
  {
   "cell_type": "code",
   "execution_count": 118,
   "metadata": {},
   "outputs": [
    {
     "data": {
      "text/plain": [
       "316"
      ]
     },
     "execution_count": 118,
     "metadata": {},
     "output_type": "execute_result"
    }
   ],
   "source": [
    "len(set(df_pivot['county_fips'] + df_pivot['jurisd'].astype(str).str.zfill(5) + df_pivot['precinct_number'].astype(str).str.zfill(3)) - set(gdfv['VTD2016'].str.slice(stop = 8) + gdfv['VTD2016'].str.slice(start = 10)))"
   ]
  },
  {
   "cell_type": "code",
   "execution_count": 121,
   "metadata": {},
   "outputs": [
    {
     "data": {
      "text/plain": [
       "         4819\n",
       "AVCB      210\n",
       "A          29\n",
       "B          13\n",
       "C           2\n",
       "22L         1\n",
       "23          1\n",
       "S           1\n",
       "W           1\n",
       "Name: precinct_label, dtype: int64"
      ]
     },
     "execution_count": 121,
     "metadata": {},
     "output_type": "execute_result"
    }
   ],
   "source": [
    "df_pivot['precinct_label'].value_counts()"
   ]
  },
  {
   "cell_type": "markdown",
   "metadata": {},
   "source": [
    "See from sample id that taking ward out, `VTD2016` does in fact rely on the ward # to make the id unique"
   ]
  },
  {
   "cell_type": "code",
   "execution_count": 122,
   "metadata": {},
   "outputs": [
    {
     "data": {
      "text/plain": [
       "00    3705\n",
       "01     236\n",
       "02     229\n",
       "03     196\n",
       "04     148\n",
       "05     129\n",
       "06      77\n",
       "07      76\n",
       "08       7\n",
       "09       6\n",
       "10       1\n",
       "Name: VTD2016, dtype: int64"
      ]
     },
     "execution_count": 122,
     "metadata": {},
     "output_type": "execute_result"
    }
   ],
   "source": [
    "(gdfv['VTD2016'].str.slice(start = -5, stop = -3).value_counts())"
   ]
  },
  {
   "cell_type": "code",
   "execution_count": 124,
   "metadata": {},
   "outputs": [
    {
     "data": {
      "text/html": [
       "<div>\n",
       "<style scoped>\n",
       "    .dataframe tbody tr th:only-of-type {\n",
       "        vertical-align: middle;\n",
       "    }\n",
       "\n",
       "    .dataframe tbody tr th {\n",
       "        vertical-align: top;\n",
       "    }\n",
       "\n",
       "    .dataframe thead th {\n",
       "        text-align: right;\n",
       "    }\n",
       "</style>\n",
       "<table border=\"1\" class=\"dataframe\">\n",
       "  <thead>\n",
       "    <tr style=\"text-align: right;\">\n",
       "      <th></th>\n",
       "      <th>VTD2016</th>\n",
       "      <th>Label</th>\n",
       "      <th>G16PREDCli</th>\n",
       "      <th>G16PRERTru</th>\n",
       "      <th>G16PREGSte</th>\n",
       "      <th>G16PRELJoh</th>\n",
       "      <th>G16PREOth</th>\n",
       "      <th>geometry</th>\n",
       "    </tr>\n",
       "  </thead>\n",
       "  <tbody>\n",
       "    <tr>\n",
       "      <th>52</th>\n",
       "      <td>0013686001001</td>\n",
       "      <td>City of Harrisville</td>\n",
       "      <td>98</td>\n",
       "      <td>137</td>\n",
       "      <td>4</td>\n",
       "      <td>16</td>\n",
       "      <td>1</td>\n",
       "      <td>POLYGON ((-83.28591 44.66340, -83.28597 44.663...</td>\n",
       "    </tr>\n",
       "    <tr>\n",
       "      <th>86</th>\n",
       "      <td>0053864004009</td>\n",
       "      <td>City of Holland</td>\n",
       "      <td>370</td>\n",
       "      <td>473</td>\n",
       "      <td>18</td>\n",
       "      <td>23</td>\n",
       "      <td>18</td>\n",
       "      <td>MULTIPOLYGON (((-86.11679 42.76846, -86.11685 ...</td>\n",
       "    </tr>\n",
       "    <tr>\n",
       "      <th>87</th>\n",
       "      <td>0053864005011</td>\n",
       "      <td>City of Holland</td>\n",
       "      <td>316</td>\n",
       "      <td>445</td>\n",
       "      <td>12</td>\n",
       "      <td>37</td>\n",
       "      <td>13</td>\n",
       "      <td>POLYGON ((-86.11642 42.73979, -86.11671 42.740...</td>\n",
       "    </tr>\n",
       "    <tr>\n",
       "      <th>88</th>\n",
       "      <td>0053864005012</td>\n",
       "      <td>City of Holland</td>\n",
       "      <td>312</td>\n",
       "      <td>583</td>\n",
       "      <td>10</td>\n",
       "      <td>44</td>\n",
       "      <td>13</td>\n",
       "      <td>POLYGON ((-86.09708 42.76190, -86.09982 42.761...</td>\n",
       "    </tr>\n",
       "    <tr>\n",
       "      <th>89</th>\n",
       "      <td>0053864005013</td>\n",
       "      <td>City of Holland</td>\n",
       "      <td>335</td>\n",
       "      <td>430</td>\n",
       "      <td>4</td>\n",
       "      <td>43</td>\n",
       "      <td>8</td>\n",
       "      <td>POLYGON ((-86.10671 42.75788, -86.10668 42.756...</td>\n",
       "    </tr>\n",
       "    <tr>\n",
       "      <th>...</th>\n",
       "      <td>...</td>\n",
       "      <td>...</td>\n",
       "      <td>...</td>\n",
       "      <td>...</td>\n",
       "      <td>...</td>\n",
       "      <td>...</td>\n",
       "      <td>...</td>\n",
       "      <td>...</td>\n",
       "    </tr>\n",
       "    <tr>\n",
       "      <th>4591</th>\n",
       "      <td>1256903504028</td>\n",
       "      <td>City of Rochester Hills</td>\n",
       "      <td>754</td>\n",
       "      <td>457</td>\n",
       "      <td>15</td>\n",
       "      <td>34</td>\n",
       "      <td>4</td>\n",
       "      <td>POLYGON ((-83.11227 42.64859, -83.11221 42.647...</td>\n",
       "    </tr>\n",
       "    <tr>\n",
       "      <th>4592</th>\n",
       "      <td>1256903504030</td>\n",
       "      <td>City of Rochester Hills</td>\n",
       "      <td>792</td>\n",
       "      <td>690</td>\n",
       "      <td>15</td>\n",
       "      <td>82</td>\n",
       "      <td>7</td>\n",
       "      <td>POLYGON ((-83.14838 42.67416, -83.14839 42.673...</td>\n",
       "    </tr>\n",
       "    <tr>\n",
       "      <th>4785</th>\n",
       "      <td>0513232002002</td>\n",
       "      <td>City of Gladwin</td>\n",
       "      <td>85</td>\n",
       "      <td>211</td>\n",
       "      <td>3</td>\n",
       "      <td>11</td>\n",
       "      <td>1</td>\n",
       "      <td>POLYGON ((-84.46560 43.98729, -84.46563 43.983...</td>\n",
       "    </tr>\n",
       "    <tr>\n",
       "      <th>4786</th>\n",
       "      <td>0513232004001</td>\n",
       "      <td>City of Gladwin</td>\n",
       "      <td>105</td>\n",
       "      <td>200</td>\n",
       "      <td>6</td>\n",
       "      <td>19</td>\n",
       "      <td>3</td>\n",
       "      <td>POLYGON ((-84.49044 43.98349, -84.49047 43.982...</td>\n",
       "    </tr>\n",
       "    <tr>\n",
       "      <th>4809</th>\n",
       "      <td>0492900005062</td>\n",
       "      <td>City of Flint</td>\n",
       "      <td>0</td>\n",
       "      <td>0</td>\n",
       "      <td>0</td>\n",
       "      <td>0</td>\n",
       "      <td>0</td>\n",
       "      <td>POLYGON ((-83.69861 43.01357, -83.70181 43.012...</td>\n",
       "    </tr>\n",
       "  </tbody>\n",
       "</table>\n",
       "<p>1105 rows × 8 columns</p>\n",
       "</div>"
      ],
      "text/plain": [
       "            VTD2016                    Label  G16PREDCli  G16PRERTru  \\\n",
       "52    0013686001001      City of Harrisville          98         137   \n",
       "86    0053864004009          City of Holland         370         473   \n",
       "87    0053864005011          City of Holland         316         445   \n",
       "88    0053864005012          City of Holland         312         583   \n",
       "89    0053864005013          City of Holland         335         430   \n",
       "...             ...                      ...         ...         ...   \n",
       "4591  1256903504028  City of Rochester Hills         754         457   \n",
       "4592  1256903504030  City of Rochester Hills         792         690   \n",
       "4785  0513232002002          City of Gladwin          85         211   \n",
       "4786  0513232004001          City of Gladwin         105         200   \n",
       "4809  0492900005062            City of Flint           0           0   \n",
       "\n",
       "      G16PREGSte  G16PRELJoh  G16PREOth  \\\n",
       "52             4          16          1   \n",
       "86            18          23         18   \n",
       "87            12          37         13   \n",
       "88            10          44         13   \n",
       "89             4          43          8   \n",
       "...          ...         ...        ...   \n",
       "4591          15          34          4   \n",
       "4592          15          82          7   \n",
       "4785           3          11          1   \n",
       "4786           6          19          3   \n",
       "4809           0           0          0   \n",
       "\n",
       "                                               geometry  \n",
       "52    POLYGON ((-83.28591 44.66340, -83.28597 44.663...  \n",
       "86    MULTIPOLYGON (((-86.11679 42.76846, -86.11685 ...  \n",
       "87    POLYGON ((-86.11642 42.73979, -86.11671 42.740...  \n",
       "88    POLYGON ((-86.09708 42.76190, -86.09982 42.761...  \n",
       "89    POLYGON ((-86.10671 42.75788, -86.10668 42.756...  \n",
       "...                                                 ...  \n",
       "4591  POLYGON ((-83.11227 42.64859, -83.11221 42.647...  \n",
       "4592  POLYGON ((-83.14838 42.67416, -83.14839 42.673...  \n",
       "4785  POLYGON ((-84.46560 43.98729, -84.46563 43.983...  \n",
       "4786  POLYGON ((-84.49044 43.98349, -84.49047 43.982...  \n",
       "4809  POLYGON ((-83.69861 43.01357, -83.70181 43.012...  \n",
       "\n",
       "[1105 rows x 8 columns]"
      ]
     },
     "execution_count": 124,
     "metadata": {},
     "output_type": "execute_result"
    }
   ],
   "source": [
    "gdfv[gdfv['VTD2016'].str.slice(start = -5, stop = -3) != '00']"
   ]
  },
  {
   "cell_type": "code",
   "execution_count": 125,
   "metadata": {},
   "outputs": [
    {
     "data": {
      "text/html": [
       "<div>\n",
       "<style scoped>\n",
       "    .dataframe tbody tr th:only-of-type {\n",
       "        vertical-align: middle;\n",
       "    }\n",
       "\n",
       "    .dataframe tbody tr th {\n",
       "        vertical-align: top;\n",
       "    }\n",
       "\n",
       "    .dataframe thead th {\n",
       "        text-align: right;\n",
       "    }\n",
       "</style>\n",
       "<table border=\"1\" class=\"dataframe\">\n",
       "  <thead>\n",
       "    <tr style=\"text-align: right;\">\n",
       "      <th></th>\n",
       "      <th>OBJECTID</th>\n",
       "      <th>Id</th>\n",
       "      <th>VTD2016</th>\n",
       "      <th>CountyFips</th>\n",
       "      <th>Jurisdicti</th>\n",
       "      <th>ElectionYe</th>\n",
       "      <th>Label</th>\n",
       "      <th>ShapeSTAre</th>\n",
       "      <th>ShapeSTLen</th>\n",
       "      <th>geometry</th>\n",
       "    </tr>\n",
       "  </thead>\n",
       "  <tbody>\n",
       "    <tr>\n",
       "      <th>890</th>\n",
       "      <td>891</td>\n",
       "      <td>857</td>\n",
       "      <td>0513234000001</td>\n",
       "      <td>051</td>\n",
       "      <td>32340</td>\n",
       "      <td>2016</td>\n",
       "      <td>Gladwin Township</td>\n",
       "      <td>1.768864e+08</td>\n",
       "      <td>53416.626835</td>\n",
       "      <td>POLYGON ((-84.36644 43.99628, -84.36634 43.993...</td>\n",
       "    </tr>\n",
       "    <tr>\n",
       "      <th>1302</th>\n",
       "      <td>1303</td>\n",
       "      <td>855</td>\n",
       "      <td>0513232003002</td>\n",
       "      <td>051</td>\n",
       "      <td>32320</td>\n",
       "      <td>2016</td>\n",
       "      <td>City of Gladwin</td>\n",
       "      <td>3.896614e+06</td>\n",
       "      <td>9267.910169</td>\n",
       "      <td>POLYGON ((-84.46563 43.98223, -84.46564 43.981...</td>\n",
       "    </tr>\n",
       "    <tr>\n",
       "      <th>1303</th>\n",
       "      <td>1304</td>\n",
       "      <td>856</td>\n",
       "      <td>0513232001001</td>\n",
       "      <td>051</td>\n",
       "      <td>32320</td>\n",
       "      <td>2016</td>\n",
       "      <td>City of Gladwin</td>\n",
       "      <td>3.528721e+06</td>\n",
       "      <td>9301.953039</td>\n",
       "      <td>POLYGON ((-84.48592 43.99476, -84.48591 43.994...</td>\n",
       "    </tr>\n",
       "    <tr>\n",
       "      <th>4786</th>\n",
       "      <td>4787</td>\n",
       "      <td>855</td>\n",
       "      <td>0513232002002</td>\n",
       "      <td>051</td>\n",
       "      <td>32320</td>\n",
       "      <td>2016</td>\n",
       "      <td>City of Gladwin</td>\n",
       "      <td>3.688435e+06</td>\n",
       "      <td>9556.320737</td>\n",
       "      <td>POLYGON ((-84.46560 43.98728, -84.46563 43.983...</td>\n",
       "    </tr>\n",
       "    <tr>\n",
       "      <th>4787</th>\n",
       "      <td>4788</td>\n",
       "      <td>856</td>\n",
       "      <td>0513232004001</td>\n",
       "      <td>051</td>\n",
       "      <td>32320</td>\n",
       "      <td>2016</td>\n",
       "      <td>City of Gladwin</td>\n",
       "      <td>3.470255e+06</td>\n",
       "      <td>11372.586201</td>\n",
       "      <td>POLYGON ((-84.49044 43.98348, -84.49046 43.982...</td>\n",
       "    </tr>\n",
       "  </tbody>\n",
       "</table>\n",
       "</div>"
      ],
      "text/plain": [
       "      OBJECTID   Id        VTD2016 CountyFips Jurisdicti  ElectionYe  \\\n",
       "890        891  857  0513234000001        051      32340        2016   \n",
       "1302      1303  855  0513232003002        051      32320        2016   \n",
       "1303      1304  856  0513232001001        051      32320        2016   \n",
       "4786      4787  855  0513232002002        051      32320        2016   \n",
       "4787      4788  856  0513232004001        051      32320        2016   \n",
       "\n",
       "                 Label    ShapeSTAre    ShapeSTLen  \\\n",
       "890   Gladwin Township  1.768864e+08  53416.626835   \n",
       "1302   City of Gladwin  3.896614e+06   9267.910169   \n",
       "1303   City of Gladwin  3.528721e+06   9301.953039   \n",
       "4786   City of Gladwin  3.688435e+06   9556.320737   \n",
       "4787   City of Gladwin  3.470255e+06  11372.586201   \n",
       "\n",
       "                                               geometry  \n",
       "890   POLYGON ((-84.36644 43.99628, -84.36634 43.993...  \n",
       "1302  POLYGON ((-84.46563 43.98223, -84.46564 43.981...  \n",
       "1303  POLYGON ((-84.48592 43.99476, -84.48591 43.994...  \n",
       "4786  POLYGON ((-84.46560 43.98728, -84.46563 43.983...  \n",
       "4787  POLYGON ((-84.49044 43.98348, -84.49046 43.982...  "
      ]
     },
     "execution_count": 125,
     "metadata": {},
     "output_type": "execute_result"
    }
   ],
   "source": [
    "shp[shp['Label'].str.contains('Gladwin')]"
   ]
  },
  {
   "cell_type": "code",
   "execution_count": 126,
   "metadata": {},
   "outputs": [
    {
     "data": {
      "text/html": [
       "<div>\n",
       "<style scoped>\n",
       "    .dataframe tbody tr th:only-of-type {\n",
       "        vertical-align: middle;\n",
       "    }\n",
       "\n",
       "    .dataframe tbody tr th {\n",
       "        vertical-align: top;\n",
       "    }\n",
       "\n",
       "    .dataframe thead th {\n",
       "        text-align: right;\n",
       "    }\n",
       "</style>\n",
       "<table border=\"1\" class=\"dataframe\">\n",
       "  <thead>\n",
       "    <tr style=\"text-align: right;\">\n",
       "      <th></th>\n",
       "      <th>Summary Level</th>\n",
       "      <th>State Code (FIPS)</th>\n",
       "      <th>County Code (FIPS)</th>\n",
       "      <th>County Subdivision Code (FIPS)</th>\n",
       "      <th>Place Code (FIPS)</th>\n",
       "      <th>Consolidtated City Code (FIPS)</th>\n",
       "      <th>Area Name (including legal/statistical area description)</th>\n",
       "      <th>city_town_name</th>\n",
       "      <th>county_city_id</th>\n",
       "    </tr>\n",
       "  </thead>\n",
       "  <tbody>\n",
       "    <tr>\n",
       "      <th>14338</th>\n",
       "      <td>61</td>\n",
       "      <td>26</td>\n",
       "      <td>51</td>\n",
       "      <td>32320</td>\n",
       "      <td>0</td>\n",
       "      <td>0</td>\n",
       "      <td>Gladwin city</td>\n",
       "      <td>GLADWIN CITY</td>\n",
       "      <td>051GLADWIN CITY</td>\n",
       "    </tr>\n",
       "    <tr>\n",
       "      <th>14339</th>\n",
       "      <td>61</td>\n",
       "      <td>26</td>\n",
       "      <td>51</td>\n",
       "      <td>32340</td>\n",
       "      <td>0</td>\n",
       "      <td>0</td>\n",
       "      <td>Gladwin township</td>\n",
       "      <td>GLADWIN TOWNSHIP</td>\n",
       "      <td>051GLADWIN TOWNSHIP</td>\n",
       "    </tr>\n",
       "  </tbody>\n",
       "</table>\n",
       "</div>"
      ],
      "text/plain": [
       "       Summary Level  State Code (FIPS)  County Code (FIPS)  \\\n",
       "14338             61                 26                  51   \n",
       "14339             61                 26                  51   \n",
       "\n",
       "       County Subdivision Code (FIPS)  Place Code (FIPS)  \\\n",
       "14338                           32320                  0   \n",
       "14339                           32340                  0   \n",
       "\n",
       "       Consolidtated City Code (FIPS)  \\\n",
       "14338                               0   \n",
       "14339                               0   \n",
       "\n",
       "      Area Name (including legal/statistical area description)  \\\n",
       "14338                                       Gladwin city         \n",
       "14339                                   Gladwin township         \n",
       "\n",
       "         city_town_name       county_city_id  \n",
       "14338      GLADWIN CITY      051GLADWIN CITY  \n",
       "14339  GLADWIN TOWNSHIP  051GLADWIN TOWNSHIP  "
      ]
     },
     "execution_count": 126,
     "metadata": {},
     "output_type": "execute_result"
    }
   ],
   "source": [
    "censusmi[censusmi['Area Name (including legal/statistical area description)'].str.contains('Gladwin')]"
   ]
  },
  {
   "cell_type": "code",
   "execution_count": 127,
   "metadata": {},
   "outputs": [
    {
     "data": {
      "text/html": [
       "<div>\n",
       "<style scoped>\n",
       "    .dataframe tbody tr th:only-of-type {\n",
       "        vertical-align: middle;\n",
       "    }\n",
       "\n",
       "    .dataframe tbody tr th {\n",
       "        vertical-align: top;\n",
       "    }\n",
       "\n",
       "    .dataframe thead th {\n",
       "        text-align: right;\n",
       "    }\n",
       "</style>\n",
       "<table border=\"1\" class=\"dataframe\">\n",
       "  <thead>\n",
       "    <tr style=\"text-align: right;\">\n",
       "      <th></th>\n",
       "      <th>Summary Level</th>\n",
       "      <th>State Code (FIPS)</th>\n",
       "      <th>County Code (FIPS)</th>\n",
       "      <th>County Subdivision Code (FIPS)</th>\n",
       "      <th>Place Code (FIPS)</th>\n",
       "      <th>Consolidtated City Code (FIPS)</th>\n",
       "      <th>Area Name (including legal/statistical area description)</th>\n",
       "    </tr>\n",
       "  </thead>\n",
       "  <tbody>\n",
       "    <tr>\n",
       "      <th>13841</th>\n",
       "      <td>50</td>\n",
       "      <td>26</td>\n",
       "      <td>51</td>\n",
       "      <td>0</td>\n",
       "      <td>0</td>\n",
       "      <td>0</td>\n",
       "      <td>Gladwin County</td>\n",
       "    </tr>\n",
       "    <tr>\n",
       "      <th>14338</th>\n",
       "      <td>61</td>\n",
       "      <td>26</td>\n",
       "      <td>51</td>\n",
       "      <td>32320</td>\n",
       "      <td>0</td>\n",
       "      <td>0</td>\n",
       "      <td>Gladwin city</td>\n",
       "    </tr>\n",
       "    <tr>\n",
       "      <th>14339</th>\n",
       "      <td>61</td>\n",
       "      <td>26</td>\n",
       "      <td>51</td>\n",
       "      <td>32340</td>\n",
       "      <td>0</td>\n",
       "      <td>0</td>\n",
       "      <td>Gladwin township</td>\n",
       "    </tr>\n",
       "    <tr>\n",
       "      <th>15631</th>\n",
       "      <td>162</td>\n",
       "      <td>26</td>\n",
       "      <td>0</td>\n",
       "      <td>0</td>\n",
       "      <td>32320</td>\n",
       "      <td>0</td>\n",
       "      <td>Gladwin city</td>\n",
       "    </tr>\n",
       "  </tbody>\n",
       "</table>\n",
       "</div>"
      ],
      "text/plain": [
       "       Summary Level  State Code (FIPS)  County Code (FIPS)  \\\n",
       "13841             50                 26                  51   \n",
       "14338             61                 26                  51   \n",
       "14339             61                 26                  51   \n",
       "15631            162                 26                   0   \n",
       "\n",
       "       County Subdivision Code (FIPS)  Place Code (FIPS)  \\\n",
       "13841                               0                  0   \n",
       "14338                           32320                  0   \n",
       "14339                           32340                  0   \n",
       "15631                               0              32320   \n",
       "\n",
       "       Consolidtated City Code (FIPS)  \\\n",
       "13841                               0   \n",
       "14338                               0   \n",
       "14339                               0   \n",
       "15631                               0   \n",
       "\n",
       "      Area Name (including legal/statistical area description)  \n",
       "13841                                     Gladwin County        \n",
       "14338                                       Gladwin city        \n",
       "14339                                   Gladwin township        \n",
       "15631                                       Gladwin city        "
      ]
     },
     "execution_count": 127,
     "metadata": {},
     "output_type": "execute_result"
    }
   ],
   "source": [
    "census[(census['State Code (FIPS)'] == 26) & census['Area Name (including legal/statistical area description)'].str.contains('Gladwin')]"
   ]
  },
  {
   "cell_type": "markdown",
   "metadata": {},
   "source": [
    "Confirm, ward not in `census` file either...\n",
    "\n",
    "Found `ward` got lost early on in df, add back in and re run script"
   ]
  },
  {
   "cell_type": "code",
   "execution_count": 128,
   "metadata": {},
   "outputs": [],
   "source": [
    "df_pivot['VTD2016_draft'] = df_pivot['county_fips'] + df_pivot['jurisd'].astype(str).str.zfill(5) + df_pivot['ward_number'].astype(str).str.zfill(2) + df_pivot['precinct_number'].astype(str).str.zfill(3)+df_pivot['precinct_label'].str.strip()"
   ]
  },
  {
   "cell_type": "code",
   "execution_count": 129,
   "metadata": {},
   "outputs": [
    {
     "data": {
      "text/html": [
       "<div>\n",
       "<style scoped>\n",
       "    .dataframe tbody tr th:only-of-type {\n",
       "        vertical-align: middle;\n",
       "    }\n",
       "\n",
       "    .dataframe tbody tr th {\n",
       "        vertical-align: top;\n",
       "    }\n",
       "\n",
       "    .dataframe thead th {\n",
       "        text-align: right;\n",
       "    }\n",
       "</style>\n",
       "<table border=\"1\" class=\"dataframe\">\n",
       "  <thead>\n",
       "    <tr style=\"text-align: right;\">\n",
       "      <th></th>\n",
       "      <th>candidate_id</th>\n",
       "      <th>county_code</th>\n",
       "      <th>city_town_code</th>\n",
       "      <th>ward_number</th>\n",
       "      <th>precinct_number</th>\n",
       "      <th>precinct_label</th>\n",
       "      <th>G16PREGSte</th>\n",
       "      <th>G16PREDCli</th>\n",
       "      <th>G16PRERTru</th>\n",
       "      <th>G16PRELJoh</th>\n",
       "      <th>G16PREOth</th>\n",
       "      <th>county_name</th>\n",
       "      <th>county_fips</th>\n",
       "      <th>city_town_name</th>\n",
       "      <th>county_city_id</th>\n",
       "      <th>jurisd</th>\n",
       "      <th>VTD2016_draft</th>\n",
       "    </tr>\n",
       "  </thead>\n",
       "  <tbody>\n",
       "    <tr>\n",
       "      <th>0</th>\n",
       "      <td>0</td>\n",
       "      <td>1</td>\n",
       "      <td>2</td>\n",
       "      <td>0</td>\n",
       "      <td>1</td>\n",
       "      <td></td>\n",
       "      <td>2</td>\n",
       "      <td>199</td>\n",
       "      <td>500</td>\n",
       "      <td>13</td>\n",
       "      <td>4</td>\n",
       "      <td>ALCONA</td>\n",
       "      <td>001</td>\n",
       "      <td>ALCONA TOWNSHIP</td>\n",
       "      <td>001ALCONA TOWNSHIP</td>\n",
       "      <td>1040</td>\n",
       "      <td>0010104000001</td>\n",
       "    </tr>\n",
       "  </tbody>\n",
       "</table>\n",
       "</div>"
      ],
      "text/plain": [
       "   candidate_id  county_code  city_town_code  ward_number  precinct_number  \\\n",
       "0             0            1               2            0                1   \n",
       "\n",
       "  precinct_label  G16PREGSte  G16PREDCli  G16PRERTru  G16PRELJoh  G16PREOth  \\\n",
       "0                          2         199         500          13          4   \n",
       "\n",
       "  county_name county_fips   city_town_name      county_city_id  jurisd  \\\n",
       "0      ALCONA         001  ALCONA TOWNSHIP  001ALCONA TOWNSHIP    1040   \n",
       "\n",
       "   VTD2016_draft  \n",
       "0  0010104000001  "
      ]
     },
     "execution_count": 129,
     "metadata": {},
     "output_type": "execute_result"
    }
   ],
   "source": [
    "df_pivot.head(1)"
   ]
  },
  {
   "cell_type": "code",
   "execution_count": 130,
   "metadata": {},
   "outputs": [
    {
     "data": {
      "text/plain": [
       "566"
      ]
     },
     "execution_count": 130,
     "metadata": {},
     "output_type": "execute_result"
    }
   ],
   "source": [
    "len(set(shp.VTD2016) - set(df_pivot.VTD2016_draft))"
   ]
  },
  {
   "cell_type": "code",
   "execution_count": 131,
   "metadata": {},
   "outputs": [
    {
     "data": {
      "text/plain": [
       "833"
      ]
     },
     "execution_count": 131,
     "metadata": {},
     "output_type": "execute_result"
    }
   ],
   "source": [
    "len(set(df_pivot.VTD2016_draft) - set(shp.VTD2016))"
   ]
  },
  {
   "cell_type": "code",
   "execution_count": 132,
   "metadata": {},
   "outputs": [
    {
     "data": {
      "text/plain": [
       "0    4503\n",
       "1     179\n",
       "2     130\n",
       "3     110\n",
       "4      64\n",
       "5      49\n",
       "6      19\n",
       "7      10\n",
       "8       7\n",
       "9       6\n",
       "Name: ward_number, dtype: int64"
      ]
     },
     "execution_count": 132,
     "metadata": {},
     "output_type": "execute_result"
    }
   ],
   "source": [
    "df_pivot['ward_number'].value_counts()"
   ]
  },
  {
   "cell_type": "code",
   "execution_count": 133,
   "metadata": {},
   "outputs": [
    {
     "data": {
      "text/plain": [
       "00    3705\n",
       "01     236\n",
       "02     229\n",
       "03     196\n",
       "04     148\n",
       "05     129\n",
       "06      77\n",
       "07      76\n",
       "08       7\n",
       "09       6\n",
       "10       1\n",
       "Name: VTD2016, dtype: int64"
      ]
     },
     "execution_count": 133,
     "metadata": {},
     "output_type": "execute_result"
    }
   ],
   "source": [
    "gdfv['VTD2016'].str.slice(start = -5, stop = -3).value_counts()"
   ]
  },
  {
   "cell_type": "code",
   "execution_count": 134,
   "metadata": {},
   "outputs": [
    {
     "data": {
      "text/plain": [
       "530"
      ]
     },
     "execution_count": 134,
     "metadata": {},
     "output_type": "execute_result"
    }
   ],
   "source": [
    "(236-179)+ (229-130)+(196 - 110)+(148-64) + (129-49) + (77-19)+(76-10)\n",
    "#See that half of mismatch can likely be attributed to ward mismatch"
   ]
  },
  {
   "cell_type": "code",
   "execution_count": 135,
   "metadata": {},
   "outputs": [
    {
     "data": {
      "text/plain": [
       "623"
      ]
     },
     "execution_count": 135,
     "metadata": {},
     "output_type": "execute_result"
    }
   ],
   "source": [
    "len(set(df_pivot['VTD2016_draft'][df_pivot['VTD2016_draft'].str.slice(start = -4)!='AVCB']) - set(shp.VTD2016))"
   ]
  },
  {
   "cell_type": "code",
   "execution_count": 136,
   "metadata": {},
   "outputs": [
    {
     "data": {
      "text/plain": [
       "34"
      ]
     },
     "execution_count": 136,
     "metadata": {},
     "output_type": "execute_result"
    }
   ],
   "source": [
    "len(set(df_pivot['VTD2016_draft'][df_pivot['ward_number']!=0]) - set(shp.VTD2016))"
   ]
  },
  {
   "cell_type": "code",
   "execution_count": 137,
   "metadata": {},
   "outputs": [
    {
     "data": {
      "text/plain": [
       "574"
      ]
     },
     "execution_count": 137,
     "metadata": {},
     "output_type": "execute_result"
    }
   ],
   "source": [
    "len(set(df_pivot['VTD2016_draft'][df_pivot['ward_number']!=0]))"
   ]
  },
  {
   "cell_type": "markdown",
   "metadata": {},
   "source": [
    "Same problem encountered with wards in 2018 - some 1s should be 01, one should be 10 and some 00 should be distributed/are missed...\n",
    "\n",
    "From `readme.txt`, see that `ward` field is 00 if \"not applicable\"...\n",
    "\n",
    "See from removing AVCBs that match rate improves without - need to fix using csv from brian\n",
    "TODO:\n",
    "- modify AVCB as needed\n",
    "- modify ward"
   ]
  },
  {
   "cell_type": "code",
   "execution_count": 138,
   "metadata": {},
   "outputs": [
    {
     "data": {
      "text/plain": [
       "380      0276090000901AVCB\n",
       "386      0277394000901AVCB\n",
       "494      0372412000901AVCB\n",
       "865      0511218000901AVCB\n",
       "1729     0874606000901AVCB\n",
       "               ...        \n",
       "4763    16322000001068AVCB\n",
       "4764    16322000001069AVCB\n",
       "4765    16322000001070AVCB\n",
       "4766    16322000001071AVCB\n",
       "4767    16322000001072AVCB\n",
       "Name: VTD2016_draft, Length: 210, dtype: object"
      ]
     },
     "execution_count": 138,
     "metadata": {},
     "output_type": "execute_result"
    }
   ],
   "source": [
    "df_pivot['VTD2016_draft'][df_pivot['VTD2016_draft'].str.slice(start = -4)=='AVCB']"
   ]
  },
  {
   "cell_type": "code",
   "execution_count": 139,
   "metadata": {},
   "outputs": [
    {
     "data": {
      "text/plain": [
       "5077"
      ]
     },
     "execution_count": 139,
     "metadata": {},
     "output_type": "execute_result"
    }
   ],
   "source": [
    "df_pivot.VTD2016_draft.nunique()"
   ]
  },
  {
   "cell_type": "code",
   "execution_count": 140,
   "metadata": {},
   "outputs": [
    {
     "data": {
      "text/plain": [
       "4742"
      ]
     },
     "execution_count": 140,
     "metadata": {},
     "output_type": "execute_result"
    }
   ],
   "source": [
    "#nunique without ward # df\n",
    "(df_pivot['VTD2016_draft'][df_pivot['VTD2016_draft'].str.slice(start = -4)!='AVCB'].str.slice(stop=-5)+df_pivot['precinct_number'].astype(str).str.zfill(3)).nunique()"
   ]
  },
  {
   "cell_type": "code",
   "execution_count": 141,
   "metadata": {},
   "outputs": [
    {
     "data": {
      "text/plain": [
       "4686"
      ]
     },
     "execution_count": 141,
     "metadata": {},
     "output_type": "execute_result"
    }
   ],
   "source": [
    "#nunique without ward # shp\n",
    "(gdfv.VTD2016.str.slice(stop=-5)+gdfv.VTD2016.str.slice(start=-3)).nunique()"
   ]
  },
  {
   "cell_type": "markdown",
   "metadata": {},
   "source": [
    "**try to join on unique id that are unique without the ward number**\n",
    "join on join column that are unique without the ward numbers"
   ]
  },
  {
   "cell_type": "code",
   "execution_count": 142,
   "metadata": {},
   "outputs": [],
   "source": [
    "#trying to join\n",
    "gdfv['join_tst1'] = (gdfv.VTD2016.str.slice(stop=-5)+gdfv.VTD2016.str.slice(start=-3))"
   ]
  },
  {
   "cell_type": "code",
   "execution_count": 143,
   "metadata": {},
   "outputs": [],
   "source": [
    "df_pivot['join_tst1'] = (df_pivot['VTD2016_draft'][df_pivot['VTD2016_draft'].str.slice(start = -4)!='AVCB'].str.slice(stop=-5)+df_pivot['precinct_number'].astype(str).str.zfill(3))"
   ]
  },
  {
   "cell_type": "code",
   "execution_count": 144,
   "metadata": {},
   "outputs": [],
   "source": [
    "tst_gdfv_value_counts = gdfv['join_tst1'].value_counts()\n",
    "gdfv_tst1_double = tst_gdfv_value_counts[tst_gdfv_value_counts > 1].index\n",
    "tst_df_value_counts = df_pivot['join_tst1'].value_counts()\n",
    "df_tst1_double = tst_df_value_counts[tst_df_value_counts > 1].index"
   ]
  },
  {
   "cell_type": "code",
   "execution_count": 145,
   "metadata": {},
   "outputs": [
    {
     "data": {
      "text/plain": [
       "{'02107520001',\n",
       " '04340960002',\n",
       " '04763820001',\n",
       " '05132320001',\n",
       " '05132320002',\n",
       " '06740860001',\n",
       " '13731720001'}"
      ]
     },
     "execution_count": 145,
     "metadata": {},
     "output_type": "execute_result"
    }
   ],
   "source": [
    "set(gdfv_tst1_double) - set(df_tst1_double)"
   ]
  },
  {
   "cell_type": "code",
   "execution_count": 146,
   "metadata": {},
   "outputs": [
    {
     "data": {
      "text/plain": [
       "{'163490000001',\n",
       " '163490000003',\n",
       " '163490000008',\n",
       " '163490000016',\n",
       " '163490000017',\n",
       " '163490000019',\n",
       " '163490000022',\n",
       " '163490000023',\n",
       " '163490000024',\n",
       " '163490000031',\n",
       " '163490000034',\n",
       " '163490000035',\n",
       " '163490000036'}"
      ]
     },
     "execution_count": 146,
     "metadata": {},
     "output_type": "execute_result"
    }
   ],
   "source": [
    "set(df_tst1_double) - set(gdfv_tst1_double)"
   ]
  },
  {
   "cell_type": "markdown",
   "metadata": {},
   "source": [
    "Question is, why does the precinct shapefile wards not match the precinct election results\n",
    "- say how many confirm what\n",
    "- say that vest doesnt say how they did it\n",
    "- we cant follow their steps to get to same conclusion\n"
   ]
  },
  {
   "cell_type": "code",
   "execution_count": 147,
   "metadata": {},
   "outputs": [
    {
     "data": {
      "text/html": [
       "<div>\n",
       "<style scoped>\n",
       "    .dataframe tbody tr th:only-of-type {\n",
       "        vertical-align: middle;\n",
       "    }\n",
       "\n",
       "    .dataframe tbody tr th {\n",
       "        vertical-align: top;\n",
       "    }\n",
       "\n",
       "    .dataframe thead th {\n",
       "        text-align: right;\n",
       "    }\n",
       "</style>\n",
       "<table border=\"1\" class=\"dataframe\">\n",
       "  <thead>\n",
       "    <tr style=\"text-align: right;\">\n",
       "      <th></th>\n",
       "      <th>OBJECTID</th>\n",
       "      <th>Id</th>\n",
       "      <th>VTD2016</th>\n",
       "      <th>CountyFips</th>\n",
       "      <th>Jurisdicti</th>\n",
       "      <th>ElectionYe</th>\n",
       "      <th>Label</th>\n",
       "      <th>ShapeSTAre</th>\n",
       "      <th>ShapeSTLen</th>\n",
       "      <th>geometry</th>\n",
       "    </tr>\n",
       "  </thead>\n",
       "  <tbody>\n",
       "    <tr>\n",
       "      <th>0</th>\n",
       "      <td>1</td>\n",
       "      <td>3888</td>\n",
       "      <td>1632100000001</td>\n",
       "      <td>163</td>\n",
       "      <td>21000</td>\n",
       "      <td>2016</td>\n",
       "      <td>City of Dearborn</td>\n",
       "      <td>2.489738e+06</td>\n",
       "      <td>6846.254657</td>\n",
       "      <td>POLYGON ((-83.14843 42.34468, -83.14860 42.343...</td>\n",
       "    </tr>\n",
       "    <tr>\n",
       "      <th>1</th>\n",
       "      <td>2</td>\n",
       "      <td>3889</td>\n",
       "      <td>1632100000002</td>\n",
       "      <td>163</td>\n",
       "      <td>21000</td>\n",
       "      <td>2016</td>\n",
       "      <td>City of Dearborn</td>\n",
       "      <td>1.058362e+06</td>\n",
       "      <td>4621.388992</td>\n",
       "      <td>POLYGON ((-83.16029 42.34643, -83.16026 42.344...</td>\n",
       "    </tr>\n",
       "    <tr>\n",
       "      <th>2</th>\n",
       "      <td>3</td>\n",
       "      <td>3890</td>\n",
       "      <td>1632100000003</td>\n",
       "      <td>163</td>\n",
       "      <td>21000</td>\n",
       "      <td>2016</td>\n",
       "      <td>City of Dearborn</td>\n",
       "      <td>1.488846e+06</td>\n",
       "      <td>4909.715171</td>\n",
       "      <td>POLYGON ((-83.16699 42.34246, -83.16815 42.342...</td>\n",
       "    </tr>\n",
       "    <tr>\n",
       "      <th>3</th>\n",
       "      <td>4</td>\n",
       "      <td>3891</td>\n",
       "      <td>1632100000004</td>\n",
       "      <td>163</td>\n",
       "      <td>21000</td>\n",
       "      <td>2016</td>\n",
       "      <td>City of Dearborn</td>\n",
       "      <td>1.187165e+06</td>\n",
       "      <td>4354.743602</td>\n",
       "      <td>POLYGON ((-83.17687 42.34398, -83.17806 42.343...</td>\n",
       "    </tr>\n",
       "    <tr>\n",
       "      <th>4</th>\n",
       "      <td>5</td>\n",
       "      <td>3892</td>\n",
       "      <td>1632100000005</td>\n",
       "      <td>163</td>\n",
       "      <td>21000</td>\n",
       "      <td>2016</td>\n",
       "      <td>City of Dearborn</td>\n",
       "      <td>1.133548e+06</td>\n",
       "      <td>5460.202887</td>\n",
       "      <td>POLYGON ((-83.18665 42.34560, -83.18656 42.343...</td>\n",
       "    </tr>\n",
       "    <tr>\n",
       "      <th>...</th>\n",
       "      <td>...</td>\n",
       "      <td>...</td>\n",
       "      <td>...</td>\n",
       "      <td>...</td>\n",
       "      <td>...</td>\n",
       "      <td>...</td>\n",
       "      <td>...</td>\n",
       "      <td>...</td>\n",
       "      <td>...</td>\n",
       "      <td>...</td>\n",
       "    </tr>\n",
       "    <tr>\n",
       "      <th>4805</th>\n",
       "      <td>4806</td>\n",
       "      <td>1805</td>\n",
       "      <td>0933186000007</td>\n",
       "      <td>093</td>\n",
       "      <td>31860</td>\n",
       "      <td>2016</td>\n",
       "      <td>Genoa Township</td>\n",
       "      <td>6.610719e+06</td>\n",
       "      <td>18986.630070</td>\n",
       "      <td>POLYGON ((-83.83139 42.51361, -83.83182 42.513...</td>\n",
       "    </tr>\n",
       "    <tr>\n",
       "      <th>4806</th>\n",
       "      <td>4807</td>\n",
       "      <td>1848</td>\n",
       "      <td>0936012000005</td>\n",
       "      <td>093</td>\n",
       "      <td>60120</td>\n",
       "      <td>2016</td>\n",
       "      <td>Oceola Township</td>\n",
       "      <td>8.526046e+06</td>\n",
       "      <td>12408.612226</td>\n",
       "      <td>POLYGON ((-83.87456 42.60070, -83.87482 42.600...</td>\n",
       "    </tr>\n",
       "    <tr>\n",
       "      <th>4807</th>\n",
       "      <td>4808</td>\n",
       "      <td>1848</td>\n",
       "      <td>0936012000001</td>\n",
       "      <td>093</td>\n",
       "      <td>60120</td>\n",
       "      <td>2016</td>\n",
       "      <td>Oceola Township</td>\n",
       "      <td>4.258013e+07</td>\n",
       "      <td>28101.267509</td>\n",
       "      <td>POLYGON ((-83.87562 42.62945, -83.87667 42.629...</td>\n",
       "    </tr>\n",
       "    <tr>\n",
       "      <th>4808</th>\n",
       "      <td>4809</td>\n",
       "      <td>1848</td>\n",
       "      <td>0936012000002</td>\n",
       "      <td>093</td>\n",
       "      <td>60120</td>\n",
       "      <td>2016</td>\n",
       "      <td>Oceola Township</td>\n",
       "      <td>7.200447e+06</td>\n",
       "      <td>13280.921753</td>\n",
       "      <td>POLYGON ((-83.89781 42.62247, -83.89754 42.619...</td>\n",
       "    </tr>\n",
       "    <tr>\n",
       "      <th>4809</th>\n",
       "      <td>4810</td>\n",
       "      <td>1848</td>\n",
       "      <td>0936012000004</td>\n",
       "      <td>093</td>\n",
       "      <td>60120</td>\n",
       "      <td>2016</td>\n",
       "      <td>Oceola Township</td>\n",
       "      <td>5.494319e+07</td>\n",
       "      <td>60109.459882</td>\n",
       "      <td>MULTIPOLYGON (((-83.80045 42.68885, -83.79979 ...</td>\n",
       "    </tr>\n",
       "  </tbody>\n",
       "</table>\n",
       "<p>4810 rows × 10 columns</p>\n",
       "</div>"
      ],
      "text/plain": [
       "      OBJECTID    Id        VTD2016 CountyFips Jurisdicti  ElectionYe  \\\n",
       "0            1  3888  1632100000001        163      21000        2016   \n",
       "1            2  3889  1632100000002        163      21000        2016   \n",
       "2            3  3890  1632100000003        163      21000        2016   \n",
       "3            4  3891  1632100000004        163      21000        2016   \n",
       "4            5  3892  1632100000005        163      21000        2016   \n",
       "...        ...   ...            ...        ...        ...         ...   \n",
       "4805      4806  1805  0933186000007        093      31860        2016   \n",
       "4806      4807  1848  0936012000005        093      60120        2016   \n",
       "4807      4808  1848  0936012000001        093      60120        2016   \n",
       "4808      4809  1848  0936012000002        093      60120        2016   \n",
       "4809      4810  1848  0936012000004        093      60120        2016   \n",
       "\n",
       "                 Label    ShapeSTAre    ShapeSTLen  \\\n",
       "0     City of Dearborn  2.489738e+06   6846.254657   \n",
       "1     City of Dearborn  1.058362e+06   4621.388992   \n",
       "2     City of Dearborn  1.488846e+06   4909.715171   \n",
       "3     City of Dearborn  1.187165e+06   4354.743602   \n",
       "4     City of Dearborn  1.133548e+06   5460.202887   \n",
       "...                ...           ...           ...   \n",
       "4805    Genoa Township  6.610719e+06  18986.630070   \n",
       "4806   Oceola Township  8.526046e+06  12408.612226   \n",
       "4807   Oceola Township  4.258013e+07  28101.267509   \n",
       "4808   Oceola Township  7.200447e+06  13280.921753   \n",
       "4809   Oceola Township  5.494319e+07  60109.459882   \n",
       "\n",
       "                                               geometry  \n",
       "0     POLYGON ((-83.14843 42.34468, -83.14860 42.343...  \n",
       "1     POLYGON ((-83.16029 42.34643, -83.16026 42.344...  \n",
       "2     POLYGON ((-83.16699 42.34246, -83.16815 42.342...  \n",
       "3     POLYGON ((-83.17687 42.34398, -83.17806 42.343...  \n",
       "4     POLYGON ((-83.18665 42.34560, -83.18656 42.343...  \n",
       "...                                                 ...  \n",
       "4805  POLYGON ((-83.83139 42.51361, -83.83182 42.513...  \n",
       "4806  POLYGON ((-83.87456 42.60070, -83.87482 42.600...  \n",
       "4807  POLYGON ((-83.87562 42.62945, -83.87667 42.629...  \n",
       "4808  POLYGON ((-83.89781 42.62247, -83.89754 42.619...  \n",
       "4809  MULTIPOLYGON (((-83.80045 42.68885, -83.79979 ...  \n",
       "\n",
       "[4810 rows x 10 columns]"
      ]
     },
     "execution_count": 147,
     "metadata": {},
     "output_type": "execute_result"
    }
   ],
   "source": [
    "shp"
   ]
  },
  {
   "cell_type": "code",
   "execution_count": 148,
   "metadata": {},
   "outputs": [
    {
     "data": {
      "text/plain": [
       "52"
      ]
     },
     "execution_count": 148,
     "metadata": {},
     "output_type": "execute_result"
    }
   ],
   "source": [
    "len(set(gdfv['join_tst1'][~gdfv['join_tst1'].isin(gdfv_tst1_double)]) - set(df_pivot['join_tst1'][~df_pivot['join_tst1'].isin(df_tst1_double)]))"
   ]
  },
  {
   "cell_type": "code",
   "execution_count": 149,
   "metadata": {},
   "outputs": [
    {
     "data": {
      "text/plain": [
       "103"
      ]
     },
     "execution_count": 149,
     "metadata": {},
     "output_type": "execute_result"
    }
   ],
   "source": [
    "len(set(df_pivot['join_tst1'][~df_pivot['join_tst1'].isin(df_tst1_double)]) - set(gdfv['join_tst1'][~gdfv['join_tst1'].isin(gdfv_tst1_double)]))"
   ]
  },
  {
   "cell_type": "code",
   "execution_count": 150,
   "metadata": {},
   "outputs": [
    {
     "data": {
      "text/html": [
       "<div>\n",
       "<style scoped>\n",
       "    .dataframe tbody tr th:only-of-type {\n",
       "        vertical-align: middle;\n",
       "    }\n",
       "\n",
       "    .dataframe tbody tr th {\n",
       "        vertical-align: top;\n",
       "    }\n",
       "\n",
       "    .dataframe thead th {\n",
       "        text-align: right;\n",
       "    }\n",
       "</style>\n",
       "<table border=\"1\" class=\"dataframe\">\n",
       "  <thead>\n",
       "    <tr style=\"text-align: right;\">\n",
       "      <th></th>\n",
       "      <th>candidate_id</th>\n",
       "      <th>county_code</th>\n",
       "      <th>city_town_code</th>\n",
       "      <th>ward_number</th>\n",
       "      <th>precinct_number</th>\n",
       "      <th>precinct_label</th>\n",
       "      <th>G16PREGSte</th>\n",
       "      <th>G16PREDCli</th>\n",
       "      <th>G16PRERTru</th>\n",
       "      <th>G16PRELJoh</th>\n",
       "      <th>G16PREOth</th>\n",
       "      <th>county_name</th>\n",
       "      <th>county_fips</th>\n",
       "      <th>city_town_name</th>\n",
       "      <th>county_city_id</th>\n",
       "      <th>jurisd</th>\n",
       "      <th>VTD2016_draft</th>\n",
       "      <th>join_tst1</th>\n",
       "    </tr>\n",
       "  </thead>\n",
       "  <tbody>\n",
       "    <tr>\n",
       "      <th>0</th>\n",
       "      <td>0</td>\n",
       "      <td>1</td>\n",
       "      <td>2</td>\n",
       "      <td>0</td>\n",
       "      <td>1</td>\n",
       "      <td></td>\n",
       "      <td>2</td>\n",
       "      <td>199</td>\n",
       "      <td>500</td>\n",
       "      <td>13</td>\n",
       "      <td>4</td>\n",
       "      <td>ALCONA</td>\n",
       "      <td>001</td>\n",
       "      <td>ALCONA TOWNSHIP</td>\n",
       "      <td>001ALCONA TOWNSHIP</td>\n",
       "      <td>1040</td>\n",
       "      <td>0010104000001</td>\n",
       "      <td>00101040001</td>\n",
       "    </tr>\n",
       "    <tr>\n",
       "      <th>1</th>\n",
       "      <td>1</td>\n",
       "      <td>1</td>\n",
       "      <td>4</td>\n",
       "      <td>0</td>\n",
       "      <td>1</td>\n",
       "      <td></td>\n",
       "      <td>4</td>\n",
       "      <td>178</td>\n",
       "      <td>441</td>\n",
       "      <td>14</td>\n",
       "      <td>5</td>\n",
       "      <td>ALCONA</td>\n",
       "      <td>001</td>\n",
       "      <td>CALEDONIA TOWNSHIP</td>\n",
       "      <td>001CALEDONIA TOWNSHIP</td>\n",
       "      <td>12460</td>\n",
       "      <td>0011246000001</td>\n",
       "      <td>00112460001</td>\n",
       "    </tr>\n",
       "    <tr>\n",
       "      <th>2</th>\n",
       "      <td>2</td>\n",
       "      <td>1</td>\n",
       "      <td>6</td>\n",
       "      <td>0</td>\n",
       "      <td>1</td>\n",
       "      <td></td>\n",
       "      <td>13</td>\n",
       "      <td>214</td>\n",
       "      <td>401</td>\n",
       "      <td>8</td>\n",
       "      <td>3</td>\n",
       "      <td>ALCONA</td>\n",
       "      <td>001</td>\n",
       "      <td>CURTIS TOWNSHIP</td>\n",
       "      <td>001CURTIS TOWNSHIP</td>\n",
       "      <td>19320</td>\n",
       "      <td>0011932000001</td>\n",
       "      <td>00119320001</td>\n",
       "    </tr>\n",
       "    <tr>\n",
       "      <th>3</th>\n",
       "      <td>3</td>\n",
       "      <td>1</td>\n",
       "      <td>8</td>\n",
       "      <td>0</td>\n",
       "      <td>1</td>\n",
       "      <td></td>\n",
       "      <td>4</td>\n",
       "      <td>256</td>\n",
       "      <td>501</td>\n",
       "      <td>22</td>\n",
       "      <td>2</td>\n",
       "      <td>ALCONA</td>\n",
       "      <td>001</td>\n",
       "      <td>GREENBUSH TOWNSHIP</td>\n",
       "      <td>001GREENBUSH TOWNSHIP</td>\n",
       "      <td>34820</td>\n",
       "      <td>0013482000001</td>\n",
       "      <td>00134820001</td>\n",
       "    </tr>\n",
       "    <tr>\n",
       "      <th>4</th>\n",
       "      <td>4</td>\n",
       "      <td>1</td>\n",
       "      <td>10</td>\n",
       "      <td>0</td>\n",
       "      <td>1</td>\n",
       "      <td></td>\n",
       "      <td>6</td>\n",
       "      <td>80</td>\n",
       "      <td>249</td>\n",
       "      <td>16</td>\n",
       "      <td>1</td>\n",
       "      <td>ALCONA</td>\n",
       "      <td>001</td>\n",
       "      <td>GUSTIN TOWNSHIP</td>\n",
       "      <td>001GUSTIN TOWNSHIP</td>\n",
       "      <td>35740</td>\n",
       "      <td>0013574000001</td>\n",
       "      <td>00135740001</td>\n",
       "    </tr>\n",
       "    <tr>\n",
       "      <th>...</th>\n",
       "      <td>...</td>\n",
       "      <td>...</td>\n",
       "      <td>...</td>\n",
       "      <td>...</td>\n",
       "      <td>...</td>\n",
       "      <td>...</td>\n",
       "      <td>...</td>\n",
       "      <td>...</td>\n",
       "      <td>...</td>\n",
       "      <td>...</td>\n",
       "      <td>...</td>\n",
       "      <td>...</td>\n",
       "      <td>...</td>\n",
       "      <td>...</td>\n",
       "      <td>...</td>\n",
       "      <td>...</td>\n",
       "      <td>...</td>\n",
       "      <td>...</td>\n",
       "    </tr>\n",
       "    <tr>\n",
       "      <th>5072</th>\n",
       "      <td>5072</td>\n",
       "      <td>83</td>\n",
       "      <td>52</td>\n",
       "      <td>0</td>\n",
       "      <td>1</td>\n",
       "      <td></td>\n",
       "      <td>25</td>\n",
       "      <td>456</td>\n",
       "      <td>792</td>\n",
       "      <td>53</td>\n",
       "      <td>6</td>\n",
       "      <td>WEXFORD</td>\n",
       "      <td>165</td>\n",
       "      <td>CADILLAC CITY</td>\n",
       "      <td>165CADILLAC CITY</td>\n",
       "      <td>12320</td>\n",
       "      <td>1651232000001</td>\n",
       "      <td>16512320001</td>\n",
       "    </tr>\n",
       "    <tr>\n",
       "      <th>5073</th>\n",
       "      <td>5073</td>\n",
       "      <td>83</td>\n",
       "      <td>52</td>\n",
       "      <td>0</td>\n",
       "      <td>2</td>\n",
       "      <td></td>\n",
       "      <td>28</td>\n",
       "      <td>440</td>\n",
       "      <td>800</td>\n",
       "      <td>60</td>\n",
       "      <td>13</td>\n",
       "      <td>WEXFORD</td>\n",
       "      <td>165</td>\n",
       "      <td>CADILLAC CITY</td>\n",
       "      <td>165CADILLAC CITY</td>\n",
       "      <td>12320</td>\n",
       "      <td>1651232000002</td>\n",
       "      <td>16512320002</td>\n",
       "    </tr>\n",
       "    <tr>\n",
       "      <th>5074</th>\n",
       "      <td>5074</td>\n",
       "      <td>83</td>\n",
       "      <td>52</td>\n",
       "      <td>0</td>\n",
       "      <td>3</td>\n",
       "      <td></td>\n",
       "      <td>23</td>\n",
       "      <td>498</td>\n",
       "      <td>869</td>\n",
       "      <td>55</td>\n",
       "      <td>9</td>\n",
       "      <td>WEXFORD</td>\n",
       "      <td>165</td>\n",
       "      <td>CADILLAC CITY</td>\n",
       "      <td>165CADILLAC CITY</td>\n",
       "      <td>12320</td>\n",
       "      <td>1651232000003</td>\n",
       "      <td>16512320003</td>\n",
       "    </tr>\n",
       "    <tr>\n",
       "      <th>5075</th>\n",
       "      <td>5075</td>\n",
       "      <td>83</td>\n",
       "      <td>54</td>\n",
       "      <td>0</td>\n",
       "      <td>1</td>\n",
       "      <td></td>\n",
       "      <td>5</td>\n",
       "      <td>132</td>\n",
       "      <td>304</td>\n",
       "      <td>27</td>\n",
       "      <td>3</td>\n",
       "      <td>WEXFORD</td>\n",
       "      <td>165</td>\n",
       "      <td>MANTON CITY</td>\n",
       "      <td>165MANTON CITY</td>\n",
       "      <td>50880</td>\n",
       "      <td>1655088000001</td>\n",
       "      <td>16550880001</td>\n",
       "    </tr>\n",
       "    <tr>\n",
       "      <th>5076</th>\n",
       "      <td>5076</td>\n",
       "      <td>83</td>\n",
       "      <td>9999</td>\n",
       "      <td>0</td>\n",
       "      <td>9999</td>\n",
       "      <td></td>\n",
       "      <td>0</td>\n",
       "      <td>0</td>\n",
       "      <td>0</td>\n",
       "      <td>0</td>\n",
       "      <td>19</td>\n",
       "      <td>WEXFORD</td>\n",
       "      <td>165</td>\n",
       "      <td>{Statistical Adjustments}</td>\n",
       "      <td>165{Statistical Adjustments}</td>\n",
       "      <td>0</td>\n",
       "      <td>16500000009999</td>\n",
       "      <td>1650000009999</td>\n",
       "    </tr>\n",
       "  </tbody>\n",
       "</table>\n",
       "<p>4907 rows × 18 columns</p>\n",
       "</div>"
      ],
      "text/plain": [
       "      candidate_id  county_code  city_town_code  ward_number  precinct_number  \\\n",
       "0                0            1               2            0                1   \n",
       "1                1            1               4            0                1   \n",
       "2                2            1               6            0                1   \n",
       "3                3            1               8            0                1   \n",
       "4                4            1              10            0                1   \n",
       "...            ...          ...             ...          ...              ...   \n",
       "5072          5072           83              52            0                1   \n",
       "5073          5073           83              52            0                2   \n",
       "5074          5074           83              52            0                3   \n",
       "5075          5075           83              54            0                1   \n",
       "5076          5076           83            9999            0             9999   \n",
       "\n",
       "     precinct_label  G16PREGSte  G16PREDCli  G16PRERTru  G16PRELJoh  \\\n",
       "0                             2         199         500          13   \n",
       "1                             4         178         441          14   \n",
       "2                            13         214         401           8   \n",
       "3                             4         256         501          22   \n",
       "4                             6          80         249          16   \n",
       "...             ...         ...         ...         ...         ...   \n",
       "5072                         25         456         792          53   \n",
       "5073                         28         440         800          60   \n",
       "5074                         23         498         869          55   \n",
       "5075                          5         132         304          27   \n",
       "5076                          0           0           0           0   \n",
       "\n",
       "      G16PREOth county_name county_fips             city_town_name  \\\n",
       "0             4      ALCONA         001            ALCONA TOWNSHIP   \n",
       "1             5      ALCONA         001         CALEDONIA TOWNSHIP   \n",
       "2             3      ALCONA         001            CURTIS TOWNSHIP   \n",
       "3             2      ALCONA         001         GREENBUSH TOWNSHIP   \n",
       "4             1      ALCONA         001            GUSTIN TOWNSHIP   \n",
       "...         ...         ...         ...                        ...   \n",
       "5072          6     WEXFORD         165              CADILLAC CITY   \n",
       "5073         13     WEXFORD         165              CADILLAC CITY   \n",
       "5074          9     WEXFORD         165              CADILLAC CITY   \n",
       "5075          3     WEXFORD         165                MANTON CITY   \n",
       "5076         19     WEXFORD         165  {Statistical Adjustments}   \n",
       "\n",
       "                    county_city_id  jurisd   VTD2016_draft      join_tst1  \n",
       "0               001ALCONA TOWNSHIP    1040   0010104000001    00101040001  \n",
       "1            001CALEDONIA TOWNSHIP   12460   0011246000001    00112460001  \n",
       "2               001CURTIS TOWNSHIP   19320   0011932000001    00119320001  \n",
       "3            001GREENBUSH TOWNSHIP   34820   0013482000001    00134820001  \n",
       "4               001GUSTIN TOWNSHIP   35740   0013574000001    00135740001  \n",
       "...                            ...     ...             ...            ...  \n",
       "5072              165CADILLAC CITY   12320   1651232000001    16512320001  \n",
       "5073              165CADILLAC CITY   12320   1651232000002    16512320002  \n",
       "5074              165CADILLAC CITY   12320   1651232000003    16512320003  \n",
       "5075                165MANTON CITY   50880   1655088000001    16550880001  \n",
       "5076  165{Statistical Adjustments}       0  16500000009999  1650000009999  \n",
       "\n",
       "[4907 rows x 18 columns]"
      ]
     },
     "execution_count": 150,
     "metadata": {},
     "output_type": "execute_result"
    }
   ],
   "source": [
    "df_pivot[~df_pivot['join_tst1'].isin(list(df_tst1_double))]"
   ]
  },
  {
   "cell_type": "code",
   "execution_count": 151,
   "metadata": {},
   "outputs": [
    {
     "data": {
      "text/plain": [
       "109"
      ]
     },
     "execution_count": 151,
     "metadata": {},
     "output_type": "execute_result"
    }
   ],
   "source": [
    "#difference in df and gdf without AVCBs and without ward\n",
    "len(set((df_pivot['VTD2016_draft'][df_pivot['VTD2016_draft'].str.slice(start = -4)!='AVCB'].str.slice(stop=-5)+df_pivot['precinct_number'].astype(str).str.zfill(3))) - set((gdfv.VTD2016.str.slice(stop=-5)+gdfv.VTD2016.str.slice(start=-3))))"
   ]
  },
  {
   "cell_type": "code",
   "execution_count": 152,
   "metadata": {},
   "outputs": [
    {
     "data": {
      "text/plain": [
       "52"
      ]
     },
     "execution_count": 152,
     "metadata": {},
     "output_type": "execute_result"
    }
   ],
   "source": [
    "#difference in gdf and df without AVCBs and without ward\n",
    "len(set((gdfv.VTD2016.str.slice(stop=-5)+gdfv.VTD2016.str.slice(start=-3)))-set((df_pivot['VTD2016_draft'][df_pivot['VTD2016_draft'].str.slice(start = -4)!='AVCB'].str.slice(stop=-5)+df_pivot['precinct_number'].astype(str).str.zfill(3))))"
   ]
  },
  {
   "cell_type": "code",
   "execution_count": 153,
   "metadata": {},
   "outputs": [
    {
     "data": {
      "text/plain": [
       "4686"
      ]
     },
     "execution_count": 153,
     "metadata": {},
     "output_type": "execute_result"
    }
   ],
   "source": [
    "len(set((gdfv.VTD2016.str.slice(stop=-5)+gdfv.VTD2016.str.slice(start=-3))))"
   ]
  },
  {
   "cell_type": "code",
   "execution_count": 154,
   "metadata": {},
   "outputs": [
    {
     "data": {
      "text/plain": [
       "124"
      ]
     },
     "execution_count": 154,
     "metadata": {},
     "output_type": "execute_result"
    }
   ],
   "source": [
    "(4810-4686)"
   ]
  },
  {
   "cell_type": "code",
   "execution_count": 155,
   "metadata": {},
   "outputs": [
    {
     "data": {
      "text/plain": [
       "11      0013686001001\n",
       "61      0053864004009\n",
       "62      0053864005011\n",
       "63      0053864005012\n",
       "64      0053864005013\n",
       "            ...      \n",
       "4844    1634068004001\n",
       "4845    1634068004002\n",
       "4846    1634068005001\n",
       "4847    1634068006001\n",
       "4848    1634068006002\n",
       "Name: VTD2016_draft, Length: 574, dtype: object"
      ]
     },
     "execution_count": 155,
     "metadata": {},
     "output_type": "execute_result"
    }
   ],
   "source": [
    "df_pivot['VTD2016_draft'][df_pivot['VTD2016_draft'].str.slice(start=8,stop=10)!='00']"
   ]
  },
  {
   "cell_type": "code",
   "execution_count": 156,
   "metadata": {},
   "outputs": [],
   "source": [
    "df_ward_not0_andnoAVCBs = df_pivot['VTD2016_draft'][(df_pivot['VTD2016_draft'].str.slice(start = -4)!='AVCB')&(df_pivot['VTD2016_draft'].str.slice(start=8,stop=10)!='00')]"
   ]
  },
  {
   "cell_type": "code",
   "execution_count": 157,
   "metadata": {},
   "outputs": [],
   "source": [
    "shp_ward_not0 = shp['VTD2016'][shp['VTD2016'].str.slice(start=8,stop=10)!='00']"
   ]
  },
  {
   "cell_type": "code",
   "execution_count": 158,
   "metadata": {},
   "outputs": [
    {
     "name": "stdout",
     "output_type": "stream",
     "text": [
      "(574,)\n",
      "(1105,)\n"
     ]
    }
   ],
   "source": [
    "print(df_ward_not0_andnoAVCBs.shape)\n",
    "print(shp_ward_not0.shape)"
   ]
  },
  {
   "cell_type": "code",
   "execution_count": 159,
   "metadata": {},
   "outputs": [
    {
     "data": {
      "text/plain": [
       "34"
      ]
     },
     "execution_count": 159,
     "metadata": {},
     "output_type": "execute_result"
    }
   ],
   "source": [
    "len(set(df_ward_not0_andnoAVCBs)-set(shp_ward_not0))"
   ]
  },
  {
   "cell_type": "code",
   "execution_count": 160,
   "metadata": {},
   "outputs": [
    {
     "data": {
      "text/plain": [
       "565"
      ]
     },
     "execution_count": 160,
     "metadata": {},
     "output_type": "execute_result"
    }
   ],
   "source": [
    "len(set(shp_ward_not0) - set(df_ward_not0_andnoAVCBs))"
   ]
  },
  {
   "cell_type": "markdown",
   "metadata": {},
   "source": [
    "Look again more closely at those that are not AVCBs that do not match up"
   ]
  },
  {
   "cell_type": "code",
   "execution_count": 161,
   "metadata": {},
   "outputs": [],
   "source": [
    "in_df_not_in_shp = set(df_pivot['VTD2016_draft'][(df_pivot['VTD2016_draft'].str.slice(start = -4)!='AVCB')]) - set(shp['VTD2016'])"
   ]
  },
  {
   "cell_type": "code",
   "execution_count": 162,
   "metadata": {},
   "outputs": [],
   "source": [
    "in_shp_not_in_df = set(shp['VTD2016']) - set(df_pivot['VTD2016_draft'][(df_pivot['VTD2016_draft'].str.slice(start = -4)!='AVCB')])"
   ]
  },
  {
   "cell_type": "code",
   "execution_count": 163,
   "metadata": {},
   "outputs": [
    {
     "name": "stdout",
     "output_type": "stream",
     "text": [
      "623\n",
      "566\n"
     ]
    }
   ],
   "source": [
    "print(len(in_df_not_in_shp))\n",
    "print(len(in_shp_not_in_df))"
   ]
  },
  {
   "cell_type": "code",
   "execution_count": 164,
   "metadata": {},
   "outputs": [
    {
     "data": {
      "text/html": [
       "<div>\n",
       "<style scoped>\n",
       "    .dataframe tbody tr th:only-of-type {\n",
       "        vertical-align: middle;\n",
       "    }\n",
       "\n",
       "    .dataframe tbody tr th {\n",
       "        vertical-align: top;\n",
       "    }\n",
       "\n",
       "    .dataframe thead th {\n",
       "        text-align: right;\n",
       "    }\n",
       "</style>\n",
       "<table border=\"1\" class=\"dataframe\">\n",
       "  <thead>\n",
       "    <tr style=\"text-align: right;\">\n",
       "      <th></th>\n",
       "      <th>candidate_id</th>\n",
       "      <th>county_code</th>\n",
       "      <th>city_town_code</th>\n",
       "      <th>ward_number</th>\n",
       "      <th>precinct_number</th>\n",
       "      <th>precinct_label</th>\n",
       "      <th>G16PREGSte</th>\n",
       "      <th>G16PREDCli</th>\n",
       "      <th>G16PRERTru</th>\n",
       "      <th>G16PRELJoh</th>\n",
       "      <th>G16PREOth</th>\n",
       "      <th>county_name</th>\n",
       "      <th>county_fips</th>\n",
       "      <th>city_town_name</th>\n",
       "      <th>county_city_id</th>\n",
       "      <th>jurisd</th>\n",
       "      <th>VTD2016_draft</th>\n",
       "      <th>join_tst1</th>\n",
       "    </tr>\n",
       "  </thead>\n",
       "  <tbody>\n",
       "    <tr>\n",
       "      <th>12</th>\n",
       "      <td>12</td>\n",
       "      <td>1</td>\n",
       "      <td>9999</td>\n",
       "      <td>0</td>\n",
       "      <td>9999</td>\n",
       "      <td></td>\n",
       "      <td>0</td>\n",
       "      <td>0</td>\n",
       "      <td>0</td>\n",
       "      <td>0</td>\n",
       "      <td>19</td>\n",
       "      <td>ALCONA</td>\n",
       "      <td>001</td>\n",
       "      <td>{Statistical Adjustments}</td>\n",
       "      <td>001{Statistical Adjustments}</td>\n",
       "      <td>0</td>\n",
       "      <td>00100000009999</td>\n",
       "      <td>0010000009999</td>\n",
       "    </tr>\n",
       "    <tr>\n",
       "      <th>23</th>\n",
       "      <td>23</td>\n",
       "      <td>2</td>\n",
       "      <td>9999</td>\n",
       "      <td>0</td>\n",
       "      <td>9999</td>\n",
       "      <td></td>\n",
       "      <td>0</td>\n",
       "      <td>0</td>\n",
       "      <td>0</td>\n",
       "      <td>0</td>\n",
       "      <td>5</td>\n",
       "      <td>ALGER</td>\n",
       "      <td>003</td>\n",
       "      <td>{Statistical Adjustments}</td>\n",
       "      <td>003{Statistical Adjustments}</td>\n",
       "      <td>0</td>\n",
       "      <td>00300000009999</td>\n",
       "      <td>0030000009999</td>\n",
       "    </tr>\n",
       "    <tr>\n",
       "      <th>68</th>\n",
       "      <td>68</td>\n",
       "      <td>3</td>\n",
       "      <td>63</td>\n",
       "      <td>0</td>\n",
       "      <td>1</td>\n",
       "      <td></td>\n",
       "      <td>0</td>\n",
       "      <td>4</td>\n",
       "      <td>1</td>\n",
       "      <td>0</td>\n",
       "      <td>0</td>\n",
       "      <td>ALLEGAN</td>\n",
       "      <td>005</td>\n",
       "      <td>SOUTH HAVEN CITY</td>\n",
       "      <td>005SOUTH HAVEN CITY</td>\n",
       "      <td>74980</td>\n",
       "      <td>0057498000001</td>\n",
       "      <td>00574980001</td>\n",
       "    </tr>\n",
       "    <tr>\n",
       "      <th>87</th>\n",
       "      <td>87</td>\n",
       "      <td>4</td>\n",
       "      <td>9999</td>\n",
       "      <td>0</td>\n",
       "      <td>9999</td>\n",
       "      <td></td>\n",
       "      <td>0</td>\n",
       "      <td>0</td>\n",
       "      <td>0</td>\n",
       "      <td>0</td>\n",
       "      <td>20</td>\n",
       "      <td>ALPENA</td>\n",
       "      <td>007</td>\n",
       "      <td>{Statistical Adjustments}</td>\n",
       "      <td>007{Statistical Adjustments}</td>\n",
       "      <td>0</td>\n",
       "      <td>00700000009999</td>\n",
       "      <td>0070000009999</td>\n",
       "    </tr>\n",
       "    <tr>\n",
       "      <th>104</th>\n",
       "      <td>104</td>\n",
       "      <td>5</td>\n",
       "      <td>9999</td>\n",
       "      <td>0</td>\n",
       "      <td>9999</td>\n",
       "      <td></td>\n",
       "      <td>0</td>\n",
       "      <td>0</td>\n",
       "      <td>0</td>\n",
       "      <td>0</td>\n",
       "      <td>13</td>\n",
       "      <td>ANTRIM</td>\n",
       "      <td>009</td>\n",
       "      <td>{Statistical Adjustments}</td>\n",
       "      <td>009{Statistical Adjustments}</td>\n",
       "      <td>0</td>\n",
       "      <td>00900000009999</td>\n",
       "      <td>0090000009999</td>\n",
       "    </tr>\n",
       "    <tr>\n",
       "      <th>...</th>\n",
       "      <td>...</td>\n",
       "      <td>...</td>\n",
       "      <td>...</td>\n",
       "      <td>...</td>\n",
       "      <td>...</td>\n",
       "      <td>...</td>\n",
       "      <td>...</td>\n",
       "      <td>...</td>\n",
       "      <td>...</td>\n",
       "      <td>...</td>\n",
       "      <td>...</td>\n",
       "      <td>...</td>\n",
       "      <td>...</td>\n",
       "      <td>...</td>\n",
       "      <td>...</td>\n",
       "      <td>...</td>\n",
       "      <td>...</td>\n",
       "      <td>...</td>\n",
       "    </tr>\n",
       "    <tr>\n",
       "      <th>4593</th>\n",
       "      <td>4593</td>\n",
       "      <td>82</td>\n",
       "      <td>57</td>\n",
       "      <td>0</td>\n",
       "      <td>488</td>\n",
       "      <td></td>\n",
       "      <td>3</td>\n",
       "      <td>276</td>\n",
       "      <td>71</td>\n",
       "      <td>4</td>\n",
       "      <td>0</td>\n",
       "      <td>WAYNE</td>\n",
       "      <td>163</td>\n",
       "      <td>DETROIT CITY</td>\n",
       "      <td>163DETROIT CITY</td>\n",
       "      <td>22000</td>\n",
       "      <td>1632200000488</td>\n",
       "      <td>16322000488</td>\n",
       "    </tr>\n",
       "    <tr>\n",
       "      <th>4594</th>\n",
       "      <td>4594</td>\n",
       "      <td>82</td>\n",
       "      <td>57</td>\n",
       "      <td>0</td>\n",
       "      <td>489</td>\n",
       "      <td></td>\n",
       "      <td>3</td>\n",
       "      <td>120</td>\n",
       "      <td>28</td>\n",
       "      <td>5</td>\n",
       "      <td>0</td>\n",
       "      <td>WAYNE</td>\n",
       "      <td>163</td>\n",
       "      <td>DETROIT CITY</td>\n",
       "      <td>163DETROIT CITY</td>\n",
       "      <td>22000</td>\n",
       "      <td>1632200000489</td>\n",
       "      <td>16322000489</td>\n",
       "    </tr>\n",
       "    <tr>\n",
       "      <th>4595</th>\n",
       "      <td>4595</td>\n",
       "      <td>82</td>\n",
       "      <td>57</td>\n",
       "      <td>0</td>\n",
       "      <td>490</td>\n",
       "      <td></td>\n",
       "      <td>1</td>\n",
       "      <td>19</td>\n",
       "      <td>0</td>\n",
       "      <td>0</td>\n",
       "      <td>1</td>\n",
       "      <td>WAYNE</td>\n",
       "      <td>163</td>\n",
       "      <td>DETROIT CITY</td>\n",
       "      <td>163DETROIT CITY</td>\n",
       "      <td>22000</td>\n",
       "      <td>1632200000490</td>\n",
       "      <td>16322000490</td>\n",
       "    </tr>\n",
       "    <tr>\n",
       "      <th>5055</th>\n",
       "      <td>5055</td>\n",
       "      <td>82</td>\n",
       "      <td>9999</td>\n",
       "      <td>0</td>\n",
       "      <td>9999</td>\n",
       "      <td></td>\n",
       "      <td>0</td>\n",
       "      <td>0</td>\n",
       "      <td>0</td>\n",
       "      <td>0</td>\n",
       "      <td>93</td>\n",
       "      <td>WAYNE</td>\n",
       "      <td>163</td>\n",
       "      <td>{Statistical Adjustments}</td>\n",
       "      <td>163{Statistical Adjustments}</td>\n",
       "      <td>0</td>\n",
       "      <td>16300000009999</td>\n",
       "      <td>1630000009999</td>\n",
       "    </tr>\n",
       "    <tr>\n",
       "      <th>5076</th>\n",
       "      <td>5076</td>\n",
       "      <td>83</td>\n",
       "      <td>9999</td>\n",
       "      <td>0</td>\n",
       "      <td>9999</td>\n",
       "      <td></td>\n",
       "      <td>0</td>\n",
       "      <td>0</td>\n",
       "      <td>0</td>\n",
       "      <td>0</td>\n",
       "      <td>19</td>\n",
       "      <td>WEXFORD</td>\n",
       "      <td>165</td>\n",
       "      <td>{Statistical Adjustments}</td>\n",
       "      <td>165{Statistical Adjustments}</td>\n",
       "      <td>0</td>\n",
       "      <td>16500000009999</td>\n",
       "      <td>1650000009999</td>\n",
       "    </tr>\n",
       "  </tbody>\n",
       "</table>\n",
       "<p>623 rows × 18 columns</p>\n",
       "</div>"
      ],
      "text/plain": [
       "      candidate_id  county_code  city_town_code  ward_number  precinct_number  \\\n",
       "12              12            1            9999            0             9999   \n",
       "23              23            2            9999            0             9999   \n",
       "68              68            3              63            0                1   \n",
       "87              87            4            9999            0             9999   \n",
       "104            104            5            9999            0             9999   \n",
       "...            ...          ...             ...          ...              ...   \n",
       "4593          4593           82              57            0              488   \n",
       "4594          4594           82              57            0              489   \n",
       "4595          4595           82              57            0              490   \n",
       "5055          5055           82            9999            0             9999   \n",
       "5076          5076           83            9999            0             9999   \n",
       "\n",
       "     precinct_label  G16PREGSte  G16PREDCli  G16PRERTru  G16PRELJoh  \\\n",
       "12                            0           0           0           0   \n",
       "23                            0           0           0           0   \n",
       "68                            0           4           1           0   \n",
       "87                            0           0           0           0   \n",
       "104                           0           0           0           0   \n",
       "...             ...         ...         ...         ...         ...   \n",
       "4593                          3         276          71           4   \n",
       "4594                          3         120          28           5   \n",
       "4595                          1          19           0           0   \n",
       "5055                          0           0           0           0   \n",
       "5076                          0           0           0           0   \n",
       "\n",
       "      G16PREOth county_name county_fips             city_town_name  \\\n",
       "12           19      ALCONA         001  {Statistical Adjustments}   \n",
       "23            5       ALGER         003  {Statistical Adjustments}   \n",
       "68            0     ALLEGAN         005           SOUTH HAVEN CITY   \n",
       "87           20      ALPENA         007  {Statistical Adjustments}   \n",
       "104          13      ANTRIM         009  {Statistical Adjustments}   \n",
       "...         ...         ...         ...                        ...   \n",
       "4593          0       WAYNE         163               DETROIT CITY   \n",
       "4594          0       WAYNE         163               DETROIT CITY   \n",
       "4595          1       WAYNE         163               DETROIT CITY   \n",
       "5055         93       WAYNE         163  {Statistical Adjustments}   \n",
       "5076         19     WEXFORD         165  {Statistical Adjustments}   \n",
       "\n",
       "                    county_city_id  jurisd   VTD2016_draft      join_tst1  \n",
       "12    001{Statistical Adjustments}       0  00100000009999  0010000009999  \n",
       "23    003{Statistical Adjustments}       0  00300000009999  0030000009999  \n",
       "68             005SOUTH HAVEN CITY   74980   0057498000001    00574980001  \n",
       "87    007{Statistical Adjustments}       0  00700000009999  0070000009999  \n",
       "104   009{Statistical Adjustments}       0  00900000009999  0090000009999  \n",
       "...                            ...     ...             ...            ...  \n",
       "4593               163DETROIT CITY   22000   1632200000488    16322000488  \n",
       "4594               163DETROIT CITY   22000   1632200000489    16322000489  \n",
       "4595               163DETROIT CITY   22000   1632200000490    16322000490  \n",
       "5055  163{Statistical Adjustments}       0  16300000009999  1630000009999  \n",
       "5076  165{Statistical Adjustments}       0  16500000009999  1650000009999  \n",
       "\n",
       "[623 rows x 18 columns]"
      ]
     },
     "execution_count": 164,
     "metadata": {},
     "output_type": "execute_result"
    }
   ],
   "source": [
    "df_pivot[df_pivot['VTD2016_draft'].isin(list(in_df_not_in_shp))]"
   ]
  },
  {
   "cell_type": "code",
   "execution_count": 165,
   "metadata": {},
   "outputs": [
    {
     "data": {
      "text/html": [
       "<div>\n",
       "<style scoped>\n",
       "    .dataframe tbody tr th:only-of-type {\n",
       "        vertical-align: middle;\n",
       "    }\n",
       "\n",
       "    .dataframe tbody tr th {\n",
       "        vertical-align: top;\n",
       "    }\n",
       "\n",
       "    .dataframe thead th {\n",
       "        text-align: right;\n",
       "    }\n",
       "</style>\n",
       "<table border=\"1\" class=\"dataframe\">\n",
       "  <thead>\n",
       "    <tr style=\"text-align: right;\">\n",
       "      <th></th>\n",
       "      <th>VTD2016</th>\n",
       "      <th>Label</th>\n",
       "      <th>G16PREDCli</th>\n",
       "      <th>G16PRERTru</th>\n",
       "      <th>G16PREGSte</th>\n",
       "      <th>G16PRELJoh</th>\n",
       "      <th>G16PREOth</th>\n",
       "      <th>geometry</th>\n",
       "      <th>join_tst1</th>\n",
       "    </tr>\n",
       "  </thead>\n",
       "  <tbody>\n",
       "    <tr>\n",
       "      <th>109</th>\n",
       "      <td>0057498003002</td>\n",
       "      <td>City of South Haven</td>\n",
       "      <td>4</td>\n",
       "      <td>1</td>\n",
       "      <td>0</td>\n",
       "      <td>0</td>\n",
       "      <td>0</td>\n",
       "      <td>POLYGON ((-86.26019 42.41932, -86.26154 42.419...</td>\n",
       "      <td>00574980002</td>\n",
       "    </tr>\n",
       "    <tr>\n",
       "      <th>180</th>\n",
       "      <td>01537120010001</td>\n",
       "      <td>City of Hastings</td>\n",
       "      <td>368</td>\n",
       "      <td>488</td>\n",
       "      <td>9</td>\n",
       "      <td>40</td>\n",
       "      <td>8</td>\n",
       "      <td>POLYGON ((-85.31011 42.66823, -85.30953 42.668...</td>\n",
       "      <td>015371200001</td>\n",
       "    </tr>\n",
       "    <tr>\n",
       "      <th>265</th>\n",
       "      <td>0210752001001</td>\n",
       "      <td>City of Benton Harbor</td>\n",
       "      <td>892</td>\n",
       "      <td>31</td>\n",
       "      <td>2</td>\n",
       "      <td>5</td>\n",
       "      <td>1</td>\n",
       "      <td>POLYGON ((-86.45334 42.11411, -86.45381 42.113...</td>\n",
       "      <td>02107520001</td>\n",
       "    </tr>\n",
       "    <tr>\n",
       "      <th>266</th>\n",
       "      <td>0210752002001</td>\n",
       "      <td>City of Benton Harbor</td>\n",
       "      <td>573</td>\n",
       "      <td>14</td>\n",
       "      <td>7</td>\n",
       "      <td>5</td>\n",
       "      <td>0</td>\n",
       "      <td>POLYGON ((-86.45058 42.11555, -86.44937 42.115...</td>\n",
       "      <td>02107520001</td>\n",
       "    </tr>\n",
       "    <tr>\n",
       "      <th>267</th>\n",
       "      <td>0210752003001</td>\n",
       "      <td>City of Benton Harbor</td>\n",
       "      <td>916</td>\n",
       "      <td>17</td>\n",
       "      <td>2</td>\n",
       "      <td>4</td>\n",
       "      <td>2</td>\n",
       "      <td>POLYGON ((-86.44894 42.10168, -86.44771 42.101...</td>\n",
       "      <td>02107520001</td>\n",
       "    </tr>\n",
       "    <tr>\n",
       "      <th>...</th>\n",
       "      <td>...</td>\n",
       "      <td>...</td>\n",
       "      <td>...</td>\n",
       "      <td>...</td>\n",
       "      <td>...</td>\n",
       "      <td>...</td>\n",
       "      <td>...</td>\n",
       "      <td>...</td>\n",
       "      <td>...</td>\n",
       "    </tr>\n",
       "    <tr>\n",
       "      <th>4591</th>\n",
       "      <td>1256903504028</td>\n",
       "      <td>City of Rochester Hills</td>\n",
       "      <td>754</td>\n",
       "      <td>457</td>\n",
       "      <td>15</td>\n",
       "      <td>34</td>\n",
       "      <td>4</td>\n",
       "      <td>POLYGON ((-83.11227 42.64859, -83.11221 42.647...</td>\n",
       "      <td>12569035028</td>\n",
       "    </tr>\n",
       "    <tr>\n",
       "      <th>4592</th>\n",
       "      <td>1256903504030</td>\n",
       "      <td>City of Rochester Hills</td>\n",
       "      <td>792</td>\n",
       "      <td>690</td>\n",
       "      <td>15</td>\n",
       "      <td>82</td>\n",
       "      <td>7</td>\n",
       "      <td>POLYGON ((-83.14838 42.67416, -83.14839 42.673...</td>\n",
       "      <td>12569035030</td>\n",
       "    </tr>\n",
       "    <tr>\n",
       "      <th>4785</th>\n",
       "      <td>0513232002002</td>\n",
       "      <td>City of Gladwin</td>\n",
       "      <td>85</td>\n",
       "      <td>211</td>\n",
       "      <td>3</td>\n",
       "      <td>11</td>\n",
       "      <td>1</td>\n",
       "      <td>POLYGON ((-84.46560 43.98729, -84.46563 43.983...</td>\n",
       "      <td>05132320002</td>\n",
       "    </tr>\n",
       "    <tr>\n",
       "      <th>4786</th>\n",
       "      <td>0513232004001</td>\n",
       "      <td>City of Gladwin</td>\n",
       "      <td>105</td>\n",
       "      <td>200</td>\n",
       "      <td>6</td>\n",
       "      <td>19</td>\n",
       "      <td>3</td>\n",
       "      <td>POLYGON ((-84.49044 43.98349, -84.49047 43.982...</td>\n",
       "      <td>05132320001</td>\n",
       "    </tr>\n",
       "    <tr>\n",
       "      <th>4809</th>\n",
       "      <td>0492900005062</td>\n",
       "      <td>City of Flint</td>\n",
       "      <td>0</td>\n",
       "      <td>0</td>\n",
       "      <td>0</td>\n",
       "      <td>0</td>\n",
       "      <td>0</td>\n",
       "      <td>POLYGON ((-83.69861 43.01357, -83.70181 43.012...</td>\n",
       "      <td>04929000062</td>\n",
       "    </tr>\n",
       "  </tbody>\n",
       "</table>\n",
       "<p>566 rows × 9 columns</p>\n",
       "</div>"
      ],
      "text/plain": [
       "             VTD2016                    Label  G16PREDCli  G16PRERTru  \\\n",
       "109    0057498003002      City of South Haven           4           1   \n",
       "180   01537120010001         City of Hastings         368         488   \n",
       "265    0210752001001    City of Benton Harbor         892          31   \n",
       "266    0210752002001    City of Benton Harbor         573          14   \n",
       "267    0210752003001    City of Benton Harbor         916          17   \n",
       "...              ...                      ...         ...         ...   \n",
       "4591   1256903504028  City of Rochester Hills         754         457   \n",
       "4592   1256903504030  City of Rochester Hills         792         690   \n",
       "4785   0513232002002          City of Gladwin          85         211   \n",
       "4786   0513232004001          City of Gladwin         105         200   \n",
       "4809   0492900005062            City of Flint           0           0   \n",
       "\n",
       "      G16PREGSte  G16PRELJoh  G16PREOth  \\\n",
       "109            0           0          0   \n",
       "180            9          40          8   \n",
       "265            2           5          1   \n",
       "266            7           5          0   \n",
       "267            2           4          2   \n",
       "...          ...         ...        ...   \n",
       "4591          15          34          4   \n",
       "4592          15          82          7   \n",
       "4785           3          11          1   \n",
       "4786           6          19          3   \n",
       "4809           0           0          0   \n",
       "\n",
       "                                               geometry     join_tst1  \n",
       "109   POLYGON ((-86.26019 42.41932, -86.26154 42.419...   00574980002  \n",
       "180   POLYGON ((-85.31011 42.66823, -85.30953 42.668...  015371200001  \n",
       "265   POLYGON ((-86.45334 42.11411, -86.45381 42.113...   02107520001  \n",
       "266   POLYGON ((-86.45058 42.11555, -86.44937 42.115...   02107520001  \n",
       "267   POLYGON ((-86.44894 42.10168, -86.44771 42.101...   02107520001  \n",
       "...                                                 ...           ...  \n",
       "4591  POLYGON ((-83.11227 42.64859, -83.11221 42.647...   12569035028  \n",
       "4592  POLYGON ((-83.14838 42.67416, -83.14839 42.673...   12569035030  \n",
       "4785  POLYGON ((-84.46560 43.98729, -84.46563 43.983...   05132320002  \n",
       "4786  POLYGON ((-84.49044 43.98349, -84.49047 43.982...   05132320001  \n",
       "4809  POLYGON ((-83.69861 43.01357, -83.70181 43.012...   04929000062  \n",
       "\n",
       "[566 rows x 9 columns]"
      ]
     },
     "execution_count": 165,
     "metadata": {},
     "output_type": "execute_result"
    }
   ],
   "source": [
    "gdfv[gdfv['VTD2016'].isin(list(in_shp_not_in_df))]"
   ]
  },
  {
   "cell_type": "code",
   "execution_count": 166,
   "metadata": {},
   "outputs": [
    {
     "data": {
      "text/plain": [
       "833"
      ]
     },
     "execution_count": 166,
     "metadata": {},
     "output_type": "execute_result"
    }
   ],
   "source": [
    "len(set(df_pivot['VTD2016_draft']) - set(gdfv['VTD2016']))"
   ]
  },
  {
   "cell_type": "code",
   "execution_count": 167,
   "metadata": {},
   "outputs": [
    {
     "data": {
      "text/plain": [
       "210"
      ]
     },
     "execution_count": 167,
     "metadata": {},
     "output_type": "execute_result"
    }
   ],
   "source": [
    "len(df_pivot['VTD2016_draft'][df_pivot['VTD2016_draft'].str.contains('AVCB')])"
   ]
  },
  {
   "cell_type": "code",
   "execution_count": 168,
   "metadata": {},
   "outputs": [
    {
     "data": {
      "text/plain": [
       "567"
      ]
     },
     "execution_count": 168,
     "metadata": {},
     "output_type": "execute_result"
    }
   ],
   "source": [
    "777-210"
   ]
  },
  {
   "cell_type": "markdown",
   "metadata": {},
   "source": [
    "# Seek to account for AVCBs renumber precincts accordingly"
   ]
  },
  {
   "cell_type": "markdown",
   "metadata": {},
   "source": [
    "Read in avcb translation csv thanks to Brian Amos - in report mark as inaccessible file"
   ]
  },
  {
   "cell_type": "code",
   "execution_count": 169,
   "metadata": {},
   "outputs": [],
   "source": [
    "avcb_csv = pd.read_csv('./raw-from-source/detroit16_readable.csv', names = ['AVCBid', 'precinctid'])"
   ]
  },
  {
   "cell_type": "markdown",
   "metadata": {},
   "source": [
    "Look at examples of specific IDs to try to reverse engineer what Amos file is telling me"
   ]
  },
  {
   "cell_type": "code",
   "execution_count": 170,
   "metadata": {},
   "outputs": [
    {
     "data": {
      "text/plain": [
       "4767    16322000001072AVCB\n",
       "Name: VTD2016_draft, dtype: object"
      ]
     },
     "execution_count": 170,
     "metadata": {},
     "output_type": "execute_result"
    }
   ],
   "source": [
    "df_pivot['VTD2016_draft'][df_pivot['VTD2016_draft'].str.slice(start = -7)=='072AVCB']"
   ]
  },
  {
   "cell_type": "code",
   "execution_count": 171,
   "metadata": {},
   "outputs": [
    {
     "data": {
      "text/plain": [
       "416    0276090000001\n",
       "417    0276090000002\n",
       "Name: VTD2016, dtype: object"
      ]
     },
     "execution_count": 171,
     "metadata": {},
     "output_type": "execute_result"
    }
   ],
   "source": [
    "shp['VTD2016'][shp['VTD2016'].str.contains('0276090000')]"
   ]
  },
  {
   "cell_type": "code",
   "execution_count": 172,
   "metadata": {},
   "outputs": [
    {
     "data": {
      "text/plain": [
       "901     14\n",
       "902      9\n",
       "903      7\n",
       "904      4\n",
       "905      4\n",
       "        ..\n",
       "965      1\n",
       "964      1\n",
       "963      1\n",
       "962      1\n",
       "1024     1\n",
       "Name: precinct_number, Length: 172, dtype: int64"
      ]
     },
     "execution_count": 172,
     "metadata": {},
     "output_type": "execute_result"
    }
   ],
   "source": [
    "df_pivot['precinct_number'][df_pivot['precinct_label'] == 'AVCB'].value_counts()"
   ]
  },
  {
   "cell_type": "code",
   "execution_count": 173,
   "metadata": {},
   "outputs": [
    {
     "data": {
      "text/plain": [
       "(172, 18)"
      ]
     },
     "execution_count": 173,
     "metadata": {},
     "output_type": "execute_result"
    }
   ],
   "source": [
    "df_pivot[(df_pivot['precinct_label'] == 'AVCB')&(df_pivot['county_name'] == 'WAYNE')].shape"
   ]
  },
  {
   "cell_type": "code",
   "execution_count": 174,
   "metadata": {},
   "outputs": [
    {
     "data": {
      "text/plain": [
       "array([  1,   2,   3,   4,   5,   6,   7,   8,   9,  10,  11,  12,  13,\n",
       "        14,  15,  16,  17,  18,  19,  20,  21,  22,  23,  24,  25,  26,\n",
       "        27,  28,  29,  30,  31,  32,  33,  34,  35,  36,  37,  38,  39,\n",
       "        40,  41,  42,  43,  44,  45,  46,  47,  48,  49,  50,  51,  52,\n",
       "        53,  54,  55,  56,  57,  58,  59,  60,  61,  62,  63,  64,  65,\n",
       "        66,  67,  68,  69,  70,  71,  72,  73,  74,  75,  76,  77,  78,\n",
       "        79,  80,  81,  82,  83,  84,  85,  86,  87,  88,  89,  90,  91,\n",
       "        92,  93,  94,  95,  96,  97,  98,  99, 100, 101, 102, 103, 104,\n",
       "       105, 106, 107, 108, 109, 110, 111, 112, 113, 114, 115, 116, 117,\n",
       "       118, 119, 120, 121, 122, 123, 124, 125, 126, 127, 128, 129, 130,\n",
       "       131, 132, 133, 134, 135, 136, 137, 138, 139, 140, 141, 142, 143,\n",
       "       144, 145, 146, 147, 148, 149, 150, 151, 152, 153, 154, 155, 156,\n",
       "       157, 158, 159, 160, 161, 162, 163, 164, 165, 166, 167, 168, 169,\n",
       "       170, 171, 172])"
      ]
     },
     "execution_count": 174,
     "metadata": {},
     "output_type": "execute_result"
    }
   ],
   "source": [
    "(df_pivot['precinct_number'][(df_pivot['precinct_label'] == 'AVCB')&(df_pivot['county_name'] == 'WAYNE')] - 900).unique()"
   ]
  },
  {
   "cell_type": "code",
   "execution_count": 175,
   "metadata": {},
   "outputs": [
    {
     "data": {
      "text/plain": [
       "172"
      ]
     },
     "execution_count": 175,
     "metadata": {},
     "output_type": "execute_result"
    }
   ],
   "source": [
    "avcb_csv.precinctid[avcb_csv.precinctid != '37/158'].astype('int64').max()"
   ]
  },
  {
   "cell_type": "code",
   "execution_count": 176,
   "metadata": {},
   "outputs": [
    {
     "data": {
      "text/plain": [
       "[1,\n",
       " 2,\n",
       " 3,\n",
       " 4,\n",
       " 5,\n",
       " 6,\n",
       " 7,\n",
       " 8,\n",
       " 9,\n",
       " 10,\n",
       " 11,\n",
       " 12,\n",
       " 13,\n",
       " 14,\n",
       " 15,\n",
       " 16,\n",
       " 17,\n",
       " 18,\n",
       " 19,\n",
       " 20,\n",
       " 21,\n",
       " 22,\n",
       " 23,\n",
       " 24,\n",
       " 25,\n",
       " 26,\n",
       " 27,\n",
       " 28,\n",
       " 29,\n",
       " 30,\n",
       " 31,\n",
       " 32,\n",
       " 33,\n",
       " 34,\n",
       " 35,\n",
       " 36,\n",
       " 37,\n",
       " 38,\n",
       " 39,\n",
       " 40,\n",
       " 41,\n",
       " 42,\n",
       " 43,\n",
       " 44,\n",
       " 45,\n",
       " 46,\n",
       " 47,\n",
       " 48,\n",
       " 49,\n",
       " 50,\n",
       " 51,\n",
       " 52,\n",
       " 53,\n",
       " 54,\n",
       " 55,\n",
       " 56,\n",
       " 57,\n",
       " 58,\n",
       " 59,\n",
       " 60,\n",
       " 61,\n",
       " 62,\n",
       " 63,\n",
       " 64,\n",
       " 65,\n",
       " 66,\n",
       " 67,\n",
       " 68,\n",
       " 69,\n",
       " 70,\n",
       " 71,\n",
       " 72,\n",
       " 73,\n",
       " 74,\n",
       " 75,\n",
       " 76,\n",
       " 77,\n",
       " 78,\n",
       " 79,\n",
       " 80,\n",
       " 81,\n",
       " 82,\n",
       " 83,\n",
       " 84,\n",
       " 85,\n",
       " 86,\n",
       " 87,\n",
       " 88,\n",
       " 89,\n",
       " 90,\n",
       " 91,\n",
       " 92,\n",
       " 93,\n",
       " 94,\n",
       " 95,\n",
       " 96,\n",
       " 97,\n",
       " 98,\n",
       " 99,\n",
       " 100,\n",
       " 101,\n",
       " 102,\n",
       " 103,\n",
       " 104,\n",
       " 105,\n",
       " 106,\n",
       " 107,\n",
       " 108,\n",
       " 109,\n",
       " 110,\n",
       " 111,\n",
       " 112,\n",
       " 113,\n",
       " 114,\n",
       " 115,\n",
       " 116,\n",
       " 117,\n",
       " 118,\n",
       " 119,\n",
       " 120,\n",
       " 121,\n",
       " 122,\n",
       " 123,\n",
       " 124,\n",
       " 125,\n",
       " 126,\n",
       " 127,\n",
       " 128,\n",
       " 129,\n",
       " 130,\n",
       " 131,\n",
       " 132,\n",
       " 133,\n",
       " 134,\n",
       " 135,\n",
       " 136,\n",
       " 137,\n",
       " 138,\n",
       " 139,\n",
       " 140,\n",
       " 141,\n",
       " 142,\n",
       " 143,\n",
       " 144,\n",
       " 145,\n",
       " 146,\n",
       " 147,\n",
       " 148,\n",
       " 149,\n",
       " 150,\n",
       " 151,\n",
       " 152,\n",
       " 153,\n",
       " 154,\n",
       " 155,\n",
       " 156,\n",
       " 157,\n",
       " 159,\n",
       " 160,\n",
       " 161,\n",
       " 162,\n",
       " 163,\n",
       " 164,\n",
       " 165,\n",
       " 166,\n",
       " 167,\n",
       " 168,\n",
       " 169,\n",
       " 170,\n",
       " 171,\n",
       " 172]"
      ]
     },
     "execution_count": 176,
     "metadata": {},
     "output_type": "execute_result"
    }
   ],
   "source": [
    "sorted(avcb_csv.precinctid[avcb_csv.precinctid != '37/158'].astype('int64').unique())"
   ]
  },
  {
   "cell_type": "code",
   "execution_count": 177,
   "metadata": {},
   "outputs": [
    {
     "data": {
      "text/html": [
       "<div>\n",
       "<style scoped>\n",
       "    .dataframe tbody tr th:only-of-type {\n",
       "        vertical-align: middle;\n",
       "    }\n",
       "\n",
       "    .dataframe tbody tr th {\n",
       "        vertical-align: top;\n",
       "    }\n",
       "\n",
       "    .dataframe thead th {\n",
       "        text-align: right;\n",
       "    }\n",
       "</style>\n",
       "<table border=\"1\" class=\"dataframe\">\n",
       "  <thead>\n",
       "    <tr style=\"text-align: right;\">\n",
       "      <th></th>\n",
       "      <th>AVCBid</th>\n",
       "      <th>precinctid</th>\n",
       "    </tr>\n",
       "  </thead>\n",
       "  <tbody>\n",
       "    <tr>\n",
       "      <th>0</th>\n",
       "      <td>1</td>\n",
       "      <td>21</td>\n",
       "    </tr>\n",
       "    <tr>\n",
       "      <th>1</th>\n",
       "      <td>2</td>\n",
       "      <td>21</td>\n",
       "    </tr>\n",
       "    <tr>\n",
       "      <th>2</th>\n",
       "      <td>3</td>\n",
       "      <td>21</td>\n",
       "    </tr>\n",
       "    <tr>\n",
       "      <th>3</th>\n",
       "      <td>4</td>\n",
       "      <td>22</td>\n",
       "    </tr>\n",
       "    <tr>\n",
       "      <th>4</th>\n",
       "      <td>5</td>\n",
       "      <td>13</td>\n",
       "    </tr>\n",
       "    <tr>\n",
       "      <th>...</th>\n",
       "      <td>...</td>\n",
       "      <td>...</td>\n",
       "    </tr>\n",
       "    <tr>\n",
       "      <th>485</th>\n",
       "      <td>486</td>\n",
       "      <td>65</td>\n",
       "    </tr>\n",
       "    <tr>\n",
       "      <th>486</th>\n",
       "      <td>487</td>\n",
       "      <td>166</td>\n",
       "    </tr>\n",
       "    <tr>\n",
       "      <th>487</th>\n",
       "      <td>488</td>\n",
       "      <td>74</td>\n",
       "    </tr>\n",
       "    <tr>\n",
       "      <th>488</th>\n",
       "      <td>489</td>\n",
       "      <td>86</td>\n",
       "    </tr>\n",
       "    <tr>\n",
       "      <th>489</th>\n",
       "      <td>490</td>\n",
       "      <td>95</td>\n",
       "    </tr>\n",
       "  </tbody>\n",
       "</table>\n",
       "<p>490 rows × 2 columns</p>\n",
       "</div>"
      ],
      "text/plain": [
       "     AVCBid precinctid\n",
       "0         1         21\n",
       "1         2         21\n",
       "2         3         21\n",
       "3         4         22\n",
       "4         5         13\n",
       "..      ...        ...\n",
       "485     486         65\n",
       "486     487        166\n",
       "487     488         74\n",
       "488     489         86\n",
       "489     490         95\n",
       "\n",
       "[490 rows x 2 columns]"
      ]
     },
     "execution_count": 177,
     "metadata": {},
     "output_type": "execute_result"
    }
   ],
   "source": [
    "avcb_csv"
   ]
  },
  {
   "cell_type": "markdown",
   "metadata": {},
   "source": [
    "### From mtg with Adriana - \n",
    "- precinct # - 900 = precinctid from csv --- check if 900 occurs in other ids?\n",
    "- make into dictionary, use .loc to apply to precinct_number, then make new VTD 2016"
   ]
  },
  {
   "cell_type": "code",
   "execution_count": 178,
   "metadata": {},
   "outputs": [
    {
     "name": "stdout",
     "output_type": "stream",
     "text": [
      "833\n",
      "566\n",
      "211\n"
     ]
    }
   ],
   "source": [
    "print(len(set(df_pivot['VTD2016_draft']) - set(gdfv['VTD2016'])))\n",
    "print(len(set(gdfv['VTD2016']) - set(df_pivot['VTD2016_draft'])))\n",
    "print(777-566)"
   ]
  },
  {
   "cell_type": "code",
   "execution_count": 179,
   "metadata": {},
   "outputs": [
    {
     "name": "stdout",
     "output_type": "stream",
     "text": [
      "210\n",
      "5077 4810 267\n"
     ]
    }
   ],
   "source": [
    "print(len(df_pivot['VTD2016_draft'][df_pivot['VTD2016_draft'].str.contains('AVCB')]))\n",
    "print(df_pivot.shape[0], gdfv.shape[0], df_pivot.shape[0] - gdfv.shape[0])"
   ]
  },
  {
   "cell_type": "markdown",
   "metadata": {},
   "source": [
    "Here, we can see that there are 566 values that do not match between the datasets, and that in addition, there are 210 IDs that need to be redistributed, which also accounts for the difference in dataset sizes"
   ]
  },
  {
   "cell_type": "code",
   "execution_count": 180,
   "metadata": {},
   "outputs": [],
   "source": [
    "avcb_wayne_only_df = df_pivot[(df_pivot['precinct_label'] == 'AVCB')&(df_pivot['county_name'] == 'WAYNE')]"
   ]
  },
  {
   "cell_type": "code",
   "execution_count": 181,
   "metadata": {},
   "outputs": [
    {
     "name": "stderr",
     "output_type": "stream",
     "text": [
      "<ipython-input-181-1d88123238a2>:1: SettingWithCopyWarning: \n",
      "A value is trying to be set on a copy of a slice from a DataFrame.\n",
      "Try using .loc[row_indexer,col_indexer] = value instead\n",
      "\n",
      "See the caveats in the documentation: https://pandas.pydata.org/pandas-docs/stable/user_guide/indexing.html#returning-a-view-versus-a-copy\n",
      "  avcb_wayne_only_df['new_vtd_minus900_precnum']=avcb_wayne_only_df['county_fips'] + avcb_wayne_only_df['jurisd'].astype(str).str.zfill(5) + avcb_wayne_only_df['ward_number'].astype(str).str.zfill(2)+(avcb_wayne_only_df['precinct_number']-900).astype(str).str.zfill(3)\n"
     ]
    }
   ],
   "source": [
    "avcb_wayne_only_df['new_vtd_minus900_precnum']=avcb_wayne_only_df['county_fips'] + avcb_wayne_only_df['jurisd'].astype(str).str.zfill(5) + avcb_wayne_only_df['ward_number'].astype(str).str.zfill(2)+(avcb_wayne_only_df['precinct_number']-900).astype(str).str.zfill(3)"
   ]
  },
  {
   "cell_type": "code",
   "execution_count": 182,
   "metadata": {},
   "outputs": [
    {
     "data": {
      "text/plain": [
       "172"
      ]
     },
     "execution_count": 182,
     "metadata": {},
     "output_type": "execute_result"
    }
   ],
   "source": [
    "len(set(avcb_wayne_only_df['new_vtd_minus900_precnum']) - set(gdfv['VTD2016']))"
   ]
  },
  {
   "cell_type": "code",
   "execution_count": 183,
   "metadata": {},
   "outputs": [
    {
     "data": {
      "text/plain": [
       "4596    1632200000001\n",
       "4597    1632200000002\n",
       "4598    1632200000003\n",
       "4599    1632200000004\n",
       "4600    1632200000005\n",
       "            ...      \n",
       "4763    1632200000168\n",
       "4764    1632200000169\n",
       "4765    1632200000170\n",
       "4766    1632200000171\n",
       "4767    1632200000172\n",
       "Name: new_vtd_minus900_precnum, Length: 172, dtype: object"
      ]
     },
     "execution_count": 183,
     "metadata": {},
     "output_type": "execute_result"
    }
   ],
   "source": [
    "avcb_wayne_only_df['new_vtd_minus900_precnum']"
   ]
  },
  {
   "cell_type": "code",
   "execution_count": 184,
   "metadata": {},
   "outputs": [
    {
     "data": {
      "text/html": [
       "<div>\n",
       "<style scoped>\n",
       "    .dataframe tbody tr th:only-of-type {\n",
       "        vertical-align: middle;\n",
       "    }\n",
       "\n",
       "    .dataframe tbody tr th {\n",
       "        vertical-align: top;\n",
       "    }\n",
       "\n",
       "    .dataframe thead th {\n",
       "        text-align: right;\n",
       "    }\n",
       "</style>\n",
       "<table border=\"1\" class=\"dataframe\">\n",
       "  <thead>\n",
       "    <tr style=\"text-align: right;\">\n",
       "      <th></th>\n",
       "      <th>VTD2016</th>\n",
       "      <th>Label</th>\n",
       "      <th>G16PREDCli</th>\n",
       "      <th>G16PRERTru</th>\n",
       "      <th>G16PREGSte</th>\n",
       "      <th>G16PRELJoh</th>\n",
       "      <th>G16PREOth</th>\n",
       "      <th>geometry</th>\n",
       "      <th>join_tst1</th>\n",
       "    </tr>\n",
       "  </thead>\n",
       "  <tbody>\n",
       "    <tr>\n",
       "      <th>3721</th>\n",
       "      <td>1632200005171</td>\n",
       "      <td>City of Detroit</td>\n",
       "      <td>210</td>\n",
       "      <td>16</td>\n",
       "      <td>8</td>\n",
       "      <td>2</td>\n",
       "      <td>0</td>\n",
       "      <td>POLYGON ((-83.08199 42.38878, -83.08185 42.388...</td>\n",
       "      <td>16322000171</td>\n",
       "    </tr>\n",
       "  </tbody>\n",
       "</table>\n",
       "</div>"
      ],
      "text/plain": [
       "            VTD2016            Label  G16PREDCli  G16PRERTru  G16PREGSte  \\\n",
       "3721  1632200005171  City of Detroit         210          16           8   \n",
       "\n",
       "      G16PRELJoh  G16PREOth  \\\n",
       "3721           2          0   \n",
       "\n",
       "                                               geometry    join_tst1  \n",
       "3721  POLYGON ((-83.08199 42.38878, -83.08185 42.388...  16322000171  "
      ]
     },
     "execution_count": 184,
     "metadata": {},
     "output_type": "execute_result"
    }
   ],
   "source": [
    "gdfv[(gdfv['VTD2016'].str.contains('163'))&(gdfv['VTD2016'].str.contains('171'))]"
   ]
  },
  {
   "cell_type": "markdown",
   "metadata": {},
   "source": [
    "See here that the wards are the problem - the precinct change, it seems, fixed the precinct number problem, but in the df all wards = 00, whereas in the gdfv the wards range from 01-09 excluding 08.\n",
    "\n",
    "look at both df and gdf with only detroit to compare "
   ]
  },
  {
   "cell_type": "code",
   "execution_count": 185,
   "metadata": {},
   "outputs": [],
   "source": [
    "detroit_only_gdfv = gdfv[gdfv['VTD2016'].str.contains('16322000')]"
   ]
  },
  {
   "cell_type": "code",
   "execution_count": 186,
   "metadata": {
    "collapsed": true,
    "jupyter": {
     "outputs_hidden": true
    }
   },
   "outputs": [
    {
     "data": {
      "text/plain": [
       "['001',\n",
       " '002',\n",
       " '003',\n",
       " '004',\n",
       " '005',\n",
       " '006',\n",
       " '007',\n",
       " '008',\n",
       " '009',\n",
       " '010',\n",
       " '011',\n",
       " '012',\n",
       " '013',\n",
       " '014',\n",
       " '015',\n",
       " '016',\n",
       " '017',\n",
       " '018',\n",
       " '019',\n",
       " '020',\n",
       " '021',\n",
       " '022',\n",
       " '023',\n",
       " '024',\n",
       " '025',\n",
       " '026',\n",
       " '027',\n",
       " '028',\n",
       " '029',\n",
       " '030',\n",
       " '031',\n",
       " '032',\n",
       " '033',\n",
       " '034',\n",
       " '035',\n",
       " '036',\n",
       " '037',\n",
       " '038',\n",
       " '039',\n",
       " '040',\n",
       " '041',\n",
       " '042',\n",
       " '043',\n",
       " '044',\n",
       " '045',\n",
       " '046',\n",
       " '047',\n",
       " '048',\n",
       " '049',\n",
       " '050',\n",
       " '051',\n",
       " '052',\n",
       " '053',\n",
       " '054',\n",
       " '055',\n",
       " '056',\n",
       " '057',\n",
       " '058',\n",
       " '059',\n",
       " '060',\n",
       " '061',\n",
       " '062',\n",
       " '063',\n",
       " '064',\n",
       " '065',\n",
       " '066',\n",
       " '067',\n",
       " '068',\n",
       " '069',\n",
       " '070',\n",
       " '071',\n",
       " '072',\n",
       " '073',\n",
       " '074',\n",
       " '075',\n",
       " '076',\n",
       " '077',\n",
       " '078',\n",
       " '079',\n",
       " '080',\n",
       " '081',\n",
       " '082',\n",
       " '083',\n",
       " '084',\n",
       " '085',\n",
       " '086',\n",
       " '087',\n",
       " '088',\n",
       " '089',\n",
       " '090',\n",
       " '091',\n",
       " '092',\n",
       " '093',\n",
       " '094',\n",
       " '095',\n",
       " '096',\n",
       " '097',\n",
       " '098',\n",
       " '099',\n",
       " '100',\n",
       " '101',\n",
       " '102',\n",
       " '103',\n",
       " '104',\n",
       " '105',\n",
       " '106',\n",
       " '107',\n",
       " '108',\n",
       " '109',\n",
       " '110',\n",
       " '111',\n",
       " '112',\n",
       " '113',\n",
       " '114',\n",
       " '115',\n",
       " '116',\n",
       " '117',\n",
       " '118',\n",
       " '119',\n",
       " '120',\n",
       " '121',\n",
       " '122',\n",
       " '123',\n",
       " '124',\n",
       " '125',\n",
       " '126',\n",
       " '127',\n",
       " '128',\n",
       " '129',\n",
       " '130',\n",
       " '131',\n",
       " '132',\n",
       " '133',\n",
       " '134',\n",
       " '135',\n",
       " '136',\n",
       " '137',\n",
       " '138',\n",
       " '139',\n",
       " '140',\n",
       " '141',\n",
       " '142',\n",
       " '143',\n",
       " '144',\n",
       " '145',\n",
       " '146',\n",
       " '147',\n",
       " '148',\n",
       " '149',\n",
       " '150',\n",
       " '151',\n",
       " '152',\n",
       " '153',\n",
       " '154',\n",
       " '155',\n",
       " '156',\n",
       " '157',\n",
       " '158',\n",
       " '159',\n",
       " '160',\n",
       " '161',\n",
       " '162',\n",
       " '163',\n",
       " '164',\n",
       " '165',\n",
       " '166',\n",
       " '167',\n",
       " '168',\n",
       " '169',\n",
       " '170',\n",
       " '171',\n",
       " '172',\n",
       " '173',\n",
       " '174',\n",
       " '175',\n",
       " '176',\n",
       " '177',\n",
       " '178',\n",
       " '179',\n",
       " '180',\n",
       " '181',\n",
       " '182',\n",
       " '183',\n",
       " '184',\n",
       " '185',\n",
       " '186',\n",
       " '187',\n",
       " '188',\n",
       " '189',\n",
       " '190',\n",
       " '191',\n",
       " '192',\n",
       " '193',\n",
       " '194',\n",
       " '195',\n",
       " '196',\n",
       " '197',\n",
       " '198',\n",
       " '199',\n",
       " '200',\n",
       " '201',\n",
       " '202',\n",
       " '203',\n",
       " '204',\n",
       " '205',\n",
       " '206',\n",
       " '207',\n",
       " '208',\n",
       " '209',\n",
       " '210',\n",
       " '211',\n",
       " '212',\n",
       " '213',\n",
       " '214',\n",
       " '215',\n",
       " '216',\n",
       " '217',\n",
       " '218',\n",
       " '219',\n",
       " '220',\n",
       " '221',\n",
       " '222',\n",
       " '223',\n",
       " '224',\n",
       " '225',\n",
       " '226',\n",
       " '227',\n",
       " '228',\n",
       " '229',\n",
       " '230',\n",
       " '231',\n",
       " '232',\n",
       " '233',\n",
       " '234',\n",
       " '235',\n",
       " '236',\n",
       " '237',\n",
       " '238',\n",
       " '239',\n",
       " '240',\n",
       " '241',\n",
       " '242',\n",
       " '243',\n",
       " '244',\n",
       " '245',\n",
       " '246',\n",
       " '247',\n",
       " '248',\n",
       " '249',\n",
       " '250',\n",
       " '251',\n",
       " '252',\n",
       " '253',\n",
       " '254',\n",
       " '255',\n",
       " '256',\n",
       " '257',\n",
       " '258',\n",
       " '259',\n",
       " '260',\n",
       " '261',\n",
       " '262',\n",
       " '263',\n",
       " '264',\n",
       " '265',\n",
       " '266',\n",
       " '267',\n",
       " '268',\n",
       " '269',\n",
       " '270',\n",
       " '271',\n",
       " '272',\n",
       " '273',\n",
       " '274',\n",
       " '275',\n",
       " '276',\n",
       " '277',\n",
       " '278',\n",
       " '279',\n",
       " '280',\n",
       " '281',\n",
       " '282',\n",
       " '283',\n",
       " '284',\n",
       " '285',\n",
       " '286',\n",
       " '287',\n",
       " '288',\n",
       " '289',\n",
       " '290',\n",
       " '291',\n",
       " '292',\n",
       " '293',\n",
       " '294',\n",
       " '295',\n",
       " '296',\n",
       " '297',\n",
       " '298',\n",
       " '299',\n",
       " '300',\n",
       " '301',\n",
       " '302',\n",
       " '303',\n",
       " '304',\n",
       " '305',\n",
       " '306',\n",
       " '307',\n",
       " '308',\n",
       " '309',\n",
       " '310',\n",
       " '311',\n",
       " '312',\n",
       " '313',\n",
       " '314',\n",
       " '315',\n",
       " '316',\n",
       " '317',\n",
       " '318',\n",
       " '319',\n",
       " '320',\n",
       " '321',\n",
       " '322',\n",
       " '323',\n",
       " '324',\n",
       " '325',\n",
       " '326',\n",
       " '327',\n",
       " '328',\n",
       " '329',\n",
       " '330',\n",
       " '331',\n",
       " '332',\n",
       " '333',\n",
       " '334',\n",
       " '335',\n",
       " '336',\n",
       " '337',\n",
       " '338',\n",
       " '339',\n",
       " '340',\n",
       " '341',\n",
       " '342',\n",
       " '343',\n",
       " '344',\n",
       " '345',\n",
       " '346',\n",
       " '347',\n",
       " '348',\n",
       " '349',\n",
       " '350',\n",
       " '351',\n",
       " '352',\n",
       " '353',\n",
       " '354',\n",
       " '355',\n",
       " '356',\n",
       " '357',\n",
       " '358',\n",
       " '359',\n",
       " '360',\n",
       " '361',\n",
       " '362',\n",
       " '363',\n",
       " '364',\n",
       " '365',\n",
       " '366',\n",
       " '367',\n",
       " '368',\n",
       " '369',\n",
       " '370',\n",
       " '371',\n",
       " '372',\n",
       " '373',\n",
       " '374',\n",
       " '375',\n",
       " '376',\n",
       " '377',\n",
       " '378',\n",
       " '379',\n",
       " '380',\n",
       " '381',\n",
       " '382',\n",
       " '383',\n",
       " '384',\n",
       " '385',\n",
       " '386',\n",
       " '387',\n",
       " '388',\n",
       " '389',\n",
       " '390',\n",
       " '391',\n",
       " '392',\n",
       " '393',\n",
       " '394',\n",
       " '395',\n",
       " '396',\n",
       " '397',\n",
       " '398',\n",
       " '399',\n",
       " '400',\n",
       " '401',\n",
       " '402',\n",
       " '403',\n",
       " '404',\n",
       " '405',\n",
       " '406',\n",
       " '407',\n",
       " '408',\n",
       " '409',\n",
       " '410',\n",
       " '411',\n",
       " '412',\n",
       " '413',\n",
       " '414',\n",
       " '415',\n",
       " '416',\n",
       " '417',\n",
       " '418',\n",
       " '419',\n",
       " '420',\n",
       " '421',\n",
       " '422',\n",
       " '423',\n",
       " '424',\n",
       " '425',\n",
       " '426',\n",
       " '427',\n",
       " '428',\n",
       " '429',\n",
       " '430',\n",
       " '431',\n",
       " '432',\n",
       " '433',\n",
       " '434',\n",
       " '435',\n",
       " '436',\n",
       " '437',\n",
       " '438',\n",
       " '439',\n",
       " '440',\n",
       " '441',\n",
       " '442',\n",
       " '443',\n",
       " '444',\n",
       " '445',\n",
       " '446',\n",
       " '447',\n",
       " '448',\n",
       " '449',\n",
       " '450',\n",
       " '451',\n",
       " '452',\n",
       " '453',\n",
       " '454',\n",
       " '455',\n",
       " '456',\n",
       " '457',\n",
       " '458',\n",
       " '459',\n",
       " '460',\n",
       " '461',\n",
       " '462',\n",
       " '463',\n",
       " '464',\n",
       " '465',\n",
       " '466',\n",
       " '467',\n",
       " '468',\n",
       " '469',\n",
       " '470',\n",
       " '471',\n",
       " '472',\n",
       " '473',\n",
       " '474',\n",
       " '475',\n",
       " '476',\n",
       " '477',\n",
       " '478',\n",
       " '479',\n",
       " '480',\n",
       " '481',\n",
       " '482',\n",
       " '483',\n",
       " '484',\n",
       " '485',\n",
       " '486',\n",
       " '487',\n",
       " '488',\n",
       " '489',\n",
       " '490']"
      ]
     },
     "execution_count": 186,
     "metadata": {},
     "output_type": "execute_result"
    }
   ],
   "source": [
    "sorted(detroit_only_gdfv.VTD2016.str.slice(start = -3).unique())"
   ]
  },
  {
   "cell_type": "markdown",
   "metadata": {},
   "source": [
    "See that detroit precincts range from 000-490. Re-read VEST documentation and understand that AVCB votes need to be split by county according to non-avcb precincts in the county."
   ]
  },
  {
   "cell_type": "markdown",
   "metadata": {},
   "source": [
    "## Reallocate absentee (AVCB) votes and statistical adjustments"
   ]
  },
  {
   "cell_type": "code",
   "execution_count": 187,
   "metadata": {},
   "outputs": [],
   "source": [
    "def get_absentee_frac(prec_tot, county_tot, absentee_tot):\n",
    "    '''A spec specifies in first line what function will do\n",
    "    Returns fraction of county absentee votes for a precinct for a candidate\n",
    "    \n",
    "    Keyword arguments: (put inputs to funtions and say what they should be)\n",
    "    precinct vote total for given candidate (int)\n",
    "    county vote total for given candidate, absentee and provisional votes not included (int)\n",
    "    absentee vote total for county for given candidate (int)\n",
    "    \n",
    "    \"Pure function\" bc only relies on inputs and outputs - only variables are ones that were passed as arguments\n",
    "    '''\n",
    "    if county_tot != 0:\n",
    "        prec_frac = prec_tot/county_tot\n",
    "        absentee_frac = prec_frac*absentee_tot\n",
    "    else:\n",
    "        absentee_frac = 0\n",
    "    return absentee_frac"
   ]
  },
  {
   "cell_type": "code",
   "execution_count": 188,
   "metadata": {},
   "outputs": [
    {
     "data": {
      "text/plain": [
       "G16PREDCli    2268839\n",
       "G16PRERTru    2279543\n",
       "G16PREGSte      51463\n",
       "G16PRELJoh     172136\n",
       "G16PREOth       27303\n",
       "dtype: int64"
      ]
     },
     "execution_count": 188,
     "metadata": {},
     "output_type": "execute_result"
    }
   ],
   "source": [
    "df_pivot[['G16PREDCli','G16PRERTru','G16PREGSte','G16PRELJoh','G16PREOth']].sum()"
   ]
  },
  {
   "cell_type": "code",
   "execution_count": 189,
   "metadata": {},
   "outputs": [
    {
     "data": {
      "text/plain": [
       "G16PREDCli    2268839\n",
       "G16PRERTru    2279543\n",
       "G16PREGSte      51463\n",
       "G16PRELJoh     172136\n",
       "G16PREOth       27303\n",
       "dtype: int64"
      ]
     },
     "execution_count": 189,
     "metadata": {},
     "output_type": "execute_result"
    }
   ],
   "source": [
    "gdfv[['G16PREDCli','G16PRERTru','G16PREGSte','G16PRELJoh','G16PREOth']].sum()"
   ]
  },
  {
   "cell_type": "code",
   "execution_count": 190,
   "metadata": {},
   "outputs": [],
   "source": [
    "avcb_and_stat = df_pivot[(df_pivot['precinct_label'].map(lambda x: 'AVCB' in str(x))) | \n",
    "                         (df_pivot['city_town_name'].map(lambda x: 'Statistical Adjustments' in str(x)))]\n",
    "groupby_avcb_and_stat_tot = pd.DataFrame(avcb_and_stat, columns = ['county_fips','G16PREGSte', 'G16PREDCli', 'G16PRERTru', 'G16PRELJoh', 'G16PREOth']).groupby(['county_fips']).sum()\n",
    "groupby_county_df_tot = pd.DataFrame(df_pivot, columns = ['county_fips','G16PREGSte', 'G16PREDCli', 'G16PRERTru', 'G16PRELJoh', 'G16PREOth']).groupby(['county_fips']).sum()\n",
    "df_no_avcb_or_stat = df_pivot[(df_pivot['precinct_label'].map(lambda x: 'AVCB' not in str(x))) & \n",
    "                              (df_pivot['city_town_name'].map(lambda x: 'Statistical Adjustments' not in str(x)))\n",
    "                               ]\n",
    "groupby_county_tot_no_avcborstat = pd.DataFrame(df_no_avcb_or_stat, columns = ['county_fips','G16PREGSte', 'G16PREDCli', 'G16PRERTru', 'G16PRELJoh', 'G16PREOth']).groupby(['county_fips']).sum()"
   ]
  },
  {
   "cell_type": "code",
   "execution_count": 191,
   "metadata": {},
   "outputs": [],
   "source": [
    "#6/1 - reorganize to loop through avcb and stat adjust bc fewer there\n",
    "df_with_avcb_and_stat_reallocated = df_no_avcb_or_stat.copy()\n",
    "for index, precinct_total_row_by_candidate in df_no_avcb_or_stat.iterrows():\n",
    "    #print(precinct_total_row_by_candidate)\n",
    "    county_fips = precinct_total_row_by_candidate['county_fips']\n",
    "    if county_fips in list(groupby_avcb_and_stat_tot.index):\n",
    "        county_total_row_by_candidate_no_absentee = groupby_county_tot_no_avcborstat.loc[county_fips]\n",
    "        county_avcb_and_stat_by_candidate = groupby_avcb_and_stat_tot.loc[county_fips] \n",
    "        #print(precinct_total_row_by_candidate, county_total_row_by_candidate_no_absentee, county_absentee_and_provisional_by_candidate)\n",
    "        for candidate, votes in county_total_row_by_candidate_no_absentee.to_dict().items():\n",
    "            prec_tot = precinct_total_row_by_candidate[candidate]\n",
    "            #print('precinct total: ', prec_tot)\n",
    "            county_tot = votes\n",
    "            #print('county total: ', county_tot)\n",
    "            absentee_tot = county_avcb_and_stat_by_candidate[candidate]\n",
    "            #print('absentee total: ', absentee_tot)\n",
    "            absentee_frac = get_absentee_frac(prec_tot, county_tot, absentee_tot)\n",
    "            #print('absentee votes to allocate to precinct: ', absentee_frac)\n",
    "            prec_with_absentee_allocation = prec_tot + absentee_frac\n",
    "            #print('new precinct total: ', prec_with_absentee_allocation)\n",
    "            df_with_avcb_and_stat_reallocated.loc[index, candidate] = round(prec_with_absentee_allocation) #index is row, candidate is column"
   ]
  },
  {
   "cell_type": "code",
   "execution_count": 192,
   "metadata": {},
   "outputs": [
    {
     "data": {
      "text/html": [
       "<div>\n",
       "<style scoped>\n",
       "    .dataframe tbody tr th:only-of-type {\n",
       "        vertical-align: middle;\n",
       "    }\n",
       "\n",
       "    .dataframe tbody tr th {\n",
       "        vertical-align: top;\n",
       "    }\n",
       "\n",
       "    .dataframe thead th {\n",
       "        text-align: right;\n",
       "    }\n",
       "</style>\n",
       "<table border=\"1\" class=\"dataframe\">\n",
       "  <thead>\n",
       "    <tr style=\"text-align: right;\">\n",
       "      <th></th>\n",
       "      <th>candidate_id</th>\n",
       "      <th>county_code</th>\n",
       "      <th>city_town_code</th>\n",
       "      <th>ward_number</th>\n",
       "      <th>precinct_number</th>\n",
       "      <th>G16PREGSte_x</th>\n",
       "      <th>G16PREDCli_x</th>\n",
       "      <th>G16PRERTru_x</th>\n",
       "      <th>G16PRELJoh_x</th>\n",
       "      <th>G16PREOth_x</th>\n",
       "      <th>jurisd</th>\n",
       "      <th>G16PREDCli_y</th>\n",
       "      <th>G16PRERTru_y</th>\n",
       "      <th>G16PREGSte_y</th>\n",
       "      <th>G16PRELJoh_y</th>\n",
       "      <th>G16PREOth_y</th>\n",
       "    </tr>\n",
       "    <tr>\n",
       "      <th>county_fips</th>\n",
       "      <th></th>\n",
       "      <th></th>\n",
       "      <th></th>\n",
       "      <th></th>\n",
       "      <th></th>\n",
       "      <th></th>\n",
       "      <th></th>\n",
       "      <th></th>\n",
       "      <th></th>\n",
       "      <th></th>\n",
       "      <th></th>\n",
       "      <th></th>\n",
       "      <th></th>\n",
       "      <th></th>\n",
       "      <th></th>\n",
       "      <th></th>\n",
       "    </tr>\n",
       "  </thead>\n",
       "  <tbody>\n",
       "    <tr>\n",
       "      <th>001</th>\n",
       "      <td>66</td>\n",
       "      <td>12</td>\n",
       "      <td>184</td>\n",
       "      <td>1</td>\n",
       "      <td>12</td>\n",
       "      <td>54.0</td>\n",
       "      <td>1732.0</td>\n",
       "      <td>4201.0</td>\n",
       "      <td>164.0</td>\n",
       "      <td>46.0</td>\n",
       "      <td>414400</td>\n",
       "      <td>1732</td>\n",
       "      <td>4201</td>\n",
       "      <td>54</td>\n",
       "      <td>164</td>\n",
       "      <td>47</td>\n",
       "    </tr>\n",
       "    <tr>\n",
       "      <th>003</th>\n",
       "      <td>175</td>\n",
       "      <td>20</td>\n",
       "      <td>136</td>\n",
       "      <td>0</td>\n",
       "      <td>11</td>\n",
       "      <td>67.0</td>\n",
       "      <td>1663.0</td>\n",
       "      <td>2585.0</td>\n",
       "      <td>177.0</td>\n",
       "      <td>25.0</td>\n",
       "      <td>448320</td>\n",
       "      <td>1663</td>\n",
       "      <td>2585</td>\n",
       "      <td>67</td>\n",
       "      <td>177</td>\n",
       "      <td>26</td>\n",
       "    </tr>\n",
       "    <tr>\n",
       "      <th>005</th>\n",
       "      <td>2139</td>\n",
       "      <td>138</td>\n",
       "      <td>1522</td>\n",
       "      <td>19</td>\n",
       "      <td>99</td>\n",
       "      <td>596.0</td>\n",
       "      <td>18050.0</td>\n",
       "      <td>34183.0</td>\n",
       "      <td>2513.0</td>\n",
       "      <td>444.0</td>\n",
       "      <td>2053680</td>\n",
       "      <td>18050</td>\n",
       "      <td>34183</td>\n",
       "      <td>596</td>\n",
       "      <td>2513</td>\n",
       "      <td>444</td>\n",
       "    </tr>\n",
       "    <tr>\n",
       "      <th>007</th>\n",
       "      <td>1326</td>\n",
       "      <td>68</td>\n",
       "      <td>340</td>\n",
       "      <td>0</td>\n",
       "      <td>41</td>\n",
       "      <td>160.0</td>\n",
       "      <td>4877.0</td>\n",
       "      <td>9090.0</td>\n",
       "      <td>498.0</td>\n",
       "      <td>74.0</td>\n",
       "      <td>458440</td>\n",
       "      <td>4877</td>\n",
       "      <td>9090</td>\n",
       "      <td>160</td>\n",
       "      <td>498</td>\n",
       "      <td>73</td>\n",
       "    </tr>\n",
       "    <tr>\n",
       "      <th>009</th>\n",
       "      <td>1528</td>\n",
       "      <td>80</td>\n",
       "      <td>262</td>\n",
       "      <td>0</td>\n",
       "      <td>17</td>\n",
       "      <td>146.0</td>\n",
       "      <td>4448.0</td>\n",
       "      <td>8469.0</td>\n",
       "      <td>459.0</td>\n",
       "      <td>60.0</td>\n",
       "      <td>651260</td>\n",
       "      <td>4448</td>\n",
       "      <td>8469</td>\n",
       "      <td>146</td>\n",
       "      <td>459</td>\n",
       "      <td>60</td>\n",
       "    </tr>\n",
       "    <tr>\n",
       "      <th>...</th>\n",
       "      <td>...</td>\n",
       "      <td>...</td>\n",
       "      <td>...</td>\n",
       "      <td>...</td>\n",
       "      <td>...</td>\n",
       "      <td>...</td>\n",
       "      <td>...</td>\n",
       "      <td>...</td>\n",
       "      <td>...</td>\n",
       "      <td>...</td>\n",
       "      <td>...</td>\n",
       "      <td>...</td>\n",
       "      <td>...</td>\n",
       "      <td>...</td>\n",
       "      <td>...</td>\n",
       "      <td>...</td>\n",
       "    </tr>\n",
       "    <tr>\n",
       "      <th>157</th>\n",
       "      <td>114421</td>\n",
       "      <td>2449</td>\n",
       "      <td>810</td>\n",
       "      <td>0</td>\n",
       "      <td>37</td>\n",
       "      <td>221.0</td>\n",
       "      <td>7429.0</td>\n",
       "      <td>17102.0</td>\n",
       "      <td>872.0</td>\n",
       "      <td>169.0</td>\n",
       "      <td>1230020</td>\n",
       "      <td>7429</td>\n",
       "      <td>17102</td>\n",
       "      <td>221</td>\n",
       "      <td>872</td>\n",
       "      <td>172</td>\n",
       "    </tr>\n",
       "    <tr>\n",
       "      <th>159</th>\n",
       "      <td>122892</td>\n",
       "      <td>2640</td>\n",
       "      <td>800</td>\n",
       "      <td>6</td>\n",
       "      <td>49</td>\n",
       "      <td>417.0</td>\n",
       "      <td>13258.0</td>\n",
       "      <td>17890.0</td>\n",
       "      <td>1480.0</td>\n",
       "      <td>228.0</td>\n",
       "      <td>1159920</td>\n",
       "      <td>13258</td>\n",
       "      <td>17890</td>\n",
       "      <td>417</td>\n",
       "      <td>1480</td>\n",
       "      <td>229</td>\n",
       "    </tr>\n",
       "    <tr>\n",
       "      <th>161</th>\n",
       "      <td>537492</td>\n",
       "      <td>11421</td>\n",
       "      <td>5536</td>\n",
       "      <td>170</td>\n",
       "      <td>664</td>\n",
       "      <td>2472.0</td>\n",
       "      <td>128483.0</td>\n",
       "      <td>50631.0</td>\n",
       "      <td>5840.0</td>\n",
       "      <td>1136.0</td>\n",
       "      <td>6287770</td>\n",
       "      <td>128483</td>\n",
       "      <td>50631</td>\n",
       "      <td>2472</td>\n",
       "      <td>5840</td>\n",
       "      <td>1152</td>\n",
       "    </tr>\n",
       "    <tr>\n",
       "      <th>163</th>\n",
       "      <td>4427981</td>\n",
       "      <td>81918</td>\n",
       "      <td>58328</td>\n",
       "      <td>37</td>\n",
       "      <td>126756</td>\n",
       "      <td>7660.0</td>\n",
       "      <td>519435.0</td>\n",
       "      <td>228946.0</td>\n",
       "      <td>18776.0</td>\n",
       "      <td>2724.0</td>\n",
       "      <td>35449291</td>\n",
       "      <td>519444</td>\n",
       "      <td>228993</td>\n",
       "      <td>7784</td>\n",
       "      <td>18801</td>\n",
       "      <td>2816</td>\n",
       "    </tr>\n",
       "    <tr>\n",
       "      <th>165</th>\n",
       "      <td>101310</td>\n",
       "      <td>1660</td>\n",
       "      <td>482</td>\n",
       "      <td>0</td>\n",
       "      <td>23</td>\n",
       "      <td>192.0</td>\n",
       "      <td>4436.0</td>\n",
       "      <td>10000.0</td>\n",
       "      <td>579.0</td>\n",
       "      <td>91.0</td>\n",
       "      <td>739860</td>\n",
       "      <td>4436</td>\n",
       "      <td>10000</td>\n",
       "      <td>192</td>\n",
       "      <td>579</td>\n",
       "      <td>91</td>\n",
       "    </tr>\n",
       "  </tbody>\n",
       "</table>\n",
       "<p>83 rows × 16 columns</p>\n",
       "</div>"
      ],
      "text/plain": [
       "             candidate_id  county_code  city_town_code  ward_number  \\\n",
       "county_fips                                                           \n",
       "001                    66           12             184            1   \n",
       "003                   175           20             136            0   \n",
       "005                  2139          138            1522           19   \n",
       "007                  1326           68             340            0   \n",
       "009                  1528           80             262            0   \n",
       "...                   ...          ...             ...          ...   \n",
       "157                114421         2449             810            0   \n",
       "159                122892         2640             800            6   \n",
       "161                537492        11421            5536          170   \n",
       "163               4427981        81918           58328           37   \n",
       "165                101310         1660             482            0   \n",
       "\n",
       "             precinct_number  G16PREGSte_x  G16PREDCli_x  G16PRERTru_x  \\\n",
       "county_fips                                                              \n",
       "001                       12          54.0        1732.0        4201.0   \n",
       "003                       11          67.0        1663.0        2585.0   \n",
       "005                       99         596.0       18050.0       34183.0   \n",
       "007                       41         160.0        4877.0        9090.0   \n",
       "009                       17         146.0        4448.0        8469.0   \n",
       "...                      ...           ...           ...           ...   \n",
       "157                       37         221.0        7429.0       17102.0   \n",
       "159                       49         417.0       13258.0       17890.0   \n",
       "161                      664        2472.0      128483.0       50631.0   \n",
       "163                   126756        7660.0      519435.0      228946.0   \n",
       "165                       23         192.0        4436.0       10000.0   \n",
       "\n",
       "             G16PRELJoh_x  G16PREOth_x    jurisd  G16PREDCli_y  G16PRERTru_y  \\\n",
       "county_fips                                                                    \n",
       "001                 164.0         46.0    414400          1732          4201   \n",
       "003                 177.0         25.0    448320          1663          2585   \n",
       "005                2513.0        444.0   2053680         18050         34183   \n",
       "007                 498.0         74.0    458440          4877          9090   \n",
       "009                 459.0         60.0    651260          4448          8469   \n",
       "...                   ...          ...       ...           ...           ...   \n",
       "157                 872.0        169.0   1230020          7429         17102   \n",
       "159                1480.0        228.0   1159920         13258         17890   \n",
       "161                5840.0       1136.0   6287770        128483         50631   \n",
       "163               18776.0       2724.0  35449291        519444        228993   \n",
       "165                 579.0         91.0    739860          4436         10000   \n",
       "\n",
       "             G16PREGSte_y  G16PRELJoh_y  G16PREOth_y  \n",
       "county_fips                                           \n",
       "001                    54           164           47  \n",
       "003                    67           177           26  \n",
       "005                   596          2513          444  \n",
       "007                   160           498           73  \n",
       "009                   146           459           60  \n",
       "...                   ...           ...          ...  \n",
       "157                   221           872          172  \n",
       "159                   417          1480          229  \n",
       "161                  2472          5840         1152  \n",
       "163                  7784         18801         2816  \n",
       "165                   192           579           91  \n",
       "\n",
       "[83 rows x 16 columns]"
      ]
     },
     "execution_count": 192,
     "metadata": {},
     "output_type": "execute_result"
    }
   ],
   "source": [
    "groupby_df_with_avcb_and_stat_reallocated = df_with_avcb_and_stat_reallocated.groupby('county_fips').sum()\n",
    "gdfv['county_fips'] = gdfv['VTD2016'].str.slice(stop = 3)\n",
    "groupby_county_gdfv = gdfv.groupby('county_fips').sum()\n",
    "df_avcbstat_reallocate_with_final = pd.merge(groupby_df_with_avcb_and_stat_reallocated, groupby_county_gdfv, on = 'county_fips', how = 'inner', suffixes = ('_x', '_y'))\n",
    "df_avcbstat_reallocate_with_final"
   ]
  },
  {
   "cell_type": "code",
   "execution_count": 193,
   "metadata": {},
   "outputs": [],
   "source": [
    "def sum_checker(df, column_list):\n",
    "    list_max = 0\n",
    "    for i in column_list:\n",
    "        left_sum = df[i+'_x'].sum()\n",
    "        right_sum = df[i+'_y'].sum()\n",
    "        if (left_sum == right_sum):\n",
    "            print('column: ', i, ' have the same sums')\n",
    "        \n",
    "        else:\n",
    "            diff = abs(left_sum - right_sum)\n",
    "            percent = abs(left_sum - right_sum)/left_sum\n",
    "            print('column: ', i)\n",
    "            print('RDH sum is ', str(left_sum))\n",
    "            print('Partner sum is ', str(right_sum))\n",
    "            print('their (absolute) difference is ', str(diff))\n",
    "            print('As a percentage of DF1 this is ', str(round(percent*100,5)) + '%')\n",
    "            if (percent>list_max):\n",
    "                list_max = percent\n",
    "            print('')\n",
    "    print('The max difference (as a percent of the total of on DF column is: ', str(round(list_max,5)))"
   ]
  },
  {
   "cell_type": "code",
   "execution_count": 194,
   "metadata": {},
   "outputs": [
    {
     "name": "stdout",
     "output_type": "stream",
     "text": [
      "column:  G16PREDCli\n",
      "RDH sum is  2268828.0\n",
      "Partner sum is  2268839\n",
      "their (absolute) difference is  11.0\n",
      "As a percentage of DF1 this is  0.00048%\n",
      "\n",
      "column:  G16PRERTru\n",
      "RDH sum is  2279493.0\n",
      "Partner sum is  2279543\n",
      "their (absolute) difference is  50.0\n",
      "As a percentage of DF1 this is  0.00219%\n",
      "\n",
      "column:  G16PREGSte\n",
      "RDH sum is  51333.0\n",
      "Partner sum is  51463\n",
      "their (absolute) difference is  130.0\n",
      "As a percentage of DF1 this is  0.25325%\n",
      "\n",
      "column:  G16PRELJoh\n",
      "RDH sum is  172106.0\n",
      "Partner sum is  172136\n",
      "their (absolute) difference is  30.0\n",
      "As a percentage of DF1 this is  0.01743%\n",
      "\n",
      "column:  G16PREOth\n",
      "RDH sum is  27093.0\n",
      "Partner sum is  27303\n",
      "their (absolute) difference is  210.0\n",
      "As a percentage of DF1 this is  0.77511%\n",
      "\n",
      "The max difference (as a percent of the total of on DF column is:  0.00775\n"
     ]
    }
   ],
   "source": [
    "column_list = ['G16PREDCli','G16PRERTru','G16PREGSte','G16PRELJoh','G16PREOth']\n",
    "sum_checker(df_avcbstat_reallocate_with_final, column_list)"
   ]
  },
  {
   "cell_type": "code",
   "execution_count": 195,
   "metadata": {},
   "outputs": [
    {
     "data": {
      "text/plain": [
       "(4811, 18)"
      ]
     },
     "execution_count": 195,
     "metadata": {},
     "output_type": "execute_result"
    }
   ],
   "source": [
    "df_with_avcb_and_stat_reallocated.shape"
   ]
  },
  {
   "cell_type": "code",
   "execution_count": 196,
   "metadata": {},
   "outputs": [
    {
     "data": {
      "text/plain": [
       "(4810, 10)"
      ]
     },
     "execution_count": 196,
     "metadata": {},
     "output_type": "execute_result"
    }
   ],
   "source": [
    "gdfv.shape"
   ]
  },
  {
   "cell_type": "code",
   "execution_count": 197,
   "metadata": {},
   "outputs": [
    {
     "data": {
      "text/plain": [
       "566"
      ]
     },
     "execution_count": 197,
     "metadata": {},
     "output_type": "execute_result"
    }
   ],
   "source": [
    "len(set(shp['VTD2016']) - set(df_with_avcb_and_stat_reallocated['VTD2016_draft']))"
   ]
  },
  {
   "cell_type": "code",
   "execution_count": 210,
   "metadata": {},
   "outputs": [
    {
     "data": {
      "text/plain": [
       "4810"
      ]
     },
     "execution_count": 210,
     "metadata": {},
     "output_type": "execute_result"
    }
   ],
   "source": [
    "len(set(gdfv['VTD2016']) - set(df_with_avcb_and_stat_reallocated['VTD2016_draft']))"
   ]
  },
  {
   "cell_type": "markdown",
   "metadata": {},
   "source": [
    "# Create new unique id without ward to improve match rate and re run validation"
   ]
  },
  {
   "cell_type": "code",
   "execution_count": 198,
   "metadata": {},
   "outputs": [],
   "source": [
    "df_with_avcb_and_stat_reallocated['VTD_noward'] = df_with_avcb_and_stat_reallocated['county_fips']+df_with_avcb_and_stat_reallocated['jurisd'].astype(str).str.zfill(5)+df_with_avcb_and_stat_reallocated['precinct_number'].astype(str).str.zfill(3)"
   ]
  },
  {
   "cell_type": "code",
   "execution_count": 201,
   "metadata": {},
   "outputs": [],
   "source": [
    "gdfv['vtd2016_nowards'] = gdfv['VTD2016'].str.slice(stop = 8) + gdfv['VTD2016'].str.slice(start = 10)"
   ]
  },
  {
   "cell_type": "code",
   "execution_count": 202,
   "metadata": {},
   "outputs": [
    {
     "data": {
      "text/plain": [
       "50"
      ]
     },
     "execution_count": 202,
     "metadata": {},
     "output_type": "execute_result"
    }
   ],
   "source": [
    "len(set(df_with_avcb_and_stat_reallocated['VTD_noward']) - set(gdfv['vtd2016_nowards']))"
   ]
  },
  {
   "cell_type": "code",
   "execution_count": 203,
   "metadata": {},
   "outputs": [
    {
     "data": {
      "text/plain": [
       "52"
      ]
     },
     "execution_count": 203,
     "metadata": {},
     "output_type": "execute_result"
    }
   ],
   "source": [
    "len(set(gdfv['vtd2016_nowards']) - set(df_with_avcb_and_stat_reallocated['VTD_noward']))"
   ]
  },
  {
   "cell_type": "code",
   "execution_count": 204,
   "metadata": {},
   "outputs": [],
   "source": [
    "df_vtd_noward_double = df_with_avcb_and_stat_reallocated['VTD_noward'].value_counts()[df_with_avcb_and_stat_reallocated['VTD_noward'].value_counts() >1].index\n",
    "gdf_vtd_noward_double = gdfv['vtd2016_nowards'].value_counts()[gdfv['vtd2016_nowards'].value_counts()>1].index"
   ]
  },
  {
   "cell_type": "code",
   "execution_count": 205,
   "metadata": {},
   "outputs": [
    {
     "data": {
      "text/plain": [
       "{'04546000000',\n",
       " '11555020003',\n",
       " '16349000001',\n",
       " '16349000003',\n",
       " '16349000008',\n",
       " '16349000016',\n",
       " '16349000017',\n",
       " '16349000019',\n",
       " '16349000022',\n",
       " '16349000023',\n",
       " '16349000024',\n",
       " '16349000031',\n",
       " '16349000034',\n",
       " '16349000035',\n",
       " '16349000036'}"
      ]
     },
     "execution_count": 205,
     "metadata": {},
     "output_type": "execute_result"
    }
   ],
   "source": [
    "set(df_vtd_noward_double) - set(gdf_vtd_noward_double)"
   ]
  },
  {
   "cell_type": "code",
   "execution_count": 206,
   "metadata": {},
   "outputs": [
    {
     "data": {
      "text/plain": [
       "{'02107520001',\n",
       " '04340960002',\n",
       " '04763820001',\n",
       " '05132320001',\n",
       " '05132320002',\n",
       " '06740860001',\n",
       " '13731720001'}"
      ]
     },
     "execution_count": 206,
     "metadata": {},
     "output_type": "execute_result"
    }
   ],
   "source": [
    "set(gdf_vtd_noward_double) - set(df_vtd_noward_double)"
   ]
  },
  {
   "cell_type": "markdown",
   "metadata": {},
   "source": [
    "No clear match between the double sets nonoverlap"
   ]
  },
  {
   "cell_type": "markdown",
   "metadata": {},
   "source": [
    "number of values in `df` not in vest `gdfv` that are not doubles"
   ]
  },
  {
   "cell_type": "code",
   "execution_count": 202,
   "metadata": {},
   "outputs": [
    {
     "data": {
      "text/plain": [
       "42"
      ]
     },
     "execution_count": 202,
     "metadata": {},
     "output_type": "execute_result"
    }
   ],
   "source": [
    "len(set(df_with_avcb_and_stat_reallocated['VTD_noward'][~df_with_avcb_and_stat_reallocated['VTD_noward'].isin(list(df_vtd_noward_double))])-set(gdfv['vtd2016_nowards'][~gdfv['vtd2016_nowards'].isin(list(gdf_vtd_noward_double))]))"
   ]
  },
  {
   "cell_type": "markdown",
   "metadata": {},
   "source": [
    "number of values in `gdfv` not in vest `df` that are not doubles"
   ]
  },
  {
   "cell_type": "code",
   "execution_count": 203,
   "metadata": {},
   "outputs": [
    {
     "data": {
      "text/plain": [
       "52"
      ]
     },
     "execution_count": 203,
     "metadata": {},
     "output_type": "execute_result"
    }
   ],
   "source": [
    "len(set(gdfv['vtd2016_nowards'][~gdfv['vtd2016_nowards'].isin(list(gdf_vtd_noward_double))])-set(df_with_avcb_and_stat_reallocated['VTD_noward'][~df_with_avcb_and_stat_reallocated['VTD_noward'].isin(list(df_vtd_noward_double))]))"
   ]
  },
  {
   "cell_type": "markdown",
   "metadata": {},
   "source": [
    "number of unique values in `df` no ward column that are not doubles"
   ]
  },
  {
   "cell_type": "code",
   "execution_count": 649,
   "metadata": {},
   "outputs": [
    {
     "data": {
      "text/plain": [
       "4637"
      ]
     },
     "execution_count": 649,
     "metadata": {},
     "output_type": "execute_result"
    }
   ],
   "source": [
    "df_with_avcb_and_stat_reallocated['VTD_noward'][~df_with_avcb_and_stat_reallocated['VTD_noward'].isin(list(df_vtd_noward_double))].nunique()"
   ]
  },
  {
   "cell_type": "markdown",
   "metadata": {},
   "source": [
    "number of unique values in `gdfv` no ward column that are not doubles"
   ]
  },
  {
   "cell_type": "code",
   "execution_count": 207,
   "metadata": {},
   "outputs": [
    {
     "data": {
      "text/plain": [
       "4647"
      ]
     },
     "execution_count": 207,
     "metadata": {},
     "output_type": "execute_result"
    }
   ],
   "source": [
    "gdfv['vtd2016_nowards'][~gdfv['vtd2016_nowards'].isin(list(gdf_vtd_noward_double))].nunique()"
   ]
  },
  {
   "cell_type": "markdown",
   "metadata": {},
   "source": [
    "### Unique id accross 3 files no ward, no doubles"
   ]
  },
  {
   "cell_type": "code",
   "execution_count": 208,
   "metadata": {},
   "outputs": [],
   "source": [
    "df_with_avcb_and_stat_reallocated['unique_id'] = df_with_avcb_and_stat_reallocated['VTD_noward'][~df_with_avcb_and_stat_reallocated['VTD_noward'].isin(list(df_vtd_noward_double))]\n",
    "gdfv['unique_id'] = gdfv['vtd2016_nowards'][~gdfv['vtd2016_nowards'].isin(list(gdf_vtd_noward_double))]\n",
    "shp['vtd2016_nowards'] = shp['VTD2016'].str.slice(stop = 8) + shp['VTD2016'].str.slice(start = 10)\n",
    "shp['unique_id'] = shp['vtd2016_nowards'][~shp['vtd2016_nowards'].isin(list(gdf_vtd_noward_double))]"
   ]
  },
  {
   "cell_type": "markdown",
   "metadata": {},
   "source": [
    "# Merge Fenton and Richmond, as per documentation\n",
    "\"Michigan has cities split across counties. Two are relevant to their reported election results versus the precinct map (which did not make the split), Fenton and Richmond. Those precincts were merged to reflect the precinct map.\""
   ]
  },
  {
   "cell_type": "markdown",
   "metadata": {},
   "source": [
    "below line serves to confirm that Fenton/Richmond not in double list that gets cut out anyway in RDH technique."
   ]
  },
  {
   "cell_type": "code",
   "execution_count": 209,
   "metadata": {},
   "outputs": [
    {
     "data": {
      "text/html": [
       "<div>\n",
       "<style scoped>\n",
       "    .dataframe tbody tr th:only-of-type {\n",
       "        vertical-align: middle;\n",
       "    }\n",
       "\n",
       "    .dataframe tbody tr th {\n",
       "        vertical-align: top;\n",
       "    }\n",
       "\n",
       "    .dataframe thead th {\n",
       "        text-align: right;\n",
       "    }\n",
       "</style>\n",
       "<table border=\"1\" class=\"dataframe\">\n",
       "  <thead>\n",
       "    <tr style=\"text-align: right;\">\n",
       "      <th></th>\n",
       "      <th>candidate_id</th>\n",
       "      <th>county_code</th>\n",
       "      <th>city_town_code</th>\n",
       "      <th>ward_number</th>\n",
       "      <th>precinct_number</th>\n",
       "      <th>precinct_label</th>\n",
       "      <th>G16PREGSte</th>\n",
       "      <th>G16PREDCli</th>\n",
       "      <th>G16PRERTru</th>\n",
       "      <th>G16PRELJoh</th>\n",
       "      <th>G16PREOth</th>\n",
       "      <th>county_name</th>\n",
       "      <th>county_fips</th>\n",
       "      <th>city_town_name</th>\n",
       "      <th>county_city_id</th>\n",
       "      <th>jurisd</th>\n",
       "      <th>VTD2016_draft</th>\n",
       "      <th>join_tst1</th>\n",
       "      <th>VTD_noward</th>\n",
       "      <th>unique_id</th>\n",
       "    </tr>\n",
       "  </thead>\n",
       "  <tbody>\n",
       "  </tbody>\n",
       "</table>\n",
       "</div>"
      ],
      "text/plain": [
       "Empty DataFrame\n",
       "Columns: [candidate_id, county_code, city_town_code, ward_number, precinct_number, precinct_label, G16PREGSte, G16PREDCli, G16PRERTru, G16PRELJoh, G16PREOth, county_name, county_fips, city_town_name, county_city_id, jurisd, VTD2016_draft, join_tst1, VTD_noward, unique_id]\n",
       "Index: []"
      ]
     },
     "execution_count": 209,
     "metadata": {},
     "output_type": "execute_result"
    }
   ],
   "source": [
    "df_with_avcb_and_stat_reallocated[(df_with_avcb_and_stat_reallocated['VTD_noward'].isin(df_vtd_noward_double))&df_with_avcb_and_stat_reallocated.city_town_name.str.contains('RICHMOND')]"
   ]
  },
  {
   "cell_type": "markdown",
   "metadata": {},
   "source": [
    "Use visual check of vote counts and unique ids to determine where to add votes/eliminate precinct (2)"
   ]
  },
  {
   "cell_type": "code",
   "execution_count": 210,
   "metadata": {},
   "outputs": [
    {
     "data": {
      "text/html": [
       "<div>\n",
       "<style scoped>\n",
       "    .dataframe tbody tr th:only-of-type {\n",
       "        vertical-align: middle;\n",
       "    }\n",
       "\n",
       "    .dataframe tbody tr th {\n",
       "        vertical-align: top;\n",
       "    }\n",
       "\n",
       "    .dataframe thead th {\n",
       "        text-align: right;\n",
       "    }\n",
       "</style>\n",
       "<table border=\"1\" class=\"dataframe\">\n",
       "  <thead>\n",
       "    <tr style=\"text-align: right;\">\n",
       "      <th></th>\n",
       "      <th>G16PREDCli</th>\n",
       "      <th>G16PRERTru</th>\n",
       "      <th>city_town_name</th>\n",
       "      <th>VTD2016_draft</th>\n",
       "    </tr>\n",
       "  </thead>\n",
       "  <tbody>\n",
       "    <tr>\n",
       "      <th>3566</th>\n",
       "      <td>0.0</td>\n",
       "      <td>3.0</td>\n",
       "      <td>RICHMOND CITY</td>\n",
       "      <td>1476838000001</td>\n",
       "    </tr>\n",
       "    <tr>\n",
       "      <th>2928</th>\n",
       "      <td>3.0</td>\n",
       "      <td>9.0</td>\n",
       "      <td>FENTON CITY</td>\n",
       "      <td>1252776000002</td>\n",
       "    </tr>\n",
       "    <tr>\n",
       "      <th>2022</th>\n",
       "      <td>179.0</td>\n",
       "      <td>718.0</td>\n",
       "      <td>RICHMOND TOWNSHIP</td>\n",
       "      <td>0996840000001</td>\n",
       "    </tr>\n",
       "    <tr>\n",
       "      <th>3219</th>\n",
       "      <td>222.0</td>\n",
       "      <td>633.0</td>\n",
       "      <td>RICHMOND TOWNSHIP</td>\n",
       "      <td>1336844000001</td>\n",
       "    </tr>\n",
       "    <tr>\n",
       "      <th>2278</th>\n",
       "      <td>225.0</td>\n",
       "      <td>160.0</td>\n",
       "      <td>RICHMOND TOWNSHIP</td>\n",
       "      <td>1036842000001</td>\n",
       "    </tr>\n",
       "    <tr>\n",
       "      <th>2023</th>\n",
       "      <td>235.0</td>\n",
       "      <td>758.0</td>\n",
       "      <td>RICHMOND TOWNSHIP</td>\n",
       "      <td>0996840000002</td>\n",
       "    </tr>\n",
       "    <tr>\n",
       "      <th>664</th>\n",
       "      <td>361.0</td>\n",
       "      <td>782.0</td>\n",
       "      <td>FENTON TOWNSHIP</td>\n",
       "      <td>0492778000006</td>\n",
       "    </tr>\n",
       "    <tr>\n",
       "      <th>778</th>\n",
       "      <td>400.0</td>\n",
       "      <td>593.0</td>\n",
       "      <td>FENTON CITY</td>\n",
       "      <td>0492776000005</td>\n",
       "    </tr>\n",
       "    <tr>\n",
       "      <th>2102</th>\n",
       "      <td>417.0</td>\n",
       "      <td>872.0</td>\n",
       "      <td>RICHMOND CITY</td>\n",
       "      <td>0996838000002</td>\n",
       "    </tr>\n",
       "    <tr>\n",
       "      <th>659</th>\n",
       "      <td>437.0</td>\n",
       "      <td>791.0</td>\n",
       "      <td>FENTON TOWNSHIP</td>\n",
       "      <td>0492778000001</td>\n",
       "    </tr>\n",
       "    <tr>\n",
       "      <th>776</th>\n",
       "      <td>442.0</td>\n",
       "      <td>526.0</td>\n",
       "      <td>FENTON CITY</td>\n",
       "      <td>0492776000003</td>\n",
       "    </tr>\n",
       "    <tr>\n",
       "      <th>660</th>\n",
       "      <td>452.0</td>\n",
       "      <td>739.0</td>\n",
       "      <td>FENTON TOWNSHIP</td>\n",
       "      <td>0492778000002</td>\n",
       "    </tr>\n",
       "    <tr>\n",
       "      <th>2101</th>\n",
       "      <td>480.0</td>\n",
       "      <td>1058.0</td>\n",
       "      <td>RICHMOND CITY</td>\n",
       "      <td>0996838000001</td>\n",
       "    </tr>\n",
       "    <tr>\n",
       "      <th>775</th>\n",
       "      <td>489.0</td>\n",
       "      <td>655.0</td>\n",
       "      <td>FENTON CITY</td>\n",
       "      <td>0492776000002</td>\n",
       "    </tr>\n",
       "    <tr>\n",
       "      <th>774</th>\n",
       "      <td>490.0</td>\n",
       "      <td>620.0</td>\n",
       "      <td>FENTON CITY</td>\n",
       "      <td>0492776000001</td>\n",
       "    </tr>\n",
       "    <tr>\n",
       "      <th>777</th>\n",
       "      <td>535.0</td>\n",
       "      <td>672.0</td>\n",
       "      <td>FENTON CITY</td>\n",
       "      <td>0492776000004</td>\n",
       "    </tr>\n",
       "    <tr>\n",
       "      <th>662</th>\n",
       "      <td>593.0</td>\n",
       "      <td>1111.0</td>\n",
       "      <td>FENTON TOWNSHIP</td>\n",
       "      <td>0492778000004</td>\n",
       "    </tr>\n",
       "    <tr>\n",
       "      <th>663</th>\n",
       "      <td>611.0</td>\n",
       "      <td>1118.0</td>\n",
       "      <td>FENTON TOWNSHIP</td>\n",
       "      <td>0492778000005</td>\n",
       "    </tr>\n",
       "    <tr>\n",
       "      <th>661</th>\n",
       "      <td>684.0</td>\n",
       "      <td>1224.0</td>\n",
       "      <td>FENTON TOWNSHIP</td>\n",
       "      <td>0492778000003</td>\n",
       "    </tr>\n",
       "  </tbody>\n",
       "</table>\n",
       "</div>"
      ],
      "text/plain": [
       "      G16PREDCli  G16PRERTru     city_town_name  VTD2016_draft\n",
       "3566         0.0         3.0      RICHMOND CITY  1476838000001\n",
       "2928         3.0         9.0        FENTON CITY  1252776000002\n",
       "2022       179.0       718.0  RICHMOND TOWNSHIP  0996840000001\n",
       "3219       222.0       633.0  RICHMOND TOWNSHIP  1336844000001\n",
       "2278       225.0       160.0  RICHMOND TOWNSHIP  1036842000001\n",
       "2023       235.0       758.0  RICHMOND TOWNSHIP  0996840000002\n",
       "664        361.0       782.0    FENTON TOWNSHIP  0492778000006\n",
       "778        400.0       593.0        FENTON CITY  0492776000005\n",
       "2102       417.0       872.0      RICHMOND CITY  0996838000002\n",
       "659        437.0       791.0    FENTON TOWNSHIP  0492778000001\n",
       "776        442.0       526.0        FENTON CITY  0492776000003\n",
       "660        452.0       739.0    FENTON TOWNSHIP  0492778000002\n",
       "2101       480.0      1058.0      RICHMOND CITY  0996838000001\n",
       "775        489.0       655.0        FENTON CITY  0492776000002\n",
       "774        490.0       620.0        FENTON CITY  0492776000001\n",
       "777        535.0       672.0        FENTON CITY  0492776000004\n",
       "662        593.0      1111.0    FENTON TOWNSHIP  0492778000004\n",
       "663        611.0      1118.0    FENTON TOWNSHIP  0492778000005\n",
       "661        684.0      1224.0    FENTON TOWNSHIP  0492778000003"
      ]
     },
     "execution_count": 210,
     "metadata": {},
     "output_type": "execute_result"
    }
   ],
   "source": [
    "df_with_avcb_and_stat_reallocated[['G16PREDCli', 'G16PRERTru', 'city_town_name', 'VTD2016_draft']][df_with_avcb_and_stat_reallocated.city_town_name.str.contains('FENTON')|df_with_avcb_and_stat_reallocated.city_town_name.str.contains('RICHMOND')].sort_values('G16PREDCli')"
   ]
  },
  {
   "cell_type": "code",
   "execution_count": 211,
   "metadata": {},
   "outputs": [
    {
     "data": {
      "text/plain": [
       "19"
      ]
     },
     "execution_count": 211,
     "metadata": {},
     "output_type": "execute_result"
    }
   ],
   "source": [
    "df_with_avcb_and_stat_reallocated['VTD2016_draft'][df_with_avcb_and_stat_reallocated.city_town_name.str.contains('FENTON')|df_with_avcb_and_stat_reallocated.city_town_name.str.contains('RICHMOND')].nunique()"
   ]
  },
  {
   "cell_type": "code",
   "execution_count": 212,
   "metadata": {},
   "outputs": [
    {
     "data": {
      "text/plain": [
       "17"
      ]
     },
     "execution_count": 212,
     "metadata": {},
     "output_type": "execute_result"
    }
   ],
   "source": [
    "gdfv['VTD2016'][gdfv.Label.str.contains('Fenton')|gdfv.Label.str.contains('Richmond')].nunique()"
   ]
  },
  {
   "cell_type": "code",
   "execution_count": 236,
   "metadata": {},
   "outputs": [
    {
     "data": {
      "text/html": [
       "<div>\n",
       "<style scoped>\n",
       "    .dataframe tbody tr th:only-of-type {\n",
       "        vertical-align: middle;\n",
       "    }\n",
       "\n",
       "    .dataframe tbody tr th {\n",
       "        vertical-align: top;\n",
       "    }\n",
       "\n",
       "    .dataframe thead th {\n",
       "        text-align: right;\n",
       "    }\n",
       "</style>\n",
       "<table border=\"1\" class=\"dataframe\">\n",
       "  <thead>\n",
       "    <tr style=\"text-align: right;\">\n",
       "      <th></th>\n",
       "      <th>G16PREDCli</th>\n",
       "      <th>G16PRERTru</th>\n",
       "      <th>Label</th>\n",
       "      <th>VTD2016</th>\n",
       "    </tr>\n",
       "  </thead>\n",
       "  <tbody>\n",
       "    <tr>\n",
       "      <th>2042</th>\n",
       "      <td>179</td>\n",
       "      <td>718</td>\n",
       "      <td>Richmond Township</td>\n",
       "      <td>0996840000001</td>\n",
       "    </tr>\n",
       "    <tr>\n",
       "      <th>2669</th>\n",
       "      <td>222</td>\n",
       "      <td>633</td>\n",
       "      <td>Richmond Township</td>\n",
       "      <td>1336844000001</td>\n",
       "    </tr>\n",
       "    <tr>\n",
       "      <th>2267</th>\n",
       "      <td>225</td>\n",
       "      <td>160</td>\n",
       "      <td>Richmond Township</td>\n",
       "      <td>1036842000001</td>\n",
       "    </tr>\n",
       "    <tr>\n",
       "      <th>2043</th>\n",
       "      <td>235</td>\n",
       "      <td>758</td>\n",
       "      <td>Richmond Township</td>\n",
       "      <td>0996840000002</td>\n",
       "    </tr>\n",
       "    <tr>\n",
       "      <th>708</th>\n",
       "      <td>361</td>\n",
       "      <td>782</td>\n",
       "      <td>Fenton Township</td>\n",
       "      <td>0492778000006</td>\n",
       "    </tr>\n",
       "    <tr>\n",
       "      <th>702</th>\n",
       "      <td>400</td>\n",
       "      <td>593</td>\n",
       "      <td>City of Fenton</td>\n",
       "      <td>0492776000005</td>\n",
       "    </tr>\n",
       "    <tr>\n",
       "      <th>2041</th>\n",
       "      <td>417</td>\n",
       "      <td>872</td>\n",
       "      <td>City of Richmond</td>\n",
       "      <td>0996838000002</td>\n",
       "    </tr>\n",
       "    <tr>\n",
       "      <th>703</th>\n",
       "      <td>437</td>\n",
       "      <td>791</td>\n",
       "      <td>Fenton Township</td>\n",
       "      <td>0492778000001</td>\n",
       "    </tr>\n",
       "    <tr>\n",
       "      <th>700</th>\n",
       "      <td>442</td>\n",
       "      <td>526</td>\n",
       "      <td>City of Fenton</td>\n",
       "      <td>0492776000003</td>\n",
       "    </tr>\n",
       "    <tr>\n",
       "      <th>704</th>\n",
       "      <td>452</td>\n",
       "      <td>739</td>\n",
       "      <td>Fenton Township</td>\n",
       "      <td>0492778000002</td>\n",
       "    </tr>\n",
       "    <tr>\n",
       "      <th>2040</th>\n",
       "      <td>480</td>\n",
       "      <td>1061</td>\n",
       "      <td>City of Richmond</td>\n",
       "      <td>0996838000001</td>\n",
       "    </tr>\n",
       "    <tr>\n",
       "      <th>698</th>\n",
       "      <td>490</td>\n",
       "      <td>620</td>\n",
       "      <td>City of Fenton</td>\n",
       "      <td>0492776000001</td>\n",
       "    </tr>\n",
       "    <tr>\n",
       "      <th>699</th>\n",
       "      <td>492</td>\n",
       "      <td>664</td>\n",
       "      <td>City of Fenton</td>\n",
       "      <td>0492776000002</td>\n",
       "    </tr>\n",
       "    <tr>\n",
       "      <th>701</th>\n",
       "      <td>535</td>\n",
       "      <td>672</td>\n",
       "      <td>City of Fenton</td>\n",
       "      <td>0492776000004</td>\n",
       "    </tr>\n",
       "    <tr>\n",
       "      <th>706</th>\n",
       "      <td>593</td>\n",
       "      <td>1111</td>\n",
       "      <td>Fenton Township</td>\n",
       "      <td>0492778000004</td>\n",
       "    </tr>\n",
       "    <tr>\n",
       "      <th>707</th>\n",
       "      <td>611</td>\n",
       "      <td>1118</td>\n",
       "      <td>Fenton Township</td>\n",
       "      <td>0492778000005</td>\n",
       "    </tr>\n",
       "    <tr>\n",
       "      <th>705</th>\n",
       "      <td>684</td>\n",
       "      <td>1224</td>\n",
       "      <td>Fenton Township</td>\n",
       "      <td>0492778000003</td>\n",
       "    </tr>\n",
       "  </tbody>\n",
       "</table>\n",
       "</div>"
      ],
      "text/plain": [
       "      G16PREDCli  G16PRERTru              Label        VTD2016\n",
       "2042         179         718  Richmond Township  0996840000001\n",
       "2669         222         633  Richmond Township  1336844000001\n",
       "2267         225         160  Richmond Township  1036842000001\n",
       "2043         235         758  Richmond Township  0996840000002\n",
       "708          361         782    Fenton Township  0492778000006\n",
       "702          400         593     City of Fenton  0492776000005\n",
       "2041         417         872   City of Richmond  0996838000002\n",
       "703          437         791    Fenton Township  0492778000001\n",
       "700          442         526     City of Fenton  0492776000003\n",
       "704          452         739    Fenton Township  0492778000002\n",
       "2040         480        1061   City of Richmond  0996838000001\n",
       "698          490         620     City of Fenton  0492776000001\n",
       "699          492         664     City of Fenton  0492776000002\n",
       "701          535         672     City of Fenton  0492776000004\n",
       "706          593        1111    Fenton Township  0492778000004\n",
       "707          611        1118    Fenton Township  0492778000005\n",
       "705          684        1224    Fenton Township  0492778000003"
      ]
     },
     "execution_count": 236,
     "metadata": {},
     "output_type": "execute_result"
    }
   ],
   "source": [
    "gdfv[['G16PREDCli', 'G16PRERTru', 'Label', 'VTD2016']][gdfv.Label.str.contains('Fenton')|gdfv.Label.str.contains('Richmond')].sort_values('G16PREDCli')"
   ]
  },
  {
   "cell_type": "markdown",
   "metadata": {},
   "source": [
    "['VTD2016'] = 0492776000002 receives votes from ['VTD2016_draft'] = 12527760.000002 to ['VTD2016_draft'] = 04927760.000002 < Fenton city\n",
    "\n",
    "['VTD2016'] = 0996838000001 receives votes from ['VTD2016_draft'] = 14768380.000001 to ['VTD2016_draft'] = 09968380.000001 < Richmond city\n",
    "                                                                                           "
   ]
  },
  {
   "cell_type": "code",
   "execution_count": 217,
   "metadata": {},
   "outputs": [
    {
     "data": {
      "text/html": [
       "<div>\n",
       "<style scoped>\n",
       "    .dataframe tbody tr th:only-of-type {\n",
       "        vertical-align: middle;\n",
       "    }\n",
       "\n",
       "    .dataframe tbody tr th {\n",
       "        vertical-align: top;\n",
       "    }\n",
       "\n",
       "    .dataframe thead th {\n",
       "        text-align: right;\n",
       "    }\n",
       "</style>\n",
       "<table border=\"1\" class=\"dataframe\">\n",
       "  <thead>\n",
       "    <tr style=\"text-align: right;\">\n",
       "      <th></th>\n",
       "      <th>G16PREDCli</th>\n",
       "      <th>G16PRERTru</th>\n",
       "      <th>G16PREGSte</th>\n",
       "      <th>G16PRELJoh</th>\n",
       "      <th>G16PREOth</th>\n",
       "      <th>VTD2016_draft</th>\n",
       "      <th>city_town_name</th>\n",
       "    </tr>\n",
       "  </thead>\n",
       "  <tbody>\n",
       "    <tr>\n",
       "      <th>775</th>\n",
       "      <td>489.0</td>\n",
       "      <td>655.0</td>\n",
       "      <td>21.0</td>\n",
       "      <td>48.0</td>\n",
       "      <td>6.0</td>\n",
       "      <td>0492776000002</td>\n",
       "      <td>FENTON CITY</td>\n",
       "    </tr>\n",
       "    <tr>\n",
       "      <th>2928</th>\n",
       "      <td>3.0</td>\n",
       "      <td>9.0</td>\n",
       "      <td>0.0</td>\n",
       "      <td>0.0</td>\n",
       "      <td>0.0</td>\n",
       "      <td>1252776000002</td>\n",
       "      <td>FENTON CITY</td>\n",
       "    </tr>\n",
       "  </tbody>\n",
       "</table>\n",
       "</div>"
      ],
      "text/plain": [
       "      G16PREDCli  G16PRERTru  G16PREGSte  G16PRELJoh  G16PREOth  \\\n",
       "775        489.0       655.0        21.0        48.0        6.0   \n",
       "2928         3.0         9.0         0.0         0.0        0.0   \n",
       "\n",
       "      VTD2016_draft city_town_name  \n",
       "775   0492776000002    FENTON CITY  \n",
       "2928  1252776000002    FENTON CITY  "
      ]
     },
     "execution_count": 217,
     "metadata": {},
     "output_type": "execute_result"
    }
   ],
   "source": [
    "df_with_avcb_and_stat_reallocated[['G16PREDCli', 'G16PRERTru', 'G16PREGSte','G16PRELJoh', 'G16PREOth', 'VTD2016_draft','city_town_name']][(df_with_avcb_and_stat_reallocated['VTD2016_draft']=='1252776000002')|(df_with_avcb_and_stat_reallocated['VTD2016_draft']=='0492776000002')]"
   ]
  },
  {
   "cell_type": "code",
   "execution_count": 218,
   "metadata": {},
   "outputs": [
    {
     "data": {
      "text/html": [
       "<div>\n",
       "<style scoped>\n",
       "    .dataframe tbody tr th:only-of-type {\n",
       "        vertical-align: middle;\n",
       "    }\n",
       "\n",
       "    .dataframe tbody tr th {\n",
       "        vertical-align: top;\n",
       "    }\n",
       "\n",
       "    .dataframe thead th {\n",
       "        text-align: right;\n",
       "    }\n",
       "</style>\n",
       "<table border=\"1\" class=\"dataframe\">\n",
       "  <thead>\n",
       "    <tr style=\"text-align: right;\">\n",
       "      <th></th>\n",
       "      <th>G16PREDCli</th>\n",
       "      <th>G16PRERTru</th>\n",
       "      <th>G16PREGSte</th>\n",
       "      <th>G16PRELJoh</th>\n",
       "      <th>G16PREOth</th>\n",
       "      <th>VTD2016</th>\n",
       "      <th>Label</th>\n",
       "    </tr>\n",
       "  </thead>\n",
       "  <tbody>\n",
       "    <tr>\n",
       "      <th>699</th>\n",
       "      <td>492</td>\n",
       "      <td>664</td>\n",
       "      <td>21</td>\n",
       "      <td>48</td>\n",
       "      <td>6</td>\n",
       "      <td>0492776000002</td>\n",
       "      <td>City of Fenton</td>\n",
       "    </tr>\n",
       "  </tbody>\n",
       "</table>\n",
       "</div>"
      ],
      "text/plain": [
       "     G16PREDCli  G16PRERTru  G16PREGSte  G16PRELJoh  G16PREOth        VTD2016  \\\n",
       "699         492         664          21          48          6  0492776000002   \n",
       "\n",
       "              Label  \n",
       "699  City of Fenton  "
      ]
     },
     "execution_count": 218,
     "metadata": {},
     "output_type": "execute_result"
    }
   ],
   "source": [
    "gdfv[['G16PREDCli', 'G16PRERTru', 'G16PREGSte','G16PRELJoh', 'G16PREOth', 'VTD2016','Label']][(gdfv['VTD2016']=='1252776000002')|(gdfv['VTD2016'] == '0492776000002')]"
   ]
  },
  {
   "cell_type": "code",
   "execution_count": 219,
   "metadata": {},
   "outputs": [
    {
     "data": {
      "text/html": [
       "<div>\n",
       "<style scoped>\n",
       "    .dataframe tbody tr th:only-of-type {\n",
       "        vertical-align: middle;\n",
       "    }\n",
       "\n",
       "    .dataframe tbody tr th {\n",
       "        vertical-align: top;\n",
       "    }\n",
       "\n",
       "    .dataframe thead th {\n",
       "        text-align: right;\n",
       "    }\n",
       "</style>\n",
       "<table border=\"1\" class=\"dataframe\">\n",
       "  <thead>\n",
       "    <tr style=\"text-align: right;\">\n",
       "      <th></th>\n",
       "      <th>G16PREDCli</th>\n",
       "      <th>G16PRERTru</th>\n",
       "      <th>G16PREGSte</th>\n",
       "      <th>G16PRELJoh</th>\n",
       "      <th>G16PREOth</th>\n",
       "      <th>VTD2016_draft</th>\n",
       "      <th>city_town_name</th>\n",
       "    </tr>\n",
       "  </thead>\n",
       "  <tbody>\n",
       "    <tr>\n",
       "      <th>2101</th>\n",
       "      <td>480.0</td>\n",
       "      <td>1058.0</td>\n",
       "      <td>13.0</td>\n",
       "      <td>55.0</td>\n",
       "      <td>7.0</td>\n",
       "      <td>0996838000001</td>\n",
       "      <td>RICHMOND CITY</td>\n",
       "    </tr>\n",
       "    <tr>\n",
       "      <th>3566</th>\n",
       "      <td>0.0</td>\n",
       "      <td>3.0</td>\n",
       "      <td>0.0</td>\n",
       "      <td>0.0</td>\n",
       "      <td>0.0</td>\n",
       "      <td>1476838000001</td>\n",
       "      <td>RICHMOND CITY</td>\n",
       "    </tr>\n",
       "  </tbody>\n",
       "</table>\n",
       "</div>"
      ],
      "text/plain": [
       "      G16PREDCli  G16PRERTru  G16PREGSte  G16PRELJoh  G16PREOth  \\\n",
       "2101       480.0      1058.0        13.0        55.0        7.0   \n",
       "3566         0.0         3.0         0.0         0.0        0.0   \n",
       "\n",
       "      VTD2016_draft city_town_name  \n",
       "2101  0996838000001  RICHMOND CITY  \n",
       "3566  1476838000001  RICHMOND CITY  "
      ]
     },
     "execution_count": 219,
     "metadata": {},
     "output_type": "execute_result"
    }
   ],
   "source": [
    "df_with_avcb_and_stat_reallocated[['G16PREDCli', 'G16PRERTru', 'G16PREGSte','G16PRELJoh', 'G16PREOth', 'VTD2016_draft','city_town_name']][(df_with_avcb_and_stat_reallocated['VTD2016_draft']=='1476838000001')|\n",
    "                                                                                                                                          (df_with_avcb_and_stat_reallocated['VTD2016_draft']=='0996838000001')]"
   ]
  },
  {
   "cell_type": "code",
   "execution_count": 220,
   "metadata": {},
   "outputs": [
    {
     "data": {
      "text/html": [
       "<div>\n",
       "<style scoped>\n",
       "    .dataframe tbody tr th:only-of-type {\n",
       "        vertical-align: middle;\n",
       "    }\n",
       "\n",
       "    .dataframe tbody tr th {\n",
       "        vertical-align: top;\n",
       "    }\n",
       "\n",
       "    .dataframe thead th {\n",
       "        text-align: right;\n",
       "    }\n",
       "</style>\n",
       "<table border=\"1\" class=\"dataframe\">\n",
       "  <thead>\n",
       "    <tr style=\"text-align: right;\">\n",
       "      <th></th>\n",
       "      <th>G16PREDCli</th>\n",
       "      <th>G16PRERTru</th>\n",
       "      <th>G16PREGSte</th>\n",
       "      <th>G16PRELJoh</th>\n",
       "      <th>G16PREOth</th>\n",
       "      <th>VTD2016</th>\n",
       "      <th>Label</th>\n",
       "    </tr>\n",
       "  </thead>\n",
       "  <tbody>\n",
       "    <tr>\n",
       "      <th>2040</th>\n",
       "      <td>480</td>\n",
       "      <td>1061</td>\n",
       "      <td>13</td>\n",
       "      <td>55</td>\n",
       "      <td>6</td>\n",
       "      <td>0996838000001</td>\n",
       "      <td>City of Richmond</td>\n",
       "    </tr>\n",
       "  </tbody>\n",
       "</table>\n",
       "</div>"
      ],
      "text/plain": [
       "      G16PREDCli  G16PRERTru  G16PREGSte  G16PRELJoh  G16PREOth  \\\n",
       "2040         480        1061          13          55          6   \n",
       "\n",
       "            VTD2016             Label  \n",
       "2040  0996838000001  City of Richmond  "
      ]
     },
     "execution_count": 220,
     "metadata": {},
     "output_type": "execute_result"
    }
   ],
   "source": [
    "gdfv[['G16PREDCli', 'G16PRERTru', 'G16PREGSte','G16PRELJoh', 'G16PREOth', 'VTD2016','Label']][(gdfv['VTD2016']=='1476838000001')|\n",
    "                                                                                              (gdfv['VTD2016'] == '0996838000001')]"
   ]
  },
  {
   "cell_type": "markdown",
   "metadata": {},
   "source": [
    "Make 3 modifications to add votes to merge to match vest file + remove rows with the precincts from which votes were added. "
   ]
  },
  {
   "cell_type": "code",
   "execution_count": 221,
   "metadata": {},
   "outputs": [],
   "source": [
    "df_with_avcb_and_stat_reallocated.loc[(df_with_avcb_and_stat_reallocated['VTD2016_draft']=='0996838000001'), 'G16PRERTru'] = df_with_avcb_and_stat_reallocated.loc[(df_with_avcb_and_stat_reallocated['VTD2016_draft']=='0996838000001'), 'G16PRERTru'] + 3\n",
    "\n",
    "df_with_avcb_and_stat_reallocated.loc[(df_with_avcb_and_stat_reallocated['VTD2016_draft']=='0492776000002'), 'G16PREDCli']= df_with_avcb_and_stat_reallocated.loc[(df_with_avcb_and_stat_reallocated['VTD2016_draft']=='0492776000002'), 'G16PREDCli']+3\n",
    "\n",
    "df_with_avcb_and_stat_reallocated.loc[(df_with_avcb_and_stat_reallocated['VTD2016_draft']=='0492776000002'), 'G16PRERTru']=df_with_avcb_and_stat_reallocated.loc[(df_with_avcb_and_stat_reallocated['VTD2016_draft']=='0492776000002'), 'G16PRERTru']+9"
   ]
  },
  {
   "cell_type": "code",
   "execution_count": 222,
   "metadata": {},
   "outputs": [],
   "source": [
    "df_with_avcb_and_stat_reallocated = df_with_avcb_and_stat_reallocated[~(df_with_avcb_and_stat_reallocated['VTD2016_draft']=='1476838000001')|(df_with_avcb_and_stat_reallocated['VTD2016_draft']=='1252776000002')]"
   ]
  },
  {
   "cell_type": "markdown",
   "metadata": {},
   "source": [
    "# Join"
   ]
  },
  {
   "cell_type": "code",
   "execution_count": 223,
   "metadata": {},
   "outputs": [
    {
     "data": {
      "text/plain": [
       "(4810, 12)"
      ]
     },
     "execution_count": 223,
     "metadata": {},
     "output_type": "execute_result"
    }
   ],
   "source": [
    "shp.shape"
   ]
  },
  {
   "cell_type": "code",
   "execution_count": 224,
   "metadata": {},
   "outputs": [
    {
     "data": {
      "text/plain": [
       "4647"
      ]
     },
     "execution_count": 224,
     "metadata": {},
     "output_type": "execute_result"
    }
   ],
   "source": [
    "shp.unique_id.nunique()"
   ]
  },
  {
   "cell_type": "code",
   "execution_count": 225,
   "metadata": {},
   "outputs": [
    {
     "data": {
      "text/plain": [
       "(4810, 20)"
      ]
     },
     "execution_count": 225,
     "metadata": {},
     "output_type": "execute_result"
    }
   ],
   "source": [
    "df_with_avcb_and_stat_reallocated.shape"
   ]
  },
  {
   "cell_type": "code",
   "execution_count": 226,
   "metadata": {},
   "outputs": [
    {
     "data": {
      "text/plain": [
       "4636"
      ]
     },
     "execution_count": 226,
     "metadata": {},
     "output_type": "execute_result"
    }
   ],
   "source": [
    "df_with_avcb_and_stat_reallocated.unique_id.nunique()"
   ]
  },
  {
   "cell_type": "markdown",
   "metadata": {},
   "source": [
    "Make new df with no nanas"
   ]
  },
  {
   "cell_type": "code",
   "execution_count": 227,
   "metadata": {},
   "outputs": [],
   "source": [
    "df_for_join = df_with_avcb_and_stat_reallocated[~df_with_avcb_and_stat_reallocated.VTD_noward.isin(df_vtd_noward_double)]"
   ]
  },
  {
   "cell_type": "code",
   "execution_count": 228,
   "metadata": {},
   "outputs": [
    {
     "data": {
      "text/plain": [
       "<matplotlib.axes._subplots.AxesSubplot at 0x7f7f43eb5a00>"
      ]
     },
     "execution_count": 228,
     "metadata": {},
     "output_type": "execute_result"
    },
    {
     "data": {
      "image/png": "[encoded data removed]",
      "text/plain": [
       "<Figure size 432x288 with 1 Axes>"
      ]
     },
     "metadata": {
      "needs_background": "light"
     },
     "output_type": "display_data"
    }
   ],
   "source": [
    "join = gpd.GeoDataFrame(pd.merge(df_for_join, shp, on = 'unique_id', how = 'inner').drop_duplicates(), crs = crs)\n",
    "join.plot()"
   ]
  },
  {
   "cell_type": "code",
   "execution_count": 229,
   "metadata": {},
   "outputs": [
    {
     "data": {
      "text/plain": [
       "(4595, 31)"
      ]
     },
     "execution_count": 229,
     "metadata": {},
     "output_type": "execute_result"
    }
   ],
   "source": [
    "join.shape"
   ]
  },
  {
   "cell_type": "markdown",
   "metadata": {},
   "source": [
    "# Validation"
   ]
  },
  {
   "cell_type": "markdown",
   "metadata": {},
   "source": [
    "## Shapefile"
   ]
  },
  {
   "cell_type": "code",
   "execution_count": 230,
   "metadata": {},
   "outputs": [],
   "source": [
    "shp_final_merge = pd.merge(join, gdfv, on = 'unique_id', how = 'outer', suffixes = ['_x', '_y'])"
   ]
  },
  {
   "cell_type": "code",
   "execution_count": 231,
   "metadata": {},
   "outputs": [
    {
     "name": "stderr",
     "output_type": "stream",
     "text": [
      "/Users/lilyfalk/anaconda3/lib/python3.8/site-packages/geopandas/base.py:39: UserWarning: The indices of the two GeoSeries are different.\n",
      "  warn(\"The indices of the two GeoSeries are different.\")\n"
     ]
    },
    {
     "data": {
      "text/plain": [
       "0       False\n",
       "1       False\n",
       "2       False\n",
       "3       False\n",
       "4       False\n",
       "        ...  \n",
       "4805    False\n",
       "4806    False\n",
       "4807    False\n",
       "4808    False\n",
       "4809    False\n",
       "Length: 4810, dtype: bool"
      ]
     },
     "execution_count": 231,
     "metadata": {},
     "output_type": "execute_result"
    }
   ],
   "source": [
    "join['geometry'].geom_almost_equals(gdfv['geometry'], decimal = 0)"
   ]
  },
  {
   "cell_type": "code",
   "execution_count": 232,
   "metadata": {},
   "outputs": [],
   "source": [
    "shp_shapes = gpd.GeoDataFrame(shp_final_merge, geometry = 'geometry_x')\n",
    "final_shapes = gpd.GeoDataFrame(shp_final_merge, geometry = 'geometry_y')\n",
    "vals = shp_shapes.geom_almost_equals(final_shapes, decimal = 0)"
   ]
  },
  {
   "cell_type": "code",
   "execution_count": 233,
   "metadata": {},
   "outputs": [
    {
     "name": "stdout",
     "output_type": "stream",
     "text": [
      "True     4557\n",
      "False     253\n",
      "dtype: int64\n"
     ]
    }
   ],
   "source": [
    "print(vals.value_counts())"
   ]
  },
  {
   "cell_type": "code",
   "execution_count": 235,
   "metadata": {},
   "outputs": [
    {
     "name": "stdout",
     "output_type": "stream",
     "text": [
      "163    44\n",
      "149     5\n",
      "033     4\n",
      "049     3\n",
      "139     3\n",
      "115     2\n",
      "045     2\n",
      "029     2\n",
      "081     2\n",
      "093     2\n",
      "161     2\n",
      "035     2\n",
      "017     1\n",
      "147     1\n",
      "087     1\n",
      "105     1\n",
      "037     1\n",
      "015     1\n",
      "065     1\n",
      "023     1\n",
      "067     1\n",
      "025     1\n",
      "131     1\n",
      "005     1\n",
      "057     1\n",
      "125     1\n",
      "027     1\n",
      "091     1\n",
      "041     1\n",
      "Name: unique_id, dtype: int64\n"
     ]
    },
    {
     "name": "stderr",
     "output_type": "stream",
     "text": [
      "TopologyException: Input geom 0 is invalid: Ring Self-intersection at or near point -86.643751321693912 46.410620532768398 at -86.643751321693912 46.410620532768398\n"
     ]
    },
    {
     "ename": "TopologicalError",
     "evalue": "The operation 'GEOSDifference_r' could not be performed. Likely cause is invalidity of the geometry <shapely.geometry.polygon.Polygon object at 0x7f7f43434580>",
     "output_type": "error",
     "traceback": [
      "\u001b[0;31m---------------------------------------------------------------------------\u001b[0m",
      "\u001b[0;31mTopologicalError\u001b[0m                          Traceback (most recent call last)",
      "\u001b[0;32m<ipython-input-235-30e8d14f9d66>\u001b[0m in \u001b[0;36m<module>\u001b[0;34m\u001b[0m\n\u001b[1;32m      2\u001b[0m \u001b[0mdiff_precincts\u001b[0m \u001b[0;34m=\u001b[0m \u001b[0mgpd\u001b[0m\u001b[0;34m.\u001b[0m\u001b[0mGeoDataFrame\u001b[0m\u001b[0;34m(\u001b[0m\u001b[0mshp_final_merge\u001b[0m\u001b[0;34m[\u001b[0m\u001b[0;34m~\u001b[0m\u001b[0mvals\u001b[0m\u001b[0;34m]\u001b[0m\u001b[0;34m,\u001b[0m \u001b[0mgeometry\u001b[0m \u001b[0;34m=\u001b[0m \u001b[0;34m'geometry_x'\u001b[0m\u001b[0;34m,\u001b[0m \u001b[0mcrs\u001b[0m \u001b[0;34m=\u001b[0m \u001b[0mcrs\u001b[0m\u001b[0;34m)\u001b[0m\u001b[0;34m\u001b[0m\u001b[0;34m\u001b[0m\u001b[0m\n\u001b[1;32m      3\u001b[0m \u001b[0;34m\u001b[0m\u001b[0m\n\u001b[0;32m----> 4\u001b[0;31m \u001b[0mshp_difference\u001b[0m \u001b[0;34m=\u001b[0m \u001b[0mgpd\u001b[0m\u001b[0;34m.\u001b[0m\u001b[0moverlay\u001b[0m\u001b[0;34m(\u001b[0m\u001b[0mshp_shapes\u001b[0m\u001b[0;34m,\u001b[0m \u001b[0mfinal_shapes\u001b[0m\u001b[0;34m,\u001b[0m \u001b[0mhow\u001b[0m \u001b[0;34m=\u001b[0m \u001b[0;34m'symmetric_difference'\u001b[0m\u001b[0;34m)\u001b[0m\u001b[0;34m\u001b[0m\u001b[0;34m\u001b[0m\u001b[0m\n\u001b[0m\u001b[1;32m      5\u001b[0m \u001b[0mshp_difference\u001b[0m\u001b[0;34m.\u001b[0m\u001b[0mplot\u001b[0m\u001b[0;34m(\u001b[0m\u001b[0;34m)\u001b[0m\u001b[0;34m\u001b[0m\u001b[0;34m\u001b[0m\u001b[0m\n",
      "\u001b[0;32m~/anaconda3/lib/python3.8/site-packages/geopandas/tools/overlay.py\u001b[0m in \u001b[0;36moverlay\u001b[0;34m(df1, df2, how, make_valid, keep_geom_type)\u001b[0m\n\u001b[1;32m    213\u001b[0m             \u001b[0mresult\u001b[0m \u001b[0;34m=\u001b[0m \u001b[0m_overlay_intersection\u001b[0m\u001b[0;34m(\u001b[0m\u001b[0mdf1\u001b[0m\u001b[0;34m,\u001b[0m \u001b[0mdf2\u001b[0m\u001b[0;34m)\u001b[0m\u001b[0;34m\u001b[0m\u001b[0;34m\u001b[0m\u001b[0m\n\u001b[1;32m    214\u001b[0m         \u001b[0;32melif\u001b[0m \u001b[0mhow\u001b[0m \u001b[0;34m==\u001b[0m \u001b[0;34m\"symmetric_difference\"\u001b[0m\u001b[0;34m:\u001b[0m\u001b[0;34m\u001b[0m\u001b[0;34m\u001b[0m\u001b[0m\n\u001b[0;32m--> 215\u001b[0;31m             \u001b[0mresult\u001b[0m \u001b[0;34m=\u001b[0m \u001b[0m_overlay_symmetric_diff\u001b[0m\u001b[0;34m(\u001b[0m\u001b[0mdf1\u001b[0m\u001b[0;34m,\u001b[0m \u001b[0mdf2\u001b[0m\u001b[0;34m)\u001b[0m\u001b[0;34m\u001b[0m\u001b[0;34m\u001b[0m\u001b[0m\n\u001b[0m\u001b[1;32m    216\u001b[0m         \u001b[0;32melif\u001b[0m \u001b[0mhow\u001b[0m \u001b[0;34m==\u001b[0m \u001b[0;34m\"union\"\u001b[0m\u001b[0;34m:\u001b[0m\u001b[0;34m\u001b[0m\u001b[0;34m\u001b[0m\u001b[0m\n\u001b[1;32m    217\u001b[0m             \u001b[0mresult\u001b[0m \u001b[0;34m=\u001b[0m \u001b[0m_overlay_union\u001b[0m\u001b[0;34m(\u001b[0m\u001b[0mdf1\u001b[0m\u001b[0;34m,\u001b[0m \u001b[0mdf2\u001b[0m\u001b[0;34m)\u001b[0m\u001b[0;34m\u001b[0m\u001b[0;34m\u001b[0m\u001b[0m\n",
      "\u001b[0;32m~/anaconda3/lib/python3.8/site-packages/geopandas/tools/overlay.py\u001b[0m in \u001b[0;36m_overlay_symmetric_diff\u001b[0;34m(df1, df2)\u001b[0m\n\u001b[1;32m     99\u001b[0m     \u001b[0mOverlay\u001b[0m \u001b[0mSymmetric\u001b[0m \u001b[0mDifference\u001b[0m \u001b[0moperation\u001b[0m \u001b[0mused\u001b[0m \u001b[0;32min\u001b[0m \u001b[0moverlay\u001b[0m \u001b[0mfunction\u001b[0m\u001b[0;34m\u001b[0m\u001b[0;34m\u001b[0m\u001b[0m\n\u001b[1;32m    100\u001b[0m     \"\"\"\n\u001b[0;32m--> 101\u001b[0;31m     \u001b[0mdfdiff1\u001b[0m \u001b[0;34m=\u001b[0m \u001b[0m_overlay_difference\u001b[0m\u001b[0;34m(\u001b[0m\u001b[0mdf1\u001b[0m\u001b[0;34m,\u001b[0m \u001b[0mdf2\u001b[0m\u001b[0;34m)\u001b[0m\u001b[0;34m\u001b[0m\u001b[0;34m\u001b[0m\u001b[0m\n\u001b[0m\u001b[1;32m    102\u001b[0m     \u001b[0mdfdiff2\u001b[0m \u001b[0;34m=\u001b[0m \u001b[0m_overlay_difference\u001b[0m\u001b[0;34m(\u001b[0m\u001b[0mdf2\u001b[0m\u001b[0;34m,\u001b[0m \u001b[0mdf1\u001b[0m\u001b[0;34m)\u001b[0m\u001b[0;34m\u001b[0m\u001b[0;34m\u001b[0m\u001b[0m\n\u001b[1;32m    103\u001b[0m     \u001b[0mdfdiff1\u001b[0m\u001b[0;34m[\u001b[0m\u001b[0;34m\"__idx1\"\u001b[0m\u001b[0;34m]\u001b[0m \u001b[0;34m=\u001b[0m \u001b[0mrange\u001b[0m\u001b[0;34m(\u001b[0m\u001b[0mlen\u001b[0m\u001b[0;34m(\u001b[0m\u001b[0mdfdiff1\u001b[0m\u001b[0;34m)\u001b[0m\u001b[0;34m)\u001b[0m\u001b[0;34m\u001b[0m\u001b[0;34m\u001b[0m\u001b[0m\n",
      "\u001b[0;32m~/anaconda3/lib/python3.8/site-packages/geopandas/tools/overlay.py\u001b[0m in \u001b[0;36m_overlay_difference\u001b[0;34m(df1, df2)\u001b[0m\n\u001b[1;32m     82\u001b[0m     \u001b[0mnew_g\u001b[0m \u001b[0;34m=\u001b[0m \u001b[0;34m[\u001b[0m\u001b[0;34m]\u001b[0m\u001b[0;34m\u001b[0m\u001b[0;34m\u001b[0m\u001b[0m\n\u001b[1;32m     83\u001b[0m     \u001b[0;32mfor\u001b[0m \u001b[0mgeom\u001b[0m\u001b[0;34m,\u001b[0m \u001b[0mneighbours\u001b[0m \u001b[0;32min\u001b[0m \u001b[0mzip\u001b[0m\u001b[0;34m(\u001b[0m\u001b[0mdf1\u001b[0m\u001b[0;34m.\u001b[0m\u001b[0mgeometry\u001b[0m\u001b[0;34m,\u001b[0m \u001b[0msidx\u001b[0m\u001b[0;34m)\u001b[0m\u001b[0;34m:\u001b[0m\u001b[0;34m\u001b[0m\u001b[0;34m\u001b[0m\u001b[0m\n\u001b[0;32m---> 84\u001b[0;31m         new = reduce(\n\u001b[0m\u001b[1;32m     85\u001b[0m             \u001b[0;32mlambda\u001b[0m \u001b[0mx\u001b[0m\u001b[0;34m,\u001b[0m \u001b[0my\u001b[0m\u001b[0;34m:\u001b[0m \u001b[0mx\u001b[0m\u001b[0;34m.\u001b[0m\u001b[0mdifference\u001b[0m\u001b[0;34m(\u001b[0m\u001b[0my\u001b[0m\u001b[0;34m)\u001b[0m\u001b[0;34m,\u001b[0m \u001b[0;34m[\u001b[0m\u001b[0mgeom\u001b[0m\u001b[0;34m]\u001b[0m \u001b[0;34m+\u001b[0m \u001b[0mlist\u001b[0m\u001b[0;34m(\u001b[0m\u001b[0mdf2\u001b[0m\u001b[0;34m.\u001b[0m\u001b[0mgeometry\u001b[0m\u001b[0;34m.\u001b[0m\u001b[0miloc\u001b[0m\u001b[0;34m[\u001b[0m\u001b[0mneighbours\u001b[0m\u001b[0;34m]\u001b[0m\u001b[0;34m)\u001b[0m\u001b[0;34m\u001b[0m\u001b[0;34m\u001b[0m\u001b[0m\n\u001b[1;32m     86\u001b[0m         )\n",
      "\u001b[0;32m~/anaconda3/lib/python3.8/site-packages/geopandas/tools/overlay.py\u001b[0m in \u001b[0;36m<lambda>\u001b[0;34m(x, y)\u001b[0m\n\u001b[1;32m     83\u001b[0m     \u001b[0;32mfor\u001b[0m \u001b[0mgeom\u001b[0m\u001b[0;34m,\u001b[0m \u001b[0mneighbours\u001b[0m \u001b[0;32min\u001b[0m \u001b[0mzip\u001b[0m\u001b[0;34m(\u001b[0m\u001b[0mdf1\u001b[0m\u001b[0;34m.\u001b[0m\u001b[0mgeometry\u001b[0m\u001b[0;34m,\u001b[0m \u001b[0msidx\u001b[0m\u001b[0;34m)\u001b[0m\u001b[0;34m:\u001b[0m\u001b[0;34m\u001b[0m\u001b[0;34m\u001b[0m\u001b[0m\n\u001b[1;32m     84\u001b[0m         new = reduce(\n\u001b[0;32m---> 85\u001b[0;31m             \u001b[0;32mlambda\u001b[0m \u001b[0mx\u001b[0m\u001b[0;34m,\u001b[0m \u001b[0my\u001b[0m\u001b[0;34m:\u001b[0m \u001b[0mx\u001b[0m\u001b[0;34m.\u001b[0m\u001b[0mdifference\u001b[0m\u001b[0;34m(\u001b[0m\u001b[0my\u001b[0m\u001b[0;34m)\u001b[0m\u001b[0;34m,\u001b[0m \u001b[0;34m[\u001b[0m\u001b[0mgeom\u001b[0m\u001b[0;34m]\u001b[0m \u001b[0;34m+\u001b[0m \u001b[0mlist\u001b[0m\u001b[0;34m(\u001b[0m\u001b[0mdf2\u001b[0m\u001b[0;34m.\u001b[0m\u001b[0mgeometry\u001b[0m\u001b[0;34m.\u001b[0m\u001b[0miloc\u001b[0m\u001b[0;34m[\u001b[0m\u001b[0mneighbours\u001b[0m\u001b[0;34m]\u001b[0m\u001b[0;34m)\u001b[0m\u001b[0;34m\u001b[0m\u001b[0;34m\u001b[0m\u001b[0m\n\u001b[0m\u001b[1;32m     86\u001b[0m         )\n\u001b[1;32m     87\u001b[0m         \u001b[0mnew_g\u001b[0m\u001b[0;34m.\u001b[0m\u001b[0mappend\u001b[0m\u001b[0;34m(\u001b[0m\u001b[0mnew\u001b[0m\u001b[0;34m)\u001b[0m\u001b[0;34m\u001b[0m\u001b[0;34m\u001b[0m\u001b[0m\n",
      "\u001b[0;32m~/anaconda3/lib/python3.8/site-packages/shapely/geometry/base.py\u001b[0m in \u001b[0;36mdifference\u001b[0;34m(self, other)\u001b[0m\n\u001b[1;32m    670\u001b[0m     \u001b[0;32mdef\u001b[0m \u001b[0mdifference\u001b[0m\u001b[0;34m(\u001b[0m\u001b[0mself\u001b[0m\u001b[0;34m,\u001b[0m \u001b[0mother\u001b[0m\u001b[0;34m)\u001b[0m\u001b[0;34m:\u001b[0m\u001b[0;34m\u001b[0m\u001b[0;34m\u001b[0m\u001b[0m\n\u001b[1;32m    671\u001b[0m         \u001b[0;34m\"\"\"Returns the difference of the geometries\"\"\"\u001b[0m\u001b[0;34m\u001b[0m\u001b[0;34m\u001b[0m\u001b[0m\n\u001b[0;32m--> 672\u001b[0;31m         \u001b[0;32mreturn\u001b[0m \u001b[0mgeom_factory\u001b[0m\u001b[0;34m(\u001b[0m\u001b[0mself\u001b[0m\u001b[0;34m.\u001b[0m\u001b[0mimpl\u001b[0m\u001b[0;34m[\u001b[0m\u001b[0;34m'difference'\u001b[0m\u001b[0;34m]\u001b[0m\u001b[0;34m(\u001b[0m\u001b[0mself\u001b[0m\u001b[0;34m,\u001b[0m \u001b[0mother\u001b[0m\u001b[0;34m)\u001b[0m\u001b[0;34m)\u001b[0m\u001b[0;34m\u001b[0m\u001b[0;34m\u001b[0m\u001b[0m\n\u001b[0m\u001b[1;32m    673\u001b[0m \u001b[0;34m\u001b[0m\u001b[0m\n\u001b[1;32m    674\u001b[0m     \u001b[0;32mdef\u001b[0m \u001b[0mintersection\u001b[0m\u001b[0;34m(\u001b[0m\u001b[0mself\u001b[0m\u001b[0;34m,\u001b[0m \u001b[0mother\u001b[0m\u001b[0;34m)\u001b[0m\u001b[0;34m:\u001b[0m\u001b[0;34m\u001b[0m\u001b[0;34m\u001b[0m\u001b[0m\n",
      "\u001b[0;32m~/anaconda3/lib/python3.8/site-packages/shapely/topology.py\u001b[0m in \u001b[0;36m__call__\u001b[0;34m(self, this, other, *args)\u001b[0m\n\u001b[1;32m     68\u001b[0m             err = TopologicalError(\n\u001b[1;32m     69\u001b[0m                     \"This operation could not be performed. Reason: unknown\")\n\u001b[0;32m---> 70\u001b[0;31m             \u001b[0mself\u001b[0m\u001b[0;34m.\u001b[0m\u001b[0m_check_topology\u001b[0m\u001b[0;34m(\u001b[0m\u001b[0merr\u001b[0m\u001b[0;34m,\u001b[0m \u001b[0mthis\u001b[0m\u001b[0;34m,\u001b[0m \u001b[0mother\u001b[0m\u001b[0;34m)\u001b[0m\u001b[0;34m\u001b[0m\u001b[0;34m\u001b[0m\u001b[0m\n\u001b[0m\u001b[1;32m     71\u001b[0m         \u001b[0;32mreturn\u001b[0m \u001b[0mproduct\u001b[0m\u001b[0;34m\u001b[0m\u001b[0;34m\u001b[0m\u001b[0m\n\u001b[1;32m     72\u001b[0m \u001b[0;34m\u001b[0m\u001b[0m\n",
      "\u001b[0;32m~/anaconda3/lib/python3.8/site-packages/shapely/topology.py\u001b[0m in \u001b[0;36m_check_topology\u001b[0;34m(self, err, *geoms)\u001b[0m\n\u001b[1;32m     33\u001b[0m         \u001b[0;32mfor\u001b[0m \u001b[0mgeom\u001b[0m \u001b[0;32min\u001b[0m \u001b[0mgeoms\u001b[0m\u001b[0;34m:\u001b[0m\u001b[0;34m\u001b[0m\u001b[0;34m\u001b[0m\u001b[0m\n\u001b[1;32m     34\u001b[0m             \u001b[0;32mif\u001b[0m \u001b[0;32mnot\u001b[0m \u001b[0mgeom\u001b[0m\u001b[0;34m.\u001b[0m\u001b[0mis_valid\u001b[0m\u001b[0;34m:\u001b[0m\u001b[0;34m\u001b[0m\u001b[0;34m\u001b[0m\u001b[0m\n\u001b[0;32m---> 35\u001b[0;31m                 raise TopologicalError(\n\u001b[0m\u001b[1;32m     36\u001b[0m                     \u001b[0;34m\"The operation '%s' could not be performed. \"\u001b[0m\u001b[0;34m\u001b[0m\u001b[0;34m\u001b[0m\u001b[0m\n\u001b[1;32m     37\u001b[0m                     \"Likely cause is invalidity of the geometry %s\" % (\n",
      "\u001b[0;31mTopologicalError\u001b[0m: The operation 'GEOSDifference_r' could not be performed. Likely cause is invalidity of the geometry <shapely.geometry.polygon.Polygon object at 0x7f7f43434580>"
     ]
    }
   ],
   "source": [
    "print(shp_final_merge[~vals]['unique_id'].str[0:3].value_counts())\n",
    "diff_precincts = gpd.GeoDataFrame(shp_final_merge[~vals], geometry = 'geometry_x', crs = crs)\n",
    "\n",
    "shp_difference = gpd.overlay(shp_shapes, final_shapes, how = 'symmetric_difference')\n",
    "shp_difference.plot()"
   ]
  },
  {
   "cell_type": "markdown",
   "metadata": {},
   "source": [
    "# Election result difference"
   ]
  },
  {
   "cell_type": "code",
   "execution_count": 278,
   "metadata": {},
   "outputs": [
    {
     "data": {
      "text/plain": [
       "Index(['VTD2016', 'Label', 'G16PREDCli', 'G16PRERTru', 'G16PREGSte',\n",
       "       'G16PRELJoh', 'G16PREOth', 'geometry', 'join_tst1', 'county_fips',\n",
       "       'vtd2016_nowards', 'unique_id'],\n",
       "      dtype='object')"
      ]
     },
     "execution_count": 278,
     "metadata": {},
     "output_type": "execute_result"
    }
   ],
   "source": [
    "gdfv.columns"
   ]
  },
  {
   "cell_type": "code",
   "execution_count": 236,
   "metadata": {},
   "outputs": [],
   "source": [
    "column_list = ['G16PRERTru', 'G16PREGSte','G16PRELJoh', 'G16PREOth']"
   ]
  },
  {
   "cell_type": "code",
   "execution_count": 237,
   "metadata": {},
   "outputs": [],
   "source": [
    "final_df_merge = pd.merge(join, gdfv, on = 'unique_id', how = 'inner', suffixes = ('_x', '_y'))"
   ]
  },
  {
   "cell_type": "code",
   "execution_count": 238,
   "metadata": {},
   "outputs": [
    {
     "data": {
      "text/plain": [
       "(4595, 42)"
      ]
     },
     "execution_count": 238,
     "metadata": {},
     "output_type": "execute_result"
    }
   ],
   "source": [
    "final_df_merge.shape"
   ]
  },
  {
   "cell_type": "code",
   "execution_count": 239,
   "metadata": {},
   "outputs": [],
   "source": [
    "def validater_row (df, column_List):\n",
    "    matching_rows = 0\n",
    "    different_rows = 0\n",
    "    diff_list=[]\n",
    "    diff_values = []\n",
    "    max_diff = 0\n",
    "    \n",
    "    for j in range(0,len(df.index)):\n",
    "        same = True\n",
    "        for i in column_List:\n",
    "            left_Data = i + \"_x\"\n",
    "            right_Data = i + \"_y\"\n",
    "            diff = abs(df.iloc[j][left_Data]-df.iloc[j][right_Data])\n",
    "            if(diff != 0):\n",
    "                diff_values.append(abs(diff))\n",
    "                same = False\n",
    "                if(np.isnan(diff)):\n",
    "                    print(\"NaN value at diff is: \", df.iloc[j]['unique_id'])\n",
    "                if (diff>max_diff):\n",
    "                    max_diff = diff\n",
    "                    #add line to check percent from total vote difference is\n",
    "                    perc_diff_from_vest = (diff/df.iloc[j][right_Data])*100\n",
    "                    print(\"New max diff is: \", str(max_diff))\n",
    "                    print('% difference from VEST total is: ', str(perc_diff_from_vest))\n",
    "                    print(df.iloc[j]['unique_id'])\n",
    "        if(same != True):\n",
    "            different_rows +=1\n",
    "            diff_list.append(df.iloc[j]['unique_id'])\n",
    "        else:\n",
    "            matching_rows +=1\n",
    "    print(\"There are \", len(df.index),\" total rows\")\n",
    "    print(different_rows,\" of these rows have election result differences\")\n",
    "    print(matching_rows,\" of these rows are the same\")\n",
    "    print(\"\")\n",
    "    print(\"The max difference between any one shared column in a row is: \", max_diff)\n",
    "    if(len(diff_values)!=0):\n",
    "        print(\"The average difference is: \", str(sum(diff_values)/len(diff_values)))\n",
    "        #add line for % of total vote that difference is\n",
    "    count_big_diff = len([i for i in diff_values if i > 10])\n",
    "    print(\"There are \", str(count_big_diff), \"precinct results with a difference greater than 5\")\n",
    "    diff_list.sort()\n"
   ]
  },
  {
   "cell_type": "code",
   "execution_count": 240,
   "metadata": {},
   "outputs": [
    {
     "name": "stdout",
     "output_type": "stream",
     "text": [
      "New max diff is:  1.0\n",
      "% difference from VEST total is:  16.666666666666664\n",
      "00101040001\n",
      "New max diff is:  2.0\n",
      "% difference from VEST total is:  100.0\n",
      "00701760005\n",
      "New max diff is:  26.0\n",
      "% difference from VEST total is:  5.949656750572083\n",
      "02712620001\n",
      "New max diff is:  43.0\n",
      "% difference from VEST total is:  5.850340136054422\n",
      "02739480001\n",
      "New max diff is:  46.0\n",
      "% difference from VEST total is:  5.859872611464969\n",
      "02741600001\n",
      "New max diff is:  67.0\n",
      "% difference from VEST total is:  5.939716312056738\n",
      "02754460001\n",
      "New max diff is:  492.0\n",
      "% difference from VEST total is:  38.67924528301887\n",
      "02760900001\n",
      "There are  4595  total rows\n",
      "2683  of these rows have election result differences\n",
      "1912  of these rows are the same\n",
      "\n",
      "The max difference between any one shared column in a row is:  492.0\n",
      "The average difference is:  5.338659793814433\n",
      "There are  197 precinct results with a difference greater than 5\n"
     ]
    }
   ],
   "source": [
    "validater_row(final_df_merge, column_list)"
   ]
  },
  {
   "cell_type": "code",
   "execution_count": 243,
   "metadata": {},
   "outputs": [
    {
     "data": {
      "text/html": [
       "<div>\n",
       "<style scoped>\n",
       "    .dataframe tbody tr th:only-of-type {\n",
       "        vertical-align: middle;\n",
       "    }\n",
       "\n",
       "    .dataframe tbody tr th {\n",
       "        vertical-align: top;\n",
       "    }\n",
       "\n",
       "    .dataframe thead th {\n",
       "        text-align: right;\n",
       "    }\n",
       "</style>\n",
       "<table border=\"1\" class=\"dataframe\">\n",
       "  <thead>\n",
       "    <tr style=\"text-align: right;\">\n",
       "      <th></th>\n",
       "      <th>G16PREDCli</th>\n",
       "      <th>G16PRERTru</th>\n",
       "      <th>G16PREGSte</th>\n",
       "      <th>G16PRELJoh</th>\n",
       "      <th>G16PREOth</th>\n",
       "    </tr>\n",
       "  </thead>\n",
       "  <tbody>\n",
       "    <tr>\n",
       "      <th>74</th>\n",
       "      <td>366.0</td>\n",
       "      <td>625.0</td>\n",
       "      <td>8.0</td>\n",
       "      <td>38.0</td>\n",
       "      <td>0.0</td>\n",
       "    </tr>\n",
       "  </tbody>\n",
       "</table>\n",
       "</div>"
      ],
      "text/plain": [
       "    G16PREDCli  G16PRERTru  G16PREGSte  G16PRELJoh  G16PREOth\n",
       "74       366.0       625.0         8.0        38.0        0.0"
      ]
     },
     "execution_count": 243,
     "metadata": {},
     "output_type": "execute_result"
    }
   ],
   "source": [
    "df_for_join[['G16PREDCli', 'G16PRERTru', 'G16PREGSte','G16PRELJoh', 'G16PREOth']][df_for_join['unique_id'] == '02760900001']"
   ]
  },
  {
   "cell_type": "code",
   "execution_count": 245,
   "metadata": {},
   "outputs": [
    {
     "data": {
      "text/html": [
       "<div>\n",
       "<style scoped>\n",
       "    .dataframe tbody tr th:only-of-type {\n",
       "        vertical-align: middle;\n",
       "    }\n",
       "\n",
       "    .dataframe tbody tr th {\n",
       "        vertical-align: top;\n",
       "    }\n",
       "\n",
       "    .dataframe thead th {\n",
       "        text-align: right;\n",
       "    }\n",
       "</style>\n",
       "<table border=\"1\" class=\"dataframe\">\n",
       "  <thead>\n",
       "    <tr style=\"text-align: right;\">\n",
       "      <th></th>\n",
       "      <th>VTD2016</th>\n",
       "      <th>Label</th>\n",
       "      <th>G16PREDCli</th>\n",
       "      <th>G16PRERTru</th>\n",
       "      <th>G16PREGSte</th>\n",
       "      <th>G16PRELJoh</th>\n",
       "      <th>G16PREOth</th>\n",
       "      <th>geometry</th>\n",
       "      <th>join_tst1</th>\n",
       "      <th>county_fips</th>\n",
       "      <th>vtd2016_nowards</th>\n",
       "      <th>unique_id</th>\n",
       "    </tr>\n",
       "  </thead>\n",
       "  <tbody>\n",
       "    <tr>\n",
       "      <th>416</th>\n",
       "      <td>0276090000001</td>\n",
       "      <td>Ontwa Township</td>\n",
       "      <td>539</td>\n",
       "      <td>1272</td>\n",
       "      <td>20</td>\n",
       "      <td>79</td>\n",
       "      <td>15</td>\n",
       "      <td>POLYGON ((-86.04468 41.81071, -86.04469 41.807...</td>\n",
       "      <td>02760900001</td>\n",
       "      <td>027</td>\n",
       "      <td>02760900001</td>\n",
       "      <td>02760900001</td>\n",
       "    </tr>\n",
       "  </tbody>\n",
       "</table>\n",
       "</div>"
      ],
      "text/plain": [
       "           VTD2016           Label  G16PREDCli  G16PRERTru  G16PREGSte  \\\n",
       "416  0276090000001  Ontwa Township         539        1272          20   \n",
       "\n",
       "     G16PRELJoh  G16PREOth                                           geometry  \\\n",
       "416          79         15  POLYGON ((-86.04468 41.81071, -86.04469 41.807...   \n",
       "\n",
       "       join_tst1 county_fips vtd2016_nowards    unique_id  \n",
       "416  02760900001         027     02760900001  02760900001  "
      ]
     },
     "execution_count": 245,
     "metadata": {},
     "output_type": "execute_result"
    }
   ],
   "source": [
    "gdfv[gdfv['unique_id'] == '02760900001']"
   ]
  },
  {
   "cell_type": "markdown",
   "metadata": {},
   "source": [
    "### TODO:\n",
    "- [x]reallocate AVCBs and statistical adjustments according to precinct share of county total\n",
    "    - NOTE large difference for other votes likely caused by statistical adjustments - read documentation more carefully and adapt\n",
    "    - \"Most counties had \"statistical adjustments\" that were at the county level, rather than the precinct level. Only two were for party candidates (Huron and Kalkaka), and in those cases, two or fewer votes. The remaining cases were related to \"other\" votes. Due to the scattered nature of \"other\" votes, these votes are apportioned to precincts by the split of total votes of precincts within the county.  \"\n",
    "\n",
    "- [x]compare wards - make new unique id with wards only\n",
    "- [x]Fenton and Richmond - merge votes.. ? - in two cases - pick out using sorted technique from adriana\n",
    "- [x]retrace, find where unique id got messed up\n",
    "- [ ]identify why vote totals are so off\n",
    "- re-run validation\n",
    "- write report\n",
    "\n",
    "**Questions**\n",
    "- AVCBs - maybe dont need to be -900 even though all just reallocated by county?? also don't need the derek willis file?? why did vest mention in documentation?\n",
    "- what is wrong with the other vote columns? statistical adjustments problem?"
   ]
  },
  {
   "cell_type": "markdown",
   "metadata": {},
   "source": [
    "three digit county FIPs code + “-” + five digit MCD/juris FIPs code + two digit ward code + 3 digit precinct code Ex: WP-001-01040-00001 Lily Falk to Everyone (11:53 AM) Three digit county FIPs code + “-” + City/Town Name + “-” + one digit ward code + “-0” + three digit precinct code Ex: 001-ALCONA TOWNSHIP-0-0001\n",
    "\n",
    "In 2018 file ward was given, here in 2016, not given."
   ]
  },
  {
   "cell_type": "markdown",
   "metadata": {},
   "source": [
    "- Peter tries some unique id then take what joins off of that\n",
    "- if incorrect join it will come up later when you compare precinct by precinct election results\n",
    "- for stuff that does not join, export to csv and look at that - manually line up\n",
    "- map unique ids from one to the other to match\n",
    "- rerunning the join - then left with the stuff where you have no idea where it is coming from\n",
    "- if there are no unique ids at all, but you are able to \n"
   ]
  }
 ],
 "metadata": {
  "kernelspec": {
   "display_name": "Python 3",
   "language": "python",
   "name": "python3"
  },
  "language_info": {
   "codemirror_mode": {
    "name": "ipython",
    "version": 3
   },
   "file_extension": ".py",
   "mimetype": "text/x-python",
   "name": "python",
   "nbconvert_exporter": "python",
   "pygments_lexer": "ipython3",
   "version": "3.8.3"
  }
 },
 "nbformat": 4,
 "nbformat_minor": 4
}
