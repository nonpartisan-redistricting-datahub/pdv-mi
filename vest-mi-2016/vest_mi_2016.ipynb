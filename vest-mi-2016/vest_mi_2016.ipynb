{
 "cells": [
  {
   "cell_type": "markdown",
   "metadata": {},
   "source": [
    "# 2016 VEST MI\n",
    "\n",
    "### From Documentation:\n",
    "Election results from the Michigan Department of State (https://miboecfr.nictusa.com/cgi-bin/cfr/precinct_srch.cgi)\n",
    "Precinct shapefile from the Michigan Department of State (https://gis-michigan.opendata.arcgis.com/datasets/8ce0f3ce3ff74109ac02a26d34a0f4fc_1)\n",
    "\n",
    "Michigan has cities split across counties. Two are relevant to their reported election results versus the precinct map (which did not make the split), Fenton and Richmond. Those precincts were merged to reflect the precinct map.\n",
    "\n",
    "Most counties had \"statistical adjustments\" that were at the county level, rather than the precinct level. Only two were for party candidates (Huron and Kalkaka), and in those cases, two or fewer votes. The remaining cases were related to \"other\" votes. Due to the scattered nature of \"other\" votes, these votes are apportioned to precincts by the split of total votes of precincts within the county.\n",
    "\n",
    "Detroit allows for absentee votes to be reported by Absentee Voter Counting Boards, which generally contain multiple precincts. These votes are apportioned to precincts by candidate in the same shares that the non-AVCB vote was split among precincts within a county. The linkage between election precinct and AVCB was provided by OpenElections via Derek Willis. Precinct 176 was listed as split between AVCB 37 and AVCB 158, the only precinct in the city that was listed as split. AVCB 158 has no other precinct assigned to it, so all votes went to precinct 176. However, this was a very low number of votes relative to the other AVCBs, so for ease of calculation, 176 was treated as a normal member of AVCB 37 in the disaggregation calculation described above.\n",
    "\n",
    "G16PREDCli - Hillary Clinton (Democratic Party)\n",
    "G16PRERTru - Donald J. Trump (Republican Party)\n",
    "G16PREGSte - Jill Stein (Green Party)\n",
    "G16PRELJoh - Gary Johnson (Libertarian Party)\n",
    "G16PREOth - Other Candidates/Write-in Votes\n"
   ]
  },
  {
   "cell_type": "markdown",
   "metadata": {},
   "source": [
    "**Files + Sources:** \n",
    "\n",
    "2016GEN.zip: Election precinct results from the Michigan Department of State (https://miboecfr.nictusa.com/cgi-bin/cfr/precinct_srch.cgi)\n",
    "\n",
    "2016_Voting_Precincts-shp.zip: Precinct shapefile from the Michigan Department of State (https://gis-michigan.opendata.arcgis.com/datasets/8ce0f3ce3ff74109ac02a26d34a0f4fc_1)\n",
    "\n",
    "mi_2016.zip: VEST final file (https://dataverse.harvard.edu/file.xhtml?persistentId=doi:10.7910/DVN/NH5S2I/4KOZRU&version=46.0)\n",
    "\n",
    "documentation_2016.txt: VEST's documentation on their 2016 work, all included, not just MI (https://dataverse.harvard.edu/file.xhtml?persistentId=doi:10.7910/DVN/NH5S2I/A652IT&version=46.0)"
   ]
  },
  {
   "cell_type": "code",
   "execution_count": 41,
   "metadata": {},
   "outputs": [],
   "source": [
    "import numpy as np\n",
    "import pandas as pd\n",
    "import geopandas as gpd\n",
    "import matplotlib.pyplot as plt"
   ]
  },
  {
   "cell_type": "markdown",
   "metadata": {},
   "source": [
    "# Load Partner File"
   ]
  },
  {
   "cell_type": "code",
   "execution_count": 42,
   "metadata": {},
   "outputs": [
    {
     "data": {
      "text/html": [
       "<div>\n",
       "<style scoped>\n",
       "    .dataframe tbody tr th:only-of-type {\n",
       "        vertical-align: middle;\n",
       "    }\n",
       "\n",
       "    .dataframe tbody tr th {\n",
       "        vertical-align: top;\n",
       "    }\n",
       "\n",
       "    .dataframe thead th {\n",
       "        text-align: right;\n",
       "    }\n",
       "</style>\n",
       "<table border=\"1\" class=\"dataframe\">\n",
       "  <thead>\n",
       "    <tr style=\"text-align: right;\">\n",
       "      <th></th>\n",
       "      <th>VTD2016</th>\n",
       "      <th>Label</th>\n",
       "      <th>G16PREDCli</th>\n",
       "      <th>G16PRERTru</th>\n",
       "      <th>G16PREGSte</th>\n",
       "      <th>G16PRELJoh</th>\n",
       "      <th>G16PREOth</th>\n",
       "      <th>geometry</th>\n",
       "    </tr>\n",
       "  </thead>\n",
       "  <tbody>\n",
       "    <tr>\n",
       "      <th>0</th>\n",
       "      <td>1632100000001</td>\n",
       "      <td>City of Dearborn</td>\n",
       "      <td>581</td>\n",
       "      <td>93</td>\n",
       "      <td>17</td>\n",
       "      <td>11</td>\n",
       "      <td>1</td>\n",
       "      <td>POLYGON ((-83.14843 42.34469, -83.14861 42.343...</td>\n",
       "    </tr>\n",
       "    <tr>\n",
       "      <th>1</th>\n",
       "      <td>1632100000002</td>\n",
       "      <td>City of Dearborn</td>\n",
       "      <td>560</td>\n",
       "      <td>95</td>\n",
       "      <td>23</td>\n",
       "      <td>9</td>\n",
       "      <td>3</td>\n",
       "      <td>POLYGON ((-83.16029 42.34644, -83.16027 42.344...</td>\n",
       "    </tr>\n",
       "    <tr>\n",
       "      <th>2</th>\n",
       "      <td>1632100000003</td>\n",
       "      <td>City of Dearborn</td>\n",
       "      <td>756</td>\n",
       "      <td>171</td>\n",
       "      <td>52</td>\n",
       "      <td>13</td>\n",
       "      <td>5</td>\n",
       "      <td>POLYGON ((-83.16699 42.34247, -83.16815 42.342...</td>\n",
       "    </tr>\n",
       "    <tr>\n",
       "      <th>3</th>\n",
       "      <td>1632100000004</td>\n",
       "      <td>City of Dearborn</td>\n",
       "      <td>406</td>\n",
       "      <td>70</td>\n",
       "      <td>17</td>\n",
       "      <td>8</td>\n",
       "      <td>1</td>\n",
       "      <td>POLYGON ((-83.17687 42.34399, -83.17806 42.343...</td>\n",
       "    </tr>\n",
       "    <tr>\n",
       "      <th>4</th>\n",
       "      <td>1632100000005</td>\n",
       "      <td>City of Dearborn</td>\n",
       "      <td>453</td>\n",
       "      <td>68</td>\n",
       "      <td>15</td>\n",
       "      <td>9</td>\n",
       "      <td>0</td>\n",
       "      <td>POLYGON ((-83.18665 42.34561, -83.18657 42.343...</td>\n",
       "    </tr>\n",
       "  </tbody>\n",
       "</table>\n",
       "</div>"
      ],
      "text/plain": [
       "         VTD2016             Label  G16PREDCli  G16PRERTru  G16PREGSte  \\\n",
       "0  1632100000001  City of Dearborn         581          93          17   \n",
       "1  1632100000002  City of Dearborn         560          95          23   \n",
       "2  1632100000003  City of Dearborn         756         171          52   \n",
       "3  1632100000004  City of Dearborn         406          70          17   \n",
       "4  1632100000005  City of Dearborn         453          68          15   \n",
       "\n",
       "   G16PRELJoh  G16PREOth                                           geometry  \n",
       "0          11          1  POLYGON ((-83.14843 42.34469, -83.14861 42.343...  \n",
       "1           9          3  POLYGON ((-83.16029 42.34644, -83.16027 42.344...  \n",
       "2          13          5  POLYGON ((-83.16699 42.34247, -83.16815 42.342...  \n",
       "3           8          1  POLYGON ((-83.17687 42.34399, -83.17806 42.343...  \n",
       "4           9          0  POLYGON ((-83.18665 42.34561, -83.18657 42.343...  "
      ]
     },
     "execution_count": 42,
     "metadata": {},
     "output_type": "execute_result"
    }
   ],
   "source": [
    "gdfv = gpd.read_file('./raw-from-source/mi_2016/mi_2016.shp')\n",
    "gdfv.head()"
   ]
  },
  {
   "cell_type": "markdown",
   "metadata": {},
   "source": [
    "# Shapefile"
   ]
  },
  {
   "cell_type": "code",
   "execution_count": 43,
   "metadata": {},
   "outputs": [
    {
     "data": {
      "text/html": [
       "<div>\n",
       "<style scoped>\n",
       "    .dataframe tbody tr th:only-of-type {\n",
       "        vertical-align: middle;\n",
       "    }\n",
       "\n",
       "    .dataframe tbody tr th {\n",
       "        vertical-align: top;\n",
       "    }\n",
       "\n",
       "    .dataframe thead th {\n",
       "        text-align: right;\n",
       "    }\n",
       "</style>\n",
       "<table border=\"1\" class=\"dataframe\">\n",
       "  <thead>\n",
       "    <tr style=\"text-align: right;\">\n",
       "      <th></th>\n",
       "      <th>OBJECTID</th>\n",
       "      <th>Id</th>\n",
       "      <th>VTD2016</th>\n",
       "      <th>CountyFips</th>\n",
       "      <th>Jurisdicti</th>\n",
       "      <th>ElectionYe</th>\n",
       "      <th>Label</th>\n",
       "      <th>ShapeSTAre</th>\n",
       "      <th>ShapeSTLen</th>\n",
       "      <th>geometry</th>\n",
       "    </tr>\n",
       "  </thead>\n",
       "  <tbody>\n",
       "    <tr>\n",
       "      <th>0</th>\n",
       "      <td>1</td>\n",
       "      <td>3888</td>\n",
       "      <td>1632100000001</td>\n",
       "      <td>163</td>\n",
       "      <td>21000</td>\n",
       "      <td>2016</td>\n",
       "      <td>City of Dearborn</td>\n",
       "      <td>2.489738e+06</td>\n",
       "      <td>6846.254657</td>\n",
       "      <td>POLYGON ((-83.14842 42.34468, -83.14859 42.343...</td>\n",
       "    </tr>\n",
       "    <tr>\n",
       "      <th>1</th>\n",
       "      <td>2</td>\n",
       "      <td>3889</td>\n",
       "      <td>1632100000002</td>\n",
       "      <td>163</td>\n",
       "      <td>21000</td>\n",
       "      <td>2016</td>\n",
       "      <td>City of Dearborn</td>\n",
       "      <td>1.058362e+06</td>\n",
       "      <td>4621.388992</td>\n",
       "      <td>POLYGON ((-83.16028 42.34643, -83.16025 42.344...</td>\n",
       "    </tr>\n",
       "    <tr>\n",
       "      <th>2</th>\n",
       "      <td>3</td>\n",
       "      <td>3890</td>\n",
       "      <td>1632100000003</td>\n",
       "      <td>163</td>\n",
       "      <td>21000</td>\n",
       "      <td>2016</td>\n",
       "      <td>City of Dearborn</td>\n",
       "      <td>1.488846e+06</td>\n",
       "      <td>4909.715171</td>\n",
       "      <td>POLYGON ((-83.16698 42.34246, -83.16814 42.342...</td>\n",
       "    </tr>\n",
       "    <tr>\n",
       "      <th>3</th>\n",
       "      <td>4</td>\n",
       "      <td>3891</td>\n",
       "      <td>1632100000004</td>\n",
       "      <td>163</td>\n",
       "      <td>21000</td>\n",
       "      <td>2016</td>\n",
       "      <td>City of Dearborn</td>\n",
       "      <td>1.187165e+06</td>\n",
       "      <td>4354.743602</td>\n",
       "      <td>POLYGON ((-83.17686 42.34398, -83.17805 42.343...</td>\n",
       "    </tr>\n",
       "    <tr>\n",
       "      <th>4</th>\n",
       "      <td>5</td>\n",
       "      <td>3892</td>\n",
       "      <td>1632100000005</td>\n",
       "      <td>163</td>\n",
       "      <td>21000</td>\n",
       "      <td>2016</td>\n",
       "      <td>City of Dearborn</td>\n",
       "      <td>1.133548e+06</td>\n",
       "      <td>5460.202887</td>\n",
       "      <td>POLYGON ((-83.18664 42.34560, -83.18656 42.343...</td>\n",
       "    </tr>\n",
       "  </tbody>\n",
       "</table>\n",
       "</div>"
      ],
      "text/plain": [
       "   OBJECTID    Id        VTD2016 CountyFips Jurisdicti  ElectionYe  \\\n",
       "0         1  3888  1632100000001        163      21000        2016   \n",
       "1         2  3889  1632100000002        163      21000        2016   \n",
       "2         3  3890  1632100000003        163      21000        2016   \n",
       "3         4  3891  1632100000004        163      21000        2016   \n",
       "4         5  3892  1632100000005        163      21000        2016   \n",
       "\n",
       "              Label    ShapeSTAre   ShapeSTLen  \\\n",
       "0  City of Dearborn  2.489738e+06  6846.254657   \n",
       "1  City of Dearborn  1.058362e+06  4621.388992   \n",
       "2  City of Dearborn  1.488846e+06  4909.715171   \n",
       "3  City of Dearborn  1.187165e+06  4354.743602   \n",
       "4  City of Dearborn  1.133548e+06  5460.202887   \n",
       "\n",
       "                                            geometry  \n",
       "0  POLYGON ((-83.14842 42.34468, -83.14859 42.343...  \n",
       "1  POLYGON ((-83.16028 42.34643, -83.16025 42.344...  \n",
       "2  POLYGON ((-83.16698 42.34246, -83.16814 42.342...  \n",
       "3  POLYGON ((-83.17686 42.34398, -83.17805 42.343...  \n",
       "4  POLYGON ((-83.18664 42.34560, -83.18656 42.343...  "
      ]
     },
     "execution_count": 43,
     "metadata": {},
     "output_type": "execute_result"
    }
   ],
   "source": [
    "## Load, Project\n",
    "shp = gpd.read_file('./raw-from-source/2016_Voting_Precincts/2016_Voting_Precincts.shp')\n",
    "crs = gdfv.crs\n",
    "shp = shp.to_crs(crs)\n",
    "shp.head()"
   ]
  },
  {
   "cell_type": "markdown",
   "metadata": {},
   "source": [
    "# Election Results"
   ]
  },
  {
   "cell_type": "code",
   "execution_count": 44,
   "metadata": {},
   "outputs": [],
   "source": [
    "## Load + Process format\n",
    "\n",
    "df = pd.read_csv('./raw-from-source/2016GEN/2016vote.txt', delimiter = '\\t', header = None)\n",
    "#columns defined in documentation\n",
    "df.columns = ['election_year','election_type','office_code','district_code',\n",
    "            'status_code','candidate_id','county_code','city_town_code','ward_number',\n",
    "            'precinct_number','precinct_label','precinct_votes','na_col']\n",
    "#Processing\n",
    "#Filter to office code `1` for president\n",
    "df = df[df['office_code'] == 1]\n",
    "\n",
    "#Using the file `2016name.txt` to figure out these candidate codes: \n",
    "#- -1130:Stein,-1128:Clinton,-1110:Trump,-1101:Johnson\n",
    "\n",
    "#Have to replace NaNs in `precinct_label` with empty strings so that we can use it as an index in the pivot\n",
    "df['precinct_label'] = df['precinct_label'].replace(np.nan, '', regex = True)\n",
    "## PIVOT RESULTS\n",
    "df_pivot = df.pivot_table(index = ['county_code','city_town_code','ward_number','precinct_number','precinct_label'],\n",
    "                         columns = ['candidate_id'],\n",
    "                        values = ['precinct_votes'],\n",
    "                         aggfunc = 'sum')\n",
    "df_pivot.reset_index(inplace = True)\n",
    "\n",
    "vote_cols_other = [( 'precinct_votes', -1142),\n",
    "            ( 'precinct_votes', -1141),\n",
    "            ( 'precinct_votes', -1140),\n",
    "            ( 'precinct_votes', -1139),\n",
    "            ( 'precinct_votes', -1137),\n",
    "            ( 'precinct_votes', -1136),\n",
    "            ( 'precinct_votes', -1135),\n",
    "            ( 'precinct_votes', -1112),\n",
    "            ( 'precinct_votes', -1108)]\n",
    "df_pivot['G16PREOth'] = 0\n",
    "for col in vote_cols_other:\n",
    "    df_pivot['G16PREOth'] = df_pivot['G16PREOth'] + df_pivot[col]\n",
    "    df_pivot.drop(col[1], axis = 1, level = 1, inplace = True)\n",
    "    \n",
    "df_pivot.reset_index(inplace = True)\n",
    "df_pivot.columns = ['candidate_id','county_code','city_town_code','ward_number','precinct_number','precinct_label',\n",
    "                              'G16PREGSte','G16PREDCli','G16PRERTru','G16PRELJoh','G16PREOth']"
   ]
  },
  {
   "cell_type": "markdown",
   "metadata": {},
   "source": [
    "### Cleaning Election Results"
   ]
  },
  {
   "cell_type": "code",
   "execution_count": 45,
   "metadata": {},
   "outputs": [],
   "source": [
    "#### Add County Name\n",
    "#The SOS results have county codes that are not FIPS codes. Pulled the `county.txt` file to a Sheet and lined it up with county fips codes from Wikipedia. Loading in this file created in Sheets. \n",
    "county_names = pd.read_csv('./raw-from-source/county_codes.csv', dtype = {'county_fips':'object'})\n",
    "df_pivot = df_pivot.merge(county_names, on = 'county_code')\n",
    "\n",
    "#### Add City/Township Name\n",
    "#Loading in the `2016city.txt` file that has the corresponding names for the city codes in the election results file\n",
    "city_codes = pd.read_csv('./raw-from-source/2016GEN/2016city.txt',delimiter='\\t',header=None)\n",
    "city_codes.columns = ['election_year','election_type','county_code','city_town_code','city_town_name','null']\n",
    "city_codes.drop(['election_year','election_type','null'],axis=1,inplace=True)\n",
    "df_pivot = df_pivot.merge(city_codes, on = ['county_code','city_town_code'])"
   ]
  },
  {
   "cell_type": "markdown",
   "metadata": {},
   "source": [
    "## Validate Election Results at State and County Levels"
   ]
  },
  {
   "cell_type": "markdown",
   "metadata": {},
   "source": [
    "### Validate statewide totals"
   ]
  },
  {
   "cell_type": "code",
   "execution_count": 46,
   "metadata": {},
   "outputs": [],
   "source": [
    "data_columns = [\"G16PREDCli\",\"G16PRERTru\",\"G16PREGSte\",\"G16PRELJoh\",\"G16PREOth\"]"
   ]
  },
  {
   "cell_type": "code",
   "execution_count": 47,
   "metadata": {},
   "outputs": [
    {
     "name": "stdout",
     "output_type": "stream",
     "text": [
      "G16PREDCli: EQUAL - 2268839\n",
      "G16PRERTru: EQUAL - 2279543\n",
      "G16PREGSte: EQUAL - 51463\n",
      "G16PRELJoh: EQUAL - 172136\n",
      "G16PREOth: EQUAL - 27303\n"
     ]
    }
   ],
   "source": [
    "for race in data_columns:\n",
    "    diff_val = sum(gdfv[race])-sum(df_pivot[race])\n",
    "    if diff_val != 0:\n",
    "        print(race+\": \"+str(diff_val), \"\\tVEST sum: \", sum(gdfv[race]), \"\\tRDH sum: \", sum(df_pivot[race]))\n",
    "    else:\n",
    "        print(race+\": EQUAL - \"+ str(sum(df_pivot[race])))"
   ]
  },
  {
   "cell_type": "markdown",
   "metadata": {},
   "source": [
    "### Validate countywide totals\n",
    "\n",
    "Note: We do not necessarily expect these to match exactly at this point given VEST's instructions:\n",
    "\n",
    "Michigan has cities split across counties. Two are relevant to their reported election results versus the precinct map (which did not make the split), Fenton and Richmond. Those precincts were merged to reflect the precinct map."
   ]
  },
  {
   "cell_type": "code",
   "execution_count": 48,
   "metadata": {},
   "outputs": [
    {
     "name": "stdout",
     "output_type": "stream",
     "text": [
      "G16PREDCli\n",
      "049   -3\n",
      "125    3\n",
      "G16PRERTru\n",
      "049   -9\n",
      "099   -3\n",
      "125    9\n",
      "147    3\n",
      "All other races in all counties are equal\n"
     ]
    }
   ],
   "source": [
    "#Add a county FIPS column to the VEST file\n",
    "gdfv['county_fips'] = gdfv['VTD2016'].str.slice(stop=3)\n",
    "\n",
    "diff_counties=[]\n",
    "for i in data_columns:\n",
    "    diff = df_pivot.groupby(['county_fips']).sum()[i]-gdfv.groupby(['county_fips']).sum()[i]\n",
    "    for val in diff[diff != 0].index.values.tolist():\n",
    "        if val not in diff_counties:\n",
    "            diff_counties.append(val)\n",
    "    if len(diff[diff != 0]!=0):\n",
    "        print(i)\n",
    "        print(diff[diff != 0].to_string(header=False))\n",
    "print(\"All other races in all counties are equal\")"
   ]
  },
  {
   "cell_type": "markdown",
   "metadata": {},
   "source": [
    "## Validate Election Results at Precinct Level"
   ]
  },
  {
   "cell_type": "markdown",
   "metadata": {},
   "source": [
    "### Look for unique identifier"
   ]
  },
  {
   "cell_type": "code",
   "execution_count": 49,
   "metadata": {},
   "outputs": [
    {
     "name": "stdout",
     "output_type": "stream",
     "text": [
      "set()\n",
      "set()\n"
     ]
    }
   ],
   "source": [
    "#So, the elections file has 157 more unique identifiers than VEST's final file... Likely caused by satistical adjustments + AVCBs\n",
    "print(set(gdfv.VTD2016) - set(shp.VTD2016))\n",
    "print(set(shp.VTD2016) - set(gdfv.VTD2016))"
   ]
  },
  {
   "cell_type": "markdown",
   "metadata": {},
   "source": [
    "- See that `gdfv`, the final VEST file and `shp` the raw shapefile have unique identifiers that match up perfectly.  \n",
    "- Check `gdfv` `VTD2016` column to identify different components of the unique id  \n",
    "- Check census all geocodes file and find that `City of Dearborn` has `county_fips` = 163, and `county subdiv`(MCDFIPS) = 21000  \n",
    "- So, from `shp`, `Jurisdicti` is the `county subdiv`/MCDFIPS code  "
   ]
  },
  {
   "cell_type": "markdown",
   "metadata": {},
   "source": [
    "### Read in Census File to get the MCDFIPs code and more"
   ]
  },
  {
   "cell_type": "code",
   "execution_count": 50,
   "metadata": {},
   "outputs": [],
   "source": [
    "census = pd.read_csv('./raw-from-source/all-geocodes-v2016.csv')\n",
    "censusmi = census[census['State Code (FIPS)'] == 26]\n",
    "#After `Place Code` != 0, repeat values, so want to filter that out. Then see that # unique values = 1520 for County Sub, indicating same as `Juris` in `shp`\n",
    "censusmi = censusmi[(censusmi['Place Code (FIPS)'] == 0) & (censusmi['County Subdivision Code (FIPS)'] != 0)]\n"
   ]
  },
  {
   "cell_type": "markdown",
   "metadata": {},
   "source": [
    "- Census file uses \"Charter Township\" whereas election df just says \"Township\". Also, census file says \"City City\" in some places\n",
    "- Seems like best bet is to make `Area Name`s consistent, make column with the county fips joined, then use dictionary to match to the `Juris` code\n",
    "- Before removing all instances of charter from the censusmi, wanted to make sure df does not contain instances, it doesnt\n",
    "`df_pivot[df_pivot['city_town_name'].str.contains('charter')]\n",
    "df_pivot[df_pivot['city_town_name'].str.contains('CITY CITY')]`"
   ]
  },
  {
   "cell_type": "markdown",
   "metadata": {},
   "source": [
    "### Clean census file to make match column"
   ]
  },
  {
   "cell_type": "code",
   "execution_count": 51,
   "metadata": {},
   "outputs": [],
   "source": [
    "censusmi['city_town_name'] = censusmi['Area Name (including legal/statistical area description)'].str.replace('charter township', 'township')\n",
    "censusmi['city_town_name'] = censusmi['city_town_name'].str.replace('City city', 'city')\n",
    "censusmi['city_town_name'] = censusmi['city_town_name'].str.upper()\n",
    "\n",
    "#set(censusmi['city_town_name'].str.upper()) - set(df_pivot['city_town_name'])\n",
    "#set(df_pivot['city_town_name']) - set(censusmi['city_town_name'].str.upper())\n",
    "#Use^ to create dictionary below\n",
    "\n",
    "census_to_df_city_dict = {'COLDSPRINGS TOWNSHIP': 'COLD SPRINGS TOWNSHIP',\n",
    " 'DEWITT CITY': 'DE WITT CITY',\n",
    " 'DEWITT TOWNSHIP': 'DE WITT TOWNSHIP',\n",
    " 'GUN PLAIN TOWNSHIP': 'GUNPLAIN TOWNSHIP',\n",
    " \"L'ANSE TOWNSHIP\": 'LANSE TOWNSHIP',\n",
    " 'LAGRANGE TOWNSHIP': 'LA GRANGE TOWNSHIP',\n",
    " 'PLEASANTVIEW TOWNSHIP': 'PLEASANT VIEW TOWNSHIP',\n",
    " 'ST. JAMES TOWNSHIP': 'ST JAMES TOWNSHIP',\n",
    " 'VILLAGE OF CLARKSTON CITY': 'CLARKSTON CITY',\n",
    " 'VILLAGE OF GROSSE POINTE SHORES CITY': 'GROSSE POINTE SHORES CITY'}\n",
    "\n",
    "censusmi.loc[censusmi['city_town_name'].isin(census_to_df_city_dict.keys()), 'city_town_name'] = censusmi.loc[censusmi['city_town_name'].isin(census_to_df_city_dict.keys()), 'city_town_name'].map(census_to_df_city_dict)\n",
    "censusmi.loc[(censusmi['Area Name (including legal/statistical area description)'] == 'Village of Grosse Pointe Shores city')&(censusmi['County Code (FIPS)']==99), 'city_town_name'] = 'GROSS POINTE SHORES CITY'\n"
   ]
  },
  {
   "cell_type": "markdown",
   "metadata": {},
   "source": [
    "### Translate Census file JURISDICTION code in to df\n",
    "Now that the city town names match, I can create a dictionary - census file juris code to df. First I need a column in each with the county code + the city town name"
   ]
  },
  {
   "cell_type": "code",
   "execution_count": 52,
   "metadata": {},
   "outputs": [],
   "source": [
    "censusmi['county_city_id'] = censusmi['County Code (FIPS)'].astype(str).str.zfill(3) + censusmi['city_town_name']\n",
    "df_pivot['county_city_id'] = df_pivot['county_fips'] + df_pivot['city_town_name']\n",
    "#The census identifier has more values by 8 than the df, so just keep in mind when mapping.\n",
    "### Apply dictionary to make column in df\n",
    "county_city_id_to_mcdjuris_dict = pd.Series(censusmi['County Subdivision Code (FIPS)'].values, index = censusmi['county_city_id']).to_dict()\n",
    "df_pivot['jurisd'] = (df_pivot['county_city_id'].map(county_city_id_to_mcdjuris_dict)).fillna(0).astype('int64')\n",
    "\n",
    "#gdfv[gdfv['VTD2016'].str.slice(stop = 3) == '001'].head()\n",
    "#From `gdfv` see that for juris for alcona twp, need 1040 --> 01040"
   ]
  },
  {
   "cell_type": "markdown",
   "metadata": {},
   "source": [
    "### Compare df and gdfv size/unique id matching"
   ]
  },
  {
   "cell_type": "code",
   "execution_count": 53,
   "metadata": {},
   "outputs": [
    {
     "name": "stdout",
     "output_type": "stream",
     "text": [
      "# df id values with county, juris, prec#, no ward:  4950\n",
      "gdfv shape:  (4810, 9)\n",
      "# unique values in id with no ward:  4686\n",
      "# vals in gdfv not in df with no ward in id:  53\n",
      "# vals in df not in gdfv with no ward in id:  317\n"
     ]
    }
   ],
   "source": [
    "print('# df id values with county, juris, prec#, no ward: ', (df_pivot['county_fips'] + df_pivot['jurisd'].astype(str).str.zfill(5) + df_pivot['precinct_number'].astype(str).str.zfill(3)).nunique())\n",
    "print('gdfv shape: ', gdfv.shape)\n",
    "print('# unique values in id with no ward: ', (gdfv['VTD2016'].str.slice(stop = -5) + gdfv['VTD2016'].str.slice(start = -3)).nunique())\n",
    "### Observe better match rate with ward removed from unique identifier. Explore more about the unique ids:\n",
    "print('# vals in gdfv not in df with no ward in id: ', len(set(gdfv['VTD2016'].str.slice(stop = -5) + gdfv['VTD2016'].str.slice(start = -3)) - set(df_pivot['county_fips'] + df_pivot['jurisd'].astype(str).str.zfill(5) + df_pivot['precinct_number'].astype(str).str.zfill(3))))\n",
    "print('# vals in df not in gdfv with no ward in id: ', len(set(df_pivot['county_fips'] + df_pivot['jurisd'].astype(str).str.zfill(5) + df_pivot['precinct_number'].astype(str).str.zfill(3)) - set(gdfv['VTD2016'].str.slice(stop = 8) + gdfv['VTD2016'].str.slice(start = 10))))"
   ]
  },
  {
   "cell_type": "markdown",
   "metadata": {},
   "source": [
    "### Look more into ward use and needs for id creation\n",
    "See from sample id that taking ward out, `VTD2016` does in fact rely on the ward # to make the id unique"
   ]
  },
  {
   "cell_type": "code",
   "execution_count": 54,
   "metadata": {},
   "outputs": [
    {
     "name": "stdout",
     "output_type": "stream",
     "text": [
      "gdfv ward # value counts:\n",
      "00    3705\n",
      "01     236\n",
      "02     229\n",
      "03     196\n",
      "04     148\n",
      "05     129\n",
      "06      77\n",
      "07      76\n",
      "08       7\n",
      "09       6\n",
      "10       1\n",
      "Name: VTD2016, dtype: int64\n",
      "df ward # value counts:\n",
      "0    4503\n",
      "1     179\n",
      "2     130\n",
      "3     110\n",
      "4      64\n",
      "5      49\n",
      "6      19\n",
      "7      10\n",
      "8       7\n",
      "9       6\n",
      "Name: ward_number, dtype: int64\n"
     ]
    }
   ],
   "source": [
    "#Observe highest value count for '00' in gdfv and df, but notice that the value counts do not match up - df has far too many '00' values\n",
    "print('gdfv ward # value counts:')\n",
    "print(gdfv['VTD2016'].str.slice(start = -5, stop = -3).value_counts())\n",
    "print('df ward # value counts:')\n",
    "print(df_pivot['ward_number'].value_counts())"
   ]
  },
  {
   "cell_type": "code",
   "execution_count": 55,
   "metadata": {},
   "outputs": [
    {
     "name": "stdout",
     "output_type": "stream",
     "text": [
      "# id values in shp not in df:  567\n",
      "# id values in df not in shp:  834\n",
      "sum of ward# value count differences not equal to zero:  530\n",
      "# ids in df not containing AVCB not in shp id list:  624\n"
     ]
    }
   ],
   "source": [
    "#create draft id to match gdfv and shp that includes ward... will observe that the ward number does not match well with the other two files\n",
    "df_pivot['VTD2016_draft'] = df_pivot['county_fips'] + df_pivot['jurisd'].astype(str).str.zfill(5) + df_pivot['ward_number'].astype(str).str.zfill(2) + df_pivot['precinct_number'].astype(str).str.zfill(3)+df_pivot['precinct_label'].str.strip()\n",
    "#Observe poor match rate for this new draft id\n",
    "print('# id values in shp not in df: ', len(set(shp.VTD2016) - set(df_pivot.VTD2016_draft)))\n",
    "print('# id values in df not in shp: ', len(set(df_pivot.VTD2016_draft) - set(shp.VTD2016)))\n",
    "\n",
    "#sum the difference in value counts for all ward #s not equal to zero\n",
    "print('sum of ward# value count differences not equal to zero: ', (236-179)+ (229-130)+(196 - 110)+(148-64) + (129-49) + (77-19)+(76-10))\n",
    "#See that half of mismatch can likely be attributed to ward mismatch\n",
    "\n",
    "print('# ids in df not containing AVCB not in shp id list: ', len(set(df_pivot['VTD2016_draft'][df_pivot['VTD2016_draft'].str.slice(start = -4)!='AVCB']) - set(shp.VTD2016)))\n"
   ]
  },
  {
   "cell_type": "markdown",
   "metadata": {},
   "source": [
    "From `readme.txt`, see that `ward` field is 00 if \"not applicable\"...\n",
    "\n",
    "See from removing AVCBs that match rate improves without - need to fix using csv from brian\n",
    "TODO:\n",
    "- modify AVCB as needed\n",
    "- modify ward"
   ]
  },
  {
   "cell_type": "code",
   "execution_count": 56,
   "metadata": {},
   "outputs": [
    {
     "name": "stdout",
     "output_type": "stream",
     "text": [
      "df AVCB values: \n",
      "380      0276090000901AVCB\n",
      "386      0277394000901AVCB\n",
      "494      0372412000901AVCB\n",
      "865      0511218000901AVCB\n",
      "1729     0874606000901AVCB\n",
      "               ...        \n",
      "4763    16322000001068AVCB\n",
      "4764    16322000001069AVCB\n",
      "4765    16322000001070AVCB\n",
      "4766    16322000001071AVCB\n",
      "4767    16322000001072AVCB\n",
      "Name: VTD2016_draft, Length: 210, dtype: object\n",
      "# unique ids in df and not avcb without ward:  4742\n",
      "# unique ids in gdfv and not avcb without ward:  4686\n"
     ]
    }
   ],
   "source": [
    "#Observe 900 added to normal precinct values in the AVCBs\n",
    "print('df AVCB values: ')\n",
    "print(df_pivot['VTD2016_draft'][df_pivot['VTD2016_draft'].str.slice(start = -4)=='AVCB'])\n",
    "\n",
    "print('# unique ids in df and not avcb without ward: ', (df_pivot['VTD2016_draft'][df_pivot['VTD2016_draft'].str.slice(start = -4)!='AVCB'].str.slice(stop=-5)+df_pivot['precinct_number'].astype(str).str.zfill(3)).nunique())\n",
    "print('# unique ids in gdfv and not avcb without ward: ',(gdfv.VTD2016.str.slice(stop=-5)+gdfv.VTD2016.str.slice(start=-3)).nunique())"
   ]
  },
  {
   "cell_type": "markdown",
   "metadata": {},
   "source": [
    "### Manually adjust remaining unique_IDs"
   ]
  },
  {
   "cell_type": "markdown",
   "metadata": {},
   "source": [
    "ID Changes DICT is a dictionary added to make some minor ID adjustments to match more precincts."
   ]
  },
  {
   "cell_type": "code",
   "execution_count": 57,
   "metadata": {},
   "outputs": [
    {
     "name": "stdout",
     "output_type": "stream",
     "text": [
      "ID change dict length:  566\n"
     ]
    }
   ],
   "source": [
    "id_changes_dict = {'0250592000021': '0250592002021', '0250592000010': '0250592001010', '0250592000008': '0250592005008', '0250592000006': '0250592004006', '0250592000012': '0250592002012', '0250592000005': '0250592005005', '0250592000015': '0250592003015', '0250592000016': '0250592003016', '0250592000003': '0250592005003', '0250592000018': '0250592002018', '0250592000014': '0250592004014', '0250592000023': '0250592001023', '0250592000020': '0250592005020', '0250592000017': '0250592003017', '0250592000007': '0250592002007', '0250592000013': '0250592004013', '0250592000001': '0250592003001', '0250592000002': '0250592004002', '0250592000004': '0250592001004', '0250592000022': '0250592001022', '0250592000019': '0250592003019', '0250592000009': '0250592004009', '0250592000011': '0250592005011', '0210752000003': '0210752003001', '0210752000001': '0210752001001', '0210752000004': '0210752004001', '0210752000002': '0210752002001', '1632200000490': '1632200001490', '1632200000489': '1632200006489', '1632200000488': '1632200006488', '1632200000487': '1632200006487', '1632200000486': '1632200006486', '1632200000485': '1632200006485', '1632200000484': '1632200006484', '1632200000483': '1632200006483', '1632200000482': '1632200006482', '1632200000481': '1632200006481', '1632200000480': '1632200006480', '1632200000479': '1632200006479', '1632200000478': '1632200006478', '1632200000477': '1632200006477', '1632200000476': '1632200006476', '1632200000475': '1632200006475', '1632200000474': '1632200006474', '1632200000473': '1632200006473', '1632200000472': '1632200006472', '1632200000471': '1632200006471', '1632200000470': '1632200006470', '1632200000469': '1632200006469', '1632200000468': '1632200006468', '1632200000467': '1632200006467', '1632200000466': '1632200006466', '1632200000465': '1632200006465', '1632200000464': '1632200006464', '1632200000463': '1632200006463', '1632200000462': '1632200006462', '1632200000461': '1632200006461', '1632200000460': '1632200006460', '1632200000459': '1632200006459', '1632200000458': '1632200006458', '1632200000457': '1632200006457', '1632200000456': '1632200005456', '1632200000455': '1632200005455', '1632200000454': '1632200005454', '1632200000453': '1632200006453', '1632200000452': '1632200005452', '1632200000451': '1632200006451', '1632200000450': '1632200006450', '1632200000449': '1632200005449', '1632200000448': '1632200005448', '1632200000447': '1632200005447', '1632200000446': '1632200005446', '1632200000445': '1632200005445', '1632200000444': '1632200005444', '1632200000443': '1632200005443', '1632200000442': '1632200005442', '1632200000441': '1632200005441', '1632200000440': '1632200005440', '1632200000439': '1632200005439', '1632200000438': '1632200005438', '1632200000437': '1632200005437', '1632200000436': '1632200005436', '1632200000435': '1632200005435', '1632200000434': '1632200005434', '1632200000433': '1632200005433', '1632200000432': '1632200005432', '1632200000431': '1632200007431', '1632200000430': '1632200007430', '1632200000429': '1632200007429', '1632200000428': '1632200007428', '1632200000427': '1632200007427', '1632200000426': '1632200007426', '1632200000425': '1632200006425', '1632200000424': '1632200006424', '1632200000423': '1632200006423', '1632200000422': '1632200006422', '1632200000421': '1632200006421', '1632200000420': '1632200006420', '1632200000419': '1632200006419', '1632200000418': '1632200006418', '1632200000417': '1632200006417', '1632200000416': '1632200006416', '1632200000415': '1632200007415', '1632200000414': '1632200007414', '1632200000413': '1632200007413', '1632200000412': '1632200007412', '1632200000411': '1632200007411', '1632200000410': '1632200007410', '1632200000409': '1632200007409', '1632200000408': '1632200007408', '1632200000407': '1632200007407', '1632200000406': '1632200007406', '1632200000405': '1632200007405', '1632200000404': '1632200007404', '1632200000403': '1632200002403', '1632200000402': '1632200007402', '1632200000401': '1632200007401', '1632200000400': '1632200007400', '1632200000399': '1632200007399', '1632200000398': '1632200007398', '1632200000397': '1632200007397', '1632200000396': '1632200007396', '1632200000395': '1632200007395', '1632200000394': '1632200007394', '1632200000393': '1632200007393', '1632200000392': '1632200002392', '1632200000391': '1632200002391', '1632200000390': '1632200007390', '1632200000389': '1632200002389', '1632200000388': '1632200002388', '1632200000387': '1632200002387', '1632200000386': '1632200002386', '1632200000385': '1632200002385', '1632200000384': '1632200002384', '1632200000383': '1632200002383', '1632200000382': '1632200002382', '1632200000381': '1632200002381', '1632200000380': '1632200002380', '1632200000379': '1632200001379', '1632200000378': '1632200001378', '1632200000377': '1632200007377', '1632200000376': '1632200007376', '1632200000375': '1632200007375', '1632200000374': '1632200007374', '1632200000373': '1632200007373', '1632200000372': '1632200007372', '1632200000371': '1632200007371', '1632200000370': '1632200007370', '1632200000369': '1632200007369', '1632200000368': '1632200007368', '1632200000367': '1632200007367', '1632200000366': '1632200007366', '1632200000365': '1632200007365', '1632200000364': '1632200007364', '1632200000363': '1632200007363', '1632200000362': '1632200001362', '1632200000361': '1632200001361', '1632200000360': '1632200001360', '1632200000359': '1632200001359', '1632200000358': '1632200001358', '1632200000357': '1632200001357', '1632200000356': '1632200007356', '1632200000355': '1632200007355', '1632200000354': '1632200001354', '1632200000353': '1632200001353', '1632200000352': '1632200001352', '1632200000351': '1632200001351', '1632200000350': '1632200001350', '1632200000349': '1632200007349', '1632200000348': '1632200007348', '1632200000347': '1632200007347', '1632200000346': '1632200007346', '1632200000345': '1632200007345', '1632200000344': '1632200007344', '1632200000343': '1632200007343',\n",
    "                     '1632200000342': '1632200007342', '1632200000341': '1632200007341', '1632200000340': '1632200007340', '1632200000339': '1632200007339', '1632200000338': '1632200007338', '1632200000337': '1632200007337', '1632200000336': '1632200007336', '1632200000335': '1632200007335', '1632200000334': '1632200007334', '1632200000333': '1632200007333', '1632200000332': '1632200007332', '1632200000331': '1632200007331', '1632200000330': '1632200007330', '1632200000329': '1632200001329', '1632200000328': '1632200001328', '1632200000327': '1632200001327', '1632200000326': '1632200001326', '1632200000325': '1632200001325', '1632200000324': '1632200001324', '1632200000323': '1632200001323', '1632200000322': '1632200001322', '1632200000321': '1632200001321', '1632200000320': '1632200001320', '1632200000319': '1632200001319', '1632200000318': '1632200001318', '1632200000317': '1632200001317', '1632200000316': '1632200001316', '1632200000315': '1632200001315', '1632200000314': '1632200002314', '1632200000313': '1632200002313', '1632200000312': '1632200001312', '1632200000311': '1632200001311', '1632200000310': '1632200001310', '1632200000309': '1632200001309', '1632200000308': '1632200001308', '1632200000307': '1632200001307', '1632200000306': '1632200001306', '1632200000305': '1632200001305', '1632200000304': '1632200001304', '1632200000303': '1632200001303', '1632200000302': '1632200001302', '1632200000301': '1632200001301', '1632200000300': '1632200001300', '1632200000299': '1632200001299', '1632200000298': '1632200001298', '1632200000297': '1632200001297', '1632200000296': '1632200002296', '1632200000295': '1632200002295', '1632200000294': '1632200002294', '1632200000293': '1632200002293', '1632200000292': '1632200002292', '1632200000291': '1632200002291', '1632200000290': '1632200002290', '1632200000289': '1632200002289', '1632200000288': '1632200002288', '1632200000287': '1632200001287', '1632200000286': '1632200001286', '1632200000285': '1632200001285', '1632200000284': '1632200001284', '1632200000283': '1632200001283', '1632200000282': '1632200001282', '1632200000281': '1632200001281', '1632200000280': '1632200001280', '1632200000279': '1632200001279', '1632200000278': '1632200001278', '1632200000277': '1632200001277', '1632200000276': '1632200001276', '1632200000275': '1632200001275', '1632200000274': '1632200001274', '1632200000273': '1632200001273', '1632200000272': '1632200001272', '1632200000271': '1632200001271', '1632200000270': '1632200001270', '1632200000269': '1632200001269', '1632200000268': '1632200001268', '1632200000267': '1632200001267', '1632200000266': '1632200001266', '1632200000265': '1632200001265', '1632200000264': '1632200001264', '1632200000263': '1632200001263', '1632200000262': '1632200001262', '1632200000261': '1632200001261', '1632200000260': '1632200002260', '1632200000259': '1632200002259', '1632200000258': '1632200002258', '1632200000257': '1632200002257', '1632200000256': '1632200002256', '1632200000255': '1632200002255', '1632200000254': '1632200001254', '1632200000253': '1632200001253', '1632200000252': '1632200001252', '1632200000251': '1632200001251', '1632200000250': '1632200002250', '1632200000249': '1632200002249', '1632200000248': '1632200002248', '1632200000247': '1632200002247', '1632200000246': '1632200002246', '1632200000245': '1632200002245', '1632200000244': '1632200002244', '1632200000243': '1632200002243', '1632200000242': '1632200002242', '1632200000241': '1632200002241', '1632200000240': '1632200002240', '1632200000239': '1632200002239', '1632200000238': '1632200002238', '1632200000237': '1632200002237', '1632200000236': '1632200002236', '1632200000235': '1632200002235', '1632200000234': '1632200002234', '1632200000233': '1632200002233', '1632200000232': '1632200002232', '1632200000231': '1632200002231', '1632200000230': '1632200002230', '1632200000229': '1632200002229', '1632200000228': '1632200002228', '1632200000227': '1632200002227', '1632200000226': '1632200002226', '1632200000225': '1632200002225', '1632200000224': '1632200002224', '1632200000223': '1632200002223', '1632200000222': '1632200002222', '1632200000221': '1632200002221', '1632200000220': '1632200005220', '1632200000219': '1632200002219', '1632200000218': '1632200005218', '1632200000217': '1632200002217', '1632200000216': '1632200002216', '1632200000215': '1632200002215', '1632200000214': '1632200002214', '1632200000213': '1632200002213', '1632200000212': '1632200002212', '1632200000211': '1632200002211', '1632200000210': '1632200002210', '1632200000209': '1632200002209', '1632200000208': '1632200002208', '1632200000207': '1632200002207', '1632200000206': '1632200002206', '1632200000205': '1632200002205', '1632200000204': '1632200002204', '1632200000203': '1632200002203', '1632200000202': '1632200002202', '1632200000201': '1632200002201', '1632200000200': '1632200002200', '1632200000199': '1632200002199', '1632200000198': '1632200002198', '1632200000197': '1632200003197', '1632200000196': '1632200003196', '1632200000195': '1632200003195', '1632200000194': '1632200003194', '1632200000193': '1632200003193', '1632200000192': '1632200003192', '1632200000191': '1632200003191', '1632200000190': '1632200003190', '1632200000189': '1632200003189', '1632200000188': '1632200003188', '1632200000187': '1632200003187', '1632200000186': '1632200003186', '1632200000185': '1632200003185', '1632200000184': '1632200003184', '1632200000183': '1632200003183', '1632200000182': '1632200003182', '1632200000181': '1632200003181', '1632200000180': '1632200003180', '1632200000179': '1632200003179', '1632200000178': '1632200003178', '1632200000177': '1632200003177', '1632200000176': '1632200003176', '1632200000175': '1632200003175', '1632200000174': '1632200003174', '1632200000173': '1632200003173', '1632200000172': '1632200003172', '1632200000171': '1632200005171', '1632200000170': '1632200005170', '1632200000169': '1632200005169', '1632200000168': '1632200005168', '1632200000167': '1632200005167', '1632200000166': '1632200005166', '1632200000165': '1632200005165', '1632200000164': '1632200005164', '1632200000163': '1632200005163', '1632200000162': '1632200005162', '1632200000161': '1632200005161', '1632200000160': '1632200005160', '1632200000159': '1632200005159', '1632200000158': '1632200005158', '1632200000157': '1632200006157', '1632200000156': '1632200005156', '1632200000155': '1632200005155', '1632200000154': '1632200006154', '1632200000153': '1632200006153', '1632200000152': '1632200005152', '1632200000151': '1632200006151', '1632200000150': '1632200006150', '1632200000149': '1632200006149', '1632200000148': '1632200006148', '1632200000147': '1632200006147', '1632200000146': '1632200006146', '1632200000145': '1632200006145', '1632200000144': '1632200006144', '1632200000143': '1632200006143', '1632200000142': '1632200005142', '1632200000141': '1632200005141', '1632200000140': '1632200005140', '1632200000139': '1632200005139', '1632200000138': '1632200005138', '1632200000137': '1632200005137', '1632200000136': '1632200005136', '1632200000135': '1632200005135', '1632200000134': '1632200005134', '1632200000133': '1632200005133', '1632200000132': '1632200005132', '1632200000131': '1632200005131', '1632200000130': '1632200005130', '1632200000129': '1632200005129', '1632200000128': '1632200005128', '1632200000127': '1632200005127', '1632200000126': '1632200005126', '1632200000125': '1632200005125', '1632200000124': '1632200005124', '1632200000123': '1632200005123', '1632200000122': '1632200005122', '1632200000121': '1632200005121', '1632200000120': '1632200005120', '1632200000119': '1632200005119', '1632200000118': '1632200005118', '1632200000117': '1632200005117', '1632200000116': '1632200005116', '1632200000115': '1632200005115', '1632200000114': '1632200004114', '1632200000113': '1632200004113', '1632200000112': '1632200004112', '1632200000111': '1632200004111', '1632200000110': '1632200004110', '1632200000109': '1632200004109', '1632200000108': '1632200003108', '1632200000107': '1632200003107', '1632200000106': '1632200004106', '1632200000105': '1632200004105', '1632200000104': '1632200004104', '1632200000103': '1632200004103', '1632200000102': '1632200003102', '1632200000101': '1632200003101', '1632200000100': '1632200003100', '1632200000099': '1632200005099', '1632200000098': '1632200005098', '1632200000097': '1632200003097', '1632200000096': '1632200003096', '1632200000095': '1632200003095', '1632200000094': '1632200003094', '1632200000093': '1632200003093', '1632200000092': '1632200003092', '1632200000091': '1632200003091', '1632200000090': '1632200003090', '1632200000089': '1632200003089', '1632200000088': '1632200003088', '1632200000087': '1632200003087', '1632200000086': '1632200003086', '1632200000085': '1632200003085', '1632200000084': '1632200003084', '1632200000083': '1632200003083',\n",
    "                     '1632200000082': '1632200003082', '1632200000081': '1632200003081', '1632200000080': '1632200003080', '1632200000079': '1632200003079', '1632200000078': '1632200003078', '1632200000077': '1632200003077', '1632200000076': '1632200004076', '1632200000075': '1632200003075', '1632200000074': '1632200003074', '1632200000073': '1632200003073', '1632200000072': '1632200003072', '1632200000071': '1632200003071', '1632200000070': '1632200003070', '1632200000069': '1632200003069', '1632200000068': '1632200003068', '1632200000067': '1632200003067', '1632200000066': '1632200003066', '1632200000065': '1632200003065', '1632200000064': '1632200003064', '1632200000063': '1632200003063', '1632200000062': '1632200003062', '1632200000061': '1632200003061', '1632200000060': '1632200004060', '1632200000059': '1632200004059', '1632200000058': '1632200004058', '1632200000057': '1632200004057', '1632200000056': '1632200004056', '1632200000055': '1632200004055', '1632200000054': '1632200004054', '1632200000053': '1632200004053', '1632200000052': '1632200004052', '1632200000051': '1632200004051', '1632200000050': '1632200004050', '1632200000049': '1632200004049', '1632200000048': '1632200004048', '1632200000047': '1632200004047', '1632200000046': '1632200004046', '1632200000045': '1632200004045', '1632200000044': '1632200004044', '1632200000043': '1632200004043', '1632200000042': '1632200004042', '1632200000041': '1632200004041', '1632200000040': '1632200004040', '1632200000039': '1632200004039', '1632200000038': '1632200004038', '1632200000037': '1632200004037', '1632200000036': '1632200004036', '1632200000035': '1632200004035', '1632200000034': '1632200004034', '1632200000033': '1632200004033', '1632200000032': '1632200004032', '1632200000031': '1632200004031', '1632200000030': '1632200004030', '1632200000029': '1632200004029', '1632200000028': '1632200004028', '1632200000027': '1632200004027', '1632200000026': '1632200004026', '1632200000025': '1632200004025', '1632200000024': '1632200004024', '1632200000023': '1632200004023', '1632200000022': '1632200004022', '1632200000021': '1632200004021', '1632200000020': '1632200004020', '1632200000019': '1632200004019', '1632200000018': '1632200004018', '1632200000017': '1632200004017', '1632200000016': '1632200004016', '1632200000015': '1632200004015', '1632200000014': '1632200004014', '1632200000013': '1632200004013', '1632200000012': '1632200004012', '1632200000011': '1632200004011', '1632200000010': '1632200004010', '1632200000009': '1632200004009', '1632200000008': '1632200004008', '1632200000007': '1632200004007', '1632200000006': '1632200004006', '1632200000005': '1632200004005', '1632200000004': '1632200004004', '1632200000003': '1632200005003', '1632200000002': '1632200005002', '1632200000001': '1632200005001', '1373172002002': '1373172002001', '1373172003003': '1373172003001', '0513232001003': '0513232003002', '0513232001004': '0513232004001', '0513232001002': '0513232002002', '0153712000001': '01537120010001', '0674086004004': '0674086004001', '0674086003003': '0674086003001', '0674086002002': '0674086002001', '0434096000002': '0434096002002', '0434096000001': '0434096001003', '0434096000003': '0434096003002', '045460000300023': '0454600003023', '045460000300022L': '0454600003022', '1155502000003': '1155502000003N', '0215776000004': '0215776004004', '0215776000002': '0215776002002', '0215776000003': '0215776003003', '0215776000001': '0215776001001', '0370000000001': '0376186000001', '0476382000002': '0476382002001', '0476382000001': '0476382001001', '0476382000003': '0476382003001', '0476382000004': '0476382004001', '1256903501009': '1256903502009', '1256903501030': '1256903504030', '1256903501028': '1256903504028', '1256903501001': '1256903503001', '1256903501016': '1256903503016', '1256903501025': '1256903502025', '1256903501012': '1256903503012', '1256903501024': '1256903503024', '1256903501010': '1256903502010', '1256903501027': '1256903504027', '1256903501032': '1256903502032', '1256903501005': '1256903504005', '1256903501021': '1256903502021', '1256903501031': '1256903503031', '1256903501011': '1256903504011', '1256903501003': '1256903503003', '1256903501004': '1256903502004', '1256903501018': '1256903502018', '1256903501019': '1256903502019', '1256903501013': '1256903503013', '1256903501020': '1256903504020', '1256903501002': '1256903503002', '1256903501015': '1256903504015', '1256903501007': '1256903502007', '0057498000001': '0057498003002'}\n",
    "print('ID change dict length: ', len(id_changes_dict))\n",
    "#Using the VTD2016 column as the unique ID and applying the dictioanry above\n",
    "df_pivot[\"VTD2016\"] = df_pivot[\"VTD2016_draft\"]\n",
    "df_pivot[\"VTD2016\"] = df_pivot[\"VTD2016\"].map(id_changes_dict).fillna(df_pivot[\"VTD2016\"])"
   ]
  },
  {
   "cell_type": "markdown",
   "metadata": {},
   "source": [
    "# Deal with AVCBs and statistical adjustments"
   ]
  },
  {
   "cell_type": "markdown",
   "metadata": {},
   "source": [
    "## Pre-processing"
   ]
  },
  {
   "cell_type": "code",
   "execution_count": 58,
   "metadata": {},
   "outputs": [],
   "source": [
    "#replace avcb values for non-detroit locations by replacing 9 with 0 in order to match the csv file precinct numbers\n",
    "df_pivot.loc[(df_pivot['VTD2016_draft'].str.endswith('AVCB'))&(df_pivot['city_town_name']!='DETROIT CITY'), 'VTD2016']= df_pivot['VTD2016_draft'].str.slice(stop=-7)+ '0'+df_pivot['VTD2016_draft'].str.slice(start=-6,stop=-4) "
   ]
  },
  {
   "cell_type": "code",
   "execution_count": 59,
   "metadata": {},
   "outputs": [
    {
     "name": "stdout",
     "output_type": "stream",
     "text": [
      "(5077, 18)\n",
      "(210, 18)\n",
      "(56, 18)\n",
      "(4811, 18)\n"
     ]
    }
   ],
   "source": [
    "#Split up the AVCB, statistical adjustments, and precinct level votes\n",
    "avcb = df_pivot[df_pivot['precinct_label'].map(lambda x: 'AVCB' in str(x))]\n",
    "stat = df_pivot[df_pivot['city_town_name'].map(lambda x: 'Statistical Adjustments' in str(x))]\n",
    "df_no_avcb_or_stat = df_pivot[(df_pivot['precinct_label'].map(lambda x: 'AVCB' not in str(x))) & \n",
    "                              (df_pivot['city_town_name'].map(lambda x: 'Statistical Adjustments' not in str(x)))]\n",
    "\n",
    "#Make sure the bottom 3 numbers add up to the top number so every precinct is being accounted for\n",
    "print(df_pivot.shape)\n",
    "print(avcb.shape)\n",
    "print(stat.shape)\n",
    "print(df_no_avcb_or_stat.shape)"
   ]
  },
  {
   "cell_type": "markdown",
   "metadata": {},
   "source": [
    "## There are 3 different steps:\n",
    "\n",
    "1. Deal with non-Detroit (Wayne County) AVCBS - these votes need to be added directly to the precincts they correspond to \n",
    "2. Deal with Detroit AVCBs - these need to be allocated based on a precincts share of votes within the AVCB it is covered by\n",
    "3. Deal with statistical adjustments - these apply to all precincts and can be dealt with all at once"
   ]
  },
  {
   "cell_type": "markdown",
   "metadata": {},
   "source": [
    "## 1. Non-Detroit AVCBs"
   ]
  },
  {
   "cell_type": "markdown",
   "metadata": {},
   "source": [
    "Notice that\n",
    "- precinct # - 900 = precinctid from csv -\n",
    "\n",
    "Make into dictionary, use .loc to apply to precinct_number, then make new VTD 2016\n",
    "\n",
    "Note: For \"0372412000001\", the votes are added to a different precinct that was found manually, as described above. Otherwise, the AVCB votes are added to the precinct with the same name.\n"
   ]
  },
  {
   "cell_type": "code",
   "execution_count": 60,
   "metadata": {},
   "outputs": [],
   "source": [
    "avcb[\"county_name\"].unique()\n",
    "avcb[\"county_name\"].unique()\n",
    "avcb_wayne = avcb[avcb[\"county_name\"]==\"WAYNE\"]\n",
    "avcb_not_wayne = avcb[avcb[\"county_name\"]!=\"WAYNE\"]\n"
   ]
  },
  {
   "cell_type": "code",
   "execution_count": 61,
   "metadata": {},
   "outputs": [
    {
     "name": "stdout",
     "output_type": "stream",
     "text": [
      "(210, 18)\n",
      "(172, 18)\n",
      "(38, 18)\n"
     ]
    }
   ],
   "source": [
    "print(avcb.shape)\n",
    "print(avcb_wayne.shape)\n",
    "print(avcb_not_wayne.shape)"
   ]
  },
  {
   "cell_type": "code",
   "execution_count": 62,
   "metadata": {},
   "outputs": [
    {
     "name": "stdout",
     "output_type": "stream",
     "text": [
      "['0276090000001', '0277394000001', '0372412000001', '0511218000001', '0874606000001', '0874606000002', '1471618000001', '1471618000003', '1471618000004', '1471618000005', '1472382000001', '1472382000002', '1474092000001', '1474092000002', '1474092000003', '1476584000001', '1476584000002', '1476584000003', '1476584000004', '1476584000005', '1477070000001', '1477070000002', '1475208000001', '1475208000002', '1475208000003', '1476582000001', '1476582000002', '1476582000003', '1476582000004', '1476582000005', '1476582000006', '1476582000007', '1476582000008', '1476582000009', '1476582000010', '1477068000001', '1477068000002', '1477068000003']\n"
     ]
    }
   ],
   "source": [
    "#print(avcb_not_wayne[\"VTD2016\"])\n",
    "avcb_vtds_list_for_nonwayne = list(avcb_not_wayne[\"VTD2016\"])\n",
    "print(avcb_vtds_list_for_nonwayne)"
   ]
  },
  {
   "cell_type": "code",
   "execution_count": 63,
   "metadata": {},
   "outputs": [
    {
     "name": "stdout",
     "output_type": "stream",
     "text": [
      "0372412000001\n"
     ]
    }
   ],
   "source": [
    "df_no_avcb_or_stat[df_no_avcb_or_stat[\"VTD2016\"].isin(avcb_vtds_list_for_nonwayne)]\n",
    "for i in avcb_vtds_list_for_nonwayne:\n",
    "    if i not in list(df_no_avcb_or_stat[\"VTD2016\"]):\n",
    "        print(i)"
   ]
  },
  {
   "cell_type": "markdown",
   "metadata": {},
   "source": [
    "### Deal with one-off case"
   ]
  },
  {
   "cell_type": "code",
   "execution_count": 64,
   "metadata": {},
   "outputs": [
    {
     "data": {
      "text/html": [
       "<div>\n",
       "<style scoped>\n",
       "    .dataframe tbody tr th:only-of-type {\n",
       "        vertical-align: middle;\n",
       "    }\n",
       "\n",
       "    .dataframe tbody tr th {\n",
       "        vertical-align: top;\n",
       "    }\n",
       "\n",
       "    .dataframe thead th {\n",
       "        text-align: right;\n",
       "    }\n",
       "</style>\n",
       "<table border=\"1\" class=\"dataframe\">\n",
       "  <thead>\n",
       "    <tr style=\"text-align: right;\">\n",
       "      <th></th>\n",
       "      <th>candidate_id</th>\n",
       "      <th>county_code</th>\n",
       "      <th>city_town_code</th>\n",
       "      <th>ward_number</th>\n",
       "      <th>precinct_number</th>\n",
       "      <th>precinct_label</th>\n",
       "      <th>G16PREGSte</th>\n",
       "      <th>G16PREDCli</th>\n",
       "      <th>G16PRERTru</th>\n",
       "      <th>G16PRELJoh</th>\n",
       "      <th>G16PREOth</th>\n",
       "      <th>county_name</th>\n",
       "      <th>county_fips</th>\n",
       "      <th>city_town_name</th>\n",
       "      <th>county_city_id</th>\n",
       "      <th>jurisd</th>\n",
       "      <th>VTD2016_draft</th>\n",
       "      <th>VTD2016</th>\n",
       "    </tr>\n",
       "  </thead>\n",
       "  <tbody>\n",
       "    <tr>\n",
       "      <th>494</th>\n",
       "      <td>494</td>\n",
       "      <td>19</td>\n",
       "      <td>15</td>\n",
       "      <td>0</td>\n",
       "      <td>901</td>\n",
       "      <td>AVCB</td>\n",
       "      <td>1</td>\n",
       "      <td>85</td>\n",
       "      <td>61</td>\n",
       "      <td>5</td>\n",
       "      <td>0</td>\n",
       "      <td>CLINTON</td>\n",
       "      <td>037</td>\n",
       "      <td>EAST LANSING CITY</td>\n",
       "      <td>037EAST LANSING CITY</td>\n",
       "      <td>24120</td>\n",
       "      <td>0372412000901AVCB</td>\n",
       "      <td>0372412000001</td>\n",
       "    </tr>\n",
       "  </tbody>\n",
       "</table>\n",
       "</div>"
      ],
      "text/plain": [
       "     candidate_id  county_code  city_town_code  ward_number  precinct_number  \\\n",
       "494           494           19              15            0              901   \n",
       "\n",
       "    precinct_label  G16PREGSte  G16PREDCli  G16PRERTru  G16PRELJoh  G16PREOth  \\\n",
       "494           AVCB           1          85          61           5          0   \n",
       "\n",
       "    county_name county_fips     city_town_name        county_city_id  jurisd  \\\n",
       "494     CLINTON         037  EAST LANSING CITY  037EAST LANSING CITY   24120   \n",
       "\n",
       "         VTD2016_draft        VTD2016  \n",
       "494  0372412000901AVCB  0372412000001  "
      ]
     },
     "execution_count": 64,
     "metadata": {},
     "output_type": "execute_result"
    }
   ],
   "source": [
    "##There is no precinct that directly corresponds with the AVCB precinct with the VTD2016 of \"0372412000001\". However, as shown below, \n",
    "#there is only one precinct that covers East Lansing City and is in Clinton County. We are assuming that is where the votes should be added to.\n",
    "avcb_not_wayne.loc[avcb_not_wayne[\"VTD2016\"]==\"0372412000001\"]"
   ]
  },
  {
   "cell_type": "code",
   "execution_count": 65,
   "metadata": {},
   "outputs": [
    {
     "data": {
      "text/html": [
       "<div>\n",
       "<style scoped>\n",
       "    .dataframe tbody tr th:only-of-type {\n",
       "        vertical-align: middle;\n",
       "    }\n",
       "\n",
       "    .dataframe tbody tr th {\n",
       "        vertical-align: top;\n",
       "    }\n",
       "\n",
       "    .dataframe thead th {\n",
       "        text-align: right;\n",
       "    }\n",
       "</style>\n",
       "<table border=\"1\" class=\"dataframe\">\n",
       "  <thead>\n",
       "    <tr style=\"text-align: right;\">\n",
       "      <th></th>\n",
       "      <th>candidate_id</th>\n",
       "      <th>county_code</th>\n",
       "      <th>city_town_code</th>\n",
       "      <th>ward_number</th>\n",
       "      <th>precinct_number</th>\n",
       "      <th>precinct_label</th>\n",
       "      <th>G16PREGSte</th>\n",
       "      <th>G16PREDCli</th>\n",
       "      <th>G16PRERTru</th>\n",
       "      <th>G16PRELJoh</th>\n",
       "      <th>G16PREOth</th>\n",
       "      <th>county_name</th>\n",
       "      <th>county_fips</th>\n",
       "      <th>city_town_name</th>\n",
       "      <th>county_city_id</th>\n",
       "      <th>jurisd</th>\n",
       "      <th>VTD2016_draft</th>\n",
       "      <th>VTD2016</th>\n",
       "    </tr>\n",
       "  </thead>\n",
       "  <tbody>\n",
       "    <tr>\n",
       "      <th>493</th>\n",
       "      <td>493</td>\n",
       "      <td>19</td>\n",
       "      <td>15</td>\n",
       "      <td>0</td>\n",
       "      <td>17</td>\n",
       "      <td></td>\n",
       "      <td>7</td>\n",
       "      <td>501</td>\n",
       "      <td>163</td>\n",
       "      <td>18</td>\n",
       "      <td>0</td>\n",
       "      <td>CLINTON</td>\n",
       "      <td>037</td>\n",
       "      <td>EAST LANSING CITY</td>\n",
       "      <td>037EAST LANSING CITY</td>\n",
       "      <td>24120</td>\n",
       "      <td>0372412000017</td>\n",
       "      <td>0372412000017</td>\n",
       "    </tr>\n",
       "  </tbody>\n",
       "</table>\n",
       "</div>"
      ],
      "text/plain": [
       "     candidate_id  county_code  city_town_code  ward_number  precinct_number  \\\n",
       "493           493           19              15            0               17   \n",
       "\n",
       "    precinct_label  G16PREGSte  G16PREDCli  G16PRERTru  G16PRELJoh  G16PREOth  \\\n",
       "493                          7         501         163          18          0   \n",
       "\n",
       "    county_name county_fips     city_town_name        county_city_id  jurisd  \\\n",
       "493     CLINTON         037  EAST LANSING CITY  037EAST LANSING CITY   24120   \n",
       "\n",
       "     VTD2016_draft        VTD2016  \n",
       "493  0372412000017  0372412000017  "
      ]
     },
     "execution_count": 65,
     "metadata": {},
     "output_type": "execute_result"
    }
   ],
   "source": [
    "df_no_avcb_or_stat.loc[(df_no_avcb_or_stat[\"city_town_name\"]==\"EAST LANSING CITY\") & (df_no_avcb_or_stat[\"county_fips\"]==\"037\")]"
   ]
  },
  {
   "cell_type": "markdown",
   "metadata": {},
   "source": [
    "### Add non-Wayne AVCB's directly to their corresponding precinct"
   ]
  },
  {
   "cell_type": "code",
   "execution_count": 66,
   "metadata": {},
   "outputs": [
    {
     "name": "stdout",
     "output_type": "stream",
     "text": [
      "     G16PREGSte  G16PREDCli  G16PRERTru  G16PRELJoh  G16PREOth\n",
      "378          13         279         736          53          6\n",
      "     G16PREGSte  G16PREDCli  G16PRERTru  G16PRELJoh  G16PREOth\n",
      "380           7         260         536          26          7\n",
      "     G16PREGSte  G16PREDCli  G16PRERTru  G16PRELJoh  G16PREOth\n",
      "378          20         539        1272          79         13\n",
      "     G16PREGSte  G16PREDCli  G16PRERTru  G16PRELJoh  G16PREOth\n",
      "385           9         264         739          35          3\n",
      "     G16PREGSte  G16PREDCli  G16PRERTru  G16PRELJoh  G16PREOth\n",
      "386           1         181         259          17          2\n",
      "     G16PREGSte  G16PREDCli  G16PRERTru  G16PRELJoh  G16PREOth\n",
      "385          10         445         998          52          5\n",
      "     G16PREGSte  G16PREDCli  G16PRERTru  G16PRELJoh  G16PREOth\n",
      "493           7         501         163          18          0\n",
      "     G16PREGSte  G16PREDCli  G16PRERTru  G16PRELJoh  G16PREOth\n",
      "494           1          85          61           5          0\n",
      "     G16PREGSte  G16PREDCli  G16PRERTru  G16PRELJoh  G16PREOth\n",
      "493           8         586         224          23          0\n",
      "     G16PREGSte  G16PREDCli  G16PRERTru  G16PRELJoh  G16PREOth\n",
      "864           6         209         461          22          7\n",
      "     G16PREGSte  G16PREDCli  G16PRERTru  G16PRELJoh  G16PREOth\n",
      "865           2         260         397          12          2\n",
      "     G16PREGSte  G16PREDCli  G16PRERTru  G16PRELJoh  G16PREOth\n",
      "864           8         469         858          34          9\n",
      "      G16PREGSte  G16PREDCli  G16PRERTru  G16PRELJoh  G16PREOth\n",
      "1727           5         193         490          32          5\n",
      "      G16PREGSte  G16PREDCli  G16PRERTru  G16PRELJoh  G16PREOth\n",
      "1729           1         140         238          11         10\n",
      "      G16PREGSte  G16PREDCli  G16PRERTru  G16PRELJoh  G16PREOth\n",
      "1727           6         333         728          43         15\n",
      "      G16PREGSte  G16PREDCli  G16PRERTru  G16PRELJoh  G16PREOth\n",
      "1728          15         321         863          45         11\n",
      "      G16PREGSte  G16PREDCli  G16PRERTru  G16PRELJoh  G16PREOth\n",
      "1730           1         159         265          25          3\n",
      "      G16PREGSte  G16PREDCli  G16PRERTru  G16PRELJoh  G16PREOth\n",
      "1728          16         480        1128          70         14\n",
      "      G16PREGSte  G16PREDCli  G16PRERTru  G16PRELJoh  G16PREOth\n",
      "3481          13         214         703          40          2\n",
      "      G16PREGSte  G16PREDCli  G16PRERTru  G16PRELJoh  G16PREOth\n",
      "3485           1         113         304          16          1\n",
      "      G16PREGSte  G16PREDCli  G16PRERTru  G16PRELJoh  G16PREOth\n",
      "3481          14         327        1007          56          3\n",
      "      G16PREGSte  G16PREDCli  G16PRERTru  G16PRELJoh  G16PREOth\n",
      "3482           4         185         544          11          1\n",
      "      G16PREGSte  G16PREDCli  G16PRERTru  G16PRELJoh  G16PREOth\n",
      "3486           2         143         395          11          3\n",
      "      G16PREGSte  G16PREDCli  G16PRERTru  G16PRELJoh  G16PREOth\n",
      "3482           6         328         939          22          4\n",
      "      G16PREGSte  G16PREDCli  G16PRERTru  G16PRELJoh  G16PREOth\n",
      "3483           2         125         326          16          0\n",
      "      G16PREGSte  G16PREDCli  G16PRERTru  G16PRELJoh  G16PREOth\n",
      "3487           0          97         197           9          0\n",
      "      G16PREGSte  G16PREDCli  G16PRERTru  G16PRELJoh  G16PREOth\n",
      "3483           2         222         523          25          0\n",
      "      G16PREGSte  G16PREDCli  G16PRERTru  G16PRELJoh  G16PREOth\n",
      "3484           6         229         759          41          2\n",
      "      G16PREGSte  G16PREDCli  G16PRERTru  G16PRELJoh  G16PREOth\n",
      "3488           2         120         286           8          1\n",
      "      G16PREGSte  G16PREDCli  G16PRERTru  G16PRELJoh  G16PREOth\n",
      "3484           8         349        1045          49          3\n",
      "      G16PREGSte  G16PREDCli  G16PRERTru  G16PRELJoh  G16PREOth\n",
      "3494           3         206         413          18          3\n",
      "      G16PREGSte  G16PREDCli  G16PRERTru  G16PRELJoh  G16PREOth\n",
      "3496           2         112         181           8          2\n",
      "      G16PREGSte  G16PREDCli  G16PRERTru  G16PRELJoh  G16PREOth\n",
      "3494           5         318         594          26          5\n",
      "      G16PREGSte  G16PREDCli  G16PRERTru  G16PRELJoh  G16PREOth\n",
      "3495           9         203         451          18          4\n",
      "      G16PREGSte  G16PREDCli  G16PRERTru  G16PRELJoh  G16PREOth\n",
      "3497           2         154         275           6          1\n",
      "      G16PREGSte  G16PREDCli  G16PRERTru  G16PRELJoh  G16PREOth\n",
      "3495          11         357         726          24          5\n",
      "      G16PREGSte  G16PREDCli  G16PRERTru  G16PRELJoh  G16PREOth\n",
      "3506           3         101         326          12          0\n",
      "      G16PREGSte  G16PREDCli  G16PRERTru  G16PRELJoh  G16PREOth\n",
      "3509           2          71         150           8          2\n",
      "      G16PREGSte  G16PREDCli  G16PRERTru  G16PRELJoh  G16PREOth\n",
      "3506           5         172         476          20          2\n",
      "      G16PREGSte  G16PREDCli  G16PRERTru  G16PRELJoh  G16PREOth\n",
      "3507           6         126         580          25          1\n",
      "      G16PREGSte  G16PREDCli  G16PRERTru  G16PRELJoh  G16PREOth\n",
      "3510           1          96         233           8          5\n",
      "      G16PREGSte  G16PREDCli  G16PRERTru  G16PRELJoh  G16PREOth\n",
      "3507           7         222         813          33          6\n",
      "      G16PREGSte  G16PREDCli  G16PRERTru  G16PRELJoh  G16PREOth\n",
      "3508          10         134         255          20          0\n",
      "      G16PREGSte  G16PREDCli  G16PRERTru  G16PRELJoh  G16PREOth\n",
      "3511           1          51          91           2          1\n",
      "      G16PREGSte  G16PREDCli  G16PRERTru  G16PRELJoh  G16PREOth\n",
      "3508          11         185         346          22          1\n",
      "      G16PREGSte  G16PREDCli  G16PRERTru  G16PRELJoh  G16PREOth\n",
      "3519           9         232         521          26          1\n",
      "      G16PREGSte  G16PREDCli  G16PRERTru  G16PRELJoh  G16PREOth\n",
      "3524           2         102         147          13          3\n",
      "      G16PREGSte  G16PREDCli  G16PRERTru  G16PRELJoh  G16PREOth\n",
      "3519          11         334         668          39          4\n",
      "      G16PREGSte  G16PREDCli  G16PRERTru  G16PRELJoh  G16PREOth\n",
      "3520           8         266         517          16          4\n",
      "      G16PREGSte  G16PREDCli  G16PRERTru  G16PRELJoh  G16PREOth\n",
      "3525           1         118         125           9          2\n",
      "      G16PREGSte  G16PREDCli  G16PRERTru  G16PRELJoh  G16PREOth\n",
      "3520           9         384         642          25          6\n",
      "      G16PREGSte  G16PREDCli  G16PRERTru  G16PRELJoh  G16PREOth\n",
      "3521          22         261         470          40          1\n",
      "      G16PREGSte  G16PREDCli  G16PRERTru  G16PRELJoh  G16PREOth\n",
      "3526           0          88         144           8          2\n",
      "      G16PREGSte  G16PREDCli  G16PRERTru  G16PRELJoh  G16PREOth\n",
      "3521          22         349         614          48          3\n",
      "      G16PREGSte  G16PREDCli  G16PRERTru  G16PRELJoh  G16PREOth\n",
      "3522           7         139         207          15          3\n",
      "      G16PREGSte  G16PREDCli  G16PRERTru  G16PRELJoh  G16PREOth\n",
      "3527           0          33          34           0          2\n",
      "      G16PREGSte  G16PREDCli  G16PRERTru  G16PRELJoh  G16PREOth\n",
      "3522           7         172         241          15          5\n",
      "      G16PREGSte  G16PREDCli  G16PRERTru  G16PRELJoh  G16PREOth\n",
      "3523          15         313         389          42          2\n",
      "      G16PREGSte  G16PREDCli  G16PRERTru  G16PRELJoh  G16PREOth\n",
      "3528           1          68          57           6          0\n",
      "      G16PREGSte  G16PREDCli  G16PRERTru  G16PRELJoh  G16PREOth\n",
      "3523          16         381         446          48          2\n",
      "      G16PREGSte  G16PREDCli  G16PRERTru  G16PRELJoh  G16PREOth\n",
      "3530          15         419         859          35          6\n",
      "      G16PREGSte  G16PREDCli  G16PRERTru  G16PRELJoh  G16PREOth\n",
      "3532           4         231         500          19          0\n",
      "      G16PREGSte  G16PREDCli  G16PRERTru  G16PRELJoh  G16PREOth\n",
      "3530          19         650        1359          54          6\n",
      "      G16PREGSte  G16PREDCli  G16PRERTru  G16PRELJoh  G16PREOth\n",
      "3531          11         313         940          51          3\n",
      "      G16PREGSte  G16PREDCli  G16PRERTru  G16PRELJoh  G16PREOth\n",
      "3533           3         180         333          23          3\n",
      "      G16PREGSte  G16PREDCli  G16PRERTru  G16PRELJoh  G16PREOth\n",
      "3531          14         493        1273          74          6\n",
      "      G16PREGSte  G16PREDCli  G16PRERTru  G16PRELJoh  G16PREOth\n",
      "3539          18         336         673          47          6\n",
      "      G16PREGSte  G16PREDCli  G16PRERTru  G16PRELJoh  G16PREOth\n",
      "3542           2         158         228          12          3\n"
     ]
    },
    {
     "name": "stderr",
     "output_type": "stream",
     "text": [
      "/Users/peterhorton/opt/anaconda3/envs/geo_env/lib/python3.9/site-packages/pandas/core/indexing.py:1676: SettingWithCopyWarning: \n",
      "A value is trying to be set on a copy of a slice from a DataFrame.\n",
      "Try using .loc[row_indexer,col_indexer] = value instead\n",
      "\n",
      "See the caveats in the documentation: https://pandas.pydata.org/pandas-docs/stable/user_guide/indexing.html#returning-a-view-versus-a-copy\n",
      "  self._setitem_single_column(ilocs[0], value, pi)\n",
      "/Users/peterhorton/opt/anaconda3/envs/geo_env/lib/python3.9/site-packages/pandas/core/indexing.py:1676: SettingWithCopyWarning: \n",
      "A value is trying to be set on a copy of a slice from a DataFrame.\n",
      "Try using .loc[row_indexer,col_indexer] = value instead\n",
      "\n",
      "See the caveats in the documentation: https://pandas.pydata.org/pandas-docs/stable/user_guide/indexing.html#returning-a-view-versus-a-copy\n",
      "  self._setitem_single_column(ilocs[0], value, pi)\n",
      "/Users/peterhorton/opt/anaconda3/envs/geo_env/lib/python3.9/site-packages/pandas/core/indexing.py:1676: SettingWithCopyWarning: \n",
      "A value is trying to be set on a copy of a slice from a DataFrame.\n",
      "Try using .loc[row_indexer,col_indexer] = value instead\n",
      "\n",
      "See the caveats in the documentation: https://pandas.pydata.org/pandas-docs/stable/user_guide/indexing.html#returning-a-view-versus-a-copy\n",
      "  self._setitem_single_column(ilocs[0], value, pi)\n",
      "/Users/peterhorton/opt/anaconda3/envs/geo_env/lib/python3.9/site-packages/pandas/core/indexing.py:1676: SettingWithCopyWarning: \n",
      "A value is trying to be set on a copy of a slice from a DataFrame.\n",
      "Try using .loc[row_indexer,col_indexer] = value instead\n",
      "\n",
      "See the caveats in the documentation: https://pandas.pydata.org/pandas-docs/stable/user_guide/indexing.html#returning-a-view-versus-a-copy\n",
      "  self._setitem_single_column(ilocs[0], value, pi)\n",
      "/Users/peterhorton/opt/anaconda3/envs/geo_env/lib/python3.9/site-packages/pandas/core/indexing.py:1676: SettingWithCopyWarning: \n",
      "A value is trying to be set on a copy of a slice from a DataFrame.\n",
      "Try using .loc[row_indexer,col_indexer] = value instead\n",
      "\n",
      "See the caveats in the documentation: https://pandas.pydata.org/pandas-docs/stable/user_guide/indexing.html#returning-a-view-versus-a-copy\n",
      "  self._setitem_single_column(ilocs[0], value, pi)\n",
      "/Users/peterhorton/opt/anaconda3/envs/geo_env/lib/python3.9/site-packages/pandas/core/indexing.py:1676: SettingWithCopyWarning: \n",
      "A value is trying to be set on a copy of a slice from a DataFrame.\n",
      "Try using .loc[row_indexer,col_indexer] = value instead\n",
      "\n",
      "See the caveats in the documentation: https://pandas.pydata.org/pandas-docs/stable/user_guide/indexing.html#returning-a-view-versus-a-copy\n",
      "  self._setitem_single_column(ilocs[0], value, pi)\n",
      "/Users/peterhorton/opt/anaconda3/envs/geo_env/lib/python3.9/site-packages/pandas/core/indexing.py:1676: SettingWithCopyWarning: \n",
      "A value is trying to be set on a copy of a slice from a DataFrame.\n",
      "Try using .loc[row_indexer,col_indexer] = value instead\n",
      "\n",
      "See the caveats in the documentation: https://pandas.pydata.org/pandas-docs/stable/user_guide/indexing.html#returning-a-view-versus-a-copy\n",
      "  self._setitem_single_column(ilocs[0], value, pi)\n",
      "/Users/peterhorton/opt/anaconda3/envs/geo_env/lib/python3.9/site-packages/pandas/core/indexing.py:1676: SettingWithCopyWarning: \n",
      "A value is trying to be set on a copy of a slice from a DataFrame.\n",
      "Try using .loc[row_indexer,col_indexer] = value instead\n",
      "\n",
      "See the caveats in the documentation: https://pandas.pydata.org/pandas-docs/stable/user_guide/indexing.html#returning-a-view-versus-a-copy\n",
      "  self._setitem_single_column(ilocs[0], value, pi)\n",
      "/Users/peterhorton/opt/anaconda3/envs/geo_env/lib/python3.9/site-packages/pandas/core/indexing.py:1676: SettingWithCopyWarning: \n",
      "A value is trying to be set on a copy of a slice from a DataFrame.\n",
      "Try using .loc[row_indexer,col_indexer] = value instead\n",
      "\n",
      "See the caveats in the documentation: https://pandas.pydata.org/pandas-docs/stable/user_guide/indexing.html#returning-a-view-versus-a-copy\n",
      "  self._setitem_single_column(ilocs[0], value, pi)\n",
      "/Users/peterhorton/opt/anaconda3/envs/geo_env/lib/python3.9/site-packages/pandas/core/indexing.py:1676: SettingWithCopyWarning: \n",
      "A value is trying to be set on a copy of a slice from a DataFrame.\n",
      "Try using .loc[row_indexer,col_indexer] = value instead\n",
      "\n",
      "See the caveats in the documentation: https://pandas.pydata.org/pandas-docs/stable/user_guide/indexing.html#returning-a-view-versus-a-copy\n",
      "  self._setitem_single_column(ilocs[0], value, pi)\n",
      "/Users/peterhorton/opt/anaconda3/envs/geo_env/lib/python3.9/site-packages/pandas/core/indexing.py:1676: SettingWithCopyWarning: \n",
      "A value is trying to be set on a copy of a slice from a DataFrame.\n",
      "Try using .loc[row_indexer,col_indexer] = value instead\n",
      "\n",
      "See the caveats in the documentation: https://pandas.pydata.org/pandas-docs/stable/user_guide/indexing.html#returning-a-view-versus-a-copy\n",
      "  self._setitem_single_column(ilocs[0], value, pi)\n",
      "/Users/peterhorton/opt/anaconda3/envs/geo_env/lib/python3.9/site-packages/pandas/core/indexing.py:1676: SettingWithCopyWarning: \n",
      "A value is trying to be set on a copy of a slice from a DataFrame.\n",
      "Try using .loc[row_indexer,col_indexer] = value instead\n",
      "\n",
      "See the caveats in the documentation: https://pandas.pydata.org/pandas-docs/stable/user_guide/indexing.html#returning-a-view-versus-a-copy\n",
      "  self._setitem_single_column(ilocs[0], value, pi)\n",
      "/Users/peterhorton/opt/anaconda3/envs/geo_env/lib/python3.9/site-packages/pandas/core/indexing.py:1676: SettingWithCopyWarning: \n",
      "A value is trying to be set on a copy of a slice from a DataFrame.\n",
      "Try using .loc[row_indexer,col_indexer] = value instead\n",
      "\n",
      "See the caveats in the documentation: https://pandas.pydata.org/pandas-docs/stable/user_guide/indexing.html#returning-a-view-versus-a-copy\n",
      "  self._setitem_single_column(ilocs[0], value, pi)\n",
      "/Users/peterhorton/opt/anaconda3/envs/geo_env/lib/python3.9/site-packages/pandas/core/indexing.py:1676: SettingWithCopyWarning: \n",
      "A value is trying to be set on a copy of a slice from a DataFrame.\n",
      "Try using .loc[row_indexer,col_indexer] = value instead\n",
      "\n",
      "See the caveats in the documentation: https://pandas.pydata.org/pandas-docs/stable/user_guide/indexing.html#returning-a-view-versus-a-copy\n",
      "  self._setitem_single_column(ilocs[0], value, pi)\n",
      "/Users/peterhorton/opt/anaconda3/envs/geo_env/lib/python3.9/site-packages/pandas/core/indexing.py:1676: SettingWithCopyWarning: \n",
      "A value is trying to be set on a copy of a slice from a DataFrame.\n",
      "Try using .loc[row_indexer,col_indexer] = value instead\n",
      "\n",
      "See the caveats in the documentation: https://pandas.pydata.org/pandas-docs/stable/user_guide/indexing.html#returning-a-view-versus-a-copy\n",
      "  self._setitem_single_column(ilocs[0], value, pi)\n",
      "/Users/peterhorton/opt/anaconda3/envs/geo_env/lib/python3.9/site-packages/pandas/core/indexing.py:1676: SettingWithCopyWarning: \n",
      "A value is trying to be set on a copy of a slice from a DataFrame.\n",
      "Try using .loc[row_indexer,col_indexer] = value instead\n",
      "\n",
      "See the caveats in the documentation: https://pandas.pydata.org/pandas-docs/stable/user_guide/indexing.html#returning-a-view-versus-a-copy\n",
      "  self._setitem_single_column(ilocs[0], value, pi)\n",
      "/Users/peterhorton/opt/anaconda3/envs/geo_env/lib/python3.9/site-packages/pandas/core/indexing.py:1676: SettingWithCopyWarning: \n",
      "A value is trying to be set on a copy of a slice from a DataFrame.\n",
      "Try using .loc[row_indexer,col_indexer] = value instead\n",
      "\n",
      "See the caveats in the documentation: https://pandas.pydata.org/pandas-docs/stable/user_guide/indexing.html#returning-a-view-versus-a-copy\n",
      "  self._setitem_single_column(ilocs[0], value, pi)\n",
      "/Users/peterhorton/opt/anaconda3/envs/geo_env/lib/python3.9/site-packages/pandas/core/indexing.py:1676: SettingWithCopyWarning: \n",
      "A value is trying to be set on a copy of a slice from a DataFrame.\n",
      "Try using .loc[row_indexer,col_indexer] = value instead\n",
      "\n",
      "See the caveats in the documentation: https://pandas.pydata.org/pandas-docs/stable/user_guide/indexing.html#returning-a-view-versus-a-copy\n",
      "  self._setitem_single_column(ilocs[0], value, pi)\n",
      "/Users/peterhorton/opt/anaconda3/envs/geo_env/lib/python3.9/site-packages/pandas/core/indexing.py:1676: SettingWithCopyWarning: \n",
      "A value is trying to be set on a copy of a slice from a DataFrame.\n",
      "Try using .loc[row_indexer,col_indexer] = value instead\n",
      "\n",
      "See the caveats in the documentation: https://pandas.pydata.org/pandas-docs/stable/user_guide/indexing.html#returning-a-view-versus-a-copy\n",
      "  self._setitem_single_column(ilocs[0], value, pi)\n",
      "/Users/peterhorton/opt/anaconda3/envs/geo_env/lib/python3.9/site-packages/pandas/core/indexing.py:1676: SettingWithCopyWarning: \n",
      "A value is trying to be set on a copy of a slice from a DataFrame.\n",
      "Try using .loc[row_indexer,col_indexer] = value instead\n",
      "\n",
      "See the caveats in the documentation: https://pandas.pydata.org/pandas-docs/stable/user_guide/indexing.html#returning-a-view-versus-a-copy\n",
      "  self._setitem_single_column(ilocs[0], value, pi)\n",
      "/Users/peterhorton/opt/anaconda3/envs/geo_env/lib/python3.9/site-packages/pandas/core/indexing.py:1676: SettingWithCopyWarning: \n",
      "A value is trying to be set on a copy of a slice from a DataFrame.\n",
      "Try using .loc[row_indexer,col_indexer] = value instead\n",
      "\n",
      "See the caveats in the documentation: https://pandas.pydata.org/pandas-docs/stable/user_guide/indexing.html#returning-a-view-versus-a-copy\n",
      "  self._setitem_single_column(ilocs[0], value, pi)\n",
      "/Users/peterhorton/opt/anaconda3/envs/geo_env/lib/python3.9/site-packages/pandas/core/indexing.py:1676: SettingWithCopyWarning: \n",
      "A value is trying to be set on a copy of a slice from a DataFrame.\n",
      "Try using .loc[row_indexer,col_indexer] = value instead\n",
      "\n",
      "See the caveats in the documentation: https://pandas.pydata.org/pandas-docs/stable/user_guide/indexing.html#returning-a-view-versus-a-copy\n",
      "  self._setitem_single_column(ilocs[0], value, pi)\n",
      "/Users/peterhorton/opt/anaconda3/envs/geo_env/lib/python3.9/site-packages/pandas/core/indexing.py:1676: SettingWithCopyWarning: \n",
      "A value is trying to be set on a copy of a slice from a DataFrame.\n",
      "Try using .loc[row_indexer,col_indexer] = value instead\n",
      "\n",
      "See the caveats in the documentation: https://pandas.pydata.org/pandas-docs/stable/user_guide/indexing.html#returning-a-view-versus-a-copy\n",
      "  self._setitem_single_column(ilocs[0], value, pi)\n"
     ]
    },
    {
     "name": "stdout",
     "output_type": "stream",
     "text": [
      "      G16PREGSte  G16PREDCli  G16PRERTru  G16PRELJoh  G16PREOth\n",
      "3539          20         494         901          59          9\n",
      "      G16PREGSte  G16PREDCli  G16PRERTru  G16PRELJoh  G16PREOth\n",
      "3540          21         381         696          53          6\n",
      "      G16PREGSte  G16PREDCli  G16PRERTru  G16PRELJoh  G16PREOth\n",
      "3543           6         290         325          31          3\n",
      "      G16PREGSte  G16PREDCli  G16PRERTru  G16PRELJoh  G16PREOth\n",
      "3540          27         671        1021          84          9\n",
      "      G16PREGSte  G16PREDCli  G16PRERTru  G16PRELJoh  G16PREOth\n",
      "3541          15         445         937          56          0\n",
      "      G16PREGSte  G16PREDCli  G16PRERTru  G16PRELJoh  G16PREOth\n",
      "3544           7         265         309          24          1\n",
      "      G16PREGSte  G16PREDCli  G16PRERTru  G16PRELJoh  G16PREOth\n",
      "3541          22         710        1246          80          1\n",
      "      G16PREGSte  G16PREDCli  G16PRERTru  G16PRELJoh  G16PREOth\n",
      "3546          26         390         438          31          6\n",
      "      G16PREGSte  G16PREDCli  G16PRERTru  G16PRELJoh  G16PREOth\n",
      "3556           3         208         204          11          1\n",
      "      G16PREGSte  G16PREDCli  G16PRERTru  G16PRELJoh  G16PREOth\n",
      "3546          29         598         642          42          7\n",
      "      G16PREGSte  G16PREDCli  G16PRERTru  G16PRELJoh  G16PREOth\n",
      "3547          31         376         541          36          4\n",
      "      G16PREGSte  G16PREDCli  G16PRERTru  G16PRELJoh  G16PREOth\n",
      "3557           4         144         127           7          1\n",
      "      G16PREGSte  G16PREDCli  G16PRERTru  G16PRELJoh  G16PREOth\n",
      "3547          35         520         668          43          5\n",
      "      G16PREGSte  G16PREDCli  G16PRERTru  G16PRELJoh  G16PREOth\n",
      "3548          21         409         588          53          2\n",
      "      G16PREGSte  G16PREDCli  G16PRERTru  G16PRELJoh  G16PREOth\n",
      "3558           4         139         133          13          4\n",
      "      G16PREGSte  G16PREDCli  G16PRERTru  G16PRELJoh  G16PREOth\n",
      "3548          25         548         721          66          6\n",
      "      G16PREGSte  G16PREDCli  G16PRERTru  G16PRELJoh  G16PREOth\n",
      "3549          35         345         383          46          6\n",
      "      G16PREGSte  G16PREDCli  G16PRERTru  G16PRELJoh  G16PREOth\n",
      "3559           0          84         102           7          0\n",
      "      G16PREGSte  G16PREDCli  G16PRERTru  G16PRELJoh  G16PREOth\n",
      "3549          35         429         485          53          6\n",
      "      G16PREGSte  G16PREDCli  G16PRERTru  G16PRELJoh  G16PREOth\n",
      "3550          39         290         325          43          4\n",
      "      G16PREGSte  G16PREDCli  G16PRERTru  G16PRELJoh  G16PREOth\n",
      "3560           2          78          67           5          2\n",
      "      G16PREGSte  G16PREDCli  G16PRERTru  G16PRELJoh  G16PREOth\n",
      "3550          41         368         392          48          6\n",
      "      G16PREGSte  G16PREDCli  G16PRERTru  G16PRELJoh  G16PREOth\n",
      "3551          41         434         417          47          5\n",
      "      G16PREGSte  G16PREDCli  G16PRERTru  G16PRELJoh  G16PREOth\n",
      "3561           1          64          61           4          2\n",
      "      G16PREGSte  G16PREDCli  G16PRERTru  G16PRELJoh  G16PREOth\n",
      "3551          42         498         478          51          7\n",
      "      G16PREGSte  G16PREDCli  G16PRERTru  G16PRELJoh  G16PREOth\n",
      "3552          34         294         299          31          8\n",
      "      G16PREGSte  G16PREDCli  G16PRERTru  G16PRELJoh  G16PREOth\n",
      "3562           4          56          30           4          1\n",
      "      G16PREGSte  G16PREDCli  G16PRERTru  G16PRELJoh  G16PREOth\n",
      "3552          38         350         329          35          9\n",
      "      G16PREGSte  G16PREDCli  G16PRERTru  G16PRELJoh  G16PREOth\n",
      "3553          43         441         438          45          7\n",
      "      G16PREGSte  G16PREDCli  G16PRERTru  G16PRELJoh  G16PREOth\n",
      "3563           1          88          89          10          4\n",
      "      G16PREGSte  G16PREDCli  G16PRERTru  G16PRELJoh  G16PREOth\n",
      "3553          44         529         527          55         11\n",
      "      G16PREGSte  G16PREDCli  G16PRERTru  G16PRELJoh  G16PREOth\n",
      "3554          32         436         431          50          7\n",
      "      G16PREGSte  G16PREDCli  G16PRERTru  G16PRELJoh  G16PREOth\n",
      "3564           0          73          80          10          2\n",
      "      G16PREGSte  G16PREDCli  G16PRERTru  G16PRELJoh  G16PREOth\n",
      "3554          32         509         511          60          9\n",
      "      G16PREGSte  G16PREDCli  G16PRERTru  G16PRELJoh  G16PREOth\n",
      "3555          18         463         254          25          2\n",
      "      G16PREGSte  G16PREDCli  G16PRERTru  G16PRELJoh  G16PREOth\n",
      "3565           2          77          38           6          2\n",
      "      G16PREGSte  G16PREDCli  G16PRERTru  G16PRELJoh  G16PREOth\n",
      "3555          20         540         292          31          4\n",
      "      G16PREGSte  G16PREDCli  G16PRERTru  G16PRELJoh  G16PREOth\n",
      "3567          17         203         463          28          4\n",
      "      G16PREGSte  G16PREDCli  G16PRERTru  G16PRELJoh  G16PREOth\n",
      "3570           2         105         163           5          5\n",
      "      G16PREGSte  G16PREDCli  G16PRERTru  G16PRELJoh  G16PREOth\n",
      "3567          19         308         626          33          9\n",
      "      G16PREGSte  G16PREDCli  G16PRERTru  G16PRELJoh  G16PREOth\n",
      "3568           9         280         452          45          4\n",
      "      G16PREGSte  G16PREDCli  G16PRERTru  G16PRELJoh  G16PREOth\n",
      "3571           1          97         145           6          1\n",
      "      G16PREGSte  G16PREDCli  G16PRERTru  G16PRELJoh  G16PREOth\n",
      "3568          10         377         597          51          5\n",
      "      G16PREGSte  G16PREDCli  G16PRERTru  G16PRELJoh  G16PREOth\n",
      "3569          11         204         459          23          2\n",
      "      G16PREGSte  G16PREDCli  G16PRERTru  G16PRELJoh  G16PREOth\n",
      "3572           0          98         130           5          1\n",
      "      G16PREGSte  G16PREDCli  G16PRERTru  G16PRELJoh  G16PREOth\n",
      "3569          11         302         589          28          3\n"
     ]
    },
    {
     "name": "stderr",
     "output_type": "stream",
     "text": [
      "/Users/peterhorton/opt/anaconda3/envs/geo_env/lib/python3.9/site-packages/pandas/core/indexing.py:1676: SettingWithCopyWarning: \n",
      "A value is trying to be set on a copy of a slice from a DataFrame.\n",
      "Try using .loc[row_indexer,col_indexer] = value instead\n",
      "\n",
      "See the caveats in the documentation: https://pandas.pydata.org/pandas-docs/stable/user_guide/indexing.html#returning-a-view-versus-a-copy\n",
      "  self._setitem_single_column(ilocs[0], value, pi)\n",
      "/Users/peterhorton/opt/anaconda3/envs/geo_env/lib/python3.9/site-packages/pandas/core/indexing.py:1676: SettingWithCopyWarning: \n",
      "A value is trying to be set on a copy of a slice from a DataFrame.\n",
      "Try using .loc[row_indexer,col_indexer] = value instead\n",
      "\n",
      "See the caveats in the documentation: https://pandas.pydata.org/pandas-docs/stable/user_guide/indexing.html#returning-a-view-versus-a-copy\n",
      "  self._setitem_single_column(ilocs[0], value, pi)\n",
      "/Users/peterhorton/opt/anaconda3/envs/geo_env/lib/python3.9/site-packages/pandas/core/indexing.py:1676: SettingWithCopyWarning: \n",
      "A value is trying to be set on a copy of a slice from a DataFrame.\n",
      "Try using .loc[row_indexer,col_indexer] = value instead\n",
      "\n",
      "See the caveats in the documentation: https://pandas.pydata.org/pandas-docs/stable/user_guide/indexing.html#returning-a-view-versus-a-copy\n",
      "  self._setitem_single_column(ilocs[0], value, pi)\n",
      "/Users/peterhorton/opt/anaconda3/envs/geo_env/lib/python3.9/site-packages/pandas/core/indexing.py:1676: SettingWithCopyWarning: \n",
      "A value is trying to be set on a copy of a slice from a DataFrame.\n",
      "Try using .loc[row_indexer,col_indexer] = value instead\n",
      "\n",
      "See the caveats in the documentation: https://pandas.pydata.org/pandas-docs/stable/user_guide/indexing.html#returning-a-view-versus-a-copy\n",
      "  self._setitem_single_column(ilocs[0], value, pi)\n",
      "/Users/peterhorton/opt/anaconda3/envs/geo_env/lib/python3.9/site-packages/pandas/core/indexing.py:1676: SettingWithCopyWarning: \n",
      "A value is trying to be set on a copy of a slice from a DataFrame.\n",
      "Try using .loc[row_indexer,col_indexer] = value instead\n",
      "\n",
      "See the caveats in the documentation: https://pandas.pydata.org/pandas-docs/stable/user_guide/indexing.html#returning-a-view-versus-a-copy\n",
      "  self._setitem_single_column(ilocs[0], value, pi)\n",
      "/Users/peterhorton/opt/anaconda3/envs/geo_env/lib/python3.9/site-packages/pandas/core/indexing.py:1676: SettingWithCopyWarning: \n",
      "A value is trying to be set on a copy of a slice from a DataFrame.\n",
      "Try using .loc[row_indexer,col_indexer] = value instead\n",
      "\n",
      "See the caveats in the documentation: https://pandas.pydata.org/pandas-docs/stable/user_guide/indexing.html#returning-a-view-versus-a-copy\n",
      "  self._setitem_single_column(ilocs[0], value, pi)\n",
      "/Users/peterhorton/opt/anaconda3/envs/geo_env/lib/python3.9/site-packages/pandas/core/indexing.py:1676: SettingWithCopyWarning: \n",
      "A value is trying to be set on a copy of a slice from a DataFrame.\n",
      "Try using .loc[row_indexer,col_indexer] = value instead\n",
      "\n",
      "See the caveats in the documentation: https://pandas.pydata.org/pandas-docs/stable/user_guide/indexing.html#returning-a-view-versus-a-copy\n",
      "  self._setitem_single_column(ilocs[0], value, pi)\n",
      "/Users/peterhorton/opt/anaconda3/envs/geo_env/lib/python3.9/site-packages/pandas/core/indexing.py:1676: SettingWithCopyWarning: \n",
      "A value is trying to be set on a copy of a slice from a DataFrame.\n",
      "Try using .loc[row_indexer,col_indexer] = value instead\n",
      "\n",
      "See the caveats in the documentation: https://pandas.pydata.org/pandas-docs/stable/user_guide/indexing.html#returning-a-view-versus-a-copy\n",
      "  self._setitem_single_column(ilocs[0], value, pi)\n",
      "/Users/peterhorton/opt/anaconda3/envs/geo_env/lib/python3.9/site-packages/pandas/core/indexing.py:1676: SettingWithCopyWarning: \n",
      "A value is trying to be set on a copy of a slice from a DataFrame.\n",
      "Try using .loc[row_indexer,col_indexer] = value instead\n",
      "\n",
      "See the caveats in the documentation: https://pandas.pydata.org/pandas-docs/stable/user_guide/indexing.html#returning-a-view-versus-a-copy\n",
      "  self._setitem_single_column(ilocs[0], value, pi)\n",
      "/Users/peterhorton/opt/anaconda3/envs/geo_env/lib/python3.9/site-packages/pandas/core/indexing.py:1676: SettingWithCopyWarning: \n",
      "A value is trying to be set on a copy of a slice from a DataFrame.\n",
      "Try using .loc[row_indexer,col_indexer] = value instead\n",
      "\n",
      "See the caveats in the documentation: https://pandas.pydata.org/pandas-docs/stable/user_guide/indexing.html#returning-a-view-versus-a-copy\n",
      "  self._setitem_single_column(ilocs[0], value, pi)\n",
      "/Users/peterhorton/opt/anaconda3/envs/geo_env/lib/python3.9/site-packages/pandas/core/indexing.py:1676: SettingWithCopyWarning: \n",
      "A value is trying to be set on a copy of a slice from a DataFrame.\n",
      "Try using .loc[row_indexer,col_indexer] = value instead\n",
      "\n",
      "See the caveats in the documentation: https://pandas.pydata.org/pandas-docs/stable/user_guide/indexing.html#returning-a-view-versus-a-copy\n",
      "  self._setitem_single_column(ilocs[0], value, pi)\n",
      "/Users/peterhorton/opt/anaconda3/envs/geo_env/lib/python3.9/site-packages/pandas/core/indexing.py:1676: SettingWithCopyWarning: \n",
      "A value is trying to be set on a copy of a slice from a DataFrame.\n",
      "Try using .loc[row_indexer,col_indexer] = value instead\n",
      "\n",
      "See the caveats in the documentation: https://pandas.pydata.org/pandas-docs/stable/user_guide/indexing.html#returning-a-view-versus-a-copy\n",
      "  self._setitem_single_column(ilocs[0], value, pi)\n",
      "/Users/peterhorton/opt/anaconda3/envs/geo_env/lib/python3.9/site-packages/pandas/core/indexing.py:1676: SettingWithCopyWarning: \n",
      "A value is trying to be set on a copy of a slice from a DataFrame.\n",
      "Try using .loc[row_indexer,col_indexer] = value instead\n",
      "\n",
      "See the caveats in the documentation: https://pandas.pydata.org/pandas-docs/stable/user_guide/indexing.html#returning-a-view-versus-a-copy\n",
      "  self._setitem_single_column(ilocs[0], value, pi)\n",
      "/Users/peterhorton/opt/anaconda3/envs/geo_env/lib/python3.9/site-packages/pandas/core/indexing.py:1676: SettingWithCopyWarning: \n",
      "A value is trying to be set on a copy of a slice from a DataFrame.\n",
      "Try using .loc[row_indexer,col_indexer] = value instead\n",
      "\n",
      "See the caveats in the documentation: https://pandas.pydata.org/pandas-docs/stable/user_guide/indexing.html#returning-a-view-versus-a-copy\n",
      "  self._setitem_single_column(ilocs[0], value, pi)\n",
      "/Users/peterhorton/opt/anaconda3/envs/geo_env/lib/python3.9/site-packages/pandas/core/indexing.py:1676: SettingWithCopyWarning: \n",
      "A value is trying to be set on a copy of a slice from a DataFrame.\n",
      "Try using .loc[row_indexer,col_indexer] = value instead\n",
      "\n",
      "See the caveats in the documentation: https://pandas.pydata.org/pandas-docs/stable/user_guide/indexing.html#returning-a-view-versus-a-copy\n",
      "  self._setitem_single_column(ilocs[0], value, pi)\n"
     ]
    }
   ],
   "source": [
    "#Non-Wayne county reallocation\n",
    "data_columns = [\"G16PREGSte\",\"G16PREDCli\",\"G16PRERTru\",\"G16PRELJoh\",\"G16PREOth\"]\n",
    "\n",
    "for i in avcb_vtds_list_for_nonwayne:\n",
    "    if i =='0372412000001':\n",
    "        df_id = '0372412000017'\n",
    "    else:\n",
    "        df_id = i\n",
    "    print(df_no_avcb_or_stat.loc[df_no_avcb_or_stat[\"VTD2016\"]==df_id][[\"G16PREGSte\",\"G16PREDCli\",\"G16PRERTru\",\"G16PRELJoh\",\"G16PREOth\"]])\n",
    "    print(avcb_not_wayne.loc[avcb_not_wayne[\"VTD2016\"]==i][[\"G16PREGSte\",\"G16PREDCli\",\"G16PRERTru\",\"G16PRELJoh\",\"G16PREOth\"]])\n",
    "    for cand in data_columns:\n",
    "        df_no_avcb_or_stat.loc[df_no_avcb_or_stat[\"VTD2016\"]==df_id,cand]+=int(avcb_not_wayne.loc[avcb_not_wayne[\"VTD2016\"]==i,cand])\n",
    "    print(df_no_avcb_or_stat.loc[df_no_avcb_or_stat[\"VTD2016\"]==df_id][[\"G16PREGSte\",\"G16PREDCli\",\"G16PRERTru\",\"G16PRELJoh\",\"G16PREOth\"]])"
   ]
  },
  {
   "cell_type": "code",
   "execution_count": 67,
   "metadata": {
    "scrolled": true
   },
   "outputs": [
    {
     "name": "stdout",
     "output_type": "stream",
     "text": [
      "G16PREGSte\n",
      "51463\n",
      "51463\n",
      "51463\n",
      "\n",
      "G16PREDCli\n",
      "2268839\n",
      "2268839\n",
      "2268839\n",
      "\n",
      "G16PRERTru\n",
      "2279543\n",
      "2279543\n",
      "2279543\n",
      "\n",
      "G16PRELJoh\n",
      "172136\n",
      "172136\n",
      "172136\n",
      "\n",
      "G16PREOth\n",
      "27303\n",
      "27303\n",
      "27303\n",
      "\n"
     ]
    }
   ],
   "source": [
    "#Check totals to make sure no votes are being added or lsost\n",
    "for race in data_columns:\n",
    "    print(race)\n",
    "    print(sum(gdfv[race]))\n",
    "    print(sum(df_pivot[race]))\n",
    "    print(sum(avcb_wayne[race])+sum(stat[race])+sum(df_no_avcb_or_stat[race]))\n",
    "    print(\"\")"
   ]
  },
  {
   "cell_type": "markdown",
   "metadata": {},
   "source": [
    "## 2. Allocate Wayne AVCB's using csv file from Brian Amos\n",
    "\n",
    "> Detroit allows for absentee votes to be reported by Absentee Voter Counting Boards, which generally contain multiple precincts. These votes are apportioned to precincts by candidate in the same shares that the non-AVCB vote was split among precincts within a county. The linkage between election precinct and AVCB was provided by OpenElections via Derek Willis. Precinct 176 was listed as split between AVCB 37 and AVCB 158, the only precinct in the city that was listed as split. AVCB 158 has no other precinct assigned to it, so all votes went to precinct 176. However, this was a very low number of votes relative to the other AVCBs, so for ease of calculation, 176 was treated as a normal member of AVCB 37 in the disaggregation calculation described above.\n",
    "\n",
    "Note: It seems like there is a bit of a typo / confusion in the documentation, as in \"non-AVCB vote was split among precincts within a county\", \"county\" should be \"AVCB\", otherwise there isn't a point to the AVCBs."
   ]
  },
  {
   "cell_type": "code",
   "execution_count": 68,
   "metadata": {},
   "outputs": [],
   "source": [
    "avcb_csv = pd.read_csv('./raw-from-source/detroit16_readable.csv', names=['prec_num', 'avcb_num'])\n",
    "avcb_csv_dict = dict(zip(avcb_csv['prec_num'], avcb_csv['avcb_num']))"
   ]
  },
  {
   "cell_type": "code",
   "execution_count": 69,
   "metadata": {},
   "outputs": [],
   "source": [
    "precincts_detroit = df_no_avcb_or_stat[df_no_avcb_or_stat[\"city_town_name\"]==\"DETROIT CITY\"]\n",
    "precincts_not_detroit = df_no_avcb_or_stat[df_no_avcb_or_stat[\"city_town_name\"]!=\"DETROIT CITY\"]"
   ]
  },
  {
   "cell_type": "code",
   "execution_count": 70,
   "metadata": {},
   "outputs": [
    {
     "name": "stderr",
     "output_type": "stream",
     "text": [
      "<ipython-input-70-f87a0945e864>:2: SettingWithCopyWarning: \n",
      "A value is trying to be set on a copy of a slice from a DataFrame.\n",
      "Try using .loc[row_indexer,col_indexer] = value instead\n",
      "\n",
      "See the caveats in the documentation: https://pandas.pydata.org/pandas-docs/stable/user_guide/indexing.html#returning-a-view-versus-a-copy\n",
      "  precincts_detroit[\"avcb\"]=0\n",
      "/Users/peterhorton/opt/anaconda3/envs/geo_env/lib/python3.9/site-packages/pandas/core/indexing.py:1676: SettingWithCopyWarning: \n",
      "A value is trying to be set on a copy of a slice from a DataFrame.\n",
      "Try using .loc[row_indexer,col_indexer] = value instead\n",
      "\n",
      "See the caveats in the documentation: https://pandas.pydata.org/pandas-docs/stable/user_guide/indexing.html#returning-a-view-versus-a-copy\n",
      "  self._setitem_single_column(ilocs[0], value, pi)\n"
     ]
    }
   ],
   "source": [
    "#Define a new column called avcb to store what avcb a precinct is covered by, set it to 0 to start\n",
    "precincts_detroit[\"avcb\"]=0\n",
    "\n",
    "#Use the dictionary above, which maps from precinct number to avcb, to find the avcb for each precinct\n",
    "precincts_detroit.loc[:,\"avcb\"] = precincts_detroit[\"precinct_number\"].map(avcb_csv_dict).fillna(precincts_detroit[\"avcb\"])"
   ]
  },
  {
   "cell_type": "code",
   "execution_count": 71,
   "metadata": {},
   "outputs": [
    {
     "name": "stdout",
     "output_type": "stream",
     "text": [
      "# avcbs that have been mapped: 172\n",
      "avcb_wayne shapre:  (172, 18)\n"
     ]
    }
   ],
   "source": [
    "#The number of avcbs that have been mapped to, should equal the number of avcbs (172)\n",
    "print('# avcbs that have been mapped:', len(precincts_detroit[\"avcb\"].unique()))\n",
    "\n",
    "print('avcb_wayne shapre: ', avcb_wayne.shape)"
   ]
  },
  {
   "cell_type": "code",
   "execution_count": 72,
   "metadata": {},
   "outputs": [
    {
     "name": "stdout",
     "output_type": "stream",
     "text": [
      "df_pivot from pre avcb manipulation shape:  (5077, 18)\n",
      "avcb only df shape:  (210, 18)\n",
      "stat only df shape:  (56, 18)\n",
      "not detroit precincts shape:  (4321, 18)\n",
      "detroit precincts shape:  (490, 19)\n",
      "sum of parts:  5077\n"
     ]
    }
   ],
   "source": [
    "#Checked that all rows were accounted in for in splitting the dataframe up\n",
    "\n",
    "#What we started with\n",
    "print('df_pivot from pre avcb manipulation shape: ', df_pivot.shape)\n",
    "\n",
    "#Will be used as part of allocation\n",
    "print('avcb only df shape: ' , avcb.shape)\n",
    "print('stat only df shape: ', stat.shape)\n",
    "\n",
    "#Where the allocated votes will be added to\n",
    "print('not detroit precincts shape: ', precincts_not_detroit.shape)\n",
    "print('detroit precincts shape: ', precincts_detroit.shape)\n",
    "print('sum of parts: ', avcb.shape[0]+ stat.shape[0]+ precincts_not_detroit.shape[0]+ precincts_detroit.shape[0])"
   ]
  },
  {
   "cell_type": "code",
   "execution_count": 73,
   "metadata": {},
   "outputs": [
    {
     "name": "stdout",
     "output_type": "stream",
     "text": [
      "172\n"
     ]
    }
   ],
   "source": [
    "print(len(precincts_detroit[\"avcb\"].unique()))"
   ]
  },
  {
   "cell_type": "code",
   "execution_count": 74,
   "metadata": {},
   "outputs": [
    {
     "name": "stdout",
     "output_type": "stream",
     "text": [
      "[  1   2   3   4   5   6   7   8   9  10  11  12  13  14  15  16  17  18\n",
      "  19  20  21  22  23  24  25  26  27  28  29  30  31  32  33  34  35  36\n",
      "  37  38  39  40  41  42  43  44  45  46  47  48  49  50  51  52  53  54\n",
      "  55  56  57  58  59  60  61  62  63  64  65  66  67  68  69  70  71  72\n",
      "  73  74  75  76  77  78  79  80  81  82  83  84  85  86  87  88  89  90\n",
      "  91  92  93  94  95  96  97  98  99 100 101 102 103 104 105 106 107 108\n",
      " 109 110 111 112 113 114 115 116 117 118 119 120 121 122 123 124 125 126\n",
      " 127 128 129 130 131 132 133 134 135 136 137 138 139 140 141 142 143 144\n",
      " 145 146 147 148 149 150 151 152 153 154 155 156 157 158 159 160 161 162\n",
      " 163 164 165 166 167 168 169 170 171 172]\n"
     ]
    },
    {
     "name": "stderr",
     "output_type": "stream",
     "text": [
      "<ipython-input-74-f6d8aaf9b33a>:3: SettingWithCopyWarning: \n",
      "A value is trying to be set on a copy of a slice from a DataFrame.\n",
      "Try using .loc[row_indexer,col_indexer] = value instead\n",
      "\n",
      "See the caveats in the documentation: https://pandas.pydata.org/pandas-docs/stable/user_guide/indexing.html#returning-a-view-versus-a-copy\n",
      "  avcb_wayne[\"avcb\"] = 0\n"
     ]
    }
   ],
   "source": [
    "precincts_detroit\n",
    "avcb_wayne[\"precinct_number\"].unique()\n",
    "avcb_wayne[\"avcb\"] = 0\n",
    "avcb_wayne.loc[:,\"avcb\"] = avcb_wayne.loc[:,\"precinct_number\"]-900\n",
    "print(avcb_wayne[\"avcb\"].unique())"
   ]
  },
  {
   "cell_type": "markdown",
   "metadata": {},
   "source": [
    "### Addressing documentation note on specific Detroit precincts:\n",
    "\n",
    "> Precinct 176 was listed as split between AVCB 37 and AVCB 158, the only precinct in the city that was listed as split. AVCB 158 has no other precinct assigned to it, so all votes went to precinct 176. However, this was a very low number of votes relative to the other AVCBs, so for ease of calculation, 176 was treated as a normal member of AVCB 37 in the disaggregation calculation described above.\n",
    "\n",
    "Note: We will set up this allocation (adding 27 votes here) but actually add the votes after the other allocation is performed, so the added votes don't affect the allocation of the other AVCB votes."
   ]
  },
  {
   "cell_type": "code",
   "execution_count": 75,
   "metadata": {},
   "outputs": [
    {
     "data": {
      "text/html": [
       "<div>\n",
       "<style scoped>\n",
       "    .dataframe tbody tr th:only-of-type {\n",
       "        vertical-align: middle;\n",
       "    }\n",
       "\n",
       "    .dataframe tbody tr th {\n",
       "        vertical-align: top;\n",
       "    }\n",
       "\n",
       "    .dataframe thead th {\n",
       "        text-align: right;\n",
       "    }\n",
       "</style>\n",
       "<table border=\"1\" class=\"dataframe\">\n",
       "  <thead>\n",
       "    <tr style=\"text-align: right;\">\n",
       "      <th></th>\n",
       "      <th>candidate_id</th>\n",
       "      <th>county_code</th>\n",
       "      <th>city_town_code</th>\n",
       "      <th>ward_number</th>\n",
       "      <th>precinct_number</th>\n",
       "      <th>precinct_label</th>\n",
       "      <th>G16PREGSte</th>\n",
       "      <th>G16PREDCli</th>\n",
       "      <th>G16PRERTru</th>\n",
       "      <th>G16PRELJoh</th>\n",
       "      <th>G16PREOth</th>\n",
       "      <th>county_name</th>\n",
       "      <th>county_fips</th>\n",
       "      <th>city_town_name</th>\n",
       "      <th>county_city_id</th>\n",
       "      <th>jurisd</th>\n",
       "      <th>VTD2016_draft</th>\n",
       "      <th>VTD2016</th>\n",
       "      <th>avcb</th>\n",
       "    </tr>\n",
       "  </thead>\n",
       "  <tbody>\n",
       "    <tr>\n",
       "      <th>4753</th>\n",
       "      <td>4753</td>\n",
       "      <td>82</td>\n",
       "      <td>57</td>\n",
       "      <td>0</td>\n",
       "      <td>1058</td>\n",
       "      <td>AVCB</td>\n",
       "      <td>0</td>\n",
       "      <td>27</td>\n",
       "      <td>0</td>\n",
       "      <td>0</td>\n",
       "      <td>0</td>\n",
       "      <td>WAYNE</td>\n",
       "      <td>163</td>\n",
       "      <td>DETROIT CITY</td>\n",
       "      <td>163DETROIT CITY</td>\n",
       "      <td>22000</td>\n",
       "      <td>16322000001058AVCB</td>\n",
       "      <td>16322000001058AVCB</td>\n",
       "      <td>158</td>\n",
       "    </tr>\n",
       "  </tbody>\n",
       "</table>\n",
       "</div>"
      ],
      "text/plain": [
       "      candidate_id  county_code  city_town_code  ward_number  precinct_number  \\\n",
       "4753          4753           82              57            0             1058   \n",
       "\n",
       "     precinct_label  G16PREGSte  G16PREDCli  G16PRERTru  G16PRELJoh  \\\n",
       "4753           AVCB           0          27           0           0   \n",
       "\n",
       "      G16PREOth county_name county_fips city_town_name   county_city_id  \\\n",
       "4753          0       WAYNE         163   DETROIT CITY  163DETROIT CITY   \n",
       "\n",
       "      jurisd       VTD2016_draft             VTD2016  avcb  \n",
       "4753   22000  16322000001058AVCB  16322000001058AVCB   158  "
      ]
     },
     "execution_count": 75,
     "metadata": {},
     "output_type": "execute_result"
    }
   ],
   "source": [
    "avcb_wayne.loc[avcb_wayne[\"avcb\"]==158]"
   ]
  },
  {
   "cell_type": "code",
   "execution_count": 76,
   "metadata": {},
   "outputs": [
    {
     "data": {
      "text/html": [
       "<div>\n",
       "<style scoped>\n",
       "    .dataframe tbody tr th:only-of-type {\n",
       "        vertical-align: middle;\n",
       "    }\n",
       "\n",
       "    .dataframe tbody tr th {\n",
       "        vertical-align: top;\n",
       "    }\n",
       "\n",
       "    .dataframe thead th {\n",
       "        text-align: right;\n",
       "    }\n",
       "</style>\n",
       "<table border=\"1\" class=\"dataframe\">\n",
       "  <thead>\n",
       "    <tr style=\"text-align: right;\">\n",
       "      <th></th>\n",
       "      <th>candidate_id</th>\n",
       "      <th>county_code</th>\n",
       "      <th>city_town_code</th>\n",
       "      <th>ward_number</th>\n",
       "      <th>precinct_number</th>\n",
       "      <th>precinct_label</th>\n",
       "      <th>G16PREGSte</th>\n",
       "      <th>G16PREDCli</th>\n",
       "      <th>G16PRERTru</th>\n",
       "      <th>G16PRELJoh</th>\n",
       "      <th>G16PREOth</th>\n",
       "      <th>county_name</th>\n",
       "      <th>county_fips</th>\n",
       "      <th>city_town_name</th>\n",
       "      <th>county_city_id</th>\n",
       "      <th>jurisd</th>\n",
       "      <th>VTD2016_draft</th>\n",
       "      <th>VTD2016</th>\n",
       "      <th>avcb</th>\n",
       "    </tr>\n",
       "  </thead>\n",
       "  <tbody>\n",
       "    <tr>\n",
       "      <th>4281</th>\n",
       "      <td>4281</td>\n",
       "      <td>82</td>\n",
       "      <td>57</td>\n",
       "      <td>0</td>\n",
       "      <td>176</td>\n",
       "      <td></td>\n",
       "      <td>2</td>\n",
       "      <td>365</td>\n",
       "      <td>3</td>\n",
       "      <td>2</td>\n",
       "      <td>2</td>\n",
       "      <td>WAYNE</td>\n",
       "      <td>163</td>\n",
       "      <td>DETROIT CITY</td>\n",
       "      <td>163DETROIT CITY</td>\n",
       "      <td>22000</td>\n",
       "      <td>1632200000176</td>\n",
       "      <td>1632200003176</td>\n",
       "      <td>37/158</td>\n",
       "    </tr>\n",
       "  </tbody>\n",
       "</table>\n",
       "</div>"
      ],
      "text/plain": [
       "      candidate_id  county_code  city_town_code  ward_number  precinct_number  \\\n",
       "4281          4281           82              57            0              176   \n",
       "\n",
       "     precinct_label  G16PREGSte  G16PREDCli  G16PRERTru  G16PRELJoh  \\\n",
       "4281                          2         365           3           2   \n",
       "\n",
       "      G16PREOth county_name county_fips city_town_name   county_city_id  \\\n",
       "4281          2       WAYNE         163   DETROIT CITY  163DETROIT CITY   \n",
       "\n",
       "      jurisd  VTD2016_draft        VTD2016    avcb  \n",
       "4281   22000  1632200000176  1632200003176  37/158  "
      ]
     },
     "execution_count": 76,
     "metadata": {},
     "output_type": "execute_result"
    }
   ],
   "source": [
    "precincts_detroit.loc[precincts_detroit[\"avcb\"]=='37/158']"
   ]
  },
  {
   "cell_type": "code",
   "execution_count": 78,
   "metadata": {},
   "outputs": [],
   "source": [
    "avcb_wayne = avcb_wayne[avcb_wayne[\"avcb\"]!=158]"
   ]
  },
  {
   "cell_type": "code",
   "execution_count": 79,
   "metadata": {},
   "outputs": [
    {
     "name": "stderr",
     "output_type": "stream",
     "text": [
      "<ipython-input-79-3d4e94624abf>:2: SettingWithCopyWarning: \n",
      "A value is trying to be set on a copy of a slice from a DataFrame.\n",
      "Try using .loc[row_indexer,col_indexer] = value instead\n",
      "\n",
      "See the caveats in the documentation: https://pandas.pydata.org/pandas-docs/stable/user_guide/indexing.html#returning-a-view-versus-a-copy\n",
      "  precincts_detroit[\"avcb\"]= precincts_detroit[\"avcb\"].map(avcb_adj_dict).fillna(precincts_detroit[\"avcb\"])\n"
     ]
    }
   ],
   "source": [
    "avcb_adj_dict = {'37/158':'37'}\n",
    "precincts_detroit[\"avcb\"]= precincts_detroit[\"avcb\"].map(avcb_adj_dict).fillna(precincts_detroit[\"avcb\"])"
   ]
  },
  {
   "cell_type": "code",
   "execution_count": 80,
   "metadata": {},
   "outputs": [
    {
     "data": {
      "text/html": [
       "<div>\n",
       "<style scoped>\n",
       "    .dataframe tbody tr th:only-of-type {\n",
       "        vertical-align: middle;\n",
       "    }\n",
       "\n",
       "    .dataframe tbody tr th {\n",
       "        vertical-align: top;\n",
       "    }\n",
       "\n",
       "    .dataframe thead th {\n",
       "        text-align: right;\n",
       "    }\n",
       "</style>\n",
       "<table border=\"1\" class=\"dataframe\">\n",
       "  <thead>\n",
       "    <tr style=\"text-align: right;\">\n",
       "      <th></th>\n",
       "      <th>candidate_id</th>\n",
       "      <th>county_code</th>\n",
       "      <th>city_town_code</th>\n",
       "      <th>ward_number</th>\n",
       "      <th>precinct_number</th>\n",
       "      <th>precinct_label</th>\n",
       "      <th>G16PREGSte</th>\n",
       "      <th>G16PREDCli</th>\n",
       "      <th>G16PRERTru</th>\n",
       "      <th>G16PRELJoh</th>\n",
       "      <th>G16PREOth</th>\n",
       "      <th>county_name</th>\n",
       "      <th>county_fips</th>\n",
       "      <th>city_town_name</th>\n",
       "      <th>county_city_id</th>\n",
       "      <th>jurisd</th>\n",
       "      <th>VTD2016_draft</th>\n",
       "      <th>VTD2016</th>\n",
       "      <th>avcb</th>\n",
       "    </tr>\n",
       "  </thead>\n",
       "  <tbody>\n",
       "    <tr>\n",
       "      <th>4281</th>\n",
       "      <td>4281</td>\n",
       "      <td>82</td>\n",
       "      <td>57</td>\n",
       "      <td>0</td>\n",
       "      <td>176</td>\n",
       "      <td></td>\n",
       "      <td>2</td>\n",
       "      <td>365</td>\n",
       "      <td>3</td>\n",
       "      <td>2</td>\n",
       "      <td>2</td>\n",
       "      <td>WAYNE</td>\n",
       "      <td>163</td>\n",
       "      <td>DETROIT CITY</td>\n",
       "      <td>163DETROIT CITY</td>\n",
       "      <td>22000</td>\n",
       "      <td>1632200000176</td>\n",
       "      <td>1632200003176</td>\n",
       "      <td>37</td>\n",
       "    </tr>\n",
       "  </tbody>\n",
       "</table>\n",
       "</div>"
      ],
      "text/plain": [
       "      candidate_id  county_code  city_town_code  ward_number  precinct_number  \\\n",
       "4281          4281           82              57            0              176   \n",
       "\n",
       "     precinct_label  G16PREGSte  G16PREDCli  G16PRERTru  G16PRELJoh  \\\n",
       "4281                          2         365           3           2   \n",
       "\n",
       "      G16PREOth county_name county_fips city_town_name   county_city_id  \\\n",
       "4281          2       WAYNE         163   DETROIT CITY  163DETROIT CITY   \n",
       "\n",
       "      jurisd  VTD2016_draft        VTD2016 avcb  \n",
       "4281   22000  1632200000176  1632200003176   37  "
      ]
     },
     "execution_count": 80,
     "metadata": {},
     "output_type": "execute_result"
    }
   ],
   "source": [
    "precincts_detroit.loc[precincts_detroit[\"VTD2016\"]=='1632200003176']"
   ]
  },
  {
   "cell_type": "code",
   "execution_count": 81,
   "metadata": {},
   "outputs": [],
   "source": [
    "## Reallocate wayne county avcb votes\n",
    "to_dole_out_totals = avcb_wayne.groupby([\"avcb\"]).sum()\n",
    "\n",
    "precinct_specific_totals = precincts_detroit.groupby([\"avcb\"]).sum()\n",
    "precinct_specific_totals.reset_index(inplace=True, drop=False)\n",
    "to_dole_out_totals.reset_index(inplace=True, drop=False)\n",
    "column_list = ['G16PREGSte', 'G16PREDCli', 'G16PRERTru', 'G16PRELJoh', 'G16PREOth']\n",
    "\n",
    "to_dole_out_totals[\"avcb\"] = to_dole_out_totals[\"avcb\"].astype(str)\n",
    "precinct_specific_totals[\"avcb\"] = precinct_specific_totals[\"avcb\"].astype(str)"
   ]
  },
  {
   "cell_type": "code",
   "execution_count": 82,
   "metadata": {},
   "outputs": [
    {
     "name": "stderr",
     "output_type": "stream",
     "text": [
      "/Users/peterhorton/opt/anaconda3/envs/geo_env/lib/python3.9/site-packages/pandas/core/indexing.py:1597: SettingWithCopyWarning: \n",
      "A value is trying to be set on a copy of a slice from a DataFrame.\n",
      "Try using .loc[row_indexer,col_indexer] = value instead\n",
      "\n",
      "See the caveats in the documentation: https://pandas.pydata.org/pandas-docs/stable/user_guide/indexing.html#returning-a-view-versus-a-copy\n",
      "  self.obj[key] = value\n",
      "/Users/peterhorton/opt/anaconda3/envs/geo_env/lib/python3.9/site-packages/pandas/core/indexing.py:1720: SettingWithCopyWarning: \n",
      "A value is trying to be set on a copy of a slice from a DataFrame.\n",
      "Try using .loc[row_indexer,col_indexer] = value instead\n",
      "\n",
      "See the caveats in the documentation: https://pandas.pydata.org/pandas-docs/stable/user_guide/indexing.html#returning-a-view-versus-a-copy\n",
      "  self._setitem_single_column(loc, value, pi)\n"
     ]
    },
    {
     "name": "stdout",
     "output_type": "stream",
     "text": [
      "Need to allocate 2 vote(s) manually in G16PREOth avcb 131\n",
      "Need to allocate 1 vote(s) manually in G16PREOth avcb 142\n",
      "Need to allocate 1 vote(s) manually in G16PREOth avcb 160\n",
      "Need to allocate 2 vote(s) manually in G16PREOth avcb 168\n",
      "Need to allocate 2 vote(s) manually in G16PREOth avcb 20\n",
      "Need to allocate 1 vote(s) manually in G16PREOth avcb 30\n",
      "Need to allocate 3 vote(s) manually in G16PRELJoh avcb 34\n",
      "Need to allocate 1 vote(s) manually in G16PREOth avcb 43\n",
      "Need to allocate 1 vote(s) manually in G16PREOth avcb 46\n",
      "Need to allocate 1 vote(s) manually in G16PREOth avcb 54\n",
      "Need to allocate 1 vote(s) manually in G16PREOth avcb 76\n",
      "Need to allocate 2 vote(s) manually in G16PREOth avcb 78\n",
      "Need to allocate 2 vote(s) manually in G16PREOth avcb 97\n",
      "Need to allocate 1 vote(s) manually in G16PREOth avcb 98\n"
     ]
    },
    {
     "name": "stderr",
     "output_type": "stream",
     "text": [
      "/Users/peterhorton/opt/anaconda3/envs/geo_env/lib/python3.9/site-packages/pandas/core/indexing.py:1676: SettingWithCopyWarning: \n",
      "A value is trying to be set on a copy of a slice from a DataFrame.\n",
      "Try using .loc[row_indexer,col_indexer] = value instead\n",
      "\n",
      "See the caveats in the documentation: https://pandas.pydata.org/pandas-docs/stable/user_guide/indexing.html#returning-a-view-versus-a-copy\n",
      "  self._setitem_single_column(ilocs[0], value, pi)\n"
     ]
    }
   ],
   "source": [
    "#Create some new columns for each of these races to deal with the allocation\n",
    "for race in column_list:\n",
    "    add_var = race+\"_add\"\n",
    "    rem_var = race+\"_rem\"\n",
    "    floor_var = race+\"_floor\"\n",
    "    precincts_detroit.loc[:,add_var]=0.0\n",
    "    precincts_detroit.loc[:,rem_var]=0.0\n",
    "    precincts_detroit.loc[:,floor_var]=0.0\n",
    "    \n",
    "#Iterate over the rows\n",
    "#Note this function iterates over the dataframe two times so the rounded vote totals match the totals to allocate\n",
    "\n",
    "for index, row in precincts_detroit.iterrows():\n",
    "    for race in column_list:\n",
    "        add_var = race+\"_add\"\n",
    "        rem_var = race+\"_rem\"\n",
    "        floor_var = race+\"_floor\"\n",
    "        #Grab the district\n",
    "        county_id = row[\"avcb\"]\n",
    "        #Get the denominator for the allocation (the precinct vote totals)\n",
    "        denom = precinct_specific_totals.loc[precinct_specific_totals[\"avcb\"]==county_id][race]\n",
    "        \n",
    "        if county_id in list(to_dole_out_totals['avcb']):\n",
    "            #Get one of the numerators, how many district-wide votes to allocate\n",
    "            numer = to_dole_out_totals.loc[to_dole_out_totals[\"avcb\"]==county_id][race]\n",
    "            #Get the vote totals for this race in this precinct\n",
    "            val = precincts_detroit.at[index,race]\n",
    "            #Get the vote share, the precincts % of total precinct votes in the district times votes to allocate\n",
    "            if ((float(denom)==0)):\n",
    "                vote_share = 0\n",
    "            else:\n",
    "                vote_share = (float(val)/float(denom))*float(numer)\n",
    "            precincts_detroit.at[index,add_var] = vote_share\n",
    "            #Take the decimal remainder of the allocation\n",
    "            precincts_detroit.at[index,rem_var] = vote_share%1\n",
    "            #Take the floor of the allocation\n",
    "            precincts_detroit.at[index,floor_var] = np.floor(vote_share)\n",
    "            \n",
    "#After the first pass through, get the sums of the races by district to assist in the rounding            \n",
    "first_allocation = pd.DataFrame(precincts_detroit.groupby([\"avcb\"]).sum())\n",
    "first_allocation.reset_index(inplace=True,drop=False)\n",
    "\n",
    "#Now we want to iterate district by district to work on rounding\n",
    "county_list = list(to_dole_out_totals[\"avcb\"].unique()) \n",
    "\n",
    "#Iterate over the district\n",
    "for county in county_list:\n",
    "    for race in column_list:\n",
    "        add_var = race+\"_add\"\n",
    "        rem_var = race+\"_rem\"\n",
    "        floor_var = race+\"_floor\"\n",
    "        #County how many votes still need to be allocated (because we took the floor of all the initial allocations)\n",
    "        to_go = int(np.round((int(to_dole_out_totals.loc[to_dole_out_totals[\"avcb\"]==county][race])-int(first_allocation.loc[first_allocation[\"avcb\"]==county,floor_var]))))\n",
    "        #Grab the n precincts with the highest remainders and round these up, where n is the # of votes that still need to be allocated\n",
    "        for index in precincts_detroit.loc[precincts_detroit[\"avcb\"]==county][rem_var].nlargest(to_go).index:\n",
    "            precincts_detroit.at[index,add_var] = np.ceil(precincts_detroit.at[index,add_var])\n",
    "            \n",
    "#Iterate over every race again\n",
    "for race in column_list:\n",
    "    add_var = race+\"_add\"\n",
    "    #Round every allocation down to not add fractional votes\n",
    "    precincts_detroit.loc[:,add_var]=np.floor(precincts_detroit.loc[:,add_var])\n",
    "    precincts_detroit.loc[:,race]+=precincts_detroit.loc[:,add_var]\n",
    "        \n",
    "#Print out any instances where the allocation, as written, won't work\n",
    "for index, row in precinct_specific_totals.iterrows():\n",
    "    for race in column_list:\n",
    "        if (row[race]==0):\n",
    "            race_district = row[\"avcb\"]\n",
    "            to_allocate = int(to_dole_out_totals.loc[to_dole_out_totals[\"avcb\"]==race_district,race])\n",
    "            if (to_allocate != 0):\n",
    "                print(\"Need to allocate \"+str(to_allocate)+\" vote(s) manually in \" +str(race)+\" avcb \"+str(race_district))"
   ]
  },
  {
   "cell_type": "markdown",
   "metadata": {},
   "source": [
    "#### Add in the votes for the precinct assigned to two AVCB (mentioned above, but not added til now to not affect the allocation)"
   ]
  },
  {
   "cell_type": "code",
   "execution_count": 83,
   "metadata": {},
   "outputs": [],
   "source": [
    "precincts_detroit.loc[precincts_detroit[\"VTD2016\"]=='1632200003176',\"G16PREDCli\"]+=27"
   ]
  },
  {
   "cell_type": "markdown",
   "metadata": {},
   "source": [
    "### Manually allocate remaining votes, using total votes as a proxy\n",
    "\n",
    "Note: This occurs when there are votes to be allocated, but the some of votes for that candidate within an AVCB is 0."
   ]
  },
  {
   "cell_type": "code",
   "execution_count": 84,
   "metadata": {},
   "outputs": [],
   "source": [
    "precincts_detroit = precincts_detroit[['candidate_id', 'county_code', 'city_town_code', 'ward_number',\n",
    "       'precinct_number', 'precinct_label', 'G16PREGSte', 'G16PREDCli',\n",
    "       'G16PRERTru', 'G16PRELJoh', 'G16PREOth', 'county_name', 'county_fips',\n",
    "       'city_town_name', 'county_city_id', 'jurisd', 'VTD2016_draft',\n",
    "       'VTD2016',\"avcb\"]]"
   ]
  },
  {
   "cell_type": "code",
   "execution_count": 85,
   "metadata": {},
   "outputs": [],
   "source": [
    "precincts_detroit[\"Total_Votes\"] = 0\n",
    "for i in data_columns:\n",
    "    precincts_detroit[\"Total_Votes\"] += precincts_detroit[i]"
   ]
  },
  {
   "cell_type": "code",
   "execution_count": null,
   "metadata": {},
   "outputs": [],
   "source": []
  },
  {
   "cell_type": "markdown",
   "metadata": {},
   "source": [
    "- Need to allocate 1 votes manually in G16PREOth avcb 142\n",
    "- Need to allocate 1 votes manually in G16PREOth avcb 160\n",
    "- Need to allocate 1 votes manually in G16PREOth avcb 30\n",
    "- Need to allocate 1 votes manually in G16PREOth avcb 43\n",
    "- Need to allocate 1 votes manually in G16PREOth avcb 46\n",
    "- Need to allocate 1 votes manually in G16PREOth avcb 54\n",
    "- Need to allocate 1 votes manually in G16PREOth avcb 76\n",
    "- Need to allocate 1 votes manually in G16PREOth avcb 98"
   ]
  },
  {
   "cell_type": "code",
   "execution_count": 86,
   "metadata": {},
   "outputs": [
    {
     "name": "stdout",
     "output_type": "stream",
     "text": [
      "            VTD2016  Total_Votes\n",
      "4515  1632200007410        861.0\n",
      "4517  1632200007412        303.0\n",
      "            VTD2016  Total_Votes\n",
      "4202  1632200003097        266.0\n",
      "4203  1632200005098        427.0\n",
      "4204  1632200005099        133.0\n",
      "            VTD2016  Total_Votes\n",
      "4211  1632200004106       1286.0\n",
      "            VTD2016  Total_Votes\n",
      "4310  1632200002205        338.0\n",
      "4313  1632200002208        954.0\n",
      "            VTD2016  Total_Votes\n",
      "4243  1632200005138        326.0\n",
      "4245  1632200005140        241.0\n",
      "4246  1632200005141        743.0\n",
      "            VTD2016  Total_Votes\n",
      "4543  1632200005438        374.0\n",
      "4547  1632200005442        241.0\n",
      "4549  1632200005444        421.0\n",
      "4550  1632200005445        370.0\n",
      "            VTD2016  Total_Votes\n",
      "4228  1632200005123        919.0\n",
      "            VTD2016  Total_Votes\n",
      "4337  1632200002232        843.0\n",
      "4353  1632200002248        400.0\n"
     ]
    }
   ],
   "source": [
    "print(precincts_detroit[precincts_detroit[\"avcb\"]==\"142\"][['VTD2016',\"Total_Votes\"]])\n",
    "precincts_detroit.loc[precincts_detroit[\"VTD2016\"]==\"1632200007410\",\"G16PREOth\"]+=1\n",
    "\n",
    "print(precincts_detroit[precincts_detroit[\"avcb\"]==\"160\"][['VTD2016',\"Total_Votes\"]])\n",
    "precincts_detroit.loc[precincts_detroit[\"VTD2016\"]==\"1632200005098\",\"G16PREOth\"]+=1\n",
    "\n",
    "print(precincts_detroit[precincts_detroit[\"avcb\"]==\"30\"][['VTD2016',\"Total_Votes\"]])\n",
    "precincts_detroit.loc[precincts_detroit[\"VTD2016\"]==\"1632200004106\",\"G16PREOth\"]+=1\n",
    "\n",
    "print(precincts_detroit[precincts_detroit[\"avcb\"]==\"43\"][['VTD2016',\"Total_Votes\"]])\n",
    "precincts_detroit.loc[precincts_detroit[\"VTD2016\"]==\"1632200002208\",\"G16PREOth\"]+=1\n",
    "\n",
    "print(precincts_detroit[precincts_detroit[\"avcb\"]==\"46\"][['VTD2016',\"Total_Votes\"]])\n",
    "precincts_detroit.loc[precincts_detroit[\"VTD2016\"]==\"1632200005141\",\"G16PREOth\"]+=1\n",
    "\n",
    "print(precincts_detroit[precincts_detroit[\"avcb\"]==\"54\"][['VTD2016',\"Total_Votes\"]])\n",
    "precincts_detroit.loc[precincts_detroit[\"VTD2016\"]==\"1632200005444\",\"G16PREOth\"]+=1\n",
    "\n",
    "print(precincts_detroit[precincts_detroit[\"avcb\"]==\"76\"][['VTD2016',\"Total_Votes\"]])\n",
    "precincts_detroit.loc[precincts_detroit[\"VTD2016\"]==\"1632200005123\",\"G16PREOth\"]+=1\n",
    "\n",
    "print(precincts_detroit[precincts_detroit[\"avcb\"]==\"98\"][['VTD2016',\"Total_Votes\"]])\n",
    "precincts_detroit.loc[precincts_detroit[\"VTD2016\"]==\"1632200002232\",\"G16PREOth\"]+=1"
   ]
  },
  {
   "cell_type": "markdown",
   "metadata": {},
   "source": [
    "- Need to allocate 2 votes manually in G16PREOth avcb 131\n",
    "- Need to allocate 2 votes manually in G16PREOth avcb 168\n",
    "- Need to allocate 2 votes manually in G16PREOth avcb 20\n",
    "- Need to allocate 2 votes manually in G16PREOth avcb 78\n",
    "- Need to allocate 2 votes manually in G16PREOth avcb 97"
   ]
  },
  {
   "cell_type": "code",
   "execution_count": 87,
   "metadata": {},
   "outputs": [
    {
     "name": "stdout",
     "output_type": "stream",
     "text": [
      "            VTD2016  Total_Votes\n",
      "4427  1632200001322        301.0\n",
      "4485  1632200002380        523.0\n",
      "4486  1632200002381        515.0\n",
      "4497  1632200002392        550.0\n",
      "            VTD2016  Total_Votes\n",
      "4507  1632200007402        446.0\n",
      "            VTD2016  Total_Votes\n",
      "4139  1632200004034       1001.0\n",
      "            VTD2016  Total_Votes\n",
      "4230  1632200005125       1348.0\n",
      "            VTD2016  Total_Votes\n",
      "4336  1632200002231        722.0\n",
      "4339  1632200002234        627.0\n"
     ]
    }
   ],
   "source": [
    "print(precincts_detroit[precincts_detroit[\"avcb\"]==\"131\"][['VTD2016',\"Total_Votes\"]])\n",
    "precincts_detroit.loc[precincts_detroit[\"VTD2016\"]==\"1632200002380\",\"G16PREOth\"]+=1\n",
    "precincts_detroit.loc[precincts_detroit[\"VTD2016\"]==\"1632200002392\",\"G16PREOth\"]+=1\n",
    "\n",
    "print(precincts_detroit[precincts_detroit[\"avcb\"]==\"168\"][['VTD2016',\"Total_Votes\"]])\n",
    "precincts_detroit.loc[precincts_detroit[\"VTD2016\"]==\"1632200007402\",\"G16PREOth\"]+=2\n",
    "\n",
    "print(precincts_detroit[precincts_detroit[\"avcb\"]==\"20\"][['VTD2016',\"Total_Votes\"]])\n",
    "precincts_detroit.loc[precincts_detroit[\"VTD2016\"]==\"1632200004034\",\"G16PREOth\"]+=2\n",
    "\n",
    "print(precincts_detroit[precincts_detroit[\"avcb\"]==\"78\"][['VTD2016',\"Total_Votes\"]])\n",
    "precincts_detroit.loc[precincts_detroit[\"VTD2016\"]==\"1632200005125\",\"G16PREOth\"]+=2\n",
    "\n",
    "print(precincts_detroit[precincts_detroit[\"avcb\"]==\"97\"][['VTD2016',\"Total_Votes\"]])\n",
    "precincts_detroit.loc[precincts_detroit[\"VTD2016\"]==\"1632200002231\",\"G16PREOth\"]+=1\n",
    "precincts_detroit.loc[precincts_detroit[\"VTD2016\"]==\"1632200002234\",\"G16PREOth\"]+=1\n"
   ]
  },
  {
   "cell_type": "markdown",
   "metadata": {},
   "source": [
    "- Need to allocate 3 votes manually in G16PRELJoh avcb 34"
   ]
  },
  {
   "cell_type": "code",
   "execution_count": 88,
   "metadata": {},
   "outputs": [
    {
     "name": "stdout",
     "output_type": "stream",
     "text": [
      "            VTD2016  Total_Votes\n",
      "4166  1632200003061        475.0\n",
      "4287  1632200003182        796.0\n"
     ]
    }
   ],
   "source": [
    "print(precincts_detroit[precincts_detroit[\"avcb\"]==\"34\"][['VTD2016',\"Total_Votes\"]])\n",
    "precincts_detroit.loc[precincts_detroit[\"VTD2016\"]==\"1632200003061\",\"G16PRELJoh\"]+=1\n",
    "precincts_detroit.loc[precincts_detroit[\"VTD2016\"]==\"1632200003182\",\"G16PRELJoh\"]+=2"
   ]
  },
  {
   "cell_type": "code",
   "execution_count": 89,
   "metadata": {},
   "outputs": [],
   "source": [
    "precincts_detroit = precincts_detroit[['candidate_id', 'county_code', 'city_town_code', 'ward_number',\n",
    "       'precinct_number', 'precinct_label', 'G16PREGSte', 'G16PREDCli',\n",
    "       'G16PRERTru', 'G16PRELJoh', 'G16PREOth', 'county_name', 'county_fips',\n",
    "       'city_town_name', 'county_city_id', 'jurisd', 'VTD2016_draft',\n",
    "       'VTD2016']]"
   ]
  },
  {
   "cell_type": "code",
   "execution_count": 90,
   "metadata": {},
   "outputs": [],
   "source": [
    "df_with_avcb_reallocated_need_stat_adjust = pd.concat([precincts_not_detroit,precincts_detroit])"
   ]
  },
  {
   "cell_type": "code",
   "execution_count": 91,
   "metadata": {},
   "outputs": [
    {
     "name": "stdout",
     "output_type": "stream",
     "text": [
      "G16PREGSte\n",
      "51463\n",
      "51463.0\n",
      "\n",
      "G16PREDCli\n",
      "2268839\n",
      "2268839.0\n",
      "\n",
      "G16PRERTru\n",
      "2279543\n",
      "2279543.0\n",
      "\n",
      "G16PRELJoh\n",
      "172136\n",
      "172136.0\n",
      "\n",
      "G16PREOth\n",
      "27303\n",
      "27303.0\n",
      "\n"
     ]
    }
   ],
   "source": [
    "for race in data_columns:\n",
    "    print(race)\n",
    "    print(sum(gdfv[race]))\n",
    "    print(sum(stat[race])+sum(df_with_avcb_reallocated_need_stat_adjust[race]))\n",
    "    print(\"\")"
   ]
  },
  {
   "cell_type": "markdown",
   "metadata": {},
   "source": [
    "## 3. Statistical adjustments"
   ]
  },
  {
   "cell_type": "markdown",
   "metadata": {},
   "source": [
    "### Documentation\n",
    "\n",
    "> Most counties had \"statistical adjustments\" that were at the county level, rather than the precinct level. Only two were for party candidates (Huron and Kalkaka), and in those cases, two or fewer votes. The remaining cases were related to \"other\" votes. Due to the scattered nature of \"other\" votes, these votes are apportioned to precincts by the split of total votes of precincts within the county."
   ]
  },
  {
   "cell_type": "code",
   "execution_count": 92,
   "metadata": {},
   "outputs": [],
   "source": [
    "#Create a total votes columns\n",
    "df_with_avcb_reallocated_need_stat_adjust[\"Total_Votes\"] = 0\n",
    "for i in data_columns:\n",
    "    df_with_avcb_reallocated_need_stat_adjust[\"Total_Votes\"] += df_with_avcb_reallocated_need_stat_adjust[i]"
   ]
  },
  {
   "cell_type": "markdown",
   "metadata": {},
   "source": [
    "### Manually deal with the allocation for non-other votes"
   ]
  },
  {
   "cell_type": "code",
   "execution_count": 93,
   "metadata": {},
   "outputs": [
    {
     "data": {
      "text/html": [
       "<div>\n",
       "<style scoped>\n",
       "    .dataframe tbody tr th:only-of-type {\n",
       "        vertical-align: middle;\n",
       "    }\n",
       "\n",
       "    .dataframe tbody tr th {\n",
       "        vertical-align: top;\n",
       "    }\n",
       "\n",
       "    .dataframe thead th {\n",
       "        text-align: right;\n",
       "    }\n",
       "</style>\n",
       "<table border=\"1\" class=\"dataframe\">\n",
       "  <thead>\n",
       "    <tr style=\"text-align: right;\">\n",
       "      <th></th>\n",
       "      <th>county_fips</th>\n",
       "      <th>G16PREGSte</th>\n",
       "      <th>G16PREDCli</th>\n",
       "      <th>G16PRERTru</th>\n",
       "      <th>G16PRELJoh</th>\n",
       "    </tr>\n",
       "  </thead>\n",
       "  <tbody>\n",
       "    <tr>\n",
       "      <th>1038</th>\n",
       "      <td>063</td>\n",
       "      <td>0</td>\n",
       "      <td>-2</td>\n",
       "      <td>-1</td>\n",
       "      <td>0</td>\n",
       "    </tr>\n",
       "    <tr>\n",
       "      <th>1439</th>\n",
       "      <td>079</td>\n",
       "      <td>0</td>\n",
       "      <td>1</td>\n",
       "      <td>2</td>\n",
       "      <td>0</td>\n",
       "    </tr>\n",
       "  </tbody>\n",
       "</table>\n",
       "</div>"
      ],
      "text/plain": [
       "     county_fips  G16PREGSte  G16PREDCli  G16PRERTru  G16PRELJoh\n",
       "1038         063           0          -2          -1           0\n",
       "1439         079           0           1           2           0"
      ]
     },
     "execution_count": 93,
     "metadata": {},
     "output_type": "execute_result"
    }
   ],
   "source": [
    "holder = stat[['county_fips','G16PREGSte', 'G16PREDCli','G16PRERTru', 'G16PRELJoh']]\n",
    "holder[holder[\"county_fips\"].isin([\"063\",\"079\"])]"
   ]
  },
  {
   "cell_type": "code",
   "execution_count": 94,
   "metadata": {},
   "outputs": [
    {
     "name": "stdout",
     "output_type": "stream",
     "text": [
      "            VTD2016  G16PREDCli  G16PRERTru\n",
      "1035  0630474000001       466.0       723.0\n",
      "1010  0631378000001       382.0       697.0\n",
      "1029  0637220000001       324.0       944.0\n",
      "1026  0636570000001       295.0       492.0\n",
      "1037  0633646000001       260.0       419.0\n",
      "1034  0638796000001       247.0       629.0\n",
      "1007  0630842000001       244.0       542.0\n",
      "1012  0631714000001       206.0       559.0\n",
      "1019  0634430000001       177.0       300.0\n",
      "1033  0638214000001       175.0       440.0\n",
      "1023  0636052000001       165.0       416.0\n",
      "1036  0631376000001       144.0       254.0\n",
      "1028  0637126000001       143.0       513.0\n",
      "1014  0632712000001       135.0       332.0\n",
      "1017  0633996000001       133.0       273.0\n",
      "1031  0637316000001       132.0       411.0\n",
      "1022  0635260000001       117.0       220.0\n",
      "1016  0633426000001        95.0       258.0\n",
      "1027  0637014000001        94.0       264.0\n",
      "1020  0634764000001        91.0       234.0\n",
      "1013  0632354000001        89.0       224.0\n",
      "1030  0637304000001        83.0       216.0\n",
      "1009  0631094000001        71.0       230.0\n",
      "1021  0635036000001        53.0       163.0\n",
      "1024  0636236000001        51.0       164.0\n",
      "1032  0637388000001        51.0       193.0\n",
      "1008  0630906000001        47.0       154.0\n",
      "1018  0634002000001        47.0       160.0\n",
      "1011  0631460000001        38.0       188.0\n",
      "1015  0633308000001        21.0        67.0\n",
      "1025  0636518000001         5.0        14.0\n",
      "            VTD2016  G16PREDCli  G16PRERTru\n",
      "1429  0791634000001       432.0       903.0\n",
      "1434  0794228000002       281.0       740.0\n",
      "1433  0794228000001       261.0       878.0\n",
      "1430  0791700000001       213.0       536.0\n",
      "1438  0797572000001       166.0       441.0\n",
      "1428  0790944000001       156.0       528.0\n",
      "1426  0790644000001       142.0       269.0\n",
      "1437  0796718000001       128.0       407.0\n",
      "1432  0793160000001       118.0       342.0\n",
      "1431  0792686000001       116.0       338.0\n",
      "1427  0790932000001       114.0       153.0\n",
      "1436  0796094000001       113.0       470.0\n",
      "1435  0796054000001        39.0       109.0\n"
     ]
    }
   ],
   "source": [
    "print(df_with_avcb_reallocated_need_stat_adjust[df_with_avcb_reallocated_need_stat_adjust['county_fips']==\"063\"][['VTD2016','G16PREDCli','G16PRERTru']].sort_values(['G16PREDCli'],ascending=False))\n",
    "df_with_avcb_reallocated_need_stat_adjust.loc[df_with_avcb_reallocated_need_stat_adjust[\"VTD2016\"]==\"0630474000001\",\"G16PREDCli\"]-=1\n",
    "df_with_avcb_reallocated_need_stat_adjust.loc[df_with_avcb_reallocated_need_stat_adjust[\"VTD2016\"]==\"0631378000001\",\"G16PREDCli\"]-=1\n",
    "df_with_avcb_reallocated_need_stat_adjust.loc[df_with_avcb_reallocated_need_stat_adjust[\"VTD2016\"]==\"0637220000001\",\"G16PRERTru\"]-=1\n",
    "\n",
    "print(df_with_avcb_reallocated_need_stat_adjust[df_with_avcb_reallocated_need_stat_adjust['county_fips']==\"079\"][['VTD2016','G16PREDCli','G16PRERTru']].sort_values(['G16PREDCli'],ascending=False))\n",
    "df_with_avcb_reallocated_need_stat_adjust.loc[df_with_avcb_reallocated_need_stat_adjust[\"VTD2016\"]==\"0791634000001\",\"G16PREDCli\"]+=1\n",
    "df_with_avcb_reallocated_need_stat_adjust.loc[df_with_avcb_reallocated_need_stat_adjust[\"VTD2016\"]==\"0791634000001\",\"G16PRERTru\"]+=1\n",
    "df_with_avcb_reallocated_need_stat_adjust.loc[df_with_avcb_reallocated_need_stat_adjust[\"VTD2016\"]==\"0794228000001\",\"G16PRERTru\"]+=1"
   ]
  },
  {
   "cell_type": "markdown",
   "metadata": {},
   "source": [
    "### Deal with 'other' vote allocation\n",
    "\n",
    "> Most counties had \"statistical adjustments\" that were at the county level, rather than the precinct level. Only two were for party candidates (Huron and Kalkaka), and in those cases, two or fewer votes. The remaining cases were related to \"other\" votes. Due to the scattered nature of \"other\" votes, these votes are apportioned to precincts by the split of total votes of precincts within the county."
   ]
  },
  {
   "cell_type": "code",
   "execution_count": 95,
   "metadata": {},
   "outputs": [],
   "source": [
    "stat = stat[[\"G16PREOth\",\"county_fips\"]]"
   ]
  },
  {
   "cell_type": "code",
   "execution_count": 96,
   "metadata": {},
   "outputs": [
    {
     "name": "stdout",
     "output_type": "stream",
     "text": [
      "      candidate_id  county_code  city_town_code  ward_number  precinct_number  \\\n",
      "0                0            1               2            0                1   \n",
      "1                1            1               4            0                1   \n",
      "2                2            1               6            0                1   \n",
      "3                3            1               8            0                1   \n",
      "4                4            1              10            0                1   \n",
      "...            ...          ...             ...          ...              ...   \n",
      "4591          4591           82              57            0              486   \n",
      "4592          4592           82              57            0              487   \n",
      "4593          4593           82              57            0              488   \n",
      "4594          4594           82              57            0              489   \n",
      "4595          4595           82              57            0              490   \n",
      "\n",
      "     precinct_label  G16PREGSte  G16PREDCli  G16PRERTru  G16PRELJoh  \\\n",
      "0                           2.0       199.0       500.0        13.0   \n",
      "1                           4.0       178.0       441.0        14.0   \n",
      "2                          13.0       214.0       401.0         8.0   \n",
      "3                           4.0       256.0       501.0        22.0   \n",
      "4                           6.0        80.0       249.0        16.0   \n",
      "...             ...         ...         ...         ...         ...   \n",
      "4591                        1.0       146.0         8.0         0.0   \n",
      "4592                        1.0       106.0        16.0         1.0   \n",
      "4593                        4.0       353.0        83.0         5.0   \n",
      "4594                        3.0       140.0        33.0         6.0   \n",
      "4595                        1.0        25.0         0.0         0.0   \n",
      "\n",
      "      G16PREOth county_name county_fips      city_town_name  \\\n",
      "0           4.0      ALCONA         001     ALCONA TOWNSHIP   \n",
      "1           5.0      ALCONA         001  CALEDONIA TOWNSHIP   \n",
      "2           3.0      ALCONA         001     CURTIS TOWNSHIP   \n",
      "3           2.0      ALCONA         001  GREENBUSH TOWNSHIP   \n",
      "4           1.0      ALCONA         001     GUSTIN TOWNSHIP   \n",
      "...         ...         ...         ...                 ...   \n",
      "4591        0.0       WAYNE         163        DETROIT CITY   \n",
      "4592        0.0       WAYNE         163        DETROIT CITY   \n",
      "4593        0.0       WAYNE         163        DETROIT CITY   \n",
      "4594        0.0       WAYNE         163        DETROIT CITY   \n",
      "4595        1.0       WAYNE         163        DETROIT CITY   \n",
      "\n",
      "             county_city_id  jurisd  VTD2016_draft        VTD2016  Total_Votes  \n",
      "0        001ALCONA TOWNSHIP    1040  0010104000001  0010104000001        718.0  \n",
      "1     001CALEDONIA TOWNSHIP   12460  0011246000001  0011246000001        642.0  \n",
      "2        001CURTIS TOWNSHIP   19320  0011932000001  0011932000001        639.0  \n",
      "3     001GREENBUSH TOWNSHIP   34820  0013482000001  0013482000001        785.0  \n",
      "4        001GUSTIN TOWNSHIP   35740  0013574000001  0013574000001        352.0  \n",
      "...                     ...     ...            ...            ...          ...  \n",
      "4591        163DETROIT CITY   22000  1632200000486  1632200006486        155.0  \n",
      "4592        163DETROIT CITY   22000  1632200000487  1632200006487        124.0  \n",
      "4593        163DETROIT CITY   22000  1632200000488  1632200006488        445.0  \n",
      "4594        163DETROIT CITY   22000  1632200000489  1632200006489        182.0  \n",
      "4595        163DETROIT CITY   22000  1632200000490  1632200001490         27.0  \n",
      "\n",
      "[4811 rows x 19 columns]\n"
     ]
    }
   ],
   "source": [
    "print(df_with_avcb_reallocated_need_stat_adjust)"
   ]
  },
  {
   "cell_type": "code",
   "execution_count": 97,
   "metadata": {},
   "outputs": [],
   "source": [
    "## Reallocate \"other\" votes\n",
    "to_dole_out_totals = stat.groupby([\"county_fips\"]).sum()\n",
    "precinct_specific_totals = df_with_avcb_reallocated_need_stat_adjust.groupby([\"county_fips\"]).sum()\n",
    "precinct_specific_totals.reset_index(inplace=True, drop=False)\n",
    "to_dole_out_totals.reset_index(inplace=True, drop=False)\n",
    "column_list = ['G16PREOth']"
   ]
  },
  {
   "cell_type": "code",
   "execution_count": 100,
   "metadata": {},
   "outputs": [],
   "source": [
    "#Copy dfs to set up for reallocation to create new df\n",
    "df_with_avcb_reallocated_need_stat_adjust\n",
    "\n",
    "\n",
    "column_list = ['G16PREOth']\n",
    "\n",
    "#Create some new columns for each of these races to deal with the allocation\n",
    "for race in column_list:\n",
    "    add_var = race+\"_add\"\n",
    "    rem_var = race+\"_rem\"\n",
    "    floor_var = race+\"_floor\"\n",
    "    df_with_avcb_reallocated_need_stat_adjust.loc[:,add_var]=0.0\n",
    "    df_with_avcb_reallocated_need_stat_adjust.loc[:,rem_var]=0.0\n",
    "    df_with_avcb_reallocated_need_stat_adjust.loc[:,floor_var]=0.0\n",
    "    \n",
    "#Iterate over the rows\n",
    "#Note this function iterates over the dataframe two times so the rounded vote totals match the totals to allocate\n",
    "\n",
    "for index, row in df_with_avcb_reallocated_need_stat_adjust.iterrows():\n",
    "    for race in column_list:\n",
    "        add_var = race+\"_add\"\n",
    "        rem_var = race+\"_rem\"\n",
    "        floor_var = race+\"_floor\"\n",
    "        #Grab the district\n",
    "        county_id = row[\"county_fips\"]\n",
    "        #Get the denominator for the allocation (the precinct vote totals)\n",
    "        denom = precinct_specific_totals.loc[precinct_specific_totals[\"county_fips\"]==county_id][\"Total_Votes\"]\n",
    "        \n",
    "        if county_id in list(to_dole_out_totals['county_fips']):\n",
    "            #Get one of the numerators, how many district-wide votes to allocate\n",
    "            numer = to_dole_out_totals.loc[to_dole_out_totals[\"county_fips\"]==county_id][race]\n",
    "            #Get the vote totals for this race in this precinct\n",
    "            val = df_with_avcb_reallocated_need_stat_adjust.at[index,\"Total_Votes\"]\n",
    "            #Get the vote share, the precincts % of total precinct votes in the district times votes to allocate\n",
    "            if ((float(denom)==0)):\n",
    "                vote_share = 0\n",
    "            else:\n",
    "                vote_share = (float(val)/float(denom))*float(numer)\n",
    "            df_with_avcb_reallocated_need_stat_adjust.at[index,add_var] = vote_share\n",
    "            #Take the decimal remainder of the allocation\n",
    "            df_with_avcb_reallocated_need_stat_adjust.at[index,rem_var] = vote_share%1\n",
    "            #Take the floor of the allocation\n",
    "            df_with_avcb_reallocated_need_stat_adjust.at[index,floor_var] = np.floor(vote_share)\n",
    "            \n",
    "#After the first pass through, get the sums of the races by district to assist in the rounding            \n",
    "first_allocation = pd.DataFrame(df_with_avcb_reallocated_need_stat_adjust.groupby([\"county_fips\"]).sum())\n",
    "\n",
    "#Now we want to iterate district by district to work on rounding\n",
    "county_list = list(to_dole_out_totals[\"county_fips\"].unique()) \n",
    "\n",
    "#Iterate over the district\n",
    "for county in county_list:\n",
    "    for race in column_list:\n",
    "        add_var = race+\"_add\"\n",
    "        rem_var = race+\"_rem\"\n",
    "        floor_var = race+\"_floor\"\n",
    "        #County how many votes still need to be allocated (because we took the floor of all the initial allocations)\n",
    "        to_go = int(np.round((int(to_dole_out_totals.loc[to_dole_out_totals[\"county_fips\"]==county][race])-first_allocation.loc[first_allocation.index==county,floor_var])))\n",
    "        #Grab the n precincts with the highest remainders and round these up, where n is the # of votes that still need to be allocated\n",
    "        for index in df_with_avcb_reallocated_need_stat_adjust.loc[df_with_avcb_reallocated_need_stat_adjust[\"county_fips\"]==county][rem_var].nlargest(to_go).index:\n",
    "            df_with_avcb_reallocated_need_stat_adjust.at[index,add_var] = np.ceil(df_with_avcb_reallocated_need_stat_adjust.at[index,add_var])\n",
    "            \n",
    "#Iterate over every race again\n",
    "for race in column_list:\n",
    "    add_var = race+\"_add\"\n",
    "    #Round every allocation down to not add fractional votes\n",
    "    df_with_avcb_reallocated_need_stat_adjust.loc[:,add_var]=np.floor(df_with_avcb_reallocated_need_stat_adjust.loc[:,add_var])\n",
    "    df_with_avcb_reallocated_need_stat_adjust.loc[:,race]+=df_with_avcb_reallocated_need_stat_adjust.loc[:,add_var]"
   ]
  },
  {
   "cell_type": "code",
   "execution_count": 101,
   "metadata": {},
   "outputs": [],
   "source": [
    "final_election = df_with_avcb_reallocated_need_stat_adjust[['candidate_id', 'county_code', 'city_town_code', 'ward_number',\n",
    "       'precinct_number', 'precinct_label', 'G16PREGSte', 'G16PREDCli',\n",
    "       'G16PRERTru', 'G16PRELJoh', 'G16PREOth', 'county_name', 'county_fips',\n",
    "       'city_town_name', 'county_city_id', 'jurisd', 'VTD2016_draft',\n",
    "       'VTD2016']]"
   ]
  },
  {
   "cell_type": "markdown",
   "metadata": {},
   "source": [
    "# Merge Fenton and Richmond, as per documentation\n",
    "\"Michigan has cities split across counties. Two are relevant to their reported election results versus the precinct map (which did not make the split), Fenton and Richmond. Those precincts were merged to reflect the precinct map.\""
   ]
  },
  {
   "cell_type": "markdown",
   "metadata": {},
   "source": [
    "#### For both of these we are going to assign the votes to the precinct with the same trailing number\n",
    "\n",
    "In this case, it will be precinct \"0492776000002\""
   ]
  },
  {
   "cell_type": "code",
   "execution_count": 102,
   "metadata": {
    "scrolled": true
   },
   "outputs": [
    {
     "name": "stdout",
     "output_type": "stream",
     "text": [
      "774     0492776000001\n",
      "775     0492776000002\n",
      "776     0492776000003\n",
      "777     0492776000004\n",
      "778     0492776000005\n",
      "2928    1252776000002\n",
      "Name: VTD2016, dtype: object\n",
      "      candidate_id  county_code  city_town_code  ward_number  precinct_number  \\\n",
      "2928          2928           63              61            0                2   \n",
      "\n",
      "     precinct_label  G16PREGSte  G16PREDCli  G16PRERTru  G16PRELJoh  \\\n",
      "2928                        0.0         3.0         9.0         0.0   \n",
      "\n",
      "      G16PREOth county_name county_fips city_town_name  county_city_id  \\\n",
      "2928        0.0     OAKLAND         125    FENTON CITY  125FENTON CITY   \n",
      "\n",
      "      jurisd  VTD2016_draft        VTD2016  \n",
      "2928   27760  1252776000002  1252776000002  \n"
     ]
    }
   ],
   "source": [
    "print(final_election.loc[final_election[\"city_town_name\"]==\"FENTON CITY\"][\"VTD2016\"])\n",
    "print(final_election.loc[final_election[\"VTD2016\"]==\"1252776000002\"])"
   ]
  },
  {
   "cell_type": "code",
   "execution_count": 103,
   "metadata": {},
   "outputs": [
    {
     "name": "stderr",
     "output_type": "stream",
     "text": [
      "/Users/peterhorton/opt/anaconda3/envs/geo_env/lib/python3.9/site-packages/pandas/core/indexing.py:1676: SettingWithCopyWarning: \n",
      "A value is trying to be set on a copy of a slice from a DataFrame.\n",
      "Try using .loc[row_indexer,col_indexer] = value instead\n",
      "\n",
      "See the caveats in the documentation: https://pandas.pydata.org/pandas-docs/stable/user_guide/indexing.html#returning-a-view-versus-a-copy\n",
      "  self._setitem_single_column(ilocs[0], value, pi)\n"
     ]
    }
   ],
   "source": [
    "final_election.loc[final_election[\"VTD2016\"]==\"0492776000002\",\"G16PREDCli\"]+=3\n",
    "final_election.loc[final_election[\"VTD2016\"]==\"0492776000002\",\"G16PRERTru\"]+=9"
   ]
  },
  {
   "cell_type": "markdown",
   "metadata": {},
   "source": [
    "#### For both of these we are going to assign the votes to the precinct with the same trailing number\n",
    "\n",
    "In this case, it will be precinct \"0996838000001\""
   ]
  },
  {
   "cell_type": "code",
   "execution_count": 104,
   "metadata": {},
   "outputs": [
    {
     "name": "stdout",
     "output_type": "stream",
     "text": [
      "2101    0996838000001\n",
      "2102    0996838000002\n",
      "3566    1476838000001\n",
      "Name: VTD2016, dtype: object\n",
      "      candidate_id  county_code  city_town_code  ward_number  precinct_number  \\\n",
      "3566          3566           74              63            0                1   \n",
      "\n",
      "     precinct_label  G16PREGSte  G16PREDCli  G16PRERTru  G16PRELJoh  \\\n",
      "3566                        0.0         0.0         3.0         0.0   \n",
      "\n",
      "      G16PREOth county_name county_fips city_town_name    county_city_id  \\\n",
      "3566        0.0   ST. CLAIR         147  RICHMOND CITY  147RICHMOND CITY   \n",
      "\n",
      "      jurisd  VTD2016_draft        VTD2016  \n",
      "3566   68380  1476838000001  1476838000001  \n"
     ]
    }
   ],
   "source": [
    "print(final_election.loc[final_election[\"city_town_name\"]==\"RICHMOND CITY\"][\"VTD2016\"])\n",
    "print(final_election.loc[final_election[\"VTD2016\"]==\"1476838000001\"])"
   ]
  },
  {
   "cell_type": "code",
   "execution_count": 105,
   "metadata": {},
   "outputs": [
    {
     "name": "stderr",
     "output_type": "stream",
     "text": [
      "/Users/peterhorton/opt/anaconda3/envs/geo_env/lib/python3.9/site-packages/pandas/core/indexing.py:1676: SettingWithCopyWarning: \n",
      "A value is trying to be set on a copy of a slice from a DataFrame.\n",
      "Try using .loc[row_indexer,col_indexer] = value instead\n",
      "\n",
      "See the caveats in the documentation: https://pandas.pydata.org/pandas-docs/stable/user_guide/indexing.html#returning-a-view-versus-a-copy\n",
      "  self._setitem_single_column(ilocs[0], value, pi)\n"
     ]
    }
   ],
   "source": [
    "final_election.loc[final_election[\"VTD2016\"]==\"0996838000001\",\"G16PRERTru\"]+=3"
   ]
  },
  {
   "cell_type": "markdown",
   "metadata": {},
   "source": [
    "#### Filter out the precincts"
   ]
  },
  {
   "cell_type": "code",
   "execution_count": 106,
   "metadata": {},
   "outputs": [],
   "source": [
    "final_election = final_election[~(final_election[\"VTD2016\"].isin([\"1476838000001\",\"1252776000002\"]))]\n",
    "final_election.reset_index(inplace=True,drop=True)"
   ]
  },
  {
   "cell_type": "code",
   "execution_count": 107,
   "metadata": {},
   "outputs": [
    {
     "name": "stdout",
     "output_type": "stream",
     "text": [
      "(4810, 9)\n",
      "both          4809\n",
      "right_only       1\n",
      "left_only        0\n",
      "Name: _merge, dtype: int64\n"
     ]
    }
   ],
   "source": [
    "#Comparing the length to the VEST dataframe, expecting at least 1 not to join\n",
    "print(gdfv.shape)\n",
    "\n",
    "join_attempt = pd.merge(final_election,gdfv,how=\"outer\",on=\"VTD2016\",indicator=True)\n",
    "print(join_attempt[\"_merge\"].value_counts())\n",
    "\n",
    "left_only = join_attempt[join_attempt[\"_merge\"]==\"left_only\"].to_csv(\"./only_source.csv\")\n",
    "right_only = join_attempt[join_attempt[\"_merge\"]==\"right_only\"].to_csv(\"./only_vest.csv\")"
   ]
  },
  {
   "cell_type": "code",
   "execution_count": 108,
   "metadata": {},
   "outputs": [
    {
     "name": "stdout",
     "output_type": "stream",
     "text": [
      "4809    0492900005062\n",
      "Name: VTD2016, dtype: object\n",
      "            VTD2016          Label  G16PREDCli  G16PRERTru  G16PREGSte  \\\n",
      "4809  0492900005062  City of Flint           0           0           0   \n",
      "\n",
      "      G16PRELJoh  G16PREOth  \\\n",
      "4809           0          0   \n",
      "\n",
      "                                               geometry county_fips  \n",
      "4809  POLYGON ((-83.69861 43.01357, -83.70181 43.012...         049  \n"
     ]
    }
   ],
   "source": [
    "#Below are the precincts that didn't join. The top two are both Richmond and Fenton areas that need to be combined (which you did below). \n",
    "#The other one appears to be a zero vote precinct that only occurs in VEST's file\n",
    "print(join_attempt[join_attempt[\"_merge\"]==\"right_only\"][\"VTD2016\"])\n",
    "print(gdfv.loc[gdfv[\"VTD2016\"]==\"0492900005062\"])"
   ]
  },
  {
   "cell_type": "markdown",
   "metadata": {},
   "source": [
    "## Check column totals after the reallocation"
   ]
  },
  {
   "cell_type": "code",
   "execution_count": 109,
   "metadata": {},
   "outputs": [
    {
     "name": "stdout",
     "output_type": "stream",
     "text": [
      "G16PREGSte: EQUAL - 51463\n",
      "G16PREDCli: EQUAL - 2268839\n",
      "G16PRERTru: EQUAL - 2279543\n",
      "G16PRELJoh: EQUAL - 172136\n",
      "G16PREOth: EQUAL - 27303\n"
     ]
    }
   ],
   "source": [
    "for race in data_columns:\n",
    "    diff_val = sum(gdfv[race])-sum(final_election[race])\n",
    "    if diff_val != 0:\n",
    "        print(race+\": \"+str(diff_val), \"\\tVEST sum: \", sum(gdfv[race]), \"\\tRDH sum: \", sum(final_election[race]))\n",
    "    else:\n",
    "        print(race+\": EQUAL - \"+ str(sum(df_pivot[race])))"
   ]
  },
  {
   "cell_type": "code",
   "execution_count": 110,
   "metadata": {},
   "outputs": [
    {
     "name": "stdout",
     "output_type": "stream",
     "text": [
      "All other races in all counties are equal\n"
     ]
    }
   ],
   "source": [
    "diff_counties=[]\n",
    "for i in data_columns:\n",
    "    diff = final_election.groupby(['county_fips']).sum()[i]-gdfv.groupby(['county_fips']).sum()[i]\n",
    "    for val in diff[diff != 0].index.values.tolist():\n",
    "        if val not in diff_counties:\n",
    "            diff_counties.append(val)\n",
    "    if len(diff[diff != 0]!=0):\n",
    "        print(i)\n",
    "        print(diff[diff != 0].to_string(header=False))\n",
    "print(\"All other races in all counties are equal\")"
   ]
  },
  {
   "cell_type": "markdown",
   "metadata": {},
   "source": [
    "## Validate precinct-by-precinct"
   ]
  },
  {
   "cell_type": "code",
   "execution_count": 111,
   "metadata": {},
   "outputs": [],
   "source": [
    "def validater_row (df, column_List):\n",
    "    matching_rows = 0\n",
    "    different_rows = 0\n",
    "    diff_list=[]\n",
    "    diff_values = []\n",
    "    max_diff = 0\n",
    "    for j in range(0,len(df.index)):\n",
    "        same = True\n",
    "        for i in column_List:\n",
    "            left_Data = i + \"_x\"\n",
    "            right_Data = i + \"_y\"\n",
    "            diff = abs(df.iloc[j][left_Data]-df.iloc[j][right_Data])\n",
    "            if(diff >0):\n",
    "                if(diff>0):\n",
    "                    print(i, \"{:.>72}\".format(df.iloc[j][\"VTD2016\"]), \"(S)\",\"{:.>5}\".format(int(df.iloc[j][left_Data])),\" (V){:.>5}\".format(int(df.iloc[j][right_Data])),\"(D):{:>5}\".format(int(df.iloc[j][right_Data])-int(df.iloc[j][left_Data])))           \n",
    "                #print(df.iloc[j]['countypct'])\n",
    "                \n",
    "                diff_values.append(abs(diff))\n",
    "                same = False\n",
    "                if(np.isnan(diff)):\n",
    "                    print(\"NaN value at diff is: \", df.iloc[j][\"VTD2016\"])\n",
    "                    print(df.iloc[j][left_Data])\n",
    "                    print(df.iloc[j][right_Data])\n",
    "                if (diff>max_diff):\n",
    "                    max_diff = diff\n",
    "                    #print(\"New max diff is: \", str(max_diff))\n",
    "                    #print(df.iloc[j]['cty_pct'])\n",
    "        if(same != True):\n",
    "            different_rows +=1\n",
    "            diff_list.append(df.iloc[j][\"VTD2016\"])\n",
    "        else:\n",
    "            matching_rows +=1\n",
    "    print(\"\")\n",
    "    print(\"There are \", len(df.index),\" total rows\")\n",
    "    print(different_rows,\" of these rows have election result differences\")\n",
    "    print(matching_rows,\" of these rows are the same\")\n",
    "    print(\"\")\n",
    "    print(\"The max difference between any one shared column in a row is: \", max_diff)\n",
    "    if(len(diff_values)!=0):\n",
    "        print(\"The average difference is: \", str(sum(diff_values)/len(diff_values)))\n",
    "    count_big_diff = len([i for i in diff_values if i > 10])\n",
    "    print(\"There are \", str(count_big_diff), \"precinct results with a difference greater than 10\")\n",
    "    diff_list.sort()\n",
    "    print(diff_list)"
   ]
  },
  {
   "cell_type": "code",
   "execution_count": 112,
   "metadata": {
    "jupyter": {
     "outputs_hidden": true
    }
   },
   "outputs": [
    {
     "name": "stdout",
     "output_type": "stream",
     "text": [
      "G16PRERTru ...........................................................0637220000001 (S) ..943  (V)..944 (D):    1\n",
      "G16PRERTru ...........................................................0630474000001 (S) ..723  (V)..722 (D):   -1\n",
      "G16PRERTru ...........................................................0794228000001 (S) ..879  (V)..878 (D):   -1\n",
      "G16PRERTru ...........................................................0794228000002 (S) ..740  (V)..741 (D):    1\n",
      "G16PREOth ...........................................................1114176000002 (S) ....8  (V)....7 (D):   -1\n",
      "G16PREOth ...........................................................1115378004002 (S) ....3  (V)....4 (D):    1\n",
      "G16PREOth ...........................................................1250766000002 (S) ....3  (V)....2 (D):   -1\n",
      "G16PREOth ...........................................................1255944000004 (S) ...12  (V)...13 (D):    1\n",
      "G16PRERTru ...........................................................1632200004010 (S) ....5  (V)....4 (D):   -1\n",
      "G16PRELJoh ...........................................................1632200004010 (S) ....3  (V)....2 (D):   -1\n",
      "G16PREGSte ...........................................................1632200004014 (S) ....3  (V)....2 (D):   -1\n",
      "G16PRELJoh ...........................................................1632200004014 (S) ....2  (V)....1 (D):   -1\n",
      "G16PREGSte ...........................................................1632200004018 (S) ....2  (V)....3 (D):    1\n",
      "G16PRELJoh ...........................................................1632200004018 (S) ....8  (V)....9 (D):    1\n",
      "G16PREOth ...........................................................1632200004030 (S) ....2  (V)....1 (D):   -1\n",
      "G16PREOth ...........................................................1632200004032 (S) ....1  (V)....2 (D):    1\n",
      "G16PRELJoh ...........................................................1632200004033 (S) ....3  (V)....2 (D):   -1\n",
      "G16PREOth ...........................................................1632200004033 (S) ....2  (V)....1 (D):   -1\n",
      "G16PREOth ...........................................................1632200004034 (S) ....2  (V)....1 (D):   -1\n",
      "G16PRERTru ...........................................................1632200004036 (S) ....4  (V)....3 (D):   -1\n",
      "G16PREOth ...........................................................1632200004038 (S) ....1  (V)....2 (D):    1\n",
      "G16PRELJoh ...........................................................1632200004039 (S) ....2  (V)....3 (D):    1\n",
      "G16PRELJoh ...........................................................1632200004041 (S) ....2  (V)....1 (D):   -1\n",
      "G16PRELJoh ...........................................................1632200004042 (S) ....1  (V)....2 (D):    1\n",
      "G16PRERTru ...........................................................1632200004046 (S) ....3  (V)....2 (D):   -1\n",
      "G16PRERTru ...........................................................1632200004048 (S) ....2  (V)....3 (D):    1\n",
      "G16PRERTru ...........................................................1632200004049 (S) ...11  (V)...10 (D):   -1\n",
      "G16PRELJoh ...........................................................1632200004051 (S) ....2  (V)....1 (D):   -1\n",
      "G16PRERTru ...........................................................1632200004052 (S) ...10  (V)...11 (D):    1\n",
      "G16PRELJoh ...........................................................1632200004052 (S) ....1  (V)....2 (D):    1\n",
      "G16PRERTru ...........................................................1632200004056 (S) ...10  (V)...11 (D):    1\n",
      "G16PRELJoh ...........................................................1632200003066 (S) ....3  (V)....2 (D):   -1\n",
      "G16PREOth ...........................................................1632200003066 (S) ....2  (V)....1 (D):   -1\n",
      "G16PRELJoh ...........................................................1632200003068 (S) ....2  (V)....3 (D):    1\n",
      "G16PREOth ...........................................................1632200003068 (S) ....1  (V)....2 (D):    1\n",
      "G16PREGSte ...........................................................1632200003069 (S) ....2  (V)....1 (D):   -1\n",
      "G16PREGSte ...........................................................1632200003070 (S) ....2  (V)....1 (D):   -1\n",
      "G16PRELJoh ...........................................................1632200003070 (S) ....2  (V)....1 (D):   -1\n",
      "G16PREGSte ...........................................................1632200003071 (S) ....1  (V)....2 (D):    1\n",
      "G16PREGSte ...........................................................1632200003073 (S) ....1  (V)....2 (D):    1\n",
      "G16PRELJoh ...........................................................1632200003073 (S) ....1  (V)....2 (D):    1\n",
      "G16PREOth ...........................................................1632200003075 (S) ....3  (V)....2 (D):   -1\n",
      "G16PREOth ...........................................................1632200003078 (S) ....2  (V)....3 (D):    1\n",
      "G16PRERTru ...........................................................1632200003083 (S) ...14  (V)...13 (D):   -1\n",
      "G16PRERTru ...........................................................1632200003085 (S) ...13  (V)...14 (D):    1\n",
      "G16PREOth ...........................................................1632200003086 (S) ....0  (V)....1 (D):    1\n",
      "G16PRELJoh ...........................................................1632200003094 (S) ....3  (V)....2 (D):   -1\n",
      "G16PREOth ...........................................................1632200003094 (S) ....2  (V)....1 (D):   -1\n",
      "G16PRELJoh ...........................................................1632200003095 (S) ....2  (V)....3 (D):    1\n",
      "G16PREOth ...........................................................1632200003095 (S) ....1  (V)....2 (D):    1\n",
      "G16PREOth ...........................................................1632200005098 (S) ....1  (V)....0 (D):   -1\n",
      "G16PREOth ...........................................................1632200005099 (S) ....0  (V)....1 (D):    1\n",
      "G16PRELJoh ...........................................................1632200004110 (S) ....2  (V)....3 (D):    1\n",
      "G16PRERTru ...........................................................1632200004111 (S) ....7  (V)....8 (D):    1\n",
      "G16PREGSte ...........................................................1632200004114 (S) ....3  (V)....2 (D):   -1\n",
      "G16PREGSte ...........................................................1632200005116 (S) ....2  (V)....3 (D):    1\n",
      "G16PREOth ...........................................................1632200005116 (S) ....2  (V)....1 (D):   -1\n",
      "G16PREOth ...........................................................1632200005118 (S) ....1  (V)....2 (D):    1\n",
      "G16PREOth ...........................................................1632200005125 (S) ....2  (V)....1 (D):   -1\n",
      "G16PRERTru ...........................................................1632200005142 (S) ....8  (V)....7 (D):   -1\n",
      "G16PREGSte ...........................................................1632200006145 (S) ....3  (V)....2 (D):   -1\n",
      "G16PREGSte ...........................................................1632200006146 (S) ....2  (V)....3 (D):    1\n",
      "G16PREOth ...........................................................1632200006149 (S) ....2  (V)....1 (D):   -1\n",
      "G16PRERTru ...........................................................1632200006151 (S) ...22  (V)...23 (D):    1\n",
      "G16PREOth ...........................................................1632200005159 (S) ....1  (V)....2 (D):    1\n",
      "G16PRELJoh ...........................................................1632200003172 (S) ....2  (V)....1 (D):   -1\n",
      "G16PREGSte ...........................................................1632200003176 (S) ....3  (V)....2 (D):   -1\n",
      "G16PREGSte ...........................................................1632200003178 (S) ....2  (V)....3 (D):    1\n",
      "G16PRELJoh ...........................................................1632200003178 (S) ....1  (V)....2 (D):    1\n",
      "G16PREOth ...........................................................1632200003179 (S) ....0  (V)....1 (D):    1\n",
      "G16PREOth ...........................................................1632200003186 (S) ....2  (V)....1 (D):   -1\n",
      "G16PREOth ...........................................................1632200003191 (S) ....2  (V)....1 (D):   -1\n",
      "G16PREDCli ...........................................................1632200003192 (S) ..498  (V)..497 (D):   -1\n",
      "G16PREDCli ...........................................................1632200003193 (S) ..482  (V)..483 (D):    1\n",
      "G16PREOth ...........................................................1632200003193 (S) ....4  (V)....5 (D):    1\n",
      "G16PRELJoh ...........................................................1632200002198 (S) ....4  (V)....3 (D):   -1\n",
      "G16PRELJoh ...........................................................1632200002200 (S) ....3  (V)....4 (D):    1\n",
      "G16PREOth ...........................................................1632200002200 (S) ....1  (V)....2 (D):    1\n",
      "G16PREDCli ...........................................................1632200002211 (S) ..335  (V)..334 (D):   -1\n",
      "G16PREDCli ...........................................................1632200002213 (S) ..334  (V)..335 (D):    1\n",
      "G16PRELJoh ...........................................................1632200002231 (S) ....2  (V)....1 (D):   -1\n",
      "G16PRELJoh ...........................................................1632200002232 (S) ....3  (V)....2 (D):   -1\n",
      "G16PREOth ...........................................................1632200002232 (S) ....1  (V)....0 (D):   -1\n",
      "G16PRELJoh ...........................................................1632200002234 (S) ....1  (V)....2 (D):    1\n",
      "G16PREGSte ...........................................................1632200002240 (S) ....3  (V)....2 (D):   -1\n",
      "G16PREGSte ...........................................................1632200002241 (S) ....2  (V)....3 (D):    1\n",
      "G16PRELJoh ...........................................................1632200002248 (S) ....2  (V)....3 (D):    1\n",
      "G16PREOth ...........................................................1632200002248 (S) ....0  (V)....1 (D):    1\n",
      "G16PRELJoh ...........................................................1632200001251 (S) ....2  (V)....1 (D):   -1\n",
      "G16PRELJoh ...........................................................1632200001252 (S) ....1  (V)....2 (D):    1\n",
      "G16PRERTru ...........................................................1632200002259 (S) ...16  (V)...15 (D):   -1\n",
      "G16PRERTru ...........................................................1632200002260 (S) ...15  (V)...16 (D):    1\n",
      "G16PREOth ...........................................................1632200001262 (S) ....2  (V)....1 (D):   -1\n",
      "G16PREOth ...........................................................1632200001263 (S) ....1  (V)....2 (D):    1\n",
      "G16PREGSte ...........................................................1632200001265 (S) ....5  (V)....4 (D):   -1\n",
      "G16PRELJoh ...........................................................1632200001269 (S) ....3  (V)....2 (D):   -1\n"
     ]
    },
    {
     "name": "stdout",
     "output_type": "stream",
     "text": [
      "G16PRELJoh ...........................................................1632200001270 (S) ....7  (V)....8 (D):    1\n",
      "G16PREGSte ...........................................................1632200001271 (S) ....4  (V)....5 (D):    1\n",
      "G16PREGSte ...........................................................1632200001273 (S) ....2  (V)....1 (D):   -1\n",
      "G16PREOth ...........................................................1632200001273 (S) ....3  (V)....2 (D):   -1\n",
      "G16PREOth ...........................................................1632200001280 (S) ....2  (V)....3 (D):    1\n",
      "G16PREDCli ...........................................................1632200001282 (S) ..645  (V)..644 (D):   -1\n",
      "G16PRERTru ...........................................................1632200001282 (S) ...14  (V)...13 (D):   -1\n",
      "G16PREGSte ...........................................................1632200001283 (S) ....4  (V)....5 (D):    1\n",
      "G16PREDCli ...........................................................1632200001286 (S) ..644  (V)..645 (D):    1\n",
      "G16PRERTru ...........................................................1632200001286 (S) ...13  (V)...14 (D):    1\n",
      "G16PRERTru ...........................................................1632200002291 (S) ....8  (V)....7 (D):   -1\n",
      "G16PRERTru ...........................................................1632200002292 (S) ....4  (V)....5 (D):    1\n",
      "G16PREGSte ...........................................................1632200002296 (S) ....5  (V)....4 (D):   -1\n",
      "G16PREOth ...........................................................1632200002296 (S) ....2  (V)....1 (D):   -1\n",
      "G16PRELJoh ...........................................................1632200001300 (S) ....4  (V)....3 (D):   -1\n",
      "G16PRELJoh ...........................................................1632200001303 (S) ....3  (V)....4 (D):    1\n",
      "G16PREGSte ...........................................................1632200002313 (S) ....1  (V)....2 (D):    1\n",
      "G16PREOth ...........................................................1632200002313 (S) ....1  (V)....2 (D):    1\n",
      "G16PRELJoh ...........................................................1632200001322 (S) ....2  (V)....1 (D):   -1\n",
      "G16PREOth ...........................................................1632200007331 (S) ....2  (V)....1 (D):   -1\n",
      "G16PREOth ...........................................................1632200007336 (S) ....1  (V)....2 (D):    1\n",
      "G16PREGSte ...........................................................1632200007339 (S) ....6  (V)....5 (D):   -1\n",
      "G16PREGSte ...........................................................1632200007342 (S) ....5  (V)....6 (D):    1\n",
      "G16PRELJoh ...........................................................1632200007343 (S) ....7  (V)....6 (D):   -1\n",
      "G16PRELJoh ...........................................................1632200007345 (S) ....6  (V)....7 (D):    1\n",
      "G16PREOth ...........................................................1632200007349 (S) ....3  (V)....2 (D):   -1\n",
      "G16PRELJoh ...........................................................1632200001353 (S) ....2  (V)....1 (D):   -1\n",
      "G16PREGSte ...........................................................1632200007356 (S) ....6  (V)....5 (D):   -1\n",
      "G16PRERTru ...........................................................1632200001358 (S) ....9  (V)....8 (D):   -1\n",
      "G16PRELJoh ...........................................................1632200001358 (S) ....5  (V)....4 (D):   -1\n",
      "G16PRELJoh ...........................................................1632200001359 (S) ....1  (V)....2 (D):    1\n",
      "G16PREGSte ...........................................................1632200007363 (S) ....5  (V)....6 (D):    1\n",
      "G16PREOth ...........................................................1632200007363 (S) ....2  (V)....3 (D):    1\n",
      "G16PREGSte ...........................................................1632200007366 (S) ....2  (V)....1 (D):   -1\n",
      "G16PRERTru ...........................................................1632200007366 (S) ....8  (V)....7 (D):   -1\n",
      "G16PREGSte ...........................................................1632200007372 (S) ....1  (V)....2 (D):    1\n",
      "G16PRERTru ...........................................................1632200007372 (S) ....2  (V)....3 (D):    1\n",
      "G16PREGSte ...........................................................1632200001378 (S) ....4  (V)....3 (D):   -1\n",
      "G16PREGSte ...........................................................1632200001379 (S) ....3  (V)....4 (D):    1\n",
      "G16PRERTru ...........................................................1632200001379 (S) ....8  (V)....9 (D):    1\n",
      "G16PRELJoh ...........................................................1632200001379 (S) ....4  (V)....5 (D):    1\n",
      "G16PRELJoh ...........................................................1632200002380 (S) ....4  (V)....5 (D):    1\n",
      "G16PREOth ...........................................................1632200002380 (S) ....1  (V)....0 (D):   -1\n",
      "G16PREOth ...........................................................1632200002381 (S) ....0  (V)....1 (D):    1\n",
      "G16PREGSte ...........................................................1632200002384 (S) ....2  (V)....1 (D):   -1\n",
      "G16PRERTru ...........................................................1632200002387 (S) ....8  (V)....7 (D):   -1\n",
      "G16PRERTru ...........................................................1632200002388 (S) ....7  (V)....8 (D):    1\n",
      "G16PREGSte ...........................................................1632200002391 (S) ....1  (V)....2 (D):    1\n",
      "G16PREOth ...........................................................1632200002392 (S) ....1  (V)....2 (D):    1\n",
      "G16PREOth ...........................................................1632200007402 (S) ....2  (V)....1 (D):   -1\n",
      "G16PRERTru ...........................................................1632200007405 (S) ....8  (V)....7 (D):   -1\n",
      "G16PRELJoh ...........................................................1632200007407 (S) ....2  (V)....1 (D):   -1\n",
      "G16PRERTru ...........................................................1632200007408 (S) ....9  (V)....8 (D):   -1\n",
      "G16PRERTru ...........................................................1632200007409 (S) ....8  (V)....9 (D):    1\n",
      "G16PREOth ...........................................................1632200007410 (S) ....1  (V)....0 (D):   -1\n",
      "G16PRELJoh ...........................................................1632200007411 (S) ....1  (V)....2 (D):    1\n",
      "G16PREOth ...........................................................1632200007412 (S) ....0  (V)....1 (D):    1\n",
      "G16PRERTru ...........................................................1632200007415 (S) ...16  (V)...17 (D):    1\n",
      "G16PRELJoh ...........................................................1632200006417 (S) ....2  (V)....1 (D):   -1\n",
      "G16PRELJoh ...........................................................1632200006419 (S) ....1  (V)....2 (D):    1\n",
      "G16PREGSte ...........................................................1632200006420 (S) ....2  (V)....1 (D):   -1\n",
      "G16PRERTru ...........................................................1632200006420 (S) ....5  (V)....4 (D):   -1\n",
      "G16PREGSte ...........................................................1632200006421 (S) ....1  (V)....2 (D):    1\n",
      "G16PRERTru ...........................................................1632200006421 (S) ....4  (V)....5 (D):    1\n",
      "G16PRERTru ...........................................................1632200005432 (S) ....8  (V)....7 (D):   -1\n",
      "G16PRERTru ...........................................................1632200005434 (S) ....7  (V)....8 (D):    1\n",
      "G16PREGSte ...........................................................1632200005437 (S) ....5  (V)....4 (D):   -1\n",
      "G16PREGSte ...........................................................1632200005449 (S) ....1  (V)....2 (D):    1\n",
      "G16PREDCli ...........................................................1632200006462 (S) ..294  (V)..293 (D):   -1\n",
      "G16PREDCli ...........................................................1632200006463 (S) ..293  (V)..294 (D):    1\n",
      "G16PREGSte ...........................................................1632200006472 (S) ....7  (V)....6 (D):   -1\n",
      "G16PREGSte ...........................................................1632200006477 (S) ....6  (V)....7 (D):    1\n",
      "G16PREGSte ...........................................................1632200006481 (S) ....2  (V)....1 (D):   -1\n",
      "G16PREGSte ...........................................................1632200006486 (S) ....1  (V)....2 (D):    1\n",
      "\n",
      "There are  4809  total rows\n",
      "139  of these rows have election result differences\n",
      "4670  of these rows are the same\n",
      "\n",
      "The max difference between any one shared column in a row is:  1.0\n",
      "The average difference is:  1.0\n",
      "There are  0 precinct results with a difference greater than 10\n",
      "['0630474000001', '0637220000001', '0794228000001', '0794228000002', '1114176000002', '1115378004002', '1250766000002', '1255944000004', '1632200001251', '1632200001252', '1632200001262', '1632200001263', '1632200001265', '1632200001269', '1632200001270', '1632200001271', '1632200001273', '1632200001280', '1632200001282', '1632200001283', '1632200001286', '1632200001300', '1632200001303', '1632200001322', '1632200001353', '1632200001358', '1632200001359', '1632200001378', '1632200001379', '1632200002198', '1632200002200', '1632200002211', '1632200002213', '1632200002231', '1632200002232', '1632200002234', '1632200002240', '1632200002241', '1632200002248', '1632200002259', '1632200002260', '1632200002291', '1632200002292', '1632200002296', '1632200002313', '1632200002380', '1632200002381', '1632200002384', '1632200002387', '1632200002388', '1632200002391', '1632200002392', '1632200003066', '1632200003068', '1632200003069', '1632200003070', '1632200003071', '1632200003073', '1632200003075', '1632200003078', '1632200003083', '1632200003085', '1632200003086', '1632200003094', '1632200003095', '1632200003172', '1632200003176', '1632200003178', '1632200003179', '1632200003186', '1632200003191', '1632200003192', '1632200003193', '1632200004010', '1632200004014', '1632200004018', '1632200004030', '1632200004032', '1632200004033', '1632200004034', '1632200004036', '1632200004038', '1632200004039', '1632200004041', '1632200004042', '1632200004046', '1632200004048', '1632200004049', '1632200004051', '1632200004052', '1632200004056', '1632200004110', '1632200004111', '1632200004114', '1632200005098', '1632200005099', '1632200005116', '1632200005118', '1632200005125', '1632200005142', '1632200005159', '1632200005432', '1632200005434', '1632200005437', '1632200005449', '1632200006145', '1632200006146', '1632200006149', '1632200006151', '1632200006417', '1632200006419', '1632200006420', '1632200006421', '1632200006462', '1632200006463', '1632200006472', '1632200006477', '1632200006481', '1632200006486', '1632200007331', '1632200007336', '1632200007339', '1632200007342', '1632200007343', '1632200007345', '1632200007349', '1632200007356', '1632200007363', '1632200007366', '1632200007372', '1632200007402', '1632200007405', '1632200007407', '1632200007408', '1632200007409', '1632200007410', '1632200007411', '1632200007412', '1632200007415']\n"
     ]
    }
   ],
   "source": [
    "column_list = ['G16PREGSte', 'G16PREDCli', 'G16PRERTru', 'G16PRELJoh', 'G16PREOth']\n",
    "\n",
    "validater_row(join_attempt[join_attempt[\"_merge\"]==\"both\"], column_list)"
   ]
  },
  {
   "cell_type": "markdown",
   "metadata": {},
   "source": [
    "# Join with shapefile"
   ]
  },
  {
   "cell_type": "code",
   "execution_count": null,
   "metadata": {},
   "outputs": [],
   "source": [
    "shp.shape"
   ]
  },
  {
   "cell_type": "code",
   "execution_count": null,
   "metadata": {},
   "outputs": [],
   "source": [
    "shp.VTD2016.nunique()"
   ]
  },
  {
   "cell_type": "code",
   "execution_count": null,
   "metadata": {},
   "outputs": [],
   "source": [
    "final_election.shape"
   ]
  },
  {
   "cell_type": "code",
   "execution_count": null,
   "metadata": {},
   "outputs": [],
   "source": [
    "final_election.VTD2016.nunique()"
   ]
  },
  {
   "cell_type": "markdown",
   "metadata": {},
   "source": [
    "Make new df with no nanas"
   ]
  },
  {
   "cell_type": "code",
   "execution_count": null,
   "metadata": {},
   "outputs": [],
   "source": [
    "join = gpd.GeoDataFrame(pd.merge(final_election, shp, on = 'VTD2016', how = 'outer').drop_duplicates(), crs = crs)\n",
    "join.plot()"
   ]
  },
  {
   "cell_type": "markdown",
   "metadata": {},
   "source": [
    "# Validation"
   ]
  },
  {
   "cell_type": "markdown",
   "metadata": {},
   "source": [
    "## Shapefile"
   ]
  },
  {
   "cell_type": "code",
   "execution_count": null,
   "metadata": {},
   "outputs": [],
   "source": [
    "#Note: The below code will include the 1 unjoined precinct shapefile (turns out it validates with VEST)"
   ]
  },
  {
   "cell_type": "code",
   "execution_count": null,
   "metadata": {},
   "outputs": [],
   "source": [
    "shp_final_merge = pd.merge(join, gdfv, on = 'VTD2016', how = 'outer', suffixes = ['_x', '_y'], indicator = True)"
   ]
  },
  {
   "cell_type": "code",
   "execution_count": null,
   "metadata": {},
   "outputs": [],
   "source": [
    "shp_shapes = gpd.GeoDataFrame(shp_final_merge, geometry = 'geometry_x')\n",
    "final_shapes = gpd.GeoDataFrame(shp_final_merge, geometry = 'geometry_y')\n",
    "vals = shp_shapes.geom_almost_equals(final_shapes, decimal = 0)"
   ]
  },
  {
   "cell_type": "code",
   "execution_count": null,
   "metadata": {
    "scrolled": true
   },
   "outputs": [],
   "source": [
    "print(vals.value_counts())"
   ]
  },
  {
   "cell_type": "code",
   "execution_count": null,
   "metadata": {},
   "outputs": [],
   "source": [
    "both = shp_final_merge[shp_final_merge[\"_merge\"]==\"both\"]\n",
    "source_geoms = gpd.GeoDataFrame(both,geometry=\"geometry_x\",crs=gdfv.crs)\n",
    "vest_geoms = gpd.GeoDataFrame(both,geometry=\"geometry_y\",crs=gdfv.crs)\n",
    "source_geoms = source_geoms.to_crs(3857)\n",
    "vest_geoms = vest_geoms.to_crs(3857)\n",
    "source_geoms[\"geometry_x\"]=source_geoms.buffer(0)\n",
    "vest_geoms[\"geometry_y\"]=vest_geoms.buffer(0)\n",
    "vals = source_geoms.geom_almost_equals(vest_geoms,decimal=0)\n",
    "print(vals.value_counts())"
   ]
  },
  {
   "cell_type": "code",
   "execution_count": null,
   "metadata": {},
   "outputs": [],
   "source": [
    "count = 0\n",
    "area_list = []\n",
    "big_diff = pd.DataFrame(columns=[\"area\"])\n",
    "for i in range(0,len(source_geoms)):\n",
    "    diff = source_geoms.iloc[[i]].symmetric_difference(vest_geoms.iloc[[i]])\n",
    "    intersection = source_geoms.iloc[[i]].intersection(vest_geoms.iloc[[i]])\n",
    "    area = float(diff.area/10e6)\n",
    "    area_list.append(area)\n",
    "    #print(\"Area is \" + str(area))\n",
    "\n",
    "    if (area > 1):\n",
    "        count += 1\n",
    "        name = source_geoms.at[i,\"join_col\"]\n",
    "        big_diff.loc[name]=area\n",
    "        print(str(count)+\") For \" + name + \" difference in area is \" + str(area))\n",
    "        if (intersection.iloc[0].is_empty):\n",
    "            base = diff.plot(color=\"red\")\n",
    "            source_geoms.iloc[[i]].plot(color=\"orange\",ax=base)\n",
    "            vest_geoms.iloc[[i]].plot(color=\"blue\",ax=base)\n",
    "            base.set_title(name)\n",
    "        else:\n",
    "            base = diff.plot(color=\"red\")\n",
    "            source_geoms.iloc[[i]].plot(color=\"orange\",ax=base)\n",
    "            vest_geoms.iloc[[i]].plot(color=\"blue\",ax=base)\n",
    "            intersection.plot(color=\"green\",ax=base)\n",
    "            base.set_title(name)"
   ]
  },
  {
   "cell_type": "code",
   "execution_count": null,
   "metadata": {},
   "outputs": [],
   "source": [
    "df = pd.DataFrame(area_list)\n",
    "print(df.shape)\n",
    "\n",
    "print(str(len(df[df[0]==0]))+\" precincts w/ a difference of 0 km^2\")\n",
    "print(str(len(df[(df[0]<.1) & (df[0]>0)]))+ \" precincts w/ a difference between 0 and 0.1 km^2\")\n",
    "print(str(len(df[(df[0]<.5) & (df[0]>=0.1)]))+ \" precincts w/ a difference between 0.1 and 0.5 km^2\")\n",
    "print(str(len(df[(df[0]<1) & (df[0]>=0.5)]))+ \" precincts w/ a difference between 0.5 and 1 km^2\")\n",
    "print(str(len(df[(df[0]<2) & (df[0]>=1)]))+ \" precincts w/ a difference between 1 and 2 km^2\")\n",
    "print(str(len(df[(df[0]<5) & (df[0]>=2)]))+ \" precincts w/ a difference between 2 and 5 km^2\")\n",
    "print(str(len(df[(df[0]>=5)]))+ \" precincts w/ a difference greater than 5 km^2\")"
   ]
  }
 ],
 "metadata": {
  "kernelspec": {
   "display_name": "Python 3",
   "language": "python",
   "name": "python3"
  },
  "language_info": {
   "codemirror_mode": {
    "name": "ipython",
    "version": 3
   },
   "file_extension": ".py",
   "mimetype": "text/x-python",
   "name": "python",
   "nbconvert_exporter": "python",
   "pygments_lexer": "ipython3",
   "version": "3.9.2"
  }
 },
 "nbformat": 4,
 "nbformat_minor": 4
}
