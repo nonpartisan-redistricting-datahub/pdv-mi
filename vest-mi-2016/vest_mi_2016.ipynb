{
 "cells": [
  {
   "cell_type": "markdown",
   "metadata": {},
   "source": [
    "# 2016 VEST MI\n",
    "\n",
    "### From Documentation:\n",
    "Election results from the Michigan Department of State (https://miboecfr.nictusa.com/cgi-bin/cfr/precinct_srch.cgi)\n",
    "Precinct shapefile from the Michigan Department of State (https://gis-michigan.opendata.arcgis.com/datasets/8ce0f3ce3ff74109ac02a26d34a0f4fc_1)\n",
    "\n",
    "Michigan has cities split across counties. Two are relevant to their reported election results versus the precinct map (which did not make the split), Fenton and Richmond. Those precincts were merged to reflect the precinct map.\n",
    "\n",
    "Most counties had \"statistical adjustments\" that were at the county level, rather than the precinct level. Only two were for party candidates (Huron and Kalkaka), and in those cases, two or fewer votes. The remaining cases were related to \"other\" votes. Due to the scattered nature of \"other\" votes, these votes are apportioned to precincts by the split of total votes of precincts within the county.\n",
    "\n",
    "Detroit allows for absentee votes to be reported by Absentee Voter Counting Boards, which generally contain multiple precincts. These votes are apportioned to precincts by candidate in the same shares that the non-AVCB vote was split among precincts within a county. The linkage between election precinct and AVCB was provided by OpenElections via Derek Willis. Precinct 176 was listed as split between AVCB 37 and AVCB 158, the only precinct in the city that was listed as split. AVCB 158 has no other precinct assigned to it, so all votes went to precinct 176. However, this was a very low number of votes relative to the other AVCBs, so for ease of calculation, 176 was treated as a normal member of AVCB 37 in the disaggregation calculation described above.\n",
    "\n",
    "G16PREDCli - Hillary Clinton (Democratic Party)\n",
    "G16PRERTru - Donald J. Trump (Republican Party)\n",
    "G16PREGSte - Jill Stein (Green Party)\n",
    "G16PRELJoh - Gary Johnson (Libertarian Party)\n",
    "G16PREOth - Other Candidates/Write-in Votes\n"
   ]
  },
  {
   "cell_type": "markdown",
   "metadata": {},
   "source": [
    "**Files + Sources:** \n",
    "\n",
    "2016GEN.zip: Election precinct results from the Michigan Department of State (https://miboecfr.nictusa.com/cgi-bin/cfr/precinct_srch.cgi)\n",
    "\n",
    "2016_Voting_Precincts-shp.zip: Precinct shapefile from the Michigan Department of State (https://gis-michigan.opendata.arcgis.com/datasets/8ce0f3ce3ff74109ac02a26d34a0f4fc_1)\n",
    "\n",
    "mi_2016.zip: VEST final file (https://dataverse.harvard.edu/file.xhtml?persistentId=doi:10.7910/DVN/NH5S2I/4KOZRU&version=46.0)\n",
    "\n",
    "documentation_2016.txt: VEST's documentation on their 2016 work, all included, not just MI (https://dataverse.harvard.edu/file.xhtml?persistentId=doi:10.7910/DVN/NH5S2I/A652IT&version=46.0)"
   ]
  },
  {
   "cell_type": "code",
   "execution_count": 1,
   "metadata": {},
   "outputs": [],
   "source": [
    "import numpy as np\n",
    "import pandas as pd\n",
    "import geopandas as gpd\n",
    "import matplotlib.pyplot as plt"
   ]
  },
  {
   "cell_type": "markdown",
   "metadata": {},
   "source": [
    "# Load Partner File"
   ]
  },
  {
   "cell_type": "code",
   "execution_count": 2,
   "metadata": {},
   "outputs": [
    {
     "name": "stdout",
     "output_type": "stream",
     "text": [
      "/Users/lilyfalk/sandbox/pdv-mi/vest-mi/vest_mi_2016_ar\n"
     ]
    }
   ],
   "source": [
    "cd /Users/lilyfalk/sandbox/pdv-mi/vest-mi/vest_mi_2016_ar/"
   ]
  },
  {
   "cell_type": "code",
   "execution_count": 3,
   "metadata": {},
   "outputs": [
    {
     "data": {
      "text/html": [
       "<div>\n",
       "<style scoped>\n",
       "    .dataframe tbody tr th:only-of-type {\n",
       "        vertical-align: middle;\n",
       "    }\n",
       "\n",
       "    .dataframe tbody tr th {\n",
       "        vertical-align: top;\n",
       "    }\n",
       "\n",
       "    .dataframe thead th {\n",
       "        text-align: right;\n",
       "    }\n",
       "</style>\n",
       "<table border=\"1\" class=\"dataframe\">\n",
       "  <thead>\n",
       "    <tr style=\"text-align: right;\">\n",
       "      <th></th>\n",
       "      <th>VTD2016</th>\n",
       "      <th>Label</th>\n",
       "      <th>G16PREDCli</th>\n",
       "      <th>G16PRERTru</th>\n",
       "      <th>G16PREGSte</th>\n",
       "      <th>G16PRELJoh</th>\n",
       "      <th>G16PREOth</th>\n",
       "      <th>geometry</th>\n",
       "    </tr>\n",
       "  </thead>\n",
       "  <tbody>\n",
       "    <tr>\n",
       "      <th>0</th>\n",
       "      <td>1632100000001</td>\n",
       "      <td>City of Dearborn</td>\n",
       "      <td>581</td>\n",
       "      <td>93</td>\n",
       "      <td>17</td>\n",
       "      <td>11</td>\n",
       "      <td>1</td>\n",
       "      <td>POLYGON ((-83.14843 42.34469, -83.14861 42.343...</td>\n",
       "    </tr>\n",
       "    <tr>\n",
       "      <th>1</th>\n",
       "      <td>1632100000002</td>\n",
       "      <td>City of Dearborn</td>\n",
       "      <td>560</td>\n",
       "      <td>95</td>\n",
       "      <td>23</td>\n",
       "      <td>9</td>\n",
       "      <td>3</td>\n",
       "      <td>POLYGON ((-83.16029 42.34644, -83.16027 42.344...</td>\n",
       "    </tr>\n",
       "    <tr>\n",
       "      <th>2</th>\n",
       "      <td>1632100000003</td>\n",
       "      <td>City of Dearborn</td>\n",
       "      <td>756</td>\n",
       "      <td>171</td>\n",
       "      <td>52</td>\n",
       "      <td>13</td>\n",
       "      <td>5</td>\n",
       "      <td>POLYGON ((-83.16699 42.34247, -83.16815 42.342...</td>\n",
       "    </tr>\n",
       "    <tr>\n",
       "      <th>3</th>\n",
       "      <td>1632100000004</td>\n",
       "      <td>City of Dearborn</td>\n",
       "      <td>406</td>\n",
       "      <td>70</td>\n",
       "      <td>17</td>\n",
       "      <td>8</td>\n",
       "      <td>1</td>\n",
       "      <td>POLYGON ((-83.17687 42.34399, -83.17806 42.343...</td>\n",
       "    </tr>\n",
       "    <tr>\n",
       "      <th>4</th>\n",
       "      <td>1632100000005</td>\n",
       "      <td>City of Dearborn</td>\n",
       "      <td>453</td>\n",
       "      <td>68</td>\n",
       "      <td>15</td>\n",
       "      <td>9</td>\n",
       "      <td>0</td>\n",
       "      <td>POLYGON ((-83.18665 42.34561, -83.18657 42.343...</td>\n",
       "    </tr>\n",
       "  </tbody>\n",
       "</table>\n",
       "</div>"
      ],
      "text/plain": [
       "         VTD2016             Label  G16PREDCli  G16PRERTru  G16PREGSte  \\\n",
       "0  1632100000001  City of Dearborn         581          93          17   \n",
       "1  1632100000002  City of Dearborn         560          95          23   \n",
       "2  1632100000003  City of Dearborn         756         171          52   \n",
       "3  1632100000004  City of Dearborn         406          70          17   \n",
       "4  1632100000005  City of Dearborn         453          68          15   \n",
       "\n",
       "   G16PRELJoh  G16PREOth                                           geometry  \n",
       "0          11          1  POLYGON ((-83.14843 42.34469, -83.14861 42.343...  \n",
       "1           9          3  POLYGON ((-83.16029 42.34644, -83.16027 42.344...  \n",
       "2          13          5  POLYGON ((-83.16699 42.34247, -83.16815 42.342...  \n",
       "3           8          1  POLYGON ((-83.17687 42.34399, -83.17806 42.343...  \n",
       "4           9          0  POLYGON ((-83.18665 42.34561, -83.18657 42.343...  "
      ]
     },
     "execution_count": 3,
     "metadata": {},
     "output_type": "execute_result"
    }
   ],
   "source": [
    "gdfv = gpd.read_file('./raw-from-source/mi_2016/mi_2016.shp')\n",
    "gdfv.head()"
   ]
  },
  {
   "cell_type": "markdown",
   "metadata": {},
   "source": [
    "# Shapefile"
   ]
  },
  {
   "cell_type": "code",
   "execution_count": 6,
   "metadata": {},
   "outputs": [
    {
     "data": {
      "text/html": [
       "<div>\n",
       "<style scoped>\n",
       "    .dataframe tbody tr th:only-of-type {\n",
       "        vertical-align: middle;\n",
       "    }\n",
       "\n",
       "    .dataframe tbody tr th {\n",
       "        vertical-align: top;\n",
       "    }\n",
       "\n",
       "    .dataframe thead th {\n",
       "        text-align: right;\n",
       "    }\n",
       "</style>\n",
       "<table border=\"1\" class=\"dataframe\">\n",
       "  <thead>\n",
       "    <tr style=\"text-align: right;\">\n",
       "      <th></th>\n",
       "      <th>OBJECTID</th>\n",
       "      <th>Id</th>\n",
       "      <th>VTD2016</th>\n",
       "      <th>CountyFips</th>\n",
       "      <th>Jurisdicti</th>\n",
       "      <th>ElectionYe</th>\n",
       "      <th>Label</th>\n",
       "      <th>ShapeSTAre</th>\n",
       "      <th>ShapeSTLen</th>\n",
       "      <th>geometry</th>\n",
       "    </tr>\n",
       "  </thead>\n",
       "  <tbody>\n",
       "    <tr>\n",
       "      <th>0</th>\n",
       "      <td>1</td>\n",
       "      <td>3888</td>\n",
       "      <td>1632100000001</td>\n",
       "      <td>163</td>\n",
       "      <td>21000</td>\n",
       "      <td>2016</td>\n",
       "      <td>City of Dearborn</td>\n",
       "      <td>2.489738e+06</td>\n",
       "      <td>6846.254657</td>\n",
       "      <td>POLYGON ((-83.14843 42.34468, -83.14860 42.343...</td>\n",
       "    </tr>\n",
       "    <tr>\n",
       "      <th>1</th>\n",
       "      <td>2</td>\n",
       "      <td>3889</td>\n",
       "      <td>1632100000002</td>\n",
       "      <td>163</td>\n",
       "      <td>21000</td>\n",
       "      <td>2016</td>\n",
       "      <td>City of Dearborn</td>\n",
       "      <td>1.058362e+06</td>\n",
       "      <td>4621.388992</td>\n",
       "      <td>POLYGON ((-83.16029 42.34643, -83.16026 42.344...</td>\n",
       "    </tr>\n",
       "    <tr>\n",
       "      <th>2</th>\n",
       "      <td>3</td>\n",
       "      <td>3890</td>\n",
       "      <td>1632100000003</td>\n",
       "      <td>163</td>\n",
       "      <td>21000</td>\n",
       "      <td>2016</td>\n",
       "      <td>City of Dearborn</td>\n",
       "      <td>1.488846e+06</td>\n",
       "      <td>4909.715171</td>\n",
       "      <td>POLYGON ((-83.16699 42.34246, -83.16815 42.342...</td>\n",
       "    </tr>\n",
       "    <tr>\n",
       "      <th>3</th>\n",
       "      <td>4</td>\n",
       "      <td>3891</td>\n",
       "      <td>1632100000004</td>\n",
       "      <td>163</td>\n",
       "      <td>21000</td>\n",
       "      <td>2016</td>\n",
       "      <td>City of Dearborn</td>\n",
       "      <td>1.187165e+06</td>\n",
       "      <td>4354.743602</td>\n",
       "      <td>POLYGON ((-83.17687 42.34398, -83.17806 42.343...</td>\n",
       "    </tr>\n",
       "    <tr>\n",
       "      <th>4</th>\n",
       "      <td>5</td>\n",
       "      <td>3892</td>\n",
       "      <td>1632100000005</td>\n",
       "      <td>163</td>\n",
       "      <td>21000</td>\n",
       "      <td>2016</td>\n",
       "      <td>City of Dearborn</td>\n",
       "      <td>1.133548e+06</td>\n",
       "      <td>5460.202887</td>\n",
       "      <td>POLYGON ((-83.18665 42.34560, -83.18656 42.343...</td>\n",
       "    </tr>\n",
       "  </tbody>\n",
       "</table>\n",
       "</div>"
      ],
      "text/plain": [
       "   OBJECTID    Id        VTD2016 CountyFips Jurisdicti  ElectionYe  \\\n",
       "0         1  3888  1632100000001        163      21000        2016   \n",
       "1         2  3889  1632100000002        163      21000        2016   \n",
       "2         3  3890  1632100000003        163      21000        2016   \n",
       "3         4  3891  1632100000004        163      21000        2016   \n",
       "4         5  3892  1632100000005        163      21000        2016   \n",
       "\n",
       "              Label    ShapeSTAre   ShapeSTLen  \\\n",
       "0  City of Dearborn  2.489738e+06  6846.254657   \n",
       "1  City of Dearborn  1.058362e+06  4621.388992   \n",
       "2  City of Dearborn  1.488846e+06  4909.715171   \n",
       "3  City of Dearborn  1.187165e+06  4354.743602   \n",
       "4  City of Dearborn  1.133548e+06  5460.202887   \n",
       "\n",
       "                                            geometry  \n",
       "0  POLYGON ((-83.14843 42.34468, -83.14860 42.343...  \n",
       "1  POLYGON ((-83.16029 42.34643, -83.16026 42.344...  \n",
       "2  POLYGON ((-83.16699 42.34246, -83.16815 42.342...  \n",
       "3  POLYGON ((-83.17687 42.34398, -83.17806 42.343...  \n",
       "4  POLYGON ((-83.18665 42.34560, -83.18656 42.343...  "
      ]
     },
     "execution_count": 6,
     "metadata": {},
     "output_type": "execute_result"
    }
   ],
   "source": [
    "## Load, Project\n",
    "shp = gpd.read_file('./raw-from-source/2016_Voting_Precincts/2016_Voting_Precincts.shp')\n",
    "crs = gdfv.crs\n",
    "shp = shp.to_crs(crs)\n",
    "shp.head()"
   ]
  },
  {
   "cell_type": "markdown",
   "metadata": {},
   "source": [
    "# Election Results"
   ]
  },
  {
   "cell_type": "code",
   "execution_count": 7,
   "metadata": {},
   "outputs": [
    {
     "name": "stdout",
     "output_type": "stream",
     "text": [
      "Raw Election result column total sums:\n",
      "G16PREDCli    2268839\n",
      "G16PRERTru    2279543\n",
      "G16PREGSte      51463\n",
      "G16PRELJoh     172136\n",
      "G16PREOth       27303\n",
      "dtype: int64\n",
      "VEST column total sums:\n",
      "G16PREDCli    2268839\n",
      "G16PRERTru    2279543\n",
      "G16PREGSte      51463\n",
      "G16PRELJoh     172136\n",
      "G16PREOth       27303\n",
      "dtype: int64\n"
     ]
    }
   ],
   "source": [
    "## Load + Process format\n",
    "\n",
    "df = pd.read_csv('./raw-from-source/2016GEN/2016vote.txt', delimiter = '\\t', header = None)\n",
    "#columns defined in documentation\n",
    "df.columns = ['election_year','election_type','office_code','district_code',\n",
    "                                     'status_code','candidate_id','county_code','city_town_code','ward_number',\n",
    "                                     'precinct_number','precinct_label','precinct_votes','na_col']\n",
    "#Processing\n",
    "#Filter to office code `1` for president\n",
    "df = df[df['office_code'] == 1]\n",
    "#Using the file `2016name.txt` to figure out these candidate codes: \n",
    "#- -1130    Stein\n",
    "#- -1128    Clinton\n",
    "#- -1110    Trump\n",
    "#- -1101    Johnson\n",
    "\n",
    "#Have to replace NaNs in `precinct_label` with empty strings so that we can use it as an index in the pivot\n",
    "df['precinct_label'] = df['precinct_label'].replace(np.nan, '', regex = True)\n",
    "## PIVOT RESULTS\n",
    "df_pivot = df.pivot_table(index = ['county_code','city_town_code','ward_number','precinct_number','precinct_label'],\n",
    "                         columns = ['candidate_id'],\n",
    "                        values = ['precinct_votes'],\n",
    "                         aggfunc = 'sum')\n",
    "df_pivot.reset_index(inplace = True)\n",
    "\n",
    "vote_cols_other = [( 'precinct_votes', -1142),\n",
    "            ( 'precinct_votes', -1141),\n",
    "            ( 'precinct_votes', -1140),\n",
    "            ( 'precinct_votes', -1139),\n",
    "            ( 'precinct_votes', -1137),\n",
    "            ( 'precinct_votes', -1136),\n",
    "            ( 'precinct_votes', -1135),\n",
    "            ( 'precinct_votes', -1112),\n",
    "            ( 'precinct_votes', -1108)]\n",
    "df_pivot['G16PREOth'] = 0\n",
    "for col in vote_cols_other:\n",
    "    df_pivot['G16PREOth'] = df_pivot['G16PREOth'] + df_pivot[col]\n",
    "    df_pivot.drop(col[1], axis = 1, level = 1, inplace = True)\n",
    "    \n",
    "df_pivot.reset_index(inplace = True)\n",
    "df_pivot.columns = ['candidate_id','county_code','city_town_code','ward_number','precinct_number','precinct_label',\n",
    "                              'G16PREGSte','G16PREDCli','G16PRERTru','G16PRELJoh','G16PREOth']\n",
    "#Comparing results\n",
    "print('Raw Election result column total sums:')\n",
    "print(df_pivot[['G16PREDCli','G16PRERTru','G16PREGSte','G16PRELJoh','G16PREOth']].sum())\n",
    "print('VEST column total sums:')\n",
    "print(gdfv[['G16PREDCli','G16PRERTru','G16PREGSte','G16PRELJoh','G16PREOth']].sum())"
   ]
  },
  {
   "cell_type": "code",
   "execution_count": 8,
   "metadata": {},
   "outputs": [
    {
     "name": "stdout",
     "output_type": "stream",
     "text": [
      "     candidate_id  county_code  city_town_code  ward_number  precinct_number  \\\n",
      "378           378           14              18            0                1   \n",
      "\n",
      "    precinct_label  G16PREGSte  G16PREDCli  G16PRERTru  G16PRELJoh  G16PREOth  \n",
      "378                         13         279         736          53          6  \n"
     ]
    }
   ],
   "source": [
    "#testing example from below\n",
    "print(df_pivot[df_pivot[\"candidate_id\"]==378])"
   ]
  },
  {
   "cell_type": "markdown",
   "metadata": {},
   "source": [
    "## Cleaning Election Results"
   ]
  },
  {
   "cell_type": "code",
   "execution_count": 9,
   "metadata": {},
   "outputs": [],
   "source": [
    "#### Add County Name\n",
    "#The SOS results have county codes that are not FIPS codes. Pulled the `county.txt` file to a Sheet and lined it up with county fips codes from Wikipedia. Loading in this file created in Sheets. \n",
    "county_names = pd.read_csv('./raw-from-source/county_codes.csv', dtype = {'county_fips':'object'})\n",
    "df_pivot = df_pivot.merge(county_names, on = 'county_code')\n",
    "\n",
    "#### Add City/Township Name\n",
    "#Loading in the `2016city.txt` file that has the corresponding names for the city codes in the election results file\n",
    "city_codes = pd.read_csv('./raw-from-source/2016GEN/2016city.txt',delimiter='\\t',header=None)\n",
    "city_codes.columns = ['election_year','election_type','county_code','city_town_code','city_town_name','null']\n",
    "city_codes.drop(['election_year','election_type','null'],axis=1,inplace=True)\n",
    "df_pivot = df_pivot.merge(city_codes, on = ['county_code','city_town_code'])"
   ]
  },
  {
   "cell_type": "code",
   "execution_count": 10,
   "metadata": {},
   "outputs": [
    {
     "name": "stdout",
     "output_type": "stream",
     "text": [
      "     candidate_id  county_code  city_town_code  ward_number  precinct_number  \\\n",
      "378           378           14              18            0                1   \n",
      "\n",
      "    precinct_label  G16PREGSte  G16PREDCli  G16PRERTru  G16PRELJoh  G16PREOth  \\\n",
      "378                         13         279         736          53          6   \n",
      "\n",
      "    county_name county_fips  city_town_name  \n",
      "378        CASS         027  ONTWA TOWNSHIP  \n"
     ]
    }
   ],
   "source": [
    "print(df_pivot[df_pivot[\"candidate_id\"]==378])"
   ]
  },
  {
   "cell_type": "markdown",
   "metadata": {},
   "source": [
    "# Looking for unique identifier"
   ]
  },
  {
   "cell_type": "markdown",
   "metadata": {},
   "source": [
    "So, the elections file has 157 more unique identifiers than VEST's final file... Likely caused by satistical adjustments + AVCBs"
   ]
  },
  {
   "cell_type": "code",
   "execution_count": 11,
   "metadata": {},
   "outputs": [
    {
     "name": "stdout",
     "output_type": "stream",
     "text": [
      "set()\n",
      "set()\n"
     ]
    }
   ],
   "source": [
    "print(set(gdfv.VTD2016) - set(shp.VTD2016))\n",
    "print(set(shp.VTD2016) - set(gdfv.VTD2016))"
   ]
  },
  {
   "cell_type": "markdown",
   "metadata": {},
   "source": [
    "See that `gdfv`, the final VEST file and `shp` the raw shapefile have unique identifiers that match up perfectly."
   ]
  },
  {
   "cell_type": "markdown",
   "metadata": {},
   "source": [
    "Check `gdfv` `VTD2016` column to identify different components of the unique id"
   ]
  },
  {
   "cell_type": "markdown",
   "metadata": {},
   "source": [
    "Check census all geocodes file and find that `City of Dearborn` has `county_fips` = 163, and `county subdiv`(MCDFIPS) = 21000"
   ]
  },
  {
   "cell_type": "markdown",
   "metadata": {},
   "source": [
    "So, from `shp`, `Jurisdicti` is the `county subdiv`/MCDFIPS code"
   ]
  },
  {
   "cell_type": "markdown",
   "metadata": {},
   "source": [
    "## Read in Census File to get the MCDFIPs code and more"
   ]
  },
  {
   "cell_type": "code",
   "execution_count": 12,
   "metadata": {},
   "outputs": [],
   "source": [
    "census = pd.read_csv('./raw-from-source/all-geocodes-v2016.csv')\n",
    "censusmi = census[census['State Code (FIPS)'] == 26]\n",
    "#After `Place Code` != 0, repeat values, so want to filter that out. Then see that # unique values = 1520 for County Sub, indicating same as `Juris` in `shp`\n",
    "censusmi = censusmi[(censusmi['Place Code (FIPS)'] == 0) & (censusmi['County Subdivision Code (FIPS)'] != 0)]\n"
   ]
  },
  {
   "cell_type": "markdown",
   "metadata": {},
   "source": [
    "Census file uses \"Charter Township\" whereas election df just says \"Township\". Also, census file says \"City City\" in some places"
   ]
  },
  {
   "cell_type": "markdown",
   "metadata": {},
   "source": [
    "Seems like best bet is to make `Area Name`s consistent, make column with the county fips joined, then use dictionary to match to the `Juris` code"
   ]
  },
  {
   "cell_type": "markdown",
   "metadata": {},
   "source": [
    "Before removing all instances of charter from the censusmi, wanted to make sure df does not contain instances, it doesnt\n",
    "`df_pivot[df_pivot['city_town_name'].str.contains('charter')]\n",
    "df_pivot[df_pivot['city_town_name'].str.contains('CITY CITY')]`"
   ]
  },
  {
   "cell_type": "markdown",
   "metadata": {},
   "source": [
    "### Clean census file to make match column"
   ]
  },
  {
   "cell_type": "code",
   "execution_count": 13,
   "metadata": {},
   "outputs": [],
   "source": [
    "censusmi['city_town_name'] = censusmi['Area Name (including legal/statistical area description)'].str.replace('charter township', 'township')\n",
    "censusmi['city_town_name'] = censusmi['city_town_name'].str.replace('City city', 'city')\n",
    "censusmi['city_town_name'] = censusmi['city_town_name'].str.upper()\n",
    "\n",
    "#set(censusmi['city_town_name'].str.upper()) - set(df_pivot['city_town_name'])\n",
    "#set(df_pivot['city_town_name']) - set(censusmi['city_town_name'].str.upper())\n",
    "#Use^ to create dictionary below\n",
    "\n",
    "census_to_df_city_dict = {'COLDSPRINGS TOWNSHIP': 'COLD SPRINGS TOWNSHIP',\n",
    " 'DEWITT CITY': 'DE WITT CITY',\n",
    " 'DEWITT TOWNSHIP': 'DE WITT TOWNSHIP',\n",
    " 'GUN PLAIN TOWNSHIP': 'GUNPLAIN TOWNSHIP',\n",
    " \"L'ANSE TOWNSHIP\": 'LANSE TOWNSHIP',\n",
    " 'LAGRANGE TOWNSHIP': 'LA GRANGE TOWNSHIP',\n",
    " 'PLEASANTVIEW TOWNSHIP': 'PLEASANT VIEW TOWNSHIP',\n",
    " 'ST. JAMES TOWNSHIP': 'ST JAMES TOWNSHIP',\n",
    " 'VILLAGE OF CLARKSTON CITY': 'CLARKSTON CITY',\n",
    " 'VILLAGE OF GROSSE POINTE SHORES CITY': 'GROSSE POINTE SHORES CITY'}\n",
    "\n",
    "censusmi.loc[censusmi['city_town_name'].isin(census_to_df_city_dict.keys()), 'city_town_name'] = censusmi.loc[censusmi['city_town_name'].isin(census_to_df_city_dict.keys()), 'city_town_name'].map(census_to_df_city_dict)\n",
    "\n",
    "#Use below to determine next needed replacements:\n",
    "#df_pivot[(df_pivot['city_town_name'] == 'GROSS POINTE SHORES CITY') | (df_pivot['city_town_name'] == 'GROSSE POINTE SHORES CITY')]\n",
    "#censusmi[(censusmi['city_town_name'] == 'GROSS POINTE SHORES CITY') | (censusmi['city_town_name'] == 'GROSSE POINTE SHORES CITY')]\n",
    "censusmi.loc[(censusmi['Area Name (including legal/statistical area description)'] == 'Village of Grosse Pointe Shores city')&(censusmi['County Code (FIPS)']==99), 'city_town_name'] = 'GROSS POINTE SHORES CITY'\n"
   ]
  },
  {
   "cell_type": "markdown",
   "metadata": {},
   "source": [
    "### Translate Census file JURISDICTION code in to df\n",
    "Now that the city town names match, I can create a dictionary - census file juris code to df. First I need a column in each with the county code + the city town name"
   ]
  },
  {
   "cell_type": "code",
   "execution_count": 14,
   "metadata": {},
   "outputs": [],
   "source": [
    "censusmi['county_city_id'] = censusmi['County Code (FIPS)'].astype(str).str.zfill(3) + censusmi['city_town_name']\n",
    "df_pivot['county_city_id'] = df_pivot['county_fips'] + df_pivot['city_town_name']\n",
    "#The census identifier has more values by 8 than the df, so just keep in mind when mapping.\n",
    "### Apply dictionary to make column in df\n",
    "county_city_id_to_mcdjuris_dict = pd.Series(censusmi['County Subdivision Code (FIPS)'].values, index = censusmi['county_city_id']).to_dict()\n",
    "df_pivot['jurisd'] = (df_pivot['county_city_id'].map(county_city_id_to_mcdjuris_dict)).fillna(0).astype('int64')\n",
    "\n",
    "#gdfv[gdfv['VTD2016'].str.slice(stop = 3) == '001'].head()\n",
    "#From `gdfv` see that for juris for alcona twp, need 1040 --> 01040"
   ]
  },
  {
   "cell_type": "markdown",
   "metadata": {},
   "source": [
    "### Compare df and gdfv size/unique id matching"
   ]
  },
  {
   "cell_type": "code",
   "execution_count": 15,
   "metadata": {},
   "outputs": [
    {
     "name": "stdout",
     "output_type": "stream",
     "text": [
      "# df id values with county, juris, prec#, no ward:  4950\n",
      "gdfv shape:  (4810, 8)\n",
      "# unique values in id with no ward:  4686\n",
      "# vals in gdfv not in df with no ward in id:  53\n",
      "# vals in df not in gdfv with no ward in id:  317\n"
     ]
    }
   ],
   "source": [
    "print('# df id values with county, juris, prec#, no ward: ', (df_pivot['county_fips'] + df_pivot['jurisd'].astype(str).str.zfill(5) + df_pivot['precinct_number'].astype(str).str.zfill(3)).nunique())\n",
    "print('gdfv shape: ', gdfv.shape)\n",
    "print('# unique values in id with no ward: ', (gdfv['VTD2016'].str.slice(stop = -5) + gdfv['VTD2016'].str.slice(start = -3)).nunique())\n",
    "### Observe better match rate with ward removed from unique identifier. Explore more about the unique ids:\n",
    "print('# vals in gdfv not in df with no ward in id: ', len(set(gdfv['VTD2016'].str.slice(stop = -5) + gdfv['VTD2016'].str.slice(start = -3)) - set(df_pivot['county_fips'] + df_pivot['jurisd'].astype(str).str.zfill(5) + df_pivot['precinct_number'].astype(str).str.zfill(3))))\n",
    "print('# vals in df not in gdfv with no ward in id: ', len(set(df_pivot['county_fips'] + df_pivot['jurisd'].astype(str).str.zfill(5) + df_pivot['precinct_number'].astype(str).str.zfill(3)) - set(gdfv['VTD2016'].str.slice(stop = 8) + gdfv['VTD2016'].str.slice(start = 10))))"
   ]
  },
  {
   "cell_type": "markdown",
   "metadata": {},
   "source": [
    "### Look more into ward use and needs for id creation\n",
    "See from sample id that taking ward out, `VTD2016` does in fact rely on the ward # to make the id unique"
   ]
  },
  {
   "cell_type": "code",
   "execution_count": 16,
   "metadata": {},
   "outputs": [
    {
     "name": "stdout",
     "output_type": "stream",
     "text": [
      "gdfv ward # value counts:\n",
      "00    3705\n",
      "01     236\n",
      "02     229\n",
      "03     196\n",
      "04     148\n",
      "05     129\n",
      "06      77\n",
      "07      76\n",
      "08       7\n",
      "09       6\n",
      "10       1\n",
      "Name: VTD2016, dtype: int64\n",
      "df ward # value counts:\n",
      "0    4503\n",
      "1     179\n",
      "2     130\n",
      "3     110\n",
      "4      64\n",
      "5      49\n",
      "6      19\n",
      "7      10\n",
      "8       7\n",
      "9       6\n",
      "Name: ward_number, dtype: int64\n"
     ]
    }
   ],
   "source": [
    "#Observe highest value count for '00' in gdfv and df, but notice that the value counts do not match up - df has far too many '00' values\n",
    "print('gdfv ward # value counts:')\n",
    "print(gdfv['VTD2016'].str.slice(start = -5, stop = -3).value_counts())\n",
    "print('df ward # value counts:')\n",
    "print(df_pivot['ward_number'].value_counts())"
   ]
  },
  {
   "cell_type": "code",
   "execution_count": 17,
   "metadata": {},
   "outputs": [
    {
     "name": "stdout",
     "output_type": "stream",
     "text": [
      "# id values in shp not in df:  567\n",
      "# id values in df not in shp:  834\n",
      "sum of ward# value count differences not equal to zero:  530\n",
      "# ids in df not containing AVCB not in shp id list:  624\n"
     ]
    }
   ],
   "source": [
    "#create draft id to match gdfv and shp that includes ward... will observe that the ward number does not match well with the other two files\n",
    "df_pivot['VTD2016_draft'] = df_pivot['county_fips'] + df_pivot['jurisd'].astype(str).str.zfill(5) + df_pivot['ward_number'].astype(str).str.zfill(2) + df_pivot['precinct_number'].astype(str).str.zfill(3)+df_pivot['precinct_label'].str.strip()\n",
    "#Observe poor match rate for this new draft id\n",
    "print('# id values in shp not in df: ', len(set(shp.VTD2016) - set(df_pivot.VTD2016_draft)))\n",
    "print('# id values in df not in shp: ', len(set(df_pivot.VTD2016_draft) - set(shp.VTD2016)))\n",
    "\n",
    "#sum the difference in value counts for all ward #s not equal to zero\n",
    "print('sum of ward# value count differences not equal to zero: ', (236-179)+ (229-130)+(196 - 110)+(148-64) + (129-49) + (77-19)+(76-10))\n",
    "#See that half of mismatch can likely be attributed to ward mismatch\n",
    "\n",
    "print('# ids in df not containing AVCB not in shp id list: ', len(set(df_pivot['VTD2016_draft'][df_pivot['VTD2016_draft'].str.slice(start = -4)!='AVCB']) - set(shp.VTD2016)))\n"
   ]
  },
  {
   "cell_type": "markdown",
   "metadata": {},
   "source": [
    "From `readme.txt`, see that `ward` field is 00 if \"not applicable\"...\n",
    "\n",
    "See from removing AVCBs that match rate improves without - need to fix using csv from brian\n",
    "TODO:\n",
    "- modify AVCB as needed\n",
    "- modify ward"
   ]
  },
  {
   "cell_type": "code",
   "execution_count": 18,
   "metadata": {},
   "outputs": [
    {
     "name": "stdout",
     "output_type": "stream",
     "text": [
      "df AVCB values: \n",
      "380      0276090000901AVCB\n",
      "386      0277394000901AVCB\n",
      "494      0372412000901AVCB\n",
      "865      0511218000901AVCB\n",
      "1729     0874606000901AVCB\n",
      "               ...        \n",
      "4763    16322000001068AVCB\n",
      "4764    16322000001069AVCB\n",
      "4765    16322000001070AVCB\n",
      "4766    16322000001071AVCB\n",
      "4767    16322000001072AVCB\n",
      "Name: VTD2016_draft, Length: 210, dtype: object\n",
      "# unique ids in df and not avcb without ward:  4742\n",
      "# unique ids in gdfv and not avcb without ward:  4686\n"
     ]
    }
   ],
   "source": [
    "#Observe 900 added to normal precinct values in the AVCBs\n",
    "print('df AVCB values: ')\n",
    "print(df_pivot['VTD2016_draft'][df_pivot['VTD2016_draft'].str.slice(start = -4)=='AVCB'])\n",
    "\n",
    "print('# unique ids in df and not avcb without ward: ', (df_pivot['VTD2016_draft'][df_pivot['VTD2016_draft'].str.slice(start = -4)!='AVCB'].str.slice(stop=-5)+df_pivot['precinct_number'].astype(str).str.zfill(3)).nunique())\n",
    "print('# unique ids in gdfv and not avcb without ward: ',(gdfv.VTD2016.str.slice(stop=-5)+gdfv.VTD2016.str.slice(start=-3)).nunique())"
   ]
  },
  {
   "cell_type": "markdown",
   "metadata": {},
   "source": [
    "ID Changes DICT is a dictionary added to make some minor ID adjustments to match more precincts."
   ]
  },
  {
   "cell_type": "code",
   "execution_count": 19,
   "metadata": {},
   "outputs": [
    {
     "name": "stdout",
     "output_type": "stream",
     "text": [
      "ID change dict length:  566\n"
     ]
    }
   ],
   "source": [
    "id_changes_dict = {'0250592000021': '0250592002021', '0250592000010': '0250592001010', '0250592000008': '0250592005008', '0250592000006': '0250592004006', '0250592000012': '0250592002012', '0250592000005': '0250592005005', '0250592000015': '0250592003015', '0250592000016': '0250592003016', '0250592000003': '0250592005003', '0250592000018': '0250592002018', '0250592000014': '0250592004014', '0250592000023': '0250592001023', '0250592000020': '0250592005020', '0250592000017': '0250592003017', '0250592000007': '0250592002007', '0250592000013': '0250592004013', '0250592000001': '0250592003001', '0250592000002': '0250592004002', '0250592000004': '0250592001004', '0250592000022': '0250592001022', '0250592000019': '0250592003019', '0250592000009': '0250592004009', '0250592000011': '0250592005011', '0210752000003': '0210752003001', '0210752000001': '0210752001001', '0210752000004': '0210752004001', '0210752000002': '0210752002001', '1632200000490': '1632200001490', '1632200000489': '1632200006489', '1632200000488': '1632200006488', '1632200000487': '1632200006487', '1632200000486': '1632200006486', '1632200000485': '1632200006485', '1632200000484': '1632200006484', '1632200000483': '1632200006483', '1632200000482': '1632200006482', '1632200000481': '1632200006481', '1632200000480': '1632200006480', '1632200000479': '1632200006479', '1632200000478': '1632200006478', '1632200000477': '1632200006477', '1632200000476': '1632200006476', '1632200000475': '1632200006475', '1632200000474': '1632200006474', '1632200000473': '1632200006473', '1632200000472': '1632200006472', '1632200000471': '1632200006471', '1632200000470': '1632200006470', '1632200000469': '1632200006469', '1632200000468': '1632200006468', '1632200000467': '1632200006467', '1632200000466': '1632200006466', '1632200000465': '1632200006465', '1632200000464': '1632200006464', '1632200000463': '1632200006463', '1632200000462': '1632200006462', '1632200000461': '1632200006461', '1632200000460': '1632200006460', '1632200000459': '1632200006459', '1632200000458': '1632200006458', '1632200000457': '1632200006457', '1632200000456': '1632200005456', '1632200000455': '1632200005455', '1632200000454': '1632200005454', '1632200000453': '1632200006453', '1632200000452': '1632200005452', '1632200000451': '1632200006451', '1632200000450': '1632200006450', '1632200000449': '1632200005449', '1632200000448': '1632200005448', '1632200000447': '1632200005447', '1632200000446': '1632200005446', '1632200000445': '1632200005445', '1632200000444': '1632200005444', '1632200000443': '1632200005443', '1632200000442': '1632200005442', '1632200000441': '1632200005441', '1632200000440': '1632200005440', '1632200000439': '1632200005439', '1632200000438': '1632200005438', '1632200000437': '1632200005437', '1632200000436': '1632200005436', '1632200000435': '1632200005435', '1632200000434': '1632200005434', '1632200000433': '1632200005433', '1632200000432': '1632200005432', '1632200000431': '1632200007431', '1632200000430': '1632200007430', '1632200000429': '1632200007429', '1632200000428': '1632200007428', '1632200000427': '1632200007427', '1632200000426': '1632200007426', '1632200000425': '1632200006425', '1632200000424': '1632200006424', '1632200000423': '1632200006423', '1632200000422': '1632200006422', '1632200000421': '1632200006421', '1632200000420': '1632200006420', '1632200000419': '1632200006419', '1632200000418': '1632200006418', '1632200000417': '1632200006417', '1632200000416': '1632200006416', '1632200000415': '1632200007415', '1632200000414': '1632200007414', '1632200000413': '1632200007413', '1632200000412': '1632200007412', '1632200000411': '1632200007411', '1632200000410': '1632200007410', '1632200000409': '1632200007409', '1632200000408': '1632200007408', '1632200000407': '1632200007407', '1632200000406': '1632200007406', '1632200000405': '1632200007405', '1632200000404': '1632200007404', '1632200000403': '1632200002403', '1632200000402': '1632200007402', '1632200000401': '1632200007401', '1632200000400': '1632200007400', '1632200000399': '1632200007399', '1632200000398': '1632200007398', '1632200000397': '1632200007397', '1632200000396': '1632200007396', '1632200000395': '1632200007395', '1632200000394': '1632200007394', '1632200000393': '1632200007393', '1632200000392': '1632200002392', '1632200000391': '1632200002391', '1632200000390': '1632200007390', '1632200000389': '1632200002389', '1632200000388': '1632200002388', '1632200000387': '1632200002387', '1632200000386': '1632200002386', '1632200000385': '1632200002385', '1632200000384': '1632200002384', '1632200000383': '1632200002383', '1632200000382': '1632200002382', '1632200000381': '1632200002381', '1632200000380': '1632200002380', '1632200000379': '1632200001379', '1632200000378': '1632200001378', '1632200000377': '1632200007377', '1632200000376': '1632200007376', '1632200000375': '1632200007375', '1632200000374': '1632200007374', '1632200000373': '1632200007373', '1632200000372': '1632200007372', '1632200000371': '1632200007371', '1632200000370': '1632200007370', '1632200000369': '1632200007369', '1632200000368': '1632200007368', '1632200000367': '1632200007367', '1632200000366': '1632200007366', '1632200000365': '1632200007365', '1632200000364': '1632200007364', '1632200000363': '1632200007363', '1632200000362': '1632200001362', '1632200000361': '1632200001361', '1632200000360': '1632200001360', '1632200000359': '1632200001359', '1632200000358': '1632200001358', '1632200000357': '1632200001357', '1632200000356': '1632200007356', '1632200000355': '1632200007355', '1632200000354': '1632200001354', '1632200000353': '1632200001353', '1632200000352': '1632200001352', '1632200000351': '1632200001351', '1632200000350': '1632200001350', '1632200000349': '1632200007349', '1632200000348': '1632200007348', '1632200000347': '1632200007347', '1632200000346': '1632200007346', '1632200000345': '1632200007345', '1632200000344': '1632200007344', '1632200000343': '1632200007343',\n",
    "                     '1632200000342': '1632200007342', '1632200000341': '1632200007341', '1632200000340': '1632200007340', '1632200000339': '1632200007339', '1632200000338': '1632200007338', '1632200000337': '1632200007337', '1632200000336': '1632200007336', '1632200000335': '1632200007335', '1632200000334': '1632200007334', '1632200000333': '1632200007333', '1632200000332': '1632200007332', '1632200000331': '1632200007331', '1632200000330': '1632200007330', '1632200000329': '1632200001329', '1632200000328': '1632200001328', '1632200000327': '1632200001327', '1632200000326': '1632200001326', '1632200000325': '1632200001325', '1632200000324': '1632200001324', '1632200000323': '1632200001323', '1632200000322': '1632200001322', '1632200000321': '1632200001321', '1632200000320': '1632200001320', '1632200000319': '1632200001319', '1632200000318': '1632200001318', '1632200000317': '1632200001317', '1632200000316': '1632200001316', '1632200000315': '1632200001315', '1632200000314': '1632200002314', '1632200000313': '1632200002313', '1632200000312': '1632200001312', '1632200000311': '1632200001311', '1632200000310': '1632200001310', '1632200000309': '1632200001309', '1632200000308': '1632200001308', '1632200000307': '1632200001307', '1632200000306': '1632200001306', '1632200000305': '1632200001305', '1632200000304': '1632200001304', '1632200000303': '1632200001303', '1632200000302': '1632200001302', '1632200000301': '1632200001301', '1632200000300': '1632200001300', '1632200000299': '1632200001299', '1632200000298': '1632200001298', '1632200000297': '1632200001297', '1632200000296': '1632200002296', '1632200000295': '1632200002295', '1632200000294': '1632200002294', '1632200000293': '1632200002293', '1632200000292': '1632200002292', '1632200000291': '1632200002291', '1632200000290': '1632200002290', '1632200000289': '1632200002289', '1632200000288': '1632200002288', '1632200000287': '1632200001287', '1632200000286': '1632200001286', '1632200000285': '1632200001285', '1632200000284': '1632200001284', '1632200000283': '1632200001283', '1632200000282': '1632200001282', '1632200000281': '1632200001281', '1632200000280': '1632200001280', '1632200000279': '1632200001279', '1632200000278': '1632200001278', '1632200000277': '1632200001277', '1632200000276': '1632200001276', '1632200000275': '1632200001275', '1632200000274': '1632200001274', '1632200000273': '1632200001273', '1632200000272': '1632200001272', '1632200000271': '1632200001271', '1632200000270': '1632200001270', '1632200000269': '1632200001269', '1632200000268': '1632200001268', '1632200000267': '1632200001267', '1632200000266': '1632200001266', '1632200000265': '1632200001265', '1632200000264': '1632200001264', '1632200000263': '1632200001263', '1632200000262': '1632200001262', '1632200000261': '1632200001261', '1632200000260': '1632200002260', '1632200000259': '1632200002259', '1632200000258': '1632200002258', '1632200000257': '1632200002257', '1632200000256': '1632200002256', '1632200000255': '1632200002255', '1632200000254': '1632200001254', '1632200000253': '1632200001253', '1632200000252': '1632200001252', '1632200000251': '1632200001251', '1632200000250': '1632200002250', '1632200000249': '1632200002249', '1632200000248': '1632200002248', '1632200000247': '1632200002247', '1632200000246': '1632200002246', '1632200000245': '1632200002245', '1632200000244': '1632200002244', '1632200000243': '1632200002243', '1632200000242': '1632200002242', '1632200000241': '1632200002241', '1632200000240': '1632200002240', '1632200000239': '1632200002239', '1632200000238': '1632200002238', '1632200000237': '1632200002237', '1632200000236': '1632200002236', '1632200000235': '1632200002235', '1632200000234': '1632200002234', '1632200000233': '1632200002233', '1632200000232': '1632200002232', '1632200000231': '1632200002231', '1632200000230': '1632200002230', '1632200000229': '1632200002229', '1632200000228': '1632200002228', '1632200000227': '1632200002227', '1632200000226': '1632200002226', '1632200000225': '1632200002225', '1632200000224': '1632200002224', '1632200000223': '1632200002223', '1632200000222': '1632200002222', '1632200000221': '1632200002221', '1632200000220': '1632200005220', '1632200000219': '1632200002219', '1632200000218': '1632200005218', '1632200000217': '1632200002217', '1632200000216': '1632200002216', '1632200000215': '1632200002215', '1632200000214': '1632200002214', '1632200000213': '1632200002213', '1632200000212': '1632200002212', '1632200000211': '1632200002211', '1632200000210': '1632200002210', '1632200000209': '1632200002209', '1632200000208': '1632200002208', '1632200000207': '1632200002207', '1632200000206': '1632200002206', '1632200000205': '1632200002205', '1632200000204': '1632200002204', '1632200000203': '1632200002203', '1632200000202': '1632200002202', '1632200000201': '1632200002201', '1632200000200': '1632200002200', '1632200000199': '1632200002199', '1632200000198': '1632200002198', '1632200000197': '1632200003197', '1632200000196': '1632200003196', '1632200000195': '1632200003195', '1632200000194': '1632200003194', '1632200000193': '1632200003193', '1632200000192': '1632200003192', '1632200000191': '1632200003191', '1632200000190': '1632200003190', '1632200000189': '1632200003189', '1632200000188': '1632200003188', '1632200000187': '1632200003187', '1632200000186': '1632200003186', '1632200000185': '1632200003185', '1632200000184': '1632200003184', '1632200000183': '1632200003183', '1632200000182': '1632200003182', '1632200000181': '1632200003181', '1632200000180': '1632200003180', '1632200000179': '1632200003179', '1632200000178': '1632200003178', '1632200000177': '1632200003177', '1632200000176': '1632200003176', '1632200000175': '1632200003175', '1632200000174': '1632200003174', '1632200000173': '1632200003173', '1632200000172': '1632200003172', '1632200000171': '1632200005171', '1632200000170': '1632200005170', '1632200000169': '1632200005169', '1632200000168': '1632200005168', '1632200000167': '1632200005167', '1632200000166': '1632200005166', '1632200000165': '1632200005165', '1632200000164': '1632200005164', '1632200000163': '1632200005163', '1632200000162': '1632200005162', '1632200000161': '1632200005161', '1632200000160': '1632200005160', '1632200000159': '1632200005159', '1632200000158': '1632200005158', '1632200000157': '1632200006157', '1632200000156': '1632200005156', '1632200000155': '1632200005155', '1632200000154': '1632200006154', '1632200000153': '1632200006153', '1632200000152': '1632200005152', '1632200000151': '1632200006151', '1632200000150': '1632200006150', '1632200000149': '1632200006149', '1632200000148': '1632200006148', '1632200000147': '1632200006147', '1632200000146': '1632200006146', '1632200000145': '1632200006145', '1632200000144': '1632200006144', '1632200000143': '1632200006143', '1632200000142': '1632200005142', '1632200000141': '1632200005141', '1632200000140': '1632200005140', '1632200000139': '1632200005139', '1632200000138': '1632200005138', '1632200000137': '1632200005137', '1632200000136': '1632200005136', '1632200000135': '1632200005135', '1632200000134': '1632200005134', '1632200000133': '1632200005133', '1632200000132': '1632200005132', '1632200000131': '1632200005131', '1632200000130': '1632200005130', '1632200000129': '1632200005129', '1632200000128': '1632200005128', '1632200000127': '1632200005127', '1632200000126': '1632200005126', '1632200000125': '1632200005125', '1632200000124': '1632200005124', '1632200000123': '1632200005123', '1632200000122': '1632200005122', '1632200000121': '1632200005121', '1632200000120': '1632200005120', '1632200000119': '1632200005119', '1632200000118': '1632200005118', '1632200000117': '1632200005117', '1632200000116': '1632200005116', '1632200000115': '1632200005115', '1632200000114': '1632200004114', '1632200000113': '1632200004113', '1632200000112': '1632200004112', '1632200000111': '1632200004111', '1632200000110': '1632200004110', '1632200000109': '1632200004109', '1632200000108': '1632200003108', '1632200000107': '1632200003107', '1632200000106': '1632200004106', '1632200000105': '1632200004105', '1632200000104': '1632200004104', '1632200000103': '1632200004103', '1632200000102': '1632200003102', '1632200000101': '1632200003101', '1632200000100': '1632200003100', '1632200000099': '1632200005099', '1632200000098': '1632200005098', '1632200000097': '1632200003097', '1632200000096': '1632200003096', '1632200000095': '1632200003095', '1632200000094': '1632200003094', '1632200000093': '1632200003093', '1632200000092': '1632200003092', '1632200000091': '1632200003091', '1632200000090': '1632200003090', '1632200000089': '1632200003089', '1632200000088': '1632200003088', '1632200000087': '1632200003087', '1632200000086': '1632200003086', '1632200000085': '1632200003085', '1632200000084': '1632200003084', '1632200000083': '1632200003083',\n",
    "                     '1632200000082': '1632200003082', '1632200000081': '1632200003081', '1632200000080': '1632200003080', '1632200000079': '1632200003079', '1632200000078': '1632200003078', '1632200000077': '1632200003077', '1632200000076': '1632200004076', '1632200000075': '1632200003075', '1632200000074': '1632200003074', '1632200000073': '1632200003073', '1632200000072': '1632200003072', '1632200000071': '1632200003071', '1632200000070': '1632200003070', '1632200000069': '1632200003069', '1632200000068': '1632200003068', '1632200000067': '1632200003067', '1632200000066': '1632200003066', '1632200000065': '1632200003065', '1632200000064': '1632200003064', '1632200000063': '1632200003063', '1632200000062': '1632200003062', '1632200000061': '1632200003061', '1632200000060': '1632200004060', '1632200000059': '1632200004059', '1632200000058': '1632200004058', '1632200000057': '1632200004057', '1632200000056': '1632200004056', '1632200000055': '1632200004055', '1632200000054': '1632200004054', '1632200000053': '1632200004053', '1632200000052': '1632200004052', '1632200000051': '1632200004051', '1632200000050': '1632200004050', '1632200000049': '1632200004049', '1632200000048': '1632200004048', '1632200000047': '1632200004047', '1632200000046': '1632200004046', '1632200000045': '1632200004045', '1632200000044': '1632200004044', '1632200000043': '1632200004043', '1632200000042': '1632200004042', '1632200000041': '1632200004041', '1632200000040': '1632200004040', '1632200000039': '1632200004039', '1632200000038': '1632200004038', '1632200000037': '1632200004037', '1632200000036': '1632200004036', '1632200000035': '1632200004035', '1632200000034': '1632200004034', '1632200000033': '1632200004033', '1632200000032': '1632200004032', '1632200000031': '1632200004031', '1632200000030': '1632200004030', '1632200000029': '1632200004029', '1632200000028': '1632200004028', '1632200000027': '1632200004027', '1632200000026': '1632200004026', '1632200000025': '1632200004025', '1632200000024': '1632200004024', '1632200000023': '1632200004023', '1632200000022': '1632200004022', '1632200000021': '1632200004021', '1632200000020': '1632200004020', '1632200000019': '1632200004019', '1632200000018': '1632200004018', '1632200000017': '1632200004017', '1632200000016': '1632200004016', '1632200000015': '1632200004015', '1632200000014': '1632200004014', '1632200000013': '1632200004013', '1632200000012': '1632200004012', '1632200000011': '1632200004011', '1632200000010': '1632200004010', '1632200000009': '1632200004009', '1632200000008': '1632200004008', '1632200000007': '1632200004007', '1632200000006': '1632200004006', '1632200000005': '1632200004005', '1632200000004': '1632200004004', '1632200000003': '1632200005003', '1632200000002': '1632200005002', '1632200000001': '1632200005001', '1373172002002': '1373172002001', '1373172003003': '1373172003001', '0513232001003': '0513232003002', '0513232001004': '0513232004001', '0513232001002': '0513232002002', '0153712000001': '01537120010001', '0674086004004': '0674086004001', '0674086003003': '0674086003001', '0674086002002': '0674086002001', '0434096000002': '0434096002002', '0434096000001': '0434096001003', '0434096000003': '0434096003002', '045460000300023': '0454600003023', '045460000300022L': '0454600003022', '1155502000003': '1155502000003N', '0215776000004': '0215776004004', '0215776000002': '0215776002002', '0215776000003': '0215776003003', '0215776000001': '0215776001001', '0370000000001': '0376186000001', '0476382000002': '0476382002001', '0476382000001': '0476382001001', '0476382000003': '0476382003001', '0476382000004': '0476382004001', '1256903501009': '1256903502009', '1256903501030': '1256903504030', '1256903501028': '1256903504028', '1256903501001': '1256903503001', '1256903501016': '1256903503016', '1256903501025': '1256903502025', '1256903501012': '1256903503012', '1256903501024': '1256903503024', '1256903501010': '1256903502010', '1256903501027': '1256903504027', '1256903501032': '1256903502032', '1256903501005': '1256903504005', '1256903501021': '1256903502021', '1256903501031': '1256903503031', '1256903501011': '1256903504011', '1256903501003': '1256903503003', '1256903501004': '1256903502004', '1256903501018': '1256903502018', '1256903501019': '1256903502019', '1256903501013': '1256903503013', '1256903501020': '1256903504020', '1256903501002': '1256903503002', '1256903501015': '1256903504015', '1256903501007': '1256903502007', '0057498000001': '0057498003002'}\n",
    "print('ID change dict length: ', len(id_changes_dict))\n",
    "#Using the VTD2016 column as the unique ID and applying the dictioanry above\n",
    "df_pivot[\"VTD2016\"] = df_pivot[\"VTD2016_draft\"]\n",
    "df_pivot[\"VTD2016\"] = df_pivot[\"VTD2016\"].map(id_changes_dict).fillna(df_pivot[\"VTD2016\"])"
   ]
  },
  {
   "cell_type": "markdown",
   "metadata": {},
   "source": [
    "# Redistributing avcb votes "
   ]
  },
  {
   "cell_type": "markdown",
   "metadata": {},
   "source": [
    "Read in avcb translation csv thanks to Brian Amos - in report mark as inaccessible file"
   ]
  },
  {
   "cell_type": "code",
   "execution_count": 21,
   "metadata": {},
   "outputs": [
    {
     "data": {
      "text/html": [
       "<div>\n",
       "<style scoped>\n",
       "    .dataframe tbody tr th:only-of-type {\n",
       "        vertical-align: middle;\n",
       "    }\n",
       "\n",
       "    .dataframe tbody tr th {\n",
       "        vertical-align: top;\n",
       "    }\n",
       "\n",
       "    .dataframe thead th {\n",
       "        text-align: right;\n",
       "    }\n",
       "</style>\n",
       "<table border=\"1\" class=\"dataframe\">\n",
       "  <thead>\n",
       "    <tr style=\"text-align: right;\">\n",
       "      <th></th>\n",
       "      <th>prec_num</th>\n",
       "      <th>avcb_num</th>\n",
       "    </tr>\n",
       "  </thead>\n",
       "  <tbody>\n",
       "    <tr>\n",
       "      <th>0</th>\n",
       "      <td>1</td>\n",
       "      <td>21</td>\n",
       "    </tr>\n",
       "    <tr>\n",
       "      <th>1</th>\n",
       "      <td>2</td>\n",
       "      <td>21</td>\n",
       "    </tr>\n",
       "    <tr>\n",
       "      <th>2</th>\n",
       "      <td>3</td>\n",
       "      <td>21</td>\n",
       "    </tr>\n",
       "    <tr>\n",
       "      <th>3</th>\n",
       "      <td>4</td>\n",
       "      <td>22</td>\n",
       "    </tr>\n",
       "    <tr>\n",
       "      <th>4</th>\n",
       "      <td>5</td>\n",
       "      <td>13</td>\n",
       "    </tr>\n",
       "    <tr>\n",
       "      <th>...</th>\n",
       "      <td>...</td>\n",
       "      <td>...</td>\n",
       "    </tr>\n",
       "    <tr>\n",
       "      <th>485</th>\n",
       "      <td>486</td>\n",
       "      <td>65</td>\n",
       "    </tr>\n",
       "    <tr>\n",
       "      <th>486</th>\n",
       "      <td>487</td>\n",
       "      <td>166</td>\n",
       "    </tr>\n",
       "    <tr>\n",
       "      <th>487</th>\n",
       "      <td>488</td>\n",
       "      <td>74</td>\n",
       "    </tr>\n",
       "    <tr>\n",
       "      <th>488</th>\n",
       "      <td>489</td>\n",
       "      <td>86</td>\n",
       "    </tr>\n",
       "    <tr>\n",
       "      <th>489</th>\n",
       "      <td>490</td>\n",
       "      <td>95</td>\n",
       "    </tr>\n",
       "  </tbody>\n",
       "</table>\n",
       "<p>490 rows × 2 columns</p>\n",
       "</div>"
      ],
      "text/plain": [
       "     prec_num avcb_num\n",
       "0           1       21\n",
       "1           2       21\n",
       "2           3       21\n",
       "3           4       22\n",
       "4           5       13\n",
       "..        ...      ...\n",
       "485       486       65\n",
       "486       487      166\n",
       "487       488       74\n",
       "488       489       86\n",
       "489       490       95\n",
       "\n",
       "[490 rows x 2 columns]"
      ]
     },
     "execution_count": 21,
     "metadata": {},
     "output_type": "execute_result"
    }
   ],
   "source": [
    "avcb_csv = pd.read_csv('./raw-from-source/detroit16_readable.csv', names=['prec_num', 'avcb_num'])\n",
    "avcb_csv"
   ]
  },
  {
   "cell_type": "code",
   "execution_count": 26,
   "metadata": {},
   "outputs": [],
   "source": [
    "avcb_csv_dict = dict(zip(avcb_csv[\"prec_num\"],avcb_csv[\"avcb_num\"]))"
   ]
  },
  {
   "cell_type": "markdown",
   "metadata": {},
   "source": [
    "Notice that\n",
    "- precinct # - 900 = precinctid from csv -\n",
    "\n",
    "Make into dictionary, use .loc to apply to precinct_number, then make new VTD 2016"
   ]
  },
  {
   "cell_type": "markdown",
   "metadata": {},
   "source": [
    "# Peter additions:"
   ]
  },
  {
   "cell_type": "code",
   "execution_count": 27,
   "metadata": {},
   "outputs": [
    {
     "name": "stdout",
     "output_type": "stream",
     "text": [
      "     candidate_id  county_code  city_town_code  ward_number  precinct_number  \\\n",
      "378           378           14              18            0                1   \n",
      "\n",
      "    precinct_label  G16PREGSte  G16PREDCli  G16PRERTru  G16PRELJoh  G16PREOth  \\\n",
      "378                         13         279         736          53          6   \n",
      "\n",
      "    county_name county_fips  city_town_name     county_city_id  jurisd  \\\n",
      "378        CASS         027  ONTWA TOWNSHIP  027ONTWA TOWNSHIP   60900   \n",
      "\n",
      "     VTD2016_draft        VTD2016  \n",
      "378  0276090000001  0276090000001  \n"
     ]
    }
   ],
   "source": [
    "print(df_pivot[df_pivot[\"candidate_id\"]==378])"
   ]
  },
  {
   "cell_type": "code",
   "execution_count": 28,
   "metadata": {},
   "outputs": [],
   "source": [
    "#sum(df_pivot['G16PREGSte'][df_pivot['VTD2016']=='0276090000001'])"
   ]
  },
  {
   "cell_type": "code",
   "execution_count": 26,
   "metadata": {},
   "outputs": [],
   "source": [
    "#sum((df_pivot['G16PREGSte'][df_pivot['VTD2016_']=='0276090000001']),(df_pivot['G16PREGSte'][df_pivot['VTD2016_draft']=='0276090000901AVCB']))"
   ]
  },
  {
   "cell_type": "code",
   "execution_count": 31,
   "metadata": {},
   "outputs": [],
   "source": [
    "#replace avcb values for non-detroit locations\n",
    "df_pivot.loc[(df_pivot['VTD2016_draft'].str.endswith('AVCB'))&(df_pivot['city_town_name']!='DETROIT CITY'), 'VTD2016']= df_pivot['VTD2016_draft'].str.slice(stop=-7)+ '0'+df_pivot['VTD2016_draft'].str.slice(start=-6,stop=-4) "
   ]
  },
  {
   "cell_type": "code",
   "execution_count": 27,
   "metadata": {},
   "outputs": [],
   "source": [
    "\n",
    "#BELOW IS AN EMPTY LIST - CUT THIS OUT\n",
    "double_avcb_id = list(df_pivot['VTD2016'].value_counts()[df_pivot['VTD2016'].value_counts()>1].index)\n",
    "\n",
    "column_list = ['G16PREDCli', 'G16PRERTru', 'G16PREGSte', 'G16PRELJoh', 'G16PREOth']\n",
    "\n",
    "df_no_avcb = df_pivot.copy()\n",
    "for double_id in double_avcb_id:\n",
    "    for candidate in column_list:\n",
    "        df_no_avcb.loc[((df_no_avcb['VTD2016']==double_id)&(~df_no_avcb['VTD2016_draft'].str.contains('AVCB'))), candidate] = sum(df_no_avcb[candidate][df_no_avcb['VTD2016']==double_id])\n",
    "        #print(double_id, candidate, sum(df_no_avcb[candidate][df_no_avcb['VTD2016']==double_id]))\n",
    "\n"
   ]
  },
  {
   "cell_type": "code",
   "execution_count": 36,
   "metadata": {},
   "outputs": [],
   "source": [
    "#pull from above\n",
    "df_no_avcb = df_pivot.copy()"
   ]
  },
  {
   "cell_type": "code",
   "execution_count": 39,
   "metadata": {},
   "outputs": [],
   "source": [
    "#filter out rows taht were just added. Still include avcbs from wayne county\n",
    "df_no_avcb = df_no_avcb[~((df_no_avcb['precinct_label']=='AVCB')&(df_no_avcb['county_name']!='WAYNE'))]"
   ]
  },
  {
   "cell_type": "code",
   "execution_count": 40,
   "metadata": {},
   "outputs": [
    {
     "data": {
      "text/html": [
       "<div>\n",
       "<style scoped>\n",
       "    .dataframe tbody tr th:only-of-type {\n",
       "        vertical-align: middle;\n",
       "    }\n",
       "\n",
       "    .dataframe tbody tr th {\n",
       "        vertical-align: top;\n",
       "    }\n",
       "\n",
       "    .dataframe thead th {\n",
       "        text-align: right;\n",
       "    }\n",
       "</style>\n",
       "<table border=\"1\" class=\"dataframe\">\n",
       "  <thead>\n",
       "    <tr style=\"text-align: right;\">\n",
       "      <th></th>\n",
       "      <th>candidate_id</th>\n",
       "      <th>county_code</th>\n",
       "      <th>city_town_code</th>\n",
       "      <th>ward_number</th>\n",
       "      <th>precinct_number</th>\n",
       "      <th>precinct_label</th>\n",
       "      <th>G16PREGSte</th>\n",
       "      <th>G16PREDCli</th>\n",
       "      <th>G16PRERTru</th>\n",
       "      <th>G16PRELJoh</th>\n",
       "      <th>G16PREOth</th>\n",
       "      <th>county_name</th>\n",
       "      <th>county_fips</th>\n",
       "      <th>city_town_name</th>\n",
       "      <th>county_city_id</th>\n",
       "      <th>jurisd</th>\n",
       "      <th>VTD2016_draft</th>\n",
       "      <th>VTD2016</th>\n",
       "    </tr>\n",
       "  </thead>\n",
       "  <tbody>\n",
       "    <tr>\n",
       "      <th>0</th>\n",
       "      <td>0</td>\n",
       "      <td>1</td>\n",
       "      <td>2</td>\n",
       "      <td>0</td>\n",
       "      <td>1</td>\n",
       "      <td></td>\n",
       "      <td>2</td>\n",
       "      <td>199</td>\n",
       "      <td>500</td>\n",
       "      <td>13</td>\n",
       "      <td>4</td>\n",
       "      <td>ALCONA</td>\n",
       "      <td>001</td>\n",
       "      <td>ALCONA TOWNSHIP</td>\n",
       "      <td>001ALCONA TOWNSHIP</td>\n",
       "      <td>1040</td>\n",
       "      <td>0010104000001</td>\n",
       "      <td>0010104000001</td>\n",
       "    </tr>\n",
       "    <tr>\n",
       "      <th>1</th>\n",
       "      <td>1</td>\n",
       "      <td>1</td>\n",
       "      <td>4</td>\n",
       "      <td>0</td>\n",
       "      <td>1</td>\n",
       "      <td></td>\n",
       "      <td>4</td>\n",
       "      <td>178</td>\n",
       "      <td>441</td>\n",
       "      <td>14</td>\n",
       "      <td>5</td>\n",
       "      <td>ALCONA</td>\n",
       "      <td>001</td>\n",
       "      <td>CALEDONIA TOWNSHIP</td>\n",
       "      <td>001CALEDONIA TOWNSHIP</td>\n",
       "      <td>12460</td>\n",
       "      <td>0011246000001</td>\n",
       "      <td>0011246000001</td>\n",
       "    </tr>\n",
       "    <tr>\n",
       "      <th>2</th>\n",
       "      <td>2</td>\n",
       "      <td>1</td>\n",
       "      <td>6</td>\n",
       "      <td>0</td>\n",
       "      <td>1</td>\n",
       "      <td></td>\n",
       "      <td>13</td>\n",
       "      <td>214</td>\n",
       "      <td>401</td>\n",
       "      <td>8</td>\n",
       "      <td>3</td>\n",
       "      <td>ALCONA</td>\n",
       "      <td>001</td>\n",
       "      <td>CURTIS TOWNSHIP</td>\n",
       "      <td>001CURTIS TOWNSHIP</td>\n",
       "      <td>19320</td>\n",
       "      <td>0011932000001</td>\n",
       "      <td>0011932000001</td>\n",
       "    </tr>\n",
       "    <tr>\n",
       "      <th>3</th>\n",
       "      <td>3</td>\n",
       "      <td>1</td>\n",
       "      <td>8</td>\n",
       "      <td>0</td>\n",
       "      <td>1</td>\n",
       "      <td></td>\n",
       "      <td>4</td>\n",
       "      <td>256</td>\n",
       "      <td>501</td>\n",
       "      <td>22</td>\n",
       "      <td>2</td>\n",
       "      <td>ALCONA</td>\n",
       "      <td>001</td>\n",
       "      <td>GREENBUSH TOWNSHIP</td>\n",
       "      <td>001GREENBUSH TOWNSHIP</td>\n",
       "      <td>34820</td>\n",
       "      <td>0013482000001</td>\n",
       "      <td>0013482000001</td>\n",
       "    </tr>\n",
       "    <tr>\n",
       "      <th>4</th>\n",
       "      <td>4</td>\n",
       "      <td>1</td>\n",
       "      <td>10</td>\n",
       "      <td>0</td>\n",
       "      <td>1</td>\n",
       "      <td></td>\n",
       "      <td>6</td>\n",
       "      <td>80</td>\n",
       "      <td>249</td>\n",
       "      <td>16</td>\n",
       "      <td>1</td>\n",
       "      <td>ALCONA</td>\n",
       "      <td>001</td>\n",
       "      <td>GUSTIN TOWNSHIP</td>\n",
       "      <td>001GUSTIN TOWNSHIP</td>\n",
       "      <td>35740</td>\n",
       "      <td>0013574000001</td>\n",
       "      <td>0013574000001</td>\n",
       "    </tr>\n",
       "    <tr>\n",
       "      <th>...</th>\n",
       "      <td>...</td>\n",
       "      <td>...</td>\n",
       "      <td>...</td>\n",
       "      <td>...</td>\n",
       "      <td>...</td>\n",
       "      <td>...</td>\n",
       "      <td>...</td>\n",
       "      <td>...</td>\n",
       "      <td>...</td>\n",
       "      <td>...</td>\n",
       "      <td>...</td>\n",
       "      <td>...</td>\n",
       "      <td>...</td>\n",
       "      <td>...</td>\n",
       "      <td>...</td>\n",
       "      <td>...</td>\n",
       "      <td>...</td>\n",
       "      <td>...</td>\n",
       "    </tr>\n",
       "    <tr>\n",
       "      <th>5072</th>\n",
       "      <td>5072</td>\n",
       "      <td>83</td>\n",
       "      <td>52</td>\n",
       "      <td>0</td>\n",
       "      <td>1</td>\n",
       "      <td></td>\n",
       "      <td>25</td>\n",
       "      <td>456</td>\n",
       "      <td>792</td>\n",
       "      <td>53</td>\n",
       "      <td>6</td>\n",
       "      <td>WEXFORD</td>\n",
       "      <td>165</td>\n",
       "      <td>CADILLAC CITY</td>\n",
       "      <td>165CADILLAC CITY</td>\n",
       "      <td>12320</td>\n",
       "      <td>1651232000001</td>\n",
       "      <td>1651232000001</td>\n",
       "    </tr>\n",
       "    <tr>\n",
       "      <th>5073</th>\n",
       "      <td>5073</td>\n",
       "      <td>83</td>\n",
       "      <td>52</td>\n",
       "      <td>0</td>\n",
       "      <td>2</td>\n",
       "      <td></td>\n",
       "      <td>28</td>\n",
       "      <td>440</td>\n",
       "      <td>800</td>\n",
       "      <td>60</td>\n",
       "      <td>13</td>\n",
       "      <td>WEXFORD</td>\n",
       "      <td>165</td>\n",
       "      <td>CADILLAC CITY</td>\n",
       "      <td>165CADILLAC CITY</td>\n",
       "      <td>12320</td>\n",
       "      <td>1651232000002</td>\n",
       "      <td>1651232000002</td>\n",
       "    </tr>\n",
       "    <tr>\n",
       "      <th>5074</th>\n",
       "      <td>5074</td>\n",
       "      <td>83</td>\n",
       "      <td>52</td>\n",
       "      <td>0</td>\n",
       "      <td>3</td>\n",
       "      <td></td>\n",
       "      <td>23</td>\n",
       "      <td>498</td>\n",
       "      <td>869</td>\n",
       "      <td>55</td>\n",
       "      <td>9</td>\n",
       "      <td>WEXFORD</td>\n",
       "      <td>165</td>\n",
       "      <td>CADILLAC CITY</td>\n",
       "      <td>165CADILLAC CITY</td>\n",
       "      <td>12320</td>\n",
       "      <td>1651232000003</td>\n",
       "      <td>1651232000003</td>\n",
       "    </tr>\n",
       "    <tr>\n",
       "      <th>5075</th>\n",
       "      <td>5075</td>\n",
       "      <td>83</td>\n",
       "      <td>54</td>\n",
       "      <td>0</td>\n",
       "      <td>1</td>\n",
       "      <td></td>\n",
       "      <td>5</td>\n",
       "      <td>132</td>\n",
       "      <td>304</td>\n",
       "      <td>27</td>\n",
       "      <td>3</td>\n",
       "      <td>WEXFORD</td>\n",
       "      <td>165</td>\n",
       "      <td>MANTON CITY</td>\n",
       "      <td>165MANTON CITY</td>\n",
       "      <td>50880</td>\n",
       "      <td>1655088000001</td>\n",
       "      <td>1655088000001</td>\n",
       "    </tr>\n",
       "    <tr>\n",
       "      <th>5076</th>\n",
       "      <td>5076</td>\n",
       "      <td>83</td>\n",
       "      <td>9999</td>\n",
       "      <td>0</td>\n",
       "      <td>9999</td>\n",
       "      <td></td>\n",
       "      <td>0</td>\n",
       "      <td>0</td>\n",
       "      <td>0</td>\n",
       "      <td>0</td>\n",
       "      <td>19</td>\n",
       "      <td>WEXFORD</td>\n",
       "      <td>165</td>\n",
       "      <td>{Statistical Adjustments}</td>\n",
       "      <td>165{Statistical Adjustments}</td>\n",
       "      <td>0</td>\n",
       "      <td>16500000009999</td>\n",
       "      <td>16500000009999</td>\n",
       "    </tr>\n",
       "  </tbody>\n",
       "</table>\n",
       "<p>5039 rows × 18 columns</p>\n",
       "</div>"
      ],
      "text/plain": [
       "      candidate_id  county_code  city_town_code  ward_number  precinct_number  \\\n",
       "0                0            1               2            0                1   \n",
       "1                1            1               4            0                1   \n",
       "2                2            1               6            0                1   \n",
       "3                3            1               8            0                1   \n",
       "4                4            1              10            0                1   \n",
       "...            ...          ...             ...          ...              ...   \n",
       "5072          5072           83              52            0                1   \n",
       "5073          5073           83              52            0                2   \n",
       "5074          5074           83              52            0                3   \n",
       "5075          5075           83              54            0                1   \n",
       "5076          5076           83            9999            0             9999   \n",
       "\n",
       "     precinct_label  G16PREGSte  G16PREDCli  G16PRERTru  G16PRELJoh  \\\n",
       "0                             2         199         500          13   \n",
       "1                             4         178         441          14   \n",
       "2                            13         214         401           8   \n",
       "3                             4         256         501          22   \n",
       "4                             6          80         249          16   \n",
       "...             ...         ...         ...         ...         ...   \n",
       "5072                         25         456         792          53   \n",
       "5073                         28         440         800          60   \n",
       "5074                         23         498         869          55   \n",
       "5075                          5         132         304          27   \n",
       "5076                          0           0           0           0   \n",
       "\n",
       "      G16PREOth county_name county_fips             city_town_name  \\\n",
       "0             4      ALCONA         001            ALCONA TOWNSHIP   \n",
       "1             5      ALCONA         001         CALEDONIA TOWNSHIP   \n",
       "2             3      ALCONA         001            CURTIS TOWNSHIP   \n",
       "3             2      ALCONA         001         GREENBUSH TOWNSHIP   \n",
       "4             1      ALCONA         001            GUSTIN TOWNSHIP   \n",
       "...         ...         ...         ...                        ...   \n",
       "5072          6     WEXFORD         165              CADILLAC CITY   \n",
       "5073         13     WEXFORD         165              CADILLAC CITY   \n",
       "5074          9     WEXFORD         165              CADILLAC CITY   \n",
       "5075          3     WEXFORD         165                MANTON CITY   \n",
       "5076         19     WEXFORD         165  {Statistical Adjustments}   \n",
       "\n",
       "                    county_city_id  jurisd   VTD2016_draft         VTD2016  \n",
       "0               001ALCONA TOWNSHIP    1040   0010104000001   0010104000001  \n",
       "1            001CALEDONIA TOWNSHIP   12460   0011246000001   0011246000001  \n",
       "2               001CURTIS TOWNSHIP   19320   0011932000001   0011932000001  \n",
       "3            001GREENBUSH TOWNSHIP   34820   0013482000001   0013482000001  \n",
       "4               001GUSTIN TOWNSHIP   35740   0013574000001   0013574000001  \n",
       "...                            ...     ...             ...             ...  \n",
       "5072              165CADILLAC CITY   12320   1651232000001   1651232000001  \n",
       "5073              165CADILLAC CITY   12320   1651232000002   1651232000002  \n",
       "5074              165CADILLAC CITY   12320   1651232000003   1651232000003  \n",
       "5075                165MANTON CITY   50880   1655088000001   1655088000001  \n",
       "5076  165{Statistical Adjustments}       0  16500000009999  16500000009999  \n",
       "\n",
       "[5039 rows x 18 columns]"
      ]
     },
     "execution_count": 40,
     "metadata": {},
     "output_type": "execute_result"
    }
   ],
   "source": [
    "df_no_avcb[~((df_no_avcb['precinct_label']=='AVCB')&(df_no_avcb['county_name']!='WAYNE'))]"
   ]
  },
  {
   "cell_type": "code",
   "execution_count": 41,
   "metadata": {},
   "outputs": [],
   "source": [
    "#Split up the AVCB, statistical adjustments, and precinct level votes, to both check the join and for the allocation work that needs to be done\n",
    "avcb = df_pivot[df_pivot['precinct_label'].map(lambda x: 'AVCB' in str(x))]\n",
    "\n",
    "stat = df_pivot[df_pivot['city_town_name'].map(lambda x: 'Statistical Adjustments' in str(x))]\n",
    "\n",
    "df_no_avcb_or_stat = df_pivot[(df_pivot['precinct_label'].map(lambda x: 'AVCB' not in str(x))) & \n",
    "                              (df_pivot['city_town_name'].map(lambda x: 'Statistical Adjustments' not in str(x)))]"
   ]
  },
  {
   "cell_type": "code",
   "execution_count": 32,
   "metadata": {},
   "outputs": [
    {
     "data": {
      "text/plain": [
       "array(['CASS', 'CLINTON', 'GLADWIN', 'LAPEER', 'ST. CLAIR', 'WAYNE'],\n",
       "      dtype=object)"
      ]
     },
     "execution_count": 32,
     "metadata": {},
     "output_type": "execute_result"
    }
   ],
   "source": [
    "avcb[\"county_name\"].unique()"
   ]
  },
  {
   "cell_type": "code",
   "execution_count": 33,
   "metadata": {},
   "outputs": [],
   "source": [
    "avcb_wayne = avcb[avcb[\"county_name\"]==\"WAYNE\"]\n",
    "avcb_not_wayne = avcb[avcb[\"county_name\"]!=\"WAYNE\"]\n",
    "print(avcb_not_wayne)"
   ]
  },
  {
   "cell_type": "code",
   "execution_count": 36,
   "metadata": {},
   "outputs": [
    {
     "name": "stdout",
     "output_type": "stream",
     "text": [
      "['0276090000001', '0277394000001', '0372412000001', '0511218000001', '0874606000001', '0874606000002', '1471618000001', '1471618000003', '1471618000004', '1471618000005', '1472382000001', '1472382000002', '1474092000001', '1474092000002', '1474092000003', '1476584000001', '1476584000002', '1476584000003', '1476584000004', '1476584000005', '1477070000001', '1477070000002', '1475208000001', '1475208000002', '1475208000003', '1476582000001', '1476582000002', '1476582000003', '1476582000004', '1476582000005', '1476582000006', '1476582000007', '1476582000008', '1476582000009', '1476582000010', '1477068000001', '1477068000002', '1477068000003']\n"
     ]
    }
   ],
   "source": [
    "#print(avcb_not_wayne[\"VTD2016\"])\n",
    "##WHY IS THIS CALLED NO LIST\n",
    "no_list = list(avcb_not_wayne[\"VTD2016\"])\n",
    "print(no_list)"
   ]
  },
  {
   "cell_type": "markdown",
   "metadata": {},
   "source": [
    "0452452000001 (V) ..618  (S)..290 (D): -328\n",
    "G16PRERTru ...........................................................0452452000001 (V) .1027  (S)..554 (D): -473\n",
    "G16PREDCli ...........................................................0452452000002 (V) ..165  (S)..449 (D):  284\n",
    "G16PRERTru ...........................................................0452452000002 (V) ..361  (S)..751 (D):  390\n",
    "G16PREDCli ...........................................................0452456000001 (V) ..290  (S)..618 (D):  328\n",
    "G16PRERTru ...........................................................0452456000001 (V) ..554  (S).1027 (D):  473\n",
    "G16PREDCli ...........................................................0452456000002 (V) ..449  (S)..165 (D): -284\n",
    "G16PRERTru ...........................................................0452456000002 (V) ..751  (S)..361 (D): -390\n",
    "G16PREDCli ...........................................................1155390000001 (V) ..288  (S)..426 (D):  138\n",
    "G16PREDCli ...........................................................1155392000001 (V) ..426  (S)..288 (D): -138\n",
    "G16PREDCli ...........................................................1632200003083 (V) ..806  (S)..705 (D): -101\n",
    "G16PREDCli ...........................................................1632200003084 (V) ..843  (S)..737 (D): -106\n",
    "G16PREDCli ...........................................................1632200004106 (V) .1144  (S).1259 (D):  115\n",
    "G16PREDCli ...........................................................1632200005123 (V) ..722  (S)..852 (D):  130\n",
    "G16PREDCli ...........................................................1632200005124 (V) ..797  (S).1001 (D):  204\n",
    "G16PREDCli ...........................................................1632200005125 (V) .1020  (S).1314 (D):  294\n",
    "G16PREDCli ...........................................................1632200005127 (V) .1382  (S).1514 (D):  132\n",
    "G16PREDCli ...........................................................1632200005132 (V) ..710  (S).1115 (D):  405\n",
    "G16PREDCli ...........................................................1632200002245 (V) ..726  (S)..851 (D):  125\n",
    "G16PREDCli ...........................................................1632200002257 (V) ..878  (S).1057 (D):  179\n",
    "G16PREDCli ...........................................................1632200001308 (V) .1136  (S).1247 (D):  111\n",
    "G16PREDCli ...........................................................1632200007410"
   ]
  },
  {
   "cell_type": "code",
   "execution_count": 37,
   "metadata": {},
   "outputs": [
    {
     "name": "stdout",
     "output_type": "stream",
     "text": [
      "0372412000001\n"
     ]
    }
   ],
   "source": [
    "df_no_avcb_or_stat[df_no_avcb_or_stat[\"VTD2016\"].isin(no_list)]\n",
    "for i in no_list:\n",
    "    if i not in list(df_no_avcb_or_stat[\"VTD2016\"]):\n",
    "        print(i)"
   ]
  },
  {
   "cell_type": "code",
   "execution_count": 38,
   "metadata": {},
   "outputs": [
    {
     "name": "stdout",
     "output_type": "stream",
     "text": [
      "           VTD2016           Label  G16PREDCli  G16PRERTru  G16PREGSte  \\\n",
      "612  0452452000001  Eaton Township         290         554          11   \n",
      "\n",
      "     G16PRELJoh  G16PREOth                                           geometry  \n",
      "612          54          7  POLYGON ((-84.71879 42.50945, -84.72859 42.509...  \n",
      "     candidate_id  county_code  city_town_code  ward_number  precinct_number  \\\n",
      "584           584           23              14            0                1   \n",
      "\n",
      "    precinct_label  G16PREGSte  G16PREDCli  G16PRERTru  G16PRELJoh  G16PREOth  \\\n",
      "584                          7         618        1027          69          9   \n",
      "\n",
      "    county_name county_fips  city_town_name     county_city_id  jurisd  \\\n",
      "584       EATON         045  EATON TOWNSHIP  045EATON TOWNSHIP   24520   \n",
      "\n",
      "     VTD2016_draft        VTD2016  \n",
      "584  0452452000001  0452452000001  \n"
     ]
    }
   ],
   "source": [
    "print(gdfv.loc[gdfv[\"VTD2016\"]=='0452452000001'])\n",
    "print(df_no_avcb_or_stat.loc[df_no_avcb_or_stat[\"VTD2016\"]=='0452452000001'])"
   ]
  },
  {
   "cell_type": "code",
   "execution_count": 39,
   "metadata": {},
   "outputs": [
    {
     "name": "stdout",
     "output_type": "stream",
     "text": [
      "           VTD2016           Label  G16PREDCli  G16PRERTru  G16PREGSte  \\\n",
      "416  0276090000001  Ontwa Township         539        1272          20   \n",
      "\n",
      "     G16PRELJoh  G16PREOth                                           geometry  \n",
      "416          79         15  POLYGON ((-86.04468 41.81071, -86.04469 41.807...  \n",
      "     candidate_id  county_code  city_town_code  ward_number  precinct_number  \\\n",
      "378           378           14              18            0                1   \n",
      "\n",
      "    precinct_label  G16PREGSte  G16PREDCli  G16PRERTru  G16PRELJoh  G16PREOth  \\\n",
      "378                         13         279         736          53          6   \n",
      "\n",
      "    county_name county_fips  city_town_name     county_city_id  jurisd  \\\n",
      "378        CASS         027  ONTWA TOWNSHIP  027ONTWA TOWNSHIP   60900   \n",
      "\n",
      "     VTD2016_draft        VTD2016  \n",
      "378  0276090000001  0276090000001  \n",
      "     candidate_id  county_code  city_town_code  ward_number  precinct_number  \\\n",
      "380           380           14              18            0              901   \n",
      "\n",
      "    precinct_label  G16PREGSte  G16PREDCli  G16PRERTru  G16PRELJoh  G16PREOth  \\\n",
      "380           AVCB           7         260         536          26          7   \n",
      "\n",
      "    county_name county_fips  city_town_name     county_city_id  jurisd  \\\n",
      "380        CASS         027  ONTWA TOWNSHIP  027ONTWA TOWNSHIP   60900   \n",
      "\n",
      "         VTD2016_draft        VTD2016  \n",
      "380  0276090000901AVCB  0276090000001  \n"
     ]
    }
   ],
   "source": [
    "print(gdfv.loc[gdfv[\"VTD2016\"]==\"0276090000001\"])\n",
    "print(df_no_avcb_or_stat.loc[df_no_avcb_or_stat[\"VTD2016\"]==\"0276090000001\",])\n",
    "print(avcb_not_wayne.loc[avcb_not_wayne[\"VTD2016\"]==\"0276090000001\",])\n",
    "\n"
   ]
  },
  {
   "cell_type": "code",
   "execution_count": 40,
   "metadata": {},
   "outputs": [
    {
     "name": "stderr",
     "output_type": "stream",
     "text": [
      "/Users/lilyfalk/anaconda3/envs/pdv_env/lib/python3.9/site-packages/pandas/core/indexing.py:1676: SettingWithCopyWarning: \n",
      "A value is trying to be set on a copy of a slice from a DataFrame.\n",
      "Try using .loc[row_indexer,col_indexer] = value instead\n",
      "\n",
      "See the caveats in the documentation: https://pandas.pydata.org/pandas-docs/stable/user_guide/indexing.html#returning-a-view-versus-a-copy\n",
      "  self._setitem_single_column(ilocs[0], value, pi)\n"
     ]
    }
   ],
   "source": [
    "data_columns = [\"G16PREGSte\",\"G16PREDCli\",\"G16PRERTru\",\"G16PRELJoh\",\"G16PREOth\"]\n",
    "\n",
    "\n",
    "for i in no_list:\n",
    "    if i =='0372412000001':\n",
    "        df_id = '0372412000017'\n",
    "    else:\n",
    "        df_id = i\n",
    "    for cand in data_columns:\n",
    "        df_no_avcb_or_stat.loc[df_no_avcb_or_stat[\"VTD2016\"]==df_id,cand]+=int(avcb_not_wayne.loc[avcb_not_wayne[\"VTD2016\"]==i,cand])"
   ]
  },
  {
   "cell_type": "code",
   "execution_count": 41,
   "metadata": {},
   "outputs": [],
   "source": [
    "precincts_detroit = df_no_avcb_or_stat[df_no_avcb_or_stat[\"city_town_name\"]==\"DETROIT CITY\"]\n",
    "df_no_avcb_or_stat = df_no_avcb_or_stat[df_no_avcb_or_stat[\"city_town_name\"]!=\"DETROIT CITY\"]"
   ]
  },
  {
   "cell_type": "code",
   "execution_count": 42,
   "metadata": {},
   "outputs": [
    {
     "data": {
      "text/html": [
       "<div>\n",
       "<style scoped>\n",
       "    .dataframe tbody tr th:only-of-type {\n",
       "        vertical-align: middle;\n",
       "    }\n",
       "\n",
       "    .dataframe tbody tr th {\n",
       "        vertical-align: top;\n",
       "    }\n",
       "\n",
       "    .dataframe thead th {\n",
       "        text-align: right;\n",
       "    }\n",
       "</style>\n",
       "<table border=\"1\" class=\"dataframe\">\n",
       "  <thead>\n",
       "    <tr style=\"text-align: right;\">\n",
       "      <th></th>\n",
       "      <th>candidate_id</th>\n",
       "      <th>county_code</th>\n",
       "      <th>city_town_code</th>\n",
       "      <th>ward_number</th>\n",
       "      <th>precinct_number</th>\n",
       "      <th>precinct_label</th>\n",
       "      <th>G16PREGSte</th>\n",
       "      <th>G16PREDCli</th>\n",
       "      <th>G16PRERTru</th>\n",
       "      <th>G16PRELJoh</th>\n",
       "      <th>G16PREOth</th>\n",
       "      <th>county_name</th>\n",
       "      <th>county_fips</th>\n",
       "      <th>city_town_name</th>\n",
       "      <th>county_city_id</th>\n",
       "      <th>jurisd</th>\n",
       "      <th>VTD2016_draft</th>\n",
       "      <th>VTD2016</th>\n",
       "    </tr>\n",
       "  </thead>\n",
       "  <tbody>\n",
       "    <tr>\n",
       "      <th>4106</th>\n",
       "      <td>4106</td>\n",
       "      <td>82</td>\n",
       "      <td>57</td>\n",
       "      <td>0</td>\n",
       "      <td>1</td>\n",
       "      <td></td>\n",
       "      <td>1</td>\n",
       "      <td>272</td>\n",
       "      <td>10</td>\n",
       "      <td>1</td>\n",
       "      <td>1</td>\n",
       "      <td>WAYNE</td>\n",
       "      <td>163</td>\n",
       "      <td>DETROIT CITY</td>\n",
       "      <td>163DETROIT CITY</td>\n",
       "      <td>22000</td>\n",
       "      <td>1632200000001</td>\n",
       "      <td>1632200005001</td>\n",
       "    </tr>\n",
       "    <tr>\n",
       "      <th>4107</th>\n",
       "      <td>4107</td>\n",
       "      <td>82</td>\n",
       "      <td>57</td>\n",
       "      <td>0</td>\n",
       "      <td>2</td>\n",
       "      <td></td>\n",
       "      <td>6</td>\n",
       "      <td>398</td>\n",
       "      <td>12</td>\n",
       "      <td>10</td>\n",
       "      <td>2</td>\n",
       "      <td>WAYNE</td>\n",
       "      <td>163</td>\n",
       "      <td>DETROIT CITY</td>\n",
       "      <td>163DETROIT CITY</td>\n",
       "      <td>22000</td>\n",
       "      <td>1632200000002</td>\n",
       "      <td>1632200005002</td>\n",
       "    </tr>\n",
       "    <tr>\n",
       "      <th>4108</th>\n",
       "      <td>4108</td>\n",
       "      <td>82</td>\n",
       "      <td>57</td>\n",
       "      <td>0</td>\n",
       "      <td>3</td>\n",
       "      <td></td>\n",
       "      <td>0</td>\n",
       "      <td>460</td>\n",
       "      <td>7</td>\n",
       "      <td>2</td>\n",
       "      <td>2</td>\n",
       "      <td>WAYNE</td>\n",
       "      <td>163</td>\n",
       "      <td>DETROIT CITY</td>\n",
       "      <td>163DETROIT CITY</td>\n",
       "      <td>22000</td>\n",
       "      <td>1632200000003</td>\n",
       "      <td>1632200005003</td>\n",
       "    </tr>\n",
       "    <tr>\n",
       "      <th>4109</th>\n",
       "      <td>4109</td>\n",
       "      <td>82</td>\n",
       "      <td>57</td>\n",
       "      <td>0</td>\n",
       "      <td>4</td>\n",
       "      <td></td>\n",
       "      <td>1</td>\n",
       "      <td>284</td>\n",
       "      <td>5</td>\n",
       "      <td>1</td>\n",
       "      <td>0</td>\n",
       "      <td>WAYNE</td>\n",
       "      <td>163</td>\n",
       "      <td>DETROIT CITY</td>\n",
       "      <td>163DETROIT CITY</td>\n",
       "      <td>22000</td>\n",
       "      <td>1632200000004</td>\n",
       "      <td>1632200004004</td>\n",
       "    </tr>\n",
       "    <tr>\n",
       "      <th>4110</th>\n",
       "      <td>4110</td>\n",
       "      <td>82</td>\n",
       "      <td>57</td>\n",
       "      <td>0</td>\n",
       "      <td>5</td>\n",
       "      <td></td>\n",
       "      <td>0</td>\n",
       "      <td>322</td>\n",
       "      <td>9</td>\n",
       "      <td>1</td>\n",
       "      <td>1</td>\n",
       "      <td>WAYNE</td>\n",
       "      <td>163</td>\n",
       "      <td>DETROIT CITY</td>\n",
       "      <td>163DETROIT CITY</td>\n",
       "      <td>22000</td>\n",
       "      <td>1632200000005</td>\n",
       "      <td>1632200004005</td>\n",
       "    </tr>\n",
       "    <tr>\n",
       "      <th>...</th>\n",
       "      <td>...</td>\n",
       "      <td>...</td>\n",
       "      <td>...</td>\n",
       "      <td>...</td>\n",
       "      <td>...</td>\n",
       "      <td>...</td>\n",
       "      <td>...</td>\n",
       "      <td>...</td>\n",
       "      <td>...</td>\n",
       "      <td>...</td>\n",
       "      <td>...</td>\n",
       "      <td>...</td>\n",
       "      <td>...</td>\n",
       "      <td>...</td>\n",
       "      <td>...</td>\n",
       "      <td>...</td>\n",
       "      <td>...</td>\n",
       "      <td>...</td>\n",
       "    </tr>\n",
       "    <tr>\n",
       "      <th>4591</th>\n",
       "      <td>4591</td>\n",
       "      <td>82</td>\n",
       "      <td>57</td>\n",
       "      <td>0</td>\n",
       "      <td>486</td>\n",
       "      <td></td>\n",
       "      <td>1</td>\n",
       "      <td>123</td>\n",
       "      <td>6</td>\n",
       "      <td>0</td>\n",
       "      <td>0</td>\n",
       "      <td>WAYNE</td>\n",
       "      <td>163</td>\n",
       "      <td>DETROIT CITY</td>\n",
       "      <td>163DETROIT CITY</td>\n",
       "      <td>22000</td>\n",
       "      <td>1632200000486</td>\n",
       "      <td>1632200006486</td>\n",
       "    </tr>\n",
       "    <tr>\n",
       "      <th>4592</th>\n",
       "      <td>4592</td>\n",
       "      <td>82</td>\n",
       "      <td>57</td>\n",
       "      <td>0</td>\n",
       "      <td>487</td>\n",
       "      <td></td>\n",
       "      <td>1</td>\n",
       "      <td>91</td>\n",
       "      <td>15</td>\n",
       "      <td>1</td>\n",
       "      <td>0</td>\n",
       "      <td>WAYNE</td>\n",
       "      <td>163</td>\n",
       "      <td>DETROIT CITY</td>\n",
       "      <td>163DETROIT CITY</td>\n",
       "      <td>22000</td>\n",
       "      <td>1632200000487</td>\n",
       "      <td>1632200006487</td>\n",
       "    </tr>\n",
       "    <tr>\n",
       "      <th>4593</th>\n",
       "      <td>4593</td>\n",
       "      <td>82</td>\n",
       "      <td>57</td>\n",
       "      <td>0</td>\n",
       "      <td>488</td>\n",
       "      <td></td>\n",
       "      <td>3</td>\n",
       "      <td>276</td>\n",
       "      <td>71</td>\n",
       "      <td>4</td>\n",
       "      <td>0</td>\n",
       "      <td>WAYNE</td>\n",
       "      <td>163</td>\n",
       "      <td>DETROIT CITY</td>\n",
       "      <td>163DETROIT CITY</td>\n",
       "      <td>22000</td>\n",
       "      <td>1632200000488</td>\n",
       "      <td>1632200006488</td>\n",
       "    </tr>\n",
       "    <tr>\n",
       "      <th>4594</th>\n",
       "      <td>4594</td>\n",
       "      <td>82</td>\n",
       "      <td>57</td>\n",
       "      <td>0</td>\n",
       "      <td>489</td>\n",
       "      <td></td>\n",
       "      <td>3</td>\n",
       "      <td>120</td>\n",
       "      <td>28</td>\n",
       "      <td>5</td>\n",
       "      <td>0</td>\n",
       "      <td>WAYNE</td>\n",
       "      <td>163</td>\n",
       "      <td>DETROIT CITY</td>\n",
       "      <td>163DETROIT CITY</td>\n",
       "      <td>22000</td>\n",
       "      <td>1632200000489</td>\n",
       "      <td>1632200006489</td>\n",
       "    </tr>\n",
       "    <tr>\n",
       "      <th>4595</th>\n",
       "      <td>4595</td>\n",
       "      <td>82</td>\n",
       "      <td>57</td>\n",
       "      <td>0</td>\n",
       "      <td>490</td>\n",
       "      <td></td>\n",
       "      <td>1</td>\n",
       "      <td>19</td>\n",
       "      <td>0</td>\n",
       "      <td>0</td>\n",
       "      <td>1</td>\n",
       "      <td>WAYNE</td>\n",
       "      <td>163</td>\n",
       "      <td>DETROIT CITY</td>\n",
       "      <td>163DETROIT CITY</td>\n",
       "      <td>22000</td>\n",
       "      <td>1632200000490</td>\n",
       "      <td>1632200001490</td>\n",
       "    </tr>\n",
       "  </tbody>\n",
       "</table>\n",
       "<p>490 rows × 18 columns</p>\n",
       "</div>"
      ],
      "text/plain": [
       "      candidate_id  county_code  city_town_code  ward_number  precinct_number  \\\n",
       "4106          4106           82              57            0                1   \n",
       "4107          4107           82              57            0                2   \n",
       "4108          4108           82              57            0                3   \n",
       "4109          4109           82              57            0                4   \n",
       "4110          4110           82              57            0                5   \n",
       "...            ...          ...             ...          ...              ...   \n",
       "4591          4591           82              57            0              486   \n",
       "4592          4592           82              57            0              487   \n",
       "4593          4593           82              57            0              488   \n",
       "4594          4594           82              57            0              489   \n",
       "4595          4595           82              57            0              490   \n",
       "\n",
       "     precinct_label  G16PREGSte  G16PREDCli  G16PRERTru  G16PRELJoh  \\\n",
       "4106                          1         272          10           1   \n",
       "4107                          6         398          12          10   \n",
       "4108                          0         460           7           2   \n",
       "4109                          1         284           5           1   \n",
       "4110                          0         322           9           1   \n",
       "...             ...         ...         ...         ...         ...   \n",
       "4591                          1         123           6           0   \n",
       "4592                          1          91          15           1   \n",
       "4593                          3         276          71           4   \n",
       "4594                          3         120          28           5   \n",
       "4595                          1          19           0           0   \n",
       "\n",
       "      G16PREOth county_name county_fips city_town_name   county_city_id  \\\n",
       "4106          1       WAYNE         163   DETROIT CITY  163DETROIT CITY   \n",
       "4107          2       WAYNE         163   DETROIT CITY  163DETROIT CITY   \n",
       "4108          2       WAYNE         163   DETROIT CITY  163DETROIT CITY   \n",
       "4109          0       WAYNE         163   DETROIT CITY  163DETROIT CITY   \n",
       "4110          1       WAYNE         163   DETROIT CITY  163DETROIT CITY   \n",
       "...         ...         ...         ...            ...              ...   \n",
       "4591          0       WAYNE         163   DETROIT CITY  163DETROIT CITY   \n",
       "4592          0       WAYNE         163   DETROIT CITY  163DETROIT CITY   \n",
       "4593          0       WAYNE         163   DETROIT CITY  163DETROIT CITY   \n",
       "4594          0       WAYNE         163   DETROIT CITY  163DETROIT CITY   \n",
       "4595          1       WAYNE         163   DETROIT CITY  163DETROIT CITY   \n",
       "\n",
       "      jurisd  VTD2016_draft        VTD2016  \n",
       "4106   22000  1632200000001  1632200005001  \n",
       "4107   22000  1632200000002  1632200005002  \n",
       "4108   22000  1632200000003  1632200005003  \n",
       "4109   22000  1632200000004  1632200004004  \n",
       "4110   22000  1632200000005  1632200004005  \n",
       "...      ...            ...            ...  \n",
       "4591   22000  1632200000486  1632200006486  \n",
       "4592   22000  1632200000487  1632200006487  \n",
       "4593   22000  1632200000488  1632200006488  \n",
       "4594   22000  1632200000489  1632200006489  \n",
       "4595   22000  1632200000490  1632200001490  \n",
       "\n",
       "[490 rows x 18 columns]"
      ]
     },
     "execution_count": 42,
     "metadata": {},
     "output_type": "execute_result"
    }
   ],
   "source": [
    "precincts_detroit"
   ]
  },
  {
   "cell_type": "code",
   "execution_count": 43,
   "metadata": {},
   "outputs": [],
   "source": [
    "precincts_detroit[\"avcb\"]=0"
   ]
  },
  {
   "cell_type": "code",
   "execution_count": 44,
   "metadata": {},
   "outputs": [],
   "source": [
    "precincts_detroit.loc[:,\"avcb\"] = precincts_detroit[\"precinct_number\"].map(avcb_csv_dict).fillna(precincts_detroit[\"avcb\"])"
   ]
  },
  {
   "cell_type": "code",
   "execution_count": 45,
   "metadata": {},
   "outputs": [
    {
     "name": "stdout",
     "output_type": "stream",
     "text": [
      "172\n"
     ]
    }
   ],
   "source": [
    "print(len(precincts_detroit[\"avcb\"].unique()))"
   ]
  },
  {
   "cell_type": "code",
   "execution_count": 46,
   "metadata": {},
   "outputs": [
    {
     "name": "stdout",
     "output_type": "stream",
     "text": [
      "(172, 18)\n"
     ]
    }
   ],
   "source": [
    "print(avcb_wayne.shape)"
   ]
  },
  {
   "cell_type": "code",
   "execution_count": 47,
   "metadata": {},
   "outputs": [
    {
     "name": "stdout",
     "output_type": "stream",
     "text": [
      "(5077, 18)\n",
      "(210, 18)\n",
      "(56, 18)\n",
      "(4321, 18)\n"
     ]
    }
   ],
   "source": [
    "#Checked that all rows were accounted in for in splitting the dataframe up\n",
    "print(df_pivot.shape)\n",
    "print(avcb.shape)\n",
    "print(stat.shape)\n",
    "print(df_no_avcb_or_stat.shape)"
   ]
  },
  {
   "cell_type": "code",
   "execution_count": 48,
   "metadata": {},
   "outputs": [
    {
     "name": "stdout",
     "output_type": "stream",
     "text": [
      "      candidate_id  county_code  city_town_code  ward_number  precinct_number  \\\n",
      "4596          4596           82              57            0              901   \n",
      "4597          4597           82              57            0              902   \n",
      "4598          4598           82              57            0              903   \n",
      "4599          4599           82              57            0              904   \n",
      "4600          4600           82              57            0              905   \n",
      "...            ...          ...             ...          ...              ...   \n",
      "4763          4763           82              57            0             1068   \n",
      "4764          4764           82              57            0             1069   \n",
      "4765          4765           82              57            0             1070   \n",
      "4766          4766           82              57            0             1071   \n",
      "4767          4767           82              57            0             1072   \n",
      "\n",
      "     precinct_label  G16PREGSte  G16PREDCli  G16PRERTru  G16PRELJoh  \\\n",
      "4596           AVCB           1         284          18           6   \n",
      "4597           AVCB           5         332          47           4   \n",
      "4598           AVCB           0         247          33           1   \n",
      "4599           AVCB           0         255          15           3   \n",
      "4600           AVCB           3         360          15           1   \n",
      "...             ...         ...         ...         ...         ...   \n",
      "4763           AVCB           0          98           3           2   \n",
      "4764           AVCB           0          47           3           0   \n",
      "4765           AVCB           0          45           1           0   \n",
      "4766           AVCB           0          97           3           0   \n",
      "4767           AVCB           0          96           6           1   \n",
      "\n",
      "      G16PREOth county_name county_fips city_town_name   county_city_id  \\\n",
      "4596          0       WAYNE         163   DETROIT CITY  163DETROIT CITY   \n",
      "4597          0       WAYNE         163   DETROIT CITY  163DETROIT CITY   \n",
      "4598          1       WAYNE         163   DETROIT CITY  163DETROIT CITY   \n",
      "4599          0       WAYNE         163   DETROIT CITY  163DETROIT CITY   \n",
      "4600          2       WAYNE         163   DETROIT CITY  163DETROIT CITY   \n",
      "...         ...         ...         ...            ...              ...   \n",
      "4763          2       WAYNE         163   DETROIT CITY  163DETROIT CITY   \n",
      "4764          0       WAYNE         163   DETROIT CITY  163DETROIT CITY   \n",
      "4765          0       WAYNE         163   DETROIT CITY  163DETROIT CITY   \n",
      "4766          1       WAYNE         163   DETROIT CITY  163DETROIT CITY   \n",
      "4767          0       WAYNE         163   DETROIT CITY  163DETROIT CITY   \n",
      "\n",
      "      jurisd       VTD2016_draft             VTD2016  \n",
      "4596   22000   1632200000901AVCB   1632200000901AVCB  \n",
      "4597   22000   1632200000902AVCB   1632200000902AVCB  \n",
      "4598   22000   1632200000903AVCB   1632200000903AVCB  \n",
      "4599   22000   1632200000904AVCB   1632200000904AVCB  \n",
      "4600   22000   1632200000905AVCB   1632200000905AVCB  \n",
      "...      ...                 ...                 ...  \n",
      "4763   22000  16322000001068AVCB  16322000001068AVCB  \n",
      "4764   22000  16322000001069AVCB  16322000001069AVCB  \n",
      "4765   22000  16322000001070AVCB  16322000001070AVCB  \n",
      "4766   22000  16322000001071AVCB  16322000001071AVCB  \n",
      "4767   22000  16322000001072AVCB  16322000001072AVCB  \n",
      "\n",
      "[172 rows x 18 columns]\n"
     ]
    }
   ],
   "source": [
    "print(avcb_wayne)"
   ]
  },
  {
   "cell_type": "code",
   "execution_count": 49,
   "metadata": {},
   "outputs": [
    {
     "data": {
      "text/plain": [
       "4281    392\n",
       "Name: G16PREDCli, dtype: int64"
      ]
     },
     "execution_count": 49,
     "metadata": {},
     "output_type": "execute_result"
    }
   ],
   "source": [
    "precincts_detroit.loc[precincts_detroit[\"avcb\"]=='37/158',\"G16PREDCli\"]+=27\n",
    "precincts_detroit.loc[precincts_detroit[\"avcb\"]=='37/158',\"G16PREDCli\"]"
   ]
  },
  {
   "cell_type": "code",
   "execution_count": 50,
   "metadata": {},
   "outputs": [
    {
     "name": "stdout",
     "output_type": "stream",
     "text": [
      "172\n"
     ]
    }
   ],
   "source": [
    "print(len(precincts_detroit[\"avcb\"].unique()))"
   ]
  },
  {
   "cell_type": "code",
   "execution_count": 51,
   "metadata": {},
   "outputs": [
    {
     "name": "stdout",
     "output_type": "stream",
     "text": [
      "[  1   2   3   4   5   6   7   8   9  10  11  12  13  14  15  16  17  18\n",
      "  19  20  21  22  23  24  25  26  27  28  29  30  31  32  33  34  35  36\n",
      "  37  38  39  40  41  42  43  44  45  46  47  48  49  50  51  52  53  54\n",
      "  55  56  57  58  59  60  61  62  63  64  65  66  67  68  69  70  71  72\n",
      "  73  74  75  76  77  78  79  80  81  82  83  84  85  86  87  88  89  90\n",
      "  91  92  93  94  95  96  97  98  99 100 101 102 103 104 105 106 107 108\n",
      " 109 110 111 112 113 114 115 116 117 118 119 120 121 122 123 124 125 126\n",
      " 127 128 129 130 131 132 133 134 135 136 137 138 139 140 141 142 143 144\n",
      " 145 146 147 148 149 150 151 152 153 154 155 156 157 158 159 160 161 162\n",
      " 163 164 165 166 167 168 169 170 171 172]\n"
     ]
    },
    {
     "name": "stderr",
     "output_type": "stream",
     "text": [
      "<ipython-input-51-f6d8aaf9b33a>:3: SettingWithCopyWarning: \n",
      "A value is trying to be set on a copy of a slice from a DataFrame.\n",
      "Try using .loc[row_indexer,col_indexer] = value instead\n",
      "\n",
      "See the caveats in the documentation: https://pandas.pydata.org/pandas-docs/stable/user_guide/indexing.html#returning-a-view-versus-a-copy\n",
      "  avcb_wayne[\"avcb\"] = 0\n",
      "/Users/lilyfalk/anaconda3/envs/pdv_env/lib/python3.9/site-packages/pandas/core/indexing.py:1676: SettingWithCopyWarning: \n",
      "A value is trying to be set on a copy of a slice from a DataFrame.\n",
      "Try using .loc[row_indexer,col_indexer] = value instead\n",
      "\n",
      "See the caveats in the documentation: https://pandas.pydata.org/pandas-docs/stable/user_guide/indexing.html#returning-a-view-versus-a-copy\n",
      "  self._setitem_single_column(ilocs[0], value, pi)\n"
     ]
    }
   ],
   "source": [
    "precincts_detroit\n",
    "avcb_wayne[\"precinct_number\"].unique()\n",
    "avcb_wayne[\"avcb\"] = 0\n",
    "avcb_wayne.loc[:,\"avcb\"] = avcb_wayne.loc[:,\"precinct_number\"]-900\n",
    "print(avcb_wayne[\"avcb\"].unique())"
   ]
  },
  {
   "cell_type": "code",
   "execution_count": 52,
   "metadata": {},
   "outputs": [],
   "source": [
    "avcb_wayne = avcb_wayne[avcb_wayne[\"avcb\"]!=158]"
   ]
  },
  {
   "cell_type": "code",
   "execution_count": 53,
   "metadata": {},
   "outputs": [],
   "source": [
    "avcb_adj_dict = {'37/158':'37'}\n",
    "precincts_detroit[\"avcb\"]= precincts_detroit[\"avcb\"].map(avcb_adj_dict).fillna(precincts_detroit[\"avcb\"])"
   ]
  },
  {
   "cell_type": "code",
   "execution_count": 55,
   "metadata": {},
   "outputs": [
    {
     "name": "stdout",
     "output_type": "stream",
     "text": [
      "      candidate_id  county_code  city_town_code  ward_number  precinct_number  \\\n",
      "avcb                                                                            \n",
      "1             4596           82              57            0              901   \n",
      "2             4597           82              57            0              902   \n",
      "3             4598           82              57            0              903   \n",
      "4             4599           82              57            0              904   \n",
      "5             4600           82              57            0              905   \n",
      "...            ...          ...             ...          ...              ...   \n",
      "168           4763           82              57            0             1068   \n",
      "169           4764           82              57            0             1069   \n",
      "170           4765           82              57            0             1070   \n",
      "171           4766           82              57            0             1071   \n",
      "172           4767           82              57            0             1072   \n",
      "\n",
      "      G16PREGSte  G16PREDCli  G16PRERTru  G16PRELJoh  G16PREOth  jurisd  \n",
      "avcb                                                                     \n",
      "1              1         284          18           6          0   22000  \n",
      "2              5         332          47           4          0   22000  \n",
      "3              0         247          33           1          1   22000  \n",
      "4              0         255          15           3          0   22000  \n",
      "5              3         360          15           1          2   22000  \n",
      "...          ...         ...         ...         ...        ...     ...  \n",
      "168            0          98           3           2          2   22000  \n",
      "169            0          47           3           0          0   22000  \n",
      "170            0          45           1           0          0   22000  \n",
      "171            0          97           3           0          1   22000  \n",
      "172            0          96           6           1          0   22000  \n",
      "\n",
      "[171 rows x 11 columns]\n"
     ]
    }
   ],
   "source": [
    "## adapted PH CODE for vote allocation - avcbs\n",
    "\n",
    "#Copy dfs to set up for reallocation to create new df\n",
    "df_with_avcb_and_stat_reallocated = df_no_avcb_or_stat.copy()\n",
    "\n",
    "#groupby_avcb_and_stat_tot.reset_index(inplace=True, drop=False)\n",
    "#groupby_county_tot_no_avcborstat.reset_index(inplace=True, drop=False)\n",
    "\n",
    "to_dole_out_totals = avcb_wayne.groupby([\"avcb\"]).sum()\n",
    "\n",
    "\n",
    "\n",
    "print(to_dole_out_totals)\n",
    "precinct_specific_totals = precincts_detroit.groupby([\"avcb\"]).sum()\n",
    "precinct_specific_totals.reset_index(inplace=True, drop=False)\n",
    "to_dole_out_totals.reset_index(inplace=True, drop=False)\n",
    "column_list = ['G16PREGSte', 'G16PREDCli', 'G16PRERTru', 'G16PRELJoh', 'G16PREOth']\n",
    "\n",
    "to_dole_out_totals[\"avcb\"] = to_dole_out_totals[\"avcb\"].astype(str)\n",
    "precinct_specific_totals[\"avcb\"] = precinct_specific_totals[\"avcb\"].astype(str)\n",
    "\n",
    "#Create some new columns for each of these races to deal with the allocation\n",
    "for race in column_list:\n",
    "    add_var = race+\"_add\"\n",
    "    rem_var = race+\"_rem\"\n",
    "    floor_var = race+\"_floor\"\n",
    "    precincts_detroit.loc[:,add_var]=0.0\n",
    "    precincts_detroit.loc[:,rem_var]=0.0\n",
    "    precincts_detroit.loc[:,floor_var]=0.0\n",
    "    \n",
    "#Iterate over the rows\n",
    "#Note this function iterates over the dataframe two times so the rounded vote totals match the totals to allocate\n",
    "\n",
    "for index, row in precincts_detroit.iterrows():\n",
    "    for race in column_list:\n",
    "        add_var = race+\"_add\"\n",
    "        rem_var = race+\"_rem\"\n",
    "        floor_var = race+\"_floor\"\n",
    "        #Grab the district\n",
    "        county_id = row[\"county_fips\"]\n",
    "        #Get the denominator for the allocation (the precinct vote totals)\n",
    "        denom = precinct_specific_totals.loc[precinct_specific_totals[\"avcb\"]==county_id][race]\n",
    "        \n",
    "        if county_id in list(to_dole_out_totals['avcb']):\n",
    "            #Get one of the numerators, how many district-wide votes to allocate\n",
    "            numer = to_dole_out_totals.loc[to_dole_out_totals[\"avcb\"]==county_id][race]\n",
    "            #Get the vote totals for this race in this precinct\n",
    "            val = precincts_detroit.at[index,race]\n",
    "            #Get the vote share, the precincts % of total precinct votes in the district times votes to allocate\n",
    "            if ((float(denom)==0)):\n",
    "                vote_share = 0\n",
    "            else:\n",
    "                vote_share = (float(val)/float(denom))*float(numer)\n",
    "            precincts_detroit.at[index,add_var] = vote_share\n",
    "            #Take the decimal remainder of the allocation\n",
    "            precincts_detroit.at[index,rem_var] = vote_share%1\n",
    "            #Take the floor of the allocation\n",
    "            precincts_detroit.at[index,floor_var] = np.floor(vote_share)\n",
    "            \n",
    "#After the first pass through, get the sums of the races by district to assist in the rounding            \n",
    "first_allocation = pd.DataFrame(precincts_detroit.groupby([\"avcb\"]).sum())\n",
    "first_allocation.reset_index(inplace=True,drop=False)\n",
    "\n",
    "#Now we want to iterate district by district to work on rounding\n",
    "county_list = list(to_dole_out_totals[\"avcb\"].unique()) \n",
    "\n",
    "\n",
    "\n",
    "\n",
    "\n",
    "\n",
    "#Iterate over the district\n",
    "for county in county_list:\n",
    "    for race in column_list:\n",
    "        add_var = race+\"_add\"\n",
    "        rem_var = race+\"_rem\"\n",
    "        floor_var = race+\"_floor\"\n",
    "        #print(int(to_dole_out_totals.loc[to_dole_out_totals[\"avcb\"]==county][race]))\n",
    "        #print(int(first_allocation.loc[first_allocation.index==county][floor_var]))\n",
    "        #County how many votes still need to be allocated (because we took the floor of all the initial allocations)\n",
    "        to_go = int(np.round((int(to_dole_out_totals.loc[to_dole_out_totals[\"avcb\"]==county][race])-int(first_allocation.loc[first_allocation[\"avcb\"]==county,floor_var]))))\n",
    "        #Grab the n precincts with the highest remainders and round these up, where n is the # of votes that still need to be allocated\n",
    "        for index in precincts_detroit.loc[precincts_detroit[\"avcb\"]==county][rem_var].nlargest(to_go).index:\n",
    "            precincts_detroit.at[index,add_var] = np.ceil(precincts_detroit.at[index,add_var])\n",
    "            \n",
    "#Iterate over every race again\n",
    "for race in column_list:\n",
    "    add_var = race+\"_add\"\n",
    "    #Round every allocation down to not add fractional votes\n",
    "    precincts_detroit.loc[:,add_var]=np.floor(precincts_detroit.loc[:,add_var])\n",
    "    precincts_detroit.loc[:,race]+=precincts_detroit.loc[:,add_var]"
   ]
  },
  {
   "cell_type": "code",
   "execution_count": 56,
   "metadata": {},
   "outputs": [],
   "source": [
    "precincts_detroit = precincts_detroit[['candidate_id', 'county_code', 'city_town_code', 'ward_number',\n",
    "       'precinct_number', 'precinct_label', 'G16PREGSte', 'G16PREDCli',\n",
    "       'G16PRERTru', 'G16PRELJoh', 'G16PREOth', 'county_name', 'county_fips',\n",
    "       'city_town_name', 'county_city_id', 'jurisd', 'VTD2016_draft',\n",
    "       'VTD2016']]"
   ]
  },
  {
   "cell_type": "code",
   "execution_count": 57,
   "metadata": {},
   "outputs": [],
   "source": [
    "df_no_avcb_or_stat = pd.concat([df_no_avcb_or_stat,precincts_detroit])"
   ]
  },
  {
   "cell_type": "code",
   "execution_count": 58,
   "metadata": {},
   "outputs": [],
   "source": [
    "#precincts_detroit.to_csv(\"./detroit.csv\")\n",
    "#gdfv[gdfv[\"Label\"]==\"City of Detroit\"].to_csv(\"./vest_detroit.csv\")"
   ]
  },
  {
   "cell_type": "code",
   "execution_count": 59,
   "metadata": {},
   "outputs": [
    {
     "name": "stdout",
     "output_type": "stream",
     "text": [
      "(4810, 8)\n",
      "both          4809\n",
      "left_only        2\n",
      "right_only       1\n",
      "Name: _merge, dtype: int64\n"
     ]
    }
   ],
   "source": [
    "#Comparing the length to the VEST dataframe, expecting at least 1 not to join\n",
    "print(gdfv.shape)\n",
    "\n",
    "join_attempt = pd.merge(df_no_avcb_or_stat,gdfv,how=\"outer\",on=\"VTD2016\",indicator=True)\n",
    "print(join_attempt[\"_merge\"].value_counts())\n",
    "\n",
    "left_only = join_attempt[join_attempt[\"_merge\"]==\"left_only\"].to_csv(\"./only_source.csv\")\n",
    "right_only = join_attempt[join_attempt[\"_merge\"]==\"right_only\"].to_csv(\"./only_vest.csv\")"
   ]
  },
  {
   "cell_type": "code",
   "execution_count": 60,
   "metadata": {},
   "outputs": [
    {
     "data": {
      "text/plain": [
       "Index(['candidate_id', 'county_code', 'city_town_code', 'ward_number',\n",
       "       'precinct_number', 'precinct_label', 'G16PREGSte_x', 'G16PREDCli_x',\n",
       "       'G16PRERTru_x', 'G16PRELJoh_x', 'G16PREOth_x', 'county_name',\n",
       "       'county_fips', 'city_town_name', 'county_city_id', 'jurisd',\n",
       "       'VTD2016_draft', 'VTD2016', 'Label', 'G16PREDCli_y', 'G16PRERTru_y',\n",
       "       'G16PREGSte_y', 'G16PRELJoh_y', 'G16PREOth_y', 'geometry', '_merge'],\n",
       "      dtype='object')"
      ]
     },
     "execution_count": 60,
     "metadata": {},
     "output_type": "execute_result"
    }
   ],
   "source": [
    "#Below are the precincts that didn't join. The top two are both Richmond and Fenton areas that need to be combined (which you did below). The other one appaers to be a zero vote precinct that only occurs in VEST's file\n",
    "join_attempt[join_attempt[\"_merge\"]==\"left_only\"].columns"
   ]
  },
  {
   "cell_type": "code",
   "execution_count": 61,
   "metadata": {},
   "outputs": [
    {
     "name": "stdout",
     "output_type": "stream",
     "text": [
      "     city_town_name        VTD2016\n",
      "2880    FENTON CITY  1252776000002\n",
      "3483  RICHMOND CITY  1476838000001\n",
      "4811    0492900005062\n",
      "Name: VTD2016, dtype: object\n"
     ]
    }
   ],
   "source": [
    "print(join_attempt[join_attempt[\"_merge\"]==\"left_only\"][[\"city_town_name\",\"VTD2016\"]])\n",
    "print(join_attempt[join_attempt[\"_merge\"]==\"right_only\"][\"VTD2016\"])"
   ]
  },
  {
   "cell_type": "code",
   "execution_count": 62,
   "metadata": {},
   "outputs": [
    {
     "data": {
      "text/plain": [
       "array([   1,    2,    3,    4,    5,    6,    7,    8,    9,   10,   11,\n",
       "         12,   13,   14,   15,   16,   17,   18,   19,   20,   21,   22,\n",
       "         23,   24,   25,   26,   27,   28,   29,   30,   31,   32,   33,\n",
       "         34,   35,   36,   37,   38,   39,   40,   41,   42,   43,   44,\n",
       "         45,   46,   47,   48,   49,   50,   51,   52,   53,   54,   55,\n",
       "         56,   57,   58,   59,   60,   61,   62,   63,   64,   65,   66,\n",
       "         67,   68,   69,   70,   71,   72,   73,   74,   75,   76,   77,\n",
       "         78,   79,   80,   81,   82,   83,   84,   85,   86,   87,   88,\n",
       "         89,   90,   91,   92,   93,   94,   95,   96,   97,   98,   99,\n",
       "        100,  101,  102,  103,  104,  105,  106,  107,  108,  109,  110,\n",
       "        111,  112,  113,  114,  115,  116,  117,  118,  119,  120,  121,\n",
       "        122,  123,  124,  125,  126,  127,  128,  129,  130,  131,  132,\n",
       "        133,  134,  135,  136,  137,  138,  139,  140,  141,  142,  143,\n",
       "        144,  145,  146,  147,  148,  149,  150,  151,  152,  153,  154,\n",
       "        155,  156,  157,  158,  159,  160,  161,  162,  163,  164,  165,\n",
       "        166,  167,  168,  169,  170,  171,  172,  173,  174,  175,  176,\n",
       "        177,  178,  179,  180,  181,  182,  183,  184,  185,  186,  187,\n",
       "        188,  189,  190,  191,  192,  193,  194,  195,  196,  197,  198,\n",
       "        199,  200,  201,  202,  203,  204,  205,  206,  207,  208,  209,\n",
       "        210,  211,  212,  213,  214,  215,  216,  217,  218,  219,  220,\n",
       "        221,  222,  223,  224,  225,  226,  227,  228,  229,  230,  231,\n",
       "        232,  233,  234,  235,  236,  237,  238,  239,  240,  241,  242,\n",
       "        243,  244,  245,  246,  247,  248,  249,  250,  251,  252,  253,\n",
       "        254,  255,  256,  257,  258,  259,  260,  261,  262,  263,  264,\n",
       "        265,  266,  267,  268,  269,  270,  271,  272,  273,  274,  275,\n",
       "        276,  277,  278,  279,  280,  281,  282,  283,  284,  285,  286,\n",
       "        287,  288,  289,  290,  291,  292,  293,  294,  295,  296,  297,\n",
       "        298,  299,  300,  301,  302,  303,  304,  305,  306,  307,  308,\n",
       "        309,  310,  311,  312,  313,  314,  315,  316,  317,  318,  319,\n",
       "        320,  321,  322,  323,  324,  325,  326,  327,  328,  329,  330,\n",
       "        331,  332,  333,  334,  335,  336,  337,  338,  339,  340,  341,\n",
       "        342,  343,  344,  345,  346,  347,  348,  349,  350,  351,  352,\n",
       "        353,  354,  355,  356,  357,  358,  359,  360,  361,  362,  363,\n",
       "        364,  365,  366,  367,  368,  369,  370,  371,  372,  373,  374,\n",
       "        375,  376,  377,  378,  379,  380,  381,  382,  383,  384,  385,\n",
       "        386,  387,  388,  389,  390,  391,  392,  393,  394,  395,  396,\n",
       "        397,  398,  399,  400,  401,  402,  403,  404,  405,  406,  407,\n",
       "        408,  409,  410,  411,  412,  413,  414,  415,  416,  417,  418,\n",
       "        419,  420,  421,  422,  423,  424,  425,  426,  427,  428,  429,\n",
       "        430,  431,  432,  433,  434,  435,  436,  437,  438,  439,  440,\n",
       "        441,  442,  443,  444,  445,  446,  447,  448,  449,  450,  451,\n",
       "        452,  453,  454,  455,  456,  457,  458,  459,  460,  461,  462,\n",
       "        463,  464,  465,  466,  467,  468,  469,  470,  471,  472,  473,\n",
       "        474,  475,  476,  477,  478,  479,  480,  481,  482,  483,  484,\n",
       "        485,  486,  487,  488,  489,  490, 9999])"
      ]
     },
     "execution_count": 62,
     "metadata": {},
     "output_type": "execute_result"
    }
   ],
   "source": [
    "df_pivot['precinct_number'][(df_pivot['county_name'] == 'WAYNE')&(df_pivot['precinct_label']!='AVCB')].unique()"
   ]
  },
  {
   "cell_type": "code",
   "execution_count": 63,
   "metadata": {},
   "outputs": [],
   "source": [
    "def validater_row (df, column_List):\n",
    "    matching_rows = 0\n",
    "    different_rows = 0\n",
    "    diff_list=[]\n",
    "    diff_values = []\n",
    "    max_diff = 0\n",
    "    for j in range(0,len(df.index)):\n",
    "        same = True\n",
    "        for i in column_List:\n",
    "            left_Data = i + \"_x\"\n",
    "            right_Data = i + \"_y\"\n",
    "            diff = abs(df.iloc[j][left_Data]-df.iloc[j][right_Data])\n",
    "            if(diff >0):\n",
    "                if(diff>100):\n",
    "                    print(i, \"{:.>72}\".format(df.iloc[j][\"VTD2016\"]), \"(V)\",\"{:.>5}\".format(int(df.iloc[j][left_Data])),\" (S){:.>5}\".format(int(df.iloc[j][right_Data])),\"(D):{:>5}\".format(int(df.iloc[j][right_Data])-int(df.iloc[j][left_Data])))           \n",
    "                #print(df.iloc[j]['countypct'])\n",
    "                \n",
    "                diff_values.append(abs(diff))\n",
    "                same = False\n",
    "                if(np.isnan(diff)):\n",
    "                    print(\"NaN value at diff is: \", df.iloc[j][\"VTD2016\"])\n",
    "                    print(df.iloc[j][left_Data])\n",
    "                    print(df.iloc[j][right_Data])\n",
    "                if (diff>max_diff):\n",
    "                    max_diff = diff\n",
    "                    #print(\"New max diff is: \", str(max_diff))\n",
    "                    #print(df.iloc[j]['cty_pct'])\n",
    "        if(same != True):\n",
    "            different_rows +=1\n",
    "            diff_list.append(df.iloc[j][\"VTD2016\"])\n",
    "        else:\n",
    "            matching_rows +=1\n",
    "    print(\"\")\n",
    "    print(\"There are \", len(df.index),\" total rows\")\n",
    "    print(different_rows,\" of these rows have election result differences\")\n",
    "    print(matching_rows,\" of these rows are the same\")\n",
    "    print(\"\")\n",
    "    print(\"The max difference between any one shared column in a row is: \", max_diff)\n",
    "    if(len(diff_values)!=0):\n",
    "        print(\"The average difference is: \", str(sum(diff_values)/len(diff_values)))\n",
    "    count_big_diff = len([i for i in diff_values if i > 10])\n",
    "    print(\"There are \", str(count_big_diff), \"precinct results with a difference greater than 10\")\n",
    "    diff_list.sort()\n",
    "    print(diff_list)"
   ]
  },
  {
   "cell_type": "code",
   "execution_count": 64,
   "metadata": {},
   "outputs": [
    {
     "name": "stdout",
     "output_type": "stream",
     "text": [
      "G16PREDCli ...........................................................0452452000001 (V) ..618  (S)..290 (D): -328\n",
      "G16PRERTru ...........................................................0452452000001 (V) .1027  (S)..554 (D): -473\n",
      "G16PREDCli ...........................................................0452452000002 (V) ..165  (S)..449 (D):  284\n",
      "G16PRERTru ...........................................................0452452000002 (V) ..361  (S)..751 (D):  390\n",
      "G16PREDCli ...........................................................0452456000001 (V) ..290  (S)..618 (D):  328\n",
      "G16PRERTru ...........................................................0452456000001 (V) ..554  (S).1027 (D):  473\n",
      "G16PREDCli ...........................................................0452456000002 (V) ..449  (S)..165 (D): -284\n",
      "G16PRERTru ...........................................................0452456000002 (V) ..751  (S)..361 (D): -390\n",
      "G16PREDCli ...........................................................1155390000001 (V) ..288  (S)..426 (D):  138\n",
      "G16PREDCli ...........................................................1155392000001 (V) ..426  (S)..288 (D): -138\n",
      "G16PREDCli ...........................................................1632200005002 (V) ..624  (S)..498 (D): -126\n",
      "G16PREDCli ...........................................................1632200005003 (V) ..722  (S)..575 (D): -147\n",
      "G16PREDCli ...........................................................1632200004014 (V) ..462  (S)..345 (D): -117\n",
      "G16PREDCli ...........................................................1632200004015 (V) ..640  (S)..478 (D): -162\n",
      "G16PREDCli ...........................................................1632200004016 (V) ..596  (S)..488 (D): -108\n",
      "G16PREDCli ...........................................................1632200004017 (V) ..503  (S)..376 (D): -127\n",
      "G16PREDCli ...........................................................1632200004018 (V) ..914  (S)..682 (D): -232\n",
      "G16PREDCli ...........................................................1632200004019 (V) ..668  (S)..499 (D): -169\n",
      "G16PREDCli ...........................................................1632200004020 (V) ..898  (S)..671 (D): -227\n",
      "G16PREDCli ...........................................................1632200004021 (V) ..556  (S)..415 (D): -141\n",
      "G16PREDCli ...........................................................1632200004022 (V) ..684  (S)..560 (D): -124\n",
      "G16PREDCli ...........................................................1632200004023 (V) ..830  (S)..622 (D): -208\n",
      "G16PREDCli ...........................................................1632200004025 (V) ..623  (S)..468 (D): -155\n",
      "G16PREDCli ...........................................................1632200004026 (V) ..756  (S)..608 (D): -148\n",
      "G16PREDCli ...........................................................1632200004027 (V) ..624  (S)..502 (D): -122\n",
      "G16PREDCli ...........................................................1632200004029 (V) ..518  (S)..416 (D): -102\n",
      "G16PREDCli ...........................................................1632200004031 (V) ..902  (S)..673 (D): -229\n",
      "G16PREDCli ...........................................................1632200004032 (V) .1068  (S)..846 (D): -222\n",
      "G16PREDCli ...........................................................1632200004033 (V) ..902  (S)..668 (D): -234\n",
      "G16PREDCli ...........................................................1632200004034 (V) .1037  (S)..921 (D): -116\n",
      "G16PREDCli ...........................................................1632200004037 (V) ..766  (S)..582 (D): -184\n",
      "G16PREDCli ...........................................................1632200004038 (V) ..590  (S)..438 (D): -152\n",
      "G16PREDCli ...........................................................1632200004039 (V) ..868  (S)..643 (D): -225\n",
      "G16PREDCli ...........................................................1632200004040 (V) .1210  (S)..915 (D): -295\n",
      "G16PREDCli ...........................................................1632200004041 (V) ..519  (S)..393 (D): -126\n",
      "G16PREDCli ...........................................................1632200004043 (V) ..879  (S)..678 (D): -201\n",
      "G16PREDCli ...........................................................1632200004044 (V) ..792  (S)..612 (D): -180\n",
      "G16PREDCli ...........................................................1632200004045 (V) ..699  (S)..530 (D): -169\n",
      "G16PREDCli ...........................................................1632200004047 (V) ..750  (S)..594 (D): -156\n",
      "G16PREDCli ...........................................................1632200004051 (V) ..529  (S)..426 (D): -103\n",
      "G16PREDCli ...........................................................1632200004052 (V) ..605  (S)..486 (D): -119\n",
      "G16PREDCli ...........................................................1632200004053 (V) ..712  (S)..558 (D): -154\n",
      "G16PREDCli ...........................................................1632200004055 (V) ..683  (S)..540 (D): -143\n",
      "G16PREDCli ...........................................................1632200004056 (V) ..540  (S)..426 (D): -114\n",
      "G16PREDCli ...........................................................1632200004059 (V) ..500  (S)..391 (D): -109\n",
      "G16PREDCli ...........................................................1632200004060 (V) ..700  (S)..549 (D): -151\n",
      "G16PREDCli ...........................................................1632200003063 (V) ..848  (S)..671 (D): -177\n",
      "G16PREDCli ...........................................................1632200003064 (V) ..501  (S)..397 (D): -104\n",
      "G16PREDCli ...........................................................1632200003065 (V) ..682  (S)..540 (D): -142\n",
      "G16PREDCli ...........................................................1632200003066 (V) ..825  (S)..650 (D): -175\n",
      "G16PREDCli ...........................................................1632200003068 (V) ..992  (S)..782 (D): -210\n",
      "G16PREDCli ...........................................................1632200003069 (V) ..612  (S)..457 (D): -155\n",
      "G16PREDCli ...........................................................1632200003070 (V) ..496  (S)..371 (D): -125\n",
      "G16PREDCli ...........................................................1632200003071 (V) ..743  (S)..555 (D): -188\n",
      "G16PREDCli ...........................................................1632200003072 (V) ..577  (S)..430 (D): -147\n",
      "G16PREDCli ...........................................................1632200003073 (V) ..611  (S)..456 (D): -155\n",
      "G16PREDCli ...........................................................1632200003074 (V) ..629  (S)..477 (D): -152\n",
      "G16PREDCli ...........................................................1632200003075 (V) ..738  (S)..560 (D): -178\n",
      "G16PREDCli ...........................................................1632200003079 (V) ..596  (S)..452 (D): -144\n",
      "G16PREDCli ...........................................................1632200003080 (V) .1156  (S)..908 (D): -248\n",
      "G16PREDCli ...........................................................1632200003081 (V) ..974  (S)..753 (D): -221\n",
      "G16PREDCli ...........................................................1632200003082 (V) ..830  (S)..594 (D): -236\n",
      "G16PREDCli ...........................................................1632200003083 (V) ..985  (S)..705 (D): -280\n",
      "G16PREDCli ...........................................................1632200003084 (V) .1030  (S)..737 (D): -293\n",
      "G16PREDCli ...........................................................1632200003085 (V) ..541  (S)..388 (D): -153\n",
      "G16PREDCli ...........................................................1632200003086 (V) ..710  (S)..569 (D): -141\n",
      "G16PREDCli ...........................................................1632200003088 (V) ..737  (S)..590 (D): -147\n",
      "G16PREDCli ...........................................................1632200003089 (V) ..402  (S)..290 (D): -112\n",
      "G16PREDCli ...........................................................1632200003091 (V) ..810  (S)..585 (D): -225\n",
      "G16PREDCli ...........................................................1632200003092 (V) ..606  (S)..438 (D): -168\n",
      "G16PREDCli ...........................................................1632200003093 (V) ..437  (S)..317 (D): -120\n",
      "G16PREDCli ...........................................................1632200003094 (V) ..775  (S)..563 (D): -212\n",
      "G16PREDCli ...........................................................1632200003095 (V) ..666  (S)..484 (D): -182\n",
      "G16PREDCli ...........................................................1632200003096 (V) ..446  (S)..325 (D): -121\n",
      "G16PREDCli ...........................................................1632200005098 (V) ..546  (S)..412 (D): -134\n",
      "G16PREDCli ...........................................................1632200004106 (V) .1399  (S).1259 (D): -140\n",
      "G16PREDCli ...........................................................1632200003108 (V) ..576  (S)..471 (D): -105\n",
      "G16PREDCli ...........................................................1632200005115 (V) ..876  (S)..696 (D): -180\n",
      "G16PREDCli ...........................................................1632200005127 (V) .1690  (S).1514 (D): -176\n",
      "G16PREDCli ...........................................................1632200005132 (V) ..868  (S).1115 (D):  247\n",
      "G16PREDCli ...........................................................1632200005134 (V) ..854  (S)..752 (D): -102\n",
      "G16PREDCli ...........................................................1632200005136 (V) .1004  (S)..833 (D): -171\n",
      "G16PREDCli ...........................................................1632200006143 (V) ..683  (S)..557 (D): -126\n",
      "G16PREDCli ...........................................................1632200006144 (V) ..655  (S)..534 (D): -121\n",
      "G16PREDCli ...........................................................1632200006147 (V) ..943  (S)..802 (D): -141\n",
      "G16PREDCli ...........................................................1632200006150 (V) .1109  (S)..919 (D): -190\n",
      "G16PREDCli ...........................................................1632200005156 (V) ..687  (S)..560 (D): -127\n",
      "G16PREDCli ...........................................................1632200006157 (V) ..633  (S)..513 (D): -120\n",
      "G16PREDCli ...........................................................1632200005158 (V) ..950  (S)..814 (D): -136\n",
      "G16PREDCli ...........................................................1632200005160 (V) ..684  (S)..554 (D): -130\n",
      "G16PREDCli ...........................................................1632200005161 (V) ..811  (S)..657 (D): -154\n",
      "G16PREDCli ...........................................................1632200005164 (V) ..783  (S)..654 (D): -129\n",
      "G16PREDCli ...........................................................1632200005167 (V) ..772  (S)..645 (D): -127\n",
      "G16PREDCli ...........................................................1632200003176 (V) ..618  (S)..510 (D): -108\n",
      "G16PREDCli ...........................................................1632200003177 (V) ..783  (S)..651 (D): -132\n",
      "G16PREDCli ...........................................................1632200003179 (V) ..794  (S)..646 (D): -148\n",
      "G16PREDCli ...........................................................1632200003182 (V) ..906  (S)..777 (D): -129\n",
      "G16PREDCli ...........................................................1632200003184 (V) .1003  (S)..845 (D): -158\n",
      "G16PREDCli ...........................................................1632200003187 (V) ..557  (S)..440 (D): -117\n",
      "G16PREDCli ...........................................................1632200003188 (V) ..582  (S)..476 (D): -106\n",
      "G16PREDCli ...........................................................1632200003189 (V) ..596  (S)..488 (D): -108\n",
      "G16PREDCli ...........................................................1632200003190 (V) ..582  (S)..476 (D): -106\n",
      "G16PREDCli ...........................................................1632200003191 (V) ..667  (S)..531 (D): -136\n",
      "G16PREDCli ...........................................................1632200003192 (V) ..624  (S)..497 (D): -127\n",
      "G16PREDCli ...........................................................1632200003193 (V) ..606  (S)..483 (D): -123\n",
      "G16PREDCli ...........................................................1632200003194 (V) ..533  (S)..424 (D): -109\n",
      "G16PREDCli ...........................................................1632200002200 (V) ..530  (S)..419 (D): -111\n",
      "G16PREDCli ...........................................................1632200002207 (V) .1101  (S)..992 (D): -109\n",
      "G16PREDCli ...........................................................1632200002208 (V) .1019  (S)..912 (D): -107\n",
      "G16PREDCli ...........................................................1632200002212 (V) ..620  (S)..511 (D): -109\n",
      "G16PREDCli ...........................................................1632200002214 (V) ..629  (S)..518 (D): -111\n",
      "G16PREDCli ...........................................................1632200002215 (V) ..740  (S)..618 (D): -122\n",
      "G16PREDCli ...........................................................1632200002217 (V) ..778  (S)..634 (D): -144\n",
      "G16PREDCli ...........................................................1632200002221 (V) ..681  (S)..562 (D): -119\n",
      "G16PREDCli ...........................................................1632200002223 (V) ..805  (S)..663 (D): -142\n",
      "G16PREDCli ...........................................................1632200002237 (V) ..822  (S)..715 (D): -107\n",
      "G16PREDCli ...........................................................1632200002249 (V) ..658  (S)..555 (D): -103\n",
      "G16PREDCli ...........................................................1632200002250 (V) ..811  (S)..683 (D): -128\n",
      "G16PREDCli ...........................................................1632200001252 (V) ..575  (S)..474 (D): -101\n",
      "G16PREDCli ...........................................................1632200001253 (V) ..605  (S)..495 (D): -110\n",
      "G16PREDCli ...........................................................1632200001254 (V) .1031  (S)..843 (D): -188\n",
      "G16PREDCli ...........................................................1632200002258 (V) ..839  (S)..717 (D): -122\n",
      "G16PREDCli ...........................................................1632200001263 (V) .1024  (S)..877 (D): -147\n",
      "G16PREDCli ...........................................................1632200001264 (V) ..784  (S)..651 (D): -133\n",
      "G16PREDCli ...........................................................1632200001265 (V) .1071  (S)..901 (D): -170\n",
      "G16PREDCli ...........................................................1632200001271 (V) ..986  (S)..828 (D): -158\n",
      "G16PREDCli ...........................................................1632200001276 (V) ..997  (S)..855 (D): -142\n",
      "G16PREDCli ...........................................................1632200001278 (V) ..602  (S)..499 (D): -103\n",
      "G16PREDCli ...........................................................1632200001279 (V) ..927  (S)..824 (D): -103\n",
      "G16PREDCli ...........................................................1632200001280 (V) ..765  (S)..617 (D): -148\n",
      "G16PREDCli ...........................................................1632200001281 (V) ..928  (S)..801 (D): -127\n",
      "G16PREDCli ...........................................................1632200001282 (V) ..747  (S)..644 (D): -103\n",
      "G16PREDCli ...........................................................1632200001285 (V) ..832  (S)..721 (D): -111\n",
      "G16PREDCli ...........................................................1632200001286 (V) ..747  (S)..645 (D): -102\n",
      "G16PREDCli ...........................................................1632200001287 (V) ..835  (S)..721 (D): -114\n",
      "G16PREDCli ...........................................................1632200002288 (V) ..700  (S)..573 (D): -127\n",
      "G16PREDCli ...........................................................1632200002289 (V) ..627  (S)..508 (D): -119\n",
      "G16PREDCli ...........................................................1632200002294 (V) ..770  (S)..624 (D): -146\n",
      "G16PREDCli ...........................................................1632200001297 (V) ..884  (S)..753 (D): -131\n",
      "G16PREDCli ...........................................................1632200001298 (V) ..881  (S)..672 (D): -209\n",
      "G16PREDCli ...........................................................1632200001300 (V) ..645  (S)..492 (D): -153\n",
      "G16PREDCli ...........................................................1632200001305 (V) ..693  (S)..551 (D): -142\n",
      "G16PREDCli ...........................................................1632200001306 (V) ..991  (S)..788 (D): -203\n",
      "G16PREDCli ...........................................................1632200001308 (V) .1389  (S).1247 (D): -142\n",
      "G16PREDCli ...........................................................1632200001311 (V) ..892  (S)..784 (D): -108\n",
      "G16PREDCli ...........................................................1632200001312 (V) ..909  (S)..773 (D): -136\n",
      "G16PREDCli ...........................................................1632200001315 (V) ..993  (S)..845 (D): -148\n",
      "G16PREDCli ...........................................................1632200001316 (V) ..825  (S)..671 (D): -154\n",
      "G16PREDCli ...........................................................1632200001321 (V) ..673  (S)..557 (D): -116\n",
      "G16PREDCli ...........................................................1632200001323 (V) .1090  (S)..943 (D): -147\n",
      "G16PREDCli ...........................................................1632200001324 (V) ..980  (S)..825 (D): -155\n",
      "G16PREDCli ...........................................................1632200001326 (V) ..534  (S)..424 (D): -110\n",
      "G16PREDCli ...........................................................1632200001327 (V) ..562  (S)..446 (D): -116\n",
      "G16PREDCli ...........................................................1632200001328 (V) ..607  (S)..502 (D): -105\n",
      "G16PREDCli ...........................................................1632200001329 (V) ..562  (S)..458 (D): -104\n",
      "G16PREDCli ...........................................................1632200007330 (V) .1069  (S)..821 (D): -248\n",
      "G16PREDCli ...........................................................1632200007331 (V) ..617  (S)..474 (D): -143\n",
      "G16PREDCli ...........................................................1632200007332 (V) ..529  (S)..406 (D): -123\n",
      "G16PREDCli ...........................................................1632200007333 (V) ..563  (S)..433 (D): -130\n",
      "G16PREDCli ...........................................................1632200007334 (V) ..457  (S)..351 (D): -106\n",
      "G16PREDCli ...........................................................1632200007335 (V) ..764  (S)..586 (D): -178\n",
      "G16PREDCli ...........................................................1632200007336 (V) ..764  (S)..586 (D): -178\n",
      "G16PREDCli ...........................................................1632200007337 (V) ..555  (S)..401 (D): -154\n",
      "G16PREDCli ...........................................................1632200007338 (V) ..717  (S)..520 (D): -197\n",
      "G16PREDCli ...........................................................1632200007339 (V) ..629  (S)..456 (D): -173\n",
      "G16PREDCli ...........................................................1632200007341 (V) ..901  (S)..651 (D): -250\n",
      "G16PREDCli ...........................................................1632200007342 (V) ..836  (S)..605 (D): -231\n",
      "G16PREDCli ...........................................................1632200007343 (V) ..970  (S)..741 (D): -229\n",
      "G16PREDCli ...........................................................1632200007344 (V) ..841  (S)..642 (D): -199\n",
      "G16PREDCli ...........................................................1632200007345 (V) .1074  (S)..821 (D): -253\n",
      "G16PREDCli ...........................................................1632200007346 (V) ..689  (S)..571 (D): -118\n",
      "G16PREDCli ...........................................................1632200007347 (V) ..987  (S)..819 (D): -168\n",
      "G16PREDCli ...........................................................1632200007348 (V) ..629  (S)..521 (D): -108\n",
      "G16PREDCli ...........................................................1632200007349 (V) .1111  (S)..845 (D): -266\n",
      "G16PREDCli ...........................................................1632200001351 (V) .1198  (S)..950 (D): -248\n",
      "G16PREDCli ...........................................................1632200001352 (V) ..908  (S)..733 (D): -175\n",
      "G16PREDCli ...........................................................1632200007355 (V) ..870  (S)..662 (D): -208\n",
      "G16PREDCli ...........................................................1632200007356 (V) ..816  (S)..622 (D): -194\n",
      "G16PREDCli ...........................................................1632200001358 (V) ..635  (S)..521 (D): -114\n",
      "G16PREDCli ...........................................................1632200001359 (V) ..662  (S)..536 (D): -126\n",
      "G16PREDCli ...........................................................1632200001361 (V) ..921  (S)..804 (D): -117\n",
      "G16PREDCli ...........................................................1632200007363 (V) ..782  (S)..596 (D): -186\n",
      "G16PREDCli ...........................................................1632200007366 (V) ..512  (S)..408 (D): -104\n",
      "G16PREDCli ...........................................................1632200007367 (V) ..569  (S)..455 (D): -114\n",
      "G16PREDCli ...........................................................1632200007368 (V) ..687  (S)..548 (D): -139\n",
      "G16PREDCli ...........................................................1632200007369 (V) ..974  (S)..750 (D): -224\n",
      "G16PREDCli ...........................................................1632200007374 (V) ..657  (S)..507 (D): -150\n",
      "G16PREDCli ...........................................................1632200007375 (V) ..676  (S)..520 (D): -156\n",
      "G16PREDCli ...........................................................1632200007376 (V) ..480  (S)..370 (D): -110\n",
      "G16PREDCli ...........................................................1632200007377 (V) ..522  (S)..402 (D): -120\n",
      "G16PREDCli ...........................................................1632200001378 (V) ..647  (S)..532 (D): -115\n",
      "G16PREDCli ...........................................................1632200001379 (V) .1013  (S)..832 (D): -181\n",
      "G16PREDCli ...........................................................1632200002380 (V) ..615  (S)..509 (D): -106\n",
      "G16PREDCli ...........................................................1632200002381 (V) ..613  (S)..506 (D): -107\n",
      "G16PREDCli ...........................................................1632200002384 (V) ..987  (S)..825 (D): -162\n",
      "G16PREDCli ...........................................................1632200002386 (V) ..656  (S)..519 (D): -137\n",
      "G16PREDCli ...........................................................1632200002387 (V) ..551  (S)..435 (D): -116\n",
      "G16PREDCli ...........................................................1632200002392 (V) ..648  (S)..536 (D): -112\n",
      "G16PREDCli ...........................................................1632200007393 (V) ..578  (S)..465 (D): -113\n",
      "G16PREDCli ...........................................................1632200007397 (V) ..635  (S)..527 (D): -108\n",
      "G16PREDCli ...........................................................1632200007398 (V) ..741  (S)..615 (D): -126\n",
      "G16PREDCli ...........................................................1632200007399 (V) ..723  (S)..611 (D): -112\n",
      "G16PREDCli ...........................................................1632200007405 (V) ..678  (S)..550 (D): -128\n",
      "G16PREDCli ...........................................................1632200007408 (V) ..744  (S)..626 (D): -118\n",
      "G16PREDCli ...........................................................1632200007413 (V) .1008  (S)..856 (D): -152\n",
      "G16PREDCli ...........................................................1632200007415 (V) ..700  (S)..568 (D): -132\n",
      "G16PREDCli ...........................................................1632200006418 (V) ..769  (S)..633 (D): -136\n",
      "G16PREDCli ...........................................................1632200006422 (V) ..645  (S)..520 (D): -125\n",
      "G16PREDCli ...........................................................1632200006423 (V) ..540  (S)..389 (D): -151\n",
      "G16PREDCli ...........................................................1632200006424 (V) ..588  (S)..423 (D): -165\n",
      "G16PREDCli ...........................................................1632200006425 (V) ..667  (S)..481 (D): -186\n",
      "G16PREDCli ...........................................................1632200007427 (V) ..629  (S)..516 (D): -113\n",
      "G16PREDCli ...........................................................1632200007428 (V) ..730  (S)..599 (D): -131\n",
      "G16PREDCli ...........................................................1632200007429 (V) ..525  (S)..424 (D): -101\n",
      "G16PREDCli ...........................................................1632200005432 (V) ..581  (S)..477 (D): -104\n",
      "G16PREDCli ...........................................................1632200005434 (V) ..574  (S)..471 (D): -103\n",
      "G16PREDCli ...........................................................1632200005436 (V) ..675  (S)..567 (D): -108\n",
      "G16PREDCli ...........................................................1632200005447 (V) ..739  (S)..611 (D): -128\n",
      "G16PREDCli ...........................................................1632200006457 (V) ..503  (S)..378 (D): -125\n",
      "G16PREDCli ...........................................................1632200006460 (V) ..536  (S)..402 (D): -134\n",
      "G16PREDCli ...........................................................1632200006461 (V) ..624  (S)..497 (D): -127\n",
      "G16PREDCli ...........................................................1632200006464 (V) ..863  (S)..663 (D): -200\n",
      "G16PREDCli ...........................................................1632200006466 (V) .1023  (S)..829 (D): -194\n",
      "G16PREDCli ...........................................................1632200006470 (V) ..574  (S)..436 (D): -138\n",
      "G16PREDCli ...........................................................1632200006472 (V) ..420  (S)..303 (D): -117\n",
      "G16PREDCli ...........................................................1632200006473 (V) ..566  (S)..422 (D): -144\n",
      "G16PREDCli ...........................................................1632200006475 (V) ..512  (S)..382 (D): -130\n",
      "G16PREDCli ...........................................................1632200006476 (V) ..474  (S)..354 (D): -120\n",
      "G16PREDCli ...........................................................1632200006477 (V) ..566  (S)..407 (D): -159\n",
      "G16PREDCli ...........................................................1632200006480 (V) ..524  (S)..398 (D): -126\n",
      "G16PREDCli ...........................................................1632200006481 (V) ..639  (S)..484 (D): -155\n",
      "G16PREDCli ...........................................................1632200006482 (V) ..723  (S)..590 (D): -133\n",
      "G16PREDCli ...........................................................1632200006483 (V) ..777  (S)..634 (D): -143\n",
      "G16PREDCli ...........................................................1632200006484 (V) ..680  (S)..569 (D): -111\n",
      "G16PREDCli ...........................................................1632200006485 (V) ..844  (S)..705 (D): -139\n",
      "\n",
      "There are  4809  total rows\n",
      "3078  of these rows have election result differences\n",
      "1731  of these rows are the same\n",
      "\n",
      "The max difference between any one shared column in a row is:  473.0\n",
      "The average difference is:  15.593005952380953\n",
      "There are  544 precinct results with a difference greater than 10\n",
      "['0010104000001', '0011246000001', '0011932000001', '0013482000001', '0013574000001', '0013686001001', '0013688000001', '0013722000001', '0013738000001', '0015388000001', '0015406000001', '0015474000001', '0030446000001', '0035620000001', '0035622000001', '0035622000002', '0036916000001', '0070174000001', '0070174000003', '0070174000004', '0070174000005', '0070174000006', '0070176000001', '0070176000002', '0070176000003', '0070176000004', '0070176000005', '0073474000001', '0074936000001', '0075122000001', '0076152000001', '0077124000001', '0078768000001', '0090524000001', '0091442000001', '0091940000001', '0092534000001', '0092960000001', '0093750000001', '0094240000001', '0095064000001', '0095064000002', '0095444000001', '0097626000001', '0098010000001', '0110414000001', '0112112000001', '0115480000001', '0117402000001', '0117614000001', '0118708000001', '0130366000001', '0130534000001', '0131860000001', '0134556000001', '0150386000001', '0150502000001', '0150556000001', '0150556000002', '0151334000001', '0151396000001', '0153712000002', '0153712000003', '0153712000004', '01537120010001', '0153714000001', '0153912000001', '0154112000001', '0154112000002', '0154186000001', '0155096000001', '0156098000001', '0156626000001', '0156626000002', '0157042000001', '0157042000002', '0157962000001', '0157962000002', '0157962000003', '0158844000001', '0158902000001', '0158902000002', '0170408000001', '0170512000001', '0170512000002', '0170512000003', '0170512000004', '0170512000005', '0170512000006', '0170602001001', '0170602002001', '0170602003001', '0170602004001', '0170602005001', '0170602006001', '0170602007001', '0170602008001', '0170602009001', '0170654000001', '0172642000001', '0172642000002', '0173018000001', '0173040000001', '0173154000001', '0173204000001', '0173626000001', '0173626000002', '0173626000003', '0173626000004', '0173626000005', '0174236000001', '0174236000002', '0175322000001', '0175498000001', '0175498000002', '0175498000003', '0175498000004', '0175498000005', '0175498000006', '0175592000001', '0176416000001', '0176418000001', '0176598000001', '0176598000002', '0178738000001', '0178738000002', '0190164000001', '0190760000001', '0191918000001', '0193026000001', '0193900000001', '0194070000001', '0194424000001', '0271262000001', '0272288000001', '0272288000002', '0273948000001', '0273948000002', '0273948000003', '0274160000001', '0274414000001', '0275148000001', '0275214000001', '0275446000001', '0275712000001', '0276090000001', '0276090000002', '0276338000001', '0276530000001', '0276572000001', '0276572000002', '0277394000001', '0278492000001', '0290600000001', '0290982000016', '0290986000002', '0291478001018', '0291478002019', '0291478003020', '0291480000004', '0292402000021', '0292658000005', '0292668000006', '0293732000007', '0293970000008', '0295162000009', '0295288000010', '0295934000011', '0297468000014', '0298770000015', '0310172000001', '0310650000001', '0310742000001', '0311198000001', '0311500000002', '0312940000001', '0313420000001', '0314082000001', '0314382000001', '0315030000001', '0315310000001', '0315610000001', '0315628000001', '0315950000001', '0318088000001', '0318764000001', '0330607000001', '0331128000001', '0331954000001', '0332177000001', '0332308000001', '0334348000001', '0336398000001', '0337022000001', '0337174000001', '0337174000002', '0337174000003', '0337462000001', '0337702000001', '0337754000001', '0370590000001', '0370590000002', '0370590000003', '0370590000004', '0370590000005', '0370724000001', '0370840000001', '0371962000001', '0372212000001', '0372212000002', '0372214000001', '0372214000002', '0372214000003', '0372214000004', '0372214000005', '0372214000006', '0372214000007', '0372346000001', '0372358000001', '0372412000017', '0372640000001', '0373484000001', '0374658000001', '0376044000001', '0376186000001', '0376188000001', '0376860000001', '0377094000001', '0377094000002', '0377094000003', '0378232000001', '0378440000001', '0378440000002', '0378614000001', '0390660000001', '0393048000001', '0393464000001', '0393466000304', '0393466000305', '0393466000306', '0394952000001', '0395094000501', '0397476000001', '0450708000001', '0450708000002', '0450744000001', '0451092000001', '0451338000001', '0451482001001', '0451482001002', '0451482002001', '0451482002002', '0451526000001', '0452152000001', '0452152000002', '0452152000003', '0452152000004', '0452152000005', '0452152000006', '0452152000007', '0452152000008', '0452152000009', '0452152000010', '0452152000011', '0452152000012', '0452152000013', '0452152000014', '0452152000015', '0452152000016', '0452452000001', '0452452000002', '0452454000001', '0452454000002', '0452454000003', '0452456000001', '0452456000002', '0453342000001', '0453342000002', '0453342000003', '0453342000004', '0453620000001', '0454222000001', '0454600003022', '0454600003023', '0456058000001', '0456070000001', '0456070000002', '0456610000001', '0457002000001', '0457744000001', '0458198000001', '0458318000001', '0458784000001', '0458784000002', '0458784000003', '0470638000001', '0470638000002', '0470638000003', '0471350000001', '0473086000001', '0473656000001', '0474802000001', '0474808000001', '0475034000001', '0475128000001', '0476382001001', '0476382002001', '0476382003001', '0476382004001', '0476496000001', '0476806000014', '0477590000001', '0478484000001', '0478630000001', '0490342000001', '0490342000002', '0490400000001', '0490400000002', '0490400000003', '0490400000004', '0491206000001', '0491206000002', '0491206000003', '0491206000004', '0491206000005', '0491206000006', '0491206000007', '0491206000008', '0491206000010', '0491206000011', '0491206000012', '0491626000001', '0491626000002', '0491626000003', '0491626000004', '0491662000001', '0491988000003', '0491990000001', '0491990000002', '0491990000003', '0491990000004', '0491990000005', '0491990000006', '0491990000007', '0491990000008', '0491990000009', '0492776000001', '0492776000002', '0492776000003', '0492776000004', '0492776000005', '0492778000001', '0492778000002', '0492778000003', '0492778000004', '0492778000005', '0492778000006', '0492900001001', '0492900001002', '0492900001004', '0492900001006', '0492900002008', '0492900003016', '0492900004022', '0492900004025', '0492900005029', '0492900006040', '0492900006042', '0492900007045', '0492900007046', '0492900007048', '0492900007049', '0492900007050', '0492900008051', '0492900008056', '0492900009057', '0492900009058', '0492900009060', '0492902000001', '0492902000002', '0492902000003', '0492902000004', '0492902000005', '0492902000006', '0492902000007', '0492902000009', '0492902000012', '0492902000014', '0492902000015', '0492920000001', '0492920000002', '0492920000003', '0492920000004', '0492920000005', '0492922000001', '0492922000002', '0492922000003', '0492922000005', '0492922000007', '0492942000002', '0492942000003', '0493122000001', '0493122000002', '0493122000004', '0493180000001', '0493180000003', '0493180000004', '0493180000005', '0493180000006', '0493180000007', '0493180000008', '0493180000009', '0493328000001', '0493328000002', '0493328000003', '0493328000004', '0493330000001', '0493330000002', '0493330000003', '0493330000004', '0493330000005', '0493330000006', '0493330000007', '0493330000008', '0493330000009', '0493330000010', '0493330000011', '0493330000012', '0493330000013', '0493330000014', '0493330000015', '0494782000001', '0494782000002', '0495528000001', '0495530000003', '0495530000004', '0495598000003', '0495598000006', '0495598000011', '0495598000012', '0495598000013', '0495598000014', '0495598000015', '0495616000001', '0495616000002', '0495616000003', '0495616000004', '0495616000006', '0495616000007', '0495616000008', '0496818000001', '0496818000002', '0496818000003', '0496818000004', '0497770000001', '0497770000002', '0497770000004', '0497946000001', '0497946000003', '0497946000004', '0498238000001', '0498238000002', '0498238000003', '0498238000004', '0498238000005', '0570154000001', '0570154000002', '0570154000003', '0570326000001', '0570802000001', '0572512000001', '0572588000001', '0573108000001', '0574134000001', '0575704000001', '0575736000001', '0575888000001', '0576436000001', '0577100000001', '0577258000001', '0577730000001', '0578408000001', '0578662000001', '0594162000001', '0610032000001', '0630474000001', '0630842000001', '0631378000001', '0631714000001', '0636570000001', '0637220000001', '0638796000001', '0650080000001', '0650080000002', '0650080000003', '0650424000001', '0650424000002', '0651164000001', '0652142000001', '0652142000002', '0652142000003', '0652142000004', '0652142000005', '0652142000006', '0652142000007', '0652142000008', '0652142000009', '0652412000001', '0652412000002', '0652412000003', '0652412000004', '0652412000005', '0652412000006', '0652412000007', '0652412000008', '0652412000009', '0652412000010', '0652412000011', '0652412000012', '0652412000013', '0652412000014', '0652412000015', '0652412000016', '0654064000001', '0654600001001', '0654600001002', '0654600001003', '0654600001004', '0654600001005', '0654600001006', '0654600001007', '0654600001008', '0654600001009', '0654600001010', '0654600001045', '0654600002011', '0654600002012', '0654600002013', '0654600002014', '0654600002015', '0654600002016', '0654600002017', '0654600002018', '0654600002019', '0654600002020', '0654600002021', '0654600003024', '0654600003025', '0654600003026', '0654600003027', '0654600003028', '0654600003029', '0654600003030', '0654600003031', '0654600004032', '0654600004033', '0654600004034', '0654600004035', '0654600004036', '0654600004037', '0654600004038', '0654600004039', '0654600004040', '0654600004041', '0654600004042', '0654600004043', '0654600004044', '0654602000001', '0654602000002', '0654602000003', '0654602000004', '0654602000006', '0654708000001', '0654708000002', '0654718000001', '0654720000001', '0654904000001', '0655218000001', '0655218000002', '0655218000003', '0655314000001', '0655314000002', '0655314000003', '0655314000004', '0655314000005', '0655314000006', '0655314000007', '0655314000008', '0655314000009', '0655314000010', '0655314000011', '0655314000012', '0655314000013', '0655314000014', '0655314000015', '0655314000017', '0655314000018', '0655314000019', '0655314000020', '0656080000001', '0657658000001', '0657658000002', '0658222000001', '0658222000002', '0658652000001', '0658690000001', '0658742000001', '0658742000002', '0658744000001', '0658744000002', '0670690000001', '0670690000002', '0670690000003', '0670770000001', '0670968000001', '0670968000002', '0670968000003', '0671284000001', '0671972000001', '0672422000001', '0672422000002', '0674086001001', '0674086002001', '0674086003001', '0674086004001', '0674088000001', '0674252000001', '0674992000001', '0674992000002', '0674992000003', '0675872000001', '0676020000001', '0676020000002', '0676092000001', '0676116000001', '0676158000001', '0676586000001', '0676586000002', '0676588000001', '0676944000001', '0677212000001', '0690430000001', '0690492000001', '0692442000001', '0693428000001', '0696134000001', '0696134000003', '0696134000004', '0696464000002', '0697810000001', '0697814000001', '0731114000001', '0731558000001', '0731558000002', '0731688000001', '0731688000002', '0731706000001', '0732114000001', '0732114000002', '0732168000001', '0733068000001', '0733220000001', '0734116000001', '0734766000001', '0735602000001', '0735602000002', '0735602000003', '0735602000004', '0735602000005', '0735602000006', '0735602000007', '0735936000001', '0736930000001', '0737320000001', '0738134000001', '0738134000002', '0738134000003', '0738200000001', '0738804000001', '0770084000001', '0770084000002', '0770992000001', '0770992000002', '0771472000001', '0771646000001', '0771768000001', '0771768000002', '0771768000003', '0771768000004', '0771768000005', '0771768000006', '0771768000007', '0771768000008', '0771798000001', '0771798000002', '0771798000003', '0771798000004', '0771798000005', '0773126000001', '0774216000001', '0774216000002', '0774216000003', '0774216000004', '0774216000005', '0774216000006', '0774216000007', '0774216000008', '0774216000009', '0774216000010', '0774216000011', '0774216000012', '0774216000013', '0774216000014', '0774216000015', '0774216000016', '0774216000017', '0774216000018', '0774216000019', '0774216000020', '0774216000021', '0774216000022', '0774216000023', '0774216000024', '0774216000025', '0774216000026', '0774216000027', '0774218000001', '0774218000002', '0774218000003', '0774218000004', '0774218000005', '0774218000007', '0774218000008', '0774218000009', '0774218000010', '0774218000011', '0774218000012', '0776140000001', '0776140000002', '0776140000003', '0776140000004', '0776140000005', '0776140000006', '0776140000007', '0776140000008', '0776140000009', '0776140000010', '0776234000001', '0776296000001', '0776296000002', '0776296000003', '0776556000001', '0776556000002', '0776556000003', '0776556000004', '0776556000005', '0776556000006', '0776556000007', '0776556000008', '0776556000009', '0776556000010', '0776556000011', '0776556000012', '0776556000013', '0776556000014', '0776556000015', '0776556000016', '0776556000017', '0776556000018', '0776556000019', '0776620000001', '0776826000001', '0776826000002', '0776826000003', '0776982000001', '0776982000002', '0777188000001', '0777188000002', '0777188000003', '0777188000004', '0777930000001', '0777930000002', '0777930000003', '0777930000004', '0777930000005', '0777930000006', '0778284000001', '0790944000001', '0791634000001', '0791700000001', '0793160000001', '0794228000001', '0794228000002', '0796094000001', '0796718000001', '0797572000001', '0810024000001', '0810024000002', '0810024000003', '0810024000004', '0810024000005', '0810024000006', '0810024000007', '0810024000008', '0810116000001', '0810116000002', '0810116000003', '0810116000004', '0810116000005', '0810184000001', '0810184000002', '0810184000003', '0810184000004', '0810184000005', '0810184000006', '0810978000001', '0811224000001', '0811224000002', '0811224000003', '0811224000004', '0811224000005', '0811224000006', '0811224000007', '0811224000008', '0811250000001', '0811250000002', '0811250000003', '0811250000004', '0811250000005', '0811308000001', '0811308000002', '0811308000003', '0811308000004', '0811308000005', '0811308000006', '0811366000001', '0811366000002', '0811366000003', '0811366000004', '0811366000005', '0811366000006', '0811366000007', '0811366000008', '0811420000001', '0811850000001', '0811850000002', '0811850000003', '0812398001001', '0812398001002', '0812398002003', '0812398002004', '0812398003005', '0812398003006', '0813124000001', '0813124000002', '0813124000003', '0813124000004', '0813124000005', '0813124000006', '0813124000007', '0813124000008', '0813124000009', '0813400001001', '0813400001002', '0813400001003', '0813400001004', '0813400001005', '0813400001006', '0813400001007', '0813400001008', '0813400001009', '0813400001010', '0813400001011', '0813400001012', '0813400001013', '0813400001014', '0813400001015', '0813400001016', '0813400001017', '0813400001018', '0813400001019', '0813400001020', '0813400001021', '0813400001022', '0813400001023', '0813400001024', '0813400002025', '0813400002026', '0813400002027', '0813400002028', '0813400002029', '0813400002030', '0813400002031', '0813400002032', '0813400002033', '0813400002034', '0813400002035', '0813400002036', '0813400002037', '0813400002038', '0813400002039', '0813400002040', '0813400002041', '0813400002042', '0813400002043', '0813400002044', '0813400002045', '0813400002046', '0813400002047', '0813400002048', '0813400002049', '0813400002050', '0813400003051', '0813400003052', '0813400003053', '0813400003054', '0813400003055', '0813400003056', '0813400003057', '0813400003058', '0813400003059', '0813400003060', '0813400003061', '0813400003062', '0813400003063', '0813400003064', '0813400003065', '0813400003066', '0813400003067', '0813400003068', '0813400003069', '0813400003070', '0813400003071', '0813400003072', '0813400003073', '0813400003074', '0813400003075', '0813400003076', '0813400003077', '0813402000001', '0813402000002', '0813402000003', '0813402000004', '0813402000005', '0813402000006', '0813402000007', '0813402000008', '0813402000009', '0813416000001', '0813416000002', '0813416000003', '0813416000004', '0813416000005', '0813416000006', '0813456000001', '0813456000002', '0814282001001', '0814282001002', '0814282001003', '0814282001004', '0814282001005', '0814282001006', '0814282001007', '0814282001008', '0814282001009', '0814282002010', '0814282002011', '0814282002012', '0814282002013', '0814282002014', '0814282002015', '0814282002016', '0814954000001', '0814954000002', '0814956000001', '0814956000002', '0815692000001', '0815692000002', '0815692000003', '0815958000001', '0815958000002', '0815958000003', '0816466000001', '0816466000002', '0816466000003', '0816466000004', '0816466000005', '0816466000006', '0816466000007', '0816466000008', '0816466000009', '0816466000010', '0816466000011', '0816908000001', '0816908000002', '0817446000001', '0817446000002', '0817544000001', '0817544000002', '0817544000003', '0817556000001', '0818114000001', '0818114000002', '0818192000001', '0818192000002', '0818296001001', '0818296001002', '0818296001003', '0818296002004', '0818296002005', '0818296002006', '0818296003007', '0818296003008', '0818296003009', '0818894001001', '0818894001002', '0818894001003', '0818894001004', '0818894001005', '0818894001006', '0818894001007', '0818894001008', '0818894001009', '0818894002010', '0818894002011', '0818894002012', '0818894002013', '0818894002014', '0818894002015', '0818894002016', '0818894002017', '0818894002018', '0818894002019', '0818894002020', '0818894003021', '0818894003022', '0818894003023', '0818894003024', '0818894003025', '0818894003026', '0818894003027', '0818894003028', '0818894003029', '0818894003030', '0916684000001', '0971606000001', '0975028000001', '0975548000001', '0976560000001', '0977084000001', '0990354000001', '0990354000002', '0991130000001', '0991130000002', '0991130000003', '0991130000004', '0991432000001', '0991432000002', '0991432000003', '0991534000001', '0991534000002', '0991534000003', '0991534000004', '0991534000005', '0991534000006', '0991534000007', '0991534000008', '0991534000009', '0991534000010', '0991534000011', '0991534000012', '0991534000013', '0991534000014', '0991652000001', '0991652000003', '0991652000005', '0991652000006', '0991652000007', '0991652000008', '0991652000009', '0991652000010', '0991652000011', '0991652000012', '0991652000013', '0991652000015', '0991652000016', '0991652000017', '0991652000018', '0991652000019', '0991652000021', '0991652000022', '0991652000023', '0991652000024', '0991652000025', '0991652000026', '0991652000027', '0991652000028', '0991652000029', '0991652000030', '0991652000031', '0991652000032', '0991652000033', '0991652000034', '0991652000035', '0991652000036', '0991652000037', '0991652000038', '0991652000039', '0991652000040', '0991652000041', '0991652000042', '0991652000043', '0991652000044', '0991652000045', '0991652000046', '0992429000001', '0992429000002', '0992429000003', '0992429000004', '0992429000005', '0992429000006', '0992429000007', '0992429000008', '0992429000009', '0992429000010', '0992429000011', '0992429000012', '0993042000001', '0993042000002', '0993042000003', '0993042000004', '0993042000006', '0993042000007', '0993682000001', '0993682000002', '0993682000003', '0993682000004', '0993682000005', '0993682000006', '0993682000007', '0993682000008', '0993682000009', '0993682000010', '0994690000001', '0994690000002', '0994690000003', '0994690000004', '0995048000001', '0995048000002', '0995048000003', '0995048000004', '0995048000005', '0995048000006', '0995048000007', '0995048000008', '0995048000009', '0995048000010', '0995048000011', '0995048000012', '0995048000013', '0995048000014', '0995048000015', '0995048000016', '0995048000017', '0995048000018', '0995048000019', '0995048000020', '0995048000021', '0995048000022', '0995048000023', '0995048000024', '0995048000025', '0995048000026', '0995048000027', '0995048000028', '0995048000029', '0995048000030', '0995048000031', '0995048000032', '0995048000033', '0995048000034', '0995048000035', '0995582000001', '0995582000002', '0995582000003', '0995582000004', '0995582000005', '0995582000006', '0995582000009', '0995710000001', '0995710000002', '0995710000003', '0995710000004', '0995710000005', '0996742000001', '0996742000002', '0996838000001', '0996838000002', '0996840000001', '0996840000002', '0996980000001', '0996980000002', '0996980000003', '0996980000004', '0996980000005', '0996980000006', '0996980000007', '0996980000008', '0996980000009', '0996980000010', '0996980000011', '0996980000012', '0996980000013', '0996980000014', '0996980000015', '0997076000001', '0997076000002', '0997076000003', '0997076000004', '0997076000005', '0997076000006', '0997076000007', '0997076000008', '0997076000009', '0997076000010', '0997076000011', '0997076000012', '0997076000013', '0997076000014', '0997076000015', '0997076000016', '0997076000017', '0997076000018', '0997076000019', '0997076000020', '0997076000021', '0997076000022', '0997076000023', '0997282000001', '0997282000002', '0997282000003', '0997282000004', '0997282000005', '0997282000006', '0997282000007', '0997282000008', '0997282000009', '0997282000010', '0997282000011', '0997282000012', '0997282000013', '0997282000014', '0997282000015', '0997282000016', '0997282000017', '0997282000018', '0997282000019', '0997282000020', '0997282000021', '0997282000022', '0997282000023', '0997282000024', '0997282000025', '0997282000026', '0997282000027', '0997282000028', '0997282000029', '0997646000001', '0997646000002', '0997646000003', '0997646000004', '0997646000005', '0997646000006', '0997646000007', '0997646000008', '0997646000009', '0997646000010', '0997646000011', '0997646000012', '0997646000013', '0997646000014', '0997646000015', '0997646000016', '0997646000017', '0997646000018', '0997646000019', '0997646000020', '0997646000021', '0997646000022', '0997646000023', '0997646000024', '0997646000025', '0997646000026', '0997646000027', '0997646000028', '0997646000029', '0997646000030', '0997646000031', '0997646000032', '0997646000033', '0997646000034', '0997646000035', '0997646000036', '0997646000037', '0997646000038', '0997646000039', '0997646000040', '0997646000041', '0997646000042', '0997646000043', '0997646000044', '0997646000045', '0998154000002', '0998154000003', '0998400001001', '0998400001002', '0998400001005', '0998400001006', '0998400001019', '0998400001034', '0998400001038', '0998400001046', '0998400001047', '0998400001056', '0998400002020', '0998400002035', '0998400002036', '0998400002037', '0998400002041', '0998400002043', '0998400002044', '0998400002045', '0998400002048', '0998400002055', '0998400002057', '0998400003010', '0998400003014', '0998400003024', '0998400003025', '0998400003028', '0998400003032', '0998400003049', '0998400003051', '0998400003052', '0998400003053', '0998400003054', '0998400004015', '0998400004016', '0998400004017', '0998400004026', '0998400004027', '0998400004030', '0998400004031', '0998400004033', '0998400004050', '0998400004058', '0998400005003', '0998400005004', '0998400005007', '0998400005008', '0998400005009', '0998400005012', '0998400005022', '0998400005023', '0998412000001', '0998412000002', '0998412000003', '0998412000004', '0998412000005', '0998412000006', '0998412000007', '0998412000008', '0998412000009', '0998412000010', '1015074000001', '1031566000001', '1031566000002', '1032582000001', '1032972000001', '1032972000002', '1032972000003', '1033994000001', '1034122000001', '1034122000002', '1034124000001', '1034124000002', '1035190000001', '1035190000002', '1035190000003', '1035190000004', '1035190000005', '1035190000006', '1035190000007', '1035192000001', '1035192000002', '1035354000001', '1035686000001', '1035686000002', '1035688000001', '1036612000001', '1036800000001', '1036842000001', '1037146000001', '1037411000001', '1037978000001', '1038554000001', '1050198000001', '1051002000001', '1051944000001', '1052482000001', '1053062000001', '1053432000001', '1053622000001', '1053622000002', '1054964001001', '1054964002001', '1054964003001', '1054964004001', '1054964005001', '1054964006001', '1056360000001', '1056360000002', '1056886000001', '1057208001001', '1057208002002', '1057306000001', '1057324000001', '1057722000001', '1058236000001', '1093676000001', '1095302000002', '1095302000003', '1095302000004', '1095304000001', '1111710000001', '1112483000001', '1113182000001', '1113486000001', '1113898000001', '1113898000002', '1113898000003', '1113916000001', '1114062000001', '1114062000002', '1114156000001', '1114176000001', '1114176000002', '1114176000003', '1114176000004', '1114616000001', '1114616000002', '1114616000003', '1114664000001', '1114664000002', '1114768000001', '1115378001001', '1115378001002', '1115378001003', '1115378001004', '1115378001005', '1115378002001', '1115378002002', '1115378002003', '1115378002004', '1115378003001', '1115378003002', '1115378003003', '1115378003004', '1115378004001', '1115378004002', '1115378004003', '1115378004004', '1115378004005', '1115378005001', '1115378005002', '1115378005003', '1115378005004', '1115378005005', '1115380000001', '1115432000001', '1115594000001', '1116574000001', '1118402000001', '1130052000001', '1130908000001', '1131244000001', '1131590000001', '1132944000001', '1134438000001', '1134448000001', '1134998000001', '1135928000001', '1136446000001', '1136784000001', '1136828000001', '1136882000001', '1150368000001', '1150368000002', '1150368000003', '1150674000001', '1150674000002', '1150674000003', '1150674000004', '1150674000005', '1150674000006', '1150674000007', '1150674000008', '1150674000009', '1150674000010', '1150674000011', '1150674000012', '1150674000013', '1150674000014', '1150772000001', '1150772000002', '1150772000003', '1150772000004', '1152340000001', '1152340000002', '1152340000003', '1152632000001', '1152632000002', '1152688000001', '1152688000002', '1153082000001', '1153082000002', '1153082000003', '1153082000004', '1153082000005', '1153082000006', '1153082000007', '1153082000008', '1153082000009', '1154026000001', '1154026000002', '1154626000001', '1154626000002', '1154918000001', '1154970000001', '1155390000001', '1155392000001', '1155502000001', '1155502000002', '1155502000003N', '1155502000003S', '1155502000004', '1155502000005', '1155502000006', '1155504000001', '1155504000002', '1155504000003', '1155504000004', '1155504000005', '1155504000006', '1156380000001', '1156690000001', '1156690000002', '1157714000001', '1158674000001', '1158674000002', '1170720000001', '1170904000001', '1171212000001', '1171360000001', '1171400000001', '1171908000001', '1171992000001', '1172276000001', '1172652000001', '1172652000002', '1172672000001', '1172672000002', '1172718000001', '1172790000001', '1173510000001', '1173510000002', '1173510000003', '1173510000004', '1173884000001', '1175134000001', '1175134000002', '1175514000001', '1176404000001', '1176420000001', '1176812000001', '1176812000002', '1176830000001', '1177384000001', '1177622000001', '1178788000001', '1230370000001', '1230562000001', '1230828000001', '1231050000001', '1231106000001', '1231106000002', '1231898000001', '1231996000001', '1232170000001', '1232616000001', '1232670000001', '1233070000001', '1233070000002', '1233164000001', '1233436000001', '1233438000001', '1234744000001', '1234770000001', '1235708000001', '1237312000001', '1237326000001', '1238668000001', '1238720000001', '1250040000001', '1250040000002', '1250040000003', '1250410500001', '1250410500002', '1250410500003', '1250410500004', '1250410500005', '1250410500006', '1250410500007', '1250410500008', '1250410500009', '1250766000001', '1250766000002', '1250766000003', '1250766000004', '1250766000005', '1250766000006', '1250766000007', '1250864000001', '1250864000002', '1250864000003', '1250864000004', '1250864000005', '1250864000006', '1250864000007', '1250864000008', '1250864000009', '1250911000001', '1250911000002', '1250911000003', '1250911000004', '1250911000005', '1250911000006', '1250911000007', '1250911000008', '1250911000009', '1250911000010', '1250911000011', '1250911000012', '1250911000013', '1250911000014', '1250911000015', '1250911000016', '1250911000017', '1250911000018', '1250911000019', '1250911000020', '1250911000021', '1250911000022', '1250911000023', '1250911000024', '1250911000025', '1250911000026', '1250911000027', '1250911000028', '1250911000029', '1250911000030', '1250911000031', '1250911000032', '1250918000001', '1250918000002', '1251004000001', '1251004000002', '1251004000003', '1251004000004', '1251004000005', '1251004000006', '1251616000001', '1251616000002', '1251616000003', '1251616000004', '1251616000005', '1251764000001', '1251764000002', '1251764000003', '1251764000004', '1251764000005', '1251764000006', '1251764000007', '1251764000008', '1251764000009', '1251764000010', '1251764000011', '1251764000012', '1251764000013', '1251764000014', '1251764000015', '1252738001001', '1252738001002', '1252738001003', '1252738001004', '1252738001005', '1252738001006', '1252744000001', '1252744000002', '1252744000003', '1252744000004', '1252744000005', '1252744000006', '1252744000007', '1252744000008', '1252744000009', '1252744000010', '1252744000011', '1252744000012', '1252744000013', '1252744000014', '1252744000015', '1252744000016', '1252744000017', '1252744000018', '1252744000019', '1252744000020', '1252744000021', '1252744000022', '1252744000023', '1252744000024', '1252744000025', '1252744000026', '1252744000027', '1252788000001', '1252788000002', '1252788000003', '1252788000004', '1252788000005', '1252788000006', '1252788000007', '1252788000008', '1252788000009', '1253564000001', '1253564000002', '1253564000003', '1253742000001', '1253742000002', '1253742000003', '1253742000004', '1253742000005', '1253808000001', '1253808000002', '1253808000003', '1253808000004', '1253808000005', '1253808000006', '1253808000007', '1253808000008', '1253872000001', '1253872000002', '1253872000003', '1253872000004', '1254000000001', '1254000000002', '1254000000003', '1254000000004', '1254000000005', '1254040000001', '1254040000002', '1254040000003', '1254040000004', '1254040000005', '1254040000006', '1254040000007', '1254040000008', '1254040000009', '1254040000010', '1254040000011', '1254040000012', '1254040000013', '1254246000001', '1254632000001', '1254632000002', '1254982000001', '1254982000002', '1254982000003', '1254982000004', '1254982000005', '1254982000006', '1255056000001', '1255056000002', '1255056000003', '1255056000004', '1255056000005', '1255056000007', '1255056000008', '1255056000009', '1255056000010', '1255056000011', '1255398000001', '1255398000002', '1255398000003', '1255398000004', '1255398000005', '1255398000006', '1255398000007', '1255398000008', '1255898000002', '1255944000001', '1255944000002', '1255944000003', '1255944000004', '1255944000005', '1255944000006', '1255944000007', '1255944000008', '1255944000009', '1255944000010', '1255944000011', '1255944000012', '1255944000013', '1255944000014', '1255944000015', '1255944000016', '1255944000017', '1255944000018', '1255944000019', '1255944000020', '1255944000021', '1255944000022', '1255982000001', '1255982000002', '1255982000003', '1255982000004', '1255982000005', '1255982000006', '1255982000007', '1255982000008', '1255992000001', '1255992000002', '1255992000003', '1255992000004', '1255992000005', '1255992000006', '1255992000007', '1255992000008', '1255992000009', '1255992000010', '1255992000011', '1255992000012', '1255992000013', '1255992000014', '1255992000015', '1255992000016', '1256102000001', '1256110000001', '1256110000002', '1256110000003', '1256110000004', '1256110000005', '1256110000006', '1256110000007', '1256110000008', '1256110000009', '1256110000010', '1256110000011', '1256110000012', '1256110000013', '1256110000014', '1256110000015', '1256204000001', '1256204000002', '1256204000003', '1256204000004', '1256204000005', '1256204000006', '1256204000007', '1256490000001', '1256490000002', '1256544001001', '1256544001002', '1256544001003', '1256544002004', '1256544002005', '1256544002006', '1256544003007', '1256544003008', '1256544003009', '1256544004011', '1256544004012', '1256544005013', '1256544005014', '1256544005015', '1256544006016', '1256544006017', '1256544006018', '1256544007019', '1256544007020', '1256544007021', '1256902000001', '1256902000002', '1256902000003', '1256902000004', '1256902000005', '1256903501006', '1256903501008', '1256903501014', '1256903501017', '1256903501022', '1256903501023', '1256903501026', '1256903501029', '1256903502004', '1256903502007', '1256903502009', '1256903502010', '1256903502018', '1256903502019', '1256903502021', '1256903502025', '1256903502032', '1256903503001', '1256903503002', '1256903503003', '1256903503012', '1256903503013', '1256903503016', '1256903503024', '1256903503031', '1256903504005', '1256903504011', '1256903504015', '1256903504020', '1256903504027', '1256903504028', '1256903504030', '1256958000001', '1256958000002', '1256958000003', '1257004000001', '1257004000002', '1257004000003', '1257004000004', '1257004000005', '1257004000006', '1257004000007', '1257004000008', '1257004000009', '1257004000010', '1257004000011', '1257004000012', '1257004000013', '1257004000014', '1257004000015', '1257004000016', '1257004000017', '1257004000018', '1257004000019', '1257004000020', '1257004000021', '1257004000022', '1257004000023', '1257004000024', '1257006000001', '1257006000002', '1257490000001', '1257490000002', '1257490000003', '1257490000004', '1257490000005', '1257490000006', '1257490000007', '1257490000008', '1257490000009', '1257490000010', '1257490000011', '1257490000012', '1257490000013', '1257490000014', '1257490000015', '1257490000016', '1257490000017', '1257490000018', '1257490000019', '1257490000020', '1257490000021', '1257490000022', '1257490000023', '1257490000024', '1257490000025', '1257490000026', '1257490000027', '1257490000028', '1257490000029', '1257490000030', '1257490000031', '1257490000032', '1257490000033', '1257490000034', '1257490000035', '1257490000036', '1257492000001', '1257492000002', '1257492000003', '1257492000004', '1257492000005', '1257492000006', '1257492000007', '1257492000008', '1257492000009', '1257492000010', '1257510000001', '1257510000002', '1257510000003', '1257510000004', '1257576000001', '1257576000002', '1257576000003', '1257576000004', '1257576000005', '1257576000006', '1257576000007', '1257786000001', '1258070000001', '1258070000002', '1258070000003', '1258070000004', '1258070000005', '1258070000006', '1258070000007', '1258070000008', '1258070000009', '1258070000010', '1258070000011', '1258070000012', '1258070000013', '1258070000014', '1258070000015', '1258070000016', '1258070000017', '1258070000018', '1258070000019', '1258070000020', '1258070000021', '1258070000022', '1258070000023', '1258070000024', '1258070000025', '1258070000026', '1258070000027', '1258070000028', '1258070000029', '1258070000030', '1258070000031', '1258245000001', '1258306000001', '1258306000002', '1258424000001', '1258424000002', '1258424000003', '1258424000004', '1258424000005', '1258424000006', '1258424000007', '1258424000008', '1258424000009', '1258424000010', '1258424000011', '1258424000012', '1258424000013', '1258424000014', '1258424000015', '1258424000016', '1258424000017', '1258424000018', '1258424000019', '1258424000020', '1258424000021', '1258424000022', '1258424000023', '1258424000024', '1258424000025', '1258424000026', '1258424000027', '1258424000028', '1258424000029', '1258548000001', '1258548000002', '1258548000003', '1258548000004', '1258548000005', '1258548000006', '1258548000007', '1258548000008', '1258548000009', '1258548000010', '1258548000011', '1258548000012', '1258548000013', '1258548000014', '1258548000015', '1258548000016', '1258548000017', '1258548000018', '1258548000019', '1258548000020', '1258548000021', '1258548000022', '1258548000023', '1258548000024', '1258548000025', '1258686000001', '1258686000002', '1258686000003', '1258686000004', '1258686000005', '1258686000006', '1258686000007', '1258686000008', '1258686000009', '1258686000010', '1258686000011', '1258686000012', '1258814000001', '1258814000002', '1258814000003', '1258814000004', '1298560000001', '1331168000001', '1332664000001', '1332666000001', '1333784000001', '1333810000001', '1334712000001', '1334772000001', '1335168000001', '1336782000001', '1336844000001', '1336976000001', '1337328000001', '1350822000001', '1350822000002', '1351654000001', '1351760000001', '1352550000001', '1353520000001', '1355312000001', '1432164000001', '1432164000002', '1433196000001', '1435178000001', '1436956000002', '1450092000001', '1450856000001', '1450856000002', '1450856000003', '1450940000001', '1450994000001', '1451010000001', '1451046000001', '1451046000002', '1451046000003', '1451046000004', '1451046000005', '1451156000001', '1451156000002', '1451156000003', '1451156000004', '1451156000005', '1451354000001', '1451354000002', '1451466000001', '1451516000001', '1451516000002', '1453020000001', '1453020000002', '1453022000001', '1453022000002', '1453072000001', '1454148000001', '1454190000001', '1454380000001', '1454456000001', '1455106000001', '1455170000001', '1456834000001', '1456834000002', '1457052000001', '1457052000002', '1457052000003', '1457052000004', '1457052000005', '1457052000006', '1457052000007', '1457052000008', '1457052000009', '1457052000010', '1457052000011', '1457052000012', '1457052000013', '1457052000014', '1457052000015', '1457052000016', '1457054000001', '1457054000002', '1457054000003', '1457054000004', '1457054000005', '1457054000006', '1457054000007', '1457054000008', '1457054000009', '1457054000010', '1457054000011', '1457054000012', '1457054000013', '1457054000014', '1457054000015', '1457054000016', '1457066000001', '1457066000002', '1457548000001', '1457766000001', '1457910000001', '1457910000002', '1457952000001', '1457952000002', '1457952000003', '1457952000004', '1457952000005', '1457952000006', '1457952000007', '1457984000001', '1457984000002', '1457984000003', '1457984000004', '1458932000001', '1511892000001', '1514730000001', '1517154000001', '1517158000001', '1518876000001', '1518876000002', '1533794000001', '1535076000002', '1535078000001', '1550312000001', '1550728000001', '1551188000001', '1551252000001', '1551252000002', '1551830000001', '1552350000001', '1552350000002', '1552704000001', '1553744000001', '1554420000001', '1555368000001', '1555740000001', '1556194001001', '1556194002001', '1556194002002', '1556194002003', '1556194002004', '1556194006001', '1556196000001', '1556196000002', '1556196000003', '1556370000001', '1556372000001', '1556372000002', '1557026000001', '1557196000001', '1557352000001', '1558188000001', '1558188000002', '1558204000001', '1558204000002', '1558840000001', '1570072000001', '1570162000001', '1570322000001', '1570322000002', '1571342000001', '1571342000002', '1571742000001', '1571998000001', '1572160000001', '1572160000002', '1572530000001', '1572530000002', '1572538000001', '1572572000001', '1572710000001', '1573076000001', '1573216000001', '1574044000001', '1574214000001', '1574340000001', '1574388000001', '1575424000001', '1575424000002', '1575942000001', '1578094000001', '1578184000001', '1578186000001', '1578186000002', '1578446000001', '1578528000001', '1590160000001', '1590160000002', '1590314000001', '1590314000002', '1590314000003', '1590314000004', '1590314000005', '1590350000001', '1590514000001', '1590516000001', '1590924000001', '1591744000001', '1591856000001', '1591856000002', '1592106000001', '1593184000001', '1593264000001', '1593618000001', '1593696000001', '1593698000001', '1594250000001', '1594646000001', '1596300000001', '1596300000002', '1596300000003', '1596428000001', '1596576000001', '1597498001001', '1597498002001', '1597498003001', '1597500000001', '1597500000002', '1598482000001', '1610300001001', '1610300001002', '1610300001003', '1610300001004', '1610300001005', '1610300001006', '1610300001007', '1610300001008', '1610300001009', '1610300001010', '1610300002001', '1610300002002', '1610300002003', '1610300002004', '1610300002005', '1610300002006', '1610300002007', '1610300002008', '1610300002009', '1610300003001', '1610300003002', '1610300003003', '1610300003004', '1610300003005', '1610300003006', '1610300003007', '1610300003008', '1610300003009', '1610300004001', '1610300004002', '1610300004003', '1610300004004', '1610300004005', '1610300004006', '1610300004007', '1610300004008', '1610300004009', '1610300004010', '1610300005001', '1610300005002', '1610300005003', '1610300005004', '1610300005005', '1610300005006', '1610300005007', '1610300005008', '1610300005009', '1610300005010', '1610300005011', '1610302000001', '1610302000002', '1610418000001', '1610418000002', '1610418000003', '1611056000001', '1611502000001', '1611502000002', '1612216000001', '1612216000002', '1612218000001', '1612218000002', '1612218000003', '1613052000001', '1614746000001', '1614912000001', '1614912000002', '1614912000003', '1614978000001', '1615068000001', '1615068000002', '1615392000001W', '1615828000001', '1615828000002', '1615828000003', '1616456000001', '1616456000002', '1616456000003', '1616456000004', '1616456000005', '1616456000006', '1616456000007', '1616456000008', '1616456000009', '1616456000010', '1617113000001', '1617113000002', '1617113000003', '1617114000001', '1617114000002', '1617114000003', '1617116000001', '1617194000002', '1617194000003', '1617194000004', '1617194000005', '1617194000006', '1617194000007', '1617194000008', '1617194000009', '1617276000001', '1617756000001', '1617756000002', '1617756000003', '1617756000004', '1617756000005', '1617780000001', '1618510000001', '1618510000002', '1618510000003', '1618910000001', '1618910000002', '1618910000003', '1618914001001', '1618914001002', '1618914001003', '1618914002001', '1618914002002', '1618914002003', '1618914002004', '1618914003001', '1618914003002', '1618914003003', '1618916000001', '1618916000002', '1618916000003', '1618916000004', '1618916000005', '1618916000006', '1618916000007', '1618916000008', '1618916000009', '1618916000010', '1618916000011', '1618916000012', '1618916000013', '1618916000014', '1618916000015', '1618916000017', '1618916000018', '1618916000019', '1618916000020', '1631122000001', '1631122000002', '1631122000004', '1631122000006', '1631122000009', '1631122000010', '1631312000005', '1631312000008', '1631312000011', '1631312000017', '1631312000026', '1631312000029', '1631312000033', '1632200001251', '1632200001252', '1632200001253', '1632200001254', '1632200001261', '1632200001262', '1632200001263', '1632200001264', '1632200001265', '1632200001266', '1632200001267', '1632200001268', '1632200001269', '1632200001270', '1632200001271', '1632200001272', '1632200001273', '1632200001274', '1632200001275', '1632200001276', '1632200001277', '1632200001278', '1632200001279', '1632200001280', '1632200001281', '1632200001282', '1632200001283', '1632200001284', '1632200001285', '1632200001286', '1632200001287', '1632200001297', '1632200001298', '1632200001299', '1632200001300', '1632200001301', '1632200001302', '1632200001303', '1632200001304', '1632200001305', '1632200001306', '1632200001307', '1632200001308', '1632200001309', '1632200001310', '1632200001311', '1632200001312', '1632200001315', '1632200001316', '1632200001317', '1632200001318', '1632200001319', '1632200001320', '1632200001321', '1632200001322', '1632200001323', '1632200001324', '1632200001325', '1632200001326', '1632200001327', '1632200001328', '1632200001329', '1632200001350', '1632200001351', '1632200001352', '1632200001353', '1632200001354', '1632200001357', '1632200001358', '1632200001359', '1632200001360', '1632200001361', '1632200001362', '1632200001378', '1632200001379', '1632200001490', '1632200002198', '1632200002199', '1632200002200', '1632200002201', '1632200002202', '1632200002203', '1632200002204', '1632200002205', '1632200002206', '1632200002207', '1632200002208', '1632200002209', '1632200002210', '1632200002211', '1632200002212', '1632200002213', '1632200002214', '1632200002215', '1632200002216', '1632200002217', '1632200002219', '1632200002221', '1632200002222', '1632200002223', '1632200002224', '1632200002225', '1632200002226', '1632200002227', '1632200002228', '1632200002229', '1632200002230', '1632200002231', '1632200002232', '1632200002233', '1632200002234', '1632200002235', '1632200002236', '1632200002237', '1632200002238', '1632200002239', '1632200002240', '1632200002241', '1632200002242', '1632200002243', '1632200002244', '1632200002245', '1632200002246', '1632200002247', '1632200002248', '1632200002249', '1632200002250', '1632200002255', '1632200002256', '1632200002257', '1632200002258', '1632200002259', '1632200002260', '1632200002288', '1632200002289', '1632200002290', '1632200002291', '1632200002292', '1632200002293', '1632200002294', '1632200002295', '1632200002296', '1632200002313', '1632200002314', '1632200002380', '1632200002381', '1632200002382', '1632200002383', '1632200002384', '1632200002385', '1632200002386', '1632200002387', '1632200002388', '1632200002389', '1632200002391', '1632200002392', '1632200002403', '1632200003061', '1632200003062', '1632200003063', '1632200003064', '1632200003065', '1632200003066', '1632200003067', '1632200003068', '1632200003069', '1632200003070', '1632200003071', '1632200003072', '1632200003073', '1632200003074', '1632200003075', '1632200003077', '1632200003078', '1632200003079', '1632200003080', '1632200003081', '1632200003082', '1632200003083', '1632200003084', '1632200003085', '1632200003086', '1632200003087', '1632200003088', '1632200003089', '1632200003090', '1632200003091', '1632200003092', '1632200003093', '1632200003094', '1632200003095', '1632200003096', '1632200003097', '1632200003100', '1632200003101', '1632200003102', '1632200003107', '1632200003108', '1632200003172', '1632200003173', '1632200003174', '1632200003175', '1632200003176', '1632200003177', '1632200003178', '1632200003179', '1632200003180', '1632200003181', '1632200003182', '1632200003183', '1632200003184', '1632200003185', '1632200003186', '1632200003187', '1632200003188', '1632200003189', '1632200003190', '1632200003191', '1632200003192', '1632200003193', '1632200003194', '1632200003195', '1632200003196', '1632200003197', '1632200004004', '1632200004005', '1632200004006', '1632200004007', '1632200004008', '1632200004009', '1632200004010', '1632200004011', '1632200004012', '1632200004013', '1632200004014', '1632200004015', '1632200004016', '1632200004017', '1632200004018', '1632200004019', '1632200004020', '1632200004021', '1632200004022', '1632200004023', '1632200004024', '1632200004025', '1632200004026', '1632200004027', '1632200004028', '1632200004029', '1632200004030', '1632200004031', '1632200004032', '1632200004033', '1632200004034', '1632200004035', '1632200004036', '1632200004037', '1632200004038', '1632200004039', '1632200004040', '1632200004041', '1632200004042', '1632200004043', '1632200004044', '1632200004045', '1632200004046', '1632200004047', '1632200004048', '1632200004049', '1632200004050', '1632200004051', '1632200004052', '1632200004053', '1632200004054', '1632200004055', '1632200004056', '1632200004057', '1632200004058', '1632200004059', '1632200004060', '1632200004076', '1632200004103', '1632200004104', '1632200004105', '1632200004106', '1632200004110', '1632200004111', '1632200004112', '1632200004113', '1632200004114', '1632200005001', '1632200005002', '1632200005003', '1632200005098', '1632200005099', '1632200005115', '1632200005116', '1632200005117', '1632200005118', '1632200005119', '1632200005120', '1632200005121', '1632200005122', '1632200005123', '1632200005124', '1632200005125', '1632200005126', '1632200005127', '1632200005128', '1632200005129', '1632200005130', '1632200005131', '1632200005132', '1632200005133', '1632200005134', '1632200005135', '1632200005136', '1632200005137', '1632200005138', '1632200005139', '1632200005140', '1632200005141', '1632200005142', '1632200005152', '1632200005155', '1632200005156', '1632200005158', '1632200005159', '1632200005160', '1632200005161', '1632200005162', '1632200005163', '1632200005164', '1632200005165', '1632200005166', '1632200005167', '1632200005168', '1632200005169', '1632200005170', '1632200005171', '1632200005218', '1632200005220', '1632200005432', '1632200005433', '1632200005434', '1632200005435', '1632200005436', '1632200005437', '1632200005438', '1632200005439', '1632200005440', '1632200005441', '1632200005442', '1632200005443', '1632200005444', '1632200005445', '1632200005446', '1632200005447', '1632200005448', '1632200005449', '1632200005452', '1632200005454', '1632200005455', '1632200005456', '1632200006143', '1632200006144', '1632200006145', '1632200006146', '1632200006147', '1632200006148', '1632200006149', '1632200006150', '1632200006151', '1632200006153', '1632200006154', '1632200006157', '1632200006416', '1632200006417', '1632200006418', '1632200006419', '1632200006420', '1632200006421', '1632200006422', '1632200006423', '1632200006424', '1632200006425', '1632200006450', '1632200006451', '1632200006453', '1632200006457', '1632200006458', '1632200006459', '1632200006460', '1632200006461', '1632200006462', '1632200006463', '1632200006464', '1632200006465', '1632200006466', '1632200006467', '1632200006468', '1632200006469', '1632200006470', '1632200006471', '1632200006472', '1632200006473', '1632200006474', '1632200006475', '1632200006476', '1632200006477', '1632200006478', '1632200006479', '1632200006480', '1632200006481', '1632200006482', '1632200006483', '1632200006484', '1632200006485', '1632200006486', '1632200006487', '1632200006488', '1632200006489', '1632200007330', '1632200007331', '1632200007332', '1632200007333', '1632200007334', '1632200007335', '1632200007336', '1632200007337', '1632200007338', '1632200007339', '1632200007340', '1632200007341', '1632200007342', '1632200007343', '1632200007344', '1632200007345', '1632200007346', '1632200007347', '1632200007348', '1632200007349', '1632200007355', '1632200007356', '1632200007363', '1632200007364', '1632200007365', '1632200007366', '1632200007367', '1632200007368', '1632200007369', '1632200007370', '1632200007371', '1632200007372', '1632200007373', '1632200007374', '1632200007375', '1632200007376', '1632200007377', '1632200007390', '1632200007393', '1632200007394', '1632200007395', '1632200007396', '1632200007397', '1632200007398', '1632200007399', '1632200007400', '1632200007401', '1632200007402', '1632200007404', '1632200007405', '1632200007406', '1632200007407', '1632200007408', '1632200007409', '1632200007410', '1632200007411', '1632200007412', '1632200007413', '1632200007414', '1632200007415', '1632200007426', '1632200007427', '1632200007428', '1632200007429', '1632200007430', '1632200007431', '1633142000001', '1633142000003', '1633142000008', '1633542000001', '1633542000002', '1633542000003', '1633548000001', '1633548000002', '1633552000002', '1633552000005', '1633558000001', '1633558000002', '1633558000003', '1633558000005', '1633558000006', '1633628000004', '1633670000005', '1633670000006', '1634004000001', '1634004000002', '1634780000002', '1634780000016', '1634780000018', '1634900000001A', '1634900000003B', '1634900000004A', '1634900000007A', '1634900000009A', '1634900000011A', '1634900000013A', '1634900000014A', '1634900000018A', '1634900000019B', '1634900000020A', '1634900000033A', '1634900000034A', '1635898000001', '1635900000003', '1635900000004', '1635900000006', '1635900000007', '1635900000008', '1635900000009', '1635900000011', '1635900000012', '1636506000001', '1636506000003', '1636508000001', '1636508000003', '1636508000006', '1636508000007', '1636508000008', '1636508000010', '1636508000011', '1636508000012', '1636762500023', '1636762500025', '1636888000001', '1636888000002', '1636888000004', '1637496000003', '1638042000001', '1638042000002', '1638042000003', '1638042000005', '1638042000007', '1638166000002', '1638166000003', '1638166000004', '1638166000006', '1638166000007', '1638166000008', '1638166000009', '1638494000006', '1638600000025', '1638600000038', '1638600000041', '1638890000002', '1638890000009', '1651232000001', '1651232000002', '1651232000003', '1651412000001', '1651506000001', '1651586000001', '1651720000001', '1653642000001', '1653660000001', '1655088000001', '1657238000001', '1657594000001', '1658650000001']\n"
     ]
    }
   ],
   "source": [
    "validater_row(join_attempt[join_attempt[\"_merge\"]==\"both\"], column_list)"
   ]
  },
  {
   "cell_type": "markdown",
   "metadata": {},
   "source": [
    "## End of peter additions"
   ]
  },
  {
   "cell_type": "markdown",
   "metadata": {},
   "source": [
    "## Reallocate absentee (AVCB) votes and statistical adjustments\n",
    "Need to allocate avcb and stat adjust separately. \n",
    "\n",
    "From documentation:\n",
    "Most counties had \"statistical adjustments\" that were at the county level, rather than the precinct level. Only two were for party candidates (Huron and Kalkaka), and in those cases, two or fewer votes. The remaining cases were related to \"other\" votes. Due to the scattered nature of \"other\" votes, these votes are apportioned to precincts by the split of total votes of precincts within the county.\n",
    "\n",
    "Detroit allows for absentee votes to be reported by Absentee Voter Counting Boards, which generally contain multiple precincts. These votes are apportioned to precincts by candidate in the same shares that the non-AVCB vote was split among precincts within a county. The linkage between election precinct and AVCB was provided by OpenElections via Derek Willis. Precinct 176 was listed as split between AVCB 37 and AVCB 158, the only precinct in the city that was listed as split. AVCB 158 has no other precinct assigned to it, so all votes went to precinct 176. However, this was a very low number of votes relative to the other AVCBs, so for ease of calculation, 176 was treated as a normal member of AVCB 37 in the disaggregation calculation described above."
   ]
  },
  {
   "cell_type": "code",
   "execution_count": 65,
   "metadata": {},
   "outputs": [],
   "source": [
    "def get_absentee_frac(prec_tot, county_tot, absentee_tot):\n",
    "    '''A spec specifies in first line what function will do\n",
    "    Returns fraction of county absentee votes for a precinct for a candidate\n",
    "    \n",
    "    Keyword arguments: (put inputs to funtions and say what they should be)\n",
    "    precinct vote total for given candidate (int)\n",
    "    county vote total for given candidate, absentee and provisional votes not included (int)\n",
    "    absentee vote total for county for given candidate (int)\n",
    "    \n",
    "    \"Pure function\" bc only relies on inputs and outputs - only variables are ones that were passed as arguments\n",
    "    '''\n",
    "    if county_tot != 0:\n",
    "        prec_frac = prec_tot/county_tot\n",
    "        absentee_frac = prec_frac*absentee_tot\n",
    "    else:\n",
    "        absentee_frac = 0\n",
    "    return absentee_frac"
   ]
  },
  {
   "cell_type": "code",
   "execution_count": 66,
   "metadata": {},
   "outputs": [
    {
     "data": {
      "text/plain": [
       "G16PREDCli    2268839\n",
       "G16PRERTru    2279543\n",
       "G16PREGSte      51463\n",
       "G16PRELJoh     172136\n",
       "G16PREOth       27303\n",
       "dtype: int64"
      ]
     },
     "execution_count": 66,
     "metadata": {},
     "output_type": "execute_result"
    }
   ],
   "source": [
    "df_pivot[['G16PREDCli','G16PRERTru','G16PREGSte','G16PRELJoh','G16PREOth']].sum()"
   ]
  },
  {
   "cell_type": "code",
   "execution_count": 67,
   "metadata": {},
   "outputs": [
    {
     "data": {
      "text/plain": [
       "G16PREDCli    2268839\n",
       "G16PRERTru    2279543\n",
       "G16PREGSte      51463\n",
       "G16PRELJoh     172136\n",
       "G16PREOth       27303\n",
       "dtype: int64"
      ]
     },
     "execution_count": 67,
     "metadata": {},
     "output_type": "execute_result"
    }
   ],
   "source": [
    "gdfv[['G16PREDCli','G16PRERTru','G16PREGSte','G16PRELJoh','G16PREOth']].sum()"
   ]
  },
  {
   "cell_type": "code",
   "execution_count": 68,
   "metadata": {},
   "outputs": [
    {
     "data": {
      "text/plain": [
       "G16PREDCli    2268754\n",
       "G16PRERTru    2279482\n",
       "G16PREGSte      51462\n",
       "G16PRELJoh     172131\n",
       "G16PREOth       27303\n",
       "dtype: int64"
      ]
     },
     "execution_count": 68,
     "metadata": {},
     "output_type": "execute_result"
    }
   ],
   "source": [
    "df_no_avcb[['G16PREDCli','G16PRERTru','G16PREGSte','G16PRELJoh','G16PREOth']].sum()"
   ]
  },
  {
   "cell_type": "markdown",
   "metadata": {},
   "source": [
    "See above that results from `df_no_avcb` slightly off of totals.. why? Did I eliminate avcbs incorrectly from the dataset?"
   ]
  },
  {
   "cell_type": "code",
   "execution_count": 69,
   "metadata": {},
   "outputs": [],
   "source": [
    "avcb_and_stat = df_pivot[((df_pivot['precinct_label'].map(lambda x: 'AVCB' in str(x)))&(df_pivot['county_name']=='WAYNE')) | \n",
    "                         (df_pivot['city_town_name'].map(lambda x: 'Statistical Adjustments' in str(x)))]\n",
    "groupby_avcb_and_stat_tot = pd.DataFrame(avcb_and_stat, columns = ['county_fips','G16PREGSte', 'G16PREDCli', 'G16PRERTru', 'G16PRELJoh', 'G16PREOth']).groupby(['county_fips']).sum()\n",
    "groupby_county_df_tot = pd.DataFrame(df_pivot, columns = ['county_fips','G16PREGSte', 'G16PREDCli', 'G16PRERTru', 'G16PRELJoh', 'G16PREOth']).groupby(['county_fips']).sum()\n",
    "df_no_avcb_or_stat = df_no_avcb[(df_no_avcb['precinct_label'].map(lambda x: 'AVCB' not in str(x))) & \n",
    "    (df_no_avcb['city_town_name'].map(lambda x: 'Statistical Adjustments' not in str(x)))]\n",
    "groupby_county_tot_no_avcborstat = pd.DataFrame(df_no_avcb_or_stat, columns = ['county_fips','G16PREGSte', 'G16PREDCli', 'G16PRERTru', 'G16PRELJoh', 'G16PREOth']).groupby(['county_fips']).sum()"
   ]
  },
  {
   "cell_type": "code",
   "execution_count": 70,
   "metadata": {},
   "outputs": [
    {
     "data": {
      "text/plain": [
       "WAYNE    172\n",
       "Name: county_name, dtype: int64"
      ]
     },
     "execution_count": 70,
     "metadata": {},
     "output_type": "execute_result"
    }
   ],
   "source": [
    "avcb_and_stat['county_name'][avcb_and_stat['precinct_label']=='AVCB'].value_counts()"
   ]
  },
  {
   "cell_type": "code",
   "execution_count": null,
   "metadata": {},
   "outputs": [],
   "source": [
    "#Split up the AVCB, statistical adjustments, and precinct level votes, to both check the join and for the allocation work that needs to be done\n",
    "#avcb = df_pivot[(df_pivot['precinct_label'].map(lambda x: 'AVCB' in str(x)))&(df_pivot['county_name']=='WAYNE')]\n",
    "#stat = df_no_avcb[df_no_avcb['city_town_name'].map(lambda x: 'Statistical Adjustments' in str(x))]\n",
    "#df_no_avcb_or_stat = df_no_avcb[(df_no_avcb['city_town_name'].map(lambda x: 'Statistical Adjustments' not in str(x)))]"
   ]
  },
  {
   "cell_type": "code",
   "execution_count": null,
   "metadata": {},
   "outputs": [],
   "source": [
    "# GROUPBYS FOR STAT\n",
    "#groupby_stat_tot = pd.DataFrame(stat, columns = ['county_fips','G16PREGSte', 'G16PREDCli', 'G16PRERTru', 'G16PRELJoh', 'G16PREOth']).groupby(['county_fips']).sum()\n"
   ]
  },
  {
   "cell_type": "markdown",
   "metadata": {},
   "source": [
    "# Next need reallocate stat adjust and wayne county avcb "
   ]
  },
  {
   "cell_type": "code",
   "execution_count": null,
   "metadata": {},
   "outputs": [],
   "source": [
    "### This was run for avcb and stat reallocation when it should have been separate\n",
    "## adapted PH CODE for vote allocation\n",
    "\n",
    "#Copy dfs to set up for reallocation to create new df\n",
    "df_with_avcb_and_stat_reallocated = df_no_avcb_or_stat.copy()\n",
    "\n",
    "#groupby_avcb_and_stat_tot.reset_index(inplace=True, drop=False)\n",
    "#groupby_county_tot_no_avcborstat.reset_index(inplace=True, drop=False)\n",
    "\n",
    "to_dole_out_totals = groupby_avcb_and_stat_tot.copy()\n",
    "precinct_specific_totals = groupby_county_tot_no_avcborstat.copy()\n",
    "precinct_specific_totals.reset_index(inplace=True, drop=False)\n",
    "to_dole_out_totals.reset_index(inplace=True, drop=False)\n",
    "\n",
    "column_list = ['G16PREGSte', 'G16PREDCli', 'G16PRERTru', 'G16PRELJoh', 'G16PREOth']\n",
    "\n",
    "#Create some new columns for each of these races to deal with the allocation\n",
    "for race in column_list:\n",
    "    add_var = race+\"_add\"\n",
    "    rem_var = race+\"_rem\"\n",
    "    floor_var = race+\"_floor\"\n",
    "    df_with_avcb_and_stat_reallocated.loc[:,add_var]=0.0\n",
    "    df_with_avcb_and_stat_reallocated.loc[:,rem_var]=0.0\n",
    "    df_with_avcb_and_stat_reallocated.loc[:,floor_var]=0.0\n",
    "    \n",
    "#Iterate over the rows\n",
    "#Note this function iterates over the dataframe two times so the rounded vote totals match the totals to allocate\n",
    "\n",
    "for index, row in df_no_avcb_or_stat.iterrows():\n",
    "    for race in column_list:\n",
    "        add_var = race+\"_add\"\n",
    "        rem_var = race+\"_rem\"\n",
    "        floor_var = race+\"_floor\"\n",
    "        #Grab the district\n",
    "        county_id = row[\"county_fips\"]\n",
    "        #Get the denominator for the allocation (the precinct vote totals)\n",
    "        denom = precinct_specific_totals.loc[precinct_specific_totals[\"county_fips\"]==county_id][race]\n",
    "        \n",
    "        if county_id in list(to_dole_out_totals['county_fips']):\n",
    "            #Get one of the numerators, how many district-wide votes to allocate\n",
    "            numer = to_dole_out_totals.loc[to_dole_out_totals[\"county_fips\"]==county_id][race]\n",
    "            #Get the vote totals for this race in this precinct\n",
    "            val = df_with_avcb_and_stat_reallocated.at[index,race]\n",
    "            #Get the vote share, the precincts % of total precinct votes in the district times votes to allocate\n",
    "            if ((float(denom)==0)):\n",
    "                vote_share = 0\n",
    "            else:\n",
    "                vote_share = (float(val)/float(denom))*float(numer)\n",
    "            df_with_avcb_and_stat_reallocated.at[index,add_var] = vote_share\n",
    "            #Take the decimal remainder of the allocation\n",
    "            df_with_avcb_and_stat_reallocated.at[index,rem_var] = vote_share%1\n",
    "            #Take the floor of the allocation\n",
    "            df_with_avcb_and_stat_reallocated.at[index,floor_var] = np.floor(vote_share)\n",
    "            \n",
    "#After the first pass through, get the sums of the races by district to assist in the rounding            \n",
    "first_allocation = pd.DataFrame(df_with_avcb_and_stat_reallocated.groupby([\"county_fips\"]).sum())\n",
    "\n",
    "#Now we want to iterate district by district to work on rounding\n",
    "county_list = list(to_dole_out_totals[\"county_fips\"].unique()) \n",
    "\n",
    "#Iterate over the district\n",
    "for county in county_list:\n",
    "    for race in column_list:\n",
    "        add_var = race+\"_add\"\n",
    "        rem_var = race+\"_rem\"\n",
    "        floor_var = race+\"_floor\"\n",
    "        #County how many votes still need to be allocated (because we took the floor of all the initial allocations)\n",
    "        to_go = int(np.round((int(to_dole_out_totals.loc[to_dole_out_totals[\"county_fips\"]==county][race])-first_allocation.loc[first_allocation.index==county,floor_var])))\n",
    "        #Grab the n precincts with the highest remainders and round these up, where n is the # of votes that still need to be allocated\n",
    "        for index in df_with_avcb_and_stat_reallocated.loc[df_with_avcb_and_stat_reallocated[\"county_fips\"]==county][rem_var].nlargest(to_go).index:\n",
    "            df_with_avcb_and_stat_reallocated.at[index,add_var] = np.ceil(df_with_avcb_and_stat_reallocated.at[index,add_var])\n",
    "            \n",
    "#Iterate over every race again\n",
    "for race in column_list:\n",
    "    add_var = race+\"_add\"\n",
    "    #Round every allocation down to not add fractional votes\n",
    "    df_with_avcb_and_stat_reallocated.loc[:,add_var]=np.floor(df_with_avcb_and_stat_reallocated.loc[:,add_var])\n",
    "    df_with_avcb_and_stat_reallocated.loc[:,race]+=df_with_avcb_and_stat_reallocated.loc[:,add_var]"
   ]
  },
  {
   "cell_type": "code",
   "execution_count": null,
   "metadata": {},
   "outputs": [],
   "source": [
    "for val in column_list:\n",
    "    vote_dif = df_with_avcb_and_stat_reallocated[val].sum()-gdfv[val].sum()\n",
    "    if (vote_dif == 0):\n",
    "        print(val+\": EQUAL\")\n",
    "    else:\n",
    "        print(val+\": DIFFERENCE OF \" + str(vote_dif)+ \" VOTES\")"
   ]
  },
  {
   "cell_type": "code",
   "execution_count": null,
   "metadata": {},
   "outputs": [],
   "source": [
    "for val in column_list:\n",
    "    vote_tot = df_with_avcb_and_stat_reallocated[val].sum()\n",
    "    print(val+ ': ',vote_tot)"
   ]
  },
  {
   "cell_type": "code",
   "execution_count": null,
   "metadata": {},
   "outputs": [],
   "source": [
    "df_with_avcb_and_stat_reallocated.shape"
   ]
  },
  {
   "cell_type": "markdown",
   "metadata": {},
   "source": [
    "## End of peter code"
   ]
  },
  {
   "cell_type": "markdown",
   "metadata": {},
   "source": [
    "# Merge Fenton and Richmond, as per documentation\n",
    "\"Michigan has cities split across counties. Two are relevant to their reported election results versus the precinct map (which did not make the split), Fenton and Richmond. Those precincts were merged to reflect the precinct map.\""
   ]
  },
  {
   "cell_type": "markdown",
   "metadata": {},
   "source": [
    "below line serves to confirm that Fenton/Richmond not in double list that gets cut out anyway in RDH technique."
   ]
  },
  {
   "cell_type": "markdown",
   "metadata": {},
   "source": [
    "Use visual check of vote counts and unique ids to determine where to add votes/eliminate precinct (2)"
   ]
  },
  {
   "cell_type": "code",
   "execution_count": null,
   "metadata": {},
   "outputs": [],
   "source": [
    "#df_with_avcb_and_stat_reallocated[df_with_avcb_and_stat_reallocated.city_town_name.str.contains('RICHMOND')]\n",
    "#df_with_avcb_and_stat_reallocated[['G16PREDCli', 'G16PRERTru', 'city_town_name', 'VTD2016_draft']][df_with_avcb_and_stat_reallocated.city_town_name.str.contains('FENTON')|df_with_avcb_and_stat_reallocated.city_town_name.str.contains('RICHMOND')].sort_values('G16PREDCli')\n",
    "#df_with_avcb_and_stat_reallocated['VTD2016'][df_with_avcb_and_stat_reallocated.city_town_name.str.contains('FENTON')|df_with_avcb_and_stat_reallocated.city_town_name.str.contains('RICHMOND')].nunique()\n",
    "#gdfv['VTD2016'][gdfv.Label.str.contains('Fenton')|gdfv.Label.str.contains('Richmond')].nunique()\n",
    "#gdfv[['G16PREDCli', 'G16PRERTru', 'Label', 'VTD2016']][gdfv.Label.str.contains('Fenton')|gdfv.Label.str.contains('Richmond')].sort_values('G16PREDCli')"
   ]
  },
  {
   "cell_type": "markdown",
   "metadata": {},
   "source": [
    "['VTD2016'] = 0492776000002 receives votes from ['VTD2016_draft'] = 12527760.000002 to ['VTD2016_draft'] = 04927760.000002 < Fenton city\n",
    "\n",
    "['VTD2016'] = 0996838000001 receives votes from ['VTD2016_draft'] = 14768380.000001 to ['VTD2016_draft'] = 09968380.000001 < Richmond city\n",
    "                                                                                           "
   ]
  },
  {
   "cell_type": "code",
   "execution_count": null,
   "metadata": {},
   "outputs": [],
   "source": [
    "## RAN FOR VISUAL CHECK\n",
    "#df_with_avcb_and_stat_reallocated[['G16PREDCli', 'G16PRERTru', 'G16PREGSte','G16PRELJoh', 'G16PREOth', 'VTD2016_draft','city_town_name']][(df_with_avcb_and_stat_reallocated['VTD2016']=='1252776000002')|(df_with_avcb_and_stat_reallocated['VTD2016']=='0492776000002')]\n",
    "#gdfv[['G16PREDCli', 'G16PRERTru', 'G16PREGSte','G16PRELJoh', 'G16PREOth', 'VTD2016','Label']][(gdfv['VTD2016']=='1252776000002')|(gdfv['VTD2016'] == '0492776000002')]\n",
    "#df_with_avcb_and_stat_reallocated[['G16PREDCli', 'G16PRERTru', 'G16PREGSte','G16PRELJoh', 'G16PREOth', 'VTD2016','city_town_name']][(df_with_avcb_and_stat_reallocated['VTD2016']=='1476838000001')|                                                                                                                                 (df_with_avcb_and_stat_reallocated['VTD2016']=='0996838000001')]   \n",
    "#gdfv[['G16PREDCli', 'G16PRERTru', 'G16PREGSte','G16PRELJoh', 'G16PREOth', 'VTD2016','Label']][(gdfv['VTD2016']=='1476838000001')|(gdfv['VTD2016'] == '0996838000001')]"
   ]
  },
  {
   "cell_type": "markdown",
   "metadata": {},
   "source": [
    "Make 3 modifications to add votes to merge to match vest file + remove rows with the precincts from which votes were added. "
   ]
  },
  {
   "cell_type": "code",
   "execution_count": null,
   "metadata": {},
   "outputs": [],
   "source": [
    "df_with_avcb_and_stat_reallocated.loc[(df_with_avcb_and_stat_reallocated['VTD2016']=='0996838000001'), 'G16PRERTru'] = df_with_avcb_and_stat_reallocated.loc[(df_with_avcb_and_stat_reallocated['VTD2016']=='0996838000001'), 'G16PRERTru'] + 3\n",
    "\n",
    "df_with_avcb_and_stat_reallocated.loc[(df_with_avcb_and_stat_reallocated['VTD2016']=='0492776000002'), 'G16PREDCli']= df_with_avcb_and_stat_reallocated.loc[(df_with_avcb_and_stat_reallocated['VTD2016']=='0492776000002'), 'G16PREDCli']+3\n",
    "\n",
    "df_with_avcb_and_stat_reallocated.loc[(df_with_avcb_and_stat_reallocated['VTD2016']=='0492776000002'), 'G16PRERTru']=df_with_avcb_and_stat_reallocated.loc[(df_with_avcb_and_stat_reallocated['VTD2016']=='0492776000002'), 'G16PRERTru']+9"
   ]
  },
  {
   "cell_type": "code",
   "execution_count": null,
   "metadata": {},
   "outputs": [],
   "source": [
    "df_with_avcb_and_stat_reallocated = df_with_avcb_and_stat_reallocated[~(df_with_avcb_and_stat_reallocated['VTD2016']=='1476838000001')|(df_with_avcb_and_stat_reallocated['VTD2016_draft']=='1252776000002')]"
   ]
  },
  {
   "cell_type": "markdown",
   "metadata": {},
   "source": [
    "# Join"
   ]
  },
  {
   "cell_type": "code",
   "execution_count": null,
   "metadata": {},
   "outputs": [],
   "source": [
    "shp.shape"
   ]
  },
  {
   "cell_type": "code",
   "execution_count": null,
   "metadata": {},
   "outputs": [],
   "source": [
    "shp.VTD2016.nunique()"
   ]
  },
  {
   "cell_type": "code",
   "execution_count": null,
   "metadata": {},
   "outputs": [],
   "source": [
    "df_with_avcb_and_stat_reallocated.shape"
   ]
  },
  {
   "cell_type": "code",
   "execution_count": null,
   "metadata": {},
   "outputs": [],
   "source": [
    "df_with_avcb_and_stat_reallocated.VTD2016.nunique()"
   ]
  },
  {
   "cell_type": "markdown",
   "metadata": {},
   "source": [
    "Make new df with no nanas"
   ]
  },
  {
   "cell_type": "code",
   "execution_count": null,
   "metadata": {},
   "outputs": [],
   "source": [
    "join = gpd.GeoDataFrame(pd.merge(df_with_avcb_and_stat_reallocated, shp, on = 'VTD2016', how = 'outer').drop_duplicates(), crs = crs)\n",
    "join.plot()"
   ]
  },
  {
   "cell_type": "code",
   "execution_count": null,
   "metadata": {},
   "outputs": [],
   "source": [
    "join.shape"
   ]
  },
  {
   "cell_type": "markdown",
   "metadata": {},
   "source": [
    "# Validation"
   ]
  },
  {
   "cell_type": "markdown",
   "metadata": {},
   "source": [
    "## Shapefile"
   ]
  },
  {
   "cell_type": "code",
   "execution_count": null,
   "metadata": {},
   "outputs": [],
   "source": [
    "shp_final_merge = pd.merge(join, gdfv, on = 'VTD2016', how = 'outer', suffixes = ['_x', '_y'])"
   ]
  },
  {
   "cell_type": "code",
   "execution_count": null,
   "metadata": {},
   "outputs": [],
   "source": [
    "join['geometry'].geom_almost_equals(gdfv['geometry'], decimal = 0)"
   ]
  },
  {
   "cell_type": "code",
   "execution_count": null,
   "metadata": {},
   "outputs": [],
   "source": [
    "shp_shapes = gpd.GeoDataFrame(shp_final_merge, geometry = 'geometry_x')\n",
    "final_shapes = gpd.GeoDataFrame(shp_final_merge, geometry = 'geometry_y')\n",
    "vals = shp_shapes.geom_almost_equals(final_shapes, decimal = 0)"
   ]
  },
  {
   "cell_type": "code",
   "execution_count": null,
   "metadata": {},
   "outputs": [],
   "source": [
    "print(vals.value_counts())"
   ]
  },
  {
   "cell_type": "code",
   "execution_count": null,
   "metadata": {},
   "outputs": [],
   "source": [
    "print(shp_final_merge[~vals]['VTD2016'].str[0:3].value_counts())\n",
    "diff_precincts = gpd.GeoDataFrame(shp_final_merge[~vals], geometry = 'geometry_x', crs = crs)\n",
    "\n",
    "shp_difference = gpd.overlay(shp_shapes, final_shapes, how = 'symmetric_difference')\n",
    "shp_difference.plot()"
   ]
  },
  {
   "cell_type": "markdown",
   "metadata": {},
   "source": [
    "# Election result difference"
   ]
  },
  {
   "cell_type": "code",
   "execution_count": null,
   "metadata": {},
   "outputs": [],
   "source": [
    "column_list = ['G16PRERTru', 'G16PREGSte','G16PRELJoh', 'G16PREOth']"
   ]
  },
  {
   "cell_type": "code",
   "execution_count": null,
   "metadata": {},
   "outputs": [],
   "source": [
    "final_df_merge = pd.merge(df_with_avcb_and_stat_reallocated, gdfv, on = 'VTD2016', how = 'outer', suffixes = ('_x', '_y'))"
   ]
  },
  {
   "cell_type": "code",
   "execution_count": null,
   "metadata": {},
   "outputs": [],
   "source": [
    "final_df_merge.shape"
   ]
  },
  {
   "cell_type": "code",
   "execution_count": null,
   "metadata": {},
   "outputs": [],
   "source": []
  },
  {
   "cell_type": "code",
   "execution_count": null,
   "metadata": {},
   "outputs": [],
   "source": [
    "df_with_avcb_and_stat_reallocated[df_with_avcb_and_stat_reallocated['VTD2016'] == '1252776000002']"
   ]
  },
  {
   "cell_type": "code",
   "execution_count": null,
   "metadata": {},
   "outputs": [],
   "source": [
    "['CASS', 'CLINTON', 'GLADWIN', 'LAPEER', 'ST. CLAIR', 'WAYNE']"
   ]
  },
  {
   "cell_type": "code",
   "execution_count": null,
   "metadata": {},
   "outputs": [],
   "source": [
    "gdfv[gdfv['VTD2016'] == '1632200005132']"
   ]
  },
  {
   "cell_type": "code",
   "execution_count": null,
   "metadata": {},
   "outputs": [],
   "source": [
    "gdfv[gdfv['unique_id'] == '02760900001']"
   ]
  },
  {
   "cell_type": "markdown",
   "metadata": {},
   "source": [
    "- Peter tries some unique id then take what joins off of that\n",
    "- if incorrect join it will come up later when you compare precinct by precinct election results\n",
    "- for stuff that does not join, export to csv and look at that - manually line up\n",
    "- map unique ids from one to the other to match\n",
    "- rerunning the join - then left with the stuff where you have no idea where it is coming from\n",
    "- if there are no unique ids at all, but you are able to \n"
   ]
  },
  {
   "cell_type": "code",
   "execution_count": null,
   "metadata": {},
   "outputs": [],
   "source": []
  }
 ],
 "metadata": {
  "kernelspec": {
   "display_name": "pdv_env",
   "language": "python",
   "name": "pdv_env"
  },
  "language_info": {
   "codemirror_mode": {
    "name": "ipython",
    "version": 3
   },
   "file_extension": ".py",
   "mimetype": "text/x-python",
   "name": "python",
   "nbconvert_exporter": "python",
   "pygments_lexer": "ipython3",
   "version": "3.9.4"
  }
 },
 "nbformat": 4,
 "nbformat_minor": 4
}
