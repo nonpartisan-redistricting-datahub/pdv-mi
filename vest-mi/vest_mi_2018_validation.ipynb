{
 "cells": [
  {
   "cell_type": "markdown",
   "metadata": {},
   "source": [
    "## 2018 VEST MI"
   ]
  },
  {
   "cell_type": "markdown",
   "metadata": {},
   "source": [
    "**Files + Sources: From VEST Documentation** \n",
    "\n",
    "2018GEN.zip: Election results from Michigan Secretary of State (https://miboecfr.nictusa.com/cgi-bin/cfr/precinct_srch.cgi)\n",
    "\n",
    "2018_Voting_Precincts-shp.zip: Election shapefile from Michigan GIS Open Data site (https://gis-michigan.opendata.arcgis.com/datasets/2018-voting-precincts)\n",
    "https://gis-michigan.opendata.arcgis.com/datasets/2018-voting-precincts?geometry=108.333%2C43.318%2C-105.418%2C84.231\n",
    "\n",
    "mi_2018.zip: VEST final file\n",
    "\n",
    "----- \n",
    "\n",
    "Detroit 125 does not appear in the state's shapefile. Looking at a PDF on the city's website, it looks like it is some part of 494, but the boundary is not clear, so these results were merged together.\n",
    "\n",
    "A few counties use Absent Voter Counting Boards to report some or all absentee results. In some cases, these align with a single precinct, but in others, they correspond to multiple precincts. Notable in this is that all of Detroit uses AVCBs, of which each is made up of multiple precincts. These were distributed by candidate to precincts based on election day totals. Thank you to Derek Willis of OpenElections for the file linking Detroit precincts to AVCBs.\n",
    "\n",
    "Some counties report \"Statistical Adjustments\" with their precinct results which make the sum of the precinct totals match the official results. These can be positive or negative. In many cases these adjustments are small, but two cases are notable: Muskegon County has a +4630 adjustment for gubernatorial candidate Tood Schleiger and Barry County has a -722 adjustment for SBE candidate Tami Carlone. None of these adjustments, small or large, were distributed to precincts, which may result in candidate totals being slightly off official totals.\n",
    "\n",
    "Write-in vote totals have been excluded, since in most cases, a large share of their votes are accounted for via statistical adjustments. (For example, 1647 of MSU Trustee candidate David Mott's 1673 votes are found in these countywide figures.)\n",
    "\n",
    "Oakland County's Fenton precinct 2 results merged into Genesee County's Fenton precinct 2.\n",
    "St. Clair County's Richmond precinct 1 results merged into Macomb County's Richmond precinct 1.\n"
   ]
  },
  {
   "cell_type": "code",
   "execution_count": 1,
   "metadata": {},
   "outputs": [],
   "source": [
    "import pandas as pd\n",
    "import geopandas as gpd\n",
    "import matplotlib.pyplot as plt\n",
    "import maup\n",
    "from zipfile import ZipFile\n",
    "import numpy as np"
   ]
  },
  {
   "cell_type": "code",
   "execution_count": 3,
   "metadata": {},
   "outputs": [],
   "source": [
    "#First, unzip all files that will be used for processing\n",
    "def unzip(zip_file_name, unzipped_file_name):\n",
    "    with ZipFile(zip_file_name, 'r') as zipobj:\n",
    "        zipobj.extractall(unzipped_file_name)"
   ]
  },
  {
   "cell_type": "markdown",
   "metadata": {},
   "source": [
    "# Load Partner File"
   ]
  },
  {
   "cell_type": "code",
   "execution_count": 7,
   "metadata": {},
   "outputs": [
    {
     "data": {
      "text/html": [
       "<div>\n",
       "<style scoped>\n",
       "    .dataframe tbody tr th:only-of-type {\n",
       "        vertical-align: middle;\n",
       "    }\n",
       "\n",
       "    .dataframe tbody tr th {\n",
       "        vertical-align: top;\n",
       "    }\n",
       "\n",
       "    .dataframe thead th {\n",
       "        text-align: right;\n",
       "    }\n",
       "</style>\n",
       "<table border=\"1\" class=\"dataframe\">\n",
       "  <thead>\n",
       "    <tr style=\"text-align: right;\">\n",
       "      <th></th>\n",
       "      <th>OBJECTID</th>\n",
       "      <th>PRECINCTID</th>\n",
       "      <th>ELECTIONYE</th>\n",
       "      <th>COUNTYFIPS</th>\n",
       "      <th>MCDFIPS</th>\n",
       "      <th>WARD</th>\n",
       "      <th>PRECINCT</th>\n",
       "      <th>ShapeSTAre</th>\n",
       "      <th>ShapeSTLen</th>\n",
       "      <th>precinct_2</th>\n",
       "      <th>...</th>\n",
       "      <th>G18UBRNABR</th>\n",
       "      <th>G18UBRRDUN</th>\n",
       "      <th>G18UBRRNIC</th>\n",
       "      <th>G18UBRDBAR</th>\n",
       "      <th>G18UBRDKUM</th>\n",
       "      <th>G18UBRLELG</th>\n",
       "      <th>G18UBRLHAR</th>\n",
       "      <th>G18UBRTSCH</th>\n",
       "      <th>G18UBRTSOS</th>\n",
       "      <th>geometry</th>\n",
       "    </tr>\n",
       "  </thead>\n",
       "  <tbody>\n",
       "    <tr>\n",
       "      <th>0</th>\n",
       "      <td>1</td>\n",
       "      <td>WP-001-01040-00001</td>\n",
       "      <td>2018</td>\n",
       "      <td>001</td>\n",
       "      <td>01040</td>\n",
       "      <td>00</td>\n",
       "      <td>001</td>\n",
       "      <td>1.701076e+08</td>\n",
       "      <td>73869.558748</td>\n",
       "      <td>001-ALCONA TOWNSHIP-0-0001</td>\n",
       "      <td>...</td>\n",
       "      <td>7</td>\n",
       "      <td>375</td>\n",
       "      <td>355</td>\n",
       "      <td>181</td>\n",
       "      <td>160</td>\n",
       "      <td>7</td>\n",
       "      <td>11</td>\n",
       "      <td>19</td>\n",
       "      <td>9</td>\n",
       "      <td>POLYGON ((713885.576 472642.367, 713798.715 47...</td>\n",
       "    </tr>\n",
       "    <tr>\n",
       "      <th>1</th>\n",
       "      <td>2</td>\n",
       "      <td>WP-001-12460-00001</td>\n",
       "      <td>2018</td>\n",
       "      <td>001</td>\n",
       "      <td>12460</td>\n",
       "      <td>00</td>\n",
       "      <td>001</td>\n",
       "      <td>1.880860e+08</td>\n",
       "      <td>76737.144518</td>\n",
       "      <td>001-CALEDONIA TOWNSHIP-0-0001</td>\n",
       "      <td>...</td>\n",
       "      <td>5</td>\n",
       "      <td>302</td>\n",
       "      <td>275</td>\n",
       "      <td>151</td>\n",
       "      <td>130</td>\n",
       "      <td>5</td>\n",
       "      <td>6</td>\n",
       "      <td>24</td>\n",
       "      <td>11</td>\n",
       "      <td>POLYGON ((686272.607 476273.249, 685978.453 47...</td>\n",
       "    </tr>\n",
       "    <tr>\n",
       "      <th>2</th>\n",
       "      <td>3</td>\n",
       "      <td>WP-001-19320-00001</td>\n",
       "      <td>2018</td>\n",
       "      <td>001</td>\n",
       "      <td>19320</td>\n",
       "      <td>00</td>\n",
       "      <td>001</td>\n",
       "      <td>1.833231e+08</td>\n",
       "      <td>57470.528359</td>\n",
       "      <td>001-CURTIS TOWNSHIP-0-0001</td>\n",
       "      <td>...</td>\n",
       "      <td>9</td>\n",
       "      <td>258</td>\n",
       "      <td>234</td>\n",
       "      <td>173</td>\n",
       "      <td>138</td>\n",
       "      <td>12</td>\n",
       "      <td>9</td>\n",
       "      <td>29</td>\n",
       "      <td>16</td>\n",
       "      <td>POLYGON ((686986.253 442623.144, 686677.696 44...</td>\n",
       "    </tr>\n",
       "    <tr>\n",
       "      <th>3</th>\n",
       "      <td>4</td>\n",
       "      <td>WP-001-34820-00001</td>\n",
       "      <td>2018</td>\n",
       "      <td>001</td>\n",
       "      <td>34820</td>\n",
       "      <td>00</td>\n",
       "      <td>001</td>\n",
       "      <td>6.767958e+07</td>\n",
       "      <td>32987.191075</td>\n",
       "      <td>001-GREENBUSH TOWNSHIP-0-0001</td>\n",
       "      <td>...</td>\n",
       "      <td>14</td>\n",
       "      <td>340</td>\n",
       "      <td>319</td>\n",
       "      <td>216</td>\n",
       "      <td>189</td>\n",
       "      <td>12</td>\n",
       "      <td>12</td>\n",
       "      <td>20</td>\n",
       "      <td>12</td>\n",
       "      <td>POLYGON ((712947.018 443503.339, 712791.603 44...</td>\n",
       "    </tr>\n",
       "    <tr>\n",
       "      <th>4</th>\n",
       "      <td>5</td>\n",
       "      <td>WP-001-35740-00001</td>\n",
       "      <td>2018</td>\n",
       "      <td>001</td>\n",
       "      <td>35740</td>\n",
       "      <td>00</td>\n",
       "      <td>001</td>\n",
       "      <td>9.281010e+07</td>\n",
       "      <td>38642.299469</td>\n",
       "      <td>001-GUSTIN TOWNSHIP-0-0001</td>\n",
       "      <td>...</td>\n",
       "      <td>5</td>\n",
       "      <td>152</td>\n",
       "      <td>155</td>\n",
       "      <td>72</td>\n",
       "      <td>56</td>\n",
       "      <td>6</td>\n",
       "      <td>5</td>\n",
       "      <td>17</td>\n",
       "      <td>7</td>\n",
       "      <td>POLYGON ((705992.472 452886.004, 704976.166 45...</td>\n",
       "    </tr>\n",
       "  </tbody>\n",
       "</table>\n",
       "<p>5 rows × 70 columns</p>\n",
       "</div>"
      ],
      "text/plain": [
       "   OBJECTID          PRECINCTID  ELECTIONYE COUNTYFIPS MCDFIPS WARD PRECINCT  \\\n",
       "0         1  WP-001-01040-00001        2018        001   01040   00      001   \n",
       "1         2  WP-001-12460-00001        2018        001   12460   00      001   \n",
       "2         3  WP-001-19320-00001        2018        001   19320   00      001   \n",
       "3         4  WP-001-34820-00001        2018        001   34820   00      001   \n",
       "4         5  WP-001-35740-00001        2018        001   35740   00      001   \n",
       "\n",
       "     ShapeSTAre    ShapeSTLen                     precinct_2  ...  G18UBRNABR  \\\n",
       "0  1.701076e+08  73869.558748     001-ALCONA TOWNSHIP-0-0001  ...           7   \n",
       "1  1.880860e+08  76737.144518  001-CALEDONIA TOWNSHIP-0-0001  ...           5   \n",
       "2  1.833231e+08  57470.528359     001-CURTIS TOWNSHIP-0-0001  ...           9   \n",
       "3  6.767958e+07  32987.191075  001-GREENBUSH TOWNSHIP-0-0001  ...          14   \n",
       "4  9.281010e+07  38642.299469     001-GUSTIN TOWNSHIP-0-0001  ...           5   \n",
       "\n",
       "   G18UBRRDUN  G18UBRRNIC  G18UBRDBAR  G18UBRDKUM  G18UBRLELG  G18UBRLHAR  \\\n",
       "0         375         355         181         160           7          11   \n",
       "1         302         275         151         130           5           6   \n",
       "2         258         234         173         138          12           9   \n",
       "3         340         319         216         189          12          12   \n",
       "4         152         155          72          56           6           5   \n",
       "\n",
       "   G18UBRTSCH  G18UBRTSOS                                           geometry  \n",
       "0          19           9  POLYGON ((713885.576 472642.367, 713798.715 47...  \n",
       "1          24          11  POLYGON ((686272.607 476273.249, 685978.453 47...  \n",
       "2          29          16  POLYGON ((686986.253 442623.144, 686677.696 44...  \n",
       "3          20          12  POLYGON ((712947.018 443503.339, 712791.603 44...  \n",
       "4          17           7  POLYGON ((705992.472 452886.004, 704976.166 45...  \n",
       "\n",
       "[5 rows x 70 columns]"
      ]
     },
     "execution_count": 7,
     "metadata": {},
     "output_type": "execute_result"
    }
   ],
   "source": [
    "gdfv = gpd.read_file('./mi_2018/mi_2018.shp')\n",
    "gdfv.head()"
   ]
  },
  {
   "cell_type": "markdown",
   "metadata": {},
   "source": [
    "# Election Results"
   ]
  },
  {
   "cell_type": "markdown",
   "metadata": {},
   "source": [
    "## Loading"
   ]
  },
  {
   "cell_type": "markdown",
   "metadata": {},
   "source": [
    "I was not able to load in the tab file - even specifying delimeter it read all columns in as one. As a result, I opened the tab file in an editor, used find and replace tab --> ',' and saved the file as a csv to read it in here."
   ]
  },
  {
   "cell_type": "code",
   "execution_count": 10,
   "metadata": {},
   "outputs": [
    {
     "data": {
      "text/html": [
       "<div>\n",
       "<style scoped>\n",
       "    .dataframe tbody tr th:only-of-type {\n",
       "        vertical-align: middle;\n",
       "    }\n",
       "\n",
       "    .dataframe tbody tr th {\n",
       "        vertical-align: top;\n",
       "    }\n",
       "\n",
       "    .dataframe thead th {\n",
       "        text-align: right;\n",
       "    }\n",
       "</style>\n",
       "<table border=\"1\" class=\"dataframe\">\n",
       "  <thead>\n",
       "    <tr style=\"text-align: right;\">\n",
       "      <th></th>\n",
       "      <th>Election Year</th>\n",
       "      <th>Election Type</th>\n",
       "      <th>Office Code</th>\n",
       "      <th>District Code</th>\n",
       "      <th>Status Code</th>\n",
       "      <th>Candidate ID#</th>\n",
       "      <th>County Code</th>\n",
       "      <th>City/Town Code</th>\n",
       "      <th>Ward Number</th>\n",
       "      <th>Precinct Number</th>\n",
       "      <th>Precinct Label</th>\n",
       "      <th>Precinct #Votes</th>\n",
       "    </tr>\n",
       "  </thead>\n",
       "  <tbody>\n",
       "    <tr>\n",
       "      <th>0</th>\n",
       "      <td>2018</td>\n",
       "      <td>GEN</td>\n",
       "      <td>0</td>\n",
       "      <td>0</td>\n",
       "      <td>0</td>\n",
       "      <td>0</td>\n",
       "      <td>1</td>\n",
       "      <td>2</td>\n",
       "      <td>0</td>\n",
       "      <td>1</td>\n",
       "      <td>NaN</td>\n",
       "      <td>687</td>\n",
       "    </tr>\n",
       "    <tr>\n",
       "      <th>1</th>\n",
       "      <td>2018</td>\n",
       "      <td>GEN</td>\n",
       "      <td>0</td>\n",
       "      <td>0</td>\n",
       "      <td>0</td>\n",
       "      <td>0</td>\n",
       "      <td>1</td>\n",
       "      <td>4</td>\n",
       "      <td>0</td>\n",
       "      <td>1</td>\n",
       "      <td>NaN</td>\n",
       "      <td>591</td>\n",
       "    </tr>\n",
       "    <tr>\n",
       "      <th>2</th>\n",
       "      <td>2018</td>\n",
       "      <td>GEN</td>\n",
       "      <td>0</td>\n",
       "      <td>0</td>\n",
       "      <td>0</td>\n",
       "      <td>0</td>\n",
       "      <td>1</td>\n",
       "      <td>6</td>\n",
       "      <td>0</td>\n",
       "      <td>1</td>\n",
       "      <td>NaN</td>\n",
       "      <td>586</td>\n",
       "    </tr>\n",
       "    <tr>\n",
       "      <th>3</th>\n",
       "      <td>2018</td>\n",
       "      <td>GEN</td>\n",
       "      <td>0</td>\n",
       "      <td>0</td>\n",
       "      <td>0</td>\n",
       "      <td>0</td>\n",
       "      <td>1</td>\n",
       "      <td>8</td>\n",
       "      <td>0</td>\n",
       "      <td>1</td>\n",
       "      <td>NaN</td>\n",
       "      <td>701</td>\n",
       "    </tr>\n",
       "    <tr>\n",
       "      <th>4</th>\n",
       "      <td>2018</td>\n",
       "      <td>GEN</td>\n",
       "      <td>0</td>\n",
       "      <td>0</td>\n",
       "      <td>0</td>\n",
       "      <td>0</td>\n",
       "      <td>1</td>\n",
       "      <td>10</td>\n",
       "      <td>0</td>\n",
       "      <td>1</td>\n",
       "      <td>NaN</td>\n",
       "      <td>316</td>\n",
       "    </tr>\n",
       "  </tbody>\n",
       "</table>\n",
       "</div>"
      ],
      "text/plain": [
       "   Election Year Election Type  Office Code  District Code  Status Code  \\\n",
       "0           2018           GEN            0              0            0   \n",
       "1           2018           GEN            0              0            0   \n",
       "2           2018           GEN            0              0            0   \n",
       "3           2018           GEN            0              0            0   \n",
       "4           2018           GEN            0              0            0   \n",
       "\n",
       "   Candidate ID#  County Code  City/Town Code  Ward Number  Precinct Number  \\\n",
       "0              0            1               2            0                1   \n",
       "1              0            1               4            0                1   \n",
       "2              0            1               6            0                1   \n",
       "3              0            1               8            0                1   \n",
       "4              0            1              10            0                1   \n",
       "\n",
       "  Precinct Label  Precinct #Votes  \n",
       "0            NaN              687  \n",
       "1            NaN              591  \n",
       "2            NaN              586  \n",
       "3            NaN              701  \n",
       "4            NaN              316  "
      ]
     },
     "execution_count": 10,
     "metadata": {},
     "output_type": "execute_result"
    }
   ],
   "source": [
    "df = pd.read_csv('votes_tab_to_csv.csv', names = ['Election Year', 'Election Type', 'Office Code', 'District Code', 'Status Code', 'Candidate ID#', 'County Code', 'City/Town Code', 'Ward Number', 'Precinct Number', 'Precinct Label', 'Precinct #Votes'])\n",
    "df.head()"
   ]
  },
  {
   "cell_type": "markdown",
   "metadata": {},
   "source": [
    "## Processing"
   ]
  },
  {
   "cell_type": "code",
   "execution_count": 11,
   "metadata": {},
   "outputs": [
    {
     "data": {
      "text/plain": [
       "15"
      ]
     },
     "execution_count": 11,
     "metadata": {},
     "output_type": "execute_result"
    }
   ],
   "source": [
    "df['Office Code'].nunique()"
   ]
  },
  {
   "cell_type": "code",
   "execution_count": 12,
   "metadata": {},
   "outputs": [
    {
     "data": {
      "text/plain": [
       "503"
      ]
     },
     "execution_count": 12,
     "metadata": {},
     "output_type": "execute_result"
    }
   ],
   "source": [
    "df['Candidate ID#'].nunique()"
   ]
  },
  {
   "cell_type": "markdown",
   "metadata": {},
   "source": [
    "Number of unique rows per candidate."
   ]
  },
  {
   "cell_type": "code",
   "execution_count": 13,
   "metadata": {},
   "outputs": [
    {
     "data": {
      "text/plain": [
       "5093"
      ]
     },
     "execution_count": 13,
     "metadata": {},
     "output_type": "execute_result"
    }
   ],
   "source": [
    "val_counts = df['Candidate ID#'].value_counts()\n",
    "val_counts.max()"
   ]
  },
  {
   "cell_type": "code",
   "execution_count": 17,
   "metadata": {},
   "outputs": [
    {
     "data": {
      "text/plain": [
       "19"
      ]
     },
     "execution_count": 17,
     "metadata": {},
     "output_type": "execute_result"
    }
   ],
   "source": [
    "val_counts[val_counts==5093].count()"
   ]
  },
  {
   "cell_type": "markdown",
   "metadata": {},
   "source": [
    "Number of unique rows per candidate excluding absentee."
   ]
  },
  {
   "cell_type": "code",
   "execution_count": 14,
   "metadata": {},
   "outputs": [
    {
     "data": {
      "text/plain": [
       "4832"
      ]
     },
     "execution_count": 14,
     "metadata": {},
     "output_type": "execute_result"
    }
   ],
   "source": [
    "df[df['Precinct Label'].isna()]['Candidate ID#'].value_counts().max()"
   ]
  },
  {
   "cell_type": "markdown",
   "metadata": {},
   "source": [
    "Comparing with vest `gdfv` observe > 99% match in the number of precincts in the source file and in `gdf`"
   ]
  },
  {
   "cell_type": "code",
   "execution_count": 16,
   "metadata": {},
   "outputs": [
    {
     "data": {
      "text/plain": [
       "0.9927566225165563"
      ]
     },
     "execution_count": 16,
     "metadata": {},
     "output_type": "execute_result"
    }
   ],
   "source": [
    "gdfv.shape[0]/df[df['Precinct Label'].isna()]['Candidate ID#'].value_counts().max()"
   ]
  },
  {
   "cell_type": "markdown",
   "metadata": {},
   "source": [
    "In order to recreate VEST's final file, I need the names file to match the office names with candidate names. Then can merge witth the votes file and pivot. Used same process as with the votes file to convert tab file to csv."
   ]
  },
  {
   "cell_type": "code",
   "execution_count": 18,
   "metadata": {},
   "outputs": [
    {
     "data": {
      "text/html": [
       "<div>\n",
       "<style scoped>\n",
       "    .dataframe tbody tr th:only-of-type {\n",
       "        vertical-align: middle;\n",
       "    }\n",
       "\n",
       "    .dataframe tbody tr th {\n",
       "        vertical-align: top;\n",
       "    }\n",
       "\n",
       "    .dataframe thead th {\n",
       "        text-align: right;\n",
       "    }\n",
       "</style>\n",
       "<table border=\"1\" class=\"dataframe\">\n",
       "  <thead>\n",
       "    <tr style=\"text-align: right;\">\n",
       "      <th></th>\n",
       "      <th>year</th>\n",
       "      <th>election_type</th>\n",
       "      <th>office_code</th>\n",
       "      <th>district_code</th>\n",
       "      <th>status_code</th>\n",
       "      <th>candidate_id_#</th>\n",
       "      <th>last_name</th>\n",
       "      <th>first_name</th>\n",
       "      <th>middle_name</th>\n",
       "      <th>party_name</th>\n",
       "    </tr>\n",
       "  </thead>\n",
       "  <tbody>\n",
       "    <tr>\n",
       "      <th>0</th>\n",
       "      <td>2018</td>\n",
       "      <td>GEN</td>\n",
       "      <td>2</td>\n",
       "      <td>0</td>\n",
       "      <td>0</td>\n",
       "      <td>517093</td>\n",
       "      <td>LYNCH</td>\n",
       "      <td>CLYDE</td>\n",
       "      <td>NPA</td>\n",
       "      <td>NaN</td>\n",
       "    </tr>\n",
       "    <tr>\n",
       "      <th>1</th>\n",
       "      <td>2018</td>\n",
       "      <td>GEN</td>\n",
       "      <td>2</td>\n",
       "      <td>0</td>\n",
       "      <td>0</td>\n",
       "      <td>517245</td>\n",
       "      <td>SCHLEIGER</td>\n",
       "      <td>TODD</td>\n",
       "      <td>UST</td>\n",
       "      <td>NaN</td>\n",
       "    </tr>\n",
       "    <tr>\n",
       "      <th>2</th>\n",
       "      <td>2018</td>\n",
       "      <td>GEN</td>\n",
       "      <td>2</td>\n",
       "      <td>0</td>\n",
       "      <td>0</td>\n",
       "      <td>518014</td>\n",
       "      <td>WHITMER</td>\n",
       "      <td>GRETCHEN</td>\n",
       "      <td>DEM</td>\n",
       "      <td>NaN</td>\n",
       "    </tr>\n",
       "    <tr>\n",
       "      <th>3</th>\n",
       "      <td>2018</td>\n",
       "      <td>GEN</td>\n",
       "      <td>2</td>\n",
       "      <td>0</td>\n",
       "      <td>0</td>\n",
       "      <td>518016</td>\n",
       "      <td>COBBS</td>\n",
       "      <td>WILLIAM</td>\n",
       "      <td>NPA</td>\n",
       "      <td>NaN</td>\n",
       "    </tr>\n",
       "    <tr>\n",
       "      <th>4</th>\n",
       "      <td>2018</td>\n",
       "      <td>GEN</td>\n",
       "      <td>2</td>\n",
       "      <td>0</td>\n",
       "      <td>0</td>\n",
       "      <td>518032</td>\n",
       "      <td>SPACE</td>\n",
       "      <td>EVAN</td>\n",
       "      <td>NPA</td>\n",
       "      <td>NaN</td>\n",
       "    </tr>\n",
       "  </tbody>\n",
       "</table>\n",
       "</div>"
      ],
      "text/plain": [
       "   year election_type  office_code  district_code  status_code  \\\n",
       "0  2018           GEN            2              0            0   \n",
       "1  2018           GEN            2              0            0   \n",
       "2  2018           GEN            2              0            0   \n",
       "3  2018           GEN            2              0            0   \n",
       "4  2018           GEN            2              0            0   \n",
       "\n",
       "   candidate_id_#  last_name first_name middle_name party_name  \n",
       "0          517093      LYNCH      CLYDE         NPA        NaN  \n",
       "1          517245  SCHLEIGER       TODD         UST        NaN  \n",
       "2          518014    WHITMER   GRETCHEN         DEM        NaN  \n",
       "3          518016      COBBS    WILLIAM         NPA        NaN  \n",
       "4          518032      SPACE       EVAN         NPA        NaN  "
      ]
     },
     "execution_count": 18,
     "metadata": {},
     "output_type": "execute_result"
    }
   ],
   "source": [
    "names = pd.read_csv('./2018GEN/names_tab_to_csv.csv')\n",
    "names.columns = [x.strip() for x in names.columns]\n",
    "names.head()"
   ]
  },
  {
   "cell_type": "markdown",
   "metadata": {},
   "source": [
    "Using names df to recreate VEST naming convention"
   ]
  },
  {
   "cell_type": "code",
   "execution_count": 19,
   "metadata": {},
   "outputs": [],
   "source": [
    "names.loc[names.party_name.isna(), 'party_name'] = names.middle_name\n",
    "##Account for people with no middle name where party name incorrectly placed there"
   ]
  },
  {
   "cell_type": "code",
   "execution_count": 20,
   "metadata": {},
   "outputs": [
    {
     "data": {
      "text/plain": [
       "DEM    177\n",
       "REP    174\n",
       "NPA     59\n",
       "LIB     43\n",
       "UST     20\n",
       "GRN     17\n",
       "WCP     11\n",
       "NLP      4\n",
       "Name: party_name, dtype: int64"
      ]
     },
     "execution_count": 20,
     "metadata": {},
     "output_type": "execute_result"
    }
   ],
   "source": [
    "names.party_name.value_counts()"
   ]
  },
  {
   "cell_type": "markdown",
   "metadata": {},
   "source": [
    "Assigning party letter by party name to insert for Vest name convention (office, party letter, last name first 3)"
   ]
  },
  {
   "cell_type": "code",
   "execution_count": 21,
   "metadata": {},
   "outputs": [],
   "source": [
    "names['party_letter'] = names.party_name.apply(lambda x: x[0] if x != 'UST' and x != 'NPA' else 'I' if x=='NPA' else 'T')\n",
    "#NPA = \"no party affiliation\",  UST = \"US Taxpayer\" = T by VEST"
   ]
  },
  {
   "cell_type": "code",
   "execution_count": 22,
   "metadata": {},
   "outputs": [
    {
     "data": {
      "text/plain": [
       "D    177\n",
       "R    174\n",
       "I     59\n",
       "L     43\n",
       "T     20\n",
       "G     17\n",
       "W     11\n",
       "N      4\n",
       "Name: party_letter, dtype: int64"
      ]
     },
     "execution_count": 22,
     "metadata": {},
     "output_type": "execute_result"
    }
   ],
   "source": [
    "names.party_letter.value_counts()"
   ]
  },
  {
   "cell_type": "code",
   "execution_count": 23,
   "metadata": {},
   "outputs": [
    {
     "data": {
      "text/plain": [
       "0      ILYN\n",
       "1      TSCH\n",
       "2      DWHI\n",
       "3      ICOB\n",
       "4      ISPA\n",
       "       ... \n",
       "500    IYES\n",
       "501     INO\n",
       "502    IYES\n",
       "503     INO\n",
       "504    IYES\n",
       "Name: vest_suffix, Length: 505, dtype: object"
      ]
     },
     "execution_count": 23,
     "metadata": {},
     "output_type": "execute_result"
    }
   ],
   "source": [
    "names['last_name'] = names['last_name'].str.strip()\n",
    "names['vest_suffix'] = names['party_letter'] + names['last_name'].str.slice(stop=3)\n",
    "names['vest_suffix']"
   ]
  },
  {
   "cell_type": "code",
   "execution_count": 24,
   "metadata": {},
   "outputs": [],
   "source": [
    "#dictionary converting codes - candidateID to party letter+last names - use the candidateID# series with vest suffix for the dictionary key\n",
    "id_to_vest_suffix = pd.Series(names['vest_suffix'].values, index = names['candidate_id_#']).to_dict()"
   ]
  },
  {
   "cell_type": "code",
   "execution_count": 25,
   "metadata": {},
   "outputs": [],
   "source": [
    "#dictionary matching candidateID to party names\n",
    "id_to_party = pd.Series(names['party_letter'].values, index = names['candidate_id_#']).to_dict()"
   ]
  },
  {
   "cell_type": "markdown",
   "metadata": {},
   "source": [
    "Use name file to create dictionaries for candidate ID to candidate name"
   ]
  },
  {
   "cell_type": "code",
   "execution_count": 26,
   "metadata": {},
   "outputs": [],
   "source": [
    "#dictionary converting codes - candidateID to last names\n",
    "id_to_name = pd.Series(names['last_name'].values, index = names['candidate_id_#']).to_dict()"
   ]
  },
  {
   "cell_type": "code",
   "execution_count": 27,
   "metadata": {},
   "outputs": [],
   "source": [
    "#strip id_to_name to just be 3 letters to match vest\n",
    "id_to_name_3 = {id:name.strip()[0:3] for id, name in id_to_name.items()}"
   ]
  },
  {
   "cell_type": "code",
   "execution_count": 28,
   "metadata": {},
   "outputs": [],
   "source": [
    "#add mapped column with candidate name from names to vote_df\n",
    "df['Candidate Name'] = df['Candidate ID#'].map(id_to_name_3)"
   ]
  },
  {
   "cell_type": "code",
   "execution_count": 29,
   "metadata": {},
   "outputs": [
    {
     "data": {
      "text/plain": [
       "False    652948\n",
       "True       5083\n",
       "Name: Candidate Name, dtype: int64"
      ]
     },
     "execution_count": 29,
     "metadata": {},
     "output_type": "execute_result"
    }
   ],
   "source": [
    "df['Candidate Name'].isna().value_counts()"
   ]
  },
  {
   "cell_type": "code",
   "execution_count": 30,
   "metadata": {},
   "outputs": [
    {
     "data": {
      "text/plain": [
       "G18UBR               147513\n",
       "state_rep             96859\n",
       "G18GOV                96767\n",
       "USRepCongress         57879\n",
       "G18SBE                55946\n",
       "G18USS                45783\n",
       "state_senate          45414\n",
       "StBallotProposals     30506\n",
       "JustSupCrt            30504\n",
       "G18ATG                25410\n",
       "G18SOS                20332\n",
       "NaN                    5118\n",
       "Name: Office Code, dtype: int64"
      ]
     },
     "execution_count": 30,
     "metadata": {},
     "output_type": "execute_result"
    }
   ],
   "source": [
    "#office code dict\n",
    "office_code = {'0': 'NaN', #Ballot Initiative?\n",
    "               '1': 'POTUS', #POTUS - No 2018 race\n",
    "               '2': 'G18GOV',#Governor \n",
    "               '3': 'G18SOS',#Secretary of State \n",
    "               '4': 'G18ATG',#Attorney General \n",
    "               '5': 'G18USS',#US Senate \n",
    "               '6': 'USRepCongress', #Congress - No 2018 race?\n",
    "               '7': 'state_senate',#StateSenate - No 2018 race?\n",
    "               '8': 'state_rep', #StateRepresentative - No 2018 race?\n",
    "               '9': 'G18SBE',#state board of education,\n",
    "               '10': 'G18UBR',#board of regents\n",
    "               '11': 'G18UBR',#board of trustees\n",
    "               '12': 'G18UBR',#board of governors\n",
    "               '13': 'JustSupCrt', \n",
    "               '14': 'NaN',\n",
    "               '90': 'StBallotProposals'}\n",
    "prefix = df['vest_prefix'] = df['Office Code'].map(lambda x: office_code.get(str(x)))\n",
    "prefix.value_counts()"
   ]
  },
  {
   "cell_type": "code",
   "execution_count": 32,
   "metadata": {},
   "outputs": [
    {
     "data": {
      "text/plain": [
       "TSAN    15266\n",
       "IWIL    15264\n",
       "INO     15253\n",
       "IYES    15253\n",
       "TSCH    10177\n",
       "        ...  \n",
       "RINM       36\n",
       "DO'N       36\n",
       "IBOR       35\n",
       "DCAB       34\n",
       "REIC       33\n",
       "Name: Candidate ID#, Length: 427, dtype: int64"
      ]
     },
     "execution_count": 32,
     "metadata": {},
     "output_type": "execute_result"
    }
   ],
   "source": [
    "#map vest suffix into votes df\n",
    "suffix = df['vest_suffix'] = df['Candidate ID#'].map(id_to_vest_suffix)\n",
    "suffix.value_counts()"
   ]
  },
  {
   "cell_type": "code",
   "execution_count": 33,
   "metadata": {},
   "outputs": [],
   "source": [
    "#recreate vest name by combining prefix and suffix\n",
    "df['vest'] = prefix + suffix"
   ]
  },
  {
   "cell_type": "code",
   "execution_count": 35,
   "metadata": {},
   "outputs": [
    {
     "data": {
      "text/html": [
       "<div>\n",
       "<style scoped>\n",
       "    .dataframe tbody tr th:only-of-type {\n",
       "        vertical-align: middle;\n",
       "    }\n",
       "\n",
       "    .dataframe tbody tr th {\n",
       "        vertical-align: top;\n",
       "    }\n",
       "\n",
       "    .dataframe thead th {\n",
       "        text-align: right;\n",
       "    }\n",
       "</style>\n",
       "<table border=\"1\" class=\"dataframe\">\n",
       "  <thead>\n",
       "    <tr style=\"text-align: right;\">\n",
       "      <th></th>\n",
       "      <th>Election Year</th>\n",
       "      <th>Election Type</th>\n",
       "      <th>Office Code</th>\n",
       "      <th>District Code</th>\n",
       "      <th>Status Code</th>\n",
       "      <th>Candidate ID#</th>\n",
       "      <th>County Code</th>\n",
       "      <th>City/Town Code</th>\n",
       "      <th>Ward Number</th>\n",
       "      <th>Precinct Number</th>\n",
       "      <th>Precinct Label</th>\n",
       "      <th>Precinct #Votes</th>\n",
       "      <th>Candidate Name</th>\n",
       "      <th>vest_prefix</th>\n",
       "      <th>vest_suffix</th>\n",
       "      <th>vest</th>\n",
       "    </tr>\n",
       "  </thead>\n",
       "  <tbody>\n",
       "    <tr>\n",
       "      <th>0</th>\n",
       "      <td>2018</td>\n",
       "      <td>GEN</td>\n",
       "      <td>0</td>\n",
       "      <td>0</td>\n",
       "      <td>0</td>\n",
       "      <td>0</td>\n",
       "      <td>1</td>\n",
       "      <td>2</td>\n",
       "      <td>0</td>\n",
       "      <td>1</td>\n",
       "      <td>NaN</td>\n",
       "      <td>687</td>\n",
       "      <td>NaN</td>\n",
       "      <td>NaN</td>\n",
       "      <td>NaN</td>\n",
       "      <td>NaN</td>\n",
       "    </tr>\n",
       "    <tr>\n",
       "      <th>1</th>\n",
       "      <td>2018</td>\n",
       "      <td>GEN</td>\n",
       "      <td>0</td>\n",
       "      <td>0</td>\n",
       "      <td>0</td>\n",
       "      <td>0</td>\n",
       "      <td>1</td>\n",
       "      <td>4</td>\n",
       "      <td>0</td>\n",
       "      <td>1</td>\n",
       "      <td>NaN</td>\n",
       "      <td>591</td>\n",
       "      <td>NaN</td>\n",
       "      <td>NaN</td>\n",
       "      <td>NaN</td>\n",
       "      <td>NaN</td>\n",
       "    </tr>\n",
       "    <tr>\n",
       "      <th>2</th>\n",
       "      <td>2018</td>\n",
       "      <td>GEN</td>\n",
       "      <td>0</td>\n",
       "      <td>0</td>\n",
       "      <td>0</td>\n",
       "      <td>0</td>\n",
       "      <td>1</td>\n",
       "      <td>6</td>\n",
       "      <td>0</td>\n",
       "      <td>1</td>\n",
       "      <td>NaN</td>\n",
       "      <td>586</td>\n",
       "      <td>NaN</td>\n",
       "      <td>NaN</td>\n",
       "      <td>NaN</td>\n",
       "      <td>NaN</td>\n",
       "    </tr>\n",
       "    <tr>\n",
       "      <th>3</th>\n",
       "      <td>2018</td>\n",
       "      <td>GEN</td>\n",
       "      <td>0</td>\n",
       "      <td>0</td>\n",
       "      <td>0</td>\n",
       "      <td>0</td>\n",
       "      <td>1</td>\n",
       "      <td>8</td>\n",
       "      <td>0</td>\n",
       "      <td>1</td>\n",
       "      <td>NaN</td>\n",
       "      <td>701</td>\n",
       "      <td>NaN</td>\n",
       "      <td>NaN</td>\n",
       "      <td>NaN</td>\n",
       "      <td>NaN</td>\n",
       "    </tr>\n",
       "    <tr>\n",
       "      <th>4</th>\n",
       "      <td>2018</td>\n",
       "      <td>GEN</td>\n",
       "      <td>0</td>\n",
       "      <td>0</td>\n",
       "      <td>0</td>\n",
       "      <td>0</td>\n",
       "      <td>1</td>\n",
       "      <td>10</td>\n",
       "      <td>0</td>\n",
       "      <td>1</td>\n",
       "      <td>NaN</td>\n",
       "      <td>316</td>\n",
       "      <td>NaN</td>\n",
       "      <td>NaN</td>\n",
       "      <td>NaN</td>\n",
       "      <td>NaN</td>\n",
       "    </tr>\n",
       "    <tr>\n",
       "      <th>...</th>\n",
       "      <td>...</td>\n",
       "      <td>...</td>\n",
       "      <td>...</td>\n",
       "      <td>...</td>\n",
       "      <td>...</td>\n",
       "      <td>...</td>\n",
       "      <td>...</td>\n",
       "      <td>...</td>\n",
       "      <td>...</td>\n",
       "      <td>...</td>\n",
       "      <td>...</td>\n",
       "      <td>...</td>\n",
       "      <td>...</td>\n",
       "      <td>...</td>\n",
       "      <td>...</td>\n",
       "      <td>...</td>\n",
       "    </tr>\n",
       "    <tr>\n",
       "      <th>658026</th>\n",
       "      <td>2018</td>\n",
       "      <td>GEN</td>\n",
       "      <td>90</td>\n",
       "      <td>0</td>\n",
       "      <td>3</td>\n",
       "      <td>-1268</td>\n",
       "      <td>83</td>\n",
       "      <td>32</td>\n",
       "      <td>0</td>\n",
       "      <td>1</td>\n",
       "      <td>NaN</td>\n",
       "      <td>240</td>\n",
       "      <td>YES</td>\n",
       "      <td>StBallotProposals</td>\n",
       "      <td>IYES</td>\n",
       "      <td>StBallotProposalsIYES</td>\n",
       "    </tr>\n",
       "    <tr>\n",
       "      <th>658027</th>\n",
       "      <td>2018</td>\n",
       "      <td>GEN</td>\n",
       "      <td>90</td>\n",
       "      <td>0</td>\n",
       "      <td>3</td>\n",
       "      <td>-1268</td>\n",
       "      <td>83</td>\n",
       "      <td>52</td>\n",
       "      <td>0</td>\n",
       "      <td>1</td>\n",
       "      <td>NaN</td>\n",
       "      <td>785</td>\n",
       "      <td>YES</td>\n",
       "      <td>StBallotProposals</td>\n",
       "      <td>IYES</td>\n",
       "      <td>StBallotProposalsIYES</td>\n",
       "    </tr>\n",
       "    <tr>\n",
       "      <th>658028</th>\n",
       "      <td>2018</td>\n",
       "      <td>GEN</td>\n",
       "      <td>90</td>\n",
       "      <td>0</td>\n",
       "      <td>3</td>\n",
       "      <td>-1268</td>\n",
       "      <td>83</td>\n",
       "      <td>52</td>\n",
       "      <td>0</td>\n",
       "      <td>2</td>\n",
       "      <td>NaN</td>\n",
       "      <td>694</td>\n",
       "      <td>YES</td>\n",
       "      <td>StBallotProposals</td>\n",
       "      <td>IYES</td>\n",
       "      <td>StBallotProposalsIYES</td>\n",
       "    </tr>\n",
       "    <tr>\n",
       "      <th>658029</th>\n",
       "      <td>2018</td>\n",
       "      <td>GEN</td>\n",
       "      <td>90</td>\n",
       "      <td>0</td>\n",
       "      <td>3</td>\n",
       "      <td>-1268</td>\n",
       "      <td>83</td>\n",
       "      <td>52</td>\n",
       "      <td>0</td>\n",
       "      <td>3</td>\n",
       "      <td>NaN</td>\n",
       "      <td>760</td>\n",
       "      <td>YES</td>\n",
       "      <td>StBallotProposals</td>\n",
       "      <td>IYES</td>\n",
       "      <td>StBallotProposalsIYES</td>\n",
       "    </tr>\n",
       "    <tr>\n",
       "      <th>658030</th>\n",
       "      <td>2018</td>\n",
       "      <td>GEN</td>\n",
       "      <td>90</td>\n",
       "      <td>0</td>\n",
       "      <td>3</td>\n",
       "      <td>-1268</td>\n",
       "      <td>83</td>\n",
       "      <td>54</td>\n",
       "      <td>0</td>\n",
       "      <td>1</td>\n",
       "      <td>NaN</td>\n",
       "      <td>256</td>\n",
       "      <td>YES</td>\n",
       "      <td>StBallotProposals</td>\n",
       "      <td>IYES</td>\n",
       "      <td>StBallotProposalsIYES</td>\n",
       "    </tr>\n",
       "  </tbody>\n",
       "</table>\n",
       "<p>658031 rows × 16 columns</p>\n",
       "</div>"
      ],
      "text/plain": [
       "        Election Year Election Type  Office Code  District Code  Status Code  \\\n",
       "0                2018           GEN            0              0            0   \n",
       "1                2018           GEN            0              0            0   \n",
       "2                2018           GEN            0              0            0   \n",
       "3                2018           GEN            0              0            0   \n",
       "4                2018           GEN            0              0            0   \n",
       "...               ...           ...          ...            ...          ...   \n",
       "658026           2018           GEN           90              0            3   \n",
       "658027           2018           GEN           90              0            3   \n",
       "658028           2018           GEN           90              0            3   \n",
       "658029           2018           GEN           90              0            3   \n",
       "658030           2018           GEN           90              0            3   \n",
       "\n",
       "        Candidate ID#  County Code  City/Town Code  Ward Number  \\\n",
       "0                   0            1               2            0   \n",
       "1                   0            1               4            0   \n",
       "2                   0            1               6            0   \n",
       "3                   0            1               8            0   \n",
       "4                   0            1              10            0   \n",
       "...               ...          ...             ...          ...   \n",
       "658026          -1268           83              32            0   \n",
       "658027          -1268           83              52            0   \n",
       "658028          -1268           83              52            0   \n",
       "658029          -1268           83              52            0   \n",
       "658030          -1268           83              54            0   \n",
       "\n",
       "        Precinct Number Precinct Label  Precinct #Votes Candidate Name  \\\n",
       "0                     1            NaN              687            NaN   \n",
       "1                     1            NaN              591            NaN   \n",
       "2                     1            NaN              586            NaN   \n",
       "3                     1            NaN              701            NaN   \n",
       "4                     1            NaN              316            NaN   \n",
       "...                 ...            ...              ...            ...   \n",
       "658026                1            NaN              240            YES   \n",
       "658027                1            NaN              785            YES   \n",
       "658028                2            NaN              694            YES   \n",
       "658029                3            NaN              760            YES   \n",
       "658030                1            NaN              256            YES   \n",
       "\n",
       "              vest_prefix vest_suffix                   vest  \n",
       "0                     NaN         NaN                    NaN  \n",
       "1                     NaN         NaN                    NaN  \n",
       "2                     NaN         NaN                    NaN  \n",
       "3                     NaN         NaN                    NaN  \n",
       "4                     NaN         NaN                    NaN  \n",
       "...                   ...         ...                    ...  \n",
       "658026  StBallotProposals        IYES  StBallotProposalsIYES  \n",
       "658027  StBallotProposals        IYES  StBallotProposalsIYES  \n",
       "658028  StBallotProposals        IYES  StBallotProposalsIYES  \n",
       "658029  StBallotProposals        IYES  StBallotProposalsIYES  \n",
       "658030  StBallotProposals        IYES  StBallotProposalsIYES  \n",
       "\n",
       "[658031 rows x 16 columns]"
      ]
     },
     "execution_count": 35,
     "metadata": {},
     "output_type": "execute_result"
    }
   ],
   "source": [
    "df"
   ]
  },
  {
   "cell_type": "markdown",
   "metadata": {},
   "source": [
    "Find the difference between the set of column names in `gdfv` and the set of values in `df.vest`. "
   ]
  },
  {
   "cell_type": "code",
   "execution_count": 38,
   "metadata": {},
   "outputs": [],
   "source": [
    "gdf_col = set(gdfv.columns)\n",
    "df_col = set(df['vest'])\n",
    "\n",
    "not_candidates = {\n",
    "'COUNTYFIPS',\n",
    " 'ELECTIONYE',\n",
    " 'MCDFIPS',\n",
    " 'OBJECTID',\n",
    " 'PRECINCT',\n",
    " 'PRECINCTID',\n",
    " 'ShapeSTAre',\n",
    " 'ShapeSTLen',\n",
    " 'WARD',\n",
    " 'geometry',\n",
    " 'precinct_2'\n",
    "}"
   ]
  },
  {
   "cell_type": "code",
   "execution_count": 39,
   "metadata": {},
   "outputs": [
    {
     "data": {
      "text/plain": [
       "{'COUNTYFIPS',\n",
       " 'ELECTIONYE',\n",
       " 'G18ATGIGAR',\n",
       " 'G18UBRTSA1',\n",
       " 'G18UBRTSA2',\n",
       " 'MCDFIPS',\n",
       " 'OBJECTID',\n",
       " 'PRECINCT',\n",
       " 'PRECINCTID',\n",
       " 'ShapeSTAre',\n",
       " 'ShapeSTLen',\n",
       " 'WARD',\n",
       " 'geometry',\n",
       " 'precinct_2'}"
      ]
     },
     "execution_count": 39,
     "metadata": {},
     "output_type": "execute_result"
    }
   ],
   "source": [
    "diff = gdf_col - df_col\n",
    "diff"
   ]
  },
  {
   "cell_type": "code",
   "execution_count": 41,
   "metadata": {},
   "outputs": [
    {
     "data": {
      "text/plain": [
       "{'G18ATGIGAR', 'G18UBRTSA1', 'G18UBRTSA2'}"
      ]
     },
     "execution_count": 41,
     "metadata": {},
     "output_type": "execute_result"
    }
   ],
   "source": [
    "vest_candidates = gdf_col.difference(not_candidates)\n",
    "vest_candidates.difference(df['vest'])\n",
    "#See typos in df"
   ]
  },
  {
   "cell_type": "markdown",
   "metadata": {},
   "source": [
    "2018,GEN,11,00000,0,519023,SANGER,JANET,M.,UST\n",
    "2018,GEN,11,00000,0,519024,SANGER,JOHN,PAUL,UST\n",
    "These two candidates resulted in the same \"Vest name\" so they differentiated with a digit. This cell makes that correction\n",
    "G18ATGIGAR - Chris Graveline (Independent) should be `G18ATGIGRA` in vest's naming scheme, but it looks like they have a typo. This matches the votes to their typo\n"
   ]
  },
  {
   "cell_type": "code",
   "execution_count": 42,
   "metadata": {},
   "outputs": [
    {
     "data": {
      "text/plain": [
       "set()"
      ]
     },
     "execution_count": 42,
     "metadata": {},
     "output_type": "execute_result"
    }
   ],
   "source": [
    "df.loc[(df['Candidate ID#'] == 519023), 'vest'] = 'G18UBRTSA1'\n",
    "df.loc[df['Candidate ID#'] == 519024, 'vest'] = 'G18UBRTSA2'\n",
    "df.loc[df['Candidate ID#'] == 518994, 'vest'] = 'G18ATGIGAR'\n",
    "vest_candidates.difference(df['vest'])"
   ]
  },
  {
   "cell_type": "code",
   "execution_count": 43,
   "metadata": {},
   "outputs": [
    {
     "data": {
      "text/html": [
       "<div>\n",
       "<style scoped>\n",
       "    .dataframe tbody tr th:only-of-type {\n",
       "        vertical-align: middle;\n",
       "    }\n",
       "\n",
       "    .dataframe tbody tr th {\n",
       "        vertical-align: top;\n",
       "    }\n",
       "\n",
       "    .dataframe thead th {\n",
       "        text-align: right;\n",
       "    }\n",
       "</style>\n",
       "<table border=\"1\" class=\"dataframe\">\n",
       "  <thead>\n",
       "    <tr style=\"text-align: right;\">\n",
       "      <th></th>\n",
       "      <th>Election Year</th>\n",
       "      <th>Election Type</th>\n",
       "      <th>Office Code</th>\n",
       "      <th>District Code</th>\n",
       "      <th>Status Code</th>\n",
       "      <th>Candidate ID#</th>\n",
       "      <th>County Code</th>\n",
       "      <th>City/Town Code</th>\n",
       "      <th>Ward Number</th>\n",
       "      <th>Precinct Number</th>\n",
       "      <th>Precinct Label</th>\n",
       "      <th>Precinct #Votes</th>\n",
       "      <th>Candidate Name</th>\n",
       "      <th>vest_prefix</th>\n",
       "      <th>vest_suffix</th>\n",
       "      <th>vest</th>\n",
       "    </tr>\n",
       "  </thead>\n",
       "  <tbody>\n",
       "    <tr>\n",
       "      <th>10176</th>\n",
       "      <td>2018</td>\n",
       "      <td>GEN</td>\n",
       "      <td>2</td>\n",
       "      <td>0</td>\n",
       "      <td>0</td>\n",
       "      <td>517245</td>\n",
       "      <td>1</td>\n",
       "      <td>2</td>\n",
       "      <td>0</td>\n",
       "      <td>1</td>\n",
       "      <td>NaN</td>\n",
       "      <td>0</td>\n",
       "      <td>SCH</td>\n",
       "      <td>G18GOV</td>\n",
       "      <td>TSCH</td>\n",
       "      <td>G18GOVTSCH</td>\n",
       "    </tr>\n",
       "    <tr>\n",
       "      <th>10177</th>\n",
       "      <td>2018</td>\n",
       "      <td>GEN</td>\n",
       "      <td>2</td>\n",
       "      <td>0</td>\n",
       "      <td>0</td>\n",
       "      <td>517245</td>\n",
       "      <td>1</td>\n",
       "      <td>4</td>\n",
       "      <td>0</td>\n",
       "      <td>1</td>\n",
       "      <td>NaN</td>\n",
       "      <td>2</td>\n",
       "      <td>SCH</td>\n",
       "      <td>G18GOV</td>\n",
       "      <td>TSCH</td>\n",
       "      <td>G18GOVTSCH</td>\n",
       "    </tr>\n",
       "  </tbody>\n",
       "</table>\n",
       "</div>"
      ],
      "text/plain": [
       "       Election Year Election Type  Office Code  District Code  Status Code  \\\n",
       "10176           2018           GEN            2              0            0   \n",
       "10177           2018           GEN            2              0            0   \n",
       "\n",
       "       Candidate ID#  County Code  City/Town Code  Ward Number  \\\n",
       "10176         517245            1               2            0   \n",
       "10177         517245            1               4            0   \n",
       "\n",
       "       Precinct Number Precinct Label  Precinct #Votes Candidate Name  \\\n",
       "10176                1            NaN                0            SCH   \n",
       "10177                1            NaN                2            SCH   \n",
       "\n",
       "      vest_prefix vest_suffix        vest  \n",
       "10176      G18GOV        TSCH  G18GOVTSCH  \n",
       "10177      G18GOV        TSCH  G18GOVTSCH  "
      ]
     },
     "execution_count": 43,
     "metadata": {},
     "output_type": "execute_result"
    }
   ],
   "source": [
    "df = df[df.vest.isin(vest_candidates)] #mask for candidates that vest has only\n",
    "df.head(2)"
   ]
  },
  {
   "cell_type": "markdown",
   "metadata": {},
   "source": [
    "Matched columns with vest above, now need to match the rows - get votes precincts to match vest precincts"
   ]
  },
  {
   "cell_type": "code",
   "execution_count": 44,
   "metadata": {},
   "outputs": [
    {
     "data": {
      "text/plain": [
       "0           001-ALCONA TOWNSHIP-0-0001\n",
       "1        001-CALEDONIA TOWNSHIP-0-0001\n",
       "2           001-CURTIS TOWNSHIP-0-0001\n",
       "3        001-GREENBUSH TOWNSHIP-0-0001\n",
       "4           001-GUSTIN TOWNSHIP-0-0001\n",
       "                     ...              \n",
       "4792          161-SCIO TOWNSHIP-0-0001\n",
       "4793          161-SCIO TOWNSHIP-0-0008\n",
       "4794    163-BROWNSTOWN TOWNSHIP-0-0003\n",
       "4795      149-LOCKPORT TOWNSHIP-0-0001\n",
       "4796    161-PITTSFIELD TOWNSHIP-0-0009\n",
       "Name: precinct_2, Length: 4797, dtype: object"
      ]
     },
     "execution_count": 44,
     "metadata": {},
     "output_type": "execute_result"
    }
   ],
   "source": [
    "gdfv['precinct_2']"
   ]
  },
  {
   "cell_type": "code",
   "execution_count": 46,
   "metadata": {},
   "outputs": [
    {
     "data": {
      "text/plain": [
       "799"
      ]
     },
     "execution_count": 46,
     "metadata": {},
     "output_type": "execute_result"
    }
   ],
   "source": [
    "prec2_last5 = gdfv['precinct_2'].str.slice(start = -6)\n",
    "prec2_last5.nunique()"
   ]
  },
  {
   "cell_type": "code",
   "execution_count": 47,
   "metadata": {},
   "outputs": [
    {
     "data": {
      "text/plain": [
       "931"
      ]
     },
     "execution_count": 47,
     "metadata": {},
     "output_type": "execute_result"
    }
   ],
   "source": [
    "ward_prec = df['Ward Number'].map(lambda x: str(x).zfill(2))+df['Precinct Number'].map(lambda x: str(x).zfill(4))\n",
    "ward_prec.nunique()"
   ]
  },
  {
   "cell_type": "code",
   "execution_count": 50,
   "metadata": {},
   "outputs": [
    {
     "data": {
      "text/plain": [
       "163    988\n",
       "125    515\n",
       "099    338\n",
       "081    252\n",
       "049    215\n",
       "      ... \n",
       "119      9\n",
       "013      8\n",
       "135      7\n",
       "083      5\n",
       "095      4\n",
       "Name: PRECINCTID, Length: 83, dtype: int64"
      ]
     },
     "execution_count": 50,
     "metadata": {},
     "output_type": "execute_result"
    }
   ],
   "source": [
    "gdfv['PRECINCTID'].str.slice(start=3, stop=6).value_counts()"
   ]
  },
  {
   "cell_type": "markdown",
   "metadata": {},
   "source": [
    "There are 83 counties in MI, so this sugests that the middle 3 represent county fips codes"
   ]
  },
  {
   "cell_type": "code",
   "execution_count": 53,
   "metadata": {},
   "outputs": [
    {
     "data": {
      "text/plain": [
       "50"
      ]
     },
     "execution_count": 53,
     "metadata": {},
     "output_type": "execute_result"
    }
   ],
   "source": [
    "len(set(gdfv['PRECINCTID'].str.slice(start=3, stop=6).value_counts()) - set(gdfv['COUNTYFIPS']))"
   ]
  },
  {
   "cell_type": "code",
   "execution_count": 54,
   "metadata": {},
   "outputs": [
    {
     "data": {
      "text/plain": [
       "50"
      ]
     },
     "execution_count": 54,
     "metadata": {},
     "output_type": "execute_result"
    }
   ],
   "source": [
    "len(set(gdfv['precinct_2'].str.slice(stop=3).value_counts()) - set(gdfv['COUNTYFIPS']))"
   ]
  },
  {
   "cell_type": "markdown",
   "metadata": {},
   "source": [
    "To recreate `precinct_2` column, use the city file, and convert tab to csv same way as before."
   ]
  },
  {
   "cell_type": "code",
   "execution_count": 56,
   "metadata": {},
   "outputs": [
    {
     "data": {
      "text/html": [
       "<div>\n",
       "<style scoped>\n",
       "    .dataframe tbody tr th:only-of-type {\n",
       "        vertical-align: middle;\n",
       "    }\n",
       "\n",
       "    .dataframe tbody tr th {\n",
       "        vertical-align: top;\n",
       "    }\n",
       "\n",
       "    .dataframe thead th {\n",
       "        text-align: right;\n",
       "    }\n",
       "</style>\n",
       "<table border=\"1\" class=\"dataframe\">\n",
       "  <thead>\n",
       "    <tr style=\"text-align: right;\">\n",
       "      <th></th>\n",
       "      <th>ElectionYr</th>\n",
       "      <th>ElectionType</th>\n",
       "      <th>CountyCode</th>\n",
       "      <th>CityTownCode</th>\n",
       "      <th>CityTownDesc</th>\n",
       "    </tr>\n",
       "  </thead>\n",
       "  <tbody>\n",
       "    <tr>\n",
       "      <th>0</th>\n",
       "      <td>2018</td>\n",
       "      <td>GEN</td>\n",
       "      <td>1</td>\n",
       "      <td>2</td>\n",
       "      <td>ALCONA TOWNSHIP</td>\n",
       "    </tr>\n",
       "    <tr>\n",
       "      <th>1</th>\n",
       "      <td>2018</td>\n",
       "      <td>GEN</td>\n",
       "      <td>1</td>\n",
       "      <td>4</td>\n",
       "      <td>CALEDONIA TOWNSHIP</td>\n",
       "    </tr>\n",
       "    <tr>\n",
       "      <th>2</th>\n",
       "      <td>2018</td>\n",
       "      <td>GEN</td>\n",
       "      <td>1</td>\n",
       "      <td>6</td>\n",
       "      <td>CURTIS TOWNSHIP</td>\n",
       "    </tr>\n",
       "    <tr>\n",
       "      <th>3</th>\n",
       "      <td>2018</td>\n",
       "      <td>GEN</td>\n",
       "      <td>1</td>\n",
       "      <td>8</td>\n",
       "      <td>GREENBUSH TOWNSHIP</td>\n",
       "    </tr>\n",
       "    <tr>\n",
       "      <th>4</th>\n",
       "      <td>2018</td>\n",
       "      <td>GEN</td>\n",
       "      <td>1</td>\n",
       "      <td>10</td>\n",
       "      <td>GUSTIN TOWNSHIP</td>\n",
       "    </tr>\n",
       "  </tbody>\n",
       "</table>\n",
       "</div>"
      ],
      "text/plain": [
       "   ElectionYr ElectionType  CountyCode  CityTownCode        CityTownDesc\n",
       "0        2018          GEN           1             2     ALCONA TOWNSHIP\n",
       "1        2018          GEN           1             4  CALEDONIA TOWNSHIP\n",
       "2        2018          GEN           1             6     CURTIS TOWNSHIP\n",
       "3        2018          GEN           1             8  GREENBUSH TOWNSHIP\n",
       "4        2018          GEN           1            10     GUSTIN TOWNSHIP"
      ]
     },
     "execution_count": 56,
     "metadata": {},
     "output_type": "execute_result"
    }
   ],
   "source": [
    "city = pd.read_csv('./2018GEN/city_tab_to_csv.csv', names = ['ElectionYr', 'ElectionType', 'CountyCode', 'CityTownCode', 'CityTownDesc'])\n",
    "city.head()"
   ]
  },
  {
   "cell_type": "code",
   "execution_count": 58,
   "metadata": {},
   "outputs": [],
   "source": [
    "county_city = city['CountyCode'].map(lambda x: str(x).zfill(2)) + city['CityTownCode'].map(lambda x: str(x).zfill(4))\n",
    "city['county_w_city'] = county_city\n",
    "#need county to make the city a unique identifier"
   ]
  },
  {
   "cell_type": "code",
   "execution_count": 59,
   "metadata": {},
   "outputs": [
    {
     "data": {
      "text/html": [
       "<div>\n",
       "<style scoped>\n",
       "    .dataframe tbody tr th:only-of-type {\n",
       "        vertical-align: middle;\n",
       "    }\n",
       "\n",
       "    .dataframe tbody tr th {\n",
       "        vertical-align: top;\n",
       "    }\n",
       "\n",
       "    .dataframe thead th {\n",
       "        text-align: right;\n",
       "    }\n",
       "</style>\n",
       "<table border=\"1\" class=\"dataframe\">\n",
       "  <thead>\n",
       "    <tr style=\"text-align: right;\">\n",
       "      <th></th>\n",
       "      <th>ElectionYr</th>\n",
       "      <th>ElectionType</th>\n",
       "      <th>CountyCode</th>\n",
       "      <th>CityTownCode</th>\n",
       "      <th>CityTownDesc</th>\n",
       "      <th>county_w_city</th>\n",
       "    </tr>\n",
       "  </thead>\n",
       "  <tbody>\n",
       "    <tr>\n",
       "      <th>0</th>\n",
       "      <td>2018</td>\n",
       "      <td>GEN</td>\n",
       "      <td>1</td>\n",
       "      <td>2</td>\n",
       "      <td>ALCONA TOWNSHIP</td>\n",
       "      <td>010002</td>\n",
       "    </tr>\n",
       "    <tr>\n",
       "      <th>1</th>\n",
       "      <td>2018</td>\n",
       "      <td>GEN</td>\n",
       "      <td>1</td>\n",
       "      <td>4</td>\n",
       "      <td>CALEDONIA TOWNSHIP</td>\n",
       "      <td>010004</td>\n",
       "    </tr>\n",
       "    <tr>\n",
       "      <th>2</th>\n",
       "      <td>2018</td>\n",
       "      <td>GEN</td>\n",
       "      <td>1</td>\n",
       "      <td>6</td>\n",
       "      <td>CURTIS TOWNSHIP</td>\n",
       "      <td>010006</td>\n",
       "    </tr>\n",
       "    <tr>\n",
       "      <th>3</th>\n",
       "      <td>2018</td>\n",
       "      <td>GEN</td>\n",
       "      <td>1</td>\n",
       "      <td>8</td>\n",
       "      <td>GREENBUSH TOWNSHIP</td>\n",
       "      <td>010008</td>\n",
       "    </tr>\n",
       "    <tr>\n",
       "      <th>4</th>\n",
       "      <td>2018</td>\n",
       "      <td>GEN</td>\n",
       "      <td>1</td>\n",
       "      <td>10</td>\n",
       "      <td>GUSTIN TOWNSHIP</td>\n",
       "      <td>010010</td>\n",
       "    </tr>\n",
       "  </tbody>\n",
       "</table>\n",
       "</div>"
      ],
      "text/plain": [
       "   ElectionYr ElectionType  CountyCode  CityTownCode        CityTownDesc  \\\n",
       "0        2018          GEN           1             2     ALCONA TOWNSHIP   \n",
       "1        2018          GEN           1             4  CALEDONIA TOWNSHIP   \n",
       "2        2018          GEN           1             6     CURTIS TOWNSHIP   \n",
       "3        2018          GEN           1             8  GREENBUSH TOWNSHIP   \n",
       "4        2018          GEN           1            10     GUSTIN TOWNSHIP   \n",
       "\n",
       "  county_w_city  \n",
       "0        010002  \n",
       "1        010004  \n",
       "2        010006  \n",
       "3        010008  \n",
       "4        010010  "
      ]
     },
     "execution_count": 59,
     "metadata": {},
     "output_type": "execute_result"
    }
   ],
   "source": [
    "city.head()"
   ]
  },
  {
   "cell_type": "code",
   "execution_count": 60,
   "metadata": {},
   "outputs": [
    {
     "name": "stderr",
     "output_type": "stream",
     "text": [
      "<ipython-input-60-7d21130f77dc>:1: SettingWithCopyWarning: \n",
      "A value is trying to be set on a copy of a slice from a DataFrame.\n",
      "Try using .loc[row_indexer,col_indexer] = value instead\n",
      "\n",
      "See the caveats in the documentation: https://pandas.pydata.org/pandas-docs/stable/user_guide/indexing.html#returning-a-view-versus-a-copy\n",
      "  df['county_w_city'] = df['County Code'].map(lambda x: str(x).zfill(2)) + df['City/Town Code'].map(lambda x: str(x).zfill(4))\n"
     ]
    }
   ],
   "source": [
    "df['county_w_city'] = df['County Code'].map(lambda x: str(x).zfill(2)) + df['City/Town Code'].map(lambda x: str(x).zfill(4))"
   ]
  },
  {
   "cell_type": "code",
   "execution_count": 61,
   "metadata": {},
   "outputs": [],
   "source": [
    "city_dict = pd.Series(city['CityTownDesc'].values, index = city['county_w_city']).to_dict()"
   ]
  },
  {
   "cell_type": "code",
   "execution_count": 63,
   "metadata": {},
   "outputs": [
    {
     "name": "stderr",
     "output_type": "stream",
     "text": [
      "<ipython-input-63-1f470eb0eadf>:1: SettingWithCopyWarning: \n",
      "A value is trying to be set on a copy of a slice from a DataFrame.\n",
      "Try using .loc[row_indexer,col_indexer] = value instead\n",
      "\n",
      "See the caveats in the documentation: https://pandas.pydata.org/pandas-docs/stable/user_guide/indexing.html#returning-a-view-versus-a-copy\n",
      "  df['CityNameCode'] = df['county_w_city'].map(city_dict)\n"
     ]
    }
   ],
   "source": [
    "df['CityNameCode'] = df['county_w_city'].map(city_dict)"
   ]
  },
  {
   "cell_type": "code",
   "execution_count": 65,
   "metadata": {},
   "outputs": [
    {
     "data": {
      "text/plain": [
       "{'LANSING CITY-3-',\n",
       " 'LANSING CITY-3-0',\n",
       " 'LIVONIA CITY-0',\n",
       " 'MILAN CITY-0',\n",
       " 'MONROE CITY-0',\n",
       " None}"
      ]
     },
     "execution_count": 65,
     "metadata": {},
     "output_type": "execute_result"
    }
   ],
   "source": [
    "set(gdfv['precinct_2'].str.slice(start = 4, stop = -7)).difference(set(df['CityNameCode']))\n",
    "#So, most of the time matches with middle section of gdf column"
   ]
  },
  {
   "cell_type": "markdown",
   "metadata": {},
   "source": [
    "**First tried to recreate `PRECINCTID` column in order to merge with shp**\n",
    "To do this, relied on census file with MCDFIPS and city/town/county names. Tried this first since that is the common column between the vest file and the shp. \n",
    "This did not end up working..."
   ]
  },
  {
   "cell_type": "code",
   "execution_count": 66,
   "metadata": {},
   "outputs": [
    {
     "data": {
      "text/html": [
       "<div>\n",
       "<style scoped>\n",
       "    .dataframe tbody tr th:only-of-type {\n",
       "        vertical-align: middle;\n",
       "    }\n",
       "\n",
       "    .dataframe tbody tr th {\n",
       "        vertical-align: top;\n",
       "    }\n",
       "\n",
       "    .dataframe thead th {\n",
       "        text-align: right;\n",
       "    }\n",
       "</style>\n",
       "<table border=\"1\" class=\"dataframe\">\n",
       "  <thead>\n",
       "    <tr style=\"text-align: right;\">\n",
       "      <th></th>\n",
       "      <th>Summary Level</th>\n",
       "      <th>State Code (FIPS)</th>\n",
       "      <th>County Code (FIPS)</th>\n",
       "      <th>County Subdivision Code (FIPS)</th>\n",
       "      <th>Place Code (FIPS)</th>\n",
       "      <th>Consolidtated City Code (FIPS)</th>\n",
       "      <th>Area Name (including legal/statistical area description)</th>\n",
       "    </tr>\n",
       "  </thead>\n",
       "  <tbody>\n",
       "    <tr>\n",
       "      <th>13815</th>\n",
       "      <td>40</td>\n",
       "      <td>26</td>\n",
       "      <td>0</td>\n",
       "      <td>0</td>\n",
       "      <td>0</td>\n",
       "      <td>0</td>\n",
       "      <td>Michigan</td>\n",
       "    </tr>\n",
       "    <tr>\n",
       "      <th>13816</th>\n",
       "      <td>50</td>\n",
       "      <td>26</td>\n",
       "      <td>1</td>\n",
       "      <td>0</td>\n",
       "      <td>0</td>\n",
       "      <td>0</td>\n",
       "      <td>Alcona County</td>\n",
       "    </tr>\n",
       "    <tr>\n",
       "      <th>13817</th>\n",
       "      <td>50</td>\n",
       "      <td>26</td>\n",
       "      <td>3</td>\n",
       "      <td>0</td>\n",
       "      <td>0</td>\n",
       "      <td>0</td>\n",
       "      <td>Alger County</td>\n",
       "    </tr>\n",
       "    <tr>\n",
       "      <th>13818</th>\n",
       "      <td>50</td>\n",
       "      <td>26</td>\n",
       "      <td>5</td>\n",
       "      <td>0</td>\n",
       "      <td>0</td>\n",
       "      <td>0</td>\n",
       "      <td>Allegan County</td>\n",
       "    </tr>\n",
       "    <tr>\n",
       "      <th>13819</th>\n",
       "      <td>50</td>\n",
       "      <td>26</td>\n",
       "      <td>7</td>\n",
       "      <td>0</td>\n",
       "      <td>0</td>\n",
       "      <td>0</td>\n",
       "      <td>Alpena County</td>\n",
       "    </tr>\n",
       "  </tbody>\n",
       "</table>\n",
       "</div>"
      ],
      "text/plain": [
       "       Summary Level  State Code (FIPS)  County Code (FIPS)  \\\n",
       "13815             40                 26                   0   \n",
       "13816             50                 26                   1   \n",
       "13817             50                 26                   3   \n",
       "13818             50                 26                   5   \n",
       "13819             50                 26                   7   \n",
       "\n",
       "       County Subdivision Code (FIPS)  Place Code (FIPS)  \\\n",
       "13815                               0                  0   \n",
       "13816                               0                  0   \n",
       "13817                               0                  0   \n",
       "13818                               0                  0   \n",
       "13819                               0                  0   \n",
       "\n",
       "       Consolidtated City Code (FIPS)  \\\n",
       "13815                               0   \n",
       "13816                               0   \n",
       "13817                               0   \n",
       "13818                               0   \n",
       "13819                               0   \n",
       "\n",
       "      Area Name (including legal/statistical area description)  \n",
       "13815                                           Michigan        \n",
       "13816                                      Alcona County        \n",
       "13817                                       Alger County        \n",
       "13818                                     Allegan County        \n",
       "13819                                      Alpena County        "
      ]
     },
     "execution_count": 66,
     "metadata": {},
     "output_type": "execute_result"
    }
   ],
   "source": [
    "census = pd.read_csv('./all-geocodes-v2018.csv')\n",
    "censusmi = census[census['State Code (FIPS)'] == 26]\n",
    "censusmi.head()"
   ]
  },
  {
   "cell_type": "markdown",
   "metadata": {},
   "source": [
    "County Subdivision Code (FIPS) = MCDFIPS most of the time, in cases where it is zero, use the Place Code (FIPS)"
   ]
  },
  {
   "cell_type": "code",
   "execution_count": 67,
   "metadata": {},
   "outputs": [
    {
     "data": {
      "text/html": [
       "<div>\n",
       "<style scoped>\n",
       "    .dataframe tbody tr th:only-of-type {\n",
       "        vertical-align: middle;\n",
       "    }\n",
       "\n",
       "    .dataframe tbody tr th {\n",
       "        vertical-align: top;\n",
       "    }\n",
       "\n",
       "    .dataframe thead th {\n",
       "        text-align: right;\n",
       "    }\n",
       "</style>\n",
       "<table border=\"1\" class=\"dataframe\">\n",
       "  <thead>\n",
       "    <tr style=\"text-align: right;\">\n",
       "      <th></th>\n",
       "      <th>Summary Level</th>\n",
       "      <th>State Code (FIPS)</th>\n",
       "      <th>County Code (FIPS)</th>\n",
       "      <th>County Subdivision Code (FIPS)</th>\n",
       "      <th>Place Code (FIPS)</th>\n",
       "      <th>Consolidtated City Code (FIPS)</th>\n",
       "      <th>Area Name (including legal/statistical area description)</th>\n",
       "    </tr>\n",
       "  </thead>\n",
       "  <tbody>\n",
       "    <tr>\n",
       "      <th>13904</th>\n",
       "      <td>61</td>\n",
       "      <td>26</td>\n",
       "      <td>1</td>\n",
       "      <td>36860</td>\n",
       "      <td>0</td>\n",
       "      <td>0</td>\n",
       "      <td>Harrisville city</td>\n",
       "    </tr>\n",
       "    <tr>\n",
       "      <th>13916</th>\n",
       "      <td>61</td>\n",
       "      <td>26</td>\n",
       "      <td>3</td>\n",
       "      <td>56200</td>\n",
       "      <td>0</td>\n",
       "      <td>0</td>\n",
       "      <td>Munising city</td>\n",
       "    </tr>\n",
       "    <tr>\n",
       "      <th>13920</th>\n",
       "      <td>61</td>\n",
       "      <td>26</td>\n",
       "      <td>5</td>\n",
       "      <td>1260</td>\n",
       "      <td>0</td>\n",
       "      <td>0</td>\n",
       "      <td>Allegan city</td>\n",
       "    </tr>\n",
       "    <tr>\n",
       "      <th>13926</th>\n",
       "      <td>61</td>\n",
       "      <td>26</td>\n",
       "      <td>5</td>\n",
       "      <td>22740</td>\n",
       "      <td>0</td>\n",
       "      <td>0</td>\n",
       "      <td>Douglas city</td>\n",
       "    </tr>\n",
       "    <tr>\n",
       "      <th>13927</th>\n",
       "      <td>61</td>\n",
       "      <td>26</td>\n",
       "      <td>5</td>\n",
       "      <td>27740</td>\n",
       "      <td>0</td>\n",
       "      <td>0</td>\n",
       "      <td>Fennville city</td>\n",
       "    </tr>\n",
       "  </tbody>\n",
       "</table>\n",
       "</div>"
      ],
      "text/plain": [
       "       Summary Level  State Code (FIPS)  County Code (FIPS)  \\\n",
       "13904             61                 26                   1   \n",
       "13916             61                 26                   3   \n",
       "13920             61                 26                   5   \n",
       "13926             61                 26                   5   \n",
       "13927             61                 26                   5   \n",
       "\n",
       "       County Subdivision Code (FIPS)  Place Code (FIPS)  \\\n",
       "13904                           36860                  0   \n",
       "13916                           56200                  0   \n",
       "13920                            1260                  0   \n",
       "13926                           22740                  0   \n",
       "13927                           27740                  0   \n",
       "\n",
       "       Consolidtated City Code (FIPS)  \\\n",
       "13904                               0   \n",
       "13916                               0   \n",
       "13920                               0   \n",
       "13926                               0   \n",
       "13927                               0   \n",
       "\n",
       "      Area Name (including legal/statistical area description)  \n",
       "13904                                   Harrisville city        \n",
       "13916                                      Munising city        \n",
       "13920                                       Allegan city        \n",
       "13926                                       Douglas city        \n",
       "13927                                     Fennville city        "
      ]
     },
     "execution_count": 67,
     "metadata": {},
     "output_type": "execute_result"
    }
   ],
   "source": [
    "censusmi[censusmi['Area Name (including legal/statistical area description)'].str.slice(start = -4) == 'city'].head()"
   ]
  },
  {
   "cell_type": "code",
   "execution_count": 68,
   "metadata": {},
   "outputs": [
    {
     "data": {
      "text/plain": [
       "1671"
      ]
     },
     "execution_count": 68,
     "metadata": {},
     "output_type": "execute_result"
    }
   ],
   "source": [
    "censusmi['Area Name (including legal/statistical area description)'].nunique()"
   ]
  },
  {
   "cell_type": "code",
   "execution_count": 70,
   "metadata": {},
   "outputs": [
    {
     "data": {
      "text/plain": [
       "1522"
      ]
     },
     "execution_count": 70,
     "metadata": {},
     "output_type": "execute_result"
    }
   ],
   "source": [
    "gdfv['MCDFIPS'].nunique() #1522"
   ]
  },
  {
   "cell_type": "code",
   "execution_count": 72,
   "metadata": {},
   "outputs": [
    {
     "data": {
      "text/plain": [
       "1521"
      ]
     },
     "execution_count": 72,
     "metadata": {},
     "output_type": "execute_result"
    }
   ],
   "source": [
    "gdfv['PRECINCTID'].str.slice(start = 7, stop = 12).nunique()"
   ]
  },
  {
   "cell_type": "code",
   "execution_count": 73,
   "metadata": {},
   "outputs": [],
   "source": [
    "def get_mid_code(row):\n",
    "    place_code = row['Place Code (FIPS)']\n",
    "    sub_code = row['County Subdivision Code (FIPS)']\n",
    "    return (str(place_code).zfill(5) if place_code != 0 else str(sub_code).zfill(5))\n",
    "\n",
    "def get_wp_prefix(row):\n",
    "#     notice that some cities have a place code, but not a subdivision code\n",
    "    formatted_county_code = str(row['County Code (FIPS)']).zfill(3)\n",
    "    return 'WP-' + formatted_county_code + '-' + get_mid_code(row)"
   ]
  },
  {
   "cell_type": "code",
   "execution_count": 74,
   "metadata": {},
   "outputs": [
    {
     "name": "stderr",
     "output_type": "stream",
     "text": [
      "<ipython-input-74-70bec69a6e98>:1: SettingWithCopyWarning: \n",
      "A value is trying to be set on a copy of a slice from a DataFrame.\n",
      "Try using .loc[row_indexer,col_indexer] = value instead\n",
      "\n",
      "See the caveats in the documentation: https://pandas.pydata.org/pandas-docs/stable/user_guide/indexing.html#returning-a-view-versus-a-copy\n",
      "  censusmi['census_mid_code'] = censusmi.apply(get_mid_code, axis=1)\n"
     ]
    },
    {
     "data": {
      "text/html": [
       "<div>\n",
       "<style scoped>\n",
       "    .dataframe tbody tr th:only-of-type {\n",
       "        vertical-align: middle;\n",
       "    }\n",
       "\n",
       "    .dataframe tbody tr th {\n",
       "        vertical-align: top;\n",
       "    }\n",
       "\n",
       "    .dataframe thead th {\n",
       "        text-align: right;\n",
       "    }\n",
       "</style>\n",
       "<table border=\"1\" class=\"dataframe\">\n",
       "  <thead>\n",
       "    <tr style=\"text-align: right;\">\n",
       "      <th></th>\n",
       "      <th>Summary Level</th>\n",
       "      <th>State Code (FIPS)</th>\n",
       "      <th>County Code (FIPS)</th>\n",
       "      <th>County Subdivision Code (FIPS)</th>\n",
       "      <th>Place Code (FIPS)</th>\n",
       "      <th>Consolidtated City Code (FIPS)</th>\n",
       "      <th>Area Name (including legal/statistical area description)</th>\n",
       "      <th>census_mid_code</th>\n",
       "    </tr>\n",
       "  </thead>\n",
       "  <tbody>\n",
       "    <tr>\n",
       "      <th>15967</th>\n",
       "      <td>162</td>\n",
       "      <td>26</td>\n",
       "      <td>0</td>\n",
       "      <td>0</td>\n",
       "      <td>88940</td>\n",
       "      <td>0</td>\n",
       "      <td>Wyoming city</td>\n",
       "      <td>88940</td>\n",
       "    </tr>\n",
       "    <tr>\n",
       "      <th>15968</th>\n",
       "      <td>162</td>\n",
       "      <td>26</td>\n",
       "      <td>0</td>\n",
       "      <td>0</td>\n",
       "      <td>89000</td>\n",
       "      <td>0</td>\n",
       "      <td>Yale city</td>\n",
       "      <td>89000</td>\n",
       "    </tr>\n",
       "    <tr>\n",
       "      <th>15969</th>\n",
       "      <td>162</td>\n",
       "      <td>26</td>\n",
       "      <td>0</td>\n",
       "      <td>0</td>\n",
       "      <td>89140</td>\n",
       "      <td>0</td>\n",
       "      <td>Ypsilanti city</td>\n",
       "      <td>89140</td>\n",
       "    </tr>\n",
       "    <tr>\n",
       "      <th>15970</th>\n",
       "      <td>162</td>\n",
       "      <td>26</td>\n",
       "      <td>0</td>\n",
       "      <td>0</td>\n",
       "      <td>89260</td>\n",
       "      <td>0</td>\n",
       "      <td>Zeeland city</td>\n",
       "      <td>89260</td>\n",
       "    </tr>\n",
       "    <tr>\n",
       "      <th>15971</th>\n",
       "      <td>162</td>\n",
       "      <td>26</td>\n",
       "      <td>0</td>\n",
       "      <td>0</td>\n",
       "      <td>89320</td>\n",
       "      <td>0</td>\n",
       "      <td>Zilwaukee city</td>\n",
       "      <td>89320</td>\n",
       "    </tr>\n",
       "  </tbody>\n",
       "</table>\n",
       "</div>"
      ],
      "text/plain": [
       "       Summary Level  State Code (FIPS)  County Code (FIPS)  \\\n",
       "15967            162                 26                   0   \n",
       "15968            162                 26                   0   \n",
       "15969            162                 26                   0   \n",
       "15970            162                 26                   0   \n",
       "15971            162                 26                   0   \n",
       "\n",
       "       County Subdivision Code (FIPS)  Place Code (FIPS)  \\\n",
       "15967                               0              88940   \n",
       "15968                               0              89000   \n",
       "15969                               0              89140   \n",
       "15970                               0              89260   \n",
       "15971                               0              89320   \n",
       "\n",
       "       Consolidtated City Code (FIPS)  \\\n",
       "15967                               0   \n",
       "15968                               0   \n",
       "15969                               0   \n",
       "15970                               0   \n",
       "15971                               0   \n",
       "\n",
       "      Area Name (including legal/statistical area description) census_mid_code  \n",
       "15967                                       Wyoming city                 88940  \n",
       "15968                                          Yale city                 89000  \n",
       "15969                                     Ypsilanti city                 89140  \n",
       "15970                                       Zeeland city                 89260  \n",
       "15971                                     Zilwaukee city                 89320  "
      ]
     },
     "execution_count": 74,
     "metadata": {},
     "output_type": "execute_result"
    }
   ],
   "source": [
    "censusmi['census_mid_code'] = censusmi.apply(get_mid_code, axis=1)\n",
    "censusmi.tail()"
   ]
  },
  {
   "cell_type": "code",
   "execution_count": 75,
   "metadata": {},
   "outputs": [
    {
     "data": {
      "text/html": [
       "<div>\n",
       "<style scoped>\n",
       "    .dataframe tbody tr th:only-of-type {\n",
       "        vertical-align: middle;\n",
       "    }\n",
       "\n",
       "    .dataframe tbody tr th {\n",
       "        vertical-align: top;\n",
       "    }\n",
       "\n",
       "    .dataframe thead th {\n",
       "        text-align: right;\n",
       "    }\n",
       "</style>\n",
       "<table border=\"1\" class=\"dataframe\">\n",
       "  <thead>\n",
       "    <tr style=\"text-align: right;\">\n",
       "      <th></th>\n",
       "      <th>State Code (FIPS)</th>\n",
       "      <th>County Code (FIPS)</th>\n",
       "      <th>County Subdivision Code (FIPS)</th>\n",
       "      <th>Place Code (FIPS)</th>\n",
       "      <th>Consolidtated City Code (FIPS)</th>\n",
       "      <th>Area Name (including legal/statistical area description)</th>\n",
       "      <th>census_mid_code</th>\n",
       "    </tr>\n",
       "    <tr>\n",
       "      <th>Summary Level</th>\n",
       "      <th></th>\n",
       "      <th></th>\n",
       "      <th></th>\n",
       "      <th></th>\n",
       "      <th></th>\n",
       "      <th></th>\n",
       "      <th></th>\n",
       "    </tr>\n",
       "  </thead>\n",
       "  <tbody>\n",
       "    <tr>\n",
       "      <th>40</th>\n",
       "      <td>1</td>\n",
       "      <td>1</td>\n",
       "      <td>1</td>\n",
       "      <td>1</td>\n",
       "      <td>1</td>\n",
       "      <td>1</td>\n",
       "      <td>1</td>\n",
       "    </tr>\n",
       "    <tr>\n",
       "      <th>50</th>\n",
       "      <td>1</td>\n",
       "      <td>83</td>\n",
       "      <td>1</td>\n",
       "      <td>1</td>\n",
       "      <td>1</td>\n",
       "      <td>83</td>\n",
       "      <td>1</td>\n",
       "    </tr>\n",
       "    <tr>\n",
       "      <th>61</th>\n",
       "      <td>1</td>\n",
       "      <td>83</td>\n",
       "      <td>1520</td>\n",
       "      <td>1</td>\n",
       "      <td>1</td>\n",
       "      <td>1334</td>\n",
       "      <td>1520</td>\n",
       "    </tr>\n",
       "    <tr>\n",
       "      <th>162</th>\n",
       "      <td>1</td>\n",
       "      <td>1</td>\n",
       "      <td>1</td>\n",
       "      <td>533</td>\n",
       "      <td>1</td>\n",
       "      <td>533</td>\n",
       "      <td>533</td>\n",
       "    </tr>\n",
       "  </tbody>\n",
       "</table>\n",
       "</div>"
      ],
      "text/plain": [
       "               State Code (FIPS)  County Code (FIPS)  \\\n",
       "Summary Level                                          \n",
       "40                             1                   1   \n",
       "50                             1                  83   \n",
       "61                             1                  83   \n",
       "162                            1                   1   \n",
       "\n",
       "               County Subdivision Code (FIPS)  Place Code (FIPS)  \\\n",
       "Summary Level                                                      \n",
       "40                                          1                  1   \n",
       "50                                          1                  1   \n",
       "61                                       1520                  1   \n",
       "162                                         1                533   \n",
       "\n",
       "               Consolidtated City Code (FIPS)  \\\n",
       "Summary Level                                   \n",
       "40                                          1   \n",
       "50                                          1   \n",
       "61                                          1   \n",
       "162                                         1   \n",
       "\n",
       "               Area Name (including legal/statistical area description)  \\\n",
       "Summary Level                                                             \n",
       "40                                                             1          \n",
       "50                                                            83          \n",
       "61                                                          1334          \n",
       "162                                                          533          \n",
       "\n",
       "               census_mid_code  \n",
       "Summary Level                   \n",
       "40                           1  \n",
       "50                           1  \n",
       "61                        1520  \n",
       "162                        533  "
      ]
     },
     "execution_count": 75,
     "metadata": {},
     "output_type": "execute_result"
    }
   ],
   "source": [
    "censusmi.groupby('Summary Level').nunique()"
   ]
  },
  {
   "cell_type": "code",
   "execution_count": 76,
   "metadata": {},
   "outputs": [],
   "source": [
    "df = df[df['Precinct Number'] != 9999]"
   ]
  },
  {
   "cell_type": "code",
   "execution_count": 78,
   "metadata": {},
   "outputs": [
    {
     "data": {
      "text/plain": [
       "22000    39825\n",
       "34000     4543\n",
       "29000     3599\n",
       "84000     3304\n",
       "03000     3127\n",
       "         ...  \n",
       "13760       59\n",
       "42400       59\n",
       "04840       59\n",
       "75880       59\n",
       "79740       59\n",
       "Name: mid_code, Length: 1195, dtype: int64"
      ]
     },
     "execution_count": 78,
     "metadata": {},
     "output_type": "execute_result"
    }
   ],
   "source": [
    "cdf = censusmi[censusmi['Summary Level'].isin([61, 162])] #remove county and state level (leaving precinct-like places only)\n",
    "census_mid_code_dict = pd.Series(cdf['census_mid_code'].values, index = cdf['Area Name (including legal/statistical area description)'].str.upper()).to_dict()\n",
    "df['mid_code'] = df['CityNameCode'].map(census_mid_code_dict)\n",
    "df.mid_code.value_counts()"
   ]
  },
  {
   "cell_type": "code",
   "execution_count": 79,
   "metadata": {},
   "outputs": [],
   "source": [
    "def get_wp(row):\n",
    "    if row['County Code'] == 82:\n",
    "        # Detroit's county doesn't use ward numbers\n",
    "        return str(row['Precinct Number']).zfill(5)\n",
    "    else:\n",
    "        return str(row['Ward Number']).zfill(2) + str(row['Precinct Number']).zfill(3)\n",
    "\n",
    "def get_precinct_id(row):\n",
    "    return 'WP-' + str(row['County Code']).zfill(3) + '-' + str(row['mid_code']).zfill(5) + '-' + get_wp(row)\n",
    "\n",
    "df['PRECINCTID'] = df.apply(get_precinct_id, axis=1)\n",
    "df['wp'] = df.apply(get_wp, axis=1)"
   ]
  },
  {
   "cell_type": "code",
   "execution_count": 80,
   "metadata": {},
   "outputs": [
    {
     "data": {
      "text/plain": [
       "890"
      ]
     },
     "execution_count": 80,
     "metadata": {},
     "output_type": "execute_result"
    }
   ],
   "source": [
    "df_wps = set(df.wp.unique())\n",
    "len(df_wps)"
   ]
  },
  {
   "cell_type": "code",
   "execution_count": 81,
   "metadata": {},
   "outputs": [
    {
     "ename": "AttributeError",
     "evalue": "'GeoDataFrame' object has no attribute 'wp'",
     "output_type": "error",
     "traceback": [
      "\u001b[0;31m---------------------------------------------------------------------------\u001b[0m",
      "\u001b[0;31mAttributeError\u001b[0m                            Traceback (most recent call last)",
      "\u001b[0;32m<ipython-input-81-8e816b1cea16>\u001b[0m in \u001b[0;36m<module>\u001b[0;34m\u001b[0m\n\u001b[0;32m----> 1\u001b[0;31m \u001b[0mgdf_wps\u001b[0m \u001b[0;34m=\u001b[0m \u001b[0mset\u001b[0m\u001b[0;34m(\u001b[0m\u001b[0mgdfv\u001b[0m\u001b[0;34m.\u001b[0m\u001b[0mwp\u001b[0m\u001b[0;34m.\u001b[0m\u001b[0munique\u001b[0m\u001b[0;34m(\u001b[0m\u001b[0;34m)\u001b[0m\u001b[0;34m)\u001b[0m\u001b[0;34m\u001b[0m\u001b[0;34m\u001b[0m\u001b[0m\n\u001b[0m\u001b[1;32m      2\u001b[0m \u001b[0mlen\u001b[0m\u001b[0;34m(\u001b[0m\u001b[0mgdf_wps\u001b[0m\u001b[0;34m)\u001b[0m\u001b[0;34m\u001b[0m\u001b[0;34m\u001b[0m\u001b[0m\n",
      "\u001b[0;32m~/anaconda3/lib/python3.8/site-packages/pandas/core/generic.py\u001b[0m in \u001b[0;36m__getattr__\u001b[0;34m(self, name)\u001b[0m\n\u001b[1;32m   5139\u001b[0m             \u001b[0;32mif\u001b[0m \u001b[0mself\u001b[0m\u001b[0;34m.\u001b[0m\u001b[0m_info_axis\u001b[0m\u001b[0;34m.\u001b[0m\u001b[0m_can_hold_identifiers_and_holds_name\u001b[0m\u001b[0;34m(\u001b[0m\u001b[0mname\u001b[0m\u001b[0;34m)\u001b[0m\u001b[0;34m:\u001b[0m\u001b[0;34m\u001b[0m\u001b[0;34m\u001b[0m\u001b[0m\n\u001b[1;32m   5140\u001b[0m                 \u001b[0;32mreturn\u001b[0m \u001b[0mself\u001b[0m\u001b[0;34m[\u001b[0m\u001b[0mname\u001b[0m\u001b[0;34m]\u001b[0m\u001b[0;34m\u001b[0m\u001b[0;34m\u001b[0m\u001b[0m\n\u001b[0;32m-> 5141\u001b[0;31m             \u001b[0;32mreturn\u001b[0m \u001b[0mobject\u001b[0m\u001b[0;34m.\u001b[0m\u001b[0m__getattribute__\u001b[0m\u001b[0;34m(\u001b[0m\u001b[0mself\u001b[0m\u001b[0;34m,\u001b[0m \u001b[0mname\u001b[0m\u001b[0;34m)\u001b[0m\u001b[0;34m\u001b[0m\u001b[0;34m\u001b[0m\u001b[0m\n\u001b[0m\u001b[1;32m   5142\u001b[0m \u001b[0;34m\u001b[0m\u001b[0m\n\u001b[1;32m   5143\u001b[0m     \u001b[0;32mdef\u001b[0m \u001b[0m__setattr__\u001b[0m\u001b[0;34m(\u001b[0m\u001b[0mself\u001b[0m\u001b[0;34m,\u001b[0m \u001b[0mname\u001b[0m\u001b[0;34m:\u001b[0m \u001b[0mstr\u001b[0m\u001b[0;34m,\u001b[0m \u001b[0mvalue\u001b[0m\u001b[0;34m)\u001b[0m \u001b[0;34m->\u001b[0m \u001b[0;32mNone\u001b[0m\u001b[0;34m:\u001b[0m\u001b[0;34m\u001b[0m\u001b[0;34m\u001b[0m\u001b[0m\n",
      "\u001b[0;31mAttributeError\u001b[0m: 'GeoDataFrame' object has no attribute 'wp'"
     ]
    }
   ],
   "source": [
    "gdf_wps = set(gdfv.wp.unique())\n",
    "len(gdf_wps)"
   ]
  },
  {
   "cell_type": "markdown",
   "metadata": {},
   "source": [
    "### Come back to ^"
   ]
  },
  {
   "cell_type": "code",
   "execution_count": null,
   "metadata": {},
   "outputs": [],
   "source": []
  },
  {
   "cell_type": "markdown",
   "metadata": {},
   "source": [
    "#### Recreate `precinct_2`"
   ]
  },
  {
   "cell_type": "markdown",
   "metadata": {},
   "source": [
    "Need to recreate the `precinct_2`  - the `PRECINCTID` column is from the shp and VEST must have adapted one to the other to merge... unclear how because census file does not have good match rate as will be seen below"
   ]
  },
  {
   "cell_type": "code",
   "execution_count": 82,
   "metadata": {},
   "outputs": [
    {
     "data": {
      "text/plain": [
       "4797"
      ]
     },
     "execution_count": 82,
     "metadata": {},
     "output_type": "execute_result"
    }
   ],
   "source": [
    "gdfv_precinct_IDs = set(gdfv.PRECINCTID.unique())\n",
    "len(gdfv_precinct_IDs)"
   ]
  },
  {
   "cell_type": "code",
   "execution_count": 83,
   "metadata": {},
   "outputs": [
    {
     "data": {
      "text/plain": [
       "4797"
      ]
     },
     "execution_count": 83,
     "metadata": {},
     "output_type": "execute_result"
    }
   ],
   "source": [
    "shp['PRECINCTID'].nunique()"
   ]
  },
  {
   "cell_type": "code",
   "execution_count": 85,
   "metadata": {},
   "outputs": [
    {
     "data": {
      "text/plain": [
       "array([ 1,  1,  1, ..., 83, 83, 83])"
      ]
     },
     "execution_count": 85,
     "metadata": {},
     "output_type": "execute_result"
    }
   ],
   "source": [
    "df['County Code'].values # this should be up to 165 ... so the `county code` is not the county fips.. it is just an index this could explain why mcd code columns not match"
   ]
  },
  {
   "cell_type": "markdown",
   "metadata": {},
   "source": [
    "Because the `df.County Code` column does not reference county fips, need to create dictionary from census file to recreate unique identifier"
   ]
  },
  {
   "cell_type": "code",
   "execution_count": 86,
   "metadata": {},
   "outputs": [],
   "source": [
    "census_county = censusmi[censusmi['Area Name (including legal/statistical area description)'].str.slice(start = -6) == 'County']"
   ]
  },
  {
   "cell_type": "code",
   "execution_count": 87,
   "metadata": {},
   "outputs": [],
   "source": [
    "fips_county_dict = pd.Series(census_county['Area Name (including legal/statistical area description)'].values, \n",
    "                             index = census_county['County Code (FIPS)'].map(lambda x: str(x).zfill(3))).to_dict()"
   ]
  },
  {
   "cell_type": "code",
   "execution_count": 88,
   "metadata": {},
   "outputs": [
    {
     "data": {
      "text/html": [
       "<div>\n",
       "<style scoped>\n",
       "    .dataframe tbody tr th:only-of-type {\n",
       "        vertical-align: middle;\n",
       "    }\n",
       "\n",
       "    .dataframe tbody tr th {\n",
       "        vertical-align: top;\n",
       "    }\n",
       "\n",
       "    .dataframe thead th {\n",
       "        text-align: right;\n",
       "    }\n",
       "</style>\n",
       "<table border=\"1\" class=\"dataframe\">\n",
       "  <thead>\n",
       "    <tr style=\"text-align: right;\">\n",
       "      <th></th>\n",
       "      <th>OBJECTID</th>\n",
       "      <th>PRECINCTID</th>\n",
       "      <th>ELECTIONYE</th>\n",
       "      <th>COUNTYFIPS</th>\n",
       "      <th>MCDFIPS</th>\n",
       "      <th>WARD</th>\n",
       "      <th>PRECINCT</th>\n",
       "      <th>ShapeSTAre</th>\n",
       "      <th>ShapeSTLen</th>\n",
       "      <th>geometry</th>\n",
       "      <th>CountyName</th>\n",
       "    </tr>\n",
       "  </thead>\n",
       "  <tbody>\n",
       "    <tr>\n",
       "      <th>0</th>\n",
       "      <td>1</td>\n",
       "      <td>WP-001-01040-00001</td>\n",
       "      <td>2018</td>\n",
       "      <td>001</td>\n",
       "      <td>01040</td>\n",
       "      <td>00</td>\n",
       "      <td>001</td>\n",
       "      <td>1.701076e+08</td>\n",
       "      <td>73869.558749</td>\n",
       "      <td>POLYGON ((713885.576 472642.367, 713798.715 47...</td>\n",
       "      <td>Alcona County</td>\n",
       "    </tr>\n",
       "    <tr>\n",
       "      <th>1</th>\n",
       "      <td>2</td>\n",
       "      <td>WP-001-12460-00001</td>\n",
       "      <td>2018</td>\n",
       "      <td>001</td>\n",
       "      <td>12460</td>\n",
       "      <td>00</td>\n",
       "      <td>001</td>\n",
       "      <td>1.880860e+08</td>\n",
       "      <td>76737.144518</td>\n",
       "      <td>POLYGON ((686272.607 476273.249, 685978.453 47...</td>\n",
       "      <td>Alcona County</td>\n",
       "    </tr>\n",
       "    <tr>\n",
       "      <th>2</th>\n",
       "      <td>3</td>\n",
       "      <td>WP-001-19320-00001</td>\n",
       "      <td>2018</td>\n",
       "      <td>001</td>\n",
       "      <td>19320</td>\n",
       "      <td>00</td>\n",
       "      <td>001</td>\n",
       "      <td>1.833231e+08</td>\n",
       "      <td>57470.528359</td>\n",
       "      <td>POLYGON ((686986.253 442623.144, 686677.696 44...</td>\n",
       "      <td>Alcona County</td>\n",
       "    </tr>\n",
       "    <tr>\n",
       "      <th>3</th>\n",
       "      <td>4</td>\n",
       "      <td>WP-001-34820-00001</td>\n",
       "      <td>2018</td>\n",
       "      <td>001</td>\n",
       "      <td>34820</td>\n",
       "      <td>00</td>\n",
       "      <td>001</td>\n",
       "      <td>6.767958e+07</td>\n",
       "      <td>32987.191075</td>\n",
       "      <td>POLYGON ((712947.018 443503.339, 712791.603 44...</td>\n",
       "      <td>Alcona County</td>\n",
       "    </tr>\n",
       "    <tr>\n",
       "      <th>4</th>\n",
       "      <td>5</td>\n",
       "      <td>WP-001-35740-00001</td>\n",
       "      <td>2018</td>\n",
       "      <td>001</td>\n",
       "      <td>35740</td>\n",
       "      <td>00</td>\n",
       "      <td>001</td>\n",
       "      <td>9.281010e+07</td>\n",
       "      <td>38642.299469</td>\n",
       "      <td>POLYGON ((705992.472 452886.004, 704976.166 45...</td>\n",
       "      <td>Alcona County</td>\n",
       "    </tr>\n",
       "  </tbody>\n",
       "</table>\n",
       "</div>"
      ],
      "text/plain": [
       "   OBJECTID          PRECINCTID  ELECTIONYE COUNTYFIPS MCDFIPS WARD PRECINCT  \\\n",
       "0         1  WP-001-01040-00001        2018        001   01040   00      001   \n",
       "1         2  WP-001-12460-00001        2018        001   12460   00      001   \n",
       "2         3  WP-001-19320-00001        2018        001   19320   00      001   \n",
       "3         4  WP-001-34820-00001        2018        001   34820   00      001   \n",
       "4         5  WP-001-35740-00001        2018        001   35740   00      001   \n",
       "\n",
       "     ShapeSTAre    ShapeSTLen  \\\n",
       "0  1.701076e+08  73869.558749   \n",
       "1  1.880860e+08  76737.144518   \n",
       "2  1.833231e+08  57470.528359   \n",
       "3  6.767958e+07  32987.191075   \n",
       "4  9.281010e+07  38642.299469   \n",
       "\n",
       "                                            geometry     CountyName  \n",
       "0  POLYGON ((713885.576 472642.367, 713798.715 47...  Alcona County  \n",
       "1  POLYGON ((686272.607 476273.249, 685978.453 47...  Alcona County  \n",
       "2  POLYGON ((686986.253 442623.144, 686677.696 44...  Alcona County  \n",
       "3  POLYGON ((712947.018 443503.339, 712791.603 44...  Alcona County  \n",
       "4  POLYGON ((705992.472 452886.004, 704976.166 45...  Alcona County  "
      ]
     },
     "execution_count": 88,
     "metadata": {},
     "output_type": "execute_result"
    }
   ],
   "source": [
    "shp['CountyName'] = shp['COUNTYFIPS'].map(fips_county_dict)\n",
    "shp.head()"
   ]
  },
  {
   "cell_type": "code",
   "execution_count": 89,
   "metadata": {},
   "outputs": [
    {
     "data": {
      "text/html": [
       "<div>\n",
       "<style scoped>\n",
       "    .dataframe tbody tr th:only-of-type {\n",
       "        vertical-align: middle;\n",
       "    }\n",
       "\n",
       "    .dataframe tbody tr th {\n",
       "        vertical-align: top;\n",
       "    }\n",
       "\n",
       "    .dataframe thead th {\n",
       "        text-align: right;\n",
       "    }\n",
       "</style>\n",
       "<table border=\"1\" class=\"dataframe\">\n",
       "  <thead>\n",
       "    <tr style=\"text-align: right;\">\n",
       "      <th></th>\n",
       "      <th>OBJECTID</th>\n",
       "      <th>PRECINCTID</th>\n",
       "      <th>ELECTIONYE</th>\n",
       "      <th>COUNTYFIPS</th>\n",
       "      <th>MCDFIPS</th>\n",
       "      <th>WARD</th>\n",
       "      <th>PRECINCT</th>\n",
       "      <th>ShapeSTAre</th>\n",
       "      <th>ShapeSTLen</th>\n",
       "      <th>geometry</th>\n",
       "      <th>CountyName</th>\n",
       "      <th>name</th>\n",
       "    </tr>\n",
       "  </thead>\n",
       "  <tbody>\n",
       "    <tr>\n",
       "      <th>0</th>\n",
       "      <td>1</td>\n",
       "      <td>WP-001-01040-00001</td>\n",
       "      <td>2018</td>\n",
       "      <td>001</td>\n",
       "      <td>01040</td>\n",
       "      <td>00</td>\n",
       "      <td>001</td>\n",
       "      <td>1.701076e+08</td>\n",
       "      <td>73869.558749</td>\n",
       "      <td>POLYGON ((713885.576 472642.367, 713798.715 47...</td>\n",
       "      <td>Alcona County</td>\n",
       "      <td>ALCONA</td>\n",
       "    </tr>\n",
       "    <tr>\n",
       "      <th>1</th>\n",
       "      <td>2</td>\n",
       "      <td>WP-001-12460-00001</td>\n",
       "      <td>2018</td>\n",
       "      <td>001</td>\n",
       "      <td>12460</td>\n",
       "      <td>00</td>\n",
       "      <td>001</td>\n",
       "      <td>1.880860e+08</td>\n",
       "      <td>76737.144518</td>\n",
       "      <td>POLYGON ((686272.607 476273.249, 685978.453 47...</td>\n",
       "      <td>Alcona County</td>\n",
       "      <td>ALCONA</td>\n",
       "    </tr>\n",
       "    <tr>\n",
       "      <th>2</th>\n",
       "      <td>3</td>\n",
       "      <td>WP-001-19320-00001</td>\n",
       "      <td>2018</td>\n",
       "      <td>001</td>\n",
       "      <td>19320</td>\n",
       "      <td>00</td>\n",
       "      <td>001</td>\n",
       "      <td>1.833231e+08</td>\n",
       "      <td>57470.528359</td>\n",
       "      <td>POLYGON ((686986.253 442623.144, 686677.696 44...</td>\n",
       "      <td>Alcona County</td>\n",
       "      <td>ALCONA</td>\n",
       "    </tr>\n",
       "    <tr>\n",
       "      <th>3</th>\n",
       "      <td>4</td>\n",
       "      <td>WP-001-34820-00001</td>\n",
       "      <td>2018</td>\n",
       "      <td>001</td>\n",
       "      <td>34820</td>\n",
       "      <td>00</td>\n",
       "      <td>001</td>\n",
       "      <td>6.767958e+07</td>\n",
       "      <td>32987.191075</td>\n",
       "      <td>POLYGON ((712947.018 443503.339, 712791.603 44...</td>\n",
       "      <td>Alcona County</td>\n",
       "      <td>ALCONA</td>\n",
       "    </tr>\n",
       "    <tr>\n",
       "      <th>4</th>\n",
       "      <td>5</td>\n",
       "      <td>WP-001-35740-00001</td>\n",
       "      <td>2018</td>\n",
       "      <td>001</td>\n",
       "      <td>35740</td>\n",
       "      <td>00</td>\n",
       "      <td>001</td>\n",
       "      <td>9.281010e+07</td>\n",
       "      <td>38642.299469</td>\n",
       "      <td>POLYGON ((705992.472 452886.004, 704976.166 45...</td>\n",
       "      <td>Alcona County</td>\n",
       "      <td>ALCONA</td>\n",
       "    </tr>\n",
       "  </tbody>\n",
       "</table>\n",
       "</div>"
      ],
      "text/plain": [
       "   OBJECTID          PRECINCTID  ELECTIONYE COUNTYFIPS MCDFIPS WARD PRECINCT  \\\n",
       "0         1  WP-001-01040-00001        2018        001   01040   00      001   \n",
       "1         2  WP-001-12460-00001        2018        001   12460   00      001   \n",
       "2         3  WP-001-19320-00001        2018        001   19320   00      001   \n",
       "3         4  WP-001-34820-00001        2018        001   34820   00      001   \n",
       "4         5  WP-001-35740-00001        2018        001   35740   00      001   \n",
       "\n",
       "     ShapeSTAre    ShapeSTLen  \\\n",
       "0  1.701076e+08  73869.558749   \n",
       "1  1.880860e+08  76737.144518   \n",
       "2  1.833231e+08  57470.528359   \n",
       "3  6.767958e+07  32987.191075   \n",
       "4  9.281010e+07  38642.299469   \n",
       "\n",
       "                                            geometry     CountyName    name  \n",
       "0  POLYGON ((713885.576 472642.367, 713798.715 47...  Alcona County  ALCONA  \n",
       "1  POLYGON ((686272.607 476273.249, 685978.453 47...  Alcona County  ALCONA  \n",
       "2  POLYGON ((686986.253 442623.144, 686677.696 44...  Alcona County  ALCONA  \n",
       "3  POLYGON ((712947.018 443503.339, 712791.603 44...  Alcona County  ALCONA  \n",
       "4  POLYGON ((705992.472 452886.004, 704976.166 45...  Alcona County  ALCONA  "
      ]
     },
     "execution_count": 89,
     "metadata": {},
     "output_type": "execute_result"
    }
   ],
   "source": [
    "shp['name'] = shp['CountyName'].str.slice(stop = -7).map(lambda x: str(x).upper())\n",
    "shp.head()"
   ]
  },
  {
   "cell_type": "code",
   "execution_count": 90,
   "metadata": {},
   "outputs": [],
   "source": [
    "#dictionary 2: name from shp and county fips from shp for the df\n",
    "county_fips_dict = pd.Series(shp['COUNTYFIPS'].values, index = shp['name']).to_dict()"
   ]
  },
  {
   "cell_type": "markdown",
   "metadata": {},
   "source": [
    "Again, for county file, same process to convert tab to csv"
   ]
  },
  {
   "cell_type": "code",
   "execution_count": 92,
   "metadata": {},
   "outputs": [
    {
     "data": {
      "text/html": [
       "<div>\n",
       "<style scoped>\n",
       "    .dataframe tbody tr th:only-of-type {\n",
       "        vertical-align: middle;\n",
       "    }\n",
       "\n",
       "    .dataframe tbody tr th {\n",
       "        vertical-align: top;\n",
       "    }\n",
       "\n",
       "    .dataframe thead th {\n",
       "        text-align: right;\n",
       "    }\n",
       "</style>\n",
       "<table border=\"1\" class=\"dataframe\">\n",
       "  <thead>\n",
       "    <tr style=\"text-align: right;\">\n",
       "      <th></th>\n",
       "      <th>county_name</th>\n",
       "    </tr>\n",
       "  </thead>\n",
       "  <tbody>\n",
       "    <tr>\n",
       "      <th>1</th>\n",
       "      <td>ALCONA</td>\n",
       "    </tr>\n",
       "    <tr>\n",
       "      <th>2</th>\n",
       "      <td>ALGER</td>\n",
       "    </tr>\n",
       "    <tr>\n",
       "      <th>3</th>\n",
       "      <td>ALLEGAN</td>\n",
       "    </tr>\n",
       "    <tr>\n",
       "      <th>4</th>\n",
       "      <td>ALPENA</td>\n",
       "    </tr>\n",
       "    <tr>\n",
       "      <th>5</th>\n",
       "      <td>ANTRIM</td>\n",
       "    </tr>\n",
       "  </tbody>\n",
       "</table>\n",
       "</div>"
      ],
      "text/plain": [
       "  county_name\n",
       "1      ALCONA\n",
       "2       ALGER\n",
       "3     ALLEGAN\n",
       "4      ALPENA\n",
       "5      ANTRIM"
      ]
     },
     "execution_count": 92,
     "metadata": {},
     "output_type": "execute_result"
    }
   ],
   "source": [
    "df_counties = pd.read_csv('./2018GEN/county_tab_to_csv.csv', names = ['county_name', 'blank'])\n",
    "df_counties = df_counties.drop(['blank'], axis = 1)\n",
    "df_counties.head()"
   ]
  },
  {
   "cell_type": "code",
   "execution_count": 93,
   "metadata": {},
   "outputs": [
    {
     "data": {
      "text/html": [
       "<div>\n",
       "<style scoped>\n",
       "    .dataframe tbody tr th:only-of-type {\n",
       "        vertical-align: middle;\n",
       "    }\n",
       "\n",
       "    .dataframe tbody tr th {\n",
       "        vertical-align: top;\n",
       "    }\n",
       "\n",
       "    .dataframe thead th {\n",
       "        text-align: right;\n",
       "    }\n",
       "</style>\n",
       "<table border=\"1\" class=\"dataframe\">\n",
       "  <thead>\n",
       "    <tr style=\"text-align: right;\">\n",
       "      <th></th>\n",
       "      <th>county_name</th>\n",
       "      <th>county_fips</th>\n",
       "    </tr>\n",
       "  </thead>\n",
       "  <tbody>\n",
       "    <tr>\n",
       "      <th>1</th>\n",
       "      <td>ALCONA</td>\n",
       "      <td>001</td>\n",
       "    </tr>\n",
       "    <tr>\n",
       "      <th>2</th>\n",
       "      <td>ALGER</td>\n",
       "      <td>003</td>\n",
       "    </tr>\n",
       "    <tr>\n",
       "      <th>3</th>\n",
       "      <td>ALLEGAN</td>\n",
       "      <td>005</td>\n",
       "    </tr>\n",
       "    <tr>\n",
       "      <th>4</th>\n",
       "      <td>ALPENA</td>\n",
       "      <td>007</td>\n",
       "    </tr>\n",
       "    <tr>\n",
       "      <th>5</th>\n",
       "      <td>ANTRIM</td>\n",
       "      <td>009</td>\n",
       "    </tr>\n",
       "  </tbody>\n",
       "</table>\n",
       "</div>"
      ],
      "text/plain": [
       "  county_name county_fips\n",
       "1      ALCONA         001\n",
       "2       ALGER         003\n",
       "3     ALLEGAN         005\n",
       "4      ALPENA         007\n",
       "5      ANTRIM         009"
      ]
     },
     "execution_count": 93,
     "metadata": {},
     "output_type": "execute_result"
    }
   ],
   "source": [
    "#apply county df to make new column\n",
    "df_counties['county_fips'] = df_counties['county_name'].map(county_fips_dict)\n",
    "df_counties.head()"
   ]
  },
  {
   "cell_type": "code",
   "execution_count": 94,
   "metadata": {},
   "outputs": [
    {
     "data": {
      "text/html": [
       "<div>\n",
       "<style scoped>\n",
       "    .dataframe tbody tr th:only-of-type {\n",
       "        vertical-align: middle;\n",
       "    }\n",
       "\n",
       "    .dataframe tbody tr th {\n",
       "        vertical-align: top;\n",
       "    }\n",
       "\n",
       "    .dataframe thead th {\n",
       "        text-align: right;\n",
       "    }\n",
       "</style>\n",
       "<table border=\"1\" class=\"dataframe\">\n",
       "  <thead>\n",
       "    <tr style=\"text-align: right;\">\n",
       "      <th></th>\n",
       "      <th>county_name</th>\n",
       "      <th>county_fips</th>\n",
       "      <th>county_code</th>\n",
       "    </tr>\n",
       "  </thead>\n",
       "  <tbody>\n",
       "    <tr>\n",
       "      <th>1</th>\n",
       "      <td>ALCONA</td>\n",
       "      <td>001</td>\n",
       "      <td>1</td>\n",
       "    </tr>\n",
       "    <tr>\n",
       "      <th>2</th>\n",
       "      <td>ALGER</td>\n",
       "      <td>003</td>\n",
       "      <td>2</td>\n",
       "    </tr>\n",
       "    <tr>\n",
       "      <th>3</th>\n",
       "      <td>ALLEGAN</td>\n",
       "      <td>005</td>\n",
       "      <td>3</td>\n",
       "    </tr>\n",
       "    <tr>\n",
       "      <th>4</th>\n",
       "      <td>ALPENA</td>\n",
       "      <td>007</td>\n",
       "      <td>4</td>\n",
       "    </tr>\n",
       "    <tr>\n",
       "      <th>5</th>\n",
       "      <td>ANTRIM</td>\n",
       "      <td>009</td>\n",
       "      <td>5</td>\n",
       "    </tr>\n",
       "  </tbody>\n",
       "</table>\n",
       "</div>"
      ],
      "text/plain": [
       "  county_name county_fips  county_code\n",
       "1      ALCONA         001            1\n",
       "2       ALGER         003            2\n",
       "3     ALLEGAN         005            3\n",
       "4      ALPENA         007            4\n",
       "5      ANTRIM         009            5"
      ]
     },
     "execution_count": 94,
     "metadata": {},
     "output_type": "execute_result"
    }
   ],
   "source": [
    "df_counties['county_code'] =  df_counties.index\n",
    "df_counties.head()"
   ]
  },
  {
   "cell_type": "code",
   "execution_count": 95,
   "metadata": {},
   "outputs": [],
   "source": [
    "code_to_fips_dict = pd.Series(df_counties['county_fips'].values, index = df_counties['county_code']).to_dict()\n",
    "#code_to_fips_dict"
   ]
  },
  {
   "cell_type": "code",
   "execution_count": 96,
   "metadata": {},
   "outputs": [
    {
     "data": {
      "text/html": [
       "<div>\n",
       "<style scoped>\n",
       "    .dataframe tbody tr th:only-of-type {\n",
       "        vertical-align: middle;\n",
       "    }\n",
       "\n",
       "    .dataframe tbody tr th {\n",
       "        vertical-align: top;\n",
       "    }\n",
       "\n",
       "    .dataframe thead th {\n",
       "        text-align: right;\n",
       "    }\n",
       "</style>\n",
       "<table border=\"1\" class=\"dataframe\">\n",
       "  <thead>\n",
       "    <tr style=\"text-align: right;\">\n",
       "      <th></th>\n",
       "      <th>Election Year</th>\n",
       "      <th>Election Type</th>\n",
       "      <th>Office Code</th>\n",
       "      <th>District Code</th>\n",
       "      <th>Status Code</th>\n",
       "      <th>Candidate ID#</th>\n",
       "      <th>County Code</th>\n",
       "      <th>City/Town Code</th>\n",
       "      <th>Ward Number</th>\n",
       "      <th>Precinct Number</th>\n",
       "      <th>...</th>\n",
       "      <th>Candidate Name</th>\n",
       "      <th>vest_prefix</th>\n",
       "      <th>vest_suffix</th>\n",
       "      <th>vest</th>\n",
       "      <th>county_w_city</th>\n",
       "      <th>CityNameCode</th>\n",
       "      <th>mid_code</th>\n",
       "      <th>PRECINCTID</th>\n",
       "      <th>wp</th>\n",
       "      <th>county_fips</th>\n",
       "    </tr>\n",
       "  </thead>\n",
       "  <tbody>\n",
       "    <tr>\n",
       "      <th>10176</th>\n",
       "      <td>2018</td>\n",
       "      <td>GEN</td>\n",
       "      <td>2</td>\n",
       "      <td>0</td>\n",
       "      <td>0</td>\n",
       "      <td>517245</td>\n",
       "      <td>1</td>\n",
       "      <td>2</td>\n",
       "      <td>0</td>\n",
       "      <td>1</td>\n",
       "      <td>...</td>\n",
       "      <td>SCH</td>\n",
       "      <td>G18GOV</td>\n",
       "      <td>TSCH</td>\n",
       "      <td>G18GOVTSCH</td>\n",
       "      <td>010002</td>\n",
       "      <td>ALCONA TOWNSHIP</td>\n",
       "      <td>01040</td>\n",
       "      <td>WP-001-01040-00001</td>\n",
       "      <td>00001</td>\n",
       "      <td>001</td>\n",
       "    </tr>\n",
       "    <tr>\n",
       "      <th>10177</th>\n",
       "      <td>2018</td>\n",
       "      <td>GEN</td>\n",
       "      <td>2</td>\n",
       "      <td>0</td>\n",
       "      <td>0</td>\n",
       "      <td>517245</td>\n",
       "      <td>1</td>\n",
       "      <td>4</td>\n",
       "      <td>0</td>\n",
       "      <td>1</td>\n",
       "      <td>...</td>\n",
       "      <td>SCH</td>\n",
       "      <td>G18GOV</td>\n",
       "      <td>TSCH</td>\n",
       "      <td>G18GOVTSCH</td>\n",
       "      <td>010004</td>\n",
       "      <td>CALEDONIA TOWNSHIP</td>\n",
       "      <td>12500</td>\n",
       "      <td>WP-001-12500-00001</td>\n",
       "      <td>00001</td>\n",
       "      <td>001</td>\n",
       "    </tr>\n",
       "    <tr>\n",
       "      <th>10178</th>\n",
       "      <td>2018</td>\n",
       "      <td>GEN</td>\n",
       "      <td>2</td>\n",
       "      <td>0</td>\n",
       "      <td>0</td>\n",
       "      <td>517245</td>\n",
       "      <td>1</td>\n",
       "      <td>6</td>\n",
       "      <td>0</td>\n",
       "      <td>1</td>\n",
       "      <td>...</td>\n",
       "      <td>SCH</td>\n",
       "      <td>G18GOV</td>\n",
       "      <td>TSCH</td>\n",
       "      <td>G18GOVTSCH</td>\n",
       "      <td>010006</td>\n",
       "      <td>CURTIS TOWNSHIP</td>\n",
       "      <td>19320</td>\n",
       "      <td>WP-001-19320-00001</td>\n",
       "      <td>00001</td>\n",
       "      <td>001</td>\n",
       "    </tr>\n",
       "    <tr>\n",
       "      <th>10179</th>\n",
       "      <td>2018</td>\n",
       "      <td>GEN</td>\n",
       "      <td>2</td>\n",
       "      <td>0</td>\n",
       "      <td>0</td>\n",
       "      <td>517245</td>\n",
       "      <td>1</td>\n",
       "      <td>8</td>\n",
       "      <td>0</td>\n",
       "      <td>1</td>\n",
       "      <td>...</td>\n",
       "      <td>SCH</td>\n",
       "      <td>G18GOV</td>\n",
       "      <td>TSCH</td>\n",
       "      <td>G18GOVTSCH</td>\n",
       "      <td>010008</td>\n",
       "      <td>GREENBUSH TOWNSHIP</td>\n",
       "      <td>34840</td>\n",
       "      <td>WP-001-34840-00001</td>\n",
       "      <td>00001</td>\n",
       "      <td>001</td>\n",
       "    </tr>\n",
       "    <tr>\n",
       "      <th>10180</th>\n",
       "      <td>2018</td>\n",
       "      <td>GEN</td>\n",
       "      <td>2</td>\n",
       "      <td>0</td>\n",
       "      <td>0</td>\n",
       "      <td>517245</td>\n",
       "      <td>1</td>\n",
       "      <td>10</td>\n",
       "      <td>0</td>\n",
       "      <td>1</td>\n",
       "      <td>...</td>\n",
       "      <td>SCH</td>\n",
       "      <td>G18GOV</td>\n",
       "      <td>TSCH</td>\n",
       "      <td>G18GOVTSCH</td>\n",
       "      <td>010010</td>\n",
       "      <td>GUSTIN TOWNSHIP</td>\n",
       "      <td>35740</td>\n",
       "      <td>WP-001-35740-00001</td>\n",
       "      <td>00001</td>\n",
       "      <td>001</td>\n",
       "    </tr>\n",
       "  </tbody>\n",
       "</table>\n",
       "<p>5 rows × 22 columns</p>\n",
       "</div>"
      ],
      "text/plain": [
       "       Election Year Election Type  Office Code  District Code  Status Code  \\\n",
       "10176           2018           GEN            2              0            0   \n",
       "10177           2018           GEN            2              0            0   \n",
       "10178           2018           GEN            2              0            0   \n",
       "10179           2018           GEN            2              0            0   \n",
       "10180           2018           GEN            2              0            0   \n",
       "\n",
       "       Candidate ID#  County Code  City/Town Code  Ward Number  \\\n",
       "10176         517245            1               2            0   \n",
       "10177         517245            1               4            0   \n",
       "10178         517245            1               6            0   \n",
       "10179         517245            1               8            0   \n",
       "10180         517245            1              10            0   \n",
       "\n",
       "       Precinct Number  ... Candidate Name  vest_prefix vest_suffix  \\\n",
       "10176                1  ...            SCH       G18GOV        TSCH   \n",
       "10177                1  ...            SCH       G18GOV        TSCH   \n",
       "10178                1  ...            SCH       G18GOV        TSCH   \n",
       "10179                1  ...            SCH       G18GOV        TSCH   \n",
       "10180                1  ...            SCH       G18GOV        TSCH   \n",
       "\n",
       "             vest county_w_city        CityNameCode mid_code  \\\n",
       "10176  G18GOVTSCH        010002     ALCONA TOWNSHIP    01040   \n",
       "10177  G18GOVTSCH        010004  CALEDONIA TOWNSHIP    12500   \n",
       "10178  G18GOVTSCH        010006     CURTIS TOWNSHIP    19320   \n",
       "10179  G18GOVTSCH        010008  GREENBUSH TOWNSHIP    34840   \n",
       "10180  G18GOVTSCH        010010     GUSTIN TOWNSHIP    35740   \n",
       "\n",
       "               PRECINCTID     wp county_fips  \n",
       "10176  WP-001-01040-00001  00001         001  \n",
       "10177  WP-001-12500-00001  00001         001  \n",
       "10178  WP-001-19320-00001  00001         001  \n",
       "10179  WP-001-34840-00001  00001         001  \n",
       "10180  WP-001-35740-00001  00001         001  \n",
       "\n",
       "[5 rows x 22 columns]"
      ]
     },
     "execution_count": 96,
     "metadata": {},
     "output_type": "execute_result"
    }
   ],
   "source": [
    "df['county_fips'] = df['County Code'].map(code_to_fips_dict)\n",
    "df.head()"
   ]
  },
  {
   "cell_type": "markdown",
   "metadata": {},
   "source": [
    "## Come back to figure our the wp use"
   ]
  },
  {
   "cell_type": "code",
   "execution_count": 97,
   "metadata": {},
   "outputs": [
    {
     "data": {
      "text/plain": [
       "10176       001-ALCONA TOWNSHIP-0-0001\n",
       "10177    001-CALEDONIA TOWNSHIP-0-0001\n",
       "10178       001-CURTIS TOWNSHIP-0-0001\n",
       "10179    001-GREENBUSH TOWNSHIP-0-0001\n",
       "10180       001-GUSTIN TOWNSHIP-0-0001\n",
       "dtype: object"
      ]
     },
     "execution_count": 97,
     "metadata": {},
     "output_type": "execute_result"
    }
   ],
   "source": [
    "precinct_2 = df['county_fips'] + '-' + df['CityNameCode'] + '-' + df['wp'].str.slice(stop = 1) + '-' + df['wp'].str.slice(start = 1)\n",
    "precinct_2.head()"
   ]
  },
  {
   "cell_type": "code",
   "execution_count": 98,
   "metadata": {},
   "outputs": [],
   "source": [
    "gdfv_prec = set(gdfv['precinct_2'])\n",
    "df_prec = set(precinct_2)\n",
    "g_diff = gdfv_prec - df_prec\n",
    "d_diff = df_prec - gdfv_prec"
   ]
  },
  {
   "cell_type": "code",
   "execution_count": 99,
   "metadata": {},
   "outputs": [
    {
     "data": {
      "text/plain": [
       "878"
      ]
     },
     "execution_count": 99,
     "metadata": {},
     "output_type": "execute_result"
    }
   ],
   "source": [
    "len(d_diff)"
   ]
  },
  {
   "cell_type": "code",
   "execution_count": 100,
   "metadata": {},
   "outputs": [
    {
     "data": {
      "text/plain": [
       "655"
      ]
     },
     "execution_count": 100,
     "metadata": {},
     "output_type": "execute_result"
    }
   ],
   "source": [
    "len(g_diff)"
   ]
  },
  {
   "cell_type": "markdown",
   "metadata": {},
   "source": [
    "From looking at the differences in Excel to see both side by side, notice that in one df, the ward has the number / 0 reversed\n",
    "ex:  gdf_diff: '049-FLINT CITY-5-0038' vs df_diff: '049-FLINT CITY-0-5038'\n",
    "\n",
    "In addition, gdf has '-A' or '-B' or 'C' at the end of each \"LIVONIA CITY\""
   ]
  },
  {
   "cell_type": "code",
   "execution_count": 102,
   "metadata": {},
   "outputs": [
    {
     "data": {
      "text/plain": [
       "0001    1526\n",
       "0002     537\n",
       "0003     332\n",
       "0004     243\n",
       "0005     183\n",
       "        ... \n",
       "0442       1\n",
       "0338       1\n",
       "0344       1\n",
       "0243       1\n",
       "0155       1\n",
       "Name: precinct_2, Length: 550, dtype: int64"
      ]
     },
     "execution_count": 102,
     "metadata": {},
     "output_type": "execute_result"
    }
   ],
   "source": [
    "gdfv['precinct_2'].str.slice(start = -4).value_counts()"
   ]
  },
  {
   "cell_type": "code",
   "execution_count": 103,
   "metadata": {},
   "outputs": [
    {
     "data": {
      "text/plain": [
       "1      90571\n",
       "2      32155\n",
       "3      19967\n",
       "4      14573\n",
       "5      10856\n",
       "       ...  \n",
       "945       59\n",
       "433       59\n",
       "177       59\n",
       "944       59\n",
       "396       59\n",
       "Name: Precinct Number, Length: 676, dtype: int64"
      ]
     },
     "execution_count": 103,
     "metadata": {},
     "output_type": "execute_result"
    }
   ],
   "source": [
    "df['Precinct Number'].value_counts()\n",
    "#Why does the df have more precinct numbers?"
   ]
  },
  {
   "cell_type": "code",
   "execution_count": 104,
   "metadata": {},
   "outputs": [
    {
     "data": {
      "text/plain": [
       "10176       001-ALCONA TOWNSHIP-0-0001\n",
       "10177    001-CALEDONIA TOWNSHIP-0-0001\n",
       "10178       001-CURTIS TOWNSHIP-0-0001\n",
       "10179    001-GREENBUSH TOWNSHIP-0-0001\n",
       "10180       001-GUSTIN TOWNSHIP-0-0001\n",
       "dtype: object"
      ]
     },
     "execution_count": 104,
     "metadata": {},
     "output_type": "execute_result"
    }
   ],
   "source": [
    "precinct_2 = df['county_fips'] + '-' + df['CityNameCode'] + '-' + df['wp'].str.slice(start = 1, stop = 2) + '-' + '0' + df['wp'].str.slice(start = 2)\n",
    "precinct_2.head()"
   ]
  },
  {
   "cell_type": "code",
   "execution_count": 106,
   "metadata": {},
   "outputs": [],
   "source": [
    "gdfv_prec = set(gdfv['precinct_2'])\n",
    "df_prec = set(precinct_2)\n",
    "g_diff = gdfv_prec - df_prec\n",
    "d_diff = df_prec - gdfv_prec"
   ]
  },
  {
   "cell_type": "code",
   "execution_count": 107,
   "metadata": {},
   "outputs": [
    {
     "data": {
      "text/plain": [
       "96"
      ]
     },
     "execution_count": 107,
     "metadata": {},
     "output_type": "execute_result"
    }
   ],
   "source": [
    "len(g_diff)"
   ]
  },
  {
   "cell_type": "code",
   "execution_count": 108,
   "metadata": {
    "collapsed": true,
    "jupyter": {
     "outputs_hidden": true
    }
   },
   "outputs": [
    {
     "data": {
      "text/plain": [
       "{'045-LANSING CITY-3-0000-22L',\n",
       " '045-LANSING CITY-3-0000-23',\n",
       " '055-ACME TOWNSHIP-0-0001',\n",
       " '055-ACME TOWNSHIP-0-0002',\n",
       " '055-BLAIR TOWNSHIP-0-0001',\n",
       " '055-BLAIR TOWNSHIP-0-0002',\n",
       " '055-BLAIR TOWNSHIP-0-0003',\n",
       " '055-BLAIR TOWNSHIP-0-0004',\n",
       " '055-EAST BAY TOWNSHIP-0-0001',\n",
       " '055-EAST BAY TOWNSHIP-0-0002',\n",
       " '055-EAST BAY TOWNSHIP-0-0003',\n",
       " '055-EAST BAY TOWNSHIP-0-0004',\n",
       " '055-FIFE LAKE TOWNSHIP-0-0001',\n",
       " '055-GARFIELD TOWNSHIP-0-0001',\n",
       " '055-GARFIELD TOWNSHIP-0-0002',\n",
       " '055-GARFIELD TOWNSHIP-0-0003',\n",
       " '055-GARFIELD TOWNSHIP-0-0004',\n",
       " '055-GARFIELD TOWNSHIP-0-0005',\n",
       " '055-GARFIELD TOWNSHIP-0-0006',\n",
       " '055-GRANT TOWNSHIP-0-0001',\n",
       " '055-GREEN LAKE TOWNSHIP-0-0001',\n",
       " '055-GREEN LAKE TOWNSHIP-0-0002',\n",
       " '055-LONG LAKE TOWNSHIP-0-0001',\n",
       " '055-LONG LAKE TOWNSHIP-0-0002',\n",
       " '055-LONG LAKE TOWNSHIP-0-0003',\n",
       " '055-MAYFIELD TOWNSHIP-0-0001',\n",
       " '055-PARADISE TOWNSHIP-0-0001',\n",
       " '055-PARADISE TOWNSHIP-0-0002',\n",
       " '055-PENINSULA TOWNSHIP-0-0001',\n",
       " '055-PENINSULA TOWNSHIP-0-0002',\n",
       " '055-TRAVERSE CITY-0-0001',\n",
       " '055-TRAVERSE CITY-0-0003',\n",
       " '055-TRAVERSE CITY-0-0007',\n",
       " '055-TRAVERSE CITY-0-0008',\n",
       " '055-TRAVERSE CITY-0-0009',\n",
       " '055-TRAVERSE CITY-0-0010',\n",
       " '055-UNION TOWNSHIP-0-0001',\n",
       " '055-WHITEWATER TOWNSHIP-0-0001',\n",
       " '115-MONROE CITY-0-0003-S',\n",
       " '161-MILAN CITY-0-0001-W',\n",
       " '163-INKSTER CITY-1-0001',\n",
       " '163-INKSTER CITY-1-0002',\n",
       " '163-INKSTER CITY-2-0001',\n",
       " '163-INKSTER CITY-2-0002',\n",
       " '163-INKSTER CITY-3-0001',\n",
       " '163-INKSTER CITY-3-0002',\n",
       " '163-INKSTER CITY-4-0001',\n",
       " '163-INKSTER CITY-4-0002',\n",
       " '163-INKSTER CITY-5-0001',\n",
       " '163-INKSTER CITY-6-0001',\n",
       " '163-INKSTER CITY-6-0002',\n",
       " '163-LIVONIA CITY-0-0001-A',\n",
       " '163-LIVONIA CITY-0-0001-B',\n",
       " '163-LIVONIA CITY-0-0002-A',\n",
       " '163-LIVONIA CITY-0-0003-A',\n",
       " '163-LIVONIA CITY-0-0003-B',\n",
       " '163-LIVONIA CITY-0-0004-A',\n",
       " '163-LIVONIA CITY-0-0007-A',\n",
       " '163-LIVONIA CITY-0-0008-A',\n",
       " '163-LIVONIA CITY-0-0008-B',\n",
       " '163-LIVONIA CITY-0-0009-A',\n",
       " '163-LIVONIA CITY-0-0010-A',\n",
       " '163-LIVONIA CITY-0-0011-A',\n",
       " '163-LIVONIA CITY-0-0012-A',\n",
       " '163-LIVONIA CITY-0-0013-A',\n",
       " '163-LIVONIA CITY-0-0014-A',\n",
       " '163-LIVONIA CITY-0-0015-A',\n",
       " '163-LIVONIA CITY-0-0016-A',\n",
       " '163-LIVONIA CITY-0-0016-B',\n",
       " '163-LIVONIA CITY-0-0017-A',\n",
       " '163-LIVONIA CITY-0-0017-B',\n",
       " '163-LIVONIA CITY-0-0018-A',\n",
       " '163-LIVONIA CITY-0-0019-A',\n",
       " '163-LIVONIA CITY-0-0019-B',\n",
       " '163-LIVONIA CITY-0-0020-A',\n",
       " '163-LIVONIA CITY-0-0021-A',\n",
       " '163-LIVONIA CITY-0-0022-A',\n",
       " '163-LIVONIA CITY-0-0022-B',\n",
       " '163-LIVONIA CITY-0-0023-A',\n",
       " '163-LIVONIA CITY-0-0023-B',\n",
       " '163-LIVONIA CITY-0-0024-A',\n",
       " '163-LIVONIA CITY-0-0024-B',\n",
       " '163-LIVONIA CITY-0-0025-A',\n",
       " '163-LIVONIA CITY-0-0031-A',\n",
       " '163-LIVONIA CITY-0-0031-B',\n",
       " '163-LIVONIA CITY-0-0032-A',\n",
       " '163-LIVONIA CITY-0-0033-A',\n",
       " '163-LIVONIA CITY-0-0034-A',\n",
       " '163-LIVONIA CITY-0-0034-B',\n",
       " '163-LIVONIA CITY-0-0034-C',\n",
       " '163-LIVONIA CITY-0-0035-A',\n",
       " '163-LIVONIA CITY-0-0035-B',\n",
       " '163-LIVONIA CITY-0-0035-C',\n",
       " '163-LIVONIA CITY-0-0036-A',\n",
       " '163-LIVONIA CITY-0-0036-B',\n",
       " None}"
      ]
     },
     "execution_count": 108,
     "metadata": {},
     "output_type": "execute_result"
    }
   ],
   "source": [
    "g_diff"
   ]
  },
  {
   "cell_type": "markdown",
   "metadata": {},
   "source": [
    "## Still need to account for letter on end discrepencies\n",
    "\n",
    "Note that there are 96 values that are in the final file `precinct_2` column that are not in the df column I compiled. \n",
    "\n",
    "Many are variations of \"Livonia City\" where there is -A or -B or -C at the end \n",
    "\n",
    "'Milan City' does not match because the final file has a -W on the end. \n",
    "\n",
    "Two are variations of 'Lansing City' where there is also a number on the end that does not match any in my dataset. \n",
    "\n",
    "The other 37 that do not match are:\n",
    "\n",
    " '055-ACME TOWNSHIP-0-0001',\n",
    " '055-ACME TOWNSHIP-0-0002',\n",
    " '055-BLAIR TOWNSHIP-0-0001',\n",
    " '055-BLAIR TOWNSHIP-0-0002',\n",
    " '055-BLAIR TOWNSHIP-0-0003',\n",
    " '055-BLAIR TOWNSHIP-0-0004',\n",
    " '055-EAST BAY TOWNSHIP-0-0001',\n",
    " '055-EAST BAY TOWNSHIP-0-0002',\n",
    " '055-EAST BAY TOWNSHIP-0-0003',\n",
    " '055-EAST BAY TOWNSHIP-0-0004',\n",
    " '055-FIFE LAKE TOWNSHIP-0-0001',\n",
    " '055-GARFIELD TOWNSHIP-0-0001',\n",
    " '055-GARFIELD TOWNSHIP-0-0002',\n",
    " '055-GARFIELD TOWNSHIP-0-0003',\n",
    " '055-GARFIELD TOWNSHIP-0-0004',\n",
    " '055-GARFIELD TOWNSHIP-0-0005',\n",
    " '055-GARFIELD TOWNSHIP-0-0006',\n",
    " '055-GRANT TOWNSHIP-0-0001',\n",
    " '055-GREEN LAKE TOWNSHIP-0-0001',\n",
    " '055-GREEN LAKE TOWNSHIP-0-0002',\n",
    " '055-LONG LAKE TOWNSHIP-0-0001',\n",
    " '055-LONG LAKE TOWNSHIP-0-0002',\n",
    " '055-LONG LAKE TOWNSHIP-0-0003',\n",
    " '055-MAYFIELD TOWNSHIP-0-0001',\n",
    " '055-PARADISE TOWNSHIP-0-0001',\n",
    " '055-PARADISE TOWNSHIP-0-0002',\n",
    " '055-PENINSULA TOWNSHIP-0-0001',\n",
    " '055-PENINSULA TOWNSHIP-0-0002',\n",
    " '055-TRAVERSE CITY-0-0001',\n",
    " '055-TRAVERSE CITY-0-0003',\n",
    " '055-TRAVERSE CITY-0-0007',\n",
    " '055-TRAVERSE CITY-0-0008',\n",
    " '055-TRAVERSE CITY-0-0009',\n",
    " '055-TRAVERSE CITY-0-0010',\n",
    " '055-UNION TOWNSHIP-0-0001',\n",
    " '055-WHITEWATER TOWNSHIP-0-0001',\n",
    " '115-MONROE CITY-0-0003-S'\n",
    " \n",
    " As for the values in my dataframe recreation not in the final gdf, I am not sure why they are not in there. "
   ]
  },
  {
   "cell_type": "code",
   "execution_count": 109,
   "metadata": {},
   "outputs": [],
   "source": [
    "df['precinct_2'] = precinct_2"
   ]
  },
  {
   "cell_type": "code",
   "execution_count": 110,
   "metadata": {},
   "outputs": [
    {
     "data": {
      "text/plain": [
       "5019"
      ]
     },
     "execution_count": 110,
     "metadata": {},
     "output_type": "execute_result"
    }
   ],
   "source": [
    "df['precinct_2'].nunique()"
   ]
  },
  {
   "cell_type": "code",
   "execution_count": 111,
   "metadata": {},
   "outputs": [
    {
     "data": {
      "text/plain": [
       "4796"
      ]
     },
     "execution_count": 111,
     "metadata": {},
     "output_type": "execute_result"
    }
   ],
   "source": [
    "gdfv['precinct_2'].nunique()"
   ]
  },
  {
   "cell_type": "code",
   "execution_count": 113,
   "metadata": {},
   "outputs": [
    {
     "data": {
      "text/plain": [
       "0.9799833194328608"
      ]
     },
     "execution_count": 113,
     "metadata": {},
     "output_type": "execute_result"
    }
   ],
   "source": [
    "4700/4796 # since difference of 96 between the two that do not overlap - pretty good match rate"
   ]
  },
  {
   "cell_type": "code",
   "execution_count": 114,
   "metadata": {},
   "outputs": [
    {
     "data": {
      "text/html": [
       "<div>\n",
       "<style scoped>\n",
       "    .dataframe tbody tr th:only-of-type {\n",
       "        vertical-align: middle;\n",
       "    }\n",
       "\n",
       "    .dataframe tbody tr th {\n",
       "        vertical-align: top;\n",
       "    }\n",
       "\n",
       "    .dataframe thead th {\n",
       "        text-align: right;\n",
       "    }\n",
       "</style>\n",
       "<table border=\"1\" class=\"dataframe\">\n",
       "  <thead>\n",
       "    <tr style=\"text-align: right;\">\n",
       "      <th></th>\n",
       "      <th>Election Year</th>\n",
       "      <th>Election Type</th>\n",
       "      <th>Office Code</th>\n",
       "      <th>District Code</th>\n",
       "      <th>Status Code</th>\n",
       "      <th>Candidate ID#</th>\n",
       "      <th>County Code</th>\n",
       "      <th>City/Town Code</th>\n",
       "      <th>Ward Number</th>\n",
       "      <th>Precinct Number</th>\n",
       "      <th>...</th>\n",
       "      <th>vest_prefix</th>\n",
       "      <th>vest_suffix</th>\n",
       "      <th>vest</th>\n",
       "      <th>county_w_city</th>\n",
       "      <th>CityNameCode</th>\n",
       "      <th>mid_code</th>\n",
       "      <th>PRECINCTID</th>\n",
       "      <th>wp</th>\n",
       "      <th>county_fips</th>\n",
       "      <th>precinct_2</th>\n",
       "    </tr>\n",
       "  </thead>\n",
       "  <tbody>\n",
       "  </tbody>\n",
       "</table>\n",
       "<p>0 rows × 23 columns</p>\n",
       "</div>"
      ],
      "text/plain": [
       "Empty DataFrame\n",
       "Columns: [Election Year, Election Type, Office Code, District Code, Status Code, Candidate ID#, County Code, City/Town Code, Ward Number, Precinct Number, Precinct Label, Precinct #Votes, Candidate Name, vest_prefix, vest_suffix, vest, county_w_city, CityNameCode, mid_code, PRECINCTID, wp, county_fips, precinct_2]\n",
       "Index: []\n",
       "\n",
       "[0 rows x 23 columns]"
      ]
     },
     "execution_count": 114,
     "metadata": {},
     "output_type": "execute_result"
    }
   ],
   "source": [
    "df[df['precinct_2'].str.slice(start = 3, stop = -7) == \"GARFIELD TOWNSHIP\"]"
   ]
  },
  {
   "cell_type": "code",
   "execution_count": 116,
   "metadata": {},
   "outputs": [
    {
     "data": {
      "text/html": [
       "<div>\n",
       "<style scoped>\n",
       "    .dataframe tbody tr th:only-of-type {\n",
       "        vertical-align: middle;\n",
       "    }\n",
       "\n",
       "    .dataframe tbody tr th {\n",
       "        vertical-align: top;\n",
       "    }\n",
       "\n",
       "    .dataframe thead th {\n",
       "        text-align: right;\n",
       "    }\n",
       "</style>\n",
       "<table border=\"1\" class=\"dataframe\">\n",
       "  <thead>\n",
       "    <tr style=\"text-align: right;\">\n",
       "      <th></th>\n",
       "      <th>OBJECTID</th>\n",
       "      <th>PRECINCTID</th>\n",
       "      <th>ELECTIONYE</th>\n",
       "      <th>COUNTYFIPS</th>\n",
       "      <th>MCDFIPS</th>\n",
       "      <th>WARD</th>\n",
       "      <th>PRECINCT</th>\n",
       "      <th>ShapeSTAre</th>\n",
       "      <th>ShapeSTLen</th>\n",
       "      <th>precinct_2</th>\n",
       "      <th>...</th>\n",
       "      <th>G18UBRNABR</th>\n",
       "      <th>G18UBRRDUN</th>\n",
       "      <th>G18UBRRNIC</th>\n",
       "      <th>G18UBRDBAR</th>\n",
       "      <th>G18UBRDKUM</th>\n",
       "      <th>G18UBRLELG</th>\n",
       "      <th>G18UBRLHAR</th>\n",
       "      <th>G18UBRTSCH</th>\n",
       "      <th>G18UBRTSOS</th>\n",
       "      <th>geometry</th>\n",
       "    </tr>\n",
       "  </thead>\n",
       "  <tbody>\n",
       "    <tr>\n",
       "      <th>3793</th>\n",
       "      <td>3794</td>\n",
       "      <td>WP-163-22000-01251</td>\n",
       "      <td>2018</td>\n",
       "      <td>163</td>\n",
       "      <td>22000</td>\n",
       "      <td>01</td>\n",
       "      <td>251</td>\n",
       "      <td>295740.403305</td>\n",
       "      <td>2358.897119</td>\n",
       "      <td>163-DETROIT CITY-0-0251</td>\n",
       "      <td>...</td>\n",
       "      <td>6</td>\n",
       "      <td>9</td>\n",
       "      <td>7</td>\n",
       "      <td>307</td>\n",
       "      <td>296</td>\n",
       "      <td>4</td>\n",
       "      <td>2</td>\n",
       "      <td>14</td>\n",
       "      <td>2</td>\n",
       "      <td>POLYGON ((731501.297 210450.896, 731419.170 21...</td>\n",
       "    </tr>\n",
       "    <tr>\n",
       "      <th>3794</th>\n",
       "      <td>3795</td>\n",
       "      <td>WP-163-22000-01252</td>\n",
       "      <td>2018</td>\n",
       "      <td>163</td>\n",
       "      <td>22000</td>\n",
       "      <td>01</td>\n",
       "      <td>252</td>\n",
       "      <td>331122.410477</td>\n",
       "      <td>2446.738874</td>\n",
       "      <td>163-DETROIT CITY-0-0252</td>\n",
       "      <td>...</td>\n",
       "      <td>4</td>\n",
       "      <td>5</td>\n",
       "      <td>8</td>\n",
       "      <td>329</td>\n",
       "      <td>286</td>\n",
       "      <td>4</td>\n",
       "      <td>2</td>\n",
       "      <td>12</td>\n",
       "      <td>2</td>\n",
       "      <td>POLYGON ((731141.002 210423.228, 731045.076 21...</td>\n",
       "    </tr>\n",
       "    <tr>\n",
       "      <th>3795</th>\n",
       "      <td>3796</td>\n",
       "      <td>WP-163-22000-01253</td>\n",
       "      <td>2018</td>\n",
       "      <td>163</td>\n",
       "      <td>22000</td>\n",
       "      <td>01</td>\n",
       "      <td>253</td>\n",
       "      <td>323011.697418</td>\n",
       "      <td>2415.627344</td>\n",
       "      <td>163-DETROIT CITY-0-0253</td>\n",
       "      <td>...</td>\n",
       "      <td>1</td>\n",
       "      <td>10</td>\n",
       "      <td>9</td>\n",
       "      <td>348</td>\n",
       "      <td>322</td>\n",
       "      <td>3</td>\n",
       "      <td>3</td>\n",
       "      <td>13</td>\n",
       "      <td>5</td>\n",
       "      <td>POLYGON ((730734.385 210392.025, 730642.227 21...</td>\n",
       "    </tr>\n",
       "    <tr>\n",
       "      <th>3796</th>\n",
       "      <td>3797</td>\n",
       "      <td>WP-163-22000-01254</td>\n",
       "      <td>2018</td>\n",
       "      <td>163</td>\n",
       "      <td>22000</td>\n",
       "      <td>01</td>\n",
       "      <td>254</td>\n",
       "      <td>484541.380661</td>\n",
       "      <td>2812.165183</td>\n",
       "      <td>163-DETROIT CITY-0-0254</td>\n",
       "      <td>...</td>\n",
       "      <td>6</td>\n",
       "      <td>18</td>\n",
       "      <td>16</td>\n",
       "      <td>540</td>\n",
       "      <td>496</td>\n",
       "      <td>8</td>\n",
       "      <td>7</td>\n",
       "      <td>10</td>\n",
       "      <td>4</td>\n",
       "      <td>POLYGON ((730950.601 210205.836, 730963.850 21...</td>\n",
       "    </tr>\n",
       "    <tr>\n",
       "      <th>3797</th>\n",
       "      <td>3798</td>\n",
       "      <td>WP-163-22000-01261</td>\n",
       "      <td>2018</td>\n",
       "      <td>163</td>\n",
       "      <td>22000</td>\n",
       "      <td>01</td>\n",
       "      <td>261</td>\n",
       "      <td>494974.074829</td>\n",
       "      <td>3065.220006</td>\n",
       "      <td>163-DETROIT CITY-0-0261</td>\n",
       "      <td>...</td>\n",
       "      <td>3</td>\n",
       "      <td>19</td>\n",
       "      <td>30</td>\n",
       "      <td>312</td>\n",
       "      <td>301</td>\n",
       "      <td>6</td>\n",
       "      <td>7</td>\n",
       "      <td>12</td>\n",
       "      <td>2</td>\n",
       "      <td>POLYGON ((723729.768 213189.469, 723696.368 21...</td>\n",
       "    </tr>\n",
       "  </tbody>\n",
       "</table>\n",
       "<p>5 rows × 70 columns</p>\n",
       "</div>"
      ],
      "text/plain": [
       "      OBJECTID          PRECINCTID  ELECTIONYE COUNTYFIPS MCDFIPS WARD  \\\n",
       "3793      3794  WP-163-22000-01251        2018        163   22000   01   \n",
       "3794      3795  WP-163-22000-01252        2018        163   22000   01   \n",
       "3795      3796  WP-163-22000-01253        2018        163   22000   01   \n",
       "3796      3797  WP-163-22000-01254        2018        163   22000   01   \n",
       "3797      3798  WP-163-22000-01261        2018        163   22000   01   \n",
       "\n",
       "     PRECINCT     ShapeSTAre   ShapeSTLen               precinct_2  ...  \\\n",
       "3793      251  295740.403305  2358.897119  163-DETROIT CITY-0-0251  ...   \n",
       "3794      252  331122.410477  2446.738874  163-DETROIT CITY-0-0252  ...   \n",
       "3795      253  323011.697418  2415.627344  163-DETROIT CITY-0-0253  ...   \n",
       "3796      254  484541.380661  2812.165183  163-DETROIT CITY-0-0254  ...   \n",
       "3797      261  494974.074829  3065.220006  163-DETROIT CITY-0-0261  ...   \n",
       "\n",
       "      G18UBRNABR  G18UBRRDUN  G18UBRRNIC  G18UBRDBAR  G18UBRDKUM  G18UBRLELG  \\\n",
       "3793           6           9           7         307         296           4   \n",
       "3794           4           5           8         329         286           4   \n",
       "3795           1          10           9         348         322           3   \n",
       "3796           6          18          16         540         496           8   \n",
       "3797           3          19          30         312         301           6   \n",
       "\n",
       "      G18UBRLHAR  G18UBRTSCH  G18UBRTSOS  \\\n",
       "3793           2          14           2   \n",
       "3794           2          12           2   \n",
       "3795           3          13           5   \n",
       "3796           7          10           4   \n",
       "3797           7          12           2   \n",
       "\n",
       "                                               geometry  \n",
       "3793  POLYGON ((731501.297 210450.896, 731419.170 21...  \n",
       "3794  POLYGON ((731141.002 210423.228, 731045.076 21...  \n",
       "3795  POLYGON ((730734.385 210392.025, 730642.227 21...  \n",
       "3796  POLYGON ((730950.601 210205.836, 730963.850 21...  \n",
       "3797  POLYGON ((723729.768 213189.469, 723696.368 21...  \n",
       "\n",
       "[5 rows x 70 columns]"
      ]
     },
     "execution_count": 116,
     "metadata": {},
     "output_type": "execute_result"
    }
   ],
   "source": [
    "gdfv[gdfv['precinct_2'].str.slice(start = 4, stop = 16) == 'DETROIT CITY'].head()\n",
    "#502 \"detroit city\" values in final gdf "
   ]
  },
  {
   "cell_type": "markdown",
   "metadata": {},
   "source": [
    "Based on VEST documentation, need to make changes but shift gears to pivot table and will account for discrepencies after."
   ]
  },
  {
   "cell_type": "code",
   "execution_count": null,
   "metadata": {},
   "outputs": [],
   "source": []
  },
  {
   "cell_type": "code",
   "execution_count": null,
   "metadata": {},
   "outputs": [],
   "source": []
  },
  {
   "cell_type": "markdown",
   "metadata": {},
   "source": [
    "## Pivoting"
   ]
  },
  {
   "cell_type": "code",
   "execution_count": 117,
   "metadata": {},
   "outputs": [],
   "source": [
    "dfp = pd.pivot_table(df, values= 'Precinct #Votes', index=['precinct_2'], columns=['vest'] , aggfunc= sum)"
   ]
  },
  {
   "cell_type": "code",
   "execution_count": 118,
   "metadata": {},
   "outputs": [],
   "source": [
    "dfp = dfp.reset_index()"
   ]
  },
  {
   "cell_type": "code",
   "execution_count": 119,
   "metadata": {},
   "outputs": [
    {
     "data": {
      "text/plain": [
       "(5019, 60)"
      ]
     },
     "execution_count": 119,
     "metadata": {},
     "output_type": "execute_result"
    }
   ],
   "source": [
    "dfp.shape"
   ]
  },
  {
   "cell_type": "code",
   "execution_count": 120,
   "metadata": {},
   "outputs": [
    {
     "data": {
      "text/html": [
       "<div>\n",
       "<style scoped>\n",
       "    .dataframe tbody tr th:only-of-type {\n",
       "        vertical-align: middle;\n",
       "    }\n",
       "\n",
       "    .dataframe tbody tr th {\n",
       "        vertical-align: top;\n",
       "    }\n",
       "\n",
       "    .dataframe thead th {\n",
       "        text-align: right;\n",
       "    }\n",
       "</style>\n",
       "<table border=\"1\" class=\"dataframe\">\n",
       "  <thead>\n",
       "    <tr style=\"text-align: right;\">\n",
       "      <th>vest</th>\n",
       "      <th>precinct_2</th>\n",
       "      <th>G18ATGDNES</th>\n",
       "      <th>G18ATGIGAR</th>\n",
       "      <th>G18ATGLGIO</th>\n",
       "      <th>G18ATGRLEO</th>\n",
       "      <th>G18ATGTVAN</th>\n",
       "      <th>G18GOVDWHI</th>\n",
       "      <th>G18GOVGKUR</th>\n",
       "      <th>G18GOVLGEL</th>\n",
       "      <th>G18GOVNBUT</th>\n",
       "      <th>...</th>\n",
       "      <th>G18UBRTSA2</th>\n",
       "      <th>G18UBRTSAN</th>\n",
       "      <th>G18UBRTSCH</th>\n",
       "      <th>G18UBRTSOS</th>\n",
       "      <th>G18UBRTVAN</th>\n",
       "      <th>G18USSDSTA</th>\n",
       "      <th>G18USSGSQU</th>\n",
       "      <th>G18USSNWIL</th>\n",
       "      <th>G18USSRJAM</th>\n",
       "      <th>G18USSTHUF</th>\n",
       "    </tr>\n",
       "  </thead>\n",
       "  <tbody>\n",
       "    <tr>\n",
       "      <th>0</th>\n",
       "      <td>001-ALCONA TOWNSHIP-0-0001</td>\n",
       "      <td>207.0</td>\n",
       "      <td>8.0</td>\n",
       "      <td>6.0</td>\n",
       "      <td>440.0</td>\n",
       "      <td>4.0</td>\n",
       "      <td>242.0</td>\n",
       "      <td>9.0</td>\n",
       "      <td>4.0</td>\n",
       "      <td>1.0</td>\n",
       "      <td>...</td>\n",
       "      <td>8.0</td>\n",
       "      <td>13.0</td>\n",
       "      <td>19.0</td>\n",
       "      <td>9.0</td>\n",
       "      <td>14.0</td>\n",
       "      <td>233.0</td>\n",
       "      <td>6.0</td>\n",
       "      <td>1.0</td>\n",
       "      <td>439.0</td>\n",
       "      <td>3.0</td>\n",
       "    </tr>\n",
       "    <tr>\n",
       "      <th>1</th>\n",
       "      <td>001-CALEDONIA TOWNSHIP-0-0001</td>\n",
       "      <td>179.0</td>\n",
       "      <td>5.0</td>\n",
       "      <td>8.0</td>\n",
       "      <td>372.0</td>\n",
       "      <td>4.0</td>\n",
       "      <td>210.0</td>\n",
       "      <td>3.0</td>\n",
       "      <td>2.0</td>\n",
       "      <td>2.0</td>\n",
       "      <td>...</td>\n",
       "      <td>7.0</td>\n",
       "      <td>10.0</td>\n",
       "      <td>24.0</td>\n",
       "      <td>11.0</td>\n",
       "      <td>15.0</td>\n",
       "      <td>209.0</td>\n",
       "      <td>1.0</td>\n",
       "      <td>1.0</td>\n",
       "      <td>371.0</td>\n",
       "      <td>0.0</td>\n",
       "    </tr>\n",
       "    <tr>\n",
       "      <th>2</th>\n",
       "      <td>001-CURTIS TOWNSHIP-0-0001</td>\n",
       "      <td>189.0</td>\n",
       "      <td>15.0</td>\n",
       "      <td>9.0</td>\n",
       "      <td>339.0</td>\n",
       "      <td>6.0</td>\n",
       "      <td>234.0</td>\n",
       "      <td>7.0</td>\n",
       "      <td>5.0</td>\n",
       "      <td>1.0</td>\n",
       "      <td>...</td>\n",
       "      <td>9.0</td>\n",
       "      <td>15.0</td>\n",
       "      <td>29.0</td>\n",
       "      <td>16.0</td>\n",
       "      <td>18.0</td>\n",
       "      <td>227.0</td>\n",
       "      <td>6.0</td>\n",
       "      <td>2.0</td>\n",
       "      <td>332.0</td>\n",
       "      <td>5.0</td>\n",
       "    </tr>\n",
       "    <tr>\n",
       "      <th>3</th>\n",
       "      <td>001-GREENBUSH TOWNSHIP-0-0001</td>\n",
       "      <td>237.0</td>\n",
       "      <td>8.0</td>\n",
       "      <td>13.0</td>\n",
       "      <td>411.0</td>\n",
       "      <td>8.0</td>\n",
       "      <td>263.0</td>\n",
       "      <td>4.0</td>\n",
       "      <td>6.0</td>\n",
       "      <td>5.0</td>\n",
       "      <td>...</td>\n",
       "      <td>8.0</td>\n",
       "      <td>9.0</td>\n",
       "      <td>20.0</td>\n",
       "      <td>12.0</td>\n",
       "      <td>11.0</td>\n",
       "      <td>276.0</td>\n",
       "      <td>5.0</td>\n",
       "      <td>1.0</td>\n",
       "      <td>402.0</td>\n",
       "      <td>5.0</td>\n",
       "    </tr>\n",
       "    <tr>\n",
       "      <th>4</th>\n",
       "      <td>001-GUSTIN TOWNSHIP-0-0001</td>\n",
       "      <td>80.0</td>\n",
       "      <td>3.0</td>\n",
       "      <td>2.0</td>\n",
       "      <td>208.0</td>\n",
       "      <td>9.0</td>\n",
       "      <td>104.0</td>\n",
       "      <td>2.0</td>\n",
       "      <td>3.0</td>\n",
       "      <td>2.0</td>\n",
       "      <td>...</td>\n",
       "      <td>7.0</td>\n",
       "      <td>10.0</td>\n",
       "      <td>17.0</td>\n",
       "      <td>7.0</td>\n",
       "      <td>11.0</td>\n",
       "      <td>98.0</td>\n",
       "      <td>5.0</td>\n",
       "      <td>0.0</td>\n",
       "      <td>201.0</td>\n",
       "      <td>4.0</td>\n",
       "    </tr>\n",
       "  </tbody>\n",
       "</table>\n",
       "<p>5 rows × 60 columns</p>\n",
       "</div>"
      ],
      "text/plain": [
       "vest                     precinct_2  G18ATGDNES  G18ATGIGAR  G18ATGLGIO  \\\n",
       "0        001-ALCONA TOWNSHIP-0-0001       207.0         8.0         6.0   \n",
       "1     001-CALEDONIA TOWNSHIP-0-0001       179.0         5.0         8.0   \n",
       "2        001-CURTIS TOWNSHIP-0-0001       189.0        15.0         9.0   \n",
       "3     001-GREENBUSH TOWNSHIP-0-0001       237.0         8.0        13.0   \n",
       "4        001-GUSTIN TOWNSHIP-0-0001        80.0         3.0         2.0   \n",
       "\n",
       "vest  G18ATGRLEO  G18ATGTVAN  G18GOVDWHI  G18GOVGKUR  G18GOVLGEL  G18GOVNBUT  \\\n",
       "0          440.0         4.0       242.0         9.0         4.0         1.0   \n",
       "1          372.0         4.0       210.0         3.0         2.0         2.0   \n",
       "2          339.0         6.0       234.0         7.0         5.0         1.0   \n",
       "3          411.0         8.0       263.0         4.0         6.0         5.0   \n",
       "4          208.0         9.0       104.0         2.0         3.0         2.0   \n",
       "\n",
       "vest  ...  G18UBRTSA2  G18UBRTSAN  G18UBRTSCH  G18UBRTSOS  G18UBRTVAN  \\\n",
       "0     ...         8.0        13.0        19.0         9.0        14.0   \n",
       "1     ...         7.0        10.0        24.0        11.0        15.0   \n",
       "2     ...         9.0        15.0        29.0        16.0        18.0   \n",
       "3     ...         8.0         9.0        20.0        12.0        11.0   \n",
       "4     ...         7.0        10.0        17.0         7.0        11.0   \n",
       "\n",
       "vest  G18USSDSTA  G18USSGSQU  G18USSNWIL  G18USSRJAM  G18USSTHUF  \n",
       "0          233.0         6.0         1.0       439.0         3.0  \n",
       "1          209.0         1.0         1.0       371.0         0.0  \n",
       "2          227.0         6.0         2.0       332.0         5.0  \n",
       "3          276.0         5.0         1.0       402.0         5.0  \n",
       "4           98.0         5.0         0.0       201.0         4.0  \n",
       "\n",
       "[5 rows x 60 columns]"
      ]
     },
     "execution_count": 120,
     "metadata": {},
     "output_type": "execute_result"
    }
   ],
   "source": [
    "dfp.head()"
   ]
  },
  {
   "cell_type": "code",
   "execution_count": 9,
   "metadata": {},
   "outputs": [
    {
     "data": {
      "text/html": [
       "<div>\n",
       "<style scoped>\n",
       "    .dataframe tbody tr th:only-of-type {\n",
       "        vertical-align: middle;\n",
       "    }\n",
       "\n",
       "    .dataframe tbody tr th {\n",
       "        vertical-align: top;\n",
       "    }\n",
       "\n",
       "    .dataframe thead th {\n",
       "        text-align: right;\n",
       "    }\n",
       "</style>\n",
       "<table border=\"1\" class=\"dataframe\">\n",
       "  <thead>\n",
       "    <tr style=\"text-align: right;\">\n",
       "      <th></th>\n",
       "      <th>OBJECTID</th>\n",
       "      <th>PRECINCTID</th>\n",
       "      <th>ELECTIONYE</th>\n",
       "      <th>COUNTYFIPS</th>\n",
       "      <th>MCDFIPS</th>\n",
       "      <th>WARD</th>\n",
       "      <th>PRECINCT</th>\n",
       "      <th>ShapeSTAre</th>\n",
       "      <th>ShapeSTLen</th>\n",
       "      <th>geometry</th>\n",
       "    </tr>\n",
       "  </thead>\n",
       "  <tbody>\n",
       "    <tr>\n",
       "      <th>0</th>\n",
       "      <td>1</td>\n",
       "      <td>WP-001-01040-00001</td>\n",
       "      <td>2018</td>\n",
       "      <td>001</td>\n",
       "      <td>01040</td>\n",
       "      <td>00</td>\n",
       "      <td>001</td>\n",
       "      <td>1.701076e+08</td>\n",
       "      <td>73869.558749</td>\n",
       "      <td>POLYGON ((713885.576 472642.367, 713798.715 47...</td>\n",
       "    </tr>\n",
       "    <tr>\n",
       "      <th>1</th>\n",
       "      <td>2</td>\n",
       "      <td>WP-001-12460-00001</td>\n",
       "      <td>2018</td>\n",
       "      <td>001</td>\n",
       "      <td>12460</td>\n",
       "      <td>00</td>\n",
       "      <td>001</td>\n",
       "      <td>1.880860e+08</td>\n",
       "      <td>76737.144518</td>\n",
       "      <td>POLYGON ((686272.607 476273.249, 685978.453 47...</td>\n",
       "    </tr>\n",
       "    <tr>\n",
       "      <th>2</th>\n",
       "      <td>3</td>\n",
       "      <td>WP-001-19320-00001</td>\n",
       "      <td>2018</td>\n",
       "      <td>001</td>\n",
       "      <td>19320</td>\n",
       "      <td>00</td>\n",
       "      <td>001</td>\n",
       "      <td>1.833231e+08</td>\n",
       "      <td>57470.528359</td>\n",
       "      <td>POLYGON ((686986.253 442623.144, 686677.696 44...</td>\n",
       "    </tr>\n",
       "    <tr>\n",
       "      <th>3</th>\n",
       "      <td>4</td>\n",
       "      <td>WP-001-34820-00001</td>\n",
       "      <td>2018</td>\n",
       "      <td>001</td>\n",
       "      <td>34820</td>\n",
       "      <td>00</td>\n",
       "      <td>001</td>\n",
       "      <td>6.767958e+07</td>\n",
       "      <td>32987.191075</td>\n",
       "      <td>POLYGON ((712947.018 443503.339, 712791.603 44...</td>\n",
       "    </tr>\n",
       "    <tr>\n",
       "      <th>4</th>\n",
       "      <td>5</td>\n",
       "      <td>WP-001-35740-00001</td>\n",
       "      <td>2018</td>\n",
       "      <td>001</td>\n",
       "      <td>35740</td>\n",
       "      <td>00</td>\n",
       "      <td>001</td>\n",
       "      <td>9.281010e+07</td>\n",
       "      <td>38642.299469</td>\n",
       "      <td>POLYGON ((705992.472 452886.004, 704976.166 45...</td>\n",
       "    </tr>\n",
       "  </tbody>\n",
       "</table>\n",
       "</div>"
      ],
      "text/plain": [
       "   OBJECTID          PRECINCTID  ELECTIONYE COUNTYFIPS MCDFIPS WARD PRECINCT  \\\n",
       "0         1  WP-001-01040-00001        2018        001   01040   00      001   \n",
       "1         2  WP-001-12460-00001        2018        001   12460   00      001   \n",
       "2         3  WP-001-19320-00001        2018        001   19320   00      001   \n",
       "3         4  WP-001-34820-00001        2018        001   34820   00      001   \n",
       "4         5  WP-001-35740-00001        2018        001   35740   00      001   \n",
       "\n",
       "     ShapeSTAre    ShapeSTLen  \\\n",
       "0  1.701076e+08  73869.558749   \n",
       "1  1.880860e+08  76737.144518   \n",
       "2  1.833231e+08  57470.528359   \n",
       "3  6.767958e+07  32987.191075   \n",
       "4  9.281010e+07  38642.299469   \n",
       "\n",
       "                                            geometry  \n",
       "0  POLYGON ((713885.576 472642.367, 713798.715 47...  \n",
       "1  POLYGON ((686272.607 476273.249, 685978.453 47...  \n",
       "2  POLYGON ((686986.253 442623.144, 686677.696 44...  \n",
       "3  POLYGON ((712947.018 443503.339, 712791.603 44...  \n",
       "4  POLYGON ((705992.472 452886.004, 704976.166 45...  "
      ]
     },
     "execution_count": 9,
     "metadata": {},
     "output_type": "execute_result"
    }
   ],
   "source": [
    "shp = gpd.read_file('./2018_Voting_Precincts-shp/2018_Voting_Precincts.shp')\n",
    "shp.head()"
   ]
  },
  {
   "cell_type": "markdown",
   "metadata": {},
   "source": [
    "## Dealing with any merges, special cases, etc."
   ]
  },
  {
   "cell_type": "markdown",
   "metadata": {},
   "source": [
    "### Addressing issue of creating common index"
   ]
  },
  {
   "cell_type": "markdown",
   "metadata": {},
   "source": [
    "As noted above, using the census file, the `PRECINCTID` column does not match well based on precinct 2 column and other measures...\n",
    "\n",
    "Now use census file to get township/city name for each mcdfips in order to recreate precinct_2 column to merge\n",
    "\n",
    "MCDFIPS in ['County Subdivision Code (FIPS)'] \n",
    "\n",
    "Unless it is \"village\" or some \"city\" - then data gets pulled from ['Place Code (FIPS)']\n",
    "\n",
    "Create dictionary for ['Area Name (including legal/statistical area description)'] = index to the county subdiv or place code as appropriate\n",
    "\n",
    "apply dictionary to new column next to precinct_2\n",
    "\n",
    "and vice versa - apply fips as index, to the PRECINCTID column in shp"
   ]
  },
  {
   "cell_type": "code",
   "execution_count": 121,
   "metadata": {},
   "outputs": [],
   "source": [
    "def get_mid_code(row):\n",
    "    place_code = row['Place Code (FIPS)']\n",
    "    sub_code = row['County Subdivision Code (FIPS)']\n",
    "    return (str(place_code).zfill(5) if place_code != 0 else str(sub_code).zfill(5))"
   ]
  },
  {
   "cell_type": "code",
   "execution_count": 122,
   "metadata": {},
   "outputs": [
    {
     "name": "stderr",
     "output_type": "stream",
     "text": [
      "<ipython-input-122-3a47d7c2eb19>:1: SettingWithCopyWarning: \n",
      "A value is trying to be set on a copy of a slice from a DataFrame.\n",
      "Try using .loc[row_indexer,col_indexer] = value instead\n",
      "\n",
      "See the caveats in the documentation: https://pandas.pydata.org/pandas-docs/stable/user_guide/indexing.html#returning-a-view-versus-a-copy\n",
      "  censusmi['mcd'] = censusmi.apply(get_mid_code, axis = 1)\n"
     ]
    },
    {
     "data": {
      "text/html": [
       "<div>\n",
       "<style scoped>\n",
       "    .dataframe tbody tr th:only-of-type {\n",
       "        vertical-align: middle;\n",
       "    }\n",
       "\n",
       "    .dataframe tbody tr th {\n",
       "        vertical-align: top;\n",
       "    }\n",
       "\n",
       "    .dataframe thead th {\n",
       "        text-align: right;\n",
       "    }\n",
       "</style>\n",
       "<table border=\"1\" class=\"dataframe\">\n",
       "  <thead>\n",
       "    <tr style=\"text-align: right;\">\n",
       "      <th></th>\n",
       "      <th>Summary Level</th>\n",
       "      <th>State Code (FIPS)</th>\n",
       "      <th>County Code (FIPS)</th>\n",
       "      <th>County Subdivision Code (FIPS)</th>\n",
       "      <th>Place Code (FIPS)</th>\n",
       "      <th>Consolidtated City Code (FIPS)</th>\n",
       "      <th>Area Name (including legal/statistical area description)</th>\n",
       "      <th>census_mid_code</th>\n",
       "      <th>mcd</th>\n",
       "    </tr>\n",
       "  </thead>\n",
       "  <tbody>\n",
       "    <tr>\n",
       "      <th>13815</th>\n",
       "      <td>40</td>\n",
       "      <td>26</td>\n",
       "      <td>0</td>\n",
       "      <td>0</td>\n",
       "      <td>0</td>\n",
       "      <td>0</td>\n",
       "      <td>Michigan</td>\n",
       "      <td>00000</td>\n",
       "      <td>00000</td>\n",
       "    </tr>\n",
       "    <tr>\n",
       "      <th>13816</th>\n",
       "      <td>50</td>\n",
       "      <td>26</td>\n",
       "      <td>1</td>\n",
       "      <td>0</td>\n",
       "      <td>0</td>\n",
       "      <td>0</td>\n",
       "      <td>Alcona County</td>\n",
       "      <td>00000</td>\n",
       "      <td>00000</td>\n",
       "    </tr>\n",
       "    <tr>\n",
       "      <th>13817</th>\n",
       "      <td>50</td>\n",
       "      <td>26</td>\n",
       "      <td>3</td>\n",
       "      <td>0</td>\n",
       "      <td>0</td>\n",
       "      <td>0</td>\n",
       "      <td>Alger County</td>\n",
       "      <td>00000</td>\n",
       "      <td>00000</td>\n",
       "    </tr>\n",
       "    <tr>\n",
       "      <th>13818</th>\n",
       "      <td>50</td>\n",
       "      <td>26</td>\n",
       "      <td>5</td>\n",
       "      <td>0</td>\n",
       "      <td>0</td>\n",
       "      <td>0</td>\n",
       "      <td>Allegan County</td>\n",
       "      <td>00000</td>\n",
       "      <td>00000</td>\n",
       "    </tr>\n",
       "    <tr>\n",
       "      <th>13819</th>\n",
       "      <td>50</td>\n",
       "      <td>26</td>\n",
       "      <td>7</td>\n",
       "      <td>0</td>\n",
       "      <td>0</td>\n",
       "      <td>0</td>\n",
       "      <td>Alpena County</td>\n",
       "      <td>00000</td>\n",
       "      <td>00000</td>\n",
       "    </tr>\n",
       "  </tbody>\n",
       "</table>\n",
       "</div>"
      ],
      "text/plain": [
       "       Summary Level  State Code (FIPS)  County Code (FIPS)  \\\n",
       "13815             40                 26                   0   \n",
       "13816             50                 26                   1   \n",
       "13817             50                 26                   3   \n",
       "13818             50                 26                   5   \n",
       "13819             50                 26                   7   \n",
       "\n",
       "       County Subdivision Code (FIPS)  Place Code (FIPS)  \\\n",
       "13815                               0                  0   \n",
       "13816                               0                  0   \n",
       "13817                               0                  0   \n",
       "13818                               0                  0   \n",
       "13819                               0                  0   \n",
       "\n",
       "       Consolidtated City Code (FIPS)  \\\n",
       "13815                               0   \n",
       "13816                               0   \n",
       "13817                               0   \n",
       "13818                               0   \n",
       "13819                               0   \n",
       "\n",
       "      Area Name (including legal/statistical area description)  \\\n",
       "13815                                           Michigan         \n",
       "13816                                      Alcona County         \n",
       "13817                                       Alger County         \n",
       "13818                                     Allegan County         \n",
       "13819                                      Alpena County         \n",
       "\n",
       "      census_mid_code    mcd  \n",
       "13815           00000  00000  \n",
       "13816           00000  00000  \n",
       "13817           00000  00000  \n",
       "13818           00000  00000  \n",
       "13819           00000  00000  "
      ]
     },
     "execution_count": 122,
     "metadata": {},
     "output_type": "execute_result"
    }
   ],
   "source": [
    "censusmi['mcd'] = censusmi.apply(get_mid_code, axis = 1)\n",
    "censusmi.head()"
   ]
  },
  {
   "cell_type": "code",
   "execution_count": 123,
   "metadata": {},
   "outputs": [],
   "source": [
    "mcd_dict = pd.Series(censusmi['Area Name (including legal/statistical area description)'].values, index = censusmi['mcd']).to_dict()"
   ]
  },
  {
   "cell_type": "code",
   "execution_count": 124,
   "metadata": {},
   "outputs": [],
   "source": [
    "shp['area_name'] = shp['PRECINCTID'].str.slice(start = 7, stop = 12).map(mcd_dict)"
   ]
  },
  {
   "cell_type": "code",
   "execution_count": 136,
   "metadata": {},
   "outputs": [],
   "source": [
    "#Recreate precinct_2 format based on shp\n",
    "test = shp['COUNTYFIPS'] + '-' + shp['area_name'].map(lambda x: str(x).upper()) + '-' + shp['WARD'].str.slice(stop = 1) + '-0' + shp['PRECINCT']"
   ]
  },
  {
   "cell_type": "markdown",
   "metadata": {},
   "source": [
    "### Need to account for letter cases and also add update to dfp?\n",
    "by using if statement for if ['PRECINCT'].str.slice(start = -1) = ['A' OR 'B' OR 'C' OR 'W' OR 'L'] then precinct = ['PRECINCT'].str.slice(stop = -1) + '-' + ['PRECINCT'].str.slice(start = -1)"
   ]
  },
  {
   "cell_type": "code",
   "execution_count": 126,
   "metadata": {},
   "outputs": [
    {
     "data": {
      "text/plain": [
       "0                   001-ALCONA TOWNSHIP-0-0001\n",
       "1                001-CALEDONIA TOWNSHIP-0-0001\n",
       "2                   001-CURTIS TOWNSHIP-0-0001\n",
       "3                001-GREENBUSH TOWNSHIP-0-0001\n",
       "4                   001-GUSTIN TOWNSHIP-0-0001\n",
       "                         ...                  \n",
       "4792                  161-SCIO TOWNSHIP-0-0001\n",
       "4793                  161-SCIO TOWNSHIP-0-0008\n",
       "4794    163-BROWNSTOWN CHARTER TOWNSHIP-0-0003\n",
       "4795              149-LOCKPORT TOWNSHIP-0-0001\n",
       "4796    161-PITTSFIELD CHARTER TOWNSHIP-0-0009\n",
       "Length: 4797, dtype: object"
      ]
     },
     "execution_count": 126,
     "metadata": {},
     "output_type": "execute_result"
    }
   ],
   "source": [
    "test"
   ]
  },
  {
   "cell_type": "code",
   "execution_count": 128,
   "metadata": {},
   "outputs": [
    {
     "data": {
      "text/plain": [
       "1414"
      ]
     },
     "execution_count": 128,
     "metadata": {},
     "output_type": "execute_result"
    }
   ],
   "source": [
    "difference = set(test) - set(gdfv['precinct_2'])\n",
    "len(difference)"
   ]
  },
  {
   "cell_type": "markdown",
   "metadata": {},
   "source": [
    "Difference ex:\n",
    "- gdf: superior township -> shp: superior charter township\n",
    "- gdf: \"045-Delta Township-0-0009\" shp: \"045-Delta Charter Township-0-011\" - different but similar\n",
    "- gdf: '077-OSHTEMO TOWNSHIP-0-0010', shp: ' '077-OSHTEMO CHARTER TOWNSHIP-0-0007' (and other precincts - just Oshtemo township --> charter township\n",
    "- Flint - one charter township in gdf, elsewhere it is city but in shp -0- whereas gdf has numbers\n",
    "\n",
    "... many other subtle differences"
   ]
  },
  {
   "cell_type": "code",
   "execution_count": 130,
   "metadata": {},
   "outputs": [
    {
     "data": {
      "text/plain": [
       "3793    163-DETROIT CITY-0-0251\n",
       "3794    163-DETROIT CITY-0-0252\n",
       "3795    163-DETROIT CITY-0-0253\n",
       "3796    163-DETROIT CITY-0-0254\n",
       "3797    163-DETROIT CITY-0-0261\n",
       "                 ...           \n",
       "4690    163-DETROIT CITY-0-0080\n",
       "4691    163-DETROIT CITY-0-0308\n",
       "4692    163-DETROIT CITY-0-0176\n",
       "4693    163-DETROIT CITY-0-0040\n",
       "4694    163-DETROIT CITY-0-0494\n",
       "Name: precinct_2, Length: 502, dtype: object"
      ]
     },
     "execution_count": 130,
     "metadata": {},
     "output_type": "execute_result"
    }
   ],
   "source": [
    "gdfv['precinct_2'][gdfv['precinct_2'].str.slice(start = 4, stop = 11) == 'DETROIT']"
   ]
  },
  {
   "cell_type": "code",
   "execution_count": 131,
   "metadata": {},
   "outputs": [
    {
     "data": {
      "text/plain": [
       "3793    163-DETROIT CITY-0-0251\n",
       "3794    163-DETROIT CITY-0-0252\n",
       "3795    163-DETROIT CITY-0-0253\n",
       "3796    163-DETROIT CITY-0-0254\n",
       "3797    163-DETROIT CITY-0-0261\n",
       "                 ...           \n",
       "4690    163-DETROIT CITY-0-0080\n",
       "4691    163-DETROIT CITY-0-0308\n",
       "4692    163-DETROIT CITY-0-0176\n",
       "4693    163-DETROIT CITY-0-0040\n",
       "4694    163-DETROIT CITY-0-0494\n",
       "Length: 502, dtype: object"
      ]
     },
     "execution_count": 131,
     "metadata": {},
     "output_type": "execute_result"
    }
   ],
   "source": [
    "test[test.str.slice(start = 4, stop = 11) == 'DETROIT']"
   ]
  },
  {
   "cell_type": "code",
   "execution_count": 142,
   "metadata": {},
   "outputs": [
    {
     "data": {
      "text/plain": [
       "173"
      ]
     },
     "execution_count": 142,
     "metadata": {},
     "output_type": "execute_result"
    }
   ],
   "source": [
    "len(set(df['precinct_2'][df['precinct_2'].str.slice(start = 4, stop = 11) == 'DETROIT']) - set(gdfv['precinct_2'][gdfv['precinct_2'].str.slice(start = 4, stop = 11) == 'DETROIT']))"
   ]
  },
  {
   "cell_type": "code",
   "execution_count": 135,
   "metadata": {},
   "outputs": [
    {
     "data": {
      "text/plain": [
       "2"
      ]
     },
     "execution_count": 135,
     "metadata": {},
     "output_type": "execute_result"
    }
   ],
   "source": [
    "len(set(test.str.slice(start = 4, stop = 11) == 'DETROIT') - set(gdfv['precinct_2'][gdfv['precinct_2'].str.slice(start = 4, stop = 11) == 'DETROIT']))"
   ]
  },
  {
   "cell_type": "code",
   "execution_count": 150,
   "metadata": {},
   "outputs": [
    {
     "data": {
      "text/plain": [
       "-673"
      ]
     },
     "execution_count": 150,
     "metadata": {},
     "output_type": "execute_result"
    }
   ],
   "source": [
    "len(set(test.str.slice(start = 4, stop = 11) == 'DETROIT')) - len(set(df['precinct_2'][df['precinct_2'].str.slice(start = 4, stop = 11) == 'DETROIT']))"
   ]
  },
  {
   "cell_type": "code",
   "execution_count": 155,
   "metadata": {},
   "outputs": [
    {
     "data": {
      "text/plain": [
       "1435"
      ]
     },
     "execution_count": 155,
     "metadata": {},
     "output_type": "execute_result"
    }
   ],
   "source": [
    "len(set(test) - set(dfp.precinct_2))"
   ]
  },
  {
   "cell_type": "markdown",
   "metadata": {},
   "source": [
    "**Sanity check** - try the reverse of the dictionary to see if match rate is better/easier to recreate the PRECINCTID column..."
   ]
  },
  {
   "cell_type": "code",
   "execution_count": 157,
   "metadata": {},
   "outputs": [],
   "source": [
    "name_dict = pd.Series(censusmi['mcd'].values, index = censusmi['Area Name (including legal/statistical area description)'].map(lambda x: str(x).upper())).to_dict()"
   ]
  },
  {
   "cell_type": "code",
   "execution_count": 158,
   "metadata": {},
   "outputs": [
    {
     "data": {
      "text/plain": [
       "0       01040\n",
       "1       12500\n",
       "2       19320\n",
       "3       34840\n",
       "4       35740\n",
       "        ...  \n",
       "5014    72380\n",
       "5015    74220\n",
       "5016    74820\n",
       "5017    75940\n",
       "5018    86500\n",
       "Name: precinct_2, Length: 5019, dtype: object"
      ]
     },
     "execution_count": 158,
     "metadata": {},
     "output_type": "execute_result"
    }
   ],
   "source": [
    "dfpmcd = dfp['precinct_2'].str.slice(start = 4, stop = -7).map(name_dict)\n",
    "#dfpmcd = dfp.map(name_dict)\n",
    "dfpmcd"
   ]
  },
  {
   "cell_type": "code",
   "execution_count": 159,
   "metadata": {},
   "outputs": [
    {
     "data": {
      "text/html": [
       "<div>\n",
       "<style scoped>\n",
       "    .dataframe tbody tr th:only-of-type {\n",
       "        vertical-align: middle;\n",
       "    }\n",
       "\n",
       "    .dataframe tbody tr th {\n",
       "        vertical-align: top;\n",
       "    }\n",
       "\n",
       "    .dataframe thead th {\n",
       "        text-align: right;\n",
       "    }\n",
       "</style>\n",
       "<table border=\"1\" class=\"dataframe\">\n",
       "  <thead>\n",
       "    <tr style=\"text-align: right;\">\n",
       "      <th></th>\n",
       "      <th>OBJECTID</th>\n",
       "      <th>PRECINCTID</th>\n",
       "      <th>ELECTIONYE</th>\n",
       "      <th>COUNTYFIPS</th>\n",
       "      <th>MCDFIPS</th>\n",
       "      <th>WARD</th>\n",
       "      <th>PRECINCT</th>\n",
       "      <th>ShapeSTAre</th>\n",
       "      <th>ShapeSTLen</th>\n",
       "      <th>geometry</th>\n",
       "      <th>CountyName</th>\n",
       "      <th>name</th>\n",
       "      <th>area_name</th>\n",
       "    </tr>\n",
       "  </thead>\n",
       "  <tbody>\n",
       "    <tr>\n",
       "      <th>0</th>\n",
       "      <td>1</td>\n",
       "      <td>WP-001-01040-00001</td>\n",
       "      <td>2018</td>\n",
       "      <td>001</td>\n",
       "      <td>01040</td>\n",
       "      <td>00</td>\n",
       "      <td>001</td>\n",
       "      <td>1.701076e+08</td>\n",
       "      <td>73869.558749</td>\n",
       "      <td>POLYGON ((713885.576 472642.367, 713798.715 47...</td>\n",
       "      <td>Alcona County</td>\n",
       "      <td>ALCONA</td>\n",
       "      <td>Alcona township</td>\n",
       "    </tr>\n",
       "    <tr>\n",
       "      <th>1</th>\n",
       "      <td>2</td>\n",
       "      <td>WP-001-12460-00001</td>\n",
       "      <td>2018</td>\n",
       "      <td>001</td>\n",
       "      <td>12460</td>\n",
       "      <td>00</td>\n",
       "      <td>001</td>\n",
       "      <td>1.880860e+08</td>\n",
       "      <td>76737.144518</td>\n",
       "      <td>POLYGON ((686272.607 476273.249, 685978.453 47...</td>\n",
       "      <td>Alcona County</td>\n",
       "      <td>ALCONA</td>\n",
       "      <td>Caledonia township</td>\n",
       "    </tr>\n",
       "    <tr>\n",
       "      <th>2</th>\n",
       "      <td>3</td>\n",
       "      <td>WP-001-19320-00001</td>\n",
       "      <td>2018</td>\n",
       "      <td>001</td>\n",
       "      <td>19320</td>\n",
       "      <td>00</td>\n",
       "      <td>001</td>\n",
       "      <td>1.833231e+08</td>\n",
       "      <td>57470.528359</td>\n",
       "      <td>POLYGON ((686986.253 442623.144, 686677.696 44...</td>\n",
       "      <td>Alcona County</td>\n",
       "      <td>ALCONA</td>\n",
       "      <td>Curtis township</td>\n",
       "    </tr>\n",
       "    <tr>\n",
       "      <th>3</th>\n",
       "      <td>4</td>\n",
       "      <td>WP-001-34820-00001</td>\n",
       "      <td>2018</td>\n",
       "      <td>001</td>\n",
       "      <td>34820</td>\n",
       "      <td>00</td>\n",
       "      <td>001</td>\n",
       "      <td>6.767958e+07</td>\n",
       "      <td>32987.191075</td>\n",
       "      <td>POLYGON ((712947.018 443503.339, 712791.603 44...</td>\n",
       "      <td>Alcona County</td>\n",
       "      <td>ALCONA</td>\n",
       "      <td>Greenbush township</td>\n",
       "    </tr>\n",
       "    <tr>\n",
       "      <th>4</th>\n",
       "      <td>5</td>\n",
       "      <td>WP-001-35740-00001</td>\n",
       "      <td>2018</td>\n",
       "      <td>001</td>\n",
       "      <td>35740</td>\n",
       "      <td>00</td>\n",
       "      <td>001</td>\n",
       "      <td>9.281010e+07</td>\n",
       "      <td>38642.299469</td>\n",
       "      <td>POLYGON ((705992.472 452886.004, 704976.166 45...</td>\n",
       "      <td>Alcona County</td>\n",
       "      <td>ALCONA</td>\n",
       "      <td>Gustin township</td>\n",
       "    </tr>\n",
       "  </tbody>\n",
       "</table>\n",
       "</div>"
      ],
      "text/plain": [
       "   OBJECTID          PRECINCTID  ELECTIONYE COUNTYFIPS MCDFIPS WARD PRECINCT  \\\n",
       "0         1  WP-001-01040-00001        2018        001   01040   00      001   \n",
       "1         2  WP-001-12460-00001        2018        001   12460   00      001   \n",
       "2         3  WP-001-19320-00001        2018        001   19320   00      001   \n",
       "3         4  WP-001-34820-00001        2018        001   34820   00      001   \n",
       "4         5  WP-001-35740-00001        2018        001   35740   00      001   \n",
       "\n",
       "     ShapeSTAre    ShapeSTLen  \\\n",
       "0  1.701076e+08  73869.558749   \n",
       "1  1.880860e+08  76737.144518   \n",
       "2  1.833231e+08  57470.528359   \n",
       "3  6.767958e+07  32987.191075   \n",
       "4  9.281010e+07  38642.299469   \n",
       "\n",
       "                                            geometry     CountyName    name  \\\n",
       "0  POLYGON ((713885.576 472642.367, 713798.715 47...  Alcona County  ALCONA   \n",
       "1  POLYGON ((686272.607 476273.249, 685978.453 47...  Alcona County  ALCONA   \n",
       "2  POLYGON ((686986.253 442623.144, 686677.696 44...  Alcona County  ALCONA   \n",
       "3  POLYGON ((712947.018 443503.339, 712791.603 44...  Alcona County  ALCONA   \n",
       "4  POLYGON ((705992.472 452886.004, 704976.166 45...  Alcona County  ALCONA   \n",
       "\n",
       "            area_name  \n",
       "0     Alcona township  \n",
       "1  Caledonia township  \n",
       "2     Curtis township  \n",
       "3  Greenbush township  \n",
       "4     Gustin township  "
      ]
     },
     "execution_count": 159,
     "metadata": {},
     "output_type": "execute_result"
    }
   ],
   "source": [
    "shp.head()"
   ]
  },
  {
   "cell_type": "code",
   "execution_count": 160,
   "metadata": {},
   "outputs": [
    {
     "data": {
      "text/html": [
       "<div>\n",
       "<style scoped>\n",
       "    .dataframe tbody tr th:only-of-type {\n",
       "        vertical-align: middle;\n",
       "    }\n",
       "\n",
       "    .dataframe tbody tr th {\n",
       "        vertical-align: top;\n",
       "    }\n",
       "\n",
       "    .dataframe thead th {\n",
       "        text-align: right;\n",
       "    }\n",
       "</style>\n",
       "<table border=\"1\" class=\"dataframe\">\n",
       "  <thead>\n",
       "    <tr style=\"text-align: right;\">\n",
       "      <th>vest</th>\n",
       "      <th>precinct_2</th>\n",
       "      <th>G18ATGDNES</th>\n",
       "      <th>G18ATGIGAR</th>\n",
       "      <th>G18ATGLGIO</th>\n",
       "      <th>G18ATGRLEO</th>\n",
       "      <th>G18ATGTVAN</th>\n",
       "      <th>G18GOVDWHI</th>\n",
       "      <th>G18GOVGKUR</th>\n",
       "      <th>G18GOVLGEL</th>\n",
       "      <th>G18GOVNBUT</th>\n",
       "      <th>...</th>\n",
       "      <th>G18UBRTSA2</th>\n",
       "      <th>G18UBRTSAN</th>\n",
       "      <th>G18UBRTSCH</th>\n",
       "      <th>G18UBRTSOS</th>\n",
       "      <th>G18UBRTVAN</th>\n",
       "      <th>G18USSDSTA</th>\n",
       "      <th>G18USSGSQU</th>\n",
       "      <th>G18USSNWIL</th>\n",
       "      <th>G18USSRJAM</th>\n",
       "      <th>G18USSTHUF</th>\n",
       "    </tr>\n",
       "  </thead>\n",
       "  <tbody>\n",
       "    <tr>\n",
       "      <th>0</th>\n",
       "      <td>001-ALCONA TOWNSHIP-0-0001</td>\n",
       "      <td>207.0</td>\n",
       "      <td>8.0</td>\n",
       "      <td>6.0</td>\n",
       "      <td>440.0</td>\n",
       "      <td>4.0</td>\n",
       "      <td>242.0</td>\n",
       "      <td>9.0</td>\n",
       "      <td>4.0</td>\n",
       "      <td>1.0</td>\n",
       "      <td>...</td>\n",
       "      <td>8.0</td>\n",
       "      <td>13.0</td>\n",
       "      <td>19.0</td>\n",
       "      <td>9.0</td>\n",
       "      <td>14.0</td>\n",
       "      <td>233.0</td>\n",
       "      <td>6.0</td>\n",
       "      <td>1.0</td>\n",
       "      <td>439.0</td>\n",
       "      <td>3.0</td>\n",
       "    </tr>\n",
       "    <tr>\n",
       "      <th>1</th>\n",
       "      <td>001-CALEDONIA TOWNSHIP-0-0001</td>\n",
       "      <td>179.0</td>\n",
       "      <td>5.0</td>\n",
       "      <td>8.0</td>\n",
       "      <td>372.0</td>\n",
       "      <td>4.0</td>\n",
       "      <td>210.0</td>\n",
       "      <td>3.0</td>\n",
       "      <td>2.0</td>\n",
       "      <td>2.0</td>\n",
       "      <td>...</td>\n",
       "      <td>7.0</td>\n",
       "      <td>10.0</td>\n",
       "      <td>24.0</td>\n",
       "      <td>11.0</td>\n",
       "      <td>15.0</td>\n",
       "      <td>209.0</td>\n",
       "      <td>1.0</td>\n",
       "      <td>1.0</td>\n",
       "      <td>371.0</td>\n",
       "      <td>0.0</td>\n",
       "    </tr>\n",
       "    <tr>\n",
       "      <th>2</th>\n",
       "      <td>001-CURTIS TOWNSHIP-0-0001</td>\n",
       "      <td>189.0</td>\n",
       "      <td>15.0</td>\n",
       "      <td>9.0</td>\n",
       "      <td>339.0</td>\n",
       "      <td>6.0</td>\n",
       "      <td>234.0</td>\n",
       "      <td>7.0</td>\n",
       "      <td>5.0</td>\n",
       "      <td>1.0</td>\n",
       "      <td>...</td>\n",
       "      <td>9.0</td>\n",
       "      <td>15.0</td>\n",
       "      <td>29.0</td>\n",
       "      <td>16.0</td>\n",
       "      <td>18.0</td>\n",
       "      <td>227.0</td>\n",
       "      <td>6.0</td>\n",
       "      <td>2.0</td>\n",
       "      <td>332.0</td>\n",
       "      <td>5.0</td>\n",
       "    </tr>\n",
       "    <tr>\n",
       "      <th>3</th>\n",
       "      <td>001-GREENBUSH TOWNSHIP-0-0001</td>\n",
       "      <td>237.0</td>\n",
       "      <td>8.0</td>\n",
       "      <td>13.0</td>\n",
       "      <td>411.0</td>\n",
       "      <td>8.0</td>\n",
       "      <td>263.0</td>\n",
       "      <td>4.0</td>\n",
       "      <td>6.0</td>\n",
       "      <td>5.0</td>\n",
       "      <td>...</td>\n",
       "      <td>8.0</td>\n",
       "      <td>9.0</td>\n",
       "      <td>20.0</td>\n",
       "      <td>12.0</td>\n",
       "      <td>11.0</td>\n",
       "      <td>276.0</td>\n",
       "      <td>5.0</td>\n",
       "      <td>1.0</td>\n",
       "      <td>402.0</td>\n",
       "      <td>5.0</td>\n",
       "    </tr>\n",
       "    <tr>\n",
       "      <th>4</th>\n",
       "      <td>001-GUSTIN TOWNSHIP-0-0001</td>\n",
       "      <td>80.0</td>\n",
       "      <td>3.0</td>\n",
       "      <td>2.0</td>\n",
       "      <td>208.0</td>\n",
       "      <td>9.0</td>\n",
       "      <td>104.0</td>\n",
       "      <td>2.0</td>\n",
       "      <td>3.0</td>\n",
       "      <td>2.0</td>\n",
       "      <td>...</td>\n",
       "      <td>7.0</td>\n",
       "      <td>10.0</td>\n",
       "      <td>17.0</td>\n",
       "      <td>7.0</td>\n",
       "      <td>11.0</td>\n",
       "      <td>98.0</td>\n",
       "      <td>5.0</td>\n",
       "      <td>0.0</td>\n",
       "      <td>201.0</td>\n",
       "      <td>4.0</td>\n",
       "    </tr>\n",
       "  </tbody>\n",
       "</table>\n",
       "<p>5 rows × 60 columns</p>\n",
       "</div>"
      ],
      "text/plain": [
       "vest                     precinct_2  G18ATGDNES  G18ATGIGAR  G18ATGLGIO  \\\n",
       "0        001-ALCONA TOWNSHIP-0-0001       207.0         8.0         6.0   \n",
       "1     001-CALEDONIA TOWNSHIP-0-0001       179.0         5.0         8.0   \n",
       "2        001-CURTIS TOWNSHIP-0-0001       189.0        15.0         9.0   \n",
       "3     001-GREENBUSH TOWNSHIP-0-0001       237.0         8.0        13.0   \n",
       "4        001-GUSTIN TOWNSHIP-0-0001        80.0         3.0         2.0   \n",
       "\n",
       "vest  G18ATGRLEO  G18ATGTVAN  G18GOVDWHI  G18GOVGKUR  G18GOVLGEL  G18GOVNBUT  \\\n",
       "0          440.0         4.0       242.0         9.0         4.0         1.0   \n",
       "1          372.0         4.0       210.0         3.0         2.0         2.0   \n",
       "2          339.0         6.0       234.0         7.0         5.0         1.0   \n",
       "3          411.0         8.0       263.0         4.0         6.0         5.0   \n",
       "4          208.0         9.0       104.0         2.0         3.0         2.0   \n",
       "\n",
       "vest  ...  G18UBRTSA2  G18UBRTSAN  G18UBRTSCH  G18UBRTSOS  G18UBRTVAN  \\\n",
       "0     ...         8.0        13.0        19.0         9.0        14.0   \n",
       "1     ...         7.0        10.0        24.0        11.0        15.0   \n",
       "2     ...         9.0        15.0        29.0        16.0        18.0   \n",
       "3     ...         8.0         9.0        20.0        12.0        11.0   \n",
       "4     ...         7.0        10.0        17.0         7.0        11.0   \n",
       "\n",
       "vest  G18USSDSTA  G18USSGSQU  G18USSNWIL  G18USSRJAM  G18USSTHUF  \n",
       "0          233.0         6.0         1.0       439.0         3.0  \n",
       "1          209.0         1.0         1.0       371.0         0.0  \n",
       "2          227.0         6.0         2.0       332.0         5.0  \n",
       "3          276.0         5.0         1.0       402.0         5.0  \n",
       "4           98.0         5.0         0.0       201.0         4.0  \n",
       "\n",
       "[5 rows x 60 columns]"
      ]
     },
     "execution_count": 160,
     "metadata": {},
     "output_type": "execute_result"
    }
   ],
   "source": [
    "dfp.head()"
   ]
  },
  {
   "cell_type": "code",
   "execution_count": 161,
   "metadata": {},
   "outputs": [
    {
     "data": {
      "text/html": [
       "<div>\n",
       "<style scoped>\n",
       "    .dataframe tbody tr th:only-of-type {\n",
       "        vertical-align: middle;\n",
       "    }\n",
       "\n",
       "    .dataframe tbody tr th {\n",
       "        vertical-align: top;\n",
       "    }\n",
       "\n",
       "    .dataframe thead th {\n",
       "        text-align: right;\n",
       "    }\n",
       "</style>\n",
       "<table border=\"1\" class=\"dataframe\">\n",
       "  <thead>\n",
       "    <tr style=\"text-align: right;\">\n",
       "      <th></th>\n",
       "      <th>Summary Level</th>\n",
       "      <th>State Code (FIPS)</th>\n",
       "      <th>County Code (FIPS)</th>\n",
       "      <th>County Subdivision Code (FIPS)</th>\n",
       "      <th>Place Code (FIPS)</th>\n",
       "      <th>Consolidtated City Code (FIPS)</th>\n",
       "      <th>Area Name (including legal/statistical area description)</th>\n",
       "      <th>census_mid_code</th>\n",
       "      <th>mcd</th>\n",
       "    </tr>\n",
       "  </thead>\n",
       "  <tbody>\n",
       "    <tr>\n",
       "      <th>13900</th>\n",
       "      <td>61</td>\n",
       "      <td>26</td>\n",
       "      <td>1</td>\n",
       "      <td>12460</td>\n",
       "      <td>0</td>\n",
       "      <td>0</td>\n",
       "      <td>Caledonia township</td>\n",
       "      <td>12460</td>\n",
       "      <td>12460</td>\n",
       "    </tr>\n",
       "    <tr>\n",
       "      <th>14597</th>\n",
       "      <td>61</td>\n",
       "      <td>26</td>\n",
       "      <td>81</td>\n",
       "      <td>12500</td>\n",
       "      <td>0</td>\n",
       "      <td>0</td>\n",
       "      <td>Caledonia township</td>\n",
       "      <td>12500</td>\n",
       "      <td>12500</td>\n",
       "    </tr>\n",
       "  </tbody>\n",
       "</table>\n",
       "</div>"
      ],
      "text/plain": [
       "       Summary Level  State Code (FIPS)  County Code (FIPS)  \\\n",
       "13900             61                 26                   1   \n",
       "14597             61                 26                  81   \n",
       "\n",
       "       County Subdivision Code (FIPS)  Place Code (FIPS)  \\\n",
       "13900                           12460                  0   \n",
       "14597                           12500                  0   \n",
       "\n",
       "       Consolidtated City Code (FIPS)  \\\n",
       "13900                               0   \n",
       "14597                               0   \n",
       "\n",
       "      Area Name (including legal/statistical area description)  \\\n",
       "13900                                 Caledonia township         \n",
       "14597                                 Caledonia township         \n",
       "\n",
       "      census_mid_code    mcd  \n",
       "13900           12460  12460  \n",
       "14597           12500  12500  "
      ]
     },
     "execution_count": 161,
     "metadata": {},
     "output_type": "execute_result"
    }
   ],
   "source": [
    "censusmi[censusmi['Area Name (including legal/statistical area description)'] == 'Caledonia township']\n",
    "#matched to wrong one - need dictionary to account for county and city name"
   ]
  },
  {
   "cell_type": "markdown",
   "metadata": {},
   "source": [
    "Notice small difference in MCD fips code for SHP Caledonia twp = 12460, but in new df it is 12500...\n",
    "\n",
    "**Realize that because the area names are unique by county, but not by state, need to incorporate to create a unique identifier.**"
   ]
  },
  {
   "cell_type": "code",
   "execution_count": 162,
   "metadata": {},
   "outputs": [],
   "source": [
    "countywname = censusmi['County Code (FIPS)'].map(lambda x: str(x).zfill(3)) + '-' + censusmi['Area Name (including legal/statistical area description)'].map(lambda x: str(x).upper())"
   ]
  },
  {
   "cell_type": "code",
   "execution_count": 163,
   "metadata": {},
   "outputs": [
    {
     "data": {
      "text/plain": [
       "13815          000-MICHIGAN\n",
       "13816     001-ALCONA COUNTY\n",
       "13817      003-ALGER COUNTY\n",
       "13818    005-ALLEGAN COUNTY\n",
       "13819     007-ALPENA COUNTY\n",
       "                ...        \n",
       "15967      000-WYOMING CITY\n",
       "15968         000-YALE CITY\n",
       "15969    000-YPSILANTI CITY\n",
       "15970      000-ZEELAND CITY\n",
       "15971    000-ZILWAUKEE CITY\n",
       "Length: 2157, dtype: object"
      ]
     },
     "execution_count": 163,
     "metadata": {},
     "output_type": "execute_result"
    }
   ],
   "source": [
    "countywname"
   ]
  },
  {
   "cell_type": "markdown",
   "metadata": {},
   "source": [
    "Some cities that have county fips show up with 000 county fips above. Perhaps because they appear in the data set twice, but still problematic."
   ]
  },
  {
   "cell_type": "code",
   "execution_count": 164,
   "metadata": {},
   "outputs": [
    {
     "name": "stderr",
     "output_type": "stream",
     "text": [
      "<ipython-input-164-768b2a29c75c>:1: SettingWithCopyWarning: \n",
      "A value is trying to be set on a copy of a slice from a DataFrame.\n",
      "Try using .loc[row_indexer,col_indexer] = value instead\n",
      "\n",
      "See the caveats in the documentation: https://pandas.pydata.org/pandas-docs/stable/user_guide/indexing.html#returning-a-view-versus-a-copy\n",
      "  censusmi['County w Name'] = countywname\n"
     ]
    }
   ],
   "source": [
    "censusmi['County w Name'] = countywname"
   ]
  },
  {
   "cell_type": "code",
   "execution_count": 165,
   "metadata": {},
   "outputs": [],
   "source": [
    "county_name_dict = pd.Series(censusmi['mcd'].values, index = censusmi['County w Name']).to_dict()"
   ]
  },
  {
   "cell_type": "code",
   "execution_count": 167,
   "metadata": {},
   "outputs": [],
   "source": [
    "dfpcountyname = dfp['precinct_2'].str.slice(stop = -7)\n",
    "dfp['county_w_name'] = dfpcountyname"
   ]
  },
  {
   "cell_type": "code",
   "execution_count": 168,
   "metadata": {},
   "outputs": [],
   "source": [
    "dfpmcd = dfp['county_w_name'].map(county_name_dict)"
   ]
  },
  {
   "cell_type": "code",
   "execution_count": 169,
   "metadata": {},
   "outputs": [
    {
     "data": {
      "text/html": [
       "<div>\n",
       "<style scoped>\n",
       "    .dataframe tbody tr th:only-of-type {\n",
       "        vertical-align: middle;\n",
       "    }\n",
       "\n",
       "    .dataframe tbody tr th {\n",
       "        vertical-align: top;\n",
       "    }\n",
       "\n",
       "    .dataframe thead th {\n",
       "        text-align: right;\n",
       "    }\n",
       "</style>\n",
       "<table border=\"1\" class=\"dataframe\">\n",
       "  <thead>\n",
       "    <tr style=\"text-align: right;\">\n",
       "      <th>vest</th>\n",
       "      <th>precinct_2</th>\n",
       "      <th>G18ATGDNES</th>\n",
       "      <th>G18ATGIGAR</th>\n",
       "      <th>G18ATGLGIO</th>\n",
       "      <th>G18ATGRLEO</th>\n",
       "      <th>G18ATGTVAN</th>\n",
       "      <th>G18GOVDWHI</th>\n",
       "      <th>G18GOVGKUR</th>\n",
       "      <th>G18GOVLGEL</th>\n",
       "      <th>G18GOVNBUT</th>\n",
       "      <th>...</th>\n",
       "      <th>G18UBRTSCH</th>\n",
       "      <th>G18UBRTSOS</th>\n",
       "      <th>G18UBRTVAN</th>\n",
       "      <th>G18USSDSTA</th>\n",
       "      <th>G18USSGSQU</th>\n",
       "      <th>G18USSNWIL</th>\n",
       "      <th>G18USSRJAM</th>\n",
       "      <th>G18USSTHUF</th>\n",
       "      <th>county_w_name</th>\n",
       "      <th>PRECINCTID</th>\n",
       "    </tr>\n",
       "  </thead>\n",
       "  <tbody>\n",
       "    <tr>\n",
       "      <th>0</th>\n",
       "      <td>001-ALCONA TOWNSHIP-0-0001</td>\n",
       "      <td>207.0</td>\n",
       "      <td>8.0</td>\n",
       "      <td>6.0</td>\n",
       "      <td>440.0</td>\n",
       "      <td>4.0</td>\n",
       "      <td>242.0</td>\n",
       "      <td>9.0</td>\n",
       "      <td>4.0</td>\n",
       "      <td>1.0</td>\n",
       "      <td>...</td>\n",
       "      <td>19.0</td>\n",
       "      <td>9.0</td>\n",
       "      <td>14.0</td>\n",
       "      <td>233.0</td>\n",
       "      <td>6.0</td>\n",
       "      <td>1.0</td>\n",
       "      <td>439.0</td>\n",
       "      <td>3.0</td>\n",
       "      <td>001-ALCONA TOWNSHIP</td>\n",
       "      <td>WP-001-01040-00001</td>\n",
       "    </tr>\n",
       "    <tr>\n",
       "      <th>1</th>\n",
       "      <td>001-CALEDONIA TOWNSHIP-0-0001</td>\n",
       "      <td>179.0</td>\n",
       "      <td>5.0</td>\n",
       "      <td>8.0</td>\n",
       "      <td>372.0</td>\n",
       "      <td>4.0</td>\n",
       "      <td>210.0</td>\n",
       "      <td>3.0</td>\n",
       "      <td>2.0</td>\n",
       "      <td>2.0</td>\n",
       "      <td>...</td>\n",
       "      <td>24.0</td>\n",
       "      <td>11.0</td>\n",
       "      <td>15.0</td>\n",
       "      <td>209.0</td>\n",
       "      <td>1.0</td>\n",
       "      <td>1.0</td>\n",
       "      <td>371.0</td>\n",
       "      <td>0.0</td>\n",
       "      <td>001-CALEDONIA TOWNSHIP</td>\n",
       "      <td>WP-001-12460-00001</td>\n",
       "    </tr>\n",
       "    <tr>\n",
       "      <th>2</th>\n",
       "      <td>001-CURTIS TOWNSHIP-0-0001</td>\n",
       "      <td>189.0</td>\n",
       "      <td>15.0</td>\n",
       "      <td>9.0</td>\n",
       "      <td>339.0</td>\n",
       "      <td>6.0</td>\n",
       "      <td>234.0</td>\n",
       "      <td>7.0</td>\n",
       "      <td>5.0</td>\n",
       "      <td>1.0</td>\n",
       "      <td>...</td>\n",
       "      <td>29.0</td>\n",
       "      <td>16.0</td>\n",
       "      <td>18.0</td>\n",
       "      <td>227.0</td>\n",
       "      <td>6.0</td>\n",
       "      <td>2.0</td>\n",
       "      <td>332.0</td>\n",
       "      <td>5.0</td>\n",
       "      <td>001-CURTIS TOWNSHIP</td>\n",
       "      <td>WP-001-19320-00001</td>\n",
       "    </tr>\n",
       "    <tr>\n",
       "      <th>3</th>\n",
       "      <td>001-GREENBUSH TOWNSHIP-0-0001</td>\n",
       "      <td>237.0</td>\n",
       "      <td>8.0</td>\n",
       "      <td>13.0</td>\n",
       "      <td>411.0</td>\n",
       "      <td>8.0</td>\n",
       "      <td>263.0</td>\n",
       "      <td>4.0</td>\n",
       "      <td>6.0</td>\n",
       "      <td>5.0</td>\n",
       "      <td>...</td>\n",
       "      <td>20.0</td>\n",
       "      <td>12.0</td>\n",
       "      <td>11.0</td>\n",
       "      <td>276.0</td>\n",
       "      <td>5.0</td>\n",
       "      <td>1.0</td>\n",
       "      <td>402.0</td>\n",
       "      <td>5.0</td>\n",
       "      <td>001-GREENBUSH TOWNSHIP</td>\n",
       "      <td>WP-001-34820-00001</td>\n",
       "    </tr>\n",
       "    <tr>\n",
       "      <th>4</th>\n",
       "      <td>001-GUSTIN TOWNSHIP-0-0001</td>\n",
       "      <td>80.0</td>\n",
       "      <td>3.0</td>\n",
       "      <td>2.0</td>\n",
       "      <td>208.0</td>\n",
       "      <td>9.0</td>\n",
       "      <td>104.0</td>\n",
       "      <td>2.0</td>\n",
       "      <td>3.0</td>\n",
       "      <td>2.0</td>\n",
       "      <td>...</td>\n",
       "      <td>17.0</td>\n",
       "      <td>7.0</td>\n",
       "      <td>11.0</td>\n",
       "      <td>98.0</td>\n",
       "      <td>5.0</td>\n",
       "      <td>0.0</td>\n",
       "      <td>201.0</td>\n",
       "      <td>4.0</td>\n",
       "      <td>001-GUSTIN TOWNSHIP</td>\n",
       "      <td>WP-001-35740-00001</td>\n",
       "    </tr>\n",
       "  </tbody>\n",
       "</table>\n",
       "<p>5 rows × 62 columns</p>\n",
       "</div>"
      ],
      "text/plain": [
       "vest                     precinct_2  G18ATGDNES  G18ATGIGAR  G18ATGLGIO  \\\n",
       "0        001-ALCONA TOWNSHIP-0-0001       207.0         8.0         6.0   \n",
       "1     001-CALEDONIA TOWNSHIP-0-0001       179.0         5.0         8.0   \n",
       "2        001-CURTIS TOWNSHIP-0-0001       189.0        15.0         9.0   \n",
       "3     001-GREENBUSH TOWNSHIP-0-0001       237.0         8.0        13.0   \n",
       "4        001-GUSTIN TOWNSHIP-0-0001        80.0         3.0         2.0   \n",
       "\n",
       "vest  G18ATGRLEO  G18ATGTVAN  G18GOVDWHI  G18GOVGKUR  G18GOVLGEL  G18GOVNBUT  \\\n",
       "0          440.0         4.0       242.0         9.0         4.0         1.0   \n",
       "1          372.0         4.0       210.0         3.0         2.0         2.0   \n",
       "2          339.0         6.0       234.0         7.0         5.0         1.0   \n",
       "3          411.0         8.0       263.0         4.0         6.0         5.0   \n",
       "4          208.0         9.0       104.0         2.0         3.0         2.0   \n",
       "\n",
       "vest  ...  G18UBRTSCH  G18UBRTSOS  G18UBRTVAN  G18USSDSTA  G18USSGSQU  \\\n",
       "0     ...        19.0         9.0        14.0       233.0         6.0   \n",
       "1     ...        24.0        11.0        15.0       209.0         1.0   \n",
       "2     ...        29.0        16.0        18.0       227.0         6.0   \n",
       "3     ...        20.0        12.0        11.0       276.0         5.0   \n",
       "4     ...        17.0         7.0        11.0        98.0         5.0   \n",
       "\n",
       "vest  G18USSNWIL  G18USSRJAM  G18USSTHUF           county_w_name  \\\n",
       "0            1.0       439.0         3.0     001-ALCONA TOWNSHIP   \n",
       "1            1.0       371.0         0.0  001-CALEDONIA TOWNSHIP   \n",
       "2            2.0       332.0         5.0     001-CURTIS TOWNSHIP   \n",
       "3            1.0       402.0         5.0  001-GREENBUSH TOWNSHIP   \n",
       "4            0.0       201.0         4.0     001-GUSTIN TOWNSHIP   \n",
       "\n",
       "vest          PRECINCTID  \n",
       "0     WP-001-01040-00001  \n",
       "1     WP-001-12460-00001  \n",
       "2     WP-001-19320-00001  \n",
       "3     WP-001-34820-00001  \n",
       "4     WP-001-35740-00001  \n",
       "\n",
       "[5 rows x 62 columns]"
      ]
     },
     "execution_count": 169,
     "metadata": {},
     "output_type": "execute_result"
    }
   ],
   "source": [
    "dfpprecid = 'WP-' + dfp['precinct_2'].str.slice(stop = 4) + dfpmcd + '-' + dfp['precinct_2'].str.slice(start = -6, stop = -5) + dfp['precinct_2'].str.slice(start = -4)\n",
    "dfp['PRECINCTID'] = dfpprecid\n",
    "dfp.head()"
   ]
  },
  {
   "cell_type": "code",
   "execution_count": 170,
   "metadata": {},
   "outputs": [],
   "source": [
    "difference = set(shp['PRECINCTID']) - set(dfp['PRECINCTID'])"
   ]
  },
  {
   "cell_type": "code",
   "execution_count": 171,
   "metadata": {},
   "outputs": [
    {
     "data": {
      "text/plain": [
       "2093"
      ]
     },
     "execution_count": 171,
     "metadata": {},
     "output_type": "execute_result"
    }
   ],
   "source": [
    "len(difference)"
   ]
  },
  {
   "cell_type": "markdown",
   "metadata": {},
   "source": [
    "### Addressing the vote merges mentioned in VEST's documentation"
   ]
  },
  {
   "cell_type": "code",
   "execution_count": 175,
   "metadata": {},
   "outputs": [],
   "source": [
    "#in df, need to merge results for Detroit 125 and detroit 494 based on states shapefile based on VEST documentation\n",
    "p125 = dfp[dfp['precinct_2'].str.slice(start = -3) == '125']"
   ]
  },
  {
   "cell_type": "code",
   "execution_count": 173,
   "metadata": {},
   "outputs": [
    {
     "data": {
      "text/html": [
       "<div>\n",
       "<style scoped>\n",
       "    .dataframe tbody tr th:only-of-type {\n",
       "        vertical-align: middle;\n",
       "    }\n",
       "\n",
       "    .dataframe tbody tr th {\n",
       "        vertical-align: top;\n",
       "    }\n",
       "\n",
       "    .dataframe thead th {\n",
       "        text-align: right;\n",
       "    }\n",
       "</style>\n",
       "<table border=\"1\" class=\"dataframe\">\n",
       "  <thead>\n",
       "    <tr style=\"text-align: right;\">\n",
       "      <th>vest</th>\n",
       "      <th>precinct_2</th>\n",
       "      <th>G18ATGDNES</th>\n",
       "      <th>G18ATGIGAR</th>\n",
       "      <th>G18ATGLGIO</th>\n",
       "      <th>G18ATGRLEO</th>\n",
       "      <th>G18ATGTVAN</th>\n",
       "      <th>G18GOVDWHI</th>\n",
       "      <th>G18GOVGKUR</th>\n",
       "      <th>G18GOVLGEL</th>\n",
       "      <th>G18GOVNBUT</th>\n",
       "      <th>...</th>\n",
       "      <th>G18UBRTSCH</th>\n",
       "      <th>G18UBRTSOS</th>\n",
       "      <th>G18UBRTVAN</th>\n",
       "      <th>G18USSDSTA</th>\n",
       "      <th>G18USSGSQU</th>\n",
       "      <th>G18USSNWIL</th>\n",
       "      <th>G18USSRJAM</th>\n",
       "      <th>G18USSTHUF</th>\n",
       "      <th>county_w_name</th>\n",
       "      <th>PRECINCTID</th>\n",
       "    </tr>\n",
       "  </thead>\n",
       "  <tbody>\n",
       "    <tr>\n",
       "      <th>4113</th>\n",
       "      <td>163-DETROIT CITY-0-0125</td>\n",
       "      <td>278.0</td>\n",
       "      <td>1.0</td>\n",
       "      <td>4.0</td>\n",
       "      <td>14.0</td>\n",
       "      <td>1.0</td>\n",
       "      <td>297.0</td>\n",
       "      <td>3.0</td>\n",
       "      <td>0.0</td>\n",
       "      <td>1.0</td>\n",
       "      <td>...</td>\n",
       "      <td>4.0</td>\n",
       "      <td>3.0</td>\n",
       "      <td>7.0</td>\n",
       "      <td>287.0</td>\n",
       "      <td>3.0</td>\n",
       "      <td>1.0</td>\n",
       "      <td>15.0</td>\n",
       "      <td>2.0</td>\n",
       "      <td>163-DETROIT CITY</td>\n",
       "      <td>WP-163-22000-00125</td>\n",
       "    </tr>\n",
       "  </tbody>\n",
       "</table>\n",
       "<p>1 rows × 62 columns</p>\n",
       "</div>"
      ],
      "text/plain": [
       "vest               precinct_2  G18ATGDNES  G18ATGIGAR  G18ATGLGIO  G18ATGRLEO  \\\n",
       "4113  163-DETROIT CITY-0-0125       278.0         1.0         4.0        14.0   \n",
       "\n",
       "vest  G18ATGTVAN  G18GOVDWHI  G18GOVGKUR  G18GOVLGEL  G18GOVNBUT  ...  \\\n",
       "4113         1.0       297.0         3.0         0.0         1.0  ...   \n",
       "\n",
       "vest  G18UBRTSCH  G18UBRTSOS  G18UBRTVAN  G18USSDSTA  G18USSGSQU  G18USSNWIL  \\\n",
       "4113         4.0         3.0         7.0       287.0         3.0         1.0   \n",
       "\n",
       "vest  G18USSRJAM  G18USSTHUF     county_w_name          PRECINCTID  \n",
       "4113        15.0         2.0  163-DETROIT CITY  WP-163-22000-00125  \n",
       "\n",
       "[1 rows x 62 columns]"
      ]
     },
     "execution_count": 173,
     "metadata": {},
     "output_type": "execute_result"
    }
   ],
   "source": [
    "p125"
   ]
  },
  {
   "cell_type": "code",
   "execution_count": 176,
   "metadata": {},
   "outputs": [],
   "source": [
    "column_List = ['G18ATGDNES', 'G18ATGIGAR', 'G18ATGLGIO', 'G18ATGRLEO',\n",
    "       'G18ATGTVAN', 'G18GOVDWHI', 'G18GOVGKUR', 'G18GOVLGEL', 'G18GOVNBUT',\n",
    "       'G18GOVRSCH', 'G18GOVTSCH', 'G18SBEDPRI', 'G18SBEDTIL', 'G18SBEGWEL',\n",
    "       'G18SBELBOM', 'G18SBELTAT', 'G18SBERCAR', 'G18SBERZEI', 'G18SBETADA',\n",
    "       'G18SBETLEV', 'G18SBEWHER', 'G18SBEWSMI', 'G18SOSDBEN', 'G18SOSLSTE',\n",
    "       'G18SOSRLAN', 'G18SOSTGAL', 'G18UBRDACK', 'G18UBRDBAR', 'G18UBRDBRO',\n",
    "       'G18UBRDKUM', 'G18UBRDSCO', 'G18UBRDTEB', 'G18UBRGGRA', 'G18UBRGMAR',\n",
    "       'G18UBRLCAM', 'G18UBRLELG', 'G18UBRLHAR', 'G18UBRLHUD', 'G18UBRLJAS',\n",
    "       'G18UBRLORZ', 'G18UBRNABR', 'G18UBRNSAL', 'G18UBRRDUN', 'G18UBRRDUT',\n",
    "       'G18UBRRMIL', 'G18UBRRNEW', 'G18UBRRNIC', 'G18UBRRRIC', 'G18UBRTSA1',\n",
    "       'G18UBRTSA2', 'G18UBRTSAN', 'G18UBRTSCH', 'G18UBRTSOS', 'G18UBRTVAN',\n",
    "       'G18USSDSTA', 'G18USSGSQU', 'G18USSNWIL', 'G18USSRJAM', 'G18USSTHUF']"
   ]
  },
  {
   "cell_type": "markdown",
   "metadata": {},
   "source": [
    "Create dataframe with just the two rows to execute needed change, then add in to dfp"
   ]
  },
  {
   "cell_type": "code",
   "execution_count": 177,
   "metadata": {},
   "outputs": [],
   "source": [
    "p125 = dfp[dfp['precinct_2'] == '163-DETROIT CITY-0-0125'] #[column_List]\n",
    "p494 = dfp[dfp['precinct_2'] == '163-DETROIT CITY-0-0494']\n",
    "\n",
    "dfp125_494 = p125.append(p494)"
   ]
  },
  {
   "cell_type": "markdown",
   "metadata": {},
   "source": [
    "Replaces the values in 494 with the sum of 494 and 125"
   ]
  },
  {
   "cell_type": "code",
   "execution_count": 178,
   "metadata": {},
   "outputs": [],
   "source": [
    "s494 = dfp125_494[column_List].sum(axis = 0)\n",
    "for col in column_List:\n",
    "    dfp.loc[dfp.precinct_2=='163-DETROIT CITY-0-0494', col] = s494[col]"
   ]
  },
  {
   "cell_type": "code",
   "execution_count": 179,
   "metadata": {},
   "outputs": [],
   "source": [
    "#Remove the original 125 that was just merged into 494\n",
    "dfp = dfp[~(dfp.precinct_2 == '163-DETROIT CITY-0-0125')]"
   ]
  },
  {
   "cell_type": "markdown",
   "metadata": {},
   "source": [
    "In addition, from VEST's documentation, Oakland County (county fips 125) Fenton precinct 2 merged with Genesee County's (county fips 49) Fenton precinct 2 as per VEST documentation. Does not explain why."
   ]
  },
  {
   "cell_type": "code",
   "execution_count": 180,
   "metadata": {},
   "outputs": [
    {
     "data": {
      "text/html": [
       "<div>\n",
       "<style scoped>\n",
       "    .dataframe tbody tr th:only-of-type {\n",
       "        vertical-align: middle;\n",
       "    }\n",
       "\n",
       "    .dataframe tbody tr th {\n",
       "        vertical-align: top;\n",
       "    }\n",
       "\n",
       "    .dataframe thead th {\n",
       "        text-align: right;\n",
       "    }\n",
       "</style>\n",
       "<table border=\"1\" class=\"dataframe\">\n",
       "  <thead>\n",
       "    <tr style=\"text-align: right;\">\n",
       "      <th>vest</th>\n",
       "      <th>precinct_2</th>\n",
       "      <th>G18ATGDNES</th>\n",
       "      <th>G18ATGIGAR</th>\n",
       "      <th>G18ATGLGIO</th>\n",
       "      <th>G18ATGRLEO</th>\n",
       "      <th>G18ATGTVAN</th>\n",
       "      <th>G18GOVDWHI</th>\n",
       "      <th>G18GOVGKUR</th>\n",
       "      <th>G18GOVLGEL</th>\n",
       "      <th>G18GOVNBUT</th>\n",
       "      <th>...</th>\n",
       "      <th>G18UBRTSCH</th>\n",
       "      <th>G18UBRTSOS</th>\n",
       "      <th>G18UBRTVAN</th>\n",
       "      <th>G18USSDSTA</th>\n",
       "      <th>G18USSGSQU</th>\n",
       "      <th>G18USSNWIL</th>\n",
       "      <th>G18USSRJAM</th>\n",
       "      <th>G18USSTHUF</th>\n",
       "      <th>county_w_name</th>\n",
       "      <th>PRECINCTID</th>\n",
       "    </tr>\n",
       "  </thead>\n",
       "  <tbody>\n",
       "    <tr>\n",
       "      <th>658</th>\n",
       "      <td>049-FENTON CITY-0-0001</td>\n",
       "      <td>475.0</td>\n",
       "      <td>26.0</td>\n",
       "      <td>31.0</td>\n",
       "      <td>513.0</td>\n",
       "      <td>9.0</td>\n",
       "      <td>540.0</td>\n",
       "      <td>11.0</td>\n",
       "      <td>23.0</td>\n",
       "      <td>3.0</td>\n",
       "      <td>...</td>\n",
       "      <td>33.0</td>\n",
       "      <td>15.0</td>\n",
       "      <td>21.0</td>\n",
       "      <td>500.0</td>\n",
       "      <td>13.0</td>\n",
       "      <td>4.0</td>\n",
       "      <td>549.0</td>\n",
       "      <td>11.0</td>\n",
       "      <td>049-FENTON CITY</td>\n",
       "      <td>WP-049-27760-00001</td>\n",
       "    </tr>\n",
       "    <tr>\n",
       "      <th>659</th>\n",
       "      <td>049-FENTON CITY-0-0002</td>\n",
       "      <td>490.0</td>\n",
       "      <td>15.0</td>\n",
       "      <td>23.0</td>\n",
       "      <td>570.0</td>\n",
       "      <td>12.0</td>\n",
       "      <td>544.0</td>\n",
       "      <td>12.0</td>\n",
       "      <td>14.0</td>\n",
       "      <td>4.0</td>\n",
       "      <td>...</td>\n",
       "      <td>34.0</td>\n",
       "      <td>16.0</td>\n",
       "      <td>24.0</td>\n",
       "      <td>522.0</td>\n",
       "      <td>16.0</td>\n",
       "      <td>3.0</td>\n",
       "      <td>580.0</td>\n",
       "      <td>7.0</td>\n",
       "      <td>049-FENTON CITY</td>\n",
       "      <td>WP-049-27760-00002</td>\n",
       "    </tr>\n",
       "    <tr>\n",
       "      <th>660</th>\n",
       "      <td>049-FENTON CITY-0-0003</td>\n",
       "      <td>411.0</td>\n",
       "      <td>20.0</td>\n",
       "      <td>17.0</td>\n",
       "      <td>424.0</td>\n",
       "      <td>12.0</td>\n",
       "      <td>482.0</td>\n",
       "      <td>3.0</td>\n",
       "      <td>15.0</td>\n",
       "      <td>1.0</td>\n",
       "      <td>...</td>\n",
       "      <td>27.0</td>\n",
       "      <td>14.0</td>\n",
       "      <td>16.0</td>\n",
       "      <td>451.0</td>\n",
       "      <td>6.0</td>\n",
       "      <td>0.0</td>\n",
       "      <td>444.0</td>\n",
       "      <td>2.0</td>\n",
       "      <td>049-FENTON CITY</td>\n",
       "      <td>WP-049-27760-00003</td>\n",
       "    </tr>\n",
       "    <tr>\n",
       "      <th>661</th>\n",
       "      <td>049-FENTON CITY-0-0004</td>\n",
       "      <td>439.0</td>\n",
       "      <td>19.0</td>\n",
       "      <td>21.0</td>\n",
       "      <td>531.0</td>\n",
       "      <td>13.0</td>\n",
       "      <td>492.0</td>\n",
       "      <td>10.0</td>\n",
       "      <td>15.0</td>\n",
       "      <td>4.0</td>\n",
       "      <td>...</td>\n",
       "      <td>35.0</td>\n",
       "      <td>16.0</td>\n",
       "      <td>29.0</td>\n",
       "      <td>457.0</td>\n",
       "      <td>18.0</td>\n",
       "      <td>2.0</td>\n",
       "      <td>565.0</td>\n",
       "      <td>11.0</td>\n",
       "      <td>049-FENTON CITY</td>\n",
       "      <td>WP-049-27760-00004</td>\n",
       "    </tr>\n",
       "    <tr>\n",
       "      <th>662</th>\n",
       "      <td>049-FENTON CITY-0-0005</td>\n",
       "      <td>362.0</td>\n",
       "      <td>20.0</td>\n",
       "      <td>38.0</td>\n",
       "      <td>445.0</td>\n",
       "      <td>14.0</td>\n",
       "      <td>418.0</td>\n",
       "      <td>13.0</td>\n",
       "      <td>34.0</td>\n",
       "      <td>3.0</td>\n",
       "      <td>...</td>\n",
       "      <td>28.0</td>\n",
       "      <td>11.0</td>\n",
       "      <td>31.0</td>\n",
       "      <td>399.0</td>\n",
       "      <td>16.0</td>\n",
       "      <td>5.0</td>\n",
       "      <td>472.0</td>\n",
       "      <td>7.0</td>\n",
       "      <td>049-FENTON CITY</td>\n",
       "      <td>WP-049-27760-00005</td>\n",
       "    </tr>\n",
       "    <tr>\n",
       "      <th>2706</th>\n",
       "      <td>125-FENTON CITY-0-0002</td>\n",
       "      <td>2.0</td>\n",
       "      <td>0.0</td>\n",
       "      <td>0.0</td>\n",
       "      <td>10.0</td>\n",
       "      <td>0.0</td>\n",
       "      <td>4.0</td>\n",
       "      <td>0.0</td>\n",
       "      <td>0.0</td>\n",
       "      <td>0.0</td>\n",
       "      <td>...</td>\n",
       "      <td>1.0</td>\n",
       "      <td>1.0</td>\n",
       "      <td>0.0</td>\n",
       "      <td>3.0</td>\n",
       "      <td>0.0</td>\n",
       "      <td>0.0</td>\n",
       "      <td>9.0</td>\n",
       "      <td>0.0</td>\n",
       "      <td>125-FENTON CITY</td>\n",
       "      <td>WP-125-27760-00002</td>\n",
       "    </tr>\n",
       "  </tbody>\n",
       "</table>\n",
       "<p>6 rows × 62 columns</p>\n",
       "</div>"
      ],
      "text/plain": [
       "vest              precinct_2  G18ATGDNES  G18ATGIGAR  G18ATGLGIO  G18ATGRLEO  \\\n",
       "658   049-FENTON CITY-0-0001       475.0        26.0        31.0       513.0   \n",
       "659   049-FENTON CITY-0-0002       490.0        15.0        23.0       570.0   \n",
       "660   049-FENTON CITY-0-0003       411.0        20.0        17.0       424.0   \n",
       "661   049-FENTON CITY-0-0004       439.0        19.0        21.0       531.0   \n",
       "662   049-FENTON CITY-0-0005       362.0        20.0        38.0       445.0   \n",
       "2706  125-FENTON CITY-0-0002         2.0         0.0         0.0        10.0   \n",
       "\n",
       "vest  G18ATGTVAN  G18GOVDWHI  G18GOVGKUR  G18GOVLGEL  G18GOVNBUT  ...  \\\n",
       "658          9.0       540.0        11.0        23.0         3.0  ...   \n",
       "659         12.0       544.0        12.0        14.0         4.0  ...   \n",
       "660         12.0       482.0         3.0        15.0         1.0  ...   \n",
       "661         13.0       492.0        10.0        15.0         4.0  ...   \n",
       "662         14.0       418.0        13.0        34.0         3.0  ...   \n",
       "2706         0.0         4.0         0.0         0.0         0.0  ...   \n",
       "\n",
       "vest  G18UBRTSCH  G18UBRTSOS  G18UBRTVAN  G18USSDSTA  G18USSGSQU  G18USSNWIL  \\\n",
       "658         33.0        15.0        21.0       500.0        13.0         4.0   \n",
       "659         34.0        16.0        24.0       522.0        16.0         3.0   \n",
       "660         27.0        14.0        16.0       451.0         6.0         0.0   \n",
       "661         35.0        16.0        29.0       457.0        18.0         2.0   \n",
       "662         28.0        11.0        31.0       399.0        16.0         5.0   \n",
       "2706         1.0         1.0         0.0         3.0         0.0         0.0   \n",
       "\n",
       "vest  G18USSRJAM  G18USSTHUF    county_w_name          PRECINCTID  \n",
       "658        549.0        11.0  049-FENTON CITY  WP-049-27760-00001  \n",
       "659        580.0         7.0  049-FENTON CITY  WP-049-27760-00002  \n",
       "660        444.0         2.0  049-FENTON CITY  WP-049-27760-00003  \n",
       "661        565.0        11.0  049-FENTON CITY  WP-049-27760-00004  \n",
       "662        472.0         7.0  049-FENTON CITY  WP-049-27760-00005  \n",
       "2706         9.0         0.0  125-FENTON CITY  WP-125-27760-00002  \n",
       "\n",
       "[6 rows x 62 columns]"
      ]
     },
     "execution_count": 180,
     "metadata": {},
     "output_type": "execute_result"
    }
   ],
   "source": [
    "dfp[dfp.precinct_2.str.slice(start = 4, stop = -7) == 'FENTON CITY']"
   ]
  },
  {
   "cell_type": "code",
   "execution_count": 182,
   "metadata": {},
   "outputs": [],
   "source": [
    "#Apply same process as above\n",
    "p49_2 = dfp[dfp['precinct_2'] == '049-FENTON CITY-0-0002'] \n",
    "p125_2 = dfp[dfp['precinct_2'] == '125-FENTON CITY-0-0002']\n",
    "p49_125_2 = p49_2.append(p125_2)"
   ]
  },
  {
   "cell_type": "code",
   "execution_count": 184,
   "metadata": {},
   "outputs": [],
   "source": [
    "#Replace county 49 fenton city with 49 summed with 125\n",
    "s049 = p49_125_2[column_List].sum(axis = 0)\n",
    "for col in column_List:\n",
    "    dfp.loc[dfp.precinct_2=='049-FENTON CITY-0-0002', col] = s049[col]"
   ]
  },
  {
   "cell_type": "code",
   "execution_count": 185,
   "metadata": {},
   "outputs": [],
   "source": [
    "#Remove county 125 from df\n",
    "dfp = dfp[~(dfp.precinct_2 == '125-FENTON CITY-0-0002')]"
   ]
  },
  {
   "cell_type": "code",
   "execution_count": 186,
   "metadata": {},
   "outputs": [
    {
     "data": {
      "text/html": [
       "<div>\n",
       "<style scoped>\n",
       "    .dataframe tbody tr th:only-of-type {\n",
       "        vertical-align: middle;\n",
       "    }\n",
       "\n",
       "    .dataframe tbody tr th {\n",
       "        vertical-align: top;\n",
       "    }\n",
       "\n",
       "    .dataframe thead th {\n",
       "        text-align: right;\n",
       "    }\n",
       "</style>\n",
       "<table border=\"1\" class=\"dataframe\">\n",
       "  <thead>\n",
       "    <tr style=\"text-align: right;\">\n",
       "      <th>vest</th>\n",
       "      <th>precinct_2</th>\n",
       "      <th>G18ATGDNES</th>\n",
       "      <th>G18ATGIGAR</th>\n",
       "      <th>G18ATGLGIO</th>\n",
       "      <th>G18ATGRLEO</th>\n",
       "      <th>G18ATGTVAN</th>\n",
       "      <th>G18GOVDWHI</th>\n",
       "      <th>G18GOVGKUR</th>\n",
       "      <th>G18GOVLGEL</th>\n",
       "      <th>G18GOVNBUT</th>\n",
       "      <th>...</th>\n",
       "      <th>G18UBRTSCH</th>\n",
       "      <th>G18UBRTSOS</th>\n",
       "      <th>G18UBRTVAN</th>\n",
       "      <th>G18USSDSTA</th>\n",
       "      <th>G18USSGSQU</th>\n",
       "      <th>G18USSNWIL</th>\n",
       "      <th>G18USSRJAM</th>\n",
       "      <th>G18USSTHUF</th>\n",
       "      <th>county_w_name</th>\n",
       "      <th>PRECINCTID</th>\n",
       "    </tr>\n",
       "  </thead>\n",
       "  <tbody>\n",
       "    <tr>\n",
       "      <th>658</th>\n",
       "      <td>049-FENTON CITY-0-0001</td>\n",
       "      <td>475.0</td>\n",
       "      <td>26.0</td>\n",
       "      <td>31.0</td>\n",
       "      <td>513.0</td>\n",
       "      <td>9.0</td>\n",
       "      <td>540.0</td>\n",
       "      <td>11.0</td>\n",
       "      <td>23.0</td>\n",
       "      <td>3.0</td>\n",
       "      <td>...</td>\n",
       "      <td>33.0</td>\n",
       "      <td>15.0</td>\n",
       "      <td>21.0</td>\n",
       "      <td>500.0</td>\n",
       "      <td>13.0</td>\n",
       "      <td>4.0</td>\n",
       "      <td>549.0</td>\n",
       "      <td>11.0</td>\n",
       "      <td>049-FENTON CITY</td>\n",
       "      <td>WP-049-27760-00001</td>\n",
       "    </tr>\n",
       "    <tr>\n",
       "      <th>659</th>\n",
       "      <td>049-FENTON CITY-0-0002</td>\n",
       "      <td>492.0</td>\n",
       "      <td>15.0</td>\n",
       "      <td>23.0</td>\n",
       "      <td>580.0</td>\n",
       "      <td>12.0</td>\n",
       "      <td>548.0</td>\n",
       "      <td>12.0</td>\n",
       "      <td>14.0</td>\n",
       "      <td>4.0</td>\n",
       "      <td>...</td>\n",
       "      <td>35.0</td>\n",
       "      <td>17.0</td>\n",
       "      <td>24.0</td>\n",
       "      <td>525.0</td>\n",
       "      <td>16.0</td>\n",
       "      <td>3.0</td>\n",
       "      <td>589.0</td>\n",
       "      <td>7.0</td>\n",
       "      <td>049-FENTON CITY</td>\n",
       "      <td>WP-049-27760-00002</td>\n",
       "    </tr>\n",
       "    <tr>\n",
       "      <th>660</th>\n",
       "      <td>049-FENTON CITY-0-0003</td>\n",
       "      <td>411.0</td>\n",
       "      <td>20.0</td>\n",
       "      <td>17.0</td>\n",
       "      <td>424.0</td>\n",
       "      <td>12.0</td>\n",
       "      <td>482.0</td>\n",
       "      <td>3.0</td>\n",
       "      <td>15.0</td>\n",
       "      <td>1.0</td>\n",
       "      <td>...</td>\n",
       "      <td>27.0</td>\n",
       "      <td>14.0</td>\n",
       "      <td>16.0</td>\n",
       "      <td>451.0</td>\n",
       "      <td>6.0</td>\n",
       "      <td>0.0</td>\n",
       "      <td>444.0</td>\n",
       "      <td>2.0</td>\n",
       "      <td>049-FENTON CITY</td>\n",
       "      <td>WP-049-27760-00003</td>\n",
       "    </tr>\n",
       "    <tr>\n",
       "      <th>661</th>\n",
       "      <td>049-FENTON CITY-0-0004</td>\n",
       "      <td>439.0</td>\n",
       "      <td>19.0</td>\n",
       "      <td>21.0</td>\n",
       "      <td>531.0</td>\n",
       "      <td>13.0</td>\n",
       "      <td>492.0</td>\n",
       "      <td>10.0</td>\n",
       "      <td>15.0</td>\n",
       "      <td>4.0</td>\n",
       "      <td>...</td>\n",
       "      <td>35.0</td>\n",
       "      <td>16.0</td>\n",
       "      <td>29.0</td>\n",
       "      <td>457.0</td>\n",
       "      <td>18.0</td>\n",
       "      <td>2.0</td>\n",
       "      <td>565.0</td>\n",
       "      <td>11.0</td>\n",
       "      <td>049-FENTON CITY</td>\n",
       "      <td>WP-049-27760-00004</td>\n",
       "    </tr>\n",
       "    <tr>\n",
       "      <th>662</th>\n",
       "      <td>049-FENTON CITY-0-0005</td>\n",
       "      <td>362.0</td>\n",
       "      <td>20.0</td>\n",
       "      <td>38.0</td>\n",
       "      <td>445.0</td>\n",
       "      <td>14.0</td>\n",
       "      <td>418.0</td>\n",
       "      <td>13.0</td>\n",
       "      <td>34.0</td>\n",
       "      <td>3.0</td>\n",
       "      <td>...</td>\n",
       "      <td>28.0</td>\n",
       "      <td>11.0</td>\n",
       "      <td>31.0</td>\n",
       "      <td>399.0</td>\n",
       "      <td>16.0</td>\n",
       "      <td>5.0</td>\n",
       "      <td>472.0</td>\n",
       "      <td>7.0</td>\n",
       "      <td>049-FENTON CITY</td>\n",
       "      <td>WP-049-27760-00005</td>\n",
       "    </tr>\n",
       "  </tbody>\n",
       "</table>\n",
       "<p>5 rows × 62 columns</p>\n",
       "</div>"
      ],
      "text/plain": [
       "vest              precinct_2  G18ATGDNES  G18ATGIGAR  G18ATGLGIO  G18ATGRLEO  \\\n",
       "658   049-FENTON CITY-0-0001       475.0        26.0        31.0       513.0   \n",
       "659   049-FENTON CITY-0-0002       492.0        15.0        23.0       580.0   \n",
       "660   049-FENTON CITY-0-0003       411.0        20.0        17.0       424.0   \n",
       "661   049-FENTON CITY-0-0004       439.0        19.0        21.0       531.0   \n",
       "662   049-FENTON CITY-0-0005       362.0        20.0        38.0       445.0   \n",
       "\n",
       "vest  G18ATGTVAN  G18GOVDWHI  G18GOVGKUR  G18GOVLGEL  G18GOVNBUT  ...  \\\n",
       "658          9.0       540.0        11.0        23.0         3.0  ...   \n",
       "659         12.0       548.0        12.0        14.0         4.0  ...   \n",
       "660         12.0       482.0         3.0        15.0         1.0  ...   \n",
       "661         13.0       492.0        10.0        15.0         4.0  ...   \n",
       "662         14.0       418.0        13.0        34.0         3.0  ...   \n",
       "\n",
       "vest  G18UBRTSCH  G18UBRTSOS  G18UBRTVAN  G18USSDSTA  G18USSGSQU  G18USSNWIL  \\\n",
       "658         33.0        15.0        21.0       500.0        13.0         4.0   \n",
       "659         35.0        17.0        24.0       525.0        16.0         3.0   \n",
       "660         27.0        14.0        16.0       451.0         6.0         0.0   \n",
       "661         35.0        16.0        29.0       457.0        18.0         2.0   \n",
       "662         28.0        11.0        31.0       399.0        16.0         5.0   \n",
       "\n",
       "vest  G18USSRJAM  G18USSTHUF    county_w_name          PRECINCTID  \n",
       "658        549.0        11.0  049-FENTON CITY  WP-049-27760-00001  \n",
       "659        589.0         7.0  049-FENTON CITY  WP-049-27760-00002  \n",
       "660        444.0         2.0  049-FENTON CITY  WP-049-27760-00003  \n",
       "661        565.0        11.0  049-FENTON CITY  WP-049-27760-00004  \n",
       "662        472.0         7.0  049-FENTON CITY  WP-049-27760-00005  \n",
       "\n",
       "[5 rows x 62 columns]"
      ]
     },
     "execution_count": 186,
     "metadata": {},
     "output_type": "execute_result"
    }
   ],
   "source": [
    "#See that it worked\n",
    "dfp[dfp.precinct_2.str.slice(start = 4, stop = -7) == 'FENTON CITY']"
   ]
  },
  {
   "cell_type": "markdown",
   "metadata": {},
   "source": [
    "Also from VEST's documentation, St. Clair County's Richmond precinct 1 results merged into Macomb County's Richmond precinct 1. Does not explain why."
   ]
  },
  {
   "cell_type": "code",
   "execution_count": 233,
   "metadata": {},
   "outputs": [],
   "source": [
    "p147_1 = dfp[(dfp.precinct_2.str.slice(stop = 12) == '147-RICHMOND') & (dfp.precinct_2.str.slice(start = -1) == '1')]\n",
    "\n",
    "p99_1 = dfp[(dfp.precinct_2.str.slice(stop = 12) == '099-RICHMOND') & (dfp.precinct_2.str.slice(start = -1) == '1')]"
   ]
  },
  {
   "cell_type": "code",
   "execution_count": 235,
   "metadata": {},
   "outputs": [
    {
     "data": {
      "text/html": [
       "<div>\n",
       "<style scoped>\n",
       "    .dataframe tbody tr th:only-of-type {\n",
       "        vertical-align: middle;\n",
       "    }\n",
       "\n",
       "    .dataframe tbody tr th {\n",
       "        vertical-align: top;\n",
       "    }\n",
       "\n",
       "    .dataframe thead th {\n",
       "        text-align: right;\n",
       "    }\n",
       "</style>\n",
       "<table border=\"1\" class=\"dataframe\">\n",
       "  <thead>\n",
       "    <tr style=\"text-align: right;\">\n",
       "      <th>vest</th>\n",
       "      <th>precinct_2</th>\n",
       "      <th>G18ATGDNES</th>\n",
       "      <th>G18ATGIGAR</th>\n",
       "      <th>G18ATGLGIO</th>\n",
       "      <th>G18ATGRLEO</th>\n",
       "      <th>G18ATGTVAN</th>\n",
       "      <th>G18GOVDWHI</th>\n",
       "      <th>G18GOVGKUR</th>\n",
       "      <th>G18GOVLGEL</th>\n",
       "      <th>G18GOVNBUT</th>\n",
       "      <th>...</th>\n",
       "      <th>G18UBRTSCH</th>\n",
       "      <th>G18UBRTSOS</th>\n",
       "      <th>G18UBRTVAN</th>\n",
       "      <th>G18USSDSTA</th>\n",
       "      <th>G18USSGSQU</th>\n",
       "      <th>G18USSNWIL</th>\n",
       "      <th>G18USSRJAM</th>\n",
       "      <th>G18USSTHUF</th>\n",
       "      <th>county_w_name</th>\n",
       "      <th>PRECINCTID</th>\n",
       "    </tr>\n",
       "  </thead>\n",
       "  <tbody>\n",
       "    <tr>\n",
       "      <th>3511</th>\n",
       "      <td>147-RICHMOND CITY-0-0001</td>\n",
       "      <td>0</td>\n",
       "      <td>0</td>\n",
       "      <td>0</td>\n",
       "      <td>1</td>\n",
       "      <td>0</td>\n",
       "      <td>0</td>\n",
       "      <td>0</td>\n",
       "      <td>0</td>\n",
       "      <td>0</td>\n",
       "      <td>...</td>\n",
       "      <td>0</td>\n",
       "      <td>0</td>\n",
       "      <td>0</td>\n",
       "      <td>0</td>\n",
       "      <td>0</td>\n",
       "      <td>0</td>\n",
       "      <td>1</td>\n",
       "      <td>0</td>\n",
       "      <td>147-RICHMOND CITY</td>\n",
       "      <td>WP-147-68380-00001</td>\n",
       "    </tr>\n",
       "  </tbody>\n",
       "</table>\n",
       "<p>1 rows × 62 columns</p>\n",
       "</div>"
      ],
      "text/plain": [
       "vest                precinct_2  G18ATGDNES  G18ATGIGAR  G18ATGLGIO  \\\n",
       "3511  147-RICHMOND CITY-0-0001           0           0           0   \n",
       "\n",
       "vest  G18ATGRLEO  G18ATGTVAN  G18GOVDWHI  G18GOVGKUR  G18GOVLGEL  G18GOVNBUT  \\\n",
       "3511           1           0           0           0           0           0   \n",
       "\n",
       "vest  ...  G18UBRTSCH  G18UBRTSOS  G18UBRTVAN  G18USSDSTA  G18USSGSQU  \\\n",
       "3511  ...           0           0           0           0           0   \n",
       "\n",
       "vest  G18USSNWIL  G18USSRJAM  G18USSTHUF      county_w_name  \\\n",
       "3511           0           1           0  147-RICHMOND CITY   \n",
       "\n",
       "vest          PRECINCTID  \n",
       "3511  WP-147-68380-00001  \n",
       "\n",
       "[1 rows x 62 columns]"
      ]
     },
     "execution_count": 235,
     "metadata": {},
     "output_type": "execute_result"
    }
   ],
   "source": [
    "p147_1 #st clair"
   ]
  },
  {
   "cell_type": "code",
   "execution_count": 234,
   "metadata": {},
   "outputs": [
    {
     "data": {
      "text/html": [
       "<div>\n",
       "<style scoped>\n",
       "    .dataframe tbody tr th:only-of-type {\n",
       "        vertical-align: middle;\n",
       "    }\n",
       "\n",
       "    .dataframe tbody tr th {\n",
       "        vertical-align: top;\n",
       "    }\n",
       "\n",
       "    .dataframe thead th {\n",
       "        text-align: right;\n",
       "    }\n",
       "</style>\n",
       "<table border=\"1\" class=\"dataframe\">\n",
       "  <thead>\n",
       "    <tr style=\"text-align: right;\">\n",
       "      <th>vest</th>\n",
       "      <th>precinct_2</th>\n",
       "      <th>G18ATGDNES</th>\n",
       "      <th>G18ATGIGAR</th>\n",
       "      <th>G18ATGLGIO</th>\n",
       "      <th>G18ATGRLEO</th>\n",
       "      <th>G18ATGTVAN</th>\n",
       "      <th>G18GOVDWHI</th>\n",
       "      <th>G18GOVGKUR</th>\n",
       "      <th>G18GOVLGEL</th>\n",
       "      <th>G18GOVNBUT</th>\n",
       "      <th>...</th>\n",
       "      <th>G18UBRTSCH</th>\n",
       "      <th>G18UBRTSOS</th>\n",
       "      <th>G18UBRTVAN</th>\n",
       "      <th>G18USSDSTA</th>\n",
       "      <th>G18USSGSQU</th>\n",
       "      <th>G18USSNWIL</th>\n",
       "      <th>G18USSRJAM</th>\n",
       "      <th>G18USSTHUF</th>\n",
       "      <th>county_w_name</th>\n",
       "      <th>PRECINCTID</th>\n",
       "    </tr>\n",
       "  </thead>\n",
       "  <tbody>\n",
       "    <tr>\n",
       "      <th>2014</th>\n",
       "      <td>099-RICHMOND CITY-0-0001</td>\n",
       "      <td>462</td>\n",
       "      <td>16</td>\n",
       "      <td>28</td>\n",
       "      <td>817</td>\n",
       "      <td>13</td>\n",
       "      <td>550</td>\n",
       "      <td>11</td>\n",
       "      <td>24</td>\n",
       "      <td>5</td>\n",
       "      <td>...</td>\n",
       "      <td>58</td>\n",
       "      <td>27</td>\n",
       "      <td>43</td>\n",
       "      <td>563</td>\n",
       "      <td>13</td>\n",
       "      <td>7</td>\n",
       "      <td>787</td>\n",
       "      <td>9</td>\n",
       "      <td>099-RICHMOND CITY</td>\n",
       "      <td>WP-099-68380-00001</td>\n",
       "    </tr>\n",
       "    <tr>\n",
       "      <th>2016</th>\n",
       "      <td>099-RICHMOND TOWNSHIP-0-0001</td>\n",
       "      <td>184</td>\n",
       "      <td>11</td>\n",
       "      <td>15</td>\n",
       "      <td>548</td>\n",
       "      <td>9</td>\n",
       "      <td>236</td>\n",
       "      <td>3</td>\n",
       "      <td>9</td>\n",
       "      <td>4</td>\n",
       "      <td>...</td>\n",
       "      <td>28</td>\n",
       "      <td>19</td>\n",
       "      <td>20</td>\n",
       "      <td>210</td>\n",
       "      <td>2</td>\n",
       "      <td>3</td>\n",
       "      <td>570</td>\n",
       "      <td>4</td>\n",
       "      <td>099-RICHMOND TOWNSHIP</td>\n",
       "      <td>WP-099-68400-00001</td>\n",
       "    </tr>\n",
       "  </tbody>\n",
       "</table>\n",
       "<p>2 rows × 62 columns</p>\n",
       "</div>"
      ],
      "text/plain": [
       "vest                    precinct_2  G18ATGDNES  G18ATGIGAR  G18ATGLGIO  \\\n",
       "2014      099-RICHMOND CITY-0-0001         462          16          28   \n",
       "2016  099-RICHMOND TOWNSHIP-0-0001         184          11          15   \n",
       "\n",
       "vest  G18ATGRLEO  G18ATGTVAN  G18GOVDWHI  G18GOVGKUR  G18GOVLGEL  G18GOVNBUT  \\\n",
       "2014         817          13         550          11          24           5   \n",
       "2016         548           9         236           3           9           4   \n",
       "\n",
       "vest  ...  G18UBRTSCH  G18UBRTSOS  G18UBRTVAN  G18USSDSTA  G18USSGSQU  \\\n",
       "2014  ...          58          27          43         563          13   \n",
       "2016  ...          28          19          20         210           2   \n",
       "\n",
       "vest  G18USSNWIL  G18USSRJAM  G18USSTHUF          county_w_name  \\\n",
       "2014           7         787           9      099-RICHMOND CITY   \n",
       "2016           3         570           4  099-RICHMOND TOWNSHIP   \n",
       "\n",
       "vest          PRECINCTID  \n",
       "2014  WP-099-68380-00001  \n",
       "2016  WP-099-68400-00001  \n",
       "\n",
       "[2 rows x 62 columns]"
      ]
     },
     "execution_count": 234,
     "metadata": {},
     "output_type": "execute_result"
    }
   ],
   "source": [
    "p99_1 #macomb"
   ]
  },
  {
   "cell_type": "markdown",
   "metadata": {},
   "source": [
    "Because St. Clair's Richmond is \"Richmond City\" I take it that Macomb should be \"city\" as well - not twp. Use the same process as above to merge."
   ]
  },
  {
   "cell_type": "code",
   "execution_count": 238,
   "metadata": {},
   "outputs": [],
   "source": [
    "p99_147_1 = p99_1.append(p147_1)"
   ]
  },
  {
   "cell_type": "code",
   "execution_count": 239,
   "metadata": {},
   "outputs": [],
   "source": [
    "s99 = p99_147_1[column_List].sum(axis = 0)\n",
    "for col in column_List:\n",
    "    dfp.loc[dfp.precinct_2=='099-RICHMOND CITY-0-0001', col] = s99[col]"
   ]
  },
  {
   "cell_type": "code",
   "execution_count": 240,
   "metadata": {},
   "outputs": [],
   "source": [
    "dfp = dfp[~(dfp.precinct_2 == '147-RICHMOND CITY-0-0001')]"
   ]
  },
  {
   "cell_type": "code",
   "execution_count": 241,
   "metadata": {},
   "outputs": [
    {
     "data": {
      "text/html": [
       "<div>\n",
       "<style scoped>\n",
       "    .dataframe tbody tr th:only-of-type {\n",
       "        vertical-align: middle;\n",
       "    }\n",
       "\n",
       "    .dataframe tbody tr th {\n",
       "        vertical-align: top;\n",
       "    }\n",
       "\n",
       "    .dataframe thead th {\n",
       "        text-align: right;\n",
       "    }\n",
       "</style>\n",
       "<table border=\"1\" class=\"dataframe\">\n",
       "  <thead>\n",
       "    <tr style=\"text-align: right;\">\n",
       "      <th>vest</th>\n",
       "      <th>precinct_2</th>\n",
       "      <th>G18ATGDNES</th>\n",
       "      <th>G18ATGIGAR</th>\n",
       "      <th>G18ATGLGIO</th>\n",
       "      <th>G18ATGRLEO</th>\n",
       "      <th>G18ATGTVAN</th>\n",
       "      <th>G18GOVDWHI</th>\n",
       "      <th>G18GOVGKUR</th>\n",
       "      <th>G18GOVLGEL</th>\n",
       "      <th>G18GOVNBUT</th>\n",
       "      <th>...</th>\n",
       "      <th>G18UBRTSCH</th>\n",
       "      <th>G18UBRTSOS</th>\n",
       "      <th>G18UBRTVAN</th>\n",
       "      <th>G18USSDSTA</th>\n",
       "      <th>G18USSGSQU</th>\n",
       "      <th>G18USSNWIL</th>\n",
       "      <th>G18USSRJAM</th>\n",
       "      <th>G18USSTHUF</th>\n",
       "      <th>county_w_name</th>\n",
       "      <th>PRECINCTID</th>\n",
       "    </tr>\n",
       "  </thead>\n",
       "  <tbody>\n",
       "    <tr>\n",
       "      <th>2014</th>\n",
       "      <td>099-RICHMOND CITY-0-0001</td>\n",
       "      <td>646</td>\n",
       "      <td>27</td>\n",
       "      <td>43</td>\n",
       "      <td>1366</td>\n",
       "      <td>22</td>\n",
       "      <td>786</td>\n",
       "      <td>14</td>\n",
       "      <td>33</td>\n",
       "      <td>9</td>\n",
       "      <td>...</td>\n",
       "      <td>86</td>\n",
       "      <td>46</td>\n",
       "      <td>63</td>\n",
       "      <td>773</td>\n",
       "      <td>15</td>\n",
       "      <td>10</td>\n",
       "      <td>1358</td>\n",
       "      <td>13</td>\n",
       "      <td>099-RICHMOND CITY</td>\n",
       "      <td>WP-099-68380-00001</td>\n",
       "    </tr>\n",
       "    <tr>\n",
       "      <th>2015</th>\n",
       "      <td>099-RICHMOND CITY-0-0002</td>\n",
       "      <td>408</td>\n",
       "      <td>12</td>\n",
       "      <td>29</td>\n",
       "      <td>675</td>\n",
       "      <td>16</td>\n",
       "      <td>483</td>\n",
       "      <td>4</td>\n",
       "      <td>21</td>\n",
       "      <td>2</td>\n",
       "      <td>...</td>\n",
       "      <td>61</td>\n",
       "      <td>28</td>\n",
       "      <td>41</td>\n",
       "      <td>466</td>\n",
       "      <td>6</td>\n",
       "      <td>3</td>\n",
       "      <td>693</td>\n",
       "      <td>8</td>\n",
       "      <td>099-RICHMOND CITY</td>\n",
       "      <td>WP-099-68380-00002</td>\n",
       "    </tr>\n",
       "  </tbody>\n",
       "</table>\n",
       "<p>2 rows × 62 columns</p>\n",
       "</div>"
      ],
      "text/plain": [
       "vest                precinct_2  G18ATGDNES  G18ATGIGAR  G18ATGLGIO  \\\n",
       "2014  099-RICHMOND CITY-0-0001         646          27          43   \n",
       "2015  099-RICHMOND CITY-0-0002         408          12          29   \n",
       "\n",
       "vest  G18ATGRLEO  G18ATGTVAN  G18GOVDWHI  G18GOVGKUR  G18GOVLGEL  G18GOVNBUT  \\\n",
       "2014        1366          22         786          14          33           9   \n",
       "2015         675          16         483           4          21           2   \n",
       "\n",
       "vest  ...  G18UBRTSCH  G18UBRTSOS  G18UBRTVAN  G18USSDSTA  G18USSGSQU  \\\n",
       "2014  ...          86          46          63         773          15   \n",
       "2015  ...          61          28          41         466           6   \n",
       "\n",
       "vest  G18USSNWIL  G18USSRJAM  G18USSTHUF      county_w_name  \\\n",
       "2014          10        1358          13  099-RICHMOND CITY   \n",
       "2015           3         693           8  099-RICHMOND CITY   \n",
       "\n",
       "vest          PRECINCTID  \n",
       "2014  WP-099-68380-00001  \n",
       "2015  WP-099-68380-00002  \n",
       "\n",
       "[2 rows x 62 columns]"
      ]
     },
     "execution_count": 241,
     "metadata": {},
     "output_type": "execute_result"
    }
   ],
   "source": [
    "dfp[dfp.precinct_2.str.slice(start = 4, stop = -7) == 'RICHMOND CITY']"
   ]
  },
  {
   "cell_type": "markdown",
   "metadata": {},
   "source": [
    "# Shapefile"
   ]
  },
  {
   "cell_type": "markdown",
   "metadata": {},
   "source": [
    "## Loading, projecting"
   ]
  },
  {
   "cell_type": "code",
   "execution_count": 9,
   "metadata": {},
   "outputs": [
    {
     "data": {
      "text/html": [
       "<div>\n",
       "<style scoped>\n",
       "    .dataframe tbody tr th:only-of-type {\n",
       "        vertical-align: middle;\n",
       "    }\n",
       "\n",
       "    .dataframe tbody tr th {\n",
       "        vertical-align: top;\n",
       "    }\n",
       "\n",
       "    .dataframe thead th {\n",
       "        text-align: right;\n",
       "    }\n",
       "</style>\n",
       "<table border=\"1\" class=\"dataframe\">\n",
       "  <thead>\n",
       "    <tr style=\"text-align: right;\">\n",
       "      <th></th>\n",
       "      <th>OBJECTID</th>\n",
       "      <th>PRECINCTID</th>\n",
       "      <th>ELECTIONYE</th>\n",
       "      <th>COUNTYFIPS</th>\n",
       "      <th>MCDFIPS</th>\n",
       "      <th>WARD</th>\n",
       "      <th>PRECINCT</th>\n",
       "      <th>ShapeSTAre</th>\n",
       "      <th>ShapeSTLen</th>\n",
       "      <th>geometry</th>\n",
       "    </tr>\n",
       "  </thead>\n",
       "  <tbody>\n",
       "    <tr>\n",
       "      <th>0</th>\n",
       "      <td>1</td>\n",
       "      <td>WP-001-01040-00001</td>\n",
       "      <td>2018</td>\n",
       "      <td>001</td>\n",
       "      <td>01040</td>\n",
       "      <td>00</td>\n",
       "      <td>001</td>\n",
       "      <td>1.701076e+08</td>\n",
       "      <td>73869.558749</td>\n",
       "      <td>POLYGON ((713885.576 472642.367, 713798.715 47...</td>\n",
       "    </tr>\n",
       "    <tr>\n",
       "      <th>1</th>\n",
       "      <td>2</td>\n",
       "      <td>WP-001-12460-00001</td>\n",
       "      <td>2018</td>\n",
       "      <td>001</td>\n",
       "      <td>12460</td>\n",
       "      <td>00</td>\n",
       "      <td>001</td>\n",
       "      <td>1.880860e+08</td>\n",
       "      <td>76737.144518</td>\n",
       "      <td>POLYGON ((686272.607 476273.249, 685978.453 47...</td>\n",
       "    </tr>\n",
       "    <tr>\n",
       "      <th>2</th>\n",
       "      <td>3</td>\n",
       "      <td>WP-001-19320-00001</td>\n",
       "      <td>2018</td>\n",
       "      <td>001</td>\n",
       "      <td>19320</td>\n",
       "      <td>00</td>\n",
       "      <td>001</td>\n",
       "      <td>1.833231e+08</td>\n",
       "      <td>57470.528359</td>\n",
       "      <td>POLYGON ((686986.253 442623.144, 686677.696 44...</td>\n",
       "    </tr>\n",
       "    <tr>\n",
       "      <th>3</th>\n",
       "      <td>4</td>\n",
       "      <td>WP-001-34820-00001</td>\n",
       "      <td>2018</td>\n",
       "      <td>001</td>\n",
       "      <td>34820</td>\n",
       "      <td>00</td>\n",
       "      <td>001</td>\n",
       "      <td>6.767958e+07</td>\n",
       "      <td>32987.191075</td>\n",
       "      <td>POLYGON ((712947.018 443503.339, 712791.603 44...</td>\n",
       "    </tr>\n",
       "    <tr>\n",
       "      <th>4</th>\n",
       "      <td>5</td>\n",
       "      <td>WP-001-35740-00001</td>\n",
       "      <td>2018</td>\n",
       "      <td>001</td>\n",
       "      <td>35740</td>\n",
       "      <td>00</td>\n",
       "      <td>001</td>\n",
       "      <td>9.281010e+07</td>\n",
       "      <td>38642.299469</td>\n",
       "      <td>POLYGON ((705992.472 452886.004, 704976.166 45...</td>\n",
       "    </tr>\n",
       "  </tbody>\n",
       "</table>\n",
       "</div>"
      ],
      "text/plain": [
       "   OBJECTID          PRECINCTID  ELECTIONYE COUNTYFIPS MCDFIPS WARD PRECINCT  \\\n",
       "0         1  WP-001-01040-00001        2018        001   01040   00      001   \n",
       "1         2  WP-001-12460-00001        2018        001   12460   00      001   \n",
       "2         3  WP-001-19320-00001        2018        001   19320   00      001   \n",
       "3         4  WP-001-34820-00001        2018        001   34820   00      001   \n",
       "4         5  WP-001-35740-00001        2018        001   35740   00      001   \n",
       "\n",
       "     ShapeSTAre    ShapeSTLen  \\\n",
       "0  1.701076e+08  73869.558749   \n",
       "1  1.880860e+08  76737.144518   \n",
       "2  1.833231e+08  57470.528359   \n",
       "3  6.767958e+07  32987.191075   \n",
       "4  9.281010e+07  38642.299469   \n",
       "\n",
       "                                            geometry  \n",
       "0  POLYGON ((713885.576 472642.367, 713798.715 47...  \n",
       "1  POLYGON ((686272.607 476273.249, 685978.453 47...  \n",
       "2  POLYGON ((686986.253 442623.144, 686677.696 44...  \n",
       "3  POLYGON ((712947.018 443503.339, 712791.603 44...  \n",
       "4  POLYGON ((705992.472 452886.004, 704976.166 45...  "
      ]
     },
     "execution_count": 9,
     "metadata": {},
     "output_type": "execute_result"
    }
   ],
   "source": [
    "shp = gpd.read_file('./2018_Voting_Precincts-shp/2018_Voting_Precincts.shp')\n",
    "shp.head()"
   ]
  },
  {
   "cell_type": "code",
   "execution_count": 214,
   "metadata": {},
   "outputs": [],
   "source": [
    "crs = gdfv.crs"
   ]
  },
  {
   "cell_type": "code",
   "execution_count": 216,
   "metadata": {},
   "outputs": [],
   "source": [
    "shp = shp.to_crs(crs)"
   ]
  },
  {
   "cell_type": "markdown",
   "metadata": {},
   "source": [
    "# Joining Election Results to Shapefile"
   ]
  },
  {
   "cell_type": "markdown",
   "metadata": {},
   "source": [
    "## Join Attempt #1"
   ]
  },
  {
   "cell_type": "markdown",
   "metadata": {},
   "source": [
    "Peter notes that if common id is not working, match both to final file then remove final file columns to match it up"
   ]
  },
  {
   "cell_type": "markdown",
   "metadata": {},
   "source": [
    "Not completed because of issues above with matching `precinct_2` column to `PRECINCTID`"
   ]
  },
  {
   "cell_type": "markdown",
   "metadata": {},
   "source": [
    "## Figuring out what did/didn't join"
   ]
  },
  {
   "cell_type": "markdown",
   "metadata": {},
   "source": [
    "## Join Attempt #2"
   ]
  },
  {
   "cell_type": "code",
   "execution_count": null,
   "metadata": {},
   "outputs": [],
   "source": []
  },
  {
   "cell_type": "markdown",
   "metadata": {},
   "source": [
    "# Validating"
   ]
  },
  {
   "cell_type": "markdown",
   "metadata": {},
   "source": [
    "## Joining RDH file to Partner file to validate"
   ]
  },
  {
   "cell_type": "code",
   "execution_count": 187,
   "metadata": {},
   "outputs": [],
   "source": [
    "from statistics import mean, median\n",
    "from pandas import read_csv"
   ]
  },
  {
   "cell_type": "code",
   "execution_count": 242,
   "metadata": {},
   "outputs": [
    {
     "data": {
      "text/html": [
       "<div>\n",
       "<style scoped>\n",
       "    .dataframe tbody tr th:only-of-type {\n",
       "        vertical-align: middle;\n",
       "    }\n",
       "\n",
       "    .dataframe tbody tr th {\n",
       "        vertical-align: top;\n",
       "    }\n",
       "\n",
       "    .dataframe thead th {\n",
       "        text-align: right;\n",
       "    }\n",
       "</style>\n",
       "<table border=\"1\" class=\"dataframe\">\n",
       "  <thead>\n",
       "    <tr style=\"text-align: right;\">\n",
       "      <th>vest</th>\n",
       "      <th>precinct_2</th>\n",
       "      <th>G18ATGDNES</th>\n",
       "      <th>G18ATGIGAR</th>\n",
       "      <th>G18ATGLGIO</th>\n",
       "      <th>G18ATGRLEO</th>\n",
       "      <th>G18ATGTVAN</th>\n",
       "      <th>G18GOVDWHI</th>\n",
       "      <th>G18GOVGKUR</th>\n",
       "      <th>G18GOVLGEL</th>\n",
       "      <th>G18GOVNBUT</th>\n",
       "      <th>...</th>\n",
       "      <th>G18UBRTSCH</th>\n",
       "      <th>G18UBRTSOS</th>\n",
       "      <th>G18UBRTVAN</th>\n",
       "      <th>G18USSDSTA</th>\n",
       "      <th>G18USSGSQU</th>\n",
       "      <th>G18USSNWIL</th>\n",
       "      <th>G18USSRJAM</th>\n",
       "      <th>G18USSTHUF</th>\n",
       "      <th>county_w_name</th>\n",
       "      <th>PRECINCTID</th>\n",
       "    </tr>\n",
       "  </thead>\n",
       "  <tbody>\n",
       "    <tr>\n",
       "      <th>0</th>\n",
       "      <td>001-ALCONA TOWNSHIP-0-0001</td>\n",
       "      <td>207</td>\n",
       "      <td>8</td>\n",
       "      <td>6</td>\n",
       "      <td>440</td>\n",
       "      <td>4</td>\n",
       "      <td>242</td>\n",
       "      <td>9</td>\n",
       "      <td>4</td>\n",
       "      <td>1</td>\n",
       "      <td>...</td>\n",
       "      <td>19</td>\n",
       "      <td>9</td>\n",
       "      <td>14</td>\n",
       "      <td>233</td>\n",
       "      <td>6</td>\n",
       "      <td>1</td>\n",
       "      <td>439</td>\n",
       "      <td>3</td>\n",
       "      <td>001-ALCONA TOWNSHIP</td>\n",
       "      <td>WP-001-01040-00001</td>\n",
       "    </tr>\n",
       "    <tr>\n",
       "      <th>1</th>\n",
       "      <td>001-CALEDONIA TOWNSHIP-0-0001</td>\n",
       "      <td>179</td>\n",
       "      <td>5</td>\n",
       "      <td>8</td>\n",
       "      <td>372</td>\n",
       "      <td>4</td>\n",
       "      <td>210</td>\n",
       "      <td>3</td>\n",
       "      <td>2</td>\n",
       "      <td>2</td>\n",
       "      <td>...</td>\n",
       "      <td>24</td>\n",
       "      <td>11</td>\n",
       "      <td>15</td>\n",
       "      <td>209</td>\n",
       "      <td>1</td>\n",
       "      <td>1</td>\n",
       "      <td>371</td>\n",
       "      <td>0</td>\n",
       "      <td>001-CALEDONIA TOWNSHIP</td>\n",
       "      <td>WP-001-12460-00001</td>\n",
       "    </tr>\n",
       "    <tr>\n",
       "      <th>2</th>\n",
       "      <td>001-CURTIS TOWNSHIP-0-0001</td>\n",
       "      <td>189</td>\n",
       "      <td>15</td>\n",
       "      <td>9</td>\n",
       "      <td>339</td>\n",
       "      <td>6</td>\n",
       "      <td>234</td>\n",
       "      <td>7</td>\n",
       "      <td>5</td>\n",
       "      <td>1</td>\n",
       "      <td>...</td>\n",
       "      <td>29</td>\n",
       "      <td>16</td>\n",
       "      <td>18</td>\n",
       "      <td>227</td>\n",
       "      <td>6</td>\n",
       "      <td>2</td>\n",
       "      <td>332</td>\n",
       "      <td>5</td>\n",
       "      <td>001-CURTIS TOWNSHIP</td>\n",
       "      <td>WP-001-19320-00001</td>\n",
       "    </tr>\n",
       "    <tr>\n",
       "      <th>3</th>\n",
       "      <td>001-GREENBUSH TOWNSHIP-0-0001</td>\n",
       "      <td>237</td>\n",
       "      <td>8</td>\n",
       "      <td>13</td>\n",
       "      <td>411</td>\n",
       "      <td>8</td>\n",
       "      <td>263</td>\n",
       "      <td>4</td>\n",
       "      <td>6</td>\n",
       "      <td>5</td>\n",
       "      <td>...</td>\n",
       "      <td>20</td>\n",
       "      <td>12</td>\n",
       "      <td>11</td>\n",
       "      <td>276</td>\n",
       "      <td>5</td>\n",
       "      <td>1</td>\n",
       "      <td>402</td>\n",
       "      <td>5</td>\n",
       "      <td>001-GREENBUSH TOWNSHIP</td>\n",
       "      <td>WP-001-34820-00001</td>\n",
       "    </tr>\n",
       "    <tr>\n",
       "      <th>4</th>\n",
       "      <td>001-GUSTIN TOWNSHIP-0-0001</td>\n",
       "      <td>80</td>\n",
       "      <td>3</td>\n",
       "      <td>2</td>\n",
       "      <td>208</td>\n",
       "      <td>9</td>\n",
       "      <td>104</td>\n",
       "      <td>2</td>\n",
       "      <td>3</td>\n",
       "      <td>2</td>\n",
       "      <td>...</td>\n",
       "      <td>17</td>\n",
       "      <td>7</td>\n",
       "      <td>11</td>\n",
       "      <td>98</td>\n",
       "      <td>5</td>\n",
       "      <td>0</td>\n",
       "      <td>201</td>\n",
       "      <td>4</td>\n",
       "      <td>001-GUSTIN TOWNSHIP</td>\n",
       "      <td>WP-001-35740-00001</td>\n",
       "    </tr>\n",
       "  </tbody>\n",
       "</table>\n",
       "<p>5 rows × 62 columns</p>\n",
       "</div>"
      ],
      "text/plain": [
       "vest                     precinct_2  G18ATGDNES  G18ATGIGAR  G18ATGLGIO  \\\n",
       "0        001-ALCONA TOWNSHIP-0-0001         207           8           6   \n",
       "1     001-CALEDONIA TOWNSHIP-0-0001         179           5           8   \n",
       "2        001-CURTIS TOWNSHIP-0-0001         189          15           9   \n",
       "3     001-GREENBUSH TOWNSHIP-0-0001         237           8          13   \n",
       "4        001-GUSTIN TOWNSHIP-0-0001          80           3           2   \n",
       "\n",
       "vest  G18ATGRLEO  G18ATGTVAN  G18GOVDWHI  G18GOVGKUR  G18GOVLGEL  G18GOVNBUT  \\\n",
       "0            440           4         242           9           4           1   \n",
       "1            372           4         210           3           2           2   \n",
       "2            339           6         234           7           5           1   \n",
       "3            411           8         263           4           6           5   \n",
       "4            208           9         104           2           3           2   \n",
       "\n",
       "vest  ...  G18UBRTSCH  G18UBRTSOS  G18UBRTVAN  G18USSDSTA  G18USSGSQU  \\\n",
       "0     ...          19           9          14         233           6   \n",
       "1     ...          24          11          15         209           1   \n",
       "2     ...          29          16          18         227           6   \n",
       "3     ...          20          12          11         276           5   \n",
       "4     ...          17           7          11          98           5   \n",
       "\n",
       "vest  G18USSNWIL  G18USSRJAM  G18USSTHUF           county_w_name  \\\n",
       "0              1         439           3     001-ALCONA TOWNSHIP   \n",
       "1              1         371           0  001-CALEDONIA TOWNSHIP   \n",
       "2              2         332           5     001-CURTIS TOWNSHIP   \n",
       "3              1         402           5  001-GREENBUSH TOWNSHIP   \n",
       "4              0         201           4     001-GUSTIN TOWNSHIP   \n",
       "\n",
       "vest          PRECINCTID  \n",
       "0     WP-001-01040-00001  \n",
       "1     WP-001-12460-00001  \n",
       "2     WP-001-19320-00001  \n",
       "3     WP-001-34820-00001  \n",
       "4     WP-001-35740-00001  \n",
       "\n",
       "[5 rows x 62 columns]"
      ]
     },
     "execution_count": 242,
     "metadata": {},
     "output_type": "execute_result"
    }
   ],
   "source": [
    "dfp = dfp.fillna(0)\n",
    "dfp.head()\n",
    "#needed to make nan = 0 in order to cast as integer"
   ]
  },
  {
   "cell_type": "code",
   "execution_count": 243,
   "metadata": {},
   "outputs": [],
   "source": [
    "#Fix dfp to have integer value, no floats\n",
    "dfp = dfp.astype({'G18ATGDNES': 'int64', 'G18ATGIGAR': 'int64', 'G18ATGLGIO': 'int64', 'G18ATGRLEO': 'int64',\n",
    "       'G18ATGTVAN': 'int64', 'G18GOVDWHI': 'int64', 'G18GOVGKUR': 'int64', 'G18GOVLGEL': 'int64', 'G18GOVNBUT': 'int64',\n",
    "       'G18GOVRSCH': 'int64', 'G18GOVTSCH': 'int64', 'G18SBEDPRI': 'int64', 'G18SBEDTIL': 'int64', 'G18SBEGWEL': 'int64',\n",
    "       'G18SBELBOM': 'int64', 'G18SBELTAT': 'int64', 'G18SBERCAR': 'int64', 'G18SBERZEI': 'int64', 'G18SBETADA': 'int64',\n",
    "       'G18SBETLEV': 'int64', 'G18SBEWHER': 'int64', 'G18SBEWSMI': 'int64', 'G18SOSDBEN': 'int64', 'G18SOSLSTE': 'int64',\n",
    "       'G18SOSRLAN': 'int64', 'G18SOSTGAL': 'int64', 'G18UBRDACK': 'int64', 'G18UBRDBAR': 'int64', 'G18UBRDBRO': 'int64',\n",
    "       'G18UBRDKUM': 'int64', 'G18UBRDSCO': 'int64', 'G18UBRDTEB': 'int64', 'G18UBRGGRA': 'int64', 'G18UBRGMAR': 'int64',\n",
    "       'G18UBRLCAM': 'int64', 'G18UBRLELG': 'int64', 'G18UBRLHAR': 'int64', 'G18UBRLHUD': 'int64', 'G18UBRLJAS': 'int64',\n",
    "       'G18UBRLORZ': 'int64', 'G18UBRNABR': 'int64', 'G18UBRNSAL': 'int64', 'G18UBRRDUN': 'int64', 'G18UBRRDUT': 'int64',\n",
    "       'G18UBRRMIL': 'int64', 'G18UBRRNEW': 'int64', 'G18UBRRNIC': 'int64', 'G18UBRRRIC': 'int64', 'G18UBRTSA1': 'int64',\n",
    "       'G18UBRTSA2': 'int64', 'G18UBRTSAN': 'int64', 'G18UBRTSCH': 'int64', 'G18UBRTSOS': 'int64', 'G18UBRTVAN': 'int64',\n",
    "       'G18USSDSTA': 'int64', 'G18USSGSQU': 'int64', 'G18USSNWIL': 'int64', 'G18USSRJAM': 'int64', 'G18USSTHUF': 'int64'})"
   ]
  },
  {
   "cell_type": "code",
   "execution_count": 244,
   "metadata": {},
   "outputs": [],
   "source": [
    "#Merge on columns and add suffix based on precinct_2 index inner join  \n",
    "dfp_gdfv_merge = pd.merge(dfp, gdfv, on = 'precinct_2', how = 'inner', suffixes = ('_x', '_y'))"
   ]
  },
  {
   "cell_type": "code",
   "execution_count": 245,
   "metadata": {},
   "outputs": [
    {
     "data": {
      "text/plain": [
       "(4701, 131)"
      ]
     },
     "execution_count": 245,
     "metadata": {},
     "output_type": "execute_result"
    }
   ],
   "source": [
    "dfp_gdfv_merge.shape"
   ]
  },
  {
   "cell_type": "code",
   "execution_count": 246,
   "metadata": {},
   "outputs": [
    {
     "data": {
      "text/plain": [
       "(5016, 62)"
      ]
     },
     "execution_count": 246,
     "metadata": {},
     "output_type": "execute_result"
    }
   ],
   "source": [
    "dfp.shape"
   ]
  },
  {
   "cell_type": "code",
   "execution_count": 247,
   "metadata": {},
   "outputs": [
    {
     "data": {
      "text/plain": [
       "(4797, 70)"
      ]
     },
     "execution_count": 247,
     "metadata": {},
     "output_type": "execute_result"
    }
   ],
   "source": [
    "gdfv.shape"
   ]
  },
  {
   "cell_type": "markdown",
   "metadata": {},
   "source": [
    "## Validating Election Results"
   ]
  },
  {
   "cell_type": "markdown",
   "metadata": {},
   "source": [
    "### Column Totals"
   ]
  },
  {
   "cell_type": "code",
   "execution_count": 248,
   "metadata": {},
   "outputs": [],
   "source": [
    "#from PDV Training: use to check column sums\n",
    "def sum_checker (df, column_List):\n",
    "    \"\"\"Checks the sums of different columns and prints out the maximum difference by column. \n",
    "    Assumes that the dataframe is the merged dataframe between RDH and the partner, with the same named election result\n",
    "    columns, except RDH is _x and Partner is _y. \n",
    "    \"\"\"\n",
    "    list_max = 0\n",
    "    for i in column_List:\n",
    "        left_sum = df[i+\"_x\"].sum()\n",
    "        right_sum = df[i+\"_y\"].sum()\n",
    "        if (left_sum==right_sum):\n",
    "            print(\"Column: \", i, \" have the same sums\")\n",
    "            \n",
    "        else:\n",
    "            diff = abs(left_sum-right_sum)\n",
    "            percent = abs(left_sum-right_sum)/left_sum\n",
    "            print(\"Column: \", i)\n",
    "            print(\"RDH sum is \", str(left_sum))\n",
    "            print(\"Partner sum is \", str(right_sum))\n",
    "            print(\"Their (absolute) difference is \",str(diff))\n",
    "            print(\"As a percentage of DF1 this is \", str(round(percent*100,5)) + \"%\")\n",
    "            if (percent>list_max):\n",
    "                list_max = percent\n",
    "            print(\"\")\n",
    "    print(\"The max difference (as a percent of the total of one DF column) is: \", str(round(list_max,5)))"
   ]
  },
  {
   "cell_type": "markdown",
   "metadata": {},
   "source": [
    "**Pass the list of election result columns** - From PDV training"
   ]
  },
  {
   "cell_type": "code",
   "execution_count": 249,
   "metadata": {},
   "outputs": [
    {
     "name": "stdout",
     "output_type": "stream",
     "text": [
      "Column:  G18ATGDNES\n",
      "RDH sum is  1928189\n",
      "Partner sum is  1977448\n",
      "Their (absolute) difference is  49259\n",
      "As a percentage of DF1 this is  2.55468%\n",
      "\n",
      "Column:  G18ATGIGAR\n",
      "RDH sum is  67639\n",
      "Partner sum is  68189\n",
      "Their (absolute) difference is  550\n",
      "As a percentage of DF1 this is  0.81314%\n",
      "\n",
      "Column:  G18ATGLGIO\n",
      "RDH sum is  83669\n",
      "Partner sum is  84355\n",
      "Their (absolute) difference is  686\n",
      "As a percentage of DF1 this is  0.8199%\n",
      "\n",
      "Column:  G18ATGRLEO\n",
      "RDH sum is  1857571\n",
      "Partner sum is  1865920\n",
      "Their (absolute) difference is  8349\n",
      "As a percentage of DF1 this is  0.44946%\n",
      "\n",
      "Column:  G18ATGTVAN\n",
      "RDH sum is  37049\n",
      "Partner sum is  37434\n",
      "Their (absolute) difference is  385\n",
      "As a percentage of DF1 this is  1.03916%\n",
      "\n",
      "Column:  G18GOVDWHI\n",
      "RDH sum is  2156210\n",
      "Partner sum is  2206783\n",
      "Their (absolute) difference is  50573\n",
      "As a percentage of DF1 this is  2.34546%\n",
      "\n",
      "Column:  G18GOVGKUR\n",
      "RDH sum is  27750\n",
      "Partner sum is  28062\n",
      "Their (absolute) difference is  312\n",
      "As a percentage of DF1 this is  1.12432%\n",
      "\n",
      "Column:  G18GOVLGEL\n",
      "RDH sum is  54720\n",
      "Partner sum is  54995\n",
      "Their (absolute) difference is  275\n",
      "As a percentage of DF1 this is  0.50256%\n",
      "\n",
      "Column:  G18GOVNBUT\n",
      "RDH sum is  9803\n",
      "Partner sum is  9941\n",
      "Their (absolute) difference is  138\n",
      "As a percentage of DF1 this is  1.40773%\n",
      "\n",
      "Column:  G18GOVRSCH\n",
      "RDH sum is  1803097\n",
      "Partner sum is  1810915\n",
      "Their (absolute) difference is  7818\n",
      "As a percentage of DF1 this is  0.43359%\n",
      "\n",
      "Column:  G18GOVTSCH\n",
      "RDH sum is  23843\n",
      "Partner sum is  24060\n",
      "Their (absolute) difference is  217\n",
      "As a percentage of DF1 this is  0.91012%\n",
      "\n",
      "Column:  G18SBEDPRI\n",
      "RDH sum is  1738392\n",
      "Partner sum is  1782836\n",
      "Their (absolute) difference is  44444\n",
      "As a percentage of DF1 this is  2.55662%\n",
      "\n",
      "Column:  G18SBEDTIL\n",
      "RDH sum is  1653862\n",
      "Partner sum is  1697900\n",
      "Their (absolute) difference is  44038\n",
      "As a percentage of DF1 this is  2.66274%\n",
      "\n",
      "Column:  G18SBEGWEL\n",
      "RDH sum is  58998\n",
      "Partner sum is  59712\n",
      "Their (absolute) difference is  714\n",
      "As a percentage of DF1 this is  1.21021%\n",
      "\n",
      "Column:  G18SBELBOM\n",
      "RDH sum is  120803\n",
      "Partner sum is  121730\n",
      "Their (absolute) difference is  927\n",
      "As a percentage of DF1 this is  0.76737%\n",
      "\n",
      "Column:  G18SBELTAT\n",
      "RDH sum is  77361\n",
      "Partner sum is  77724\n",
      "Their (absolute) difference is  363\n",
      "As a percentage of DF1 this is  0.46923%\n",
      "\n",
      "Column:  G18SBERCAR\n",
      "RDH sum is  1566935\n",
      "Partner sum is  1573578\n",
      "Their (absolute) difference is  6643\n",
      "As a percentage of DF1 this is  0.42395%\n",
      "\n",
      "Column:  G18SBERZEI\n",
      "RDH sum is  1428435\n",
      "Partner sum is  1434773\n",
      "Their (absolute) difference is  6338\n",
      "As a percentage of DF1 this is  0.4437%\n",
      "\n",
      "Column:  G18SBETADA\n",
      "RDH sum is  70079\n",
      "Partner sum is  71030\n",
      "Their (absolute) difference is  951\n",
      "As a percentage of DF1 this is  1.35704%\n",
      "\n",
      "Column:  G18SBETLEV\n",
      "RDH sum is  31339\n",
      "Partner sum is  31640\n",
      "Their (absolute) difference is  301\n",
      "As a percentage of DF1 this is  0.96046%\n",
      "\n",
      "Column:  G18SBEWHER\n",
      "RDH sum is  121399\n",
      "Partner sum is  122809\n",
      "Their (absolute) difference is  1410\n",
      "As a percentage of DF1 this is  1.16146%\n",
      "\n",
      "Column:  G18SBEWSMI\n",
      "RDH sum is  87993\n",
      "Partner sum is  89012\n",
      "Their (absolute) difference is  1019\n",
      "As a percentage of DF1 this is  1.15805%\n",
      "\n",
      "Column:  G18SOSDBEN\n",
      "RDH sum is  2104122\n",
      "Partner sum is  2155520\n",
      "Their (absolute) difference is  51398\n",
      "As a percentage of DF1 this is  2.44273%\n",
      "\n",
      "Column:  G18SOSLSTE\n",
      "RDH sum is  79106\n",
      "Partner sum is  79542\n",
      "Their (absolute) difference is  436\n",
      "As a percentage of DF1 this is  0.55116%\n",
      "\n",
      "Column:  G18SOSRLAN\n",
      "RDH sum is  1783989\n",
      "Partner sum is  1791789\n",
      "Their (absolute) difference is  7800\n",
      "As a percentage of DF1 this is  0.43722%\n",
      "\n",
      "Column:  G18SOSTGAL\n",
      "RDH sum is  47353\n",
      "Partner sum is  47771\n",
      "Their (absolute) difference is  418\n",
      "As a percentage of DF1 this is  0.88273%\n",
      "\n",
      "Column:  G18UBRDACK\n",
      "RDH sum is  1660977\n",
      "Partner sum is  1705120\n",
      "Their (absolute) difference is  44143\n",
      "As a percentage of DF1 this is  2.65765%\n",
      "\n",
      "Column:  G18UBRDBAR\n",
      "RDH sum is  1639134\n",
      "Partner sum is  1684140\n",
      "Their (absolute) difference is  45006\n",
      "As a percentage of DF1 this is  2.74572%\n",
      "\n",
      "Column:  G18UBRDBRO\n",
      "RDH sum is  1585840\n",
      "Partner sum is  1629544\n",
      "Their (absolute) difference is  43704\n",
      "As a percentage of DF1 this is  2.75589%\n",
      "\n",
      "Column:  G18UBRDKUM\n",
      "RDH sum is  1514722\n",
      "Partner sum is  1557190\n",
      "Their (absolute) difference is  42468\n",
      "As a percentage of DF1 this is  2.80368%\n",
      "\n",
      "Column:  G18UBRDSCO\n",
      "RDH sum is  1733780\n",
      "Partner sum is  1779894\n",
      "Their (absolute) difference is  46114\n",
      "As a percentage of DF1 this is  2.65974%\n",
      "\n",
      "Column:  G18UBRDTEB\n",
      "RDH sum is  1565084\n",
      "Partner sum is  1607505\n",
      "Their (absolute) difference is  42421\n",
      "As a percentage of DF1 this is  2.71046%\n",
      "\n",
      "Column:  G18UBRGGRA\n",
      "RDH sum is  69478\n",
      "Partner sum is  70170\n",
      "Their (absolute) difference is  692\n",
      "As a percentage of DF1 this is  0.996%\n",
      "\n",
      "Column:  G18UBRGMAR\n",
      "RDH sum is  51515\n",
      "Partner sum is  51938\n",
      "Their (absolute) difference is  423\n",
      "As a percentage of DF1 this is  0.82112%\n",
      "\n",
      "Column:  G18UBRLCAM\n",
      "RDH sum is  108395\n",
      "Partner sum is  109128\n",
      "Their (absolute) difference is  733\n",
      "As a percentage of DF1 this is  0.67623%\n",
      "\n",
      "Column:  G18UBRLELG\n",
      "RDH sum is  98988\n",
      "Partner sum is  99534\n",
      "Their (absolute) difference is  546\n",
      "As a percentage of DF1 this is  0.55158%\n",
      "\n",
      "Column:  G18UBRLHAR\n",
      "RDH sum is  77589\n",
      "Partner sum is  78008\n",
      "Their (absolute) difference is  419\n",
      "As a percentage of DF1 this is  0.54003%\n",
      "\n",
      "Column:  G18UBRLHUD\n",
      "RDH sum is  81003\n",
      "Partner sum is  81480\n",
      "Their (absolute) difference is  477\n",
      "As a percentage of DF1 this is  0.58887%\n",
      "\n",
      "Column:  G18UBRLJAS\n",
      "RDH sum is  81383\n",
      "Partner sum is  81815\n",
      "Their (absolute) difference is  432\n",
      "As a percentage of DF1 this is  0.53082%\n",
      "\n",
      "Column:  G18UBRLORZ\n",
      "RDH sum is  75303\n",
      "Partner sum is  75706\n",
      "Their (absolute) difference is  403\n",
      "As a percentage of DF1 this is  0.53517%\n",
      "\n",
      "Column:  G18UBRNABR\n",
      "RDH sum is  48508\n",
      "Partner sum is  49033\n",
      "Their (absolute) difference is  525\n",
      "As a percentage of DF1 this is  1.0823%\n",
      "\n",
      "Column:  G18UBRNSAL\n",
      "RDH sum is  49816\n",
      "Partner sum is  50408\n",
      "Their (absolute) difference is  592\n",
      "As a percentage of DF1 this is  1.18837%\n",
      "\n",
      "Column:  G18UBRRDUN\n",
      "RDH sum is  1526654\n",
      "Partner sum is  1533619\n",
      "Their (absolute) difference is  6965\n",
      "As a percentage of DF1 this is  0.45623%\n",
      "\n",
      "Column:  G18UBRRDUT\n",
      "RDH sum is  1455540\n",
      "Partner sum is  1461884\n",
      "Their (absolute) difference is  6344\n",
      "As a percentage of DF1 this is  0.43585%\n",
      "\n",
      "Column:  G18UBRRMIL\n",
      "RDH sum is  1487635\n",
      "Partner sum is  1494322\n",
      "Their (absolute) difference is  6687\n",
      "As a percentage of DF1 this is  0.44951%\n",
      "\n",
      "Column:  G18UBRRNEW\n",
      "RDH sum is  1569669\n",
      "Partner sum is  1576667\n",
      "Their (absolute) difference is  6998\n",
      "As a percentage of DF1 this is  0.44583%\n",
      "\n",
      "Column:  G18UBRRNIC\n",
      "RDH sum is  1411563\n",
      "Partner sum is  1418281\n",
      "Their (absolute) difference is  6718\n",
      "As a percentage of DF1 this is  0.47593%\n",
      "\n",
      "Column:  G18UBRRRIC\n",
      "RDH sum is  1434642\n",
      "Partner sum is  1440992\n",
      "Their (absolute) difference is  6350\n",
      "As a percentage of DF1 this is  0.44262%\n",
      "\n",
      "Column:  G18UBRTSA1\n",
      "RDH sum is  83456\n",
      "Partner sum is  84384\n",
      "Their (absolute) difference is  928\n",
      "As a percentage of DF1 this is  1.11196%\n",
      "\n",
      "Column:  G18UBRTSA2\n",
      "RDH sum is  54580\n",
      "Partner sum is  55123\n",
      "Their (absolute) difference is  543\n",
      "As a percentage of DF1 this is  0.99487%\n",
      "\n",
      "Column:  G18UBRTSAN\n",
      "RDH sum is  61280\n",
      "Partner sum is  61863\n",
      "Their (absolute) difference is  583\n",
      "As a percentage of DF1 this is  0.95137%\n",
      "\n",
      "Column:  G18UBRTSCH\n",
      "RDH sum is  130890\n",
      "Partner sum is  132380\n",
      "Their (absolute) difference is  1490\n",
      "As a percentage of DF1 this is  1.13836%\n",
      "\n",
      "Column:  G18UBRTSOS\n",
      "RDH sum is  64061\n",
      "Partner sum is  64706\n",
      "Their (absolute) difference is  645\n",
      "As a percentage of DF1 this is  1.00685%\n",
      "\n",
      "Column:  G18UBRTVAN\n",
      "RDH sum is  96105\n",
      "Partner sum is  97129\n",
      "Their (absolute) difference is  1024\n",
      "As a percentage of DF1 this is  1.0655%\n",
      "\n",
      "Column:  G18USSDSTA\n",
      "RDH sum is  2104834\n",
      "Partner sum is  2156280\n",
      "Their (absolute) difference is  51446\n",
      "As a percentage of DF1 this is  2.44418%\n",
      "\n",
      "Column:  G18USSGSQU\n",
      "RDH sum is  38837\n",
      "Partner sum is  39099\n",
      "Their (absolute) difference is  262\n",
      "As a percentage of DF1 this is  0.67461%\n",
      "\n",
      "Column:  G18USSNWIL\n",
      "RDH sum is  15970\n",
      "Partner sum is  16114\n",
      "Their (absolute) difference is  144\n",
      "As a percentage of DF1 this is  0.90169%\n",
      "\n",
      "Column:  G18USSRJAM\n",
      "RDH sum is  1880364\n",
      "Partner sum is  1888090\n",
      "Their (absolute) difference is  7726\n",
      "As a percentage of DF1 this is  0.41088%\n",
      "\n",
      "Column:  G18USSTHUF\n",
      "RDH sum is  26437\n",
      "Partner sum is  26706\n",
      "Their (absolute) difference is  269\n",
      "As a percentage of DF1 this is  1.01751%\n",
      "\n",
      "The max difference (as a percent of the total of one DF column) is:  0.02804\n"
     ]
    }
   ],
   "source": [
    "sum_checker(dfp_gdfv_merge, column_List)"
   ]
  },
  {
   "cell_type": "markdown",
   "metadata": {},
   "source": [
    "### Precinct-by-precinct Comparison"
   ]
  },
  {
   "cell_type": "code",
   "execution_count": 250,
   "metadata": {},
   "outputs": [],
   "source": [
    "#adapted from PDV training\n",
    "def validater_row_vect(df, join_column, column_List):\n",
    "    matching_rows = 0\n",
    "    different_rows = 0\n",
    "    \n",
    "    county_join_cols = df[join_column].astype('str').to_numpy()\n",
    "    \n",
    "    # it's because before, we were checking that a row was entirely consistent\n",
    "    # here, we are double checking a lot\n",
    "    # so, let's just keep one track of the rows that are messed up\n",
    "    \n",
    "    wrong_idxs = np.zeros(len(df))\n",
    "    for i in column_List:\n",
    "        left_data = df[i + \"_x\"].to_numpy()\n",
    "        right_data = df[i + \"_y\"].to_numpy()\n",
    "        \n",
    "        local_idxs = np.where(left_data != right_data)\n",
    "        wrong_idxs[local_idxs] = 1\n",
    "        #print(\"Wrong idxs\", wrong_idxs)\n",
    "        \n",
    "    # we are close, we get the same result, but are double adding lots of rows\n",
    "    different_rows += np.sum(wrong_idxs)\n",
    "    matching_rows += len(df) - different_rows\n",
    "    \n",
    "    diff_list = county_join_cols[np.where(wrong_idxs == 1)]\n",
    "            \n",
    "    print(\"There are \", len(df.index),\" total rows\")\n",
    "    print(f\"{int(different_rows)} of these rows have election result differences\")\n",
    "    print(f\"{int(matching_rows)} of these rows are the same\")\n",
    "    print(diff_list)\n",
    "    print(\"\")"
   ]
  },
  {
   "cell_type": "code",
   "execution_count": 252,
   "metadata": {},
   "outputs": [
    {
     "data": {
      "text/plain": [
       "(5016, 62)"
      ]
     },
     "execution_count": 252,
     "metadata": {},
     "output_type": "execute_result"
    }
   ],
   "source": [
    "dfp.shape"
   ]
  },
  {
   "cell_type": "code",
   "execution_count": 253,
   "metadata": {},
   "outputs": [
    {
     "data": {
      "text/plain": [
       "(4797, 70)"
      ]
     },
     "execution_count": 253,
     "metadata": {},
     "output_type": "execute_result"
    }
   ],
   "source": [
    "gdfv.shape"
   ]
  },
  {
   "cell_type": "code",
   "execution_count": 254,
   "metadata": {},
   "outputs": [
    {
     "data": {
      "text/plain": [
       "219"
      ]
     },
     "execution_count": 254,
     "metadata": {},
     "output_type": "execute_result"
    }
   ],
   "source": [
    "5016-4797"
   ]
  },
  {
   "cell_type": "markdown",
   "metadata": {},
   "source": [
    "**From list above, compare with result of discrepencies below:***\n",
    "'055-ACME TOWNSHIP-0-0001',\n",
    " '055-ACME TOWNSHIP-0-0002',\n",
    " '055-BLAIR TOWNSHIP-0-0001',\n",
    " '055-BLAIR TOWNSHIP-0-0002',\n",
    " '055-BLAIR TOWNSHIP-0-0003',\n",
    " '055-BLAIR TOWNSHIP-0-0004',\n",
    " '055-EAST BAY TOWNSHIP-0-0001',\n",
    " '055-EAST BAY TOWNSHIP-0-0002',\n",
    " '055-EAST BAY TOWNSHIP-0-0003',\n",
    " '055-EAST BAY TOWNSHIP-0-0004',\n",
    " '055-FIFE LAKE TOWNSHIP-0-0001',\n",
    " '055-GARFIELD TOWNSHIP-0-0001',\n",
    " '055-GARFIELD TOWNSHIP-0-0002',\n",
    " '055-GARFIELD TOWNSHIP-0-0003',\n",
    " '055-GARFIELD TOWNSHIP-0-0004',\n",
    " '055-GARFIELD TOWNSHIP-0-0005',\n",
    " '055-GARFIELD TOWNSHIP-0-0006',\n",
    " '055-GRANT TOWNSHIP-0-0001',\n",
    " '055-GREEN LAKE TOWNSHIP-0-0001',\n",
    " '055-GREEN LAKE TOWNSHIP-0-0002',\n",
    " '055-LONG LAKE TOWNSHIP-0-0001',\n",
    " '055-LONG LAKE TOWNSHIP-0-0002',\n",
    " '055-LONG LAKE TOWNSHIP-0-0003',\n",
    " '055-MAYFIELD TOWNSHIP-0-0001',\n",
    " '055-PARADISE TOWNSHIP-0-0001',\n",
    " '055-PARADISE TOWNSHIP-0-0002',\n",
    " '055-PENINSULA TOWNSHIP-0-0001',\n",
    " '055-PENINSULA TOWNSHIP-0-0002',\n",
    " '055-TRAVERSE CITY-0-0001',\n",
    " '055-TRAVERSE CITY-0-0003',\n",
    " '055-TRAVERSE CITY-0-0007',\n",
    " '055-TRAVERSE CITY-0-0008',\n",
    " '055-TRAVERSE CITY-0-0009',\n",
    " '055-TRAVERSE CITY-0-0010',\n",
    " '055-UNION TOWNSHIP-0-0001',\n",
    " '055-WHITEWATER TOWNSHIP-0-0001',\n",
    " '115-MONROE CITY-0-0003-S'"
   ]
  },
  {
   "cell_type": "markdown",
   "metadata": {},
   "source": [
    "**Reached out to Michael McDonald - His response will help fix Detroit City problems**"
   ]
  },
  {
   "cell_type": "code",
   "execution_count": 266,
   "metadata": {},
   "outputs": [
    {
     "data": {
      "text/plain": [
       "(4701, 131)"
      ]
     },
     "execution_count": 266,
     "metadata": {},
     "output_type": "execute_result"
    }
   ],
   "source": [
    "dfp_gdfv_merge.shape"
   ]
  },
  {
   "cell_type": "code",
   "execution_count": 251,
   "metadata": {},
   "outputs": [
    {
     "name": "stdout",
     "output_type": "stream",
     "text": [
      "There are  4701  total rows\n",
      "545 of these rows have election result differences\n",
      "4156 of these rows are the same\n",
      "['027-ONTWA TOWNSHIP-0-0001' '027-ONTWA TOWNSHIP-0-0002'\n",
      " '027-SILVER CREEK TOWNSHIP-0-0001' '077-KALAMAZOO TOWNSHIP-0-0012'\n",
      " '087-ELBA TOWNSHIP-0-0001' '087-ELBA TOWNSHIP-0-0002'\n",
      " '087-ELBA TOWNSHIP-0-0003' '087-LAPEER TOWNSHIP-0-0001'\n",
      " '087-OREGON TOWNSHIP-0-0001' '087-OREGON TOWNSHIP-0-0002'\n",
      " '099-RICHMOND CITY-0-0001' '115-MONROE CITY-0-0003'\n",
      " '147-CLAY TOWNSHIP-0-0001' '147-CLAY TOWNSHIP-0-0003'\n",
      " '147-CLAY TOWNSHIP-0-0004' '147-CLAY TOWNSHIP-0-0005'\n",
      " '147-EAST CHINA TOWNSHIP-0-0001' '147-EAST CHINA TOWNSHIP-0-0002'\n",
      " '147-IRA TOWNSHIP-0-0001' '147-IRA TOWNSHIP-0-0002'\n",
      " '147-IRA TOWNSHIP-0-0003' '147-MARYSVILLE CITY-0-0001'\n",
      " '147-MARYSVILLE CITY-0-0002' '147-MARYSVILLE CITY-0-0003'\n",
      " '147-MARYSVILLE CITY-0-0004' '147-PORT HURON CITY-0-0001'\n",
      " '147-PORT HURON CITY-0-0002' '147-PORT HURON CITY-0-0003'\n",
      " '147-PORT HURON CITY-0-0004' '147-PORT HURON CITY-0-0005'\n",
      " '147-PORT HURON CITY-0-0006' '147-PORT HURON CITY-0-0007'\n",
      " '147-PORT HURON CITY-0-0008' '147-PORT HURON CITY-0-0009'\n",
      " '147-PORT HURON CITY-0-0010' '147-PORT HURON TOWNSHIP-0-0001'\n",
      " '147-PORT HURON TOWNSHIP-0-0002' '147-PORT HURON TOWNSHIP-0-0003'\n",
      " '147-PORT HURON TOWNSHIP-0-0004' '147-PORT HURON TOWNSHIP-0-0005'\n",
      " '147-ST. CLAIR CITY-0-0001' '147-ST. CLAIR CITY-0-0002'\n",
      " '147-ST. CLAIR CITY-0-0003' '147-ST. CLAIR TOWNSHIP-0-0001'\n",
      " '147-ST. CLAIR TOWNSHIP-0-0002' '163-DETROIT CITY-0-0001'\n",
      " '163-DETROIT CITY-0-0002' '163-DETROIT CITY-0-0003'\n",
      " '163-DETROIT CITY-0-0004' '163-DETROIT CITY-0-0005'\n",
      " '163-DETROIT CITY-0-0006' '163-DETROIT CITY-0-0007'\n",
      " '163-DETROIT CITY-0-0008' '163-DETROIT CITY-0-0009'\n",
      " '163-DETROIT CITY-0-0010' '163-DETROIT CITY-0-0011'\n",
      " '163-DETROIT CITY-0-0012' '163-DETROIT CITY-0-0013'\n",
      " '163-DETROIT CITY-0-0014' '163-DETROIT CITY-0-0015'\n",
      " '163-DETROIT CITY-0-0016' '163-DETROIT CITY-0-0017'\n",
      " '163-DETROIT CITY-0-0018' '163-DETROIT CITY-0-0019'\n",
      " '163-DETROIT CITY-0-0020' '163-DETROIT CITY-0-0021'\n",
      " '163-DETROIT CITY-0-0022' '163-DETROIT CITY-0-0023'\n",
      " '163-DETROIT CITY-0-0024' '163-DETROIT CITY-0-0025'\n",
      " '163-DETROIT CITY-0-0026' '163-DETROIT CITY-0-0027'\n",
      " '163-DETROIT CITY-0-0028' '163-DETROIT CITY-0-0029'\n",
      " '163-DETROIT CITY-0-0030' '163-DETROIT CITY-0-0031'\n",
      " '163-DETROIT CITY-0-0032' '163-DETROIT CITY-0-0033'\n",
      " '163-DETROIT CITY-0-0034' '163-DETROIT CITY-0-0035'\n",
      " '163-DETROIT CITY-0-0036' '163-DETROIT CITY-0-0037'\n",
      " '163-DETROIT CITY-0-0038' '163-DETROIT CITY-0-0039'\n",
      " '163-DETROIT CITY-0-0040' '163-DETROIT CITY-0-0041'\n",
      " '163-DETROIT CITY-0-0042' '163-DETROIT CITY-0-0043'\n",
      " '163-DETROIT CITY-0-0044' '163-DETROIT CITY-0-0045'\n",
      " '163-DETROIT CITY-0-0046' '163-DETROIT CITY-0-0047'\n",
      " '163-DETROIT CITY-0-0048' '163-DETROIT CITY-0-0049'\n",
      " '163-DETROIT CITY-0-0050' '163-DETROIT CITY-0-0051'\n",
      " '163-DETROIT CITY-0-0052' '163-DETROIT CITY-0-0053'\n",
      " '163-DETROIT CITY-0-0054' '163-DETROIT CITY-0-0055'\n",
      " '163-DETROIT CITY-0-0056' '163-DETROIT CITY-0-0057'\n",
      " '163-DETROIT CITY-0-0058' '163-DETROIT CITY-0-0059'\n",
      " '163-DETROIT CITY-0-0060' '163-DETROIT CITY-0-0061'\n",
      " '163-DETROIT CITY-0-0062' '163-DETROIT CITY-0-0063'\n",
      " '163-DETROIT CITY-0-0064' '163-DETROIT CITY-0-0065'\n",
      " '163-DETROIT CITY-0-0066' '163-DETROIT CITY-0-0067'\n",
      " '163-DETROIT CITY-0-0068' '163-DETROIT CITY-0-0069'\n",
      " '163-DETROIT CITY-0-0070' '163-DETROIT CITY-0-0071'\n",
      " '163-DETROIT CITY-0-0072' '163-DETROIT CITY-0-0073'\n",
      " '163-DETROIT CITY-0-0074' '163-DETROIT CITY-0-0075'\n",
      " '163-DETROIT CITY-0-0076' '163-DETROIT CITY-0-0077'\n",
      " '163-DETROIT CITY-0-0078' '163-DETROIT CITY-0-0079'\n",
      " '163-DETROIT CITY-0-0080' '163-DETROIT CITY-0-0081'\n",
      " '163-DETROIT CITY-0-0082' '163-DETROIT CITY-0-0083'\n",
      " '163-DETROIT CITY-0-0084' '163-DETROIT CITY-0-0085'\n",
      " '163-DETROIT CITY-0-0086' '163-DETROIT CITY-0-0087'\n",
      " '163-DETROIT CITY-0-0088' '163-DETROIT CITY-0-0089'\n",
      " '163-DETROIT CITY-0-0090' '163-DETROIT CITY-0-0091'\n",
      " '163-DETROIT CITY-0-0092' '163-DETROIT CITY-0-0093'\n",
      " '163-DETROIT CITY-0-0094' '163-DETROIT CITY-0-0095'\n",
      " '163-DETROIT CITY-0-0096' '163-DETROIT CITY-0-0097'\n",
      " '163-DETROIT CITY-0-0098' '163-DETROIT CITY-0-0099'\n",
      " '163-DETROIT CITY-0-0100' '163-DETROIT CITY-0-0101'\n",
      " '163-DETROIT CITY-0-0102' '163-DETROIT CITY-0-0103'\n",
      " '163-DETROIT CITY-0-0104' '163-DETROIT CITY-0-0105'\n",
      " '163-DETROIT CITY-0-0106' '163-DETROIT CITY-0-0107'\n",
      " '163-DETROIT CITY-0-0108' '163-DETROIT CITY-0-0110'\n",
      " '163-DETROIT CITY-0-0111' '163-DETROIT CITY-0-0112'\n",
      " '163-DETROIT CITY-0-0113' '163-DETROIT CITY-0-0114'\n",
      " '163-DETROIT CITY-0-0115' '163-DETROIT CITY-0-0116'\n",
      " '163-DETROIT CITY-0-0117' '163-DETROIT CITY-0-0118'\n",
      " '163-DETROIT CITY-0-0119' '163-DETROIT CITY-0-0120'\n",
      " '163-DETROIT CITY-0-0121' '163-DETROIT CITY-0-0122'\n",
      " '163-DETROIT CITY-0-0123' '163-DETROIT CITY-0-0124'\n",
      " '163-DETROIT CITY-0-0126' '163-DETROIT CITY-0-0127'\n",
      " '163-DETROIT CITY-0-0128' '163-DETROIT CITY-0-0129'\n",
      " '163-DETROIT CITY-0-0130' '163-DETROIT CITY-0-0131'\n",
      " '163-DETROIT CITY-0-0132' '163-DETROIT CITY-0-0133'\n",
      " '163-DETROIT CITY-0-0134' '163-DETROIT CITY-0-0135'\n",
      " '163-DETROIT CITY-0-0136' '163-DETROIT CITY-0-0137'\n",
      " '163-DETROIT CITY-0-0138' '163-DETROIT CITY-0-0139'\n",
      " '163-DETROIT CITY-0-0140' '163-DETROIT CITY-0-0141'\n",
      " '163-DETROIT CITY-0-0142' '163-DETROIT CITY-0-0143'\n",
      " '163-DETROIT CITY-0-0144' '163-DETROIT CITY-0-0145'\n",
      " '163-DETROIT CITY-0-0146' '163-DETROIT CITY-0-0147'\n",
      " '163-DETROIT CITY-0-0149' '163-DETROIT CITY-0-0150'\n",
      " '163-DETROIT CITY-0-0151' '163-DETROIT CITY-0-0152'\n",
      " '163-DETROIT CITY-0-0153' '163-DETROIT CITY-0-0154'\n",
      " '163-DETROIT CITY-0-0155' '163-DETROIT CITY-0-0156'\n",
      " '163-DETROIT CITY-0-0157' '163-DETROIT CITY-0-0158'\n",
      " '163-DETROIT CITY-0-0159' '163-DETROIT CITY-0-0160'\n",
      " '163-DETROIT CITY-0-0161' '163-DETROIT CITY-0-0162'\n",
      " '163-DETROIT CITY-0-0163' '163-DETROIT CITY-0-0164'\n",
      " '163-DETROIT CITY-0-0165' '163-DETROIT CITY-0-0166'\n",
      " '163-DETROIT CITY-0-0167' '163-DETROIT CITY-0-0168'\n",
      " '163-DETROIT CITY-0-0169' '163-DETROIT CITY-0-0170'\n",
      " '163-DETROIT CITY-0-0171' '163-DETROIT CITY-0-0172'\n",
      " '163-DETROIT CITY-0-0173' '163-DETROIT CITY-0-0174'\n",
      " '163-DETROIT CITY-0-0175' '163-DETROIT CITY-0-0176'\n",
      " '163-DETROIT CITY-0-0177' '163-DETROIT CITY-0-0178'\n",
      " '163-DETROIT CITY-0-0179' '163-DETROIT CITY-0-0180'\n",
      " '163-DETROIT CITY-0-0181' '163-DETROIT CITY-0-0182'\n",
      " '163-DETROIT CITY-0-0183' '163-DETROIT CITY-0-0184'\n",
      " '163-DETROIT CITY-0-0185' '163-DETROIT CITY-0-0186'\n",
      " '163-DETROIT CITY-0-0187' '163-DETROIT CITY-0-0188'\n",
      " '163-DETROIT CITY-0-0189' '163-DETROIT CITY-0-0190'\n",
      " '163-DETROIT CITY-0-0191' '163-DETROIT CITY-0-0192'\n",
      " '163-DETROIT CITY-0-0193' '163-DETROIT CITY-0-0194'\n",
      " '163-DETROIT CITY-0-0195' '163-DETROIT CITY-0-0196'\n",
      " '163-DETROIT CITY-0-0197' '163-DETROIT CITY-0-0198'\n",
      " '163-DETROIT CITY-0-0199' '163-DETROIT CITY-0-0200'\n",
      " '163-DETROIT CITY-0-0201' '163-DETROIT CITY-0-0202'\n",
      " '163-DETROIT CITY-0-0203' '163-DETROIT CITY-0-0204'\n",
      " '163-DETROIT CITY-0-0205' '163-DETROIT CITY-0-0206'\n",
      " '163-DETROIT CITY-0-0207' '163-DETROIT CITY-0-0208'\n",
      " '163-DETROIT CITY-0-0209' '163-DETROIT CITY-0-0210'\n",
      " '163-DETROIT CITY-0-0211' '163-DETROIT CITY-0-0212'\n",
      " '163-DETROIT CITY-0-0213' '163-DETROIT CITY-0-0214'\n",
      " '163-DETROIT CITY-0-0215' '163-DETROIT CITY-0-0216'\n",
      " '163-DETROIT CITY-0-0217' '163-DETROIT CITY-0-0218'\n",
      " '163-DETROIT CITY-0-0219' '163-DETROIT CITY-0-0220'\n",
      " '163-DETROIT CITY-0-0221' '163-DETROIT CITY-0-0222'\n",
      " '163-DETROIT CITY-0-0223' '163-DETROIT CITY-0-0224'\n",
      " '163-DETROIT CITY-0-0225' '163-DETROIT CITY-0-0226'\n",
      " '163-DETROIT CITY-0-0227' '163-DETROIT CITY-0-0228'\n",
      " '163-DETROIT CITY-0-0229' '163-DETROIT CITY-0-0230'\n",
      " '163-DETROIT CITY-0-0231' '163-DETROIT CITY-0-0232'\n",
      " '163-DETROIT CITY-0-0233' '163-DETROIT CITY-0-0234'\n",
      " '163-DETROIT CITY-0-0235' '163-DETROIT CITY-0-0236'\n",
      " '163-DETROIT CITY-0-0237' '163-DETROIT CITY-0-0238'\n",
      " '163-DETROIT CITY-0-0239' '163-DETROIT CITY-0-0240'\n",
      " '163-DETROIT CITY-0-0241' '163-DETROIT CITY-0-0242'\n",
      " '163-DETROIT CITY-0-0243' '163-DETROIT CITY-0-0244'\n",
      " '163-DETROIT CITY-0-0245' '163-DETROIT CITY-0-0246'\n",
      " '163-DETROIT CITY-0-0247' '163-DETROIT CITY-0-0248'\n",
      " '163-DETROIT CITY-0-0249' '163-DETROIT CITY-0-0250'\n",
      " '163-DETROIT CITY-0-0251' '163-DETROIT CITY-0-0252'\n",
      " '163-DETROIT CITY-0-0253' '163-DETROIT CITY-0-0254'\n",
      " '163-DETROIT CITY-0-0255' '163-DETROIT CITY-0-0256'\n",
      " '163-DETROIT CITY-0-0257' '163-DETROIT CITY-0-0258'\n",
      " '163-DETROIT CITY-0-0259' '163-DETROIT CITY-0-0260'\n",
      " '163-DETROIT CITY-0-0261' '163-DETROIT CITY-0-0262'\n",
      " '163-DETROIT CITY-0-0263' '163-DETROIT CITY-0-0264'\n",
      " '163-DETROIT CITY-0-0265' '163-DETROIT CITY-0-0266'\n",
      " '163-DETROIT CITY-0-0267' '163-DETROIT CITY-0-0268'\n",
      " '163-DETROIT CITY-0-0269' '163-DETROIT CITY-0-0270'\n",
      " '163-DETROIT CITY-0-0271' '163-DETROIT CITY-0-0272'\n",
      " '163-DETROIT CITY-0-0273' '163-DETROIT CITY-0-0274'\n",
      " '163-DETROIT CITY-0-0275' '163-DETROIT CITY-0-0276'\n",
      " '163-DETROIT CITY-0-0277' '163-DETROIT CITY-0-0278'\n",
      " '163-DETROIT CITY-0-0279' '163-DETROIT CITY-0-0280'\n",
      " '163-DETROIT CITY-0-0281' '163-DETROIT CITY-0-0282'\n",
      " '163-DETROIT CITY-0-0283' '163-DETROIT CITY-0-0284'\n",
      " '163-DETROIT CITY-0-0285' '163-DETROIT CITY-0-0286'\n",
      " '163-DETROIT CITY-0-0287' '163-DETROIT CITY-0-0288'\n",
      " '163-DETROIT CITY-0-0289' '163-DETROIT CITY-0-0290'\n",
      " '163-DETROIT CITY-0-0291' '163-DETROIT CITY-0-0292'\n",
      " '163-DETROIT CITY-0-0293' '163-DETROIT CITY-0-0294'\n",
      " '163-DETROIT CITY-0-0295' '163-DETROIT CITY-0-0296'\n",
      " '163-DETROIT CITY-0-0297' '163-DETROIT CITY-0-0298'\n",
      " '163-DETROIT CITY-0-0299' '163-DETROIT CITY-0-0300'\n",
      " '163-DETROIT CITY-0-0301' '163-DETROIT CITY-0-0302'\n",
      " '163-DETROIT CITY-0-0303' '163-DETROIT CITY-0-0304'\n",
      " '163-DETROIT CITY-0-0305' '163-DETROIT CITY-0-0306'\n",
      " '163-DETROIT CITY-0-0307' '163-DETROIT CITY-0-0308'\n",
      " '163-DETROIT CITY-0-0309' '163-DETROIT CITY-0-0310'\n",
      " '163-DETROIT CITY-0-0311' '163-DETROIT CITY-0-0312'\n",
      " '163-DETROIT CITY-0-0313' '163-DETROIT CITY-0-0314'\n",
      " '163-DETROIT CITY-0-0315' '163-DETROIT CITY-0-0316'\n",
      " '163-DETROIT CITY-0-0317' '163-DETROIT CITY-0-0318'\n",
      " '163-DETROIT CITY-0-0319' '163-DETROIT CITY-0-0320'\n",
      " '163-DETROIT CITY-0-0321' '163-DETROIT CITY-0-0322'\n",
      " '163-DETROIT CITY-0-0323' '163-DETROIT CITY-0-0324'\n",
      " '163-DETROIT CITY-0-0325' '163-DETROIT CITY-0-0326'\n",
      " '163-DETROIT CITY-0-0327' '163-DETROIT CITY-0-0328'\n",
      " '163-DETROIT CITY-0-0329' '163-DETROIT CITY-0-0330'\n",
      " '163-DETROIT CITY-0-0331' '163-DETROIT CITY-0-0332'\n",
      " '163-DETROIT CITY-0-0333' '163-DETROIT CITY-0-0334'\n",
      " '163-DETROIT CITY-0-0335' '163-DETROIT CITY-0-0336'\n",
      " '163-DETROIT CITY-0-0337' '163-DETROIT CITY-0-0338'\n",
      " '163-DETROIT CITY-0-0339' '163-DETROIT CITY-0-0340'\n",
      " '163-DETROIT CITY-0-0341' '163-DETROIT CITY-0-0342'\n",
      " '163-DETROIT CITY-0-0343' '163-DETROIT CITY-0-0344'\n",
      " '163-DETROIT CITY-0-0345' '163-DETROIT CITY-0-0346'\n",
      " '163-DETROIT CITY-0-0347' '163-DETROIT CITY-0-0348'\n",
      " '163-DETROIT CITY-0-0349' '163-DETROIT CITY-0-0350'\n",
      " '163-DETROIT CITY-0-0351' '163-DETROIT CITY-0-0352'\n",
      " '163-DETROIT CITY-0-0353' '163-DETROIT CITY-0-0354'\n",
      " '163-DETROIT CITY-0-0355' '163-DETROIT CITY-0-0356'\n",
      " '163-DETROIT CITY-0-0357' '163-DETROIT CITY-0-0358'\n",
      " '163-DETROIT CITY-0-0359' '163-DETROIT CITY-0-0360'\n",
      " '163-DETROIT CITY-0-0361' '163-DETROIT CITY-0-0362'\n",
      " '163-DETROIT CITY-0-0363' '163-DETROIT CITY-0-0364'\n",
      " '163-DETROIT CITY-0-0365' '163-DETROIT CITY-0-0366'\n",
      " '163-DETROIT CITY-0-0367' '163-DETROIT CITY-0-0368'\n",
      " '163-DETROIT CITY-0-0369' '163-DETROIT CITY-0-0370'\n",
      " '163-DETROIT CITY-0-0371' '163-DETROIT CITY-0-0372'\n",
      " '163-DETROIT CITY-0-0373' '163-DETROIT CITY-0-0374'\n",
      " '163-DETROIT CITY-0-0375' '163-DETROIT CITY-0-0376'\n",
      " '163-DETROIT CITY-0-0377' '163-DETROIT CITY-0-0378'\n",
      " '163-DETROIT CITY-0-0379' '163-DETROIT CITY-0-0380'\n",
      " '163-DETROIT CITY-0-0381' '163-DETROIT CITY-0-0382'\n",
      " '163-DETROIT CITY-0-0383' '163-DETROIT CITY-0-0384'\n",
      " '163-DETROIT CITY-0-0385' '163-DETROIT CITY-0-0386'\n",
      " '163-DETROIT CITY-0-0387' '163-DETROIT CITY-0-0388'\n",
      " '163-DETROIT CITY-0-0389' '163-DETROIT CITY-0-0390'\n",
      " '163-DETROIT CITY-0-0391' '163-DETROIT CITY-0-0392'\n",
      " '163-DETROIT CITY-0-0393' '163-DETROIT CITY-0-0394'\n",
      " '163-DETROIT CITY-0-0395' '163-DETROIT CITY-0-0396'\n",
      " '163-DETROIT CITY-0-0397' '163-DETROIT CITY-0-0398'\n",
      " '163-DETROIT CITY-0-0399' '163-DETROIT CITY-0-0400'\n",
      " '163-DETROIT CITY-0-0401' '163-DETROIT CITY-0-0402'\n",
      " '163-DETROIT CITY-0-0403' '163-DETROIT CITY-0-0404'\n",
      " '163-DETROIT CITY-0-0405' '163-DETROIT CITY-0-0406'\n",
      " '163-DETROIT CITY-0-0407' '163-DETROIT CITY-0-0408'\n",
      " '163-DETROIT CITY-0-0409' '163-DETROIT CITY-0-0410'\n",
      " '163-DETROIT CITY-0-0411' '163-DETROIT CITY-0-0412'\n",
      " '163-DETROIT CITY-0-0413' '163-DETROIT CITY-0-0414'\n",
      " '163-DETROIT CITY-0-0415' '163-DETROIT CITY-0-0416'\n",
      " '163-DETROIT CITY-0-0417' '163-DETROIT CITY-0-0418'\n",
      " '163-DETROIT CITY-0-0419' '163-DETROIT CITY-0-0420'\n",
      " '163-DETROIT CITY-0-0421' '163-DETROIT CITY-0-0422'\n",
      " '163-DETROIT CITY-0-0423' '163-DETROIT CITY-0-0424'\n",
      " '163-DETROIT CITY-0-0425' '163-DETROIT CITY-0-0426'\n",
      " '163-DETROIT CITY-0-0427' '163-DETROIT CITY-0-0428'\n",
      " '163-DETROIT CITY-0-0429' '163-DETROIT CITY-0-0430'\n",
      " '163-DETROIT CITY-0-0431' '163-DETROIT CITY-0-0432'\n",
      " '163-DETROIT CITY-0-0433' '163-DETROIT CITY-0-0434'\n",
      " '163-DETROIT CITY-0-0435' '163-DETROIT CITY-0-0436'\n",
      " '163-DETROIT CITY-0-0437' '163-DETROIT CITY-0-0438'\n",
      " '163-DETROIT CITY-0-0439' '163-DETROIT CITY-0-0440'\n",
      " '163-DETROIT CITY-0-0441' '163-DETROIT CITY-0-0442'\n",
      " '163-DETROIT CITY-0-0443' '163-DETROIT CITY-0-0444'\n",
      " '163-DETROIT CITY-0-0445' '163-DETROIT CITY-0-0446'\n",
      " '163-DETROIT CITY-0-0447' '163-DETROIT CITY-0-0448'\n",
      " '163-DETROIT CITY-0-0449' '163-DETROIT CITY-0-0450'\n",
      " '163-DETROIT CITY-0-0451' '163-DETROIT CITY-0-0452'\n",
      " '163-DETROIT CITY-0-0453' '163-DETROIT CITY-0-0454'\n",
      " '163-DETROIT CITY-0-0455' '163-DETROIT CITY-0-0456'\n",
      " '163-DETROIT CITY-0-0457' '163-DETROIT CITY-0-0458'\n",
      " '163-DETROIT CITY-0-0459' '163-DETROIT CITY-0-0460'\n",
      " '163-DETROIT CITY-0-0461' '163-DETROIT CITY-0-0462'\n",
      " '163-DETROIT CITY-0-0463' '163-DETROIT CITY-0-0464'\n",
      " '163-DETROIT CITY-0-0465' '163-DETROIT CITY-0-0466'\n",
      " '163-DETROIT CITY-0-0467' '163-DETROIT CITY-0-0468'\n",
      " '163-DETROIT CITY-0-0469' '163-DETROIT CITY-0-0470'\n",
      " '163-DETROIT CITY-0-0471' '163-DETROIT CITY-0-0472'\n",
      " '163-DETROIT CITY-0-0473' '163-DETROIT CITY-0-0474'\n",
      " '163-DETROIT CITY-0-0475' '163-DETROIT CITY-0-0476'\n",
      " '163-DETROIT CITY-0-0477' '163-DETROIT CITY-0-0478'\n",
      " '163-DETROIT CITY-0-0479' '163-DETROIT CITY-0-0480'\n",
      " '163-DETROIT CITY-0-0481' '163-DETROIT CITY-0-0482'\n",
      " '163-DETROIT CITY-0-0483' '163-DETROIT CITY-0-0484'\n",
      " '163-DETROIT CITY-0-0485' '163-DETROIT CITY-0-0486'\n",
      " '163-DETROIT CITY-0-0487' '163-DETROIT CITY-0-0488'\n",
      " '163-DETROIT CITY-0-0489' '163-DETROIT CITY-0-0490'\n",
      " '163-DETROIT CITY-0-0491' '163-DETROIT CITY-0-0492'\n",
      " '163-DETROIT CITY-0-0493' '163-DETROIT CITY-0-0494'\n",
      " '163-DETROIT CITY-0-0495' '163-DETROIT CITY-0-0496'\n",
      " '163-DETROIT CITY-0-0497' '163-DETROIT CITY-0-0498'\n",
      " '163-DETROIT CITY-0-0499' '163-DETROIT CITY-0-0500'\n",
      " '163-DETROIT CITY-0-0501' '163-DETROIT CITY-0-0502'\n",
      " '163-DETROIT CITY-0-0503']\n",
      "\n"
     ]
    }
   ],
   "source": [
    "validater_row_vect(dfp_gdfv_merge, 'precinct_2', column_List)"
   ]
  },
  {
   "cell_type": "markdown",
   "metadata": {},
   "source": [
    "**TODO**\n",
    "Determine if the election result differences are limited to a specific geography or a specific race. Compare to the SOS results to determine who is correct if there are discrepancies.\n",
    "- see that most of the discrepencies are in Detroit City, as we suspected"
   ]
  },
  {
   "cell_type": "markdown",
   "metadata": {},
   "source": [
    "## Validating Geographies"
   ]
  },
  {
   "cell_type": "markdown",
   "metadata": {},
   "source": [
    "Use geom_almost_equals to determine where there are differences in the precincts between the RDH file and the Partner file"
   ]
  },
  {
   "cell_type": "code",
   "execution_count": 260,
   "metadata": {},
   "outputs": [],
   "source": [
    "partner_file = gdfv['geometry']\n",
    "rdh_file = shp"
   ]
  },
  {
   "cell_type": "code",
   "execution_count": 261,
   "metadata": {},
   "outputs": [
    {
     "name": "stdout",
     "output_type": "stream",
     "text": [
      "Breakdown of equal geometries\n",
      " True    4797\n",
      "dtype: int64\n",
      "Num incorrect: 0 []\n"
     ]
    }
   ],
   "source": [
    "# Geom almost equals is being too precise! We want it to be a bit more forgiving \n",
    "equal_geoms = partner_file.geom_almost_equals(rdh_file, decimal=-2)\n",
    "print(\"Breakdown of equal geometries\\n\",equal_geoms.value_counts())\n",
    "precincts = rdh_file[\"geometry\"].to_numpy()\n",
    "\n",
    "incorrect_precincts = precincts[np.where(equal_geoms.to_numpy() != True)]\n",
    "print(f\"Num incorrect: {len(incorrect_precincts)}\", incorrect_precincts)"
   ]
  },
  {
   "cell_type": "markdown",
   "metadata": {},
   "source": [
    "**VEST did not change any geometries from the raw file provided by the Michigan GIS Open Data Site**"
   ]
  },
  {
   "cell_type": "markdown",
   "metadata": {},
   "source": [
    "\n",
    "Plot the map of differences"
   ]
  },
  {
   "cell_type": "code",
   "execution_count": 264,
   "metadata": {},
   "outputs": [
    {
     "name": "stderr",
     "output_type": "stream",
     "text": [
      "/Users/lilyfalk/anaconda3/lib/python3.8/site-packages/geopandas/plotting.py:604: UserWarning: The GeoDataFrame you are attempting to plot is empty. Nothing has been displayed.\n",
      "  warnings.warn(\n",
      "/Users/lilyfalk/anaconda3/lib/python3.8/site-packages/geopandas/plotting.py:373: UserWarning: The GeoSeries you are attempting to plot is empty. Nothing has been displayed.\n",
      "  warnings.warn(\n"
     ]
    },
    {
     "data": {
      "text/plain": [
       "<matplotlib.axes._subplots.AxesSubplot at 0x7fb4f6be7850>"
      ]
     },
     "execution_count": 264,
     "metadata": {},
     "output_type": "execute_result"
    },
    {
     "data": {
      "image/png": "[encoded data removed]",
      "text/plain": [
       "<Figure size 1440x720 with 2 Axes>"
      ]
     },
     "metadata": {
      "needs_background": "light"
     },
     "output_type": "display_data"
    }
   ],
   "source": [
    "different_final = partner_file[equal_geoms == False]\n",
    "different_src = rdh_file[equal_geoms == False]\n",
    "\n",
    "fig, ax = plt.subplots(1, 2, figsize=(20,10))\n",
    "\n",
    "different_src.plot(color=\"Red\", ax=ax[0])\n",
    "different_final.plot(color=\"Blue\", ax=ax[1])"
   ]
  },
  {
   "cell_type": "code",
   "execution_count": null,
   "metadata": {},
   "outputs": [],
   "source": []
  }
 ],
 "metadata": {
  "kernelspec": {
   "display_name": "Python 3",
   "language": "python",
   "name": "python3"
  },
  "language_info": {
   "codemirror_mode": {
    "name": "ipython",
    "version": 3
   },
   "file_extension": ".py",
   "mimetype": "text/x-python",
   "name": "python",
   "nbconvert_exporter": "python",
   "pygments_lexer": "ipython3",
   "version": "3.8.3"
  }
 },
 "nbformat": 4,
 "nbformat_minor": 4
}
