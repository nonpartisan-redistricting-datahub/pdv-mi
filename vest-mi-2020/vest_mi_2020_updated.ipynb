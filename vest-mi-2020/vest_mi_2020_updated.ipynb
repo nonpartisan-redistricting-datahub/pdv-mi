{
 "cells": [
  {
   "cell_type": "markdown",
   "metadata": {},
   "source": [
    "# VEST MI 2020 - US President and US Senate"
   ]
  },
  {
   "cell_type": "code",
   "execution_count": 1,
   "metadata": {},
   "outputs": [],
   "source": [
    "import pandas as pd\n",
    "import geopandas as gp\n",
    "import numpy as np\n",
    "import matplotlib.pyplot as plt"
   ]
  },
  {
   "cell_type": "markdown",
   "metadata": {},
   "source": [
    "## VEST Documentation"
   ]
  },
  {
   "cell_type": "markdown",
   "metadata": {},
   "source": [
    "### Sources:\n",
    "\n",
    "Election results from the Michigan Secretary of State (https://miboecfr.nictusa.com/cgi-bin/cfr/precinct_srch.cgi)  \n",
    "Precinct shapefile from the Michigan GIS Open Data site (https://gis-michigan.opendata.arcgis.com/datasets/49eb37d0a4294924bf8ef5ffe0eac47e_6/)  \n",
    "\n",
    "### Notes:\n",
    "\n",
    "Some counties report \"Statistical Adjustments\" with their precinct results, which can either be positive or negative. Many of these are related to cities that span county lines, as they often match precinct results of these county-spanning cities. In some cases these adjustments cancel each other out across the two counties that share the city, but some (notably Clinton County's East Lansing and Eaton County's Lansing adjustments) are not reciprocated, which introduces error to statewide totals. Other than these, there appears to be a handful of tiny adjustments that were made to make the precinct totals match official countywide totals. None of these adjustments of any type were distributed to precincts, which may result in candidate totals being slightly off official totals.\n",
    "\n",
    "Write-in vote totals have been excluded, since in most cases, a large share of their votes are accounted for via statistical adjustments.\n",
    "\n",
    "### Processing\n",
    "\n",
    "In several cases, cities that overlapped county lines reported results in each county, but the shapefile had a single precinct. These were split at the county line in the shapefile and the two sets of results assigned accordingly.\n",
    "Claire city - Isabella/Clare\n",
    "Brown city - Lapeer/Sanilac\n",
    "Fenton city - Oakland/Genesee\n",
    "Richmond city - St. Clair/Macomb\n",
    "\n",
    "Berrien: the results for Sodus and St. Joseph townships appear to have been flipped, these were corrected\n",
    "Ottawa: via contact with the Park Township clerk's office, precinct 9 in the state shapefile has been renumbered to precinct 4\n",
    "Wayne: Detroit reports absentee votes via Absent Voter Counting Boards. The linkage file of boards to precincts is from OpenElections (https://github.com/openelections/openelections-sources-mi/tree/master/2020), and votes were distributed to precincts proportionally by election day vote.\n",
    "\n",
    "### Races\n",
    "\n",
    "G20PRERTRU - Donald J. Trump (Republican Party)  \n",
    "G20PREDBID - Joseph R. Biden (Democratic Party)  \n",
    "G20PRELJOR - Jo Jorgensen (Libertarian Party)  \n",
    "G20PREGHAW - Howie Hawkins (Green Party)  \n",
    "G20PRENDEL - Rocky De La Fuente (Natural Law Party)  \n",
    "G20PRETBLA - Don Blankenship (US Taxpayers Party)  \n",
    "\n",
    "G20USSRJAM - John James (Republican Party)  \n",
    "G20USSDPET - Gary Peters (Democratic Party)  \n",
    "G20USSGSQU - Marcia Squier (Green Party)  \n",
    "G20USSNDER - Doug Dern (Natural Law Party)  \n",
    "G20USSTWIL - Valerie L. Willis (US Taxpayers Party)  "
   ]
  },
  {
   "cell_type": "markdown",
   "metadata": {},
   "source": [
    "## Load VEST File"
   ]
  },
  {
   "cell_type": "code",
   "execution_count": 2,
   "metadata": {},
   "outputs": [
    {
     "data": {
      "text/html": [
       "<div>\n",
       "<style scoped>\n",
       "    .dataframe tbody tr th:only-of-type {\n",
       "        vertical-align: middle;\n",
       "    }\n",
       "\n",
       "    .dataframe tbody tr th {\n",
       "        vertical-align: top;\n",
       "    }\n",
       "\n",
       "    .dataframe thead th {\n",
       "        text-align: right;\n",
       "    }\n",
       "</style>\n",
       "<table border=\"1\" class=\"dataframe\">\n",
       "  <thead>\n",
       "    <tr style=\"text-align: right;\">\n",
       "      <th></th>\n",
       "      <th>PRECINCTID</th>\n",
       "      <th>COUNTYFIPS</th>\n",
       "      <th>cousubname</th>\n",
       "      <th>elexpre</th>\n",
       "      <th>G20PRERTRU</th>\n",
       "      <th>G20PREDBID</th>\n",
       "      <th>G20PRELJOR</th>\n",
       "      <th>G20PREGHAW</th>\n",
       "      <th>G20PRENDEL</th>\n",
       "      <th>G20PRETBLA</th>\n",
       "      <th>G20USSRJAM</th>\n",
       "      <th>G20USSDPET</th>\n",
       "      <th>G20USSGSQU</th>\n",
       "      <th>G20USSNDER</th>\n",
       "      <th>G20USSTWIL</th>\n",
       "      <th>geometry</th>\n",
       "    </tr>\n",
       "  </thead>\n",
       "  <tbody>\n",
       "    <tr>\n",
       "      <th>0</th>\n",
       "      <td>WP-001-01040-00001</td>\n",
       "      <td>001</td>\n",
       "      <td>Alcona township</td>\n",
       "      <td>001-ALCONA TOWNSHIP-0-0001</td>\n",
       "      <td>564</td>\n",
       "      <td>248</td>\n",
       "      <td>3</td>\n",
       "      <td>2</td>\n",
       "      <td>0</td>\n",
       "      <td>2</td>\n",
       "      <td>539</td>\n",
       "      <td>267</td>\n",
       "      <td>4</td>\n",
       "      <td>2</td>\n",
       "      <td>3</td>\n",
       "      <td>POLYGON ((-83.29467 44.77346, -83.29577 44.773...</td>\n",
       "    </tr>\n",
       "    <tr>\n",
       "      <th>1</th>\n",
       "      <td>WP-001-12460-00001</td>\n",
       "      <td>001</td>\n",
       "      <td>Caledonia township</td>\n",
       "      <td>001-CALEDONIA TOWNSHIP-0-0001</td>\n",
       "      <td>508</td>\n",
       "      <td>245</td>\n",
       "      <td>4</td>\n",
       "      <td>0</td>\n",
       "      <td>0</td>\n",
       "      <td>0</td>\n",
       "      <td>485</td>\n",
       "      <td>261</td>\n",
       "      <td>1</td>\n",
       "      <td>0</td>\n",
       "      <td>4</td>\n",
       "      <td>POLYGON ((-83.64206 44.81382, -83.64578 44.813...</td>\n",
       "    </tr>\n",
       "    <tr>\n",
       "      <th>2</th>\n",
       "      <td>WP-001-19320-00001</td>\n",
       "      <td>001</td>\n",
       "      <td>Curtis township</td>\n",
       "      <td>001-CURTIS TOWNSHIP-0-0001</td>\n",
       "      <td>486</td>\n",
       "      <td>238</td>\n",
       "      <td>2</td>\n",
       "      <td>1</td>\n",
       "      <td>0</td>\n",
       "      <td>1</td>\n",
       "      <td>456</td>\n",
       "      <td>240</td>\n",
       "      <td>5</td>\n",
       "      <td>4</td>\n",
       "      <td>10</td>\n",
       "      <td>POLYGON ((-83.64530 44.51091, -83.64918 44.510...</td>\n",
       "    </tr>\n",
       "    <tr>\n",
       "      <th>3</th>\n",
       "      <td>WP-001-34820-00001</td>\n",
       "      <td>001</td>\n",
       "      <td>Greenbush township</td>\n",
       "      <td>001-GREENBUSH TOWNSHIP-0-0001</td>\n",
       "      <td>560</td>\n",
       "      <td>302</td>\n",
       "      <td>9</td>\n",
       "      <td>1</td>\n",
       "      <td>0</td>\n",
       "      <td>1</td>\n",
       "      <td>531</td>\n",
       "      <td>322</td>\n",
       "      <td>4</td>\n",
       "      <td>5</td>\n",
       "      <td>6</td>\n",
       "      <td>POLYGON ((-83.31858 44.51165, -83.32054 44.511...</td>\n",
       "    </tr>\n",
       "    <tr>\n",
       "      <th>4</th>\n",
       "      <td>WP-001-35740-00001</td>\n",
       "      <td>001</td>\n",
       "      <td>Gustin township</td>\n",
       "      <td>001-GUSTIN TOWNSHIP-0-0001</td>\n",
       "      <td>317</td>\n",
       "      <td>112</td>\n",
       "      <td>9</td>\n",
       "      <td>0</td>\n",
       "      <td>0</td>\n",
       "      <td>0</td>\n",
       "      <td>306</td>\n",
       "      <td>122</td>\n",
       "      <td>1</td>\n",
       "      <td>0</td>\n",
       "      <td>6</td>\n",
       "      <td>POLYGON ((-83.40227 44.59806, -83.41508 44.598...</td>\n",
       "    </tr>\n",
       "  </tbody>\n",
       "</table>\n",
       "</div>"
      ],
      "text/plain": [
       "           PRECINCTID COUNTYFIPS          cousubname  \\\n",
       "0  WP-001-01040-00001        001     Alcona township   \n",
       "1  WP-001-12460-00001        001  Caledonia township   \n",
       "2  WP-001-19320-00001        001     Curtis township   \n",
       "3  WP-001-34820-00001        001  Greenbush township   \n",
       "4  WP-001-35740-00001        001     Gustin township   \n",
       "\n",
       "                         elexpre  G20PRERTRU  G20PREDBID  G20PRELJOR  \\\n",
       "0     001-ALCONA TOWNSHIP-0-0001         564         248           3   \n",
       "1  001-CALEDONIA TOWNSHIP-0-0001         508         245           4   \n",
       "2     001-CURTIS TOWNSHIP-0-0001         486         238           2   \n",
       "3  001-GREENBUSH TOWNSHIP-0-0001         560         302           9   \n",
       "4     001-GUSTIN TOWNSHIP-0-0001         317         112           9   \n",
       "\n",
       "   G20PREGHAW  G20PRENDEL  G20PRETBLA  G20USSRJAM  G20USSDPET  G20USSGSQU  \\\n",
       "0           2           0           2         539         267           4   \n",
       "1           0           0           0         485         261           1   \n",
       "2           1           0           1         456         240           5   \n",
       "3           1           0           1         531         322           4   \n",
       "4           0           0           0         306         122           1   \n",
       "\n",
       "   G20USSNDER  G20USSTWIL                                           geometry  \n",
       "0           2           3  POLYGON ((-83.29467 44.77346, -83.29577 44.773...  \n",
       "1           0           4  POLYGON ((-83.64206 44.81382, -83.64578 44.813...  \n",
       "2           4          10  POLYGON ((-83.64530 44.51091, -83.64918 44.510...  \n",
       "3           5           6  POLYGON ((-83.31858 44.51165, -83.32054 44.511...  \n",
       "4           0           6  POLYGON ((-83.40227 44.59806, -83.41508 44.598...  "
      ]
     },
     "execution_count": 2,
     "metadata": {},
     "output_type": "execute_result"
    }
   ],
   "source": [
    "vest_mi_20 = gp.read_file('./raw_from_source/mi_2020/mi_2020.shp')\n",
    "\n",
    "#Take a look\n",
    "vest_mi_20.head()"
   ]
  },
  {
   "cell_type": "markdown",
   "metadata": {},
   "source": [
    "## Election Results"
   ]
  },
  {
   "cell_type": "code",
   "execution_count": 3,
   "metadata": {},
   "outputs": [
    {
     "data": {
      "text/plain": [
       "Index(['PRECINCTID', 'COUNTYFIPS', 'cousubname', 'elexpre', 'G20PRERTRU',\n",
       "       'G20PREDBID', 'G20PRELJOR', 'G20PREGHAW', 'G20PRENDEL', 'G20PRETBLA',\n",
       "       'G20USSRJAM', 'G20USSDPET', 'G20USSGSQU', 'G20USSNDER', 'G20USSTWIL',\n",
       "       'geometry'],\n",
       "      dtype='object')"
      ]
     },
     "execution_count": 3,
     "metadata": {},
     "output_type": "execute_result"
    }
   ],
   "source": [
    "vest_mi_20.columns"
   ]
  },
  {
   "cell_type": "markdown",
   "metadata": {
    "tags": []
   },
   "source": [
    "### All candidates in election results file:\n",
    "\n",
    "**2020:GEN:1:00000:0:-1417:WELLS:KASEY::NPA:  \n",
    "**2020:GEN:1:00000:0:-1416:HOEFLING:TOM::NPA:  \n",
    "**2020:GEN:1:00000:0:-1415:HUNTER:TARA RENEE::NPA:  \n",
    "**2020:GEN:1:00000:0:-1414:CARROLL:BRIAN:T.:NPA:  \n",
    "**2020:GEN:1:00000:0:-1413:SIMMONS:JADE::NPA:**  \n",
    "2020:GEN:1:00000:0:-1403:TRUMP:DONALD:J.:REP:  \n",
    "2020:GEN:1:00000:0:-1401:BIDEN:JOSEPH:R.:DEM:  \n",
    "2020:GEN:1:00000:0:-1398:DE LA FUENTE:ROCKY::NLP:  \n",
    "2020:GEN:1:00000:0:-1391:BLANKENSHIP:DON::UST:  \n",
    "2020:GEN:1:00000:0:-1385:JORGENSEN:JO::LIB:  \n",
    "2020:GEN:1:00000:0:-1373:HAWKINS:HOWIE::GRN:  \n",
    "**2020:GEN:5:00000:0:-1419:GADZINSKI:LEONARD:PAUL:NPA:  \n",
    "**2020:GEN:5:00000:0:-1400:CARR:ROBERT:WILLIAM:NPA:**  \n",
    "2020:GEN:5:00000:0:-1397:DERN:DOUG::NLP:  \n",
    "2020:GEN:5:00000:0:-1393:WILLIS:VALERIE:L.:UST:  \n",
    "2020:GEN:5:00000:0:-1365:SQUIER:MARCIA::GRN:  \n",
    "2020:GEN:5:00000:0:-1304:PETERS:GARY::DEM:  \n",
    "2020:GEN:5:00000:0:-1283:JAMES:JOHN::REP:  "
   ]
  },
  {
   "cell_type": "code",
   "execution_count": 4,
   "metadata": {},
   "outputs": [],
   "source": [
    "## Load + Process format\n",
    "df = pd.read_csv('./raw_from_source/2020GEN/2020vote.txt', delimiter = '\\t', header = None)\n",
    "\n",
    "#columns defined in documentation\n",
    "df.columns = ['election_year','election_type','office_code','district_code',\n",
    "            'status_code','candidate_id','county_code','city_town_code','ward_number',\n",
    "            'precinct_number','precinct_label','precinct_votes','na_col']\n",
    "\n",
    "#Filter to office code `1` for president and '5' for senate\n",
    "df = df[(df['office_code'] == 1)|(df['office_code'] == 5)]\n",
    "\n",
    "#Filter out candidates we don't need\n",
    "df = df[~df[\"candidate_id\"].isin([-1417,-1416,-1415,-1414,-1413,-1419,-1400])]"
   ]
  },
  {
   "cell_type": "code",
   "execution_count": 5,
   "metadata": {},
   "outputs": [
    {
     "data": {
      "text/plain": [
       "array(['', 'N', 'S', 'W', 'AVCB', 'A', 'B', 'C'], dtype=object)"
      ]
     },
     "execution_count": 5,
     "metadata": {},
     "output_type": "execute_result"
    }
   ],
   "source": [
    "#Have to replace NaNs in `precinct_label` with empty strings so that we can use it as an index in the pivot\n",
    "df['precinct_label'] = df['precinct_label'].replace(np.nan, '', regex = True)\n",
    "\n",
    "#Confirm that this worked\n",
    "df[\"precinct_label\"].unique()"
   ]
  },
  {
   "cell_type": "code",
   "execution_count": 6,
   "metadata": {},
   "outputs": [],
   "source": [
    "## PIVOT RESULTS\n",
    "df_pivot = df.pivot_table(index = ['county_code','city_town_code','ward_number','precinct_number','precinct_label'],\n",
    "                         columns = ['candidate_id'],\n",
    "                        values = ['precinct_votes'],\n",
    "                         aggfunc = 'sum')\n",
    "\n",
    "#Clean up the indices\n",
    "df_pivot.reset_index(inplace = True,drop=False)"
   ]
  },
  {
   "cell_type": "code",
   "execution_count": 7,
   "metadata": {},
   "outputs": [],
   "source": [
    "#Define a dictionary to rename the columns\n",
    "candidate_id_dict = {(    'county_code',    ''):'county_code',( 'city_town_code',    ''):'city_town_code',\n",
    "                     (    'ward_number',    ''):'ward_number',('precinct_number',    ''):'precinct_number',\n",
    "                     ( 'precinct_label',    ''):'precinct_label',\n",
    "                     ('precinct_votes', -1403):'G20PRERTRU', ('precinct_votes', -1401):'G20PREDBID',('precinct_votes', -1385):'G20PRELJOR', \n",
    "                    ('precinct_votes', -1373):'G20PREGHAW', ('precinct_votes', -1398):'G20PRENDEL',('precinct_votes', -1391):'G20PRETBLA', \n",
    "                    ('precinct_votes', -1283):'G20USSRJAM',('precinct_votes', -1304):'G20USSDPET',('precinct_votes', -1365):'G20USSGSQU', \n",
    "                    ('precinct_votes', -1397):'G20USSNDER',('precinct_votes', -1393):'G20USSTWIL'}\n",
    "\n",
    "#Rename the columns\n",
    "df_pivot.columns = df_pivot.columns.map(candidate_id_dict)"
   ]
  },
  {
   "cell_type": "code",
   "execution_count": 8,
   "metadata": {},
   "outputs": [
    {
     "data": {
      "text/plain": [
       "['G20PRERTRU',\n",
       " 'G20PREDBID',\n",
       " 'G20PRENDEL',\n",
       " 'G20USSNDER',\n",
       " 'G20USSTWIL',\n",
       " 'G20PRETBLA',\n",
       " 'G20PRELJOR',\n",
       " 'G20PREGHAW',\n",
       " 'G20USSGSQU',\n",
       " 'G20USSDPET',\n",
       " 'G20USSRJAM']"
      ]
     },
     "execution_count": 8,
     "metadata": {},
     "output_type": "execute_result"
    }
   ],
   "source": [
    "#Define a list of races\n",
    "races = list(i for i in df_pivot.columns if \"G20\" in i)\n",
    "races"
   ]
  },
  {
   "cell_type": "code",
   "execution_count": 9,
   "metadata": {},
   "outputs": [],
   "source": [
    "#Clean the vote columns\n",
    "for race in races:\n",
    "    df_pivot[race] = df_pivot[race].fillna(0)"
   ]
  },
  {
   "cell_type": "markdown",
   "metadata": {},
   "source": [
    "## Statewide Total Check"
   ]
  },
  {
   "cell_type": "code",
   "execution_count": 10,
   "metadata": {},
   "outputs": [],
   "source": [
    "#Function to check column/race totals\n",
    "def statewide_totals_check(partner_df,source_df,column_list):\n",
    "    print(\"***Statewide Totals Check***\")\n",
    "    for race in column_list:\n",
    "        if (sum(partner_df[race])- source_df[race].sum() != 0):\n",
    "            print(race+\" has a difference of \"+str(sum(partner_df[race])-source_df[race].sum())+\" votes\")\n",
    "            print(\"\\tVEST: \"+str(sum(partner_df[race]))+\" votes\")\n",
    "            print(\"\\tSOURCES: \"+str(source_df[race].sum())+\" votes\")\n",
    "        else:\n",
    "            print(race + \" is equal\", \"\\tVEST / RDH: \" + str(sum(partner_df[race])))"
   ]
  },
  {
   "cell_type": "code",
   "execution_count": 11,
   "metadata": {},
   "outputs": [
    {
     "name": "stdout",
     "output_type": "stream",
     "text": [
      "***Statewide Totals Check***\n",
      "G20PRERTRU has a difference of 625.0 votes\n",
      "\tVEST: 2649859 votes\n",
      "\tSOURCES: 2649234.0 votes\n",
      "G20PREDBID has a difference of 2567.0 votes\n",
      "\tVEST: 2804036 votes\n",
      "\tSOURCES: 2801469.0 votes\n",
      "G20PRENDEL has a difference of 2.0 votes\n",
      "\tVEST: 2985 votes\n",
      "\tSOURCES: 2983.0 votes\n",
      "G20USSNDER has a difference of 6.0 votes\n",
      "\tVEST: 13093 votes\n",
      "\tSOURCES: 13087.0 votes\n",
      "G20USSTWIL has a difference of 30.0 votes\n",
      "\tVEST: 50596 votes\n",
      "\tSOURCES: 50566.0 votes\n",
      "G20PRETBLA has a difference of -27.0 votes\n",
      "\tVEST: 7204 votes\n",
      "\tSOURCES: 7231.0 votes\n",
      "G20PRELJOR has a difference of 50.0 votes\n",
      "\tVEST: 60406 votes\n",
      "\tSOURCES: 60356.0 votes\n",
      "G20PREGHAW has a difference of 13.0 votes\n",
      "\tVEST: 13718 votes\n",
      "\tSOURCES: 13705.0 votes\n",
      "G20USSGSQU has a difference of 37.0 votes\n",
      "\tVEST: 39217 votes\n",
      "\tSOURCES: 39180.0 votes\n",
      "G20USSDPET has a difference of 2517.0 votes\n",
      "\tVEST: 2734558 votes\n",
      "\tSOURCES: 2732041.0 votes\n",
      "G20USSRJAM has a difference of 609.0 votes\n",
      "\tVEST: 2642221 votes\n",
      "\tSOURCES: 2641612.0 votes\n"
     ]
    }
   ],
   "source": [
    "statewide_totals_check(vest_mi_20,df_pivot,races)"
   ]
  },
  {
   "cell_type": "code",
   "execution_count": 12,
   "metadata": {},
   "outputs": [
    {
     "name": "stdout",
     "output_type": "stream",
     "text": [
      "***Statewide Totals Check***\n",
      "G20PRERTRU is equal \tVEST / RDH: 2649859\n",
      "G20PREDBID is equal \tVEST / RDH: 2804036\n",
      "G20PRENDEL is equal \tVEST / RDH: 2985\n",
      "G20USSNDER is equal \tVEST / RDH: 13093\n",
      "G20USSTWIL is equal \tVEST / RDH: 50596\n",
      "G20PRETBLA is equal \tVEST / RDH: 7204\n",
      "G20PRELJOR is equal \tVEST / RDH: 60406\n",
      "G20PREGHAW is equal \tVEST / RDH: 13718\n",
      "G20USSGSQU is equal \tVEST / RDH: 39217\n",
      "G20USSDPET is equal \tVEST / RDH: 2734558\n",
      "G20USSRJAM is equal \tVEST / RDH: 2642221\n"
     ]
    }
   ],
   "source": [
    "#Check when removing the statistical adjustments (these have precinct number 9999)\n",
    "df_pivot_wo_adjustments = df_pivot[df_pivot[\"precinct_number\"]!=9999]\n",
    "statewide_totals_check(vest_mi_20,df_pivot_wo_adjustments,races)"
   ]
  },
  {
   "cell_type": "markdown",
   "metadata": {},
   "source": [
    "## County Total Check"
   ]
  },
  {
   "cell_type": "code",
   "execution_count": 13,
   "metadata": {},
   "outputs": [],
   "source": [
    "#### Add County Name\n",
    "#The SOS results have county codes that are not FIPS codes. Pulled the `county.txt` file to a Sheet and lined it up with county fips codes from Wikipedia. Loading in this file created in Sheets. \n",
    "county_names = pd.read_csv('./raw_from_source/county_codes.csv')"
   ]
  },
  {
   "cell_type": "code",
   "execution_count": 14,
   "metadata": {},
   "outputs": [],
   "source": [
    "#Make the FIPS 3 digits long\n",
    "county_names[\"county_fips\"] = county_names[\"county_fips\"].astype(str).str.zfill(3)\n",
    "\n",
    "#Create a dictionary to go from county code to the county FIPS\n",
    "cty_code_dict = dict(zip(county_names[\"county_code\"],county_names[\"county_fips\"].str.zfill(3)))\n",
    "\n",
    "#Add in the county FIPS\n",
    "df_pivot[\"COUNTYFIPS\"] = df_pivot[\"county_code\"].map(cty_code_dict).fillna(\"n/a\")"
   ]
  },
  {
   "cell_type": "code",
   "execution_count": 15,
   "metadata": {},
   "outputs": [],
   "source": [
    "def county_totals_check(partner_df,source_df,column_list,county_col,full_print=False):\n",
    "    print(\"***Countywide Totals Check***\")\n",
    "    print(\"\")\n",
    "    diff_counties=[]\n",
    "    for race in column_list:\n",
    "        diff = partner_df.groupby([county_col]).sum()[race]-source_df.groupby([county_col]).sum()[race]\n",
    "        for val in diff[diff != 0].index.values.tolist():\n",
    "            if val not in diff_counties:\n",
    "                diff_counties.append(val)\n",
    "        if len(diff[diff != 0]!=0):   \n",
    "            print(race + \" contains differences in these counties:\")\n",
    "            for val in diff[diff != 0].index.values.tolist():\n",
    "                county_differences = diff[diff != 0]\n",
    "                print(\"\\t\"+val+\" has a difference of \"+str(county_differences[val])+\" votes\")\n",
    "                print(\"\\t\\tVEST: \"+str(partner_df.groupby([county_col]).sum().loc[val,race])+\" votes\")\n",
    "                print(\"\\t\\tSOURCES: \"+str(source_df.groupby([county_col]).sum().loc[val,race])+\" votes\")\n",
    "            if (full_print):\n",
    "                for val in diff[diff == 0].index.values.tolist():\n",
    "                    county_similarities = diff[diff == 0]\n",
    "                    print(\"\\t\"+val + \": \"+ str(partner_df.groupby([county_col]).sum().loc[val,race])+\" votes\")\n",
    "        else:\n",
    "            print(race + \" is equal across all counties\")\n",
    "            if (full_print):\n",
    "                for val in diff[diff == 0].index.values.tolist():\n",
    "                    county_similarities = diff[diff == 0]\n",
    "                    print(\"\\t\"+val + \": \"+ str(partner_df.groupby([county_col]).sum().loc[val,race])+\" votes\")\n",
    "    print(diff_counties)"
   ]
  },
  {
   "cell_type": "code",
   "execution_count": 16,
   "metadata": {},
   "outputs": [
    {
     "name": "stdout",
     "output_type": "stream",
     "text": [
      "***Countywide Totals Check***\n",
      "\n",
      "G20PRERTRU contains differences in these counties:\n",
      "\t015 has a difference of -550.0 votes\n",
      "\t\tVEST: 22921 votes\n",
      "\t\tSOURCES: 23471.0 votes\n",
      "\t017 has a difference of 32.0 votes\n",
      "\t\tVEST: 33157 votes\n",
      "\t\tSOURCES: 33125.0 votes\n",
      "\t025 has a difference of -2.0 votes\n",
      "\t\tVEST: 36219 votes\n",
      "\t\tSOURCES: 36221.0 votes\n",
      "\t035 has a difference of 18.0 votes\n",
      "\t\tVEST: 10842 votes\n",
      "\t\tSOURCES: 10824.0 votes\n",
      "\t037 has a difference of 314.0 votes\n",
      "\t\tVEST: 25098 votes\n",
      "\t\tSOURCES: 24784.0 votes\n",
      "\t045 has a difference of 309.0 votes\n",
      "\t\tVEST: 31798 votes\n",
      "\t\tSOURCES: 31489.0 votes\n",
      "\t065 has a difference of -5.0 votes\n",
      "\t\tVEST: 47634 votes\n",
      "\t\tSOURCES: 47639.0 votes\n",
      "\t073 has a difference of -18.0 votes\n",
      "\t\tVEST: 14833 votes\n",
      "\t\tSOURCES: 14851.0 votes\n",
      "\t087 has a difference of -2.0 votes\n",
      "\t\tVEST: 35484 votes\n",
      "\t\tSOURCES: 35486.0 votes\n",
      "\t111 has a difference of -32.0 votes\n",
      "\t\tVEST: 27643 votes\n",
      "\t\tSOURCES: 27675.0 votes\n",
      "\t115 has a difference of 12.0 votes\n",
      "\t\tVEST: 52722 votes\n",
      "\t\tSOURCES: 52710.0 votes\n",
      "\t147 has a difference of -3.0 votes\n",
      "\t\tVEST: 59188 votes\n",
      "\t\tSOURCES: 59191.0 votes\n",
      "\t151 has a difference of 2.0 votes\n",
      "\t\tVEST: 16192 votes\n",
      "\t\tSOURCES: 16190.0 votes\n",
      "\t153 has a difference of 550.0 votes\n",
      "\t\tVEST: 3640 votes\n",
      "\t\tSOURCES: 3090.0 votes\n",
      "G20PREDBID contains differences in these counties:\n",
      "\t015 has a difference of -480.0 votes\n",
      "\t\tVEST: 11317 votes\n",
      "\t\tSOURCES: 11797.0 votes\n",
      "\t017 has a difference of 35.0 votes\n",
      "\t\tVEST: 26186 votes\n",
      "\t\tSOURCES: 26151.0 votes\n",
      "\t025 has a difference of -8.0 votes\n",
      "\t\tVEST: 28869 votes\n",
      "\t\tSOURCES: 28877.0 votes\n",
      "\t035 has a difference of 9.0 votes\n",
      "\t\tVEST: 5191 votes\n",
      "\t\tSOURCES: 5182.0 votes\n",
      "\t037 has a difference of 924.0 votes\n",
      "\t\tVEST: 21968 votes\n",
      "\t\tSOURCES: 21044.0 votes\n",
      "\t045 has a difference of 1648.0 votes\n",
      "\t\tVEST: 31299 votes\n",
      "\t\tSOURCES: 29651.0 votes\n",
      "\t065 has a difference of -3.0 votes\n",
      "\t\tVEST: 94209 votes\n",
      "\t\tSOURCES: 94212.0 votes\n",
      "\t073 has a difference of -9.0 votes\n",
      "\t\tVEST: 14081 votes\n",
      "\t\tSOURCES: 14090.0 votes\n",
      "\t079 has a difference of 1.0 votes\n",
      "\t\tVEST: 3003 votes\n",
      "\t\tSOURCES: 3002.0 votes\n",
      "\t111 has a difference of -35.0 votes\n",
      "\t\tVEST: 20458 votes\n",
      "\t\tSOURCES: 20493.0 votes\n",
      "\t115 has a difference of 5.0 votes\n",
      "\t\tVEST: 32980 votes\n",
      "\t\tSOURCES: 32975.0 votes\n",
      "\t153 has a difference of 480.0 votes\n",
      "\t\tVEST: 2069 votes\n",
      "\t\tSOURCES: 1589.0 votes\n",
      "G20PRENDEL contains differences in these counties:\n",
      "\t015 has a difference of -1.0 votes\n",
      "\t\tVEST: 15 votes\n",
      "\t\tSOURCES: 16.0 votes\n",
      "\t037 has a difference of 1.0 votes\n",
      "\t\tVEST: 28 votes\n",
      "\t\tSOURCES: 27.0 votes\n",
      "\t045 has a difference of 2.0 votes\n",
      "\t\tVEST: 32 votes\n",
      "\t\tSOURCES: 30.0 votes\n",
      "\t065 has a difference of -1.0 votes\n",
      "\t\tVEST: 103 votes\n",
      "\t\tSOURCES: 104.0 votes\n",
      "\t153 has a difference of 1.0 votes\n",
      "\t\tVEST: 5 votes\n",
      "\t\tSOURCES: 4.0 votes\n",
      "G20USSNDER contains differences in these counties:\n",
      "\t015 has a difference of -3.0 votes\n",
      "\t\tVEST: 92 votes\n",
      "\t\tSOURCES: 95.0 votes\n",
      "\t037 has a difference of 2.0 votes\n",
      "\t\tVEST: 86 votes\n",
      "\t\tSOURCES: 84.0 votes\n",
      "\t045 has a difference of 4.0 votes\n",
      "\t\tVEST: 158 votes\n",
      "\t\tSOURCES: 154.0 votes\n",
      "\t153 has a difference of 3.0 votes\n",
      "\t\tVEST: 14 votes\n",
      "\t\tSOURCES: 11.0 votes\n",
      "G20USSTWIL contains differences in these counties:\n",
      "\t015 has a difference of -18.0 votes\n",
      "\t\tVEST: 348 votes\n",
      "\t\tSOURCES: 366.0 votes\n",
      "\t035 has a difference of 1.0 votes\n",
      "\t\tVEST: 123 votes\n",
      "\t\tSOURCES: 122.0 votes\n",
      "\t037 has a difference of 3.0 votes\n",
      "\t\tVEST: 304 votes\n",
      "\t\tSOURCES: 301.0 votes\n",
      "\t045 has a difference of 27.0 votes\n",
      "\t\tVEST: 642 votes\n",
      "\t\tSOURCES: 615.0 votes\n",
      "\t065 has a difference of -1.0 votes\n",
      "\t\tVEST: 1259 votes\n",
      "\t\tSOURCES: 1260.0 votes\n",
      "\t073 has a difference of -1.0 votes\n",
      "\t\tVEST: 244 votes\n",
      "\t\tSOURCES: 245.0 votes\n",
      "\t079 has a difference of 1.0 votes\n",
      "\t\tVEST: 76 votes\n",
      "\t\tSOURCES: 75.0 votes\n",
      "\t153 has a difference of 18.0 votes\n",
      "\t\tVEST: 45 votes\n",
      "\t\tSOURCES: 27.0 votes\n",
      "G20PRETBLA contains differences in these counties:\n",
      "\t015 has a difference of -1.0 votes\n",
      "\t\tVEST: 58 votes\n",
      "\t\tSOURCES: 59.0 votes\n",
      "\t035 has a difference of 1.0 votes\n",
      "\t\tVEST: 21 votes\n",
      "\t\tSOURCES: 20.0 votes\n",
      "\t045 has a difference of 4.0 votes\n",
      "\t\tVEST: 114 votes\n",
      "\t\tSOURCES: 110.0 votes\n",
      "\t073 has a difference of -1.0 votes\n",
      "\t\tVEST: 36 votes\n",
      "\t\tSOURCES: 37.0 votes\n",
      "\t079 has a difference of -4.0 votes\n",
      "\t\tVEST: 17 votes\n",
      "\t\tSOURCES: 21.0 votes\n",
      "\t119 has a difference of -27.0 votes\n",
      "\t\tVEST: 11 votes\n",
      "\t\tSOURCES: 38.0 votes\n",
      "\t153 has a difference of 1.0 votes\n",
      "\t\tVEST: 11 votes\n",
      "\t\tSOURCES: 10.0 votes\n",
      "G20PRELJOR contains differences in these counties:\n",
      "\t015 has a difference of -17.0 votes\n",
      "\t\tVEST: 462 votes\n",
      "\t\tSOURCES: 479.0 votes\n",
      "\t017 has a difference of 3.0 votes\n",
      "\t\tVEST: 691 votes\n",
      "\t\tSOURCES: 688.0 votes\n",
      "\t025 has a difference of -1.0 votes\n",
      "\t\tVEST: 889 votes\n",
      "\t\tSOURCES: 890.0 votes\n",
      "\t037 has a difference of 5.0 votes\n",
      "\t\tVEST: 659 votes\n",
      "\t\tSOURCES: 654.0 votes\n",
      "\t045 has a difference of 19.0 votes\n",
      "\t\tVEST: 895 votes\n",
      "\t\tSOURCES: 876.0 votes\n",
      "\t111 has a difference of -3.0 votes\n",
      "\t\tVEST: 698 votes\n",
      "\t\tSOURCES: 701.0 votes\n",
      "\t119 has a difference of 27.0 votes\n",
      "\t\tVEST: 38 votes\n",
      "\t\tSOURCES: 11.0 votes\n",
      "\t153 has a difference of 17.0 votes\n",
      "\t\tVEST: 57 votes\n",
      "\t\tSOURCES: 40.0 votes\n",
      "G20PREGHAW contains differences in these counties:\n",
      "\t015 has a difference of -2.0 votes\n",
      "\t\tVEST: 81 votes\n",
      "\t\tSOURCES: 83.0 votes\n",
      "\t017 has a difference of 1.0 votes\n",
      "\t\tVEST: 156 votes\n",
      "\t\tSOURCES: 155.0 votes\n",
      "\t037 has a difference of 4.0 votes\n",
      "\t\tVEST: 94 votes\n",
      "\t\tSOURCES: 90.0 votes\n",
      "\t045 has a difference of 9.0 votes\n",
      "\t\tVEST: 166 votes\n",
      "\t\tSOURCES: 157.0 votes\n",
      "\t111 has a difference of -1.0 votes\n",
      "\t\tVEST: 115 votes\n",
      "\t\tSOURCES: 116.0 votes\n",
      "\t153 has a difference of 2.0 votes\n",
      "\t\tVEST: 14 votes\n",
      "\t\tSOURCES: 12.0 votes\n",
      "G20USSGSQU contains differences in these counties:\n",
      "\t015 has a difference of -9.0 votes\n",
      "\t\tVEST: 232 votes\n",
      "\t\tSOURCES: 241.0 votes\n",
      "\t017 has a difference of 1.0 votes\n",
      "\t\tVEST: 383 votes\n",
      "\t\tSOURCES: 382.0 votes\n",
      "\t037 has a difference of 4.0 votes\n",
      "\t\tVEST: 266 votes\n",
      "\t\tSOURCES: 262.0 votes\n",
      "\t045 has a difference of 33.0 votes\n",
      "\t\tVEST: 451 votes\n",
      "\t\tSOURCES: 418.0 votes\n",
      "\t111 has a difference of -1.0 votes\n",
      "\t\tVEST: 239 votes\n",
      "\t\tSOURCES: 240.0 votes\n",
      "\t153 has a difference of 9.0 votes\n",
      "\t\tVEST: 26 votes\n",
      "\t\tSOURCES: 17.0 votes\n",
      "G20USSDPET contains differences in these counties:\n",
      "\t015 has a difference of -442.0 votes\n",
      "\t\tVEST: 10927 votes\n",
      "\t\tSOURCES: 11369.0 votes\n",
      "\t017 has a difference of 32.0 votes\n",
      "\t\tVEST: 27104 votes\n",
      "\t\tSOURCES: 27072.0 votes\n",
      "\t025 has a difference of -7.0 votes\n",
      "\t\tVEST: 28138 votes\n",
      "\t\tSOURCES: 28145.0 votes\n",
      "\t035 has a difference of 8.0 votes\n",
      "\t\tVEST: 5365 votes\n",
      "\t\tSOURCES: 5357.0 votes\n",
      "\t037 has a difference of 892.0 votes\n",
      "\t\tVEST: 21490 votes\n",
      "\t\tSOURCES: 20598.0 votes\n",
      "\t045 has a difference of 1636.0 votes\n",
      "\t\tVEST: 31460 votes\n",
      "\t\tSOURCES: 29824.0 votes\n",
      "\t065 has a difference of -5.0 votes\n",
      "\t\tVEST: 92373 votes\n",
      "\t\tSOURCES: 92378.0 votes\n",
      "\t073 has a difference of -8.0 votes\n",
      "\t\tVEST: 13857 votes\n",
      "\t\tSOURCES: 13865.0 votes\n",
      "\t079 has a difference of 1.0 votes\n",
      "\t\tVEST: 3014 votes\n",
      "\t\tSOURCES: 3013.0 votes\n",
      "\t111 has a difference of -32.0 votes\n",
      "\t\tVEST: 19895 votes\n",
      "\t\tSOURCES: 19927.0 votes\n",
      "\t153 has a difference of 442.0 votes\n",
      "\t\tVEST: 2154 votes\n",
      "\t\tSOURCES: 1712.0 votes\n",
      "G20USSRJAM contains differences in these counties:\n",
      "\t015 has a difference of -569.0 votes\n",
      "\t\tVEST: 22930 votes\n",
      "\t\tSOURCES: 23499.0 votes\n",
      "\t017 has a difference of 37.0 votes\n",
      "\t\tVEST: 31351 votes\n",
      "\t\tSOURCES: 31314.0 votes\n",
      "\t025 has a difference of -5.0 votes\n",
      "\t\tVEST: 35781 votes\n",
      "\t\tSOURCES: 35786.0 votes\n",
      "\t035 has a difference of 19.0 votes\n",
      "\t\tVEST: 10448 votes\n",
      "\t\tSOURCES: 10429.0 votes\n",
      "\t037 has a difference of 348.0 votes\n",
      "\t\tVEST: 25269 votes\n",
      "\t\tSOURCES: 24921.0 votes\n",
      "\t045 has a difference of 272.0 votes\n",
      "\t\tVEST: 30876 votes\n",
      "\t\tSOURCES: 30604.0 votes\n",
      "\t057 has a difference of 1.0 votes\n",
      "\t\tVEST: 11747 votes\n",
      "\t\tSOURCES: 11746.0 votes\n",
      "\t065 has a difference of -6.0 votes\n",
      "\t\tVEST: 48372 votes\n",
      "\t\tSOURCES: 48378.0 votes\n",
      "\t073 has a difference of -19.0 votes\n",
      "\t\tVEST: 14692 votes\n",
      "\t\tSOURCES: 14711.0 votes\n",
      "\t079 has a difference of -1.0 votes\n",
      "\t\tVEST: 7327 votes\n",
      "\t\tSOURCES: 7328.0 votes\n",
      "\t087 has a difference of -2.0 votes\n",
      "\t\tVEST: 34342 votes\n",
      "\t\tSOURCES: 34344.0 votes\n",
      "\t111 has a difference of -37.0 votes\n",
      "\t\tVEST: 28020 votes\n",
      "\t\tSOURCES: 28057.0 votes\n",
      "\t151 has a difference of 2.0 votes\n",
      "\t\tVEST: 15542 votes\n",
      "\t\tSOURCES: 15540.0 votes\n",
      "\t153 has a difference of 569.0 votes\n",
      "\t\tVEST: 3474 votes\n",
      "\t\tSOURCES: 2905.0 votes\n",
      "['015', '017', '025', '035', '037', '045', '065', '073', '087', '111', '115', '147', '151', '153', '079', '119', '057']\n"
     ]
    }
   ],
   "source": [
    "county_totals_check(vest_mi_20,df_pivot,races,\"COUNTYFIPS\",full_print=False)"
   ]
  },
  {
   "cell_type": "code",
   "execution_count": 17,
   "metadata": {},
   "outputs": [
    {
     "name": "stdout",
     "output_type": "stream",
     "text": [
      "***Countywide Totals Check***\n",
      "\n",
      "G20PRERTRU contains differences in these counties:\n",
      "\t015 has a difference of -550.0 votes\n",
      "\t\tVEST: 22921 votes\n",
      "\t\tSOURCES: 23471.0 votes\n",
      "\t153 has a difference of 550.0 votes\n",
      "\t\tVEST: 3640 votes\n",
      "\t\tSOURCES: 3090.0 votes\n",
      "G20PREDBID contains differences in these counties:\n",
      "\t015 has a difference of -480.0 votes\n",
      "\t\tVEST: 11317 votes\n",
      "\t\tSOURCES: 11797.0 votes\n",
      "\t153 has a difference of 480.0 votes\n",
      "\t\tVEST: 2069 votes\n",
      "\t\tSOURCES: 1589.0 votes\n",
      "G20PRENDEL contains differences in these counties:\n",
      "\t015 has a difference of -1.0 votes\n",
      "\t\tVEST: 15 votes\n",
      "\t\tSOURCES: 16.0 votes\n",
      "\t153 has a difference of 1.0 votes\n",
      "\t\tVEST: 5 votes\n",
      "\t\tSOURCES: 4.0 votes\n",
      "G20USSNDER contains differences in these counties:\n",
      "\t015 has a difference of -3.0 votes\n",
      "\t\tVEST: 92 votes\n",
      "\t\tSOURCES: 95.0 votes\n",
      "\t153 has a difference of 3.0 votes\n",
      "\t\tVEST: 14 votes\n",
      "\t\tSOURCES: 11.0 votes\n",
      "G20USSTWIL contains differences in these counties:\n",
      "\t015 has a difference of -18.0 votes\n",
      "\t\tVEST: 348 votes\n",
      "\t\tSOURCES: 366.0 votes\n",
      "\t153 has a difference of 18.0 votes\n",
      "\t\tVEST: 45 votes\n",
      "\t\tSOURCES: 27.0 votes\n",
      "G20PRETBLA contains differences in these counties:\n",
      "\t015 has a difference of -1.0 votes\n",
      "\t\tVEST: 58 votes\n",
      "\t\tSOURCES: 59.0 votes\n",
      "\t153 has a difference of 1.0 votes\n",
      "\t\tVEST: 11 votes\n",
      "\t\tSOURCES: 10.0 votes\n",
      "G20PRELJOR contains differences in these counties:\n",
      "\t015 has a difference of -17.0 votes\n",
      "\t\tVEST: 462 votes\n",
      "\t\tSOURCES: 479.0 votes\n",
      "\t153 has a difference of 17.0 votes\n",
      "\t\tVEST: 57 votes\n",
      "\t\tSOURCES: 40.0 votes\n",
      "G20PREGHAW contains differences in these counties:\n",
      "\t015 has a difference of -2.0 votes\n",
      "\t\tVEST: 81 votes\n",
      "\t\tSOURCES: 83.0 votes\n",
      "\t153 has a difference of 2.0 votes\n",
      "\t\tVEST: 14 votes\n",
      "\t\tSOURCES: 12.0 votes\n",
      "G20USSGSQU contains differences in these counties:\n",
      "\t015 has a difference of -9.0 votes\n",
      "\t\tVEST: 232 votes\n",
      "\t\tSOURCES: 241.0 votes\n",
      "\t153 has a difference of 9.0 votes\n",
      "\t\tVEST: 26 votes\n",
      "\t\tSOURCES: 17.0 votes\n",
      "G20USSDPET contains differences in these counties:\n",
      "\t015 has a difference of -442.0 votes\n",
      "\t\tVEST: 10927 votes\n",
      "\t\tSOURCES: 11369.0 votes\n",
      "\t153 has a difference of 442.0 votes\n",
      "\t\tVEST: 2154 votes\n",
      "\t\tSOURCES: 1712.0 votes\n",
      "G20USSRJAM contains differences in these counties:\n",
      "\t015 has a difference of -569.0 votes\n",
      "\t\tVEST: 22930 votes\n",
      "\t\tSOURCES: 23499.0 votes\n",
      "\t153 has a difference of 569.0 votes\n",
      "\t\tVEST: 3474 votes\n",
      "\t\tSOURCES: 2905.0 votes\n",
      "['015', '153']\n"
     ]
    }
   ],
   "source": [
    "#Try the comparison without the statistical adjustments\n",
    "df_pivot_wo_adjustments = df_pivot[df_pivot[\"precinct_number\"]!=9999]\n",
    "county_totals_check(vest_mi_20,df_pivot_wo_adjustments,races,\"COUNTYFIPS\",full_print=False)"
   ]
  },
  {
   "cell_type": "markdown",
   "metadata": {},
   "source": [
    "For this, it seems like VEST assigned a precinct slightly differently than how we did, 015-HASTINGS CITY-0-0001\t550.\n",
    "\n",
    "We'll check below whether this seems correct"
   ]
  },
  {
   "cell_type": "code",
   "execution_count": 18,
   "metadata": {},
   "outputs": [
    {
     "name": "stdout",
     "output_type": "stream",
     "text": [
      "(24, 17)\n",
      "(23, 16)\n",
      "(11, 17)\n",
      "(12, 16)\n"
     ]
    }
   ],
   "source": [
    "print(df_pivot[df_pivot[\"COUNTYFIPS\"]==\"015\"].sort_values([\"G20PRERTRU\"]).shape)\n",
    "print(vest_mi_20[vest_mi_20[\"COUNTYFIPS\"]==\"015\"].sort_values([\"G20PRERTRU\"]).shape)\n",
    "\n",
    "print(df_pivot[df_pivot[\"COUNTYFIPS\"]==\"153\"].sort_values([\"G20PRERTRU\"]).shape)\n",
    "print(vest_mi_20[vest_mi_20[\"COUNTYFIPS\"]==\"153\"].sort_values([\"G20PRERTRU\"]).shape)"
   ]
  },
  {
   "cell_type": "markdown",
   "metadata": {},
   "source": [
    "## Precinct Totals Check"
   ]
  },
  {
   "cell_type": "code",
   "execution_count": 19,
   "metadata": {},
   "outputs": [],
   "source": [
    "#### Add City/Township Name\n",
    "#Loading in the `2016city.txt` file that has the corresponding names for the city codes in the election results file\n",
    "city_codes = pd.read_csv('./raw_from_source/2020GEN/2020city.txt',delimiter='\\t',header=None)\n",
    "city_codes.columns = ['election_year','election_type','county_code','city_town_code','city_town_name','null']\n",
    "city_codes.drop(['election_year','election_type','null'],axis=1,inplace=True)\n",
    "df_pivot = df_pivot.merge(city_codes, on = ['county_code','city_town_code'])"
   ]
  },
  {
   "cell_type": "code",
   "execution_count": 20,
   "metadata": {},
   "outputs": [
    {
     "name": "stdout",
     "output_type": "stream",
     "text": [
      "   county_code  city_town_code  ward_number  precinct_number precinct_label  \\\n",
      "0            1               2            0                1                  \n",
      "1            1               4            0                1                  \n",
      "2            1               6            0                1                  \n",
      "3            1               8            0                1                  \n",
      "4            1              10            0                1                  \n",
      "\n",
      "   G20PRERTRU  G20PREDBID  G20PRENDEL  G20USSNDER  G20USSTWIL  G20PRETBLA  \\\n",
      "0       564.0       248.0         0.0         2.0         3.0         2.0   \n",
      "1       508.0       245.0         0.0         0.0         4.0         0.0   \n",
      "2       486.0       238.0         0.0         4.0        10.0         1.0   \n",
      "3       560.0       302.0         0.0         5.0         6.0         1.0   \n",
      "4       317.0       112.0         0.0         0.0         6.0         0.0   \n",
      "\n",
      "   G20PRELJOR  G20PREGHAW  G20USSGSQU  G20USSDPET  G20USSRJAM COUNTYFIPS  \\\n",
      "0         3.0         2.0         4.0       267.0       539.0        001   \n",
      "1         4.0         0.0         1.0       261.0       485.0        001   \n",
      "2         2.0         1.0         5.0       240.0       456.0        001   \n",
      "3         9.0         1.0         4.0       322.0       531.0        001   \n",
      "4         9.0         0.0         1.0       122.0       306.0        001   \n",
      "\n",
      "       city_town_name  \n",
      "0     ALCONA TOWNSHIP  \n",
      "1  CALEDONIA TOWNSHIP  \n",
      "2     CURTIS TOWNSHIP  \n",
      "3  GREENBUSH TOWNSHIP  \n",
      "4     GUSTIN TOWNSHIP  \n"
     ]
    }
   ],
   "source": [
    "print(df_pivot.head())"
   ]
  },
  {
   "cell_type": "markdown",
   "metadata": {
    "tags": []
   },
   "source": [
    "## Looking for unique ids"
   ]
  },
  {
   "cell_type": "code",
   "execution_count": 21,
   "metadata": {},
   "outputs": [],
   "source": [
    "#Add in census geocodes\n",
    "census = pd.read_excel('./raw_from_source/all-geocodes-v2020.xlsx',skiprows=[0,1,2,3])"
   ]
  },
  {
   "cell_type": "code",
   "execution_count": 22,
   "metadata": {},
   "outputs": [
    {
     "data": {
      "text/html": [
       "<div>\n",
       "<style scoped>\n",
       "    .dataframe tbody tr th:only-of-type {\n",
       "        vertical-align: middle;\n",
       "    }\n",
       "\n",
       "    .dataframe tbody tr th {\n",
       "        vertical-align: top;\n",
       "    }\n",
       "\n",
       "    .dataframe thead th {\n",
       "        text-align: right;\n",
       "    }\n",
       "</style>\n",
       "<table border=\"1\" class=\"dataframe\">\n",
       "  <thead>\n",
       "    <tr style=\"text-align: right;\">\n",
       "      <th></th>\n",
       "      <th>Summary Level</th>\n",
       "      <th>State Code (FIPS)</th>\n",
       "      <th>County Code (FIPS)</th>\n",
       "      <th>County Subdivision Code (FIPS)</th>\n",
       "      <th>Place Code (FIPS)</th>\n",
       "      <th>Consolidtated City Code (FIPS)</th>\n",
       "      <th>Area Name (including legal/statistical area description)</th>\n",
       "    </tr>\n",
       "  </thead>\n",
       "  <tbody>\n",
       "    <tr>\n",
       "      <th>0</th>\n",
       "      <td>10</td>\n",
       "      <td>0</td>\n",
       "      <td>0</td>\n",
       "      <td>0</td>\n",
       "      <td>0</td>\n",
       "      <td>0</td>\n",
       "      <td>United States</td>\n",
       "    </tr>\n",
       "    <tr>\n",
       "      <th>1</th>\n",
       "      <td>40</td>\n",
       "      <td>1</td>\n",
       "      <td>0</td>\n",
       "      <td>0</td>\n",
       "      <td>0</td>\n",
       "      <td>0</td>\n",
       "      <td>Alabama</td>\n",
       "    </tr>\n",
       "    <tr>\n",
       "      <th>2</th>\n",
       "      <td>50</td>\n",
       "      <td>1</td>\n",
       "      <td>1</td>\n",
       "      <td>0</td>\n",
       "      <td>0</td>\n",
       "      <td>0</td>\n",
       "      <td>Autauga County</td>\n",
       "    </tr>\n",
       "    <tr>\n",
       "      <th>3</th>\n",
       "      <td>50</td>\n",
       "      <td>1</td>\n",
       "      <td>3</td>\n",
       "      <td>0</td>\n",
       "      <td>0</td>\n",
       "      <td>0</td>\n",
       "      <td>Baldwin County</td>\n",
       "    </tr>\n",
       "    <tr>\n",
       "      <th>4</th>\n",
       "      <td>50</td>\n",
       "      <td>1</td>\n",
       "      <td>5</td>\n",
       "      <td>0</td>\n",
       "      <td>0</td>\n",
       "      <td>0</td>\n",
       "      <td>Barbour County</td>\n",
       "    </tr>\n",
       "    <tr>\n",
       "      <th>...</th>\n",
       "      <td>...</td>\n",
       "      <td>...</td>\n",
       "      <td>...</td>\n",
       "      <td>...</td>\n",
       "      <td>...</td>\n",
       "      <td>...</td>\n",
       "      <td>...</td>\n",
       "    </tr>\n",
       "    <tr>\n",
       "      <th>43833</th>\n",
       "      <td>50</td>\n",
       "      <td>72</td>\n",
       "      <td>145</td>\n",
       "      <td>0</td>\n",
       "      <td>0</td>\n",
       "      <td>0</td>\n",
       "      <td>Vega Baja Municipio</td>\n",
       "    </tr>\n",
       "    <tr>\n",
       "      <th>43834</th>\n",
       "      <td>50</td>\n",
       "      <td>72</td>\n",
       "      <td>147</td>\n",
       "      <td>0</td>\n",
       "      <td>0</td>\n",
       "      <td>0</td>\n",
       "      <td>Vieques Municipio</td>\n",
       "    </tr>\n",
       "    <tr>\n",
       "      <th>43835</th>\n",
       "      <td>50</td>\n",
       "      <td>72</td>\n",
       "      <td>149</td>\n",
       "      <td>0</td>\n",
       "      <td>0</td>\n",
       "      <td>0</td>\n",
       "      <td>Villalba Municipio</td>\n",
       "    </tr>\n",
       "    <tr>\n",
       "      <th>43836</th>\n",
       "      <td>50</td>\n",
       "      <td>72</td>\n",
       "      <td>151</td>\n",
       "      <td>0</td>\n",
       "      <td>0</td>\n",
       "      <td>0</td>\n",
       "      <td>Yabucoa Municipio</td>\n",
       "    </tr>\n",
       "    <tr>\n",
       "      <th>43837</th>\n",
       "      <td>50</td>\n",
       "      <td>72</td>\n",
       "      <td>153</td>\n",
       "      <td>0</td>\n",
       "      <td>0</td>\n",
       "      <td>0</td>\n",
       "      <td>Yauco Municipio</td>\n",
       "    </tr>\n",
       "  </tbody>\n",
       "</table>\n",
       "<p>43838 rows × 7 columns</p>\n",
       "</div>"
      ],
      "text/plain": [
       "       Summary Level  State Code (FIPS)  County Code (FIPS)  \\\n",
       "0                 10                  0                   0   \n",
       "1                 40                  1                   0   \n",
       "2                 50                  1                   1   \n",
       "3                 50                  1                   3   \n",
       "4                 50                  1                   5   \n",
       "...              ...                ...                 ...   \n",
       "43833             50                 72                 145   \n",
       "43834             50                 72                 147   \n",
       "43835             50                 72                 149   \n",
       "43836             50                 72                 151   \n",
       "43837             50                 72                 153   \n",
       "\n",
       "       County Subdivision Code (FIPS)  Place Code (FIPS)  \\\n",
       "0                                   0                  0   \n",
       "1                                   0                  0   \n",
       "2                                   0                  0   \n",
       "3                                   0                  0   \n",
       "4                                   0                  0   \n",
       "...                               ...                ...   \n",
       "43833                               0                  0   \n",
       "43834                               0                  0   \n",
       "43835                               0                  0   \n",
       "43836                               0                  0   \n",
       "43837                               0                  0   \n",
       "\n",
       "       Consolidtated City Code (FIPS)  \\\n",
       "0                                   0   \n",
       "1                                   0   \n",
       "2                                   0   \n",
       "3                                   0   \n",
       "4                                   0   \n",
       "...                               ...   \n",
       "43833                               0   \n",
       "43834                               0   \n",
       "43835                               0   \n",
       "43836                               0   \n",
       "43837                               0   \n",
       "\n",
       "      Area Name (including legal/statistical area description)  \n",
       "0                                          United States        \n",
       "1                                                Alabama        \n",
       "2                                         Autauga County        \n",
       "3                                         Baldwin County        \n",
       "4                                         Barbour County        \n",
       "...                                                  ...        \n",
       "43833                                Vega Baja Municipio        \n",
       "43834                                  Vieques Municipio        \n",
       "43835                                 Villalba Municipio        \n",
       "43836                                  Yabucoa Municipio        \n",
       "43837                                    Yauco Municipio        \n",
       "\n",
       "[43838 rows x 7 columns]"
      ]
     },
     "execution_count": 22,
     "metadata": {},
     "output_type": "execute_result"
    }
   ],
   "source": [
    "census"
   ]
  },
  {
   "cell_type": "code",
   "execution_count": 23,
   "metadata": {},
   "outputs": [
    {
     "name": "stderr",
     "output_type": "stream",
     "text": [
      "/Users/peterhorton/opt/anaconda3/envs/geo_env/lib/python3.9/site-packages/pandas/core/indexing.py:1676: SettingWithCopyWarning: \n",
      "A value is trying to be set on a copy of a slice from a DataFrame.\n",
      "Try using .loc[row_indexer,col_indexer] = value instead\n",
      "\n",
      "See the caveats in the documentation: https://pandas.pydata.org/pandas-docs/stable/user_guide/indexing.html#returning-a-view-versus-a-copy\n",
      "  self._setitem_single_column(ilocs[0], value, pi)\n",
      "<ipython-input-23-80b106870c87>:8: SettingWithCopyWarning: \n",
      "A value is trying to be set on a copy of a slice from a DataFrame.\n",
      "Try using .loc[row_indexer,col_indexer] = value instead\n",
      "\n",
      "See the caveats in the documentation: https://pandas.pydata.org/pandas-docs/stable/user_guide/indexing.html#returning-a-view-versus-a-copy\n",
      "  censusmi[\"city_town_name\"] = censusmi['Area Name (including legal/statistical area description)']\n",
      "<ipython-input-23-80b106870c87>:11: SettingWithCopyWarning: \n",
      "A value is trying to be set on a copy of a slice from a DataFrame.\n",
      "Try using .loc[row_indexer,col_indexer] = value instead\n",
      "\n",
      "See the caveats in the documentation: https://pandas.pydata.org/pandas-docs/stable/user_guide/indexing.html#returning-a-view-versus-a-copy\n",
      "  censusmi[\"County Code (FIPS)\"] = censusmi[\"County Code (FIPS)\"].astype(str)\n",
      "<ipython-input-23-80b106870c87>:14: SettingWithCopyWarning: \n",
      "A value is trying to be set on a copy of a slice from a DataFrame.\n",
      "Try using .loc[row_indexer,col_indexer] = value instead\n",
      "\n",
      "See the caveats in the documentation: https://pandas.pydata.org/pandas-docs/stable/user_guide/indexing.html#returning-a-view-versus-a-copy\n",
      "  censusmi[\"join_id\"] = censusmi[\"County Code (FIPS)\"].str.zfill(3)+\"-\"+censusmi[\"city_town_name\"]\n"
     ]
    }
   ],
   "source": [
    "#Filter down to Michigan\n",
    "censusmi = census[census['State Code (FIPS)'] == 26]\n",
    "\n",
    "#Make the names uppercase\n",
    "censusmi.loc[:,'Area Name (including legal/statistical area description)']=censusmi.loc[:,'Area Name (including legal/statistical area description)'].str.upper()\n",
    "\n",
    "#Create a new column\n",
    "censusmi[\"city_town_name\"] = censusmi['Area Name (including legal/statistical area description)']\n",
    "\n",
    "#Cast the FIPS column to a string\n",
    "censusmi[\"County Code (FIPS)\"] = censusmi[\"County Code (FIPS)\"].astype(str)\n",
    "\n",
    "#Create a join_id\n",
    "censusmi[\"join_id\"] = censusmi[\"County Code (FIPS)\"].str.zfill(3)+\"-\"+censusmi[\"city_town_name\"]"
   ]
  },
  {
   "cell_type": "code",
   "execution_count": 24,
   "metadata": {},
   "outputs": [
    {
     "data": {
      "text/plain": [
       "163-DETROIT CITY            637\n",
       "081-GRAND RAPIDS CITY        76\n",
       "049-FLINT CITY               61\n",
       "161-ANN ARBOR CITY           53\n",
       "099-WARREN CITY              49\n",
       "                           ... \n",
       "063-PARIS TOWNSHIP            1\n",
       "103-WEST BRANCH TOWNSHIP      1\n",
       "121-RAVENNA TOWNSHIP          1\n",
       "051-BEAVERTON CITY            1\n",
       "095-PENTLAND TOWNSHIP         1\n",
       "Name: join_id, Length: 1568, dtype: int64"
      ]
     },
     "execution_count": 24,
     "metadata": {},
     "output_type": "execute_result"
    }
   ],
   "source": [
    "#Create a join ID in the election results\n",
    "df_pivot[\"join_id\"] = df_pivot[\"COUNTYFIPS\"] +\"-\"+df_pivot[\"city_town_name\"] \n",
    "\n",
    "#Note: This does not need to be unique, as there will be repreat GEOCODES in the election results\n",
    "df_pivot[\"join_id\"].value_counts()"
   ]
  },
  {
   "cell_type": "code",
   "execution_count": 25,
   "metadata": {},
   "outputs": [
    {
     "data": {
      "text/plain": [
       "000-EAST TAWAS CITY              1\n",
       "077-COMSTOCK CHARTER TOWNSHIP    1\n",
       "017-MOUNT FOREST TOWNSHIP        1\n",
       "000-GOODRICH VILLAGE             1\n",
       "031-BURT TOWNSHIP                1\n",
       "                                ..\n",
       "163-SOUTHGATE CITY               1\n",
       "021-ORONOKO CHARTER TOWNSHIP     1\n",
       "045-GRAND LEDGE CITY             1\n",
       "023-GIRARD TOWNSHIP              1\n",
       "095-PENTLAND TOWNSHIP            1\n",
       "Name: join_id, Length: 2157, dtype: int64"
      ]
     },
     "execution_count": 25,
     "metadata": {},
     "output_type": "execute_result"
    }
   ],
   "source": [
    "#These should be unique\n",
    "censusmi[\"join_id\"].value_counts()"
   ]
  },
  {
   "cell_type": "code",
   "execution_count": 26,
   "metadata": {},
   "outputs": [],
   "source": [
    "#Filter out the statistical adjustments, VEST says in their documentation that they don't allocate these\n",
    "stat_adjustments = df_pivot[df_pivot[\"precinct_number\"]==9999]\n",
    "non_stat_adjustments = df_pivot[df_pivot[\"precinct_number\"]!=9999]"
   ]
  },
  {
   "cell_type": "code",
   "execution_count": 27,
   "metadata": {},
   "outputs": [
    {
     "data": {
      "text/plain": [
       "both          3996\n",
       "left_only      893\n",
       "right_only       0\n",
       "Name: _merge, dtype: int64"
      ]
     },
     "execution_count": 27,
     "metadata": {},
     "output_type": "execute_result"
    }
   ],
   "source": [
    "election_results_final = pd.merge(non_stat_adjustments,censusmi,how=\"left\",on=\"join_id\",indicator=True,validate='m:1')\n",
    "election_results_final[\"_merge\"].value_counts()                            "
   ]
  },
  {
   "cell_type": "code",
   "execution_count": 28,
   "metadata": {},
   "outputs": [],
   "source": [
    "unjoined = list(election_results_final[election_results_final[\"_merge\"]==\"left_only\"][\"join_id\"].unique())"
   ]
  },
  {
   "cell_type": "code",
   "execution_count": 29,
   "metadata": {},
   "outputs": [
    {
     "name": "stderr",
     "output_type": "stream",
     "text": [
      "<ipython-input-29-a2358379a837>:1: SettingWithCopyWarning: \n",
      "A value is trying to be set on a copy of a slice from a DataFrame.\n",
      "Try using .loc[row_indexer,col_indexer] = value instead\n",
      "\n",
      "See the caveats in the documentation: https://pandas.pydata.org/pandas-docs/stable/user_guide/indexing.html#returning-a-view-versus-a-copy\n",
      "  non_stat_adjustments[\"join_id\"] = non_stat_adjustments[\"join_id\"].apply(lambda x: str(x).replace(\"TOWNSHIP\",\"CHARTER TOWNSHIP\") if x in unjoined else x)\n"
     ]
    }
   ],
   "source": [
    "non_stat_adjustments[\"join_id\"] = non_stat_adjustments[\"join_id\"].apply(lambda x: str(x).replace(\"TOWNSHIP\",\"CHARTER TOWNSHIP\") if x in unjoined else x)\n",
    "#non_stat_adjustments[\"join_id\"] = non_stat_adjustments[\"join_id\"].apply(lambda x: str(x).replace(\"CITY\",\"CITY CITY\") if x in unjoined else x)\n",
    "\n",
    "\n",
    "\n",
    "\n"
   ]
  },
  {
   "cell_type": "code",
   "execution_count": 30,
   "metadata": {},
   "outputs": [],
   "source": [
    "election_results_final = pd.merge(non_stat_adjustments,censusmi,how=\"left\",on=\"join_id\",indicator=True,validate='m:1')"
   ]
  },
  {
   "cell_type": "code",
   "execution_count": 31,
   "metadata": {},
   "outputs": [
    {
     "data": {
      "text/plain": [
       "both          4830\n",
       "left_only       59\n",
       "right_only       0\n",
       "Name: _merge, dtype: int64"
      ]
     },
     "execution_count": 31,
     "metadata": {},
     "output_type": "execute_result"
    }
   ],
   "source": [
    "election_results_final[\"_merge\"].value_counts()"
   ]
  },
  {
   "cell_type": "code",
   "execution_count": 32,
   "metadata": {},
   "outputs": [],
   "source": [
    "unjoined = list(election_results_final[election_results_final[\"_merge\"]==\"left_only\"][\"join_id\"].unique())"
   ]
  },
  {
   "cell_type": "code",
   "execution_count": 33,
   "metadata": {},
   "outputs": [
    {
     "name": "stderr",
     "output_type": "stream",
     "text": [
      "<ipython-input-33-158e5ade9d13>:1: SettingWithCopyWarning: \n",
      "A value is trying to be set on a copy of a slice from a DataFrame.\n",
      "Try using .loc[row_indexer,col_indexer] = value instead\n",
      "\n",
      "See the caveats in the documentation: https://pandas.pydata.org/pandas-docs/stable/user_guide/indexing.html#returning-a-view-versus-a-copy\n",
      "  non_stat_adjustments[\"join_id\"] = non_stat_adjustments[\"join_id\"].apply(lambda x: str(x).replace(\"CITY\",\"CITY CITY\") if x in unjoined else x)\n"
     ]
    }
   ],
   "source": [
    "non_stat_adjustments[\"join_id\"] = non_stat_adjustments[\"join_id\"].apply(lambda x: str(x).replace(\"CITY\",\"CITY CITY\") if x in unjoined else x)"
   ]
  },
  {
   "cell_type": "code",
   "execution_count": 34,
   "metadata": {},
   "outputs": [
    {
     "data": {
      "text/plain": [
       "both          4869\n",
       "left_only       20\n",
       "right_only       0\n",
       "Name: _merge, dtype: int64"
      ]
     },
     "execution_count": 34,
     "metadata": {},
     "output_type": "execute_result"
    }
   ],
   "source": [
    "election_results_final = pd.merge(non_stat_adjustments,censusmi,how=\"left\",on=\"join_id\",indicator=True,validate='m:1')\n",
    "election_results_final[\"_merge\"].value_counts()"
   ]
  },
  {
   "cell_type": "code",
   "execution_count": 35,
   "metadata": {},
   "outputs": [],
   "source": [
    "unjoined = list(election_results_final[election_results_final[\"_merge\"]==\"left_only\"][\"join_id\"].unique())"
   ]
  },
  {
   "cell_type": "code",
   "execution_count": 36,
   "metadata": {},
   "outputs": [
    {
     "data": {
      "text/plain": [
       "['005-GUNPLAIN CHARTER TOWNSHIP',\n",
       " '013-LANSE CHARTER TOWNSHIP',\n",
       " '027-LA GRANGE CHARTER TOWNSHIP',\n",
       " '029-ST JAMES CHARTER TOWNSHIP',\n",
       " '037-DE WITT CHARTER TOWNSHIP',\n",
       " '037-DE WITT CITY CITY',\n",
       " '047-PLEASANT VIEW CHARTER TOWNSHIP',\n",
       " '079-COLD SPRINGS CHARTER TOWNSHIP',\n",
       " '099-GROSS POINTE SHORES CITY CITY',\n",
       " '125-CLARKSTON CITY CITY',\n",
       " '163-GROSSE POINTE SHORES CITY CITY']"
      ]
     },
     "execution_count": 36,
     "metadata": {},
     "output_type": "execute_result"
    }
   ],
   "source": [
    "unjoined"
   ]
  },
  {
   "cell_type": "code",
   "execution_count": 37,
   "metadata": {},
   "outputs": [],
   "source": [
    "id_changes_dict = {'005-GUNPLAIN CHARTER TOWNSHIP':'005-GUN PLAIN TOWNSHIP',\n",
    " '013-LANSE CHARTER TOWNSHIP':\"013-L'ANSE TOWNSHIP\",\n",
    " '027-LA GRANGE CHARTER TOWNSHIP':'027-LAGRANGE TOWNSHIP',\n",
    " '029-ST JAMES CHARTER TOWNSHIP':\"029-ST. JAMES TOWNSHIP\",\n",
    " '037-DE WITT CHARTER TOWNSHIP':\"037-DEWITT CHARTER TOWNSHIP\",\n",
    " '037-DE WITT CITY CITY':\"037-DEWITT CITY\",\n",
    " '047-PLEASANT VIEW CHARTER TOWNSHIP':\"047-PLEASANTVIEW TOWNSHIP\",\n",
    " '079-COLD SPRINGS CHARTER TOWNSHIP':\"079-COLDSPRINGS TOWNSHIP\",\n",
    " '099-GROSS POINTE SHORES CITY CITY':'099-VILLAGE OF GROSSE POINTE SHORES CITY',\n",
    " '125-CLARKSTON CITY CITY':'125-VILLAGE OF CLARKSTON CITY',\n",
    " '163-GROSSE POINTE SHORES CITY CITY':'163-VILLAGE OF GROSSE POINTE SHORES CITY'\n",
    "}"
   ]
  },
  {
   "cell_type": "code",
   "execution_count": 38,
   "metadata": {},
   "outputs": [
    {
     "name": "stderr",
     "output_type": "stream",
     "text": [
      "<ipython-input-38-97f01aced782>:1: SettingWithCopyWarning: \n",
      "A value is trying to be set on a copy of a slice from a DataFrame.\n",
      "Try using .loc[row_indexer,col_indexer] = value instead\n",
      "\n",
      "See the caveats in the documentation: https://pandas.pydata.org/pandas-docs/stable/user_guide/indexing.html#returning-a-view-versus-a-copy\n",
      "  non_stat_adjustments[\"join_id\"] = non_stat_adjustments[\"join_id\"].map(id_changes_dict).fillna(non_stat_adjustments[\"join_id\"])\n"
     ]
    }
   ],
   "source": [
    "non_stat_adjustments[\"join_id\"] = non_stat_adjustments[\"join_id\"].map(id_changes_dict).fillna(non_stat_adjustments[\"join_id\"])"
   ]
  },
  {
   "cell_type": "code",
   "execution_count": 39,
   "metadata": {},
   "outputs": [
    {
     "data": {
      "text/plain": [
       "both          4889\n",
       "left_only        0\n",
       "right_only       0\n",
       "Name: _merge, dtype: int64"
      ]
     },
     "execution_count": 39,
     "metadata": {},
     "output_type": "execute_result"
    }
   ],
   "source": [
    "election_results_final = pd.merge(non_stat_adjustments,censusmi,how=\"left\",on=\"join_id\",indicator=True,validate='m:1')\n",
    "election_results_final[\"_merge\"].value_counts()"
   ]
  },
  {
   "cell_type": "code",
   "execution_count": 40,
   "metadata": {},
   "outputs": [],
   "source": [
    "election_results_final.drop([\"_merge\"],axis=1,inplace=True)"
   ]
  },
  {
   "cell_type": "markdown",
   "metadata": {},
   "source": [
    "### Distribute AVCB votes"
   ]
  },
  {
   "cell_type": "code",
   "execution_count": 42,
   "metadata": {},
   "outputs": [],
   "source": [
    "#Split up the votes into different categories\n",
    "detroit_avcbs = election_results_final[election_results_final[\"precinct_label\"]==\"AVCB\"]\n",
    "precinct_votes = election_results_final[election_results_final[\"precinct_label\"]!=\"AVCB\"]\n",
    "detroit_precincts = precinct_votes[precinct_votes[\"County Subdivision Code (FIPS)\"]==22000]\n",
    "other_votes = precinct_votes[precinct_votes[\"County Subdivision Code (FIPS)\"]!=22000]\n",
    "\n",
    "#Print out the shapes to make sure everything is adding up\n",
    "print(election_results_final.shape)\n",
    "print(detroit_avcbs.shape)\n",
    "print(detroit_precincts.shape)\n",
    "print(other_votes.shape)"
   ]
  },
  {
   "cell_type": "code",
   "execution_count": 46,
   "metadata": {},
   "outputs": [
    {
     "name": "stderr",
     "output_type": "stream",
     "text": [
      "<ipython-input-46-31f610d162fe>:8: SettingWithCopyWarning: \n",
      "A value is trying to be set on a copy of a slice from a DataFrame.\n",
      "Try using .loc[row_indexer,col_indexer] = value instead\n",
      "\n",
      "See the caveats in the documentation: https://pandas.pydata.org/pandas-docs/stable/user_guide/indexing.html#returning-a-view-versus-a-copy\n",
      "  detroit_precincts[\"avcb Precinct\"] = detroit_precincts[\"precinct_number\"].map(avcb_helper_dict).fillna(\"n/a\")\n",
      "<ipython-input-46-31f610d162fe>:10: SettingWithCopyWarning: \n",
      "A value is trying to be set on a copy of a slice from a DataFrame.\n",
      "Try using .loc[row_indexer,col_indexer] = value instead\n",
      "\n",
      "See the caveats in the documentation: https://pandas.pydata.org/pandas-docs/stable/user_guide/indexing.html#returning-a-view-versus-a-copy\n",
      "  detroit_avcbs[\"avcb Precinct\"] = detroit_avcbs[\"precinct_number\"]\n"
     ]
    }
   ],
   "source": [
    "#Load in the file that maps from precinct to AVCB\n",
    "avcb_helper = pd.read_excel(\"./raw_from_source/Detroit AVCBs by precinct (Nov. 2020).xlsx\")\n",
    "\n",
    "#Create a dictionary\n",
    "avcb_helper_dict = dict(zip(avcb_helper[\"E-Day Precinct\"],avcb_helper[\"ACVB Precinct\"]))\n",
    "\n",
    "#Add a AC\n",
    "detroit_precincts[\"avcb Precinct\"] = detroit_precincts[\"precinct_number\"].map(avcb_helper_dict).fillna(\"n/a\")\n",
    "\n",
    "detroit_avcbs[\"avcb Precinct\"] = detroit_avcbs[\"precinct_number\"]"
   ]
  },
  {
   "cell_type": "code",
   "execution_count": null,
   "metadata": {},
   "outputs": [],
   "source": []
  },
  {
   "cell_type": "code",
   "execution_count": null,
   "metadata": {
    "scrolled": true
   },
   "outputs": [],
   "source": []
  },
  {
   "cell_type": "code",
   "execution_count": null,
   "metadata": {},
   "outputs": [],
   "source": []
  },
  {
   "cell_type": "code",
   "execution_count": 47,
   "metadata": {},
   "outputs": [],
   "source": [
    "def allocate_absentee(df_receiving_votes,df_allocating,column_list,col_allocating):\n",
    "    original_cols = list(df_receiving_votes.columns)\n",
    "    \n",
    "    #Add in the \"Total Votes column\"\n",
    "    df_receiving_votes.loc[:,\"Total_Votes\"]=0\n",
    "    for race in column_list:\n",
    "        df_receiving_votes.loc[:,\"Total_Votes\"]+=df_receiving_votes.loc[:,race]\n",
    "    \n",
    "    #Create the needed dataframes\n",
    "    precinct_specific_totals = pd.DataFrame(df_receiving_votes.groupby([col_allocating]).sum())\n",
    "    precinct_specific_totals.reset_index(drop=False,inplace=True)\n",
    "    to_dole_out_totals = pd.DataFrame(df_allocating.groupby([col_allocating]).sum())\n",
    "    to_dole_out_totals.reset_index(drop=False,inplace=True)\n",
    "    \n",
    "    #Print out any instances where the allocation, as written, won't work\n",
    "    special_allocation_needed = []\n",
    "    for index, row in precinct_specific_totals.iterrows():\n",
    "        for race in column_list:\n",
    "            if (row[race]==0):\n",
    "                race_district = row[col_allocating]\n",
    "                if race_district in to_dole_out_totals[col_allocating].unique():\n",
    "                    to_allocate = int(to_dole_out_totals.loc[to_dole_out_totals[col_allocating]==race_district][race])\n",
    "                    if (to_allocate != 0):\n",
    "                        special_allocation_needed.append([race_district,race])\n",
    "    \n",
    "    #Create some new columns for each of these races to deal with the allocation\n",
    "    for race in column_list:\n",
    "        add_var = race+\"_add\"\n",
    "        rem_var = race+\"_rem\"\n",
    "        floor_var = race+\"_floor\"\n",
    "        df_receiving_votes.loc[:,add_var]=0.0\n",
    "        df_receiving_votes.loc[:,rem_var]=0.0\n",
    "        df_receiving_votes.loc[:,floor_var]=0.0\n",
    "\n",
    "    #Iterate over the rows\n",
    "    #Note this function iterates over the dataframe two times so the rounded vote totals match the totals to allocate\n",
    "    for index, row in df_receiving_votes.iterrows():\n",
    "        if row[col_allocating] in to_dole_out_totals[col_allocating].unique():\n",
    "            for race in column_list:\n",
    "                add_var = race+\"_add\"\n",
    "                rem_var = race+\"_rem\"\n",
    "                floor_var = race+\"_floor\"\n",
    "                #Grab the district\n",
    "                county_id = row[col_allocating]\n",
    "                if [county_id,race] in special_allocation_needed:\n",
    "                    #Get the denominator for the allocation - the summed \"total votes\" for precincts in that grouping\n",
    "                    denom = precinct_specific_totals.loc[precinct_specific_totals[col_allocating]==county_id][\"Total_Votes\"]\n",
    "                    #Get one of the numerators, how many districtwide votes to allocate\n",
    "                    numer = to_dole_out_totals.loc[to_dole_out_totals[col_allocating]==county_id][race]\n",
    "                    #Get the \"total votes\" for this particular precinct\n",
    "                    val = df_receiving_votes.at[index,\"Total_Votes\"]\n",
    "                    #Get the vote share, the precincts % of total precinct votes in the district times votes to allocate\n",
    "                else:\n",
    "                    #Get the denominator for the allocation (the precinct vote totals)\n",
    "                    denom = precinct_specific_totals.loc[precinct_specific_totals[col_allocating]==county_id][race]\n",
    "                    #Get one of the numerators, how many districtwide votes to allocate\n",
    "                    numer = to_dole_out_totals.loc[to_dole_out_totals[col_allocating]==county_id][race]\n",
    "                    #Get the vote totals for this race in this precinct\n",
    "                    val = df_receiving_votes.at[index,race]\n",
    "                    #Get the vote share, the precincts % of total precinct votes in the district times votes to allocate\n",
    "                if ((float(denom)==0)):\n",
    "                    vote_share = 0\n",
    "                else:\n",
    "                    vote_share = (float(val)/float(denom))*float(numer)\n",
    "                df_receiving_votes.at[index,add_var] = vote_share\n",
    "                #Take the decimal remainder of the allocation\n",
    "                df_receiving_votes.at[index,rem_var] = vote_share%1\n",
    "                #Take the floor of the allocation\n",
    "                df_receiving_votes.at[index,floor_var] = np.floor(vote_share)\n",
    "\n",
    "    #After the first pass through, get the sums of the races by district to assist in the rounding            \n",
    "    first_allocation = pd.DataFrame(df_receiving_votes.groupby([col_allocating]).sum())\n",
    "\n",
    "    #Now we want to iterate district by district to work on rounding\n",
    "    county_list = list(to_dole_out_totals[col_allocating].unique()) \n",
    "\n",
    "    #Iterate over the district\n",
    "    for county in county_list:\n",
    "        for race in column_list:\n",
    "            add_var = race+\"_add\"\n",
    "            rem_var = race+\"_rem\"\n",
    "            floor_var = race+\"_floor\"\n",
    "            #County how many votes still need to be allocated (because we took the floor of all the initial allocations)\n",
    "            to_go = int(np.round((int(to_dole_out_totals.loc[to_dole_out_totals[col_allocating]==county][race])-first_allocation.loc[first_allocation.index==county,floor_var])))\n",
    "            #Grab the n precincts with the highest remainders and round these up, where n is the # of votes that still need to be allocated\n",
    "            for index in df_receiving_votes.loc[df_receiving_votes[col_allocating]==county][rem_var].nlargest(to_go).index:\n",
    "                df_receiving_votes.at[index,add_var] = np.ceil(df_receiving_votes.at[index,add_var])\n",
    "\n",
    "    #Iterate over every race again\n",
    "    for race in column_list:\n",
    "        add_var = race+\"_add\"\n",
    "        #Round every allocation down to not add fractional votes\n",
    "        df_receiving_votes.loc[:,add_var]=np.floor(df_receiving_votes.loc[:,add_var])\n",
    "        df_receiving_votes.loc[:,race]+=df_receiving_votes.loc[:,add_var]\n",
    "        \n",
    "    df_receiving_votes = df_receiving_votes[original_cols]\n",
    "    \n",
    "    return df_receiving_votes"
   ]
  },
  {
   "cell_type": "code",
   "execution_count": 48,
   "metadata": {},
   "outputs": [
    {
     "name": "stderr",
     "output_type": "stream",
     "text": [
      "/Users/peterhorton/opt/anaconda3/envs/geo_env/lib/python3.9/site-packages/pandas/core/indexing.py:1597: SettingWithCopyWarning: \n",
      "A value is trying to be set on a copy of a slice from a DataFrame.\n",
      "Try using .loc[row_indexer,col_indexer] = value instead\n",
      "\n",
      "See the caveats in the documentation: https://pandas.pydata.org/pandas-docs/stable/user_guide/indexing.html#returning-a-view-versus-a-copy\n",
      "  self.obj[key] = value\n",
      "/Users/peterhorton/opt/anaconda3/envs/geo_env/lib/python3.9/site-packages/pandas/core/indexing.py:1720: SettingWithCopyWarning: \n",
      "A value is trying to be set on a copy of a slice from a DataFrame.\n",
      "Try using .loc[row_indexer,col_indexer] = value instead\n",
      "\n",
      "See the caveats in the documentation: https://pandas.pydata.org/pandas-docs/stable/user_guide/indexing.html#returning-a-view-versus-a-copy\n",
      "  self._setitem_single_column(loc, value, pi)\n",
      "/Users/peterhorton/opt/anaconda3/envs/geo_env/lib/python3.9/site-packages/pandas/core/indexing.py:1676: SettingWithCopyWarning: \n",
      "A value is trying to be set on a copy of a slice from a DataFrame.\n",
      "Try using .loc[row_indexer,col_indexer] = value instead\n",
      "\n",
      "See the caveats in the documentation: https://pandas.pydata.org/pandas-docs/stable/user_guide/indexing.html#returning-a-view-versus-a-copy\n",
      "  self._setitem_single_column(ilocs[0], value, pi)\n",
      "/Users/peterhorton/opt/anaconda3/envs/geo_env/lib/python3.9/site-packages/pandas/core/indexing.py:1597: SettingWithCopyWarning: \n",
      "A value is trying to be set on a copy of a slice from a DataFrame.\n",
      "Try using .loc[row_indexer,col_indexer] = value instead\n",
      "\n",
      "See the caveats in the documentation: https://pandas.pydata.org/pandas-docs/stable/user_guide/indexing.html#returning-a-view-versus-a-copy\n",
      "  self.obj[key] = value\n",
      "/Users/peterhorton/opt/anaconda3/envs/geo_env/lib/python3.9/site-packages/pandas/core/indexing.py:1720: SettingWithCopyWarning: \n",
      "A value is trying to be set on a copy of a slice from a DataFrame.\n",
      "Try using .loc[row_indexer,col_indexer] = value instead\n",
      "\n",
      "See the caveats in the documentation: https://pandas.pydata.org/pandas-docs/stable/user_guide/indexing.html#returning-a-view-versus-a-copy\n",
      "  self._setitem_single_column(loc, value, pi)\n",
      "/Users/peterhorton/opt/anaconda3/envs/geo_env/lib/python3.9/site-packages/pandas/core/indexing.py:1676: SettingWithCopyWarning: \n",
      "A value is trying to be set on a copy of a slice from a DataFrame.\n",
      "Try using .loc[row_indexer,col_indexer] = value instead\n",
      "\n",
      "See the caveats in the documentation: https://pandas.pydata.org/pandas-docs/stable/user_guide/indexing.html#returning-a-view-versus-a-copy\n",
      "  self._setitem_single_column(ilocs[0], value, pi)\n"
     ]
    }
   ],
   "source": [
    "final_detroit = allocate_absentee(detroit_precincts,detroit_avcbs,races,\"avcb Precinct\")"
   ]
  },
  {
   "cell_type": "code",
   "execution_count": 49,
   "metadata": {},
   "outputs": [
    {
     "name": "stderr",
     "output_type": "stream",
     "text": [
      "/Users/peterhorton/opt/anaconda3/envs/geo_env/lib/python3.9/site-packages/pandas/core/frame.py:4308: SettingWithCopyWarning: \n",
      "A value is trying to be set on a copy of a slice from a DataFrame\n",
      "\n",
      "See the caveats in the documentation: https://pandas.pydata.org/pandas-docs/stable/user_guide/indexing.html#returning-a-view-versus-a-copy\n",
      "  return super().drop(\n"
     ]
    }
   ],
   "source": [
    "final_detroit.drop([\"avcb Precinct\"],axis=1,inplace=True)"
   ]
  },
  {
   "cell_type": "code",
   "execution_count": 50,
   "metadata": {},
   "outputs": [],
   "source": [
    "election_results_final = pd.concat([other_votes,final_detroit])"
   ]
  },
  {
   "cell_type": "code",
   "execution_count": 51,
   "metadata": {},
   "outputs": [],
   "source": [
    "election_results_final.reset_index(inplace=True,drop=True)"
   ]
  },
  {
   "cell_type": "markdown",
   "metadata": {},
   "source": [
    "### Create a unique ID and join"
   ]
  },
  {
   "cell_type": "code",
   "execution_count": null,
   "metadata": {},
   "outputs": [],
   "source": [
    "election_results_final[\"precinct_label\"] = election_results_final[\"precinct_label\"].astype(str)"
   ]
  },
  {
   "cell_type": "code",
   "execution_count": null,
   "metadata": {},
   "outputs": [],
   "source": [
    "election_results_final[\"precinct_number\"] = election_results_final[\"precinct_number\"].astype(str).str.zfill(3)\n",
    "election_results_final[\"ward_number\"] = election_results_final[\"ward_number\"].astype(str).str.zfill(2)\n",
    "election_results_final[\"County Subdivision Code (FIPS)\"] = election_results_final[\"County Subdivision Code (FIPS)\"].astype(str).str.zfill(5)"
   ]
  },
  {
   "cell_type": "code",
   "execution_count": null,
   "metadata": {},
   "outputs": [],
   "source": [
    "election_results_final[\"unique_ID\"] = \"WP\"+\"-\"+election_results_final[\"COUNTYFIPS\"]+\"-\"+election_results_final[\"County Subdivision Code (FIPS)\"]+\"-\"+election_results_final[\"ward_number\"]+election_results_final[\"precinct_number\"]+election_results_final[\"precinct_label\"]"
   ]
  },
  {
   "cell_type": "code",
   "execution_count": null,
   "metadata": {},
   "outputs": [],
   "source": [
    "vest_mi_20[\"unique_ID\"] = vest_mi_20[\"PRECINCTID\"]"
   ]
  },
  {
   "cell_type": "code",
   "execution_count": null,
   "metadata": {},
   "outputs": [],
   "source": [
    "precinct_join = pd.merge(vest_mi_20,election_results_final,how=\"outer\",on=\"unique_ID\",indicator=\"final\",validate='1:1')\n",
    "precinct_join[\"final\"].value_counts()\n",
    "\n",
    "# precinct_join[precinct_join[\"final\"]==\"left_only\"].to_csv(\"./final_elections_join_vest.csv\")\n",
    "# precinct_join[precinct_join[\"final\"]==\"right_only\"].to_csv(\"./final_elections_join_source.csv\")"
   ]
  },
  {
   "cell_type": "code",
   "execution_count": null,
   "metadata": {},
   "outputs": [],
   "source": [
    "final_join_dict = {'WP-021-74440-00002':'WP-021-70980-00002',\n",
    "'WP-021-74440-00003':'WP-021-70980-00003',\n",
    "'WP-021-74440-00004':'WP-021-70980-00004',\n",
    "'WP-025-05920-04008':'WP-025-05920-05008',\n",
    "'WP-051-32320-00001':'WP-051-32320-01001',\n",
    "'WP-051-32320-00002':'WP-051-32320-01002',\n",
    "'WP-115-55020-00003N':'WP-1155502000003N',\n",
    "'WP-115-55020-00003S':'WP-1155502000003S',\n",
    "'WP-129-69680-00001':'WP-129-69680-01001',\n",
    "'WP-129-85580-00001':'WP-129-85580-01001',\n",
    "'WP-161-53920-00001W':'WP-1615392000001W',\n",
    "'WP-163-84940-01001':'WP-163-84940-00001',\n",
    "'WP-163-84940-02002':'WP-163-84940-00002',\n",
    "'WP-163-84940-03003':'WP-163-84940-00003',\n",
    "'WP-163-84940-04004':'WP-163-84940-00004',\n",
    "'WP-163-84940-05005':'WP-163-84940-00005',\n",
    "'WP-163-84940-06006':'WP-163-84940-00006'}"
   ]
  },
  {
   "cell_type": "code",
   "execution_count": null,
   "metadata": {},
   "outputs": [],
   "source": [
    "#Apply the changes using the dictionary\n",
    "election_results_final[\"unique_ID\"] = election_results_final[\"unique_ID\"].map(final_join_dict).fillna(election_results_final[\"unique_ID\"])"
   ]
  },
  {
   "cell_type": "code",
   "execution_count": null,
   "metadata": {},
   "outputs": [],
   "source": [
    "#Join the precincts\n",
    "precinct_join = pd.merge(vest_mi_20,election_results_final,how=\"outer\",on=\"unique_ID\",indicator=\"final\",validate='1:1')\n",
    "precinct_join[\"final\"].value_counts()"
   ]
  },
  {
   "cell_type": "code",
   "execution_count": null,
   "metadata": {},
   "outputs": [],
   "source": [
    "#Show the unjoined have 0 total votes\n",
    "pd.options.display.max_columns = 50\n",
    "display(precinct_join[precinct_join[\"final\"]==\"left_only\"])"
   ]
  },
  {
   "cell_type": "markdown",
   "metadata": {},
   "source": [
    "## Precinct Check"
   ]
  },
  {
   "cell_type": "code",
   "execution_count": null,
   "metadata": {},
   "outputs": [],
   "source": [
    "def precinct_votes_check(merged_df,column_list,vest_on_left,name_col,print_level=0):\n",
    "    merged_df = merged_df.sort_values(by=[name_col],inplace=False)\n",
    "    matching_rows = 0\n",
    "    different_rows = 0\n",
    "    diff_list=[]\n",
    "    diff_values = []\n",
    "    max_diff = 0\n",
    "    for index,row in merged_df.iterrows():\n",
    "        same = True\n",
    "        for i in column_list:\n",
    "            left_data = i + \"_x\"\n",
    "            right_data = i + \"_y\"\n",
    "            if ((row[left_data] is None) or (row[right_data] is None) or (np.isnan(row[right_data])or(np.isnan(row[left_data])))):\n",
    "                print(\"FIX NaN value at: \", row[name_col])\n",
    "                return;\n",
    "            diff = abs(row[left_data]-row[right_data])\n",
    "            if (diff>0):\n",
    "                same = False\n",
    "                diff_values.append(abs(diff))\n",
    "                if (diff>max_diff):\n",
    "                    max_diff = diff\n",
    "            if(diff>print_level):\n",
    "                if (vest_on_left):\n",
    "                    print(i, \"{:.>72}\".format(row[name_col]), \"(V)\",\"{:.>5}\".format(int(row[left_data])),\" (S){:.>5}\".format(int(row[right_data])),\"(D):{:>5}\".format(int(row[left_data]-row[right_data])))                           \n",
    "                else:\n",
    "                    print(i, \"{:.>72}\".format(row[name_col]), \"(S)\",\"{:.>5}\".format(int(row[left_data])),\" (V){:.>5}\".format(int(row[right_data])),\"(D):{:>5}\".format(int(row[left_data]-row[right_data])))\n",
    "        if(same != True):\n",
    "            different_rows +=1\n",
    "            diff_list.append(row[name_col])\n",
    "        else:\n",
    "            matching_rows +=1\n",
    "    print(\"\")\n",
    "    print(\"There are \", len(merged_df.index),\" total rows\")\n",
    "    print(different_rows,\" of these rows have election result differences\")\n",
    "    print(matching_rows,\" of these rows are the same\")\n",
    "    print(\"\")\n",
    "    print(\"The max difference between any one shared column in a row is: \", max_diff)\n",
    "    if(len(diff_values)!=0):\n",
    "        print(\"The average difference is: \", str(sum(diff_values)/len(diff_values)))\n",
    "    count_big_diff = len([i for i in diff_values if i > 10])\n",
    "    print(\"There are \", str(count_big_diff), \"precinct results with a difference greater than 10\")\n",
    "    print(\"\")\n",
    "    print(\"All precincts containing differences:\")\n",
    "    diff_list.sort()\n",
    "    print(diff_list)"
   ]
  },
  {
   "cell_type": "code",
   "execution_count": null,
   "metadata": {},
   "outputs": [],
   "source": [
    "precinct_votes_check(precinct_join[precinct_join[\"final\"]==\"both\"],races,True,\"unique_ID\",print_level=0)"
   ]
  },
  {
   "cell_type": "code",
   "execution_count": null,
   "metadata": {},
   "outputs": [],
   "source": [
    "major_differences = [\"WP-021-70980-00001\",\"WP-021-74440-00001\"]"
   ]
  },
  {
   "cell_type": "code",
   "execution_count": null,
   "metadata": {},
   "outputs": [],
   "source": [
    "vest_mi_20[vest_mi_20[\"unique_ID\"].isin(major_differences)]\n"
   ]
  },
  {
   "cell_type": "code",
   "execution_count": null,
   "metadata": {},
   "outputs": [],
   "source": [
    "election_results_final[election_results_final[\"unique_ID\"].isin(major_differences)]"
   ]
  },
  {
   "cell_type": "markdown",
   "metadata": {},
   "source": [
    "## Also check these"
   ]
  },
  {
   "cell_type": "code",
   "execution_count": null,
   "metadata": {},
   "outputs": [],
   "source": [
    "for val in final_join_dict:\n",
    "    print(final_join_dict[val])"
   ]
  },
  {
   "cell_type": "markdown",
   "metadata": {
    "tags": []
   },
   "source": [
    "## Join Election Results to Shapefiles"
   ]
  },
  {
   "cell_type": "code",
   "execution_count": null,
   "metadata": {},
   "outputs": [],
   "source": [
    "shp = gp.read_file('./raw_from_source/2020_Voting_Precincts/2020_Voting_Precincts.shp')\n",
    "#crs = vest_mi_20.crs\n",
    "#shp = shp.to_crs(crs)\n",
    "#shp.head()"
   ]
  },
  {
   "cell_type": "code",
   "execution_count": null,
   "metadata": {},
   "outputs": [],
   "source": [
    "shp[\"unique_ID\"] = shp[\"PRECINCTID\"]"
   ]
  },
  {
   "cell_type": "code",
   "execution_count": null,
   "metadata": {},
   "outputs": [],
   "source": [
    "shp.shape"
   ]
  },
  {
   "cell_type": "code",
   "execution_count": null,
   "metadata": {},
   "outputs": [],
   "source": [
    "ser = shp[\"unique_ID\"].value_counts()\n",
    "ser[ser > 1]"
   ]
  },
  {
   "cell_type": "code",
   "execution_count": null,
   "metadata": {},
   "outputs": [],
   "source": [
    "shp[shp[\"unique_ID\"]=='WP-025-06720-00001'].plot(column=\"OBJECTID\")"
   ]
  },
  {
   "cell_type": "code",
   "execution_count": null,
   "metadata": {},
   "outputs": [],
   "source": [
    "shp[shp[\"unique_ID\"]=='WP-049-27780-00004'].plot(column=\"OBJECTID\")"
   ]
  },
  {
   "cell_type": "code",
   "execution_count": null,
   "metadata": {},
   "outputs": [],
   "source": [
    "shp_clean = shp.dissolve(\"unique_ID\")"
   ]
  },
  {
   "cell_type": "code",
   "execution_count": null,
   "metadata": {},
   "outputs": [],
   "source": [
    "shp_clean.shape"
   ]
  },
  {
   "cell_type": "code",
   "execution_count": null,
   "metadata": {},
   "outputs": [],
   "source": [
    "to_split = shp_clean[shp_clean[\"MCDFIPS\"].isin([\"27760\",\"11180\",\"68380\",\"15920\"])]\n"
   ]
  },
  {
   "cell_type": "code",
   "execution_count": null,
   "metadata": {},
   "outputs": [],
   "source": [
    "to_split"
   ]
  },
  {
   "cell_type": "code",
   "execution_count": null,
   "metadata": {},
   "outputs": [],
   "source": [
    "splitting_work=gp.overlay(to_split,shp_counties,how=\"intersection\",keep_geom_type=False)"
   ]
  },
  {
   "cell_type": "code",
   "execution_count": null,
   "metadata": {},
   "outputs": [],
   "source": [
    "ax = splitting_work.plot(figsize=(40,40),color=\"red\")\n",
    "shp_counties.boundary.plot(ax=ax)"
   ]
  },
  {
   "cell_type": "code",
   "execution_count": null,
   "metadata": {},
   "outputs": [],
   "source": [
    "election_results_final[election_results_final[\"city_town_name_x\"].isin([\"CLARE CITY\",\"BROWN CITY\",\"FENTON CITY\",\"RICHMOND CITY\"])]\n"
   ]
  },
  {
   "cell_type": "code",
   "execution_count": null,
   "metadata": {},
   "outputs": [],
   "source": [
    "source_join = pd.merge(shp_clean,election_results_final,how=\"outer\",on='unique_ID',indicator=True,validate=\"1:1\")"
   ]
  },
  {
   "cell_type": "code",
   "execution_count": null,
   "metadata": {},
   "outputs": [],
   "source": [
    "source_join[\"_merge\"].value_counts()\n"
   ]
  },
  {
   "cell_type": "code",
   "execution_count": null,
   "metadata": {},
   "outputs": [],
   "source": [
    "source_join[source_join[\"_merge\"]==\"left_only\"]"
   ]
  },
  {
   "cell_type": "code",
   "execution_count": null,
   "metadata": {},
   "outputs": [],
   "source": [
    "source_join[source_join[\"_merge\"]==\"right_only\"]"
   ]
  },
  {
   "cell_type": "markdown",
   "metadata": {},
   "source": [
    "In several cases, cities that overlapped county lines reported results in each county, but the shapefile had a single precinct. These were split at the county line in the shapefile and the two sets of results assigned accordingly.\n",
    "Claire city - Isabella/Clare\n",
    "Brown city - Lapeer/Sanilac\n",
    "Fenton city - Oakland/Genesee\n",
    "Richmond city - St. Clair/Macomb"
   ]
  },
  {
   "cell_type": "code",
   "execution_count": null,
   "metadata": {},
   "outputs": [],
   "source": [
    "Claire city - Isabella/Clare\n",
    "Brown city - Lapeer/Sanilac\n",
    "Fenton city - Oakland/Genesee\n",
    "Richmond city - St. Clair/Macomb"
   ]
  },
  {
   "cell_type": "code",
   "execution_count": null,
   "metadata": {},
   "outputs": [],
   "source": [
    "shp_counties = shp.dissolve(\"COUNTYFIPS\")"
   ]
  },
  {
   "cell_type": "code",
   "execution_count": null,
   "metadata": {},
   "outputs": [],
   "source": [
    "shp_counties.plot()"
   ]
  },
  {
   "cell_type": "markdown",
   "metadata": {},
   "source": [
    "## Join Source Files to VEST"
   ]
  },
  {
   "cell_type": "code",
   "execution_count": null,
   "metadata": {},
   "outputs": [],
   "source": [
    "final_merge = pd.merge(vest_mi_20,final_source,indicator=\"final_merge\",how=\"outer\",on=\"unique_ID\",validate=\"1:1\")"
   ]
  },
  {
   "cell_type": "code",
   "execution_count": null,
   "metadata": {},
   "outputs": [],
   "source": [
    "final_merge[\"final_merge\"].value_counts()"
   ]
  },
  {
   "cell_type": "code",
   "execution_count": null,
   "metadata": {
    "scrolled": true
   },
   "outputs": [],
   "source": [
    "both = final_merge[final_merge[\"final_merge\"]==\"both\"]\n",
    "vest_geoms = gp.GeoDataFrame(both,geometry=\"geometry_x\",crs=vest_mi_20.crs)\n",
    "source_geoms = gp.GeoDataFrame(both,geometry=\"geometry_y\",crs=vest_mi_20.crs)\n",
    "source_geoms = source_geoms.to_crs(3857)\n",
    "vest_geoms = vest_geoms.to_crs(3857)\n",
    "source_geoms[\"geometry_x\"]=source_geoms.buffer(0)\n",
    "vest_geoms[\"geometry_y\"]=vest_geoms.buffer(0)\n",
    "vals = source_geoms.geom_almost_equals(vest_geoms,decimal=0)\n",
    "print(vals.value_counts())"
   ]
  },
  {
   "cell_type": "code",
   "execution_count": null,
   "metadata": {},
   "outputs": [],
   "source": [
    "count = 0\n",
    "area_list = []\n",
    "for i in range(0,len(source_geoms)):\n",
    "    diff = source_geoms.iloc[[i]].symmetric_difference(vest_geoms.iloc[[i]])\n",
    "    intersection = source_geoms.iloc[[i]].intersection(vest_geoms.iloc[[i]])\n",
    "    area = float(diff.area/10e6)\n",
    "    area_list.append(area)\n",
    "    #print(\"Area is \" + str(area))\n",
    "\n",
    "    if (area > .1):\n",
    "        count += 1\n",
    "        name = source_geoms.iat[i,0]\n",
    "        \n",
    "        print(str(count)+\") For \" + name + \" difference in area is \" + str(area))\n",
    "        if (intersection.iloc[0].is_empty):\n",
    "            base = diff.plot(color=\"red\")\n",
    "            source_geoms.iloc[[i]].plot(color=\"orange\",ax=base)\n",
    "            vest_geoms.iloc[[i]].plot(color=\"blue\",ax=base)\n",
    "            base.set_title(name)\n",
    "        else:\n",
    "            base = diff.plot(color=\"red\")\n",
    "            source_geoms.iloc[[i]].plot(color=\"orange\",ax=base)\n",
    "            vest_geoms.iloc[[i]].plot(color=\"blue\",ax=base)\n",
    "            intersection.plot(color=\"green\",ax=base)\n",
    "            base.set_title(name)"
   ]
  },
  {
   "cell_type": "code",
   "execution_count": null,
   "metadata": {},
   "outputs": [],
   "source": [
    "df = pd.DataFrame(area_list)\n",
    "print(df.shape)\n",
    "\n",
    "print(str(len(df[df[0]==0]))+\" precincts w/ a difference of 0 km^2\")\n",
    "print(str(len(df[(df[0]<.1) & (df[0]>0)]))+ \" precincts w/ a difference between 0 and .1 km^2\")\n",
    "print(str(len(df[(df[0]<.5) & (df[0]>=.1)]))+ \" precincts w/ a difference between .1 and .5 km^2\")\n",
    "print(str(len(df[(df[0]<1) & (df[0]>=.5)]))+ \" precincts w/ a difference between .5 and 1 km^2\")\n",
    "print(str(len(df[(df[0]<2) & (df[0]>=1)]))+ \" precincts w/ a difference between 1 and 2 km^2\")\n",
    "print(str(len(df[(df[0]<5) & (df[0]>=2)]))+ \" precincts w/ a difference between 2 and 5 km^2\")\n",
    "print(str(len(df[(df[0]>=5)]))+ \" precincts w/ a difference greater than 5 km^2\")"
   ]
  },
  {
   "cell_type": "code",
   "execution_count": null,
   "metadata": {},
   "outputs": [],
   "source": []
  }
 ],
 "metadata": {
  "kernelspec": {
   "display_name": "Python 3",
   "language": "python",
   "name": "python3"
  },
  "language_info": {
   "codemirror_mode": {
    "name": "ipython",
    "version": 3
   },
   "file_extension": ".py",
   "mimetype": "text/x-python",
   "name": "python",
   "nbconvert_exporter": "python",
   "pygments_lexer": "ipython3",
   "version": "3.9.2"
  }
 },
 "nbformat": 4,
 "nbformat_minor": 4
}
